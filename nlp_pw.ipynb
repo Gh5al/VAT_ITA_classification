{
  "metadata": {
    "kernelspec": {
      "display_name": "Python 3",
      "language": "python",
      "name": "python3"
    },
    "language_info": {
      "name": "python",
      "version": "3.10.13",
      "mimetype": "text/x-python",
      "codemirror_mode": {
        "name": "ipython",
        "version": 3
      },
      "pygments_lexer": "ipython3",
      "nbconvert_exporter": "python",
      "file_extension": ".py"
    },
    "accelerator": "GPU",
    "colab": {
      "gpuType": "T4",
      "provenance": [],
      "toc_visible": true,
      "name": "nlp_pw",
      "include_colab_link": true
    },
    "kaggle": {
      "accelerator": "nvidiaTeslaT4",
      "dataSources": [
        {
          "sourceId": 8567063,
          "sourceType": "datasetVersion",
          "datasetId": 5090522
        }
      ],
      "dockerImageVersionId": 30715,
      "isInternetEnabled": true,
      "language": "python",
      "sourceType": "notebook",
      "isGpuEnabled": true
    }
  },
  "nbformat_minor": 0,
  "nbformat": 4,
  "cells": [
    {
      "cell_type": "markdown",
      "metadata": {
        "id": "view-in-github",
        "colab_type": "text"
      },
      "source": [
        "<a href=\"https://colab.research.google.com/github/Gh5al/VAT_ITA_classification/blob/data_aug/nlp_pw.ipynb\" target=\"_parent\"><img src=\"https://colab.research.google.com/assets/colab-badge.svg\" alt=\"Open In Colab\"/></a>"
      ]
    },
    {
      "cell_type": "markdown",
      "source": [
        "<a href=\"https://colab.research.google.com/github/Gh5al/VAT_ITA_classification/blob/main/nlp_pw.ipynb\" target=\"_parent\"><img src=\"https://colab.research.google.com/assets/colab-badge.svg\" alt=\"Open In Colab\"/></a>"
      ],
      "metadata": {
        "id": "KyZr4FHfX5KH"
      }
    },
    {
      "cell_type": "code",
      "source": [
        "import json\n",
        "\n",
        "import os\n",
        "\n",
        "import numpy as np\n",
        "\n",
        "import pandas as pd\n",
        "\n",
        "from matplotlib import pyplot as plt\n",
        "\n",
        "\n",
        "\n",
        "import random\n",
        "\n",
        "import torch\n",
        "\n",
        "from sklearn.model_selection import train_test_split\n",
        "\n",
        "import random\n",
        "\n",
        "import gc\n",
        "\n",
        "import transformers\n",
        "\n",
        "from tqdm import tqdm, trange\n",
        "\n",
        "from typing import Callable, Dict, List, Tuple\n",
        "\n",
        "from timeit import default_timer as timer\n",
        "\n",
        "from transformers import EncoderDecoderModel, AutoTokenizer, PreTrainedTokenizer, BatchEncoding, AutoModel\n",
        "\n",
        "import torch.nn as nn\n",
        "\n",
        "from torch.utils.data import Dataset, DataLoader, SubsetRandomSampler, WeightedRandomSampler\n",
        "\n",
        "import os\n",
        "\n",
        "import json"
      ],
      "metadata": {
        "id": "KbWaRpfXk6GK",
        "execution": {
          "iopub.status.busy": "2024-11-16T21:51:49.732606Z",
          "iopub.execute_input": "2024-11-16T21:51:49.73372Z",
          "iopub.status.idle": "2024-11-16T21:51:49.740352Z",
          "shell.execute_reply.started": "2024-11-16T21:51:49.733672Z",
          "shell.execute_reply": "2024-11-16T21:51:49.739451Z"
        },
        "trusted": true
      },
      "outputs": [],
      "execution_count": null
    },
    {
      "cell_type": "markdown",
      "source": [
        "# Loading data"
      ],
      "metadata": {
        "id": "n2Txe_oxF51O"
      }
    },
    {
      "cell_type": "code",
      "source": [
        "def uniform(el):\n",
        "\n",
        "    \"\"\"\n",
        "\n",
        "    Handles the values for multi-value attributes, splitting to list if necessary\n",
        "\n",
        "    If the input is a list or transformed to a list, values are sorted\n",
        "\n",
        "\n",
        "\n",
        "    Args:\n",
        "\n",
        "        el (str or list): The attribute value\n",
        "\n",
        "\n",
        "\n",
        "    Returns:\n",
        "\n",
        "        str or list: The attribute value sorted if it is a list, the attribute value otherwise\n",
        "\n",
        "    \"\"\"\n",
        "\n",
        "    if el == el:  # NaN is different from NaN, np.isnan and pd.isna don't work\n",
        "\n",
        "        if '|' in el:\n",
        "\n",
        "            el = sorted(el.split('|'))\n",
        "\n",
        "        elif isinstance(el, list):\n",
        "\n",
        "            el = sorted(el)\n",
        "\n",
        "    return el\n",
        "\n",
        "\n",
        "\n",
        "DATAFRAMES_PATH = '/kaggle/input' if os.environ.get('KAGGLE_KERNEL_RUN_TYPE','') else './Dataframes'\n",
        "\n",
        "\n",
        "\n",
        "def create_df_annotations(path: str, language: str, dataset: str):\n",
        "\n",
        "    \"\"\"\n",
        "\n",
        "    Load the dataset + create and save to file a dataframe with the annotations of the arguments.\n",
        "\n",
        "\n",
        "\n",
        "    Args:\n",
        "\n",
        "        path (str): path of the folder containing the JSON files\n",
        "\n",
        "        dataset (str): One of [vat, tp, ecj]\n",
        "\n",
        "    \"\"\"\n",
        "\n",
        "\n",
        "\n",
        "    pkl_file_path = f\"{DATAFRAMES_PATH}/arg_annotations_{language}_{dataset}.pkl.xz\"\n",
        "\n",
        "    if os.path.isfile(pkl_file_path):\n",
        "\n",
        "        print(f\"Found pkl, loading it - {pkl_file_path}\")\n",
        "\n",
        "        return pd.read_pickle(pkl_file_path)\n",
        "\n",
        "\n",
        "\n",
        "    print(f\"Could not find pkl, reading dataset - {pkl_file_path}\")\n",
        "\n",
        "    temp = []\n",
        "\n",
        "    files = os.listdir(path)\n",
        "\n",
        "    files.sort()\n",
        "\n",
        "\n",
        "\n",
        "    for filename in files:\n",
        "\n",
        "        if not filename.endswith('.json'):\n",
        "\n",
        "            print(f\"Skipping '{filename}'\")\n",
        "\n",
        "        else:\n",
        "\n",
        "            print(f\"Loading '{filename}'\")\n",
        "\n",
        "            with open(os.path.join(path, filename), 'r', encoding='utf8') as f:\n",
        "\n",
        "                data = json.load(f)\n",
        "\n",
        "                annotations = data[\"annotations\"]\n",
        "\n",
        "                last_full_chain_id = None\n",
        "\n",
        "                last_text = None\n",
        "\n",
        "\n",
        "\n",
        "                for annotation in annotations:\n",
        "\n",
        "                    if annotation[\"name\"] != 'conc' and annotation[\"name\"] != 'prem':\n",
        "\n",
        "                        continue # Ignore intro, nreg, judoff, ...\n",
        "\n",
        "                    #document = annotation[\"document\"]\n",
        "\n",
        "                    document = data[\"document\"][\"name\"]\n",
        "\n",
        "                    name = annotation[\"name\"]\n",
        "\n",
        "                    _id = annotation[\"_id\"]\n",
        "\n",
        "                    argument_chain_id = _id[0]\n",
        "\n",
        "                    full_chain_id = f'{document}_{argument_chain_id}'\n",
        "\n",
        "                    last_full_chain_id = full_chain_id\n",
        "\n",
        "                    incremental_num = _id[1:]\n",
        "\n",
        "                    text = data[\"document\"][\"plainText\"][int(annotation[\"start\"]):int(annotation[\"end\"])]\n",
        "\n",
        "                    last_text = text\n",
        "\n",
        "                    # attribute extraction, NaN if that attribute is not present\n",
        "\n",
        "                    T = uniform(annotation[\"attributes\"].get(\"T\", np.nan))\n",
        "\n",
        "                    SUP = uniform(annotation[\"attributes\"].get(\"SUP\", np.nan))\n",
        "\n",
        "                    SFF = uniform(annotation[\"attributes\"].get(\"SFF\", np.nan))\n",
        "\n",
        "                    ATT = uniform(annotation[\"attributes\"].get(\"ATT\", np.nan))\n",
        "\n",
        "                    INH = uniform(annotation[\"attributes\"].get(\"INH\", np.nan))\n",
        "\n",
        "                    REPH = uniform(annotation[\"attributes\"].get(\"REPH\", np.nan))\n",
        "\n",
        "                    S = uniform(annotation[\"attributes\"].get(\"S\", np.nan))\n",
        "\n",
        "\n",
        "\n",
        "                    text = text.replace('\\n','').lstrip('‘’\\'\\n0123456789.-–…;;) ').rstrip('‘’\\'\\n.;; ')\n",
        "\n",
        "\n",
        "\n",
        "                    previous = last_text if last_full_chain_id == full_chain_id else None\n",
        "\n",
        "                    temp.append([\n",
        "\n",
        "                        document, name, _id, argument_chain_id, incremental_num, text, T, SUP, SFF, ATT, INH, REPH, S, full_chain_id, previous,\n",
        "\n",
        "                    ])\n",
        "\n",
        "    # df creation\n",
        "\n",
        "    df = pd.DataFrame(temp, columns=[\n",
        "\n",
        "            'Document', 'Name', 'Id', 'Chain', 'Num', 'Text', 'Type', 'SUP', 'SFF', 'ATT', 'INH', 'REPH', 'Scheme', 'FullChainID', 'Previous'\n",
        "\n",
        "        ])\n",
        "\n",
        "\n",
        "\n",
        "    print(f\"Saving {len(df)} annotations to {pkl_file_path}\")\n",
        "\n",
        "    df.to_pickle(pkl_file_path)\n",
        "\n",
        "    df.to_csv(pkl_file_path.replace('.pkl.xz', '.csv'))\n",
        "\n",
        "    return df\n",
        "\n",
        "\n",
        "\n",
        "\n",
        "\n",
        "df = create_df_annotations('Data/Dataset/VAT_ITA', 'italian', 'vat')\n"
      ],
      "metadata": {
        "colab": {
          "base_uri": "https://localhost:8080/"
        },
        "id": "Qv-JEb3-k6GN",
        "outputId": "417ca15c-5845-4faa-81a7-4b62505cb47a",
        "execution": {
          "iopub.status.busy": "2024-11-16T21:51:50.125225Z",
          "iopub.execute_input": "2024-11-16T21:51:50.125549Z",
          "iopub.status.idle": "2024-11-16T21:51:50.230684Z",
          "shell.execute_reply.started": "2024-11-16T21:51:50.125521Z",
          "shell.execute_reply": "2024-11-16T21:51:50.229567Z"
        },
        "trusted": true
      },
      "outputs": [
        {
          "name": "stdout",
          "text": "Found pkl, loading it - /kaggle/input/arg_annotations_italian_vat.pkl.xz\n",
          "output_type": "stream"
        }
      ],
      "execution_count": null
    },
    {
      "cell_type": "code",
      "source": [
        "df.describe()"
      ],
      "metadata": {
        "colab": {
          "base_uri": "https://localhost:8080/",
          "height": 195
        },
        "id": "koaJKdEXk6GR",
        "outputId": "cfaec81b-a762-4d6f-dd3c-b902bc8f4c3c",
        "execution": {
          "iopub.status.busy": "2024-11-16T21:51:50.371739Z",
          "iopub.execute_input": "2024-11-16T21:51:50.372075Z",
          "iopub.status.idle": "2024-11-16T21:51:50.465048Z",
          "shell.execute_reply.started": "2024-11-16T21:51:50.372048Z",
          "shell.execute_reply": "2024-11-16T21:51:50.46417Z"
        },
        "trusted": true
      },
      "outputs": [
        {
          "execution_count": 4,
          "output_type": "execute_result",
          "data": {
            "text/plain": "                           Document  Name    Id Chain   Num  Text  Type   SUP  \\\ncount                          3311  3311  3311  3311  3311  3311  2910  1088   \nunique                          225     2   264    10    98  3163     3   428   \ntop     2016_202_VAT_OPAM_2_1_PS_AN  prem    A2     A     2           F    A2   \nfreq                             79  2910   221  2348   365    12  1572    54   \n\n       SFF ATT  INH REPH Scheme                    FullChainID Previous  \ncount   82  66   25   89   1314                           3311     3311  \nunique  48  32   19   31     63                            367     3186  \ntop     A7  A8  A10   A1   Rule  2016_202_VAT_OPAM_2_1_PS_AN_A           \nfreq     6   8    3   29    349                             79       12  ",
            "text/html": "<div>\n<style scoped>\n    .dataframe tbody tr th:only-of-type {\n        vertical-align: middle;\n    }\n\n    .dataframe tbody tr th {\n        vertical-align: top;\n    }\n\n    .dataframe thead th {\n        text-align: right;\n    }\n</style>\n<table border=\"1\" class=\"dataframe\">\n  <thead>\n    <tr style=\"text-align: right;\">\n      <th></th>\n      <th>Document</th>\n      <th>Name</th>\n      <th>Id</th>\n      <th>Chain</th>\n      <th>Num</th>\n      <th>Text</th>\n      <th>Type</th>\n      <th>SUP</th>\n      <th>SFF</th>\n      <th>ATT</th>\n      <th>INH</th>\n      <th>REPH</th>\n      <th>Scheme</th>\n      <th>FullChainID</th>\n      <th>Previous</th>\n    </tr>\n  </thead>\n  <tbody>\n    <tr>\n      <th>count</th>\n      <td>3311</td>\n      <td>3311</td>\n      <td>3311</td>\n      <td>3311</td>\n      <td>3311</td>\n      <td>3311</td>\n      <td>2910</td>\n      <td>1088</td>\n      <td>82</td>\n      <td>66</td>\n      <td>25</td>\n      <td>89</td>\n      <td>1314</td>\n      <td>3311</td>\n      <td>3311</td>\n    </tr>\n    <tr>\n      <th>unique</th>\n      <td>225</td>\n      <td>2</td>\n      <td>264</td>\n      <td>10</td>\n      <td>98</td>\n      <td>3163</td>\n      <td>3</td>\n      <td>428</td>\n      <td>48</td>\n      <td>32</td>\n      <td>19</td>\n      <td>31</td>\n      <td>63</td>\n      <td>367</td>\n      <td>3186</td>\n    </tr>\n    <tr>\n      <th>top</th>\n      <td>2016_202_VAT_OPAM_2_1_PS_AN</td>\n      <td>prem</td>\n      <td>A2</td>\n      <td>A</td>\n      <td>2</td>\n      <td></td>\n      <td>F</td>\n      <td>A2</td>\n      <td>A7</td>\n      <td>A8</td>\n      <td>A10</td>\n      <td>A1</td>\n      <td>Rule</td>\n      <td>2016_202_VAT_OPAM_2_1_PS_AN_A</td>\n      <td></td>\n    </tr>\n    <tr>\n      <th>freq</th>\n      <td>79</td>\n      <td>2910</td>\n      <td>221</td>\n      <td>2348</td>\n      <td>365</td>\n      <td>12</td>\n      <td>1572</td>\n      <td>54</td>\n      <td>6</td>\n      <td>8</td>\n      <td>3</td>\n      <td>29</td>\n      <td>349</td>\n      <td>79</td>\n      <td>12</td>\n    </tr>\n  </tbody>\n</table>\n</div>"
          },
          "metadata": {}
        }
      ],
      "execution_count": null
    },
    {
      "cell_type": "code",
      "source": [
        "df.head(10)"
      ],
      "metadata": {
        "colab": {
          "base_uri": "https://localhost:8080/",
          "height": 938
        },
        "id": "DKd2eUylk6GS",
        "outputId": "7593b109-4f2f-4ae0-f8c7-5796c7c2fb87",
        "execution": {
          "iopub.status.busy": "2024-11-16T21:51:50.550912Z",
          "iopub.execute_input": "2024-11-16T21:51:50.551222Z",
          "iopub.status.idle": "2024-11-16T21:51:50.573955Z",
          "shell.execute_reply.started": "2024-11-16T21:51:50.551197Z",
          "shell.execute_reply": "2024-11-16T21:51:50.572969Z"
        },
        "trusted": true
      },
      "outputs": [
        {
          "execution_count": 5,
          "output_type": "execute_result",
          "data": {
            "text/plain": "                          Document  Name  Id Chain Num  \\\n0  2013_40_VAT_OPAM_2_REM_MB_PS_AN  prem  A1     A   1   \n1  2013_40_VAT_OPAM_2_REM_MB_PS_AN  prem  A2     A   2   \n2  2013_40_VAT_OPAM_2_REM_MB_PS_AN  prem  A3     A   3   \n3  2013_40_VAT_OPAM_2_REM_MB_PS_AN  prem  A4     A   4   \n4  2013_40_VAT_OPAM_2_REM_MB_PS_AN  prem  A5     A   5   \n5  2013_40_VAT_OPAM_2_REM_MB_PS_AN  conc  A6     A   6   \n6    2018_847_VAT_OP_2_-1_MB_AF_AN  prem  A1     A   1   \n7    2018_847_VAT_OP_2_-1_MB_AF_AN  prem  A2     A   2   \n8    2018_847_VAT_OP_2_-1_MB_AF_AN  prem  A3     A   3   \n9    2018_847_VAT_OP_2_-1_MB_AF_AN  prem  A4     A   4   \n\n                                                Text Type           SUP  \\\n0  In via preliminare, il Collegio prende in cons...    F           NaN   \n1  Ai sensi dell'art. 14 del d.lgs.546/92, se l'o...    L           NaN   \n2  Se il ricorso non è stato    proposto da o nei...    L           NaN   \n3  Nel caso di specie solo la ILDS ha presentato ...    F           NaN   \n4  come    espressamente richiesto nel ricorso in...    F           NaN   \n5  Poiché ciò non è avvenuto, risulta applicabile...  NaN  [A1, A2, A3]   \n6  Secondo condivisa e costante giurisprudenza (C...    L           NaN   \n7  Tuttavia, nel caso qui in esame, la Comm/ne no...    L      [A3, A4]   \n8  A tal proposito si ricorda che la Corte cost. ...    L           NaN   \n9  Inoltre (Cass. 2.9.2013 n. 20064) “qualora la ...    L           NaN   \n\n        SFF  ATT  INH REPH Scheme                        FullChainID  \\\n0       NaN  NaN  NaN  NaN    NaN  2013_40_VAT_OPAM_2_REM_MB_PS_AN_A   \n1       NaN  NaN  NaN  NaN   Rule  2013_40_VAT_OPAM_2_REM_MB_PS_AN_A   \n2       NaN  NaN  NaN  NaN   Itpr  2013_40_VAT_OPAM_2_REM_MB_PS_AN_A   \n3       NaN  NaN  NaN  NaN    NaN  2013_40_VAT_OPAM_2_REM_MB_PS_AN_A   \n4       NaN  NaN  NaN  NaN    NaN  2013_40_VAT_OPAM_2_REM_MB_PS_AN_A   \n5  [A4, A5]  NaN  NaN  NaN    NaN  2013_40_VAT_OPAM_2_REM_MB_PS_AN_A   \n6       NaN  NaN  NaN  NaN   Rule    2018_847_VAT_OP_2_-1_MB_AF_AN_A   \n7       NaN  NaN  NaN  NaN   Itpr    2018_847_VAT_OP_2_-1_MB_AF_AN_A   \n8       NaN  NaN  NaN  NaN   Prec    2018_847_VAT_OP_2_-1_MB_AF_AN_A   \n9       NaN  NaN  NaN  NaN   Prec    2018_847_VAT_OP_2_-1_MB_AF_AN_A   \n\n                                            Previous  \n0   In via preliminare, il Collegio prende in con...  \n1   Ai sensi dell'art. 14 del d.lgs.546/92, se l'...  \n2   Se il ricorso non è stato\\n    proposto da o ...  \n3   Nel caso di specie solo la ILDS ha presentato...  \n4   come\\n    espressamente richiesto nel ricorso...  \n5  \\n     Poiché ciò non è avvenuto, risulta appl...  \n6  Secondo condivisa e costante giurisprudenza (C...  \n7  Tuttavia, nel caso qui in esame, la Comm/ne no...  \n8  A tal proposito si ricorda che la Corte cost. ...  \n9  Inoltre (Cass. 2.9.2013 n. 20064) “qualora la ...  ",
            "text/html": "<div>\n<style scoped>\n    .dataframe tbody tr th:only-of-type {\n        vertical-align: middle;\n    }\n\n    .dataframe tbody tr th {\n        vertical-align: top;\n    }\n\n    .dataframe thead th {\n        text-align: right;\n    }\n</style>\n<table border=\"1\" class=\"dataframe\">\n  <thead>\n    <tr style=\"text-align: right;\">\n      <th></th>\n      <th>Document</th>\n      <th>Name</th>\n      <th>Id</th>\n      <th>Chain</th>\n      <th>Num</th>\n      <th>Text</th>\n      <th>Type</th>\n      <th>SUP</th>\n      <th>SFF</th>\n      <th>ATT</th>\n      <th>INH</th>\n      <th>REPH</th>\n      <th>Scheme</th>\n      <th>FullChainID</th>\n      <th>Previous</th>\n    </tr>\n  </thead>\n  <tbody>\n    <tr>\n      <th>0</th>\n      <td>2013_40_VAT_OPAM_2_REM_MB_PS_AN</td>\n      <td>prem</td>\n      <td>A1</td>\n      <td>A</td>\n      <td>1</td>\n      <td>In via preliminare, il Collegio prende in cons...</td>\n      <td>F</td>\n      <td>NaN</td>\n      <td>NaN</td>\n      <td>NaN</td>\n      <td>NaN</td>\n      <td>NaN</td>\n      <td>NaN</td>\n      <td>2013_40_VAT_OPAM_2_REM_MB_PS_AN_A</td>\n      <td>In via preliminare, il Collegio prende in con...</td>\n    </tr>\n    <tr>\n      <th>1</th>\n      <td>2013_40_VAT_OPAM_2_REM_MB_PS_AN</td>\n      <td>prem</td>\n      <td>A2</td>\n      <td>A</td>\n      <td>2</td>\n      <td>Ai sensi dell'art. 14 del d.lgs.546/92, se l'o...</td>\n      <td>L</td>\n      <td>NaN</td>\n      <td>NaN</td>\n      <td>NaN</td>\n      <td>NaN</td>\n      <td>NaN</td>\n      <td>Rule</td>\n      <td>2013_40_VAT_OPAM_2_REM_MB_PS_AN_A</td>\n      <td>Ai sensi dell'art. 14 del d.lgs.546/92, se l'...</td>\n    </tr>\n    <tr>\n      <th>2</th>\n      <td>2013_40_VAT_OPAM_2_REM_MB_PS_AN</td>\n      <td>prem</td>\n      <td>A3</td>\n      <td>A</td>\n      <td>3</td>\n      <td>Se il ricorso non è stato    proposto da o nei...</td>\n      <td>L</td>\n      <td>NaN</td>\n      <td>NaN</td>\n      <td>NaN</td>\n      <td>NaN</td>\n      <td>NaN</td>\n      <td>Itpr</td>\n      <td>2013_40_VAT_OPAM_2_REM_MB_PS_AN_A</td>\n      <td>Se il ricorso non è stato\\n    proposto da o ...</td>\n    </tr>\n    <tr>\n      <th>3</th>\n      <td>2013_40_VAT_OPAM_2_REM_MB_PS_AN</td>\n      <td>prem</td>\n      <td>A4</td>\n      <td>A</td>\n      <td>4</td>\n      <td>Nel caso di specie solo la ILDS ha presentato ...</td>\n      <td>F</td>\n      <td>NaN</td>\n      <td>NaN</td>\n      <td>NaN</td>\n      <td>NaN</td>\n      <td>NaN</td>\n      <td>NaN</td>\n      <td>2013_40_VAT_OPAM_2_REM_MB_PS_AN_A</td>\n      <td>Nel caso di specie solo la ILDS ha presentato...</td>\n    </tr>\n    <tr>\n      <th>4</th>\n      <td>2013_40_VAT_OPAM_2_REM_MB_PS_AN</td>\n      <td>prem</td>\n      <td>A5</td>\n      <td>A</td>\n      <td>5</td>\n      <td>come    espressamente richiesto nel ricorso in...</td>\n      <td>F</td>\n      <td>NaN</td>\n      <td>NaN</td>\n      <td>NaN</td>\n      <td>NaN</td>\n      <td>NaN</td>\n      <td>NaN</td>\n      <td>2013_40_VAT_OPAM_2_REM_MB_PS_AN_A</td>\n      <td>come\\n    espressamente richiesto nel ricorso...</td>\n    </tr>\n    <tr>\n      <th>5</th>\n      <td>2013_40_VAT_OPAM_2_REM_MB_PS_AN</td>\n      <td>conc</td>\n      <td>A6</td>\n      <td>A</td>\n      <td>6</td>\n      <td>Poiché ciò non è avvenuto, risulta applicabile...</td>\n      <td>NaN</td>\n      <td>[A1, A2, A3]</td>\n      <td>[A4, A5]</td>\n      <td>NaN</td>\n      <td>NaN</td>\n      <td>NaN</td>\n      <td>NaN</td>\n      <td>2013_40_VAT_OPAM_2_REM_MB_PS_AN_A</td>\n      <td>\\n     Poiché ciò non è avvenuto, risulta appl...</td>\n    </tr>\n    <tr>\n      <th>6</th>\n      <td>2018_847_VAT_OP_2_-1_MB_AF_AN</td>\n      <td>prem</td>\n      <td>A1</td>\n      <td>A</td>\n      <td>1</td>\n      <td>Secondo condivisa e costante giurisprudenza (C...</td>\n      <td>L</td>\n      <td>NaN</td>\n      <td>NaN</td>\n      <td>NaN</td>\n      <td>NaN</td>\n      <td>NaN</td>\n      <td>Rule</td>\n      <td>2018_847_VAT_OP_2_-1_MB_AF_AN_A</td>\n      <td>Secondo condivisa e costante giurisprudenza (C...</td>\n    </tr>\n    <tr>\n      <th>7</th>\n      <td>2018_847_VAT_OP_2_-1_MB_AF_AN</td>\n      <td>prem</td>\n      <td>A2</td>\n      <td>A</td>\n      <td>2</td>\n      <td>Tuttavia, nel caso qui in esame, la Comm/ne no...</td>\n      <td>L</td>\n      <td>[A3, A4]</td>\n      <td>NaN</td>\n      <td>NaN</td>\n      <td>NaN</td>\n      <td>NaN</td>\n      <td>Itpr</td>\n      <td>2018_847_VAT_OP_2_-1_MB_AF_AN_A</td>\n      <td>Tuttavia, nel caso qui in esame, la Comm/ne no...</td>\n    </tr>\n    <tr>\n      <th>8</th>\n      <td>2018_847_VAT_OP_2_-1_MB_AF_AN</td>\n      <td>prem</td>\n      <td>A3</td>\n      <td>A</td>\n      <td>3</td>\n      <td>A tal proposito si ricorda che la Corte cost. ...</td>\n      <td>L</td>\n      <td>NaN</td>\n      <td>NaN</td>\n      <td>NaN</td>\n      <td>NaN</td>\n      <td>NaN</td>\n      <td>Prec</td>\n      <td>2018_847_VAT_OP_2_-1_MB_AF_AN_A</td>\n      <td>A tal proposito si ricorda che la Corte cost. ...</td>\n    </tr>\n    <tr>\n      <th>9</th>\n      <td>2018_847_VAT_OP_2_-1_MB_AF_AN</td>\n      <td>prem</td>\n      <td>A4</td>\n      <td>A</td>\n      <td>4</td>\n      <td>Inoltre (Cass. 2.9.2013 n. 20064) “qualora la ...</td>\n      <td>L</td>\n      <td>NaN</td>\n      <td>NaN</td>\n      <td>NaN</td>\n      <td>NaN</td>\n      <td>NaN</td>\n      <td>Prec</td>\n      <td>2018_847_VAT_OP_2_-1_MB_AF_AN_A</td>\n      <td>Inoltre (Cass. 2.9.2013 n. 20064) “qualora la ...</td>\n    </tr>\n  </tbody>\n</table>\n</div>"
          },
          "metadata": {}
        }
      ],
      "execution_count": null
    },
    {
      "cell_type": "markdown",
      "source": [
        "Example of row with multiple attribute values:"
      ],
      "metadata": {
        "id": "Az9loU0Jl9si"
      }
    },
    {
      "cell_type": "code",
      "source": [
        "df[df[\"FullChainID\"] == \"2021_2717_VAT_OPAM_2_1_FG_PS_AN_A\"]"
      ],
      "metadata": {
        "colab": {
          "base_uri": "https://localhost:8080/",
          "height": 1000
        },
        "id": "DGvelrCgl9sj",
        "outputId": "557a4755-ec84-41cb-f89b-48ed8e70c5d6",
        "execution": {
          "iopub.status.busy": "2024-11-16T21:51:51.124082Z",
          "iopub.execute_input": "2024-11-16T21:51:51.124439Z",
          "iopub.status.idle": "2024-11-16T21:51:51.150756Z",
          "shell.execute_reply.started": "2024-11-16T21:51:51.124411Z",
          "shell.execute_reply": "2024-11-16T21:51:51.149982Z"
        },
        "trusted": true
      },
      "outputs": [
        {
          "execution_count": 6,
          "output_type": "execute_result",
          "data": {
            "text/plain": "                             Document  Name   Id Chain Num  \\\n3213  2021_2717_VAT_OPAM_2_1_FG_PS_AN  conc   A1     A   1   \n3214  2021_2717_VAT_OPAM_2_1_FG_PS_AN  prem   A2     A   2   \n3215  2021_2717_VAT_OPAM_2_1_FG_PS_AN  prem   A3     A   3   \n3216  2021_2717_VAT_OPAM_2_1_FG_PS_AN  prem   A4     A   4   \n3217  2021_2717_VAT_OPAM_2_1_FG_PS_AN  prem   A5     A   5   \n3218  2021_2717_VAT_OPAM_2_1_FG_PS_AN  prem   A6     A   6   \n3219  2021_2717_VAT_OPAM_2_1_FG_PS_AN  prem   A7     A   7   \n3220  2021_2717_VAT_OPAM_2_1_FG_PS_AN  prem   A8     A   8   \n3221  2021_2717_VAT_OPAM_2_1_FG_PS_AN  prem   A9     A   9   \n3222  2021_2717_VAT_OPAM_2_1_FG_PS_AN  prem  A10     A  10   \n3223  2021_2717_VAT_OPAM_2_1_FG_PS_AN  prem  A11     A  11   \n3224  2021_2717_VAT_OPAM_2_1_FG_PS_AN  prem  A12     A  12   \n3225  2021_2717_VAT_OPAM_2_1_FG_PS_AN  prem  A13     A  13   \n\n                                                   Text    Type  \\\n3213  Passando all'esame del motivo di appello con c...     NaN   \n3214  Sul punto, come è noto, giova ricordare che la...       L   \n3215  Con riguardo al primo profilo, dall'esame degl...  [F, L]   \n3216  Per quanto riguarda il secondo profilo (come r...       F   \n3217  Infatti, secondo la corretta interpretazione d...       L   \n3218  Ed ancora, le suddette disposizioni vanno inte...       L   \n3219  Pertanto, tutti i motivi di appello dell'Uffic...       F   \n3220  Inoltre, nel caso specifico va sottolineato il...       F   \n3221  Per quanto riguarda gli ulteriori motivi con i...       F   \n3222  In proposito giova ricordare che l’inesistenza...  [F, L]   \n3223  Più chiaramente la detrazione dell'IVA è indeb...  [F, L]   \n3224  Sul punto è di conforto la pronuncia della Cor...       L   \n3225  In conclusione poichè sono risultati legittimi...       F   \n\n                                   SUP  SFF  ATT  INH REPH        Scheme  \\\n3213                               A13  NaN  NaN  NaN  NaN           NaN   \n3214                               NaN  NaN  NaN  NaN  NaN         Princ   \n3215                               NaN  NaN  NaN  NaN  NaN          Rule   \n3216                          [A5, A6]  NaN  NaN  NaN  NaN           NaN   \n3217                               NaN  NaN  NaN  NaN  NaN          Rule   \n3218                               NaN  NaN  NaN  NaN  NaN          Prec   \n3219                      [A2, A3, A4]  NaN  NaN  NaN  NaN           NaN   \n3220                               NaN  NaN  NaN  NaN  NaN           NaN   \n3221                               NaN  NaN  NaN  NaN  NaN           NaN   \n3222                               NaN  NaN  NaN  NaN  NaN  [Prec, Rule]   \n3223                               NaN  NaN  NaN  NaN  NaN          Rule   \n3224                               NaN  NaN  NaN  NaN  NaN          Prec   \n3225  [A10, A11, A12, A13, A7, A8, A9]  NaN  NaN  NaN  NaN           NaN   \n\n                            FullChainID  \\\n3213  2021_2717_VAT_OPAM_2_1_FG_PS_AN_A   \n3214  2021_2717_VAT_OPAM_2_1_FG_PS_AN_A   \n3215  2021_2717_VAT_OPAM_2_1_FG_PS_AN_A   \n3216  2021_2717_VAT_OPAM_2_1_FG_PS_AN_A   \n3217  2021_2717_VAT_OPAM_2_1_FG_PS_AN_A   \n3218  2021_2717_VAT_OPAM_2_1_FG_PS_AN_A   \n3219  2021_2717_VAT_OPAM_2_1_FG_PS_AN_A   \n3220  2021_2717_VAT_OPAM_2_1_FG_PS_AN_A   \n3221  2021_2717_VAT_OPAM_2_1_FG_PS_AN_A   \n3222  2021_2717_VAT_OPAM_2_1_FG_PS_AN_A   \n3223  2021_2717_VAT_OPAM_2_1_FG_PS_AN_A   \n3224  2021_2717_VAT_OPAM_2_1_FG_PS_AN_A   \n3225  2021_2717_VAT_OPAM_2_1_FG_PS_AN_A   \n\n                                               Previous  \n3213  Passando all'esame del motivo di appello con c...  \n3214  Sul punto, come è noto, giova ricordare che la...  \n3215  Con riguardo al primo profilo, dall'esame degl...  \n3216  Per quanto riguarda il secondo profilo (come r...  \n3217  Infatti, secondo la corretta interpretazione d...  \n3218  Ed ancora, le suddette disposizioni vanno inte...  \n3219  Pertanto, tutti i motivi di appello dell'Uffic...  \n3220  Inoltre, nel caso specifico va sottolineato il...  \n3221  Per quanto riguarda gli ulteriori motivi con i...  \n3222  In proposito giova ricordare che l’inesistenza...  \n3223  Più chiaramente la detrazione dell'IVA è indeb...  \n3224  Sul punto è di conforto la pronuncia della Cor...  \n3225  In conclusione poichè sono risultati legittimi...  ",
            "text/html": "<div>\n<style scoped>\n    .dataframe tbody tr th:only-of-type {\n        vertical-align: middle;\n    }\n\n    .dataframe tbody tr th {\n        vertical-align: top;\n    }\n\n    .dataframe thead th {\n        text-align: right;\n    }\n</style>\n<table border=\"1\" class=\"dataframe\">\n  <thead>\n    <tr style=\"text-align: right;\">\n      <th></th>\n      <th>Document</th>\n      <th>Name</th>\n      <th>Id</th>\n      <th>Chain</th>\n      <th>Num</th>\n      <th>Text</th>\n      <th>Type</th>\n      <th>SUP</th>\n      <th>SFF</th>\n      <th>ATT</th>\n      <th>INH</th>\n      <th>REPH</th>\n      <th>Scheme</th>\n      <th>FullChainID</th>\n      <th>Previous</th>\n    </tr>\n  </thead>\n  <tbody>\n    <tr>\n      <th>3213</th>\n      <td>2021_2717_VAT_OPAM_2_1_FG_PS_AN</td>\n      <td>conc</td>\n      <td>A1</td>\n      <td>A</td>\n      <td>1</td>\n      <td>Passando all'esame del motivo di appello con c...</td>\n      <td>NaN</td>\n      <td>A13</td>\n      <td>NaN</td>\n      <td>NaN</td>\n      <td>NaN</td>\n      <td>NaN</td>\n      <td>NaN</td>\n      <td>2021_2717_VAT_OPAM_2_1_FG_PS_AN_A</td>\n      <td>Passando all'esame del motivo di appello con c...</td>\n    </tr>\n    <tr>\n      <th>3214</th>\n      <td>2021_2717_VAT_OPAM_2_1_FG_PS_AN</td>\n      <td>prem</td>\n      <td>A2</td>\n      <td>A</td>\n      <td>2</td>\n      <td>Sul punto, come è noto, giova ricordare che la...</td>\n      <td>L</td>\n      <td>NaN</td>\n      <td>NaN</td>\n      <td>NaN</td>\n      <td>NaN</td>\n      <td>NaN</td>\n      <td>Princ</td>\n      <td>2021_2717_VAT_OPAM_2_1_FG_PS_AN_A</td>\n      <td>Sul punto, come è noto, giova ricordare che la...</td>\n    </tr>\n    <tr>\n      <th>3215</th>\n      <td>2021_2717_VAT_OPAM_2_1_FG_PS_AN</td>\n      <td>prem</td>\n      <td>A3</td>\n      <td>A</td>\n      <td>3</td>\n      <td>Con riguardo al primo profilo, dall'esame degl...</td>\n      <td>[F, L]</td>\n      <td>NaN</td>\n      <td>NaN</td>\n      <td>NaN</td>\n      <td>NaN</td>\n      <td>NaN</td>\n      <td>Rule</td>\n      <td>2021_2717_VAT_OPAM_2_1_FG_PS_AN_A</td>\n      <td>Con riguardo al primo profilo, dall'esame degl...</td>\n    </tr>\n    <tr>\n      <th>3216</th>\n      <td>2021_2717_VAT_OPAM_2_1_FG_PS_AN</td>\n      <td>prem</td>\n      <td>A4</td>\n      <td>A</td>\n      <td>4</td>\n      <td>Per quanto riguarda il secondo profilo (come r...</td>\n      <td>F</td>\n      <td>[A5, A6]</td>\n      <td>NaN</td>\n      <td>NaN</td>\n      <td>NaN</td>\n      <td>NaN</td>\n      <td>NaN</td>\n      <td>2021_2717_VAT_OPAM_2_1_FG_PS_AN_A</td>\n      <td>Per quanto riguarda il secondo profilo (come r...</td>\n    </tr>\n    <tr>\n      <th>3217</th>\n      <td>2021_2717_VAT_OPAM_2_1_FG_PS_AN</td>\n      <td>prem</td>\n      <td>A5</td>\n      <td>A</td>\n      <td>5</td>\n      <td>Infatti, secondo la corretta interpretazione d...</td>\n      <td>L</td>\n      <td>NaN</td>\n      <td>NaN</td>\n      <td>NaN</td>\n      <td>NaN</td>\n      <td>NaN</td>\n      <td>Rule</td>\n      <td>2021_2717_VAT_OPAM_2_1_FG_PS_AN_A</td>\n      <td>Infatti, secondo la corretta interpretazione d...</td>\n    </tr>\n    <tr>\n      <th>3218</th>\n      <td>2021_2717_VAT_OPAM_2_1_FG_PS_AN</td>\n      <td>prem</td>\n      <td>A6</td>\n      <td>A</td>\n      <td>6</td>\n      <td>Ed ancora, le suddette disposizioni vanno inte...</td>\n      <td>L</td>\n      <td>NaN</td>\n      <td>NaN</td>\n      <td>NaN</td>\n      <td>NaN</td>\n      <td>NaN</td>\n      <td>Prec</td>\n      <td>2021_2717_VAT_OPAM_2_1_FG_PS_AN_A</td>\n      <td>Ed ancora, le suddette disposizioni vanno inte...</td>\n    </tr>\n    <tr>\n      <th>3219</th>\n      <td>2021_2717_VAT_OPAM_2_1_FG_PS_AN</td>\n      <td>prem</td>\n      <td>A7</td>\n      <td>A</td>\n      <td>7</td>\n      <td>Pertanto, tutti i motivi di appello dell'Uffic...</td>\n      <td>F</td>\n      <td>[A2, A3, A4]</td>\n      <td>NaN</td>\n      <td>NaN</td>\n      <td>NaN</td>\n      <td>NaN</td>\n      <td>NaN</td>\n      <td>2021_2717_VAT_OPAM_2_1_FG_PS_AN_A</td>\n      <td>Pertanto, tutti i motivi di appello dell'Uffic...</td>\n    </tr>\n    <tr>\n      <th>3220</th>\n      <td>2021_2717_VAT_OPAM_2_1_FG_PS_AN</td>\n      <td>prem</td>\n      <td>A8</td>\n      <td>A</td>\n      <td>8</td>\n      <td>Inoltre, nel caso specifico va sottolineato il...</td>\n      <td>F</td>\n      <td>NaN</td>\n      <td>NaN</td>\n      <td>NaN</td>\n      <td>NaN</td>\n      <td>NaN</td>\n      <td>NaN</td>\n      <td>2021_2717_VAT_OPAM_2_1_FG_PS_AN_A</td>\n      <td>Inoltre, nel caso specifico va sottolineato il...</td>\n    </tr>\n    <tr>\n      <th>3221</th>\n      <td>2021_2717_VAT_OPAM_2_1_FG_PS_AN</td>\n      <td>prem</td>\n      <td>A9</td>\n      <td>A</td>\n      <td>9</td>\n      <td>Per quanto riguarda gli ulteriori motivi con i...</td>\n      <td>F</td>\n      <td>NaN</td>\n      <td>NaN</td>\n      <td>NaN</td>\n      <td>NaN</td>\n      <td>NaN</td>\n      <td>NaN</td>\n      <td>2021_2717_VAT_OPAM_2_1_FG_PS_AN_A</td>\n      <td>Per quanto riguarda gli ulteriori motivi con i...</td>\n    </tr>\n    <tr>\n      <th>3222</th>\n      <td>2021_2717_VAT_OPAM_2_1_FG_PS_AN</td>\n      <td>prem</td>\n      <td>A10</td>\n      <td>A</td>\n      <td>10</td>\n      <td>In proposito giova ricordare che l’inesistenza...</td>\n      <td>[F, L]</td>\n      <td>NaN</td>\n      <td>NaN</td>\n      <td>NaN</td>\n      <td>NaN</td>\n      <td>NaN</td>\n      <td>[Prec, Rule]</td>\n      <td>2021_2717_VAT_OPAM_2_1_FG_PS_AN_A</td>\n      <td>In proposito giova ricordare che l’inesistenza...</td>\n    </tr>\n    <tr>\n      <th>3223</th>\n      <td>2021_2717_VAT_OPAM_2_1_FG_PS_AN</td>\n      <td>prem</td>\n      <td>A11</td>\n      <td>A</td>\n      <td>11</td>\n      <td>Più chiaramente la detrazione dell'IVA è indeb...</td>\n      <td>[F, L]</td>\n      <td>NaN</td>\n      <td>NaN</td>\n      <td>NaN</td>\n      <td>NaN</td>\n      <td>NaN</td>\n      <td>Rule</td>\n      <td>2021_2717_VAT_OPAM_2_1_FG_PS_AN_A</td>\n      <td>Più chiaramente la detrazione dell'IVA è indeb...</td>\n    </tr>\n    <tr>\n      <th>3224</th>\n      <td>2021_2717_VAT_OPAM_2_1_FG_PS_AN</td>\n      <td>prem</td>\n      <td>A12</td>\n      <td>A</td>\n      <td>12</td>\n      <td>Sul punto è di conforto la pronuncia della Cor...</td>\n      <td>L</td>\n      <td>NaN</td>\n      <td>NaN</td>\n      <td>NaN</td>\n      <td>NaN</td>\n      <td>NaN</td>\n      <td>Prec</td>\n      <td>2021_2717_VAT_OPAM_2_1_FG_PS_AN_A</td>\n      <td>Sul punto è di conforto la pronuncia della Cor...</td>\n    </tr>\n    <tr>\n      <th>3225</th>\n      <td>2021_2717_VAT_OPAM_2_1_FG_PS_AN</td>\n      <td>prem</td>\n      <td>A13</td>\n      <td>A</td>\n      <td>13</td>\n      <td>In conclusione poichè sono risultati legittimi...</td>\n      <td>F</td>\n      <td>[A10, A11, A12, A13, A7, A8, A9]</td>\n      <td>NaN</td>\n      <td>NaN</td>\n      <td>NaN</td>\n      <td>NaN</td>\n      <td>NaN</td>\n      <td>2021_2717_VAT_OPAM_2_1_FG_PS_AN_A</td>\n      <td>In conclusione poichè sono risultati legittimi...</td>\n    </tr>\n  </tbody>\n</table>\n</div>"
          },
          "metadata": {}
        }
      ],
      "execution_count": null
    },
    {
      "cell_type": "markdown",
      "source": [
        "# Preproccesing"
      ],
      "metadata": {
        "id": "K78LAtcaGNEE"
      }
    },
    {
      "cell_type": "markdown",
      "source": [
        "## Removing NaN values"
      ],
      "metadata": {
        "id": "LnLoaCWQGz5W"
      }
    },
    {
      "cell_type": "markdown",
      "source": [
        "Check whether there are any null values for ARGUMENT CLASSIFICATION(AC) task (Name column), and if it's the case then drop them:"
      ],
      "metadata": {
        "id": "9B18ZNXLk6GU"
      }
    },
    {
      "cell_type": "code",
      "source": [
        "df_ac = df[~(df['Name'].isnull())].reset_index(drop=True)\n",
        "\n",
        "df_ac['Name'].unique()"
      ],
      "metadata": {
        "colab": {
          "base_uri": "https://localhost:8080/"
        },
        "id": "tlturRTRk6GV",
        "outputId": "302e0670-f4c5-4799-b1aa-1f6106a88945",
        "execution": {
          "iopub.status.busy": "2024-11-16T21:51:52.075682Z",
          "iopub.execute_input": "2024-11-16T21:51:52.076322Z",
          "iopub.status.idle": "2024-11-16T21:51:52.087802Z",
          "shell.execute_reply.started": "2024-11-16T21:51:52.076294Z",
          "shell.execute_reply": "2024-11-16T21:51:52.08682Z"
        },
        "trusted": true
      },
      "outputs": [
        {
          "execution_count": 7,
          "output_type": "execute_result",
          "data": {
            "text/plain": "array(['prem', 'conc'], dtype=object)"
          },
          "metadata": {}
        }
      ],
      "execution_count": null
    },
    {
      "cell_type": "markdown",
      "source": [
        "Check whether there are any null values for TYPE CLASSIFICATION(TC) task (Type column), and if it's the case then drop them"
      ],
      "metadata": {
        "id": "y7GvPEfNk6GW"
      }
    },
    {
      "cell_type": "code",
      "source": [
        "df_tc = df_ac[~(df_ac['Type'].isnull())].reset_index(drop=True)\n",
        "\n",
        "df_tc.describe()\n",
        "\n",
        "df_tc['Type'].drop_duplicates()\n"
      ],
      "metadata": {
        "colab": {
          "base_uri": "https://localhost:8080/"
        },
        "id": "4XQlgqOPk6GW",
        "outputId": "ca91e51f-23d5-459e-8a50-a8cf038d685c",
        "execution": {
          "iopub.status.busy": "2024-11-16T21:51:52.498888Z",
          "iopub.execute_input": "2024-11-16T21:51:52.499673Z",
          "iopub.status.idle": "2024-11-16T21:51:52.53985Z",
          "shell.execute_reply.started": "2024-11-16T21:51:52.499641Z",
          "shell.execute_reply": "2024-11-16T21:51:52.539003Z"
        },
        "trusted": true
      },
      "outputs": [
        {
          "execution_count": 8,
          "output_type": "execute_result",
          "data": {
            "text/plain": "0          F\n1          L\n13    [F, L]\nName: Type, dtype: object"
          },
          "metadata": {}
        }
      ],
      "execution_count": null
    },
    {
      "cell_type": "markdown",
      "source": [
        "Check whether there are any null values for SCHEME CLASSIFICATION(SC) task (Scheme column), and if it's the case then drop them"
      ],
      "metadata": {
        "id": "BR15CCTIk6GX"
      }
    },
    {
      "cell_type": "code",
      "source": [
        "df_sc = df_tc[~(df_tc['Scheme'].isnull())].reset_index(drop=True)\n",
        "\n",
        "#print(df_sc.describe())\n",
        "\n",
        "df_sc['Scheme'].drop_duplicates()"
      ],
      "metadata": {
        "colab": {
          "base_uri": "https://localhost:8080/"
        },
        "id": "iXGvfxi1k6GX",
        "outputId": "1b67bb58-a5b1-4b79-d4d8-a88813b1178c",
        "execution": {
          "iopub.status.busy": "2024-11-16T21:51:53.044623Z",
          "iopub.execute_input": "2024-11-16T21:51:53.045181Z",
          "iopub.status.idle": "2024-11-16T21:51:53.056713Z",
          "shell.execute_reply.started": "2024-11-16T21:51:53.045153Z",
          "shell.execute_reply": "2024-11-16T21:51:53.055793Z"
        },
        "trusted": true
      },
      "outputs": [
        {
          "execution_count": 9,
          "output_type": "execute_result",
          "data": {
            "text/plain": "0                      Rule\n1                      Itpr\n4                      Prec\n15             [Itpr, Prec]\n21                      Aut\n               ...         \n1223    [Class, Itpr, Rule]\n1240           [Acon, Itpr]\n1241          [Class, Tele]\n1276     [Prec, Rule, Syst]\n1282     [Aut, Itpr, Princ]\nName: Scheme, Length: 63, dtype: object"
          },
          "metadata": {}
        }
      ],
      "execution_count": null
    },
    {
      "cell_type": "code",
      "source": [
        "df_ac.describe().drop('top',axis=0)"
      ],
      "metadata": {
        "colab": {
          "base_uri": "https://localhost:8080/",
          "height": 143
        },
        "id": "TzEB4o1zk6GY",
        "outputId": "a183f0ad-4b04-4634-f2bd-8eb175255a7d",
        "execution": {
          "iopub.status.busy": "2024-11-16T21:51:53.314687Z",
          "iopub.execute_input": "2024-11-16T21:51:53.315277Z",
          "iopub.status.idle": "2024-11-16T21:51:53.36964Z",
          "shell.execute_reply.started": "2024-11-16T21:51:53.315247Z",
          "shell.execute_reply": "2024-11-16T21:51:53.368758Z"
        },
        "trusted": true
      },
      "outputs": [
        {
          "execution_count": 10,
          "output_type": "execute_result",
          "data": {
            "text/plain": "       Document  Name    Id Chain   Num  Text  Type   SUP SFF ATT INH REPH  \\\ncount      3311  3311  3311  3311  3311  3311  2910  1088  82  66  25   89   \nunique      225     2   264    10    98  3163     3   428  48  32  19   31   \nfreq         79  2910   221  2348   365    12  1572    54   6   8   3   29   \n\n       Scheme FullChainID Previous  \ncount    1314        3311     3311  \nunique     63         367     3186  \nfreq      349          79       12  ",
            "text/html": "<div>\n<style scoped>\n    .dataframe tbody tr th:only-of-type {\n        vertical-align: middle;\n    }\n\n    .dataframe tbody tr th {\n        vertical-align: top;\n    }\n\n    .dataframe thead th {\n        text-align: right;\n    }\n</style>\n<table border=\"1\" class=\"dataframe\">\n  <thead>\n    <tr style=\"text-align: right;\">\n      <th></th>\n      <th>Document</th>\n      <th>Name</th>\n      <th>Id</th>\n      <th>Chain</th>\n      <th>Num</th>\n      <th>Text</th>\n      <th>Type</th>\n      <th>SUP</th>\n      <th>SFF</th>\n      <th>ATT</th>\n      <th>INH</th>\n      <th>REPH</th>\n      <th>Scheme</th>\n      <th>FullChainID</th>\n      <th>Previous</th>\n    </tr>\n  </thead>\n  <tbody>\n    <tr>\n      <th>count</th>\n      <td>3311</td>\n      <td>3311</td>\n      <td>3311</td>\n      <td>3311</td>\n      <td>3311</td>\n      <td>3311</td>\n      <td>2910</td>\n      <td>1088</td>\n      <td>82</td>\n      <td>66</td>\n      <td>25</td>\n      <td>89</td>\n      <td>1314</td>\n      <td>3311</td>\n      <td>3311</td>\n    </tr>\n    <tr>\n      <th>unique</th>\n      <td>225</td>\n      <td>2</td>\n      <td>264</td>\n      <td>10</td>\n      <td>98</td>\n      <td>3163</td>\n      <td>3</td>\n      <td>428</td>\n      <td>48</td>\n      <td>32</td>\n      <td>19</td>\n      <td>31</td>\n      <td>63</td>\n      <td>367</td>\n      <td>3186</td>\n    </tr>\n    <tr>\n      <th>freq</th>\n      <td>79</td>\n      <td>2910</td>\n      <td>221</td>\n      <td>2348</td>\n      <td>365</td>\n      <td>12</td>\n      <td>1572</td>\n      <td>54</td>\n      <td>6</td>\n      <td>8</td>\n      <td>3</td>\n      <td>29</td>\n      <td>349</td>\n      <td>79</td>\n      <td>12</td>\n    </tr>\n  </tbody>\n</table>\n</div>"
          },
          "metadata": {}
        }
      ],
      "execution_count": null
    },
    {
      "cell_type": "code",
      "source": [
        "df_tc.describe().drop('top',axis=0)"
      ],
      "metadata": {
        "colab": {
          "base_uri": "https://localhost:8080/",
          "height": 143
        },
        "id": "sfq9mwlDk6GZ",
        "outputId": "306befda-113e-48fb-c8b6-7ffac3c92bf2",
        "execution": {
          "iopub.status.busy": "2024-11-16T21:51:53.51655Z",
          "iopub.execute_input": "2024-11-16T21:51:53.516818Z",
          "iopub.status.idle": "2024-11-16T21:51:53.567655Z",
          "shell.execute_reply.started": "2024-11-16T21:51:53.516795Z",
          "shell.execute_reply": "2024-11-16T21:51:53.566841Z"
        },
        "trusted": true
      },
      "outputs": [
        {
          "execution_count": 11,
          "output_type": "execute_result",
          "data": {
            "text/plain": "       Document  Name    Id Chain   Num  Text  Type  SUP SFF ATT INH REPH  \\\ncount      2910  2910  2910  2910  2910  2910  2910  691  42  66  25   20   \nunique      225     1   255    10    95  2797     3  299  28  32  19   16   \nfreq         78  2910   214  2094   347    11  1572   30   4   8   3    2   \n\n       Scheme FullChainID Previous  \ncount    1314        2910     2910  \nunique     63         367     2812  \nfreq      349          78       11  ",
            "text/html": "<div>\n<style scoped>\n    .dataframe tbody tr th:only-of-type {\n        vertical-align: middle;\n    }\n\n    .dataframe tbody tr th {\n        vertical-align: top;\n    }\n\n    .dataframe thead th {\n        text-align: right;\n    }\n</style>\n<table border=\"1\" class=\"dataframe\">\n  <thead>\n    <tr style=\"text-align: right;\">\n      <th></th>\n      <th>Document</th>\n      <th>Name</th>\n      <th>Id</th>\n      <th>Chain</th>\n      <th>Num</th>\n      <th>Text</th>\n      <th>Type</th>\n      <th>SUP</th>\n      <th>SFF</th>\n      <th>ATT</th>\n      <th>INH</th>\n      <th>REPH</th>\n      <th>Scheme</th>\n      <th>FullChainID</th>\n      <th>Previous</th>\n    </tr>\n  </thead>\n  <tbody>\n    <tr>\n      <th>count</th>\n      <td>2910</td>\n      <td>2910</td>\n      <td>2910</td>\n      <td>2910</td>\n      <td>2910</td>\n      <td>2910</td>\n      <td>2910</td>\n      <td>691</td>\n      <td>42</td>\n      <td>66</td>\n      <td>25</td>\n      <td>20</td>\n      <td>1314</td>\n      <td>2910</td>\n      <td>2910</td>\n    </tr>\n    <tr>\n      <th>unique</th>\n      <td>225</td>\n      <td>1</td>\n      <td>255</td>\n      <td>10</td>\n      <td>95</td>\n      <td>2797</td>\n      <td>3</td>\n      <td>299</td>\n      <td>28</td>\n      <td>32</td>\n      <td>19</td>\n      <td>16</td>\n      <td>63</td>\n      <td>367</td>\n      <td>2812</td>\n    </tr>\n    <tr>\n      <th>freq</th>\n      <td>78</td>\n      <td>2910</td>\n      <td>214</td>\n      <td>2094</td>\n      <td>347</td>\n      <td>11</td>\n      <td>1572</td>\n      <td>30</td>\n      <td>4</td>\n      <td>8</td>\n      <td>3</td>\n      <td>2</td>\n      <td>349</td>\n      <td>78</td>\n      <td>11</td>\n    </tr>\n  </tbody>\n</table>\n</div>"
          },
          "metadata": {}
        }
      ],
      "execution_count": null
    },
    {
      "cell_type": "code",
      "source": [
        "df_sc.describe().drop('top', axis=0)"
      ],
      "metadata": {
        "colab": {
          "base_uri": "https://localhost:8080/",
          "height": 143
        },
        "id": "p_4kY233k6GZ",
        "outputId": "05832c24-d715-49b3-fdf2-6756cec67b89",
        "execution": {
          "iopub.status.busy": "2024-11-16T21:51:53.724769Z",
          "iopub.execute_input": "2024-11-16T21:51:53.725035Z",
          "iopub.status.idle": "2024-11-16T21:51:53.762419Z",
          "shell.execute_reply.started": "2024-11-16T21:51:53.725013Z",
          "shell.execute_reply": "2024-11-16T21:51:53.761606Z"
        },
        "trusted": true
      },
      "outputs": [
        {
          "execution_count": 12,
          "output_type": "execute_result",
          "data": {
            "text/plain": "       Document  Name    Id Chain   Num  Text  Type  SUP SFF ATT INH REPH  \\\ncount      1314  1314  1314  1314  1314  1314  1314  272  14   9  14    3   \nunique      203     1   164    10    62  1256     3  129  11   7  13    3   \nfreq         41  1314   103   944   174     3  1000   15   2   2   2    1   \n\n       Scheme FullChainID Previous  \ncount    1314        1314     1314  \nunique     63         309     1260  \nfreq      349          41        3  ",
            "text/html": "<div>\n<style scoped>\n    .dataframe tbody tr th:only-of-type {\n        vertical-align: middle;\n    }\n\n    .dataframe tbody tr th {\n        vertical-align: top;\n    }\n\n    .dataframe thead th {\n        text-align: right;\n    }\n</style>\n<table border=\"1\" class=\"dataframe\">\n  <thead>\n    <tr style=\"text-align: right;\">\n      <th></th>\n      <th>Document</th>\n      <th>Name</th>\n      <th>Id</th>\n      <th>Chain</th>\n      <th>Num</th>\n      <th>Text</th>\n      <th>Type</th>\n      <th>SUP</th>\n      <th>SFF</th>\n      <th>ATT</th>\n      <th>INH</th>\n      <th>REPH</th>\n      <th>Scheme</th>\n      <th>FullChainID</th>\n      <th>Previous</th>\n    </tr>\n  </thead>\n  <tbody>\n    <tr>\n      <th>count</th>\n      <td>1314</td>\n      <td>1314</td>\n      <td>1314</td>\n      <td>1314</td>\n      <td>1314</td>\n      <td>1314</td>\n      <td>1314</td>\n      <td>272</td>\n      <td>14</td>\n      <td>9</td>\n      <td>14</td>\n      <td>3</td>\n      <td>1314</td>\n      <td>1314</td>\n      <td>1314</td>\n    </tr>\n    <tr>\n      <th>unique</th>\n      <td>203</td>\n      <td>1</td>\n      <td>164</td>\n      <td>10</td>\n      <td>62</td>\n      <td>1256</td>\n      <td>3</td>\n      <td>129</td>\n      <td>11</td>\n      <td>7</td>\n      <td>13</td>\n      <td>3</td>\n      <td>63</td>\n      <td>309</td>\n      <td>1260</td>\n    </tr>\n    <tr>\n      <th>freq</th>\n      <td>41</td>\n      <td>1314</td>\n      <td>103</td>\n      <td>944</td>\n      <td>174</td>\n      <td>3</td>\n      <td>1000</td>\n      <td>15</td>\n      <td>2</td>\n      <td>2</td>\n      <td>2</td>\n      <td>1</td>\n      <td>349</td>\n      <td>41</td>\n      <td>3</td>\n    </tr>\n  </tbody>\n</table>\n</div>"
          },
          "metadata": {}
        }
      ],
      "execution_count": null
    },
    {
      "cell_type": "markdown",
      "source": [
        "## Argument classification Label Encoder"
      ],
      "metadata": {
        "id": "i2nAYnxhGUHO"
      }
    },
    {
      "cell_type": "code",
      "source": [
        "#df_ac['label'] = df_ac.Name.map({'prem': 0, 'conc': 1})"
      ],
      "metadata": {
        "id": "Jjbz1xKqk6Gh",
        "execution": {
          "iopub.status.busy": "2024-11-16T21:51:54.166774Z",
          "iopub.execute_input": "2024-11-16T21:51:54.167585Z",
          "iopub.status.idle": "2024-11-16T21:51:54.171283Z",
          "shell.execute_reply.started": "2024-11-16T21:51:54.167555Z",
          "shell.execute_reply": "2024-11-16T21:51:54.170375Z"
        },
        "trusted": true
      },
      "outputs": [],
      "execution_count": null
    },
    {
      "cell_type": "code",
      "source": [
        "from sklearn.preprocessing import LabelEncoder\n",
        "\n",
        "le = LabelEncoder()\n",
        "\n",
        "df_ac['label'] = le.fit_transform(df_ac['Name'])\n",
        "\n",
        "le.classes_\n",
        "\n",
        "le.inverse_transform([0,1])"
      ],
      "metadata": {
        "colab": {
          "base_uri": "https://localhost:8080/"
        },
        "id": "N7d9dVO5k6Gh",
        "outputId": "9aad1fe4-fbb9-462b-9c9e-5b481c500075",
        "execution": {
          "iopub.status.busy": "2024-11-16T21:51:54.377914Z",
          "iopub.execute_input": "2024-11-16T21:51:54.378506Z",
          "iopub.status.idle": "2024-11-16T21:51:54.388239Z",
          "shell.execute_reply.started": "2024-11-16T21:51:54.378478Z",
          "shell.execute_reply": "2024-11-16T21:51:54.387311Z"
        },
        "trusted": true
      },
      "outputs": [
        {
          "execution_count": 14,
          "output_type": "execute_result",
          "data": {
            "text/plain": "array(['conc', 'prem'], dtype=object)"
          },
          "metadata": {}
        }
      ],
      "execution_count": null
    },
    {
      "cell_type": "code",
      "source": [
        "df_ac['label'].unique()"
      ],
      "metadata": {
        "colab": {
          "base_uri": "https://localhost:8080/"
        },
        "id": "lQ197Nrlk6G2",
        "outputId": "3290e5f0-461c-4fda-8ff4-43ff3ebd1d8b",
        "execution": {
          "iopub.status.busy": "2024-11-16T21:51:54.605369Z",
          "iopub.execute_input": "2024-11-16T21:51:54.605658Z",
          "iopub.status.idle": "2024-11-16T21:51:54.614519Z",
          "shell.execute_reply.started": "2024-11-16T21:51:54.605636Z",
          "shell.execute_reply": "2024-11-16T21:51:54.613447Z"
        },
        "trusted": true
      },
      "outputs": [
        {
          "execution_count": 15,
          "output_type": "execute_result",
          "data": {
            "text/plain": "array([1, 0])"
          },
          "metadata": {}
        }
      ],
      "execution_count": null
    },
    {
      "cell_type": "code",
      "source": [
        "df_ac['Name'].unique()"
      ],
      "metadata": {
        "colab": {
          "base_uri": "https://localhost:8080/"
        },
        "id": "gIKGCk0fk6G3",
        "outputId": "5b98f4fa-5660-4381-a642-bfb2c88156fc",
        "execution": {
          "iopub.status.busy": "2024-11-16T21:51:54.833761Z",
          "iopub.execute_input": "2024-11-16T21:51:54.834311Z",
          "iopub.status.idle": "2024-11-16T21:51:54.840077Z",
          "shell.execute_reply.started": "2024-11-16T21:51:54.834287Z",
          "shell.execute_reply": "2024-11-16T21:51:54.839292Z"
        },
        "trusted": true
      },
      "outputs": [
        {
          "execution_count": 16,
          "output_type": "execute_result",
          "data": {
            "text/plain": "array(['prem', 'conc'], dtype=object)"
          },
          "metadata": {}
        }
      ],
      "execution_count": null
    },
    {
      "cell_type": "code",
      "source": [
        "df_ac['label'].hist()"
      ],
      "metadata": {
        "colab": {
          "base_uri": "https://localhost:8080/",
          "height": 448
        },
        "id": "_mFeTOnOk6G4",
        "outputId": "49b2e293-b7e8-410b-cb99-4a81122649e3",
        "execution": {
          "iopub.status.busy": "2024-11-16T21:51:55.062573Z",
          "iopub.execute_input": "2024-11-16T21:51:55.062841Z",
          "iopub.status.idle": "2024-11-16T21:51:55.387791Z",
          "shell.execute_reply.started": "2024-11-16T21:51:55.062819Z",
          "shell.execute_reply": "2024-11-16T21:51:55.386977Z"
        },
        "trusted": true
      },
      "outputs": [
        {
          "execution_count": 17,
          "output_type": "execute_result",
          "data": {
            "text/plain": "<Axes: >"
          },
          "metadata": {}
        },
        {
          "output_type": "display_data",
          "data": {
            "text/plain": "<Figure size 640x480 with 1 Axes>",
            "image/png": "[encoded data removed]"
          },
          "metadata": {}
        }
      ],
      "execution_count": null
    },
    {
      "cell_type": "markdown",
      "source": [
        "## Type classification multi-label-binarizer"
      ],
      "metadata": {
        "id": "9wLFyRHZk6Ga"
      }
    },
    {
      "cell_type": "code",
      "source": [
        "df_tc.loc[13,'Type']"
      ],
      "metadata": {
        "colab": {
          "base_uri": "https://localhost:8080/"
        },
        "id": "4nBwowhFk6Ga",
        "outputId": "60ebfad4-78e0-448b-c76e-588317542c5b",
        "execution": {
          "iopub.status.busy": "2024-11-16T21:51:56.056184Z",
          "iopub.execute_input": "2024-11-16T21:51:56.056529Z",
          "iopub.status.idle": "2024-11-16T21:51:56.06262Z",
          "shell.execute_reply.started": "2024-11-16T21:51:56.0565Z",
          "shell.execute_reply": "2024-11-16T21:51:56.061739Z"
        },
        "trusted": true
      },
      "outputs": [
        {
          "execution_count": 18,
          "output_type": "execute_result",
          "data": {
            "text/plain": "['F', 'L']"
          },
          "metadata": {}
        }
      ],
      "execution_count": null
    },
    {
      "cell_type": "code",
      "source": [
        "#need to extract the values from the list, in a way to pass it to the multilabelbinarizer\n",
        "\n",
        "for i in range(len(df_tc)):\n",
        "\n",
        "    x = df_tc.loc[i,'Type']\n",
        "\n",
        "    if type(x) == list:\n",
        "\n",
        "        df_tc.loc[i,'Type'] = \",\".join([x[0],x[1]])\n"
      ],
      "metadata": {
        "id": "52Xv9SwGk6Ga",
        "execution": {
          "iopub.status.busy": "2024-11-16T21:51:56.601911Z",
          "iopub.execute_input": "2024-11-16T21:51:56.602258Z",
          "iopub.status.idle": "2024-11-16T21:51:56.687282Z",
          "shell.execute_reply.started": "2024-11-16T21:51:56.602227Z",
          "shell.execute_reply": "2024-11-16T21:51:56.68659Z"
        },
        "trusted": true
      },
      "outputs": [],
      "execution_count": null
    },
    {
      "cell_type": "code",
      "source": [
        "df_tc.loc[13,'Type']"
      ],
      "metadata": {
        "colab": {
          "base_uri": "https://localhost:8080/",
          "height": 36
        },
        "id": "GUFaslypk6Ga",
        "outputId": "ed646f5c-1b9f-4156-ce95-390141113991",
        "execution": {
          "iopub.status.busy": "2024-11-16T21:51:57.32398Z",
          "iopub.execute_input": "2024-11-16T21:51:57.324354Z",
          "iopub.status.idle": "2024-11-16T21:51:57.330239Z",
          "shell.execute_reply.started": "2024-11-16T21:51:57.324326Z",
          "shell.execute_reply": "2024-11-16T21:51:57.329402Z"
        },
        "trusted": true
      },
      "outputs": [
        {
          "execution_count": 20,
          "output_type": "execute_result",
          "data": {
            "text/plain": "'F,L'"
          },
          "metadata": {}
        }
      ],
      "execution_count": null
    },
    {
      "cell_type": "code",
      "source": [
        "from sklearn.preprocessing import MultiLabelBinarizer\n",
        "\n",
        "mlb = MultiLabelBinarizer()\n",
        "\n",
        "mlb_result = mlb.fit_transform([str(df_tc.loc[i,'Type']).split(',') for i in range(len(df_tc))])\n",
        "\n",
        "df_tc_final = pd.concat([df_tc,pd.DataFrame(mlb_result,columns=list(mlb.classes_))],axis=1)\n",
        "\n",
        "df_tc_final"
      ],
      "metadata": {
        "colab": {
          "base_uri": "https://localhost:8080/",
          "height": 999
        },
        "id": "V-x7k3ook6Gb",
        "outputId": "1f1a5814-2475-4096-e65e-53259ec294e0",
        "execution": {
          "iopub.status.busy": "2024-11-16T21:51:58.021981Z",
          "iopub.execute_input": "2024-11-16T21:51:58.022322Z",
          "iopub.status.idle": "2024-11-16T21:51:58.100921Z",
          "shell.execute_reply.started": "2024-11-16T21:51:58.022293Z",
          "shell.execute_reply": "2024-11-16T21:51:58.10002Z"
        },
        "trusted": true
      },
      "outputs": [
        {
          "execution_count": 21,
          "output_type": "execute_result",
          "data": {
            "text/plain": "                             Document  Name   Id Chain Num  \\\n0     2013_40_VAT_OPAM_2_REM_MB_PS_AN  prem   A1     A   1   \n1     2013_40_VAT_OPAM_2_REM_MB_PS_AN  prem   A2     A   2   \n2     2013_40_VAT_OPAM_2_REM_MB_PS_AN  prem   A3     A   3   \n3     2013_40_VAT_OPAM_2_REM_MB_PS_AN  prem   A4     A   4   \n4     2013_40_VAT_OPAM_2_REM_MB_PS_AN  prem   A5     A   5   \n...                               ...   ...  ...   ...  ..   \n2905     2021_6075_VAT_OPAM_2_1_PS_AN  prem  C15     C  15   \n2906     2021_6075_VAT_OPAM_2_1_PS_AN  prem  C16     C  16   \n2907     2021_6075_VAT_OPAM_2_1_PS_AN  prem  C17     C  17   \n2908     2021_6075_VAT_OPAM_2_1_PS_AN  prem  C18     C  18   \n2909     2021_6075_VAT_OPAM_2_1_PS_AN  prem  C19     C  19   \n\n                                                   Text Type  SUP  SFF  ATT  \\\n0     In via preliminare, il Collegio prende in cons...    F  NaN  NaN  NaN   \n1     Ai sensi dell'art. 14 del d.lgs.546/92, se l'o...    L  NaN  NaN  NaN   \n2     Se il ricorso non è stato    proposto da o nei...    L  NaN  NaN  NaN   \n3     Nel caso di specie solo la ILDS ha presentato ...    F  NaN  NaN  NaN   \n4     come    espressamente richiesto nel ricorso in...    F  NaN  NaN  NaN   \n...                                                 ...  ...  ...  ...  ...   \n2905  Sotto questo profilo i Compro Oro sono sottopo...    L  NaN  NaN  NaN   \n2906  Tale comunicazione ha luogo quando i destinata...    L  NaN  NaN  NaN   \n2907  Il Ministro dell'interno, con decreto del 17 f...    L  NaN  NaN  NaN   \n2908  Tra i soggetti destinatari del decreto sono ri...    L  NaN  NaN  NaN   \n2909  In conclusione, per quanto fin qui esposto, i ...    L       NaN  NaN   \n\n      INH REPH         Scheme                        FullChainID  \\\n0     NaN  NaN            NaN  2013_40_VAT_OPAM_2_REM_MB_PS_AN_A   \n1     NaN  NaN           Rule  2013_40_VAT_OPAM_2_REM_MB_PS_AN_A   \n2     NaN  NaN           Itpr  2013_40_VAT_OPAM_2_REM_MB_PS_AN_A   \n3     NaN  NaN            NaN  2013_40_VAT_OPAM_2_REM_MB_PS_AN_A   \n4     NaN  NaN            NaN  2013_40_VAT_OPAM_2_REM_MB_PS_AN_A   \n...   ...  ...            ...                                ...   \n2905  NaN  NaN           Rule     2021_6075_VAT_OPAM_2_1_PS_AN_C   \n2906  NaN  NaN           Rule     2021_6075_VAT_OPAM_2_1_PS_AN_C   \n2907  NaN  NaN           Rule     2021_6075_VAT_OPAM_2_1_PS_AN_C   \n2908  NaN  NaN  [Class, Rule]     2021_6075_VAT_OPAM_2_1_PS_AN_C   \n2909  NaN  NaN          Class     2021_6075_VAT_OPAM_2_1_PS_AN_C   \n\n                                               Previous  F  L  \n0      In via preliminare, il Collegio prende in con...  1  0  \n1      Ai sensi dell'art. 14 del d.lgs.546/92, se l'...  0  1  \n2      Se il ricorso non è stato\\n    proposto da o ...  0  1  \n3      Nel caso di specie solo la ILDS ha presentato...  1  0  \n4      come\\n    espressamente richiesto nel ricorso...  1  0  \n...                                                 ... .. ..  \n2905  Sotto questo profilo i Compro Oro sono sottopo...  0  1  \n2906  Tale comunicazione ha luogo quando i destinata...  0  1  \n2907  Il Ministro dell'interno, con decreto del 17 f...  0  1  \n2908  Tra i soggetti destinatari del decreto sono ri...  0  1  \n2909  In conclusione, per quanto fin qui esposto, i ...  0  1  \n\n[2910 rows x 17 columns]",
            "text/html": "<div>\n<style scoped>\n    .dataframe tbody tr th:only-of-type {\n        vertical-align: middle;\n    }\n\n    .dataframe tbody tr th {\n        vertical-align: top;\n    }\n\n    .dataframe thead th {\n        text-align: right;\n    }\n</style>\n<table border=\"1\" class=\"dataframe\">\n  <thead>\n    <tr style=\"text-align: right;\">\n      <th></th>\n      <th>Document</th>\n      <th>Name</th>\n      <th>Id</th>\n      <th>Chain</th>\n      <th>Num</th>\n      <th>Text</th>\n      <th>Type</th>\n      <th>SUP</th>\n      <th>SFF</th>\n      <th>ATT</th>\n      <th>INH</th>\n      <th>REPH</th>\n      <th>Scheme</th>\n      <th>FullChainID</th>\n      <th>Previous</th>\n      <th>F</th>\n      <th>L</th>\n    </tr>\n  </thead>\n  <tbody>\n    <tr>\n      <th>0</th>\n      <td>2013_40_VAT_OPAM_2_REM_MB_PS_AN</td>\n      <td>prem</td>\n      <td>A1</td>\n      <td>A</td>\n      <td>1</td>\n      <td>In via preliminare, il Collegio prende in cons...</td>\n      <td>F</td>\n      <td>NaN</td>\n      <td>NaN</td>\n      <td>NaN</td>\n      <td>NaN</td>\n      <td>NaN</td>\n      <td>NaN</td>\n      <td>2013_40_VAT_OPAM_2_REM_MB_PS_AN_A</td>\n      <td>In via preliminare, il Collegio prende in con...</td>\n      <td>1</td>\n      <td>0</td>\n    </tr>\n    <tr>\n      <th>1</th>\n      <td>2013_40_VAT_OPAM_2_REM_MB_PS_AN</td>\n      <td>prem</td>\n      <td>A2</td>\n      <td>A</td>\n      <td>2</td>\n      <td>Ai sensi dell'art. 14 del d.lgs.546/92, se l'o...</td>\n      <td>L</td>\n      <td>NaN</td>\n      <td>NaN</td>\n      <td>NaN</td>\n      <td>NaN</td>\n      <td>NaN</td>\n      <td>Rule</td>\n      <td>2013_40_VAT_OPAM_2_REM_MB_PS_AN_A</td>\n      <td>Ai sensi dell'art. 14 del d.lgs.546/92, se l'...</td>\n      <td>0</td>\n      <td>1</td>\n    </tr>\n    <tr>\n      <th>2</th>\n      <td>2013_40_VAT_OPAM_2_REM_MB_PS_AN</td>\n      <td>prem</td>\n      <td>A3</td>\n      <td>A</td>\n      <td>3</td>\n      <td>Se il ricorso non è stato    proposto da o nei...</td>\n      <td>L</td>\n      <td>NaN</td>\n      <td>NaN</td>\n      <td>NaN</td>\n      <td>NaN</td>\n      <td>NaN</td>\n      <td>Itpr</td>\n      <td>2013_40_VAT_OPAM_2_REM_MB_PS_AN_A</td>\n      <td>Se il ricorso non è stato\\n    proposto da o ...</td>\n      <td>0</td>\n      <td>1</td>\n    </tr>\n    <tr>\n      <th>3</th>\n      <td>2013_40_VAT_OPAM_2_REM_MB_PS_AN</td>\n      <td>prem</td>\n      <td>A4</td>\n      <td>A</td>\n      <td>4</td>\n      <td>Nel caso di specie solo la ILDS ha presentato ...</td>\n      <td>F</td>\n      <td>NaN</td>\n      <td>NaN</td>\n      <td>NaN</td>\n      <td>NaN</td>\n      <td>NaN</td>\n      <td>NaN</td>\n      <td>2013_40_VAT_OPAM_2_REM_MB_PS_AN_A</td>\n      <td>Nel caso di specie solo la ILDS ha presentato...</td>\n      <td>1</td>\n      <td>0</td>\n    </tr>\n    <tr>\n      <th>4</th>\n      <td>2013_40_VAT_OPAM_2_REM_MB_PS_AN</td>\n      <td>prem</td>\n      <td>A5</td>\n      <td>A</td>\n      <td>5</td>\n      <td>come    espressamente richiesto nel ricorso in...</td>\n      <td>F</td>\n      <td>NaN</td>\n      <td>NaN</td>\n      <td>NaN</td>\n      <td>NaN</td>\n      <td>NaN</td>\n      <td>NaN</td>\n      <td>2013_40_VAT_OPAM_2_REM_MB_PS_AN_A</td>\n      <td>come\\n    espressamente richiesto nel ricorso...</td>\n      <td>1</td>\n      <td>0</td>\n    </tr>\n    <tr>\n      <th>...</th>\n      <td>...</td>\n      <td>...</td>\n      <td>...</td>\n      <td>...</td>\n      <td>...</td>\n      <td>...</td>\n      <td>...</td>\n      <td>...</td>\n      <td>...</td>\n      <td>...</td>\n      <td>...</td>\n      <td>...</td>\n      <td>...</td>\n      <td>...</td>\n      <td>...</td>\n      <td>...</td>\n      <td>...</td>\n    </tr>\n    <tr>\n      <th>2905</th>\n      <td>2021_6075_VAT_OPAM_2_1_PS_AN</td>\n      <td>prem</td>\n      <td>C15</td>\n      <td>C</td>\n      <td>15</td>\n      <td>Sotto questo profilo i Compro Oro sono sottopo...</td>\n      <td>L</td>\n      <td>NaN</td>\n      <td>NaN</td>\n      <td>NaN</td>\n      <td>NaN</td>\n      <td>NaN</td>\n      <td>Rule</td>\n      <td>2021_6075_VAT_OPAM_2_1_PS_AN_C</td>\n      <td>Sotto questo profilo i Compro Oro sono sottopo...</td>\n      <td>0</td>\n      <td>1</td>\n    </tr>\n    <tr>\n      <th>2906</th>\n      <td>2021_6075_VAT_OPAM_2_1_PS_AN</td>\n      <td>prem</td>\n      <td>C16</td>\n      <td>C</td>\n      <td>16</td>\n      <td>Tale comunicazione ha luogo quando i destinata...</td>\n      <td>L</td>\n      <td>NaN</td>\n      <td>NaN</td>\n      <td>NaN</td>\n      <td>NaN</td>\n      <td>NaN</td>\n      <td>Rule</td>\n      <td>2021_6075_VAT_OPAM_2_1_PS_AN_C</td>\n      <td>Tale comunicazione ha luogo quando i destinata...</td>\n      <td>0</td>\n      <td>1</td>\n    </tr>\n    <tr>\n      <th>2907</th>\n      <td>2021_6075_VAT_OPAM_2_1_PS_AN</td>\n      <td>prem</td>\n      <td>C17</td>\n      <td>C</td>\n      <td>17</td>\n      <td>Il Ministro dell'interno, con decreto del 17 f...</td>\n      <td>L</td>\n      <td>NaN</td>\n      <td>NaN</td>\n      <td>NaN</td>\n      <td>NaN</td>\n      <td>NaN</td>\n      <td>Rule</td>\n      <td>2021_6075_VAT_OPAM_2_1_PS_AN_C</td>\n      <td>Il Ministro dell'interno, con decreto del 17 f...</td>\n      <td>0</td>\n      <td>1</td>\n    </tr>\n    <tr>\n      <th>2908</th>\n      <td>2021_6075_VAT_OPAM_2_1_PS_AN</td>\n      <td>prem</td>\n      <td>C18</td>\n      <td>C</td>\n      <td>18</td>\n      <td>Tra i soggetti destinatari del decreto sono ri...</td>\n      <td>L</td>\n      <td>NaN</td>\n      <td>NaN</td>\n      <td>NaN</td>\n      <td>NaN</td>\n      <td>NaN</td>\n      <td>[Class, Rule]</td>\n      <td>2021_6075_VAT_OPAM_2_1_PS_AN_C</td>\n      <td>Tra i soggetti destinatari del decreto sono ri...</td>\n      <td>0</td>\n      <td>1</td>\n    </tr>\n    <tr>\n      <th>2909</th>\n      <td>2021_6075_VAT_OPAM_2_1_PS_AN</td>\n      <td>prem</td>\n      <td>C19</td>\n      <td>C</td>\n      <td>19</td>\n      <td>In conclusione, per quanto fin qui esposto, i ...</td>\n      <td>L</td>\n      <td></td>\n      <td>NaN</td>\n      <td>NaN</td>\n      <td>NaN</td>\n      <td>NaN</td>\n      <td>Class</td>\n      <td>2021_6075_VAT_OPAM_2_1_PS_AN_C</td>\n      <td>In conclusione, per quanto fin qui esposto, i ...</td>\n      <td>0</td>\n      <td>1</td>\n    </tr>\n  </tbody>\n</table>\n<p>2910 rows × 17 columns</p>\n</div>"
          },
          "metadata": {}
        }
      ],
      "execution_count": null
    },
    {
      "cell_type": "code",
      "source": [
        "df_tc_labels = df_tc_final[['F','L']]\n",
        "\n",
        "df_tc_labels"
      ],
      "metadata": {
        "colab": {
          "base_uri": "https://localhost:8080/",
          "height": 423
        },
        "id": "Tdr2EKPVk6Gb",
        "outputId": "cfed7ee6-e13e-4131-b096-3cbf43d8e819",
        "execution": {
          "iopub.status.busy": "2024-11-16T21:51:58.593487Z",
          "iopub.execute_input": "2024-11-16T21:51:58.594122Z",
          "iopub.status.idle": "2024-11-16T21:51:58.606311Z",
          "shell.execute_reply.started": "2024-11-16T21:51:58.594088Z",
          "shell.execute_reply": "2024-11-16T21:51:58.605335Z"
        },
        "trusted": true
      },
      "outputs": [
        {
          "execution_count": 22,
          "output_type": "execute_result",
          "data": {
            "text/plain": "      F  L\n0     1  0\n1     0  1\n2     0  1\n3     1  0\n4     1  0\n...  .. ..\n2905  0  1\n2906  0  1\n2907  0  1\n2908  0  1\n2909  0  1\n\n[2910 rows x 2 columns]",
            "text/html": "<div>\n<style scoped>\n    .dataframe tbody tr th:only-of-type {\n        vertical-align: middle;\n    }\n\n    .dataframe tbody tr th {\n        vertical-align: top;\n    }\n\n    .dataframe thead th {\n        text-align: right;\n    }\n</style>\n<table border=\"1\" class=\"dataframe\">\n  <thead>\n    <tr style=\"text-align: right;\">\n      <th></th>\n      <th>F</th>\n      <th>L</th>\n    </tr>\n  </thead>\n  <tbody>\n    <tr>\n      <th>0</th>\n      <td>1</td>\n      <td>0</td>\n    </tr>\n    <tr>\n      <th>1</th>\n      <td>0</td>\n      <td>1</td>\n    </tr>\n    <tr>\n      <th>2</th>\n      <td>0</td>\n      <td>1</td>\n    </tr>\n    <tr>\n      <th>3</th>\n      <td>1</td>\n      <td>0</td>\n    </tr>\n    <tr>\n      <th>4</th>\n      <td>1</td>\n      <td>0</td>\n    </tr>\n    <tr>\n      <th>...</th>\n      <td>...</td>\n      <td>...</td>\n    </tr>\n    <tr>\n      <th>2905</th>\n      <td>0</td>\n      <td>1</td>\n    </tr>\n    <tr>\n      <th>2906</th>\n      <td>0</td>\n      <td>1</td>\n    </tr>\n    <tr>\n      <th>2907</th>\n      <td>0</td>\n      <td>1</td>\n    </tr>\n    <tr>\n      <th>2908</th>\n      <td>0</td>\n      <td>1</td>\n    </tr>\n    <tr>\n      <th>2909</th>\n      <td>0</td>\n      <td>1</td>\n    </tr>\n  </tbody>\n</table>\n<p>2910 rows × 2 columns</p>\n</div>"
          },
          "metadata": {}
        }
      ],
      "execution_count": null
    },
    {
      "cell_type": "markdown",
      "source": [
        "## Scheme classification multi-label-binarizer"
      ],
      "metadata": {
        "id": "HTWItdZMk6Gb"
      }
    },
    {
      "cell_type": "code",
      "source": [
        "#need to extract the values from the list, so convert to string, in order to pass them to the multilabelbinarizer\n",
        "\n",
        "def clean_list(df_sc, column_name):\n",
        "    for i in range(len(df_sc)):\n",
        "\n",
        "        x = df_sc.loc[i,column_name]\n",
        "        if type(x) == list:\n",
        "            df_sc.loc[i,str(column_name) + \"2\"] = \",\".join(x)\n",
        "        else:\n",
        "            try:\n",
        "                df_sc.loc[i,str(column_name) + \"2\"] = x\n",
        "            except:\n",
        "                print(i,x)\n",
        "    return df_sc\n",
        "df_sc = clean_list(df_sc,'Scheme')\n",
        "df_sc"
      ],
      "metadata": {
        "id": "-0ruGf5xk6Gc",
        "execution": {
          "iopub.status.busy": "2024-11-16T21:52:00.041929Z",
          "iopub.execute_input": "2024-11-16T21:52:00.042742Z",
          "iopub.status.idle": "2024-11-16T21:52:00.345146Z",
          "shell.execute_reply.started": "2024-11-16T21:52:00.04271Z",
          "shell.execute_reply": "2024-11-16T21:52:00.344196Z"
        },
        "trusted": true,
        "outputId": "2269a1bc-b8e8-47b3-db47-2930a43a67f3"
      },
      "outputs": [
        {
          "execution_count": 23,
          "output_type": "execute_result",
          "data": {
            "text/plain": "                             Document  Name   Id Chain Num  \\\n0     2013_40_VAT_OPAM_2_REM_MB_PS_AN  prem   A2     A   2   \n1     2013_40_VAT_OPAM_2_REM_MB_PS_AN  prem   A3     A   3   \n2       2018_847_VAT_OP_2_-1_MB_AF_AN  prem   A1     A   1   \n3       2018_847_VAT_OP_2_-1_MB_AF_AN  prem   A2     A   2   \n4       2018_847_VAT_OP_2_-1_MB_AF_AN  prem   A3     A   3   \n...                               ...   ...  ...   ...  ..   \n1309     2021_6075_VAT_OPAM_2_1_PS_AN  prem  C15     C  15   \n1310     2021_6075_VAT_OPAM_2_1_PS_AN  prem  C16     C  16   \n1311     2021_6075_VAT_OPAM_2_1_PS_AN  prem  C17     C  17   \n1312     2021_6075_VAT_OPAM_2_1_PS_AN  prem  C18     C  18   \n1313     2021_6075_VAT_OPAM_2_1_PS_AN  prem  C19     C  19   \n\n                                                   Text Type       SUP  SFF  \\\n0     Ai sensi dell'art. 14 del d.lgs.546/92, se l'o...    L       NaN  NaN   \n1     Se il ricorso non è stato    proposto da o nei...    L       NaN  NaN   \n2     Secondo condivisa e costante giurisprudenza (C...    L       NaN  NaN   \n3     Tuttavia, nel caso qui in esame, la Comm/ne no...    L  [A3, A4]  NaN   \n4     A tal proposito si ricorda che la Corte cost. ...    L       NaN  NaN   \n...                                                 ...  ...       ...  ...   \n1309  Sotto questo profilo i Compro Oro sono sottopo...    L       NaN  NaN   \n1310  Tale comunicazione ha luogo quando i destinata...    L       NaN  NaN   \n1311  Il Ministro dell'interno, con decreto del 17 f...    L       NaN  NaN   \n1312  Tra i soggetti destinatari del decreto sono ri...    L       NaN  NaN   \n1313  In conclusione, per quanto fin qui esposto, i ...    L            NaN   \n\n      ATT  INH REPH         Scheme                        FullChainID  \\\n0     NaN  NaN  NaN           Rule  2013_40_VAT_OPAM_2_REM_MB_PS_AN_A   \n1     NaN  NaN  NaN           Itpr  2013_40_VAT_OPAM_2_REM_MB_PS_AN_A   \n2     NaN  NaN  NaN           Rule    2018_847_VAT_OP_2_-1_MB_AF_AN_A   \n3     NaN  NaN  NaN           Itpr    2018_847_VAT_OP_2_-1_MB_AF_AN_A   \n4     NaN  NaN  NaN           Prec    2018_847_VAT_OP_2_-1_MB_AF_AN_A   \n...   ...  ...  ...            ...                                ...   \n1309  NaN  NaN  NaN           Rule     2021_6075_VAT_OPAM_2_1_PS_AN_C   \n1310  NaN  NaN  NaN           Rule     2021_6075_VAT_OPAM_2_1_PS_AN_C   \n1311  NaN  NaN  NaN           Rule     2021_6075_VAT_OPAM_2_1_PS_AN_C   \n1312  NaN  NaN  NaN  [Class, Rule]     2021_6075_VAT_OPAM_2_1_PS_AN_C   \n1313  NaN  NaN  NaN          Class     2021_6075_VAT_OPAM_2_1_PS_AN_C   \n\n                                               Previous     Scheme2  \n0      Ai sensi dell'art. 14 del d.lgs.546/92, se l'...        Rule  \n1      Se il ricorso non è stato\\n    proposto da o ...        Itpr  \n2     Secondo condivisa e costante giurisprudenza (C...        Rule  \n3     Tuttavia, nel caso qui in esame, la Comm/ne no...        Itpr  \n4     A tal proposito si ricorda che la Corte cost. ...        Prec  \n...                                                 ...         ...  \n1309  Sotto questo profilo i Compro Oro sono sottopo...        Rule  \n1310  Tale comunicazione ha luogo quando i destinata...        Rule  \n1311  Il Ministro dell'interno, con decreto del 17 f...        Rule  \n1312  Tra i soggetti destinatari del decreto sono ri...  Class,Rule  \n1313  In conclusione, per quanto fin qui esposto, i ...       Class  \n\n[1314 rows x 16 columns]",
            "text/html": "<div>\n<style scoped>\n    .dataframe tbody tr th:only-of-type {\n        vertical-align: middle;\n    }\n\n    .dataframe tbody tr th {\n        vertical-align: top;\n    }\n\n    .dataframe thead th {\n        text-align: right;\n    }\n</style>\n<table border=\"1\" class=\"dataframe\">\n  <thead>\n    <tr style=\"text-align: right;\">\n      <th></th>\n      <th>Document</th>\n      <th>Name</th>\n      <th>Id</th>\n      <th>Chain</th>\n      <th>Num</th>\n      <th>Text</th>\n      <th>Type</th>\n      <th>SUP</th>\n      <th>SFF</th>\n      <th>ATT</th>\n      <th>INH</th>\n      <th>REPH</th>\n      <th>Scheme</th>\n      <th>FullChainID</th>\n      <th>Previous</th>\n      <th>Scheme2</th>\n    </tr>\n  </thead>\n  <tbody>\n    <tr>\n      <th>0</th>\n      <td>2013_40_VAT_OPAM_2_REM_MB_PS_AN</td>\n      <td>prem</td>\n      <td>A2</td>\n      <td>A</td>\n      <td>2</td>\n      <td>Ai sensi dell'art. 14 del d.lgs.546/92, se l'o...</td>\n      <td>L</td>\n      <td>NaN</td>\n      <td>NaN</td>\n      <td>NaN</td>\n      <td>NaN</td>\n      <td>NaN</td>\n      <td>Rule</td>\n      <td>2013_40_VAT_OPAM_2_REM_MB_PS_AN_A</td>\n      <td>Ai sensi dell'art. 14 del d.lgs.546/92, se l'...</td>\n      <td>Rule</td>\n    </tr>\n    <tr>\n      <th>1</th>\n      <td>2013_40_VAT_OPAM_2_REM_MB_PS_AN</td>\n      <td>prem</td>\n      <td>A3</td>\n      <td>A</td>\n      <td>3</td>\n      <td>Se il ricorso non è stato    proposto da o nei...</td>\n      <td>L</td>\n      <td>NaN</td>\n      <td>NaN</td>\n      <td>NaN</td>\n      <td>NaN</td>\n      <td>NaN</td>\n      <td>Itpr</td>\n      <td>2013_40_VAT_OPAM_2_REM_MB_PS_AN_A</td>\n      <td>Se il ricorso non è stato\\n    proposto da o ...</td>\n      <td>Itpr</td>\n    </tr>\n    <tr>\n      <th>2</th>\n      <td>2018_847_VAT_OP_2_-1_MB_AF_AN</td>\n      <td>prem</td>\n      <td>A1</td>\n      <td>A</td>\n      <td>1</td>\n      <td>Secondo condivisa e costante giurisprudenza (C...</td>\n      <td>L</td>\n      <td>NaN</td>\n      <td>NaN</td>\n      <td>NaN</td>\n      <td>NaN</td>\n      <td>NaN</td>\n      <td>Rule</td>\n      <td>2018_847_VAT_OP_2_-1_MB_AF_AN_A</td>\n      <td>Secondo condivisa e costante giurisprudenza (C...</td>\n      <td>Rule</td>\n    </tr>\n    <tr>\n      <th>3</th>\n      <td>2018_847_VAT_OP_2_-1_MB_AF_AN</td>\n      <td>prem</td>\n      <td>A2</td>\n      <td>A</td>\n      <td>2</td>\n      <td>Tuttavia, nel caso qui in esame, la Comm/ne no...</td>\n      <td>L</td>\n      <td>[A3, A4]</td>\n      <td>NaN</td>\n      <td>NaN</td>\n      <td>NaN</td>\n      <td>NaN</td>\n      <td>Itpr</td>\n      <td>2018_847_VAT_OP_2_-1_MB_AF_AN_A</td>\n      <td>Tuttavia, nel caso qui in esame, la Comm/ne no...</td>\n      <td>Itpr</td>\n    </tr>\n    <tr>\n      <th>4</th>\n      <td>2018_847_VAT_OP_2_-1_MB_AF_AN</td>\n      <td>prem</td>\n      <td>A3</td>\n      <td>A</td>\n      <td>3</td>\n      <td>A tal proposito si ricorda che la Corte cost. ...</td>\n      <td>L</td>\n      <td>NaN</td>\n      <td>NaN</td>\n      <td>NaN</td>\n      <td>NaN</td>\n      <td>NaN</td>\n      <td>Prec</td>\n      <td>2018_847_VAT_OP_2_-1_MB_AF_AN_A</td>\n      <td>A tal proposito si ricorda che la Corte cost. ...</td>\n      <td>Prec</td>\n    </tr>\n    <tr>\n      <th>...</th>\n      <td>...</td>\n      <td>...</td>\n      <td>...</td>\n      <td>...</td>\n      <td>...</td>\n      <td>...</td>\n      <td>...</td>\n      <td>...</td>\n      <td>...</td>\n      <td>...</td>\n      <td>...</td>\n      <td>...</td>\n      <td>...</td>\n      <td>...</td>\n      <td>...</td>\n      <td>...</td>\n    </tr>\n    <tr>\n      <th>1309</th>\n      <td>2021_6075_VAT_OPAM_2_1_PS_AN</td>\n      <td>prem</td>\n      <td>C15</td>\n      <td>C</td>\n      <td>15</td>\n      <td>Sotto questo profilo i Compro Oro sono sottopo...</td>\n      <td>L</td>\n      <td>NaN</td>\n      <td>NaN</td>\n      <td>NaN</td>\n      <td>NaN</td>\n      <td>NaN</td>\n      <td>Rule</td>\n      <td>2021_6075_VAT_OPAM_2_1_PS_AN_C</td>\n      <td>Sotto questo profilo i Compro Oro sono sottopo...</td>\n      <td>Rule</td>\n    </tr>\n    <tr>\n      <th>1310</th>\n      <td>2021_6075_VAT_OPAM_2_1_PS_AN</td>\n      <td>prem</td>\n      <td>C16</td>\n      <td>C</td>\n      <td>16</td>\n      <td>Tale comunicazione ha luogo quando i destinata...</td>\n      <td>L</td>\n      <td>NaN</td>\n      <td>NaN</td>\n      <td>NaN</td>\n      <td>NaN</td>\n      <td>NaN</td>\n      <td>Rule</td>\n      <td>2021_6075_VAT_OPAM_2_1_PS_AN_C</td>\n      <td>Tale comunicazione ha luogo quando i destinata...</td>\n      <td>Rule</td>\n    </tr>\n    <tr>\n      <th>1311</th>\n      <td>2021_6075_VAT_OPAM_2_1_PS_AN</td>\n      <td>prem</td>\n      <td>C17</td>\n      <td>C</td>\n      <td>17</td>\n      <td>Il Ministro dell'interno, con decreto del 17 f...</td>\n      <td>L</td>\n      <td>NaN</td>\n      <td>NaN</td>\n      <td>NaN</td>\n      <td>NaN</td>\n      <td>NaN</td>\n      <td>Rule</td>\n      <td>2021_6075_VAT_OPAM_2_1_PS_AN_C</td>\n      <td>Il Ministro dell'interno, con decreto del 17 f...</td>\n      <td>Rule</td>\n    </tr>\n    <tr>\n      <th>1312</th>\n      <td>2021_6075_VAT_OPAM_2_1_PS_AN</td>\n      <td>prem</td>\n      <td>C18</td>\n      <td>C</td>\n      <td>18</td>\n      <td>Tra i soggetti destinatari del decreto sono ri...</td>\n      <td>L</td>\n      <td>NaN</td>\n      <td>NaN</td>\n      <td>NaN</td>\n      <td>NaN</td>\n      <td>NaN</td>\n      <td>[Class, Rule]</td>\n      <td>2021_6075_VAT_OPAM_2_1_PS_AN_C</td>\n      <td>Tra i soggetti destinatari del decreto sono ri...</td>\n      <td>Class,Rule</td>\n    </tr>\n    <tr>\n      <th>1313</th>\n      <td>2021_6075_VAT_OPAM_2_1_PS_AN</td>\n      <td>prem</td>\n      <td>C19</td>\n      <td>C</td>\n      <td>19</td>\n      <td>In conclusione, per quanto fin qui esposto, i ...</td>\n      <td>L</td>\n      <td></td>\n      <td>NaN</td>\n      <td>NaN</td>\n      <td>NaN</td>\n      <td>NaN</td>\n      <td>Class</td>\n      <td>2021_6075_VAT_OPAM_2_1_PS_AN_C</td>\n      <td>In conclusione, per quanto fin qui esposto, i ...</td>\n      <td>Class</td>\n    </tr>\n  </tbody>\n</table>\n<p>1314 rows × 16 columns</p>\n</div>"
          },
          "metadata": {}
        }
      ],
      "execution_count": null
    },
    {
      "cell_type": "code",
      "source": [
        "a = df_sc.explode(['Scheme'])\n",
        "sc_label_count = a['Scheme'].value_counts()\n",
        "remove_c = sc_label_count[sc_label_count < 15]\n",
        "list(remove_c.index)\n"
      ],
      "metadata": {
        "execution": {
          "iopub.status.busy": "2024-11-16T21:52:00.346794Z",
          "iopub.execute_input": "2024-11-16T21:52:00.347111Z",
          "iopub.status.idle": "2024-11-16T21:52:00.365157Z",
          "shell.execute_reply.started": "2024-11-16T21:52:00.347085Z",
          "shell.execute_reply": "2024-11-16T21:52:00.364049Z"
        },
        "trusted": true,
        "id": "1LIwIKbAH6Xk",
        "outputId": "b52ea3e3-7c43-4d4f-83e4-1ae63fbaca74"
      },
      "outputs": [
        {
          "execution_count": 24,
          "output_type": "execute_result",
          "data": {
            "text/plain": "['Lit', 'Abs', 'Psy', 'Acon']"
          },
          "metadata": {}
        }
      ],
      "execution_count": null
    },
    {
      "cell_type": "code",
      "source": [
        "from sklearn.preprocessing import MultiLabelBinarizer\n",
        "\n",
        "mlb = MultiLabelBinarizer()\n",
        "\n",
        "mlb_result = mlb.fit_transform([str(df_sc.loc[i,'Scheme2']).split(',') for i in range(len(df_sc))])\n",
        "\n",
        "df_sc_final1 = pd.concat([df_sc,pd.DataFrame(mlb_result,columns=list(mlb.classes_))],axis=1)\n",
        "\n",
        "df_sc_final1"
      ],
      "metadata": {
        "colab": {
          "base_uri": "https://localhost:8080/",
          "height": 999
        },
        "id": "Wj-tkw6Bk6Gc",
        "outputId": "e97aab24-813d-4510-a35a-b21620ddd198",
        "execution": {
          "iopub.status.busy": "2024-11-16T21:52:00.451598Z",
          "iopub.execute_input": "2024-11-16T21:52:00.452288Z",
          "iopub.status.idle": "2024-11-16T21:52:00.500137Z",
          "shell.execute_reply.started": "2024-11-16T21:52:00.452263Z",
          "shell.execute_reply": "2024-11-16T21:52:00.499324Z"
        },
        "trusted": true
      },
      "outputs": [
        {
          "execution_count": 25,
          "output_type": "execute_result",
          "data": {
            "text/plain": "                             Document  Name   Id Chain Num  \\\n0     2013_40_VAT_OPAM_2_REM_MB_PS_AN  prem   A2     A   2   \n1     2013_40_VAT_OPAM_2_REM_MB_PS_AN  prem   A3     A   3   \n2       2018_847_VAT_OP_2_-1_MB_AF_AN  prem   A1     A   1   \n3       2018_847_VAT_OP_2_-1_MB_AF_AN  prem   A2     A   2   \n4       2018_847_VAT_OP_2_-1_MB_AF_AN  prem   A3     A   3   \n...                               ...   ...  ...   ...  ..   \n1309     2021_6075_VAT_OPAM_2_1_PS_AN  prem  C15     C  15   \n1310     2021_6075_VAT_OPAM_2_1_PS_AN  prem  C16     C  16   \n1311     2021_6075_VAT_OPAM_2_1_PS_AN  prem  C17     C  17   \n1312     2021_6075_VAT_OPAM_2_1_PS_AN  prem  C18     C  18   \n1313     2021_6075_VAT_OPAM_2_1_PS_AN  prem  C19     C  19   \n\n                                                   Text Type       SUP  SFF  \\\n0     Ai sensi dell'art. 14 del d.lgs.546/92, se l'o...    L       NaN  NaN   \n1     Se il ricorso non è stato    proposto da o nei...    L       NaN  NaN   \n2     Secondo condivisa e costante giurisprudenza (C...    L       NaN  NaN   \n3     Tuttavia, nel caso qui in esame, la Comm/ne no...    L  [A3, A4]  NaN   \n4     A tal proposito si ricorda che la Corte cost. ...    L       NaN  NaN   \n...                                                 ...  ...       ...  ...   \n1309  Sotto questo profilo i Compro Oro sono sottopo...    L       NaN  NaN   \n1310  Tale comunicazione ha luogo quando i destinata...    L       NaN  NaN   \n1311  Il Ministro dell'interno, con decreto del 17 f...    L       NaN  NaN   \n1312  Tra i soggetti destinatari del decreto sono ri...    L       NaN  NaN   \n1313  In conclusione, per quanto fin qui esposto, i ...    L            NaN   \n\n      ATT  ... Aut Class Itpr Lit Prec Princ  Psy  Rule  Syst  Tele  \n0     NaN  ...   0     0    0   0    0     0    0     1     0     0  \n1     NaN  ...   0     0    1   0    0     0    0     0     0     0  \n2     NaN  ...   0     0    0   0    0     0    0     1     0     0  \n3     NaN  ...   0     0    1   0    0     0    0     0     0     0  \n4     NaN  ...   0     0    0   0    1     0    0     0     0     0  \n...   ...  ...  ..   ...  ...  ..  ...   ...  ...   ...   ...   ...  \n1309  NaN  ...   0     0    0   0    0     0    0     1     0     0  \n1310  NaN  ...   0     0    0   0    0     0    0     1     0     0  \n1311  NaN  ...   0     0    0   0    0     0    0     1     0     0  \n1312  NaN  ...   0     1    0   0    0     0    0     1     0     0  \n1313  NaN  ...   0     1    0   0    0     0    0     0     0     0  \n\n[1314 rows x 28 columns]",
            "text/html": "<div>\n<style scoped>\n    .dataframe tbody tr th:only-of-type {\n        vertical-align: middle;\n    }\n\n    .dataframe tbody tr th {\n        vertical-align: top;\n    }\n\n    .dataframe thead th {\n        text-align: right;\n    }\n</style>\n<table border=\"1\" class=\"dataframe\">\n  <thead>\n    <tr style=\"text-align: right;\">\n      <th></th>\n      <th>Document</th>\n      <th>Name</th>\n      <th>Id</th>\n      <th>Chain</th>\n      <th>Num</th>\n      <th>Text</th>\n      <th>Type</th>\n      <th>SUP</th>\n      <th>SFF</th>\n      <th>ATT</th>\n      <th>...</th>\n      <th>Aut</th>\n      <th>Class</th>\n      <th>Itpr</th>\n      <th>Lit</th>\n      <th>Prec</th>\n      <th>Princ</th>\n      <th>Psy</th>\n      <th>Rule</th>\n      <th>Syst</th>\n      <th>Tele</th>\n    </tr>\n  </thead>\n  <tbody>\n    <tr>\n      <th>0</th>\n      <td>2013_40_VAT_OPAM_2_REM_MB_PS_AN</td>\n      <td>prem</td>\n      <td>A2</td>\n      <td>A</td>\n      <td>2</td>\n      <td>Ai sensi dell'art. 14 del d.lgs.546/92, se l'o...</td>\n      <td>L</td>\n      <td>NaN</td>\n      <td>NaN</td>\n      <td>NaN</td>\n      <td>...</td>\n      <td>0</td>\n      <td>0</td>\n      <td>0</td>\n      <td>0</td>\n      <td>0</td>\n      <td>0</td>\n      <td>0</td>\n      <td>1</td>\n      <td>0</td>\n      <td>0</td>\n    </tr>\n    <tr>\n      <th>1</th>\n      <td>2013_40_VAT_OPAM_2_REM_MB_PS_AN</td>\n      <td>prem</td>\n      <td>A3</td>\n      <td>A</td>\n      <td>3</td>\n      <td>Se il ricorso non è stato    proposto da o nei...</td>\n      <td>L</td>\n      <td>NaN</td>\n      <td>NaN</td>\n      <td>NaN</td>\n      <td>...</td>\n      <td>0</td>\n      <td>0</td>\n      <td>1</td>\n      <td>0</td>\n      <td>0</td>\n      <td>0</td>\n      <td>0</td>\n      <td>0</td>\n      <td>0</td>\n      <td>0</td>\n    </tr>\n    <tr>\n      <th>2</th>\n      <td>2018_847_VAT_OP_2_-1_MB_AF_AN</td>\n      <td>prem</td>\n      <td>A1</td>\n      <td>A</td>\n      <td>1</td>\n      <td>Secondo condivisa e costante giurisprudenza (C...</td>\n      <td>L</td>\n      <td>NaN</td>\n      <td>NaN</td>\n      <td>NaN</td>\n      <td>...</td>\n      <td>0</td>\n      <td>0</td>\n      <td>0</td>\n      <td>0</td>\n      <td>0</td>\n      <td>0</td>\n      <td>0</td>\n      <td>1</td>\n      <td>0</td>\n      <td>0</td>\n    </tr>\n    <tr>\n      <th>3</th>\n      <td>2018_847_VAT_OP_2_-1_MB_AF_AN</td>\n      <td>prem</td>\n      <td>A2</td>\n      <td>A</td>\n      <td>2</td>\n      <td>Tuttavia, nel caso qui in esame, la Comm/ne no...</td>\n      <td>L</td>\n      <td>[A3, A4]</td>\n      <td>NaN</td>\n      <td>NaN</td>\n      <td>...</td>\n      <td>0</td>\n      <td>0</td>\n      <td>1</td>\n      <td>0</td>\n      <td>0</td>\n      <td>0</td>\n      <td>0</td>\n      <td>0</td>\n      <td>0</td>\n      <td>0</td>\n    </tr>\n    <tr>\n      <th>4</th>\n      <td>2018_847_VAT_OP_2_-1_MB_AF_AN</td>\n      <td>prem</td>\n      <td>A3</td>\n      <td>A</td>\n      <td>3</td>\n      <td>A tal proposito si ricorda che la Corte cost. ...</td>\n      <td>L</td>\n      <td>NaN</td>\n      <td>NaN</td>\n      <td>NaN</td>\n      <td>...</td>\n      <td>0</td>\n      <td>0</td>\n      <td>0</td>\n      <td>0</td>\n      <td>1</td>\n      <td>0</td>\n      <td>0</td>\n      <td>0</td>\n      <td>0</td>\n      <td>0</td>\n    </tr>\n    <tr>\n      <th>...</th>\n      <td>...</td>\n      <td>...</td>\n      <td>...</td>\n      <td>...</td>\n      <td>...</td>\n      <td>...</td>\n      <td>...</td>\n      <td>...</td>\n      <td>...</td>\n      <td>...</td>\n      <td>...</td>\n      <td>...</td>\n      <td>...</td>\n      <td>...</td>\n      <td>...</td>\n      <td>...</td>\n      <td>...</td>\n      <td>...</td>\n      <td>...</td>\n      <td>...</td>\n      <td>...</td>\n    </tr>\n    <tr>\n      <th>1309</th>\n      <td>2021_6075_VAT_OPAM_2_1_PS_AN</td>\n      <td>prem</td>\n      <td>C15</td>\n      <td>C</td>\n      <td>15</td>\n      <td>Sotto questo profilo i Compro Oro sono sottopo...</td>\n      <td>L</td>\n      <td>NaN</td>\n      <td>NaN</td>\n      <td>NaN</td>\n      <td>...</td>\n      <td>0</td>\n      <td>0</td>\n      <td>0</td>\n      <td>0</td>\n      <td>0</td>\n      <td>0</td>\n      <td>0</td>\n      <td>1</td>\n      <td>0</td>\n      <td>0</td>\n    </tr>\n    <tr>\n      <th>1310</th>\n      <td>2021_6075_VAT_OPAM_2_1_PS_AN</td>\n      <td>prem</td>\n      <td>C16</td>\n      <td>C</td>\n      <td>16</td>\n      <td>Tale comunicazione ha luogo quando i destinata...</td>\n      <td>L</td>\n      <td>NaN</td>\n      <td>NaN</td>\n      <td>NaN</td>\n      <td>...</td>\n      <td>0</td>\n      <td>0</td>\n      <td>0</td>\n      <td>0</td>\n      <td>0</td>\n      <td>0</td>\n      <td>0</td>\n      <td>1</td>\n      <td>0</td>\n      <td>0</td>\n    </tr>\n    <tr>\n      <th>1311</th>\n      <td>2021_6075_VAT_OPAM_2_1_PS_AN</td>\n      <td>prem</td>\n      <td>C17</td>\n      <td>C</td>\n      <td>17</td>\n      <td>Il Ministro dell'interno, con decreto del 17 f...</td>\n      <td>L</td>\n      <td>NaN</td>\n      <td>NaN</td>\n      <td>NaN</td>\n      <td>...</td>\n      <td>0</td>\n      <td>0</td>\n      <td>0</td>\n      <td>0</td>\n      <td>0</td>\n      <td>0</td>\n      <td>0</td>\n      <td>1</td>\n      <td>0</td>\n      <td>0</td>\n    </tr>\n    <tr>\n      <th>1312</th>\n      <td>2021_6075_VAT_OPAM_2_1_PS_AN</td>\n      <td>prem</td>\n      <td>C18</td>\n      <td>C</td>\n      <td>18</td>\n      <td>Tra i soggetti destinatari del decreto sono ri...</td>\n      <td>L</td>\n      <td>NaN</td>\n      <td>NaN</td>\n      <td>NaN</td>\n      <td>...</td>\n      <td>0</td>\n      <td>1</td>\n      <td>0</td>\n      <td>0</td>\n      <td>0</td>\n      <td>0</td>\n      <td>0</td>\n      <td>1</td>\n      <td>0</td>\n      <td>0</td>\n    </tr>\n    <tr>\n      <th>1313</th>\n      <td>2021_6075_VAT_OPAM_2_1_PS_AN</td>\n      <td>prem</td>\n      <td>C19</td>\n      <td>C</td>\n      <td>19</td>\n      <td>In conclusione, per quanto fin qui esposto, i ...</td>\n      <td>L</td>\n      <td></td>\n      <td>NaN</td>\n      <td>NaN</td>\n      <td>...</td>\n      <td>0</td>\n      <td>1</td>\n      <td>0</td>\n      <td>0</td>\n      <td>0</td>\n      <td>0</td>\n      <td>0</td>\n      <td>0</td>\n      <td>0</td>\n      <td>0</td>\n    </tr>\n  </tbody>\n</table>\n<p>1314 rows × 28 columns</p>\n</div>"
          },
          "metadata": {}
        }
      ],
      "execution_count": null
    },
    {
      "cell_type": "code",
      "source": [
        "sc_classes = mlb.classes_\n",
        "\n",
        "sc_classes"
      ],
      "metadata": {
        "colab": {
          "base_uri": "https://localhost:8080/"
        },
        "id": "BB7MJAesAyQf",
        "outputId": "38c94065-4df6-46f7-bc93-a97bb8149048",
        "execution": {
          "iopub.status.busy": "2024-11-16T21:52:00.671886Z",
          "iopub.execute_input": "2024-11-16T21:52:00.672523Z",
          "iopub.status.idle": "2024-11-16T21:52:00.678336Z",
          "shell.execute_reply.started": "2024-11-16T21:52:00.672498Z",
          "shell.execute_reply": "2024-11-16T21:52:00.677336Z"
        },
        "trusted": true
      },
      "outputs": [
        {
          "execution_count": 26,
          "output_type": "execute_result",
          "data": {
            "text/plain": "array(['Abs', 'Acon', 'Aut', 'Class', 'Itpr', 'Lit', 'Prec', 'Princ',\n       'Psy', 'Rule', 'Syst', 'Tele'], dtype=object)"
          },
          "metadata": {}
        }
      ],
      "execution_count": null
    },
    {
      "cell_type": "code",
      "source": [
        "df_sc_labels = df_sc_final1[mlb.classes_]\n",
        "\n",
        "df_sc_labels"
      ],
      "metadata": {
        "colab": {
          "base_uri": "https://localhost:8080/",
          "height": 423
        },
        "id": "9TonF3Yhk6Gc",
        "outputId": "d5aeddc8-05fb-4482-addb-f7251232b8b8",
        "execution": {
          "iopub.status.busy": "2024-11-16T21:52:00.920343Z",
          "iopub.execute_input": "2024-11-16T21:52:00.920997Z",
          "iopub.status.idle": "2024-11-16T21:52:00.935698Z",
          "shell.execute_reply.started": "2024-11-16T21:52:00.920973Z",
          "shell.execute_reply": "2024-11-16T21:52:00.934753Z"
        },
        "trusted": true
      },
      "outputs": [
        {
          "execution_count": 27,
          "output_type": "execute_result",
          "data": {
            "text/plain": "      Abs  Acon  Aut  Class  Itpr  Lit  Prec  Princ  Psy  Rule  Syst  Tele\n0       0     0    0      0     0    0     0      0    0     1     0     0\n1       0     0    0      0     1    0     0      0    0     0     0     0\n2       0     0    0      0     0    0     0      0    0     1     0     0\n3       0     0    0      0     1    0     0      0    0     0     0     0\n4       0     0    0      0     0    0     1      0    0     0     0     0\n...   ...   ...  ...    ...   ...  ...   ...    ...  ...   ...   ...   ...\n1309    0     0    0      0     0    0     0      0    0     1     0     0\n1310    0     0    0      0     0    0     0      0    0     1     0     0\n1311    0     0    0      0     0    0     0      0    0     1     0     0\n1312    0     0    0      1     0    0     0      0    0     1     0     0\n1313    0     0    0      1     0    0     0      0    0     0     0     0\n\n[1314 rows x 12 columns]",
            "text/html": "<div>\n<style scoped>\n    .dataframe tbody tr th:only-of-type {\n        vertical-align: middle;\n    }\n\n    .dataframe tbody tr th {\n        vertical-align: top;\n    }\n\n    .dataframe thead th {\n        text-align: right;\n    }\n</style>\n<table border=\"1\" class=\"dataframe\">\n  <thead>\n    <tr style=\"text-align: right;\">\n      <th></th>\n      <th>Abs</th>\n      <th>Acon</th>\n      <th>Aut</th>\n      <th>Class</th>\n      <th>Itpr</th>\n      <th>Lit</th>\n      <th>Prec</th>\n      <th>Princ</th>\n      <th>Psy</th>\n      <th>Rule</th>\n      <th>Syst</th>\n      <th>Tele</th>\n    </tr>\n  </thead>\n  <tbody>\n    <tr>\n      <th>0</th>\n      <td>0</td>\n      <td>0</td>\n      <td>0</td>\n      <td>0</td>\n      <td>0</td>\n      <td>0</td>\n      <td>0</td>\n      <td>0</td>\n      <td>0</td>\n      <td>1</td>\n      <td>0</td>\n      <td>0</td>\n    </tr>\n    <tr>\n      <th>1</th>\n      <td>0</td>\n      <td>0</td>\n      <td>0</td>\n      <td>0</td>\n      <td>1</td>\n      <td>0</td>\n      <td>0</td>\n      <td>0</td>\n      <td>0</td>\n      <td>0</td>\n      <td>0</td>\n      <td>0</td>\n    </tr>\n    <tr>\n      <th>2</th>\n      <td>0</td>\n      <td>0</td>\n      <td>0</td>\n      <td>0</td>\n      <td>0</td>\n      <td>0</td>\n      <td>0</td>\n      <td>0</td>\n      <td>0</td>\n      <td>1</td>\n      <td>0</td>\n      <td>0</td>\n    </tr>\n    <tr>\n      <th>3</th>\n      <td>0</td>\n      <td>0</td>\n      <td>0</td>\n      <td>0</td>\n      <td>1</td>\n      <td>0</td>\n      <td>0</td>\n      <td>0</td>\n      <td>0</td>\n      <td>0</td>\n      <td>0</td>\n      <td>0</td>\n    </tr>\n    <tr>\n      <th>4</th>\n      <td>0</td>\n      <td>0</td>\n      <td>0</td>\n      <td>0</td>\n      <td>0</td>\n      <td>0</td>\n      <td>1</td>\n      <td>0</td>\n      <td>0</td>\n      <td>0</td>\n      <td>0</td>\n      <td>0</td>\n    </tr>\n    <tr>\n      <th>...</th>\n      <td>...</td>\n      <td>...</td>\n      <td>...</td>\n      <td>...</td>\n      <td>...</td>\n      <td>...</td>\n      <td>...</td>\n      <td>...</td>\n      <td>...</td>\n      <td>...</td>\n      <td>...</td>\n      <td>...</td>\n    </tr>\n    <tr>\n      <th>1309</th>\n      <td>0</td>\n      <td>0</td>\n      <td>0</td>\n      <td>0</td>\n      <td>0</td>\n      <td>0</td>\n      <td>0</td>\n      <td>0</td>\n      <td>0</td>\n      <td>1</td>\n      <td>0</td>\n      <td>0</td>\n    </tr>\n    <tr>\n      <th>1310</th>\n      <td>0</td>\n      <td>0</td>\n      <td>0</td>\n      <td>0</td>\n      <td>0</td>\n      <td>0</td>\n      <td>0</td>\n      <td>0</td>\n      <td>0</td>\n      <td>1</td>\n      <td>0</td>\n      <td>0</td>\n    </tr>\n    <tr>\n      <th>1311</th>\n      <td>0</td>\n      <td>0</td>\n      <td>0</td>\n      <td>0</td>\n      <td>0</td>\n      <td>0</td>\n      <td>0</td>\n      <td>0</td>\n      <td>0</td>\n      <td>1</td>\n      <td>0</td>\n      <td>0</td>\n    </tr>\n    <tr>\n      <th>1312</th>\n      <td>0</td>\n      <td>0</td>\n      <td>0</td>\n      <td>1</td>\n      <td>0</td>\n      <td>0</td>\n      <td>0</td>\n      <td>0</td>\n      <td>0</td>\n      <td>1</td>\n      <td>0</td>\n      <td>0</td>\n    </tr>\n    <tr>\n      <th>1313</th>\n      <td>0</td>\n      <td>0</td>\n      <td>0</td>\n      <td>1</td>\n      <td>0</td>\n      <td>0</td>\n      <td>0</td>\n      <td>0</td>\n      <td>0</td>\n      <td>0</td>\n      <td>0</td>\n      <td>0</td>\n    </tr>\n  </tbody>\n</table>\n<p>1314 rows × 12 columns</p>\n</div>"
          },
          "metadata": {}
        }
      ],
      "execution_count": null
    },
    {
      "cell_type": "code",
      "source": [
        "#mlb.inverse_transform(np.array(df_sc_labels))"
      ],
      "metadata": {
        "execution": {
          "iopub.status.busy": "2024-11-16T21:52:01.191853Z",
          "iopub.execute_input": "2024-11-16T21:52:01.192158Z",
          "iopub.status.idle": "2024-11-16T21:52:01.196332Z",
          "shell.execute_reply.started": "2024-11-16T21:52:01.192116Z",
          "shell.execute_reply": "2024-11-16T21:52:01.195333Z"
        },
        "trusted": true,
        "id": "8gUsyqhvH6Xo"
      },
      "outputs": [],
      "execution_count": null
    },
    {
      "cell_type": "code",
      "source": [
        "sc_label_count = df_sc_labels.sum().sort_values(ascending=False)\n",
        "\n",
        "sc_label_count"
      ],
      "metadata": {
        "execution": {
          "iopub.status.busy": "2024-11-16T21:52:01.441463Z",
          "iopub.execute_input": "2024-11-16T21:52:01.441752Z",
          "iopub.status.idle": "2024-11-16T21:52:01.449622Z",
          "shell.execute_reply.started": "2024-11-16T21:52:01.441727Z",
          "shell.execute_reply": "2024-11-16T21:52:01.448651Z"
        },
        "trusted": true,
        "id": "nJTSXVzNH6Xp",
        "outputId": "74c9d446-3250-42a0-816b-2db5ad2f70d6"
      },
      "outputs": [
        {
          "execution_count": 29,
          "output_type": "execute_result",
          "data": {
            "text/plain": "Rule     575\nPrec     419\nItpr     314\nPrinc    144\nClass    100\nAut       72\nSyst      28\nTele      18\nLit       12\nAbs        8\nPsy        7\nAcon       1\ndtype: int64"
          },
          "metadata": {}
        }
      ],
      "execution_count": null
    },
    {
      "cell_type": "code",
      "source": [
        "y = np.array(sc_label_count)\n",
        "\n",
        "#x = np.array(sc_label_count.index)\n",
        "\n",
        "#added values on x only for convenience\n",
        "\n",
        "x = [sc_label_count.index[i] + ': ' + str(sc_label_count.iloc[i]) for i in range(len(sc_label_count))]\n",
        "\n",
        "plt.figure(figsize=(13,5))\n",
        "\n",
        "plt.bar(x, height=y)"
      ],
      "metadata": {
        "colab": {
          "base_uri": "https://localhost:8080/",
          "height": 464
        },
        "id": "6RKfMPitk6Gf",
        "outputId": "08dcacef-ec6c-4100-c89d-02409680e473",
        "execution": {
          "iopub.status.busy": "2024-11-16T21:52:01.656609Z",
          "iopub.execute_input": "2024-11-16T21:52:01.657051Z",
          "iopub.status.idle": "2024-11-16T21:52:01.994359Z",
          "shell.execute_reply.started": "2024-11-16T21:52:01.657015Z",
          "shell.execute_reply": "2024-11-16T21:52:01.982754Z"
        },
        "trusted": true
      },
      "outputs": [
        {
          "execution_count": 30,
          "output_type": "execute_result",
          "data": {
            "text/plain": "<BarContainer object of 12 artists>"
          },
          "metadata": {}
        },
        {
          "output_type": "display_data",
          "data": {
            "text/plain": "<Figure size 1300x500 with 1 Axes>",
            "image/png": "[encoded data removed]"
          },
          "metadata": {}
        }
      ],
      "execution_count": null
    },
    {
      "cell_type": "code",
      "source": [
        "df_sc_final1[df_sc_final1[\"Scheme\"].isin(bad_sc_classes)].reset_index()['Scheme']"
      ],
      "metadata": {
        "execution": {
          "iopub.status.busy": "2024-11-16T21:52:02.001805Z",
          "iopub.execute_input": "2024-11-16T21:52:02.002104Z",
          "iopub.status.idle": "2024-11-16T21:52:02.551738Z",
          "shell.execute_reply.started": "2024-11-16T21:52:02.002078Z",
          "shell.execute_reply": "2024-11-16T21:52:02.550303Z"
        },
        "trusted": true,
        "id": "jbgy9MuFH6Xp",
        "outputId": "a9e975ed-a79e-4cde-fd54-15eb789a3214"
      },
      "outputs": [
        {
          "traceback": [
            "\u001b[0;31m---------------------------------------------------------------------------\u001b[0m",
            "\u001b[0;31mNameError\u001b[0m                                 Traceback (most recent call last)",
            "Cell \u001b[0;32mIn[31], line 1\u001b[0m\n\u001b[0;32m----> 1\u001b[0m df_sc_final1[df_sc_final1[\u001b[38;5;124m\"\u001b[39m\u001b[38;5;124mScheme\u001b[39m\u001b[38;5;124m\"\u001b[39m]\u001b[38;5;241m.\u001b[39misin(\u001b[43mbad_sc_classes\u001b[49m)]\u001b[38;5;241m.\u001b[39mreset_index()[\u001b[38;5;124m'\u001b[39m\u001b[38;5;124mScheme\u001b[39m\u001b[38;5;124m'\u001b[39m]\n",
            "\u001b[0;31mNameError\u001b[0m: name 'bad_sc_classes' is not defined"
          ],
          "ename": "NameError",
          "evalue": "name 'bad_sc_classes' is not defined",
          "output_type": "error"
        }
      ],
      "execution_count": null
    },
    {
      "cell_type": "code",
      "source": [],
      "metadata": {
        "trusted": true,
        "id": "x8ky3iSZH6Xq"
      },
      "outputs": [],
      "execution_count": null
    },
    {
      "cell_type": "code",
      "source": [
        "bad_sc_classes = sc_label_count.index[sc_label_count < 15]\n",
        "\n",
        "sc_classes = sc_label_count.index[sc_label_count >= 15]\n",
        "\n",
        "print(\"Removing classes with low number of instances: \"+', '.join(bad_sc_classes))\n",
        "\n",
        "print(\"Keeping classes with good number of instances: \"+', '.join(sc_classes))\n",
        "\n",
        "good_sc_columns = np.setdiff1d(sc_classes, bad_sc_classes)\n",
        "\n",
        "print(\"Remaining columns: \"+', '.join(good_sc_columns))\n",
        "\n",
        "#df_sc_final = df_sc_final1[~df_sc_final1[\"Scheme2\"].isin(bad_sc_classes)].drop(bad_sc_classes,axis=1).reset_index(drop=True)\n",
        "df_sc_final1"
      ],
      "metadata": {
        "colab": {
          "base_uri": "https://localhost:8080/"
        },
        "id": "BGYBwbnrcncC",
        "outputId": "41ffbc2d-2067-44cf-ec2e-83ca09bc1ea3",
        "execution": {
          "iopub.status.busy": "2024-11-16T21:52:02.773091Z",
          "iopub.execute_input": "2024-11-16T21:52:02.773408Z",
          "iopub.status.idle": "2024-11-16T21:52:02.802404Z",
          "shell.execute_reply.started": "2024-11-16T21:52:02.773366Z",
          "shell.execute_reply": "2024-11-16T21:52:02.801307Z"
        },
        "trusted": true
      },
      "outputs": [
        {
          "name": "stdout",
          "text": "Removing classes with low number of instances: Lit, Abs, Psy, Acon\nKeeping classes with good number of instances: Rule, Prec, Itpr, Princ, Class, Aut, Syst, Tele\nRemaining columns: Aut, Class, Itpr, Prec, Princ, Rule, Syst, Tele\n",
          "output_type": "stream"
        },
        {
          "execution_count": 32,
          "output_type": "execute_result",
          "data": {
            "text/plain": "                             Document  Name   Id Chain Num  \\\n0     2013_40_VAT_OPAM_2_REM_MB_PS_AN  prem   A2     A   2   \n1     2013_40_VAT_OPAM_2_REM_MB_PS_AN  prem   A3     A   3   \n2       2018_847_VAT_OP_2_-1_MB_AF_AN  prem   A1     A   1   \n3       2018_847_VAT_OP_2_-1_MB_AF_AN  prem   A2     A   2   \n4       2018_847_VAT_OP_2_-1_MB_AF_AN  prem   A3     A   3   \n...                               ...   ...  ...   ...  ..   \n1309     2021_6075_VAT_OPAM_2_1_PS_AN  prem  C15     C  15   \n1310     2021_6075_VAT_OPAM_2_1_PS_AN  prem  C16     C  16   \n1311     2021_6075_VAT_OPAM_2_1_PS_AN  prem  C17     C  17   \n1312     2021_6075_VAT_OPAM_2_1_PS_AN  prem  C18     C  18   \n1313     2021_6075_VAT_OPAM_2_1_PS_AN  prem  C19     C  19   \n\n                                                   Text Type       SUP  SFF  \\\n0     Ai sensi dell'art. 14 del d.lgs.546/92, se l'o...    L       NaN  NaN   \n1     Se il ricorso non è stato    proposto da o nei...    L       NaN  NaN   \n2     Secondo condivisa e costante giurisprudenza (C...    L       NaN  NaN   \n3     Tuttavia, nel caso qui in esame, la Comm/ne no...    L  [A3, A4]  NaN   \n4     A tal proposito si ricorda che la Corte cost. ...    L       NaN  NaN   \n...                                                 ...  ...       ...  ...   \n1309  Sotto questo profilo i Compro Oro sono sottopo...    L       NaN  NaN   \n1310  Tale comunicazione ha luogo quando i destinata...    L       NaN  NaN   \n1311  Il Ministro dell'interno, con decreto del 17 f...    L       NaN  NaN   \n1312  Tra i soggetti destinatari del decreto sono ri...    L       NaN  NaN   \n1313  In conclusione, per quanto fin qui esposto, i ...    L            NaN   \n\n      ATT  ... Aut Class Itpr Lit Prec Princ  Psy  Rule  Syst  Tele  \n0     NaN  ...   0     0    0   0    0     0    0     1     0     0  \n1     NaN  ...   0     0    1   0    0     0    0     0     0     0  \n2     NaN  ...   0     0    0   0    0     0    0     1     0     0  \n3     NaN  ...   0     0    1   0    0     0    0     0     0     0  \n4     NaN  ...   0     0    0   0    1     0    0     0     0     0  \n...   ...  ...  ..   ...  ...  ..  ...   ...  ...   ...   ...   ...  \n1309  NaN  ...   0     0    0   0    0     0    0     1     0     0  \n1310  NaN  ...   0     0    0   0    0     0    0     1     0     0  \n1311  NaN  ...   0     0    0   0    0     0    0     1     0     0  \n1312  NaN  ...   0     1    0   0    0     0    0     1     0     0  \n1313  NaN  ...   0     1    0   0    0     0    0     0     0     0  \n\n[1314 rows x 28 columns]",
            "text/html": "<div>\n<style scoped>\n    .dataframe tbody tr th:only-of-type {\n        vertical-align: middle;\n    }\n\n    .dataframe tbody tr th {\n        vertical-align: top;\n    }\n\n    .dataframe thead th {\n        text-align: right;\n    }\n</style>\n<table border=\"1\" class=\"dataframe\">\n  <thead>\n    <tr style=\"text-align: right;\">\n      <th></th>\n      <th>Document</th>\n      <th>Name</th>\n      <th>Id</th>\n      <th>Chain</th>\n      <th>Num</th>\n      <th>Text</th>\n      <th>Type</th>\n      <th>SUP</th>\n      <th>SFF</th>\n      <th>ATT</th>\n      <th>...</th>\n      <th>Aut</th>\n      <th>Class</th>\n      <th>Itpr</th>\n      <th>Lit</th>\n      <th>Prec</th>\n      <th>Princ</th>\n      <th>Psy</th>\n      <th>Rule</th>\n      <th>Syst</th>\n      <th>Tele</th>\n    </tr>\n  </thead>\n  <tbody>\n    <tr>\n      <th>0</th>\n      <td>2013_40_VAT_OPAM_2_REM_MB_PS_AN</td>\n      <td>prem</td>\n      <td>A2</td>\n      <td>A</td>\n      <td>2</td>\n      <td>Ai sensi dell'art. 14 del d.lgs.546/92, se l'o...</td>\n      <td>L</td>\n      <td>NaN</td>\n      <td>NaN</td>\n      <td>NaN</td>\n      <td>...</td>\n      <td>0</td>\n      <td>0</td>\n      <td>0</td>\n      <td>0</td>\n      <td>0</td>\n      <td>0</td>\n      <td>0</td>\n      <td>1</td>\n      <td>0</td>\n      <td>0</td>\n    </tr>\n    <tr>\n      <th>1</th>\n      <td>2013_40_VAT_OPAM_2_REM_MB_PS_AN</td>\n      <td>prem</td>\n      <td>A3</td>\n      <td>A</td>\n      <td>3</td>\n      <td>Se il ricorso non è stato    proposto da o nei...</td>\n      <td>L</td>\n      <td>NaN</td>\n      <td>NaN</td>\n      <td>NaN</td>\n      <td>...</td>\n      <td>0</td>\n      <td>0</td>\n      <td>1</td>\n      <td>0</td>\n      <td>0</td>\n      <td>0</td>\n      <td>0</td>\n      <td>0</td>\n      <td>0</td>\n      <td>0</td>\n    </tr>\n    <tr>\n      <th>2</th>\n      <td>2018_847_VAT_OP_2_-1_MB_AF_AN</td>\n      <td>prem</td>\n      <td>A1</td>\n      <td>A</td>\n      <td>1</td>\n      <td>Secondo condivisa e costante giurisprudenza (C...</td>\n      <td>L</td>\n      <td>NaN</td>\n      <td>NaN</td>\n      <td>NaN</td>\n      <td>...</td>\n      <td>0</td>\n      <td>0</td>\n      <td>0</td>\n      <td>0</td>\n      <td>0</td>\n      <td>0</td>\n      <td>0</td>\n      <td>1</td>\n      <td>0</td>\n      <td>0</td>\n    </tr>\n    <tr>\n      <th>3</th>\n      <td>2018_847_VAT_OP_2_-1_MB_AF_AN</td>\n      <td>prem</td>\n      <td>A2</td>\n      <td>A</td>\n      <td>2</td>\n      <td>Tuttavia, nel caso qui in esame, la Comm/ne no...</td>\n      <td>L</td>\n      <td>[A3, A4]</td>\n      <td>NaN</td>\n      <td>NaN</td>\n      <td>...</td>\n      <td>0</td>\n      <td>0</td>\n      <td>1</td>\n      <td>0</td>\n      <td>0</td>\n      <td>0</td>\n      <td>0</td>\n      <td>0</td>\n      <td>0</td>\n      <td>0</td>\n    </tr>\n    <tr>\n      <th>4</th>\n      <td>2018_847_VAT_OP_2_-1_MB_AF_AN</td>\n      <td>prem</td>\n      <td>A3</td>\n      <td>A</td>\n      <td>3</td>\n      <td>A tal proposito si ricorda che la Corte cost. ...</td>\n      <td>L</td>\n      <td>NaN</td>\n      <td>NaN</td>\n      <td>NaN</td>\n      <td>...</td>\n      <td>0</td>\n      <td>0</td>\n      <td>0</td>\n      <td>0</td>\n      <td>1</td>\n      <td>0</td>\n      <td>0</td>\n      <td>0</td>\n      <td>0</td>\n      <td>0</td>\n    </tr>\n    <tr>\n      <th>...</th>\n      <td>...</td>\n      <td>...</td>\n      <td>...</td>\n      <td>...</td>\n      <td>...</td>\n      <td>...</td>\n      <td>...</td>\n      <td>...</td>\n      <td>...</td>\n      <td>...</td>\n      <td>...</td>\n      <td>...</td>\n      <td>...</td>\n      <td>...</td>\n      <td>...</td>\n      <td>...</td>\n      <td>...</td>\n      <td>...</td>\n      <td>...</td>\n      <td>...</td>\n      <td>...</td>\n    </tr>\n    <tr>\n      <th>1309</th>\n      <td>2021_6075_VAT_OPAM_2_1_PS_AN</td>\n      <td>prem</td>\n      <td>C15</td>\n      <td>C</td>\n      <td>15</td>\n      <td>Sotto questo profilo i Compro Oro sono sottopo...</td>\n      <td>L</td>\n      <td>NaN</td>\n      <td>NaN</td>\n      <td>NaN</td>\n      <td>...</td>\n      <td>0</td>\n      <td>0</td>\n      <td>0</td>\n      <td>0</td>\n      <td>0</td>\n      <td>0</td>\n      <td>0</td>\n      <td>1</td>\n      <td>0</td>\n      <td>0</td>\n    </tr>\n    <tr>\n      <th>1310</th>\n      <td>2021_6075_VAT_OPAM_2_1_PS_AN</td>\n      <td>prem</td>\n      <td>C16</td>\n      <td>C</td>\n      <td>16</td>\n      <td>Tale comunicazione ha luogo quando i destinata...</td>\n      <td>L</td>\n      <td>NaN</td>\n      <td>NaN</td>\n      <td>NaN</td>\n      <td>...</td>\n      <td>0</td>\n      <td>0</td>\n      <td>0</td>\n      <td>0</td>\n      <td>0</td>\n      <td>0</td>\n      <td>0</td>\n      <td>1</td>\n      <td>0</td>\n      <td>0</td>\n    </tr>\n    <tr>\n      <th>1311</th>\n      <td>2021_6075_VAT_OPAM_2_1_PS_AN</td>\n      <td>prem</td>\n      <td>C17</td>\n      <td>C</td>\n      <td>17</td>\n      <td>Il Ministro dell'interno, con decreto del 17 f...</td>\n      <td>L</td>\n      <td>NaN</td>\n      <td>NaN</td>\n      <td>NaN</td>\n      <td>...</td>\n      <td>0</td>\n      <td>0</td>\n      <td>0</td>\n      <td>0</td>\n      <td>0</td>\n      <td>0</td>\n      <td>0</td>\n      <td>1</td>\n      <td>0</td>\n      <td>0</td>\n    </tr>\n    <tr>\n      <th>1312</th>\n      <td>2021_6075_VAT_OPAM_2_1_PS_AN</td>\n      <td>prem</td>\n      <td>C18</td>\n      <td>C</td>\n      <td>18</td>\n      <td>Tra i soggetti destinatari del decreto sono ri...</td>\n      <td>L</td>\n      <td>NaN</td>\n      <td>NaN</td>\n      <td>NaN</td>\n      <td>...</td>\n      <td>0</td>\n      <td>1</td>\n      <td>0</td>\n      <td>0</td>\n      <td>0</td>\n      <td>0</td>\n      <td>0</td>\n      <td>1</td>\n      <td>0</td>\n      <td>0</td>\n    </tr>\n    <tr>\n      <th>1313</th>\n      <td>2021_6075_VAT_OPAM_2_1_PS_AN</td>\n      <td>prem</td>\n      <td>C19</td>\n      <td>C</td>\n      <td>19</td>\n      <td>In conclusione, per quanto fin qui esposto, i ...</td>\n      <td>L</td>\n      <td></td>\n      <td>NaN</td>\n      <td>NaN</td>\n      <td>...</td>\n      <td>0</td>\n      <td>1</td>\n      <td>0</td>\n      <td>0</td>\n      <td>0</td>\n      <td>0</td>\n      <td>0</td>\n      <td>0</td>\n      <td>0</td>\n      <td>0</td>\n    </tr>\n  </tbody>\n</table>\n<p>1314 rows × 28 columns</p>\n</div>"
          },
          "metadata": {}
        }
      ],
      "execution_count": null
    },
    {
      "cell_type": "code",
      "source": [
        "#df_sc_final['Scheme'].isin(['Acon'])\n",
        "#updated version, now we are also considering the list type elements\n",
        "def remove_bad_classes(df_sc,bad_sc_classes):\n",
        "    df = df_sc\n",
        "    for i in range(len(df_sc)):\n",
        "        x = df.loc[i,'Scheme']\n",
        "        if type(x) == list:\n",
        "            for q in x:\n",
        "                if q in bad_sc_classes:\n",
        "                    #print(x, q)\n",
        "                    print(i)\n",
        "                    df = df.drop([i])\n",
        "                    break\n",
        "        elif x in bad_sc_classes:\n",
        "            print(i)\n",
        "            df = df.drop([i])\n",
        "    df = df.drop(bad_sc_classes,axis=1).reset_index(drop=True)\n",
        "    return df\n",
        "df_r = remove_bad_classes(df_sc_final1,bad_sc_classes)\n",
        "df_sc_final = df_r\n",
        "df_sc_final.columns"
      ],
      "metadata": {
        "execution": {
          "iopub.status.busy": "2024-11-16T22:23:52.790107Z",
          "iopub.execute_input": "2024-11-16T22:23:52.790477Z",
          "iopub.status.idle": "2024-11-16T22:23:52.851367Z",
          "shell.execute_reply.started": "2024-11-16T22:23:52.790448Z",
          "shell.execute_reply": "2024-11-16T22:23:52.850556Z"
        },
        "trusted": true,
        "id": "WsBFYBjTH6Xq",
        "outputId": "f0e1df0e-8471-4063-fd8b-f67f2f942f87"
      },
      "outputs": [
        {
          "name": "stdout",
          "text": "77\n83\n135\n140\n189\n190\n342\n384\n490\n505\n546\n598\n625\n627\n707\n758\n763\n871\n880\n924\n968\n969\n978\n1224\n1239\n1240\n1302\n",
          "output_type": "stream"
        },
        {
          "execution_count": 135,
          "output_type": "execute_result",
          "data": {
            "text/plain": "Index(['Document', 'Name', 'Id', 'Chain', 'Num', 'Text', 'Type', 'SUP', 'SFF',\n       'ATT', 'INH', 'REPH', 'Scheme', 'FullChainID', 'Previous', 'Scheme2',\n       'Aut', 'Class', 'Itpr', 'Prec', 'Princ', 'Rule', 'Syst', 'Tele'],\n      dtype='object')"
          },
          "metadata": {}
        }
      ],
      "execution_count": null
    },
    {
      "cell_type": "code",
      "source": [
        "df_sc_final1.iloc[384]"
      ],
      "metadata": {
        "trusted": true,
        "execution": {
          "iopub.status.busy": "2024-11-16T22:24:44.943287Z",
          "iopub.execute_input": "2024-11-16T22:24:44.944284Z",
          "iopub.status.idle": "2024-11-16T22:24:44.951573Z",
          "shell.execute_reply.started": "2024-11-16T22:24:44.944249Z",
          "shell.execute_reply": "2024-11-16T22:24:44.950721Z"
        },
        "id": "7c4Q6GgVH6Xr",
        "outputId": "0d082a42-7c03-4d25-e48e-54018fbc5dbd"
      },
      "outputs": [
        {
          "execution_count": 139,
          "output_type": "execute_result",
          "data": {
            "text/plain": "Document                            2018_288_VAT_OP_2_0_AP_MB_AN\nName                                                        prem\nId                                                            A6\nChain                                                          A\nNum                                                            6\nText           Il legislatore tributario, a fronte del       ...\nType                                                           L\nSUP                                                          NaN\nSFF                                                          NaN\nATT                                                          NaN\nINH                                                          NaN\nREPH                                                         NaN\nScheme                                                       Psy\nFullChainID                       2018_288_VAT_OP_2_0_AP_MB_AN_A\nPrevious       Il legislatore tributario, a fronte del\\n     ...\nScheme2                                                      Psy\nAbs                                                            0\nAcon                                                           0\nAut                                                            0\nClass                                                          0\nItpr                                                           0\nLit                                                            0\nPrec                                                           0\nPrinc                                                          0\nPsy                                                            1\nRule                                                           0\nSyst                                                           0\nTele                                                           0\nName: 384, dtype: object"
          },
          "metadata": {}
        }
      ],
      "execution_count": null
    },
    {
      "cell_type": "code",
      "source": [
        "tr = df_sc_final.explode('Scheme')\n",
        "#df_sc_final[df_sc_final['Scheme'].explode().isin(['Acon'])]\n",
        "tr.drop(good_sc_columns,axis=1)"
      ],
      "metadata": {
        "execution": {
          "iopub.status.busy": "2024-11-16T22:25:12.138455Z",
          "iopub.execute_input": "2024-11-16T22:25:12.13909Z",
          "iopub.status.idle": "2024-11-16T22:25:12.168289Z",
          "shell.execute_reply.started": "2024-11-16T22:25:12.139057Z",
          "shell.execute_reply": "2024-11-16T22:25:12.167282Z"
        },
        "trusted": true,
        "id": "_D1UpOHhH6Xr",
        "outputId": "48d37a46-4cc1-49fc-de2f-39b2211ba477"
      },
      "outputs": [
        {
          "execution_count": 141,
          "output_type": "execute_result",
          "data": {
            "text/plain": "                             Document  Name   Id Chain Num  \\\n0     2013_40_VAT_OPAM_2_REM_MB_PS_AN  prem   A2     A   2   \n1     2013_40_VAT_OPAM_2_REM_MB_PS_AN  prem   A3     A   3   \n2       2018_847_VAT_OP_2_-1_MB_AF_AN  prem   A1     A   1   \n3       2018_847_VAT_OP_2_-1_MB_AF_AN  prem   A2     A   2   \n4       2018_847_VAT_OP_2_-1_MB_AF_AN  prem   A3     A   3   \n...                               ...   ...  ...   ...  ..   \n1283     2021_6075_VAT_OPAM_2_1_PS_AN  prem  C16     C  16   \n1284     2021_6075_VAT_OPAM_2_1_PS_AN  prem  C17     C  17   \n1285     2021_6075_VAT_OPAM_2_1_PS_AN  prem  C18     C  18   \n1285     2021_6075_VAT_OPAM_2_1_PS_AN  prem  C18     C  18   \n1286     2021_6075_VAT_OPAM_2_1_PS_AN  prem  C19     C  19   \n\n                                                   Text Type       SUP  SFF  \\\n0     Ai sensi dell'art. 14 del d.lgs.546/92, se l'o...    L       NaN  NaN   \n1     Se il ricorso non è stato    proposto da o nei...    L       NaN  NaN   \n2     Secondo condivisa e costante giurisprudenza (C...    L       NaN  NaN   \n3     Tuttavia, nel caso qui in esame, la Comm/ne no...    L  [A3, A4]  NaN   \n4     A tal proposito si ricorda che la Corte cost. ...    L       NaN  NaN   \n...                                                 ...  ...       ...  ...   \n1283  Tale comunicazione ha luogo quando i destinata...    L       NaN  NaN   \n1284  Il Ministro dell'interno, con decreto del 17 f...    L       NaN  NaN   \n1285  Tra i soggetti destinatari del decreto sono ri...    L       NaN  NaN   \n1285  Tra i soggetti destinatari del decreto sono ri...    L       NaN  NaN   \n1286  In conclusione, per quanto fin qui esposto, i ...    L            NaN   \n\n      ATT  INH REPH Scheme                        FullChainID  \\\n0     NaN  NaN  NaN   Rule  2013_40_VAT_OPAM_2_REM_MB_PS_AN_A   \n1     NaN  NaN  NaN   Itpr  2013_40_VAT_OPAM_2_REM_MB_PS_AN_A   \n2     NaN  NaN  NaN   Rule    2018_847_VAT_OP_2_-1_MB_AF_AN_A   \n3     NaN  NaN  NaN   Itpr    2018_847_VAT_OP_2_-1_MB_AF_AN_A   \n4     NaN  NaN  NaN   Prec    2018_847_VAT_OP_2_-1_MB_AF_AN_A   \n...   ...  ...  ...    ...                                ...   \n1283  NaN  NaN  NaN   Rule     2021_6075_VAT_OPAM_2_1_PS_AN_C   \n1284  NaN  NaN  NaN   Rule     2021_6075_VAT_OPAM_2_1_PS_AN_C   \n1285  NaN  NaN  NaN  Class     2021_6075_VAT_OPAM_2_1_PS_AN_C   \n1285  NaN  NaN  NaN   Rule     2021_6075_VAT_OPAM_2_1_PS_AN_C   \n1286  NaN  NaN  NaN  Class     2021_6075_VAT_OPAM_2_1_PS_AN_C   \n\n                                               Previous     Scheme2  \n0      Ai sensi dell'art. 14 del d.lgs.546/92, se l'...        Rule  \n1      Se il ricorso non è stato\\n    proposto da o ...        Itpr  \n2     Secondo condivisa e costante giurisprudenza (C...        Rule  \n3     Tuttavia, nel caso qui in esame, la Comm/ne no...        Itpr  \n4     A tal proposito si ricorda che la Corte cost. ...        Prec  \n...                                                 ...         ...  \n1283  Tale comunicazione ha luogo quando i destinata...        Rule  \n1284  Il Ministro dell'interno, con decreto del 17 f...        Rule  \n1285  Tra i soggetti destinatari del decreto sono ri...  Class,Rule  \n1285  Tra i soggetti destinatari del decreto sono ri...  Class,Rule  \n1286  In conclusione, per quanto fin qui esposto, i ...       Class  \n\n[1654 rows x 16 columns]",
            "text/html": "<div>\n<style scoped>\n    .dataframe tbody tr th:only-of-type {\n        vertical-align: middle;\n    }\n\n    .dataframe tbody tr th {\n        vertical-align: top;\n    }\n\n    .dataframe thead th {\n        text-align: right;\n    }\n</style>\n<table border=\"1\" class=\"dataframe\">\n  <thead>\n    <tr style=\"text-align: right;\">\n      <th></th>\n      <th>Document</th>\n      <th>Name</th>\n      <th>Id</th>\n      <th>Chain</th>\n      <th>Num</th>\n      <th>Text</th>\n      <th>Type</th>\n      <th>SUP</th>\n      <th>SFF</th>\n      <th>ATT</th>\n      <th>INH</th>\n      <th>REPH</th>\n      <th>Scheme</th>\n      <th>FullChainID</th>\n      <th>Previous</th>\n      <th>Scheme2</th>\n    </tr>\n  </thead>\n  <tbody>\n    <tr>\n      <th>0</th>\n      <td>2013_40_VAT_OPAM_2_REM_MB_PS_AN</td>\n      <td>prem</td>\n      <td>A2</td>\n      <td>A</td>\n      <td>2</td>\n      <td>Ai sensi dell'art. 14 del d.lgs.546/92, se l'o...</td>\n      <td>L</td>\n      <td>NaN</td>\n      <td>NaN</td>\n      <td>NaN</td>\n      <td>NaN</td>\n      <td>NaN</td>\n      <td>Rule</td>\n      <td>2013_40_VAT_OPAM_2_REM_MB_PS_AN_A</td>\n      <td>Ai sensi dell'art. 14 del d.lgs.546/92, se l'...</td>\n      <td>Rule</td>\n    </tr>\n    <tr>\n      <th>1</th>\n      <td>2013_40_VAT_OPAM_2_REM_MB_PS_AN</td>\n      <td>prem</td>\n      <td>A3</td>\n      <td>A</td>\n      <td>3</td>\n      <td>Se il ricorso non è stato    proposto da o nei...</td>\n      <td>L</td>\n      <td>NaN</td>\n      <td>NaN</td>\n      <td>NaN</td>\n      <td>NaN</td>\n      <td>NaN</td>\n      <td>Itpr</td>\n      <td>2013_40_VAT_OPAM_2_REM_MB_PS_AN_A</td>\n      <td>Se il ricorso non è stato\\n    proposto da o ...</td>\n      <td>Itpr</td>\n    </tr>\n    <tr>\n      <th>2</th>\n      <td>2018_847_VAT_OP_2_-1_MB_AF_AN</td>\n      <td>prem</td>\n      <td>A1</td>\n      <td>A</td>\n      <td>1</td>\n      <td>Secondo condivisa e costante giurisprudenza (C...</td>\n      <td>L</td>\n      <td>NaN</td>\n      <td>NaN</td>\n      <td>NaN</td>\n      <td>NaN</td>\n      <td>NaN</td>\n      <td>Rule</td>\n      <td>2018_847_VAT_OP_2_-1_MB_AF_AN_A</td>\n      <td>Secondo condivisa e costante giurisprudenza (C...</td>\n      <td>Rule</td>\n    </tr>\n    <tr>\n      <th>3</th>\n      <td>2018_847_VAT_OP_2_-1_MB_AF_AN</td>\n      <td>prem</td>\n      <td>A2</td>\n      <td>A</td>\n      <td>2</td>\n      <td>Tuttavia, nel caso qui in esame, la Comm/ne no...</td>\n      <td>L</td>\n      <td>[A3, A4]</td>\n      <td>NaN</td>\n      <td>NaN</td>\n      <td>NaN</td>\n      <td>NaN</td>\n      <td>Itpr</td>\n      <td>2018_847_VAT_OP_2_-1_MB_AF_AN_A</td>\n      <td>Tuttavia, nel caso qui in esame, la Comm/ne no...</td>\n      <td>Itpr</td>\n    </tr>\n    <tr>\n      <th>4</th>\n      <td>2018_847_VAT_OP_2_-1_MB_AF_AN</td>\n      <td>prem</td>\n      <td>A3</td>\n      <td>A</td>\n      <td>3</td>\n      <td>A tal proposito si ricorda che la Corte cost. ...</td>\n      <td>L</td>\n      <td>NaN</td>\n      <td>NaN</td>\n      <td>NaN</td>\n      <td>NaN</td>\n      <td>NaN</td>\n      <td>Prec</td>\n      <td>2018_847_VAT_OP_2_-1_MB_AF_AN_A</td>\n      <td>A tal proposito si ricorda che la Corte cost. ...</td>\n      <td>Prec</td>\n    </tr>\n    <tr>\n      <th>...</th>\n      <td>...</td>\n      <td>...</td>\n      <td>...</td>\n      <td>...</td>\n      <td>...</td>\n      <td>...</td>\n      <td>...</td>\n      <td>...</td>\n      <td>...</td>\n      <td>...</td>\n      <td>...</td>\n      <td>...</td>\n      <td>...</td>\n      <td>...</td>\n      <td>...</td>\n      <td>...</td>\n    </tr>\n    <tr>\n      <th>1283</th>\n      <td>2021_6075_VAT_OPAM_2_1_PS_AN</td>\n      <td>prem</td>\n      <td>C16</td>\n      <td>C</td>\n      <td>16</td>\n      <td>Tale comunicazione ha luogo quando i destinata...</td>\n      <td>L</td>\n      <td>NaN</td>\n      <td>NaN</td>\n      <td>NaN</td>\n      <td>NaN</td>\n      <td>NaN</td>\n      <td>Rule</td>\n      <td>2021_6075_VAT_OPAM_2_1_PS_AN_C</td>\n      <td>Tale comunicazione ha luogo quando i destinata...</td>\n      <td>Rule</td>\n    </tr>\n    <tr>\n      <th>1284</th>\n      <td>2021_6075_VAT_OPAM_2_1_PS_AN</td>\n      <td>prem</td>\n      <td>C17</td>\n      <td>C</td>\n      <td>17</td>\n      <td>Il Ministro dell'interno, con decreto del 17 f...</td>\n      <td>L</td>\n      <td>NaN</td>\n      <td>NaN</td>\n      <td>NaN</td>\n      <td>NaN</td>\n      <td>NaN</td>\n      <td>Rule</td>\n      <td>2021_6075_VAT_OPAM_2_1_PS_AN_C</td>\n      <td>Il Ministro dell'interno, con decreto del 17 f...</td>\n      <td>Rule</td>\n    </tr>\n    <tr>\n      <th>1285</th>\n      <td>2021_6075_VAT_OPAM_2_1_PS_AN</td>\n      <td>prem</td>\n      <td>C18</td>\n      <td>C</td>\n      <td>18</td>\n      <td>Tra i soggetti destinatari del decreto sono ri...</td>\n      <td>L</td>\n      <td>NaN</td>\n      <td>NaN</td>\n      <td>NaN</td>\n      <td>NaN</td>\n      <td>NaN</td>\n      <td>Class</td>\n      <td>2021_6075_VAT_OPAM_2_1_PS_AN_C</td>\n      <td>Tra i soggetti destinatari del decreto sono ri...</td>\n      <td>Class,Rule</td>\n    </tr>\n    <tr>\n      <th>1285</th>\n      <td>2021_6075_VAT_OPAM_2_1_PS_AN</td>\n      <td>prem</td>\n      <td>C18</td>\n      <td>C</td>\n      <td>18</td>\n      <td>Tra i soggetti destinatari del decreto sono ri...</td>\n      <td>L</td>\n      <td>NaN</td>\n      <td>NaN</td>\n      <td>NaN</td>\n      <td>NaN</td>\n      <td>NaN</td>\n      <td>Rule</td>\n      <td>2021_6075_VAT_OPAM_2_1_PS_AN_C</td>\n      <td>Tra i soggetti destinatari del decreto sono ri...</td>\n      <td>Class,Rule</td>\n    </tr>\n    <tr>\n      <th>1286</th>\n      <td>2021_6075_VAT_OPAM_2_1_PS_AN</td>\n      <td>prem</td>\n      <td>C19</td>\n      <td>C</td>\n      <td>19</td>\n      <td>In conclusione, per quanto fin qui esposto, i ...</td>\n      <td>L</td>\n      <td></td>\n      <td>NaN</td>\n      <td>NaN</td>\n      <td>NaN</td>\n      <td>NaN</td>\n      <td>Class</td>\n      <td>2021_6075_VAT_OPAM_2_1_PS_AN_C</td>\n      <td>In conclusione, per quanto fin qui esposto, i ...</td>\n      <td>Class</td>\n    </tr>\n  </tbody>\n</table>\n<p>1654 rows × 16 columns</p>\n</div>"
          },
          "metadata": {}
        }
      ],
      "execution_count": null
    },
    {
      "cell_type": "code",
      "source": [
        "df_sc_labels = df_sc_final[good_sc_columns]\n",
        "df_sc_labels"
      ],
      "metadata": {
        "execution": {
          "iopub.status.busy": "2024-11-16T21:52:03.395598Z",
          "iopub.execute_input": "2024-11-16T21:52:03.396261Z",
          "iopub.status.idle": "2024-11-16T21:52:03.408275Z",
          "shell.execute_reply.started": "2024-11-16T21:52:03.396235Z",
          "shell.execute_reply": "2024-11-16T21:52:03.407447Z"
        },
        "trusted": true,
        "id": "JjX2-MPuH6Xr",
        "outputId": "1cd0c3ff-7a17-4a2d-90a0-86700947f9fc"
      },
      "outputs": [
        {
          "execution_count": 35,
          "output_type": "execute_result",
          "data": {
            "text/plain": "      Aut  Class  Itpr  Prec  Princ  Rule  Syst  Tele\n0       0      0     0     0      0     1     0     0\n1       0      0     1     0      0     0     0     0\n2       0      0     0     0      0     1     0     0\n3       0      0     1     0      0     0     0     0\n4       0      0     0     1      0     0     0     0\n...   ...    ...   ...   ...    ...   ...   ...   ...\n1296    0      0     0     0      0     1     0     0\n1297    0      0     0     0      0     1     0     0\n1298    0      0     0     0      0     1     0     0\n1299    0      1     0     0      0     1     0     0\n1300    0      1     0     0      0     0     0     0\n\n[1301 rows x 8 columns]",
            "text/html": "<div>\n<style scoped>\n    .dataframe tbody tr th:only-of-type {\n        vertical-align: middle;\n    }\n\n    .dataframe tbody tr th {\n        vertical-align: top;\n    }\n\n    .dataframe thead th {\n        text-align: right;\n    }\n</style>\n<table border=\"1\" class=\"dataframe\">\n  <thead>\n    <tr style=\"text-align: right;\">\n      <th></th>\n      <th>Aut</th>\n      <th>Class</th>\n      <th>Itpr</th>\n      <th>Prec</th>\n      <th>Princ</th>\n      <th>Rule</th>\n      <th>Syst</th>\n      <th>Tele</th>\n    </tr>\n  </thead>\n  <tbody>\n    <tr>\n      <th>0</th>\n      <td>0</td>\n      <td>0</td>\n      <td>0</td>\n      <td>0</td>\n      <td>0</td>\n      <td>1</td>\n      <td>0</td>\n      <td>0</td>\n    </tr>\n    <tr>\n      <th>1</th>\n      <td>0</td>\n      <td>0</td>\n      <td>1</td>\n      <td>0</td>\n      <td>0</td>\n      <td>0</td>\n      <td>0</td>\n      <td>0</td>\n    </tr>\n    <tr>\n      <th>2</th>\n      <td>0</td>\n      <td>0</td>\n      <td>0</td>\n      <td>0</td>\n      <td>0</td>\n      <td>1</td>\n      <td>0</td>\n      <td>0</td>\n    </tr>\n    <tr>\n      <th>3</th>\n      <td>0</td>\n      <td>0</td>\n      <td>1</td>\n      <td>0</td>\n      <td>0</td>\n      <td>0</td>\n      <td>0</td>\n      <td>0</td>\n    </tr>\n    <tr>\n      <th>4</th>\n      <td>0</td>\n      <td>0</td>\n      <td>0</td>\n      <td>1</td>\n      <td>0</td>\n      <td>0</td>\n      <td>0</td>\n      <td>0</td>\n    </tr>\n    <tr>\n      <th>...</th>\n      <td>...</td>\n      <td>...</td>\n      <td>...</td>\n      <td>...</td>\n      <td>...</td>\n      <td>...</td>\n      <td>...</td>\n      <td>...</td>\n    </tr>\n    <tr>\n      <th>1296</th>\n      <td>0</td>\n      <td>0</td>\n      <td>0</td>\n      <td>0</td>\n      <td>0</td>\n      <td>1</td>\n      <td>0</td>\n      <td>0</td>\n    </tr>\n    <tr>\n      <th>1297</th>\n      <td>0</td>\n      <td>0</td>\n      <td>0</td>\n      <td>0</td>\n      <td>0</td>\n      <td>1</td>\n      <td>0</td>\n      <td>0</td>\n    </tr>\n    <tr>\n      <th>1298</th>\n      <td>0</td>\n      <td>0</td>\n      <td>0</td>\n      <td>0</td>\n      <td>0</td>\n      <td>1</td>\n      <td>0</td>\n      <td>0</td>\n    </tr>\n    <tr>\n      <th>1299</th>\n      <td>0</td>\n      <td>1</td>\n      <td>0</td>\n      <td>0</td>\n      <td>0</td>\n      <td>1</td>\n      <td>0</td>\n      <td>0</td>\n    </tr>\n    <tr>\n      <th>1300</th>\n      <td>0</td>\n      <td>1</td>\n      <td>0</td>\n      <td>0</td>\n      <td>0</td>\n      <td>0</td>\n      <td>0</td>\n      <td>0</td>\n    </tr>\n  </tbody>\n</table>\n<p>1301 rows × 8 columns</p>\n</div>"
          },
          "metadata": {}
        }
      ],
      "execution_count": null
    },
    {
      "cell_type": "code",
      "source": [
        "class_weights = 1/sc_label_count\n",
        "\n",
        "class_weights"
      ],
      "metadata": {
        "execution": {
          "iopub.status.busy": "2024-11-16T21:52:03.557302Z",
          "iopub.execute_input": "2024-11-16T21:52:03.557603Z",
          "iopub.status.idle": "2024-11-16T21:52:03.565099Z",
          "shell.execute_reply.started": "2024-11-16T21:52:03.557579Z",
          "shell.execute_reply": "2024-11-16T21:52:03.564223Z"
        },
        "trusted": true,
        "id": "vEIszrtOH6Xs",
        "outputId": "3191a44d-8841-4ebb-dbc8-21a20b7044d8"
      },
      "outputs": [
        {
          "execution_count": 36,
          "output_type": "execute_result",
          "data": {
            "text/plain": "Rule     0.001739\nPrec     0.002387\nItpr     0.003185\nPrinc    0.006944\nClass    0.010000\nAut      0.013889\nSyst     0.035714\nTele     0.055556\nLit      0.083333\nAbs      0.125000\nPsy      0.142857\nAcon     1.000000\ndtype: float64"
          },
          "metadata": {}
        }
      ],
      "execution_count": null
    },
    {
      "cell_type": "markdown",
      "source": [
        "# Data analysis"
      ],
      "metadata": {
        "id": "bb4aeLPck6Gd"
      }
    },
    {
      "cell_type": "code",
      "source": [
        "df_ac['Name'].hist()"
      ],
      "metadata": {
        "colab": {
          "base_uri": "https://localhost:8080/",
          "height": 448
        },
        "id": "WeyNdG29k6Gd",
        "outputId": "f9c3fee9-e6f6-4276-ac04-32500e672051",
        "execution": {
          "iopub.status.busy": "2024-11-16T21:52:04.017625Z",
          "iopub.execute_input": "2024-11-16T21:52:04.018139Z",
          "iopub.status.idle": "2024-11-16T21:52:04.244422Z",
          "shell.execute_reply.started": "2024-11-16T21:52:04.018111Z",
          "shell.execute_reply": "2024-11-16T21:52:04.243159Z"
        },
        "trusted": true
      },
      "outputs": [
        {
          "execution_count": 37,
          "output_type": "execute_result",
          "data": {
            "text/plain": "<Axes: >"
          },
          "metadata": {}
        },
        {
          "output_type": "display_data",
          "data": {
            "text/plain": "<Figure size 640x480 with 1 Axes>",
            "image/png": "[encoded data removed]"
          },
          "metadata": {}
        }
      ],
      "execution_count": null
    },
    {
      "cell_type": "code",
      "source": [
        "print(f\"There are {len(df_ac[df_ac['Name'] == 'prem'])} premises and {len(df_ac[df_ac['Name'] == 'conc'])} conclusions\")"
      ],
      "metadata": {
        "colab": {
          "base_uri": "https://localhost:8080/"
        },
        "id": "EIpO4dFlk6Ge",
        "outputId": "39e91e09-f8c5-4b6b-cb63-6b0edf6d0fa7",
        "execution": {
          "iopub.status.busy": "2024-11-16T21:52:04.245985Z",
          "iopub.execute_input": "2024-11-16T21:52:04.246267Z",
          "iopub.status.idle": "2024-11-16T21:52:04.257927Z",
          "shell.execute_reply.started": "2024-11-16T21:52:04.246242Z",
          "shell.execute_reply": "2024-11-16T21:52:04.257046Z"
        },
        "trusted": true
      },
      "outputs": [
        {
          "name": "stdout",
          "text": "There are 2910 premises and 401 conclusions\n",
          "output_type": "stream"
        }
      ],
      "execution_count": null
    },
    {
      "cell_type": "code",
      "source": [
        "values = df_tc_labels.sum().sort_values(ascending=False)\n",
        "\n",
        "y = np.array(values)\n",
        "\n",
        "x = np.array(values.index)\n",
        "\n",
        "\n",
        "\n",
        "plt.figure(figsize=(3,6))\n",
        "\n",
        "plt.bar(x, height=y)"
      ],
      "metadata": {
        "colab": {
          "base_uri": "https://localhost:8080/",
          "height": 540
        },
        "id": "sE6acTa6k6Ge",
        "outputId": "1bb09152-cdce-4f63-f267-096f2bd392e9",
        "execution": {
          "iopub.status.busy": "2024-11-16T21:52:04.449186Z",
          "iopub.execute_input": "2024-11-16T21:52:04.449883Z",
          "iopub.status.idle": "2024-11-16T21:52:04.59858Z",
          "shell.execute_reply.started": "2024-11-16T21:52:04.449852Z",
          "shell.execute_reply": "2024-11-16T21:52:04.597638Z"
        },
        "trusted": true
      },
      "outputs": [
        {
          "execution_count": 39,
          "output_type": "execute_result",
          "data": {
            "text/plain": "<BarContainer object of 2 artists>"
          },
          "metadata": {}
        },
        {
          "output_type": "display_data",
          "data": {
            "text/plain": "<Figure size 300x600 with 1 Axes>",
            "image/png": "[encoded data removed]"
          },
          "metadata": {}
        }
      ],
      "execution_count": null
    },
    {
      "cell_type": "markdown",
      "source": [
        "# Fixing seed"
      ],
      "metadata": {
        "id": "VTBtUbSGk6Gg"
      }
    },
    {
      "cell_type": "code",
      "source": [
        "# Fix the random state for reproducibility\n",
        "\n",
        "SEED = 27\n",
        "\n",
        "\n",
        "\n",
        "def fix_seed(seed: int) -> None:\n",
        "\n",
        "    \"\"\"Fix all the possible sources of randomness.\n",
        "\n",
        "\n",
        "\n",
        "    Args:\n",
        "\n",
        "        seed: the seed to use.\n",
        "\n",
        "    \"\"\"\n",
        "\n",
        "    np.random.seed(seed)\n",
        "\n",
        "    random.seed(seed)\n",
        "\n",
        "    torch.manual_seed(seed)\n",
        "\n",
        "    torch.cuda.manual_seed(seed)\n",
        "\n",
        "\n",
        "\n",
        "    torch.backends.cudnn.benchmark = False\n",
        "\n",
        "    torch.backends.cudnn.deterministic = True\n",
        "\n",
        "[ ]\n",
        "\n",
        "\n",
        "\n",
        "\n",
        "\n",
        "fix_seed(SEED)"
      ],
      "metadata": {
        "id": "_k1p8LBxk6Gg",
        "execution": {
          "iopub.status.busy": "2024-11-16T21:52:04.898375Z",
          "iopub.execute_input": "2024-11-16T21:52:04.898688Z",
          "iopub.status.idle": "2024-11-16T21:52:04.909337Z",
          "shell.execute_reply.started": "2024-11-16T21:52:04.898664Z",
          "shell.execute_reply": "2024-11-16T21:52:04.908365Z"
        },
        "trusted": true
      },
      "outputs": [],
      "execution_count": null
    },
    {
      "cell_type": "markdown",
      "source": [
        "# Utils"
      ],
      "metadata": {
        "id": "M__dt1kV-ay1"
      }
    },
    {
      "cell_type": "markdown",
      "source": [
        "## Train-Val-Test dataset splitting"
      ],
      "metadata": {
        "id": "A4Tl_BDPk6G4"
      }
    },
    {
      "cell_type": "code",
      "source": [
        "def split_dataset(df, test_size=0.2):\n",
        "\n",
        "    total_samples = df.shape[0]\n",
        "\n",
        "    idx_train, idx_test = train_test_split(df['Document'].unique(),\n",
        "\n",
        "                                      random_state=SEED,\n",
        "\n",
        "                                      test_size=test_size)\n",
        "\n",
        "    idx_train, idx_val = train_test_split(idx_train,\n",
        "\n",
        "                                      random_state=SEED,\n",
        "\n",
        "                                      test_size=idx_test.shape[0])\n",
        "\n",
        "    df_train = df[df['Document'].isin(idx_train)]\n",
        "\n",
        "    df_val = df[df['Document'].isin(idx_val)]\n",
        "\n",
        "    df_test = df[df['Document'].isin(idx_test)]\n",
        "\n",
        "    print('Number of training samples: {} ({}%)'.format(df_train.shape[0], 100*df_train.shape[0]/total_samples))\n",
        "\n",
        "    print('Number of validation examples: {} ({}%)'.format(df_val.shape[0], 100*df_val.shape[0]/total_samples))\n",
        "\n",
        "    print('Number of test samples: {} ({}%)'.format(df_test.shape[0], 100*df_test.shape[0]/total_samples))\n",
        "\n",
        "    return df_train, df_val, df_test"
      ],
      "metadata": {
        "id": "X6Q0zwjcl9sq",
        "trusted": true,
        "execution": {
          "iopub.status.busy": "2024-11-16T21:52:05.625906Z",
          "iopub.execute_input": "2024-11-16T21:52:05.62625Z",
          "iopub.status.idle": "2024-11-16T21:52:05.634339Z",
          "shell.execute_reply.started": "2024-11-16T21:52:05.626222Z",
          "shell.execute_reply": "2024-11-16T21:52:05.633377Z"
        }
      },
      "outputs": [],
      "execution_count": null
    },
    {
      "cell_type": "markdown",
      "source": [
        "## Save and load results\n",
        "\n",
        "The results folder will contain the notebook, metrics and outputs for each seed."
      ],
      "metadata": {
        "id": "B2ISiv5sk6G5"
      }
    },
    {
      "cell_type": "code",
      "source": [
        "results_folder = \"results\"\n",
        "\n",
        "if not os.path.exists(results_folder):\n",
        "\n",
        "    os.makedirs(results_folder)\n",
        "\n",
        "\n",
        "\n",
        "def results_to_csv(df_results, seed):\n",
        "\n",
        "    '''\n",
        "\n",
        "    Args:\n",
        "\n",
        "        df_results: DataFrame with the all the scores\n",
        "\n",
        "        seed: the used seed\n",
        "\n",
        "    '''\n",
        "\n",
        "    csv_path = f\"{results_folder}/{seed}.csv\"\n",
        "\n",
        "    df_results.to_csv(path_or_buf=csv_path)"
      ],
      "metadata": {
        "id": "3Uu8Et2qk6G5",
        "execution": {
          "iopub.status.busy": "2024-11-16T21:52:06.07885Z",
          "iopub.execute_input": "2024-11-16T21:52:06.079151Z",
          "iopub.status.idle": "2024-11-16T21:52:06.084991Z",
          "shell.execute_reply.started": "2024-11-16T21:52:06.079126Z",
          "shell.execute_reply": "2024-11-16T21:52:06.084007Z"
        },
        "trusted": true
      },
      "outputs": [],
      "execution_count": null
    },
    {
      "cell_type": "code",
      "source": [
        "def results_from_csv(seed):\n",
        "\n",
        "    '''\n",
        "\n",
        "    Args:\n",
        "\n",
        "        seed: the wanted seed\n",
        "\n",
        "    '''\n",
        "\n",
        "    file_path = f\"results/{seed}.csv\"\n",
        "\n",
        "    df_results = pd.read_csv(file_path)\n",
        "\n",
        "\n",
        "\n",
        "    return df_results"
      ],
      "metadata": {
        "id": "eH9_Qyzrk6G6",
        "execution": {
          "iopub.status.busy": "2024-11-16T21:52:06.222339Z",
          "iopub.execute_input": "2024-11-16T21:52:06.222693Z",
          "iopub.status.idle": "2024-11-16T21:52:06.227278Z",
          "shell.execute_reply.started": "2024-11-16T21:52:06.222661Z",
          "shell.execute_reply": "2024-11-16T21:52:06.226447Z"
        },
        "trusted": true
      },
      "outputs": [],
      "execution_count": null
    },
    {
      "cell_type": "markdown",
      "source": [
        "## PyTorch dataset"
      ],
      "metadata": {
        "id": "a_7qTdbjk6G6"
      }
    },
    {
      "cell_type": "code",
      "source": [
        "class CustomTorchDataset(Dataset):\n",
        "\n",
        "    def __init__(self, encodings):\n",
        "\n",
        "        self.encodings = encodings\n",
        "\n",
        "\n",
        "\n",
        "    def __getitem__(self, idx):\n",
        "\n",
        "        return {key: torch.tensor(val[idx]) for key, val in self.encodings.items()}\n",
        "\n",
        "\n",
        "\n",
        "    def __len__(self):\n",
        "\n",
        "        return len(self.encodings.input_ids)"
      ],
      "metadata": {
        "id": "30T-t-KIk6G7",
        "execution": {
          "iopub.status.busy": "2024-11-16T21:52:06.595491Z",
          "iopub.execute_input": "2024-11-16T21:52:06.596172Z",
          "iopub.status.idle": "2024-11-16T21:52:06.601232Z",
          "shell.execute_reply.started": "2024-11-16T21:52:06.596144Z",
          "shell.execute_reply": "2024-11-16T21:52:06.600409Z"
        },
        "trusted": true
      },
      "outputs": [],
      "execution_count": null
    },
    {
      "cell_type": "markdown",
      "source": [
        "## Focal Loss"
      ],
      "metadata": {
        "id": "jmCHPOBbbH80"
      }
    },
    {
      "cell_type": "code",
      "source": [
        "num_label=len(good_sc_columns)\n",
        "\n",
        "class FocalLoss(nn.Module):\n",
        "\n",
        "    def __init__(self, alpha=1, gamma=2, logit=False, reduce=False):\n",
        "\n",
        "        super(FocalLoss, self).__init__()\n",
        "\n",
        "        self.alpha = alpha\n",
        "\n",
        "        self.gamma = gamma\n",
        "\n",
        "        self.logit = logit\n",
        "\n",
        "        self.reduce = reduce\n",
        "\n",
        "\n",
        "\n",
        "    def forward(self, inputs, targets):\n",
        "\n",
        "        \"\"\"\n",
        "\n",
        "        BCE = nn.BCELoss()\n",
        "\n",
        "        BCE_loss = BCE(inputs, targets)\n",
        "\n",
        "        pt = torch.exp(-BCE_loss)\n",
        "\n",
        "        F_loss = self.alpha * (1-pt)**self.gamma * BCE_loss\n",
        "\n",
        "\n",
        "\n",
        "        if self.reduce:\n",
        "\n",
        "            return torch.mean(F_loss)\n",
        "\n",
        "        else:\n",
        "\n",
        "            return F_loss\n",
        "\n",
        "        \"\"\"\n",
        "\n",
        "        #p = torch.where(targets >= 0.5, inputs, 1-inputs)\n",
        "\n",
        "        p = inputs * targets + (1 - inputs) * (1 - targets)\n",
        "\n",
        "        logp = - torch.log(torch.clamp(p, 1e-4, 1-1e-4))\n",
        "\n",
        "        loss = logp*((1-p)**self.gamma)\n",
        "\n",
        "        loss = loss.mean()\n",
        "\n",
        "        return loss\n",
        "\n",
        "\n"
      ],
      "metadata": {
        "id": "7NymLkC0whtl",
        "execution": {
          "iopub.status.busy": "2024-11-16T21:52:07.011604Z",
          "iopub.execute_input": "2024-11-16T21:52:07.012284Z",
          "iopub.status.idle": "2024-11-16T21:52:07.0192Z",
          "shell.execute_reply.started": "2024-11-16T21:52:07.012259Z",
          "shell.execute_reply": "2024-11-16T21:52:07.018428Z"
        },
        "trusted": true
      },
      "outputs": [],
      "execution_count": null
    },
    {
      "cell_type": "code",
      "source": [
        "num_label=len(good_sc_columns)\n",
        "\n",
        "def focal_loss(logits, targets, gamma=2):\n",
        "\n",
        "    #l = logits.reshape(-1)\n",
        "\n",
        "    #t = targets.reshape(-1)\n",
        "\n",
        "    #p = torch.sigmoid(l)\n",
        "\n",
        "    p = torch.where(targets >= 0.5, logits, 1-logits)\n",
        "\n",
        "    logp = - torch.log(torch.clamp(p, 1e-4, 1-1e-4))\n",
        "\n",
        "    loss = logp*((1-p)**gamma)\n",
        "\n",
        "    loss = loss.mean()\n",
        "\n",
        "    return loss"
      ],
      "metadata": {
        "id": "8bgN1OD8bMN3",
        "execution": {
          "iopub.status.busy": "2024-11-16T21:52:07.192581Z",
          "iopub.execute_input": "2024-11-16T21:52:07.192859Z",
          "iopub.status.idle": "2024-11-16T21:52:07.198427Z",
          "shell.execute_reply.started": "2024-11-16T21:52:07.192836Z",
          "shell.execute_reply": "2024-11-16T21:52:07.197443Z"
        },
        "trusted": true
      },
      "outputs": [],
      "execution_count": null
    },
    {
      "cell_type": "markdown",
      "source": [
        "# Processing"
      ],
      "metadata": {
        "id": "My9p3Otpk6G7"
      }
    },
    {
      "cell_type": "markdown",
      "source": [
        "## Encoding"
      ],
      "metadata": {
        "id": "lYljLio2HkFc"
      }
    },
    {
      "cell_type": "code",
      "source": [
        "from sklearn.feature_extraction.text import TfidfVectorizer\n",
        "\n",
        "import re\n",
        "\n",
        "from nltk.corpus import stopwords\n",
        "\n",
        "\n",
        "\n",
        "class BaselineVectorizer():\n",
        "\n",
        "    def __init__(self, include_previous=False, max_features=None):\n",
        "\n",
        "        self.tfidf = TfidfVectorizer(stop_words=stopwords.words('italian'),max_features=max_features)\n",
        "\n",
        "        self.include_previous = include_previous\n",
        "\n",
        "        self.fitted = False\n",
        "\n",
        "\n",
        "\n",
        "    def _clean_texts(self,df):\n",
        "\n",
        "        texts = df[\"Previous\"]+\". \"+df[\"Text\"] if INCLUDE_PREVIOUS else df[\"Text\"]\n",
        "\n",
        "        cleaned = []\n",
        "\n",
        "        for text in texts:\n",
        "\n",
        "            text = re.sub(\"[^a-zA-Z0-9]\",\" \",text).lower().strip()\n",
        "\n",
        "            cleaned.append(text)\n",
        "\n",
        "\n",
        "\n",
        "        return cleaned\n",
        "\n",
        "\n",
        "\n",
        "    def fit(self,df):\n",
        "\n",
        "        cleaned_texts = self._clean_texts(df)\n",
        "\n",
        "        self.tfidf.fit(cleaned_texts)\n",
        "\n",
        "        self.fitted = True\n",
        "\n",
        "\n",
        "\n",
        "    def transform(self,df):\n",
        "\n",
        "        if not self.fitted:\n",
        "\n",
        "            raise Exception(\"Vectorizer is not fitted.\")\n",
        "\n",
        "        cleaned_texts = self._clean_texts(df)\n",
        "\n",
        "        return self.tfidf.transform(cleaned_texts)"
      ],
      "metadata": {
        "id": "I7cIOYFBZRHg",
        "execution": {
          "iopub.status.busy": "2024-11-16T21:52:08.183233Z",
          "iopub.execute_input": "2024-11-16T21:52:08.183587Z",
          "iopub.status.idle": "2024-11-16T21:52:09.144962Z",
          "shell.execute_reply.started": "2024-11-16T21:52:08.18356Z",
          "shell.execute_reply": "2024-11-16T21:52:09.144149Z"
        },
        "trusted": true
      },
      "outputs": [],
      "execution_count": null
    },
    {
      "cell_type": "code",
      "source": [
        "def encode(tokenizer:PreTrainedTokenizer, df:pd.DataFrame, labels, scheme=False, include_previous=True):\n",
        "\n",
        "    '''\n",
        "\n",
        "    Encodes the dataset according to the BERT specifications.\n",
        "\n",
        "    The method encodes the data in the following way:\n",
        "\n",
        "        [CLS] previous [SEP] current [SEP]\n",
        "\n",
        "        where -previous- is the previous (if any) sentence in the same argumentation chain\n",
        "\n",
        "        and -current- is the current sentence\n",
        "\n",
        "    '''\n",
        "\n",
        "    print(\"Encoding...\")\n",
        "\n",
        "    encodings = tokenizer(\n",
        "\n",
        "          list(df['Previous']), list(df['Text']), padding=True, truncation=True, max_length = 256\n",
        "\n",
        "        ) if include_previous else tokenizer(\n",
        "\n",
        "          list(df['Text']), padding=True, truncation=True, max_length = 256\n",
        "\n",
        "        )\n",
        "\n",
        "\n",
        "\n",
        "    input_ids, input_attention_mask = encodings['input_ids'], encodings['attention_mask']\n",
        "\n",
        "    print(f\"input shape: {np.shape(input_ids)}\")\n",
        "\n",
        "    if not scheme:\n",
        "\n",
        "        encodings.update({'labels' : torch.LongTensor(labels.values)})\n",
        "\n",
        "    else:\n",
        "\n",
        "        encodings.update({'labels': torch.FloatTensor(labels.values)})\n",
        "\n",
        "    encodings.pop('token_type_ids')\n",
        "\n",
        "\n",
        "\n",
        "    print(\"Encoding complete\")\n",
        "\n",
        "    return encodings"
      ],
      "metadata": {
        "id": "xyR1vmlDl9sr",
        "execution": {
          "iopub.status.busy": "2024-11-16T21:52:09.146375Z",
          "iopub.execute_input": "2024-11-16T21:52:09.146669Z",
          "iopub.status.idle": "2024-11-16T21:52:09.154568Z",
          "shell.execute_reply.started": "2024-11-16T21:52:09.146645Z",
          "shell.execute_reply": "2024-11-16T21:52:09.153611Z"
        },
        "trusted": true
      },
      "outputs": [],
      "execution_count": null
    },
    {
      "cell_type": "markdown",
      "source": [
        "## Model"
      ],
      "metadata": {
        "id": "Y1NNzCJhIig9"
      }
    },
    {
      "cell_type": "code",
      "source": [
        "class ACModel(nn.Module):\n",
        "\n",
        "    def __init__(self,checkpoint, output_size):\n",
        "\n",
        "        super(ACModel, self).__init__()\n",
        "\n",
        "        self.model = AutoModel.from_pretrained(checkpoint)\n",
        "\n",
        "        self.output_size = output_size\n",
        "\n",
        "        self.cl1 = nn.Linear(self.model.config.hidden_size, self.model.config.hidden_size)\n",
        "\n",
        "        self.relu = nn.ReLU()\n",
        "\n",
        "        self.output = nn.Linear(self.model.config.hidden_size, self.output_size)\n",
        "\n",
        "\n",
        "\n",
        "    def forward(self, input_ids, attention_mask,only_embeddings=False):\n",
        "\n",
        "        output  = self.model(input_ids, attention_mask=attention_mask, output_hidden_states=True)\n",
        "\n",
        "        pooler_output = output.pooler_output\n",
        "\n",
        "        x = self.cl1(pooler_output)\n",
        "\n",
        "        x = self.relu(x)\n",
        "\n",
        "        x = self.output(x)\n",
        "        if only_embeddings:\n",
        "            return pooler_output\n",
        "        else:\n",
        "            return x\n",
        "\n",
        "\n",
        "\n",
        "class SCModel(nn.Module):\n",
        "\n",
        "\n",
        "\n",
        "    def __init__(self,checkpoint, output_size):\n",
        "\n",
        "        super(SCModel, self).__init__()\n",
        "\n",
        "        self.model = AutoModel.from_pretrained(checkpoint)\n",
        "\n",
        "        self.output_size = output_size\n",
        "        self.cl1 = nn.Linear(self.model.config.hidden_size, self.model.config.hidden_size)\n",
        "        self.relu = nn.ReLU()\n",
        "        self.classifier = nn.Linear(self.model.config.hidden_size, self.output_size)\n",
        "\n",
        "\n",
        "\n",
        "\n",
        "\n",
        "    def forward(self, input_ids, attention_mask,only_embeddings=False, freeze=None, x_aug=None):\n",
        "\n",
        "        output  = self.model(input_ids, attention_mask=attention_mask, output_hidden_states=True)\n",
        "\n",
        "        pooler_output = output.pooler_output\n",
        "\n",
        "        x = self.cl1(pooler_output)\n",
        "        x = self.relu(x)\n",
        "        #x = self.cl2(x)\n",
        "        #x = self.relu(x)\n",
        "        #x  = self.cl3(x)\n",
        "        x = self.classifier(x)\n",
        "        x = torch.sigmoid(x)\n",
        "\n",
        "        if only_embeddings:\n",
        "            return pooler_output\n",
        "        else:\n",
        "            return x\n",
        "\n"
      ],
      "metadata": {
        "id": "4ijqDwq5k6G8",
        "execution": {
          "iopub.status.busy": "2024-11-16T21:52:09.155812Z",
          "iopub.execute_input": "2024-11-16T21:52:09.15614Z",
          "iopub.status.idle": "2024-11-16T21:52:09.171251Z",
          "shell.execute_reply.started": "2024-11-16T21:52:09.156112Z",
          "shell.execute_reply": "2024-11-16T21:52:09.170536Z"
        },
        "trusted": true
      },
      "outputs": [],
      "execution_count": null
    },
    {
      "cell_type": "code",
      "source": [
        "\n",
        "\n",
        "def getModel(model_checkpoint, num_labels, scheme=False,only_embeddings = False):\n",
        "\n",
        "    '''\n",
        "\n",
        "    Creates and return an instance of the desired model with the correct tokenizer.\n",
        "\n",
        "    '''\n",
        "\n",
        "    tokenizer = AutoTokenizer.from_pretrained(model_checkpoint)\n",
        "\n",
        "    if scheme:\n",
        "\n",
        "        model = SCModel(model_checkpoint, num_labels)\n",
        "\n",
        "    else:\n",
        "\n",
        "        model = ACModel(model_checkpoint, num_labels)\n",
        "\n",
        "\n",
        "\n",
        "    return model, tokenizer"
      ],
      "metadata": {
        "id": "xA9h-2p4k6G9",
        "execution": {
          "iopub.status.busy": "2024-11-16T21:52:09.172709Z",
          "iopub.execute_input": "2024-11-16T21:52:09.172999Z",
          "iopub.status.idle": "2024-11-16T21:52:09.187559Z",
          "shell.execute_reply.started": "2024-11-16T21:52:09.172976Z",
          "shell.execute_reply": "2024-11-16T21:52:09.186843Z"
        },
        "trusted": true
      },
      "outputs": [],
      "execution_count": null
    },
    {
      "cell_type": "markdown",
      "source": [
        "## GE3(embedding augmentation)"
      ],
      "metadata": {
        "id": "0qc7PcguH6X0"
      }
    },
    {
      "cell_type": "code",
      "source": [
        "class Classifier(nn.Module):\n",
        "\n",
        "    def __init__(self, output_size):\n",
        "        super(Classifier, self).__init__()\n",
        "        self.output_size = output_size\n",
        "        self.cl1 = nn.Linear(768, 768)\n",
        "        self.relu = nn.ReLU()\n",
        "        self.classifier = nn.Linear(768, self.output_size)\n",
        "\n",
        "    def forward(self, input):\n",
        "\n",
        "        x = self.cl1(input)\n",
        "        x = self.relu(x)\n",
        "        x = self.classifier(x)\n",
        "        x = torch.sigmoid(x)\n",
        "        return x"
      ],
      "metadata": {
        "trusted": true,
        "execution": {
          "iopub.status.busy": "2024-11-16T22:26:09.802252Z",
          "iopub.execute_input": "2024-11-16T22:26:09.802628Z",
          "iopub.status.idle": "2024-11-16T22:26:09.809155Z",
          "shell.execute_reply.started": "2024-11-16T22:26:09.802599Z",
          "shell.execute_reply": "2024-11-16T22:26:09.808285Z"
        },
        "id": "5HanRkStH6X0"
      },
      "outputs": [],
      "execution_count": null
    },
    {
      "cell_type": "code",
      "source": [
        "cls = Classifier(num_labels)\n",
        "cls"
      ],
      "metadata": {
        "trusted": true,
        "execution": {
          "iopub.status.busy": "2024-11-16T22:26:10.262587Z",
          "iopub.execute_input": "2024-11-16T22:26:10.262954Z",
          "iopub.status.idle": "2024-11-16T22:26:10.275286Z",
          "shell.execute_reply.started": "2024-11-16T22:26:10.262926Z",
          "shell.execute_reply": "2024-11-16T22:26:10.27435Z"
        },
        "id": "nArJdHHfH6X0",
        "outputId": "5c31bfd1-4209-4901-9c38-b69172b106ba"
      },
      "outputs": [
        {
          "execution_count": 149,
          "output_type": "execute_result",
          "data": {
            "text/plain": "Classifier(\n  (cl1): Linear(in_features=768, out_features=768, bias=True)\n  (relu): ReLU()\n  (classifier): Linear(in_features=768, out_features=8, bias=True)\n)"
          },
          "metadata": {}
        }
      ],
      "execution_count": null
    },
    {
      "cell_type": "code",
      "source": [
        "for name, layer in model.named_modules():\n",
        "    break\n",
        "    print(name)"
      ],
      "metadata": {
        "trusted": true,
        "execution": {
          "iopub.status.busy": "2024-11-16T22:26:10.545343Z",
          "iopub.execute_input": "2024-11-16T22:26:10.54565Z",
          "iopub.status.idle": "2024-11-16T22:26:10.549855Z",
          "shell.execute_reply.started": "2024-11-16T22:26:10.545624Z",
          "shell.execute_reply": "2024-11-16T22:26:10.548966Z"
        },
        "id": "JNztULsyH6X0"
      },
      "outputs": [],
      "execution_count": null
    },
    {
      "cell_type": "code",
      "source": [
        "import time\n",
        "start = time.time()\n",
        "l = ['cl1', 'relu','classifier']\n",
        "\n",
        "sub_dict = {k:v for k,v in model.state_dict().items() if k in l}\n",
        "end = time.time()\n",
        "\n",
        "print(start-end)\n",
        "\n",
        "\n",
        "sub_dict"
      ],
      "metadata": {
        "trusted": true,
        "execution": {
          "iopub.status.busy": "2024-11-16T22:26:10.7902Z",
          "iopub.execute_input": "2024-11-16T22:26:10.790824Z",
          "iopub.status.idle": "2024-11-16T22:26:10.802299Z",
          "shell.execute_reply.started": "2024-11-16T22:26:10.790793Z",
          "shell.execute_reply": "2024-11-16T22:26:10.801274Z"
        },
        "id": "SF_Kd2r1H6X0",
        "outputId": "2410a763-ed7b-4924-8b70-8890b9a86b9e"
      },
      "outputs": [
        {
          "name": "stdout",
          "text": "-0.0039119720458984375\n",
          "output_type": "stream"
        },
        {
          "execution_count": 151,
          "output_type": "execute_result",
          "data": {
            "text/plain": "{}"
          },
          "metadata": {}
        }
      ],
      "execution_count": null
    },
    {
      "cell_type": "code",
      "source": [
        "sub = dict(list(model.state_dict().items())[-4:])\n",
        "sub.keys()"
      ],
      "metadata": {
        "trusted": true,
        "execution": {
          "iopub.status.busy": "2024-11-16T22:26:11.660729Z",
          "iopub.execute_input": "2024-11-16T22:26:11.661372Z",
          "iopub.status.idle": "2024-11-16T22:26:11.671028Z",
          "shell.execute_reply.started": "2024-11-16T22:26:11.661335Z",
          "shell.execute_reply": "2024-11-16T22:26:11.670094Z"
        },
        "id": "fNjrrzyEH6X1",
        "outputId": "5d392218-8760-4719-bd02-05c36a970494"
      },
      "outputs": [
        {
          "execution_count": 152,
          "output_type": "execute_result",
          "data": {
            "text/plain": "dict_keys(['cl1.weight', 'cl1.bias', 'classifier.weight', 'classifier.bias'])"
          },
          "metadata": {}
        }
      ],
      "execution_count": null
    },
    {
      "cell_type": "code",
      "source": [
        "cls.load_state_dict(sub)"
      ],
      "metadata": {
        "trusted": true,
        "execution": {
          "iopub.status.busy": "2024-11-16T22:26:15.450481Z",
          "iopub.execute_input": "2024-11-16T22:26:15.450856Z",
          "iopub.status.idle": "2024-11-16T22:26:15.457943Z",
          "shell.execute_reply.started": "2024-11-16T22:26:15.450828Z",
          "shell.execute_reply": "2024-11-16T22:26:15.456988Z"
        },
        "id": "eP84lsD3H6X1",
        "outputId": "dc6fa3ca-ec62-4771-b03a-feb0cb0307a8"
      },
      "outputs": [
        {
          "execution_count": 153,
          "output_type": "execute_result",
          "data": {
            "text/plain": "<All keys matched successfully>"
          },
          "metadata": {}
        }
      ],
      "execution_count": null
    },
    {
      "cell_type": "code",
      "source": [
        "cls(torch.zeros((5,768))).size()"
      ],
      "metadata": {
        "trusted": true,
        "execution": {
          "iopub.status.busy": "2024-11-16T22:26:15.790632Z",
          "iopub.execute_input": "2024-11-16T22:26:15.790908Z",
          "iopub.status.idle": "2024-11-16T22:26:15.800765Z",
          "shell.execute_reply.started": "2024-11-16T22:26:15.790885Z",
          "shell.execute_reply": "2024-11-16T22:26:15.8Z"
        },
        "id": "fKiNYidwH6X1",
        "outputId": "fdc1204f-24e2-4b7f-eb3d-fe67809c8c39"
      },
      "outputs": [
        {
          "execution_count": 154,
          "output_type": "execute_result",
          "data": {
            "text/plain": "torch.Size([5, 8])"
          },
          "metadata": {}
        }
      ],
      "execution_count": null
    },
    {
      "cell_type": "code",
      "source": [
        "#m,t= getModel(\"dlicari/Italian-Legal-BERT\",num_labels,scheme = True)\n",
        "m,t = model,tokenizer\n",
        "train_encodings = encode(t, df_train, train_labels, scheme, include_previous=False)\n",
        "tot =  len(train_encodings['input_ids'])\n",
        "device = torch.device('cuda')\n",
        "m.to(device)\n",
        "print(tot)\n",
        "b_size = 32\n",
        "n_minibatch = tot //b_size\n",
        "print(f\"n_minibatches: {n_minibatch}\")\n",
        "embeddings= []\n",
        "for i in range(n_minibatch):\n",
        "    start = i*b_size\n",
        "    end = (i+1)*b_size\n",
        "    with torch.no_grad():\n",
        "        input = torch.stack([torch.tensor(t,device=device) for t in train_encodings['input_ids'][start:end]])\n",
        "        mask = torch.stack([torch.tensor(t,device=device) for t in train_encodings['attention_mask'][start:end]])\n",
        "        #out = m(torch.tensor(train_encodings['input_ids'][start:end],device=device),torch.tensor(train_encodings['attention_mask'][start:end],device=device))\n",
        "        #print(input.size())\n",
        "        out = m(input,mask,only_embeddings=True)\n",
        "\n",
        "    embeddings = embeddings + list(out)\n",
        "tot = len(embeddings)\n",
        "print(tot)"
      ],
      "metadata": {
        "execution": {
          "iopub.status.busy": "2024-11-16T22:26:16.998887Z",
          "iopub.execute_input": "2024-11-16T22:26:16.999674Z",
          "iopub.status.idle": "2024-11-16T22:26:26.840987Z",
          "shell.execute_reply.started": "2024-11-16T22:26:16.99964Z",
          "shell.execute_reply": "2024-11-16T22:26:26.840044Z"
        },
        "trusted": true,
        "id": "MhkMirySH6X1",
        "outputId": "3110f396-e337-44cc-abc0-3a94e750c661"
      },
      "outputs": [
        {
          "name": "stdout",
          "text": "Encoding...\ninput shape: (782, 256)\nEncoding complete\n782\nn_minibatches: 24\n768\n",
          "output_type": "stream"
        }
      ],
      "execution_count": null
    },
    {
      "cell_type": "code",
      "source": [
        "train_labels\n",
        "for x in np.array(train_labels):\n",
        "    if list(x).count(1) > 1:\n",
        "        break\n",
        "        #print(x)\n",
        "lab = df_train['Scheme'][:tot].reset_index(drop=True)\n",
        "lab"
      ],
      "metadata": {
        "execution": {
          "iopub.status.busy": "2024-11-16T22:26:26.842558Z",
          "iopub.execute_input": "2024-11-16T22:26:26.842861Z",
          "iopub.status.idle": "2024-11-16T22:26:26.852906Z",
          "shell.execute_reply.started": "2024-11-16T22:26:26.842835Z",
          "shell.execute_reply": "2024-11-16T22:26:26.851842Z"
        },
        "trusted": true,
        "id": "nDJsz1cZH6X1",
        "outputId": "b18ec8e5-ac91-4c56-fd84-402035323e9f"
      },
      "outputs": [
        {
          "execution_count": 156,
          "output_type": "execute_result",
          "data": {
            "text/plain": "0               Rule\n1               Itpr\n2               Rule\n3               Itpr\n4               Prec\n           ...      \n763     [Prec, Rule]\n764     [Prec, Rule]\n765             Rule\n766    [Class, Rule]\n767            Princ\nName: Scheme, Length: 768, dtype: object"
          },
          "metadata": {}
        }
      ],
      "execution_count": null
    },
    {
      "cell_type": "code",
      "source": [
        "\n",
        "print(torch.stack(embeddings).unsqueeze(1).size())\n",
        "e = torch.stack(embeddings).detach().cpu().numpy()\n",
        "def compress(x):\n",
        "    return list(x)\n",
        "\n",
        "e1 = list(map(compress, e))\n",
        "np.array(e1).shape\n",
        "enc_lab = np.array(train_labels[:tot])\n",
        "len(enc_lab.tolist())"
      ],
      "metadata": {
        "trusted": true,
        "execution": {
          "iopub.status.busy": "2024-11-16T22:26:26.854594Z",
          "iopub.execute_input": "2024-11-16T22:26:26.854905Z",
          "iopub.status.idle": "2024-11-16T22:26:27.356374Z",
          "shell.execute_reply.started": "2024-11-16T22:26:26.854867Z",
          "shell.execute_reply": "2024-11-16T22:26:27.355369Z"
        },
        "id": "K1WWmgObH6X2",
        "outputId": "2b919d86-cf89-4ddd-9137-9fe357b4038c"
      },
      "outputs": [
        {
          "name": "stdout",
          "text": "torch.Size([768, 1, 768])\n",
          "output_type": "stream"
        },
        {
          "execution_count": 157,
          "output_type": "execute_result",
          "data": {
            "text/plain": "768"
          },
          "metadata": {}
        }
      ],
      "execution_count": null
    },
    {
      "cell_type": "code",
      "source": [
        "e = torch.stack(embeddings).detach().cpu().numpy()\n",
        "df = pd.DataFrame()\n",
        "#df.head(10)\n",
        "df['embeddings'] = e.tolist()\n",
        "#df.assign(embeddings=list(e))\n",
        "#df.assign(labels=lab.tolist())\n",
        "df['labels'] = lab\n",
        "#df['enc_labels'] = enc_lab.tolist()\n",
        "#df.head(10)\n",
        "df"
      ],
      "metadata": {
        "execution": {
          "iopub.status.busy": "2024-11-16T22:26:27.358422Z",
          "iopub.execute_input": "2024-11-16T22:26:27.358712Z",
          "iopub.status.idle": "2024-11-16T22:26:27.415006Z",
          "shell.execute_reply.started": "2024-11-16T22:26:27.358687Z",
          "shell.execute_reply": "2024-11-16T22:26:27.414012Z"
        },
        "trusted": true,
        "id": "keIu-lNLH6X2",
        "outputId": "409c09d4-808f-4de8-89dc-526881faf564"
      },
      "outputs": [
        {
          "execution_count": 158,
          "output_type": "execute_result",
          "data": {
            "text/plain": "                                            embeddings         labels\n0    [0.6323497295379639, -0.6038662791252136, -0.0...           Rule\n1    [-0.34774142503738403, -0.6091912984848022, 0....           Itpr\n2    [0.6212426424026489, -0.5653579235076904, -0.6...           Rule\n3    [-0.28185752034187317, -0.5742737650871277, 0....           Itpr\n4    [0.22777549922466278, -0.6726775169372559, -0....           Prec\n..                                                 ...            ...\n763  [0.5531334280967712, -0.5500314235687256, -0.4...   [Prec, Rule]\n764  [0.641610324382782, -0.6485404968261719, -0.43...   [Prec, Rule]\n765  [0.7044534683227539, -0.39554232358932495, -0....           Rule\n766  [0.37064069509506226, 0.016265971586108208, 0....  [Class, Rule]\n767  [0.7637208104133606, -0.200104221701622, 0.441...          Princ\n\n[768 rows x 2 columns]",
            "text/html": "<div>\n<style scoped>\n    .dataframe tbody tr th:only-of-type {\n        vertical-align: middle;\n    }\n\n    .dataframe tbody tr th {\n        vertical-align: top;\n    }\n\n    .dataframe thead th {\n        text-align: right;\n    }\n</style>\n<table border=\"1\" class=\"dataframe\">\n  <thead>\n    <tr style=\"text-align: right;\">\n      <th></th>\n      <th>embeddings</th>\n      <th>labels</th>\n    </tr>\n  </thead>\n  <tbody>\n    <tr>\n      <th>0</th>\n      <td>[0.6323497295379639, -0.6038662791252136, -0.0...</td>\n      <td>Rule</td>\n    </tr>\n    <tr>\n      <th>1</th>\n      <td>[-0.34774142503738403, -0.6091912984848022, 0....</td>\n      <td>Itpr</td>\n    </tr>\n    <tr>\n      <th>2</th>\n      <td>[0.6212426424026489, -0.5653579235076904, -0.6...</td>\n      <td>Rule</td>\n    </tr>\n    <tr>\n      <th>3</th>\n      <td>[-0.28185752034187317, -0.5742737650871277, 0....</td>\n      <td>Itpr</td>\n    </tr>\n    <tr>\n      <th>4</th>\n      <td>[0.22777549922466278, -0.6726775169372559, -0....</td>\n      <td>Prec</td>\n    </tr>\n    <tr>\n      <th>...</th>\n      <td>...</td>\n      <td>...</td>\n    </tr>\n    <tr>\n      <th>763</th>\n      <td>[0.5531334280967712, -0.5500314235687256, -0.4...</td>\n      <td>[Prec, Rule]</td>\n    </tr>\n    <tr>\n      <th>764</th>\n      <td>[0.641610324382782, -0.6485404968261719, -0.43...</td>\n      <td>[Prec, Rule]</td>\n    </tr>\n    <tr>\n      <th>765</th>\n      <td>[0.7044534683227539, -0.39554232358932495, -0....</td>\n      <td>Rule</td>\n    </tr>\n    <tr>\n      <th>766</th>\n      <td>[0.37064069509506226, 0.016265971586108208, 0....</td>\n      <td>[Class, Rule]</td>\n    </tr>\n    <tr>\n      <th>767</th>\n      <td>[0.7637208104133606, -0.200104221701622, 0.441...</td>\n      <td>Princ</td>\n    </tr>\n  </tbody>\n</table>\n<p>768 rows × 2 columns</p>\n</div>"
          },
          "metadata": {}
        }
      ],
      "execution_count": null
    },
    {
      "cell_type": "code",
      "source": [
        "\n",
        "df = clean_list(df,'labels')\n",
        "df"
      ],
      "metadata": {
        "execution": {
          "iopub.status.busy": "2024-11-16T22:26:27.416177Z",
          "iopub.execute_input": "2024-11-16T22:26:27.416474Z",
          "iopub.status.idle": "2024-11-16T22:26:27.606249Z",
          "shell.execute_reply.started": "2024-11-16T22:26:27.416449Z",
          "shell.execute_reply": "2024-11-16T22:26:27.605217Z"
        },
        "trusted": true,
        "id": "rkFjbwy3H6X2",
        "outputId": "ba8f8bc4-36f3-4b73-a1f5-7df4fb632bb1"
      },
      "outputs": [
        {
          "execution_count": 159,
          "output_type": "execute_result",
          "data": {
            "text/plain": "                                            embeddings         labels  \\\n0    [0.6323497295379639, -0.6038662791252136, -0.0...           Rule   \n1    [-0.34774142503738403, -0.6091912984848022, 0....           Itpr   \n2    [0.6212426424026489, -0.5653579235076904, -0.6...           Rule   \n3    [-0.28185752034187317, -0.5742737650871277, 0....           Itpr   \n4    [0.22777549922466278, -0.6726775169372559, -0....           Prec   \n..                                                 ...            ...   \n763  [0.5531334280967712, -0.5500314235687256, -0.4...   [Prec, Rule]   \n764  [0.641610324382782, -0.6485404968261719, -0.43...   [Prec, Rule]   \n765  [0.7044534683227539, -0.39554232358932495, -0....           Rule   \n766  [0.37064069509506226, 0.016265971586108208, 0....  [Class, Rule]   \n767  [0.7637208104133606, -0.200104221701622, 0.441...          Princ   \n\n        labels2  \n0          Rule  \n1          Itpr  \n2          Rule  \n3          Itpr  \n4          Prec  \n..          ...  \n763   Prec,Rule  \n764   Prec,Rule  \n765        Rule  \n766  Class,Rule  \n767       Princ  \n\n[768 rows x 3 columns]",
            "text/html": "<div>\n<style scoped>\n    .dataframe tbody tr th:only-of-type {\n        vertical-align: middle;\n    }\n\n    .dataframe tbody tr th {\n        vertical-align: top;\n    }\n\n    .dataframe thead th {\n        text-align: right;\n    }\n</style>\n<table border=\"1\" class=\"dataframe\">\n  <thead>\n    <tr style=\"text-align: right;\">\n      <th></th>\n      <th>embeddings</th>\n      <th>labels</th>\n      <th>labels2</th>\n    </tr>\n  </thead>\n  <tbody>\n    <tr>\n      <th>0</th>\n      <td>[0.6323497295379639, -0.6038662791252136, -0.0...</td>\n      <td>Rule</td>\n      <td>Rule</td>\n    </tr>\n    <tr>\n      <th>1</th>\n      <td>[-0.34774142503738403, -0.6091912984848022, 0....</td>\n      <td>Itpr</td>\n      <td>Itpr</td>\n    </tr>\n    <tr>\n      <th>2</th>\n      <td>[0.6212426424026489, -0.5653579235076904, -0.6...</td>\n      <td>Rule</td>\n      <td>Rule</td>\n    </tr>\n    <tr>\n      <th>3</th>\n      <td>[-0.28185752034187317, -0.5742737650871277, 0....</td>\n      <td>Itpr</td>\n      <td>Itpr</td>\n    </tr>\n    <tr>\n      <th>4</th>\n      <td>[0.22777549922466278, -0.6726775169372559, -0....</td>\n      <td>Prec</td>\n      <td>Prec</td>\n    </tr>\n    <tr>\n      <th>...</th>\n      <td>...</td>\n      <td>...</td>\n      <td>...</td>\n    </tr>\n    <tr>\n      <th>763</th>\n      <td>[0.5531334280967712, -0.5500314235687256, -0.4...</td>\n      <td>[Prec, Rule]</td>\n      <td>Prec,Rule</td>\n    </tr>\n    <tr>\n      <th>764</th>\n      <td>[0.641610324382782, -0.6485404968261719, -0.43...</td>\n      <td>[Prec, Rule]</td>\n      <td>Prec,Rule</td>\n    </tr>\n    <tr>\n      <th>765</th>\n      <td>[0.7044534683227539, -0.39554232358932495, -0....</td>\n      <td>Rule</td>\n      <td>Rule</td>\n    </tr>\n    <tr>\n      <th>766</th>\n      <td>[0.37064069509506226, 0.016265971586108208, 0....</td>\n      <td>[Class, Rule]</td>\n      <td>Class,Rule</td>\n    </tr>\n    <tr>\n      <th>767</th>\n      <td>[0.7637208104133606, -0.200104221701622, 0.441...</td>\n      <td>Princ</td>\n      <td>Princ</td>\n    </tr>\n  </tbody>\n</table>\n<p>768 rows × 3 columns</p>\n</div>"
          },
          "metadata": {}
        }
      ],
      "execution_count": null
    },
    {
      "cell_type": "code",
      "source": [
        "#consider each combination of labels as a different label\n",
        "names = df['labels'].explode().unique()\n",
        "len(names)\n",
        "names"
      ],
      "metadata": {
        "execution": {
          "iopub.status.busy": "2024-11-16T22:26:44.113834Z",
          "iopub.execute_input": "2024-11-16T22:26:44.114176Z",
          "iopub.status.idle": "2024-11-16T22:26:44.122217Z",
          "shell.execute_reply.started": "2024-11-16T22:26:44.11415Z",
          "shell.execute_reply": "2024-11-16T22:26:44.121277Z"
        },
        "trusted": true,
        "id": "_PvDGsysH6X2",
        "outputId": "93fa6bdc-71ab-41ce-d3f8-c75bd69bf8ee"
      },
      "outputs": [
        {
          "execution_count": 160,
          "output_type": "execute_result",
          "data": {
            "text/plain": "array(['Rule', 'Itpr', 'Prec', 'Aut', 'Class', 'Princ', 'Syst', 'Tele'],\n      dtype=object)"
          },
          "metadata": {}
        }
      ],
      "execution_count": null
    },
    {
      "cell_type": "code",
      "source": [
        "#mean_embeddings = np.empty((len(names),768))\n",
        "df = df.explode('labels')\n",
        "mean_embeddings = dict()\n",
        "for name in names:\n",
        "    a = df[df['labels']==name]\n",
        "    #print(a['embeddings'].apply(lambda x: np.array(x)))\n",
        "    q = np.array(a['embeddings'])\n",
        "\n",
        "    #print(type(a['embeddings'].iloc[0]))\n",
        "    #a.head(10)\n",
        "    q =np.array(list(map(lambda x: np.array(x),q)))\n",
        "    #np.array(q1).shape\n",
        "    if len(q)==0:\n",
        "        print(name)\n",
        "    mean_embeddings[name] = q.mean(0)\n",
        "    #print(np.array(a['embeddings']).shape)\n",
        "len(mean_embeddings)"
      ],
      "metadata": {
        "execution": {
          "iopub.status.busy": "2024-11-16T22:26:46.800568Z",
          "iopub.execute_input": "2024-11-16T22:26:46.801226Z",
          "iopub.status.idle": "2024-11-16T22:26:46.876859Z",
          "shell.execute_reply.started": "2024-11-16T22:26:46.801193Z",
          "shell.execute_reply": "2024-11-16T22:26:46.876012Z"
        },
        "trusted": true,
        "id": "RnST8FnhH6X2",
        "outputId": "2fffb6d8-edd9-4fb5-ebda-219e71e954fe"
      },
      "outputs": [
        {
          "execution_count": 161,
          "output_type": "execute_result",
          "data": {
            "text/plain": "8"
          },
          "metadata": {}
        }
      ],
      "execution_count": null
    },
    {
      "cell_type": "code",
      "source": [
        "#create new embeddings: target_emb = source_emb - mean_source + mean_target\n",
        "new_embeddings = []\n",
        "new_labels = []\n",
        "for source in names:\n",
        "    a = df[df['labels']==source]\n",
        "    print(f'source: {source}, length:{len(a)}')\n",
        "    for target in names:\n",
        "        l=0\n",
        "        if target == source:\n",
        "            continue\n",
        "        for e in a['embeddings']:\n",
        "            l = l + 1\n",
        "            new = np.array(e) - mean_embeddings[source] + mean_embeddings[target]\n",
        "            new_embeddings.append(new)\n",
        "            new_labels.append(target)\n",
        "        print(source,target,l)\n",
        "len(new_embeddings)"
      ],
      "metadata": {
        "execution": {
          "iopub.status.busy": "2024-11-16T22:26:59.884071Z",
          "iopub.execute_input": "2024-11-16T22:26:59.884763Z",
          "iopub.status.idle": "2024-11-16T22:27:00.346655Z",
          "shell.execute_reply.started": "2024-11-16T22:26:59.88473Z",
          "shell.execute_reply": "2024-11-16T22:27:00.345628Z"
        },
        "trusted": true,
        "id": "R6QUGRknH6X2",
        "outputId": "2c6240d6-f85c-46c3-abbe-99e774e5d93a"
      },
      "outputs": [
        {
          "name": "stdout",
          "text": "source: Rule, length:324\nRule Itpr 324\nRule Prec 324\nRule Aut 324\nRule Class 324\nRule Princ 324\nRule Syst 324\nRule Tele 324\nsource: Itpr, length:182\nItpr Rule 182\nItpr Prec 182\nItpr Aut 182\nItpr Class 182\nItpr Princ 182\nItpr Syst 182\nItpr Tele 182\nsource: Prec, length:279\nPrec Rule 279\nPrec Itpr 279\nPrec Aut 279\nPrec Class 279\nPrec Princ 279\nPrec Syst 279\nPrec Tele 279\nsource: Aut, length:44\nAut Rule 44\nAut Itpr 44\nAut Prec 44\nAut Class 44\nAut Princ 44\nAut Syst 44\nAut Tele 44\nsource: Class, length:54\nClass Rule 54\nClass Itpr 54\nClass Prec 54\nClass Aut 54\nClass Princ 54\nClass Syst 54\nClass Tele 54\nsource: Princ, length:87\nPrinc Rule 87\nPrinc Itpr 87\nPrinc Prec 87\nPrinc Aut 87\nPrinc Class 87\nPrinc Syst 87\nPrinc Tele 87\nsource: Syst, length:16\nSyst Rule 16\nSyst Itpr 16\nSyst Prec 16\nSyst Aut 16\nSyst Class 16\nSyst Princ 16\nSyst Tele 16\nsource: Tele, length:8\nTele Rule 8\nTele Itpr 8\nTele Prec 8\nTele Aut 8\nTele Class 8\nTele Princ 8\nTele Syst 8\n",
          "output_type": "stream"
        },
        {
          "execution_count": 162,
          "output_type": "execute_result",
          "data": {
            "text/plain": "6958"
          },
          "metadata": {}
        }
      ],
      "execution_count": null
    },
    {
      "cell_type": "code",
      "source": [
        "#reverse exploding\n",
        "df =df.rename_axis(index='ind')\n",
        "df1 = df.explode('labels').groupby(by='ind').agg({'embeddings':list,'labels':list})\n",
        "df1"
      ],
      "metadata": {
        "execution": {
          "iopub.status.busy": "2024-11-16T22:27:06.024545Z",
          "iopub.execute_input": "2024-11-16T22:27:06.024938Z",
          "iopub.status.idle": "2024-11-16T22:27:06.120911Z",
          "shell.execute_reply.started": "2024-11-16T22:27:06.024898Z",
          "shell.execute_reply": "2024-11-16T22:27:06.119947Z"
        },
        "trusted": true,
        "id": "GtKKGtyEH6X3",
        "outputId": "e9406c8b-80f7-40da-99aa-dfb05c8d5dde"
      },
      "outputs": [
        {
          "execution_count": 163,
          "output_type": "execute_result",
          "data": {
            "text/plain": "                                            embeddings         labels\nind                                                                  \n0    [[0.6323497295379639, -0.6038662791252136, -0....         [Rule]\n1    [[-0.34774142503738403, -0.6091912984848022, 0...         [Itpr]\n2    [[0.6212426424026489, -0.5653579235076904, -0....         [Rule]\n3    [[-0.28185752034187317, -0.5742737650871277, 0...         [Itpr]\n4    [[0.22777549922466278, -0.6726775169372559, -0...         [Prec]\n..                                                 ...            ...\n763  [[0.5531334280967712, -0.5500314235687256, -0....   [Prec, Rule]\n764  [[0.641610324382782, -0.6485404968261719, -0.4...   [Prec, Rule]\n765  [[0.7044534683227539, -0.39554232358932495, -0...         [Rule]\n766  [[0.37064069509506226, 0.016265971586108208, 0...  [Class, Rule]\n767  [[0.7637208104133606, -0.200104221701622, 0.44...        [Princ]\n\n[768 rows x 2 columns]",
            "text/html": "<div>\n<style scoped>\n    .dataframe tbody tr th:only-of-type {\n        vertical-align: middle;\n    }\n\n    .dataframe tbody tr th {\n        vertical-align: top;\n    }\n\n    .dataframe thead th {\n        text-align: right;\n    }\n</style>\n<table border=\"1\" class=\"dataframe\">\n  <thead>\n    <tr style=\"text-align: right;\">\n      <th></th>\n      <th>embeddings</th>\n      <th>labels</th>\n    </tr>\n    <tr>\n      <th>ind</th>\n      <th></th>\n      <th></th>\n    </tr>\n  </thead>\n  <tbody>\n    <tr>\n      <th>0</th>\n      <td>[[0.6323497295379639, -0.6038662791252136, -0....</td>\n      <td>[Rule]</td>\n    </tr>\n    <tr>\n      <th>1</th>\n      <td>[[-0.34774142503738403, -0.6091912984848022, 0...</td>\n      <td>[Itpr]</td>\n    </tr>\n    <tr>\n      <th>2</th>\n      <td>[[0.6212426424026489, -0.5653579235076904, -0....</td>\n      <td>[Rule]</td>\n    </tr>\n    <tr>\n      <th>3</th>\n      <td>[[-0.28185752034187317, -0.5742737650871277, 0...</td>\n      <td>[Itpr]</td>\n    </tr>\n    <tr>\n      <th>4</th>\n      <td>[[0.22777549922466278, -0.6726775169372559, -0...</td>\n      <td>[Prec]</td>\n    </tr>\n    <tr>\n      <th>...</th>\n      <td>...</td>\n      <td>...</td>\n    </tr>\n    <tr>\n      <th>763</th>\n      <td>[[0.5531334280967712, -0.5500314235687256, -0....</td>\n      <td>[Prec, Rule]</td>\n    </tr>\n    <tr>\n      <th>764</th>\n      <td>[[0.641610324382782, -0.6485404968261719, -0.4...</td>\n      <td>[Prec, Rule]</td>\n    </tr>\n    <tr>\n      <th>765</th>\n      <td>[[0.7044534683227539, -0.39554232358932495, -0...</td>\n      <td>[Rule]</td>\n    </tr>\n    <tr>\n      <th>766</th>\n      <td>[[0.37064069509506226, 0.016265971586108208, 0...</td>\n      <td>[Class, Rule]</td>\n    </tr>\n    <tr>\n      <th>767</th>\n      <td>[[0.7637208104133606, -0.200104221701622, 0.44...</td>\n      <td>[Princ]</td>\n    </tr>\n  </tbody>\n</table>\n<p>768 rows × 2 columns</p>\n</div>"
          },
          "metadata": {}
        }
      ],
      "execution_count": null
    },
    {
      "cell_type": "code",
      "source": [
        "#remove list of list in embedding column\n",
        "def f(x):\n",
        "    return x[0]\n",
        "\n",
        "df1['embeddings'] = df1['embeddings'].apply(f)\n",
        "df1['embeddings']"
      ],
      "metadata": {
        "execution": {
          "iopub.status.busy": "2024-11-16T22:27:09.500532Z",
          "iopub.execute_input": "2024-11-16T22:27:09.500948Z",
          "iopub.status.idle": "2024-11-16T22:27:09.518341Z",
          "shell.execute_reply.started": "2024-11-16T22:27:09.500915Z",
          "shell.execute_reply": "2024-11-16T22:27:09.517347Z"
        },
        "trusted": true,
        "id": "4BdcX0_CH6X3",
        "outputId": "1022a038-d023-4cc9-c01c-ffd6c7c8459b"
      },
      "outputs": [
        {
          "execution_count": 164,
          "output_type": "execute_result",
          "data": {
            "text/plain": "ind\n0      [0.6323497295379639, -0.6038662791252136, -0.0...\n1      [-0.34774142503738403, -0.6091912984848022, 0....\n2      [0.6212426424026489, -0.5653579235076904, -0.6...\n3      [-0.28185752034187317, -0.5742737650871277, 0....\n4      [0.22777549922466278, -0.6726775169372559, -0....\n                             ...                        \n763    [0.5531334280967712, -0.5500314235687256, -0.4...\n764    [0.641610324382782, -0.6485404968261719, -0.43...\n765    [0.7044534683227539, -0.39554232358932495, -0....\n766    [0.37064069509506226, 0.016265971586108208, 0....\n767    [0.7637208104133606, -0.200104221701622, 0.441...\nName: embeddings, Length: 768, dtype: object"
          },
          "metadata": {}
        }
      ],
      "execution_count": null
    },
    {
      "cell_type": "code",
      "source": [
        "df1"
      ],
      "metadata": {
        "execution": {
          "iopub.status.busy": "2024-11-16T22:27:11.040464Z",
          "iopub.execute_input": "2024-11-16T22:27:11.040831Z",
          "iopub.status.idle": "2024-11-16T22:27:11.070096Z",
          "shell.execute_reply.started": "2024-11-16T22:27:11.040801Z",
          "shell.execute_reply": "2024-11-16T22:27:11.069245Z"
        },
        "trusted": true,
        "id": "5c3MSOMWH6X3",
        "outputId": "387f06fa-9cfb-4a4d-c86d-cd0cc36e927a"
      },
      "outputs": [
        {
          "execution_count": 165,
          "output_type": "execute_result",
          "data": {
            "text/plain": "                                            embeddings         labels\nind                                                                  \n0    [0.6323497295379639, -0.6038662791252136, -0.0...         [Rule]\n1    [-0.34774142503738403, -0.6091912984848022, 0....         [Itpr]\n2    [0.6212426424026489, -0.5653579235076904, -0.6...         [Rule]\n3    [-0.28185752034187317, -0.5742737650871277, 0....         [Itpr]\n4    [0.22777549922466278, -0.6726775169372559, -0....         [Prec]\n..                                                 ...            ...\n763  [0.5531334280967712, -0.5500314235687256, -0.4...   [Prec, Rule]\n764  [0.641610324382782, -0.6485404968261719, -0.43...   [Prec, Rule]\n765  [0.7044534683227539, -0.39554232358932495, -0....         [Rule]\n766  [0.37064069509506226, 0.016265971586108208, 0....  [Class, Rule]\n767  [0.7637208104133606, -0.200104221701622, 0.441...        [Princ]\n\n[768 rows x 2 columns]",
            "text/html": "<div>\n<style scoped>\n    .dataframe tbody tr th:only-of-type {\n        vertical-align: middle;\n    }\n\n    .dataframe tbody tr th {\n        vertical-align: top;\n    }\n\n    .dataframe thead th {\n        text-align: right;\n    }\n</style>\n<table border=\"1\" class=\"dataframe\">\n  <thead>\n    <tr style=\"text-align: right;\">\n      <th></th>\n      <th>embeddings</th>\n      <th>labels</th>\n    </tr>\n    <tr>\n      <th>ind</th>\n      <th></th>\n      <th></th>\n    </tr>\n  </thead>\n  <tbody>\n    <tr>\n      <th>0</th>\n      <td>[0.6323497295379639, -0.6038662791252136, -0.0...</td>\n      <td>[Rule]</td>\n    </tr>\n    <tr>\n      <th>1</th>\n      <td>[-0.34774142503738403, -0.6091912984848022, 0....</td>\n      <td>[Itpr]</td>\n    </tr>\n    <tr>\n      <th>2</th>\n      <td>[0.6212426424026489, -0.5653579235076904, -0.6...</td>\n      <td>[Rule]</td>\n    </tr>\n    <tr>\n      <th>3</th>\n      <td>[-0.28185752034187317, -0.5742737650871277, 0....</td>\n      <td>[Itpr]</td>\n    </tr>\n    <tr>\n      <th>4</th>\n      <td>[0.22777549922466278, -0.6726775169372559, -0....</td>\n      <td>[Prec]</td>\n    </tr>\n    <tr>\n      <th>...</th>\n      <td>...</td>\n      <td>...</td>\n    </tr>\n    <tr>\n      <th>763</th>\n      <td>[0.5531334280967712, -0.5500314235687256, -0.4...</td>\n      <td>[Prec, Rule]</td>\n    </tr>\n    <tr>\n      <th>764</th>\n      <td>[0.641610324382782, -0.6485404968261719, -0.43...</td>\n      <td>[Prec, Rule]</td>\n    </tr>\n    <tr>\n      <th>765</th>\n      <td>[0.7044534683227539, -0.39554232358932495, -0....</td>\n      <td>[Rule]</td>\n    </tr>\n    <tr>\n      <th>766</th>\n      <td>[0.37064069509506226, 0.016265971586108208, 0....</td>\n      <td>[Class, Rule]</td>\n    </tr>\n    <tr>\n      <th>767</th>\n      <td>[0.7637208104133606, -0.200104221701622, 0.441...</td>\n      <td>[Princ]</td>\n    </tr>\n  </tbody>\n</table>\n<p>768 rows × 2 columns</p>\n</div>"
          },
          "metadata": {}
        }
      ],
      "execution_count": null
    },
    {
      "cell_type": "code",
      "source": [
        "new_df = pd.DataFrame()\n",
        "new_df['embeddings'] = new_embeddings\n",
        "new_df['labels'] = new_labels\n",
        "#new_df.describe()\n",
        "#q = (new_df['embeddings'][:2])\n",
        "#q = np.array(list(map(lambda x: np.array(x),q)))\n",
        "#torch.stack(list(map(lambda x: torch.tensor(x),q))).\n",
        "new_df['labels'].value_counts()"
      ],
      "metadata": {
        "execution": {
          "iopub.status.busy": "2024-11-16T22:27:45.54355Z",
          "iopub.execute_input": "2024-11-16T22:27:45.543902Z",
          "iopub.status.idle": "2024-11-16T22:27:45.560383Z",
          "shell.execute_reply.started": "2024-11-16T22:27:45.543874Z",
          "shell.execute_reply": "2024-11-16T22:27:45.559426Z"
        },
        "trusted": true,
        "id": "Yuuq4R0QH6X3",
        "outputId": "5d969151-9958-4d2e-83f6-5de4a5291481"
      },
      "outputs": [
        {
          "execution_count": 166,
          "output_type": "execute_result",
          "data": {
            "text/plain": "labels\nTele     986\nSyst     978\nAut      950\nClass    940\nPrinc    907\nItpr     812\nPrec     715\nRule     670\nName: count, dtype: int64"
          },
          "metadata": {}
        }
      ],
      "execution_count": null
    },
    {
      "cell_type": "code",
      "source": [
        "#merge dataframes\n",
        "tot_df = pd.concat([df1,new_df],ignore_index=True)\n",
        "#final_df = pd.get_dummies(tot_df,columns = ['labels'],dtype=float)\n",
        "\n",
        "z = tot_df.explode('labels')\n",
        "z['labels'].value_counts()\n",
        "#convert list labels to string\n",
        "tot_df=clean_list(tot_df,'labels')\n",
        "tot_df"
      ],
      "metadata": {
        "execution": {
          "iopub.status.busy": "2024-11-16T22:28:11.893648Z",
          "iopub.execute_input": "2024-11-16T22:28:11.894372Z",
          "iopub.status.idle": "2024-11-16T22:28:13.483682Z",
          "shell.execute_reply.started": "2024-11-16T22:28:11.89434Z",
          "shell.execute_reply": "2024-11-16T22:28:13.482721Z"
        },
        "trusted": true,
        "id": "zb-lNJXGH6X3",
        "outputId": "7c639e27-ced4-458d-a812-d5bbfa794ef7"
      },
      "outputs": [
        {
          "execution_count": 167,
          "output_type": "execute_result",
          "data": {
            "text/plain": "                                             embeddings  labels labels2\n0     [0.6323497295379639, -0.6038662791252136, -0.0...  [Rule]    Rule\n1     [-0.34774142503738403, -0.6091912984848022, 0....  [Itpr]    Itpr\n2     [0.6212426424026489, -0.5653579235076904, -0.6...  [Rule]    Rule\n3     [-0.28185752034187317, -0.5742737650871277, 0....  [Itpr]    Itpr\n4     [0.22777549922466278, -0.6726775169372559, -0....  [Prec]    Prec\n...                                                 ...     ...     ...\n7721  [-0.9517880096100271, -0.26344348583370447, 0....    Syst    Syst\n7722  [-0.30465612513944507, -0.48481415305286646, -...    Syst    Syst\n7723  [0.22053944924846292, -0.1425206521525979, 0.3...    Syst    Syst\n7724  [-0.37881665071472526, -0.6820960203185678, -0...    Syst    Syst\n7725  [-0.678809882607311, -0.48315580282360315, 0.1...    Syst    Syst\n\n[7726 rows x 3 columns]",
            "text/html": "<div>\n<style scoped>\n    .dataframe tbody tr th:only-of-type {\n        vertical-align: middle;\n    }\n\n    .dataframe tbody tr th {\n        vertical-align: top;\n    }\n\n    .dataframe thead th {\n        text-align: right;\n    }\n</style>\n<table border=\"1\" class=\"dataframe\">\n  <thead>\n    <tr style=\"text-align: right;\">\n      <th></th>\n      <th>embeddings</th>\n      <th>labels</th>\n      <th>labels2</th>\n    </tr>\n  </thead>\n  <tbody>\n    <tr>\n      <th>0</th>\n      <td>[0.6323497295379639, -0.6038662791252136, -0.0...</td>\n      <td>[Rule]</td>\n      <td>Rule</td>\n    </tr>\n    <tr>\n      <th>1</th>\n      <td>[-0.34774142503738403, -0.6091912984848022, 0....</td>\n      <td>[Itpr]</td>\n      <td>Itpr</td>\n    </tr>\n    <tr>\n      <th>2</th>\n      <td>[0.6212426424026489, -0.5653579235076904, -0.6...</td>\n      <td>[Rule]</td>\n      <td>Rule</td>\n    </tr>\n    <tr>\n      <th>3</th>\n      <td>[-0.28185752034187317, -0.5742737650871277, 0....</td>\n      <td>[Itpr]</td>\n      <td>Itpr</td>\n    </tr>\n    <tr>\n      <th>4</th>\n      <td>[0.22777549922466278, -0.6726775169372559, -0....</td>\n      <td>[Prec]</td>\n      <td>Prec</td>\n    </tr>\n    <tr>\n      <th>...</th>\n      <td>...</td>\n      <td>...</td>\n      <td>...</td>\n    </tr>\n    <tr>\n      <th>7721</th>\n      <td>[-0.9517880096100271, -0.26344348583370447, 0....</td>\n      <td>Syst</td>\n      <td>Syst</td>\n    </tr>\n    <tr>\n      <th>7722</th>\n      <td>[-0.30465612513944507, -0.48481415305286646, -...</td>\n      <td>Syst</td>\n      <td>Syst</td>\n    </tr>\n    <tr>\n      <th>7723</th>\n      <td>[0.22053944924846292, -0.1425206521525979, 0.3...</td>\n      <td>Syst</td>\n      <td>Syst</td>\n    </tr>\n    <tr>\n      <th>7724</th>\n      <td>[-0.37881665071472526, -0.6820960203185678, -0...</td>\n      <td>Syst</td>\n      <td>Syst</td>\n    </tr>\n    <tr>\n      <th>7725</th>\n      <td>[-0.678809882607311, -0.48315580282360315, 0.1...</td>\n      <td>Syst</td>\n      <td>Syst</td>\n    </tr>\n  </tbody>\n</table>\n<p>7726 rows × 3 columns</p>\n</div>"
          },
          "metadata": {}
        }
      ],
      "execution_count": null
    },
    {
      "cell_type": "code",
      "source": [
        "#apply again the multibinarizer on Scheme, before transform the list classes into str,\n",
        "#and get a one hot encoding of the labels\n",
        "mlb1 = MultiLabelBinarizer()\n",
        "\n",
        "mlb_result = mlb.fit_transform([str(tot_df.loc[i,'labels2']).split(',') for i in range(len(tot_df))])\n",
        "\n",
        "df_aug = pd.concat([tot_df,pd.DataFrame(mlb_result,columns=list(mlb.classes_))],axis=1)\n",
        "df_aug_labels = df_aug[mlb.classes_]\n",
        "df_aug_train = df_aug['embeddings']"
      ],
      "metadata": {
        "execution": {
          "iopub.status.busy": "2024-11-16T22:28:34.700779Z",
          "iopub.execute_input": "2024-11-16T22:28:34.702071Z",
          "iopub.status.idle": "2024-11-16T22:28:34.840591Z",
          "shell.execute_reply.started": "2024-11-16T22:28:34.702029Z",
          "shell.execute_reply": "2024-11-16T22:28:34.839818Z"
        },
        "trusted": true,
        "id": "NTqNlND0H6X3"
      },
      "outputs": [],
      "execution_count": null
    },
    {
      "cell_type": "code",
      "source": [
        "las = torch.stack(list(map(lambda l: torch.tensor(l,device=device,dtype=torch.float32),np.array(train_labels))))\n",
        "las.size()"
      ],
      "metadata": {
        "execution": {
          "iopub.status.busy": "2024-11-16T22:28:40.191083Z",
          "iopub.execute_input": "2024-11-16T22:28:40.191806Z",
          "iopub.status.idle": "2024-11-16T22:28:40.223508Z",
          "shell.execute_reply.started": "2024-11-16T22:28:40.191774Z",
          "shell.execute_reply": "2024-11-16T22:28:40.222556Z"
        },
        "trusted": true,
        "id": "Xcpi5fbdH6X4",
        "outputId": "f3fc24d5-ec20-44e1-d04e-14ad6848578c"
      },
      "outputs": [
        {
          "execution_count": 169,
          "output_type": "execute_result",
          "data": {
            "text/plain": "torch.Size([782, 8])"
          },
          "metadata": {}
        }
      ],
      "execution_count": null
    },
    {
      "cell_type": "code",
      "source": [
        "#preprocessing\n",
        "#q = (new_df['embeddings'][:2])\n",
        "#q = np.array(list(map(lambda x: np.array(x),q)))\n",
        "#torch.stack(list(map(lambda x: torch.tensor(x),q)))\n",
        "\n",
        "train_data = torch.stack(list(map(lambda e: torch.tensor(e,device=device,dtype=torch.float32),df_aug_train)))\n",
        "train_labs = torch.stack(list(map(lambda l: torch.tensor(l,device=device,dtype=torch.float32),np.array(df_aug_labels))))\n",
        "print(train_data.size(),train_labs.size())\n"
      ],
      "metadata": {
        "execution": {
          "iopub.status.busy": "2024-11-16T22:28:46.348634Z",
          "iopub.execute_input": "2024-11-16T22:28:46.349454Z",
          "iopub.status.idle": "2024-11-16T22:28:46.878363Z",
          "shell.execute_reply.started": "2024-11-16T22:28:46.349423Z",
          "shell.execute_reply": "2024-11-16T22:28:46.877467Z"
        },
        "trusted": true,
        "id": "GcpeLLoSH6X4",
        "outputId": "4908d54d-1bd6-4060-abda-769435d9a66e"
      },
      "outputs": [
        {
          "name": "stdout",
          "text": "torch.Size([7726, 768]) torch.Size([7726, 8])\n",
          "output_type": "stream"
        }
      ],
      "execution_count": null
    },
    {
      "cell_type": "code",
      "source": [
        "#clsf = classifier(11)\n",
        "cls.to(device).train()"
      ],
      "metadata": {
        "execution": {
          "iopub.status.busy": "2024-11-16T22:28:51.042466Z",
          "iopub.execute_input": "2024-11-16T22:28:51.042834Z",
          "iopub.status.idle": "2024-11-16T22:28:51.050092Z",
          "shell.execute_reply.started": "2024-11-16T22:28:51.042806Z",
          "shell.execute_reply": "2024-11-16T22:28:51.049107Z"
        },
        "trusted": true,
        "id": "ugAvDiYzH6X4",
        "outputId": "4eb6b0d1-920b-4294-cb08-ac980ecc77fb"
      },
      "outputs": [
        {
          "execution_count": 171,
          "output_type": "execute_result",
          "data": {
            "text/plain": "Classifier(\n  (cl1): Linear(in_features=768, out_features=768, bias=True)\n  (relu): ReLU()\n  (classifier): Linear(in_features=768, out_features=8, bias=True)\n)"
          },
          "metadata": {}
        }
      ],
      "execution_count": null
    },
    {
      "cell_type": "code",
      "source": [
        "#define loss and optimizer\n",
        "criterion = nn.BCELoss()\n",
        "optimizer = torch.optim.AdamW(cls.parameters(), lr=5e-5, weight_decay=1.5e-2)"
      ],
      "metadata": {
        "execution": {
          "iopub.status.busy": "2024-11-16T22:28:52.730745Z",
          "iopub.execute_input": "2024-11-16T22:28:52.731646Z",
          "iopub.status.idle": "2024-11-16T22:28:52.736485Z",
          "shell.execute_reply.started": "2024-11-16T22:28:52.73161Z",
          "shell.execute_reply": "2024-11-16T22:28:52.735575Z"
        },
        "trusted": true,
        "id": "DXbK4reEH6X4"
      },
      "outputs": [],
      "execution_count": null
    },
    {
      "cell_type": "code",
      "source": [
        "b_size = 32\n",
        "n_minibatch = len(train_data) //b_size\n",
        "print(f\"n_minibatches: {n_minibatch}\")\n",
        "for e in tqdm(range(10)):\n",
        "    losses= []\n",
        "    for i in range(n_minibatch):\n",
        "        start = i*b_size\n",
        "        end = (i+1)*b_size\n",
        "        optimizer.zero_grad()\n",
        "\n",
        "        preds = cls(train_data[start:end])\n",
        "        ground = train_labs[start:end]\n",
        "        loss = criterion(preds,ground)\n",
        "        loss.backward()\n",
        "        optimizer.step()\n",
        "        losses.append(loss.item())\n",
        "\n",
        "    tot_loss = np.mean(losses)\n",
        "    if (e%10==0):\n",
        "        print(f'epoch: {e}, loss:{tot_loss}')\n",
        "\n",
        ""
      ],
      "metadata": {
        "trusted": true,
        "execution": {
          "iopub.status.busy": "2024-11-16T22:28:53.514744Z",
          "iopub.execute_input": "2024-11-16T22:28:53.515341Z",
          "iopub.status.idle": "2024-11-16T22:28:56.877794Z",
          "shell.execute_reply.started": "2024-11-16T22:28:53.51531Z",
          "shell.execute_reply": "2024-11-16T22:28:56.876864Z"
        },
        "id": "pZLq5Pj1H6X4",
        "outputId": "d7575add-bebe-4b4b-cd23-3fe0c631912a"
      },
      "outputs": [
        {
          "name": "stdout",
          "text": "n_minibatches: 241\n",
          "output_type": "stream"
        },
        {
          "name": "stderr",
          "text": " 10%|█         | 1/10 [00:00<00:03,  2.76it/s]",
          "output_type": "stream"
        },
        {
          "name": "stdout",
          "text": "epoch: 0, loss:0.3489099810850571\n",
          "output_type": "stream"
        },
        {
          "name": "stderr",
          "text": "100%|██████████| 10/10 [00:03<00:00,  2.98it/s]\n",
          "output_type": "stream"
        }
      ],
      "execution_count": null
    },
    {
      "cell_type": "code",
      "source": [
        "new_dict = model.state_dict()\n",
        "for k,v in cls.state_dict().items():\n",
        "    new_dict[k] = v\n",
        "model.load_state_dict(new_dict)"
      ],
      "metadata": {
        "trusted": true,
        "execution": {
          "iopub.status.busy": "2024-11-16T22:29:04.032962Z",
          "iopub.execute_input": "2024-11-16T22:29:04.033313Z",
          "iopub.status.idle": "2024-11-16T22:29:04.055348Z",
          "shell.execute_reply.started": "2024-11-16T22:29:04.033287Z",
          "shell.execute_reply": "2024-11-16T22:29:04.054444Z"
        },
        "id": "VFur-8uLH6X4",
        "outputId": "e53157ed-ed37-4d50-b678-9ea82ddbba22"
      },
      "outputs": [
        {
          "execution_count": 174,
          "output_type": "execute_result",
          "data": {
            "text/plain": "<All keys matched successfully>"
          },
          "metadata": {}
        }
      ],
      "execution_count": null
    },
    {
      "cell_type": "code",
      "source": [
        "cls.cl1.weight"
      ],
      "metadata": {
        "trusted": true,
        "execution": {
          "iopub.status.busy": "2024-11-16T22:29:05.29281Z",
          "iopub.execute_input": "2024-11-16T22:29:05.293447Z",
          "iopub.status.idle": "2024-11-16T22:29:05.302458Z",
          "shell.execute_reply.started": "2024-11-16T22:29:05.293412Z",
          "shell.execute_reply": "2024-11-16T22:29:05.301439Z"
        },
        "id": "gI2M922qH6X4",
        "outputId": "062ac31f-8e45-4977-a5f0-a9fcdb8286e6"
      },
      "outputs": [
        {
          "execution_count": 175,
          "output_type": "execute_result",
          "data": {
            "text/plain": "Parameter containing:\ntensor([[-0.0028, -0.0091, -0.0120,  ...,  0.0166,  0.0276, -0.0283],\n        [-0.0235, -0.0288, -0.0163,  ..., -0.0276, -0.0295, -0.0290],\n        [ 0.0236, -0.0042, -0.0219,  ..., -0.0411, -0.0327, -0.0046],\n        ...,\n        [-0.0148,  0.0047,  0.0220,  ..., -0.0127, -0.0099, -0.0345],\n        [-0.0309,  0.0131, -0.0275,  ...,  0.0214,  0.0237, -0.0246],\n        [ 0.0351, -0.0059,  0.0160,  ...,  0.0167,  0.0090, -0.0096]],\n       device='cuda:0', requires_grad=True)"
          },
          "metadata": {}
        }
      ],
      "execution_count": null
    },
    {
      "cell_type": "code",
      "source": [
        "model.cl1.weight"
      ],
      "metadata": {
        "trusted": true,
        "execution": {
          "iopub.status.busy": "2024-11-16T22:29:06.020096Z",
          "iopub.execute_input": "2024-11-16T22:29:06.020431Z",
          "iopub.status.idle": "2024-11-16T22:29:06.029525Z",
          "shell.execute_reply.started": "2024-11-16T22:29:06.020403Z",
          "shell.execute_reply": "2024-11-16T22:29:06.028366Z"
        },
        "id": "evsUpHsnH6X5",
        "outputId": "73b7efbc-f447-4f25-f5be-a0abe55f6cee"
      },
      "outputs": [
        {
          "execution_count": 176,
          "output_type": "execute_result",
          "data": {
            "text/plain": "Parameter containing:\ntensor([[-0.0028, -0.0091, -0.0120,  ...,  0.0166,  0.0276, -0.0283],\n        [-0.0235, -0.0288, -0.0163,  ..., -0.0276, -0.0295, -0.0290],\n        [ 0.0236, -0.0042, -0.0219,  ..., -0.0411, -0.0327, -0.0046],\n        ...,\n        [-0.0148,  0.0047,  0.0220,  ..., -0.0127, -0.0099, -0.0345],\n        [-0.0309,  0.0131, -0.0275,  ...,  0.0214,  0.0237, -0.0246],\n        [ 0.0351, -0.0059,  0.0160,  ...,  0.0167,  0.0090, -0.0096]],\n       device='cuda:0', requires_grad=True)"
          },
          "metadata": {}
        }
      ],
      "execution_count": null
    },
    {
      "cell_type": "markdown",
      "source": [
        "## Train"
      ],
      "metadata": {
        "id": "E4NSs0Ack6G-"
      }
    },
    {
      "cell_type": "code",
      "source": [
        "# Train one epoch\n",
        "\n",
        "def train_epoch(model: torch.nn.Module,\n",
        "\n",
        "          train_loader:torch.utils.data.DataLoader,\n",
        "\n",
        "          device: torch.device,\n",
        "\n",
        "          optimizer: torch.optim,\n",
        "\n",
        "          criterion: torch.nn.Module,\n",
        "\n",
        "          epoch: int) -> float:\n",
        "\n",
        "    \"\"\"Trains a neural network for one epoch.\n",
        "\n",
        "\n",
        "\n",
        "    Args:\n",
        "\n",
        "        model: the model to train.\n",
        "\n",
        "        train_loader: the data loader containing the training data.\n",
        "\n",
        "        device: the device to use to train the model.\n",
        "\n",
        "        optimizer: the optimizer to use to train the model.\n",
        "\n",
        "        epoch: the number of the current epoch.\n",
        "\n",
        "\n",
        "\n",
        "    Returns:\n",
        "\n",
        "        the cross entropy Loss value on the training data.\n",
        "\n",
        "    \"\"\"\n",
        "\n",
        "    size_ds_train = len(train_loader.dataset)\n",
        "\n",
        "    num_batches = len(train_loader)\n",
        "\n",
        "    loss_score = []\n",
        "\n",
        "    loop = tqdm(train_loader)\n",
        "\n",
        "    #set training mode\n",
        "\n",
        "    model.train()\n",
        "\n",
        "    for idx_batch, batch in enumerate(loop):\n",
        "\n",
        "        optimizer.zero_grad()\n",
        "\n",
        "        input_ids = batch['input_ids'].to(device)\n",
        "\n",
        "        attention_mask = batch['attention_mask'].to(device)\n",
        "\n",
        "        labels = batch['labels'].to(device)\n",
        "\n",
        "        logits = model(input_ids,\n",
        "\n",
        "                              attention_mask=attention_mask,\n",
        "\n",
        "                        )\n",
        "\n",
        "        loss = criterion(logits, labels)\n",
        "\n",
        "        #loss = focal_loss(logits,labels)\n",
        "\n",
        "        loss_score.append(loss.item())\n",
        "\n",
        "        loss.backward()\n",
        "\n",
        "        optimizer.step()\n",
        "\n",
        "        loop.set_description(f'Epoch {epoch}')\n",
        "\n",
        "        loop.set_postfix(loss=loss.item())\n",
        "\n",
        "\n",
        "\n",
        "    loss_train = np.mean(loss_score)\n",
        "\n",
        "    return loss_train\n",
        "\n",
        "\n",
        "\n",
        "# Validate one epoch\n",
        "\n",
        "def validate(model: torch.nn.Module,\n",
        "\n",
        "             criterion: torch.nn.Module,\n",
        "\n",
        "             data_loader: torch.utils.data.DataLoader,\n",
        "\n",
        "             device: torch.device) -> float:\n",
        "\n",
        "    \"\"\"Evaluates the model.\n",
        "\n",
        "\n",
        "\n",
        "    Args:\n",
        "\n",
        "        model: the model to evalaute.\n",
        "\n",
        "        data_loader: the data loader containing the validation data.\n",
        "\n",
        "        device: the device to use to evaluate the model.\n",
        "\n",
        "\n",
        "\n",
        "    Returns:\n",
        "\n",
        "        the loss value on the validation data.\n",
        "\n",
        "    \"\"\"\n",
        "\n",
        "    loss_score = []\n",
        "\n",
        "    #set evaluation mode\n",
        "\n",
        "    model = model.eval()\n",
        "\n",
        "    with torch.no_grad():\n",
        "\n",
        "        for idx_batch, batch in enumerate(data_loader):\n",
        "\n",
        "            input_ids = batch['input_ids'].to(device)\n",
        "\n",
        "            attention_mask = batch['attention_mask'].to(device)\n",
        "\n",
        "            labels = batch['labels'].to(device)\n",
        "\n",
        "            logits = model(input_ids, attention_mask=attention_mask)\n",
        "\n",
        "            #f_loss = FocalLoss(gamma=0)\n",
        "\n",
        "            #loss = f_loss(logits,labels)\n",
        "\n",
        "            loss = criterion(logits, labels)\n",
        "\n",
        "            #loss = focal_loss(logits,labels)\n",
        "\n",
        "            loss_score.append(loss.item())\n",
        "\n",
        "    loss_val = np.mean(loss_score)\n",
        "\n",
        "    return loss_val"
      ],
      "metadata": {
        "id": "zKDxYccjk6G_",
        "execution": {
          "iopub.status.busy": "2024-11-16T21:52:20.161982Z",
          "iopub.execute_input": "2024-11-16T21:52:20.162717Z",
          "iopub.status.idle": "2024-11-16T21:52:20.175686Z",
          "shell.execute_reply.started": "2024-11-16T21:52:20.162685Z",
          "shell.execute_reply": "2024-11-16T21:52:20.174676Z"
        },
        "trusted": true
      },
      "outputs": [],
      "execution_count": null
    },
    {
      "cell_type": "code",
      "source": [
        "def training_loop(num_epochs: int,\n",
        "\n",
        "                  optimizer: torch.optim,\n",
        "\n",
        "                  criterion: torch.nn.Module,\n",
        "\n",
        "                  model: torch.nn.Module,\n",
        "\n",
        "                  lr: float,\n",
        "\n",
        "                  loader_train: torch.utils.data.DataLoader,\n",
        "\n",
        "                  loader_val : torch.utils.data.DataLoader = None,\n",
        "\n",
        "                  model_dir = \"models\",\n",
        "\n",
        "                  verbose: bool=True,\n",
        "\n",
        "                  use_cuda = False) -> Dict:\n",
        "\n",
        "    \"\"\"Executes the training loop.\n",
        "\n",
        "\n",
        "\n",
        "        Args:\n",
        "\n",
        "            num_epochs: the number of epochs.\n",
        "\n",
        "            optimizer: the optimizer to use.\n",
        "\n",
        "            criterion: criterions used to calculate loss.\n",
        "\n",
        "            model: the model to train.\n",
        "\n",
        "            loader_train: the data loader containing the training data.\n",
        "\n",
        "            loader_val: the data loader containing the validation data.\n",
        "\n",
        "            model_dir: checkpoints folder.\n",
        "\n",
        "            verbose: if true print the value of loss.\n",
        "\n",
        "\n",
        "\n",
        "        Returns:\n",
        "\n",
        "            A dictionary with the statistics computed during the train:\n",
        "\n",
        "            the values for the train loss for each epoch.\n",
        "\n",
        "            the values for the validation loss for each epoch.\n",
        "\n",
        "            the time of execution in seconds for the entire loop.\n",
        "\n",
        "    \"\"\"\n",
        "\n",
        "    device = torch.device('cuda') if use_cuda and torch.cuda.is_available() else torch.device('cpu')\n",
        "\n",
        "    model.to(device)\n",
        "\n",
        "    loop_start = timer()\n",
        "\n",
        "    train_losses_values = []\n",
        "\n",
        "    val_losses_values = []\n",
        "\n",
        "\n",
        "\n",
        "    #best_epoch = 1\n",
        "\n",
        "    val_cri = nn.BCELoss(reduction = 'mean')\n",
        "\n",
        "    for epoch in range(1, num_epochs + 1):\n",
        "\n",
        "        time_start = timer()\n",
        "\n",
        "        loss_train = train_epoch(model, loader_train, device,\n",
        "\n",
        "                                           optimizer, criterion, epoch)\n",
        "\n",
        "        if(loader_val != None):\n",
        "\n",
        "            loss_val = validate(model, criterion, loader_val, device)\n",
        "\n",
        "        else:\n",
        "\n",
        "            loss_val = 0\n",
        "\n",
        "        time_end = timer()\n",
        "\n",
        "        train_losses_values.append(loss_train)\n",
        "\n",
        "        val_losses_values.append(loss_val)\n",
        "\n",
        "\n",
        "\n",
        "       # torch.save(model.state_dict(), os.path.join(model_dir, 'epoch-{}.pt'.format(epoch)))\n",
        "\n",
        "       # best_epoch = np.argmin(val_losses_values)+1\n",
        "\n",
        "\n",
        "\n",
        "        if verbose:\n",
        "\n",
        "            print(f'Epoch: {epoch} '\n",
        "\n",
        "                  f' Lr: {lr:.8f} '\n",
        "\n",
        "                  f' Loss: Train = [{loss_train:.4f}] - Val = [{loss_val:.4f}] '\n",
        "\n",
        "                  f' Time one epoch (s): {(time_end - time_start):.4f} ')\n",
        "\n",
        "        \"\"\"\n",
        "\n",
        "        if epoch >= 5:\n",
        "\n",
        "            if loss_val > val_losses_values[-2] and loss_val> val_losses_values[-1]  :\n",
        "\n",
        "                if verbose:\n",
        "\n",
        "                    print(\"Early Stopping. Best epoch: {}\".format(best_epoch))\n",
        "\n",
        "                break\n",
        "\n",
        "        \"\"\"\n",
        "\n",
        "    loop_end = timer()\n",
        "\n",
        "    time_loop = loop_end - loop_start\n",
        "\n",
        "    if verbose:\n",
        "\n",
        "        print(f'Time for {num_epochs} epochs (s): {(time_loop):.3f}')\n",
        "\n",
        "\n",
        "\n",
        "    #model.load_state_dict(torch.load(os.path.join(model_dir, 'epoch-{}.pt'.format(best_epoch))))\n",
        "\n",
        "\n",
        "\n",
        "    return {'train_loss_values': train_losses_values,\n",
        "\n",
        "            'val_loss_values' : val_losses_values,\n",
        "\n",
        "            'time': time_loop}"
      ],
      "metadata": {
        "id": "BF6jUjsMk6G_",
        "execution": {
          "iopub.status.busy": "2024-11-16T21:52:20.410141Z",
          "iopub.execute_input": "2024-11-16T21:52:20.410748Z",
          "iopub.status.idle": "2024-11-16T21:52:20.422778Z",
          "shell.execute_reply.started": "2024-11-16T21:52:20.41072Z",
          "shell.execute_reply": "2024-11-16T21:52:20.421854Z"
        },
        "trusted": true
      },
      "outputs": [],
      "execution_count": null
    },
    {
      "cell_type": "code",
      "source": [
        "def execute(lr: float,\n",
        "\n",
        "            num_epochs: int,\n",
        "\n",
        "            batch_size: int,\n",
        "\n",
        "            num_labels: int,\n",
        "\n",
        "            train_df: pd.DataFrame,\n",
        "\n",
        "            train_labels: pd.DataFrame,\n",
        "\n",
        "            val_df: pd.DataFrame,\n",
        "\n",
        "            val_labels: pd.DataFrame,\n",
        "\n",
        "            scheme = True,\n",
        "\n",
        "            model_name=\"\",\n",
        "\n",
        "            model=None,\n",
        "\n",
        "            tokenizer=None,\n",
        "\n",
        "            use_cuda=True,\n",
        "\n",
        "            include_previous=True,\n",
        "\n",
        "            sampler: torch.utils.data.Sampler = None,\n",
        "\n",
        "            ) ->Tuple[torch.nn.Module, any]:\n",
        "\n",
        "    \"\"\"Gets the model, does the encodings of the training and validation data using the\n",
        "\n",
        "        tokenizer, and then executes the training loop.\n",
        "\n",
        "\n",
        "\n",
        "    Args:\n",
        "\n",
        "        lr: the learning rate.\n",
        "\n",
        "        num_epochs: the number of epochs.\n",
        "\n",
        "        batch_size: the batch size.\n",
        "\n",
        "        data: training-val dataframe.\n",
        "\n",
        "        data_labels: training-val labels dataframe.\n",
        "\n",
        "        val_df: validation dataframe.\n",
        "\n",
        "        model: the network to train.\n",
        "\n",
        "        history: questions-answers history flag.\n",
        "\n",
        "    \"\"\"\n",
        "\n",
        "    #train on full data\n",
        "\n",
        "    #get the model and the tokenizer\n",
        "\n",
        "    if not model_name == \"\":\n",
        "\n",
        "        model, tokenizer = getModel(model_name, num_labels, scheme)\n",
        "\n",
        "    if scheme:\n",
        "\n",
        "        criterion = FocalLoss()\n",
        "\n",
        "        #criterion = torch.nn.BCELoss()\n",
        "\n",
        "    else:\n",
        "\n",
        "        criterion = torch.nn.CrossEntropyLoss()\n",
        "\n",
        "    #Start encodings\n",
        "\n",
        "    #print(f'Train set:')\n",
        "\n",
        "    train_encodings = encode(tokenizer, train_df, train_labels, scheme, include_previous=include_previous)\n",
        "\n",
        "    val_encodings = encode(tokenizer, val_df, val_labels, scheme, include_previous=include_previous)\n",
        "\n",
        "    print(f'ENCODING COMPLETE.')\n",
        "\n",
        "\n",
        "\n",
        "    #create training dataset\n",
        "\n",
        "    train_dataset = CustomTorchDataset(train_encodings)\n",
        "\n",
        "    #create training dataloader\n",
        "\n",
        "    data_loader_train = torch.utils.data.DataLoader(train_dataset,\n",
        "\n",
        "                                        batch_size=batch_size,\n",
        "\n",
        "                                        shuffle = sampler is None,\n",
        "\n",
        "                                        sampler = sampler )\n",
        "\n",
        "    #create validation dataset\n",
        "\n",
        "    val_dataset = CustomTorchDataset(val_encodings)\n",
        "\n",
        "    #create validation dataloader\n",
        "\n",
        "    data_loader_val = torch.utils.data.DataLoader(val_dataset,\n",
        "\n",
        "                                          batch_size=batch_size,\n",
        "\n",
        "                                          shuffle = False) # No custom sampling in validation\n",
        "\n",
        "    #Optimizer\n",
        "\n",
        "    optimizer = torch.optim.AdamW(model.parameters(), lr=lr, weight_decay=1.5e-2)\n",
        "\n",
        "    print(f'STARTING TRAINING with complete data:')\n",
        "\n",
        "    model_dir = 'model_data'\n",
        "\n",
        "    if not os.path.exists(model_dir):\n",
        "\n",
        "        os.makedirs(model_dir)\n",
        "\n",
        "    statistics = training_loop(num_epochs, optimizer, criterion, model,lr,\n",
        "\n",
        "                              data_loader_train, data_loader_val, model_dir=model_dir, use_cuda=use_cuda)\n",
        "\n",
        "    print(f'TRAINING COMPLETE.')\n",
        "\n",
        "\n",
        "\n",
        "    return model, tokenizer, statistics"
      ],
      "metadata": {
        "id": "W0yra_hCk6HB",
        "execution": {
          "iopub.status.busy": "2024-11-16T21:52:20.644097Z",
          "iopub.execute_input": "2024-11-16T21:52:20.6446Z",
          "iopub.status.idle": "2024-11-16T21:52:20.657884Z",
          "shell.execute_reply.started": "2024-11-16T21:52:20.644568Z",
          "shell.execute_reply": "2024-11-16T21:52:20.656929Z"
        },
        "trusted": true
      },
      "outputs": [],
      "execution_count": null
    },
    {
      "cell_type": "code",
      "source": [
        "from sklearn.svm import SVC, LinearSVC\n",
        "\n",
        "\n",
        "\n",
        "def executeTfIdfSvm(train_df: pd.DataFrame,\n",
        "\n",
        "            test_df: pd.DataFrame,\n",
        "\n",
        "            kernel = \"rbf\",\n",
        "\n",
        "            scheme = False,\n",
        "\n",
        "            include_previous = True,\n",
        "\n",
        "            weighted_sampling = False):\n",
        "\n",
        "    # Build tokenizer\n",
        "\n",
        "    tokenizer = BaselineVectorizer(include_previous=include_previous)\n",
        "\n",
        "    tokenizer.fit(df_train)\n",
        "\n",
        "\n",
        "\n",
        "    # Build model\n",
        "\n",
        "    if scheme:\n",
        "\n",
        "        # https://scikit-learn.org/stable/modules/svm.html#multi-class-classification\n",
        "\n",
        "        # https://scikit-learn.org/stable/modules/multiclass.html\n",
        "\n",
        "        model = LinearSVC(random_state=SEED, multi_class=\"crammer_singer\") if kernel==\"linear\" else SVC(kernel=kernel, random_state=SEED, decision_function_shape='ovo')\n",
        "\n",
        "    else:\n",
        "\n",
        "        # https://scikit-learn.org/stable/modules/svm.html#classification\n",
        "\n",
        "        model = LinearSVC(random_state=SEED) if kernel==\"linear\" else SVC(kernel=kernel, random_state=SEED)\n",
        "\n",
        "\n",
        "\n",
        "    class_column = 'Scheme' if scheme else 'Name' # TODO is Name correct for AC?\n",
        "\n",
        "    df_train_sample_weights = [class_weights[i] for i in df_train[class_column]] if weighted_sampling else None\n",
        "\n",
        "\n",
        "\n",
        "    # Train model\n",
        "\n",
        "    train_encodings = tokenizer.transform(df_train)\n",
        "\n",
        "    labels = train_df['Scheme'] if scheme else train_df['label']\n",
        "\n",
        "    model.fit(train_encodings, labels, sample_weight=df_train_sample_weights)\n",
        "\n",
        "\n",
        "\n",
        "    # Test model\n",
        "\n",
        "    test_encodings = tokenizer.transform(test_df)\n",
        "\n",
        "    test_labels = test_df['Scheme'] if scheme else test_df['label']\n",
        "\n",
        "    y_pred = model.predict(test_encodings)\n",
        "\n",
        "    print(\"\\n Baseline kernel: \"+kernel+\"\\n\"+classification_report(test_labels, y_pred))\n",
        "\n",
        "\n",
        "\n",
        "    return model, tokenizer"
      ],
      "metadata": {
        "id": "A1-EhMGTZRHl",
        "execution": {
          "iopub.status.busy": "2024-11-16T21:52:20.773803Z",
          "iopub.execute_input": "2024-11-16T21:52:20.774077Z",
          "iopub.status.idle": "2024-11-16T21:52:20.7838Z",
          "shell.execute_reply.started": "2024-11-16T21:52:20.774054Z",
          "shell.execute_reply": "2024-11-16T21:52:20.782556Z"
        },
        "trusted": true
      },
      "outputs": [],
      "execution_count": null
    },
    {
      "cell_type": "markdown",
      "source": [
        "# Execution configuration"
      ],
      "metadata": {
        "id": "ul4I7Vc0-sEv"
      }
    },
    {
      "cell_type": "code",
      "source": [
        "#model_checkpoint = 'bert-base-uncased'\n",
        "\n",
        "#model_checkpoint = 'dbmdz/bert-base-italian-xxl-cased' # https://huggingface.co/dbmdz/bert-base-italian-xxl-cased\n",
        "\n",
        "model_checkpoint = \"dlicari/Italian-Legal-BERT\" # https://huggingface.co/dlicari/Italian-Legal-BERT\n",
        "\n",
        "False\n",
        "#parameters\n",
        "\n",
        "lr = 5e-5\n",
        "\n",
        "batch_size = 32\n",
        "\n",
        "scheme = True # boolean used to distinguish between the AC and SC tasks\n",
        "\n",
        "epochs = 6\n",
        "\n",
        "USE_CUDA = True\n",
        "\n",
        "INCLUDE_PREVIOUS=True\n",
        "\n",
        "ABBREVIATION_AUGMENTATION = False # whether to do data augmentation expanding abbreviations\n",
        "\n",
        "WEIGHTED_SAMPLING=False"
      ],
      "metadata": {
        "id": "5bpoH-s8k6HD",
        "execution": {
          "iopub.status.busy": "2024-11-16T22:25:55.060706Z",
          "iopub.execute_input": "2024-11-16T22:25:55.061097Z",
          "iopub.status.idle": "2024-11-16T22:25:55.066359Z",
          "shell.execute_reply.started": "2024-11-16T22:25:55.061064Z",
          "shell.execute_reply": "2024-11-16T22:25:55.065533Z"
        },
        "trusted": true
      },
      "outputs": [],
      "execution_count": null
    },
    {
      "cell_type": "code",
      "source": [
        "df_sc_final"
      ],
      "metadata": {
        "execution": {
          "iopub.status.busy": "2024-11-16T22:25:55.347847Z",
          "iopub.execute_input": "2024-11-16T22:25:55.34882Z",
          "iopub.status.idle": "2024-11-16T22:25:55.383254Z",
          "shell.execute_reply.started": "2024-11-16T22:25:55.348775Z",
          "shell.execute_reply": "2024-11-16T22:25:55.382399Z"
        },
        "trusted": true,
        "id": "oXgPG6ZNH6X7",
        "outputId": "935c5e1a-b564-4420-ab6f-2bcf8dbfc9bb"
      },
      "outputs": [
        {
          "execution_count": 143,
          "output_type": "execute_result",
          "data": {
            "text/plain": "                             Document  Name   Id Chain Num  \\\n0     2013_40_VAT_OPAM_2_REM_MB_PS_AN  prem   A2     A   2   \n1     2013_40_VAT_OPAM_2_REM_MB_PS_AN  prem   A3     A   3   \n2       2018_847_VAT_OP_2_-1_MB_AF_AN  prem   A1     A   1   \n3       2018_847_VAT_OP_2_-1_MB_AF_AN  prem   A2     A   2   \n4       2018_847_VAT_OP_2_-1_MB_AF_AN  prem   A3     A   3   \n...                               ...   ...  ...   ...  ..   \n1282     2021_6075_VAT_OPAM_2_1_PS_AN  prem  C15     C  15   \n1283     2021_6075_VAT_OPAM_2_1_PS_AN  prem  C16     C  16   \n1284     2021_6075_VAT_OPAM_2_1_PS_AN  prem  C17     C  17   \n1285     2021_6075_VAT_OPAM_2_1_PS_AN  prem  C18     C  18   \n1286     2021_6075_VAT_OPAM_2_1_PS_AN  prem  C19     C  19   \n\n                                                   Text Type       SUP  SFF  \\\n0     Ai sensi dell'art. 14 del d.lgs.546/92, se l'o...    L       NaN  NaN   \n1     Se il ricorso non è stato    proposto da o nei...    L       NaN  NaN   \n2     Secondo condivisa e costante giurisprudenza (C...    L       NaN  NaN   \n3     Tuttavia, nel caso qui in esame, la Comm/ne no...    L  [A3, A4]  NaN   \n4     A tal proposito si ricorda che la Corte cost. ...    L       NaN  NaN   \n...                                                 ...  ...       ...  ...   \n1282  Sotto questo profilo i Compro Oro sono sottopo...    L       NaN  NaN   \n1283  Tale comunicazione ha luogo quando i destinata...    L       NaN  NaN   \n1284  Il Ministro dell'interno, con decreto del 17 f...    L       NaN  NaN   \n1285  Tra i soggetti destinatari del decreto sono ri...    L       NaN  NaN   \n1286  In conclusione, per quanto fin qui esposto, i ...    L            NaN   \n\n      ATT  ...                                           Previous     Scheme2  \\\n0     NaN  ...   Ai sensi dell'art. 14 del d.lgs.546/92, se l'...        Rule   \n1     NaN  ...   Se il ricorso non è stato\\n    proposto da o ...        Itpr   \n2     NaN  ...  Secondo condivisa e costante giurisprudenza (C...        Rule   \n3     NaN  ...  Tuttavia, nel caso qui in esame, la Comm/ne no...        Itpr   \n4     NaN  ...  A tal proposito si ricorda che la Corte cost. ...        Prec   \n...   ...  ...                                                ...         ...   \n1282  NaN  ...  Sotto questo profilo i Compro Oro sono sottopo...        Rule   \n1283  NaN  ...  Tale comunicazione ha luogo quando i destinata...        Rule   \n1284  NaN  ...  Il Ministro dell'interno, con decreto del 17 f...        Rule   \n1285  NaN  ...  Tra i soggetti destinatari del decreto sono ri...  Class,Rule   \n1286  NaN  ...  In conclusione, per quanto fin qui esposto, i ...       Class   \n\n     Aut Class Itpr Prec  Princ  Rule  Syst  Tele  \n0      0     0    0    0      0     1     0     0  \n1      0     0    1    0      0     0     0     0  \n2      0     0    0    0      0     1     0     0  \n3      0     0    1    0      0     0     0     0  \n4      0     0    0    1      0     0     0     0  \n...   ..   ...  ...  ...    ...   ...   ...   ...  \n1282   0     0    0    0      0     1     0     0  \n1283   0     0    0    0      0     1     0     0  \n1284   0     0    0    0      0     1     0     0  \n1285   0     1    0    0      0     1     0     0  \n1286   0     1    0    0      0     0     0     0  \n\n[1287 rows x 24 columns]",
            "text/html": "<div>\n<style scoped>\n    .dataframe tbody tr th:only-of-type {\n        vertical-align: middle;\n    }\n\n    .dataframe tbody tr th {\n        vertical-align: top;\n    }\n\n    .dataframe thead th {\n        text-align: right;\n    }\n</style>\n<table border=\"1\" class=\"dataframe\">\n  <thead>\n    <tr style=\"text-align: right;\">\n      <th></th>\n      <th>Document</th>\n      <th>Name</th>\n      <th>Id</th>\n      <th>Chain</th>\n      <th>Num</th>\n      <th>Text</th>\n      <th>Type</th>\n      <th>SUP</th>\n      <th>SFF</th>\n      <th>ATT</th>\n      <th>...</th>\n      <th>Previous</th>\n      <th>Scheme2</th>\n      <th>Aut</th>\n      <th>Class</th>\n      <th>Itpr</th>\n      <th>Prec</th>\n      <th>Princ</th>\n      <th>Rule</th>\n      <th>Syst</th>\n      <th>Tele</th>\n    </tr>\n  </thead>\n  <tbody>\n    <tr>\n      <th>0</th>\n      <td>2013_40_VAT_OPAM_2_REM_MB_PS_AN</td>\n      <td>prem</td>\n      <td>A2</td>\n      <td>A</td>\n      <td>2</td>\n      <td>Ai sensi dell'art. 14 del d.lgs.546/92, se l'o...</td>\n      <td>L</td>\n      <td>NaN</td>\n      <td>NaN</td>\n      <td>NaN</td>\n      <td>...</td>\n      <td>Ai sensi dell'art. 14 del d.lgs.546/92, se l'...</td>\n      <td>Rule</td>\n      <td>0</td>\n      <td>0</td>\n      <td>0</td>\n      <td>0</td>\n      <td>0</td>\n      <td>1</td>\n      <td>0</td>\n      <td>0</td>\n    </tr>\n    <tr>\n      <th>1</th>\n      <td>2013_40_VAT_OPAM_2_REM_MB_PS_AN</td>\n      <td>prem</td>\n      <td>A3</td>\n      <td>A</td>\n      <td>3</td>\n      <td>Se il ricorso non è stato    proposto da o nei...</td>\n      <td>L</td>\n      <td>NaN</td>\n      <td>NaN</td>\n      <td>NaN</td>\n      <td>...</td>\n      <td>Se il ricorso non è stato\\n    proposto da o ...</td>\n      <td>Itpr</td>\n      <td>0</td>\n      <td>0</td>\n      <td>1</td>\n      <td>0</td>\n      <td>0</td>\n      <td>0</td>\n      <td>0</td>\n      <td>0</td>\n    </tr>\n    <tr>\n      <th>2</th>\n      <td>2018_847_VAT_OP_2_-1_MB_AF_AN</td>\n      <td>prem</td>\n      <td>A1</td>\n      <td>A</td>\n      <td>1</td>\n      <td>Secondo condivisa e costante giurisprudenza (C...</td>\n      <td>L</td>\n      <td>NaN</td>\n      <td>NaN</td>\n      <td>NaN</td>\n      <td>...</td>\n      <td>Secondo condivisa e costante giurisprudenza (C...</td>\n      <td>Rule</td>\n      <td>0</td>\n      <td>0</td>\n      <td>0</td>\n      <td>0</td>\n      <td>0</td>\n      <td>1</td>\n      <td>0</td>\n      <td>0</td>\n    </tr>\n    <tr>\n      <th>3</th>\n      <td>2018_847_VAT_OP_2_-1_MB_AF_AN</td>\n      <td>prem</td>\n      <td>A2</td>\n      <td>A</td>\n      <td>2</td>\n      <td>Tuttavia, nel caso qui in esame, la Comm/ne no...</td>\n      <td>L</td>\n      <td>[A3, A4]</td>\n      <td>NaN</td>\n      <td>NaN</td>\n      <td>...</td>\n      <td>Tuttavia, nel caso qui in esame, la Comm/ne no...</td>\n      <td>Itpr</td>\n      <td>0</td>\n      <td>0</td>\n      <td>1</td>\n      <td>0</td>\n      <td>0</td>\n      <td>0</td>\n      <td>0</td>\n      <td>0</td>\n    </tr>\n    <tr>\n      <th>4</th>\n      <td>2018_847_VAT_OP_2_-1_MB_AF_AN</td>\n      <td>prem</td>\n      <td>A3</td>\n      <td>A</td>\n      <td>3</td>\n      <td>A tal proposito si ricorda che la Corte cost. ...</td>\n      <td>L</td>\n      <td>NaN</td>\n      <td>NaN</td>\n      <td>NaN</td>\n      <td>...</td>\n      <td>A tal proposito si ricorda che la Corte cost. ...</td>\n      <td>Prec</td>\n      <td>0</td>\n      <td>0</td>\n      <td>0</td>\n      <td>1</td>\n      <td>0</td>\n      <td>0</td>\n      <td>0</td>\n      <td>0</td>\n    </tr>\n    <tr>\n      <th>...</th>\n      <td>...</td>\n      <td>...</td>\n      <td>...</td>\n      <td>...</td>\n      <td>...</td>\n      <td>...</td>\n      <td>...</td>\n      <td>...</td>\n      <td>...</td>\n      <td>...</td>\n      <td>...</td>\n      <td>...</td>\n      <td>...</td>\n      <td>...</td>\n      <td>...</td>\n      <td>...</td>\n      <td>...</td>\n      <td>...</td>\n      <td>...</td>\n      <td>...</td>\n      <td>...</td>\n    </tr>\n    <tr>\n      <th>1282</th>\n      <td>2021_6075_VAT_OPAM_2_1_PS_AN</td>\n      <td>prem</td>\n      <td>C15</td>\n      <td>C</td>\n      <td>15</td>\n      <td>Sotto questo profilo i Compro Oro sono sottopo...</td>\n      <td>L</td>\n      <td>NaN</td>\n      <td>NaN</td>\n      <td>NaN</td>\n      <td>...</td>\n      <td>Sotto questo profilo i Compro Oro sono sottopo...</td>\n      <td>Rule</td>\n      <td>0</td>\n      <td>0</td>\n      <td>0</td>\n      <td>0</td>\n      <td>0</td>\n      <td>1</td>\n      <td>0</td>\n      <td>0</td>\n    </tr>\n    <tr>\n      <th>1283</th>\n      <td>2021_6075_VAT_OPAM_2_1_PS_AN</td>\n      <td>prem</td>\n      <td>C16</td>\n      <td>C</td>\n      <td>16</td>\n      <td>Tale comunicazione ha luogo quando i destinata...</td>\n      <td>L</td>\n      <td>NaN</td>\n      <td>NaN</td>\n      <td>NaN</td>\n      <td>...</td>\n      <td>Tale comunicazione ha luogo quando i destinata...</td>\n      <td>Rule</td>\n      <td>0</td>\n      <td>0</td>\n      <td>0</td>\n      <td>0</td>\n      <td>0</td>\n      <td>1</td>\n      <td>0</td>\n      <td>0</td>\n    </tr>\n    <tr>\n      <th>1284</th>\n      <td>2021_6075_VAT_OPAM_2_1_PS_AN</td>\n      <td>prem</td>\n      <td>C17</td>\n      <td>C</td>\n      <td>17</td>\n      <td>Il Ministro dell'interno, con decreto del 17 f...</td>\n      <td>L</td>\n      <td>NaN</td>\n      <td>NaN</td>\n      <td>NaN</td>\n      <td>...</td>\n      <td>Il Ministro dell'interno, con decreto del 17 f...</td>\n      <td>Rule</td>\n      <td>0</td>\n      <td>0</td>\n      <td>0</td>\n      <td>0</td>\n      <td>0</td>\n      <td>1</td>\n      <td>0</td>\n      <td>0</td>\n    </tr>\n    <tr>\n      <th>1285</th>\n      <td>2021_6075_VAT_OPAM_2_1_PS_AN</td>\n      <td>prem</td>\n      <td>C18</td>\n      <td>C</td>\n      <td>18</td>\n      <td>Tra i soggetti destinatari del decreto sono ri...</td>\n      <td>L</td>\n      <td>NaN</td>\n      <td>NaN</td>\n      <td>NaN</td>\n      <td>...</td>\n      <td>Tra i soggetti destinatari del decreto sono ri...</td>\n      <td>Class,Rule</td>\n      <td>0</td>\n      <td>1</td>\n      <td>0</td>\n      <td>0</td>\n      <td>0</td>\n      <td>1</td>\n      <td>0</td>\n      <td>0</td>\n    </tr>\n    <tr>\n      <th>1286</th>\n      <td>2021_6075_VAT_OPAM_2_1_PS_AN</td>\n      <td>prem</td>\n      <td>C19</td>\n      <td>C</td>\n      <td>19</td>\n      <td>In conclusione, per quanto fin qui esposto, i ...</td>\n      <td>L</td>\n      <td></td>\n      <td>NaN</td>\n      <td>NaN</td>\n      <td>...</td>\n      <td>In conclusione, per quanto fin qui esposto, i ...</td>\n      <td>Class</td>\n      <td>0</td>\n      <td>1</td>\n      <td>0</td>\n      <td>0</td>\n      <td>0</td>\n      <td>0</td>\n      <td>0</td>\n      <td>0</td>\n    </tr>\n  </tbody>\n</table>\n<p>1287 rows × 24 columns</p>\n</div>"
          },
          "metadata": {}
        }
      ],
      "execution_count": null
    },
    {
      "cell_type": "code",
      "source": [
        "#split dataset into training, validation and test sets\n",
        "\n",
        "df = df_sc_final if scheme else df_ac\n",
        "\n",
        "df_train, df_val, df_test = split_dataset(df)"
      ],
      "metadata": {
        "colab": {
          "base_uri": "https://localhost:8080/"
        },
        "id": "hwYgr0Ddk6HF",
        "outputId": "bc950068-2b00-400c-991a-216b78072d04",
        "execution": {
          "iopub.status.busy": "2024-11-16T22:25:55.921972Z",
          "iopub.execute_input": "2024-11-16T22:25:55.922442Z",
          "iopub.status.idle": "2024-11-16T22:25:55.934655Z",
          "shell.execute_reply.started": "2024-11-16T22:25:55.922387Z",
          "shell.execute_reply": "2024-11-16T22:25:55.93361Z"
        },
        "trusted": true
      },
      "outputs": [
        {
          "name": "stdout",
          "text": "Number of training samples: 782 (60.76146076146076%)\nNumber of validation examples: 252 (19.58041958041958%)\nNumber of test samples: 253 (19.65811965811966%)\n",
          "output_type": "stream"
        }
      ],
      "execution_count": null
    },
    {
      "cell_type": "code",
      "source": [
        "for x in df_train['Scheme']:\n",
        "    print()\n",
        "    break"
      ],
      "metadata": {
        "execution": {
          "iopub.status.busy": "2024-11-16T22:25:58.067257Z",
          "iopub.execute_input": "2024-11-16T22:25:58.067955Z",
          "iopub.status.idle": "2024-11-16T22:25:58.07275Z",
          "shell.execute_reply.started": "2024-11-16T22:25:58.067914Z",
          "shell.execute_reply": "2024-11-16T22:25:58.071815Z"
        },
        "trusted": true,
        "id": "nG2rx1lJH6X7",
        "outputId": "c479e999-74a5-412c-87e1-6bb94c0eb2e2"
      },
      "outputs": [
        {
          "name": "stdout",
          "text": "\n",
          "output_type": "stream"
        }
      ],
      "execution_count": null
    },
    {
      "cell_type": "code",
      "source": [
        "abbr_file_path = ('/kaggle/input' if os.environ.get('KAGGLE_KERNEL_RUN_TYPE','') else '.')+\"/abbreviazioni.tsv\"\n",
        "\n",
        "if ABBREVIATION_AUGMENTATION and os.path.isfile(abbr_file_path):\n",
        "\n",
        "    print(f\"Augmenting {len(df_train)} training annotations with abbreviations\")\n",
        "\n",
        "    abbreviations_df = pd.read_csv(abbr_file_path, sep='\\t', header=None, names=['Meaning','Abbreviation'])\n",
        "\n",
        "    print(f\"Loaded {len(abbreviations_df)} abbreviations\")\n",
        "\n",
        "    long_df = df_train.copy()\n",
        "\n",
        "    for i, abbr_row in abbreviations_df.iterrows():\n",
        "\n",
        "        abbr_regex = \"(?i)\\\\b\"+(abbr_row['Abbreviation'].replace('.','\\.')) # https://stackoverflow.com/a/54464222/2347196\n",
        "\n",
        "        long_df[\"Text\"] = long_df[\"Text\"].str.replace(abbr_regex, abbr_row['Meaning'], regex=True)\n",
        "\n",
        "        long_df[\"Previous\"] = long_df[\"Previous\"].str.replace(abbr_regex, abbr_row['Meaning'], regex=True)\n",
        "\n",
        "\n",
        "\n",
        "    df_train = pd.concat([df_train, long_df], ignore_index=True)\n",
        "\n",
        "    print(f\"{len(df_train)} annotations are now available\")\n",
        "\n",
        "else:\n",
        "\n",
        "    print(\"Skipping abbreviation data augmentation\")"
      ],
      "metadata": {
        "colab": {
          "base_uri": "https://localhost:8080/"
        },
        "id": "96ByuJIBZRHn",
        "outputId": "1a189414-ffb3-4d5a-a1b2-fd552f855b86",
        "execution": {
          "iopub.status.busy": "2024-11-16T22:25:58.621106Z",
          "iopub.execute_input": "2024-11-16T22:25:58.621525Z",
          "iopub.status.idle": "2024-11-16T22:25:58.630815Z",
          "shell.execute_reply.started": "2024-11-16T22:25:58.621492Z",
          "shell.execute_reply": "2024-11-16T22:25:58.629567Z"
        },
        "trusted": true
      },
      "outputs": [
        {
          "name": "stdout",
          "text": "Skipping abbreviation data augmentation\n",
          "output_type": "stream"
        }
      ],
      "execution_count": null
    },
    {
      "cell_type": "code",
      "source": [
        "if not scheme:\n",
        "\n",
        "    num_labels = len(df_train['label'].unique())\n",
        "\n",
        "    train_labels = df_train['label']\n",
        "\n",
        "    val_labels = df_val['label']\n",
        "\n",
        "    test_labels = df_test['label']\n",
        "\n",
        "else:\n",
        "\n",
        "    print(\"Scheme task\")\n",
        "\n",
        "    train_labels = df_train[sc_classes]\n",
        "\n",
        "    val_labels = df_val[sc_classes]\n",
        "\n",
        "    test_labels = df_test[sc_classes]\n",
        "\n",
        "    num_labels = train_labels.shape[1]\n"
      ],
      "metadata": {
        "colab": {
          "base_uri": "https://localhost:8080/"
        },
        "id": "fuNqlGtSZRHo",
        "outputId": "3da53343-fda9-4546-b678-1da09c804418",
        "execution": {
          "iopub.status.busy": "2024-11-16T22:25:59.593699Z",
          "iopub.execute_input": "2024-11-16T22:25:59.594544Z",
          "iopub.status.idle": "2024-11-16T22:25:59.602424Z",
          "shell.execute_reply.started": "2024-11-16T22:25:59.594509Z",
          "shell.execute_reply": "2024-11-16T22:25:59.601108Z"
        },
        "trusted": true
      },
      "outputs": [
        {
          "name": "stdout",
          "text": "Scheme task\n",
          "output_type": "stream"
        }
      ],
      "execution_count": null
    },
    {
      "cell_type": "markdown",
      "source": [
        "## Baseline: TF-IDF + SVM"
      ],
      "metadata": {
        "id": "FB0tSB6FZRHp"
      }
    },
    {
      "cell_type": "code",
      "source": [
        "import nltk\n",
        "\n",
        "nltk.download('stopwords')"
      ],
      "metadata": {
        "colab": {
          "base_uri": "https://localhost:8080/"
        },
        "id": "mQSheKKEFFbw",
        "outputId": "8d2e9051-2234-438e-e4be-c299f6386f65",
        "execution": {
          "iopub.status.busy": "2024-11-16T13:01:55.718037Z",
          "iopub.execute_input": "2024-11-16T13:01:55.718851Z",
          "iopub.status.idle": "2024-11-16T13:01:55.820003Z",
          "shell.execute_reply.started": "2024-11-16T13:01:55.71882Z",
          "shell.execute_reply": "2024-11-16T13:01:55.819106Z"
        },
        "trusted": true
      },
      "outputs": [
        {
          "name": "stdout",
          "text": "[nltk_data] Downloading package stopwords to /usr/share/nltk_data...\n[nltk_data]   Package stopwords is already up-to-date!\n",
          "output_type": "stream"
        },
        {
          "execution_count": 61,
          "output_type": "execute_result",
          "data": {
            "text/plain": "True"
          },
          "metadata": {}
        }
      ],
      "execution_count": null
    },
    {
      "cell_type": "code",
      "source": [
        "from sklearn.metrics import classification_report,f1_score\n",
        "\n",
        "\n",
        "\n",
        "#base_model, base_tokenizer = executeTfIdfSvm(\n",
        "\n",
        "for kernel in ['linear', 'poly', 'rbf', 'sigmoid']:\n",
        "\n",
        "    executeTfIdfSvm(\n",
        "\n",
        "        df_train,\n",
        "\n",
        "        df_test,\n",
        "\n",
        "        kernel = kernel,\n",
        "\n",
        "        scheme = scheme,\n",
        "\n",
        "        include_previous=INCLUDE_PREVIOUS,\n",
        "\n",
        "        weighted_sampling = WEIGHTED_SAMPLING\n",
        "\n",
        "    )"
      ],
      "metadata": {
        "colab": {
          "base_uri": "https://localhost:8080/"
        },
        "id": "NoSnj5bzZRHp",
        "outputId": "79707463-7c52-424e-e378-82464708f05c",
        "execution": {
          "iopub.status.busy": "2024-11-16T10:17:52.799402Z",
          "iopub.execute_input": "2024-11-16T10:17:52.799801Z",
          "iopub.status.idle": "2024-11-16T10:17:53.701245Z",
          "shell.execute_reply.started": "2024-11-16T10:17:52.799771Z",
          "shell.execute_reply": "2024-11-16T10:17:53.699833Z"
        },
        "trusted": true
      },
      "outputs": [
        {
          "traceback": [
            "\u001b[0;31m---------------------------------------------------------------------------\u001b[0m",
            "\u001b[0;31mTypeError\u001b[0m                                 Traceback (most recent call last)",
            "Cell \u001b[0;32mIn[110], line 9\u001b[0m\n\u001b[1;32m      5\u001b[0m \u001b[38;5;66;03m#base_model, base_tokenizer = executeTfIdfSvm(\u001b[39;00m\n\u001b[1;32m      7\u001b[0m \u001b[38;5;28;01mfor\u001b[39;00m kernel \u001b[38;5;129;01min\u001b[39;00m [\u001b[38;5;124m'\u001b[39m\u001b[38;5;124mlinear\u001b[39m\u001b[38;5;124m'\u001b[39m, \u001b[38;5;124m'\u001b[39m\u001b[38;5;124mpoly\u001b[39m\u001b[38;5;124m'\u001b[39m, \u001b[38;5;124m'\u001b[39m\u001b[38;5;124mrbf\u001b[39m\u001b[38;5;124m'\u001b[39m, \u001b[38;5;124m'\u001b[39m\u001b[38;5;124msigmoid\u001b[39m\u001b[38;5;124m'\u001b[39m]:\n\u001b[0;32m----> 9\u001b[0m     \u001b[43mexecuteTfIdfSvm\u001b[49m\u001b[43m(\u001b[49m\n\u001b[1;32m     10\u001b[0m \n\u001b[1;32m     11\u001b[0m \u001b[43m        \u001b[49m\u001b[43mdf_train\u001b[49m\u001b[43m,\u001b[49m\n\u001b[1;32m     12\u001b[0m \n\u001b[1;32m     13\u001b[0m \u001b[43m        \u001b[49m\u001b[43mdf_test\u001b[49m\u001b[43m,\u001b[49m\n\u001b[1;32m     14\u001b[0m \n\u001b[1;32m     15\u001b[0m \u001b[43m        \u001b[49m\u001b[43mkernel\u001b[49m\u001b[43m \u001b[49m\u001b[38;5;241;43m=\u001b[39;49m\u001b[43m \u001b[49m\u001b[43mkernel\u001b[49m\u001b[43m,\u001b[49m\n\u001b[1;32m     16\u001b[0m \n\u001b[1;32m     17\u001b[0m \u001b[43m        \u001b[49m\u001b[43mscheme\u001b[49m\u001b[43m \u001b[49m\u001b[38;5;241;43m=\u001b[39;49m\u001b[43m \u001b[49m\u001b[43mscheme\u001b[49m\u001b[43m,\u001b[49m\n\u001b[1;32m     18\u001b[0m \n\u001b[1;32m     19\u001b[0m \u001b[43m        \u001b[49m\u001b[43minclude_previous\u001b[49m\u001b[38;5;241;43m=\u001b[39;49m\u001b[43mINCLUDE_PREVIOUS\u001b[49m\u001b[43m,\u001b[49m\n\u001b[1;32m     20\u001b[0m \n\u001b[1;32m     21\u001b[0m \u001b[43m        \u001b[49m\u001b[43mweighted_sampling\u001b[49m\u001b[43m \u001b[49m\u001b[38;5;241;43m=\u001b[39;49m\u001b[43m \u001b[49m\u001b[43mWEIGHTED_SAMPLING\u001b[49m\n\u001b[1;32m     22\u001b[0m \n\u001b[1;32m     23\u001b[0m \u001b[43m    \u001b[49m\u001b[43m)\u001b[49m\n",
            "Cell \u001b[0;32mIn[59], line 55\u001b[0m, in \u001b[0;36mexecuteTfIdfSvm\u001b[0;34m(train_df, test_df, kernel, scheme, include_previous, weighted_sampling)\u001b[0m\n\u001b[1;32m     51\u001b[0m train_encodings \u001b[38;5;241m=\u001b[39m tokenizer\u001b[38;5;241m.\u001b[39mtransform(df_train)\n\u001b[1;32m     53\u001b[0m labels \u001b[38;5;241m=\u001b[39m train_df[\u001b[38;5;124m'\u001b[39m\u001b[38;5;124mScheme\u001b[39m\u001b[38;5;124m'\u001b[39m] \u001b[38;5;28;01mif\u001b[39;00m scheme \u001b[38;5;28;01melse\u001b[39;00m train_df[\u001b[38;5;124m'\u001b[39m\u001b[38;5;124mlabel\u001b[39m\u001b[38;5;124m'\u001b[39m]\n\u001b[0;32m---> 55\u001b[0m \u001b[43mmodel\u001b[49m\u001b[38;5;241;43m.\u001b[39;49m\u001b[43mfit\u001b[49m\u001b[43m(\u001b[49m\u001b[43mtrain_encodings\u001b[49m\u001b[43m,\u001b[49m\u001b[43m \u001b[49m\u001b[43mlabels\u001b[49m\u001b[43m,\u001b[49m\u001b[43m \u001b[49m\u001b[43msample_weight\u001b[49m\u001b[38;5;241;43m=\u001b[39;49m\u001b[43mdf_train_sample_weights\u001b[49m\u001b[43m)\u001b[49m\n\u001b[1;32m     59\u001b[0m \u001b[38;5;66;03m# Test model\u001b[39;00m\n\u001b[1;32m     61\u001b[0m test_encodings \u001b[38;5;241m=\u001b[39m tokenizer\u001b[38;5;241m.\u001b[39mtransform(test_df)\n",
            "File \u001b[0;32m/opt/conda/lib/python3.10/site-packages/sklearn/svm/_classes.py:271\u001b[0m, in \u001b[0;36mLinearSVC.fit\u001b[0;34m(self, X, y, sample_weight)\u001b[0m\n\u001b[1;32m    261\u001b[0m \u001b[38;5;28mself\u001b[39m\u001b[38;5;241m.\u001b[39m_validate_params()\n\u001b[1;32m    263\u001b[0m X, y \u001b[38;5;241m=\u001b[39m \u001b[38;5;28mself\u001b[39m\u001b[38;5;241m.\u001b[39m_validate_data(\n\u001b[1;32m    264\u001b[0m     X,\n\u001b[1;32m    265\u001b[0m     y,\n\u001b[0;32m   (...)\u001b[0m\n\u001b[1;32m    269\u001b[0m     accept_large_sparse\u001b[38;5;241m=\u001b[39m\u001b[38;5;28;01mFalse\u001b[39;00m,\n\u001b[1;32m    270\u001b[0m )\n\u001b[0;32m--> 271\u001b[0m \u001b[43mcheck_classification_targets\u001b[49m\u001b[43m(\u001b[49m\u001b[43my\u001b[49m\u001b[43m)\u001b[49m\n\u001b[1;32m    272\u001b[0m \u001b[38;5;28mself\u001b[39m\u001b[38;5;241m.\u001b[39mclasses_ \u001b[38;5;241m=\u001b[39m np\u001b[38;5;241m.\u001b[39munique(y)\n\u001b[1;32m    274\u001b[0m \u001b[38;5;28mself\u001b[39m\u001b[38;5;241m.\u001b[39mcoef_, \u001b[38;5;28mself\u001b[39m\u001b[38;5;241m.\u001b[39mintercept_, n_iter_ \u001b[38;5;241m=\u001b[39m _fit_liblinear(\n\u001b[1;32m    275\u001b[0m     X,\n\u001b[1;32m    276\u001b[0m     y,\n\u001b[0;32m   (...)\u001b[0m\n\u001b[1;32m    289\u001b[0m     sample_weight\u001b[38;5;241m=\u001b[39msample_weight,\n\u001b[1;32m    290\u001b[0m )\n",
            "File \u001b[0;32m/opt/conda/lib/python3.10/site-packages/sklearn/utils/multiclass.py:210\u001b[0m, in \u001b[0;36mcheck_classification_targets\u001b[0;34m(y)\u001b[0m\n\u001b[1;32m    198\u001b[0m \u001b[38;5;28;01mdef\u001b[39;00m \u001b[38;5;21mcheck_classification_targets\u001b[39m(y):\n\u001b[1;32m    199\u001b[0m \u001b[38;5;250m    \u001b[39m\u001b[38;5;124;03m\"\"\"Ensure that target y is of a non-regression type.\u001b[39;00m\n\u001b[1;32m    200\u001b[0m \n\u001b[1;32m    201\u001b[0m \u001b[38;5;124;03m    Only the following target types (as defined in type_of_target) are allowed:\u001b[39;00m\n\u001b[0;32m   (...)\u001b[0m\n\u001b[1;32m    208\u001b[0m \u001b[38;5;124;03m        Target values.\u001b[39;00m\n\u001b[1;32m    209\u001b[0m \u001b[38;5;124;03m    \"\"\"\u001b[39;00m\n\u001b[0;32m--> 210\u001b[0m     y_type \u001b[38;5;241m=\u001b[39m \u001b[43mtype_of_target\u001b[49m\u001b[43m(\u001b[49m\u001b[43my\u001b[49m\u001b[43m,\u001b[49m\u001b[43m \u001b[49m\u001b[43minput_name\u001b[49m\u001b[38;5;241;43m=\u001b[39;49m\u001b[38;5;124;43m\"\u001b[39;49m\u001b[38;5;124;43my\u001b[39;49m\u001b[38;5;124;43m\"\u001b[39;49m\u001b[43m)\u001b[49m\n\u001b[1;32m    211\u001b[0m     \u001b[38;5;28;01mif\u001b[39;00m y_type \u001b[38;5;129;01mnot\u001b[39;00m \u001b[38;5;129;01min\u001b[39;00m [\n\u001b[1;32m    212\u001b[0m         \u001b[38;5;124m\"\u001b[39m\u001b[38;5;124mbinary\u001b[39m\u001b[38;5;124m\"\u001b[39m,\n\u001b[1;32m    213\u001b[0m         \u001b[38;5;124m\"\u001b[39m\u001b[38;5;124mmulticlass\u001b[39m\u001b[38;5;124m\"\u001b[39m,\n\u001b[0;32m   (...)\u001b[0m\n\u001b[1;32m    216\u001b[0m         \u001b[38;5;124m\"\u001b[39m\u001b[38;5;124mmultilabel-sequences\u001b[39m\u001b[38;5;124m\"\u001b[39m,\n\u001b[1;32m    217\u001b[0m     ]:\n\u001b[1;32m    218\u001b[0m         \u001b[38;5;28;01mraise\u001b[39;00m \u001b[38;5;167;01mValueError\u001b[39;00m(\u001b[38;5;124m\"\u001b[39m\u001b[38;5;124mUnknown label type: \u001b[39m\u001b[38;5;132;01m%r\u001b[39;00m\u001b[38;5;124m\"\u001b[39m \u001b[38;5;241m%\u001b[39m y_type)\n",
            "File \u001b[0;32m/opt/conda/lib/python3.10/site-packages/sklearn/utils/multiclass.py:386\u001b[0m, in \u001b[0;36mtype_of_target\u001b[0;34m(y, input_name)\u001b[0m\n\u001b[1;32m    384\u001b[0m \u001b[38;5;66;03m# Check multiclass\u001b[39;00m\n\u001b[1;32m    385\u001b[0m first_row \u001b[38;5;241m=\u001b[39m y[\u001b[38;5;241m0\u001b[39m] \u001b[38;5;28;01mif\u001b[39;00m \u001b[38;5;129;01mnot\u001b[39;00m issparse(y) \u001b[38;5;28;01melse\u001b[39;00m y\u001b[38;5;241m.\u001b[39mgetrow(\u001b[38;5;241m0\u001b[39m)\u001b[38;5;241m.\u001b[39mdata\n\u001b[0;32m--> 386\u001b[0m \u001b[38;5;28;01mif\u001b[39;00m \u001b[43mxp\u001b[49m\u001b[38;5;241;43m.\u001b[39;49m\u001b[43munique_values\u001b[49m\u001b[43m(\u001b[49m\u001b[43my\u001b[49m\u001b[43m)\u001b[49m\u001b[38;5;241m.\u001b[39mshape[\u001b[38;5;241m0\u001b[39m] \u001b[38;5;241m>\u001b[39m \u001b[38;5;241m2\u001b[39m \u001b[38;5;129;01mor\u001b[39;00m (y\u001b[38;5;241m.\u001b[39mndim \u001b[38;5;241m==\u001b[39m \u001b[38;5;241m2\u001b[39m \u001b[38;5;129;01mand\u001b[39;00m \u001b[38;5;28mlen\u001b[39m(first_row) \u001b[38;5;241m>\u001b[39m \u001b[38;5;241m1\u001b[39m):\n\u001b[1;32m    387\u001b[0m     \u001b[38;5;66;03m# [1, 2, 3] or [[1., 2., 3]] or [[1, 2]]\u001b[39;00m\n\u001b[1;32m    388\u001b[0m     \u001b[38;5;28;01mreturn\u001b[39;00m \u001b[38;5;124m\"\u001b[39m\u001b[38;5;124mmulticlass\u001b[39m\u001b[38;5;124m\"\u001b[39m \u001b[38;5;241m+\u001b[39m suffix\n\u001b[1;32m    389\u001b[0m \u001b[38;5;28;01melse\u001b[39;00m:\n",
            "File \u001b[0;32m/opt/conda/lib/python3.10/site-packages/sklearn/utils/_array_api.py:84\u001b[0m, in \u001b[0;36m_NumPyApiWrapper.unique_values\u001b[0;34m(self, x)\u001b[0m\n\u001b[1;32m     83\u001b[0m \u001b[38;5;28;01mdef\u001b[39;00m \u001b[38;5;21munique_values\u001b[39m(\u001b[38;5;28mself\u001b[39m, x):\n\u001b[0;32m---> 84\u001b[0m     \u001b[38;5;28;01mreturn\u001b[39;00m \u001b[43mnumpy\u001b[49m\u001b[38;5;241;43m.\u001b[39;49m\u001b[43munique\u001b[49m\u001b[43m(\u001b[49m\u001b[43mx\u001b[49m\u001b[43m)\u001b[49m\n",
            "File \u001b[0;32m/opt/conda/lib/python3.10/site-packages/numpy/lib/arraysetops.py:274\u001b[0m, in \u001b[0;36munique\u001b[0;34m(ar, return_index, return_inverse, return_counts, axis, equal_nan)\u001b[0m\n\u001b[1;32m    272\u001b[0m ar \u001b[38;5;241m=\u001b[39m np\u001b[38;5;241m.\u001b[39masanyarray(ar)\n\u001b[1;32m    273\u001b[0m \u001b[38;5;28;01mif\u001b[39;00m axis \u001b[38;5;129;01mis\u001b[39;00m \u001b[38;5;28;01mNone\u001b[39;00m:\n\u001b[0;32m--> 274\u001b[0m     ret \u001b[38;5;241m=\u001b[39m \u001b[43m_unique1d\u001b[49m\u001b[43m(\u001b[49m\u001b[43mar\u001b[49m\u001b[43m,\u001b[49m\u001b[43m \u001b[49m\u001b[43mreturn_index\u001b[49m\u001b[43m,\u001b[49m\u001b[43m \u001b[49m\u001b[43mreturn_inverse\u001b[49m\u001b[43m,\u001b[49m\u001b[43m \u001b[49m\u001b[43mreturn_counts\u001b[49m\u001b[43m,\u001b[49m\u001b[43m \u001b[49m\n\u001b[1;32m    275\u001b[0m \u001b[43m                    \u001b[49m\u001b[43mequal_nan\u001b[49m\u001b[38;5;241;43m=\u001b[39;49m\u001b[43mequal_nan\u001b[49m\u001b[43m)\u001b[49m\n\u001b[1;32m    276\u001b[0m     \u001b[38;5;28;01mreturn\u001b[39;00m _unpack_tuple(ret)\n\u001b[1;32m    278\u001b[0m \u001b[38;5;66;03m# axis was specified and not None\u001b[39;00m\n",
            "File \u001b[0;32m/opt/conda/lib/python3.10/site-packages/numpy/lib/arraysetops.py:336\u001b[0m, in \u001b[0;36m_unique1d\u001b[0;34m(ar, return_index, return_inverse, return_counts, equal_nan)\u001b[0m\n\u001b[1;32m    334\u001b[0m     aux \u001b[38;5;241m=\u001b[39m ar[perm]\n\u001b[1;32m    335\u001b[0m \u001b[38;5;28;01melse\u001b[39;00m:\n\u001b[0;32m--> 336\u001b[0m     \u001b[43mar\u001b[49m\u001b[38;5;241;43m.\u001b[39;49m\u001b[43msort\u001b[49m\u001b[43m(\u001b[49m\u001b[43m)\u001b[49m\n\u001b[1;32m    337\u001b[0m     aux \u001b[38;5;241m=\u001b[39m ar\n\u001b[1;32m    338\u001b[0m mask \u001b[38;5;241m=\u001b[39m np\u001b[38;5;241m.\u001b[39mempty(aux\u001b[38;5;241m.\u001b[39mshape, dtype\u001b[38;5;241m=\u001b[39mnp\u001b[38;5;241m.\u001b[39mbool_)\n",
            "\u001b[0;31mTypeError\u001b[0m: '<' not supported between instances of 'str' and 'list'"
          ],
          "ename": "TypeError",
          "evalue": "'<' not supported between instances of 'str' and 'list'",
          "output_type": "error"
        }
      ],
      "execution_count": null
    },
    {
      "cell_type": "markdown",
      "source": [
        "## Actual model execution"
      ],
      "metadata": {
        "id": "KBHWHdTsZRHp"
      }
    },
    {
      "cell_type": "code",
      "source": [
        "# https://towardsdatascience.com/demystifying-pytorchs-weightedrandomsampler-by-example-a68aceccb452\n",
        "\n",
        "# https://gist.github.com/Chris-hughes10/260c70650c5a6f322d273a8a8728b91a\n",
        "\n",
        "if WEIGHTED_SAMPLING:\n",
        "\n",
        "    class_weights_arr = [class_weights[i] for i in sc_label_count.index]\n",
        "\n",
        "    custom_sampler = WeightedRandomSampler(weights=class_weights_arr, num_samples=len(df_sc_final))\n",
        "\n",
        "    #dl = DataLoader(df_sc_final, sampler=sampler, batch_size=10)\n",
        "\n",
        "else:\n",
        "\n",
        "    custom_sampler = None"
      ],
      "metadata": {
        "execution": {
          "iopub.status.busy": "2024-11-16T21:57:59.181826Z",
          "iopub.execute_input": "2024-11-16T21:57:59.182526Z",
          "iopub.status.idle": "2024-11-16T21:57:59.187548Z",
          "shell.execute_reply.started": "2024-11-16T21:57:59.182493Z",
          "shell.execute_reply": "2024-11-16T21:57:59.186626Z"
        },
        "trusted": true,
        "id": "S8D1bWc5H6X-"
      },
      "outputs": [],
      "execution_count": null
    },
    {
      "cell_type": "code",
      "source": [
        "epochs = 6\n",
        "model, tokenizer, statistics = execute(\n",
        "\n",
        "    lr,\n",
        "\n",
        "    epochs,\n",
        "\n",
        "    batch_size,\n",
        "\n",
        "    num_labels,\n",
        "\n",
        "    df_train,\n",
        "\n",
        "    train_labels,\n",
        "\n",
        "    df_val,\n",
        "\n",
        "    val_labels,\n",
        "\n",
        "    scheme,\n",
        "\n",
        "    model_name=model_checkpoint,\n",
        "\n",
        "    use_cuda=USE_CUDA,\n",
        "\n",
        "    include_previous=INCLUDE_PREVIOUS,\n",
        "\n",
        "    sampler = custom_sampler\n",
        "\n",
        ")"
      ],
      "metadata": {
        "colab": {
          "base_uri": "https://localhost:8080/"
        },
        "id": "9dN-8E__zJry",
        "outputId": "8766679f-c499-47ea-ec5b-b90f0101ef50",
        "execution": {
          "iopub.status.busy": "2024-11-16T21:57:59.549233Z",
          "iopub.execute_input": "2024-11-16T21:57:59.549754Z",
          "iopub.status.idle": "2024-11-16T22:01:36.258313Z",
          "shell.execute_reply.started": "2024-11-16T21:57:59.549726Z",
          "shell.execute_reply": "2024-11-16T22:01:36.257436Z"
        },
        "trusted": true
      },
      "outputs": [
        {
          "name": "stderr",
          "text": "Some weights of BertModel were not initialized from the model checkpoint at dlicari/Italian-Legal-BERT and are newly initialized: ['bert.pooler.dense.bias', 'bert.pooler.dense.weight']\nYou should probably TRAIN this model on a down-stream task to be able to use it for predictions and inference.\n",
          "output_type": "stream"
        },
        {
          "name": "stdout",
          "text": "Encoding...\ninput shape: (789, 256)\nEncoding complete\nEncoding...\ninput shape: (257, 256)\nEncoding complete\nENCODING COMPLETE.\nSTARTING TRAINING with complete data:\n",
          "output_type": "stream"
        },
        {
          "name": "stderr",
          "text": "  0%|          | 0/25 [00:00<?, ?it/s]/tmp/ipykernel_34/136612130.py:11: UserWarning: To copy construct from a tensor, it is recommended to use sourceTensor.clone().detach() or sourceTensor.clone().detach().requires_grad_(True), rather than torch.tensor(sourceTensor).\n  return {key: torch.tensor(val[idx]) for key, val in self.encodings.items()}\nEpoch 1: 100%|██████████| 25/25 [00:32<00:00,  1.32s/it, loss=0.0957]\n",
          "output_type": "stream"
        },
        {
          "name": "stdout",
          "text": "Epoch: 1  Lr: 0.00005000  Loss: Train = [0.1041] - Val = [0.0891]  Time one epoch (s): 36.6063 \n",
          "output_type": "stream"
        },
        {
          "name": "stderr",
          "text": "Epoch 2: 100%|██████████| 25/25 [00:32<00:00,  1.29s/it, loss=0.0703]\n",
          "output_type": "stream"
        },
        {
          "name": "stdout",
          "text": "Epoch: 2  Lr: 0.00005000  Loss: Train = [0.0824] - Val = [0.0756]  Time one epoch (s): 35.6897 \n",
          "output_type": "stream"
        },
        {
          "name": "stderr",
          "text": "Epoch 3: 100%|██████████| 25/25 [00:32<00:00,  1.29s/it, loss=0.0695]\n",
          "output_type": "stream"
        },
        {
          "name": "stdout",
          "text": "Epoch: 3  Lr: 0.00005000  Loss: Train = [0.0644] - Val = [0.0685]  Time one epoch (s): 35.7466 \n",
          "output_type": "stream"
        },
        {
          "name": "stderr",
          "text": "Epoch 4: 100%|██████████| 25/25 [00:32<00:00,  1.30s/it, loss=0.0518]\n",
          "output_type": "stream"
        },
        {
          "name": "stdout",
          "text": "Epoch: 4  Lr: 0.00005000  Loss: Train = [0.0528] - Val = [0.0670]  Time one epoch (s): 36.0469 \n",
          "output_type": "stream"
        },
        {
          "name": "stderr",
          "text": "Epoch 5: 100%|██████████| 25/25 [00:32<00:00,  1.29s/it, loss=0.0321]\n",
          "output_type": "stream"
        },
        {
          "name": "stdout",
          "text": "Epoch: 5  Lr: 0.00005000  Loss: Train = [0.0437] - Val = [0.0702]  Time one epoch (s): 35.7889 \n",
          "output_type": "stream"
        },
        {
          "name": "stderr",
          "text": "Epoch 6: 100%|██████████| 25/25 [00:32<00:00,  1.29s/it, loss=0.0303]\n",
          "output_type": "stream"
        },
        {
          "name": "stdout",
          "text": "Epoch: 6  Lr: 0.00005000  Loss: Train = [0.0339] - Val = [0.0714]  Time one epoch (s): 35.8447 \nTime for 6 epochs (s): 215.724\nTRAINING COMPLETE.\n",
          "output_type": "stream"
        }
      ],
      "execution_count": null
    },
    {
      "cell_type": "code",
      "source": [
        "plt.figure(figsize=(10,5))\n",
        "\n",
        "plt.title(\"SC loss\" if scheme else \"AC loss\")\n",
        "\n",
        "plt.plot(statistics['train_loss_values'],label=\"train loss\")\n",
        "\n",
        "plt.plot(statistics['val_loss_values'],label=\"validation loss\")\n",
        "\n",
        "plt.xlabel(\"Epochs\")\n",
        "\n",
        "plt.xticks(np.arange(epochs), np.arange(1, epochs+1, 1))\n",
        "\n",
        "plt.ylabel(\"Loss\")\n",
        "\n",
        "plt.legend()\n",
        "\n",
        "plt.show()"
      ],
      "metadata": {
        "colab": {
          "base_uri": "https://localhost:8080/",
          "height": 487
        },
        "id": "wukQyjNxELuc",
        "outputId": "a167abed-b0d2-4f80-dfa2-e13874683a09",
        "execution": {
          "iopub.status.busy": "2024-11-16T22:01:41.105389Z",
          "iopub.execute_input": "2024-11-16T22:01:41.105773Z",
          "iopub.status.idle": "2024-11-16T22:01:41.389176Z",
          "shell.execute_reply.started": "2024-11-16T22:01:41.105744Z",
          "shell.execute_reply": "2024-11-16T22:01:41.388349Z"
        },
        "trusted": true
      },
      "outputs": [
        {
          "output_type": "display_data",
          "data": {
            "text/plain": "<Figure size 1000x500 with 1 Axes>",
            "image/png": "[encoded data removed]"
          },
          "metadata": {}
        }
      ],
      "execution_count": null
    },
    {
      "cell_type": "markdown",
      "source": [
        "# Evaluation"
      ],
      "metadata": {
        "id": "UmcR3Xs4Ipff"
      }
    },
    {
      "cell_type": "markdown",
      "source": [
        "## AC Evaluation"
      ],
      "metadata": {
        "id": "G44CJgw5k6HH"
      }
    },
    {
      "cell_type": "code",
      "source": [
        "def predict(model, data_loader, use_cuda=True):\n",
        "\n",
        "    '''\n",
        "\n",
        "    Args:\n",
        "\n",
        "      model: trained model.\n",
        "\n",
        "      data_loader: source of evaluation data.\n",
        "\n",
        "\n",
        "\n",
        "    Returns:\n",
        "\n",
        "      pred_emo: predicted emotions.\n",
        "\n",
        "      pred_tri: predicted thresholded triggers.\n",
        "\n",
        "      pred_tri_orig: raw model's trigger predictions.\n",
        "\n",
        "    '''\n",
        "\n",
        "    device = torch.device('cuda') if use_cuda and torch.cuda.is_available() else torch.device('cpu')\n",
        "\n",
        "    model.eval()\n",
        "\n",
        "    model.to(device)\n",
        "\n",
        "    predictions = []\n",
        "\n",
        "    with torch.no_grad():\n",
        "\n",
        "        for step_num, batch in tqdm(enumerate(data_loader)):\n",
        "\n",
        "            input_ids = batch['input_ids'].to(device)\n",
        "\n",
        "            attention_mask = batch['attention_mask'].to(device)\n",
        "\n",
        "            #labels_emo = batch['labels'].to(device)\n",
        "\n",
        "            output = model(input_ids, attention_mask=attention_mask)\n",
        "\n",
        "            pred= output\n",
        "\n",
        "            pred = pred.cpu().detach().numpy()\n",
        "\n",
        "            predictions.append(np.argmax(pred,axis=-1))\n",
        "\n",
        "    predictions = np.concatenate(predictions)\n",
        "\n",
        "\n",
        "\n",
        "    return predictions"
      ],
      "metadata": {
        "id": "YXVlJ2Ask6HI",
        "execution": {
          "iopub.status.busy": "2024-11-16T22:01:43.419332Z",
          "iopub.execute_input": "2024-11-16T22:01:43.420165Z",
          "iopub.status.idle": "2024-11-16T22:01:43.427849Z",
          "shell.execute_reply.started": "2024-11-16T22:01:43.420131Z",
          "shell.execute_reply": "2024-11-16T22:01:43.426905Z"
        },
        "trusted": true
      },
      "outputs": [],
      "execution_count": null
    },
    {
      "cell_type": "code",
      "source": [
        "#base_test_encodings = base_tokenizer.transform(df_test)\n",
        "\n",
        "train_encodings = encode(tokenizer, df_train, train_labels, include_previous=INCLUDE_PREVIOUS)\n",
        "\n",
        "val_encodings = encode(tokenizer, df_val, val_labels, include_previous=INCLUDE_PREVIOUS)\n",
        "\n",
        "test_encodings = encode(tokenizer,df_test,test_labels, include_previous=INCLUDE_PREVIOUS)\n",
        "\n",
        "print(f'ENCODING COMPLETE.')\n",
        "\n",
        "\n"
      ],
      "metadata": {
        "colab": {
          "base_uri": "https://localhost:8080/"
        },
        "id": "PCgQatSWHpjs",
        "outputId": "977aa9a7-4b19-4c78-f5af-4721490f04d2",
        "execution": {
          "iopub.status.busy": "2024-11-16T22:01:43.792175Z",
          "iopub.execute_input": "2024-11-16T22:01:43.792511Z",
          "iopub.status.idle": "2024-11-16T22:01:44.190728Z",
          "shell.execute_reply.started": "2024-11-16T22:01:43.792483Z",
          "shell.execute_reply": "2024-11-16T22:01:44.189729Z"
        },
        "trusted": true
      },
      "outputs": [
        {
          "name": "stdout",
          "text": "Encoding...\ninput shape: (789, 256)\nEncoding complete\nEncoding...\ninput shape: (257, 256)\nEncoding complete\nEncoding...\ninput shape: (255, 256)\nEncoding complete\nENCODING COMPLETE.\n",
          "output_type": "stream"
        }
      ],
      "execution_count": null
    },
    {
      "cell_type": "code",
      "source": [
        "if not scheme:\n",
        "\n",
        "    #create val dataset\n",
        "\n",
        "    val_dataset = CustomTorchDataset(val_encodings)\n",
        "\n",
        "    #create val dataloader\n",
        "\n",
        "    data_loader_val = torch.utils.data.DataLoader(val_dataset,\n",
        "\n",
        "                                      batch_size=batch_size,\n",
        "\n",
        "                                      shuffle = False)\n",
        "\n",
        "    y_true = val_labels\n",
        "\n",
        "    y_pred = predict(model,data_loader_val)\n",
        "\n",
        "    print('/n'+\"\"+classification_report(y_true, y_pred))"
      ],
      "metadata": {
        "id": "evF5Sv-FI4gM",
        "execution": {
          "iopub.status.busy": "2024-11-16T22:01:44.22296Z",
          "iopub.execute_input": "2024-11-16T22:01:44.223244Z",
          "iopub.status.idle": "2024-11-16T22:01:44.228545Z",
          "shell.execute_reply.started": "2024-11-16T22:01:44.223219Z",
          "shell.execute_reply": "2024-11-16T22:01:44.227631Z"
        },
        "trusted": true
      },
      "outputs": [],
      "execution_count": null
    },
    {
      "cell_type": "code",
      "source": [
        "if not scheme:\n",
        "\n",
        "    y_true = test_labels\n",
        "\n",
        "\n",
        "\n",
        "    #y_pred = base_model.predict(base_test_encodings)\n",
        "\n",
        "    #print(\"\\n Baseline: \\n\"+classification_report(y_true, y_pred))\n",
        "\n",
        "\n",
        "\n",
        "    #create test dataset\n",
        "\n",
        "    test_dataset = CustomTorchDataset(test_encodings)\n",
        "\n",
        "    #create test dataloader\n",
        "\n",
        "    data_loader_test = torch.utils.data.DataLoader(test_dataset,\n",
        "\n",
        "                                      batch_size=batch_size,\n",
        "\n",
        "                                      shuffle = False)\n",
        "\n",
        "    y_pred = predict(model,data_loader_test)\n",
        "\n",
        "    print(\"\\n Actual model: \\n\"+classification_report(y_true, y_pred))"
      ],
      "metadata": {
        "id": "Ush1RZsJInKS",
        "execution": {
          "iopub.status.busy": "2024-11-16T22:01:44.673107Z",
          "iopub.execute_input": "2024-11-16T22:01:44.673489Z",
          "iopub.status.idle": "2024-11-16T22:01:44.679092Z",
          "shell.execute_reply.started": "2024-11-16T22:01:44.673458Z",
          "shell.execute_reply": "2024-11-16T22:01:44.67814Z"
        },
        "trusted": true
      },
      "outputs": [],
      "execution_count": null
    },
    {
      "cell_type": "code",
      "source": [
        "#score = f1_score(y_true, y_pred, labels=df_test['label'].unique(), average='macro')"
      ],
      "metadata": {
        "id": "dkfPd-JCDh4b",
        "execution": {
          "iopub.status.busy": "2024-11-16T22:01:45.013112Z",
          "iopub.execute_input": "2024-11-16T22:01:45.013434Z",
          "iopub.status.idle": "2024-11-16T22:01:45.017554Z",
          "shell.execute_reply.started": "2024-11-16T22:01:45.013409Z",
          "shell.execute_reply": "2024-11-16T22:01:45.016636Z"
        },
        "trusted": true
      },
      "outputs": [],
      "execution_count": null
    },
    {
      "cell_type": "markdown",
      "source": [
        "## SC Evaluation"
      ],
      "metadata": {
        "id": "X-Ss9wCcD8FZ"
      }
    },
    {
      "cell_type": "code",
      "source": [
        "def evaluate(model, data_loader, use_cuda=True):\n",
        "\n",
        "    predictions = []\n",
        "\n",
        "    device = torch.device('cuda') if use_cuda and torch.cuda.is_available() else torch.device('cpu')\n",
        "\n",
        "    model.eval()\n",
        "\n",
        "    model.to(device)\n",
        "\n",
        "    loop = tqdm(data_loader)\n",
        "\n",
        "    with torch.no_grad():\n",
        "\n",
        "        for batch in loop:\n",
        "\n",
        "            pred = model(batch['input_ids'].to(device), attention_mask = batch[\"attention_mask\"].to(device))\n",
        "\n",
        "            pred = pred.cpu().detach().numpy()\n",
        "\n",
        "            predictions.append(pred)\n",
        "\n",
        "    predictions = np.concatenate(predictions)\n",
        "\n",
        "    return predictions"
      ],
      "metadata": {
        "id": "27pqaaD6D_36",
        "execution": {
          "iopub.status.busy": "2024-11-16T22:30:10.731087Z",
          "iopub.execute_input": "2024-11-16T22:30:10.73179Z",
          "iopub.status.idle": "2024-11-16T22:30:10.73852Z",
          "shell.execute_reply.started": "2024-11-16T22:30:10.731751Z",
          "shell.execute_reply": "2024-11-16T22:30:10.737559Z"
        },
        "trusted": true
      },
      "outputs": [],
      "execution_count": null
    },
    {
      "cell_type": "code",
      "source": [
        "from sklearn.metrics import classification_report,f1_score\n",
        "\n",
        "\n",
        "TRAIN = False\n",
        "if scheme:\n",
        "\n",
        "    #y_pred = base_model.predict(base_test_encodings)\n",
        "\n",
        "    #print(\"\\n Baseline: \\n\"+classification_report(df_test['Scheme'], y_pred))\n",
        "\n",
        "\n",
        "\n",
        "    test_encodings = encode(tokenizer,df_test,test_labels,scheme,include_previous=INCLUDE_PREVIOUS)\n",
        "    train_encodings = encode(tokenizer,df_train,train_labels,scheme,include_previous=INCLUDE_PREVIOUS)\n",
        "    #create test dataset\n",
        "\n",
        "    test_dataset = CustomTorchDataset(test_encodings)\n",
        "    train_dataset = CustomTorchDataset(train_encodings)\n",
        "\n",
        "    #create test dataloader\n",
        "\n",
        "    data_loader_test = torch.utils.data.DataLoader(test_dataset,\n",
        "\n",
        "                                        batch_size=batch_size,\n",
        "\n",
        "                                        shuffle = False)\n",
        "    data_loader_train = torch.utils.data.DataLoader(train_dataset,\n",
        "\n",
        "                                        batch_size=batch_size,\n",
        "\n",
        "                                        shuffle = False)\n",
        "\n",
        "\n",
        "    train_predictions = evaluate(model, data_loader_train)\n",
        "    test_predictions = evaluate(model, data_loader_test)\n",
        "    if TRAIN:\n",
        "        y_pred = np.where(train_predictions<0.5, 0., 1.)\n",
        "        y_true = np.array(train_labels)\n",
        "    else:\n",
        "        y_pred = np.where(test_predictions<0.5, 0., 1.)\n",
        "        y_true = np.array(test_labels)\n",
        "\n",
        "\n",
        "    #print(y_pred)\n",
        "\n",
        "\n",
        "    print(y_true.shape,y_pred.shape)\n",
        "    print(\"\\n\"+classification_report(y_true, y_pred,target_names = sc_classes))"
      ],
      "metadata": {
        "colab": {
          "base_uri": "https://localhost:8080/"
        },
        "id": "rP5_dPbJFHnt",
        "outputId": "96bee6bb-1ddb-414e-8dcb-853dea181c5e",
        "execution": {
          "iopub.status.busy": "2024-11-16T22:30:14.256276Z",
          "iopub.execute_input": "2024-11-16T22:30:14.256699Z",
          "iopub.status.idle": "2024-11-16T22:30:28.396448Z",
          "shell.execute_reply.started": "2024-11-16T22:30:14.25666Z",
          "shell.execute_reply": "2024-11-16T22:30:28.395511Z"
        },
        "trusted": true
      },
      "outputs": [
        {
          "name": "stdout",
          "text": "Encoding...\ninput shape: (253, 256)\nEncoding complete\nEncoding...\ninput shape: (782, 256)\nEncoding complete\n",
          "output_type": "stream"
        },
        {
          "name": "stderr",
          "text": "  0%|          | 0/25 [00:00<?, ?it/s]/tmp/ipykernel_34/136612130.py:11: UserWarning: To copy construct from a tensor, it is recommended to use sourceTensor.clone().detach() or sourceTensor.clone().detach().requires_grad_(True), rather than torch.tensor(sourceTensor).\n  return {key: torch.tensor(val[idx]) for key, val in self.encodings.items()}\n100%|██████████| 25/25 [00:10<00:00,  2.40it/s]\n100%|██████████| 8/8 [00:03<00:00,  2.40it/s]",
          "output_type": "stream"
        },
        {
          "name": "stdout",
          "text": "(253, 8) (253, 8)\n\n              precision    recall  f1-score   support\n\n        Rule       0.29      0.04      0.07       106\n        Prec       0.10      0.01      0.03        68\n        Itpr       0.64      0.39      0.48        77\n       Princ       0.00      0.00      0.00        24\n       Class       0.12      0.08      0.09        26\n         Aut       0.04      0.19      0.06        16\n        Syst       0.50      0.20      0.29         5\n        Tele       0.50      0.50      0.50         2\n\n   micro avg       0.19      0.13      0.15       324\n   macro avg       0.27      0.18      0.19       324\nweighted avg       0.29      0.13      0.16       324\n samples avg       0.16      0.14      0.15       324\n\n",
          "output_type": "stream"
        },
        {
          "name": "stderr",
          "text": "\n/opt/conda/lib/python3.10/site-packages/sklearn/metrics/_classification.py:1344: UndefinedMetricWarning: Precision and F-score are ill-defined and being set to 0.0 in samples with no predicted labels. Use `zero_division` parameter to control this behavior.\n  _warn_prf(average, modifier, msg_start, len(result))\n",
          "output_type": "stream"
        }
      ],
      "execution_count": null
    },
    {
      "cell_type": "code",
      "source": [],
      "metadata": {
        "id": "f6pW9Hm_H6YA"
      },
      "outputs": [],
      "execution_count": null
    }
  ]
}