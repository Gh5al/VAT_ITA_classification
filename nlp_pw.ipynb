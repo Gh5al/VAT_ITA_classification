{
 "cells": [
  {
   "cell_type": "markdown",
   "id": "49f4c718",
   "metadata": {
    "id": "view-in-github",
    "papermill": {
     "duration": 0.02352,
     "end_time": "2025-09-02T17:06:44.803189",
     "exception": false,
     "start_time": "2025-09-02T17:06:44.779669",
     "status": "completed"
    },
    "tags": []
   },
   "source": [
    "<a href=\"https://colab.research.google.com/github/Gh5al/VAT_ITA_classification/blob/data_aug/nlp_pw.ipynb\" target=\"_parent\"><img src=\"https://colab.research.google.com/assets/colab-badge.svg\" alt=\"Open In Colab\"/></a>"
   ]
  },
  {
   "cell_type": "markdown",
   "id": "a58febb6",
   "metadata": {
    "papermill": {
     "duration": 0.02107,
     "end_time": "2025-09-02T17:06:44.846249",
     "exception": false,
     "start_time": "2025-09-02T17:06:44.825179",
     "status": "completed"
    },
    "tags": []
   },
   "source": [
    "# Importing"
   ]
  },
  {
   "cell_type": "code",
   "execution_count": 1,
   "id": "2615646e",
   "metadata": {
    "execution": {
     "iopub.execute_input": "2025-09-02T17:06:44.890174Z",
     "iopub.status.busy": "2025-09-02T17:06:44.889920Z",
     "iopub.status.idle": "2025-09-02T17:07:03.919261Z",
     "shell.execute_reply": "2025-09-02T17:07:03.918471Z"
    },
    "id": "v5l2leCm5GsK",
    "outputId": "db4bf766-596c-4808-e30b-4987d61d4bf8",
    "papermill": {
     "duration": 19.053677,
     "end_time": "2025-09-02T17:07:03.921197",
     "exception": false,
     "start_time": "2025-09-02T17:06:44.867520",
     "status": "completed"
    },
    "tags": []
   },
   "outputs": [
    {
     "name": "stdout",
     "output_type": "stream",
     "text": [
      "Collecting nlpaug\r\n",
      "  Downloading nlpaug-1.1.11-py3-none-any.whl.metadata (14 kB)\r\n",
      "Requirement already satisfied: numpy>=1.16.2 in /opt/conda/lib/python3.10/site-packages (from nlpaug) (1.26.4)\r\n",
      "Requirement already satisfied: pandas>=1.2.0 in /opt/conda/lib/python3.10/site-packages (from nlpaug) (2.2.1)\r\n",
      "Requirement already satisfied: requests>=2.22.0 in /opt/conda/lib/python3.10/site-packages (from nlpaug) (2.31.0)\r\n",
      "Collecting gdown>=4.0.0 (from nlpaug)\r\n",
      "  Downloading gdown-5.2.0-py3-none-any.whl.metadata (5.8 kB)\r\n",
      "Requirement already satisfied: beautifulsoup4 in /opt/conda/lib/python3.10/site-packages (from gdown>=4.0.0->nlpaug) (4.12.2)\r\n",
      "Requirement already satisfied: filelock in /opt/conda/lib/python3.10/site-packages (from gdown>=4.0.0->nlpaug) (3.13.1)\r\n",
      "Requirement already satisfied: tqdm in /opt/conda/lib/python3.10/site-packages (from gdown>=4.0.0->nlpaug) (4.66.4)\r\n",
      "Requirement already satisfied: python-dateutil>=2.8.2 in /opt/conda/lib/python3.10/site-packages (from pandas>=1.2.0->nlpaug) (2.9.0.post0)\r\n",
      "Requirement already satisfied: pytz>=2020.1 in /opt/conda/lib/python3.10/site-packages (from pandas>=1.2.0->nlpaug) (2023.3.post1)\r\n",
      "Requirement already satisfied: tzdata>=2022.7 in /opt/conda/lib/python3.10/site-packages (from pandas>=1.2.0->nlpaug) (2023.4)\r\n",
      "Requirement already satisfied: charset-normalizer<4,>=2 in /opt/conda/lib/python3.10/site-packages (from requests>=2.22.0->nlpaug) (3.3.2)\r\n",
      "Requirement already satisfied: idna<4,>=2.5 in /opt/conda/lib/python3.10/site-packages (from requests>=2.22.0->nlpaug) (3.6)\r\n",
      "Requirement already satisfied: urllib3<3,>=1.21.1 in /opt/conda/lib/python3.10/site-packages (from requests>=2.22.0->nlpaug) (1.26.18)\r\n",
      "Requirement already satisfied: certifi>=2017.4.17 in /opt/conda/lib/python3.10/site-packages (from requests>=2.22.0->nlpaug) (2024.2.2)\r\n",
      "Requirement already satisfied: six>=1.5 in /opt/conda/lib/python3.10/site-packages (from python-dateutil>=2.8.2->pandas>=1.2.0->nlpaug) (1.16.0)\r\n",
      "Requirement already satisfied: soupsieve>1.2 in /opt/conda/lib/python3.10/site-packages (from beautifulsoup4->gdown>=4.0.0->nlpaug) (2.5)\r\n",
      "Requirement already satisfied: PySocks!=1.5.7,>=1.5.6 in /opt/conda/lib/python3.10/site-packages (from requests[socks]->gdown>=4.0.0->nlpaug) (1.7.1)\r\n",
      "Downloading nlpaug-1.1.11-py3-none-any.whl (410 kB)\r\n",
      "\u001b[2K   \u001b[90m━━━━━━━━━━━━━━━━━━━━━━━━━━━━━━━━━━━━━━━━\u001b[0m \u001b[32m410.5/410.5 kB\u001b[0m \u001b[31m11.3 MB/s\u001b[0m eta \u001b[36m0:00:00\u001b[0m\r\n",
      "\u001b[?25hDownloading gdown-5.2.0-py3-none-any.whl (18 kB)\r\n",
      "\u001b[33mWARNING: Error parsing requirements for aiohttp: [Errno 2] No such file or directory: '/opt/conda/lib/python3.10/site-packages/aiohttp-3.9.1.dist-info/METADATA'\u001b[0m\u001b[33m\r\n",
      "\u001b[0mInstalling collected packages: gdown, nlpaug\r\n",
      "Successfully installed gdown-5.2.0 nlpaug-1.1.11\r\n",
      "Collecting deep-translator\r\n",
      "  Downloading deep_translator-1.11.4-py3-none-any.whl.metadata (30 kB)\r\n",
      "Requirement already satisfied: beautifulsoup4<5.0.0,>=4.9.1 in /opt/conda/lib/python3.10/site-packages (from deep-translator) (4.12.2)\r\n",
      "Requirement already satisfied: requests<3.0.0,>=2.23.0 in /opt/conda/lib/python3.10/site-packages (from deep-translator) (2.31.0)\r\n",
      "Requirement already satisfied: soupsieve>1.2 in /opt/conda/lib/python3.10/site-packages (from beautifulsoup4<5.0.0,>=4.9.1->deep-translator) (2.5)\r\n",
      "Requirement already satisfied: charset-normalizer<4,>=2 in /opt/conda/lib/python3.10/site-packages (from requests<3.0.0,>=2.23.0->deep-translator) (3.3.2)\r\n",
      "Requirement already satisfied: idna<4,>=2.5 in /opt/conda/lib/python3.10/site-packages (from requests<3.0.0,>=2.23.0->deep-translator) (3.6)\r\n",
      "Requirement already satisfied: urllib3<3,>=1.21.1 in /opt/conda/lib/python3.10/site-packages (from requests<3.0.0,>=2.23.0->deep-translator) (1.26.18)\r\n",
      "Requirement already satisfied: certifi>=2017.4.17 in /opt/conda/lib/python3.10/site-packages (from requests<3.0.0,>=2.23.0->deep-translator) (2024.2.2)\r\n",
      "Downloading deep_translator-1.11.4-py3-none-any.whl (42 kB)\r\n",
      "\u001b[2K   \u001b[90m━━━━━━━━━━━━━━━━━━━━━━━━━━━━━━━━━━━━━━━━\u001b[0m \u001b[32m42.3/42.3 kB\u001b[0m \u001b[31m2.7 MB/s\u001b[0m eta \u001b[36m0:00:00\u001b[0m\r\n",
      "\u001b[?25h\u001b[33mWARNING: Error parsing requirements for aiohttp: [Errno 2] No such file or directory: '/opt/conda/lib/python3.10/site-packages/aiohttp-3.9.1.dist-info/METADATA'\u001b[0m\u001b[33m\r\n",
      "\u001b[0mInstalling collected packages: deep-translator\r\n",
      "Successfully installed deep-translator-1.11.4\r\n"
     ]
    }
   ],
   "source": [
    "!pip install nlpaug\n",
    "!pip install -U deep-translator"
   ]
  },
  {
   "cell_type": "code",
   "execution_count": 2,
   "id": "aec665e9",
   "metadata": {
    "execution": {
     "iopub.execute_input": "2025-09-02T17:07:03.967599Z",
     "iopub.status.busy": "2025-09-02T17:07:03.967300Z",
     "iopub.status.idle": "2025-09-02T17:07:33.256545Z",
     "shell.execute_reply": "2025-09-02T17:07:33.255572Z"
    },
    "id": "KbWaRpfXk6GK",
    "papermill": {
     "duration": 29.314911,
     "end_time": "2025-09-02T17:07:33.258884",
     "exception": false,
     "start_time": "2025-09-02T17:07:03.943973",
     "status": "completed"
    },
    "tags": []
   },
   "outputs": [
    {
     "name": "stderr",
     "output_type": "stream",
     "text": [
      "2025-09-02 17:07:25.075365: E external/local_xla/xla/stream_executor/cuda/cuda_dnn.cc:9261] Unable to register cuDNN factory: Attempting to register factory for plugin cuDNN when one has already been registered\n",
      "2025-09-02 17:07:25.075486: E external/local_xla/xla/stream_executor/cuda/cuda_fft.cc:607] Unable to register cuFFT factory: Attempting to register factory for plugin cuFFT when one has already been registered\n",
      "2025-09-02 17:07:25.193088: E external/local_xla/xla/stream_executor/cuda/cuda_blas.cc:1515] Unable to register cuBLAS factory: Attempting to register factory for plugin cuBLAS when one has already been registered\n"
     ]
    }
   ],
   "source": [
    "import json\n",
    "import os\n",
    "import numpy as np\n",
    "import pandas as pd\n",
    "from matplotlib import pyplot as plt\n",
    "import random\n",
    "import torch\n",
    "from sklearn.model_selection import train_test_split\n",
    "import random\n",
    "import gc\n",
    "import transformers\n",
    "from tqdm import tqdm, trange\n",
    "from typing import Callable, Dict, List, Tuple\n",
    "from timeit import default_timer as timer\n",
    "from transformers import EncoderDecoderModel, AutoTokenizer, PreTrainedTokenizer, BatchEncoding, AutoModel\n",
    "import torch.nn as nn\n",
    "from torch.utils.data import Dataset, DataLoader, SubsetRandomSampler, WeightedRandomSampler\n",
    "import os\n",
    "import json\n",
    "import nlpaug.augmenter.word as naw\n"
   ]
  },
  {
   "cell_type": "code",
   "execution_count": 3,
   "id": "9d2c2bf9",
   "metadata": {
    "execution": {
     "iopub.execute_input": "2025-09-02T17:07:33.306478Z",
     "iopub.status.busy": "2025-09-02T17:07:33.305682Z",
     "iopub.status.idle": "2025-09-02T17:07:33.489116Z",
     "shell.execute_reply": "2025-09-02T17:07:33.488268Z"
    },
    "id": "A6NKCcv95GsL",
    "outputId": "df4a19cd-348f-4937-eaf7-b49d91e8e32d",
    "papermill": {
     "duration": 0.207883,
     "end_time": "2025-09-02T17:07:33.490826",
     "exception": false,
     "start_time": "2025-09-02T17:07:33.282943",
     "status": "completed"
    },
    "tags": []
   },
   "outputs": [
    {
     "name": "stdout",
     "output_type": "stream",
     "text": [
      "[nltk_data] Downloading package wordnet to /kaggle/working/...\n"
     ]
    }
   ],
   "source": [
    "import nltk\n",
    "nltk.download('wordnet',\"/kaggle/working/\")\n",
    "nltk.data.path.append(\"/kaggle/working/\");"
   ]
  },
  {
   "cell_type": "code",
   "execution_count": 4,
   "id": "befed22b",
   "metadata": {
    "execution": {
     "iopub.execute_input": "2025-09-02T17:07:33.537169Z",
     "iopub.status.busy": "2025-09-02T17:07:33.536923Z",
     "iopub.status.idle": "2025-09-02T17:07:33.540796Z",
     "shell.execute_reply": "2025-09-02T17:07:33.540085Z"
    },
    "id": "93koib1_5GsL",
    "outputId": "3da714fe-f8a7-405e-d8ef-6627236abc38",
    "papermill": {
     "duration": 0.028431,
     "end_time": "2025-09-02T17:07:33.542291",
     "exception": false,
     "start_time": "2025-09-02T17:07:33.513860",
     "status": "completed"
    },
    "tags": []
   },
   "outputs": [],
   "source": [
    "device = torch.device('cuda')\n",
    "GENERATION = False #flag to decide if generate new data with translation + NLPaug\n",
    "TNAUG = False #augmentation with trans + NLPaug technique for Scheme classification\n",
    "focal = True #flag for scheme classification to switch loss function from BCE to focal loss\n",
    "SEED = 27 # Fix the random state for reproducibility (27,42,777)\n"
   ]
  },
  {
   "cell_type": "markdown",
   "id": "0377f7d3",
   "metadata": {
    "id": "VTBtUbSGk6Gg",
    "papermill": {
     "duration": 0.021931,
     "end_time": "2025-09-02T17:07:33.624818",
     "exception": false,
     "start_time": "2025-09-02T17:07:33.602887",
     "status": "completed"
    },
    "tags": []
   },
   "source": [
    "# Fixing seed"
   ]
  },
  {
   "cell_type": "code",
   "execution_count": 5,
   "id": "5ecb3342",
   "metadata": {
    "execution": {
     "iopub.execute_input": "2025-09-02T17:07:33.670511Z",
     "iopub.status.busy": "2025-09-02T17:07:33.669874Z",
     "iopub.status.idle": "2025-09-02T17:07:33.677029Z",
     "shell.execute_reply": "2025-09-02T17:07:33.676474Z"
    },
    "id": "_k1p8LBxk6Gg",
    "papermill": {
     "duration": 0.031591,
     "end_time": "2025-09-02T17:07:33.678560",
     "exception": false,
     "start_time": "2025-09-02T17:07:33.646969",
     "status": "completed"
    },
    "tags": []
   },
   "outputs": [],
   "source": [
    "# Fix the random state for reproducibility\n",
    "def fix_seed(seed: int) -> None:\n",
    "    \"\"\"Fix all the possible sources of randomness.\n",
    "\n",
    "    Args:\n",
    "        seed: the seed to use.\n",
    "\n",
    "    \"\"\"\n",
    "    np.random.seed(seed)\n",
    "    random.seed(seed)\n",
    "    torch.manual_seed(seed)\n",
    "    torch.cuda.manual_seed(seed)\n",
    "    torch.backends.cudnn.benchmark = False\n",
    "    torch.backends.cudnn.deterministic = True\n",
    "\n",
    "[ ]\n",
    "\n",
    "fix_seed(SEED)"
   ]
  },
  {
   "cell_type": "markdown",
   "id": "6200172f",
   "metadata": {
    "papermill": {
     "duration": 0.022033,
     "end_time": "2025-09-02T17:07:33.724602",
     "exception": false,
     "start_time": "2025-09-02T17:07:33.702569",
     "status": "completed"
    },
    "tags": []
   },
   "source": [
    "# Load dataset"
   ]
  },
  {
   "cell_type": "code",
   "execution_count": 6,
   "id": "7e1203c6",
   "metadata": {
    "execution": {
     "iopub.execute_input": "2025-09-02T17:07:33.769861Z",
     "iopub.status.busy": "2025-09-02T17:07:33.769632Z",
     "iopub.status.idle": "2025-09-02T17:07:33.853921Z",
     "shell.execute_reply": "2025-09-02T17:07:33.853019Z"
    },
    "id": "Qv-JEb3-k6GN",
    "outputId": "417ca15c-5845-4faa-81a7-4b62505cb47a",
    "papermill": {
     "duration": 0.108622,
     "end_time": "2025-09-02T17:07:33.855447",
     "exception": false,
     "start_time": "2025-09-02T17:07:33.746825",
     "status": "completed"
    },
    "tags": []
   },
   "outputs": [
    {
     "name": "stdout",
     "output_type": "stream",
     "text": [
      "Found pkl, loading it - /kaggle/input/nlp-pw/arg_annotations_italian_vat.pkl.xz\n"
     ]
    }
   ],
   "source": [
    "def uniform(el):\n",
    "\n",
    "    \"\"\"\n",
    "    Handles the values for multi-value attributes, splitting to list if necessary\n",
    "    If the input is a list or transformed to a list, values are sorted\n",
    "    Args:\n",
    "        el (str or list): The attribute value\n",
    "    Returns:\n",
    "        str or list: The attribute value sorted if it is a list, the attribute value otherwise\n",
    "    \"\"\"\n",
    "    if el == el:  # NaN is different from NaN, np.isnan and pd.isna don't work\n",
    "        if '|' in el:\n",
    "            el = sorted(el.split('|'))\n",
    "        elif isinstance(el, list):\n",
    "            el = sorted(el)\n",
    "    return el\n",
    "\n",
    "DATAFRAMES_PATH = '/kaggle/input/nlp-pw' if os.environ.get('KAGGLE_KERNEL_RUN_TYPE','') else './Dataframes'\n",
    "\n",
    "def create_df_annotations(path: str, language: str, dataset: str):\n",
    "\n",
    "    \"\"\"\n",
    "    Load the dataset + create and save to file a dataframe with the annotations of the arguments.\n",
    "\n",
    "    Args:\n",
    "        path (str): path of the folder containing the JSON files\n",
    "        dataset (str): One of [vat, tp, ecj]\n",
    "    \"\"\"\n",
    "    \n",
    "    pkl_file_path = f\"{DATAFRAMES_PATH}/arg_annotations_{language}_{dataset}.pkl.xz\"\n",
    "    if os.path.isfile(pkl_file_path):\n",
    "        print(f\"Found pkl, loading it - {pkl_file_path}\")\n",
    "        return pd.read_pickle(pkl_file_path)\n",
    "    print(f\"Could not find pkl, reading dataset - {pkl_file_path}\")\n",
    "    temp = []\n",
    "    files = os.listdir(path)\n",
    "    files.sort()\n",
    "\n",
    "    for filename in files:\n",
    "        if not filename.endswith('.json'):\n",
    "            print(f\"Skipping '{filename}'\")\n",
    "        else:\n",
    "            print(f\"Loading '{filename}'\")\n",
    "            with open(os.path.join(path, filename), 'r', encoding='utf8') as f:\n",
    "                data = json.load(f)\n",
    "                annotations = data[\"annotations\"]\n",
    "                last_full_chain_id = None\n",
    "                last_text = None\n",
    "                \n",
    "                for annotation in annotations:\n",
    "                    if annotation[\"name\"] != 'conc' and annotation[\"name\"] != 'prem':\n",
    "                        continue # Ignore intro, nreg, judoff, ...\n",
    "\n",
    "                    #document = annotation[\"document\"]\n",
    "                    document = data[\"document\"][\"name\"]\n",
    "                    name = annotation[\"name\"]\n",
    "                    _id = annotation[\"_id\"]\n",
    "                    argument_chain_id = _id[0]\n",
    "                    full_chain_id = f'{document}_{argument_chain_id}'\n",
    "                    last_full_chain_id = full_chain_id\n",
    "                    incremental_num = _id[1:]\n",
    "                    text = data[\"document\"][\"plainText\"][int(annotation[\"start\"]):int(annotation[\"end\"])]\n",
    "                    last_text = text\n",
    "\n",
    "                    # attribute extraction, NaN if that attribute is not present\n",
    "                    T = uniform(annotation[\"attributes\"].get(\"T\", np.nan))\n",
    "                    SUP = uniform(annotation[\"attributes\"].get(\"SUP\", np.nan))\n",
    "                    SFF = uniform(annotation[\"attributes\"].get(\"SFF\", np.nan))\n",
    "                    ATT = uniform(annotation[\"attributes\"].get(\"ATT\", np.nan))\n",
    "                    INH = uniform(annotation[\"attributes\"].get(\"INH\", np.nan))\n",
    "                    REPH = uniform(annotation[\"attributes\"].get(\"REPH\", np.nan))\n",
    "                    S = uniform(annotation[\"attributes\"].get(\"S\", np.nan))\n",
    "                    text = text.replace('\\n','').lstrip('‘’\\'\\n0123456789.-–…;;) ').rstrip('‘’\\'\\n.;; ')\n",
    "                    previous = last_text if last_full_chain_id == full_chain_id else None\n",
    "                    temp.append([\n",
    "                        document, name, _id, argument_chain_id, incremental_num, text, T, SUP, SFF, ATT, INH, REPH, S, full_chain_id, previous,\n",
    "                    ])\n",
    "\n",
    "    # df creation\n",
    "    df = pd.DataFrame(temp, columns=[\n",
    "            'Document', 'Name', 'Id', 'Chain', 'Num', 'Text', 'Type', 'SUP', 'SFF', 'ATT', 'INH', 'REPH', 'Scheme', 'FullChainID', 'Previous'\n",
    "        ])\n",
    "    print(f\"Saving {len(df)} annotations to {pkl_file_path}\")\n",
    "    df.to_pickle(pkl_file_path)\n",
    "    df.to_csv(pkl_file_path.replace('.pkl.xz', '.csv'))\n",
    "    return df\n",
    "\n",
    "df = create_df_annotations('Data/Dataset/VAT_ITA', 'italian', 'vat')\n"
   ]
  },
  {
   "cell_type": "code",
   "execution_count": 7,
   "id": "50a52dbf",
   "metadata": {
    "execution": {
     "iopub.execute_input": "2025-09-02T17:07:33.901417Z",
     "iopub.status.busy": "2025-09-02T17:07:33.901172Z",
     "iopub.status.idle": "2025-09-02T17:07:33.957093Z",
     "shell.execute_reply": "2025-09-02T17:07:33.956367Z"
    },
    "id": "koaJKdEXk6GR",
    "outputId": "cfaec81b-a762-4d6f-dd3c-b902bc8f4c3c",
    "papermill": {
     "duration": 0.080787,
     "end_time": "2025-09-02T17:07:33.958631",
     "exception": false,
     "start_time": "2025-09-02T17:07:33.877844",
     "status": "completed"
    },
    "tags": []
   },
   "outputs": [
    {
     "data": {
      "text/html": [
       "<div>\n",
       "<style scoped>\n",
       "    .dataframe tbody tr th:only-of-type {\n",
       "        vertical-align: middle;\n",
       "    }\n",
       "\n",
       "    .dataframe tbody tr th {\n",
       "        vertical-align: top;\n",
       "    }\n",
       "\n",
       "    .dataframe thead th {\n",
       "        text-align: right;\n",
       "    }\n",
       "</style>\n",
       "<table border=\"1\" class=\"dataframe\">\n",
       "  <thead>\n",
       "    <tr style=\"text-align: right;\">\n",
       "      <th></th>\n",
       "      <th>Document</th>\n",
       "      <th>Name</th>\n",
       "      <th>Id</th>\n",
       "      <th>Chain</th>\n",
       "      <th>Num</th>\n",
       "      <th>Text</th>\n",
       "      <th>Type</th>\n",
       "      <th>SUP</th>\n",
       "      <th>SFF</th>\n",
       "      <th>ATT</th>\n",
       "      <th>INH</th>\n",
       "      <th>REPH</th>\n",
       "      <th>Scheme</th>\n",
       "      <th>FullChainID</th>\n",
       "      <th>Previous</th>\n",
       "    </tr>\n",
       "  </thead>\n",
       "  <tbody>\n",
       "    <tr>\n",
       "      <th>count</th>\n",
       "      <td>3311</td>\n",
       "      <td>3311</td>\n",
       "      <td>3311</td>\n",
       "      <td>3311</td>\n",
       "      <td>3311</td>\n",
       "      <td>3311</td>\n",
       "      <td>2910</td>\n",
       "      <td>1088</td>\n",
       "      <td>82</td>\n",
       "      <td>66</td>\n",
       "      <td>25</td>\n",
       "      <td>89</td>\n",
       "      <td>1314</td>\n",
       "      <td>3311</td>\n",
       "      <td>3311</td>\n",
       "    </tr>\n",
       "    <tr>\n",
       "      <th>unique</th>\n",
       "      <td>225</td>\n",
       "      <td>2</td>\n",
       "      <td>264</td>\n",
       "      <td>10</td>\n",
       "      <td>98</td>\n",
       "      <td>3163</td>\n",
       "      <td>3</td>\n",
       "      <td>428</td>\n",
       "      <td>48</td>\n",
       "      <td>32</td>\n",
       "      <td>19</td>\n",
       "      <td>31</td>\n",
       "      <td>63</td>\n",
       "      <td>367</td>\n",
       "      <td>3186</td>\n",
       "    </tr>\n",
       "    <tr>\n",
       "      <th>top</th>\n",
       "      <td>2016_202_VAT_OPAM_2_1_PS_AN</td>\n",
       "      <td>prem</td>\n",
       "      <td>A2</td>\n",
       "      <td>A</td>\n",
       "      <td>2</td>\n",
       "      <td></td>\n",
       "      <td>F</td>\n",
       "      <td>A2</td>\n",
       "      <td>A7</td>\n",
       "      <td>A8</td>\n",
       "      <td>A10</td>\n",
       "      <td>A1</td>\n",
       "      <td>Rule</td>\n",
       "      <td>2016_202_VAT_OPAM_2_1_PS_AN_A</td>\n",
       "      <td></td>\n",
       "    </tr>\n",
       "    <tr>\n",
       "      <th>freq</th>\n",
       "      <td>79</td>\n",
       "      <td>2910</td>\n",
       "      <td>221</td>\n",
       "      <td>2348</td>\n",
       "      <td>365</td>\n",
       "      <td>12</td>\n",
       "      <td>1572</td>\n",
       "      <td>54</td>\n",
       "      <td>6</td>\n",
       "      <td>8</td>\n",
       "      <td>3</td>\n",
       "      <td>29</td>\n",
       "      <td>349</td>\n",
       "      <td>79</td>\n",
       "      <td>12</td>\n",
       "    </tr>\n",
       "  </tbody>\n",
       "</table>\n",
       "</div>"
      ],
      "text/plain": [
       "                           Document  Name    Id Chain   Num  Text  Type   SUP  \\\n",
       "count                          3311  3311  3311  3311  3311  3311  2910  1088   \n",
       "unique                          225     2   264    10    98  3163     3   428   \n",
       "top     2016_202_VAT_OPAM_2_1_PS_AN  prem    A2     A     2           F    A2   \n",
       "freq                             79  2910   221  2348   365    12  1572    54   \n",
       "\n",
       "       SFF ATT  INH REPH Scheme                    FullChainID Previous  \n",
       "count   82  66   25   89   1314                           3311     3311  \n",
       "unique  48  32   19   31     63                            367     3186  \n",
       "top     A7  A8  A10   A1   Rule  2016_202_VAT_OPAM_2_1_PS_AN_A           \n",
       "freq     6   8    3   29    349                             79       12  "
      ]
     },
     "execution_count": 7,
     "metadata": {},
     "output_type": "execute_result"
    }
   ],
   "source": [
    "df.describe()"
   ]
  },
  {
   "cell_type": "code",
   "execution_count": 8,
   "id": "1a3add16",
   "metadata": {
    "execution": {
     "iopub.execute_input": "2025-09-02T17:07:34.004655Z",
     "iopub.status.busy": "2025-09-02T17:07:34.004428Z",
     "iopub.status.idle": "2025-09-02T17:07:34.018488Z",
     "shell.execute_reply": "2025-09-02T17:07:34.017780Z"
    },
    "id": "DKd2eUylk6GS",
    "outputId": "7593b109-4f2f-4ae0-f8c7-5796c7c2fb87",
    "papermill": {
     "duration": 0.038997,
     "end_time": "2025-09-02T17:07:34.020114",
     "exception": false,
     "start_time": "2025-09-02T17:07:33.981117",
     "status": "completed"
    },
    "tags": []
   },
   "outputs": [
    {
     "data": {
      "text/html": [
       "<div>\n",
       "<style scoped>\n",
       "    .dataframe tbody tr th:only-of-type {\n",
       "        vertical-align: middle;\n",
       "    }\n",
       "\n",
       "    .dataframe tbody tr th {\n",
       "        vertical-align: top;\n",
       "    }\n",
       "\n",
       "    .dataframe thead th {\n",
       "        text-align: right;\n",
       "    }\n",
       "</style>\n",
       "<table border=\"1\" class=\"dataframe\">\n",
       "  <thead>\n",
       "    <tr style=\"text-align: right;\">\n",
       "      <th></th>\n",
       "      <th>Document</th>\n",
       "      <th>Name</th>\n",
       "      <th>Id</th>\n",
       "      <th>Chain</th>\n",
       "      <th>Num</th>\n",
       "      <th>Text</th>\n",
       "      <th>Type</th>\n",
       "      <th>SUP</th>\n",
       "      <th>SFF</th>\n",
       "      <th>ATT</th>\n",
       "      <th>INH</th>\n",
       "      <th>REPH</th>\n",
       "      <th>Scheme</th>\n",
       "      <th>FullChainID</th>\n",
       "      <th>Previous</th>\n",
       "    </tr>\n",
       "  </thead>\n",
       "  <tbody>\n",
       "    <tr>\n",
       "      <th>0</th>\n",
       "      <td>2013_40_VAT_OPAM_2_REM_MB_PS_AN</td>\n",
       "      <td>prem</td>\n",
       "      <td>A1</td>\n",
       "      <td>A</td>\n",
       "      <td>1</td>\n",
       "      <td>In via preliminare, il Collegio prende in cons...</td>\n",
       "      <td>F</td>\n",
       "      <td>NaN</td>\n",
       "      <td>NaN</td>\n",
       "      <td>NaN</td>\n",
       "      <td>NaN</td>\n",
       "      <td>NaN</td>\n",
       "      <td>NaN</td>\n",
       "      <td>2013_40_VAT_OPAM_2_REM_MB_PS_AN_A</td>\n",
       "      <td>In via preliminare, il Collegio prende in con...</td>\n",
       "    </tr>\n",
       "    <tr>\n",
       "      <th>1</th>\n",
       "      <td>2013_40_VAT_OPAM_2_REM_MB_PS_AN</td>\n",
       "      <td>prem</td>\n",
       "      <td>A2</td>\n",
       "      <td>A</td>\n",
       "      <td>2</td>\n",
       "      <td>Ai sensi dell'art. 14 del d.lgs.546/92, se l'o...</td>\n",
       "      <td>L</td>\n",
       "      <td>NaN</td>\n",
       "      <td>NaN</td>\n",
       "      <td>NaN</td>\n",
       "      <td>NaN</td>\n",
       "      <td>NaN</td>\n",
       "      <td>Rule</td>\n",
       "      <td>2013_40_VAT_OPAM_2_REM_MB_PS_AN_A</td>\n",
       "      <td>Ai sensi dell'art. 14 del d.lgs.546/92, se l'...</td>\n",
       "    </tr>\n",
       "    <tr>\n",
       "      <th>2</th>\n",
       "      <td>2013_40_VAT_OPAM_2_REM_MB_PS_AN</td>\n",
       "      <td>prem</td>\n",
       "      <td>A3</td>\n",
       "      <td>A</td>\n",
       "      <td>3</td>\n",
       "      <td>Se il ricorso non è stato    proposto da o nei...</td>\n",
       "      <td>L</td>\n",
       "      <td>NaN</td>\n",
       "      <td>NaN</td>\n",
       "      <td>NaN</td>\n",
       "      <td>NaN</td>\n",
       "      <td>NaN</td>\n",
       "      <td>Itpr</td>\n",
       "      <td>2013_40_VAT_OPAM_2_REM_MB_PS_AN_A</td>\n",
       "      <td>Se il ricorso non è stato\\n    proposto da o ...</td>\n",
       "    </tr>\n",
       "    <tr>\n",
       "      <th>3</th>\n",
       "      <td>2013_40_VAT_OPAM_2_REM_MB_PS_AN</td>\n",
       "      <td>prem</td>\n",
       "      <td>A4</td>\n",
       "      <td>A</td>\n",
       "      <td>4</td>\n",
       "      <td>Nel caso di specie solo la ILDS ha presentato ...</td>\n",
       "      <td>F</td>\n",
       "      <td>NaN</td>\n",
       "      <td>NaN</td>\n",
       "      <td>NaN</td>\n",
       "      <td>NaN</td>\n",
       "      <td>NaN</td>\n",
       "      <td>NaN</td>\n",
       "      <td>2013_40_VAT_OPAM_2_REM_MB_PS_AN_A</td>\n",
       "      <td>Nel caso di specie solo la ILDS ha presentato...</td>\n",
       "    </tr>\n",
       "    <tr>\n",
       "      <th>4</th>\n",
       "      <td>2013_40_VAT_OPAM_2_REM_MB_PS_AN</td>\n",
       "      <td>prem</td>\n",
       "      <td>A5</td>\n",
       "      <td>A</td>\n",
       "      <td>5</td>\n",
       "      <td>come    espressamente richiesto nel ricorso in...</td>\n",
       "      <td>F</td>\n",
       "      <td>NaN</td>\n",
       "      <td>NaN</td>\n",
       "      <td>NaN</td>\n",
       "      <td>NaN</td>\n",
       "      <td>NaN</td>\n",
       "      <td>NaN</td>\n",
       "      <td>2013_40_VAT_OPAM_2_REM_MB_PS_AN_A</td>\n",
       "      <td>come\\n    espressamente richiesto nel ricorso...</td>\n",
       "    </tr>\n",
       "    <tr>\n",
       "      <th>5</th>\n",
       "      <td>2013_40_VAT_OPAM_2_REM_MB_PS_AN</td>\n",
       "      <td>conc</td>\n",
       "      <td>A6</td>\n",
       "      <td>A</td>\n",
       "      <td>6</td>\n",
       "      <td>Poiché ciò non è avvenuto, risulta applicabile...</td>\n",
       "      <td>NaN</td>\n",
       "      <td>[A1, A2, A3]</td>\n",
       "      <td>[A4, A5]</td>\n",
       "      <td>NaN</td>\n",
       "      <td>NaN</td>\n",
       "      <td>NaN</td>\n",
       "      <td>NaN</td>\n",
       "      <td>2013_40_VAT_OPAM_2_REM_MB_PS_AN_A</td>\n",
       "      <td>\\n     Poiché ciò non è avvenuto, risulta appl...</td>\n",
       "    </tr>\n",
       "    <tr>\n",
       "      <th>6</th>\n",
       "      <td>2018_847_VAT_OP_2_-1_MB_AF_AN</td>\n",
       "      <td>prem</td>\n",
       "      <td>A1</td>\n",
       "      <td>A</td>\n",
       "      <td>1</td>\n",
       "      <td>Secondo condivisa e costante giurisprudenza (C...</td>\n",
       "      <td>L</td>\n",
       "      <td>NaN</td>\n",
       "      <td>NaN</td>\n",
       "      <td>NaN</td>\n",
       "      <td>NaN</td>\n",
       "      <td>NaN</td>\n",
       "      <td>Rule</td>\n",
       "      <td>2018_847_VAT_OP_2_-1_MB_AF_AN_A</td>\n",
       "      <td>Secondo condivisa e costante giurisprudenza (C...</td>\n",
       "    </tr>\n",
       "    <tr>\n",
       "      <th>7</th>\n",
       "      <td>2018_847_VAT_OP_2_-1_MB_AF_AN</td>\n",
       "      <td>prem</td>\n",
       "      <td>A2</td>\n",
       "      <td>A</td>\n",
       "      <td>2</td>\n",
       "      <td>Tuttavia, nel caso qui in esame, la Comm/ne no...</td>\n",
       "      <td>L</td>\n",
       "      <td>[A3, A4]</td>\n",
       "      <td>NaN</td>\n",
       "      <td>NaN</td>\n",
       "      <td>NaN</td>\n",
       "      <td>NaN</td>\n",
       "      <td>Itpr</td>\n",
       "      <td>2018_847_VAT_OP_2_-1_MB_AF_AN_A</td>\n",
       "      <td>Tuttavia, nel caso qui in esame, la Comm/ne no...</td>\n",
       "    </tr>\n",
       "    <tr>\n",
       "      <th>8</th>\n",
       "      <td>2018_847_VAT_OP_2_-1_MB_AF_AN</td>\n",
       "      <td>prem</td>\n",
       "      <td>A3</td>\n",
       "      <td>A</td>\n",
       "      <td>3</td>\n",
       "      <td>A tal proposito si ricorda che la Corte cost. ...</td>\n",
       "      <td>L</td>\n",
       "      <td>NaN</td>\n",
       "      <td>NaN</td>\n",
       "      <td>NaN</td>\n",
       "      <td>NaN</td>\n",
       "      <td>NaN</td>\n",
       "      <td>Prec</td>\n",
       "      <td>2018_847_VAT_OP_2_-1_MB_AF_AN_A</td>\n",
       "      <td>A tal proposito si ricorda che la Corte cost. ...</td>\n",
       "    </tr>\n",
       "    <tr>\n",
       "      <th>9</th>\n",
       "      <td>2018_847_VAT_OP_2_-1_MB_AF_AN</td>\n",
       "      <td>prem</td>\n",
       "      <td>A4</td>\n",
       "      <td>A</td>\n",
       "      <td>4</td>\n",
       "      <td>Inoltre (Cass. 2.9.2013 n. 20064) “qualora la ...</td>\n",
       "      <td>L</td>\n",
       "      <td>NaN</td>\n",
       "      <td>NaN</td>\n",
       "      <td>NaN</td>\n",
       "      <td>NaN</td>\n",
       "      <td>NaN</td>\n",
       "      <td>Prec</td>\n",
       "      <td>2018_847_VAT_OP_2_-1_MB_AF_AN_A</td>\n",
       "      <td>Inoltre (Cass. 2.9.2013 n. 20064) “qualora la ...</td>\n",
       "    </tr>\n",
       "  </tbody>\n",
       "</table>\n",
       "</div>"
      ],
      "text/plain": [
       "                          Document  Name  Id Chain Num  \\\n",
       "0  2013_40_VAT_OPAM_2_REM_MB_PS_AN  prem  A1     A   1   \n",
       "1  2013_40_VAT_OPAM_2_REM_MB_PS_AN  prem  A2     A   2   \n",
       "2  2013_40_VAT_OPAM_2_REM_MB_PS_AN  prem  A3     A   3   \n",
       "3  2013_40_VAT_OPAM_2_REM_MB_PS_AN  prem  A4     A   4   \n",
       "4  2013_40_VAT_OPAM_2_REM_MB_PS_AN  prem  A5     A   5   \n",
       "5  2013_40_VAT_OPAM_2_REM_MB_PS_AN  conc  A6     A   6   \n",
       "6    2018_847_VAT_OP_2_-1_MB_AF_AN  prem  A1     A   1   \n",
       "7    2018_847_VAT_OP_2_-1_MB_AF_AN  prem  A2     A   2   \n",
       "8    2018_847_VAT_OP_2_-1_MB_AF_AN  prem  A3     A   3   \n",
       "9    2018_847_VAT_OP_2_-1_MB_AF_AN  prem  A4     A   4   \n",
       "\n",
       "                                                Text Type           SUP  \\\n",
       "0  In via preliminare, il Collegio prende in cons...    F           NaN   \n",
       "1  Ai sensi dell'art. 14 del d.lgs.546/92, se l'o...    L           NaN   \n",
       "2  Se il ricorso non è stato    proposto da o nei...    L           NaN   \n",
       "3  Nel caso di specie solo la ILDS ha presentato ...    F           NaN   \n",
       "4  come    espressamente richiesto nel ricorso in...    F           NaN   \n",
       "5  Poiché ciò non è avvenuto, risulta applicabile...  NaN  [A1, A2, A3]   \n",
       "6  Secondo condivisa e costante giurisprudenza (C...    L           NaN   \n",
       "7  Tuttavia, nel caso qui in esame, la Comm/ne no...    L      [A3, A4]   \n",
       "8  A tal proposito si ricorda che la Corte cost. ...    L           NaN   \n",
       "9  Inoltre (Cass. 2.9.2013 n. 20064) “qualora la ...    L           NaN   \n",
       "\n",
       "        SFF  ATT  INH REPH Scheme                        FullChainID  \\\n",
       "0       NaN  NaN  NaN  NaN    NaN  2013_40_VAT_OPAM_2_REM_MB_PS_AN_A   \n",
       "1       NaN  NaN  NaN  NaN   Rule  2013_40_VAT_OPAM_2_REM_MB_PS_AN_A   \n",
       "2       NaN  NaN  NaN  NaN   Itpr  2013_40_VAT_OPAM_2_REM_MB_PS_AN_A   \n",
       "3       NaN  NaN  NaN  NaN    NaN  2013_40_VAT_OPAM_2_REM_MB_PS_AN_A   \n",
       "4       NaN  NaN  NaN  NaN    NaN  2013_40_VAT_OPAM_2_REM_MB_PS_AN_A   \n",
       "5  [A4, A5]  NaN  NaN  NaN    NaN  2013_40_VAT_OPAM_2_REM_MB_PS_AN_A   \n",
       "6       NaN  NaN  NaN  NaN   Rule    2018_847_VAT_OP_2_-1_MB_AF_AN_A   \n",
       "7       NaN  NaN  NaN  NaN   Itpr    2018_847_VAT_OP_2_-1_MB_AF_AN_A   \n",
       "8       NaN  NaN  NaN  NaN   Prec    2018_847_VAT_OP_2_-1_MB_AF_AN_A   \n",
       "9       NaN  NaN  NaN  NaN   Prec    2018_847_VAT_OP_2_-1_MB_AF_AN_A   \n",
       "\n",
       "                                            Previous  \n",
       "0   In via preliminare, il Collegio prende in con...  \n",
       "1   Ai sensi dell'art. 14 del d.lgs.546/92, se l'...  \n",
       "2   Se il ricorso non è stato\\n    proposto da o ...  \n",
       "3   Nel caso di specie solo la ILDS ha presentato...  \n",
       "4   come\\n    espressamente richiesto nel ricorso...  \n",
       "5  \\n     Poiché ciò non è avvenuto, risulta appl...  \n",
       "6  Secondo condivisa e costante giurisprudenza (C...  \n",
       "7  Tuttavia, nel caso qui in esame, la Comm/ne no...  \n",
       "8  A tal proposito si ricorda che la Corte cost. ...  \n",
       "9  Inoltre (Cass. 2.9.2013 n. 20064) “qualora la ...  "
      ]
     },
     "execution_count": 8,
     "metadata": {},
     "output_type": "execute_result"
    }
   ],
   "source": [
    "df.head(10)"
   ]
  },
  {
   "cell_type": "markdown",
   "id": "a1f76f00",
   "metadata": {
    "id": "Az9loU0Jl9si",
    "papermill": {
     "duration": 0.023251,
     "end_time": "2025-09-02T17:07:34.067073",
     "exception": false,
     "start_time": "2025-09-02T17:07:34.043822",
     "status": "completed"
    },
    "tags": []
   },
   "source": [
    "Example of row with multiple attribute values:"
   ]
  },
  {
   "cell_type": "code",
   "execution_count": 9,
   "id": "3b8d5bdb",
   "metadata": {
    "execution": {
     "iopub.execute_input": "2025-09-02T17:07:34.115238Z",
     "iopub.status.busy": "2025-09-02T17:07:34.114770Z",
     "iopub.status.idle": "2025-09-02T17:07:34.130859Z",
     "shell.execute_reply": "2025-09-02T17:07:34.130102Z"
    },
    "id": "DGvelrCgl9sj",
    "outputId": "557a4755-ec84-41cb-f89b-48ed8e70c5d6",
    "papermill": {
     "duration": 0.041855,
     "end_time": "2025-09-02T17:07:34.132449",
     "exception": false,
     "start_time": "2025-09-02T17:07:34.090594",
     "status": "completed"
    },
    "tags": []
   },
   "outputs": [
    {
     "data": {
      "text/html": [
       "<div>\n",
       "<style scoped>\n",
       "    .dataframe tbody tr th:only-of-type {\n",
       "        vertical-align: middle;\n",
       "    }\n",
       "\n",
       "    .dataframe tbody tr th {\n",
       "        vertical-align: top;\n",
       "    }\n",
       "\n",
       "    .dataframe thead th {\n",
       "        text-align: right;\n",
       "    }\n",
       "</style>\n",
       "<table border=\"1\" class=\"dataframe\">\n",
       "  <thead>\n",
       "    <tr style=\"text-align: right;\">\n",
       "      <th></th>\n",
       "      <th>Document</th>\n",
       "      <th>Name</th>\n",
       "      <th>Id</th>\n",
       "      <th>Chain</th>\n",
       "      <th>Num</th>\n",
       "      <th>Text</th>\n",
       "      <th>Type</th>\n",
       "      <th>SUP</th>\n",
       "      <th>SFF</th>\n",
       "      <th>ATT</th>\n",
       "      <th>INH</th>\n",
       "      <th>REPH</th>\n",
       "      <th>Scheme</th>\n",
       "      <th>FullChainID</th>\n",
       "      <th>Previous</th>\n",
       "    </tr>\n",
       "  </thead>\n",
       "  <tbody>\n",
       "    <tr>\n",
       "      <th>3213</th>\n",
       "      <td>2021_2717_VAT_OPAM_2_1_FG_PS_AN</td>\n",
       "      <td>conc</td>\n",
       "      <td>A1</td>\n",
       "      <td>A</td>\n",
       "      <td>1</td>\n",
       "      <td>Passando all'esame del motivo di appello con c...</td>\n",
       "      <td>NaN</td>\n",
       "      <td>A13</td>\n",
       "      <td>NaN</td>\n",
       "      <td>NaN</td>\n",
       "      <td>NaN</td>\n",
       "      <td>NaN</td>\n",
       "      <td>NaN</td>\n",
       "      <td>2021_2717_VAT_OPAM_2_1_FG_PS_AN_A</td>\n",
       "      <td>Passando all'esame del motivo di appello con c...</td>\n",
       "    </tr>\n",
       "    <tr>\n",
       "      <th>3214</th>\n",
       "      <td>2021_2717_VAT_OPAM_2_1_FG_PS_AN</td>\n",
       "      <td>prem</td>\n",
       "      <td>A2</td>\n",
       "      <td>A</td>\n",
       "      <td>2</td>\n",
       "      <td>Sul punto, come è noto, giova ricordare che la...</td>\n",
       "      <td>L</td>\n",
       "      <td>NaN</td>\n",
       "      <td>NaN</td>\n",
       "      <td>NaN</td>\n",
       "      <td>NaN</td>\n",
       "      <td>NaN</td>\n",
       "      <td>Princ</td>\n",
       "      <td>2021_2717_VAT_OPAM_2_1_FG_PS_AN_A</td>\n",
       "      <td>Sul punto, come è noto, giova ricordare che la...</td>\n",
       "    </tr>\n",
       "    <tr>\n",
       "      <th>3215</th>\n",
       "      <td>2021_2717_VAT_OPAM_2_1_FG_PS_AN</td>\n",
       "      <td>prem</td>\n",
       "      <td>A3</td>\n",
       "      <td>A</td>\n",
       "      <td>3</td>\n",
       "      <td>Con riguardo al primo profilo, dall'esame degl...</td>\n",
       "      <td>[F, L]</td>\n",
       "      <td>NaN</td>\n",
       "      <td>NaN</td>\n",
       "      <td>NaN</td>\n",
       "      <td>NaN</td>\n",
       "      <td>NaN</td>\n",
       "      <td>Rule</td>\n",
       "      <td>2021_2717_VAT_OPAM_2_1_FG_PS_AN_A</td>\n",
       "      <td>Con riguardo al primo profilo, dall'esame degl...</td>\n",
       "    </tr>\n",
       "    <tr>\n",
       "      <th>3216</th>\n",
       "      <td>2021_2717_VAT_OPAM_2_1_FG_PS_AN</td>\n",
       "      <td>prem</td>\n",
       "      <td>A4</td>\n",
       "      <td>A</td>\n",
       "      <td>4</td>\n",
       "      <td>Per quanto riguarda il secondo profilo (come r...</td>\n",
       "      <td>F</td>\n",
       "      <td>[A5, A6]</td>\n",
       "      <td>NaN</td>\n",
       "      <td>NaN</td>\n",
       "      <td>NaN</td>\n",
       "      <td>NaN</td>\n",
       "      <td>NaN</td>\n",
       "      <td>2021_2717_VAT_OPAM_2_1_FG_PS_AN_A</td>\n",
       "      <td>Per quanto riguarda il secondo profilo (come r...</td>\n",
       "    </tr>\n",
       "    <tr>\n",
       "      <th>3217</th>\n",
       "      <td>2021_2717_VAT_OPAM_2_1_FG_PS_AN</td>\n",
       "      <td>prem</td>\n",
       "      <td>A5</td>\n",
       "      <td>A</td>\n",
       "      <td>5</td>\n",
       "      <td>Infatti, secondo la corretta interpretazione d...</td>\n",
       "      <td>L</td>\n",
       "      <td>NaN</td>\n",
       "      <td>NaN</td>\n",
       "      <td>NaN</td>\n",
       "      <td>NaN</td>\n",
       "      <td>NaN</td>\n",
       "      <td>Rule</td>\n",
       "      <td>2021_2717_VAT_OPAM_2_1_FG_PS_AN_A</td>\n",
       "      <td>Infatti, secondo la corretta interpretazione d...</td>\n",
       "    </tr>\n",
       "    <tr>\n",
       "      <th>3218</th>\n",
       "      <td>2021_2717_VAT_OPAM_2_1_FG_PS_AN</td>\n",
       "      <td>prem</td>\n",
       "      <td>A6</td>\n",
       "      <td>A</td>\n",
       "      <td>6</td>\n",
       "      <td>Ed ancora, le suddette disposizioni vanno inte...</td>\n",
       "      <td>L</td>\n",
       "      <td>NaN</td>\n",
       "      <td>NaN</td>\n",
       "      <td>NaN</td>\n",
       "      <td>NaN</td>\n",
       "      <td>NaN</td>\n",
       "      <td>Prec</td>\n",
       "      <td>2021_2717_VAT_OPAM_2_1_FG_PS_AN_A</td>\n",
       "      <td>Ed ancora, le suddette disposizioni vanno inte...</td>\n",
       "    </tr>\n",
       "    <tr>\n",
       "      <th>3219</th>\n",
       "      <td>2021_2717_VAT_OPAM_2_1_FG_PS_AN</td>\n",
       "      <td>prem</td>\n",
       "      <td>A7</td>\n",
       "      <td>A</td>\n",
       "      <td>7</td>\n",
       "      <td>Pertanto, tutti i motivi di appello dell'Uffic...</td>\n",
       "      <td>F</td>\n",
       "      <td>[A2, A3, A4]</td>\n",
       "      <td>NaN</td>\n",
       "      <td>NaN</td>\n",
       "      <td>NaN</td>\n",
       "      <td>NaN</td>\n",
       "      <td>NaN</td>\n",
       "      <td>2021_2717_VAT_OPAM_2_1_FG_PS_AN_A</td>\n",
       "      <td>Pertanto, tutti i motivi di appello dell'Uffic...</td>\n",
       "    </tr>\n",
       "    <tr>\n",
       "      <th>3220</th>\n",
       "      <td>2021_2717_VAT_OPAM_2_1_FG_PS_AN</td>\n",
       "      <td>prem</td>\n",
       "      <td>A8</td>\n",
       "      <td>A</td>\n",
       "      <td>8</td>\n",
       "      <td>Inoltre, nel caso specifico va sottolineato il...</td>\n",
       "      <td>F</td>\n",
       "      <td>NaN</td>\n",
       "      <td>NaN</td>\n",
       "      <td>NaN</td>\n",
       "      <td>NaN</td>\n",
       "      <td>NaN</td>\n",
       "      <td>NaN</td>\n",
       "      <td>2021_2717_VAT_OPAM_2_1_FG_PS_AN_A</td>\n",
       "      <td>Inoltre, nel caso specifico va sottolineato il...</td>\n",
       "    </tr>\n",
       "    <tr>\n",
       "      <th>3221</th>\n",
       "      <td>2021_2717_VAT_OPAM_2_1_FG_PS_AN</td>\n",
       "      <td>prem</td>\n",
       "      <td>A9</td>\n",
       "      <td>A</td>\n",
       "      <td>9</td>\n",
       "      <td>Per quanto riguarda gli ulteriori motivi con i...</td>\n",
       "      <td>F</td>\n",
       "      <td>NaN</td>\n",
       "      <td>NaN</td>\n",
       "      <td>NaN</td>\n",
       "      <td>NaN</td>\n",
       "      <td>NaN</td>\n",
       "      <td>NaN</td>\n",
       "      <td>2021_2717_VAT_OPAM_2_1_FG_PS_AN_A</td>\n",
       "      <td>Per quanto riguarda gli ulteriori motivi con i...</td>\n",
       "    </tr>\n",
       "    <tr>\n",
       "      <th>3222</th>\n",
       "      <td>2021_2717_VAT_OPAM_2_1_FG_PS_AN</td>\n",
       "      <td>prem</td>\n",
       "      <td>A10</td>\n",
       "      <td>A</td>\n",
       "      <td>10</td>\n",
       "      <td>In proposito giova ricordare che l’inesistenza...</td>\n",
       "      <td>[F, L]</td>\n",
       "      <td>NaN</td>\n",
       "      <td>NaN</td>\n",
       "      <td>NaN</td>\n",
       "      <td>NaN</td>\n",
       "      <td>NaN</td>\n",
       "      <td>[Prec, Rule]</td>\n",
       "      <td>2021_2717_VAT_OPAM_2_1_FG_PS_AN_A</td>\n",
       "      <td>In proposito giova ricordare che l’inesistenza...</td>\n",
       "    </tr>\n",
       "    <tr>\n",
       "      <th>3223</th>\n",
       "      <td>2021_2717_VAT_OPAM_2_1_FG_PS_AN</td>\n",
       "      <td>prem</td>\n",
       "      <td>A11</td>\n",
       "      <td>A</td>\n",
       "      <td>11</td>\n",
       "      <td>Più chiaramente la detrazione dell'IVA è indeb...</td>\n",
       "      <td>[F, L]</td>\n",
       "      <td>NaN</td>\n",
       "      <td>NaN</td>\n",
       "      <td>NaN</td>\n",
       "      <td>NaN</td>\n",
       "      <td>NaN</td>\n",
       "      <td>Rule</td>\n",
       "      <td>2021_2717_VAT_OPAM_2_1_FG_PS_AN_A</td>\n",
       "      <td>Più chiaramente la detrazione dell'IVA è indeb...</td>\n",
       "    </tr>\n",
       "    <tr>\n",
       "      <th>3224</th>\n",
       "      <td>2021_2717_VAT_OPAM_2_1_FG_PS_AN</td>\n",
       "      <td>prem</td>\n",
       "      <td>A12</td>\n",
       "      <td>A</td>\n",
       "      <td>12</td>\n",
       "      <td>Sul punto è di conforto la pronuncia della Cor...</td>\n",
       "      <td>L</td>\n",
       "      <td>NaN</td>\n",
       "      <td>NaN</td>\n",
       "      <td>NaN</td>\n",
       "      <td>NaN</td>\n",
       "      <td>NaN</td>\n",
       "      <td>Prec</td>\n",
       "      <td>2021_2717_VAT_OPAM_2_1_FG_PS_AN_A</td>\n",
       "      <td>Sul punto è di conforto la pronuncia della Cor...</td>\n",
       "    </tr>\n",
       "    <tr>\n",
       "      <th>3225</th>\n",
       "      <td>2021_2717_VAT_OPAM_2_1_FG_PS_AN</td>\n",
       "      <td>prem</td>\n",
       "      <td>A13</td>\n",
       "      <td>A</td>\n",
       "      <td>13</td>\n",
       "      <td>In conclusione poichè sono risultati legittimi...</td>\n",
       "      <td>F</td>\n",
       "      <td>[A10, A11, A12, A13, A7, A8, A9]</td>\n",
       "      <td>NaN</td>\n",
       "      <td>NaN</td>\n",
       "      <td>NaN</td>\n",
       "      <td>NaN</td>\n",
       "      <td>NaN</td>\n",
       "      <td>2021_2717_VAT_OPAM_2_1_FG_PS_AN_A</td>\n",
       "      <td>In conclusione poichè sono risultati legittimi...</td>\n",
       "    </tr>\n",
       "  </tbody>\n",
       "</table>\n",
       "</div>"
      ],
      "text/plain": [
       "                             Document  Name   Id Chain Num  \\\n",
       "3213  2021_2717_VAT_OPAM_2_1_FG_PS_AN  conc   A1     A   1   \n",
       "3214  2021_2717_VAT_OPAM_2_1_FG_PS_AN  prem   A2     A   2   \n",
       "3215  2021_2717_VAT_OPAM_2_1_FG_PS_AN  prem   A3     A   3   \n",
       "3216  2021_2717_VAT_OPAM_2_1_FG_PS_AN  prem   A4     A   4   \n",
       "3217  2021_2717_VAT_OPAM_2_1_FG_PS_AN  prem   A5     A   5   \n",
       "3218  2021_2717_VAT_OPAM_2_1_FG_PS_AN  prem   A6     A   6   \n",
       "3219  2021_2717_VAT_OPAM_2_1_FG_PS_AN  prem   A7     A   7   \n",
       "3220  2021_2717_VAT_OPAM_2_1_FG_PS_AN  prem   A8     A   8   \n",
       "3221  2021_2717_VAT_OPAM_2_1_FG_PS_AN  prem   A9     A   9   \n",
       "3222  2021_2717_VAT_OPAM_2_1_FG_PS_AN  prem  A10     A  10   \n",
       "3223  2021_2717_VAT_OPAM_2_1_FG_PS_AN  prem  A11     A  11   \n",
       "3224  2021_2717_VAT_OPAM_2_1_FG_PS_AN  prem  A12     A  12   \n",
       "3225  2021_2717_VAT_OPAM_2_1_FG_PS_AN  prem  A13     A  13   \n",
       "\n",
       "                                                   Text    Type  \\\n",
       "3213  Passando all'esame del motivo di appello con c...     NaN   \n",
       "3214  Sul punto, come è noto, giova ricordare che la...       L   \n",
       "3215  Con riguardo al primo profilo, dall'esame degl...  [F, L]   \n",
       "3216  Per quanto riguarda il secondo profilo (come r...       F   \n",
       "3217  Infatti, secondo la corretta interpretazione d...       L   \n",
       "3218  Ed ancora, le suddette disposizioni vanno inte...       L   \n",
       "3219  Pertanto, tutti i motivi di appello dell'Uffic...       F   \n",
       "3220  Inoltre, nel caso specifico va sottolineato il...       F   \n",
       "3221  Per quanto riguarda gli ulteriori motivi con i...       F   \n",
       "3222  In proposito giova ricordare che l’inesistenza...  [F, L]   \n",
       "3223  Più chiaramente la detrazione dell'IVA è indeb...  [F, L]   \n",
       "3224  Sul punto è di conforto la pronuncia della Cor...       L   \n",
       "3225  In conclusione poichè sono risultati legittimi...       F   \n",
       "\n",
       "                                   SUP  SFF  ATT  INH REPH        Scheme  \\\n",
       "3213                               A13  NaN  NaN  NaN  NaN           NaN   \n",
       "3214                               NaN  NaN  NaN  NaN  NaN         Princ   \n",
       "3215                               NaN  NaN  NaN  NaN  NaN          Rule   \n",
       "3216                          [A5, A6]  NaN  NaN  NaN  NaN           NaN   \n",
       "3217                               NaN  NaN  NaN  NaN  NaN          Rule   \n",
       "3218                               NaN  NaN  NaN  NaN  NaN          Prec   \n",
       "3219                      [A2, A3, A4]  NaN  NaN  NaN  NaN           NaN   \n",
       "3220                               NaN  NaN  NaN  NaN  NaN           NaN   \n",
       "3221                               NaN  NaN  NaN  NaN  NaN           NaN   \n",
       "3222                               NaN  NaN  NaN  NaN  NaN  [Prec, Rule]   \n",
       "3223                               NaN  NaN  NaN  NaN  NaN          Rule   \n",
       "3224                               NaN  NaN  NaN  NaN  NaN          Prec   \n",
       "3225  [A10, A11, A12, A13, A7, A8, A9]  NaN  NaN  NaN  NaN           NaN   \n",
       "\n",
       "                            FullChainID  \\\n",
       "3213  2021_2717_VAT_OPAM_2_1_FG_PS_AN_A   \n",
       "3214  2021_2717_VAT_OPAM_2_1_FG_PS_AN_A   \n",
       "3215  2021_2717_VAT_OPAM_2_1_FG_PS_AN_A   \n",
       "3216  2021_2717_VAT_OPAM_2_1_FG_PS_AN_A   \n",
       "3217  2021_2717_VAT_OPAM_2_1_FG_PS_AN_A   \n",
       "3218  2021_2717_VAT_OPAM_2_1_FG_PS_AN_A   \n",
       "3219  2021_2717_VAT_OPAM_2_1_FG_PS_AN_A   \n",
       "3220  2021_2717_VAT_OPAM_2_1_FG_PS_AN_A   \n",
       "3221  2021_2717_VAT_OPAM_2_1_FG_PS_AN_A   \n",
       "3222  2021_2717_VAT_OPAM_2_1_FG_PS_AN_A   \n",
       "3223  2021_2717_VAT_OPAM_2_1_FG_PS_AN_A   \n",
       "3224  2021_2717_VAT_OPAM_2_1_FG_PS_AN_A   \n",
       "3225  2021_2717_VAT_OPAM_2_1_FG_PS_AN_A   \n",
       "\n",
       "                                               Previous  \n",
       "3213  Passando all'esame del motivo di appello con c...  \n",
       "3214  Sul punto, come è noto, giova ricordare che la...  \n",
       "3215  Con riguardo al primo profilo, dall'esame degl...  \n",
       "3216  Per quanto riguarda il secondo profilo (come r...  \n",
       "3217  Infatti, secondo la corretta interpretazione d...  \n",
       "3218  Ed ancora, le suddette disposizioni vanno inte...  \n",
       "3219  Pertanto, tutti i motivi di appello dell'Uffic...  \n",
       "3220  Inoltre, nel caso specifico va sottolineato il...  \n",
       "3221  Per quanto riguarda gli ulteriori motivi con i...  \n",
       "3222  In proposito giova ricordare che l’inesistenza...  \n",
       "3223  Più chiaramente la detrazione dell'IVA è indeb...  \n",
       "3224  Sul punto è di conforto la pronuncia della Cor...  \n",
       "3225  In conclusione poichè sono risultati legittimi...  "
      ]
     },
     "execution_count": 9,
     "metadata": {},
     "output_type": "execute_result"
    }
   ],
   "source": [
    "df[df[\"FullChainID\"] == \"2021_2717_VAT_OPAM_2_1_FG_PS_AN_A\"]"
   ]
  },
  {
   "cell_type": "code",
   "execution_count": 10,
   "id": "ee02d4b4",
   "metadata": {
    "execution": {
     "iopub.execute_input": "2025-09-02T17:07:34.182438Z",
     "iopub.status.busy": "2025-09-02T17:07:34.182006Z",
     "iopub.status.idle": "2025-09-02T17:07:34.187886Z",
     "shell.execute_reply": "2025-09-02T17:07:34.187255Z"
    },
    "papermill": {
     "duration": 0.032559,
     "end_time": "2025-09-02T17:07:34.189475",
     "exception": false,
     "start_time": "2025-09-02T17:07:34.156916",
     "status": "completed"
    },
    "tags": []
   },
   "outputs": [
    {
     "data": {
      "text/plain": [
       "Index([227, 480, 484, 493, 544, 624, 649, 1653, 1700, 1747, 1749, 1786], dtype='int64')"
      ]
     },
     "execution_count": 10,
     "metadata": {},
     "output_type": "execute_result"
    }
   ],
   "source": [
    "drop_ind=df[df['Text']==''].index\n",
    "len(drop_ind)\n",
    "drop_ind"
   ]
  },
  {
   "cell_type": "code",
   "execution_count": 11,
   "id": "50faf2b5",
   "metadata": {
    "execution": {
     "iopub.execute_input": "2025-09-02T17:07:34.237473Z",
     "iopub.status.busy": "2025-09-02T17:07:34.237130Z",
     "iopub.status.idle": "2025-09-02T17:07:34.243088Z",
     "shell.execute_reply": "2025-09-02T17:07:34.242445Z"
    },
    "papermill": {
     "duration": 0.032003,
     "end_time": "2025-09-02T17:07:34.244776",
     "exception": false,
     "start_time": "2025-09-02T17:07:34.212773",
     "status": "completed"
    },
    "tags": []
   },
   "outputs": [],
   "source": [
    "#remove from dataset rows with no text feature\n",
    "df.drop(drop_ind,inplace=True)"
   ]
  },
  {
   "cell_type": "code",
   "execution_count": 12,
   "id": "de3ccbf5",
   "metadata": {
    "execution": {
     "iopub.execute_input": "2025-09-02T17:07:34.292085Z",
     "iopub.status.busy": "2025-09-02T17:07:34.291797Z",
     "iopub.status.idle": "2025-09-02T17:07:34.305259Z",
     "shell.execute_reply": "2025-09-02T17:07:34.304596Z"
    },
    "papermill": {
     "duration": 0.038942,
     "end_time": "2025-09-02T17:07:34.306802",
     "exception": false,
     "start_time": "2025-09-02T17:07:34.267860",
     "status": "completed"
    },
    "tags": []
   },
   "outputs": [
    {
     "data": {
      "text/html": [
       "<div>\n",
       "<style scoped>\n",
       "    .dataframe tbody tr th:only-of-type {\n",
       "        vertical-align: middle;\n",
       "    }\n",
       "\n",
       "    .dataframe tbody tr th {\n",
       "        vertical-align: top;\n",
       "    }\n",
       "\n",
       "    .dataframe thead th {\n",
       "        text-align: right;\n",
       "    }\n",
       "</style>\n",
       "<table border=\"1\" class=\"dataframe\">\n",
       "  <thead>\n",
       "    <tr style=\"text-align: right;\">\n",
       "      <th></th>\n",
       "      <th>Document</th>\n",
       "      <th>Name</th>\n",
       "      <th>Id</th>\n",
       "      <th>Chain</th>\n",
       "      <th>Num</th>\n",
       "      <th>Text</th>\n",
       "      <th>Type</th>\n",
       "      <th>SUP</th>\n",
       "      <th>SFF</th>\n",
       "      <th>ATT</th>\n",
       "      <th>INH</th>\n",
       "      <th>REPH</th>\n",
       "      <th>Scheme</th>\n",
       "      <th>FullChainID</th>\n",
       "      <th>Previous</th>\n",
       "    </tr>\n",
       "  </thead>\n",
       "  <tbody>\n",
       "    <tr>\n",
       "      <th>0</th>\n",
       "      <td>2013_40_VAT_OPAM_2_REM_MB_PS_AN</td>\n",
       "      <td>prem</td>\n",
       "      <td>A1</td>\n",
       "      <td>A</td>\n",
       "      <td>1</td>\n",
       "      <td>In via preliminare, il Collegio prende in cons...</td>\n",
       "      <td>F</td>\n",
       "      <td>NaN</td>\n",
       "      <td>NaN</td>\n",
       "      <td>NaN</td>\n",
       "      <td>NaN</td>\n",
       "      <td>NaN</td>\n",
       "      <td>NaN</td>\n",
       "      <td>2013_40_VAT_OPAM_2_REM_MB_PS_AN_A</td>\n",
       "      <td>In via preliminare, il Collegio prende in con...</td>\n",
       "    </tr>\n",
       "    <tr>\n",
       "      <th>1</th>\n",
       "      <td>2013_40_VAT_OPAM_2_REM_MB_PS_AN</td>\n",
       "      <td>prem</td>\n",
       "      <td>A2</td>\n",
       "      <td>A</td>\n",
       "      <td>2</td>\n",
       "      <td>Ai sensi dell'art. 14 del d.lgs.546/92, se l'o...</td>\n",
       "      <td>L</td>\n",
       "      <td>NaN</td>\n",
       "      <td>NaN</td>\n",
       "      <td>NaN</td>\n",
       "      <td>NaN</td>\n",
       "      <td>NaN</td>\n",
       "      <td>Rule</td>\n",
       "      <td>2013_40_VAT_OPAM_2_REM_MB_PS_AN_A</td>\n",
       "      <td>Ai sensi dell'art. 14 del d.lgs.546/92, se l'...</td>\n",
       "    </tr>\n",
       "    <tr>\n",
       "      <th>2</th>\n",
       "      <td>2013_40_VAT_OPAM_2_REM_MB_PS_AN</td>\n",
       "      <td>prem</td>\n",
       "      <td>A3</td>\n",
       "      <td>A</td>\n",
       "      <td>3</td>\n",
       "      <td>Se il ricorso non è stato    proposto da o nei...</td>\n",
       "      <td>L</td>\n",
       "      <td>NaN</td>\n",
       "      <td>NaN</td>\n",
       "      <td>NaN</td>\n",
       "      <td>NaN</td>\n",
       "      <td>NaN</td>\n",
       "      <td>Itpr</td>\n",
       "      <td>2013_40_VAT_OPAM_2_REM_MB_PS_AN_A</td>\n",
       "      <td>Se il ricorso non è stato\\n    proposto da o ...</td>\n",
       "    </tr>\n",
       "    <tr>\n",
       "      <th>3</th>\n",
       "      <td>2013_40_VAT_OPAM_2_REM_MB_PS_AN</td>\n",
       "      <td>prem</td>\n",
       "      <td>A4</td>\n",
       "      <td>A</td>\n",
       "      <td>4</td>\n",
       "      <td>Nel caso di specie solo la ILDS ha presentato ...</td>\n",
       "      <td>F</td>\n",
       "      <td>NaN</td>\n",
       "      <td>NaN</td>\n",
       "      <td>NaN</td>\n",
       "      <td>NaN</td>\n",
       "      <td>NaN</td>\n",
       "      <td>NaN</td>\n",
       "      <td>2013_40_VAT_OPAM_2_REM_MB_PS_AN_A</td>\n",
       "      <td>Nel caso di specie solo la ILDS ha presentato...</td>\n",
       "    </tr>\n",
       "    <tr>\n",
       "      <th>4</th>\n",
       "      <td>2013_40_VAT_OPAM_2_REM_MB_PS_AN</td>\n",
       "      <td>prem</td>\n",
       "      <td>A5</td>\n",
       "      <td>A</td>\n",
       "      <td>5</td>\n",
       "      <td>come    espressamente richiesto nel ricorso in...</td>\n",
       "      <td>F</td>\n",
       "      <td>NaN</td>\n",
       "      <td>NaN</td>\n",
       "      <td>NaN</td>\n",
       "      <td>NaN</td>\n",
       "      <td>NaN</td>\n",
       "      <td>NaN</td>\n",
       "      <td>2013_40_VAT_OPAM_2_REM_MB_PS_AN_A</td>\n",
       "      <td>come\\n    espressamente richiesto nel ricorso...</td>\n",
       "    </tr>\n",
       "    <tr>\n",
       "      <th>...</th>\n",
       "      <td>...</td>\n",
       "      <td>...</td>\n",
       "      <td>...</td>\n",
       "      <td>...</td>\n",
       "      <td>...</td>\n",
       "      <td>...</td>\n",
       "      <td>...</td>\n",
       "      <td>...</td>\n",
       "      <td>...</td>\n",
       "      <td>...</td>\n",
       "      <td>...</td>\n",
       "      <td>...</td>\n",
       "      <td>...</td>\n",
       "      <td>...</td>\n",
       "      <td>...</td>\n",
       "    </tr>\n",
       "    <tr>\n",
       "      <th>3306</th>\n",
       "      <td>2021_6075_VAT_OPAM_2_1_PS_AN</td>\n",
       "      <td>prem</td>\n",
       "      <td>C15</td>\n",
       "      <td>C</td>\n",
       "      <td>15</td>\n",
       "      <td>Sotto questo profilo i Compro Oro sono sottopo...</td>\n",
       "      <td>L</td>\n",
       "      <td>NaN</td>\n",
       "      <td>NaN</td>\n",
       "      <td>NaN</td>\n",
       "      <td>NaN</td>\n",
       "      <td>NaN</td>\n",
       "      <td>Rule</td>\n",
       "      <td>2021_6075_VAT_OPAM_2_1_PS_AN_C</td>\n",
       "      <td>Sotto questo profilo i Compro Oro sono sottopo...</td>\n",
       "    </tr>\n",
       "    <tr>\n",
       "      <th>3307</th>\n",
       "      <td>2021_6075_VAT_OPAM_2_1_PS_AN</td>\n",
       "      <td>prem</td>\n",
       "      <td>C16</td>\n",
       "      <td>C</td>\n",
       "      <td>16</td>\n",
       "      <td>Tale comunicazione ha luogo quando i destinata...</td>\n",
       "      <td>L</td>\n",
       "      <td>NaN</td>\n",
       "      <td>NaN</td>\n",
       "      <td>NaN</td>\n",
       "      <td>NaN</td>\n",
       "      <td>NaN</td>\n",
       "      <td>Rule</td>\n",
       "      <td>2021_6075_VAT_OPAM_2_1_PS_AN_C</td>\n",
       "      <td>Tale comunicazione ha luogo quando i destinata...</td>\n",
       "    </tr>\n",
       "    <tr>\n",
       "      <th>3308</th>\n",
       "      <td>2021_6075_VAT_OPAM_2_1_PS_AN</td>\n",
       "      <td>prem</td>\n",
       "      <td>C17</td>\n",
       "      <td>C</td>\n",
       "      <td>17</td>\n",
       "      <td>Il Ministro dell'interno, con decreto del 17 f...</td>\n",
       "      <td>L</td>\n",
       "      <td>NaN</td>\n",
       "      <td>NaN</td>\n",
       "      <td>NaN</td>\n",
       "      <td>NaN</td>\n",
       "      <td>NaN</td>\n",
       "      <td>Rule</td>\n",
       "      <td>2021_6075_VAT_OPAM_2_1_PS_AN_C</td>\n",
       "      <td>Il Ministro dell'interno, con decreto del 17 f...</td>\n",
       "    </tr>\n",
       "    <tr>\n",
       "      <th>3309</th>\n",
       "      <td>2021_6075_VAT_OPAM_2_1_PS_AN</td>\n",
       "      <td>prem</td>\n",
       "      <td>C18</td>\n",
       "      <td>C</td>\n",
       "      <td>18</td>\n",
       "      <td>Tra i soggetti destinatari del decreto sono ri...</td>\n",
       "      <td>L</td>\n",
       "      <td>NaN</td>\n",
       "      <td>NaN</td>\n",
       "      <td>NaN</td>\n",
       "      <td>NaN</td>\n",
       "      <td>NaN</td>\n",
       "      <td>[Class, Rule]</td>\n",
       "      <td>2021_6075_VAT_OPAM_2_1_PS_AN_C</td>\n",
       "      <td>Tra i soggetti destinatari del decreto sono ri...</td>\n",
       "    </tr>\n",
       "    <tr>\n",
       "      <th>3310</th>\n",
       "      <td>2021_6075_VAT_OPAM_2_1_PS_AN</td>\n",
       "      <td>prem</td>\n",
       "      <td>C19</td>\n",
       "      <td>C</td>\n",
       "      <td>19</td>\n",
       "      <td>In conclusione, per quanto fin qui esposto, i ...</td>\n",
       "      <td>L</td>\n",
       "      <td></td>\n",
       "      <td>NaN</td>\n",
       "      <td>NaN</td>\n",
       "      <td>NaN</td>\n",
       "      <td>NaN</td>\n",
       "      <td>Class</td>\n",
       "      <td>2021_6075_VAT_OPAM_2_1_PS_AN_C</td>\n",
       "      <td>In conclusione, per quanto fin qui esposto, i ...</td>\n",
       "    </tr>\n",
       "  </tbody>\n",
       "</table>\n",
       "<p>3299 rows × 15 columns</p>\n",
       "</div>"
      ],
      "text/plain": [
       "                             Document  Name   Id Chain Num  \\\n",
       "0     2013_40_VAT_OPAM_2_REM_MB_PS_AN  prem   A1     A   1   \n",
       "1     2013_40_VAT_OPAM_2_REM_MB_PS_AN  prem   A2     A   2   \n",
       "2     2013_40_VAT_OPAM_2_REM_MB_PS_AN  prem   A3     A   3   \n",
       "3     2013_40_VAT_OPAM_2_REM_MB_PS_AN  prem   A4     A   4   \n",
       "4     2013_40_VAT_OPAM_2_REM_MB_PS_AN  prem   A5     A   5   \n",
       "...                               ...   ...  ...   ...  ..   \n",
       "3306     2021_6075_VAT_OPAM_2_1_PS_AN  prem  C15     C  15   \n",
       "3307     2021_6075_VAT_OPAM_2_1_PS_AN  prem  C16     C  16   \n",
       "3308     2021_6075_VAT_OPAM_2_1_PS_AN  prem  C17     C  17   \n",
       "3309     2021_6075_VAT_OPAM_2_1_PS_AN  prem  C18     C  18   \n",
       "3310     2021_6075_VAT_OPAM_2_1_PS_AN  prem  C19     C  19   \n",
       "\n",
       "                                                   Text Type  SUP  SFF  ATT  \\\n",
       "0     In via preliminare, il Collegio prende in cons...    F  NaN  NaN  NaN   \n",
       "1     Ai sensi dell'art. 14 del d.lgs.546/92, se l'o...    L  NaN  NaN  NaN   \n",
       "2     Se il ricorso non è stato    proposto da o nei...    L  NaN  NaN  NaN   \n",
       "3     Nel caso di specie solo la ILDS ha presentato ...    F  NaN  NaN  NaN   \n",
       "4     come    espressamente richiesto nel ricorso in...    F  NaN  NaN  NaN   \n",
       "...                                                 ...  ...  ...  ...  ...   \n",
       "3306  Sotto questo profilo i Compro Oro sono sottopo...    L  NaN  NaN  NaN   \n",
       "3307  Tale comunicazione ha luogo quando i destinata...    L  NaN  NaN  NaN   \n",
       "3308  Il Ministro dell'interno, con decreto del 17 f...    L  NaN  NaN  NaN   \n",
       "3309  Tra i soggetti destinatari del decreto sono ri...    L  NaN  NaN  NaN   \n",
       "3310  In conclusione, per quanto fin qui esposto, i ...    L       NaN  NaN   \n",
       "\n",
       "      INH REPH         Scheme                        FullChainID  \\\n",
       "0     NaN  NaN            NaN  2013_40_VAT_OPAM_2_REM_MB_PS_AN_A   \n",
       "1     NaN  NaN           Rule  2013_40_VAT_OPAM_2_REM_MB_PS_AN_A   \n",
       "2     NaN  NaN           Itpr  2013_40_VAT_OPAM_2_REM_MB_PS_AN_A   \n",
       "3     NaN  NaN            NaN  2013_40_VAT_OPAM_2_REM_MB_PS_AN_A   \n",
       "4     NaN  NaN            NaN  2013_40_VAT_OPAM_2_REM_MB_PS_AN_A   \n",
       "...   ...  ...            ...                                ...   \n",
       "3306  NaN  NaN           Rule     2021_6075_VAT_OPAM_2_1_PS_AN_C   \n",
       "3307  NaN  NaN           Rule     2021_6075_VAT_OPAM_2_1_PS_AN_C   \n",
       "3308  NaN  NaN           Rule     2021_6075_VAT_OPAM_2_1_PS_AN_C   \n",
       "3309  NaN  NaN  [Class, Rule]     2021_6075_VAT_OPAM_2_1_PS_AN_C   \n",
       "3310  NaN  NaN          Class     2021_6075_VAT_OPAM_2_1_PS_AN_C   \n",
       "\n",
       "                                               Previous  \n",
       "0      In via preliminare, il Collegio prende in con...  \n",
       "1      Ai sensi dell'art. 14 del d.lgs.546/92, se l'...  \n",
       "2      Se il ricorso non è stato\\n    proposto da o ...  \n",
       "3      Nel caso di specie solo la ILDS ha presentato...  \n",
       "4      come\\n    espressamente richiesto nel ricorso...  \n",
       "...                                                 ...  \n",
       "3306  Sotto questo profilo i Compro Oro sono sottopo...  \n",
       "3307  Tale comunicazione ha luogo quando i destinata...  \n",
       "3308  Il Ministro dell'interno, con decreto del 17 f...  \n",
       "3309  Tra i soggetti destinatari del decreto sono ri...  \n",
       "3310  In conclusione, per quanto fin qui esposto, i ...  \n",
       "\n",
       "[3299 rows x 15 columns]"
      ]
     },
     "execution_count": 12,
     "metadata": {},
     "output_type": "execute_result"
    }
   ],
   "source": [
    "df"
   ]
  },
  {
   "cell_type": "code",
   "execution_count": 13,
   "id": "1896b8cc",
   "metadata": {
    "execution": {
     "iopub.execute_input": "2025-09-02T17:07:34.355547Z",
     "iopub.status.busy": "2025-09-02T17:07:34.355110Z",
     "iopub.status.idle": "2025-09-02T17:07:34.368583Z",
     "shell.execute_reply": "2025-09-02T17:07:34.367833Z"
    },
    "papermill": {
     "duration": 0.039031,
     "end_time": "2025-09-02T17:07:34.370180",
     "exception": false,
     "start_time": "2025-09-02T17:07:34.331149",
     "status": "completed"
    },
    "tags": []
   },
   "outputs": [
    {
     "data": {
      "text/html": [
       "<div>\n",
       "<style scoped>\n",
       "    .dataframe tbody tr th:only-of-type {\n",
       "        vertical-align: middle;\n",
       "    }\n",
       "\n",
       "    .dataframe tbody tr th {\n",
       "        vertical-align: top;\n",
       "    }\n",
       "\n",
       "    .dataframe thead th {\n",
       "        text-align: right;\n",
       "    }\n",
       "</style>\n",
       "<table border=\"1\" class=\"dataframe\">\n",
       "  <thead>\n",
       "    <tr style=\"text-align: right;\">\n",
       "      <th></th>\n",
       "      <th>Document</th>\n",
       "      <th>Name</th>\n",
       "      <th>Id</th>\n",
       "      <th>Chain</th>\n",
       "      <th>Num</th>\n",
       "      <th>Text</th>\n",
       "      <th>Type</th>\n",
       "      <th>SUP</th>\n",
       "      <th>SFF</th>\n",
       "      <th>ATT</th>\n",
       "      <th>INH</th>\n",
       "      <th>REPH</th>\n",
       "      <th>Scheme</th>\n",
       "      <th>FullChainID</th>\n",
       "      <th>Previous</th>\n",
       "    </tr>\n",
       "  </thead>\n",
       "  <tbody>\n",
       "    <tr>\n",
       "      <th>0</th>\n",
       "      <td>2013_40_VAT_OPAM_2_REM_MB_PS_AN</td>\n",
       "      <td>prem</td>\n",
       "      <td>A1</td>\n",
       "      <td>A</td>\n",
       "      <td>1</td>\n",
       "      <td>In via preliminare, il Collegio prende in cons...</td>\n",
       "      <td>F</td>\n",
       "      <td>NaN</td>\n",
       "      <td>NaN</td>\n",
       "      <td>NaN</td>\n",
       "      <td>NaN</td>\n",
       "      <td>NaN</td>\n",
       "      <td>NaN</td>\n",
       "      <td>2013_40_VAT_OPAM_2_REM_MB_PS_AN_A</td>\n",
       "      <td>In via preliminare, il Collegio prende in con...</td>\n",
       "    </tr>\n",
       "    <tr>\n",
       "      <th>1</th>\n",
       "      <td>2013_40_VAT_OPAM_2_REM_MB_PS_AN</td>\n",
       "      <td>prem</td>\n",
       "      <td>A2</td>\n",
       "      <td>A</td>\n",
       "      <td>2</td>\n",
       "      <td>Ai sensi dell'art. 14 del d.lgs.546/92, se l'o...</td>\n",
       "      <td>L</td>\n",
       "      <td>NaN</td>\n",
       "      <td>NaN</td>\n",
       "      <td>NaN</td>\n",
       "      <td>NaN</td>\n",
       "      <td>NaN</td>\n",
       "      <td>Rule</td>\n",
       "      <td>2013_40_VAT_OPAM_2_REM_MB_PS_AN_A</td>\n",
       "      <td>Ai sensi dell'art. 14 del d.lgs.546/92, se l'...</td>\n",
       "    </tr>\n",
       "    <tr>\n",
       "      <th>2</th>\n",
       "      <td>2013_40_VAT_OPAM_2_REM_MB_PS_AN</td>\n",
       "      <td>prem</td>\n",
       "      <td>A3</td>\n",
       "      <td>A</td>\n",
       "      <td>3</td>\n",
       "      <td>Se il ricorso non è stato    proposto da o nei...</td>\n",
       "      <td>L</td>\n",
       "      <td>NaN</td>\n",
       "      <td>NaN</td>\n",
       "      <td>NaN</td>\n",
       "      <td>NaN</td>\n",
       "      <td>NaN</td>\n",
       "      <td>Itpr</td>\n",
       "      <td>2013_40_VAT_OPAM_2_REM_MB_PS_AN_A</td>\n",
       "      <td>Se il ricorso non è stato\\n    proposto da o ...</td>\n",
       "    </tr>\n",
       "    <tr>\n",
       "      <th>3</th>\n",
       "      <td>2013_40_VAT_OPAM_2_REM_MB_PS_AN</td>\n",
       "      <td>prem</td>\n",
       "      <td>A4</td>\n",
       "      <td>A</td>\n",
       "      <td>4</td>\n",
       "      <td>Nel caso di specie solo la ILDS ha presentato ...</td>\n",
       "      <td>F</td>\n",
       "      <td>NaN</td>\n",
       "      <td>NaN</td>\n",
       "      <td>NaN</td>\n",
       "      <td>NaN</td>\n",
       "      <td>NaN</td>\n",
       "      <td>NaN</td>\n",
       "      <td>2013_40_VAT_OPAM_2_REM_MB_PS_AN_A</td>\n",
       "      <td>Nel caso di specie solo la ILDS ha presentato...</td>\n",
       "    </tr>\n",
       "    <tr>\n",
       "      <th>4</th>\n",
       "      <td>2013_40_VAT_OPAM_2_REM_MB_PS_AN</td>\n",
       "      <td>prem</td>\n",
       "      <td>A5</td>\n",
       "      <td>A</td>\n",
       "      <td>5</td>\n",
       "      <td>come    espressamente richiesto nel ricorso in...</td>\n",
       "      <td>F</td>\n",
       "      <td>NaN</td>\n",
       "      <td>NaN</td>\n",
       "      <td>NaN</td>\n",
       "      <td>NaN</td>\n",
       "      <td>NaN</td>\n",
       "      <td>NaN</td>\n",
       "      <td>2013_40_VAT_OPAM_2_REM_MB_PS_AN_A</td>\n",
       "      <td>come\\n    espressamente richiesto nel ricorso...</td>\n",
       "    </tr>\n",
       "    <tr>\n",
       "      <th>...</th>\n",
       "      <td>...</td>\n",
       "      <td>...</td>\n",
       "      <td>...</td>\n",
       "      <td>...</td>\n",
       "      <td>...</td>\n",
       "      <td>...</td>\n",
       "      <td>...</td>\n",
       "      <td>...</td>\n",
       "      <td>...</td>\n",
       "      <td>...</td>\n",
       "      <td>...</td>\n",
       "      <td>...</td>\n",
       "      <td>...</td>\n",
       "      <td>...</td>\n",
       "      <td>...</td>\n",
       "    </tr>\n",
       "    <tr>\n",
       "      <th>3294</th>\n",
       "      <td>2021_6075_VAT_OPAM_2_1_PS_AN</td>\n",
       "      <td>prem</td>\n",
       "      <td>C15</td>\n",
       "      <td>C</td>\n",
       "      <td>15</td>\n",
       "      <td>Sotto questo profilo i Compro Oro sono sottopo...</td>\n",
       "      <td>L</td>\n",
       "      <td>NaN</td>\n",
       "      <td>NaN</td>\n",
       "      <td>NaN</td>\n",
       "      <td>NaN</td>\n",
       "      <td>NaN</td>\n",
       "      <td>Rule</td>\n",
       "      <td>2021_6075_VAT_OPAM_2_1_PS_AN_C</td>\n",
       "      <td>Sotto questo profilo i Compro Oro sono sottopo...</td>\n",
       "    </tr>\n",
       "    <tr>\n",
       "      <th>3295</th>\n",
       "      <td>2021_6075_VAT_OPAM_2_1_PS_AN</td>\n",
       "      <td>prem</td>\n",
       "      <td>C16</td>\n",
       "      <td>C</td>\n",
       "      <td>16</td>\n",
       "      <td>Tale comunicazione ha luogo quando i destinata...</td>\n",
       "      <td>L</td>\n",
       "      <td>NaN</td>\n",
       "      <td>NaN</td>\n",
       "      <td>NaN</td>\n",
       "      <td>NaN</td>\n",
       "      <td>NaN</td>\n",
       "      <td>Rule</td>\n",
       "      <td>2021_6075_VAT_OPAM_2_1_PS_AN_C</td>\n",
       "      <td>Tale comunicazione ha luogo quando i destinata...</td>\n",
       "    </tr>\n",
       "    <tr>\n",
       "      <th>3296</th>\n",
       "      <td>2021_6075_VAT_OPAM_2_1_PS_AN</td>\n",
       "      <td>prem</td>\n",
       "      <td>C17</td>\n",
       "      <td>C</td>\n",
       "      <td>17</td>\n",
       "      <td>Il Ministro dell'interno, con decreto del 17 f...</td>\n",
       "      <td>L</td>\n",
       "      <td>NaN</td>\n",
       "      <td>NaN</td>\n",
       "      <td>NaN</td>\n",
       "      <td>NaN</td>\n",
       "      <td>NaN</td>\n",
       "      <td>Rule</td>\n",
       "      <td>2021_6075_VAT_OPAM_2_1_PS_AN_C</td>\n",
       "      <td>Il Ministro dell'interno, con decreto del 17 f...</td>\n",
       "    </tr>\n",
       "    <tr>\n",
       "      <th>3297</th>\n",
       "      <td>2021_6075_VAT_OPAM_2_1_PS_AN</td>\n",
       "      <td>prem</td>\n",
       "      <td>C18</td>\n",
       "      <td>C</td>\n",
       "      <td>18</td>\n",
       "      <td>Tra i soggetti destinatari del decreto sono ri...</td>\n",
       "      <td>L</td>\n",
       "      <td>NaN</td>\n",
       "      <td>NaN</td>\n",
       "      <td>NaN</td>\n",
       "      <td>NaN</td>\n",
       "      <td>NaN</td>\n",
       "      <td>[Class, Rule]</td>\n",
       "      <td>2021_6075_VAT_OPAM_2_1_PS_AN_C</td>\n",
       "      <td>Tra i soggetti destinatari del decreto sono ri...</td>\n",
       "    </tr>\n",
       "    <tr>\n",
       "      <th>3298</th>\n",
       "      <td>2021_6075_VAT_OPAM_2_1_PS_AN</td>\n",
       "      <td>prem</td>\n",
       "      <td>C19</td>\n",
       "      <td>C</td>\n",
       "      <td>19</td>\n",
       "      <td>In conclusione, per quanto fin qui esposto, i ...</td>\n",
       "      <td>L</td>\n",
       "      <td></td>\n",
       "      <td>NaN</td>\n",
       "      <td>NaN</td>\n",
       "      <td>NaN</td>\n",
       "      <td>NaN</td>\n",
       "      <td>Class</td>\n",
       "      <td>2021_6075_VAT_OPAM_2_1_PS_AN_C</td>\n",
       "      <td>In conclusione, per quanto fin qui esposto, i ...</td>\n",
       "    </tr>\n",
       "  </tbody>\n",
       "</table>\n",
       "<p>3299 rows × 15 columns</p>\n",
       "</div>"
      ],
      "text/plain": [
       "                             Document  Name   Id Chain Num  \\\n",
       "0     2013_40_VAT_OPAM_2_REM_MB_PS_AN  prem   A1     A   1   \n",
       "1     2013_40_VAT_OPAM_2_REM_MB_PS_AN  prem   A2     A   2   \n",
       "2     2013_40_VAT_OPAM_2_REM_MB_PS_AN  prem   A3     A   3   \n",
       "3     2013_40_VAT_OPAM_2_REM_MB_PS_AN  prem   A4     A   4   \n",
       "4     2013_40_VAT_OPAM_2_REM_MB_PS_AN  prem   A5     A   5   \n",
       "...                               ...   ...  ...   ...  ..   \n",
       "3294     2021_6075_VAT_OPAM_2_1_PS_AN  prem  C15     C  15   \n",
       "3295     2021_6075_VAT_OPAM_2_1_PS_AN  prem  C16     C  16   \n",
       "3296     2021_6075_VAT_OPAM_2_1_PS_AN  prem  C17     C  17   \n",
       "3297     2021_6075_VAT_OPAM_2_1_PS_AN  prem  C18     C  18   \n",
       "3298     2021_6075_VAT_OPAM_2_1_PS_AN  prem  C19     C  19   \n",
       "\n",
       "                                                   Text Type  SUP  SFF  ATT  \\\n",
       "0     In via preliminare, il Collegio prende in cons...    F  NaN  NaN  NaN   \n",
       "1     Ai sensi dell'art. 14 del d.lgs.546/92, se l'o...    L  NaN  NaN  NaN   \n",
       "2     Se il ricorso non è stato    proposto da o nei...    L  NaN  NaN  NaN   \n",
       "3     Nel caso di specie solo la ILDS ha presentato ...    F  NaN  NaN  NaN   \n",
       "4     come    espressamente richiesto nel ricorso in...    F  NaN  NaN  NaN   \n",
       "...                                                 ...  ...  ...  ...  ...   \n",
       "3294  Sotto questo profilo i Compro Oro sono sottopo...    L  NaN  NaN  NaN   \n",
       "3295  Tale comunicazione ha luogo quando i destinata...    L  NaN  NaN  NaN   \n",
       "3296  Il Ministro dell'interno, con decreto del 17 f...    L  NaN  NaN  NaN   \n",
       "3297  Tra i soggetti destinatari del decreto sono ri...    L  NaN  NaN  NaN   \n",
       "3298  In conclusione, per quanto fin qui esposto, i ...    L       NaN  NaN   \n",
       "\n",
       "      INH REPH         Scheme                        FullChainID  \\\n",
       "0     NaN  NaN            NaN  2013_40_VAT_OPAM_2_REM_MB_PS_AN_A   \n",
       "1     NaN  NaN           Rule  2013_40_VAT_OPAM_2_REM_MB_PS_AN_A   \n",
       "2     NaN  NaN           Itpr  2013_40_VAT_OPAM_2_REM_MB_PS_AN_A   \n",
       "3     NaN  NaN            NaN  2013_40_VAT_OPAM_2_REM_MB_PS_AN_A   \n",
       "4     NaN  NaN            NaN  2013_40_VAT_OPAM_2_REM_MB_PS_AN_A   \n",
       "...   ...  ...            ...                                ...   \n",
       "3294  NaN  NaN           Rule     2021_6075_VAT_OPAM_2_1_PS_AN_C   \n",
       "3295  NaN  NaN           Rule     2021_6075_VAT_OPAM_2_1_PS_AN_C   \n",
       "3296  NaN  NaN           Rule     2021_6075_VAT_OPAM_2_1_PS_AN_C   \n",
       "3297  NaN  NaN  [Class, Rule]     2021_6075_VAT_OPAM_2_1_PS_AN_C   \n",
       "3298  NaN  NaN          Class     2021_6075_VAT_OPAM_2_1_PS_AN_C   \n",
       "\n",
       "                                               Previous  \n",
       "0      In via preliminare, il Collegio prende in con...  \n",
       "1      Ai sensi dell'art. 14 del d.lgs.546/92, se l'...  \n",
       "2      Se il ricorso non è stato\\n    proposto da o ...  \n",
       "3      Nel caso di specie solo la ILDS ha presentato...  \n",
       "4      come\\n    espressamente richiesto nel ricorso...  \n",
       "...                                                 ...  \n",
       "3294  Sotto questo profilo i Compro Oro sono sottopo...  \n",
       "3295  Tale comunicazione ha luogo quando i destinata...  \n",
       "3296  Il Ministro dell'interno, con decreto del 17 f...  \n",
       "3297  Tra i soggetti destinatari del decreto sono ri...  \n",
       "3298  In conclusione, per quanto fin qui esposto, i ...  \n",
       "\n",
       "[3299 rows x 15 columns]"
      ]
     },
     "execution_count": 13,
     "metadata": {},
     "output_type": "execute_result"
    }
   ],
   "source": [
    "df.reset_index(drop=True)"
   ]
  },
  {
   "cell_type": "markdown",
   "id": "021fbc3b",
   "metadata": {
    "id": "K78LAtcaGNEE",
    "papermill": {
     "duration": 0.024002,
     "end_time": "2025-09-02T17:07:34.418377",
     "exception": false,
     "start_time": "2025-09-02T17:07:34.394375",
     "status": "completed"
    },
    "tags": []
   },
   "source": [
    "# Preproccesing"
   ]
  },
  {
   "cell_type": "markdown",
   "id": "9a61cb33",
   "metadata": {
    "id": "LnLoaCWQGz5W",
    "papermill": {
     "duration": 0.024894,
     "end_time": "2025-09-02T17:07:34.468017",
     "exception": false,
     "start_time": "2025-09-02T17:07:34.443123",
     "status": "completed"
    },
    "tags": []
   },
   "source": [
    "## Removing NaN values"
   ]
  },
  {
   "cell_type": "markdown",
   "id": "ec4bc890",
   "metadata": {
    "id": "9B18ZNXLk6GU",
    "papermill": {
     "duration": 0.023823,
     "end_time": "2025-09-02T17:07:34.516982",
     "exception": false,
     "start_time": "2025-09-02T17:07:34.493159",
     "status": "completed"
    },
    "tags": []
   },
   "source": [
    "Check whether there are any null values for ARGUMENT CLASSIFICATION(AC) task (Name column), and if it's the case then drop them:"
   ]
  },
  {
   "cell_type": "code",
   "execution_count": 14,
   "id": "7ff6257b",
   "metadata": {
    "execution": {
     "iopub.execute_input": "2025-09-02T17:07:34.566446Z",
     "iopub.status.busy": "2025-09-02T17:07:34.565948Z",
     "iopub.status.idle": "2025-09-02T17:07:34.573630Z",
     "shell.execute_reply": "2025-09-02T17:07:34.572979Z"
    },
    "id": "tlturRTRk6GV",
    "outputId": "302e0670-f4c5-4799-b1aa-1f6106a88945",
    "papermill": {
     "duration": 0.034012,
     "end_time": "2025-09-02T17:07:34.575195",
     "exception": false,
     "start_time": "2025-09-02T17:07:34.541183",
     "status": "completed"
    },
    "tags": []
   },
   "outputs": [
    {
     "data": {
      "text/plain": [
       "array(['prem', 'conc'], dtype=object)"
      ]
     },
     "execution_count": 14,
     "metadata": {},
     "output_type": "execute_result"
    }
   ],
   "source": [
    "df_ac = df[~(df['Name'].isnull())].reset_index(drop=True)\n",
    "df_ac['Name'].unique()"
   ]
  },
  {
   "cell_type": "markdown",
   "id": "0849233a",
   "metadata": {
    "id": "y7GvPEfNk6GW",
    "papermill": {
     "duration": 0.024024,
     "end_time": "2025-09-02T17:07:34.623003",
     "exception": false,
     "start_time": "2025-09-02T17:07:34.598979",
     "status": "completed"
    },
    "tags": []
   },
   "source": [
    "Check whether there are any null values for TYPE CLASSIFICATION(TC) task (Type column), and if it's the case then drop them"
   ]
  },
  {
   "cell_type": "code",
   "execution_count": 15,
   "id": "3b6cdb74",
   "metadata": {
    "execution": {
     "iopub.execute_input": "2025-09-02T17:07:34.672267Z",
     "iopub.status.busy": "2025-09-02T17:07:34.671695Z",
     "iopub.status.idle": "2025-09-02T17:07:34.700395Z",
     "shell.execute_reply": "2025-09-02T17:07:34.699675Z"
    },
    "id": "4XQlgqOPk6GW",
    "outputId": "ca91e51f-23d5-459e-8a50-a8cf038d685c",
    "papermill": {
     "duration": 0.054972,
     "end_time": "2025-09-02T17:07:34.701953",
     "exception": false,
     "start_time": "2025-09-02T17:07:34.646981",
     "status": "completed"
    },
    "tags": []
   },
   "outputs": [
    {
     "data": {
      "text/plain": [
       "0          F\n",
       "1          L\n",
       "13    [F, L]\n",
       "Name: Type, dtype: object"
      ]
     },
     "execution_count": 15,
     "metadata": {},
     "output_type": "execute_result"
    }
   ],
   "source": [
    "df_tc = df_ac[~(df_ac['Type'].isnull())].reset_index(drop=True)\n",
    "df_tc.describe()\n",
    "df_tc['Type'].drop_duplicates()\n"
   ]
  },
  {
   "cell_type": "markdown",
   "id": "8b149c28",
   "metadata": {
    "id": "BR15CCTIk6GX",
    "papermill": {
     "duration": 0.024323,
     "end_time": "2025-09-02T17:07:34.751155",
     "exception": false,
     "start_time": "2025-09-02T17:07:34.726832",
     "status": "completed"
    },
    "tags": []
   },
   "source": [
    "Check whether there are any null values for SCHEME CLASSIFICATION(SC) task (Scheme column), and if it's the case then drop them"
   ]
  },
  {
   "cell_type": "code",
   "execution_count": 16,
   "id": "c124ff83",
   "metadata": {
    "execution": {
     "iopub.execute_input": "2025-09-02T17:07:34.801330Z",
     "iopub.status.busy": "2025-09-02T17:07:34.801055Z",
     "iopub.status.idle": "2025-09-02T17:07:34.810702Z",
     "shell.execute_reply": "2025-09-02T17:07:34.809977Z"
    },
    "id": "iXGvfxi1k6GX",
    "outputId": "1b67bb58-a5b1-4b79-d4d8-a88813b1178c",
    "papermill": {
     "duration": 0.036773,
     "end_time": "2025-09-02T17:07:34.812543",
     "exception": false,
     "start_time": "2025-09-02T17:07:34.775770",
     "status": "completed"
    },
    "tags": []
   },
   "outputs": [
    {
     "data": {
      "text/plain": [
       "0                      Rule\n",
       "1                      Itpr\n",
       "4                      Prec\n",
       "15             [Itpr, Prec]\n",
       "21                      Aut\n",
       "               ...         \n",
       "1220    [Class, Itpr, Rule]\n",
       "1237           [Acon, Itpr]\n",
       "1238          [Class, Tele]\n",
       "1273     [Prec, Rule, Syst]\n",
       "1279     [Aut, Itpr, Princ]\n",
       "Name: Scheme, Length: 63, dtype: object"
      ]
     },
     "execution_count": 16,
     "metadata": {},
     "output_type": "execute_result"
    }
   ],
   "source": [
    "df_sc = df_tc[~(df_tc['Scheme'].isnull())].reset_index(drop=True)\n",
    "#print(df_sc.describe())\n",
    "df_sc['Scheme'].drop_duplicates()"
   ]
  },
  {
   "cell_type": "code",
   "execution_count": 17,
   "id": "51d4d40b",
   "metadata": {
    "execution": {
     "iopub.execute_input": "2025-09-02T17:07:34.867914Z",
     "iopub.status.busy": "2025-09-02T17:07:34.867656Z",
     "iopub.status.idle": "2025-09-02T17:07:34.903297Z",
     "shell.execute_reply": "2025-09-02T17:07:34.902664Z"
    },
    "id": "QRv5P9Zv5GsP",
    "outputId": "94a3acf5-eb7e-4613-e4c5-6304aa50020a",
    "papermill": {
     "duration": 0.064839,
     "end_time": "2025-09-02T17:07:34.904770",
     "exception": false,
     "start_time": "2025-09-02T17:07:34.839931",
     "status": "completed"
    },
    "tags": []
   },
   "outputs": [
    {
     "data": {
      "text/plain": [
       "\"Se il ricorso non è stato proposto da o nei confronti di tutti i soggetti sopra indicati deve essere ordinata l'integrazione del contraddittorio mediante la loro chiamata in causa entro un termine stabilito a pena di decadenza\""
      ]
     },
     "execution_count": 17,
     "metadata": {},
     "output_type": "execute_result"
    }
   ],
   "source": [
    "#remove excessive white spaces from text column\n",
    "import re\n",
    "def remove_whitespace(text):\n",
    "    t = re.sub(' +', ' ', text)\n",
    "    return t\n",
    "df_sc['Text'] =df_sc['Text'].map(remove_whitespace)\n",
    "df_sc['Text'][1]\n"
   ]
  },
  {
   "cell_type": "code",
   "execution_count": 18,
   "id": "aa13e3d9",
   "metadata": {
    "execution": {
     "iopub.execute_input": "2025-09-02T17:07:34.953622Z",
     "iopub.status.busy": "2025-09-02T17:07:34.953390Z",
     "iopub.status.idle": "2025-09-02T17:07:34.988837Z",
     "shell.execute_reply": "2025-09-02T17:07:34.988161Z"
    },
    "id": "TzEB4o1zk6GY",
    "outputId": "a183f0ad-4b04-4634-f2bd-8eb175255a7d",
    "papermill": {
     "duration": 0.06159,
     "end_time": "2025-09-02T17:07:34.990318",
     "exception": false,
     "start_time": "2025-09-02T17:07:34.928728",
     "status": "completed"
    },
    "tags": []
   },
   "outputs": [
    {
     "data": {
      "text/html": [
       "<div>\n",
       "<style scoped>\n",
       "    .dataframe tbody tr th:only-of-type {\n",
       "        vertical-align: middle;\n",
       "    }\n",
       "\n",
       "    .dataframe tbody tr th {\n",
       "        vertical-align: top;\n",
       "    }\n",
       "\n",
       "    .dataframe thead th {\n",
       "        text-align: right;\n",
       "    }\n",
       "</style>\n",
       "<table border=\"1\" class=\"dataframe\">\n",
       "  <thead>\n",
       "    <tr style=\"text-align: right;\">\n",
       "      <th></th>\n",
       "      <th>Document</th>\n",
       "      <th>Name</th>\n",
       "      <th>Id</th>\n",
       "      <th>Chain</th>\n",
       "      <th>Num</th>\n",
       "      <th>Text</th>\n",
       "      <th>Type</th>\n",
       "      <th>SUP</th>\n",
       "      <th>SFF</th>\n",
       "      <th>ATT</th>\n",
       "      <th>INH</th>\n",
       "      <th>REPH</th>\n",
       "      <th>Scheme</th>\n",
       "      <th>FullChainID</th>\n",
       "      <th>Previous</th>\n",
       "    </tr>\n",
       "  </thead>\n",
       "  <tbody>\n",
       "    <tr>\n",
       "      <th>count</th>\n",
       "      <td>3299</td>\n",
       "      <td>3299</td>\n",
       "      <td>3299</td>\n",
       "      <td>3299</td>\n",
       "      <td>3299</td>\n",
       "      <td>3299</td>\n",
       "      <td>2899</td>\n",
       "      <td>1081</td>\n",
       "      <td>81</td>\n",
       "      <td>66</td>\n",
       "      <td>25</td>\n",
       "      <td>88</td>\n",
       "      <td>1311</td>\n",
       "      <td>3299</td>\n",
       "      <td>3299</td>\n",
       "    </tr>\n",
       "    <tr>\n",
       "      <th>unique</th>\n",
       "      <td>225</td>\n",
       "      <td>2</td>\n",
       "      <td>264</td>\n",
       "      <td>10</td>\n",
       "      <td>98</td>\n",
       "      <td>3162</td>\n",
       "      <td>3</td>\n",
       "      <td>426</td>\n",
       "      <td>48</td>\n",
       "      <td>32</td>\n",
       "      <td>19</td>\n",
       "      <td>31</td>\n",
       "      <td>63</td>\n",
       "      <td>367</td>\n",
       "      <td>3185</td>\n",
       "    </tr>\n",
       "    <tr>\n",
       "      <th>freq</th>\n",
       "      <td>79</td>\n",
       "      <td>2899</td>\n",
       "      <td>221</td>\n",
       "      <td>2341</td>\n",
       "      <td>364</td>\n",
       "      <td>4</td>\n",
       "      <td>1564</td>\n",
       "      <td>54</td>\n",
       "      <td>6</td>\n",
       "      <td>8</td>\n",
       "      <td>3</td>\n",
       "      <td>28</td>\n",
       "      <td>349</td>\n",
       "      <td>79</td>\n",
       "      <td>4</td>\n",
       "    </tr>\n",
       "  </tbody>\n",
       "</table>\n",
       "</div>"
      ],
      "text/plain": [
       "       Document  Name    Id Chain   Num  Text  Type   SUP SFF ATT INH REPH  \\\n",
       "count      3299  3299  3299  3299  3299  3299  2899  1081  81  66  25   88   \n",
       "unique      225     2   264    10    98  3162     3   426  48  32  19   31   \n",
       "freq         79  2899   221  2341   364     4  1564    54   6   8   3   28   \n",
       "\n",
       "       Scheme FullChainID Previous  \n",
       "count    1311        3299     3299  \n",
       "unique     63         367     3185  \n",
       "freq      349          79        4  "
      ]
     },
     "execution_count": 18,
     "metadata": {},
     "output_type": "execute_result"
    }
   ],
   "source": [
    "df_ac.describe().drop('top',axis=0)"
   ]
  },
  {
   "cell_type": "code",
   "execution_count": 19,
   "id": "22bd5677",
   "metadata": {
    "execution": {
     "iopub.execute_input": "2025-09-02T17:07:35.039808Z",
     "iopub.status.busy": "2025-09-02T17:07:35.039569Z",
     "iopub.status.idle": "2025-09-02T17:07:35.071650Z",
     "shell.execute_reply": "2025-09-02T17:07:35.070906Z"
    },
    "id": "sfq9mwlDk6GZ",
    "outputId": "306befda-113e-48fb-c8b6-7ffac3c92bf2",
    "papermill": {
     "duration": 0.058922,
     "end_time": "2025-09-02T17:07:35.073403",
     "exception": false,
     "start_time": "2025-09-02T17:07:35.014481",
     "status": "completed"
    },
    "tags": []
   },
   "outputs": [
    {
     "data": {
      "text/html": [
       "<div>\n",
       "<style scoped>\n",
       "    .dataframe tbody tr th:only-of-type {\n",
       "        vertical-align: middle;\n",
       "    }\n",
       "\n",
       "    .dataframe tbody tr th {\n",
       "        vertical-align: top;\n",
       "    }\n",
       "\n",
       "    .dataframe thead th {\n",
       "        text-align: right;\n",
       "    }\n",
       "</style>\n",
       "<table border=\"1\" class=\"dataframe\">\n",
       "  <thead>\n",
       "    <tr style=\"text-align: right;\">\n",
       "      <th></th>\n",
       "      <th>Document</th>\n",
       "      <th>Name</th>\n",
       "      <th>Id</th>\n",
       "      <th>Chain</th>\n",
       "      <th>Num</th>\n",
       "      <th>Text</th>\n",
       "      <th>Type</th>\n",
       "      <th>SUP</th>\n",
       "      <th>SFF</th>\n",
       "      <th>ATT</th>\n",
       "      <th>INH</th>\n",
       "      <th>REPH</th>\n",
       "      <th>Scheme</th>\n",
       "      <th>FullChainID</th>\n",
       "      <th>Previous</th>\n",
       "    </tr>\n",
       "  </thead>\n",
       "  <tbody>\n",
       "    <tr>\n",
       "      <th>count</th>\n",
       "      <td>2899</td>\n",
       "      <td>2899</td>\n",
       "      <td>2899</td>\n",
       "      <td>2899</td>\n",
       "      <td>2899</td>\n",
       "      <td>2899</td>\n",
       "      <td>2899</td>\n",
       "      <td>685</td>\n",
       "      <td>42</td>\n",
       "      <td>66</td>\n",
       "      <td>25</td>\n",
       "      <td>20</td>\n",
       "      <td>1311</td>\n",
       "      <td>2899</td>\n",
       "      <td>2899</td>\n",
       "    </tr>\n",
       "    <tr>\n",
       "      <th>unique</th>\n",
       "      <td>225</td>\n",
       "      <td>1</td>\n",
       "      <td>255</td>\n",
       "      <td>10</td>\n",
       "      <td>95</td>\n",
       "      <td>2796</td>\n",
       "      <td>3</td>\n",
       "      <td>297</td>\n",
       "      <td>28</td>\n",
       "      <td>32</td>\n",
       "      <td>19</td>\n",
       "      <td>16</td>\n",
       "      <td>63</td>\n",
       "      <td>367</td>\n",
       "      <td>2811</td>\n",
       "    </tr>\n",
       "    <tr>\n",
       "      <th>freq</th>\n",
       "      <td>78</td>\n",
       "      <td>2899</td>\n",
       "      <td>214</td>\n",
       "      <td>2088</td>\n",
       "      <td>346</td>\n",
       "      <td>4</td>\n",
       "      <td>1564</td>\n",
       "      <td>30</td>\n",
       "      <td>4</td>\n",
       "      <td>8</td>\n",
       "      <td>3</td>\n",
       "      <td>2</td>\n",
       "      <td>349</td>\n",
       "      <td>78</td>\n",
       "      <td>4</td>\n",
       "    </tr>\n",
       "  </tbody>\n",
       "</table>\n",
       "</div>"
      ],
      "text/plain": [
       "       Document  Name    Id Chain   Num  Text  Type  SUP SFF ATT INH REPH  \\\n",
       "count      2899  2899  2899  2899  2899  2899  2899  685  42  66  25   20   \n",
       "unique      225     1   255    10    95  2796     3  297  28  32  19   16   \n",
       "freq         78  2899   214  2088   346     4  1564   30   4   8   3    2   \n",
       "\n",
       "       Scheme FullChainID Previous  \n",
       "count    1311        2899     2899  \n",
       "unique     63         367     2811  \n",
       "freq      349          78        4  "
      ]
     },
     "execution_count": 19,
     "metadata": {},
     "output_type": "execute_result"
    }
   ],
   "source": [
    "df_tc.describe().drop('top',axis=0)"
   ]
  },
  {
   "cell_type": "code",
   "execution_count": 20,
   "id": "4d8265f3",
   "metadata": {
    "execution": {
     "iopub.execute_input": "2025-09-02T17:07:35.124431Z",
     "iopub.status.busy": "2025-09-02T17:07:35.124157Z",
     "iopub.status.idle": "2025-09-02T17:07:35.153051Z",
     "shell.execute_reply": "2025-09-02T17:07:35.152292Z"
    },
    "id": "p_4kY233k6GZ",
    "outputId": "05832c24-d715-49b3-fdf2-6756cec67b89",
    "papermill": {
     "duration": 0.055888,
     "end_time": "2025-09-02T17:07:35.154693",
     "exception": false,
     "start_time": "2025-09-02T17:07:35.098805",
     "status": "completed"
    },
    "tags": []
   },
   "outputs": [
    {
     "data": {
      "text/html": [
       "<div>\n",
       "<style scoped>\n",
       "    .dataframe tbody tr th:only-of-type {\n",
       "        vertical-align: middle;\n",
       "    }\n",
       "\n",
       "    .dataframe tbody tr th {\n",
       "        vertical-align: top;\n",
       "    }\n",
       "\n",
       "    .dataframe thead th {\n",
       "        text-align: right;\n",
       "    }\n",
       "</style>\n",
       "<table border=\"1\" class=\"dataframe\">\n",
       "  <thead>\n",
       "    <tr style=\"text-align: right;\">\n",
       "      <th></th>\n",
       "      <th>Document</th>\n",
       "      <th>Name</th>\n",
       "      <th>Id</th>\n",
       "      <th>Chain</th>\n",
       "      <th>Num</th>\n",
       "      <th>Text</th>\n",
       "      <th>Type</th>\n",
       "      <th>SUP</th>\n",
       "      <th>SFF</th>\n",
       "      <th>ATT</th>\n",
       "      <th>INH</th>\n",
       "      <th>REPH</th>\n",
       "      <th>Scheme</th>\n",
       "      <th>FullChainID</th>\n",
       "      <th>Previous</th>\n",
       "    </tr>\n",
       "  </thead>\n",
       "  <tbody>\n",
       "    <tr>\n",
       "      <th>count</th>\n",
       "      <td>1311</td>\n",
       "      <td>1311</td>\n",
       "      <td>1311</td>\n",
       "      <td>1311</td>\n",
       "      <td>1311</td>\n",
       "      <td>1311</td>\n",
       "      <td>1311</td>\n",
       "      <td>271</td>\n",
       "      <td>14</td>\n",
       "      <td>9</td>\n",
       "      <td>14</td>\n",
       "      <td>3</td>\n",
       "      <td>1311</td>\n",
       "      <td>1311</td>\n",
       "      <td>1311</td>\n",
       "    </tr>\n",
       "    <tr>\n",
       "      <th>unique</th>\n",
       "      <td>203</td>\n",
       "      <td>1</td>\n",
       "      <td>164</td>\n",
       "      <td>10</td>\n",
       "      <td>62</td>\n",
       "      <td>1240</td>\n",
       "      <td>3</td>\n",
       "      <td>129</td>\n",
       "      <td>11</td>\n",
       "      <td>7</td>\n",
       "      <td>13</td>\n",
       "      <td>3</td>\n",
       "      <td>63</td>\n",
       "      <td>309</td>\n",
       "      <td>1259</td>\n",
       "    </tr>\n",
       "    <tr>\n",
       "      <th>freq</th>\n",
       "      <td>41</td>\n",
       "      <td>1311</td>\n",
       "      <td>103</td>\n",
       "      <td>942</td>\n",
       "      <td>174</td>\n",
       "      <td>3</td>\n",
       "      <td>997</td>\n",
       "      <td>15</td>\n",
       "      <td>2</td>\n",
       "      <td>2</td>\n",
       "      <td>2</td>\n",
       "      <td>1</td>\n",
       "      <td>349</td>\n",
       "      <td>41</td>\n",
       "      <td>3</td>\n",
       "    </tr>\n",
       "  </tbody>\n",
       "</table>\n",
       "</div>"
      ],
      "text/plain": [
       "       Document  Name    Id Chain   Num  Text  Type  SUP SFF ATT INH REPH  \\\n",
       "count      1311  1311  1311  1311  1311  1311  1311  271  14   9  14    3   \n",
       "unique      203     1   164    10    62  1240     3  129  11   7  13    3   \n",
       "freq         41  1311   103   942   174     3   997   15   2   2   2    1   \n",
       "\n",
       "       Scheme FullChainID Previous  \n",
       "count    1311        1311     1311  \n",
       "unique     63         309     1259  \n",
       "freq      349          41        3  "
      ]
     },
     "execution_count": 20,
     "metadata": {},
     "output_type": "execute_result"
    }
   ],
   "source": [
    "df_sc.describe().drop('top', axis=0)"
   ]
  },
  {
   "cell_type": "markdown",
   "id": "c2c02b7b",
   "metadata": {
    "id": "i2nAYnxhGUHO",
    "papermill": {
     "duration": 0.024417,
     "end_time": "2025-09-02T17:07:35.204278",
     "exception": false,
     "start_time": "2025-09-02T17:07:35.179861",
     "status": "completed"
    },
    "tags": []
   },
   "source": [
    "## Argument classification Label Encoder"
   ]
  },
  {
   "cell_type": "code",
   "execution_count": 21,
   "id": "082c2901",
   "metadata": {
    "execution": {
     "iopub.execute_input": "2025-09-02T17:07:35.254797Z",
     "iopub.status.busy": "2025-09-02T17:07:35.254145Z",
     "iopub.status.idle": "2025-09-02T17:07:35.257518Z",
     "shell.execute_reply": "2025-09-02T17:07:35.256814Z"
    },
    "id": "Jjbz1xKqk6Gh",
    "papermill": {
     "duration": 0.030271,
     "end_time": "2025-09-02T17:07:35.259024",
     "exception": false,
     "start_time": "2025-09-02T17:07:35.228753",
     "status": "completed"
    },
    "tags": []
   },
   "outputs": [],
   "source": [
    "#df_ac['label'] = df_ac.Name.map({'prem': 0, 'conc': 1})"
   ]
  },
  {
   "cell_type": "code",
   "execution_count": 22,
   "id": "a48109fe",
   "metadata": {
    "execution": {
     "iopub.execute_input": "2025-09-02T17:07:35.309419Z",
     "iopub.status.busy": "2025-09-02T17:07:35.309196Z",
     "iopub.status.idle": "2025-09-02T17:07:35.316052Z",
     "shell.execute_reply": "2025-09-02T17:07:35.315361Z"
    },
    "id": "N7d9dVO5k6Gh",
    "outputId": "9aad1fe4-fbb9-462b-9c9e-5b481c500075",
    "papermill": {
     "duration": 0.033954,
     "end_time": "2025-09-02T17:07:35.317582",
     "exception": false,
     "start_time": "2025-09-02T17:07:35.283628",
     "status": "completed"
    },
    "tags": []
   },
   "outputs": [
    {
     "data": {
      "text/plain": [
       "array(['conc', 'prem'], dtype=object)"
      ]
     },
     "execution_count": 22,
     "metadata": {},
     "output_type": "execute_result"
    }
   ],
   "source": [
    "from sklearn.preprocessing import LabelEncoder\n",
    "le = LabelEncoder()\n",
    "df_ac['label'] = le.fit_transform(df_ac['Name'])\n",
    "le.classes_\n",
    "le.inverse_transform([0,1])"
   ]
  },
  {
   "cell_type": "code",
   "execution_count": 23,
   "id": "b274ecb6",
   "metadata": {
    "execution": {
     "iopub.execute_input": "2025-09-02T17:07:35.368378Z",
     "iopub.status.busy": "2025-09-02T17:07:35.367862Z",
     "iopub.status.idle": "2025-09-02T17:07:35.374271Z",
     "shell.execute_reply": "2025-09-02T17:07:35.373600Z"
    },
    "id": "lQ197Nrlk6G2",
    "outputId": "3290e5f0-461c-4fda-8ff4-43ff3ebd1d8b",
    "papermill": {
     "duration": 0.033607,
     "end_time": "2025-09-02T17:07:35.375713",
     "exception": false,
     "start_time": "2025-09-02T17:07:35.342106",
     "status": "completed"
    },
    "tags": []
   },
   "outputs": [
    {
     "data": {
      "text/plain": [
       "array([1, 0])"
      ]
     },
     "execution_count": 23,
     "metadata": {},
     "output_type": "execute_result"
    }
   ],
   "source": [
    "df_ac['label'].unique()"
   ]
  },
  {
   "cell_type": "code",
   "execution_count": 24,
   "id": "be9cfbb4",
   "metadata": {
    "execution": {
     "iopub.execute_input": "2025-09-02T17:07:35.426745Z",
     "iopub.status.busy": "2025-09-02T17:07:35.426298Z",
     "iopub.status.idle": "2025-09-02T17:07:35.431920Z",
     "shell.execute_reply": "2025-09-02T17:07:35.431130Z"
    },
    "id": "gIKGCk0fk6G3",
    "outputId": "5b98f4fa-5660-4381-a642-bfb2c88156fc",
    "papermill": {
     "duration": 0.033123,
     "end_time": "2025-09-02T17:07:35.433609",
     "exception": false,
     "start_time": "2025-09-02T17:07:35.400486",
     "status": "completed"
    },
    "tags": []
   },
   "outputs": [
    {
     "data": {
      "text/plain": [
       "array(['prem', 'conc'], dtype=object)"
      ]
     },
     "execution_count": 24,
     "metadata": {},
     "output_type": "execute_result"
    }
   ],
   "source": [
    "df_ac['Name'].unique()"
   ]
  },
  {
   "cell_type": "code",
   "execution_count": 25,
   "id": "ebe52141",
   "metadata": {
    "execution": {
     "iopub.execute_input": "2025-09-02T17:07:35.485269Z",
     "iopub.status.busy": "2025-09-02T17:07:35.485016Z",
     "iopub.status.idle": "2025-09-02T17:07:35.767698Z",
     "shell.execute_reply": "2025-09-02T17:07:35.766874Z"
    },
    "id": "_mFeTOnOk6G4",
    "outputId": "49b2e293-b7e8-410b-cb99-4a81122649e3",
    "papermill": {
     "duration": 0.310183,
     "end_time": "2025-09-02T17:07:35.769428",
     "exception": false,
     "start_time": "2025-09-02T17:07:35.459245",
     "status": "completed"
    },
    "tags": []
   },
   "outputs": [
    {
     "data": {
      "text/plain": [
       "<Axes: >"
      ]
     },
     "execution_count": 25,
     "metadata": {},
     "output_type": "execute_result"
    },
    {
     "data": {
      "image/png": "[encoded data removed]",
      "text/plain": [
       "<Figure size 640x480 with 1 Axes>"
      ]
     },
     "metadata": {},
     "output_type": "display_data"
    }
   ],
   "source": [
    "df_ac['label'].hist()"
   ]
  },
  {
   "cell_type": "markdown",
   "id": "896b3f90",
   "metadata": {
    "id": "9wLFyRHZk6Ga",
    "papermill": {
     "duration": 0.025402,
     "end_time": "2025-09-02T17:07:35.820885",
     "exception": false,
     "start_time": "2025-09-02T17:07:35.795483",
     "status": "completed"
    },
    "tags": []
   },
   "source": [
    "## Type classification multi-label-binarizer"
   ]
  },
  {
   "cell_type": "code",
   "execution_count": 26,
   "id": "36a3572a",
   "metadata": {
    "execution": {
     "iopub.execute_input": "2025-09-02T17:07:35.872470Z",
     "iopub.status.busy": "2025-09-02T17:07:35.872182Z",
     "iopub.status.idle": "2025-09-02T17:07:35.877549Z",
     "shell.execute_reply": "2025-09-02T17:07:35.876696Z"
    },
    "id": "4nBwowhFk6Ga",
    "outputId": "60ebfad4-78e0-448b-c76e-588317542c5b",
    "papermill": {
     "duration": 0.033363,
     "end_time": "2025-09-02T17:07:35.879428",
     "exception": false,
     "start_time": "2025-09-02T17:07:35.846065",
     "status": "completed"
    },
    "tags": []
   },
   "outputs": [
    {
     "data": {
      "text/plain": [
       "['F', 'L']"
      ]
     },
     "execution_count": 26,
     "metadata": {},
     "output_type": "execute_result"
    }
   ],
   "source": [
    "df_tc.loc[13,'Type']"
   ]
  },
  {
   "cell_type": "code",
   "execution_count": 27,
   "id": "83d350e6",
   "metadata": {
    "execution": {
     "iopub.execute_input": "2025-09-02T17:07:35.934883Z",
     "iopub.status.busy": "2025-09-02T17:07:35.934392Z",
     "iopub.status.idle": "2025-09-02T17:07:35.989333Z",
     "shell.execute_reply": "2025-09-02T17:07:35.988667Z"
    },
    "id": "52Xv9SwGk6Ga",
    "papermill": {
     "duration": 0.082759,
     "end_time": "2025-09-02T17:07:35.990852",
     "exception": false,
     "start_time": "2025-09-02T17:07:35.908093",
     "status": "completed"
    },
    "tags": []
   },
   "outputs": [],
   "source": [
    "#need to extract the values from the list, in a way to pass it to the multilabelbinarizer\n",
    "for i in range(len(df_tc)):\n",
    "    x = df_tc.loc[i,'Type']\n",
    "    if type(x) == list:\n",
    "        df_tc.loc[i,'Type'] = \",\".join([x[0],x[1]])"
   ]
  },
  {
   "cell_type": "code",
   "execution_count": 28,
   "id": "409d8519",
   "metadata": {
    "execution": {
     "iopub.execute_input": "2025-09-02T17:07:36.046090Z",
     "iopub.status.busy": "2025-09-02T17:07:36.045506Z",
     "iopub.status.idle": "2025-09-02T17:07:36.051064Z",
     "shell.execute_reply": "2025-09-02T17:07:36.050055Z"
    },
    "id": "GUFaslypk6Ga",
    "outputId": "ed646f5c-1b9f-4156-ce95-390141113991",
    "papermill": {
     "duration": 0.035332,
     "end_time": "2025-09-02T17:07:36.052818",
     "exception": false,
     "start_time": "2025-09-02T17:07:36.017486",
     "status": "completed"
    },
    "tags": []
   },
   "outputs": [
    {
     "data": {
      "text/plain": [
       "'F,L'"
      ]
     },
     "execution_count": 28,
     "metadata": {},
     "output_type": "execute_result"
    }
   ],
   "source": [
    "df_tc.loc[13,'Type']"
   ]
  },
  {
   "cell_type": "code",
   "execution_count": 29,
   "id": "f663c311",
   "metadata": {
    "execution": {
     "iopub.execute_input": "2025-09-02T17:07:36.106034Z",
     "iopub.status.busy": "2025-09-02T17:07:36.105823Z",
     "iopub.status.idle": "2025-09-02T17:07:36.149085Z",
     "shell.execute_reply": "2025-09-02T17:07:36.148269Z"
    },
    "id": "V-x7k3ook6Gb",
    "outputId": "1f1a5814-2475-4096-e65e-53259ec294e0",
    "papermill": {
     "duration": 0.070931,
     "end_time": "2025-09-02T17:07:36.150667",
     "exception": false,
     "start_time": "2025-09-02T17:07:36.079736",
     "status": "completed"
    },
    "tags": []
   },
   "outputs": [
    {
     "data": {
      "text/html": [
       "<div>\n",
       "<style scoped>\n",
       "    .dataframe tbody tr th:only-of-type {\n",
       "        vertical-align: middle;\n",
       "    }\n",
       "\n",
       "    .dataframe tbody tr th {\n",
       "        vertical-align: top;\n",
       "    }\n",
       "\n",
       "    .dataframe thead th {\n",
       "        text-align: right;\n",
       "    }\n",
       "</style>\n",
       "<table border=\"1\" class=\"dataframe\">\n",
       "  <thead>\n",
       "    <tr style=\"text-align: right;\">\n",
       "      <th></th>\n",
       "      <th>Document</th>\n",
       "      <th>Name</th>\n",
       "      <th>Id</th>\n",
       "      <th>Chain</th>\n",
       "      <th>Num</th>\n",
       "      <th>Text</th>\n",
       "      <th>Type</th>\n",
       "      <th>SUP</th>\n",
       "      <th>SFF</th>\n",
       "      <th>ATT</th>\n",
       "      <th>INH</th>\n",
       "      <th>REPH</th>\n",
       "      <th>Scheme</th>\n",
       "      <th>FullChainID</th>\n",
       "      <th>Previous</th>\n",
       "      <th>F</th>\n",
       "      <th>L</th>\n",
       "    </tr>\n",
       "  </thead>\n",
       "  <tbody>\n",
       "    <tr>\n",
       "      <th>0</th>\n",
       "      <td>2013_40_VAT_OPAM_2_REM_MB_PS_AN</td>\n",
       "      <td>prem</td>\n",
       "      <td>A1</td>\n",
       "      <td>A</td>\n",
       "      <td>1</td>\n",
       "      <td>In via preliminare, il Collegio prende in cons...</td>\n",
       "      <td>F</td>\n",
       "      <td>NaN</td>\n",
       "      <td>NaN</td>\n",
       "      <td>NaN</td>\n",
       "      <td>NaN</td>\n",
       "      <td>NaN</td>\n",
       "      <td>NaN</td>\n",
       "      <td>2013_40_VAT_OPAM_2_REM_MB_PS_AN_A</td>\n",
       "      <td>In via preliminare, il Collegio prende in con...</td>\n",
       "      <td>1</td>\n",
       "      <td>0</td>\n",
       "    </tr>\n",
       "    <tr>\n",
       "      <th>1</th>\n",
       "      <td>2013_40_VAT_OPAM_2_REM_MB_PS_AN</td>\n",
       "      <td>prem</td>\n",
       "      <td>A2</td>\n",
       "      <td>A</td>\n",
       "      <td>2</td>\n",
       "      <td>Ai sensi dell'art. 14 del d.lgs.546/92, se l'o...</td>\n",
       "      <td>L</td>\n",
       "      <td>NaN</td>\n",
       "      <td>NaN</td>\n",
       "      <td>NaN</td>\n",
       "      <td>NaN</td>\n",
       "      <td>NaN</td>\n",
       "      <td>Rule</td>\n",
       "      <td>2013_40_VAT_OPAM_2_REM_MB_PS_AN_A</td>\n",
       "      <td>Ai sensi dell'art. 14 del d.lgs.546/92, se l'...</td>\n",
       "      <td>0</td>\n",
       "      <td>1</td>\n",
       "    </tr>\n",
       "    <tr>\n",
       "      <th>2</th>\n",
       "      <td>2013_40_VAT_OPAM_2_REM_MB_PS_AN</td>\n",
       "      <td>prem</td>\n",
       "      <td>A3</td>\n",
       "      <td>A</td>\n",
       "      <td>3</td>\n",
       "      <td>Se il ricorso non è stato    proposto da o nei...</td>\n",
       "      <td>L</td>\n",
       "      <td>NaN</td>\n",
       "      <td>NaN</td>\n",
       "      <td>NaN</td>\n",
       "      <td>NaN</td>\n",
       "      <td>NaN</td>\n",
       "      <td>Itpr</td>\n",
       "      <td>2013_40_VAT_OPAM_2_REM_MB_PS_AN_A</td>\n",
       "      <td>Se il ricorso non è stato\\n    proposto da o ...</td>\n",
       "      <td>0</td>\n",
       "      <td>1</td>\n",
       "    </tr>\n",
       "    <tr>\n",
       "      <th>3</th>\n",
       "      <td>2013_40_VAT_OPAM_2_REM_MB_PS_AN</td>\n",
       "      <td>prem</td>\n",
       "      <td>A4</td>\n",
       "      <td>A</td>\n",
       "      <td>4</td>\n",
       "      <td>Nel caso di specie solo la ILDS ha presentato ...</td>\n",
       "      <td>F</td>\n",
       "      <td>NaN</td>\n",
       "      <td>NaN</td>\n",
       "      <td>NaN</td>\n",
       "      <td>NaN</td>\n",
       "      <td>NaN</td>\n",
       "      <td>NaN</td>\n",
       "      <td>2013_40_VAT_OPAM_2_REM_MB_PS_AN_A</td>\n",
       "      <td>Nel caso di specie solo la ILDS ha presentato...</td>\n",
       "      <td>1</td>\n",
       "      <td>0</td>\n",
       "    </tr>\n",
       "    <tr>\n",
       "      <th>4</th>\n",
       "      <td>2013_40_VAT_OPAM_2_REM_MB_PS_AN</td>\n",
       "      <td>prem</td>\n",
       "      <td>A5</td>\n",
       "      <td>A</td>\n",
       "      <td>5</td>\n",
       "      <td>come    espressamente richiesto nel ricorso in...</td>\n",
       "      <td>F</td>\n",
       "      <td>NaN</td>\n",
       "      <td>NaN</td>\n",
       "      <td>NaN</td>\n",
       "      <td>NaN</td>\n",
       "      <td>NaN</td>\n",
       "      <td>NaN</td>\n",
       "      <td>2013_40_VAT_OPAM_2_REM_MB_PS_AN_A</td>\n",
       "      <td>come\\n    espressamente richiesto nel ricorso...</td>\n",
       "      <td>1</td>\n",
       "      <td>0</td>\n",
       "    </tr>\n",
       "    <tr>\n",
       "      <th>...</th>\n",
       "      <td>...</td>\n",
       "      <td>...</td>\n",
       "      <td>...</td>\n",
       "      <td>...</td>\n",
       "      <td>...</td>\n",
       "      <td>...</td>\n",
       "      <td>...</td>\n",
       "      <td>...</td>\n",
       "      <td>...</td>\n",
       "      <td>...</td>\n",
       "      <td>...</td>\n",
       "      <td>...</td>\n",
       "      <td>...</td>\n",
       "      <td>...</td>\n",
       "      <td>...</td>\n",
       "      <td>...</td>\n",
       "      <td>...</td>\n",
       "    </tr>\n",
       "    <tr>\n",
       "      <th>2894</th>\n",
       "      <td>2021_6075_VAT_OPAM_2_1_PS_AN</td>\n",
       "      <td>prem</td>\n",
       "      <td>C15</td>\n",
       "      <td>C</td>\n",
       "      <td>15</td>\n",
       "      <td>Sotto questo profilo i Compro Oro sono sottopo...</td>\n",
       "      <td>L</td>\n",
       "      <td>NaN</td>\n",
       "      <td>NaN</td>\n",
       "      <td>NaN</td>\n",
       "      <td>NaN</td>\n",
       "      <td>NaN</td>\n",
       "      <td>Rule</td>\n",
       "      <td>2021_6075_VAT_OPAM_2_1_PS_AN_C</td>\n",
       "      <td>Sotto questo profilo i Compro Oro sono sottopo...</td>\n",
       "      <td>0</td>\n",
       "      <td>1</td>\n",
       "    </tr>\n",
       "    <tr>\n",
       "      <th>2895</th>\n",
       "      <td>2021_6075_VAT_OPAM_2_1_PS_AN</td>\n",
       "      <td>prem</td>\n",
       "      <td>C16</td>\n",
       "      <td>C</td>\n",
       "      <td>16</td>\n",
       "      <td>Tale comunicazione ha luogo quando i destinata...</td>\n",
       "      <td>L</td>\n",
       "      <td>NaN</td>\n",
       "      <td>NaN</td>\n",
       "      <td>NaN</td>\n",
       "      <td>NaN</td>\n",
       "      <td>NaN</td>\n",
       "      <td>Rule</td>\n",
       "      <td>2021_6075_VAT_OPAM_2_1_PS_AN_C</td>\n",
       "      <td>Tale comunicazione ha luogo quando i destinata...</td>\n",
       "      <td>0</td>\n",
       "      <td>1</td>\n",
       "    </tr>\n",
       "    <tr>\n",
       "      <th>2896</th>\n",
       "      <td>2021_6075_VAT_OPAM_2_1_PS_AN</td>\n",
       "      <td>prem</td>\n",
       "      <td>C17</td>\n",
       "      <td>C</td>\n",
       "      <td>17</td>\n",
       "      <td>Il Ministro dell'interno, con decreto del 17 f...</td>\n",
       "      <td>L</td>\n",
       "      <td>NaN</td>\n",
       "      <td>NaN</td>\n",
       "      <td>NaN</td>\n",
       "      <td>NaN</td>\n",
       "      <td>NaN</td>\n",
       "      <td>Rule</td>\n",
       "      <td>2021_6075_VAT_OPAM_2_1_PS_AN_C</td>\n",
       "      <td>Il Ministro dell'interno, con decreto del 17 f...</td>\n",
       "      <td>0</td>\n",
       "      <td>1</td>\n",
       "    </tr>\n",
       "    <tr>\n",
       "      <th>2897</th>\n",
       "      <td>2021_6075_VAT_OPAM_2_1_PS_AN</td>\n",
       "      <td>prem</td>\n",
       "      <td>C18</td>\n",
       "      <td>C</td>\n",
       "      <td>18</td>\n",
       "      <td>Tra i soggetti destinatari del decreto sono ri...</td>\n",
       "      <td>L</td>\n",
       "      <td>NaN</td>\n",
       "      <td>NaN</td>\n",
       "      <td>NaN</td>\n",
       "      <td>NaN</td>\n",
       "      <td>NaN</td>\n",
       "      <td>[Class, Rule]</td>\n",
       "      <td>2021_6075_VAT_OPAM_2_1_PS_AN_C</td>\n",
       "      <td>Tra i soggetti destinatari del decreto sono ri...</td>\n",
       "      <td>0</td>\n",
       "      <td>1</td>\n",
       "    </tr>\n",
       "    <tr>\n",
       "      <th>2898</th>\n",
       "      <td>2021_6075_VAT_OPAM_2_1_PS_AN</td>\n",
       "      <td>prem</td>\n",
       "      <td>C19</td>\n",
       "      <td>C</td>\n",
       "      <td>19</td>\n",
       "      <td>In conclusione, per quanto fin qui esposto, i ...</td>\n",
       "      <td>L</td>\n",
       "      <td></td>\n",
       "      <td>NaN</td>\n",
       "      <td>NaN</td>\n",
       "      <td>NaN</td>\n",
       "      <td>NaN</td>\n",
       "      <td>Class</td>\n",
       "      <td>2021_6075_VAT_OPAM_2_1_PS_AN_C</td>\n",
       "      <td>In conclusione, per quanto fin qui esposto, i ...</td>\n",
       "      <td>0</td>\n",
       "      <td>1</td>\n",
       "    </tr>\n",
       "  </tbody>\n",
       "</table>\n",
       "<p>2899 rows × 17 columns</p>\n",
       "</div>"
      ],
      "text/plain": [
       "                             Document  Name   Id Chain Num  \\\n",
       "0     2013_40_VAT_OPAM_2_REM_MB_PS_AN  prem   A1     A   1   \n",
       "1     2013_40_VAT_OPAM_2_REM_MB_PS_AN  prem   A2     A   2   \n",
       "2     2013_40_VAT_OPAM_2_REM_MB_PS_AN  prem   A3     A   3   \n",
       "3     2013_40_VAT_OPAM_2_REM_MB_PS_AN  prem   A4     A   4   \n",
       "4     2013_40_VAT_OPAM_2_REM_MB_PS_AN  prem   A5     A   5   \n",
       "...                               ...   ...  ...   ...  ..   \n",
       "2894     2021_6075_VAT_OPAM_2_1_PS_AN  prem  C15     C  15   \n",
       "2895     2021_6075_VAT_OPAM_2_1_PS_AN  prem  C16     C  16   \n",
       "2896     2021_6075_VAT_OPAM_2_1_PS_AN  prem  C17     C  17   \n",
       "2897     2021_6075_VAT_OPAM_2_1_PS_AN  prem  C18     C  18   \n",
       "2898     2021_6075_VAT_OPAM_2_1_PS_AN  prem  C19     C  19   \n",
       "\n",
       "                                                   Text Type  SUP  SFF  ATT  \\\n",
       "0     In via preliminare, il Collegio prende in cons...    F  NaN  NaN  NaN   \n",
       "1     Ai sensi dell'art. 14 del d.lgs.546/92, se l'o...    L  NaN  NaN  NaN   \n",
       "2     Se il ricorso non è stato    proposto da o nei...    L  NaN  NaN  NaN   \n",
       "3     Nel caso di specie solo la ILDS ha presentato ...    F  NaN  NaN  NaN   \n",
       "4     come    espressamente richiesto nel ricorso in...    F  NaN  NaN  NaN   \n",
       "...                                                 ...  ...  ...  ...  ...   \n",
       "2894  Sotto questo profilo i Compro Oro sono sottopo...    L  NaN  NaN  NaN   \n",
       "2895  Tale comunicazione ha luogo quando i destinata...    L  NaN  NaN  NaN   \n",
       "2896  Il Ministro dell'interno, con decreto del 17 f...    L  NaN  NaN  NaN   \n",
       "2897  Tra i soggetti destinatari del decreto sono ri...    L  NaN  NaN  NaN   \n",
       "2898  In conclusione, per quanto fin qui esposto, i ...    L       NaN  NaN   \n",
       "\n",
       "      INH REPH         Scheme                        FullChainID  \\\n",
       "0     NaN  NaN            NaN  2013_40_VAT_OPAM_2_REM_MB_PS_AN_A   \n",
       "1     NaN  NaN           Rule  2013_40_VAT_OPAM_2_REM_MB_PS_AN_A   \n",
       "2     NaN  NaN           Itpr  2013_40_VAT_OPAM_2_REM_MB_PS_AN_A   \n",
       "3     NaN  NaN            NaN  2013_40_VAT_OPAM_2_REM_MB_PS_AN_A   \n",
       "4     NaN  NaN            NaN  2013_40_VAT_OPAM_2_REM_MB_PS_AN_A   \n",
       "...   ...  ...            ...                                ...   \n",
       "2894  NaN  NaN           Rule     2021_6075_VAT_OPAM_2_1_PS_AN_C   \n",
       "2895  NaN  NaN           Rule     2021_6075_VAT_OPAM_2_1_PS_AN_C   \n",
       "2896  NaN  NaN           Rule     2021_6075_VAT_OPAM_2_1_PS_AN_C   \n",
       "2897  NaN  NaN  [Class, Rule]     2021_6075_VAT_OPAM_2_1_PS_AN_C   \n",
       "2898  NaN  NaN          Class     2021_6075_VAT_OPAM_2_1_PS_AN_C   \n",
       "\n",
       "                                               Previous  F  L  \n",
       "0      In via preliminare, il Collegio prende in con...  1  0  \n",
       "1      Ai sensi dell'art. 14 del d.lgs.546/92, se l'...  0  1  \n",
       "2      Se il ricorso non è stato\\n    proposto da o ...  0  1  \n",
       "3      Nel caso di specie solo la ILDS ha presentato...  1  0  \n",
       "4      come\\n    espressamente richiesto nel ricorso...  1  0  \n",
       "...                                                 ... .. ..  \n",
       "2894  Sotto questo profilo i Compro Oro sono sottopo...  0  1  \n",
       "2895  Tale comunicazione ha luogo quando i destinata...  0  1  \n",
       "2896  Il Ministro dell'interno, con decreto del 17 f...  0  1  \n",
       "2897  Tra i soggetti destinatari del decreto sono ri...  0  1  \n",
       "2898  In conclusione, per quanto fin qui esposto, i ...  0  1  \n",
       "\n",
       "[2899 rows x 17 columns]"
      ]
     },
     "execution_count": 29,
     "metadata": {},
     "output_type": "execute_result"
    }
   ],
   "source": [
    "from sklearn.preprocessing import MultiLabelBinarizer\n",
    "mlb = MultiLabelBinarizer()\n",
    "mlb_result = mlb.fit_transform([str(df_tc.loc[i,'Type']).split(',') for i in range(len(df_tc))])\n",
    "df_tc_final = pd.concat([df_tc,pd.DataFrame(mlb_result,columns=list(mlb.classes_))],axis=1)\n",
    "df_tc_final"
   ]
  },
  {
   "cell_type": "code",
   "execution_count": 30,
   "id": "ce01965a",
   "metadata": {
    "execution": {
     "iopub.execute_input": "2025-09-02T17:07:36.203709Z",
     "iopub.status.busy": "2025-09-02T17:07:36.203429Z",
     "iopub.status.idle": "2025-09-02T17:07:36.212201Z",
     "shell.execute_reply": "2025-09-02T17:07:36.211451Z"
    },
    "id": "Tdr2EKPVk6Gb",
    "outputId": "cfed7ee6-e13e-4131-b096-3cbf43d8e819",
    "papermill": {
     "duration": 0.037178,
     "end_time": "2025-09-02T17:07:36.213800",
     "exception": false,
     "start_time": "2025-09-02T17:07:36.176622",
     "status": "completed"
    },
    "tags": []
   },
   "outputs": [
    {
     "data": {
      "text/html": [
       "<div>\n",
       "<style scoped>\n",
       "    .dataframe tbody tr th:only-of-type {\n",
       "        vertical-align: middle;\n",
       "    }\n",
       "\n",
       "    .dataframe tbody tr th {\n",
       "        vertical-align: top;\n",
       "    }\n",
       "\n",
       "    .dataframe thead th {\n",
       "        text-align: right;\n",
       "    }\n",
       "</style>\n",
       "<table border=\"1\" class=\"dataframe\">\n",
       "  <thead>\n",
       "    <tr style=\"text-align: right;\">\n",
       "      <th></th>\n",
       "      <th>F</th>\n",
       "      <th>L</th>\n",
       "    </tr>\n",
       "  </thead>\n",
       "  <tbody>\n",
       "    <tr>\n",
       "      <th>0</th>\n",
       "      <td>1</td>\n",
       "      <td>0</td>\n",
       "    </tr>\n",
       "    <tr>\n",
       "      <th>1</th>\n",
       "      <td>0</td>\n",
       "      <td>1</td>\n",
       "    </tr>\n",
       "    <tr>\n",
       "      <th>2</th>\n",
       "      <td>0</td>\n",
       "      <td>1</td>\n",
       "    </tr>\n",
       "    <tr>\n",
       "      <th>3</th>\n",
       "      <td>1</td>\n",
       "      <td>0</td>\n",
       "    </tr>\n",
       "    <tr>\n",
       "      <th>4</th>\n",
       "      <td>1</td>\n",
       "      <td>0</td>\n",
       "    </tr>\n",
       "    <tr>\n",
       "      <th>...</th>\n",
       "      <td>...</td>\n",
       "      <td>...</td>\n",
       "    </tr>\n",
       "    <tr>\n",
       "      <th>2894</th>\n",
       "      <td>0</td>\n",
       "      <td>1</td>\n",
       "    </tr>\n",
       "    <tr>\n",
       "      <th>2895</th>\n",
       "      <td>0</td>\n",
       "      <td>1</td>\n",
       "    </tr>\n",
       "    <tr>\n",
       "      <th>2896</th>\n",
       "      <td>0</td>\n",
       "      <td>1</td>\n",
       "    </tr>\n",
       "    <tr>\n",
       "      <th>2897</th>\n",
       "      <td>0</td>\n",
       "      <td>1</td>\n",
       "    </tr>\n",
       "    <tr>\n",
       "      <th>2898</th>\n",
       "      <td>0</td>\n",
       "      <td>1</td>\n",
       "    </tr>\n",
       "  </tbody>\n",
       "</table>\n",
       "<p>2899 rows × 2 columns</p>\n",
       "</div>"
      ],
      "text/plain": [
       "      F  L\n",
       "0     1  0\n",
       "1     0  1\n",
       "2     0  1\n",
       "3     1  0\n",
       "4     1  0\n",
       "...  .. ..\n",
       "2894  0  1\n",
       "2895  0  1\n",
       "2896  0  1\n",
       "2897  0  1\n",
       "2898  0  1\n",
       "\n",
       "[2899 rows x 2 columns]"
      ]
     },
     "execution_count": 30,
     "metadata": {},
     "output_type": "execute_result"
    }
   ],
   "source": [
    "df_tc_labels = df_tc_final[['F','L']]\n",
    "df_tc_labels"
   ]
  },
  {
   "cell_type": "markdown",
   "id": "41244f46",
   "metadata": {
    "id": "HTWItdZMk6Gb",
    "papermill": {
     "duration": 0.025872,
     "end_time": "2025-09-02T17:07:36.265543",
     "exception": false,
     "start_time": "2025-09-02T17:07:36.239671",
     "status": "completed"
    },
    "tags": []
   },
   "source": [
    "## Scheme classification multi-label-binarizer"
   ]
  },
  {
   "cell_type": "code",
   "execution_count": 31,
   "id": "293f2324",
   "metadata": {
    "execution": {
     "iopub.execute_input": "2025-09-02T17:07:36.318714Z",
     "iopub.status.busy": "2025-09-02T17:07:36.318412Z",
     "iopub.status.idle": "2025-09-02T17:07:36.551912Z",
     "shell.execute_reply": "2025-09-02T17:07:36.551080Z"
    },
    "id": "-0ruGf5xk6Gc",
    "outputId": "1042a3de-9c6d-40ae-8a0d-f1c993a9a721",
    "papermill": {
     "duration": 0.262225,
     "end_time": "2025-09-02T17:07:36.553650",
     "exception": false,
     "start_time": "2025-09-02T17:07:36.291425",
     "status": "completed"
    },
    "tags": []
   },
   "outputs": [
    {
     "data": {
      "text/html": [
       "<div>\n",
       "<style scoped>\n",
       "    .dataframe tbody tr th:only-of-type {\n",
       "        vertical-align: middle;\n",
       "    }\n",
       "\n",
       "    .dataframe tbody tr th {\n",
       "        vertical-align: top;\n",
       "    }\n",
       "\n",
       "    .dataframe thead th {\n",
       "        text-align: right;\n",
       "    }\n",
       "</style>\n",
       "<table border=\"1\" class=\"dataframe\">\n",
       "  <thead>\n",
       "    <tr style=\"text-align: right;\">\n",
       "      <th></th>\n",
       "      <th>Document</th>\n",
       "      <th>Name</th>\n",
       "      <th>Id</th>\n",
       "      <th>Chain</th>\n",
       "      <th>Num</th>\n",
       "      <th>Text</th>\n",
       "      <th>Type</th>\n",
       "      <th>SUP</th>\n",
       "      <th>SFF</th>\n",
       "      <th>ATT</th>\n",
       "      <th>INH</th>\n",
       "      <th>REPH</th>\n",
       "      <th>Scheme</th>\n",
       "      <th>FullChainID</th>\n",
       "      <th>Previous</th>\n",
       "      <th>Scheme2</th>\n",
       "    </tr>\n",
       "  </thead>\n",
       "  <tbody>\n",
       "    <tr>\n",
       "      <th>0</th>\n",
       "      <td>2013_40_VAT_OPAM_2_REM_MB_PS_AN</td>\n",
       "      <td>prem</td>\n",
       "      <td>A2</td>\n",
       "      <td>A</td>\n",
       "      <td>2</td>\n",
       "      <td>Ai sensi dell'art. 14 del d.lgs.546/92, se l'o...</td>\n",
       "      <td>L</td>\n",
       "      <td>NaN</td>\n",
       "      <td>NaN</td>\n",
       "      <td>NaN</td>\n",
       "      <td>NaN</td>\n",
       "      <td>NaN</td>\n",
       "      <td>Rule</td>\n",
       "      <td>2013_40_VAT_OPAM_2_REM_MB_PS_AN_A</td>\n",
       "      <td>Ai sensi dell'art. 14 del d.lgs.546/92, se l'...</td>\n",
       "      <td>Rule</td>\n",
       "    </tr>\n",
       "    <tr>\n",
       "      <th>1</th>\n",
       "      <td>2013_40_VAT_OPAM_2_REM_MB_PS_AN</td>\n",
       "      <td>prem</td>\n",
       "      <td>A3</td>\n",
       "      <td>A</td>\n",
       "      <td>3</td>\n",
       "      <td>Se il ricorso non è stato proposto da o nei co...</td>\n",
       "      <td>L</td>\n",
       "      <td>NaN</td>\n",
       "      <td>NaN</td>\n",
       "      <td>NaN</td>\n",
       "      <td>NaN</td>\n",
       "      <td>NaN</td>\n",
       "      <td>Itpr</td>\n",
       "      <td>2013_40_VAT_OPAM_2_REM_MB_PS_AN_A</td>\n",
       "      <td>Se il ricorso non è stato\\n    proposto da o ...</td>\n",
       "      <td>Itpr</td>\n",
       "    </tr>\n",
       "    <tr>\n",
       "      <th>2</th>\n",
       "      <td>2018_847_VAT_OP_2_-1_MB_AF_AN</td>\n",
       "      <td>prem</td>\n",
       "      <td>A1</td>\n",
       "      <td>A</td>\n",
       "      <td>1</td>\n",
       "      <td>Secondo condivisa e costante giurisprudenza (C...</td>\n",
       "      <td>L</td>\n",
       "      <td>NaN</td>\n",
       "      <td>NaN</td>\n",
       "      <td>NaN</td>\n",
       "      <td>NaN</td>\n",
       "      <td>NaN</td>\n",
       "      <td>Rule</td>\n",
       "      <td>2018_847_VAT_OP_2_-1_MB_AF_AN_A</td>\n",
       "      <td>Secondo condivisa e costante giurisprudenza (C...</td>\n",
       "      <td>Rule</td>\n",
       "    </tr>\n",
       "    <tr>\n",
       "      <th>3</th>\n",
       "      <td>2018_847_VAT_OP_2_-1_MB_AF_AN</td>\n",
       "      <td>prem</td>\n",
       "      <td>A2</td>\n",
       "      <td>A</td>\n",
       "      <td>2</td>\n",
       "      <td>Tuttavia, nel caso qui in esame, la Comm/ne no...</td>\n",
       "      <td>L</td>\n",
       "      <td>[A3, A4]</td>\n",
       "      <td>NaN</td>\n",
       "      <td>NaN</td>\n",
       "      <td>NaN</td>\n",
       "      <td>NaN</td>\n",
       "      <td>Itpr</td>\n",
       "      <td>2018_847_VAT_OP_2_-1_MB_AF_AN_A</td>\n",
       "      <td>Tuttavia, nel caso qui in esame, la Comm/ne no...</td>\n",
       "      <td>Itpr</td>\n",
       "    </tr>\n",
       "    <tr>\n",
       "      <th>4</th>\n",
       "      <td>2018_847_VAT_OP_2_-1_MB_AF_AN</td>\n",
       "      <td>prem</td>\n",
       "      <td>A3</td>\n",
       "      <td>A</td>\n",
       "      <td>3</td>\n",
       "      <td>A tal proposito si ricorda che la Corte cost. ...</td>\n",
       "      <td>L</td>\n",
       "      <td>NaN</td>\n",
       "      <td>NaN</td>\n",
       "      <td>NaN</td>\n",
       "      <td>NaN</td>\n",
       "      <td>NaN</td>\n",
       "      <td>Prec</td>\n",
       "      <td>2018_847_VAT_OP_2_-1_MB_AF_AN_A</td>\n",
       "      <td>A tal proposito si ricorda che la Corte cost. ...</td>\n",
       "      <td>Prec</td>\n",
       "    </tr>\n",
       "    <tr>\n",
       "      <th>...</th>\n",
       "      <td>...</td>\n",
       "      <td>...</td>\n",
       "      <td>...</td>\n",
       "      <td>...</td>\n",
       "      <td>...</td>\n",
       "      <td>...</td>\n",
       "      <td>...</td>\n",
       "      <td>...</td>\n",
       "      <td>...</td>\n",
       "      <td>...</td>\n",
       "      <td>...</td>\n",
       "      <td>...</td>\n",
       "      <td>...</td>\n",
       "      <td>...</td>\n",
       "      <td>...</td>\n",
       "      <td>...</td>\n",
       "    </tr>\n",
       "    <tr>\n",
       "      <th>1306</th>\n",
       "      <td>2021_6075_VAT_OPAM_2_1_PS_AN</td>\n",
       "      <td>prem</td>\n",
       "      <td>C15</td>\n",
       "      <td>C</td>\n",
       "      <td>15</td>\n",
       "      <td>Sotto questo profilo i Compro Oro sono sottopo...</td>\n",
       "      <td>L</td>\n",
       "      <td>NaN</td>\n",
       "      <td>NaN</td>\n",
       "      <td>NaN</td>\n",
       "      <td>NaN</td>\n",
       "      <td>NaN</td>\n",
       "      <td>Rule</td>\n",
       "      <td>2021_6075_VAT_OPAM_2_1_PS_AN_C</td>\n",
       "      <td>Sotto questo profilo i Compro Oro sono sottopo...</td>\n",
       "      <td>Rule</td>\n",
       "    </tr>\n",
       "    <tr>\n",
       "      <th>1307</th>\n",
       "      <td>2021_6075_VAT_OPAM_2_1_PS_AN</td>\n",
       "      <td>prem</td>\n",
       "      <td>C16</td>\n",
       "      <td>C</td>\n",
       "      <td>16</td>\n",
       "      <td>Tale comunicazione ha luogo quando i destinata...</td>\n",
       "      <td>L</td>\n",
       "      <td>NaN</td>\n",
       "      <td>NaN</td>\n",
       "      <td>NaN</td>\n",
       "      <td>NaN</td>\n",
       "      <td>NaN</td>\n",
       "      <td>Rule</td>\n",
       "      <td>2021_6075_VAT_OPAM_2_1_PS_AN_C</td>\n",
       "      <td>Tale comunicazione ha luogo quando i destinata...</td>\n",
       "      <td>Rule</td>\n",
       "    </tr>\n",
       "    <tr>\n",
       "      <th>1308</th>\n",
       "      <td>2021_6075_VAT_OPAM_2_1_PS_AN</td>\n",
       "      <td>prem</td>\n",
       "      <td>C17</td>\n",
       "      <td>C</td>\n",
       "      <td>17</td>\n",
       "      <td>Il Ministro dell'interno, con decreto del 17 f...</td>\n",
       "      <td>L</td>\n",
       "      <td>NaN</td>\n",
       "      <td>NaN</td>\n",
       "      <td>NaN</td>\n",
       "      <td>NaN</td>\n",
       "      <td>NaN</td>\n",
       "      <td>Rule</td>\n",
       "      <td>2021_6075_VAT_OPAM_2_1_PS_AN_C</td>\n",
       "      <td>Il Ministro dell'interno, con decreto del 17 f...</td>\n",
       "      <td>Rule</td>\n",
       "    </tr>\n",
       "    <tr>\n",
       "      <th>1309</th>\n",
       "      <td>2021_6075_VAT_OPAM_2_1_PS_AN</td>\n",
       "      <td>prem</td>\n",
       "      <td>C18</td>\n",
       "      <td>C</td>\n",
       "      <td>18</td>\n",
       "      <td>Tra i soggetti destinatari del decreto sono ri...</td>\n",
       "      <td>L</td>\n",
       "      <td>NaN</td>\n",
       "      <td>NaN</td>\n",
       "      <td>NaN</td>\n",
       "      <td>NaN</td>\n",
       "      <td>NaN</td>\n",
       "      <td>[Class, Rule]</td>\n",
       "      <td>2021_6075_VAT_OPAM_2_1_PS_AN_C</td>\n",
       "      <td>Tra i soggetti destinatari del decreto sono ri...</td>\n",
       "      <td>Class,Rule</td>\n",
       "    </tr>\n",
       "    <tr>\n",
       "      <th>1310</th>\n",
       "      <td>2021_6075_VAT_OPAM_2_1_PS_AN</td>\n",
       "      <td>prem</td>\n",
       "      <td>C19</td>\n",
       "      <td>C</td>\n",
       "      <td>19</td>\n",
       "      <td>In conclusione, per quanto fin qui esposto, i ...</td>\n",
       "      <td>L</td>\n",
       "      <td></td>\n",
       "      <td>NaN</td>\n",
       "      <td>NaN</td>\n",
       "      <td>NaN</td>\n",
       "      <td>NaN</td>\n",
       "      <td>Class</td>\n",
       "      <td>2021_6075_VAT_OPAM_2_1_PS_AN_C</td>\n",
       "      <td>In conclusione, per quanto fin qui esposto, i ...</td>\n",
       "      <td>Class</td>\n",
       "    </tr>\n",
       "  </tbody>\n",
       "</table>\n",
       "<p>1311 rows × 16 columns</p>\n",
       "</div>"
      ],
      "text/plain": [
       "                             Document  Name   Id Chain Num  \\\n",
       "0     2013_40_VAT_OPAM_2_REM_MB_PS_AN  prem   A2     A   2   \n",
       "1     2013_40_VAT_OPAM_2_REM_MB_PS_AN  prem   A3     A   3   \n",
       "2       2018_847_VAT_OP_2_-1_MB_AF_AN  prem   A1     A   1   \n",
       "3       2018_847_VAT_OP_2_-1_MB_AF_AN  prem   A2     A   2   \n",
       "4       2018_847_VAT_OP_2_-1_MB_AF_AN  prem   A3     A   3   \n",
       "...                               ...   ...  ...   ...  ..   \n",
       "1306     2021_6075_VAT_OPAM_2_1_PS_AN  prem  C15     C  15   \n",
       "1307     2021_6075_VAT_OPAM_2_1_PS_AN  prem  C16     C  16   \n",
       "1308     2021_6075_VAT_OPAM_2_1_PS_AN  prem  C17     C  17   \n",
       "1309     2021_6075_VAT_OPAM_2_1_PS_AN  prem  C18     C  18   \n",
       "1310     2021_6075_VAT_OPAM_2_1_PS_AN  prem  C19     C  19   \n",
       "\n",
       "                                                   Text Type       SUP  SFF  \\\n",
       "0     Ai sensi dell'art. 14 del d.lgs.546/92, se l'o...    L       NaN  NaN   \n",
       "1     Se il ricorso non è stato proposto da o nei co...    L       NaN  NaN   \n",
       "2     Secondo condivisa e costante giurisprudenza (C...    L       NaN  NaN   \n",
       "3     Tuttavia, nel caso qui in esame, la Comm/ne no...    L  [A3, A4]  NaN   \n",
       "4     A tal proposito si ricorda che la Corte cost. ...    L       NaN  NaN   \n",
       "...                                                 ...  ...       ...  ...   \n",
       "1306  Sotto questo profilo i Compro Oro sono sottopo...    L       NaN  NaN   \n",
       "1307  Tale comunicazione ha luogo quando i destinata...    L       NaN  NaN   \n",
       "1308  Il Ministro dell'interno, con decreto del 17 f...    L       NaN  NaN   \n",
       "1309  Tra i soggetti destinatari del decreto sono ri...    L       NaN  NaN   \n",
       "1310  In conclusione, per quanto fin qui esposto, i ...    L            NaN   \n",
       "\n",
       "      ATT  INH REPH         Scheme                        FullChainID  \\\n",
       "0     NaN  NaN  NaN           Rule  2013_40_VAT_OPAM_2_REM_MB_PS_AN_A   \n",
       "1     NaN  NaN  NaN           Itpr  2013_40_VAT_OPAM_2_REM_MB_PS_AN_A   \n",
       "2     NaN  NaN  NaN           Rule    2018_847_VAT_OP_2_-1_MB_AF_AN_A   \n",
       "3     NaN  NaN  NaN           Itpr    2018_847_VAT_OP_2_-1_MB_AF_AN_A   \n",
       "4     NaN  NaN  NaN           Prec    2018_847_VAT_OP_2_-1_MB_AF_AN_A   \n",
       "...   ...  ...  ...            ...                                ...   \n",
       "1306  NaN  NaN  NaN           Rule     2021_6075_VAT_OPAM_2_1_PS_AN_C   \n",
       "1307  NaN  NaN  NaN           Rule     2021_6075_VAT_OPAM_2_1_PS_AN_C   \n",
       "1308  NaN  NaN  NaN           Rule     2021_6075_VAT_OPAM_2_1_PS_AN_C   \n",
       "1309  NaN  NaN  NaN  [Class, Rule]     2021_6075_VAT_OPAM_2_1_PS_AN_C   \n",
       "1310  NaN  NaN  NaN          Class     2021_6075_VAT_OPAM_2_1_PS_AN_C   \n",
       "\n",
       "                                               Previous     Scheme2  \n",
       "0      Ai sensi dell'art. 14 del d.lgs.546/92, se l'...        Rule  \n",
       "1      Se il ricorso non è stato\\n    proposto da o ...        Itpr  \n",
       "2     Secondo condivisa e costante giurisprudenza (C...        Rule  \n",
       "3     Tuttavia, nel caso qui in esame, la Comm/ne no...        Itpr  \n",
       "4     A tal proposito si ricorda che la Corte cost. ...        Prec  \n",
       "...                                                 ...         ...  \n",
       "1306  Sotto questo profilo i Compro Oro sono sottopo...        Rule  \n",
       "1307  Tale comunicazione ha luogo quando i destinata...        Rule  \n",
       "1308  Il Ministro dell'interno, con decreto del 17 f...        Rule  \n",
       "1309  Tra i soggetti destinatari del decreto sono ri...  Class,Rule  \n",
       "1310  In conclusione, per quanto fin qui esposto, i ...       Class  \n",
       "\n",
       "[1311 rows x 16 columns]"
      ]
     },
     "execution_count": 31,
     "metadata": {},
     "output_type": "execute_result"
    }
   ],
   "source": [
    "#need to extract the values from the list, so convert to string, in order to pass them to the multilabelbinarizer\n",
    "\n",
    "def clean_list(df_sc, column_name):\n",
    "    for i in range(len(df_sc)):\n",
    "        x = df_sc.loc[i,column_name]\n",
    "        if type(x) == list:\n",
    "            df_sc.loc[i,str(column_name) + \"2\"] = \",\".join(x)\n",
    "        else:\n",
    "            try:\n",
    "                df_sc.loc[i,str(column_name) + \"2\"] = x\n",
    "            except:\n",
    "                print(i,x)\n",
    "    return df_sc\n",
    "df_sc = clean_list(df_sc,'Scheme')\n",
    "df_sc"
   ]
  },
  {
   "cell_type": "code",
   "execution_count": 32,
   "id": "51f86a98",
   "metadata": {
    "execution": {
     "iopub.execute_input": "2025-09-02T17:07:36.608139Z",
     "iopub.status.busy": "2025-09-02T17:07:36.607497Z",
     "iopub.status.idle": "2025-09-02T17:07:36.620277Z",
     "shell.execute_reply": "2025-09-02T17:07:36.619538Z"
    },
    "id": "DgwSjZhq5GsX",
    "outputId": "5297f053-d8fa-4299-da94-10784dcd7279",
    "papermill": {
     "duration": 0.0414,
     "end_time": "2025-09-02T17:07:36.621933",
     "exception": false,
     "start_time": "2025-09-02T17:07:36.580533",
     "status": "completed"
    },
    "tags": []
   },
   "outputs": [
    {
     "data": {
      "text/plain": [
       "['Lit', 'Abs', 'Psy', 'Acon']"
      ]
     },
     "execution_count": 32,
     "metadata": {},
     "output_type": "execute_result"
    }
   ],
   "source": [
    "a = df_sc.explode(['Scheme'])\n",
    "sc_label_count = a['Scheme'].value_counts()\n",
    "remove_c = sc_label_count[sc_label_count < 15]\n",
    "list(remove_c.index)\n"
   ]
  },
  {
   "cell_type": "code",
   "execution_count": 33,
   "id": "9b94266e",
   "metadata": {
    "execution": {
     "iopub.execute_input": "2025-09-02T17:07:36.676209Z",
     "iopub.status.busy": "2025-09-02T17:07:36.675979Z",
     "iopub.status.idle": "2025-09-02T17:07:36.707101Z",
     "shell.execute_reply": "2025-09-02T17:07:36.706372Z"
    },
    "id": "Wj-tkw6Bk6Gc",
    "outputId": "e97aab24-813d-4510-a35a-b21620ddd198",
    "papermill": {
     "duration": 0.060046,
     "end_time": "2025-09-02T17:07:36.708933",
     "exception": false,
     "start_time": "2025-09-02T17:07:36.648887",
     "status": "completed"
    },
    "tags": []
   },
   "outputs": [
    {
     "data": {
      "text/html": [
       "<div>\n",
       "<style scoped>\n",
       "    .dataframe tbody tr th:only-of-type {\n",
       "        vertical-align: middle;\n",
       "    }\n",
       "\n",
       "    .dataframe tbody tr th {\n",
       "        vertical-align: top;\n",
       "    }\n",
       "\n",
       "    .dataframe thead th {\n",
       "        text-align: right;\n",
       "    }\n",
       "</style>\n",
       "<table border=\"1\" class=\"dataframe\">\n",
       "  <thead>\n",
       "    <tr style=\"text-align: right;\">\n",
       "      <th></th>\n",
       "      <th>Document</th>\n",
       "      <th>Name</th>\n",
       "      <th>Id</th>\n",
       "      <th>Chain</th>\n",
       "      <th>Num</th>\n",
       "      <th>Text</th>\n",
       "      <th>Type</th>\n",
       "      <th>SUP</th>\n",
       "      <th>SFF</th>\n",
       "      <th>ATT</th>\n",
       "      <th>...</th>\n",
       "      <th>Aut</th>\n",
       "      <th>Class</th>\n",
       "      <th>Itpr</th>\n",
       "      <th>Lit</th>\n",
       "      <th>Prec</th>\n",
       "      <th>Princ</th>\n",
       "      <th>Psy</th>\n",
       "      <th>Rule</th>\n",
       "      <th>Syst</th>\n",
       "      <th>Tele</th>\n",
       "    </tr>\n",
       "  </thead>\n",
       "  <tbody>\n",
       "    <tr>\n",
       "      <th>0</th>\n",
       "      <td>2013_40_VAT_OPAM_2_REM_MB_PS_AN</td>\n",
       "      <td>prem</td>\n",
       "      <td>A2</td>\n",
       "      <td>A</td>\n",
       "      <td>2</td>\n",
       "      <td>Ai sensi dell'art. 14 del d.lgs.546/92, se l'o...</td>\n",
       "      <td>L</td>\n",
       "      <td>NaN</td>\n",
       "      <td>NaN</td>\n",
       "      <td>NaN</td>\n",
       "      <td>...</td>\n",
       "      <td>0</td>\n",
       "      <td>0</td>\n",
       "      <td>0</td>\n",
       "      <td>0</td>\n",
       "      <td>0</td>\n",
       "      <td>0</td>\n",
       "      <td>0</td>\n",
       "      <td>1</td>\n",
       "      <td>0</td>\n",
       "      <td>0</td>\n",
       "    </tr>\n",
       "    <tr>\n",
       "      <th>1</th>\n",
       "      <td>2013_40_VAT_OPAM_2_REM_MB_PS_AN</td>\n",
       "      <td>prem</td>\n",
       "      <td>A3</td>\n",
       "      <td>A</td>\n",
       "      <td>3</td>\n",
       "      <td>Se il ricorso non è stato proposto da o nei co...</td>\n",
       "      <td>L</td>\n",
       "      <td>NaN</td>\n",
       "      <td>NaN</td>\n",
       "      <td>NaN</td>\n",
       "      <td>...</td>\n",
       "      <td>0</td>\n",
       "      <td>0</td>\n",
       "      <td>1</td>\n",
       "      <td>0</td>\n",
       "      <td>0</td>\n",
       "      <td>0</td>\n",
       "      <td>0</td>\n",
       "      <td>0</td>\n",
       "      <td>0</td>\n",
       "      <td>0</td>\n",
       "    </tr>\n",
       "    <tr>\n",
       "      <th>2</th>\n",
       "      <td>2018_847_VAT_OP_2_-1_MB_AF_AN</td>\n",
       "      <td>prem</td>\n",
       "      <td>A1</td>\n",
       "      <td>A</td>\n",
       "      <td>1</td>\n",
       "      <td>Secondo condivisa e costante giurisprudenza (C...</td>\n",
       "      <td>L</td>\n",
       "      <td>NaN</td>\n",
       "      <td>NaN</td>\n",
       "      <td>NaN</td>\n",
       "      <td>...</td>\n",
       "      <td>0</td>\n",
       "      <td>0</td>\n",
       "      <td>0</td>\n",
       "      <td>0</td>\n",
       "      <td>0</td>\n",
       "      <td>0</td>\n",
       "      <td>0</td>\n",
       "      <td>1</td>\n",
       "      <td>0</td>\n",
       "      <td>0</td>\n",
       "    </tr>\n",
       "    <tr>\n",
       "      <th>3</th>\n",
       "      <td>2018_847_VAT_OP_2_-1_MB_AF_AN</td>\n",
       "      <td>prem</td>\n",
       "      <td>A2</td>\n",
       "      <td>A</td>\n",
       "      <td>2</td>\n",
       "      <td>Tuttavia, nel caso qui in esame, la Comm/ne no...</td>\n",
       "      <td>L</td>\n",
       "      <td>[A3, A4]</td>\n",
       "      <td>NaN</td>\n",
       "      <td>NaN</td>\n",
       "      <td>...</td>\n",
       "      <td>0</td>\n",
       "      <td>0</td>\n",
       "      <td>1</td>\n",
       "      <td>0</td>\n",
       "      <td>0</td>\n",
       "      <td>0</td>\n",
       "      <td>0</td>\n",
       "      <td>0</td>\n",
       "      <td>0</td>\n",
       "      <td>0</td>\n",
       "    </tr>\n",
       "    <tr>\n",
       "      <th>4</th>\n",
       "      <td>2018_847_VAT_OP_2_-1_MB_AF_AN</td>\n",
       "      <td>prem</td>\n",
       "      <td>A3</td>\n",
       "      <td>A</td>\n",
       "      <td>3</td>\n",
       "      <td>A tal proposito si ricorda che la Corte cost. ...</td>\n",
       "      <td>L</td>\n",
       "      <td>NaN</td>\n",
       "      <td>NaN</td>\n",
       "      <td>NaN</td>\n",
       "      <td>...</td>\n",
       "      <td>0</td>\n",
       "      <td>0</td>\n",
       "      <td>0</td>\n",
       "      <td>0</td>\n",
       "      <td>1</td>\n",
       "      <td>0</td>\n",
       "      <td>0</td>\n",
       "      <td>0</td>\n",
       "      <td>0</td>\n",
       "      <td>0</td>\n",
       "    </tr>\n",
       "    <tr>\n",
       "      <th>...</th>\n",
       "      <td>...</td>\n",
       "      <td>...</td>\n",
       "      <td>...</td>\n",
       "      <td>...</td>\n",
       "      <td>...</td>\n",
       "      <td>...</td>\n",
       "      <td>...</td>\n",
       "      <td>...</td>\n",
       "      <td>...</td>\n",
       "      <td>...</td>\n",
       "      <td>...</td>\n",
       "      <td>...</td>\n",
       "      <td>...</td>\n",
       "      <td>...</td>\n",
       "      <td>...</td>\n",
       "      <td>...</td>\n",
       "      <td>...</td>\n",
       "      <td>...</td>\n",
       "      <td>...</td>\n",
       "      <td>...</td>\n",
       "      <td>...</td>\n",
       "    </tr>\n",
       "    <tr>\n",
       "      <th>1306</th>\n",
       "      <td>2021_6075_VAT_OPAM_2_1_PS_AN</td>\n",
       "      <td>prem</td>\n",
       "      <td>C15</td>\n",
       "      <td>C</td>\n",
       "      <td>15</td>\n",
       "      <td>Sotto questo profilo i Compro Oro sono sottopo...</td>\n",
       "      <td>L</td>\n",
       "      <td>NaN</td>\n",
       "      <td>NaN</td>\n",
       "      <td>NaN</td>\n",
       "      <td>...</td>\n",
       "      <td>0</td>\n",
       "      <td>0</td>\n",
       "      <td>0</td>\n",
       "      <td>0</td>\n",
       "      <td>0</td>\n",
       "      <td>0</td>\n",
       "      <td>0</td>\n",
       "      <td>1</td>\n",
       "      <td>0</td>\n",
       "      <td>0</td>\n",
       "    </tr>\n",
       "    <tr>\n",
       "      <th>1307</th>\n",
       "      <td>2021_6075_VAT_OPAM_2_1_PS_AN</td>\n",
       "      <td>prem</td>\n",
       "      <td>C16</td>\n",
       "      <td>C</td>\n",
       "      <td>16</td>\n",
       "      <td>Tale comunicazione ha luogo quando i destinata...</td>\n",
       "      <td>L</td>\n",
       "      <td>NaN</td>\n",
       "      <td>NaN</td>\n",
       "      <td>NaN</td>\n",
       "      <td>...</td>\n",
       "      <td>0</td>\n",
       "      <td>0</td>\n",
       "      <td>0</td>\n",
       "      <td>0</td>\n",
       "      <td>0</td>\n",
       "      <td>0</td>\n",
       "      <td>0</td>\n",
       "      <td>1</td>\n",
       "      <td>0</td>\n",
       "      <td>0</td>\n",
       "    </tr>\n",
       "    <tr>\n",
       "      <th>1308</th>\n",
       "      <td>2021_6075_VAT_OPAM_2_1_PS_AN</td>\n",
       "      <td>prem</td>\n",
       "      <td>C17</td>\n",
       "      <td>C</td>\n",
       "      <td>17</td>\n",
       "      <td>Il Ministro dell'interno, con decreto del 17 f...</td>\n",
       "      <td>L</td>\n",
       "      <td>NaN</td>\n",
       "      <td>NaN</td>\n",
       "      <td>NaN</td>\n",
       "      <td>...</td>\n",
       "      <td>0</td>\n",
       "      <td>0</td>\n",
       "      <td>0</td>\n",
       "      <td>0</td>\n",
       "      <td>0</td>\n",
       "      <td>0</td>\n",
       "      <td>0</td>\n",
       "      <td>1</td>\n",
       "      <td>0</td>\n",
       "      <td>0</td>\n",
       "    </tr>\n",
       "    <tr>\n",
       "      <th>1309</th>\n",
       "      <td>2021_6075_VAT_OPAM_2_1_PS_AN</td>\n",
       "      <td>prem</td>\n",
       "      <td>C18</td>\n",
       "      <td>C</td>\n",
       "      <td>18</td>\n",
       "      <td>Tra i soggetti destinatari del decreto sono ri...</td>\n",
       "      <td>L</td>\n",
       "      <td>NaN</td>\n",
       "      <td>NaN</td>\n",
       "      <td>NaN</td>\n",
       "      <td>...</td>\n",
       "      <td>0</td>\n",
       "      <td>1</td>\n",
       "      <td>0</td>\n",
       "      <td>0</td>\n",
       "      <td>0</td>\n",
       "      <td>0</td>\n",
       "      <td>0</td>\n",
       "      <td>1</td>\n",
       "      <td>0</td>\n",
       "      <td>0</td>\n",
       "    </tr>\n",
       "    <tr>\n",
       "      <th>1310</th>\n",
       "      <td>2021_6075_VAT_OPAM_2_1_PS_AN</td>\n",
       "      <td>prem</td>\n",
       "      <td>C19</td>\n",
       "      <td>C</td>\n",
       "      <td>19</td>\n",
       "      <td>In conclusione, per quanto fin qui esposto, i ...</td>\n",
       "      <td>L</td>\n",
       "      <td></td>\n",
       "      <td>NaN</td>\n",
       "      <td>NaN</td>\n",
       "      <td>...</td>\n",
       "      <td>0</td>\n",
       "      <td>1</td>\n",
       "      <td>0</td>\n",
       "      <td>0</td>\n",
       "      <td>0</td>\n",
       "      <td>0</td>\n",
       "      <td>0</td>\n",
       "      <td>0</td>\n",
       "      <td>0</td>\n",
       "      <td>0</td>\n",
       "    </tr>\n",
       "  </tbody>\n",
       "</table>\n",
       "<p>1311 rows × 28 columns</p>\n",
       "</div>"
      ],
      "text/plain": [
       "                             Document  Name   Id Chain Num  \\\n",
       "0     2013_40_VAT_OPAM_2_REM_MB_PS_AN  prem   A2     A   2   \n",
       "1     2013_40_VAT_OPAM_2_REM_MB_PS_AN  prem   A3     A   3   \n",
       "2       2018_847_VAT_OP_2_-1_MB_AF_AN  prem   A1     A   1   \n",
       "3       2018_847_VAT_OP_2_-1_MB_AF_AN  prem   A2     A   2   \n",
       "4       2018_847_VAT_OP_2_-1_MB_AF_AN  prem   A3     A   3   \n",
       "...                               ...   ...  ...   ...  ..   \n",
       "1306     2021_6075_VAT_OPAM_2_1_PS_AN  prem  C15     C  15   \n",
       "1307     2021_6075_VAT_OPAM_2_1_PS_AN  prem  C16     C  16   \n",
       "1308     2021_6075_VAT_OPAM_2_1_PS_AN  prem  C17     C  17   \n",
       "1309     2021_6075_VAT_OPAM_2_1_PS_AN  prem  C18     C  18   \n",
       "1310     2021_6075_VAT_OPAM_2_1_PS_AN  prem  C19     C  19   \n",
       "\n",
       "                                                   Text Type       SUP  SFF  \\\n",
       "0     Ai sensi dell'art. 14 del d.lgs.546/92, se l'o...    L       NaN  NaN   \n",
       "1     Se il ricorso non è stato proposto da o nei co...    L       NaN  NaN   \n",
       "2     Secondo condivisa e costante giurisprudenza (C...    L       NaN  NaN   \n",
       "3     Tuttavia, nel caso qui in esame, la Comm/ne no...    L  [A3, A4]  NaN   \n",
       "4     A tal proposito si ricorda che la Corte cost. ...    L       NaN  NaN   \n",
       "...                                                 ...  ...       ...  ...   \n",
       "1306  Sotto questo profilo i Compro Oro sono sottopo...    L       NaN  NaN   \n",
       "1307  Tale comunicazione ha luogo quando i destinata...    L       NaN  NaN   \n",
       "1308  Il Ministro dell'interno, con decreto del 17 f...    L       NaN  NaN   \n",
       "1309  Tra i soggetti destinatari del decreto sono ri...    L       NaN  NaN   \n",
       "1310  In conclusione, per quanto fin qui esposto, i ...    L            NaN   \n",
       "\n",
       "      ATT  ... Aut Class Itpr Lit Prec Princ  Psy  Rule  Syst  Tele  \n",
       "0     NaN  ...   0     0    0   0    0     0    0     1     0     0  \n",
       "1     NaN  ...   0     0    1   0    0     0    0     0     0     0  \n",
       "2     NaN  ...   0     0    0   0    0     0    0     1     0     0  \n",
       "3     NaN  ...   0     0    1   0    0     0    0     0     0     0  \n",
       "4     NaN  ...   0     0    0   0    1     0    0     0     0     0  \n",
       "...   ...  ...  ..   ...  ...  ..  ...   ...  ...   ...   ...   ...  \n",
       "1306  NaN  ...   0     0    0   0    0     0    0     1     0     0  \n",
       "1307  NaN  ...   0     0    0   0    0     0    0     1     0     0  \n",
       "1308  NaN  ...   0     0    0   0    0     0    0     1     0     0  \n",
       "1309  NaN  ...   0     1    0   0    0     0    0     1     0     0  \n",
       "1310  NaN  ...   0     1    0   0    0     0    0     0     0     0  \n",
       "\n",
       "[1311 rows x 28 columns]"
      ]
     },
     "execution_count": 33,
     "metadata": {},
     "output_type": "execute_result"
    }
   ],
   "source": [
    "from sklearn.preprocessing import MultiLabelBinarizer\n",
    "mlb = MultiLabelBinarizer()\n",
    "mlb_result = mlb.fit_transform([str(df_sc.loc[i,'Scheme2']).split(',') for i in range(len(df_sc))])\n",
    "df_sc_final1 = pd.concat([df_sc,pd.DataFrame(mlb_result,columns=list(mlb.classes_))],axis=1)\n",
    "df_sc_final1"
   ]
  },
  {
   "cell_type": "code",
   "execution_count": 34,
   "id": "fd7595da",
   "metadata": {
    "execution": {
     "iopub.execute_input": "2025-09-02T17:07:36.763606Z",
     "iopub.status.busy": "2025-09-02T17:07:36.763352Z",
     "iopub.status.idle": "2025-09-02T17:07:36.768114Z",
     "shell.execute_reply": "2025-09-02T17:07:36.767392Z"
    },
    "id": "BB7MJAesAyQf",
    "outputId": "38c94065-4df6-46f7-bc93-a97bb8149048",
    "papermill": {
     "duration": 0.033407,
     "end_time": "2025-09-02T17:07:36.769614",
     "exception": false,
     "start_time": "2025-09-02T17:07:36.736207",
     "status": "completed"
    },
    "tags": []
   },
   "outputs": [
    {
     "data": {
      "text/plain": [
       "array(['Abs', 'Acon', 'Aut', 'Class', 'Itpr', 'Lit', 'Prec', 'Princ',\n",
       "       'Psy', 'Rule', 'Syst', 'Tele'], dtype=object)"
      ]
     },
     "execution_count": 34,
     "metadata": {},
     "output_type": "execute_result"
    }
   ],
   "source": [
    "sc_classes = mlb.classes_\n",
    "sc_classes"
   ]
  },
  {
   "cell_type": "code",
   "execution_count": 35,
   "id": "ea585a9d",
   "metadata": {
    "execution": {
     "iopub.execute_input": "2025-09-02T17:07:36.824319Z",
     "iopub.status.busy": "2025-09-02T17:07:36.824046Z",
     "iopub.status.idle": "2025-09-02T17:07:36.835439Z",
     "shell.execute_reply": "2025-09-02T17:07:36.834663Z"
    },
    "id": "9TonF3Yhk6Gc",
    "outputId": "d5aeddc8-05fb-4482-addb-f7251232b8b8",
    "papermill": {
     "duration": 0.040644,
     "end_time": "2025-09-02T17:07:36.837070",
     "exception": false,
     "start_time": "2025-09-02T17:07:36.796426",
     "status": "completed"
    },
    "tags": []
   },
   "outputs": [
    {
     "data": {
      "text/html": [
       "<div>\n",
       "<style scoped>\n",
       "    .dataframe tbody tr th:only-of-type {\n",
       "        vertical-align: middle;\n",
       "    }\n",
       "\n",
       "    .dataframe tbody tr th {\n",
       "        vertical-align: top;\n",
       "    }\n",
       "\n",
       "    .dataframe thead th {\n",
       "        text-align: right;\n",
       "    }\n",
       "</style>\n",
       "<table border=\"1\" class=\"dataframe\">\n",
       "  <thead>\n",
       "    <tr style=\"text-align: right;\">\n",
       "      <th></th>\n",
       "      <th>Abs</th>\n",
       "      <th>Acon</th>\n",
       "      <th>Aut</th>\n",
       "      <th>Class</th>\n",
       "      <th>Itpr</th>\n",
       "      <th>Lit</th>\n",
       "      <th>Prec</th>\n",
       "      <th>Princ</th>\n",
       "      <th>Psy</th>\n",
       "      <th>Rule</th>\n",
       "      <th>Syst</th>\n",
       "      <th>Tele</th>\n",
       "    </tr>\n",
       "  </thead>\n",
       "  <tbody>\n",
       "    <tr>\n",
       "      <th>0</th>\n",
       "      <td>0</td>\n",
       "      <td>0</td>\n",
       "      <td>0</td>\n",
       "      <td>0</td>\n",
       "      <td>0</td>\n",
       "      <td>0</td>\n",
       "      <td>0</td>\n",
       "      <td>0</td>\n",
       "      <td>0</td>\n",
       "      <td>1</td>\n",
       "      <td>0</td>\n",
       "      <td>0</td>\n",
       "    </tr>\n",
       "    <tr>\n",
       "      <th>1</th>\n",
       "      <td>0</td>\n",
       "      <td>0</td>\n",
       "      <td>0</td>\n",
       "      <td>0</td>\n",
       "      <td>1</td>\n",
       "      <td>0</td>\n",
       "      <td>0</td>\n",
       "      <td>0</td>\n",
       "      <td>0</td>\n",
       "      <td>0</td>\n",
       "      <td>0</td>\n",
       "      <td>0</td>\n",
       "    </tr>\n",
       "    <tr>\n",
       "      <th>2</th>\n",
       "      <td>0</td>\n",
       "      <td>0</td>\n",
       "      <td>0</td>\n",
       "      <td>0</td>\n",
       "      <td>0</td>\n",
       "      <td>0</td>\n",
       "      <td>0</td>\n",
       "      <td>0</td>\n",
       "      <td>0</td>\n",
       "      <td>1</td>\n",
       "      <td>0</td>\n",
       "      <td>0</td>\n",
       "    </tr>\n",
       "    <tr>\n",
       "      <th>3</th>\n",
       "      <td>0</td>\n",
       "      <td>0</td>\n",
       "      <td>0</td>\n",
       "      <td>0</td>\n",
       "      <td>1</td>\n",
       "      <td>0</td>\n",
       "      <td>0</td>\n",
       "      <td>0</td>\n",
       "      <td>0</td>\n",
       "      <td>0</td>\n",
       "      <td>0</td>\n",
       "      <td>0</td>\n",
       "    </tr>\n",
       "    <tr>\n",
       "      <th>4</th>\n",
       "      <td>0</td>\n",
       "      <td>0</td>\n",
       "      <td>0</td>\n",
       "      <td>0</td>\n",
       "      <td>0</td>\n",
       "      <td>0</td>\n",
       "      <td>1</td>\n",
       "      <td>0</td>\n",
       "      <td>0</td>\n",
       "      <td>0</td>\n",
       "      <td>0</td>\n",
       "      <td>0</td>\n",
       "    </tr>\n",
       "    <tr>\n",
       "      <th>...</th>\n",
       "      <td>...</td>\n",
       "      <td>...</td>\n",
       "      <td>...</td>\n",
       "      <td>...</td>\n",
       "      <td>...</td>\n",
       "      <td>...</td>\n",
       "      <td>...</td>\n",
       "      <td>...</td>\n",
       "      <td>...</td>\n",
       "      <td>...</td>\n",
       "      <td>...</td>\n",
       "      <td>...</td>\n",
       "    </tr>\n",
       "    <tr>\n",
       "      <th>1306</th>\n",
       "      <td>0</td>\n",
       "      <td>0</td>\n",
       "      <td>0</td>\n",
       "      <td>0</td>\n",
       "      <td>0</td>\n",
       "      <td>0</td>\n",
       "      <td>0</td>\n",
       "      <td>0</td>\n",
       "      <td>0</td>\n",
       "      <td>1</td>\n",
       "      <td>0</td>\n",
       "      <td>0</td>\n",
       "    </tr>\n",
       "    <tr>\n",
       "      <th>1307</th>\n",
       "      <td>0</td>\n",
       "      <td>0</td>\n",
       "      <td>0</td>\n",
       "      <td>0</td>\n",
       "      <td>0</td>\n",
       "      <td>0</td>\n",
       "      <td>0</td>\n",
       "      <td>0</td>\n",
       "      <td>0</td>\n",
       "      <td>1</td>\n",
       "      <td>0</td>\n",
       "      <td>0</td>\n",
       "    </tr>\n",
       "    <tr>\n",
       "      <th>1308</th>\n",
       "      <td>0</td>\n",
       "      <td>0</td>\n",
       "      <td>0</td>\n",
       "      <td>0</td>\n",
       "      <td>0</td>\n",
       "      <td>0</td>\n",
       "      <td>0</td>\n",
       "      <td>0</td>\n",
       "      <td>0</td>\n",
       "      <td>1</td>\n",
       "      <td>0</td>\n",
       "      <td>0</td>\n",
       "    </tr>\n",
       "    <tr>\n",
       "      <th>1309</th>\n",
       "      <td>0</td>\n",
       "      <td>0</td>\n",
       "      <td>0</td>\n",
       "      <td>1</td>\n",
       "      <td>0</td>\n",
       "      <td>0</td>\n",
       "      <td>0</td>\n",
       "      <td>0</td>\n",
       "      <td>0</td>\n",
       "      <td>1</td>\n",
       "      <td>0</td>\n",
       "      <td>0</td>\n",
       "    </tr>\n",
       "    <tr>\n",
       "      <th>1310</th>\n",
       "      <td>0</td>\n",
       "      <td>0</td>\n",
       "      <td>0</td>\n",
       "      <td>1</td>\n",
       "      <td>0</td>\n",
       "      <td>0</td>\n",
       "      <td>0</td>\n",
       "      <td>0</td>\n",
       "      <td>0</td>\n",
       "      <td>0</td>\n",
       "      <td>0</td>\n",
       "      <td>0</td>\n",
       "    </tr>\n",
       "  </tbody>\n",
       "</table>\n",
       "<p>1311 rows × 12 columns</p>\n",
       "</div>"
      ],
      "text/plain": [
       "      Abs  Acon  Aut  Class  Itpr  Lit  Prec  Princ  Psy  Rule  Syst  Tele\n",
       "0       0     0    0      0     0    0     0      0    0     1     0     0\n",
       "1       0     0    0      0     1    0     0      0    0     0     0     0\n",
       "2       0     0    0      0     0    0     0      0    0     1     0     0\n",
       "3       0     0    0      0     1    0     0      0    0     0     0     0\n",
       "4       0     0    0      0     0    0     1      0    0     0     0     0\n",
       "...   ...   ...  ...    ...   ...  ...   ...    ...  ...   ...   ...   ...\n",
       "1306    0     0    0      0     0    0     0      0    0     1     0     0\n",
       "1307    0     0    0      0     0    0     0      0    0     1     0     0\n",
       "1308    0     0    0      0     0    0     0      0    0     1     0     0\n",
       "1309    0     0    0      1     0    0     0      0    0     1     0     0\n",
       "1310    0     0    0      1     0    0     0      0    0     0     0     0\n",
       "\n",
       "[1311 rows x 12 columns]"
      ]
     },
     "execution_count": 35,
     "metadata": {},
     "output_type": "execute_result"
    }
   ],
   "source": [
    "df_sc_labels = df_sc_final1[mlb.classes_]\n",
    "df_sc_labels"
   ]
  },
  {
   "cell_type": "code",
   "execution_count": 36,
   "id": "844879ea",
   "metadata": {
    "execution": {
     "iopub.execute_input": "2025-09-02T17:07:36.891303Z",
     "iopub.status.busy": "2025-09-02T17:07:36.891036Z",
     "iopub.status.idle": "2025-09-02T17:07:36.894213Z",
     "shell.execute_reply": "2025-09-02T17:07:36.893555Z"
    },
    "id": "sZi1rHIa5GsZ",
    "papermill": {
     "duration": 0.032006,
     "end_time": "2025-09-02T17:07:36.895705",
     "exception": false,
     "start_time": "2025-09-02T17:07:36.863699",
     "status": "completed"
    },
    "tags": []
   },
   "outputs": [],
   "source": [
    "#mlb.inverse_transform(np.array(df_sc_labels))"
   ]
  },
  {
   "cell_type": "code",
   "execution_count": 37,
   "id": "6bf08163",
   "metadata": {
    "execution": {
     "iopub.execute_input": "2025-09-02T17:07:36.950912Z",
     "iopub.status.busy": "2025-09-02T17:07:36.950681Z",
     "iopub.status.idle": "2025-09-02T17:07:36.957093Z",
     "shell.execute_reply": "2025-09-02T17:07:36.956489Z"
    },
    "id": "I5IsJCGi5GsZ",
    "outputId": "39c2aee1-1939-458e-8b15-e8db7d2b1674",
    "papermill": {
     "duration": 0.036252,
     "end_time": "2025-09-02T17:07:36.958851",
     "exception": false,
     "start_time": "2025-09-02T17:07:36.922599",
     "status": "completed"
    },
    "tags": []
   },
   "outputs": [
    {
     "data": {
      "text/plain": [
       "Rule     573\n",
       "Prec     417\n",
       "Itpr     313\n",
       "Princ    143\n",
       "Class    100\n",
       "Aut       72\n",
       "Syst      28\n",
       "Tele      18\n",
       "Lit       12\n",
       "Abs        8\n",
       "Psy        7\n",
       "Acon       1\n",
       "dtype: int64"
      ]
     },
     "execution_count": 37,
     "metadata": {},
     "output_type": "execute_result"
    }
   ],
   "source": [
    "sc_label_count = df_sc_labels.sum().sort_values(ascending=False)\n",
    "sc_label_count"
   ]
  },
  {
   "cell_type": "code",
   "execution_count": 38,
   "id": "5f8ef34b",
   "metadata": {
    "execution": {
     "iopub.execute_input": "2025-09-02T17:07:37.015353Z",
     "iopub.status.busy": "2025-09-02T17:07:37.015084Z",
     "iopub.status.idle": "2025-09-02T17:07:37.262606Z",
     "shell.execute_reply": "2025-09-02T17:07:37.261725Z"
    },
    "id": "6RKfMPitk6Gf",
    "outputId": "08dcacef-ec6c-4100-c89d-02409680e473",
    "papermill": {
     "duration": 0.278074,
     "end_time": "2025-09-02T17:07:37.264322",
     "exception": false,
     "start_time": "2025-09-02T17:07:36.986248",
     "status": "completed"
    },
    "tags": []
   },
   "outputs": [
    {
     "data": {
      "text/plain": [
       "<BarContainer object of 12 artists>"
      ]
     },
     "execution_count": 38,
     "metadata": {},
     "output_type": "execute_result"
    },
    {
     "data": {
      "image/png": "[encoded data removed]",
      "text/plain": [
       "<Figure size 1300x500 with 1 Axes>"
      ]
     },
     "metadata": {},
     "output_type": "display_data"
    }
   ],
   "source": [
    "y = np.array(sc_label_count)\n",
    "#x = np.array(sc_label_count.index)\n",
    "#added values on x only for convenience\n",
    "x = [sc_label_count.index[i] + ': ' + str(sc_label_count.iloc[i]) for i in range(len(sc_label_count))]\n",
    "plt.figure(figsize=(13,5))\n",
    "plt.bar(x, height=y)"
   ]
  },
  {
   "cell_type": "code",
   "execution_count": 39,
   "id": "7889986a",
   "metadata": {
    "execution": {
     "iopub.execute_input": "2025-09-02T17:07:37.321031Z",
     "iopub.status.busy": "2025-09-02T17:07:37.320760Z",
     "iopub.status.idle": "2025-09-02T17:07:37.341158Z",
     "shell.execute_reply": "2025-09-02T17:07:37.340364Z"
    },
    "id": "BGYBwbnrcncC",
    "outputId": "41ffbc2d-2067-44cf-ec2e-83ca09bc1ea3",
    "papermill": {
     "duration": 0.050758,
     "end_time": "2025-09-02T17:07:37.342907",
     "exception": false,
     "start_time": "2025-09-02T17:07:37.292149",
     "status": "completed"
    },
    "tags": []
   },
   "outputs": [
    {
     "name": "stdout",
     "output_type": "stream",
     "text": [
      "Removing classes with low number of instances: Lit, Abs, Psy, Acon\n",
      "Keeping classes with good number of instances: Rule, Prec, Itpr, Princ, Class, Aut, Syst, Tele\n",
      "Remaining columns: Aut, Class, Itpr, Prec, Princ, Rule, Syst, Tele\n"
     ]
    },
    {
     "data": {
      "text/html": [
       "<div>\n",
       "<style scoped>\n",
       "    .dataframe tbody tr th:only-of-type {\n",
       "        vertical-align: middle;\n",
       "    }\n",
       "\n",
       "    .dataframe tbody tr th {\n",
       "        vertical-align: top;\n",
       "    }\n",
       "\n",
       "    .dataframe thead th {\n",
       "        text-align: right;\n",
       "    }\n",
       "</style>\n",
       "<table border=\"1\" class=\"dataframe\">\n",
       "  <thead>\n",
       "    <tr style=\"text-align: right;\">\n",
       "      <th></th>\n",
       "      <th>Document</th>\n",
       "      <th>Name</th>\n",
       "      <th>Id</th>\n",
       "      <th>Chain</th>\n",
       "      <th>Num</th>\n",
       "      <th>Text</th>\n",
       "      <th>Type</th>\n",
       "      <th>SUP</th>\n",
       "      <th>SFF</th>\n",
       "      <th>ATT</th>\n",
       "      <th>...</th>\n",
       "      <th>Aut</th>\n",
       "      <th>Class</th>\n",
       "      <th>Itpr</th>\n",
       "      <th>Lit</th>\n",
       "      <th>Prec</th>\n",
       "      <th>Princ</th>\n",
       "      <th>Psy</th>\n",
       "      <th>Rule</th>\n",
       "      <th>Syst</th>\n",
       "      <th>Tele</th>\n",
       "    </tr>\n",
       "  </thead>\n",
       "  <tbody>\n",
       "    <tr>\n",
       "      <th>0</th>\n",
       "      <td>2013_40_VAT_OPAM_2_REM_MB_PS_AN</td>\n",
       "      <td>prem</td>\n",
       "      <td>A2</td>\n",
       "      <td>A</td>\n",
       "      <td>2</td>\n",
       "      <td>Ai sensi dell'art. 14 del d.lgs.546/92, se l'o...</td>\n",
       "      <td>L</td>\n",
       "      <td>NaN</td>\n",
       "      <td>NaN</td>\n",
       "      <td>NaN</td>\n",
       "      <td>...</td>\n",
       "      <td>0</td>\n",
       "      <td>0</td>\n",
       "      <td>0</td>\n",
       "      <td>0</td>\n",
       "      <td>0</td>\n",
       "      <td>0</td>\n",
       "      <td>0</td>\n",
       "      <td>1</td>\n",
       "      <td>0</td>\n",
       "      <td>0</td>\n",
       "    </tr>\n",
       "    <tr>\n",
       "      <th>1</th>\n",
       "      <td>2013_40_VAT_OPAM_2_REM_MB_PS_AN</td>\n",
       "      <td>prem</td>\n",
       "      <td>A3</td>\n",
       "      <td>A</td>\n",
       "      <td>3</td>\n",
       "      <td>Se il ricorso non è stato proposto da o nei co...</td>\n",
       "      <td>L</td>\n",
       "      <td>NaN</td>\n",
       "      <td>NaN</td>\n",
       "      <td>NaN</td>\n",
       "      <td>...</td>\n",
       "      <td>0</td>\n",
       "      <td>0</td>\n",
       "      <td>1</td>\n",
       "      <td>0</td>\n",
       "      <td>0</td>\n",
       "      <td>0</td>\n",
       "      <td>0</td>\n",
       "      <td>0</td>\n",
       "      <td>0</td>\n",
       "      <td>0</td>\n",
       "    </tr>\n",
       "    <tr>\n",
       "      <th>2</th>\n",
       "      <td>2018_847_VAT_OP_2_-1_MB_AF_AN</td>\n",
       "      <td>prem</td>\n",
       "      <td>A1</td>\n",
       "      <td>A</td>\n",
       "      <td>1</td>\n",
       "      <td>Secondo condivisa e costante giurisprudenza (C...</td>\n",
       "      <td>L</td>\n",
       "      <td>NaN</td>\n",
       "      <td>NaN</td>\n",
       "      <td>NaN</td>\n",
       "      <td>...</td>\n",
       "      <td>0</td>\n",
       "      <td>0</td>\n",
       "      <td>0</td>\n",
       "      <td>0</td>\n",
       "      <td>0</td>\n",
       "      <td>0</td>\n",
       "      <td>0</td>\n",
       "      <td>1</td>\n",
       "      <td>0</td>\n",
       "      <td>0</td>\n",
       "    </tr>\n",
       "    <tr>\n",
       "      <th>3</th>\n",
       "      <td>2018_847_VAT_OP_2_-1_MB_AF_AN</td>\n",
       "      <td>prem</td>\n",
       "      <td>A2</td>\n",
       "      <td>A</td>\n",
       "      <td>2</td>\n",
       "      <td>Tuttavia, nel caso qui in esame, la Comm/ne no...</td>\n",
       "      <td>L</td>\n",
       "      <td>[A3, A4]</td>\n",
       "      <td>NaN</td>\n",
       "      <td>NaN</td>\n",
       "      <td>...</td>\n",
       "      <td>0</td>\n",
       "      <td>0</td>\n",
       "      <td>1</td>\n",
       "      <td>0</td>\n",
       "      <td>0</td>\n",
       "      <td>0</td>\n",
       "      <td>0</td>\n",
       "      <td>0</td>\n",
       "      <td>0</td>\n",
       "      <td>0</td>\n",
       "    </tr>\n",
       "    <tr>\n",
       "      <th>4</th>\n",
       "      <td>2018_847_VAT_OP_2_-1_MB_AF_AN</td>\n",
       "      <td>prem</td>\n",
       "      <td>A3</td>\n",
       "      <td>A</td>\n",
       "      <td>3</td>\n",
       "      <td>A tal proposito si ricorda che la Corte cost. ...</td>\n",
       "      <td>L</td>\n",
       "      <td>NaN</td>\n",
       "      <td>NaN</td>\n",
       "      <td>NaN</td>\n",
       "      <td>...</td>\n",
       "      <td>0</td>\n",
       "      <td>0</td>\n",
       "      <td>0</td>\n",
       "      <td>0</td>\n",
       "      <td>1</td>\n",
       "      <td>0</td>\n",
       "      <td>0</td>\n",
       "      <td>0</td>\n",
       "      <td>0</td>\n",
       "      <td>0</td>\n",
       "    </tr>\n",
       "    <tr>\n",
       "      <th>...</th>\n",
       "      <td>...</td>\n",
       "      <td>...</td>\n",
       "      <td>...</td>\n",
       "      <td>...</td>\n",
       "      <td>...</td>\n",
       "      <td>...</td>\n",
       "      <td>...</td>\n",
       "      <td>...</td>\n",
       "      <td>...</td>\n",
       "      <td>...</td>\n",
       "      <td>...</td>\n",
       "      <td>...</td>\n",
       "      <td>...</td>\n",
       "      <td>...</td>\n",
       "      <td>...</td>\n",
       "      <td>...</td>\n",
       "      <td>...</td>\n",
       "      <td>...</td>\n",
       "      <td>...</td>\n",
       "      <td>...</td>\n",
       "      <td>...</td>\n",
       "    </tr>\n",
       "    <tr>\n",
       "      <th>1306</th>\n",
       "      <td>2021_6075_VAT_OPAM_2_1_PS_AN</td>\n",
       "      <td>prem</td>\n",
       "      <td>C15</td>\n",
       "      <td>C</td>\n",
       "      <td>15</td>\n",
       "      <td>Sotto questo profilo i Compro Oro sono sottopo...</td>\n",
       "      <td>L</td>\n",
       "      <td>NaN</td>\n",
       "      <td>NaN</td>\n",
       "      <td>NaN</td>\n",
       "      <td>...</td>\n",
       "      <td>0</td>\n",
       "      <td>0</td>\n",
       "      <td>0</td>\n",
       "      <td>0</td>\n",
       "      <td>0</td>\n",
       "      <td>0</td>\n",
       "      <td>0</td>\n",
       "      <td>1</td>\n",
       "      <td>0</td>\n",
       "      <td>0</td>\n",
       "    </tr>\n",
       "    <tr>\n",
       "      <th>1307</th>\n",
       "      <td>2021_6075_VAT_OPAM_2_1_PS_AN</td>\n",
       "      <td>prem</td>\n",
       "      <td>C16</td>\n",
       "      <td>C</td>\n",
       "      <td>16</td>\n",
       "      <td>Tale comunicazione ha luogo quando i destinata...</td>\n",
       "      <td>L</td>\n",
       "      <td>NaN</td>\n",
       "      <td>NaN</td>\n",
       "      <td>NaN</td>\n",
       "      <td>...</td>\n",
       "      <td>0</td>\n",
       "      <td>0</td>\n",
       "      <td>0</td>\n",
       "      <td>0</td>\n",
       "      <td>0</td>\n",
       "      <td>0</td>\n",
       "      <td>0</td>\n",
       "      <td>1</td>\n",
       "      <td>0</td>\n",
       "      <td>0</td>\n",
       "    </tr>\n",
       "    <tr>\n",
       "      <th>1308</th>\n",
       "      <td>2021_6075_VAT_OPAM_2_1_PS_AN</td>\n",
       "      <td>prem</td>\n",
       "      <td>C17</td>\n",
       "      <td>C</td>\n",
       "      <td>17</td>\n",
       "      <td>Il Ministro dell'interno, con decreto del 17 f...</td>\n",
       "      <td>L</td>\n",
       "      <td>NaN</td>\n",
       "      <td>NaN</td>\n",
       "      <td>NaN</td>\n",
       "      <td>...</td>\n",
       "      <td>0</td>\n",
       "      <td>0</td>\n",
       "      <td>0</td>\n",
       "      <td>0</td>\n",
       "      <td>0</td>\n",
       "      <td>0</td>\n",
       "      <td>0</td>\n",
       "      <td>1</td>\n",
       "      <td>0</td>\n",
       "      <td>0</td>\n",
       "    </tr>\n",
       "    <tr>\n",
       "      <th>1309</th>\n",
       "      <td>2021_6075_VAT_OPAM_2_1_PS_AN</td>\n",
       "      <td>prem</td>\n",
       "      <td>C18</td>\n",
       "      <td>C</td>\n",
       "      <td>18</td>\n",
       "      <td>Tra i soggetti destinatari del decreto sono ri...</td>\n",
       "      <td>L</td>\n",
       "      <td>NaN</td>\n",
       "      <td>NaN</td>\n",
       "      <td>NaN</td>\n",
       "      <td>...</td>\n",
       "      <td>0</td>\n",
       "      <td>1</td>\n",
       "      <td>0</td>\n",
       "      <td>0</td>\n",
       "      <td>0</td>\n",
       "      <td>0</td>\n",
       "      <td>0</td>\n",
       "      <td>1</td>\n",
       "      <td>0</td>\n",
       "      <td>0</td>\n",
       "    </tr>\n",
       "    <tr>\n",
       "      <th>1310</th>\n",
       "      <td>2021_6075_VAT_OPAM_2_1_PS_AN</td>\n",
       "      <td>prem</td>\n",
       "      <td>C19</td>\n",
       "      <td>C</td>\n",
       "      <td>19</td>\n",
       "      <td>In conclusione, per quanto fin qui esposto, i ...</td>\n",
       "      <td>L</td>\n",
       "      <td></td>\n",
       "      <td>NaN</td>\n",
       "      <td>NaN</td>\n",
       "      <td>...</td>\n",
       "      <td>0</td>\n",
       "      <td>1</td>\n",
       "      <td>0</td>\n",
       "      <td>0</td>\n",
       "      <td>0</td>\n",
       "      <td>0</td>\n",
       "      <td>0</td>\n",
       "      <td>0</td>\n",
       "      <td>0</td>\n",
       "      <td>0</td>\n",
       "    </tr>\n",
       "  </tbody>\n",
       "</table>\n",
       "<p>1311 rows × 28 columns</p>\n",
       "</div>"
      ],
      "text/plain": [
       "                             Document  Name   Id Chain Num  \\\n",
       "0     2013_40_VAT_OPAM_2_REM_MB_PS_AN  prem   A2     A   2   \n",
       "1     2013_40_VAT_OPAM_2_REM_MB_PS_AN  prem   A3     A   3   \n",
       "2       2018_847_VAT_OP_2_-1_MB_AF_AN  prem   A1     A   1   \n",
       "3       2018_847_VAT_OP_2_-1_MB_AF_AN  prem   A2     A   2   \n",
       "4       2018_847_VAT_OP_2_-1_MB_AF_AN  prem   A3     A   3   \n",
       "...                               ...   ...  ...   ...  ..   \n",
       "1306     2021_6075_VAT_OPAM_2_1_PS_AN  prem  C15     C  15   \n",
       "1307     2021_6075_VAT_OPAM_2_1_PS_AN  prem  C16     C  16   \n",
       "1308     2021_6075_VAT_OPAM_2_1_PS_AN  prem  C17     C  17   \n",
       "1309     2021_6075_VAT_OPAM_2_1_PS_AN  prem  C18     C  18   \n",
       "1310     2021_6075_VAT_OPAM_2_1_PS_AN  prem  C19     C  19   \n",
       "\n",
       "                                                   Text Type       SUP  SFF  \\\n",
       "0     Ai sensi dell'art. 14 del d.lgs.546/92, se l'o...    L       NaN  NaN   \n",
       "1     Se il ricorso non è stato proposto da o nei co...    L       NaN  NaN   \n",
       "2     Secondo condivisa e costante giurisprudenza (C...    L       NaN  NaN   \n",
       "3     Tuttavia, nel caso qui in esame, la Comm/ne no...    L  [A3, A4]  NaN   \n",
       "4     A tal proposito si ricorda che la Corte cost. ...    L       NaN  NaN   \n",
       "...                                                 ...  ...       ...  ...   \n",
       "1306  Sotto questo profilo i Compro Oro sono sottopo...    L       NaN  NaN   \n",
       "1307  Tale comunicazione ha luogo quando i destinata...    L       NaN  NaN   \n",
       "1308  Il Ministro dell'interno, con decreto del 17 f...    L       NaN  NaN   \n",
       "1309  Tra i soggetti destinatari del decreto sono ri...    L       NaN  NaN   \n",
       "1310  In conclusione, per quanto fin qui esposto, i ...    L            NaN   \n",
       "\n",
       "      ATT  ... Aut Class Itpr Lit Prec Princ  Psy  Rule  Syst  Tele  \n",
       "0     NaN  ...   0     0    0   0    0     0    0     1     0     0  \n",
       "1     NaN  ...   0     0    1   0    0     0    0     0     0     0  \n",
       "2     NaN  ...   0     0    0   0    0     0    0     1     0     0  \n",
       "3     NaN  ...   0     0    1   0    0     0    0     0     0     0  \n",
       "4     NaN  ...   0     0    0   0    1     0    0     0     0     0  \n",
       "...   ...  ...  ..   ...  ...  ..  ...   ...  ...   ...   ...   ...  \n",
       "1306  NaN  ...   0     0    0   0    0     0    0     1     0     0  \n",
       "1307  NaN  ...   0     0    0   0    0     0    0     1     0     0  \n",
       "1308  NaN  ...   0     0    0   0    0     0    0     1     0     0  \n",
       "1309  NaN  ...   0     1    0   0    0     0    0     1     0     0  \n",
       "1310  NaN  ...   0     1    0   0    0     0    0     0     0     0  \n",
       "\n",
       "[1311 rows x 28 columns]"
      ]
     },
     "execution_count": 39,
     "metadata": {},
     "output_type": "execute_result"
    }
   ],
   "source": [
    "bad_sc_classes = sc_label_count.index[sc_label_count < 15]\n",
    "sc_classes = sc_label_count.index[sc_label_count >= 15]\n",
    "print(\"Removing classes with low number of instances: \"+', '.join(bad_sc_classes))\n",
    "print(\"Keeping classes with good number of instances: \"+', '.join(sc_classes))\n",
    "good_sc_columns = np.setdiff1d(sc_classes, bad_sc_classes)\n",
    "print(\"Remaining columns: \"+', '.join(good_sc_columns))\n",
    "#df_sc_final = df_sc_final1[~df_sc_final1[\"Scheme2\"].isin(bad_sc_classes)].drop(bad_sc_classes,axis=1).reset_index(drop=True)\n",
    "df_sc_final1"
   ]
  },
  {
   "cell_type": "code",
   "execution_count": 40,
   "id": "70499879",
   "metadata": {
    "execution": {
     "iopub.execute_input": "2025-09-02T17:07:37.399810Z",
     "iopub.status.busy": "2025-09-02T17:07:37.399549Z",
     "iopub.status.idle": "2025-09-02T17:07:37.436247Z",
     "shell.execute_reply": "2025-09-02T17:07:37.435466Z"
    },
    "id": "6UHPkQbW5Gsb",
    "outputId": "2ac03e90-73de-4a2a-887b-6e7e8c1817c1",
    "papermill": {
     "duration": 0.067086,
     "end_time": "2025-09-02T17:07:37.437884",
     "exception": false,
     "start_time": "2025-09-02T17:07:37.370798",
     "status": "completed"
    },
    "tags": []
   },
   "outputs": [
    {
     "data": {
      "text/plain": [
       "Index(['Document', 'Name', 'Id', 'Chain', 'Num', 'Text', 'Type', 'SUP', 'SFF',\n",
       "       'ATT', 'INH', 'REPH', 'Scheme', 'FullChainID', 'Previous', 'Scheme2',\n",
       "       'Aut', 'Class', 'Itpr', 'Prec', 'Princ', 'Rule', 'Syst', 'Tele'],\n",
       "      dtype='object')"
      ]
     },
     "execution_count": 40,
     "metadata": {},
     "output_type": "execute_result"
    }
   ],
   "source": [
    "#df_sc_final['Scheme'].isin(['Acon'])\n",
    "#updated version, now we are also considering the list type elements\n",
    "def remove_bad_classes(df_sc,bad_sc_classes):\n",
    "    df = df_sc\n",
    "    for i in range(len(df_sc)):\n",
    "        x = df.loc[i,'Scheme']\n",
    "        if type(x) == list:\n",
    "            for q in x:\n",
    "                if q in bad_sc_classes:\n",
    "                    #print(x, q)\n",
    "                    df = df.drop([i])\n",
    "                    break\n",
    "        elif x in bad_sc_classes:\n",
    "            df = df.drop([i])\n",
    "    df = df.drop(bad_sc_classes,axis=1).reset_index(drop=True)\n",
    "    return df\n",
    "df_r = remove_bad_classes(df_sc_final1,bad_sc_classes)\n",
    "df_sc_final = df_r\n",
    "df_sc_final.columns"
   ]
  },
  {
   "cell_type": "code",
   "execution_count": 41,
   "id": "ff574d3d",
   "metadata": {
    "execution": {
     "iopub.execute_input": "2025-09-02T17:07:37.496382Z",
     "iopub.status.busy": "2025-09-02T17:07:37.495659Z",
     "iopub.status.idle": "2025-09-02T17:07:37.506737Z",
     "shell.execute_reply": "2025-09-02T17:07:37.505968Z"
    },
    "id": "LOH89wzZ5Gsb",
    "outputId": "0949f6e7-08e9-409d-8fc0-ac2386524d08",
    "papermill": {
     "duration": 0.041525,
     "end_time": "2025-09-02T17:07:37.508313",
     "exception": false,
     "start_time": "2025-09-02T17:07:37.466788",
     "status": "completed"
    },
    "tags": []
   },
   "outputs": [
    {
     "data": {
      "text/html": [
       "<div>\n",
       "<style scoped>\n",
       "    .dataframe tbody tr th:only-of-type {\n",
       "        vertical-align: middle;\n",
       "    }\n",
       "\n",
       "    .dataframe tbody tr th {\n",
       "        vertical-align: top;\n",
       "    }\n",
       "\n",
       "    .dataframe thead th {\n",
       "        text-align: right;\n",
       "    }\n",
       "</style>\n",
       "<table border=\"1\" class=\"dataframe\">\n",
       "  <thead>\n",
       "    <tr style=\"text-align: right;\">\n",
       "      <th></th>\n",
       "      <th>Abs</th>\n",
       "      <th>Acon</th>\n",
       "      <th>Aut</th>\n",
       "      <th>Class</th>\n",
       "      <th>Itpr</th>\n",
       "      <th>Lit</th>\n",
       "      <th>Prec</th>\n",
       "      <th>Princ</th>\n",
       "      <th>Psy</th>\n",
       "      <th>Rule</th>\n",
       "      <th>Syst</th>\n",
       "      <th>Tele</th>\n",
       "    </tr>\n",
       "  </thead>\n",
       "  <tbody>\n",
       "    <tr>\n",
       "      <th>0</th>\n",
       "      <td>0</td>\n",
       "      <td>0</td>\n",
       "      <td>0</td>\n",
       "      <td>0</td>\n",
       "      <td>0</td>\n",
       "      <td>0</td>\n",
       "      <td>0</td>\n",
       "      <td>0</td>\n",
       "      <td>0</td>\n",
       "      <td>1</td>\n",
       "      <td>0</td>\n",
       "      <td>0</td>\n",
       "    </tr>\n",
       "    <tr>\n",
       "      <th>1</th>\n",
       "      <td>0</td>\n",
       "      <td>0</td>\n",
       "      <td>0</td>\n",
       "      <td>0</td>\n",
       "      <td>1</td>\n",
       "      <td>0</td>\n",
       "      <td>0</td>\n",
       "      <td>0</td>\n",
       "      <td>0</td>\n",
       "      <td>0</td>\n",
       "      <td>0</td>\n",
       "      <td>0</td>\n",
       "    </tr>\n",
       "    <tr>\n",
       "      <th>2</th>\n",
       "      <td>0</td>\n",
       "      <td>0</td>\n",
       "      <td>0</td>\n",
       "      <td>0</td>\n",
       "      <td>0</td>\n",
       "      <td>0</td>\n",
       "      <td>0</td>\n",
       "      <td>0</td>\n",
       "      <td>0</td>\n",
       "      <td>1</td>\n",
       "      <td>0</td>\n",
       "      <td>0</td>\n",
       "    </tr>\n",
       "    <tr>\n",
       "      <th>3</th>\n",
       "      <td>0</td>\n",
       "      <td>0</td>\n",
       "      <td>0</td>\n",
       "      <td>0</td>\n",
       "      <td>1</td>\n",
       "      <td>0</td>\n",
       "      <td>0</td>\n",
       "      <td>0</td>\n",
       "      <td>0</td>\n",
       "      <td>0</td>\n",
       "      <td>0</td>\n",
       "      <td>0</td>\n",
       "    </tr>\n",
       "    <tr>\n",
       "      <th>4</th>\n",
       "      <td>0</td>\n",
       "      <td>0</td>\n",
       "      <td>0</td>\n",
       "      <td>0</td>\n",
       "      <td>0</td>\n",
       "      <td>0</td>\n",
       "      <td>1</td>\n",
       "      <td>0</td>\n",
       "      <td>0</td>\n",
       "      <td>0</td>\n",
       "      <td>0</td>\n",
       "      <td>0</td>\n",
       "    </tr>\n",
       "    <tr>\n",
       "      <th>...</th>\n",
       "      <td>...</td>\n",
       "      <td>...</td>\n",
       "      <td>...</td>\n",
       "      <td>...</td>\n",
       "      <td>...</td>\n",
       "      <td>...</td>\n",
       "      <td>...</td>\n",
       "      <td>...</td>\n",
       "      <td>...</td>\n",
       "      <td>...</td>\n",
       "      <td>...</td>\n",
       "      <td>...</td>\n",
       "    </tr>\n",
       "    <tr>\n",
       "      <th>1306</th>\n",
       "      <td>0</td>\n",
       "      <td>0</td>\n",
       "      <td>0</td>\n",
       "      <td>0</td>\n",
       "      <td>0</td>\n",
       "      <td>0</td>\n",
       "      <td>0</td>\n",
       "      <td>0</td>\n",
       "      <td>0</td>\n",
       "      <td>1</td>\n",
       "      <td>0</td>\n",
       "      <td>0</td>\n",
       "    </tr>\n",
       "    <tr>\n",
       "      <th>1307</th>\n",
       "      <td>0</td>\n",
       "      <td>0</td>\n",
       "      <td>0</td>\n",
       "      <td>0</td>\n",
       "      <td>0</td>\n",
       "      <td>0</td>\n",
       "      <td>0</td>\n",
       "      <td>0</td>\n",
       "      <td>0</td>\n",
       "      <td>1</td>\n",
       "      <td>0</td>\n",
       "      <td>0</td>\n",
       "    </tr>\n",
       "    <tr>\n",
       "      <th>1308</th>\n",
       "      <td>0</td>\n",
       "      <td>0</td>\n",
       "      <td>0</td>\n",
       "      <td>0</td>\n",
       "      <td>0</td>\n",
       "      <td>0</td>\n",
       "      <td>0</td>\n",
       "      <td>0</td>\n",
       "      <td>0</td>\n",
       "      <td>1</td>\n",
       "      <td>0</td>\n",
       "      <td>0</td>\n",
       "    </tr>\n",
       "    <tr>\n",
       "      <th>1309</th>\n",
       "      <td>0</td>\n",
       "      <td>0</td>\n",
       "      <td>0</td>\n",
       "      <td>1</td>\n",
       "      <td>0</td>\n",
       "      <td>0</td>\n",
       "      <td>0</td>\n",
       "      <td>0</td>\n",
       "      <td>0</td>\n",
       "      <td>1</td>\n",
       "      <td>0</td>\n",
       "      <td>0</td>\n",
       "    </tr>\n",
       "    <tr>\n",
       "      <th>1310</th>\n",
       "      <td>0</td>\n",
       "      <td>0</td>\n",
       "      <td>0</td>\n",
       "      <td>1</td>\n",
       "      <td>0</td>\n",
       "      <td>0</td>\n",
       "      <td>0</td>\n",
       "      <td>0</td>\n",
       "      <td>0</td>\n",
       "      <td>0</td>\n",
       "      <td>0</td>\n",
       "      <td>0</td>\n",
       "    </tr>\n",
       "  </tbody>\n",
       "</table>\n",
       "<p>1311 rows × 12 columns</p>\n",
       "</div>"
      ],
      "text/plain": [
       "      Abs  Acon  Aut  Class  Itpr  Lit  Prec  Princ  Psy  Rule  Syst  Tele\n",
       "0       0     0    0      0     0    0     0      0    0     1     0     0\n",
       "1       0     0    0      0     1    0     0      0    0     0     0     0\n",
       "2       0     0    0      0     0    0     0      0    0     1     0     0\n",
       "3       0     0    0      0     1    0     0      0    0     0     0     0\n",
       "4       0     0    0      0     0    0     1      0    0     0     0     0\n",
       "...   ...   ...  ...    ...   ...  ...   ...    ...  ...   ...   ...   ...\n",
       "1306    0     0    0      0     0    0     0      0    0     1     0     0\n",
       "1307    0     0    0      0     0    0     0      0    0     1     0     0\n",
       "1308    0     0    0      0     0    0     0      0    0     1     0     0\n",
       "1309    0     0    0      1     0    0     0      0    0     1     0     0\n",
       "1310    0     0    0      1     0    0     0      0    0     0     0     0\n",
       "\n",
       "[1311 rows x 12 columns]"
      ]
     },
     "execution_count": 41,
     "metadata": {},
     "output_type": "execute_result"
    }
   ],
   "source": [
    "df_sc_labels"
   ]
  },
  {
   "cell_type": "code",
   "execution_count": 42,
   "id": "171818cc",
   "metadata": {
    "execution": {
     "iopub.execute_input": "2025-09-02T17:07:37.565581Z",
     "iopub.status.busy": "2025-09-02T17:07:37.565346Z",
     "iopub.status.idle": "2025-09-02T17:07:37.571275Z",
     "shell.execute_reply": "2025-09-02T17:07:37.570502Z"
    },
    "id": "UIJ2qG-S5Gsb",
    "outputId": "801dc76a-e849-484b-dace-26e46edd8140",
    "papermill": {
     "duration": 0.036441,
     "end_time": "2025-09-02T17:07:37.572840",
     "exception": false,
     "start_time": "2025-09-02T17:07:37.536399",
     "status": "completed"
    },
    "tags": []
   },
   "outputs": [
    {
     "data": {
      "text/plain": [
       "Document                            2018_288_VAT_OP_2_0_AP_MB_AN\n",
       "Name                                                        prem\n",
       "Id                                                            A7\n",
       "Chain                                                          A\n",
       "Num                                                            7\n",
       "Text           Pertanto, ai fini del riconoscimento della det...\n",
       "Type                                                           L\n",
       "SUP                                                     [A8, A9]\n",
       "SFF                                                          NaN\n",
       "ATT                                                          NaN\n",
       "INH                                                          NaN\n",
       "REPH                                                         NaN\n",
       "Scheme                                                      Rule\n",
       "FullChainID                       2018_288_VAT_OP_2_0_AP_MB_AN_A\n",
       "Previous       Pertanto, ai fini del riconoscimento della det...\n",
       "Scheme2                                                     Rule\n",
       "Abs                                                            0\n",
       "Acon                                                           0\n",
       "Aut                                                            0\n",
       "Class                                                          0\n",
       "Itpr                                                           0\n",
       "Lit                                                            0\n",
       "Prec                                                           0\n",
       "Princ                                                          0\n",
       "Psy                                                            0\n",
       "Rule                                                           1\n",
       "Syst                                                           0\n",
       "Tele                                                           0\n",
       "Name: 384, dtype: object"
      ]
     },
     "execution_count": 42,
     "metadata": {},
     "output_type": "execute_result"
    }
   ],
   "source": [
    "df_sc_final1.iloc[384]"
   ]
  },
  {
   "cell_type": "code",
   "execution_count": 43,
   "id": "de7b9479",
   "metadata": {
    "execution": {
     "iopub.execute_input": "2025-09-02T17:07:37.630676Z",
     "iopub.status.busy": "2025-09-02T17:07:37.630446Z",
     "iopub.status.idle": "2025-09-02T17:07:37.648672Z",
     "shell.execute_reply": "2025-09-02T17:07:37.647926Z"
    },
    "id": "a6c9FkBx5Gsb",
    "outputId": "f7da79ce-0510-450c-e94f-6f2829ae46f5",
    "papermill": {
     "duration": 0.049369,
     "end_time": "2025-09-02T17:07:37.650305",
     "exception": false,
     "start_time": "2025-09-02T17:07:37.600936",
     "status": "completed"
    },
    "tags": []
   },
   "outputs": [
    {
     "data": {
      "text/html": [
       "<div>\n",
       "<style scoped>\n",
       "    .dataframe tbody tr th:only-of-type {\n",
       "        vertical-align: middle;\n",
       "    }\n",
       "\n",
       "    .dataframe tbody tr th {\n",
       "        vertical-align: top;\n",
       "    }\n",
       "\n",
       "    .dataframe thead th {\n",
       "        text-align: right;\n",
       "    }\n",
       "</style>\n",
       "<table border=\"1\" class=\"dataframe\">\n",
       "  <thead>\n",
       "    <tr style=\"text-align: right;\">\n",
       "      <th></th>\n",
       "      <th>Document</th>\n",
       "      <th>Name</th>\n",
       "      <th>Id</th>\n",
       "      <th>Chain</th>\n",
       "      <th>Num</th>\n",
       "      <th>Text</th>\n",
       "      <th>Type</th>\n",
       "      <th>SUP</th>\n",
       "      <th>SFF</th>\n",
       "      <th>ATT</th>\n",
       "      <th>INH</th>\n",
       "      <th>REPH</th>\n",
       "      <th>Scheme</th>\n",
       "      <th>FullChainID</th>\n",
       "      <th>Previous</th>\n",
       "      <th>Scheme2</th>\n",
       "    </tr>\n",
       "  </thead>\n",
       "  <tbody>\n",
       "    <tr>\n",
       "      <th>0</th>\n",
       "      <td>2013_40_VAT_OPAM_2_REM_MB_PS_AN</td>\n",
       "      <td>prem</td>\n",
       "      <td>A2</td>\n",
       "      <td>A</td>\n",
       "      <td>2</td>\n",
       "      <td>Ai sensi dell'art. 14 del d.lgs.546/92, se l'o...</td>\n",
       "      <td>L</td>\n",
       "      <td>NaN</td>\n",
       "      <td>NaN</td>\n",
       "      <td>NaN</td>\n",
       "      <td>NaN</td>\n",
       "      <td>NaN</td>\n",
       "      <td>Rule</td>\n",
       "      <td>2013_40_VAT_OPAM_2_REM_MB_PS_AN_A</td>\n",
       "      <td>Ai sensi dell'art. 14 del d.lgs.546/92, se l'...</td>\n",
       "      <td>Rule</td>\n",
       "    </tr>\n",
       "    <tr>\n",
       "      <th>1</th>\n",
       "      <td>2013_40_VAT_OPAM_2_REM_MB_PS_AN</td>\n",
       "      <td>prem</td>\n",
       "      <td>A3</td>\n",
       "      <td>A</td>\n",
       "      <td>3</td>\n",
       "      <td>Se il ricorso non è stato proposto da o nei co...</td>\n",
       "      <td>L</td>\n",
       "      <td>NaN</td>\n",
       "      <td>NaN</td>\n",
       "      <td>NaN</td>\n",
       "      <td>NaN</td>\n",
       "      <td>NaN</td>\n",
       "      <td>Itpr</td>\n",
       "      <td>2013_40_VAT_OPAM_2_REM_MB_PS_AN_A</td>\n",
       "      <td>Se il ricorso non è stato\\n    proposto da o ...</td>\n",
       "      <td>Itpr</td>\n",
       "    </tr>\n",
       "    <tr>\n",
       "      <th>2</th>\n",
       "      <td>2018_847_VAT_OP_2_-1_MB_AF_AN</td>\n",
       "      <td>prem</td>\n",
       "      <td>A1</td>\n",
       "      <td>A</td>\n",
       "      <td>1</td>\n",
       "      <td>Secondo condivisa e costante giurisprudenza (C...</td>\n",
       "      <td>L</td>\n",
       "      <td>NaN</td>\n",
       "      <td>NaN</td>\n",
       "      <td>NaN</td>\n",
       "      <td>NaN</td>\n",
       "      <td>NaN</td>\n",
       "      <td>Rule</td>\n",
       "      <td>2018_847_VAT_OP_2_-1_MB_AF_AN_A</td>\n",
       "      <td>Secondo condivisa e costante giurisprudenza (C...</td>\n",
       "      <td>Rule</td>\n",
       "    </tr>\n",
       "    <tr>\n",
       "      <th>3</th>\n",
       "      <td>2018_847_VAT_OP_2_-1_MB_AF_AN</td>\n",
       "      <td>prem</td>\n",
       "      <td>A2</td>\n",
       "      <td>A</td>\n",
       "      <td>2</td>\n",
       "      <td>Tuttavia, nel caso qui in esame, la Comm/ne no...</td>\n",
       "      <td>L</td>\n",
       "      <td>[A3, A4]</td>\n",
       "      <td>NaN</td>\n",
       "      <td>NaN</td>\n",
       "      <td>NaN</td>\n",
       "      <td>NaN</td>\n",
       "      <td>Itpr</td>\n",
       "      <td>2018_847_VAT_OP_2_-1_MB_AF_AN_A</td>\n",
       "      <td>Tuttavia, nel caso qui in esame, la Comm/ne no...</td>\n",
       "      <td>Itpr</td>\n",
       "    </tr>\n",
       "    <tr>\n",
       "      <th>4</th>\n",
       "      <td>2018_847_VAT_OP_2_-1_MB_AF_AN</td>\n",
       "      <td>prem</td>\n",
       "      <td>A3</td>\n",
       "      <td>A</td>\n",
       "      <td>3</td>\n",
       "      <td>A tal proposito si ricorda che la Corte cost. ...</td>\n",
       "      <td>L</td>\n",
       "      <td>NaN</td>\n",
       "      <td>NaN</td>\n",
       "      <td>NaN</td>\n",
       "      <td>NaN</td>\n",
       "      <td>NaN</td>\n",
       "      <td>Prec</td>\n",
       "      <td>2018_847_VAT_OP_2_-1_MB_AF_AN_A</td>\n",
       "      <td>A tal proposito si ricorda che la Corte cost. ...</td>\n",
       "      <td>Prec</td>\n",
       "    </tr>\n",
       "    <tr>\n",
       "      <th>...</th>\n",
       "      <td>...</td>\n",
       "      <td>...</td>\n",
       "      <td>...</td>\n",
       "      <td>...</td>\n",
       "      <td>...</td>\n",
       "      <td>...</td>\n",
       "      <td>...</td>\n",
       "      <td>...</td>\n",
       "      <td>...</td>\n",
       "      <td>...</td>\n",
       "      <td>...</td>\n",
       "      <td>...</td>\n",
       "      <td>...</td>\n",
       "      <td>...</td>\n",
       "      <td>...</td>\n",
       "      <td>...</td>\n",
       "    </tr>\n",
       "    <tr>\n",
       "      <th>1280</th>\n",
       "      <td>2021_6075_VAT_OPAM_2_1_PS_AN</td>\n",
       "      <td>prem</td>\n",
       "      <td>C16</td>\n",
       "      <td>C</td>\n",
       "      <td>16</td>\n",
       "      <td>Tale comunicazione ha luogo quando i destinata...</td>\n",
       "      <td>L</td>\n",
       "      <td>NaN</td>\n",
       "      <td>NaN</td>\n",
       "      <td>NaN</td>\n",
       "      <td>NaN</td>\n",
       "      <td>NaN</td>\n",
       "      <td>Rule</td>\n",
       "      <td>2021_6075_VAT_OPAM_2_1_PS_AN_C</td>\n",
       "      <td>Tale comunicazione ha luogo quando i destinata...</td>\n",
       "      <td>Rule</td>\n",
       "    </tr>\n",
       "    <tr>\n",
       "      <th>1281</th>\n",
       "      <td>2021_6075_VAT_OPAM_2_1_PS_AN</td>\n",
       "      <td>prem</td>\n",
       "      <td>C17</td>\n",
       "      <td>C</td>\n",
       "      <td>17</td>\n",
       "      <td>Il Ministro dell'interno, con decreto del 17 f...</td>\n",
       "      <td>L</td>\n",
       "      <td>NaN</td>\n",
       "      <td>NaN</td>\n",
       "      <td>NaN</td>\n",
       "      <td>NaN</td>\n",
       "      <td>NaN</td>\n",
       "      <td>Rule</td>\n",
       "      <td>2021_6075_VAT_OPAM_2_1_PS_AN_C</td>\n",
       "      <td>Il Ministro dell'interno, con decreto del 17 f...</td>\n",
       "      <td>Rule</td>\n",
       "    </tr>\n",
       "    <tr>\n",
       "      <th>1282</th>\n",
       "      <td>2021_6075_VAT_OPAM_2_1_PS_AN</td>\n",
       "      <td>prem</td>\n",
       "      <td>C18</td>\n",
       "      <td>C</td>\n",
       "      <td>18</td>\n",
       "      <td>Tra i soggetti destinatari del decreto sono ri...</td>\n",
       "      <td>L</td>\n",
       "      <td>NaN</td>\n",
       "      <td>NaN</td>\n",
       "      <td>NaN</td>\n",
       "      <td>NaN</td>\n",
       "      <td>NaN</td>\n",
       "      <td>Class</td>\n",
       "      <td>2021_6075_VAT_OPAM_2_1_PS_AN_C</td>\n",
       "      <td>Tra i soggetti destinatari del decreto sono ri...</td>\n",
       "      <td>Class,Rule</td>\n",
       "    </tr>\n",
       "    <tr>\n",
       "      <th>1282</th>\n",
       "      <td>2021_6075_VAT_OPAM_2_1_PS_AN</td>\n",
       "      <td>prem</td>\n",
       "      <td>C18</td>\n",
       "      <td>C</td>\n",
       "      <td>18</td>\n",
       "      <td>Tra i soggetti destinatari del decreto sono ri...</td>\n",
       "      <td>L</td>\n",
       "      <td>NaN</td>\n",
       "      <td>NaN</td>\n",
       "      <td>NaN</td>\n",
       "      <td>NaN</td>\n",
       "      <td>NaN</td>\n",
       "      <td>Rule</td>\n",
       "      <td>2021_6075_VAT_OPAM_2_1_PS_AN_C</td>\n",
       "      <td>Tra i soggetti destinatari del decreto sono ri...</td>\n",
       "      <td>Class,Rule</td>\n",
       "    </tr>\n",
       "    <tr>\n",
       "      <th>1283</th>\n",
       "      <td>2021_6075_VAT_OPAM_2_1_PS_AN</td>\n",
       "      <td>prem</td>\n",
       "      <td>C19</td>\n",
       "      <td>C</td>\n",
       "      <td>19</td>\n",
       "      <td>In conclusione, per quanto fin qui esposto, i ...</td>\n",
       "      <td>L</td>\n",
       "      <td></td>\n",
       "      <td>NaN</td>\n",
       "      <td>NaN</td>\n",
       "      <td>NaN</td>\n",
       "      <td>NaN</td>\n",
       "      <td>Class</td>\n",
       "      <td>2021_6075_VAT_OPAM_2_1_PS_AN_C</td>\n",
       "      <td>In conclusione, per quanto fin qui esposto, i ...</td>\n",
       "      <td>Class</td>\n",
       "    </tr>\n",
       "  </tbody>\n",
       "</table>\n",
       "<p>1648 rows × 16 columns</p>\n",
       "</div>"
      ],
      "text/plain": [
       "                             Document  Name   Id Chain Num  \\\n",
       "0     2013_40_VAT_OPAM_2_REM_MB_PS_AN  prem   A2     A   2   \n",
       "1     2013_40_VAT_OPAM_2_REM_MB_PS_AN  prem   A3     A   3   \n",
       "2       2018_847_VAT_OP_2_-1_MB_AF_AN  prem   A1     A   1   \n",
       "3       2018_847_VAT_OP_2_-1_MB_AF_AN  prem   A2     A   2   \n",
       "4       2018_847_VAT_OP_2_-1_MB_AF_AN  prem   A3     A   3   \n",
       "...                               ...   ...  ...   ...  ..   \n",
       "1280     2021_6075_VAT_OPAM_2_1_PS_AN  prem  C16     C  16   \n",
       "1281     2021_6075_VAT_OPAM_2_1_PS_AN  prem  C17     C  17   \n",
       "1282     2021_6075_VAT_OPAM_2_1_PS_AN  prem  C18     C  18   \n",
       "1282     2021_6075_VAT_OPAM_2_1_PS_AN  prem  C18     C  18   \n",
       "1283     2021_6075_VAT_OPAM_2_1_PS_AN  prem  C19     C  19   \n",
       "\n",
       "                                                   Text Type       SUP  SFF  \\\n",
       "0     Ai sensi dell'art. 14 del d.lgs.546/92, se l'o...    L       NaN  NaN   \n",
       "1     Se il ricorso non è stato proposto da o nei co...    L       NaN  NaN   \n",
       "2     Secondo condivisa e costante giurisprudenza (C...    L       NaN  NaN   \n",
       "3     Tuttavia, nel caso qui in esame, la Comm/ne no...    L  [A3, A4]  NaN   \n",
       "4     A tal proposito si ricorda che la Corte cost. ...    L       NaN  NaN   \n",
       "...                                                 ...  ...       ...  ...   \n",
       "1280  Tale comunicazione ha luogo quando i destinata...    L       NaN  NaN   \n",
       "1281  Il Ministro dell'interno, con decreto del 17 f...    L       NaN  NaN   \n",
       "1282  Tra i soggetti destinatari del decreto sono ri...    L       NaN  NaN   \n",
       "1282  Tra i soggetti destinatari del decreto sono ri...    L       NaN  NaN   \n",
       "1283  In conclusione, per quanto fin qui esposto, i ...    L            NaN   \n",
       "\n",
       "      ATT  INH REPH Scheme                        FullChainID  \\\n",
       "0     NaN  NaN  NaN   Rule  2013_40_VAT_OPAM_2_REM_MB_PS_AN_A   \n",
       "1     NaN  NaN  NaN   Itpr  2013_40_VAT_OPAM_2_REM_MB_PS_AN_A   \n",
       "2     NaN  NaN  NaN   Rule    2018_847_VAT_OP_2_-1_MB_AF_AN_A   \n",
       "3     NaN  NaN  NaN   Itpr    2018_847_VAT_OP_2_-1_MB_AF_AN_A   \n",
       "4     NaN  NaN  NaN   Prec    2018_847_VAT_OP_2_-1_MB_AF_AN_A   \n",
       "...   ...  ...  ...    ...                                ...   \n",
       "1280  NaN  NaN  NaN   Rule     2021_6075_VAT_OPAM_2_1_PS_AN_C   \n",
       "1281  NaN  NaN  NaN   Rule     2021_6075_VAT_OPAM_2_1_PS_AN_C   \n",
       "1282  NaN  NaN  NaN  Class     2021_6075_VAT_OPAM_2_1_PS_AN_C   \n",
       "1282  NaN  NaN  NaN   Rule     2021_6075_VAT_OPAM_2_1_PS_AN_C   \n",
       "1283  NaN  NaN  NaN  Class     2021_6075_VAT_OPAM_2_1_PS_AN_C   \n",
       "\n",
       "                                               Previous     Scheme2  \n",
       "0      Ai sensi dell'art. 14 del d.lgs.546/92, se l'...        Rule  \n",
       "1      Se il ricorso non è stato\\n    proposto da o ...        Itpr  \n",
       "2     Secondo condivisa e costante giurisprudenza (C...        Rule  \n",
       "3     Tuttavia, nel caso qui in esame, la Comm/ne no...        Itpr  \n",
       "4     A tal proposito si ricorda che la Corte cost. ...        Prec  \n",
       "...                                                 ...         ...  \n",
       "1280  Tale comunicazione ha luogo quando i destinata...        Rule  \n",
       "1281  Il Ministro dell'interno, con decreto del 17 f...        Rule  \n",
       "1282  Tra i soggetti destinatari del decreto sono ri...  Class,Rule  \n",
       "1282  Tra i soggetti destinatari del decreto sono ri...  Class,Rule  \n",
       "1283  In conclusione, per quanto fin qui esposto, i ...       Class  \n",
       "\n",
       "[1648 rows x 16 columns]"
      ]
     },
     "execution_count": 43,
     "metadata": {},
     "output_type": "execute_result"
    }
   ],
   "source": [
    "tr = df_sc_final.explode('Scheme')\n",
    "#df_sc_final[df_sc_final['Scheme'].explode().isin(['Acon'])]\n",
    "tr.drop(good_sc_columns,axis=1)"
   ]
  },
  {
   "cell_type": "code",
   "execution_count": 44,
   "id": "857009da",
   "metadata": {
    "execution": {
     "iopub.execute_input": "2025-09-02T17:07:37.710940Z",
     "iopub.status.busy": "2025-09-02T17:07:37.710699Z",
     "iopub.status.idle": "2025-09-02T17:07:37.720910Z",
     "shell.execute_reply": "2025-09-02T17:07:37.720174Z"
    },
    "id": "46WC39oY5Gsb",
    "outputId": "6e8b4e15-9350-492d-ec67-6d856c84f972",
    "papermill": {
     "duration": 0.042817,
     "end_time": "2025-09-02T17:07:37.722447",
     "exception": false,
     "start_time": "2025-09-02T17:07:37.679630",
     "status": "completed"
    },
    "tags": []
   },
   "outputs": [
    {
     "data": {
      "text/html": [
       "<div>\n",
       "<style scoped>\n",
       "    .dataframe tbody tr th:only-of-type {\n",
       "        vertical-align: middle;\n",
       "    }\n",
       "\n",
       "    .dataframe tbody tr th {\n",
       "        vertical-align: top;\n",
       "    }\n",
       "\n",
       "    .dataframe thead th {\n",
       "        text-align: right;\n",
       "    }\n",
       "</style>\n",
       "<table border=\"1\" class=\"dataframe\">\n",
       "  <thead>\n",
       "    <tr style=\"text-align: right;\">\n",
       "      <th></th>\n",
       "      <th>Aut</th>\n",
       "      <th>Class</th>\n",
       "      <th>Itpr</th>\n",
       "      <th>Prec</th>\n",
       "      <th>Princ</th>\n",
       "      <th>Rule</th>\n",
       "      <th>Syst</th>\n",
       "      <th>Tele</th>\n",
       "    </tr>\n",
       "  </thead>\n",
       "  <tbody>\n",
       "    <tr>\n",
       "      <th>0</th>\n",
       "      <td>0</td>\n",
       "      <td>0</td>\n",
       "      <td>0</td>\n",
       "      <td>0</td>\n",
       "      <td>0</td>\n",
       "      <td>1</td>\n",
       "      <td>0</td>\n",
       "      <td>0</td>\n",
       "    </tr>\n",
       "    <tr>\n",
       "      <th>1</th>\n",
       "      <td>0</td>\n",
       "      <td>0</td>\n",
       "      <td>1</td>\n",
       "      <td>0</td>\n",
       "      <td>0</td>\n",
       "      <td>0</td>\n",
       "      <td>0</td>\n",
       "      <td>0</td>\n",
       "    </tr>\n",
       "    <tr>\n",
       "      <th>2</th>\n",
       "      <td>0</td>\n",
       "      <td>0</td>\n",
       "      <td>0</td>\n",
       "      <td>0</td>\n",
       "      <td>0</td>\n",
       "      <td>1</td>\n",
       "      <td>0</td>\n",
       "      <td>0</td>\n",
       "    </tr>\n",
       "    <tr>\n",
       "      <th>3</th>\n",
       "      <td>0</td>\n",
       "      <td>0</td>\n",
       "      <td>1</td>\n",
       "      <td>0</td>\n",
       "      <td>0</td>\n",
       "      <td>0</td>\n",
       "      <td>0</td>\n",
       "      <td>0</td>\n",
       "    </tr>\n",
       "    <tr>\n",
       "      <th>4</th>\n",
       "      <td>0</td>\n",
       "      <td>0</td>\n",
       "      <td>0</td>\n",
       "      <td>1</td>\n",
       "      <td>0</td>\n",
       "      <td>0</td>\n",
       "      <td>0</td>\n",
       "      <td>0</td>\n",
       "    </tr>\n",
       "    <tr>\n",
       "      <th>...</th>\n",
       "      <td>...</td>\n",
       "      <td>...</td>\n",
       "      <td>...</td>\n",
       "      <td>...</td>\n",
       "      <td>...</td>\n",
       "      <td>...</td>\n",
       "      <td>...</td>\n",
       "      <td>...</td>\n",
       "    </tr>\n",
       "    <tr>\n",
       "      <th>1279</th>\n",
       "      <td>0</td>\n",
       "      <td>0</td>\n",
       "      <td>0</td>\n",
       "      <td>0</td>\n",
       "      <td>0</td>\n",
       "      <td>1</td>\n",
       "      <td>0</td>\n",
       "      <td>0</td>\n",
       "    </tr>\n",
       "    <tr>\n",
       "      <th>1280</th>\n",
       "      <td>0</td>\n",
       "      <td>0</td>\n",
       "      <td>0</td>\n",
       "      <td>0</td>\n",
       "      <td>0</td>\n",
       "      <td>1</td>\n",
       "      <td>0</td>\n",
       "      <td>0</td>\n",
       "    </tr>\n",
       "    <tr>\n",
       "      <th>1281</th>\n",
       "      <td>0</td>\n",
       "      <td>0</td>\n",
       "      <td>0</td>\n",
       "      <td>0</td>\n",
       "      <td>0</td>\n",
       "      <td>1</td>\n",
       "      <td>0</td>\n",
       "      <td>0</td>\n",
       "    </tr>\n",
       "    <tr>\n",
       "      <th>1282</th>\n",
       "      <td>0</td>\n",
       "      <td>1</td>\n",
       "      <td>0</td>\n",
       "      <td>0</td>\n",
       "      <td>0</td>\n",
       "      <td>1</td>\n",
       "      <td>0</td>\n",
       "      <td>0</td>\n",
       "    </tr>\n",
       "    <tr>\n",
       "      <th>1283</th>\n",
       "      <td>0</td>\n",
       "      <td>1</td>\n",
       "      <td>0</td>\n",
       "      <td>0</td>\n",
       "      <td>0</td>\n",
       "      <td>0</td>\n",
       "      <td>0</td>\n",
       "      <td>0</td>\n",
       "    </tr>\n",
       "  </tbody>\n",
       "</table>\n",
       "<p>1284 rows × 8 columns</p>\n",
       "</div>"
      ],
      "text/plain": [
       "      Aut  Class  Itpr  Prec  Princ  Rule  Syst  Tele\n",
       "0       0      0     0     0      0     1     0     0\n",
       "1       0      0     1     0      0     0     0     0\n",
       "2       0      0     0     0      0     1     0     0\n",
       "3       0      0     1     0      0     0     0     0\n",
       "4       0      0     0     1      0     0     0     0\n",
       "...   ...    ...   ...   ...    ...   ...   ...   ...\n",
       "1279    0      0     0     0      0     1     0     0\n",
       "1280    0      0     0     0      0     1     0     0\n",
       "1281    0      0     0     0      0     1     0     0\n",
       "1282    0      1     0     0      0     1     0     0\n",
       "1283    0      1     0     0      0     0     0     0\n",
       "\n",
       "[1284 rows x 8 columns]"
      ]
     },
     "execution_count": 44,
     "metadata": {},
     "output_type": "execute_result"
    }
   ],
   "source": [
    "df_sc_labels = df_sc_final[good_sc_columns]\n",
    "df_sc_labels"
   ]
  },
  {
   "cell_type": "markdown",
   "id": "6ce7a624",
   "metadata": {
    "id": "bb4aeLPck6Gd",
    "papermill": {
     "duration": 0.028644,
     "end_time": "2025-09-02T17:07:37.779546",
     "exception": false,
     "start_time": "2025-09-02T17:07:37.750902",
     "status": "completed"
    },
    "tags": []
   },
   "source": [
    "# Data analysis"
   ]
  },
  {
   "cell_type": "code",
   "execution_count": 45,
   "id": "c994c779",
   "metadata": {
    "execution": {
     "iopub.execute_input": "2025-09-02T17:07:37.837743Z",
     "iopub.status.busy": "2025-09-02T17:07:37.837493Z",
     "iopub.status.idle": "2025-09-02T17:07:38.030437Z",
     "shell.execute_reply": "2025-09-02T17:07:38.029591Z"
    },
    "id": "WeyNdG29k6Gd",
    "outputId": "f9c3fee9-e6f6-4276-ac04-32500e672051",
    "papermill": {
     "duration": 0.224284,
     "end_time": "2025-09-02T17:07:38.032297",
     "exception": false,
     "start_time": "2025-09-02T17:07:37.808013",
     "status": "completed"
    },
    "tags": []
   },
   "outputs": [
    {
     "data": {
      "text/plain": [
       "<Axes: >"
      ]
     },
     "execution_count": 45,
     "metadata": {},
     "output_type": "execute_result"
    },
    {
     "data": {
      "image/png": "[encoded data removed]",
      "text/plain": [
       "<Figure size 640x480 with 1 Axes>"
      ]
     },
     "metadata": {},
     "output_type": "display_data"
    }
   ],
   "source": [
    "df_ac['Name'].hist()"
   ]
  },
  {
   "cell_type": "code",
   "execution_count": 46,
   "id": "143ecc5a",
   "metadata": {
    "execution": {
     "iopub.execute_input": "2025-09-02T17:07:38.092273Z",
     "iopub.status.busy": "2025-09-02T17:07:38.091983Z",
     "iopub.status.idle": "2025-09-02T17:07:38.099355Z",
     "shell.execute_reply": "2025-09-02T17:07:38.098511Z"
    },
    "id": "EIpO4dFlk6Ge",
    "outputId": "39e91e09-f8c5-4b6b-cb63-6b0edf6d0fa7",
    "papermill": {
     "duration": 0.038952,
     "end_time": "2025-09-02T17:07:38.100946",
     "exception": false,
     "start_time": "2025-09-02T17:07:38.061994",
     "status": "completed"
    },
    "tags": []
   },
   "outputs": [
    {
     "name": "stdout",
     "output_type": "stream",
     "text": [
      "There are 2899 premises and 400 conclusions\n"
     ]
    }
   ],
   "source": [
    "print(f\"There are {len(df_ac[df_ac['Name'] == 'prem'])} premises and {len(df_ac[df_ac['Name'] == 'conc'])} conclusions\")"
   ]
  },
  {
   "cell_type": "code",
   "execution_count": 47,
   "id": "3cecced5",
   "metadata": {
    "execution": {
     "iopub.execute_input": "2025-09-02T17:07:38.160216Z",
     "iopub.status.busy": "2025-09-02T17:07:38.159977Z",
     "iopub.status.idle": "2025-09-02T17:07:38.338138Z",
     "shell.execute_reply": "2025-09-02T17:07:38.337324Z"
    },
    "id": "sE6acTa6k6Ge",
    "outputId": "1bb09152-cdce-4f63-f267-096f2bd392e9",
    "papermill": {
     "duration": 0.210131,
     "end_time": "2025-09-02T17:07:38.339975",
     "exception": false,
     "start_time": "2025-09-02T17:07:38.129844",
     "status": "completed"
    },
    "tags": []
   },
   "outputs": [
    {
     "data": {
      "text/plain": [
       "<BarContainer object of 2 artists>"
      ]
     },
     "execution_count": 47,
     "metadata": {},
     "output_type": "execute_result"
    },
    {
     "data": {
      "image/png": "[encoded data removed]",
      "text/plain": [
       "<Figure size 300x600 with 1 Axes>"
      ]
     },
     "metadata": {},
     "output_type": "display_data"
    }
   ],
   "source": [
    "values = df_tc_labels.sum().sort_values(ascending=False)\n",
    "y = np.array(values)\n",
    "x = np.array(values.index)\n",
    "plt.figure(figsize=(3,6))\n",
    "plt.bar(x, height=y)"
   ]
  },
  {
   "cell_type": "markdown",
   "id": "ba173668",
   "metadata": {
    "id": "M__dt1kV-ay1",
    "papermill": {
     "duration": 0.029803,
     "end_time": "2025-09-02T17:07:38.404968",
     "exception": false,
     "start_time": "2025-09-02T17:07:38.375165",
     "status": "completed"
    },
    "tags": []
   },
   "source": [
    "# Utils"
   ]
  },
  {
   "cell_type": "markdown",
   "id": "4b6d00bd",
   "metadata": {
    "id": "A4Tl_BDPk6G4",
    "papermill": {
     "duration": 0.029271,
     "end_time": "2025-09-02T17:07:38.464359",
     "exception": false,
     "start_time": "2025-09-02T17:07:38.435088",
     "status": "completed"
    },
    "tags": []
   },
   "source": [
    "## Train-Val-Test dataset splitting"
   ]
  },
  {
   "cell_type": "code",
   "execution_count": 48,
   "id": "40056af9",
   "metadata": {
    "execution": {
     "iopub.execute_input": "2025-09-02T17:07:38.525218Z",
     "iopub.status.busy": "2025-09-02T17:07:38.524499Z",
     "iopub.status.idle": "2025-09-02T17:07:38.530369Z",
     "shell.execute_reply": "2025-09-02T17:07:38.529665Z"
    },
    "id": "X6Q0zwjcl9sq",
    "papermill": {
     "duration": 0.037798,
     "end_time": "2025-09-02T17:07:38.531983",
     "exception": false,
     "start_time": "2025-09-02T17:07:38.494185",
     "status": "completed"
    },
    "tags": []
   },
   "outputs": [],
   "source": [
    "def split_dataset_ac(df, test_size=0.20):\n",
    "    total_samples = df.shape[0]\n",
    "    idx_train, idx_test = train_test_split(df['Document'].unique(),\n",
    "                                      random_state=SEED,\n",
    "                                      test_size=test_size)\n",
    "    idx_train, idx_val = train_test_split(idx_train,\n",
    "                                      random_state=SEED,\n",
    "                                      test_size=0.10)\n",
    "    df_train = df[df['Document'].isin(idx_train)]\n",
    "    df_val = df[df['Document'].isin(idx_val)]\n",
    "    df_test = df[df['Document'].isin(idx_test)]\n",
    "    print('Number of training samples: {} ({}%)'.format(df_train.shape[0], 100*df_train.shape[0]/total_samples))\n",
    "    print('Number of validation examples: {} ({}%)'.format(df_val.shape[0], 100*df_val.shape[0]/total_samples))\n",
    "    print('Number of test samples: {} ({}%)'.format(df_test.shape[0], 100*df_test.shape[0]/total_samples))\n",
    "    return df_train, df_val, df_test"
   ]
  },
  {
   "cell_type": "code",
   "execution_count": 49,
   "id": "e8f2b775",
   "metadata": {
    "execution": {
     "iopub.execute_input": "2025-09-02T17:07:38.607045Z",
     "iopub.status.busy": "2025-09-02T17:07:38.606547Z",
     "iopub.status.idle": "2025-09-02T17:07:38.612706Z",
     "shell.execute_reply": "2025-09-02T17:07:38.611763Z"
    },
    "papermill": {
     "duration": 0.04256,
     "end_time": "2025-09-02T17:07:38.614351",
     "exception": false,
     "start_time": "2025-09-02T17:07:38.571791",
     "status": "completed"
    },
    "tags": []
   },
   "outputs": [],
   "source": [
    "def split_on_idx(docs_idx,df, test_size=0.20):\n",
    "    total_samples = df.shape[0]\n",
    "    idx_train, idx_test = train_test_split(docs_idx,\n",
    "                                      random_state=SEED,\n",
    "                                      test_size=test_size)\n",
    "    idx_train, idx_val = train_test_split(idx_train,\n",
    "                                      random_state=SEED,\n",
    "                                      test_size=0.10)\n",
    "    df_train = df[df['Document'].isin(idx_train)]\n",
    "    df_val = df[df['Document'].isin(idx_val)]\n",
    "    df_test = df[df['Document'].isin(idx_test)]\n",
    "    print('Number of training samples: {} ({}%)'.format(df_train.shape[0], 100*df_train.shape[0]/total_samples))\n",
    "    print('Number of validation examples: {} ({}%)'.format(df_val.shape[0], 100*df_val.shape[0]/total_samples))\n",
    "    print('Number of test samples: {} ({}%)'.format(df_test.shape[0], 100*df_test.shape[0]/total_samples))\n",
    "    return df_train, df_val, df_test"
   ]
  },
  {
   "cell_type": "code",
   "execution_count": 50,
   "id": "9b8b9e07",
   "metadata": {
    "execution": {
     "iopub.execute_input": "2025-09-02T17:07:38.674124Z",
     "iopub.status.busy": "2025-09-02T17:07:38.673671Z",
     "iopub.status.idle": "2025-09-02T17:07:38.678451Z",
     "shell.execute_reply": "2025-09-02T17:07:38.677685Z"
    },
    "papermill": {
     "duration": 0.036506,
     "end_time": "2025-09-02T17:07:38.680039",
     "exception": false,
     "start_time": "2025-09-02T17:07:38.643533",
     "status": "completed"
    },
    "tags": []
   },
   "outputs": [],
   "source": [
    "def label_distribution_across_splits(train_df, val_df, test_df, labels):\n",
    "    distrib = {}\n",
    "    for label in labels:\n",
    "        tot = train_df[label].sum() + val_df[label].sum() + test_df[label].sum()\n",
    "        if tot == 0:\n",
    "            distrib[label] = {'train': 0, 'val': 0, 'test': 0}\n",
    "        else:\n",
    "            distrib[label] = {\n",
    "                'train': 100 * train_df[label].sum() / tot,\n",
    "                'val': 100 * val_df[label].sum() / tot,\n",
    "                'test': 100 * test_df[label].sum() / tot,\n",
    "            }\n",
    "    return distrib"
   ]
  },
  {
   "cell_type": "code",
   "execution_count": 51,
   "id": "3aa5d22e",
   "metadata": {
    "execution": {
     "iopub.execute_input": "2025-09-02T17:07:38.764510Z",
     "iopub.status.busy": "2025-09-02T17:07:38.763976Z",
     "iopub.status.idle": "2025-09-02T17:07:38.773705Z",
     "shell.execute_reply": "2025-09-02T17:07:38.773007Z"
    },
    "papermill": {
     "duration": 0.051539,
     "end_time": "2025-09-02T17:07:38.775497",
     "exception": false,
     "start_time": "2025-09-02T17:07:38.723958",
     "status": "completed"
    },
    "tags": []
   },
   "outputs": [],
   "source": [
    "labels  = list(df_sc_labels.columns)\n",
    "def split_dataset_sc(df_sc, show_label_distr = False):\n",
    "    docs_full  = list(df_sc.Document.unique())\n",
    "    agg = df_sc.groupby('Document')[labels].sum()\n",
    "    doc_tele_idx = list(agg.loc[agg.Tele >=1].index)\n",
    "    doc_syst_idx = list(agg.loc[(agg.Syst >=1) & (agg.Tele <1)].index)\n",
    "    doc_aut_idx  =  list(agg.loc[(agg.Aut >=1) & (agg.Tele <1) & (agg.Syst<1)].index)\n",
    "    rare_docs = doc_tele_idx + doc_syst_idx + doc_aut_idx\n",
    "    first_split_docs_idx =  [d for d in docs_full if d not in rare_docs]\n",
    "    tr1,val1,test1 = split_on_idx(first_split_docs_idx,df_sc)\n",
    "    tr2,val2,test2 = split_on_idx(doc_aut_idx,df_sc)\n",
    "    tr3,val3,test3 = split_on_idx(doc_syst_idx,df_sc)\n",
    "    tr4,val4,test4 = split_on_idx(doc_tele_idx,df_sc)\n",
    "\n",
    "    train_df = pd.concat([tr1, tr2, tr3,tr4], axis=0, ignore_index=True)\n",
    "    val_df = pd.concat([val1, val2, val3, val4], axis=0, ignore_index=True)\n",
    "    test_df = pd.concat([test1, test2, test3,test4], axis=0, ignore_index=True)\n",
    "\n",
    "    if show_label_distr:\n",
    "        distrib = label_distribution_across_splits(train_df, val_df, test_df, labels)\n",
    "\n",
    "        for label, perc in distrib.items():\n",
    "            print(f\"Distribuzione label '{label}':\")\n",
    "            print(f\"  Train: {perc['train']:.2f}%\")\n",
    "            print(f\"  Val:   {perc['val']:.2f}%\")\n",
    "            print(f\"  Test:  {perc['test']:.2f}%\\n\")\n",
    "            \n",
    "    return train_df,val_df,test_df\n",
    " "
   ]
  },
  {
   "cell_type": "code",
   "execution_count": 52,
   "id": "df33cd2e",
   "metadata": {
    "execution": {
     "iopub.execute_input": "2025-09-02T17:07:38.835910Z",
     "iopub.status.busy": "2025-09-02T17:07:38.835274Z",
     "iopub.status.idle": "2025-09-02T17:07:38.856654Z",
     "shell.execute_reply": "2025-09-02T17:07:38.855779Z"
    },
    "papermill": {
     "duration": 0.052963,
     "end_time": "2025-09-02T17:07:38.858212",
     "exception": false,
     "start_time": "2025-09-02T17:07:38.805249",
     "status": "completed"
    },
    "tags": []
   },
   "outputs": [
    {
     "name": "stdout",
     "output_type": "stream",
     "text": [
      "Number of training samples: 485 (37.77258566978193%)\n",
      "Number of validation examples: 93 (7.242990654205608%)\n",
      "Number of test samples: 125 (9.735202492211839%)\n",
      "Number of training samples: 183 (14.25233644859813%)\n",
      "Number of validation examples: 32 (2.4922118380062304%)\n",
      "Number of test samples: 66 (5.140186915887851%)\n",
      "Number of training samples: 99 (7.710280373831775%)\n",
      "Number of validation examples: 16 (1.2461059190031152%)\n",
      "Number of test samples: 15 (1.1682242990654206%)\n",
      "Number of training samples: 118 (9.190031152647975%)\n",
      "Number of validation examples: 9 (0.7009345794392523%)\n",
      "Number of test samples: 43 (3.3489096573208723%)\n"
     ]
    }
   ],
   "source": [
    "tr,val,ts = split_dataset_sc(df_sc_final)"
   ]
  },
  {
   "cell_type": "code",
   "execution_count": 53,
   "id": "acd49812",
   "metadata": {
    "execution": {
     "iopub.execute_input": "2025-09-02T17:07:38.917951Z",
     "iopub.status.busy": "2025-09-02T17:07:38.917701Z",
     "iopub.status.idle": "2025-09-02T17:07:38.927260Z",
     "shell.execute_reply": "2025-09-02T17:07:38.926238Z"
    },
    "papermill": {
     "duration": 0.041338,
     "end_time": "2025-09-02T17:07:38.928899",
     "exception": false,
     "start_time": "2025-09-02T17:07:38.887561",
     "status": "completed"
    },
    "tags": []
   },
   "outputs": [
    {
     "name": "stdout",
     "output_type": "stream",
     "text": [
      "Number of training samples: 899 (70.01557632398755%)\n",
      "Number of validation examples: 133 (10.358255451713395%)\n",
      "Number of test samples: 252 (19.626168224299064%)\n",
      "Distribuzione label 'Aut':\n",
      "  Train: 66.67%\n",
      "  Val:   11.11%\n",
      "  Test:  22.22%\n",
      "\n",
      "Distribuzione label 'Class':\n",
      "  Train: 68.00%\n",
      "  Val:   6.00%\n",
      "  Test:  26.00%\n",
      "\n",
      "Distribuzione label 'Itpr':\n",
      "  Train: 65.37%\n",
      "  Val:   10.03%\n",
      "  Test:  24.60%\n",
      "\n",
      "Distribuzione label 'Prec':\n",
      "  Train: 73.61%\n",
      "  Val:   9.93%\n",
      "  Test:  16.46%\n",
      "\n",
      "Distribuzione label 'Princ':\n",
      "  Train: 73.94%\n",
      "  Val:   9.15%\n",
      "  Test:  16.90%\n",
      "\n",
      "Distribuzione label 'Rule':\n",
      "  Train: 70.77%\n",
      "  Val:   10.74%\n",
      "  Test:  18.49%\n",
      "\n",
      "Distribuzione label 'Syst':\n",
      "  Train: 66.67%\n",
      "  Val:   14.81%\n",
      "  Test:  18.52%\n",
      "\n",
      "Distribuzione label 'Tele':\n",
      "  Train: 58.82%\n",
      "  Val:   29.41%\n",
      "  Test:  11.76%\n",
      "\n"
     ]
    }
   ],
   "source": [
    "\n",
    "tr, val, ts = split_dataset_ac(df_sc_final)\n",
    "\n",
    "\n",
    "distrib = label_distribution_across_splits(tr, val, ts, labels)\n",
    "\n",
    "for label, perc in distrib.items():\n",
    "    print(f\"Distribuzione label '{label}':\")\n",
    "    print(f\"  Train: {perc['train']:.2f}%\")\n",
    "    print(f\"  Val:   {perc['val']:.2f}%\")\n",
    "    print(f\"  Test:  {perc['test']:.2f}%\\n\")"
   ]
  },
  {
   "cell_type": "code",
   "execution_count": 54,
   "id": "e965a918",
   "metadata": {
    "execution": {
     "iopub.execute_input": "2025-09-02T17:07:38.988566Z",
     "iopub.status.busy": "2025-09-02T17:07:38.988068Z",
     "iopub.status.idle": "2025-09-02T17:07:38.998560Z",
     "shell.execute_reply": "2025-09-02T17:07:38.997954Z"
    },
    "id": "CekuG83s5Gse",
    "papermill": {
     "duration": 0.041997,
     "end_time": "2025-09-02T17:07:39.000085",
     "exception": false,
     "start_time": "2025-09-02T17:07:38.958088",
     "status": "completed"
    },
    "tags": []
   },
   "outputs": [],
   "source": [
    "from skmultilearn.model_selection import iterative_train_test_split\n",
    "def iterative_split(df_sc_final, df_sc_labels,test_size=0.15):\n",
    "    X = np.expand_dims(df_sc_final.index.values,1)\n",
    "    y = df_sc_labels.values\n",
    "    t_train, y_train, t_test, y_test = iterative_train_test_split(X,y, test_size = 0.2)\n",
    "    t_train, y_train, t_val, y_val = iterative_train_test_split(t_train, y_train, test_size = 0.15)\n",
    "    print(np.shape(t_train),np.shape(t_test),np.shape(t_val))\n",
    "    df_train = df_sc_final.iloc[np.squeeze(t_train)]\n",
    "    df_val = df_sc_final.iloc[np.squeeze(t_val)]\n",
    "    df_test = df_sc_final.iloc[np.squeeze(t_test)]\n",
    "    return df_train,df_val,df_test\n"
   ]
  },
  {
   "cell_type": "code",
   "execution_count": 55,
   "id": "10fb783a",
   "metadata": {
    "execution": {
     "iopub.execute_input": "2025-09-02T17:07:39.060340Z",
     "iopub.status.busy": "2025-09-02T17:07:39.059652Z",
     "iopub.status.idle": "2025-09-02T17:07:39.076089Z",
     "shell.execute_reply": "2025-09-02T17:07:39.075051Z"
    },
    "id": "gwW79EfN5Gsf",
    "outputId": "8ae4408d-14e0-48bf-efd2-a50fa3074e81",
    "papermill": {
     "duration": 0.04813,
     "end_time": "2025-09-02T17:07:39.077703",
     "exception": false,
     "start_time": "2025-09-02T17:07:39.029573",
     "status": "completed"
    },
    "tags": []
   },
   "outputs": [
    {
     "name": "stdout",
     "output_type": "stream",
     "text": [
      "Number of training samples: 485 (37.77258566978193%)\n",
      "Number of validation examples: 93 (7.242990654205608%)\n",
      "Number of test samples: 125 (9.735202492211839%)\n",
      "Number of training samples: 183 (14.25233644859813%)\n",
      "Number of validation examples: 32 (2.4922118380062304%)\n",
      "Number of test samples: 66 (5.140186915887851%)\n",
      "Number of training samples: 99 (7.710280373831775%)\n",
      "Number of validation examples: 16 (1.2461059190031152%)\n",
      "Number of test samples: 15 (1.1682242990654206%)\n",
      "Number of training samples: 118 (9.190031152647975%)\n",
      "Number of validation examples: 9 (0.7009345794392523%)\n",
      "Number of test samples: 43 (3.3489096573208723%)\n"
     ]
    }
   ],
   "source": [
    "#df_train,df_val,df_test = iterative_split(df_sc_final,df_sc_labels)\n",
    "df_train,df_val,df_test = split_dataset_sc(df_sc_final)\n"
   ]
  },
  {
   "cell_type": "code",
   "execution_count": 56,
   "id": "80265da3",
   "metadata": {
    "execution": {
     "iopub.execute_input": "2025-09-02T17:07:39.137636Z",
     "iopub.status.busy": "2025-09-02T17:07:39.137009Z",
     "iopub.status.idle": "2025-09-02T17:07:39.143788Z",
     "shell.execute_reply": "2025-09-02T17:07:39.142917Z"
    },
    "id": "_nDNgyDv5Gsf",
    "outputId": "ac466806-a245-42e5-a8ec-21bdb24d332f",
    "papermill": {
     "duration": 0.038357,
     "end_time": "2025-09-02T17:07:39.145388",
     "exception": false,
     "start_time": "2025-09-02T17:07:39.107031",
     "status": "completed"
    },
    "tags": []
   },
   "outputs": [
    {
     "data": {
      "text/plain": [
       "Scheme\n",
       "Rule     385\n",
       "Prec     292\n",
       "Itpr     226\n",
       "Princ     92\n",
       "Class     64\n",
       "Aut       55\n",
       "Syst      17\n",
       "Tele      11\n",
       "Name: count, dtype: int64"
      ]
     },
     "execution_count": 56,
     "metadata": {},
     "output_type": "execute_result"
    }
   ],
   "source": [
    "df_train['Scheme'].explode().value_counts()"
   ]
  },
  {
   "cell_type": "code",
   "execution_count": 57,
   "id": "5c519229",
   "metadata": {
    "execution": {
     "iopub.execute_input": "2025-09-02T17:07:39.205450Z",
     "iopub.status.busy": "2025-09-02T17:07:39.205179Z",
     "iopub.status.idle": "2025-09-02T17:07:39.212015Z",
     "shell.execute_reply": "2025-09-02T17:07:39.211250Z"
    },
    "id": "XOElsvwz5Gsf",
    "outputId": "f329e3a4-1310-43b3-b18e-1aa7c4bbe0a6",
    "papermill": {
     "duration": 0.038713,
     "end_time": "2025-09-02T17:07:39.213652",
     "exception": false,
     "start_time": "2025-09-02T17:07:39.174939",
     "status": "completed"
    },
    "tags": []
   },
   "outputs": [
    {
     "data": {
      "text/plain": [
       "Scheme\n",
       "Rule     126\n",
       "Prec      76\n",
       "Itpr      52\n",
       "Class     25\n",
       "Princ     18\n",
       "Aut       12\n",
       "Syst       6\n",
       "Tele       4\n",
       "Name: count, dtype: int64"
      ]
     },
     "execution_count": 57,
     "metadata": {},
     "output_type": "execute_result"
    }
   ],
   "source": [
    "df_val['Scheme'].explode().value_counts()\n",
    "df_test['Scheme'].explode().value_counts()"
   ]
  },
  {
   "cell_type": "code",
   "execution_count": 58,
   "id": "90af5d81",
   "metadata": {
    "execution": {
     "iopub.execute_input": "2025-09-02T17:07:39.275667Z",
     "iopub.status.busy": "2025-09-02T17:07:39.275399Z",
     "iopub.status.idle": "2025-09-02T17:07:39.285451Z",
     "shell.execute_reply": "2025-09-02T17:07:39.284790Z"
    },
    "id": "TLL4F3z25Gsg",
    "outputId": "ef19b4d9-58f5-46a3-a4e9-9f710deb8daf",
    "papermill": {
     "duration": 0.042883,
     "end_time": "2025-09-02T17:07:39.286991",
     "exception": false,
     "start_time": "2025-09-02T17:07:39.244108",
     "status": "completed"
    },
    "tags": []
   },
   "outputs": [
    {
     "data": {
      "text/plain": [
       "817    I cosiddetti “premi di incentivazione' sono fi...\n",
       "862    Dall'esame degli atti emerge che la società BM...\n",
       "870    La ratio, è evidente, è quella di evitare che ...\n",
       "Name: Text, dtype: object"
      ]
     },
     "execution_count": 58,
     "metadata": {},
     "output_type": "execute_result"
    }
   ],
   "source": [
    "#df_train, df_val, df_test=split_dataset(df_sc_final)\n",
    "df_train1  = df_train.explode('Scheme')\n",
    "df_train1[df_train1['Scheme2']=='Tele']['Text']"
   ]
  },
  {
   "cell_type": "code",
   "execution_count": 59,
   "id": "3b5e5845",
   "metadata": {
    "execution": {
     "iopub.execute_input": "2025-09-02T17:07:39.347506Z",
     "iopub.status.busy": "2025-09-02T17:07:39.347215Z",
     "iopub.status.idle": "2025-09-02T17:07:39.353334Z",
     "shell.execute_reply": "2025-09-02T17:07:39.352493Z"
    },
    "id": "IXdzyqIY5Gsg",
    "outputId": "1fbf19cc-96a2-4d30-c802-a4e835b5f44a",
    "papermill": {
     "duration": 0.038338,
     "end_time": "2025-09-02T17:07:39.355045",
     "exception": false,
     "start_time": "2025-09-02T17:07:39.316707",
     "status": "completed"
    },
    "tags": []
   },
   "outputs": [
    {
     "data": {
      "text/plain": [
       "Scheme\n",
       "Rule     385\n",
       "Prec     292\n",
       "Itpr     226\n",
       "Princ     92\n",
       "Class     64\n",
       "Aut       55\n",
       "Syst      17\n",
       "Tele      11\n",
       "Name: count, dtype: int64"
      ]
     },
     "execution_count": 59,
     "metadata": {},
     "output_type": "execute_result"
    }
   ],
   "source": [
    "df_train1['Scheme'].value_counts()"
   ]
  },
  {
   "cell_type": "code",
   "execution_count": 60,
   "id": "c2ae61ee",
   "metadata": {
    "execution": {
     "iopub.execute_input": "2025-09-02T17:07:39.416573Z",
     "iopub.status.busy": "2025-09-02T17:07:39.416122Z",
     "iopub.status.idle": "2025-09-02T17:07:39.423967Z",
     "shell.execute_reply": "2025-09-02T17:07:39.423136Z"
    },
    "id": "JOZAPIxm5Gsg",
    "outputId": "1d93edf2-5d19-4eb3-819d-9f6ad14d0b02",
    "papermill": {
     "duration": 0.040957,
     "end_time": "2025-09-02T17:07:39.425545",
     "exception": false,
     "start_time": "2025-09-02T17:07:39.384588",
     "status": "completed"
    },
    "tags": []
   },
   "outputs": [
    {
     "data": {
      "text/plain": [
       "Rule      2.901408\n",
       "Prec      3.990315\n",
       "Itpr      5.333333\n",
       "Princ    11.605634\n",
       "Class    16.480000\n",
       "Aut      22.888889\n",
       "Syst     61.037037\n",
       "Tele     96.941176\n",
       "dtype: float64"
      ]
     },
     "execution_count": 60,
     "metadata": {},
     "output_type": "execute_result"
    }
   ],
   "source": [
    "count = df_sc_labels.sum().sort_values(ascending=False)\n",
    "tot=np.array(count.reset_index(drop=True)).sum()\n",
    "inv_class_fq = count/tot\n",
    "1/inv_class_fq\n",
    "class_weights = tot / (count)\n",
    "class_weights"
   ]
  },
  {
   "cell_type": "markdown",
   "id": "2314d94b",
   "metadata": {
    "id": "_jqzHpLI5Gsh",
    "papermill": {
     "duration": 0.029992,
     "end_time": "2025-09-02T17:07:39.485113",
     "exception": false,
     "start_time": "2025-09-02T17:07:39.455121",
     "status": "completed"
    },
    "tags": []
   },
   "source": [
    "## Data Aug with translation + NLPaug"
   ]
  },
  {
   "cell_type": "code",
   "execution_count": 61,
   "id": "23a4357f",
   "metadata": {
    "execution": {
     "iopub.execute_input": "2025-09-02T17:07:39.545336Z",
     "iopub.status.busy": "2025-09-02T17:07:39.544666Z",
     "iopub.status.idle": "2025-09-02T17:07:39.549002Z",
     "shell.execute_reply": "2025-09-02T17:07:39.548196Z"
    },
    "id": "jnN-bP8j5Gsh",
    "papermill": {
     "duration": 0.036027,
     "end_time": "2025-09-02T17:07:39.550528",
     "exception": false,
     "start_time": "2025-09-02T17:07:39.514501",
     "status": "completed"
    },
    "tags": []
   },
   "outputs": [],
   "source": [
    "if GENERATION:\n",
    "    from deep_translator import GoogleTranslator,ChatGptTranslator,PonsTranslator\n",
    "    #GoogleTranslator(source='auto', target='en').translate(\"guten Tag\")\n",
    "    translator = GoogleTranslator(source = 'italian',target = 'english')\n",
    "    retranslator =  GoogleTranslator(source = 'english',target = 'italian')\n",
    "    #tried also with roberta-large and insertion, but this performed slightly better\n",
    "    aug = naw.ContextualWordEmbsAug(\n",
    "    model_path='bert-large-cased', action=\"substitute\")\n"
   ]
  },
  {
   "cell_type": "code",
   "execution_count": 62,
   "id": "7650c1e0",
   "metadata": {
    "execution": {
     "iopub.execute_input": "2025-09-02T17:07:39.611172Z",
     "iopub.status.busy": "2025-09-02T17:07:39.610673Z",
     "iopub.status.idle": "2025-09-02T17:07:39.617320Z",
     "shell.execute_reply": "2025-09-02T17:07:39.616643Z"
    },
    "id": "roqDua0Q5Gsh",
    "papermill": {
     "duration": 0.038693,
     "end_time": "2025-09-02T17:07:39.618825",
     "exception": false,
     "start_time": "2025-09-02T17:07:39.580132",
     "status": "completed"
    },
    "tags": []
   },
   "outputs": [],
   "source": [
    "def google_translate(text,translator):\n",
    "    output = []\n",
    "    #print(translate_text)\n",
    "    for t in text:\n",
    "        translate_text = translator.translate(t)\n",
    "        output.append(translate_text)\n",
    "    return output\n",
    "def google_retranslate(text,translator):\n",
    "    output = []\n",
    "    #print(translate_text)\n",
    "    for t in text:\n",
    "        translate_text = translator.translate(t)\n",
    "        output.append(translate_text)\n",
    "    return output\n",
    "\n",
    "def augment(aug,text,n=1):\n",
    "    aug_text = aug.augment(text,n=n)\n",
    "    #print(f\"aug: {aug_text}\")\n",
    "    return aug_text\n",
    "\n",
    "def translate(model,tokenizer,text):\n",
    "    model.eval()\n",
    "    translated = model.generate(**tokenizer(text, return_tensors=\"pt\", padding=True),max_length=256,)\n",
    "    trans_text = []\n",
    "\n",
    "    for t in translated:\n",
    "        z = tokenizer.decode(t, skip_special_tokens=True)\n",
    "        #print(z)\n",
    "        trans_text.append(z)\n",
    "    return trans_text\n",
    "\n",
    "def retranslate(model,tokenizer,text):\n",
    "    model.eval()\n",
    "    retranslated = model.generate(**tokenizer(text, return_tensors=\"pt\", padding=True),max_length=256)\n",
    "    retrans_text = []\n",
    "    for t in retranslated:\n",
    "        z = tokenizer.decode(t, skip_special_tokens=True)\n",
    "        #print(z)\n",
    "        retrans_text.append(z)\n",
    "    return retrans_text\n"
   ]
  },
  {
   "cell_type": "code",
   "execution_count": 63,
   "id": "9d1584be",
   "metadata": {
    "execution": {
     "iopub.execute_input": "2025-09-02T17:07:39.679397Z",
     "iopub.status.busy": "2025-09-02T17:07:39.679145Z",
     "iopub.status.idle": "2025-09-02T17:07:39.682217Z",
     "shell.execute_reply": "2025-09-02T17:07:39.681523Z"
    },
    "papermill": {
     "duration": 0.035074,
     "end_time": "2025-09-02T17:07:39.683691",
     "exception": false,
     "start_time": "2025-09-02T17:07:39.648617",
     "status": "completed"
    },
    "tags": []
   },
   "outputs": [],
   "source": [
    "#maj_classes  = ['Rule','Prec','Itpr']\n",
    "#no maj classes\n",
    "#df_to_aug = df_train[~df_train[maj_classes].any(axis=1)].reset_index(drop=True)"
   ]
  },
  {
   "cell_type": "code",
   "execution_count": 64,
   "id": "e3ae5384",
   "metadata": {
    "execution": {
     "iopub.execute_input": "2025-09-02T17:07:39.747003Z",
     "iopub.status.busy": "2025-09-02T17:07:39.746767Z",
     "iopub.status.idle": "2025-09-02T17:07:39.750123Z",
     "shell.execute_reply": "2025-09-02T17:07:39.749386Z"
    },
    "papermill": {
     "duration": 0.036144,
     "end_time": "2025-09-02T17:07:39.751717",
     "exception": false,
     "start_time": "2025-09-02T17:07:39.715573",
     "status": "completed"
    },
    "tags": []
   },
   "outputs": [],
   "source": [
    "df_to_aug=df_train"
   ]
  },
  {
   "cell_type": "code",
   "execution_count": 65,
   "id": "f9884253",
   "metadata": {
    "execution": {
     "iopub.execute_input": "2025-09-02T17:07:39.812789Z",
     "iopub.status.busy": "2025-09-02T17:07:39.812331Z",
     "iopub.status.idle": "2025-09-02T17:07:39.818204Z",
     "shell.execute_reply": "2025-09-02T17:07:39.817486Z"
    },
    "papermill": {
     "duration": 0.037739,
     "end_time": "2025-09-02T17:07:39.819844",
     "exception": false,
     "start_time": "2025-09-02T17:07:39.782105",
     "status": "completed"
    },
    "tags": []
   },
   "outputs": [],
   "source": [
    "if GENERATION:\n",
    "    new_text = []\n",
    "    new_target = []\n",
    "\n",
    "    #start with the class having the smallest suppport\n",
    "    class_to_aug = ['Tele','Syst','Aut','Class','Princ']\n",
    "    \n",
    "    #n_samples = [1,2,3,5,6]\n",
    "    n_samples = [6,5,4,3,1]\n",
    "    visited = [] #avoid augmenting same sentence belonging to two or more classes \n",
    "    \n",
    "    for ca,n in zip(class_to_aug,n_samples):\n",
    "\n",
    "        new_df = df_to_aug[df_to_aug[ca]== 1]\n",
    "        print(ca)\n",
    "        for i in new_df.index:\n",
    "            if i in visited:\n",
    "                continue\n",
    "            x = df_to_aug.iloc[i]\n",
    "            text = x.Text\n",
    "            a = google_translate([text],translator)\n",
    "            #print(a)\n",
    "            b = augment(aug,a[0],n=n)\n",
    "            #print(b)\n",
    "            c = google_retranslate(b,retranslator)\n",
    "            new_text = new_text + c\n",
    "            #print(list(x[labels].values))\n",
    "            values  = list(x[labels].values)\n",
    "            new_target = new_target + [values]*n\n",
    "            visited.append(i)\n",
    "        print(len(new_text))\n",
    "        #print(new_target)\n",
    "    new_df = pd.DataFrame(new_target,columns = labels)\n",
    "    new_df.insert(0,'Text',new_text)\n",
    "    new_df.to_csv(f'aug_data_{SEED}.csv')"
   ]
  },
  {
   "cell_type": "code",
   "execution_count": 66,
   "id": "c9e34079",
   "metadata": {
    "execution": {
     "iopub.execute_input": "2025-09-02T17:07:39.880486Z",
     "iopub.status.busy": "2025-09-02T17:07:39.880273Z",
     "iopub.status.idle": "2025-09-02T17:07:39.884784Z",
     "shell.execute_reply": "2025-09-02T17:07:39.883989Z"
    },
    "papermill": {
     "duration": 0.036867,
     "end_time": "2025-09-02T17:07:39.886452",
     "exception": false,
     "start_time": "2025-09-02T17:07:39.849585",
     "status": "completed"
    },
    "tags": []
   },
   "outputs": [],
   "source": [
    "def load_aug_data(df_train):\n",
    "    AUG_PATH = '/kaggle/input/nlp-pw' if os.environ.get('KAGGLE_KERNEL_RUN_TYPE','') else os.getcwd()\n",
    "    #AUG_PATH = os.getcwd()\n",
    "    new_dataframe = pd.read_csv(\"\".join([AUG_PATH,f'/aug_data_{SEED}.csv']))\n",
    "    new_dataframe=new_dataframe.drop('Unnamed: 0',axis=1)\n",
    "    df1 = df_train[['Text',*labels]].reset_index(drop=True)\n",
    "    tot_df = pd.concat([df1,new_dataframe],ignore_index=True)\n",
    "    return tot_df    "
   ]
  },
  {
   "cell_type": "code",
   "execution_count": 67,
   "id": "6d5e62bd",
   "metadata": {
    "execution": {
     "iopub.execute_input": "2025-09-02T17:07:39.947216Z",
     "iopub.status.busy": "2025-09-02T17:07:39.946812Z",
     "iopub.status.idle": "2025-09-02T17:07:39.983589Z",
     "shell.execute_reply": "2025-09-02T17:07:39.982839Z"
    },
    "papermill": {
     "duration": 0.069019,
     "end_time": "2025-09-02T17:07:39.985165",
     "exception": false,
     "start_time": "2025-09-02T17:07:39.916146",
     "status": "completed"
    },
    "tags": []
   },
   "outputs": [
    {
     "data": {
      "text/html": [
       "<div>\n",
       "<style scoped>\n",
       "    .dataframe tbody tr th:only-of-type {\n",
       "        vertical-align: middle;\n",
       "    }\n",
       "\n",
       "    .dataframe tbody tr th {\n",
       "        vertical-align: top;\n",
       "    }\n",
       "\n",
       "    .dataframe thead th {\n",
       "        text-align: right;\n",
       "    }\n",
       "</style>\n",
       "<table border=\"1\" class=\"dataframe\">\n",
       "  <thead>\n",
       "    <tr style=\"text-align: right;\">\n",
       "      <th></th>\n",
       "      <th>Text</th>\n",
       "      <th>Aut</th>\n",
       "      <th>Class</th>\n",
       "      <th>Itpr</th>\n",
       "      <th>Prec</th>\n",
       "      <th>Princ</th>\n",
       "      <th>Rule</th>\n",
       "      <th>Syst</th>\n",
       "      <th>Tele</th>\n",
       "    </tr>\n",
       "  </thead>\n",
       "  <tbody>\n",
       "    <tr>\n",
       "      <th>0</th>\n",
       "      <td>Ai sensi dell'art. 14 del d.lgs.546/92, se l'o...</td>\n",
       "      <td>0</td>\n",
       "      <td>0</td>\n",
       "      <td>0</td>\n",
       "      <td>0</td>\n",
       "      <td>0</td>\n",
       "      <td>1</td>\n",
       "      <td>0</td>\n",
       "      <td>0</td>\n",
       "    </tr>\n",
       "    <tr>\n",
       "      <th>1</th>\n",
       "      <td>Se il ricorso non è stato proposto da o nei co...</td>\n",
       "      <td>0</td>\n",
       "      <td>0</td>\n",
       "      <td>1</td>\n",
       "      <td>0</td>\n",
       "      <td>0</td>\n",
       "      <td>0</td>\n",
       "      <td>0</td>\n",
       "      <td>0</td>\n",
       "    </tr>\n",
       "    <tr>\n",
       "      <th>2</th>\n",
       "      <td>Secondo condivisa e costante giurisprudenza (C...</td>\n",
       "      <td>0</td>\n",
       "      <td>0</td>\n",
       "      <td>0</td>\n",
       "      <td>0</td>\n",
       "      <td>0</td>\n",
       "      <td>1</td>\n",
       "      <td>0</td>\n",
       "      <td>0</td>\n",
       "    </tr>\n",
       "    <tr>\n",
       "      <th>3</th>\n",
       "      <td>Tuttavia, nel caso qui in esame, la Comm/ne no...</td>\n",
       "      <td>0</td>\n",
       "      <td>0</td>\n",
       "      <td>1</td>\n",
       "      <td>0</td>\n",
       "      <td>0</td>\n",
       "      <td>0</td>\n",
       "      <td>0</td>\n",
       "      <td>0</td>\n",
       "    </tr>\n",
       "    <tr>\n",
       "      <th>4</th>\n",
       "      <td>A tal proposito si ricorda che la Corte cost. ...</td>\n",
       "      <td>0</td>\n",
       "      <td>0</td>\n",
       "      <td>0</td>\n",
       "      <td>1</td>\n",
       "      <td>0</td>\n",
       "      <td>0</td>\n",
       "      <td>0</td>\n",
       "      <td>0</td>\n",
       "    </tr>\n",
       "    <tr>\n",
       "      <th>...</th>\n",
       "      <td>...</td>\n",
       "      <td>...</td>\n",
       "      <td>...</td>\n",
       "      <td>...</td>\n",
       "      <td>...</td>\n",
       "      <td>...</td>\n",
       "      <td>...</td>\n",
       "      <td>...</td>\n",
       "      <td>...</td>\n",
       "    </tr>\n",
       "    <tr>\n",
       "      <th>1498</th>\n",
       "      <td>Ma un'IVA per gli immigrati è un diritto comme...</td>\n",
       "      <td>0</td>\n",
       "      <td>0</td>\n",
       "      <td>0</td>\n",
       "      <td>0</td>\n",
       "      <td>1</td>\n",
       "      <td>0</td>\n",
       "      <td>0</td>\n",
       "      <td>0</td>\n",
       "    </tr>\n",
       "    <tr>\n",
       "      <th>1499</th>\n",
       "      <td>Il fornitore ha dovuto inviare protocollo le d...</td>\n",
       "      <td>0</td>\n",
       "      <td>0</td>\n",
       "      <td>0</td>\n",
       "      <td>0</td>\n",
       "      <td>1</td>\n",
       "      <td>0</td>\n",
       "      <td>0</td>\n",
       "      <td>0</td>\n",
       "    </tr>\n",
       "    <tr>\n",
       "      <th>1500</th>\n",
       "      <td>Deve quindi sembrare che il solito cliente / e...</td>\n",
       "      <td>0</td>\n",
       "      <td>0</td>\n",
       "      <td>0</td>\n",
       "      <td>0</td>\n",
       "      <td>1</td>\n",
       "      <td>0</td>\n",
       "      <td>0</td>\n",
       "      <td>0</td>\n",
       "    </tr>\n",
       "    <tr>\n",
       "      <th>1501</th>\n",
       "      <td>Né, infine, se gli effetti dell'incapacità di ...</td>\n",
       "      <td>0</td>\n",
       "      <td>0</td>\n",
       "      <td>0</td>\n",
       "      <td>0</td>\n",
       "      <td>1</td>\n",
       "      <td>1</td>\n",
       "      <td>0</td>\n",
       "      <td>0</td>\n",
       "    </tr>\n",
       "    <tr>\n",
       "      <th>1502</th>\n",
       "      <td>Ma la commissione che le procedure adottate in...</td>\n",
       "      <td>0</td>\n",
       "      <td>0</td>\n",
       "      <td>0</td>\n",
       "      <td>0</td>\n",
       "      <td>1</td>\n",
       "      <td>0</td>\n",
       "      <td>0</td>\n",
       "      <td>0</td>\n",
       "    </tr>\n",
       "  </tbody>\n",
       "</table>\n",
       "<p>1503 rows × 9 columns</p>\n",
       "</div>"
      ],
      "text/plain": [
       "                                                   Text  Aut  Class  Itpr  \\\n",
       "0     Ai sensi dell'art. 14 del d.lgs.546/92, se l'o...    0      0     0   \n",
       "1     Se il ricorso non è stato proposto da o nei co...    0      0     1   \n",
       "2     Secondo condivisa e costante giurisprudenza (C...    0      0     0   \n",
       "3     Tuttavia, nel caso qui in esame, la Comm/ne no...    0      0     1   \n",
       "4     A tal proposito si ricorda che la Corte cost. ...    0      0     0   \n",
       "...                                                 ...  ...    ...   ...   \n",
       "1498  Ma un'IVA per gli immigrati è un diritto comme...    0      0     0   \n",
       "1499  Il fornitore ha dovuto inviare protocollo le d...    0      0     0   \n",
       "1500  Deve quindi sembrare che il solito cliente / e...    0      0     0   \n",
       "1501  Né, infine, se gli effetti dell'incapacità di ...    0      0     0   \n",
       "1502  Ma la commissione che le procedure adottate in...    0      0     0   \n",
       "\n",
       "      Prec  Princ  Rule  Syst  Tele  \n",
       "0        0      0     1     0     0  \n",
       "1        0      0     0     0     0  \n",
       "2        0      0     1     0     0  \n",
       "3        0      0     0     0     0  \n",
       "4        1      0     0     0     0  \n",
       "...    ...    ...   ...   ...   ...  \n",
       "1498     0      1     0     0     0  \n",
       "1499     0      1     0     0     0  \n",
       "1500     0      1     0     0     0  \n",
       "1501     0      1     1     0     0  \n",
       "1502     0      1     0     0     0  \n",
       "\n",
       "[1503 rows x 9 columns]"
      ]
     },
     "execution_count": 67,
     "metadata": {},
     "output_type": "execute_result"
    }
   ],
   "source": [
    "merge_df = load_aug_data(df_train)\n",
    "merge_df"
   ]
  },
  {
   "cell_type": "code",
   "execution_count": 68,
   "id": "7d188706",
   "metadata": {
    "execution": {
     "iopub.execute_input": "2025-09-02T17:07:40.083873Z",
     "iopub.status.busy": "2025-09-02T17:07:40.083542Z",
     "iopub.status.idle": "2025-09-02T17:07:40.091060Z",
     "shell.execute_reply": "2025-09-02T17:07:40.090266Z"
    },
    "papermill": {
     "duration": 0.077686,
     "end_time": "2025-09-02T17:07:40.092743",
     "exception": false,
     "start_time": "2025-09-02T17:07:40.015057",
     "status": "completed"
    },
    "tags": []
   },
   "outputs": [
    {
     "data": {
      "text/plain": [
       "Aut      275\n",
       "Class    264\n",
       "Itpr     325\n",
       "Prec     421\n",
       "Princ    207\n",
       "Rule     548\n",
       "Syst     104\n",
       "Tele      77\n",
       "dtype: int64"
      ]
     },
     "execution_count": 68,
     "metadata": {},
     "output_type": "execute_result"
    }
   ],
   "source": [
    "merge_df[[*labels]].sum(axis=0)"
   ]
  },
  {
   "cell_type": "markdown",
   "id": "9e97d05e",
   "metadata": {
    "id": "B2ISiv5sk6G5",
    "papermill": {
     "duration": 0.031169,
     "end_time": "2025-09-02T17:07:40.154232",
     "exception": false,
     "start_time": "2025-09-02T17:07:40.123063",
     "status": "completed"
    },
    "tags": []
   },
   "source": [
    "## Save and load results\n",
    "\n",
    "The results folder will contain the notebook, metrics and outputs for each seed."
   ]
  },
  {
   "cell_type": "code",
   "execution_count": 69,
   "id": "96c7acf0",
   "metadata": {
    "execution": {
     "iopub.execute_input": "2025-09-02T17:07:40.216658Z",
     "iopub.status.busy": "2025-09-02T17:07:40.216403Z",
     "iopub.status.idle": "2025-09-02T17:07:40.221071Z",
     "shell.execute_reply": "2025-09-02T17:07:40.220351Z"
    },
    "id": "3Uu8Et2qk6G5",
    "papermill": {
     "duration": 0.037634,
     "end_time": "2025-09-02T17:07:40.222663",
     "exception": false,
     "start_time": "2025-09-02T17:07:40.185029",
     "status": "completed"
    },
    "tags": []
   },
   "outputs": [],
   "source": [
    "results_folder = \"results\"\n",
    "if not os.path.exists(results_folder):\n",
    "    os.makedirs(results_folder)\n",
    "\n",
    "\n",
    "\n",
    "def results_to_csv(df_results, seed):\n",
    "\n",
    "    '''\n",
    "    Args:\n",
    "        df_results: DataFrame with the all the scores\n",
    "        seed: the used seed\n",
    "\n",
    "    '''\n",
    "    csv_path = f\"{results_folder}/{seed}.csv\"\n",
    "    df_results.to_csv(path_or_buf=csv_path)"
   ]
  },
  {
   "cell_type": "code",
   "execution_count": 70,
   "id": "dff2ff2e",
   "metadata": {
    "execution": {
     "iopub.execute_input": "2025-09-02T17:07:40.283177Z",
     "iopub.status.busy": "2025-09-02T17:07:40.282939Z",
     "iopub.status.idle": "2025-09-02T17:07:40.286611Z",
     "shell.execute_reply": "2025-09-02T17:07:40.285891Z"
    },
    "id": "eH9_Qyzrk6G6",
    "papermill": {
     "duration": 0.035659,
     "end_time": "2025-09-02T17:07:40.288154",
     "exception": false,
     "start_time": "2025-09-02T17:07:40.252495",
     "status": "completed"
    },
    "tags": []
   },
   "outputs": [],
   "source": [
    "def results_from_csv(seed):\n",
    "    '''\n",
    "    Args:\n",
    "        seed: the wanted seed\n",
    "\n",
    "    '''\n",
    "    file_path = f\"results/{seed}.csv\"\n",
    "    df_results = pd.read_csv(file_path)\n",
    "    return df_results"
   ]
  },
  {
   "cell_type": "markdown",
   "id": "db8562f7",
   "metadata": {
    "id": "a_7qTdbjk6G6",
    "papermill": {
     "duration": 0.029707,
     "end_time": "2025-09-02T17:07:40.347769",
     "exception": false,
     "start_time": "2025-09-02T17:07:40.318062",
     "status": "completed"
    },
    "tags": []
   },
   "source": [
    "## PyTorch dataset"
   ]
  },
  {
   "cell_type": "code",
   "execution_count": 71,
   "id": "e6e84d39",
   "metadata": {
    "execution": {
     "iopub.execute_input": "2025-09-02T17:07:40.408926Z",
     "iopub.status.busy": "2025-09-02T17:07:40.408642Z",
     "iopub.status.idle": "2025-09-02T17:07:40.413066Z",
     "shell.execute_reply": "2025-09-02T17:07:40.412438Z"
    },
    "id": "30T-t-KIk6G7",
    "papermill": {
     "duration": 0.037005,
     "end_time": "2025-09-02T17:07:40.414685",
     "exception": false,
     "start_time": "2025-09-02T17:07:40.377680",
     "status": "completed"
    },
    "tags": []
   },
   "outputs": [],
   "source": [
    "class CustomTorchDataset(Dataset):\n",
    "    def __init__(self, encodings):\n",
    "        self.encodings = encodings\n",
    "    def __getitem__(self, idx):\n",
    "        return {key: torch.tensor(val[idx]) for key, val in self.encodings.items()}\n",
    "    def __len__(self):\n",
    "        return len(self.encodings.input_ids)"
   ]
  },
  {
   "cell_type": "markdown",
   "id": "055bae1f",
   "metadata": {
    "id": "jmCHPOBbbH80",
    "papermill": {
     "duration": 0.029721,
     "end_time": "2025-09-02T17:07:40.474506",
     "exception": false,
     "start_time": "2025-09-02T17:07:40.444785",
     "status": "completed"
    },
    "tags": []
   },
   "source": [
    "## Focal Loss"
   ]
  },
  {
   "cell_type": "code",
   "execution_count": 72,
   "id": "e5cfa828",
   "metadata": {
    "execution": {
     "iopub.execute_input": "2025-09-02T17:07:40.535679Z",
     "iopub.status.busy": "2025-09-02T17:07:40.535438Z",
     "iopub.status.idle": "2025-09-02T17:07:40.541544Z",
     "shell.execute_reply": "2025-09-02T17:07:40.540791Z"
    },
    "id": "7NymLkC0whtl",
    "papermill": {
     "duration": 0.03808,
     "end_time": "2025-09-02T17:07:40.543003",
     "exception": false,
     "start_time": "2025-09-02T17:07:40.504923",
     "status": "completed"
    },
    "tags": []
   },
   "outputs": [],
   "source": [
    "num_label=len(good_sc_columns)\n",
    "\n",
    "class FocalLoss(nn.Module):\n",
    "    def __init__(self, alpha=None, gamma=2, logit=False, reduce=False):\n",
    "        super(FocalLoss, self).__init__()\n",
    "        self.alpha = alpha\n",
    "        self.gamma = gamma\n",
    "        self.logit = logit\n",
    "        self.reduce = reduce\n",
    "\n",
    "    def forward(self, inputs, targets):\n",
    "        \"\"\"\n",
    "        BCE = nn.BCELoss()\n",
    "        BCE_loss = BCE(inputs, targets)\n",
    "        pt = torch.exp(-BCE_loss)\n",
    "        F_loss = self.alpha * (1-pt)**self.gamma * BCE_loss\n",
    "        if self.reduce:\n",
    "            return torch.mean(F_loss)\n",
    "        else:\n",
    "            return F_loss\n",
    "        \"\"\"\n",
    "        #p = torch.where(targets >= 0.5, inputs, 1-inputs)\n",
    "        p = inputs * targets + (1 - inputs) * (1 - targets)\n",
    "        if self.alpha != None:\n",
    "            weight_mask = torch.where(targets >= 0.5, self.alpha, 1)\n",
    "        logp = - torch.log(torch.clamp(p, 1e-4, 1-1e-4))\n",
    "        #loss = logp*((1-p)**self.gamma)\n",
    "        #print(f\"wo_weight:{loss}\")\n",
    "        if self.alpha != None:\n",
    "            loss = self.alpha*logp*((1-p)**self.gamma)\n",
    "        else:\n",
    "            loss = logp*((1-p)**self.gamma)\n",
    "        #print(f\"w_weight:{loss}\")\n",
    "        loss = loss.mean()\n",
    "        return loss"
   ]
  },
  {
   "cell_type": "markdown",
   "id": "fbb19ef9",
   "metadata": {
    "id": "My9p3Otpk6G7",
    "papermill": {
     "duration": 0.029572,
     "end_time": "2025-09-02T17:07:40.602319",
     "exception": false,
     "start_time": "2025-09-02T17:07:40.572747",
     "status": "completed"
    },
    "tags": []
   },
   "source": [
    "# Processing"
   ]
  },
  {
   "cell_type": "markdown",
   "id": "c9d0d610",
   "metadata": {
    "id": "lYljLio2HkFc",
    "papermill": {
     "duration": 0.029683,
     "end_time": "2025-09-02T17:07:40.662116",
     "exception": false,
     "start_time": "2025-09-02T17:07:40.632433",
     "status": "completed"
    },
    "tags": []
   },
   "source": [
    "## Encoding"
   ]
  },
  {
   "cell_type": "code",
   "execution_count": 73,
   "id": "d895bcb6",
   "metadata": {
    "execution": {
     "iopub.execute_input": "2025-09-02T17:07:40.732387Z",
     "iopub.status.busy": "2025-09-02T17:07:40.731626Z",
     "iopub.status.idle": "2025-09-02T17:07:40.738159Z",
     "shell.execute_reply": "2025-09-02T17:07:40.737384Z"
    },
    "id": "I7cIOYFBZRHg",
    "papermill": {
     "duration": 0.041014,
     "end_time": "2025-09-02T17:07:40.739753",
     "exception": false,
     "start_time": "2025-09-02T17:07:40.698739",
     "status": "completed"
    },
    "tags": []
   },
   "outputs": [],
   "source": [
    "from sklearn.feature_extraction.text import TfidfVectorizer\n",
    "import re\n",
    "from nltk.corpus import stopwords\n",
    "\n",
    "\n",
    "class BaselineVectorizer():\n",
    "\n",
    "    def __init__(self, include_previous=False, max_features=None):\n",
    "        self.tfidf = TfidfVectorizer(stop_words=stopwords.words('italian'),max_features=max_features)\n",
    "        self.include_previous = include_previous\n",
    "        self.fitted = False\n",
    "\n",
    "\n",
    "\n",
    "    def _clean_texts(self,df):\n",
    "        texts = df[\"Previous\"]+\". \"+df[\"Text\"] if INCLUDE_PREVIOUS else df[\"Text\"]\n",
    "        cleaned = []\n",
    "        for text in texts:\n",
    "            text = re.sub(\"[^a-zA-Z0-9]\",\" \",text).lower().strip()\n",
    "            cleaned.append(text)\n",
    "        return cleaned\n",
    "\n",
    "    def fit(self,df):\n",
    "        cleaned_texts = self._clean_texts(df)\n",
    "        self.tfidf.fit(cleaned_texts)\n",
    "        self.fitted = True\n",
    "\n",
    "    def transform(self,df):\n",
    "        if not self.fitted:\n",
    "            raise Exception(\"Vectorizer is not fitted.\")\n",
    "        cleaned_texts = self._clean_texts(df)\n",
    "        return self.tfidf.transform(cleaned_texts)"
   ]
  },
  {
   "cell_type": "code",
   "execution_count": 74,
   "id": "5e2b1138",
   "metadata": {
    "execution": {
     "iopub.execute_input": "2025-09-02T17:07:40.800839Z",
     "iopub.status.busy": "2025-09-02T17:07:40.800593Z",
     "iopub.status.idle": "2025-09-02T17:07:40.806452Z",
     "shell.execute_reply": "2025-09-02T17:07:40.805675Z"
    },
    "id": "xyR1vmlDl9sr",
    "papermill": {
     "duration": 0.038341,
     "end_time": "2025-09-02T17:07:40.808173",
     "exception": false,
     "start_time": "2025-09-02T17:07:40.769832",
     "status": "completed"
    },
    "tags": []
   },
   "outputs": [],
   "source": [
    "def encode(tokenizer:PreTrainedTokenizer,\n",
    "           df:pd.DataFrame,\n",
    "           labels,\n",
    "           scheme=False,\n",
    "           include_previous=False):\n",
    "\n",
    "    '''\n",
    "    Encodes the dataset according to the BERT specifications.\n",
    "    The method encodes the data in the following way:\n",
    "        [CLS] previous [SEP] current [SEP]\n",
    "        where -previous- is the previous (if any) sentence in the same argumentation chain\n",
    "        and -current- is the current sentence\n",
    "    '''\n",
    "    print(\"Encoding...\")\n",
    "    encodings = tokenizer(\n",
    "          list(df['Previous']), list(df['Text']), padding=True, truncation=True, max_length = 512\n",
    "        ) if include_previous else tokenizer(\n",
    "          list(df['Text']), padding=True, truncation=True, max_length = 512\n",
    "        )\n",
    "\n",
    "    input_ids, input_attention_mask = encodings['input_ids'], encodings['attention_mask']\n",
    "    print(f\"input shape: {np.shape(input_ids)}\")\n",
    "    if not scheme:\n",
    "        encodings.update({'labels' : torch.LongTensor(labels.values)})\n",
    "    else:\n",
    "        encodings.update({'labels': torch.FloatTensor(labels.values)})\n",
    "    encodings.pop('token_type_ids')\n",
    "    print(\"Encoding complete\")\n",
    "    return encodings"
   ]
  },
  {
   "cell_type": "markdown",
   "id": "cc5fa3f0",
   "metadata": {
    "id": "Y1NNzCJhIig9",
    "papermill": {
     "duration": 0.030175,
     "end_time": "2025-09-02T17:07:40.868263",
     "exception": false,
     "start_time": "2025-09-02T17:07:40.838088",
     "status": "completed"
    },
    "tags": []
   },
   "source": [
    "## Model"
   ]
  },
  {
   "cell_type": "code",
   "execution_count": 75,
   "id": "7df03172",
   "metadata": {
    "execution": {
     "iopub.execute_input": "2025-09-02T17:07:40.929309Z",
     "iopub.status.busy": "2025-09-02T17:07:40.929044Z",
     "iopub.status.idle": "2025-09-02T17:07:40.937458Z",
     "shell.execute_reply": "2025-09-02T17:07:40.936674Z"
    },
    "id": "4ijqDwq5k6G8",
    "papermill": {
     "duration": 0.040738,
     "end_time": "2025-09-02T17:07:40.939012",
     "exception": false,
     "start_time": "2025-09-02T17:07:40.898274",
     "status": "completed"
    },
    "tags": []
   },
   "outputs": [],
   "source": [
    "class ACModel(nn.Module):\n",
    "\n",
    "    def __init__(self,checkpoint, output_size):\n",
    "        super(ACModel, self).__init__()\n",
    "        self.model = AutoModel.from_pretrained(checkpoint)\n",
    "        self.output_size = output_size\n",
    "        self.cl1 = nn.Linear(self.model.config.hidden_size, self.model.config.hidden_size)\n",
    "        self.relu = nn.ReLU()\n",
    "        self.dropout = nn.Dropout(0.2)\n",
    "        self.output = nn.Linear(self.model.config.hidden_size, self.output_size)\n",
    "\n",
    "    def forward(self, input_ids, attention_mask,only_embeddings=False):\n",
    "        output  = self.model(input_ids, attention_mask=attention_mask, output_hidden_states=True)\n",
    "        pooler_output = output.pooler_output\n",
    "        x = self.cl1(pooler_output)\n",
    "        x = self.relu(x)\n",
    "        x = self.output(x)\n",
    "        if only_embeddings:\n",
    "            return pooler_output\n",
    "        else:\n",
    "            return x\n",
    "\n",
    "class SCModel(nn.Module):\n",
    "\n",
    "    def __init__(self,checkpoint, output_size):\n",
    "\n",
    "        super(SCModel, self).__init__()\n",
    "\n",
    "        self.model = AutoModel.from_pretrained(checkpoint)\n",
    "\n",
    "        self.output_size = output_size\n",
    "        self.cl1 = nn.Linear(self.model.config.hidden_size, self.model.config.hidden_size)\n",
    "        self.dropout = nn.Dropout(0.2)\n",
    "        self.relu = nn.ReLU()\n",
    "        #self.tanh = nn.Tanh()\n",
    "        self.classifier = nn.Linear(self.model.config.hidden_size, self.output_size)\n",
    "\n",
    "\n",
    "    def forward(self, input_ids, attention_mask,only_embeddings=False, freeze=None, x_aug=None):\n",
    "\n",
    "        output  = self.model(input_ids, attention_mask=attention_mask, output_hidden_states=True)\n",
    "\n",
    "        pooler_output = output.pooler_output\n",
    "        x = self.dropout(pooler_output)\n",
    "        x = self.cl1(x)\n",
    "        x = self.relu(x)\n",
    "        #x = self.tanh(x)\n",
    "        #x = self.cl2(x)\n",
    "        #x = self.relu(x)\n",
    "        #x  = self.cl3(x)\n",
    "        x = self.classifier(x)\n",
    "        x = torch.sigmoid(x)\n",
    "\n",
    "        if only_embeddings:\n",
    "            return pooler_output\n",
    "        else:\n",
    "            return x\n",
    "\n"
   ]
  },
  {
   "cell_type": "code",
   "execution_count": 76,
   "id": "a6ec2c9c",
   "metadata": {
    "execution": {
     "iopub.execute_input": "2025-09-02T17:07:41.000023Z",
     "iopub.status.busy": "2025-09-02T17:07:40.999771Z",
     "iopub.status.idle": "2025-09-02T17:07:41.004074Z",
     "shell.execute_reply": "2025-09-02T17:07:41.003275Z"
    },
    "id": "xA9h-2p4k6G9",
    "papermill": {
     "duration": 0.036788,
     "end_time": "2025-09-02T17:07:41.005630",
     "exception": false,
     "start_time": "2025-09-02T17:07:40.968842",
     "status": "completed"
    },
    "tags": []
   },
   "outputs": [],
   "source": [
    "def getModel(model_checkpoint, num_labels, scheme=False,only_embeddings = False):\n",
    "\n",
    "    '''\n",
    "    Creates and return an instance of the desired model with the correct tokenizer.\n",
    "    '''\n",
    "    tokenizer = AutoTokenizer.from_pretrained(model_checkpoint)\n",
    "    if scheme:\n",
    "        model = SCModel(model_checkpoint, num_labels)\n",
    "    else:\n",
    "        model = ACModel(model_checkpoint, num_labels)\n",
    "    return model, tokenizer"
   ]
  },
  {
   "cell_type": "markdown",
   "id": "20f3f963",
   "metadata": {
    "id": "E4NSs0Ack6G-",
    "papermill": {
     "duration": 0.030204,
     "end_time": "2025-09-02T17:07:41.066151",
     "exception": false,
     "start_time": "2025-09-02T17:07:41.035947",
     "status": "completed"
    },
    "tags": []
   },
   "source": [
    "## Train"
   ]
  },
  {
   "cell_type": "code",
   "execution_count": 77,
   "id": "a72992ba",
   "metadata": {
    "execution": {
     "iopub.execute_input": "2025-09-02T17:07:41.128005Z",
     "iopub.status.busy": "2025-09-02T17:07:41.127302Z",
     "iopub.status.idle": "2025-09-02T17:07:41.137165Z",
     "shell.execute_reply": "2025-09-02T17:07:41.136369Z"
    },
    "id": "zKDxYccjk6G_",
    "papermill": {
     "duration": 0.042425,
     "end_time": "2025-09-02T17:07:41.138718",
     "exception": false,
     "start_time": "2025-09-02T17:07:41.096293",
     "status": "completed"
    },
    "tags": []
   },
   "outputs": [],
   "source": [
    "# Train one epoch\n",
    "def train_epoch(model: torch.nn.Module,\n",
    "          train_loader:torch.utils.data.DataLoader,\n",
    "          device: torch.device,\n",
    "          optimizer: torch.optim,\n",
    "          criterion: torch.nn.Module,\n",
    "          epoch: int) -> float:\n",
    "\n",
    "    \"\"\"Trains a neural network for one epoch.\n",
    "\n",
    "    Args:\n",
    "        model: the model to train.\n",
    "        train_loader: the data loader containing the training data.\n",
    "        device: the device to use to train the model.\n",
    "        optimizer: the optimizer to use to train the model.\n",
    "        epoch: the number of the current epoch.\n",
    "    Returns:\n",
    "        the cross entropy Loss value on the training data.\n",
    "\n",
    "    \"\"\"\n",
    "    size_ds_train = len(train_loader.dataset)\n",
    "    num_batches = len(train_loader)\n",
    "    loss_score = []\n",
    "    loop = tqdm(train_loader)\n",
    "    #set training mode\n",
    "    model.train()\n",
    "    for idx_batch, batch in enumerate(loop):\n",
    "        optimizer.zero_grad()\n",
    "        input_ids = batch['input_ids'].to(device)\n",
    "        attention_mask = batch['attention_mask'].to(device)\n",
    "        labels = batch['labels'].to(device)\n",
    "        logits = model(input_ids,\n",
    "                     attention_mask=attention_mask,\n",
    "                        )\n",
    "        loss = criterion(logits, labels)\n",
    "        #loss = focal_loss(logits,labels)\n",
    "        loss_score.append(loss.item())\n",
    "        loss.backward()\n",
    "        optimizer.step()\n",
    "        loop.set_description(f'Epoch {epoch}')\n",
    "        loop.set_postfix(loss=loss.item())\n",
    "\n",
    "    loss_train = np.mean(loss_score)\n",
    "    return loss_train\n",
    "\n",
    "\n",
    "\n",
    "# Validate one epoch\n",
    "def validate(model: torch.nn.Module,\n",
    "             criterion: torch.nn.Module,\n",
    "             data_loader: torch.utils.data.DataLoader,\n",
    "             device: torch.device,\n",
    "             val_labels,\n",
    "             compute_f1 = False) -> float:\n",
    "\n",
    "    \"\"\"\n",
    "    Evaluates the model.\n",
    "    Args:\n",
    "        model: the model to evalaute.\n",
    "        data_loader: the data loader containing the validation data.\n",
    "        device: the device to use to evaluate the model.\n",
    "\n",
    "    Returns:\n",
    "        the loss value on the validation data.\n",
    "    \"\"\"\n",
    "    loss_score = []\n",
    "    predictions = []\n",
    "    #set evaluation mode\n",
    "    model = model.eval()\n",
    "    with torch.no_grad():\n",
    "        for idx_batch, batch in enumerate(data_loader):\n",
    "            input_ids = batch['input_ids'].to(device)\n",
    "            attention_mask = batch['attention_mask'].to(device)\n",
    "            labels = batch['labels'].to(device)\n",
    "            logits = model(input_ids, attention_mask=attention_mask)\n",
    "            #f_loss = FocalLoss(gamma=0)\n",
    "            #loss = f_loss(logits,labels)\n",
    "            loss = criterion(logits, labels)\n",
    "            #loss = focal_loss(logits,labels)\n",
    "            loss_score.append(loss.item())\n",
    "            predictions.append(logits.cpu().detach().numpy())\n",
    "    predictions = np.concatenate(predictions)\n",
    "    if compute_f1:\n",
    "        y_pred = np.where(predictions<0.5,0.,1.)\n",
    "        y_true = np.array(val_labels)\n",
    "        score = f1_score(y_true,y_pred,average='macro')\n",
    "        print(f\"f1_macro_score: {score}\")\n",
    "    else:\n",
    "        score = None\n",
    "    loss_val = np.mean(loss_score)\n",
    "    return loss_val, score"
   ]
  },
  {
   "cell_type": "code",
   "execution_count": 78,
   "id": "299d73f5",
   "metadata": {
    "execution": {
     "iopub.execute_input": "2025-09-02T17:07:41.200725Z",
     "iopub.status.busy": "2025-09-02T17:07:41.200486Z",
     "iopub.status.idle": "2025-09-02T17:07:41.208725Z",
     "shell.execute_reply": "2025-09-02T17:07:41.208036Z"
    },
    "id": "BF6jUjsMk6G_",
    "papermill": {
     "duration": 0.041718,
     "end_time": "2025-09-02T17:07:41.210304",
     "exception": false,
     "start_time": "2025-09-02T17:07:41.168586",
     "status": "completed"
    },
    "tags": []
   },
   "outputs": [],
   "source": [
    "def training_loop(num_epochs: int,\n",
    "                  optimizer: torch.optim,\n",
    "                  criterion: torch.nn.Module,\n",
    "                  model: torch.nn.Module,\n",
    "                  lr: float,\n",
    "                  loader_train: torch.utils.data.DataLoader,\n",
    "                  loader_val : torch.utils.data.DataLoader = None,\n",
    "                  val_labels=None,\n",
    "                  model_dir = \"models\",\n",
    "                  verbose: bool=True,\n",
    "                  compute_f1 = False,\n",
    "                  use_cuda = False) -> Dict:\n",
    "\n",
    "    \"\"\"Executes the training loop.\n",
    "        Args:\n",
    "            num_epochs: the number of epochs.\n",
    "            optimizer: the optimizer to use.\n",
    "            criterion: criterions used to calculate loss.\n",
    "            model: the model to train.\n",
    "            loader_train: the data loader containing the training data.\n",
    "            loader_val: the data loader containing the validation data.\n",
    "            model_dir: checkpoints folder.\n",
    "            verbose: if true print the value of loss.\n",
    "        Returns:\n",
    "            A dictionary with the statistics computed during the train:\n",
    "            the values for the train loss for each epoch.\n",
    "            the values for the validation loss for each epoch.\n",
    "            the time of execution in seconds for the entire loop.\n",
    "\n",
    "    \"\"\"\n",
    "    device = torch.device('cuda') if use_cuda and torch.cuda.is_available() else torch.device('cpu')\n",
    "    model.to(device)\n",
    "    loop_start = timer()\n",
    "    train_losses_values = []\n",
    "    val_losses_values = []\n",
    "    #best_epoch = 1\n",
    "    #val_cri = nn.BCELoss(reduction = 'mean')\n",
    "    val_cri = criterion\n",
    "    #cri = DiceLoss()\n",
    "    for epoch in range(1, num_epochs + 1):\n",
    "        time_start = timer()\n",
    "        #if epoch > 3:\n",
    "            #criterion = cri\n",
    "        loss_train = train_epoch(model, loader_train, device,\n",
    "                                           optimizer, criterion, epoch)\n",
    "        if(loader_val != None):\n",
    "            loss_val,score = validate(model, val_cri, loader_val, device,val_labels,compute_f1)\n",
    "            #val_predictions = evaluate(model, loader_val)\n",
    "            #print(np.array(val_predictions).shape)\n",
    "            #y_pred = np.where(val_predictions<0.5, 0., 1.)\n",
    "            #y_true = np.array(val_labels)\n",
    "            #print(y_true.shape, y_pred.shape)\n",
    "            #print(\"\\n\"+classification_report(y_true, y_pred,target_names = sc_classes))\n",
    "        else:\n",
    "            loss_val = 0\n",
    "        time_end = timer()\n",
    "        train_losses_values.append(loss_train)\n",
    "        val_losses_values.append(loss_val)\n",
    "       # torch.save(model.state_dict(), os.path.join(model_dir, 'epoch-{}.pt'.format(epoch)))\n",
    "       # best_epoch = np.argmin(val_losses_values)+1\n",
    "        if verbose and score:\n",
    "            print(f'Epoch: {epoch} '\n",
    "                  f' Lr: {lr:.8f} '\n",
    "                  f' Loss: Train = [{loss_train:.4f}] - Val = [{loss_val:.4f}] '\n",
    "                  f' Time one epoch (s): {(time_end - time_start):.4f} '\n",
    "                  f' f1_score: {score:.4f} '\n",
    "                )\n",
    "        elif verbose:\n",
    "            print(f'Epoch: {epoch} '\n",
    "                  f' Lr: {lr:.8f} '\n",
    "                  f' Loss: Train = [{loss_train:.4f}] - Val = [{loss_val:.4f}] '\n",
    "                  f' Time one epoch (s): {(time_end - time_start):.4f} '\n",
    "                )\n",
    "        \"\"\"\n",
    "        if epoch >= 5:\n",
    "            if loss_val > val_losses_values[-2] and loss_val> val_losses_values[-1]  :\n",
    "                if verbose:\n",
    "                    print(\"Early Stopping. Best epoch: {}\".format(best_epoch))\n",
    "                break\n",
    "\n",
    "        \"\"\"\n",
    "    loop_end = timer()\n",
    "    time_loop = loop_end - loop_start\n",
    "    if verbose:\n",
    "        print(f'Time for {num_epochs} epochs (s): {(time_loop):.3f}')\n",
    "    #model.load_state_dict(torch.load(os.path.join(model_dir, 'epoch-{}.pt'.format(best_epoch))))\n",
    "    return {'train_loss_values': train_losses_values,\n",
    "            'val_loss_values' : val_losses_values,\n",
    "            'time': time_loop}"
   ]
  },
  {
   "cell_type": "code",
   "execution_count": 79,
   "id": "74935e80",
   "metadata": {
    "execution": {
     "iopub.execute_input": "2025-09-02T17:07:41.271582Z",
     "iopub.status.busy": "2025-09-02T17:07:41.271281Z",
     "iopub.status.idle": "2025-09-02T17:07:41.279430Z",
     "shell.execute_reply": "2025-09-02T17:07:41.278793Z"
    },
    "id": "W0yra_hCk6HB",
    "papermill": {
     "duration": 0.040864,
     "end_time": "2025-09-02T17:07:41.280966",
     "exception": false,
     "start_time": "2025-09-02T17:07:41.240102",
     "status": "completed"
    },
    "tags": []
   },
   "outputs": [],
   "source": [
    "def execute(lr: float,\n",
    "            num_epochs: int,\n",
    "            batch_size: int,\n",
    "            num_labels: int,\n",
    "            train_df: pd.DataFrame,\n",
    "            train_labels: pd.DataFrame,\n",
    "            val_df: pd.DataFrame,\n",
    "            val_labels: pd.DataFrame,\n",
    "            scheme = True,\n",
    "            focal = False,\n",
    "            model_name=\"\",\n",
    "            model=None,\n",
    "            tokenizer=None,\n",
    "            use_cuda=True,\n",
    "            include_previous=False,\n",
    "            compute_f1=False,\n",
    "            sampler: torch.utils.data.Sampler = None,\n",
    "            cwt = None\n",
    "            ) ->Tuple[torch.nn.Module, any]:\n",
    "\n",
    "    \"\"\"Gets the model, does the encodings of the training and validation data using the\n",
    "        tokenizer, and then executes the training loop.\n",
    "\n",
    "    Args:\n",
    "        lr: the learning rate.\n",
    "        num_epochs: the number of epochs.\n",
    "        batch_size: the batch size.\n",
    "        train_df: training-val dataframe.\n",
    "        train_labels: training-val labels dataframe.\n",
    "        val_df: validation dataframe.\n",
    "        val_labels: val labels dataframe.\n",
    "        scheme: boolean flag to switch between task.\n",
    "        focal:\n",
    "        model_name\n",
    "        model: the network to train.\n",
    "        model\n",
    "        tokenizer\n",
    "        use_cuda\n",
    "        include_previous\n",
    "        sampler\n",
    "        cwd\n",
    "    \"\"\"\n",
    "\n",
    "    #train on full data\n",
    "\n",
    "    #get the model and the tokenizer\n",
    "\n",
    "    if not model_name == \"\":\n",
    "        model, tokenizer = getModel(model_name, num_labels, scheme)\n",
    "    if scheme:\n",
    "        if focal:\n",
    "            criterion = FocalLoss(alpha=cwt)\n",
    "        else:\n",
    "            criterion = torch.nn.BCELoss()\n",
    "    else:\n",
    "        criterion = torch.nn.CrossEntropyLoss()\n",
    "    #Start encodings\n",
    "    #print(f'Train set:')\n",
    "    train_encodings = encode(tokenizer, train_df, train_labels, scheme, include_previous=include_previous)\n",
    "    val_encodings = encode(tokenizer, val_df, val_labels, scheme, include_previous=include_previous)\n",
    "    print(f'ENCODING COMPLETE.')\n",
    "    #create training dataset\n",
    "    train_dataset = CustomTorchDataset(train_encodings)\n",
    "    #create training dataloader\n",
    "    data_loader_train = torch.utils.data.DataLoader(train_dataset,\n",
    "                                        batch_size=batch_size,\n",
    "                                        shuffle = sampler is None,\n",
    "                                        sampler = sampler )\n",
    "    #create validation dataset\n",
    "    val_dataset = CustomTorchDataset(val_encodings)\n",
    "    #create validation dataloader\n",
    "    data_loader_val = torch.utils.data.DataLoader(val_dataset,\n",
    "                                          batch_size=batch_size,\n",
    "                                          shuffle = False) # No custom sampling in validation\n",
    "    #Optimizer\n",
    "    optimizer = torch.optim.AdamW(model.parameters(), lr=lr, weight_decay=1.5e-2)\n",
    "    #optimizer = Adafactor(model.parameters(), lr = 5e-5)\n",
    "    print(f'STARTING TRAINING with complete data:')\n",
    "    model_dir = 'model_data'\n",
    "    if not os.path.exists(model_dir):\n",
    "        os.makedirs(model_dir)\n",
    "    statistics = training_loop(num_epochs, optimizer, criterion, model,lr,\n",
    "                              data_loader_train, data_loader_val,val_labels,\n",
    "                               model_dir=model_dir, compute_f1=compute_f1,use_cuda=use_cuda)\n",
    "    print(f'TRAINING COMPLETE.')\n",
    "    return model, tokenizer, statistics"
   ]
  },
  {
   "cell_type": "code",
   "execution_count": 80,
   "id": "858eb9df",
   "metadata": {
    "execution": {
     "iopub.execute_input": "2025-09-02T17:07:41.341846Z",
     "iopub.status.busy": "2025-09-02T17:07:41.341393Z",
     "iopub.status.idle": "2025-09-02T17:07:41.349754Z",
     "shell.execute_reply": "2025-09-02T17:07:41.348962Z"
    },
    "papermill": {
     "duration": 0.040538,
     "end_time": "2025-09-02T17:07:41.351408",
     "exception": false,
     "start_time": "2025-09-02T17:07:41.310870",
     "status": "completed"
    },
    "tags": []
   },
   "outputs": [],
   "source": [
    "from sklearn.svm import SVC, LinearSVC\n",
    "from sklearn.multiclass import OneVsRestClassifier\n",
    "\n",
    "def executeTfIdfSvm(train_df: pd.DataFrame,\n",
    "                    train_labels,\n",
    "            test_df: pd.DataFrame,\n",
    "                    test_labels,\n",
    "            class_names,\n",
    "            kernel = \"linear\",\n",
    "            scheme = False,\n",
    "            include_previous = False,\n",
    "            weighted_sampling = False):\n",
    "\n",
    "    # Build tokenizer\n",
    "    tokenizer = BaselineVectorizer(include_previous=include_previous)\n",
    "    tokenizer.fit(train_df)\n",
    "\n",
    "    # Build model\n",
    "    if scheme:\n",
    "        # https://scikit-learn.org/stable/modules/svm.html#multi-class-classification\n",
    "        # https://scikit-learn.org/stable/modules/multiclass.html\n",
    "        model = OneVsRestClassifier(LinearSVC(random_state=SEED)) if kernel==\"linear\" else OneVsRestClassifier(SVC(kernel=kernel, random_state=SEED))\n",
    "    else:\n",
    "        # https://scikit-learn.org/stable/modules/svm.html#classification\n",
    "        model = LinearSVC(random_state=SEED) if kernel==\"linear\" else SVC(kernel=kernel, random_state=SEED)\n",
    "    #class_column = 'Scheme' if scheme else 'Name' # TODO is Name correct for AC?\n",
    "    df_train_sample_weights = [class_weights[i] for i in df_train[class_column]] if weighted_sampling else None\n",
    "\n",
    "    # Train model\n",
    "    train_encodings = tokenizer.transform(train_df)\n",
    "    #labels = train_df['Scheme'] if scheme else train_df['label']\n",
    "    model.fit(train_encodings,train_labels)\n",
    "\n",
    "    # Test model\n",
    "    test_encodings = tokenizer.transform(test_df)\n",
    "    #test_labels = test_df['Scheme'] if scheme else test_df['label']\n",
    "    y_pred = model.predict(test_encodings)\n",
    "    print(\"\\n Baseline kernel: \"+kernel+\"\\n\"+classification_report(test_labels, y_pred,target_names = class_names))\n",
    "    return model, tokenizer"
   ]
  },
  {
   "cell_type": "code",
   "execution_count": 81,
   "id": "494d7396",
   "metadata": {
    "execution": {
     "iopub.execute_input": "2025-09-02T17:07:41.413005Z",
     "iopub.status.busy": "2025-09-02T17:07:41.412394Z",
     "iopub.status.idle": "2025-09-02T17:07:41.418686Z",
     "shell.execute_reply": "2025-09-02T17:07:41.417970Z"
    },
    "papermill": {
     "duration": 0.038528,
     "end_time": "2025-09-02T17:07:41.420190",
     "exception": false,
     "start_time": "2025-09-02T17:07:41.381662",
     "status": "completed"
    },
    "tags": []
   },
   "outputs": [
    {
     "data": {
      "text/plain": [
       "0              Rule\n",
       "1              Itpr\n",
       "2              Rule\n",
       "3              Itpr\n",
       "4              Prec\n",
       "           ...     \n",
       "880     [Aut, Prec]\n",
       "881             Aut\n",
       "882            Rule\n",
       "883            Rule\n",
       "884    [Itpr, Rule]\n",
       "Name: Scheme, Length: 885, dtype: object"
      ]
     },
     "execution_count": 81,
     "metadata": {},
     "output_type": "execute_result"
    }
   ],
   "source": [
    "df_train['Scheme']"
   ]
  },
  {
   "cell_type": "markdown",
   "id": "288ba6f1",
   "metadata": {
    "id": "ul4I7Vc0-sEv",
    "papermill": {
     "duration": 0.030308,
     "end_time": "2025-09-02T17:07:41.480683",
     "exception": false,
     "start_time": "2025-09-02T17:07:41.450375",
     "status": "completed"
    },
    "tags": []
   },
   "source": [
    "# Execution configuration"
   ]
  },
  {
   "cell_type": "code",
   "execution_count": 82,
   "id": "fb383960",
   "metadata": {
    "execution": {
     "iopub.execute_input": "2025-09-02T17:07:41.542212Z",
     "iopub.status.busy": "2025-09-02T17:07:41.541995Z",
     "iopub.status.idle": "2025-09-02T17:07:41.546061Z",
     "shell.execute_reply": "2025-09-02T17:07:41.545377Z"
    },
    "id": "5bpoH-s8k6HD",
    "papermill": {
     "duration": 0.036082,
     "end_time": "2025-09-02T17:07:41.547669",
     "exception": false,
     "start_time": "2025-09-02T17:07:41.511587",
     "status": "completed"
    },
    "tags": []
   },
   "outputs": [],
   "source": [
    "#legal bert outperforms the other two models\n",
    "\n",
    "#model_checkpoint = 'dbmdz/bert-base-italian-xxl-cased' # https://huggingface.co/dbmdz/bert-base-italian-xxl-cased\n",
    "model_checkpoint = \"dhfbk/gulbert-ft-ita\"\n",
    "model_checkpoint = \"dbmdz/bert-base-italian-xxl-uncased\"\n",
    "model_checkpoint = \"dlicari/Italian-Legal-BERT\" # https://huggingface.co/dlicari/Italian-Legal-BERT\n",
    "False\n",
    "#parameters\n",
    "lr = 5e-5\n",
    "batch_size = 32\n",
    "epochs = 8\n",
    "USE_CUDA = True\n",
    "INCLUDE_PREVIOUS=False\n",
    "ABBREVIATION_AUGMENTATION = False # whether to do data augmentation expanding abbreviations\n",
    "WEIGHTED_SAMPLING=False\n",
    "AUG = False\n",
    "focal = False #use focal loss instead of crossentropy"
   ]
  },
  {
   "cell_type": "code",
   "execution_count": 83,
   "id": "daf50d59",
   "metadata": {
    "execution": {
     "iopub.execute_input": "2025-09-02T17:07:41.609292Z",
     "iopub.status.busy": "2025-09-02T17:07:41.608597Z",
     "iopub.status.idle": "2025-09-02T17:07:41.625939Z",
     "shell.execute_reply": "2025-09-02T17:07:41.625169Z"
    },
    "id": "XkhT4GJN5Gso",
    "outputId": "16400f46-331d-4fdb-81b7-7dacca24ae7b",
    "papermill": {
     "duration": 0.049929,
     "end_time": "2025-09-02T17:07:41.627606",
     "exception": false,
     "start_time": "2025-09-02T17:07:41.577677",
     "status": "completed"
    },
    "tags": []
   },
   "outputs": [
    {
     "data": {
      "text/html": [
       "<div>\n",
       "<style scoped>\n",
       "    .dataframe tbody tr th:only-of-type {\n",
       "        vertical-align: middle;\n",
       "    }\n",
       "\n",
       "    .dataframe tbody tr th {\n",
       "        vertical-align: top;\n",
       "    }\n",
       "\n",
       "    .dataframe thead th {\n",
       "        text-align: right;\n",
       "    }\n",
       "</style>\n",
       "<table border=\"1\" class=\"dataframe\">\n",
       "  <thead>\n",
       "    <tr style=\"text-align: right;\">\n",
       "      <th></th>\n",
       "      <th>Document</th>\n",
       "      <th>Name</th>\n",
       "      <th>Id</th>\n",
       "      <th>Chain</th>\n",
       "      <th>Num</th>\n",
       "      <th>Text</th>\n",
       "      <th>Type</th>\n",
       "      <th>SUP</th>\n",
       "      <th>SFF</th>\n",
       "      <th>ATT</th>\n",
       "      <th>...</th>\n",
       "      <th>Previous</th>\n",
       "      <th>Scheme2</th>\n",
       "      <th>Aut</th>\n",
       "      <th>Class</th>\n",
       "      <th>Itpr</th>\n",
       "      <th>Prec</th>\n",
       "      <th>Princ</th>\n",
       "      <th>Rule</th>\n",
       "      <th>Syst</th>\n",
       "      <th>Tele</th>\n",
       "    </tr>\n",
       "  </thead>\n",
       "  <tbody>\n",
       "    <tr>\n",
       "      <th>0</th>\n",
       "      <td>2013_40_VAT_OPAM_2_REM_MB_PS_AN</td>\n",
       "      <td>prem</td>\n",
       "      <td>A2</td>\n",
       "      <td>A</td>\n",
       "      <td>2</td>\n",
       "      <td>Ai sensi dell'art. 14 del d.lgs.546/92, se l'o...</td>\n",
       "      <td>L</td>\n",
       "      <td>NaN</td>\n",
       "      <td>NaN</td>\n",
       "      <td>NaN</td>\n",
       "      <td>...</td>\n",
       "      <td>Ai sensi dell'art. 14 del d.lgs.546/92, se l'...</td>\n",
       "      <td>Rule</td>\n",
       "      <td>0</td>\n",
       "      <td>0</td>\n",
       "      <td>0</td>\n",
       "      <td>0</td>\n",
       "      <td>0</td>\n",
       "      <td>1</td>\n",
       "      <td>0</td>\n",
       "      <td>0</td>\n",
       "    </tr>\n",
       "    <tr>\n",
       "      <th>1</th>\n",
       "      <td>2013_40_VAT_OPAM_2_REM_MB_PS_AN</td>\n",
       "      <td>prem</td>\n",
       "      <td>A3</td>\n",
       "      <td>A</td>\n",
       "      <td>3</td>\n",
       "      <td>Se il ricorso non è stato proposto da o nei co...</td>\n",
       "      <td>L</td>\n",
       "      <td>NaN</td>\n",
       "      <td>NaN</td>\n",
       "      <td>NaN</td>\n",
       "      <td>...</td>\n",
       "      <td>Se il ricorso non è stato\\n    proposto da o ...</td>\n",
       "      <td>Itpr</td>\n",
       "      <td>0</td>\n",
       "      <td>0</td>\n",
       "      <td>1</td>\n",
       "      <td>0</td>\n",
       "      <td>0</td>\n",
       "      <td>0</td>\n",
       "      <td>0</td>\n",
       "      <td>0</td>\n",
       "    </tr>\n",
       "    <tr>\n",
       "      <th>2</th>\n",
       "      <td>2018_847_VAT_OP_2_-1_MB_AF_AN</td>\n",
       "      <td>prem</td>\n",
       "      <td>A1</td>\n",
       "      <td>A</td>\n",
       "      <td>1</td>\n",
       "      <td>Secondo condivisa e costante giurisprudenza (C...</td>\n",
       "      <td>L</td>\n",
       "      <td>NaN</td>\n",
       "      <td>NaN</td>\n",
       "      <td>NaN</td>\n",
       "      <td>...</td>\n",
       "      <td>Secondo condivisa e costante giurisprudenza (C...</td>\n",
       "      <td>Rule</td>\n",
       "      <td>0</td>\n",
       "      <td>0</td>\n",
       "      <td>0</td>\n",
       "      <td>0</td>\n",
       "      <td>0</td>\n",
       "      <td>1</td>\n",
       "      <td>0</td>\n",
       "      <td>0</td>\n",
       "    </tr>\n",
       "    <tr>\n",
       "      <th>3</th>\n",
       "      <td>2018_847_VAT_OP_2_-1_MB_AF_AN</td>\n",
       "      <td>prem</td>\n",
       "      <td>A2</td>\n",
       "      <td>A</td>\n",
       "      <td>2</td>\n",
       "      <td>Tuttavia, nel caso qui in esame, la Comm/ne no...</td>\n",
       "      <td>L</td>\n",
       "      <td>[A3, A4]</td>\n",
       "      <td>NaN</td>\n",
       "      <td>NaN</td>\n",
       "      <td>...</td>\n",
       "      <td>Tuttavia, nel caso qui in esame, la Comm/ne no...</td>\n",
       "      <td>Itpr</td>\n",
       "      <td>0</td>\n",
       "      <td>0</td>\n",
       "      <td>1</td>\n",
       "      <td>0</td>\n",
       "      <td>0</td>\n",
       "      <td>0</td>\n",
       "      <td>0</td>\n",
       "      <td>0</td>\n",
       "    </tr>\n",
       "    <tr>\n",
       "      <th>4</th>\n",
       "      <td>2018_847_VAT_OP_2_-1_MB_AF_AN</td>\n",
       "      <td>prem</td>\n",
       "      <td>A3</td>\n",
       "      <td>A</td>\n",
       "      <td>3</td>\n",
       "      <td>A tal proposito si ricorda che la Corte cost. ...</td>\n",
       "      <td>L</td>\n",
       "      <td>NaN</td>\n",
       "      <td>NaN</td>\n",
       "      <td>NaN</td>\n",
       "      <td>...</td>\n",
       "      <td>A tal proposito si ricorda che la Corte cost. ...</td>\n",
       "      <td>Prec</td>\n",
       "      <td>0</td>\n",
       "      <td>0</td>\n",
       "      <td>0</td>\n",
       "      <td>1</td>\n",
       "      <td>0</td>\n",
       "      <td>0</td>\n",
       "      <td>0</td>\n",
       "      <td>0</td>\n",
       "    </tr>\n",
       "    <tr>\n",
       "      <th>...</th>\n",
       "      <td>...</td>\n",
       "      <td>...</td>\n",
       "      <td>...</td>\n",
       "      <td>...</td>\n",
       "      <td>...</td>\n",
       "      <td>...</td>\n",
       "      <td>...</td>\n",
       "      <td>...</td>\n",
       "      <td>...</td>\n",
       "      <td>...</td>\n",
       "      <td>...</td>\n",
       "      <td>...</td>\n",
       "      <td>...</td>\n",
       "      <td>...</td>\n",
       "      <td>...</td>\n",
       "      <td>...</td>\n",
       "      <td>...</td>\n",
       "      <td>...</td>\n",
       "      <td>...</td>\n",
       "      <td>...</td>\n",
       "      <td>...</td>\n",
       "    </tr>\n",
       "    <tr>\n",
       "      <th>1279</th>\n",
       "      <td>2021_6075_VAT_OPAM_2_1_PS_AN</td>\n",
       "      <td>prem</td>\n",
       "      <td>C15</td>\n",
       "      <td>C</td>\n",
       "      <td>15</td>\n",
       "      <td>Sotto questo profilo i Compro Oro sono sottopo...</td>\n",
       "      <td>L</td>\n",
       "      <td>NaN</td>\n",
       "      <td>NaN</td>\n",
       "      <td>NaN</td>\n",
       "      <td>...</td>\n",
       "      <td>Sotto questo profilo i Compro Oro sono sottopo...</td>\n",
       "      <td>Rule</td>\n",
       "      <td>0</td>\n",
       "      <td>0</td>\n",
       "      <td>0</td>\n",
       "      <td>0</td>\n",
       "      <td>0</td>\n",
       "      <td>1</td>\n",
       "      <td>0</td>\n",
       "      <td>0</td>\n",
       "    </tr>\n",
       "    <tr>\n",
       "      <th>1280</th>\n",
       "      <td>2021_6075_VAT_OPAM_2_1_PS_AN</td>\n",
       "      <td>prem</td>\n",
       "      <td>C16</td>\n",
       "      <td>C</td>\n",
       "      <td>16</td>\n",
       "      <td>Tale comunicazione ha luogo quando i destinata...</td>\n",
       "      <td>L</td>\n",
       "      <td>NaN</td>\n",
       "      <td>NaN</td>\n",
       "      <td>NaN</td>\n",
       "      <td>...</td>\n",
       "      <td>Tale comunicazione ha luogo quando i destinata...</td>\n",
       "      <td>Rule</td>\n",
       "      <td>0</td>\n",
       "      <td>0</td>\n",
       "      <td>0</td>\n",
       "      <td>0</td>\n",
       "      <td>0</td>\n",
       "      <td>1</td>\n",
       "      <td>0</td>\n",
       "      <td>0</td>\n",
       "    </tr>\n",
       "    <tr>\n",
       "      <th>1281</th>\n",
       "      <td>2021_6075_VAT_OPAM_2_1_PS_AN</td>\n",
       "      <td>prem</td>\n",
       "      <td>C17</td>\n",
       "      <td>C</td>\n",
       "      <td>17</td>\n",
       "      <td>Il Ministro dell'interno, con decreto del 17 f...</td>\n",
       "      <td>L</td>\n",
       "      <td>NaN</td>\n",
       "      <td>NaN</td>\n",
       "      <td>NaN</td>\n",
       "      <td>...</td>\n",
       "      <td>Il Ministro dell'interno, con decreto del 17 f...</td>\n",
       "      <td>Rule</td>\n",
       "      <td>0</td>\n",
       "      <td>0</td>\n",
       "      <td>0</td>\n",
       "      <td>0</td>\n",
       "      <td>0</td>\n",
       "      <td>1</td>\n",
       "      <td>0</td>\n",
       "      <td>0</td>\n",
       "    </tr>\n",
       "    <tr>\n",
       "      <th>1282</th>\n",
       "      <td>2021_6075_VAT_OPAM_2_1_PS_AN</td>\n",
       "      <td>prem</td>\n",
       "      <td>C18</td>\n",
       "      <td>C</td>\n",
       "      <td>18</td>\n",
       "      <td>Tra i soggetti destinatari del decreto sono ri...</td>\n",
       "      <td>L</td>\n",
       "      <td>NaN</td>\n",
       "      <td>NaN</td>\n",
       "      <td>NaN</td>\n",
       "      <td>...</td>\n",
       "      <td>Tra i soggetti destinatari del decreto sono ri...</td>\n",
       "      <td>Class,Rule</td>\n",
       "      <td>0</td>\n",
       "      <td>1</td>\n",
       "      <td>0</td>\n",
       "      <td>0</td>\n",
       "      <td>0</td>\n",
       "      <td>1</td>\n",
       "      <td>0</td>\n",
       "      <td>0</td>\n",
       "    </tr>\n",
       "    <tr>\n",
       "      <th>1283</th>\n",
       "      <td>2021_6075_VAT_OPAM_2_1_PS_AN</td>\n",
       "      <td>prem</td>\n",
       "      <td>C19</td>\n",
       "      <td>C</td>\n",
       "      <td>19</td>\n",
       "      <td>In conclusione, per quanto fin qui esposto, i ...</td>\n",
       "      <td>L</td>\n",
       "      <td></td>\n",
       "      <td>NaN</td>\n",
       "      <td>NaN</td>\n",
       "      <td>...</td>\n",
       "      <td>In conclusione, per quanto fin qui esposto, i ...</td>\n",
       "      <td>Class</td>\n",
       "      <td>0</td>\n",
       "      <td>1</td>\n",
       "      <td>0</td>\n",
       "      <td>0</td>\n",
       "      <td>0</td>\n",
       "      <td>0</td>\n",
       "      <td>0</td>\n",
       "      <td>0</td>\n",
       "    </tr>\n",
       "  </tbody>\n",
       "</table>\n",
       "<p>1284 rows × 24 columns</p>\n",
       "</div>"
      ],
      "text/plain": [
       "                             Document  Name   Id Chain Num  \\\n",
       "0     2013_40_VAT_OPAM_2_REM_MB_PS_AN  prem   A2     A   2   \n",
       "1     2013_40_VAT_OPAM_2_REM_MB_PS_AN  prem   A3     A   3   \n",
       "2       2018_847_VAT_OP_2_-1_MB_AF_AN  prem   A1     A   1   \n",
       "3       2018_847_VAT_OP_2_-1_MB_AF_AN  prem   A2     A   2   \n",
       "4       2018_847_VAT_OP_2_-1_MB_AF_AN  prem   A3     A   3   \n",
       "...                               ...   ...  ...   ...  ..   \n",
       "1279     2021_6075_VAT_OPAM_2_1_PS_AN  prem  C15     C  15   \n",
       "1280     2021_6075_VAT_OPAM_2_1_PS_AN  prem  C16     C  16   \n",
       "1281     2021_6075_VAT_OPAM_2_1_PS_AN  prem  C17     C  17   \n",
       "1282     2021_6075_VAT_OPAM_2_1_PS_AN  prem  C18     C  18   \n",
       "1283     2021_6075_VAT_OPAM_2_1_PS_AN  prem  C19     C  19   \n",
       "\n",
       "                                                   Text Type       SUP  SFF  \\\n",
       "0     Ai sensi dell'art. 14 del d.lgs.546/92, se l'o...    L       NaN  NaN   \n",
       "1     Se il ricorso non è stato proposto da o nei co...    L       NaN  NaN   \n",
       "2     Secondo condivisa e costante giurisprudenza (C...    L       NaN  NaN   \n",
       "3     Tuttavia, nel caso qui in esame, la Comm/ne no...    L  [A3, A4]  NaN   \n",
       "4     A tal proposito si ricorda che la Corte cost. ...    L       NaN  NaN   \n",
       "...                                                 ...  ...       ...  ...   \n",
       "1279  Sotto questo profilo i Compro Oro sono sottopo...    L       NaN  NaN   \n",
       "1280  Tale comunicazione ha luogo quando i destinata...    L       NaN  NaN   \n",
       "1281  Il Ministro dell'interno, con decreto del 17 f...    L       NaN  NaN   \n",
       "1282  Tra i soggetti destinatari del decreto sono ri...    L       NaN  NaN   \n",
       "1283  In conclusione, per quanto fin qui esposto, i ...    L            NaN   \n",
       "\n",
       "      ATT  ...                                           Previous     Scheme2  \\\n",
       "0     NaN  ...   Ai sensi dell'art. 14 del d.lgs.546/92, se l'...        Rule   \n",
       "1     NaN  ...   Se il ricorso non è stato\\n    proposto da o ...        Itpr   \n",
       "2     NaN  ...  Secondo condivisa e costante giurisprudenza (C...        Rule   \n",
       "3     NaN  ...  Tuttavia, nel caso qui in esame, la Comm/ne no...        Itpr   \n",
       "4     NaN  ...  A tal proposito si ricorda che la Corte cost. ...        Prec   \n",
       "...   ...  ...                                                ...         ...   \n",
       "1279  NaN  ...  Sotto questo profilo i Compro Oro sono sottopo...        Rule   \n",
       "1280  NaN  ...  Tale comunicazione ha luogo quando i destinata...        Rule   \n",
       "1281  NaN  ...  Il Ministro dell'interno, con decreto del 17 f...        Rule   \n",
       "1282  NaN  ...  Tra i soggetti destinatari del decreto sono ri...  Class,Rule   \n",
       "1283  NaN  ...  In conclusione, per quanto fin qui esposto, i ...       Class   \n",
       "\n",
       "     Aut Class Itpr Prec  Princ  Rule  Syst  Tele  \n",
       "0      0     0    0    0      0     1     0     0  \n",
       "1      0     0    1    0      0     0     0     0  \n",
       "2      0     0    0    0      0     1     0     0  \n",
       "3      0     0    1    0      0     0     0     0  \n",
       "4      0     0    0    1      0     0     0     0  \n",
       "...   ..   ...  ...  ...    ...   ...   ...   ...  \n",
       "1279   0     0    0    0      0     1     0     0  \n",
       "1280   0     0    0    0      0     1     0     0  \n",
       "1281   0     0    0    0      0     1     0     0  \n",
       "1282   0     1    0    0      0     1     0     0  \n",
       "1283   0     1    0    0      0     0     0     0  \n",
       "\n",
       "[1284 rows x 24 columns]"
      ]
     },
     "execution_count": 83,
     "metadata": {},
     "output_type": "execute_result"
    }
   ],
   "source": [
    "df_sc_final"
   ]
  },
  {
   "cell_type": "code",
   "execution_count": 84,
   "id": "a2221add",
   "metadata": {
    "execution": {
     "iopub.execute_input": "2025-09-02T17:07:41.690245Z",
     "iopub.status.busy": "2025-09-02T17:07:41.689792Z",
     "iopub.status.idle": "2025-09-02T17:07:41.696620Z",
     "shell.execute_reply": "2025-09-02T17:07:41.695760Z"
    },
    "id": "96ByuJIBZRHn",
    "outputId": "1a189414-ffb3-4d5a-a1b2-fd552f855b86",
    "papermill": {
     "duration": 0.039561,
     "end_time": "2025-09-02T17:07:41.698187",
     "exception": false,
     "start_time": "2025-09-02T17:07:41.658626",
     "status": "completed"
    },
    "tags": []
   },
   "outputs": [
    {
     "name": "stdout",
     "output_type": "stream",
     "text": [
      "Skipping abbreviation data augmentation\n"
     ]
    }
   ],
   "source": [
    "abbr_file_path = ('/kaggle/input' if os.environ.get('KAGGLE_KERNEL_RUN_TYPE','') else '.')+\"/abbreviazioni.tsv\"\n",
    "if ABBREVIATION_AUGMENTATION and os.path.isfile(abbr_file_path):\n",
    "    print(f\"Augmenting {len(df_train)} training annotations with abbreviations\")\n",
    "    abbreviations_df = pd.read_csv(abbr_file_path, sep='\\t', header=None, names=['Meaning','Abbreviation'])\n",
    "    print(f\"Loaded {len(abbreviations_df)} abbreviations\")\n",
    "    long_df = df_train.copy()\n",
    "    for i, abbr_row in abbreviations_df.iterrows():\n",
    "        abbr_regex = \"(?i)\\\\b\"+(abbr_row['Abbreviation'].replace('.','\\.')) # https://stackoverflow.com/a/54464222/2347196\n",
    "        long_df[\"Text\"] = long_df[\"Text\"].str.replace(abbr_regex, abbr_row['Meaning'], regex=True)\n",
    "        long_df[\"Previous\"] = long_df[\"Previous\"].str.replace(abbr_regex, abbr_row['Meaning'], regex=True)\n",
    "    df_train = pd.concat([df_train, long_df], ignore_index=True)\n",
    "    print(f\"{len(df_train)} annotations are now available\")\n",
    "else:\n",
    "    print(\"Skipping abbreviation data augmentation\")"
   ]
  },
  {
   "cell_type": "markdown",
   "id": "5cb2edec",
   "metadata": {
    "papermill": {
     "duration": 0.029859,
     "end_time": "2025-09-02T17:07:41.760868",
     "exception": false,
     "start_time": "2025-09-02T17:07:41.731009",
     "status": "completed"
    },
    "tags": []
   },
   "source": [
    "### Evaluate"
   ]
  },
  {
   "cell_type": "code",
   "execution_count": 85,
   "id": "ad0a2de5",
   "metadata": {
    "execution": {
     "iopub.execute_input": "2025-09-02T17:07:41.822485Z",
     "iopub.status.busy": "2025-09-02T17:07:41.821973Z",
     "iopub.status.idle": "2025-09-02T17:07:41.827069Z",
     "shell.execute_reply": "2025-09-02T17:07:41.826275Z"
    },
    "papermill": {
     "duration": 0.037581,
     "end_time": "2025-09-02T17:07:41.828663",
     "exception": false,
     "start_time": "2025-09-02T17:07:41.791082",
     "status": "completed"
    },
    "tags": []
   },
   "outputs": [],
   "source": [
    "def evaluate(model, data_loader, use_cuda=True):\n",
    "    predictions = []\n",
    "    device = torch.device('cuda') if use_cuda and torch.cuda.is_available() else torch.device('cpu')\n",
    "    model.eval()\n",
    "    model.to(device)\n",
    "    loop = tqdm(data_loader)\n",
    "    with torch.no_grad():\n",
    "        for batch in loop:\n",
    "            pred = model(batch['input_ids'].to(device), attention_mask = batch[\"attention_mask\"].to(device))\n",
    "            pred = pred.cpu().detach().numpy()\n",
    "            predictions.append(pred)\n",
    "    predictions = np.concatenate(predictions)\n",
    "    return predictions"
   ]
  },
  {
   "cell_type": "code",
   "execution_count": 86,
   "id": "827431d3",
   "metadata": {
    "execution": {
     "iopub.execute_input": "2025-09-02T17:07:41.890477Z",
     "iopub.status.busy": "2025-09-02T17:07:41.889997Z",
     "iopub.status.idle": "2025-09-02T17:07:41.940080Z",
     "shell.execute_reply": "2025-09-02T17:07:41.939293Z"
    },
    "id": "mQSheKKEFFbw",
    "outputId": "8d2e9051-2234-438e-e4be-c299f6386f65",
    "papermill": {
     "duration": 0.082698,
     "end_time": "2025-09-02T17:07:41.941760",
     "exception": false,
     "start_time": "2025-09-02T17:07:41.859062",
     "status": "completed"
    },
    "tags": []
   },
   "outputs": [
    {
     "name": "stdout",
     "output_type": "stream",
     "text": [
      "[nltk_data] Downloading package stopwords to /usr/share/nltk_data...\n",
      "[nltk_data]   Unzipping corpora/stopwords.zip.\n"
     ]
    },
    {
     "data": {
      "text/plain": [
       "True"
      ]
     },
     "execution_count": 86,
     "metadata": {},
     "output_type": "execute_result"
    }
   ],
   "source": [
    "import nltk\n",
    "nltk.download('stopwords')"
   ]
  },
  {
   "cell_type": "markdown",
   "id": "663d590f",
   "metadata": {
    "papermill": {
     "duration": 0.030595,
     "end_time": "2025-09-02T17:07:42.003337",
     "exception": false,
     "start_time": "2025-09-02T17:07:41.972742",
     "status": "completed"
    },
    "tags": []
   },
   "source": [
    "# ARGUMENTATIVE CLASSIFICATION"
   ]
  },
  {
   "cell_type": "code",
   "execution_count": 87,
   "id": "d18da540",
   "metadata": {
    "execution": {
     "iopub.execute_input": "2025-09-02T17:07:42.065641Z",
     "iopub.status.busy": "2025-09-02T17:07:42.065421Z",
     "iopub.status.idle": "2025-09-02T17:07:42.074460Z",
     "shell.execute_reply": "2025-09-02T17:07:42.073560Z"
    },
    "papermill": {
     "duration": 0.041893,
     "end_time": "2025-09-02T17:07:42.075988",
     "exception": false,
     "start_time": "2025-09-02T17:07:42.034095",
     "status": "completed"
    },
    "tags": []
   },
   "outputs": [
    {
     "name": "stdout",
     "output_type": "stream",
     "text": [
      "Number of training samples: 2463 (74.65898757199152%)\n",
      "Number of validation examples: 246 (7.456805092452258%)\n",
      "Number of test samples: 590 (17.88420733555623%)\n"
     ]
    }
   ],
   "source": [
    "df_train, df_val, df_test = split_dataset_ac(df_ac)\n",
    "num_labels = len(df_train['label'].unique())\n",
    "train_labels = df_train['label']\n",
    "val_labels = df_val['label']\n",
    "test_labels = df_test['label']\n",
    "class_names = le.classes_"
   ]
  },
  {
   "cell_type": "markdown",
   "id": "afa0b844",
   "metadata": {
    "papermill": {
     "duration": 0.030272,
     "end_time": "2025-09-02T17:07:42.136999",
     "exception": false,
     "start_time": "2025-09-02T17:07:42.106727",
     "status": "completed"
    },
    "tags": []
   },
   "source": [
    "## Baseline: TF-IDF + SVM"
   ]
  },
  {
   "cell_type": "code",
   "execution_count": 88,
   "id": "7cb5d236",
   "metadata": {
    "execution": {
     "iopub.execute_input": "2025-09-02T17:07:42.198819Z",
     "iopub.status.busy": "2025-09-02T17:07:42.198601Z",
     "iopub.status.idle": "2025-09-02T17:07:42.504253Z",
     "shell.execute_reply": "2025-09-02T17:07:42.503077Z"
    },
    "papermill": {
     "duration": 0.339202,
     "end_time": "2025-09-02T17:07:42.506541",
     "exception": false,
     "start_time": "2025-09-02T17:07:42.167339",
     "status": "completed"
    },
    "tags": []
   },
   "outputs": [
    {
     "name": "stdout",
     "output_type": "stream",
     "text": [
      "\n",
      " Baseline kernel: linear\n",
      "              precision    recall  f1-score   support\n",
      "\n",
      "        conc       0.88      0.66      0.75        79\n",
      "        prem       0.95      0.99      0.97       511\n",
      "\n",
      "    accuracy                           0.94       590\n",
      "   macro avg       0.92      0.82      0.86       590\n",
      "weighted avg       0.94      0.94      0.94       590\n",
      "\n"
     ]
    }
   ],
   "source": [
    "from sklearn.metrics import classification_report,f1_score\n",
    "#base_model, base_tokenizer = executeTfIdfSvm(\n",
    "#use only linear kernel\n",
    "for kernel in ['linear']:\n",
    "    executeTfIdfSvm(\n",
    "        df_train,\n",
    "        train_labels,\n",
    "        df_test,\n",
    "        test_labels,\n",
    "        class_names,\n",
    "        kernel = kernel,\n",
    "        scheme = False,\n",
    "        include_previous=False,\n",
    "        weighted_sampling = WEIGHTED_SAMPLING\n",
    "    )"
   ]
  },
  {
   "cell_type": "markdown",
   "id": "c7ae89ee",
   "metadata": {
    "papermill": {
     "duration": 0.031148,
     "end_time": "2025-09-02T17:07:42.570102",
     "exception": false,
     "start_time": "2025-09-02T17:07:42.538954",
     "status": "completed"
    },
    "tags": []
   },
   "source": [
    "## Training"
   ]
  },
  {
   "cell_type": "code",
   "execution_count": 89,
   "id": "52ebcfd3",
   "metadata": {
    "execution": {
     "iopub.execute_input": "2025-09-02T17:07:42.633617Z",
     "iopub.status.busy": "2025-09-02T17:07:42.632918Z",
     "iopub.status.idle": "2025-09-02T17:21:35.331351Z",
     "shell.execute_reply": "2025-09-02T17:21:35.330306Z"
    },
    "id": "9dN-8E__zJry",
    "outputId": "8766679f-c499-47ea-ec5b-b90f0101ef50",
    "papermill": {
     "duration": 832.73189,
     "end_time": "2025-09-02T17:21:35.333102",
     "exception": false,
     "start_time": "2025-09-02T17:07:42.601212",
     "status": "completed"
    },
    "tags": []
   },
   "outputs": [
    {
     "data": {
      "application/vnd.jupyter.widget-view+json": {
       "model_id": "79691797367548658287a2b3d4821453",
       "version_major": 2,
       "version_minor": 0
      },
      "text/plain": [
       "tokenizer_config.json:   0%|          | 0.00/341 [00:00<?, ?B/s]"
      ]
     },
     "metadata": {},
     "output_type": "display_data"
    },
    {
     "name": "stderr",
     "output_type": "stream",
     "text": [
      "/opt/conda/lib/python3.10/site-packages/huggingface_hub/file_download.py:1132: FutureWarning: `resume_download` is deprecated and will be removed in version 1.0.0. Downloads always resume when possible. If you want to force a new download, use `force_download=True`.\n",
      "  warnings.warn(\n"
     ]
    },
    {
     "data": {
      "application/vnd.jupyter.widget-view+json": {
       "model_id": "0a2e41ca4eec4810897425ec8f5ad998",
       "version_major": 2,
       "version_minor": 0
      },
      "text/plain": [
       "config.json:   0%|          | 0.00/614 [00:00<?, ?B/s]"
      ]
     },
     "metadata": {},
     "output_type": "display_data"
    },
    {
     "data": {
      "application/vnd.jupyter.widget-view+json": {
       "model_id": "0398d6d808bd4ea6b271205c74884679",
       "version_major": 2,
       "version_minor": 0
      },
      "text/plain": [
       "vocab.txt: 0.00B [00:00, ?B/s]"
      ]
     },
     "metadata": {},
     "output_type": "display_data"
    },
    {
     "data": {
      "application/vnd.jupyter.widget-view+json": {
       "model_id": "d594c4cd39394eac946883f890d047c2",
       "version_major": 2,
       "version_minor": 0
      },
      "text/plain": [
       "tokenizer.json: 0.00B [00:00, ?B/s]"
      ]
     },
     "metadata": {},
     "output_type": "display_data"
    },
    {
     "data": {
      "application/vnd.jupyter.widget-view+json": {
       "model_id": "8caa73d21d824c199122f682827d038d",
       "version_major": 2,
       "version_minor": 0
      },
      "text/plain": [
       "special_tokens_map.json:   0%|          | 0.00/112 [00:00<?, ?B/s]"
      ]
     },
     "metadata": {},
     "output_type": "display_data"
    },
    {
     "data": {
      "application/vnd.jupyter.widget-view+json": {
       "model_id": "5016edcf05604bd0976d1b4c39657d1e",
       "version_major": 2,
       "version_minor": 0
      },
      "text/plain": [
       "model.safetensors:   0%|          | 0.00/443M [00:00<?, ?B/s]"
      ]
     },
     "metadata": {},
     "output_type": "display_data"
    },
    {
     "name": "stderr",
     "output_type": "stream",
     "text": [
      "Some weights of BertModel were not initialized from the model checkpoint at dlicari/Italian-Legal-BERT and are newly initialized: ['bert.pooler.dense.bias', 'bert.pooler.dense.weight']\n",
      "You should probably TRAIN this model on a down-stream task to be able to use it for predictions and inference.\n"
     ]
    },
    {
     "name": "stdout",
     "output_type": "stream",
     "text": [
      "Encoding...\n",
      "input shape: (2463, 391)\n",
      "Encoding complete\n",
      "Encoding...\n",
      "input shape: (246, 330)\n",
      "Encoding complete\n",
      "ENCODING COMPLETE.\n",
      "STARTING TRAINING with complete data:\n"
     ]
    },
    {
     "name": "stderr",
     "output_type": "stream",
     "text": [
      "  0%|          | 0/77 [00:00<?, ?it/s]/tmp/ipykernel_24/537690395.py:5: UserWarning: To copy construct from a tensor, it is recommended to use sourceTensor.clone().detach() or sourceTensor.clone().detach().requires_grad_(True), rather than torch.tensor(sourceTensor).\n",
      "  return {key: torch.tensor(val[idx]) for key, val in self.encodings.items()}\n",
      "Epoch 1: 100%|██████████| 77/77 [01:41<00:00,  1.32s/it, loss=0.121]\n"
     ]
    },
    {
     "name": "stdout",
     "output_type": "stream",
     "text": [
      "Epoch: 1  Lr: 0.00005000  Loss: Train = [0.1972] - Val = [0.1557]  Time one epoch (s): 103.9009 \n"
     ]
    },
    {
     "name": "stderr",
     "output_type": "stream",
     "text": [
      "Epoch 2: 100%|██████████| 77/77 [01:40<00:00,  1.30s/it, loss=0.0944]\n"
     ]
    },
    {
     "name": "stdout",
     "output_type": "stream",
     "text": [
      "Epoch: 2  Lr: 0.00005000  Loss: Train = [0.0929] - Val = [0.1727]  Time one epoch (s): 103.0319 \n"
     ]
    },
    {
     "name": "stderr",
     "output_type": "stream",
     "text": [
      "Epoch 3: 100%|██████████| 77/77 [01:40<00:00,  1.30s/it, loss=0.0458]\n"
     ]
    },
    {
     "name": "stdout",
     "output_type": "stream",
     "text": [
      "Epoch: 3  Lr: 0.00005000  Loss: Train = [0.0532] - Val = [0.1635]  Time one epoch (s): 102.9838 \n"
     ]
    },
    {
     "name": "stderr",
     "output_type": "stream",
     "text": [
      "Epoch 4: 100%|██████████| 77/77 [01:40<00:00,  1.30s/it, loss=0.0282]\n"
     ]
    },
    {
     "name": "stdout",
     "output_type": "stream",
     "text": [
      "Epoch: 4  Lr: 0.00005000  Loss: Train = [0.0209] - Val = [0.1827]  Time one epoch (s): 102.9461 \n"
     ]
    },
    {
     "name": "stderr",
     "output_type": "stream",
     "text": [
      "Epoch 5: 100%|██████████| 77/77 [01:40<00:00,  1.30s/it, loss=0.00234]\n"
     ]
    },
    {
     "name": "stdout",
     "output_type": "stream",
     "text": [
      "Epoch: 5  Lr: 0.00005000  Loss: Train = [0.0160] - Val = [0.2018]  Time one epoch (s): 102.9671 \n"
     ]
    },
    {
     "name": "stderr",
     "output_type": "stream",
     "text": [
      "Epoch 6: 100%|██████████| 77/77 [01:40<00:00,  1.30s/it, loss=0.359]\n"
     ]
    },
    {
     "name": "stdout",
     "output_type": "stream",
     "text": [
      "Epoch: 6  Lr: 0.00005000  Loss: Train = [0.1517] - Val = [1.4145]  Time one epoch (s): 102.9129 \n"
     ]
    },
    {
     "name": "stderr",
     "output_type": "stream",
     "text": [
      "Epoch 7: 100%|██████████| 77/77 [01:40<00:00,  1.30s/it, loss=0.383]\n"
     ]
    },
    {
     "name": "stdout",
     "output_type": "stream",
     "text": [
      "Epoch: 7  Lr: 0.00005000  Loss: Train = [0.2941] - Val = [0.4345]  Time one epoch (s): 102.9296 \n"
     ]
    },
    {
     "name": "stderr",
     "output_type": "stream",
     "text": [
      "Epoch 8: 100%|██████████| 77/77 [01:40<00:00,  1.30s/it, loss=0.253]\n"
     ]
    },
    {
     "name": "stdout",
     "output_type": "stream",
     "text": [
      "Epoch: 8  Lr: 0.00005000  Loss: Train = [0.2847] - Val = [0.4293]  Time one epoch (s): 102.9727 \n",
      "Time for 8 epochs (s): 824.646\n",
      "TRAINING COMPLETE.\n"
     ]
    }
   ],
   "source": [
    "from sklearn.metrics import classification_report,f1_score\n",
    "epochs = 8\n",
    "model, tokenizer, statistics = execute(\n",
    "\n",
    "    lr,\n",
    "    epochs,\n",
    "    batch_size,\n",
    "    num_labels,\n",
    "    df_train,\n",
    "    train_labels,\n",
    "    df_val,\n",
    "    val_labels,\n",
    "    scheme=False,\n",
    "    focal=focal, #BCE or FOCAL LOSS\n",
    "    model_name=model_checkpoint,\n",
    "    use_cuda=USE_CUDA,\n",
    "    include_previous=False,\n",
    ")"
   ]
  },
  {
   "cell_type": "code",
   "execution_count": 90,
   "id": "0b0c6293",
   "metadata": {
    "execution": {
     "iopub.execute_input": "2025-09-02T17:21:35.558717Z",
     "iopub.status.busy": "2025-09-02T17:21:35.557741Z",
     "iopub.status.idle": "2025-09-02T17:21:35.814993Z",
     "shell.execute_reply": "2025-09-02T17:21:35.814213Z"
    },
    "id": "wukQyjNxELuc",
    "outputId": "a167abed-b0d2-4f80-dfa2-e13874683a09",
    "papermill": {
     "duration": 0.371454,
     "end_time": "2025-09-02T17:21:35.816879",
     "exception": false,
     "start_time": "2025-09-02T17:21:35.445425",
     "status": "completed"
    },
    "tags": []
   },
   "outputs": [
    {
     "data": {
      "image/png": "[encoded data removed]",
      "text/plain": [
       "<Figure size 1000x500 with 1 Axes>"
      ]
     },
     "metadata": {},
     "output_type": "display_data"
    }
   ],
   "source": [
    "scheme = False\n",
    "plt.figure(figsize=(10,5))\n",
    "plt.title(\"SC loss\" if scheme else \"AC loss\")\n",
    "plt.plot(statistics['train_loss_values'],label=\"train loss\")\n",
    "plt.plot(statistics['val_loss_values'],label=\"validation loss\")\n",
    "plt.xlabel(\"Epochs\")\n",
    "plt.xticks(np.arange(epochs), np.arange(1, epochs+1, 1))\n",
    "plt.ylabel(\"Loss\")\n",
    "plt.legend()\n",
    "plt.show()"
   ]
  },
  {
   "cell_type": "markdown",
   "id": "b692e64d",
   "metadata": {
    "id": "G44CJgw5k6HH",
    "papermill": {
     "duration": 0.118947,
     "end_time": "2025-09-02T17:21:36.049451",
     "exception": false,
     "start_time": "2025-09-02T17:21:35.930504",
     "status": "completed"
    },
    "tags": []
   },
   "source": [
    "## AC Evaluation"
   ]
  },
  {
   "cell_type": "code",
   "execution_count": 91,
   "id": "ddaefeb6",
   "metadata": {
    "execution": {
     "iopub.execute_input": "2025-09-02T17:21:36.316299Z",
     "iopub.status.busy": "2025-09-02T17:21:36.315990Z",
     "iopub.status.idle": "2025-09-02T17:21:36.321980Z",
     "shell.execute_reply": "2025-09-02T17:21:36.321262Z"
    },
    "id": "YXVlJ2Ask6HI",
    "papermill": {
     "duration": 0.119059,
     "end_time": "2025-09-02T17:21:36.323677",
     "exception": false,
     "start_time": "2025-09-02T17:21:36.204618",
     "status": "completed"
    },
    "tags": []
   },
   "outputs": [],
   "source": [
    "def predict(model, data_loader, use_cuda=True):\n",
    "\n",
    "    device = torch.device('cuda') if use_cuda and torch.cuda.is_available() else torch.device('cpu')\n",
    "    model.eval()\n",
    "    model.to(device)\n",
    "    predictions = []\n",
    "    with torch.no_grad():\n",
    "        for step_num, batch in tqdm(enumerate(data_loader)):\n",
    "            input_ids = batch['input_ids'].to(device)\n",
    "            attention_mask = batch['attention_mask'].to(device)\n",
    "            #labels_emo = batch['labels'].to(device)\n",
    "            output = model(input_ids, attention_mask=attention_mask)\n",
    "            pred= output\n",
    "            pred = pred.cpu().detach().numpy()\n",
    "            predictions.append(np.argmax(pred,axis=-1))\n",
    "    predictions = np.concatenate(predictions)\n",
    "    return predictions"
   ]
  },
  {
   "cell_type": "code",
   "execution_count": 92,
   "id": "ed848372",
   "metadata": {
    "execution": {
     "iopub.execute_input": "2025-09-02T17:21:36.543928Z",
     "iopub.status.busy": "2025-09-02T17:21:36.543177Z",
     "iopub.status.idle": "2025-09-02T17:21:36.950829Z",
     "shell.execute_reply": "2025-09-02T17:21:36.950010Z"
    },
    "id": "PCgQatSWHpjs",
    "outputId": "977aa9a7-4b19-4c78-f5af-4721490f04d2",
    "papermill": {
     "duration": 0.519304,
     "end_time": "2025-09-02T17:21:36.952598",
     "exception": false,
     "start_time": "2025-09-02T17:21:36.433294",
     "status": "completed"
    },
    "tags": []
   },
   "outputs": [
    {
     "name": "stdout",
     "output_type": "stream",
     "text": [
      "Encoding...\n",
      "input shape: (2463, 391)\n",
      "Encoding complete\n",
      "Encoding...\n",
      "input shape: (246, 330)\n",
      "Encoding complete\n",
      "Encoding...\n",
      "input shape: (590, 410)\n",
      "Encoding complete\n",
      "ENCODING COMPLETE.\n"
     ]
    }
   ],
   "source": [
    "#base_test_encodings = base_tokenizer.transform(df_test)\n",
    "train_encodings = encode(tokenizer, df_train, train_labels)\n",
    "val_encodings = encode(tokenizer, df_val, val_labels)\n",
    "test_encodings = encode(tokenizer,df_test,test_labels)\n",
    "print(f'ENCODING COMPLETE.')"
   ]
  },
  {
   "cell_type": "code",
   "execution_count": 93,
   "id": "fb344d51",
   "metadata": {
    "execution": {
     "iopub.execute_input": "2025-09-02T17:21:37.176396Z",
     "iopub.status.busy": "2025-09-02T17:21:37.175917Z",
     "iopub.status.idle": "2025-09-02T17:21:39.732177Z",
     "shell.execute_reply": "2025-09-02T17:21:39.731176Z"
    },
    "id": "evF5Sv-FI4gM",
    "papermill": {
     "duration": 2.668786,
     "end_time": "2025-09-02T17:21:39.733917",
     "exception": false,
     "start_time": "2025-09-02T17:21:37.065131",
     "status": "completed"
    },
    "tags": []
   },
   "outputs": [
    {
     "name": "stderr",
     "output_type": "stream",
     "text": [
      "0it [00:00, ?it/s]/tmp/ipykernel_24/537690395.py:5: UserWarning: To copy construct from a tensor, it is recommended to use sourceTensor.clone().detach() or sourceTensor.clone().detach().requires_grad_(True), rather than torch.tensor(sourceTensor).\n",
      "  return {key: torch.tensor(val[idx]) for key, val in self.encodings.items()}\n",
      "8it [00:02,  3.15it/s]"
     ]
    },
    {
     "name": "stdout",
     "output_type": "stream",
     "text": [
      "/n              precision    recall  f1-score   support\n",
      "\n",
      "           0       0.46      0.42      0.44        38\n",
      "           1       0.90      0.91      0.90       208\n",
      "\n",
      "    accuracy                           0.83       246\n",
      "   macro avg       0.68      0.66      0.67       246\n",
      "weighted avg       0.83      0.83      0.83       246\n",
      "\n"
     ]
    },
    {
     "name": "stderr",
     "output_type": "stream",
     "text": [
      "\n"
     ]
    }
   ],
   "source": [
    "\n",
    "#create val dataset\n",
    "val_dataset = CustomTorchDataset(val_encodings)\n",
    "#create val dataloader\n",
    "data_loader_val = torch.utils.data.DataLoader(val_dataset,\n",
    "                                  batch_size=batch_size,\n",
    "                                  shuffle = False)\n",
    "y_true = val_labels\n",
    "y_pred = predict(model,data_loader_val)\n",
    "print('/n'+\"\"+classification_report(y_true, y_pred))"
   ]
  },
  {
   "cell_type": "code",
   "execution_count": 94,
   "id": "af2643f1",
   "metadata": {
    "execution": {
     "iopub.execute_input": "2025-09-02T17:21:39.971825Z",
     "iopub.status.busy": "2025-09-02T17:21:39.971531Z",
     "iopub.status.idle": "2025-09-02T17:21:47.971817Z",
     "shell.execute_reply": "2025-09-02T17:21:47.970631Z"
    },
    "id": "Ush1RZsJInKS",
    "papermill": {
     "duration": 8.115075,
     "end_time": "2025-09-02T17:21:47.973862",
     "exception": false,
     "start_time": "2025-09-02T17:21:39.858787",
     "status": "completed"
    },
    "tags": []
   },
   "outputs": [
    {
     "name": "stderr",
     "output_type": "stream",
     "text": [
      "0it [00:00, ?it/s]/tmp/ipykernel_24/537690395.py:5: UserWarning: To copy construct from a tensor, it is recommended to use sourceTensor.clone().detach() or sourceTensor.clone().detach().requires_grad_(True), rather than torch.tensor(sourceTensor).\n",
      "  return {key: torch.tensor(val[idx]) for key, val in self.encodings.items()}\n",
      "19it [00:07,  2.38it/s]"
     ]
    },
    {
     "name": "stdout",
     "output_type": "stream",
     "text": [
      "\n",
      " Actual model: \n",
      "              precision    recall  f1-score   support\n",
      "\n",
      "           0       0.47      0.43      0.45        79\n",
      "           1       0.91      0.93      0.92       511\n",
      "\n",
      "    accuracy                           0.86       590\n",
      "   macro avg       0.69      0.68      0.68       590\n",
      "weighted avg       0.85      0.86      0.86       590\n",
      "\n"
     ]
    },
    {
     "name": "stderr",
     "output_type": "stream",
     "text": [
      "\n"
     ]
    }
   ],
   "source": [
    "y_true = test_labels\n",
    "#y_pred = base_model.predict(base_test_encodings)\n",
    "#print(\"\\n Baseline: \\n\"+classification_report(y_true, y_pred))\n",
    "#create test dataset\n",
    "test_dataset = CustomTorchDataset(test_encodings)\n",
    "#create test dataloader\n",
    "data_loader_test = torch.utils.data.DataLoader(test_dataset,\n",
    "                                  batch_size=batch_size,\n",
    "                                  shuffle = False)\n",
    "y_pred = predict(model,data_loader_test)\n",
    "print(\"\\n Actual model: \\n\"+classification_report(y_true, y_pred))"
   ]
  },
  {
   "cell_type": "code",
   "execution_count": 95,
   "id": "5c754305",
   "metadata": {
    "execution": {
     "iopub.execute_input": "2025-09-02T17:21:48.210745Z",
     "iopub.status.busy": "2025-09-02T17:21:48.210064Z",
     "iopub.status.idle": "2025-09-02T17:21:48.213904Z",
     "shell.execute_reply": "2025-09-02T17:21:48.213069Z"
    },
    "id": "dkfPd-JCDh4b",
    "papermill": {
     "duration": 0.119398,
     "end_time": "2025-09-02T17:21:48.216261",
     "exception": false,
     "start_time": "2025-09-02T17:21:48.096863",
     "status": "completed"
    },
    "tags": []
   },
   "outputs": [],
   "source": [
    "#score = f1_score(y_true, y_pred, labels=df_test['label'].unique(), average='macro')"
   ]
  },
  {
   "cell_type": "markdown",
   "id": "9e23dbca",
   "metadata": {
    "papermill": {
     "duration": 0.112431,
     "end_time": "2025-09-02T17:21:48.443299",
     "exception": false,
     "start_time": "2025-09-02T17:21:48.330868",
     "status": "completed"
    },
    "tags": []
   },
   "source": [
    "# SCHEME CLASSIFICATION"
   ]
  },
  {
   "cell_type": "markdown",
   "id": "1f9e3312",
   "metadata": {
    "papermill": {
     "duration": 0.12337,
     "end_time": "2025-09-02T17:21:48.682197",
     "exception": false,
     "start_time": "2025-09-02T17:21:48.558827",
     "status": "completed"
    },
    "tags": []
   },
   "source": [
    "## Settings"
   ]
  },
  {
   "cell_type": "code",
   "execution_count": 96,
   "id": "a3683b12",
   "metadata": {
    "execution": {
     "iopub.execute_input": "2025-09-02T17:21:48.975521Z",
     "iopub.status.busy": "2025-09-02T17:21:48.974952Z",
     "iopub.status.idle": "2025-09-02T17:21:49.138714Z",
     "shell.execute_reply": "2025-09-02T17:21:49.137759Z"
    },
    "papermill": {
     "duration": 0.27835,
     "end_time": "2025-09-02T17:21:49.140382",
     "exception": false,
     "start_time": "2025-09-02T17:21:48.862032",
     "status": "completed"
    },
    "tags": []
   },
   "outputs": [
    {
     "name": "stdout",
     "output_type": "stream",
     "text": [
      "Number of training samples: 485 (37.77258566978193%)\n",
      "Number of validation examples: 93 (7.242990654205608%)\n",
      "Number of test samples: 125 (9.735202492211839%)\n",
      "Number of training samples: 183 (14.25233644859813%)\n",
      "Number of validation examples: 32 (2.4922118380062304%)\n",
      "Number of test samples: 66 (5.140186915887851%)\n",
      "Number of training samples: 99 (7.710280373831775%)\n",
      "Number of validation examples: 16 (1.2461059190031152%)\n",
      "Number of test samples: 15 (1.1682242990654206%)\n",
      "Number of training samples: 118 (9.190031152647975%)\n",
      "Number of validation examples: 9 (0.7009345794392523%)\n",
      "Number of test samples: 43 (3.3489096573208723%)\n",
      "Scheme task\n",
      "tensor([1.0000, 1.2543, 1.4899, 2.3165, 2.6503, 2.7897, 3.8695, 4.2699],\n",
      "       device='cuda:0')\n"
     ]
    },
    {
     "data": {
      "text/plain": [
       "['Rule', 'Prec', 'Itpr', 'Princ', 'Class', 'Aut', 'Syst', 'Tele']"
      ]
     },
     "execution_count": 96,
     "metadata": {},
     "output_type": "execute_result"
    }
   ],
   "source": [
    "df_train, df_val, df_test = split_dataset_sc(df_sc_final)\n",
    "print(\"Scheme task\")\n",
    "train_labels = df_train[sc_classes]\n",
    "val_labels = df_val[sc_classes]\n",
    "test_labels = df_test[sc_classes]\n",
    "num_labels = train_labels.shape[1]\n",
    "\n",
    "#compute class weights to be used in focal loss\n",
    "count = df_train['Scheme'].explode().value_counts()\n",
    "tot = df_train['Scheme'].explode().value_counts().sum()\n",
    "if TNAUG:\n",
    "    df_train = load_aug_data(df_train)\n",
    "    train_labels = df_train[sc_classes]\n",
    "    count = df_train[[*sc_classes]].sum(axis=0)\n",
    "    tot = df_train[[*sc_classes]].sum(axis=0).sum()\n",
    "cwt = class_weights = tot/count\n",
    "class_weights = np.log(class_weights)\n",
    "class_weights = class_weights / np.min(class_weights)\n",
    "cw = class_weights.reset_index(drop=True).to_frame()\n",
    "cwt = torch.stack(list(map(lambda x : torch.tensor(x,device=device,dtype = torch.float32),np.array(cw).squeeze())))\n",
    "class_names = list(sc_classes)\n",
    "print(cwt)\n",
    "class_names"
   ]
  },
  {
   "cell_type": "code",
   "execution_count": 97,
   "id": "c105a3c4",
   "metadata": {
    "execution": {
     "iopub.execute_input": "2025-09-02T17:21:49.368570Z",
     "iopub.status.busy": "2025-09-02T17:21:49.367751Z",
     "iopub.status.idle": "2025-09-02T17:21:49.372391Z",
     "shell.execute_reply": "2025-09-02T17:21:49.371585Z"
    },
    "id": "oH9CdxTz5Gsq",
    "papermill": {
     "duration": 0.119762,
     "end_time": "2025-09-02T17:21:49.374000",
     "exception": false,
     "start_time": "2025-09-02T17:21:49.254238",
     "status": "completed"
    },
    "tags": []
   },
   "outputs": [],
   "source": [
    "# https://towardsdatascience.com/demystifying-pytorchs-weightedrandomsampler-by-example-a68aceccb452\n",
    "\n",
    "# https://gist.github.com/Chris-hughes10/260c70650c5a6f322d273a8a8728b91a\n",
    "\n",
    "if WEIGHTED_SAMPLING:\n",
    "    class_weights_arr = [class_weights[i] for i in sc_label_count.index]\n",
    "    custom_sampler = WeightedRandomSampler(weights=class_weights_arr, num_samples=len(df_sc_final))\n",
    "    #dl = DataLoader(df_sc_final, sampler=sampler, batch_size=10)\n",
    "else:\n",
    "    custom_sampler = None"
   ]
  },
  {
   "cell_type": "markdown",
   "id": "eb997d8a",
   "metadata": {
    "id": "FB0tSB6FZRHp",
    "papermill": {
     "duration": 0.113663,
     "end_time": "2025-09-02T17:21:49.599719",
     "exception": false,
     "start_time": "2025-09-02T17:21:49.486056",
     "status": "completed"
    },
    "tags": []
   },
   "source": [
    "## Baseline: TF-IDF + SVM"
   ]
  },
  {
   "cell_type": "code",
   "execution_count": 98,
   "id": "8c158f07",
   "metadata": {
    "execution": {
     "iopub.execute_input": "2025-09-02T17:21:49.825708Z",
     "iopub.status.busy": "2025-09-02T17:21:49.824876Z",
     "iopub.status.idle": "2025-09-02T17:21:50.027120Z",
     "shell.execute_reply": "2025-09-02T17:21:50.026098Z"
    },
    "papermill": {
     "duration": 0.318066,
     "end_time": "2025-09-02T17:21:50.028999",
     "exception": false,
     "start_time": "2025-09-02T17:21:49.710933",
     "status": "completed"
    },
    "tags": []
   },
   "outputs": [
    {
     "name": "stdout",
     "output_type": "stream",
     "text": [
      "\n",
      " Baseline kernel: linear\n",
      "              precision    recall  f1-score   support\n",
      "\n",
      "        Rule       0.88      0.87      0.87       126\n",
      "        Prec       0.95      0.78      0.86        76\n",
      "        Itpr       0.56      0.19      0.29        52\n",
      "       Princ       0.50      0.11      0.18        18\n",
      "       Class       0.33      0.04      0.07        25\n",
      "         Aut       1.00      0.08      0.15        12\n",
      "        Syst       1.00      0.33      0.50         6\n",
      "        Tele       1.00      0.50      0.67         4\n",
      "\n",
      "   micro avg       0.86      0.58      0.70       319\n",
      "   macro avg       0.78      0.36      0.45       319\n",
      "weighted avg       0.79      0.58      0.63       319\n",
      " samples avg       0.66      0.59      0.61       319\n",
      "\n"
     ]
    },
    {
     "name": "stderr",
     "output_type": "stream",
     "text": [
      "/opt/conda/lib/python3.10/site-packages/sklearn/metrics/_classification.py:1344: UndefinedMetricWarning: Precision and F-score are ill-defined and being set to 0.0 in samples with no predicted labels. Use `zero_division` parameter to control this behavior.\n",
      "  _warn_prf(average, modifier, msg_start, len(result))\n"
     ]
    }
   ],
   "source": [
    "from sklearn.metrics import classification_report,f1_score\n",
    "#base_model, base_tokenizer = executeTfIdfSvm(\n",
    "#consider only the linear kernel\n",
    "for kernel in ['linear']:\n",
    "    executeTfIdfSvm(\n",
    "        df_train,\n",
    "        train_labels,\n",
    "        df_test,\n",
    "        test_labels,\n",
    "        class_names,\n",
    "        kernel = kernel,\n",
    "        scheme = True,\n",
    "        include_previous=False,\n",
    "        weighted_sampling = WEIGHTED_SAMPLING\n",
    "    )"
   ]
  },
  {
   "cell_type": "markdown",
   "id": "0fcb1f60",
   "metadata": {
    "papermill": {
     "duration": 0.112281,
     "end_time": "2025-09-02T17:21:50.255604",
     "exception": false,
     "start_time": "2025-09-02T17:21:50.143323",
     "status": "completed"
    },
    "tags": []
   },
   "source": [
    "## Training"
   ]
  },
  {
   "cell_type": "code",
   "execution_count": 99,
   "id": "69e19cd2",
   "metadata": {
    "execution": {
     "iopub.execute_input": "2025-09-02T17:21:50.482421Z",
     "iopub.status.busy": "2025-09-02T17:21:50.481762Z",
     "iopub.status.idle": "2025-09-02T17:26:53.601424Z",
     "shell.execute_reply": "2025-09-02T17:26:53.600476Z"
    },
    "id": "9dN-8E__zJry",
    "outputId": "8766679f-c499-47ea-ec5b-b90f0101ef50",
    "papermill": {
     "duration": 303.235401,
     "end_time": "2025-09-02T17:26:53.603366",
     "exception": false,
     "start_time": "2025-09-02T17:21:50.367965",
     "status": "completed"
    },
    "tags": []
   },
   "outputs": [
    {
     "name": "stderr",
     "output_type": "stream",
     "text": [
      "Some weights of BertModel were not initialized from the model checkpoint at dlicari/Italian-Legal-BERT and are newly initialized: ['bert.pooler.dense.bias', 'bert.pooler.dense.weight']\n",
      "You should probably TRAIN this model on a down-stream task to be able to use it for predictions and inference.\n"
     ]
    },
    {
     "name": "stdout",
     "output_type": "stream",
     "text": [
      "Encoding...\n",
      "input shape: (885, 391)\n",
      "Encoding complete\n",
      "Encoding...\n",
      "input shape: (150, 351)\n",
      "Encoding complete\n",
      "ENCODING COMPLETE.\n",
      "STARTING TRAINING with complete data:\n"
     ]
    },
    {
     "name": "stderr",
     "output_type": "stream",
     "text": [
      "  0%|          | 0/28 [00:00<?, ?it/s]/tmp/ipykernel_24/537690395.py:5: UserWarning: To copy construct from a tensor, it is recommended to use sourceTensor.clone().detach() or sourceTensor.clone().detach().requires_grad_(True), rather than torch.tensor(sourceTensor).\n",
      "  return {key: torch.tensor(val[idx]) for key, val in self.encodings.items()}\n",
      "Epoch 1: 100%|██████████| 28/28 [00:36<00:00,  1.29s/it, loss=0.342]\n"
     ]
    },
    {
     "name": "stdout",
     "output_type": "stream",
     "text": [
      "f1_macro_score: 0.0\n",
      "Epoch: 1  Lr: 0.00005000  Loss: Train = [0.4772] - Val = [0.3854]  Time one epoch (s): 37.8010 \n"
     ]
    },
    {
     "name": "stderr",
     "output_type": "stream",
     "text": [
      "  0%|          | 0/28 [00:00<?, ?it/s]/tmp/ipykernel_24/537690395.py:5: UserWarning: To copy construct from a tensor, it is recommended to use sourceTensor.clone().detach() or sourceTensor.clone().detach().requires_grad_(True), rather than torch.tensor(sourceTensor).\n",
      "  return {key: torch.tensor(val[idx]) for key, val in self.encodings.items()}\n",
      "Epoch 2: 100%|██████████| 28/28 [00:36<00:00,  1.29s/it, loss=0.306]\n"
     ]
    },
    {
     "name": "stdout",
     "output_type": "stream",
     "text": [
      "f1_macro_score: 0.062499999999999986\n",
      "Epoch: 2  Lr: 0.00005000  Loss: Train = [0.3564] - Val = [0.3504]  Time one epoch (s): 37.7646  f1_score: 0.0625 \n"
     ]
    },
    {
     "name": "stderr",
     "output_type": "stream",
     "text": [
      "  0%|          | 0/28 [00:00<?, ?it/s]/tmp/ipykernel_24/537690395.py:5: UserWarning: To copy construct from a tensor, it is recommended to use sourceTensor.clone().detach() or sourceTensor.clone().detach().requires_grad_(True), rather than torch.tensor(sourceTensor).\n",
      "  return {key: torch.tensor(val[idx]) for key, val in self.encodings.items()}\n",
      "Epoch 3: 100%|██████████| 28/28 [00:36<00:00,  1.29s/it, loss=0.316]\n"
     ]
    },
    {
     "name": "stdout",
     "output_type": "stream",
     "text": [
      "f1_macro_score: 0.26362688152698177\n",
      "Epoch: 3  Lr: 0.00005000  Loss: Train = [0.2975] - Val = [0.2711]  Time one epoch (s): 37.8035  f1_score: 0.2636 \n"
     ]
    },
    {
     "name": "stderr",
     "output_type": "stream",
     "text": [
      "  0%|          | 0/28 [00:00<?, ?it/s]/tmp/ipykernel_24/537690395.py:5: UserWarning: To copy construct from a tensor, it is recommended to use sourceTensor.clone().detach() or sourceTensor.clone().detach().requires_grad_(True), rather than torch.tensor(sourceTensor).\n",
      "  return {key: torch.tensor(val[idx]) for key, val in self.encodings.items()}\n",
      "Epoch 4: 100%|██████████| 28/28 [00:36<00:00,  1.29s/it, loss=0.211]\n"
     ]
    },
    {
     "name": "stdout",
     "output_type": "stream",
     "text": [
      "f1_macro_score: 0.2737894736842105\n",
      "Epoch: 4  Lr: 0.00005000  Loss: Train = [0.2356] - Val = [0.2502]  Time one epoch (s): 37.7607  f1_score: 0.2738 \n"
     ]
    },
    {
     "name": "stderr",
     "output_type": "stream",
     "text": [
      "  0%|          | 0/28 [00:00<?, ?it/s]/tmp/ipykernel_24/537690395.py:5: UserWarning: To copy construct from a tensor, it is recommended to use sourceTensor.clone().detach() or sourceTensor.clone().detach().requires_grad_(True), rather than torch.tensor(sourceTensor).\n",
      "  return {key: torch.tensor(val[idx]) for key, val in self.encodings.items()}\n",
      "Epoch 5: 100%|██████████| 28/28 [00:36<00:00,  1.29s/it, loss=0.202]\n"
     ]
    },
    {
     "name": "stdout",
     "output_type": "stream",
     "text": [
      "f1_macro_score: 0.27689529444138694\n",
      "Epoch: 5  Lr: 0.00005000  Loss: Train = [0.2018] - Val = [0.2443]  Time one epoch (s): 37.7561  f1_score: 0.2769 \n"
     ]
    },
    {
     "name": "stderr",
     "output_type": "stream",
     "text": [
      "  0%|          | 0/28 [00:00<?, ?it/s]/tmp/ipykernel_24/537690395.py:5: UserWarning: To copy construct from a tensor, it is recommended to use sourceTensor.clone().detach() or sourceTensor.clone().detach().requires_grad_(True), rather than torch.tensor(sourceTensor).\n",
      "  return {key: torch.tensor(val[idx]) for key, val in self.encodings.items()}\n",
      "Epoch 6: 100%|██████████| 28/28 [00:36<00:00,  1.29s/it, loss=0.198]\n"
     ]
    },
    {
     "name": "stdout",
     "output_type": "stream",
     "text": [
      "f1_macro_score: 0.2662777607999121\n",
      "Epoch: 6  Lr: 0.00005000  Loss: Train = [0.1757] - Val = [0.2669]  Time one epoch (s): 37.8115  f1_score: 0.2663 \n"
     ]
    },
    {
     "name": "stderr",
     "output_type": "stream",
     "text": [
      "  0%|          | 0/28 [00:00<?, ?it/s]/tmp/ipykernel_24/537690395.py:5: UserWarning: To copy construct from a tensor, it is recommended to use sourceTensor.clone().detach() or sourceTensor.clone().detach().requires_grad_(True), rather than torch.tensor(sourceTensor).\n",
      "  return {key: torch.tensor(val[idx]) for key, val in self.encodings.items()}\n",
      "Epoch 7: 100%|██████████| 28/28 [00:36<00:00,  1.29s/it, loss=0.179]\n"
     ]
    },
    {
     "name": "stdout",
     "output_type": "stream",
     "text": [
      "f1_macro_score: 0.2810430972024799\n",
      "Epoch: 7  Lr: 0.00005000  Loss: Train = [0.1517] - Val = [0.2699]  Time one epoch (s): 37.7613  f1_score: 0.2810 \n"
     ]
    },
    {
     "name": "stderr",
     "output_type": "stream",
     "text": [
      "  0%|          | 0/28 [00:00<?, ?it/s]/tmp/ipykernel_24/537690395.py:5: UserWarning: To copy construct from a tensor, it is recommended to use sourceTensor.clone().detach() or sourceTensor.clone().detach().requires_grad_(True), rather than torch.tensor(sourceTensor).\n",
      "  return {key: torch.tensor(val[idx]) for key, val in self.encodings.items()}\n",
      "Epoch 8: 100%|██████████| 28/28 [00:36<00:00,  1.29s/it, loss=0.134]\n"
     ]
    },
    {
     "name": "stdout",
     "output_type": "stream",
     "text": [
      "f1_macro_score: 0.3170258620689655\n",
      "Epoch: 8  Lr: 0.00005000  Loss: Train = [0.1264] - Val = [0.3082]  Time one epoch (s): 37.7668  f1_score: 0.3170 \n",
      "Time for 8 epochs (s): 302.226\n",
      "TRAINING COMPLETE.\n"
     ]
    }
   ],
   "source": [
    "#epoch 9 cwt log\n",
    "#epoch 9 test 0.48 cwt with prev\n",
    "#epoch 11 test 0.53 cwt no prev\n",
    "#epoch 12 test 0.57 cwt no prev\n",
    "from sklearn.metrics import classification_report,f1_score\n",
    "epochs = 8\n",
    "lr = 5e-5\n",
    "scheme = True #Scheme flag, if True we are doing the scheme task otherwise the argumentative task\n",
    "#focal = True # boolean flag to decide between BCE loss or focal loss\n",
    "model, tokenizer, statistics = execute(\n",
    "\n",
    "    lr,\n",
    "    epochs,\n",
    "    batch_size,\n",
    "    num_labels,\n",
    "    df_train,\n",
    "    train_labels,\n",
    "    df_val,\n",
    "    val_labels,\n",
    "    scheme,\n",
    "    focal=focal,\n",
    "    model_name=model_checkpoint,\n",
    "    use_cuda=USE_CUDA,\n",
    "    include_previous=False,\n",
    "    compute_f1=True,\n",
    "    sampler = custom_sampler,\n",
    "    cwt=cwt\n",
    ")"
   ]
  },
  {
   "cell_type": "code",
   "execution_count": 100,
   "id": "a5395ac1",
   "metadata": {
    "execution": {
     "iopub.execute_input": "2025-09-02T17:26:53.908581Z",
     "iopub.status.busy": "2025-09-02T17:26:53.907774Z",
     "iopub.status.idle": "2025-09-02T17:26:54.152099Z",
     "shell.execute_reply": "2025-09-02T17:26:54.151273Z"
    },
    "id": "wukQyjNxELuc",
    "outputId": "a167abed-b0d2-4f80-dfa2-e13874683a09",
    "papermill": {
     "duration": 0.398342,
     "end_time": "2025-09-02T17:26:54.153941",
     "exception": false,
     "start_time": "2025-09-02T17:26:53.755599",
     "status": "completed"
    },
    "tags": []
   },
   "outputs": [
    {
     "data": {
      "image/png": "[encoded data removed]",
      "text/plain": [
       "<Figure size 1000x500 with 1 Axes>"
      ]
     },
     "metadata": {},
     "output_type": "display_data"
    }
   ],
   "source": [
    "plt.figure(figsize=(10,5))\n",
    "plt.title(\"SC loss\" if scheme else \"AC loss\")\n",
    "plt.plot(statistics['train_loss_values'],label=\"train loss\")\n",
    "plt.plot(statistics['val_loss_values'],label=\"validation loss\")\n",
    "plt.xlabel(\"Epochs\")\n",
    "plt.xticks(np.arange(epochs), np.arange(1, epochs+1, 1))\n",
    "plt.ylabel(\"Loss\")\n",
    "plt.legend()\n",
    "plt.show()"
   ]
  },
  {
   "cell_type": "markdown",
   "id": "2d73804f",
   "metadata": {
    "id": "X-Ss9wCcD8FZ",
    "papermill": {
     "duration": 0.143491,
     "end_time": "2025-09-02T17:26:54.486793",
     "exception": false,
     "start_time": "2025-09-02T17:26:54.343302",
     "status": "completed"
    },
    "tags": []
   },
   "source": [
    "## SC Evaluation"
   ]
  },
  {
   "cell_type": "code",
   "execution_count": 101,
   "id": "def51804",
   "metadata": {
    "execution": {
     "iopub.execute_input": "2025-09-02T17:26:54.776475Z",
     "iopub.status.busy": "2025-09-02T17:26:54.775914Z",
     "iopub.status.idle": "2025-09-02T17:26:54.781567Z",
     "shell.execute_reply": "2025-09-02T17:26:54.780843Z"
    },
    "id": "27pqaaD6D_36",
    "papermill": {
     "duration": 0.151904,
     "end_time": "2025-09-02T17:26:54.783160",
     "exception": false,
     "start_time": "2025-09-02T17:26:54.631256",
     "status": "completed"
    },
    "tags": []
   },
   "outputs": [],
   "source": [
    "def evaluate(model, data_loader, use_cuda=True):\n",
    "    predictions = []\n",
    "    device = torch.device('cuda') if use_cuda and torch.cuda.is_available() else torch.device('cpu')\n",
    "    model.eval()\n",
    "    model.to(device)\n",
    "    loop = tqdm(data_loader)\n",
    "    with torch.no_grad():\n",
    "        for batch in loop:\n",
    "            pred = model(batch['input_ids'].to(device), attention_mask = batch[\"attention_mask\"].to(device))\n",
    "            pred = pred.cpu().detach().numpy()\n",
    "            predictions.append(pred)\n",
    "    predictions = np.concatenate(predictions)\n",
    "    return predictions\n",
    "    "
   ]
  },
  {
   "cell_type": "code",
   "execution_count": 102,
   "id": "1b65f3c5",
   "metadata": {
    "execution": {
     "iopub.execute_input": "2025-09-02T17:26:55.071454Z",
     "iopub.status.busy": "2025-09-02T17:26:55.070965Z",
     "iopub.status.idle": "2025-09-02T17:26:58.666871Z",
     "shell.execute_reply": "2025-09-02T17:26:58.665760Z"
    },
    "id": "rP5_dPbJFHnt",
    "outputId": "96bee6bb-1ddb-414e-8dcb-853dea181c5e",
    "papermill": {
     "duration": 3.742212,
     "end_time": "2025-09-02T17:26:58.668804",
     "exception": false,
     "start_time": "2025-09-02T17:26:54.926592",
     "status": "completed"
    },
    "tags": []
   },
   "outputs": [
    {
     "name": "stdout",
     "output_type": "stream",
     "text": [
      "Encoding...\n",
      "input shape: (249, 410)\n",
      "Encoding complete\n",
      "Encoding...\n",
      "input shape: (885, 391)\n",
      "Encoding complete\n",
      "Encoding...\n",
      "input shape: (150, 351)\n",
      "Encoding complete\n"
     ]
    },
    {
     "name": "stderr",
     "output_type": "stream",
     "text": [
      "  0%|          | 0/8 [00:00<?, ?it/s]/tmp/ipykernel_24/537690395.py:5: UserWarning: To copy construct from a tensor, it is recommended to use sourceTensor.clone().detach() or sourceTensor.clone().detach().requires_grad_(True), rather than torch.tensor(sourceTensor).\n",
      "  return {key: torch.tensor(val[idx]) for key, val in self.encodings.items()}\n",
      "100%|██████████| 8/8 [00:03<00:00,  2.41it/s]"
     ]
    },
    {
     "name": "stdout",
     "output_type": "stream",
     "text": [
      "(249, 8) (249, 8)\n",
      "              precision    recall  f1-score   support\n",
      "\n",
      "        Rule       0.90      0.94      0.92       126\n",
      "        Prec       0.97      0.92      0.95        76\n",
      "        Itpr       0.55      0.58      0.56        52\n",
      "       Princ       0.23      0.17      0.19        18\n",
      "       Class       0.00      0.00      0.00        25\n",
      "         Aut       0.57      0.67      0.62        12\n",
      "        Syst       0.00      0.00      0.00         6\n",
      "        Tele       0.00      0.00      0.00         4\n",
      "\n",
      "   micro avg       0.80      0.72      0.76       319\n",
      "   macro avg       0.40      0.41      0.40       319\n",
      "weighted avg       0.71      0.72      0.72       319\n",
      " samples avg       0.80      0.74      0.75       319\n",
      "\n"
     ]
    },
    {
     "name": "stderr",
     "output_type": "stream",
     "text": [
      "\n",
      "/opt/conda/lib/python3.10/site-packages/sklearn/metrics/_classification.py:1344: UndefinedMetricWarning: Precision and F-score are ill-defined and being set to 0.0 in labels with no predicted samples. Use `zero_division` parameter to control this behavior.\n",
      "  _warn_prf(average, modifier, msg_start, len(result))\n",
      "/opt/conda/lib/python3.10/site-packages/sklearn/metrics/_classification.py:1344: UndefinedMetricWarning: Precision and F-score are ill-defined and being set to 0.0 in samples with no predicted labels. Use `zero_division` parameter to control this behavior.\n",
      "  _warn_prf(average, modifier, msg_start, len(result))\n",
      "/opt/conda/lib/python3.10/site-packages/sklearn/metrics/_classification.py:1344: UndefinedMetricWarning: Precision and F-score are ill-defined and being set to 0.0 in labels with no predicted samples. Use `zero_division` parameter to control this behavior.\n",
      "  _warn_prf(average, modifier, msg_start, len(result))\n",
      "/opt/conda/lib/python3.10/site-packages/sklearn/metrics/_classification.py:1344: UndefinedMetricWarning: Precision and F-score are ill-defined and being set to 0.0 in samples with no predicted labels. Use `zero_division` parameter to control this behavior.\n",
      "  _warn_prf(average, modifier, msg_start, len(result))\n"
     ]
    }
   ],
   "source": [
    "from sklearn.metrics import classification_report,f1_score\n",
    "\n",
    "\n",
    "#TRAIN = True\n",
    "if scheme:\n",
    "    #y_pred = base_model.predict(base_test_encodings)\n",
    "    #print(\"\\n Baseline: \\n\"+classification_report(df_test['Scheme'], y_pred))\n",
    "    test_encodings = encode(tokenizer,df_test,test_labels,scheme)\n",
    "    train_encodings = encode(tokenizer,df_train,train_labels,scheme)\n",
    "    val_encodings = encode(tokenizer,df_val,val_labels,scheme)\n",
    "    #create test dataset\n",
    "    test_dataset = CustomTorchDataset(test_encodings)\n",
    "    train_dataset = CustomTorchDataset(train_encodings)\n",
    "    val_dataset = CustomTorchDataset(val_encodings)\n",
    "    \n",
    "    #create test dataloader\n",
    "    data_loader_test = torch.utils.data.DataLoader(test_dataset,\n",
    "                                        batch_size=batch_size,\n",
    "                                        shuffle = False)\n",
    "    data_loader_val = torch.utils.data.DataLoader(val_dataset,\n",
    "                                        batch_size=batch_size,\n",
    "                                        shuffle = False)\n",
    "    data_loader_train = torch.utils.data.DataLoader(train_dataset,\n",
    "                                        batch_size=batch_size,\n",
    "                                        shuffle = False)\n",
    "    #train_predictions = evaluate(model, data_loader_train)\n",
    "    #val_predictions = evaluate(model, data_loader_val)\n",
    "    test_predictions = evaluate(model, data_loader_test)\n",
    "\n",
    "\n",
    "    #search for best threshold on validation set using f1 score with macro avg\n",
    "\n",
    "#    thresholds = list(np.arange(0,0.9,0.01))\n",
    "#    res = []\n",
    "#    for t in thresholds:\n",
    "#        if TRAIN:\n",
    "#            y_pred = np.where(train_predictions<t, 0., 1.)\n",
    "#            y_true = np.array(train_labels)\n",
    "#        else:\n",
    "#            y_pred = np.where(val_predictions<t, 0., 1.)\n",
    "#            y_true = np.array(val_labels)\n",
    "#        x = f1_score(y_true,y_pred,average='macro')\n",
    "#        res.append(x)\n",
    "#    best_idx = np.argmax(res)\n",
    "#    print(f'best_threshold:{thresholds[best_idx]}')\n",
    "\n",
    "    #compute test score\n",
    "    y_pred = np.where(test_predictions<0.5, 0., 1.)\n",
    "    y_true = np.array(test_labels)\n",
    "    report = classification_report(y_true, y_pred,output_dict=True, target_names = sc_classes)\n",
    "    print(y_true.shape,y_pred.shape)\n",
    "    print(classification_report(y_true, y_pred, target_names = sc_classes))"
   ]
  },
  {
   "cell_type": "code",
   "execution_count": 103,
   "id": "4c806bd5",
   "metadata": {
    "execution": {
     "iopub.execute_input": "2025-09-02T17:26:58.992572Z",
     "iopub.status.busy": "2025-09-02T17:26:58.992211Z",
     "iopub.status.idle": "2025-09-02T17:26:58.997425Z",
     "shell.execute_reply": "2025-09-02T17:26:58.996628Z"
    },
    "papermill": {
     "duration": 0.153523,
     "end_time": "2025-09-02T17:26:58.999136",
     "exception": false,
     "start_time": "2025-09-02T17:26:58.845613",
     "status": "completed"
    },
    "tags": []
   },
   "outputs": [
    {
     "data": {
      "text/plain": [
       "0.404763404016722"
      ]
     },
     "execution_count": 103,
     "metadata": {},
     "output_type": "execute_result"
    }
   ],
   "source": [
    "f1_macro = report[\"macro avg\"][\"f1-score\"]\n",
    "f1_macro"
   ]
  },
  {
   "cell_type": "markdown",
   "id": "9cf7ba6e",
   "metadata": {
    "id": "VsUvs19z5Gsu",
    "papermill": {
     "duration": 0.144485,
     "end_time": "2025-09-02T17:26:59.329866",
     "exception": false,
     "start_time": "2025-09-02T17:26:59.185381",
     "status": "completed"
    },
    "tags": []
   },
   "source": [
    "## GE3(embedding augmentation)"
   ]
  },
  {
   "cell_type": "code",
   "execution_count": 104,
   "id": "dd1fb604",
   "metadata": {
    "execution": {
     "iopub.execute_input": "2025-09-02T17:26:59.621149Z",
     "iopub.status.busy": "2025-09-02T17:26:59.620822Z",
     "iopub.status.idle": "2025-09-02T17:26:59.640843Z",
     "shell.execute_reply": "2025-09-02T17:26:59.639758Z"
    },
    "papermill": {
     "duration": 0.168113,
     "end_time": "2025-09-02T17:26:59.642597",
     "exception": false,
     "start_time": "2025-09-02T17:26:59.474484",
     "status": "completed"
    },
    "tags": []
   },
   "outputs": [
    {
     "name": "stdout",
     "output_type": "stream",
     "text": [
      "Number of training samples: 485 (37.77258566978193%)\n",
      "Number of validation examples: 93 (7.242990654205608%)\n",
      "Number of test samples: 125 (9.735202492211839%)\n",
      "Number of training samples: 183 (14.25233644859813%)\n",
      "Number of validation examples: 32 (2.4922118380062304%)\n",
      "Number of test samples: 66 (5.140186915887851%)\n",
      "Number of training samples: 99 (7.710280373831775%)\n",
      "Number of validation examples: 16 (1.2461059190031152%)\n",
      "Number of test samples: 15 (1.1682242990654206%)\n",
      "Number of training samples: 118 (9.190031152647975%)\n",
      "Number of validation examples: 9 (0.7009345794392523%)\n",
      "Number of test samples: 43 (3.3489096573208723%)\n",
      "Scheme task\n"
     ]
    }
   ],
   "source": [
    "df_train, df_val, df_test = split_dataset_sc(df_sc_final)\n",
    "print(\"Scheme task\")\n",
    "train_labels = df_train[sc_classes]\n",
    "val_labels = df_val[sc_classes]\n",
    "test_labels = df_test[sc_classes]\n",
    "num_labels = train_labels.shape[1]"
   ]
  },
  {
   "cell_type": "code",
   "execution_count": 105,
   "id": "ce5172f1",
   "metadata": {
    "execution": {
     "iopub.execute_input": "2025-09-02T17:26:59.934894Z",
     "iopub.status.busy": "2025-09-02T17:26:59.934574Z",
     "iopub.status.idle": "2025-09-02T17:27:38.533185Z",
     "shell.execute_reply": "2025-09-02T17:27:38.532207Z"
    },
    "papermill": {
     "duration": 38.744665,
     "end_time": "2025-09-02T17:27:38.534931",
     "exception": false,
     "start_time": "2025-09-02T17:26:59.790266",
     "status": "completed"
    },
    "tags": []
   },
   "outputs": [
    {
     "name": "stderr",
     "output_type": "stream",
     "text": [
      "Some weights of BertModel were not initialized from the model checkpoint at dlicari/Italian-Legal-BERT and are newly initialized: ['bert.pooler.dense.bias', 'bert.pooler.dense.weight']\n",
      "You should probably TRAIN this model on a down-stream task to be able to use it for predictions and inference.\n"
     ]
    },
    {
     "name": "stdout",
     "output_type": "stream",
     "text": [
      "Encoding...\n",
      "input shape: (885, 391)\n",
      "Encoding complete\n",
      "Encoding...\n",
      "input shape: (150, 351)\n",
      "Encoding complete\n",
      "ENCODING COMPLETE.\n",
      "STARTING TRAINING with complete data:\n"
     ]
    },
    {
     "name": "stderr",
     "output_type": "stream",
     "text": [
      "  0%|          | 0/28 [00:00<?, ?it/s]/tmp/ipykernel_24/537690395.py:5: UserWarning: To copy construct from a tensor, it is recommended to use sourceTensor.clone().detach() or sourceTensor.clone().detach().requires_grad_(True), rather than torch.tensor(sourceTensor).\n",
      "  return {key: torch.tensor(val[idx]) for key, val in self.encodings.items()}\n",
      "Epoch 1: 100%|██████████| 28/28 [00:36<00:00,  1.29s/it, loss=0.4]\n"
     ]
    },
    {
     "name": "stdout",
     "output_type": "stream",
     "text": [
      "Epoch: 1  Lr: 0.00005000  Loss: Train = [0.4751] - Val = [0.3838]  Time one epoch (s): 37.7696 \n",
      "Time for 1 epochs (s): 37.770\n",
      "TRAINING COMPLETE.\n"
     ]
    }
   ],
   "source": [
    "from sklearn.metrics import classification_report,f1_score\n",
    "epochs = 1\n",
    "scheme = True\n",
    "model, tokenizer, statistics = execute(\n",
    "    lr,\n",
    "    epochs,\n",
    "    batch_size,\n",
    "    num_labels,\n",
    "    df_train,\n",
    "    train_labels,\n",
    "    df_val,\n",
    "    val_labels,\n",
    "    scheme,\n",
    "    focal=False,\n",
    "    model_name=model_checkpoint,\n",
    "    use_cuda=USE_CUDA,\n",
    "    include_previous=False,\n",
    "    sampler = None,\n",
    "    cwt=None\n",
    ")"
   ]
  },
  {
   "cell_type": "code",
   "execution_count": 106,
   "id": "b18e5f8e",
   "metadata": {
    "execution": {
     "iopub.execute_input": "2025-09-02T17:27:38.879267Z",
     "iopub.status.busy": "2025-09-02T17:27:38.878348Z",
     "iopub.status.idle": "2025-09-02T17:27:38.883647Z",
     "shell.execute_reply": "2025-09-02T17:27:38.882983Z"
    },
    "id": "ggfTEHUG5Gsu",
    "papermill": {
     "duration": 0.169901,
     "end_time": "2025-09-02T17:27:38.885193",
     "exception": false,
     "start_time": "2025-09-02T17:27:38.715292",
     "status": "completed"
    },
    "tags": []
   },
   "outputs": [],
   "source": [
    "class Classifier(nn.Module):\n",
    "    def __init__(self, output_size):\n",
    "        super(Classifier, self).__init__()\n",
    "        self.output_size = output_size\n",
    "        self.cl1 = nn.Linear(768, 768)\n",
    "        self.relu = nn.ReLU()\n",
    "        self.classifier = nn.Linear(768, self.output_size)\n",
    "\n",
    "    def forward(self, input):\n",
    "        x = self.cl1(input)\n",
    "        x = self.relu(x)\n",
    "        x = self.classifier(x)\n",
    "        x = torch.sigmoid(x)\n",
    "        return x"
   ]
  },
  {
   "cell_type": "code",
   "execution_count": 107,
   "id": "dc12345c",
   "metadata": {
    "execution": {
     "iopub.execute_input": "2025-09-02T17:27:39.230207Z",
     "iopub.status.busy": "2025-09-02T17:27:39.229880Z",
     "iopub.status.idle": "2025-09-02T17:27:39.239488Z",
     "shell.execute_reply": "2025-09-02T17:27:39.238670Z"
    },
    "id": "nwW799aA5Gsu",
    "outputId": "791d390b-c89d-4e65-997f-822fcaf346b7",
    "papermill": {
     "duration": 0.208593,
     "end_time": "2025-09-02T17:27:39.241155",
     "exception": false,
     "start_time": "2025-09-02T17:27:39.032562",
     "status": "completed"
    },
    "tags": []
   },
   "outputs": [
    {
     "data": {
      "text/plain": [
       "Classifier(\n",
       "  (cl1): Linear(in_features=768, out_features=768, bias=True)\n",
       "  (relu): ReLU()\n",
       "  (classifier): Linear(in_features=768, out_features=8, bias=True)\n",
       ")"
      ]
     },
     "execution_count": 107,
     "metadata": {},
     "output_type": "execute_result"
    }
   ],
   "source": [
    "cls = Classifier(num_labels)\n",
    "cls"
   ]
  },
  {
   "cell_type": "code",
   "execution_count": 108,
   "id": "63fa11a5",
   "metadata": {
    "execution": {
     "iopub.execute_input": "2025-09-02T17:27:39.537209Z",
     "iopub.status.busy": "2025-09-02T17:27:39.536618Z",
     "iopub.status.idle": "2025-09-02T17:27:39.544036Z",
     "shell.execute_reply": "2025-09-02T17:27:39.543288Z"
    },
    "id": "UXzRXeho5Gsv",
    "outputId": "98cd6e74-11f0-48ac-c720-fc039d3be057",
    "papermill": {
     "duration": 0.156104,
     "end_time": "2025-09-02T17:27:39.545666",
     "exception": false,
     "start_time": "2025-09-02T17:27:39.389562",
     "status": "completed"
    },
    "tags": []
   },
   "outputs": [
    {
     "data": {
      "text/plain": [
       "dict_keys(['cl1.weight', 'cl1.bias', 'classifier.weight', 'classifier.bias'])"
      ]
     },
     "execution_count": 108,
     "metadata": {},
     "output_type": "execute_result"
    }
   ],
   "source": [
    "sub = dict(list(model.state_dict().items())[-4:])\n",
    "sub.keys()"
   ]
  },
  {
   "cell_type": "code",
   "execution_count": 109,
   "id": "9d33e35f",
   "metadata": {
    "execution": {
     "iopub.execute_input": "2025-09-02T17:27:39.849438Z",
     "iopub.status.busy": "2025-09-02T17:27:39.849013Z",
     "iopub.status.idle": "2025-09-02T17:27:39.854811Z",
     "shell.execute_reply": "2025-09-02T17:27:39.854011Z"
    },
    "id": "VtLqf0bw5Gsv",
    "outputId": "5b41e6fc-e71c-4243-a347-be88d728740d",
    "papermill": {
     "duration": 0.161591,
     "end_time": "2025-09-02T17:27:39.856542",
     "exception": false,
     "start_time": "2025-09-02T17:27:39.694951",
     "status": "completed"
    },
    "tags": []
   },
   "outputs": [
    {
     "data": {
      "text/plain": [
       "<All keys matched successfully>"
      ]
     },
     "execution_count": 109,
     "metadata": {},
     "output_type": "execute_result"
    }
   ],
   "source": [
    "cls.load_state_dict(sub)"
   ]
  },
  {
   "cell_type": "code",
   "execution_count": 110,
   "id": "2bb747af",
   "metadata": {
    "execution": {
     "iopub.execute_input": "2025-09-02T17:27:40.153707Z",
     "iopub.status.busy": "2025-09-02T17:27:40.152901Z",
     "iopub.status.idle": "2025-09-02T17:27:40.170148Z",
     "shell.execute_reply": "2025-09-02T17:27:40.169455Z"
    },
    "id": "ZfdTqmvV5Gsv",
    "outputId": "a3883b8c-2c98-41fa-94dc-42e2e717fc20",
    "papermill": {
     "duration": 0.167558,
     "end_time": "2025-09-02T17:27:40.171773",
     "exception": false,
     "start_time": "2025-09-02T17:27:40.004215",
     "status": "completed"
    },
    "tags": []
   },
   "outputs": [
    {
     "data": {
      "text/plain": [
       "torch.Size([5, 8])"
      ]
     },
     "execution_count": 110,
     "metadata": {},
     "output_type": "execute_result"
    }
   ],
   "source": [
    "cls(torch.zeros((5,768))).size()"
   ]
  },
  {
   "cell_type": "code",
   "execution_count": 111,
   "id": "a166f81d",
   "metadata": {
    "execution": {
     "iopub.execute_input": "2025-09-02T17:27:40.479533Z",
     "iopub.status.busy": "2025-09-02T17:27:40.478762Z",
     "iopub.status.idle": "2025-09-02T17:27:51.284126Z",
     "shell.execute_reply": "2025-09-02T17:27:51.283311Z"
    },
    "id": "MZTW2lRk5Gsv",
    "outputId": "b06cd7c6-8bce-4d63-b801-870bcc12c8c9",
    "papermill": {
     "duration": 10.96548,
     "end_time": "2025-09-02T17:27:51.285842",
     "exception": false,
     "start_time": "2025-09-02T17:27:40.320362",
     "status": "completed"
    },
    "tags": []
   },
   "outputs": [
    {
     "name": "stdout",
     "output_type": "stream",
     "text": [
      "Encoding...\n",
      "input shape: (885, 391)\n",
      "Encoding complete\n",
      "885\n",
      "n_minibatches: 27\n",
      "864\n"
     ]
    }
   ],
   "source": [
    "#m,t= getModel(\"dlicari/Italian-Legal-BERT\",num_labels,scheme = True)\n",
    "m,t = model,tokenizer\n",
    "train_encodings = encode(t, df_train, train_labels, scheme, include_previous=False)\n",
    "tot =  len(train_encodings['input_ids'])\n",
    "device = torch.device('cuda')\n",
    "m.to(device)\n",
    "print(tot)\n",
    "b_size = 32\n",
    "n_minibatch = tot //b_size\n",
    "print(f\"n_minibatches: {n_minibatch}\")\n",
    "embeddings= []\n",
    "for i in range(n_minibatch):\n",
    "    start = i*b_size\n",
    "    end = (i+1)*b_size\n",
    "    with torch.no_grad():\n",
    "        input = torch.stack([torch.tensor(t,device=device) for t in train_encodings['input_ids'][start:end]])\n",
    "        mask = torch.stack([torch.tensor(t,device=device) for t in train_encodings['attention_mask'][start:end]])\n",
    "        #out = m(torch.tensor(train_encodings['input_ids'][start:end],device=device),torch.tensor(train_encodings['attention_mask'][start:end],device=device))\n",
    "        #print(input.size())\n",
    "        out = m(input,mask,only_embeddings=True)\n",
    "\n",
    "    embeddings = embeddings + list(out)\n",
    "tot = len(embeddings)\n",
    "print(tot)"
   ]
  },
  {
   "cell_type": "code",
   "execution_count": 112,
   "id": "b1e2e61c",
   "metadata": {
    "execution": {
     "iopub.execute_input": "2025-09-02T17:27:51.634977Z",
     "iopub.status.busy": "2025-09-02T17:27:51.634659Z",
     "iopub.status.idle": "2025-09-02T17:27:51.642753Z",
     "shell.execute_reply": "2025-09-02T17:27:51.642010Z"
    },
    "id": "HcEjmgzW5Gsw",
    "outputId": "a0bd658a-87a2-498b-b30d-51ca67544d32",
    "papermill": {
     "duration": 0.161648,
     "end_time": "2025-09-02T17:27:51.644405",
     "exception": false,
     "start_time": "2025-09-02T17:27:51.482757",
     "status": "completed"
    },
    "tags": []
   },
   "outputs": [
    {
     "data": {
      "text/plain": [
       "0       Rule\n",
       "1       Itpr\n",
       "2       Rule\n",
       "3       Itpr\n",
       "4       Prec\n",
       "       ...  \n",
       "859    Princ\n",
       "860     Rule\n",
       "861     Prec\n",
       "862     Tele\n",
       "863     Rule\n",
       "Name: Scheme, Length: 864, dtype: object"
      ]
     },
     "execution_count": 112,
     "metadata": {},
     "output_type": "execute_result"
    }
   ],
   "source": [
    "train_labels\n",
    "for x in np.array(train_labels):\n",
    "    if list(x).count(1) > 1:\n",
    "        break\n",
    "        #print(x)\n",
    "lab = df_train['Scheme'][:tot].reset_index(drop=True)\n",
    "lab"
   ]
  },
  {
   "cell_type": "code",
   "execution_count": 113,
   "id": "c9c78831",
   "metadata": {
    "execution": {
     "iopub.execute_input": "2025-09-02T17:27:51.946323Z",
     "iopub.status.busy": "2025-09-02T17:27:51.945612Z",
     "iopub.status.idle": "2025-09-02T17:27:52.023538Z",
     "shell.execute_reply": "2025-09-02T17:27:52.022613Z"
    },
    "id": "sveg88sN5Gsw",
    "outputId": "0b8f8bee-d9eb-4e02-9d3b-02265545b561",
    "papermill": {
     "duration": 0.227769,
     "end_time": "2025-09-02T17:27:52.025131",
     "exception": false,
     "start_time": "2025-09-02T17:27:51.797362",
     "status": "completed"
    },
    "tags": []
   },
   "outputs": [
    {
     "name": "stdout",
     "output_type": "stream",
     "text": [
      "torch.Size([864, 1, 768])\n"
     ]
    },
    {
     "data": {
      "text/plain": [
       "864"
      ]
     },
     "execution_count": 113,
     "metadata": {},
     "output_type": "execute_result"
    }
   ],
   "source": [
    "print(torch.stack(embeddings).unsqueeze(1).size())\n",
    "e = torch.stack(embeddings).detach().cpu().numpy()\n",
    "def compress(x):\n",
    "    return list(x)\n",
    "\n",
    "e1 = list(map(compress, e))\n",
    "np.array(e1).shape\n",
    "enc_lab = np.array(train_labels[:tot])\n",
    "len(enc_lab.tolist())"
   ]
  },
  {
   "cell_type": "code",
   "execution_count": 114,
   "id": "997d71fc",
   "metadata": {
    "execution": {
     "iopub.execute_input": "2025-09-02T17:27:52.325298Z",
     "iopub.status.busy": "2025-09-02T17:27:52.324983Z",
     "iopub.status.idle": "2025-09-02T17:27:52.369637Z",
     "shell.execute_reply": "2025-09-02T17:27:52.368758Z"
    },
    "id": "anouYQPH5Gsw",
    "outputId": "fa90cd38-10a1-416c-8eca-e5333aa53ba8",
    "papermill": {
     "duration": 0.194914,
     "end_time": "2025-09-02T17:27:52.371215",
     "exception": false,
     "start_time": "2025-09-02T17:27:52.176301",
     "status": "completed"
    },
    "tags": []
   },
   "outputs": [
    {
     "data": {
      "text/html": [
       "<div>\n",
       "<style scoped>\n",
       "    .dataframe tbody tr th:only-of-type {\n",
       "        vertical-align: middle;\n",
       "    }\n",
       "\n",
       "    .dataframe tbody tr th {\n",
       "        vertical-align: top;\n",
       "    }\n",
       "\n",
       "    .dataframe thead th {\n",
       "        text-align: right;\n",
       "    }\n",
       "</style>\n",
       "<table border=\"1\" class=\"dataframe\">\n",
       "  <thead>\n",
       "    <tr style=\"text-align: right;\">\n",
       "      <th></th>\n",
       "      <th>embeddings</th>\n",
       "      <th>labels</th>\n",
       "    </tr>\n",
       "  </thead>\n",
       "  <tbody>\n",
       "    <tr>\n",
       "      <th>0</th>\n",
       "      <td>[0.12162520736455917, -0.34163880348205566, -0...</td>\n",
       "      <td>Rule</td>\n",
       "    </tr>\n",
       "    <tr>\n",
       "      <th>1</th>\n",
       "      <td>[0.1658390760421753, -0.3227277398109436, -0.9...</td>\n",
       "      <td>Itpr</td>\n",
       "    </tr>\n",
       "    <tr>\n",
       "      <th>2</th>\n",
       "      <td>[0.09597893804311752, -0.3331433832645416, -0....</td>\n",
       "      <td>Rule</td>\n",
       "    </tr>\n",
       "    <tr>\n",
       "      <th>3</th>\n",
       "      <td>[0.17985118925571442, -0.3123069107532501, -0....</td>\n",
       "      <td>Itpr</td>\n",
       "    </tr>\n",
       "    <tr>\n",
       "      <th>4</th>\n",
       "      <td>[0.09751901030540466, -0.3189718425273895, -0....</td>\n",
       "      <td>Prec</td>\n",
       "    </tr>\n",
       "    <tr>\n",
       "      <th>...</th>\n",
       "      <td>...</td>\n",
       "      <td>...</td>\n",
       "    </tr>\n",
       "    <tr>\n",
       "      <th>859</th>\n",
       "      <td>[0.15187722444534302, -0.3496837317943573, -0....</td>\n",
       "      <td>Princ</td>\n",
       "    </tr>\n",
       "    <tr>\n",
       "      <th>860</th>\n",
       "      <td>[0.09473556280136108, -0.34491628408432007, -0...</td>\n",
       "      <td>Rule</td>\n",
       "    </tr>\n",
       "    <tr>\n",
       "      <th>861</th>\n",
       "      <td>[0.1944553405046463, -0.33162540197372437, -0....</td>\n",
       "      <td>Prec</td>\n",
       "    </tr>\n",
       "    <tr>\n",
       "      <th>862</th>\n",
       "      <td>[0.18034854531288147, -0.3627682328224182, -0....</td>\n",
       "      <td>Tele</td>\n",
       "    </tr>\n",
       "    <tr>\n",
       "      <th>863</th>\n",
       "      <td>[0.09112679958343506, -0.37263545393943787, -0...</td>\n",
       "      <td>Rule</td>\n",
       "    </tr>\n",
       "  </tbody>\n",
       "</table>\n",
       "<p>864 rows × 2 columns</p>\n",
       "</div>"
      ],
      "text/plain": [
       "                                            embeddings labels\n",
       "0    [0.12162520736455917, -0.34163880348205566, -0...   Rule\n",
       "1    [0.1658390760421753, -0.3227277398109436, -0.9...   Itpr\n",
       "2    [0.09597893804311752, -0.3331433832645416, -0....   Rule\n",
       "3    [0.17985118925571442, -0.3123069107532501, -0....   Itpr\n",
       "4    [0.09751901030540466, -0.3189718425273895, -0....   Prec\n",
       "..                                                 ...    ...\n",
       "859  [0.15187722444534302, -0.3496837317943573, -0....  Princ\n",
       "860  [0.09473556280136108, -0.34491628408432007, -0...   Rule\n",
       "861  [0.1944553405046463, -0.33162540197372437, -0....   Prec\n",
       "862  [0.18034854531288147, -0.3627682328224182, -0....   Tele\n",
       "863  [0.09112679958343506, -0.37263545393943787, -0...   Rule\n",
       "\n",
       "[864 rows x 2 columns]"
      ]
     },
     "execution_count": 114,
     "metadata": {},
     "output_type": "execute_result"
    }
   ],
   "source": [
    "e = torch.stack(embeddings).detach().cpu().numpy()\n",
    "df = pd.DataFrame()\n",
    "#df.head(10)\n",
    "df['embeddings'] = e.tolist()\n",
    "#df.assign(embeddings=list(e))\n",
    "#df.assign(labels=lab.tolist())\n",
    "df['labels'] = lab\n",
    "#df['enc_labels'] = enc_lab.tolist()\n",
    "#df.head(10)\n",
    "df"
   ]
  },
  {
   "cell_type": "code",
   "execution_count": 115,
   "id": "cd49c8e6",
   "metadata": {
    "execution": {
     "iopub.execute_input": "2025-09-02T17:27:52.671728Z",
     "iopub.status.busy": "2025-09-02T17:27:52.671132Z",
     "iopub.status.idle": "2025-09-02T17:27:52.826560Z",
     "shell.execute_reply": "2025-09-02T17:27:52.825761Z"
    },
    "id": "Q6jzpREw5Gsz",
    "outputId": "6ca15861-5775-45a4-bc85-6c2be3ff1391",
    "papermill": {
     "duration": 0.305936,
     "end_time": "2025-09-02T17:27:52.828277",
     "exception": false,
     "start_time": "2025-09-02T17:27:52.522341",
     "status": "completed"
    },
    "tags": []
   },
   "outputs": [
    {
     "data": {
      "text/html": [
       "<div>\n",
       "<style scoped>\n",
       "    .dataframe tbody tr th:only-of-type {\n",
       "        vertical-align: middle;\n",
       "    }\n",
       "\n",
       "    .dataframe tbody tr th {\n",
       "        vertical-align: top;\n",
       "    }\n",
       "\n",
       "    .dataframe thead th {\n",
       "        text-align: right;\n",
       "    }\n",
       "</style>\n",
       "<table border=\"1\" class=\"dataframe\">\n",
       "  <thead>\n",
       "    <tr style=\"text-align: right;\">\n",
       "      <th></th>\n",
       "      <th>embeddings</th>\n",
       "      <th>labels</th>\n",
       "      <th>labels2</th>\n",
       "    </tr>\n",
       "  </thead>\n",
       "  <tbody>\n",
       "    <tr>\n",
       "      <th>0</th>\n",
       "      <td>[0.12162520736455917, -0.34163880348205566, -0...</td>\n",
       "      <td>Rule</td>\n",
       "      <td>Rule</td>\n",
       "    </tr>\n",
       "    <tr>\n",
       "      <th>1</th>\n",
       "      <td>[0.1658390760421753, -0.3227277398109436, -0.9...</td>\n",
       "      <td>Itpr</td>\n",
       "      <td>Itpr</td>\n",
       "    </tr>\n",
       "    <tr>\n",
       "      <th>2</th>\n",
       "      <td>[0.09597893804311752, -0.3331433832645416, -0....</td>\n",
       "      <td>Rule</td>\n",
       "      <td>Rule</td>\n",
       "    </tr>\n",
       "    <tr>\n",
       "      <th>3</th>\n",
       "      <td>[0.17985118925571442, -0.3123069107532501, -0....</td>\n",
       "      <td>Itpr</td>\n",
       "      <td>Itpr</td>\n",
       "    </tr>\n",
       "    <tr>\n",
       "      <th>4</th>\n",
       "      <td>[0.09751901030540466, -0.3189718425273895, -0....</td>\n",
       "      <td>Prec</td>\n",
       "      <td>Prec</td>\n",
       "    </tr>\n",
       "    <tr>\n",
       "      <th>...</th>\n",
       "      <td>...</td>\n",
       "      <td>...</td>\n",
       "      <td>...</td>\n",
       "    </tr>\n",
       "    <tr>\n",
       "      <th>859</th>\n",
       "      <td>[0.15187722444534302, -0.3496837317943573, -0....</td>\n",
       "      <td>Princ</td>\n",
       "      <td>Princ</td>\n",
       "    </tr>\n",
       "    <tr>\n",
       "      <th>860</th>\n",
       "      <td>[0.09473556280136108, -0.34491628408432007, -0...</td>\n",
       "      <td>Rule</td>\n",
       "      <td>Rule</td>\n",
       "    </tr>\n",
       "    <tr>\n",
       "      <th>861</th>\n",
       "      <td>[0.1944553405046463, -0.33162540197372437, -0....</td>\n",
       "      <td>Prec</td>\n",
       "      <td>Prec</td>\n",
       "    </tr>\n",
       "    <tr>\n",
       "      <th>862</th>\n",
       "      <td>[0.18034854531288147, -0.3627682328224182, -0....</td>\n",
       "      <td>Tele</td>\n",
       "      <td>Tele</td>\n",
       "    </tr>\n",
       "    <tr>\n",
       "      <th>863</th>\n",
       "      <td>[0.09112679958343506, -0.37263545393943787, -0...</td>\n",
       "      <td>Rule</td>\n",
       "      <td>Rule</td>\n",
       "    </tr>\n",
       "  </tbody>\n",
       "</table>\n",
       "<p>864 rows × 3 columns</p>\n",
       "</div>"
      ],
      "text/plain": [
       "                                            embeddings labels labels2\n",
       "0    [0.12162520736455917, -0.34163880348205566, -0...   Rule    Rule\n",
       "1    [0.1658390760421753, -0.3227277398109436, -0.9...   Itpr    Itpr\n",
       "2    [0.09597893804311752, -0.3331433832645416, -0....   Rule    Rule\n",
       "3    [0.17985118925571442, -0.3123069107532501, -0....   Itpr    Itpr\n",
       "4    [0.09751901030540466, -0.3189718425273895, -0....   Prec    Prec\n",
       "..                                                 ...    ...     ...\n",
       "859  [0.15187722444534302, -0.3496837317943573, -0....  Princ   Princ\n",
       "860  [0.09473556280136108, -0.34491628408432007, -0...   Rule    Rule\n",
       "861  [0.1944553405046463, -0.33162540197372437, -0....   Prec    Prec\n",
       "862  [0.18034854531288147, -0.3627682328224182, -0....   Tele    Tele\n",
       "863  [0.09112679958343506, -0.37263545393943787, -0...   Rule    Rule\n",
       "\n",
       "[864 rows x 3 columns]"
      ]
     },
     "execution_count": 115,
     "metadata": {},
     "output_type": "execute_result"
    }
   ],
   "source": [
    "df = clean_list(df,'labels')\n",
    "df"
   ]
  },
  {
   "cell_type": "code",
   "execution_count": 116,
   "id": "81803468",
   "metadata": {
    "execution": {
     "iopub.execute_input": "2025-09-02T17:27:53.126642Z",
     "iopub.status.busy": "2025-09-02T17:27:53.126022Z",
     "iopub.status.idle": "2025-09-02T17:27:53.132680Z",
     "shell.execute_reply": "2025-09-02T17:27:53.131889Z"
    },
    "id": "vq7tS4vV5Gsz",
    "outputId": "bd09d7dc-0833-4b99-a06f-106a6b52383c",
    "papermill": {
     "duration": 0.156553,
     "end_time": "2025-09-02T17:27:53.134190",
     "exception": false,
     "start_time": "2025-09-02T17:27:52.977637",
     "status": "completed"
    },
    "tags": []
   },
   "outputs": [
    {
     "data": {
      "text/plain": [
       "array(['Rule', 'Itpr', 'Prec', 'Class', 'Princ', 'Aut', 'Syst', 'Tele'],\n",
       "      dtype=object)"
      ]
     },
     "execution_count": 116,
     "metadata": {},
     "output_type": "execute_result"
    }
   ],
   "source": [
    "#consider each combination of labels as a different label\n",
    "names = df['labels'].explode().unique()\n",
    "len(names)\n",
    "names"
   ]
  },
  {
   "cell_type": "code",
   "execution_count": 117,
   "id": "fb3b7e92",
   "metadata": {
    "execution": {
     "iopub.execute_input": "2025-09-02T17:27:53.472212Z",
     "iopub.status.busy": "2025-09-02T17:27:53.471894Z",
     "iopub.status.idle": "2025-09-02T17:27:53.526743Z",
     "shell.execute_reply": "2025-09-02T17:27:53.525911Z"
    },
    "id": "dGxoilUP5Gsz",
    "outputId": "136a5497-e3a8-4ba3-cd27-dcc57239aa40",
    "papermill": {
     "duration": 0.246419,
     "end_time": "2025-09-02T17:27:53.528373",
     "exception": false,
     "start_time": "2025-09-02T17:27:53.281954",
     "status": "completed"
    },
    "tags": []
   },
   "outputs": [
    {
     "data": {
      "text/plain": [
       "8"
      ]
     },
     "execution_count": 117,
     "metadata": {},
     "output_type": "execute_result"
    }
   ],
   "source": [
    "#mean_embeddings = np.empty((len(names),768))\n",
    "df = df.explode('labels')\n",
    "mean_embeddings = dict()\n",
    "for name in names:\n",
    "    a = df[df['labels']==name]\n",
    "    #print(a['embeddings'].apply(lambda x: np.array(x)))\n",
    "    q = np.array(a['embeddings'])\n",
    "\n",
    "    #print(type(a['embeddings'].iloc[0]))\n",
    "    #a.head(10)\n",
    "    q =np.array(list(map(lambda x: np.array(x),q)))\n",
    "    #np.array(q1).shape\n",
    "    if len(q)==0:\n",
    "        print(name)\n",
    "    mean_embeddings[name] = q.mean(0)\n",
    "    #print(np.array(a['embeddings']).shape)\n",
    "len(mean_embeddings)"
   ]
  },
  {
   "cell_type": "code",
   "execution_count": 118,
   "id": "655111b5",
   "metadata": {
    "execution": {
     "iopub.execute_input": "2025-09-02T17:27:53.831682Z",
     "iopub.status.busy": "2025-09-02T17:27:53.831327Z",
     "iopub.status.idle": "2025-09-02T17:27:54.118005Z",
     "shell.execute_reply": "2025-09-02T17:27:54.116924Z"
    },
    "id": "fezgAxEt5Gsz",
    "outputId": "2554f9a0-26df-415d-fffc-6ddf401b1608",
    "papermill": {
     "duration": 0.440502,
     "end_time": "2025-09-02T17:27:54.119713",
     "exception": false,
     "start_time": "2025-09-02T17:27:53.679211",
     "status": "completed"
    },
    "tags": []
   },
   "outputs": [
    {
     "name": "stdout",
     "output_type": "stream",
     "text": [
      "source: Rule, length:372\n",
      "Rule Itpr 372\n",
      "Rule Prec 372\n",
      "Rule Class 372\n",
      "Rule Princ 372\n",
      "Rule Aut 372\n",
      "Rule Syst 372\n",
      "Rule Tele 372\n",
      "source: Itpr, length:223\n",
      "Itpr Rule 223\n",
      "Itpr Prec 223\n",
      "Itpr Class 223\n",
      "Itpr Princ 223\n",
      "Itpr Aut 223\n",
      "Itpr Syst 223\n",
      "Itpr Tele 223\n",
      "source: Prec, length:287\n",
      "Prec Rule 287\n",
      "Prec Itpr 287\n",
      "Prec Class 287\n",
      "Prec Princ 287\n",
      "Prec Aut 287\n",
      "Prec Syst 287\n",
      "Prec Tele 287\n",
      "source: Class, length:63\n",
      "Class Rule 63\n",
      "Class Itpr 63\n",
      "Class Prec 63\n",
      "Class Princ 63\n",
      "Class Aut 63\n",
      "Class Syst 63\n",
      "Class Tele 63\n",
      "source: Princ, length:92\n",
      "Princ Rule 92\n",
      "Princ Itpr 92\n",
      "Princ Prec 92\n",
      "Princ Class 92\n",
      "Princ Aut 92\n",
      "Princ Syst 92\n",
      "Princ Tele 92\n",
      "source: Aut, length:53\n",
      "Aut Rule 53\n",
      "Aut Itpr 53\n",
      "Aut Prec 53\n",
      "Aut Class 53\n",
      "Aut Princ 53\n",
      "Aut Syst 53\n",
      "Aut Tele 53\n",
      "source: Syst, length:17\n",
      "Syst Rule 17\n",
      "Syst Itpr 17\n",
      "Syst Prec 17\n",
      "Syst Class 17\n",
      "Syst Princ 17\n",
      "Syst Aut 17\n",
      "Syst Tele 17\n",
      "source: Tele, length:9\n",
      "Tele Rule 9\n",
      "Tele Itpr 9\n",
      "Tele Prec 9\n",
      "Tele Class 9\n",
      "Tele Princ 9\n",
      "Tele Aut 9\n",
      "Tele Syst 9\n"
     ]
    },
    {
     "data": {
      "text/plain": [
       "7812"
      ]
     },
     "execution_count": 118,
     "metadata": {},
     "output_type": "execute_result"
    }
   ],
   "source": [
    "#create new embeddings: target_emb = source_emb - mean_source + mean_target\n",
    "new_embeddings = []\n",
    "new_labels = []\n",
    "for source in names:\n",
    "    a = df[df['labels']==source]\n",
    "    print(f'source: {source}, length:{len(a)}')\n",
    "    for target in names:\n",
    "        l=0\n",
    "        if target == source:\n",
    "            continue\n",
    "        for e in a['embeddings']:\n",
    "            l = l + 1\n",
    "            new = np.array(e) - mean_embeddings[source] + mean_embeddings[target]\n",
    "            new_embeddings.append(new)\n",
    "            new_labels.append(target)\n",
    "        print(source,target,l)\n",
    "len(new_embeddings)"
   ]
  },
  {
   "cell_type": "code",
   "execution_count": 119,
   "id": "36004b22",
   "metadata": {
    "execution": {
     "iopub.execute_input": "2025-09-02T17:27:54.423017Z",
     "iopub.status.busy": "2025-09-02T17:27:54.422686Z",
     "iopub.status.idle": "2025-09-02T17:27:54.484955Z",
     "shell.execute_reply": "2025-09-02T17:27:54.484154Z"
    },
    "id": "ZlewsL8W5Gs0",
    "outputId": "2944eb03-e510-4904-aae3-c39f4950a613",
    "papermill": {
     "duration": 0.214383,
     "end_time": "2025-09-02T17:27:54.486452",
     "exception": false,
     "start_time": "2025-09-02T17:27:54.272069",
     "status": "completed"
    },
    "tags": []
   },
   "outputs": [
    {
     "data": {
      "text/html": [
       "<div>\n",
       "<style scoped>\n",
       "    .dataframe tbody tr th:only-of-type {\n",
       "        vertical-align: middle;\n",
       "    }\n",
       "\n",
       "    .dataframe tbody tr th {\n",
       "        vertical-align: top;\n",
       "    }\n",
       "\n",
       "    .dataframe thead th {\n",
       "        text-align: right;\n",
       "    }\n",
       "</style>\n",
       "<table border=\"1\" class=\"dataframe\">\n",
       "  <thead>\n",
       "    <tr style=\"text-align: right;\">\n",
       "      <th></th>\n",
       "      <th>embeddings</th>\n",
       "      <th>labels</th>\n",
       "    </tr>\n",
       "    <tr>\n",
       "      <th>ind</th>\n",
       "      <th></th>\n",
       "      <th></th>\n",
       "    </tr>\n",
       "  </thead>\n",
       "  <tbody>\n",
       "    <tr>\n",
       "      <th>0</th>\n",
       "      <td>[[0.12162520736455917, -0.34163880348205566, -...</td>\n",
       "      <td>[Rule]</td>\n",
       "    </tr>\n",
       "    <tr>\n",
       "      <th>1</th>\n",
       "      <td>[[0.1658390760421753, -0.3227277398109436, -0....</td>\n",
       "      <td>[Itpr]</td>\n",
       "    </tr>\n",
       "    <tr>\n",
       "      <th>2</th>\n",
       "      <td>[[0.09597893804311752, -0.3331433832645416, -0...</td>\n",
       "      <td>[Rule]</td>\n",
       "    </tr>\n",
       "    <tr>\n",
       "      <th>3</th>\n",
       "      <td>[[0.17985118925571442, -0.3123069107532501, -0...</td>\n",
       "      <td>[Itpr]</td>\n",
       "    </tr>\n",
       "    <tr>\n",
       "      <th>4</th>\n",
       "      <td>[[0.09751901030540466, -0.3189718425273895, -0...</td>\n",
       "      <td>[Prec]</td>\n",
       "    </tr>\n",
       "    <tr>\n",
       "      <th>...</th>\n",
       "      <td>...</td>\n",
       "      <td>...</td>\n",
       "    </tr>\n",
       "    <tr>\n",
       "      <th>859</th>\n",
       "      <td>[[0.15187722444534302, -0.3496837317943573, -0...</td>\n",
       "      <td>[Princ]</td>\n",
       "    </tr>\n",
       "    <tr>\n",
       "      <th>860</th>\n",
       "      <td>[[0.09473556280136108, -0.34491628408432007, -...</td>\n",
       "      <td>[Rule]</td>\n",
       "    </tr>\n",
       "    <tr>\n",
       "      <th>861</th>\n",
       "      <td>[[0.1944553405046463, -0.33162540197372437, -0...</td>\n",
       "      <td>[Prec]</td>\n",
       "    </tr>\n",
       "    <tr>\n",
       "      <th>862</th>\n",
       "      <td>[[0.18034854531288147, -0.3627682328224182, -0...</td>\n",
       "      <td>[Tele]</td>\n",
       "    </tr>\n",
       "    <tr>\n",
       "      <th>863</th>\n",
       "      <td>[[0.09112679958343506, -0.37263545393943787, -...</td>\n",
       "      <td>[Rule]</td>\n",
       "    </tr>\n",
       "  </tbody>\n",
       "</table>\n",
       "<p>864 rows × 2 columns</p>\n",
       "</div>"
      ],
      "text/plain": [
       "                                            embeddings   labels\n",
       "ind                                                            \n",
       "0    [[0.12162520736455917, -0.34163880348205566, -...   [Rule]\n",
       "1    [[0.1658390760421753, -0.3227277398109436, -0....   [Itpr]\n",
       "2    [[0.09597893804311752, -0.3331433832645416, -0...   [Rule]\n",
       "3    [[0.17985118925571442, -0.3123069107532501, -0...   [Itpr]\n",
       "4    [[0.09751901030540466, -0.3189718425273895, -0...   [Prec]\n",
       "..                                                 ...      ...\n",
       "859  [[0.15187722444534302, -0.3496837317943573, -0...  [Princ]\n",
       "860  [[0.09473556280136108, -0.34491628408432007, -...   [Rule]\n",
       "861  [[0.1944553405046463, -0.33162540197372437, -0...   [Prec]\n",
       "862  [[0.18034854531288147, -0.3627682328224182, -0...   [Tele]\n",
       "863  [[0.09112679958343506, -0.37263545393943787, -...   [Rule]\n",
       "\n",
       "[864 rows x 2 columns]"
      ]
     },
     "execution_count": 119,
     "metadata": {},
     "output_type": "execute_result"
    }
   ],
   "source": [
    "#reverse exploding\n",
    "df =df.rename_axis(index='ind')\n",
    "df1 = df.explode('labels').groupby(by='ind').agg({'embeddings':list,'labels':list})\n",
    "df1"
   ]
  },
  {
   "cell_type": "code",
   "execution_count": 120,
   "id": "fd423641",
   "metadata": {
    "execution": {
     "iopub.execute_input": "2025-09-02T17:27:54.791204Z",
     "iopub.status.busy": "2025-09-02T17:27:54.790778Z",
     "iopub.status.idle": "2025-09-02T17:27:54.802239Z",
     "shell.execute_reply": "2025-09-02T17:27:54.801303Z"
    },
    "id": "LiO6hnyF5Gs0",
    "outputId": "22fe18fd-6432-43b9-f6f2-024dd4f4a5bc",
    "papermill": {
     "duration": 0.166698,
     "end_time": "2025-09-02T17:27:54.803856",
     "exception": false,
     "start_time": "2025-09-02T17:27:54.637158",
     "status": "completed"
    },
    "tags": []
   },
   "outputs": [
    {
     "data": {
      "text/plain": [
       "ind\n",
       "0      [0.12162520736455917, -0.34163880348205566, -0...\n",
       "1      [0.1658390760421753, -0.3227277398109436, -0.9...\n",
       "2      [0.09597893804311752, -0.3331433832645416, -0....\n",
       "3      [0.17985118925571442, -0.3123069107532501, -0....\n",
       "4      [0.09751901030540466, -0.3189718425273895, -0....\n",
       "                             ...                        \n",
       "859    [0.15187722444534302, -0.3496837317943573, -0....\n",
       "860    [0.09473556280136108, -0.34491628408432007, -0...\n",
       "861    [0.1944553405046463, -0.33162540197372437, -0....\n",
       "862    [0.18034854531288147, -0.3627682328224182, -0....\n",
       "863    [0.09112679958343506, -0.37263545393943787, -0...\n",
       "Name: embeddings, Length: 864, dtype: object"
      ]
     },
     "execution_count": 120,
     "metadata": {},
     "output_type": "execute_result"
    }
   ],
   "source": [
    "#remove list of list in embedding column\n",
    "def f(x):\n",
    "    return x[0]\n",
    "\n",
    "df1['embeddings'] = df1['embeddings'].apply(f)\n",
    "df1['embeddings']"
   ]
  },
  {
   "cell_type": "code",
   "execution_count": 121,
   "id": "c022a3cf",
   "metadata": {
    "execution": {
     "iopub.execute_input": "2025-09-02T17:27:55.105463Z",
     "iopub.status.busy": "2025-09-02T17:27:55.104728Z",
     "iopub.status.idle": "2025-09-02T17:27:55.122045Z",
     "shell.execute_reply": "2025-09-02T17:27:55.121302Z"
    },
    "id": "Qg2K8KXH5Gs0",
    "outputId": "aea636ed-c6bf-4377-ac5c-7c1ff14747d3",
    "papermill": {
     "duration": 0.169179,
     "end_time": "2025-09-02T17:27:55.123513",
     "exception": false,
     "start_time": "2025-09-02T17:27:54.954334",
     "status": "completed"
    },
    "tags": []
   },
   "outputs": [
    {
     "data": {
      "text/html": [
       "<div>\n",
       "<style scoped>\n",
       "    .dataframe tbody tr th:only-of-type {\n",
       "        vertical-align: middle;\n",
       "    }\n",
       "\n",
       "    .dataframe tbody tr th {\n",
       "        vertical-align: top;\n",
       "    }\n",
       "\n",
       "    .dataframe thead th {\n",
       "        text-align: right;\n",
       "    }\n",
       "</style>\n",
       "<table border=\"1\" class=\"dataframe\">\n",
       "  <thead>\n",
       "    <tr style=\"text-align: right;\">\n",
       "      <th></th>\n",
       "      <th>embeddings</th>\n",
       "      <th>labels</th>\n",
       "    </tr>\n",
       "    <tr>\n",
       "      <th>ind</th>\n",
       "      <th></th>\n",
       "      <th></th>\n",
       "    </tr>\n",
       "  </thead>\n",
       "  <tbody>\n",
       "    <tr>\n",
       "      <th>0</th>\n",
       "      <td>[0.12162520736455917, -0.34163880348205566, -0...</td>\n",
       "      <td>[Rule]</td>\n",
       "    </tr>\n",
       "    <tr>\n",
       "      <th>1</th>\n",
       "      <td>[0.1658390760421753, -0.3227277398109436, -0.9...</td>\n",
       "      <td>[Itpr]</td>\n",
       "    </tr>\n",
       "    <tr>\n",
       "      <th>2</th>\n",
       "      <td>[0.09597893804311752, -0.3331433832645416, -0....</td>\n",
       "      <td>[Rule]</td>\n",
       "    </tr>\n",
       "    <tr>\n",
       "      <th>3</th>\n",
       "      <td>[0.17985118925571442, -0.3123069107532501, -0....</td>\n",
       "      <td>[Itpr]</td>\n",
       "    </tr>\n",
       "    <tr>\n",
       "      <th>4</th>\n",
       "      <td>[0.09751901030540466, -0.3189718425273895, -0....</td>\n",
       "      <td>[Prec]</td>\n",
       "    </tr>\n",
       "    <tr>\n",
       "      <th>...</th>\n",
       "      <td>...</td>\n",
       "      <td>...</td>\n",
       "    </tr>\n",
       "    <tr>\n",
       "      <th>859</th>\n",
       "      <td>[0.15187722444534302, -0.3496837317943573, -0....</td>\n",
       "      <td>[Princ]</td>\n",
       "    </tr>\n",
       "    <tr>\n",
       "      <th>860</th>\n",
       "      <td>[0.09473556280136108, -0.34491628408432007, -0...</td>\n",
       "      <td>[Rule]</td>\n",
       "    </tr>\n",
       "    <tr>\n",
       "      <th>861</th>\n",
       "      <td>[0.1944553405046463, -0.33162540197372437, -0....</td>\n",
       "      <td>[Prec]</td>\n",
       "    </tr>\n",
       "    <tr>\n",
       "      <th>862</th>\n",
       "      <td>[0.18034854531288147, -0.3627682328224182, -0....</td>\n",
       "      <td>[Tele]</td>\n",
       "    </tr>\n",
       "    <tr>\n",
       "      <th>863</th>\n",
       "      <td>[0.09112679958343506, -0.37263545393943787, -0...</td>\n",
       "      <td>[Rule]</td>\n",
       "    </tr>\n",
       "  </tbody>\n",
       "</table>\n",
       "<p>864 rows × 2 columns</p>\n",
       "</div>"
      ],
      "text/plain": [
       "                                            embeddings   labels\n",
       "ind                                                            \n",
       "0    [0.12162520736455917, -0.34163880348205566, -0...   [Rule]\n",
       "1    [0.1658390760421753, -0.3227277398109436, -0.9...   [Itpr]\n",
       "2    [0.09597893804311752, -0.3331433832645416, -0....   [Rule]\n",
       "3    [0.17985118925571442, -0.3123069107532501, -0....   [Itpr]\n",
       "4    [0.09751901030540466, -0.3189718425273895, -0....   [Prec]\n",
       "..                                                 ...      ...\n",
       "859  [0.15187722444534302, -0.3496837317943573, -0....  [Princ]\n",
       "860  [0.09473556280136108, -0.34491628408432007, -0...   [Rule]\n",
       "861  [0.1944553405046463, -0.33162540197372437, -0....   [Prec]\n",
       "862  [0.18034854531288147, -0.3627682328224182, -0....   [Tele]\n",
       "863  [0.09112679958343506, -0.37263545393943787, -0...   [Rule]\n",
       "\n",
       "[864 rows x 2 columns]"
      ]
     },
     "execution_count": 121,
     "metadata": {},
     "output_type": "execute_result"
    }
   ],
   "source": [
    "df1"
   ]
  },
  {
   "cell_type": "code",
   "execution_count": 122,
   "id": "7aac1faa",
   "metadata": {
    "execution": {
     "iopub.execute_input": "2025-09-02T17:27:55.470923Z",
     "iopub.status.busy": "2025-09-02T17:27:55.470591Z",
     "iopub.status.idle": "2025-09-02T17:27:55.481401Z",
     "shell.execute_reply": "2025-09-02T17:27:55.480633Z"
    },
    "id": "KJLHahMf5Gs0",
    "outputId": "3e32bffc-99d6-4119-e763-25325c071f56",
    "papermill": {
     "duration": 0.163906,
     "end_time": "2025-09-02T17:27:55.482988",
     "exception": false,
     "start_time": "2025-09-02T17:27:55.319082",
     "status": "completed"
    },
    "tags": []
   },
   "outputs": [
    {
     "data": {
      "text/plain": [
       "labels\n",
       "Tele     1107\n",
       "Syst     1099\n",
       "Aut      1063\n",
       "Class    1053\n",
       "Princ    1024\n",
       "Itpr      893\n",
       "Prec      829\n",
       "Rule      744\n",
       "Name: count, dtype: int64"
      ]
     },
     "execution_count": 122,
     "metadata": {},
     "output_type": "execute_result"
    }
   ],
   "source": [
    "new_df = pd.DataFrame()\n",
    "new_df['embeddings'] = new_embeddings\n",
    "new_df['labels'] = new_labels\n",
    "#new_df.describe()\n",
    "#q = (new_df['embeddings'][:2])\n",
    "#q = np.array(list(map(lambda x: np.array(x),q)))\n",
    "#torch.stack(list(map(lambda x: torch.tensor(x),q))).\n",
    "new_df['labels'].value_counts()"
   ]
  },
  {
   "cell_type": "code",
   "execution_count": 123,
   "id": "217d54ed",
   "metadata": {
    "execution": {
     "iopub.execute_input": "2025-09-02T17:27:55.796128Z",
     "iopub.status.busy": "2025-09-02T17:27:55.795499Z",
     "iopub.status.idle": "2025-09-02T17:27:57.131620Z",
     "shell.execute_reply": "2025-09-02T17:27:57.130783Z"
    },
    "id": "gY50rHNq5Gs0",
    "outputId": "3879aaaf-120a-4333-b28a-e1c744735e5f",
    "papermill": {
     "duration": 1.493759,
     "end_time": "2025-09-02T17:27:57.133437",
     "exception": false,
     "start_time": "2025-09-02T17:27:55.639678",
     "status": "completed"
    },
    "tags": []
   },
   "outputs": [
    {
     "data": {
      "text/html": [
       "<div>\n",
       "<style scoped>\n",
       "    .dataframe tbody tr th:only-of-type {\n",
       "        vertical-align: middle;\n",
       "    }\n",
       "\n",
       "    .dataframe tbody tr th {\n",
       "        vertical-align: top;\n",
       "    }\n",
       "\n",
       "    .dataframe thead th {\n",
       "        text-align: right;\n",
       "    }\n",
       "</style>\n",
       "<table border=\"1\" class=\"dataframe\">\n",
       "  <thead>\n",
       "    <tr style=\"text-align: right;\">\n",
       "      <th></th>\n",
       "      <th>embeddings</th>\n",
       "      <th>labels</th>\n",
       "      <th>labels2</th>\n",
       "    </tr>\n",
       "  </thead>\n",
       "  <tbody>\n",
       "    <tr>\n",
       "      <th>0</th>\n",
       "      <td>[0.12162520736455917, -0.34163880348205566, -0...</td>\n",
       "      <td>[Rule]</td>\n",
       "      <td>Rule</td>\n",
       "    </tr>\n",
       "    <tr>\n",
       "      <th>1</th>\n",
       "      <td>[0.1658390760421753, -0.3227277398109436, -0.9...</td>\n",
       "      <td>[Itpr]</td>\n",
       "      <td>Itpr</td>\n",
       "    </tr>\n",
       "    <tr>\n",
       "      <th>2</th>\n",
       "      <td>[0.09597893804311752, -0.3331433832645416, -0....</td>\n",
       "      <td>[Rule]</td>\n",
       "      <td>Rule</td>\n",
       "    </tr>\n",
       "    <tr>\n",
       "      <th>3</th>\n",
       "      <td>[0.17985118925571442, -0.3123069107532501, -0....</td>\n",
       "      <td>[Itpr]</td>\n",
       "      <td>Itpr</td>\n",
       "    </tr>\n",
       "    <tr>\n",
       "      <th>4</th>\n",
       "      <td>[0.09751901030540466, -0.3189718425273895, -0....</td>\n",
       "      <td>[Prec]</td>\n",
       "      <td>Prec</td>\n",
       "    </tr>\n",
       "    <tr>\n",
       "      <th>...</th>\n",
       "      <td>...</td>\n",
       "      <td>...</td>\n",
       "      <td>...</td>\n",
       "    </tr>\n",
       "    <tr>\n",
       "      <th>8671</th>\n",
       "      <td>[-0.2670068410073036, -0.32274358549149207, -0...</td>\n",
       "      <td>Syst</td>\n",
       "      <td>Syst</td>\n",
       "    </tr>\n",
       "    <tr>\n",
       "      <th>8672</th>\n",
       "      <td>[0.20842328995125353, -0.3769378868582981, -0....</td>\n",
       "      <td>Syst</td>\n",
       "      <td>Syst</td>\n",
       "    </tr>\n",
       "    <tr>\n",
       "      <th>8673</th>\n",
       "      <td>[0.14604591160671773, -0.29281677880318335, -0...</td>\n",
       "      <td>Syst</td>\n",
       "      <td>Syst</td>\n",
       "    </tr>\n",
       "    <tr>\n",
       "      <th>8674</th>\n",
       "      <td>[0.13125544368879857, -0.34278812088997535, -0...</td>\n",
       "      <td>Syst</td>\n",
       "      <td>Syst</td>\n",
       "    </tr>\n",
       "    <tr>\n",
       "      <th>8675</th>\n",
       "      <td>[0.20395851462738573, -0.3541935292723911, -0....</td>\n",
       "      <td>Syst</td>\n",
       "      <td>Syst</td>\n",
       "    </tr>\n",
       "  </tbody>\n",
       "</table>\n",
       "<p>8676 rows × 3 columns</p>\n",
       "</div>"
      ],
      "text/plain": [
       "                                             embeddings  labels labels2\n",
       "0     [0.12162520736455917, -0.34163880348205566, -0...  [Rule]    Rule\n",
       "1     [0.1658390760421753, -0.3227277398109436, -0.9...  [Itpr]    Itpr\n",
       "2     [0.09597893804311752, -0.3331433832645416, -0....  [Rule]    Rule\n",
       "3     [0.17985118925571442, -0.3123069107532501, -0....  [Itpr]    Itpr\n",
       "4     [0.09751901030540466, -0.3189718425273895, -0....  [Prec]    Prec\n",
       "...                                                 ...     ...     ...\n",
       "8671  [-0.2670068410073036, -0.32274358549149207, -0...    Syst    Syst\n",
       "8672  [0.20842328995125353, -0.3769378868582981, -0....    Syst    Syst\n",
       "8673  [0.14604591160671773, -0.29281677880318335, -0...    Syst    Syst\n",
       "8674  [0.13125544368879857, -0.34278812088997535, -0...    Syst    Syst\n",
       "8675  [0.20395851462738573, -0.3541935292723911, -0....    Syst    Syst\n",
       "\n",
       "[8676 rows x 3 columns]"
      ]
     },
     "execution_count": 123,
     "metadata": {},
     "output_type": "execute_result"
    }
   ],
   "source": [
    "#merge dataframes\n",
    "tot_df = pd.concat([df1,new_df],ignore_index=True)\n",
    "#final_df = pd.get_dummies(tot_df,columns = ['labels'],dtype=float)\n",
    "\n",
    "z = tot_df.explode('labels')\n",
    "z['labels'].value_counts()\n",
    "#convert list labels to string\n",
    "tot_df=clean_list(tot_df,'labels')\n",
    "tot_df"
   ]
  },
  {
   "cell_type": "code",
   "execution_count": 124,
   "id": "82e20c9a",
   "metadata": {
    "execution": {
     "iopub.execute_input": "2025-09-02T17:27:57.450068Z",
     "iopub.status.busy": "2025-09-02T17:27:57.449479Z",
     "iopub.status.idle": "2025-09-02T17:27:57.873464Z",
     "shell.execute_reply": "2025-09-02T17:27:57.872379Z"
    },
    "id": "lH6y6Hto5Gs0",
    "papermill": {
     "duration": 0.585967,
     "end_time": "2025-09-02T17:27:57.875797",
     "exception": false,
     "start_time": "2025-09-02T17:27:57.289830",
     "status": "completed"
    },
    "tags": []
   },
   "outputs": [],
   "source": [
    "#apply again the multibinarizer on Scheme, before transform the list classes into str,\n",
    "#and get a one hot encoding of the labels\n",
    "mlb1 = MultiLabelBinarizer()\n",
    "\n",
    "mlb_result = mlb.fit_transform([str(tot_df.loc[i,'labels2']).split(',') for i in range(len(tot_df))])\n",
    "\n",
    "df_aug = pd.concat([tot_df,pd.DataFrame(mlb_result,columns=list(mlb.classes_))],axis=1)\n",
    "df_aug_labels = df_aug[sc_classes]\n",
    "df_aug_train = df_aug['embeddings']"
   ]
  },
  {
   "cell_type": "code",
   "execution_count": 125,
   "id": "47de6d5f",
   "metadata": {
    "execution": {
     "iopub.execute_input": "2025-09-02T17:27:58.188776Z",
     "iopub.status.busy": "2025-09-02T17:27:58.187947Z",
     "iopub.status.idle": "2025-09-02T17:27:58.218194Z",
     "shell.execute_reply": "2025-09-02T17:27:58.217431Z"
    },
    "id": "9FRbm55U5Gs1",
    "outputId": "cf8f1f4b-814c-49d9-acb9-084a6808a5e4",
    "papermill": {
     "duration": 0.187545,
     "end_time": "2025-09-02T17:27:58.219809",
     "exception": false,
     "start_time": "2025-09-02T17:27:58.032264",
     "status": "completed"
    },
    "tags": []
   },
   "outputs": [
    {
     "data": {
      "text/plain": [
       "torch.Size([885, 8])"
      ]
     },
     "execution_count": 125,
     "metadata": {},
     "output_type": "execute_result"
    }
   ],
   "source": [
    "las = torch.stack(list(map(lambda l: torch.tensor(l,device=device,dtype=torch.float32),np.array(train_labels))))\n",
    "las.size()"
   ]
  },
  {
   "cell_type": "code",
   "execution_count": 126,
   "id": "8900782a",
   "metadata": {
    "execution": {
     "iopub.execute_input": "2025-09-02T17:27:58.567107Z",
     "iopub.status.busy": "2025-09-02T17:27:58.566470Z",
     "iopub.status.idle": "2025-09-02T17:27:59.084431Z",
     "shell.execute_reply": "2025-09-02T17:27:59.083538Z"
    },
    "id": "DY_IwTqK5Gs1",
    "outputId": "0f3f7a08-ebee-47a2-e963-68fa7f72ef60",
    "papermill": {
     "duration": 0.715932,
     "end_time": "2025-09-02T17:27:59.086217",
     "exception": false,
     "start_time": "2025-09-02T17:27:58.370285",
     "status": "completed"
    },
    "tags": []
   },
   "outputs": [
    {
     "name": "stdout",
     "output_type": "stream",
     "text": [
      "torch.Size([8676, 768]) torch.Size([8676, 8])\n"
     ]
    }
   ],
   "source": [
    "#preprocessing\n",
    "#q = (new_df['embeddings'][:2])\n",
    "#q = np.array(list(map(lambda x: np.array(x),q)))\n",
    "#torch.stack(list(map(lambda x: torch.tensor(x),q)))\n",
    "\n",
    "train_data = torch.stack(list(map(lambda e: torch.tensor(e,device=device,dtype=torch.float32),df_aug_train)))\n",
    "train_labs = torch.stack(list(map(lambda l: torch.tensor(l,device=device,dtype=torch.float32),np.array(df_aug_labels))))\n",
    "print(train_data.size(),train_labs.size())\n"
   ]
  },
  {
   "cell_type": "code",
   "execution_count": 127,
   "id": "41c51074",
   "metadata": {
    "execution": {
     "iopub.execute_input": "2025-09-02T17:27:59.392309Z",
     "iopub.status.busy": "2025-09-02T17:27:59.391685Z",
     "iopub.status.idle": "2025-09-02T17:27:59.397921Z",
     "shell.execute_reply": "2025-09-02T17:27:59.397103Z"
    },
    "id": "eQ1HFjzg5Gs1",
    "outputId": "ef66ca75-84f7-430d-f6b3-b2d1daa63e37",
    "papermill": {
     "duration": 0.159514,
     "end_time": "2025-09-02T17:27:59.399485",
     "exception": false,
     "start_time": "2025-09-02T17:27:59.239971",
     "status": "completed"
    },
    "tags": []
   },
   "outputs": [
    {
     "data": {
      "text/plain": [
       "Classifier(\n",
       "  (cl1): Linear(in_features=768, out_features=768, bias=True)\n",
       "  (relu): ReLU()\n",
       "  (classifier): Linear(in_features=768, out_features=8, bias=True)\n",
       ")"
      ]
     },
     "execution_count": 127,
     "metadata": {},
     "output_type": "execute_result"
    }
   ],
   "source": [
    "#clsf = classifier(11)\n",
    "cls.to(device).train()"
   ]
  },
  {
   "cell_type": "code",
   "execution_count": 128,
   "id": "a2cafcd1",
   "metadata": {
    "execution": {
     "iopub.execute_input": "2025-09-02T17:27:59.702664Z",
     "iopub.status.busy": "2025-09-02T17:27:59.701881Z",
     "iopub.status.idle": "2025-09-02T17:27:59.706430Z",
     "shell.execute_reply": "2025-09-02T17:27:59.705606Z"
    },
    "id": "4EI2mqfz5Gs1",
    "papermill": {
     "duration": 0.158547,
     "end_time": "2025-09-02T17:27:59.708124",
     "exception": false,
     "start_time": "2025-09-02T17:27:59.549577",
     "status": "completed"
    },
    "tags": []
   },
   "outputs": [],
   "source": [
    "#define loss and optimizer\n",
    "criterion = nn.BCELoss()\n",
    "optimizer = torch.optim.AdamW(cls.parameters(), lr=5e-5, weight_decay=1.5e-2)"
   ]
  },
  {
   "cell_type": "code",
   "execution_count": 129,
   "id": "ff95f95d",
   "metadata": {
    "execution": {
     "iopub.execute_input": "2025-09-02T17:28:00.014183Z",
     "iopub.status.busy": "2025-09-02T17:28:00.013862Z",
     "iopub.status.idle": "2025-09-02T17:44:49.443455Z",
     "shell.execute_reply": "2025-09-02T17:44:49.442447Z"
    },
    "id": "-B-Rd0XE5Gs1",
    "outputId": "059c0d9c-c922-4118-8b38-2553f1f743b4",
    "papermill": {
     "duration": 1009.584264,
     "end_time": "2025-09-02T17:44:49.445697",
     "exception": false,
     "start_time": "2025-09-02T17:27:59.861433",
     "status": "completed"
    },
    "tags": []
   },
   "outputs": [
    {
     "name": "stdout",
     "output_type": "stream",
     "text": [
      "n_minibatches: 271\n"
     ]
    },
    {
     "name": "stderr",
     "output_type": "stream",
     "text": [
      "  3%|▎         | 100/3000 [00:33<16:37,  2.91it/s]"
     ]
    },
    {
     "name": "stdout",
     "output_type": "stream",
     "text": [
      "epoch: 100, loss:0.3529105801204034\n"
     ]
    },
    {
     "name": "stderr",
     "output_type": "stream",
     "text": [
      "  7%|▋         | 200/3000 [01:07<15:54,  2.93it/s]"
     ]
    },
    {
     "name": "stdout",
     "output_type": "stream",
     "text": [
      "epoch: 200, loss:0.31445656623347656\n"
     ]
    },
    {
     "name": "stderr",
     "output_type": "stream",
     "text": [
      " 10%|█         | 300/3000 [01:40<15:11,  2.96it/s]"
     ]
    },
    {
     "name": "stdout",
     "output_type": "stream",
     "text": [
      "epoch: 300, loss:0.29249453250442486\n"
     ]
    },
    {
     "name": "stderr",
     "output_type": "stream",
     "text": [
      " 13%|█▎        | 400/3000 [02:14<14:36,  2.97it/s]"
     ]
    },
    {
     "name": "stdout",
     "output_type": "stream",
     "text": [
      "epoch: 400, loss:0.2780738504417928\n"
     ]
    },
    {
     "name": "stderr",
     "output_type": "stream",
     "text": [
      " 17%|█▋        | 500/3000 [02:48<14:23,  2.89it/s]"
     ]
    },
    {
     "name": "stdout",
     "output_type": "stream",
     "text": [
      "epoch: 500, loss:0.2680370873493242\n"
     ]
    },
    {
     "name": "stderr",
     "output_type": "stream",
     "text": [
      " 20%|██        | 600/3000 [03:21<13:12,  3.03it/s]"
     ]
    },
    {
     "name": "stdout",
     "output_type": "stream",
     "text": [
      "epoch: 600, loss:0.25989071225465665\n"
     ]
    },
    {
     "name": "stderr",
     "output_type": "stream",
     "text": [
      " 23%|██▎       | 700/3000 [03:55<12:51,  2.98it/s]"
     ]
    },
    {
     "name": "stdout",
     "output_type": "stream",
     "text": [
      "epoch: 700, loss:0.25228984010615474\n"
     ]
    },
    {
     "name": "stderr",
     "output_type": "stream",
     "text": [
      " 27%|██▋       | 800/3000 [04:28<12:23,  2.96it/s]"
     ]
    },
    {
     "name": "stdout",
     "output_type": "stream",
     "text": [
      "epoch: 800, loss:0.2454073537635957\n"
     ]
    },
    {
     "name": "stderr",
     "output_type": "stream",
     "text": [
      " 30%|███       | 900/3000 [05:02<11:42,  2.99it/s]"
     ]
    },
    {
     "name": "stdout",
     "output_type": "stream",
     "text": [
      "epoch: 900, loss:0.2396014245515655\n"
     ]
    },
    {
     "name": "stderr",
     "output_type": "stream",
     "text": [
      " 33%|███▎      | 1000/3000 [05:35<11:16,  2.96it/s]"
     ]
    },
    {
     "name": "stdout",
     "output_type": "stream",
     "text": [
      "epoch: 1000, loss:0.2344188505983001\n"
     ]
    },
    {
     "name": "stderr",
     "output_type": "stream",
     "text": [
      " 37%|███▋      | 1100/3000 [06:09<10:42,  2.96it/s]"
     ]
    },
    {
     "name": "stdout",
     "output_type": "stream",
     "text": [
      "epoch: 1100, loss:0.22972192800847807\n"
     ]
    },
    {
     "name": "stderr",
     "output_type": "stream",
     "text": [
      " 40%|████      | 1200/3000 [06:43<10:03,  2.98it/s]"
     ]
    },
    {
     "name": "stdout",
     "output_type": "stream",
     "text": [
      "epoch: 1200, loss:0.22582072586790278\n"
     ]
    },
    {
     "name": "stderr",
     "output_type": "stream",
     "text": [
      " 43%|████▎     | 1300/3000 [07:16<09:29,  2.98it/s]"
     ]
    },
    {
     "name": "stdout",
     "output_type": "stream",
     "text": [
      "epoch: 1300, loss:0.22215290768999896\n"
     ]
    },
    {
     "name": "stderr",
     "output_type": "stream",
     "text": [
      " 47%|████▋     | 1400/3000 [07:50<09:12,  2.89it/s]"
     ]
    },
    {
     "name": "stdout",
     "output_type": "stream",
     "text": [
      "epoch: 1400, loss:0.21894432756383095\n"
     ]
    },
    {
     "name": "stderr",
     "output_type": "stream",
     "text": [
      " 50%|█████     | 1500/3000 [08:23<08:14,  3.03it/s]"
     ]
    },
    {
     "name": "stdout",
     "output_type": "stream",
     "text": [
      "epoch: 1500, loss:0.21587803647458223\n"
     ]
    },
    {
     "name": "stderr",
     "output_type": "stream",
     "text": [
      " 53%|█████▎    | 1600/3000 [08:57<07:46,  3.00it/s]"
     ]
    },
    {
     "name": "stdout",
     "output_type": "stream",
     "text": [
      "epoch: 1600, loss:0.21322971800294088\n"
     ]
    },
    {
     "name": "stderr",
     "output_type": "stream",
     "text": [
      " 57%|█████▋    | 1700/3000 [09:31<07:26,  2.91it/s]"
     ]
    },
    {
     "name": "stdout",
     "output_type": "stream",
     "text": [
      "epoch: 1700, loss:0.21059070978952896\n"
     ]
    },
    {
     "name": "stderr",
     "output_type": "stream",
     "text": [
      " 60%|██████    | 1800/3000 [10:05<06:48,  2.94it/s]"
     ]
    },
    {
     "name": "stdout",
     "output_type": "stream",
     "text": [
      "epoch: 1800, loss:0.20838131529117532\n"
     ]
    },
    {
     "name": "stderr",
     "output_type": "stream",
     "text": [
      " 63%|██████▎   | 1900/3000 [10:38<06:17,  2.91it/s]"
     ]
    },
    {
     "name": "stdout",
     "output_type": "stream",
     "text": [
      "epoch: 1900, loss:0.20620250818405533\n"
     ]
    },
    {
     "name": "stderr",
     "output_type": "stream",
     "text": [
      " 67%|██████▋   | 2000/3000 [11:12<05:34,  2.99it/s]"
     ]
    },
    {
     "name": "stdout",
     "output_type": "stream",
     "text": [
      "epoch: 2000, loss:0.20394163645590857\n"
     ]
    },
    {
     "name": "stderr",
     "output_type": "stream",
     "text": [
      " 70%|███████   | 2100/3000 [11:46<05:00,  3.00it/s]"
     ]
    },
    {
     "name": "stdout",
     "output_type": "stream",
     "text": [
      "epoch: 2100, loss:0.2021956411894837\n"
     ]
    },
    {
     "name": "stderr",
     "output_type": "stream",
     "text": [
      " 73%|███████▎  | 2200/3000 [12:19<04:33,  2.92it/s]"
     ]
    },
    {
     "name": "stdout",
     "output_type": "stream",
     "text": [
      "epoch: 2200, loss:0.20028612811059943\n"
     ]
    },
    {
     "name": "stderr",
     "output_type": "stream",
     "text": [
      " 77%|███████▋  | 2300/3000 [12:53<03:58,  2.93it/s]"
     ]
    },
    {
     "name": "stdout",
     "output_type": "stream",
     "text": [
      "epoch: 2300, loss:0.19828896015037084\n"
     ]
    },
    {
     "name": "stderr",
     "output_type": "stream",
     "text": [
      " 80%|████████  | 2400/3000 [13:27<03:24,  2.93it/s]"
     ]
    },
    {
     "name": "stdout",
     "output_type": "stream",
     "text": [
      "epoch: 2400, loss:0.19712460786447863\n"
     ]
    },
    {
     "name": "stderr",
     "output_type": "stream",
     "text": [
      " 83%|████████▎ | 2500/3000 [14:01<02:48,  2.96it/s]"
     ]
    },
    {
     "name": "stdout",
     "output_type": "stream",
     "text": [
      "epoch: 2500, loss:0.1957292504998687\n"
     ]
    },
    {
     "name": "stderr",
     "output_type": "stream",
     "text": [
      " 87%|████████▋ | 2600/3000 [14:35<02:10,  3.06it/s]"
     ]
    },
    {
     "name": "stdout",
     "output_type": "stream",
     "text": [
      "epoch: 2600, loss:0.19397013080890577\n"
     ]
    },
    {
     "name": "stderr",
     "output_type": "stream",
     "text": [
      " 90%|█████████ | 2700/3000 [15:08<01:40,  2.99it/s]"
     ]
    },
    {
     "name": "stdout",
     "output_type": "stream",
     "text": [
      "epoch: 2700, loss:0.19255927106283083\n"
     ]
    },
    {
     "name": "stderr",
     "output_type": "stream",
     "text": [
      " 93%|█████████▎| 2800/3000 [15:42<01:06,  3.02it/s]"
     ]
    },
    {
     "name": "stdout",
     "output_type": "stream",
     "text": [
      "epoch: 2800, loss:0.19134406926457484\n"
     ]
    },
    {
     "name": "stderr",
     "output_type": "stream",
     "text": [
      " 97%|█████████▋| 2900/3000 [16:15<00:33,  3.00it/s]"
     ]
    },
    {
     "name": "stdout",
     "output_type": "stream",
     "text": [
      "epoch: 2900, loss:0.1903276187058442\n"
     ]
    },
    {
     "name": "stderr",
     "output_type": "stream",
     "text": [
      "100%|██████████| 3000/3000 [16:49<00:00,  2.97it/s]"
     ]
    },
    {
     "name": "stdout",
     "output_type": "stream",
     "text": [
      "epoch: 3000, loss:0.1891514927138509\n"
     ]
    },
    {
     "name": "stderr",
     "output_type": "stream",
     "text": [
      "\n"
     ]
    }
   ],
   "source": [
    "b_size = 32\n",
    "n_minibatch = len(train_data) //b_size\n",
    "print(f\"n_minibatches: {n_minibatch}\")\n",
    "for e in tqdm(range(3000)):\n",
    "    losses= []\n",
    "    for i in range(n_minibatch):\n",
    "        start = i*b_size\n",
    "        end = (i+1)*b_size\n",
    "        optimizer.zero_grad()\n",
    "\n",
    "        preds = cls(train_data[start:end])\n",
    "        ground = train_labs[start:end]\n",
    "        loss = criterion(preds,ground)\n",
    "        loss.backward()\n",
    "        optimizer.step()\n",
    "        losses.append(loss.item())\n",
    "\n",
    "    tot_loss = np.mean(losses)\n",
    "    if((e+1)%100)==0:\n",
    "        print(f'epoch: {e+1}, loss:{tot_loss}')\n",
    "\n"
   ]
  },
  {
   "cell_type": "code",
   "execution_count": 130,
   "id": "b0a0ee41",
   "metadata": {
    "execution": {
     "iopub.execute_input": "2025-09-02T17:44:50.008549Z",
     "iopub.status.busy": "2025-09-02T17:44:50.007964Z",
     "iopub.status.idle": "2025-09-02T17:44:50.020601Z",
     "shell.execute_reply": "2025-09-02T17:44:50.019788Z"
    },
    "id": "0goh5xAb5Gs2",
    "outputId": "abf95cd8-f1f6-4960-da7a-72725205e823",
    "papermill": {
     "duration": 0.294521,
     "end_time": "2025-09-02T17:44:50.022384",
     "exception": false,
     "start_time": "2025-09-02T17:44:49.727863",
     "status": "completed"
    },
    "tags": []
   },
   "outputs": [
    {
     "data": {
      "text/plain": [
       "<All keys matched successfully>"
      ]
     },
     "execution_count": 130,
     "metadata": {},
     "output_type": "execute_result"
    }
   ],
   "source": [
    "new_dict = model.state_dict()\n",
    "for k,v in cls.state_dict().items():\n",
    "    new_dict[k] = v\n",
    "model.load_state_dict(new_dict)"
   ]
  },
  {
   "cell_type": "code",
   "execution_count": 131,
   "id": "ade4cf4f",
   "metadata": {
    "execution": {
     "iopub.execute_input": "2025-09-02T17:44:50.591624Z",
     "iopub.status.busy": "2025-09-02T17:44:50.591005Z",
     "iopub.status.idle": "2025-09-02T17:44:50.599800Z",
     "shell.execute_reply": "2025-09-02T17:44:50.598997Z"
    },
    "id": "qpAU4gEg5Gs2",
    "outputId": "5864e88c-9942-495a-ced2-75465e8fcc11",
    "papermill": {
     "duration": 0.29946,
     "end_time": "2025-09-02T17:44:50.601449",
     "exception": false,
     "start_time": "2025-09-02T17:44:50.301989",
     "status": "completed"
    },
    "tags": []
   },
   "outputs": [
    {
     "data": {
      "text/plain": [
       "Parameter containing:\n",
       "tensor([[ 0.0028,  0.0055, -0.0100,  ...,  0.0187,  0.0022,  0.0027],\n",
       "        [ 0.0051, -0.0142, -0.0180,  ...,  0.0038,  0.0065,  0.0125],\n",
       "        [ 0.0071, -0.0112,  0.0040,  ...,  0.0169, -0.0154,  0.0054],\n",
       "        ...,\n",
       "        [ 0.0039, -0.0100,  0.0113,  ..., -0.0139,  0.0122, -0.0108],\n",
       "        [ 0.0176,  0.0124,  0.0071,  ..., -0.0004,  0.0119, -0.0008],\n",
       "        [-0.0080,  0.0153,  0.0179,  ..., -0.0166,  0.0090,  0.0100]],\n",
       "       device='cuda:0', requires_grad=True)"
      ]
     },
     "execution_count": 131,
     "metadata": {},
     "output_type": "execute_result"
    }
   ],
   "source": [
    "cls.cl1.weight"
   ]
  },
  {
   "cell_type": "code",
   "execution_count": 132,
   "id": "032c8d12",
   "metadata": {
    "execution": {
     "iopub.execute_input": "2025-09-02T17:44:51.219246Z",
     "iopub.status.busy": "2025-09-02T17:44:51.218902Z",
     "iopub.status.idle": "2025-09-02T17:44:51.227167Z",
     "shell.execute_reply": "2025-09-02T17:44:51.226444Z"
    },
    "id": "came7Mz15Gs2",
    "outputId": "c17bcdff-ae78-4f82-e291-207a67933657",
    "papermill": {
     "duration": 0.297128,
     "end_time": "2025-09-02T17:44:51.228744",
     "exception": false,
     "start_time": "2025-09-02T17:44:50.931616",
     "status": "completed"
    },
    "tags": []
   },
   "outputs": [
    {
     "data": {
      "text/plain": [
       "Parameter containing:\n",
       "tensor([[ 0.0028,  0.0055, -0.0100,  ...,  0.0187,  0.0022,  0.0027],\n",
       "        [ 0.0051, -0.0142, -0.0180,  ...,  0.0038,  0.0065,  0.0125],\n",
       "        [ 0.0071, -0.0112,  0.0040,  ...,  0.0169, -0.0154,  0.0054],\n",
       "        ...,\n",
       "        [ 0.0039, -0.0100,  0.0113,  ..., -0.0139,  0.0122, -0.0108],\n",
       "        [ 0.0176,  0.0124,  0.0071,  ..., -0.0004,  0.0119, -0.0008],\n",
       "        [-0.0080,  0.0153,  0.0179,  ..., -0.0166,  0.0090,  0.0100]],\n",
       "       device='cuda:0', requires_grad=True)"
      ]
     },
     "execution_count": 132,
     "metadata": {},
     "output_type": "execute_result"
    }
   ],
   "source": [
    "model.cl1.weight"
   ]
  },
  {
   "cell_type": "code",
   "execution_count": 133,
   "id": "145941dc",
   "metadata": {
    "execution": {
     "iopub.execute_input": "2025-09-02T17:44:51.795861Z",
     "iopub.status.busy": "2025-09-02T17:44:51.795536Z",
     "iopub.status.idle": "2025-09-02T17:44:55.152690Z",
     "shell.execute_reply": "2025-09-02T17:44:55.151639Z"
    },
    "id": "UmMZ0Djx5Gs2",
    "outputId": "96bee6bb-1ddb-414e-8dcb-853dea181c5e",
    "papermill": {
     "duration": 3.64169,
     "end_time": "2025-09-02T17:44:55.154404",
     "exception": false,
     "start_time": "2025-09-02T17:44:51.512714",
     "status": "completed"
    },
    "tags": []
   },
   "outputs": [
    {
     "name": "stdout",
     "output_type": "stream",
     "text": [
      "Encoding...\n",
      "input shape: (249, 410)\n",
      "Encoding complete\n"
     ]
    },
    {
     "name": "stderr",
     "output_type": "stream",
     "text": [
      "  0%|          | 0/8 [00:00<?, ?it/s]/tmp/ipykernel_24/537690395.py:5: UserWarning: To copy construct from a tensor, it is recommended to use sourceTensor.clone().detach() or sourceTensor.clone().detach().requires_grad_(True), rather than torch.tensor(sourceTensor).\n",
      "  return {key: torch.tensor(val[idx]) for key, val in self.encodings.items()}\n",
      "100%|██████████| 8/8 [00:03<00:00,  2.44it/s]"
     ]
    },
    {
     "name": "stdout",
     "output_type": "stream",
     "text": [
      "(249, 8) (249, 8)\n",
      "\n",
      "              precision    recall  f1-score   support\n",
      "\n",
      "        Rule       0.93      0.21      0.35       126\n",
      "        Prec       1.00      0.32      0.48        76\n",
      "        Itpr       0.62      0.10      0.17        52\n",
      "       Princ       0.23      0.17      0.19        18\n",
      "       Class       0.11      0.04      0.06        25\n",
      "         Aut       0.18      0.17      0.17        12\n",
      "        Syst       0.40      0.33      0.36         6\n",
      "        Tele       0.00      0.00      0.00         4\n",
      "\n",
      "   micro avg       0.65      0.20      0.31       319\n",
      "   macro avg       0.43      0.17      0.22       319\n",
      "weighted avg       0.74      0.20      0.31       319\n",
      " samples avg       0.24      0.23      0.23       319\n",
      "\n"
     ]
    },
    {
     "name": "stderr",
     "output_type": "stream",
     "text": [
      "\n",
      "/opt/conda/lib/python3.10/site-packages/sklearn/metrics/_classification.py:1344: UndefinedMetricWarning: Precision and F-score are ill-defined and being set to 0.0 in labels with no predicted samples. Use `zero_division` parameter to control this behavior.\n",
      "  _warn_prf(average, modifier, msg_start, len(result))\n",
      "/opt/conda/lib/python3.10/site-packages/sklearn/metrics/_classification.py:1344: UndefinedMetricWarning: Precision and F-score are ill-defined and being set to 0.0 in samples with no predicted labels. Use `zero_division` parameter to control this behavior.\n",
      "  _warn_prf(average, modifier, msg_start, len(result))\n"
     ]
    }
   ],
   "source": [
    "from sklearn.metrics import classification_report,f1_score\n",
    "\n",
    "\n",
    "TRAIN = False\n",
    "if scheme:\n",
    "\n",
    "    #y_pred = base_model.predict(base_test_encodings)\n",
    "\n",
    "    #print(\"\\n Baseline: \\n\"+classification_report(df_test['Scheme'], y_pred))\n",
    "\n",
    "    if TRAIN:\n",
    "        train_encodings = encode(tokenizer,df_train,train_labels,scheme,include_previous=INCLUDE_PREVIOUS)\n",
    "        train_dataset = CustomTorchDataset(train_encodings)\n",
    "    else:\n",
    "        test_encodings = encode(tokenizer,df_test,test_labels,scheme,include_previous=INCLUDE_PREVIOUS)\n",
    "        test_dataset = CustomTorchDataset(test_encodings)\n",
    "\n",
    "\n",
    "    #create test dataloader\n",
    "\n",
    "    data_loader_test = torch.utils.data.DataLoader(test_dataset,\n",
    "\n",
    "                                        batch_size=batch_size,\n",
    "\n",
    "                                        shuffle = False)\n",
    "    if TRAIN:\n",
    "        data_loader_train = torch.utils.data.DataLoader(train_dataset,batch_size=batch_size,shuffle = False)\n",
    "        train_predictions = evaluate(model, data_loader_train)\n",
    "    \n",
    "    test_predictions = evaluate(model, data_loader_test)\n",
    "    if TRAIN:\n",
    "        y_pred = np.where(train_predictions<0.5, 0., 1.)\n",
    "        y_true = np.array(train_labels)\n",
    "    else:\n",
    "        y_pred = np.where(test_predictions<0.5, 0., 1.)\n",
    "        y_true = np.array(test_labels)\n",
    "\n",
    "\n",
    "    #print(y_pred)\n",
    "\n",
    "\n",
    "    print(y_true.shape,y_pred.shape)\n",
    "    print(\"\\n\"+classification_report(y_true, y_pred,target_names = sc_classes))"
   ]
  },
  {
   "cell_type": "code",
   "execution_count": null,
   "id": "ee8f7eff",
   "metadata": {
    "papermill": {
     "duration": 0.297192,
     "end_time": "2025-09-02T17:44:55.810712",
     "exception": false,
     "start_time": "2025-09-02T17:44:55.513520",
     "status": "completed"
    },
    "tags": []
   },
   "outputs": [],
   "source": []
  }
 ],
 "metadata": {
  "accelerator": "GPU",
  "colab": {
   "gpuType": "T4",
   "include_colab_link": true,
   "name": "nlp_pw",
   "provenance": [],
   "toc_visible": true
  },
  "kaggle": {
   "accelerator": "gpu",
   "dataSources": [
    {
     "databundleVersionId": 13595790,
     "datasetId": 5090522,
     "sourceId": 12939925,
     "sourceType": "datasetVersion"
    }
   ],
   "dockerImageVersionId": 30715,
   "isGpuEnabled": true,
   "isInternetEnabled": true,
   "language": "python",
   "sourceType": "notebook"
  },
  "kernelspec": {
   "display_name": "Python 3",
   "language": "python",
   "name": "python3"
  },
  "language_info": {
   "codemirror_mode": {
    "name": "ipython",
    "version": 3
   },
   "file_extension": ".py",
   "mimetype": "text/x-python",
   "name": "python",
   "nbconvert_exporter": "python",
   "pygments_lexer": "ipython3",
   "version": "3.10.13"
  },
  "papermill": {
   "default_parameters": {},
   "duration": 2297.274222,
   "end_time": "2025-09-02T17:44:59.603379",
   "environment_variables": {},
   "exception": null,
   "input_path": "__notebook__.ipynb",
   "output_path": "__notebook__.ipynb",
   "parameters": {},
   "start_time": "2025-09-02T17:06:42.329157",
   "version": "2.5.0"
  },
  "widgets": {
   "application/vnd.jupyter.widget-state+json": {
    "state": {
     "001b7224c39b4dba9d24c52accf8cf19": {
      "model_module": "@jupyter-widgets/base",
      "model_module_version": "1.2.0",
      "model_name": "LayoutModel",
      "state": {
       "_model_module": "@jupyter-widgets/base",
       "_model_module_version": "1.2.0",
       "_model_name": "LayoutModel",
       "_view_count": null,
       "_view_module": "@jupyter-widgets/base",
       "_view_module_version": "1.2.0",
       "_view_name": "LayoutView",
       "align_content": null,
       "align_items": null,
       "align_self": null,
       "border": null,
       "bottom": null,
       "display": null,
       "flex": null,
       "flex_flow": null,
       "grid_area": null,
       "grid_auto_columns": null,
       "grid_auto_flow": null,
       "grid_auto_rows": null,
       "grid_column": null,
       "grid_gap": null,
       "grid_row": null,
       "grid_template_areas": null,
       "grid_template_columns": null,
       "grid_template_rows": null,
       "height": null,
       "justify_content": null,
       "justify_items": null,
       "left": null,
       "margin": null,
       "max_height": null,
       "max_width": null,
       "min_height": null,
       "min_width": null,
       "object_fit": null,
       "object_position": null,
       "order": null,
       "overflow": null,
       "overflow_x": null,
       "overflow_y": null,
       "padding": null,
       "right": null,
       "top": null,
       "visibility": null,
       "width": null
      }
     },
     "007d2068b800497ba36c50bb9c690be5": {
      "model_module": "@jupyter-widgets/base",
      "model_module_version": "1.2.0",
      "model_name": "LayoutModel",
      "state": {
       "_model_module": "@jupyter-widgets/base",
       "_model_module_version": "1.2.0",
       "_model_name": "LayoutModel",
       "_view_count": null,
       "_view_module": "@jupyter-widgets/base",
       "_view_module_version": "1.2.0",
       "_view_name": "LayoutView",
       "align_content": null,
       "align_items": null,
       "align_self": null,
       "border": null,
       "bottom": null,
       "display": null,
       "flex": null,
       "flex_flow": null,
       "grid_area": null,
       "grid_auto_columns": null,
       "grid_auto_flow": null,
       "grid_auto_rows": null,
       "grid_column": null,
       "grid_gap": null,
       "grid_row": null,
       "grid_template_areas": null,
       "grid_template_columns": null,
       "grid_template_rows": null,
       "height": null,
       "justify_content": null,
       "justify_items": null,
       "left": null,
       "margin": null,
       "max_height": null,
       "max_width": null,
       "min_height": null,
       "min_width": null,
       "object_fit": null,
       "object_position": null,
       "order": null,
       "overflow": null,
       "overflow_x": null,
       "overflow_y": null,
       "padding": null,
       "right": null,
       "top": null,
       "visibility": null,
       "width": null
      }
     },
     "015e3e4e038b4a24b1269b2b1bc198d1": {
      "model_module": "@jupyter-widgets/base",
      "model_module_version": "1.2.0",
      "model_name": "LayoutModel",
      "state": {
       "_model_module": "@jupyter-widgets/base",
       "_model_module_version": "1.2.0",
       "_model_name": "LayoutModel",
       "_view_count": null,
       "_view_module": "@jupyter-widgets/base",
       "_view_module_version": "1.2.0",
       "_view_name": "LayoutView",
       "align_content": null,
       "align_items": null,
       "align_self": null,
       "border": null,
       "bottom": null,
       "display": null,
       "flex": null,
       "flex_flow": null,
       "grid_area": null,
       "grid_auto_columns": null,
       "grid_auto_flow": null,
       "grid_auto_rows": null,
       "grid_column": null,
       "grid_gap": null,
       "grid_row": null,
       "grid_template_areas": null,
       "grid_template_columns": null,
       "grid_template_rows": null,
       "height": null,
       "justify_content": null,
       "justify_items": null,
       "left": null,
       "margin": null,
       "max_height": null,
       "max_width": null,
       "min_height": null,
       "min_width": null,
       "object_fit": null,
       "object_position": null,
       "order": null,
       "overflow": null,
       "overflow_x": null,
       "overflow_y": null,
       "padding": null,
       "right": null,
       "top": null,
       "visibility": null,
       "width": null
      }
     },
     "0398d6d808bd4ea6b271205c74884679": {
      "model_module": "@jupyter-widgets/controls",
      "model_module_version": "1.5.0",
      "model_name": "HBoxModel",
      "state": {
       "_dom_classes": [],
       "_model_module": "@jupyter-widgets/controls",
       "_model_module_version": "1.5.0",
       "_model_name": "HBoxModel",
       "_view_count": null,
       "_view_module": "@jupyter-widgets/controls",
       "_view_module_version": "1.5.0",
       "_view_name": "HBoxView",
       "box_style": "",
       "children": [
        "IPY_MODEL_36006870c112416aad96c72290179845",
        "IPY_MODEL_ea460a3fac8f4e0381e9643f3beb90cb",
        "IPY_MODEL_2220bb8499b042999e4ec58f40209e87"
       ],
       "layout": "IPY_MODEL_4f549f18c61a4a6daac2360728b914e4"
      }
     },
     "048c5b74d65b4499b82a168e272726d5": {
      "model_module": "@jupyter-widgets/controls",
      "model_module_version": "1.5.0",
      "model_name": "DescriptionStyleModel",
      "state": {
       "_model_module": "@jupyter-widgets/controls",
       "_model_module_version": "1.5.0",
       "_model_name": "DescriptionStyleModel",
       "_view_count": null,
       "_view_module": "@jupyter-widgets/base",
       "_view_module_version": "1.2.0",
       "_view_name": "StyleView",
       "description_width": ""
      }
     },
     "05f3edb3d458435092ea9e470cd191cd": {
      "model_module": "@jupyter-widgets/controls",
      "model_module_version": "1.5.0",
      "model_name": "HTMLModel",
      "state": {
       "_dom_classes": [],
       "_model_module": "@jupyter-widgets/controls",
       "_model_module_version": "1.5.0",
       "_model_name": "HTMLModel",
       "_view_count": null,
       "_view_module": "@jupyter-widgets/controls",
       "_view_module_version": "1.5.0",
       "_view_name": "HTMLView",
       "description": "",
       "description_tooltip": null,
       "layout": "IPY_MODEL_3907401f4fa2478e83e9b1d6ec8717dc",
       "placeholder": "​",
       "style": "IPY_MODEL_c2be67e9e4c24ce78df201df8dd24da2",
       "value": "tokenizer_config.json: 100%"
      }
     },
     "09a1f2c456e541e4b4e5dad2e5b4df1b": {
      "model_module": "@jupyter-widgets/base",
      "model_module_version": "1.2.0",
      "model_name": "LayoutModel",
      "state": {
       "_model_module": "@jupyter-widgets/base",
       "_model_module_version": "1.2.0",
       "_model_name": "LayoutModel",
       "_view_count": null,
       "_view_module": "@jupyter-widgets/base",
       "_view_module_version": "1.2.0",
       "_view_name": "LayoutView",
       "align_content": null,
       "align_items": null,
       "align_self": null,
       "border": null,
       "bottom": null,
       "display": null,
       "flex": null,
       "flex_flow": null,
       "grid_area": null,
       "grid_auto_columns": null,
       "grid_auto_flow": null,
       "grid_auto_rows": null,
       "grid_column": null,
       "grid_gap": null,
       "grid_row": null,
       "grid_template_areas": null,
       "grid_template_columns": null,
       "grid_template_rows": null,
       "height": null,
       "justify_content": null,
       "justify_items": null,
       "left": null,
       "margin": null,
       "max_height": null,
       "max_width": null,
       "min_height": null,
       "min_width": null,
       "object_fit": null,
       "object_position": null,
       "order": null,
       "overflow": null,
       "overflow_x": null,
       "overflow_y": null,
       "padding": null,
       "right": null,
       "top": null,
       "visibility": null,
       "width": null
      }
     },
     "0a2e41ca4eec4810897425ec8f5ad998": {
      "model_module": "@jupyter-widgets/controls",
      "model_module_version": "1.5.0",
      "model_name": "HBoxModel",
      "state": {
       "_dom_classes": [],
       "_model_module": "@jupyter-widgets/controls",
       "_model_module_version": "1.5.0",
       "_model_name": "HBoxModel",
       "_view_count": null,
       "_view_module": "@jupyter-widgets/controls",
       "_view_module_version": "1.5.0",
       "_view_name": "HBoxView",
       "box_style": "",
       "children": [
        "IPY_MODEL_a58c17e3f92340dc8d2fa31e445def37",
        "IPY_MODEL_706141b99b934c36a1684b34f3f2bdd9",
        "IPY_MODEL_224d8cd3d4b94363ab3d129ece5bedea"
       ],
       "layout": "IPY_MODEL_2863200db1cd4a47b4f022ab5ee4ea68"
      }
     },
     "0e57888d0b6c4c7cb3b4daf1fd86a478": {
      "model_module": "@jupyter-widgets/controls",
      "model_module_version": "1.5.0",
      "model_name": "DescriptionStyleModel",
      "state": {
       "_model_module": "@jupyter-widgets/controls",
       "_model_module_version": "1.5.0",
       "_model_name": "DescriptionStyleModel",
       "_view_count": null,
       "_view_module": "@jupyter-widgets/base",
       "_view_module_version": "1.2.0",
       "_view_name": "StyleView",
       "description_width": ""
      }
     },
     "162d360a0aae4af1bf1a96290a72e41d": {
      "model_module": "@jupyter-widgets/base",
      "model_module_version": "1.2.0",
      "model_name": "LayoutModel",
      "state": {
       "_model_module": "@jupyter-widgets/base",
       "_model_module_version": "1.2.0",
       "_model_name": "LayoutModel",
       "_view_count": null,
       "_view_module": "@jupyter-widgets/base",
       "_view_module_version": "1.2.0",
       "_view_name": "LayoutView",
       "align_content": null,
       "align_items": null,
       "align_self": null,
       "border": null,
       "bottom": null,
       "display": null,
       "flex": null,
       "flex_flow": null,
       "grid_area": null,
       "grid_auto_columns": null,
       "grid_auto_flow": null,
       "grid_auto_rows": null,
       "grid_column": null,
       "grid_gap": null,
       "grid_row": null,
       "grid_template_areas": null,
       "grid_template_columns": null,
       "grid_template_rows": null,
       "height": null,
       "justify_content": null,
       "justify_items": null,
       "left": null,
       "margin": null,
       "max_height": null,
       "max_width": null,
       "min_height": null,
       "min_width": null,
       "object_fit": null,
       "object_position": null,
       "order": null,
       "overflow": null,
       "overflow_x": null,
       "overflow_y": null,
       "padding": null,
       "right": null,
       "top": null,
       "visibility": null,
       "width": null
      }
     },
     "217ed4b899974e42b170d8bc10d04076": {
      "model_module": "@jupyter-widgets/base",
      "model_module_version": "1.2.0",
      "model_name": "LayoutModel",
      "state": {
       "_model_module": "@jupyter-widgets/base",
       "_model_module_version": "1.2.0",
       "_model_name": "LayoutModel",
       "_view_count": null,
       "_view_module": "@jupyter-widgets/base",
       "_view_module_version": "1.2.0",
       "_view_name": "LayoutView",
       "align_content": null,
       "align_items": null,
       "align_self": null,
       "border": null,
       "bottom": null,
       "display": null,
       "flex": null,
       "flex_flow": null,
       "grid_area": null,
       "grid_auto_columns": null,
       "grid_auto_flow": null,
       "grid_auto_rows": null,
       "grid_column": null,
       "grid_gap": null,
       "grid_row": null,
       "grid_template_areas": null,
       "grid_template_columns": null,
       "grid_template_rows": null,
       "height": null,
       "justify_content": null,
       "justify_items": null,
       "left": null,
       "margin": null,
       "max_height": null,
       "max_width": null,
       "min_height": null,
       "min_width": null,
       "object_fit": null,
       "object_position": null,
       "order": null,
       "overflow": null,
       "overflow_x": null,
       "overflow_y": null,
       "padding": null,
       "right": null,
       "top": null,
       "visibility": null,
       "width": "20px"
      }
     },
     "2220bb8499b042999e4ec58f40209e87": {
      "model_module": "@jupyter-widgets/controls",
      "model_module_version": "1.5.0",
      "model_name": "HTMLModel",
      "state": {
       "_dom_classes": [],
       "_model_module": "@jupyter-widgets/controls",
       "_model_module_version": "1.5.0",
       "_model_name": "HTMLModel",
       "_view_count": null,
       "_view_module": "@jupyter-widgets/controls",
       "_view_module_version": "1.5.0",
       "_view_name": "HTMLView",
       "description": "",
       "description_tooltip": null,
       "layout": "IPY_MODEL_162d360a0aae4af1bf1a96290a72e41d",
       "placeholder": "​",
       "style": "IPY_MODEL_048c5b74d65b4499b82a168e272726d5",
       "value": " 235k/? [00:00&lt;00:00, 12.5MB/s]"
      }
     },
     "224d8cd3d4b94363ab3d129ece5bedea": {
      "model_module": "@jupyter-widgets/controls",
      "model_module_version": "1.5.0",
      "model_name": "HTMLModel",
      "state": {
       "_dom_classes": [],
       "_model_module": "@jupyter-widgets/controls",
       "_model_module_version": "1.5.0",
       "_model_name": "HTMLModel",
       "_view_count": null,
       "_view_module": "@jupyter-widgets/controls",
       "_view_module_version": "1.5.0",
       "_view_name": "HTMLView",
       "description": "",
       "description_tooltip": null,
       "layout": "IPY_MODEL_cec1bbbcbdab436daa02965beba3e2de",
       "placeholder": "​",
       "style": "IPY_MODEL_0e57888d0b6c4c7cb3b4daf1fd86a478",
       "value": " 614/614 [00:00&lt;00:00, 72.0kB/s]"
      }
     },
     "2649f289aa2a4cbd9f976f40c382be91": {
      "model_module": "@jupyter-widgets/base",
      "model_module_version": "1.2.0",
      "model_name": "LayoutModel",
      "state": {
       "_model_module": "@jupyter-widgets/base",
       "_model_module_version": "1.2.0",
       "_model_name": "LayoutModel",
       "_view_count": null,
       "_view_module": "@jupyter-widgets/base",
       "_view_module_version": "1.2.0",
       "_view_name": "LayoutView",
       "align_content": null,
       "align_items": null,
       "align_self": null,
       "border": null,
       "bottom": null,
       "display": null,
       "flex": null,
       "flex_flow": null,
       "grid_area": null,
       "grid_auto_columns": null,
       "grid_auto_flow": null,
       "grid_auto_rows": null,
       "grid_column": null,
       "grid_gap": null,
       "grid_row": null,
       "grid_template_areas": null,
       "grid_template_columns": null,
       "grid_template_rows": null,
       "height": null,
       "justify_content": null,
       "justify_items": null,
       "left": null,
       "margin": null,
       "max_height": null,
       "max_width": null,
       "min_height": null,
       "min_width": null,
       "object_fit": null,
       "object_position": null,
       "order": null,
       "overflow": null,
       "overflow_x": null,
       "overflow_y": null,
       "padding": null,
       "right": null,
       "top": null,
       "visibility": null,
       "width": null
      }
     },
     "2852aaff018e4e6a85a412c9f554696f": {
      "model_module": "@jupyter-widgets/controls",
      "model_module_version": "1.5.0",
      "model_name": "ProgressStyleModel",
      "state": {
       "_model_module": "@jupyter-widgets/controls",
       "_model_module_version": "1.5.0",
       "_model_name": "ProgressStyleModel",
       "_view_count": null,
       "_view_module": "@jupyter-widgets/base",
       "_view_module_version": "1.2.0",
       "_view_name": "StyleView",
       "bar_color": null,
       "description_width": ""
      }
     },
     "2863200db1cd4a47b4f022ab5ee4ea68": {
      "model_module": "@jupyter-widgets/base",
      "model_module_version": "1.2.0",
      "model_name": "LayoutModel",
      "state": {
       "_model_module": "@jupyter-widgets/base",
       "_model_module_version": "1.2.0",
       "_model_name": "LayoutModel",
       "_view_count": null,
       "_view_module": "@jupyter-widgets/base",
       "_view_module_version": "1.2.0",
       "_view_name": "LayoutView",
       "align_content": null,
       "align_items": null,
       "align_self": null,
       "border": null,
       "bottom": null,
       "display": null,
       "flex": null,
       "flex_flow": null,
       "grid_area": null,
       "grid_auto_columns": null,
       "grid_auto_flow": null,
       "grid_auto_rows": null,
       "grid_column": null,
       "grid_gap": null,
       "grid_row": null,
       "grid_template_areas": null,
       "grid_template_columns": null,
       "grid_template_rows": null,
       "height": null,
       "justify_content": null,
       "justify_items": null,
       "left": null,
       "margin": null,
       "max_height": null,
       "max_width": null,
       "min_height": null,
       "min_width": null,
       "object_fit": null,
       "object_position": null,
       "order": null,
       "overflow": null,
       "overflow_x": null,
       "overflow_y": null,
       "padding": null,
       "right": null,
       "top": null,
       "visibility": null,
       "width": null
      }
     },
     "2d3358572b4d46f28d8d6ed5610b3f58": {
      "model_module": "@jupyter-widgets/base",
      "model_module_version": "1.2.0",
      "model_name": "LayoutModel",
      "state": {
       "_model_module": "@jupyter-widgets/base",
       "_model_module_version": "1.2.0",
       "_model_name": "LayoutModel",
       "_view_count": null,
       "_view_module": "@jupyter-widgets/base",
       "_view_module_version": "1.2.0",
       "_view_name": "LayoutView",
       "align_content": null,
       "align_items": null,
       "align_self": null,
       "border": null,
       "bottom": null,
       "display": null,
       "flex": null,
       "flex_flow": null,
       "grid_area": null,
       "grid_auto_columns": null,
       "grid_auto_flow": null,
       "grid_auto_rows": null,
       "grid_column": null,
       "grid_gap": null,
       "grid_row": null,
       "grid_template_areas": null,
       "grid_template_columns": null,
       "grid_template_rows": null,
       "height": null,
       "justify_content": null,
       "justify_items": null,
       "left": null,
       "margin": null,
       "max_height": null,
       "max_width": null,
       "min_height": null,
       "min_width": null,
       "object_fit": null,
       "object_position": null,
       "order": null,
       "overflow": null,
       "overflow_x": null,
       "overflow_y": null,
       "padding": null,
       "right": null,
       "top": null,
       "visibility": null,
       "width": null
      }
     },
     "327bbd2deaca4067a27b4e62ecd24808": {
      "model_module": "@jupyter-widgets/base",
      "model_module_version": "1.2.0",
      "model_name": "LayoutModel",
      "state": {
       "_model_module": "@jupyter-widgets/base",
       "_model_module_version": "1.2.0",
       "_model_name": "LayoutModel",
       "_view_count": null,
       "_view_module": "@jupyter-widgets/base",
       "_view_module_version": "1.2.0",
       "_view_name": "LayoutView",
       "align_content": null,
       "align_items": null,
       "align_self": null,
       "border": null,
       "bottom": null,
       "display": null,
       "flex": null,
       "flex_flow": null,
       "grid_area": null,
       "grid_auto_columns": null,
       "grid_auto_flow": null,
       "grid_auto_rows": null,
       "grid_column": null,
       "grid_gap": null,
       "grid_row": null,
       "grid_template_areas": null,
       "grid_template_columns": null,
       "grid_template_rows": null,
       "height": null,
       "justify_content": null,
       "justify_items": null,
       "left": null,
       "margin": null,
       "max_height": null,
       "max_width": null,
       "min_height": null,
       "min_width": null,
       "object_fit": null,
       "object_position": null,
       "order": null,
       "overflow": null,
       "overflow_x": null,
       "overflow_y": null,
       "padding": null,
       "right": null,
       "top": null,
       "visibility": null,
       "width": null
      }
     },
     "34a47e4c4abc436aaa953f645663c2a8": {
      "model_module": "@jupyter-widgets/controls",
      "model_module_version": "1.5.0",
      "model_name": "ProgressStyleModel",
      "state": {
       "_model_module": "@jupyter-widgets/controls",
       "_model_module_version": "1.5.0",
       "_model_name": "ProgressStyleModel",
       "_view_count": null,
       "_view_module": "@jupyter-widgets/base",
       "_view_module_version": "1.2.0",
       "_view_name": "StyleView",
       "bar_color": null,
       "description_width": ""
      }
     },
     "36006870c112416aad96c72290179845": {
      "model_module": "@jupyter-widgets/controls",
      "model_module_version": "1.5.0",
      "model_name": "HTMLModel",
      "state": {
       "_dom_classes": [],
       "_model_module": "@jupyter-widgets/controls",
       "_model_module_version": "1.5.0",
       "_model_name": "HTMLModel",
       "_view_count": null,
       "_view_module": "@jupyter-widgets/controls",
       "_view_module_version": "1.5.0",
       "_view_name": "HTMLView",
       "description": "",
       "description_tooltip": null,
       "layout": "IPY_MODEL_f569db920cb14b81bb7c33ff7e73faa6",
       "placeholder": "​",
       "style": "IPY_MODEL_9f9752048057483bb69e67ccf5690d9e",
       "value": "vocab.txt: "
      }
     },
     "37eb1af4cf444670b04c03c0129e0468": {
      "model_module": "@jupyter-widgets/controls",
      "model_module_version": "1.5.0",
      "model_name": "HTMLModel",
      "state": {
       "_dom_classes": [],
       "_model_module": "@jupyter-widgets/controls",
       "_model_module_version": "1.5.0",
       "_model_name": "HTMLModel",
       "_view_count": null,
       "_view_module": "@jupyter-widgets/controls",
       "_view_module_version": "1.5.0",
       "_view_name": "HTMLView",
       "description": "",
       "description_tooltip": null,
       "layout": "IPY_MODEL_007d2068b800497ba36c50bb9c690be5",
       "placeholder": "​",
       "style": "IPY_MODEL_4216ed86a4a24b8599431d356988b7eb",
       "value": "model.safetensors: 100%"
      }
     },
     "3907401f4fa2478e83e9b1d6ec8717dc": {
      "model_module": "@jupyter-widgets/base",
      "model_module_version": "1.2.0",
      "model_name": "LayoutModel",
      "state": {
       "_model_module": "@jupyter-widgets/base",
       "_model_module_version": "1.2.0",
       "_model_name": "LayoutModel",
       "_view_count": null,
       "_view_module": "@jupyter-widgets/base",
       "_view_module_version": "1.2.0",
       "_view_name": "LayoutView",
       "align_content": null,
       "align_items": null,
       "align_self": null,
       "border": null,
       "bottom": null,
       "display": null,
       "flex": null,
       "flex_flow": null,
       "grid_area": null,
       "grid_auto_columns": null,
       "grid_auto_flow": null,
       "grid_auto_rows": null,
       "grid_column": null,
       "grid_gap": null,
       "grid_row": null,
       "grid_template_areas": null,
       "grid_template_columns": null,
       "grid_template_rows": null,
       "height": null,
       "justify_content": null,
       "justify_items": null,
       "left": null,
       "margin": null,
       "max_height": null,
       "max_width": null,
       "min_height": null,
       "min_width": null,
       "object_fit": null,
       "object_position": null,
       "order": null,
       "overflow": null,
       "overflow_x": null,
       "overflow_y": null,
       "padding": null,
       "right": null,
       "top": null,
       "visibility": null,
       "width": null
      }
     },
     "4085b191d5ad48638daae8fc66fb2291": {
      "model_module": "@jupyter-widgets/controls",
      "model_module_version": "1.5.0",
      "model_name": "HTMLModel",
      "state": {
       "_dom_classes": [],
       "_model_module": "@jupyter-widgets/controls",
       "_model_module_version": "1.5.0",
       "_model_name": "HTMLModel",
       "_view_count": null,
       "_view_module": "@jupyter-widgets/controls",
       "_view_module_version": "1.5.0",
       "_view_name": "HTMLView",
       "description": "",
       "description_tooltip": null,
       "layout": "IPY_MODEL_2d3358572b4d46f28d8d6ed5610b3f58",
       "placeholder": "​",
       "style": "IPY_MODEL_af6388b2c5734dfcb8de3440fe8b151d",
       "value": " 112/112 [00:00&lt;00:00, 11.8kB/s]"
      }
     },
     "4216ed86a4a24b8599431d356988b7eb": {
      "model_module": "@jupyter-widgets/controls",
      "model_module_version": "1.5.0",
      "model_name": "DescriptionStyleModel",
      "state": {
       "_model_module": "@jupyter-widgets/controls",
       "_model_module_version": "1.5.0",
       "_model_name": "DescriptionStyleModel",
       "_view_count": null,
       "_view_module": "@jupyter-widgets/base",
       "_view_module_version": "1.2.0",
       "_view_name": "StyleView",
       "description_width": ""
      }
     },
     "4b8995a1731f4093a7b5d240fa103fc2": {
      "model_module": "@jupyter-widgets/base",
      "model_module_version": "1.2.0",
      "model_name": "LayoutModel",
      "state": {
       "_model_module": "@jupyter-widgets/base",
       "_model_module_version": "1.2.0",
       "_model_name": "LayoutModel",
       "_view_count": null,
       "_view_module": "@jupyter-widgets/base",
       "_view_module_version": "1.2.0",
       "_view_name": "LayoutView",
       "align_content": null,
       "align_items": null,
       "align_self": null,
       "border": null,
       "bottom": null,
       "display": null,
       "flex": null,
       "flex_flow": null,
       "grid_area": null,
       "grid_auto_columns": null,
       "grid_auto_flow": null,
       "grid_auto_rows": null,
       "grid_column": null,
       "grid_gap": null,
       "grid_row": null,
       "grid_template_areas": null,
       "grid_template_columns": null,
       "grid_template_rows": null,
       "height": null,
       "justify_content": null,
       "justify_items": null,
       "left": null,
       "margin": null,
       "max_height": null,
       "max_width": null,
       "min_height": null,
       "min_width": null,
       "object_fit": null,
       "object_position": null,
       "order": null,
       "overflow": null,
       "overflow_x": null,
       "overflow_y": null,
       "padding": null,
       "right": null,
       "top": null,
       "visibility": null,
       "width": null
      }
     },
     "4f549f18c61a4a6daac2360728b914e4": {
      "model_module": "@jupyter-widgets/base",
      "model_module_version": "1.2.0",
      "model_name": "LayoutModel",
      "state": {
       "_model_module": "@jupyter-widgets/base",
       "_model_module_version": "1.2.0",
       "_model_name": "LayoutModel",
       "_view_count": null,
       "_view_module": "@jupyter-widgets/base",
       "_view_module_version": "1.2.0",
       "_view_name": "LayoutView",
       "align_content": null,
       "align_items": null,
       "align_self": null,
       "border": null,
       "bottom": null,
       "display": null,
       "flex": null,
       "flex_flow": null,
       "grid_area": null,
       "grid_auto_columns": null,
       "grid_auto_flow": null,
       "grid_auto_rows": null,
       "grid_column": null,
       "grid_gap": null,
       "grid_row": null,
       "grid_template_areas": null,
       "grid_template_columns": null,
       "grid_template_rows": null,
       "height": null,
       "justify_content": null,
       "justify_items": null,
       "left": null,
       "margin": null,
       "max_height": null,
       "max_width": null,
       "min_height": null,
       "min_width": null,
       "object_fit": null,
       "object_position": null,
       "order": null,
       "overflow": null,
       "overflow_x": null,
       "overflow_y": null,
       "padding": null,
       "right": null,
       "top": null,
       "visibility": null,
       "width": null
      }
     },
     "5016edcf05604bd0976d1b4c39657d1e": {
      "model_module": "@jupyter-widgets/controls",
      "model_module_version": "1.5.0",
      "model_name": "HBoxModel",
      "state": {
       "_dom_classes": [],
       "_model_module": "@jupyter-widgets/controls",
       "_model_module_version": "1.5.0",
       "_model_name": "HBoxModel",
       "_view_count": null,
       "_view_module": "@jupyter-widgets/controls",
       "_view_module_version": "1.5.0",
       "_view_name": "HBoxView",
       "box_style": "",
       "children": [
        "IPY_MODEL_37eb1af4cf444670b04c03c0129e0468",
        "IPY_MODEL_c0ee23dba353454dabcade0157d44665",
        "IPY_MODEL_f0ce01f602454f54aed8d7febdc70edb"
       ],
       "layout": "IPY_MODEL_327bbd2deaca4067a27b4e62ecd24808"
      }
     },
     "515d6c2d262e474f9d9e8f1ef082d41d": {
      "model_module": "@jupyter-widgets/controls",
      "model_module_version": "1.5.0",
      "model_name": "ProgressStyleModel",
      "state": {
       "_model_module": "@jupyter-widgets/controls",
       "_model_module_version": "1.5.0",
       "_model_name": "ProgressStyleModel",
       "_view_count": null,
       "_view_module": "@jupyter-widgets/base",
       "_view_module_version": "1.2.0",
       "_view_name": "StyleView",
       "bar_color": null,
       "description_width": ""
      }
     },
     "59850b6f1f934fb39a7edbfe57b4356e": {
      "model_module": "@jupyter-widgets/base",
      "model_module_version": "1.2.0",
      "model_name": "LayoutModel",
      "state": {
       "_model_module": "@jupyter-widgets/base",
       "_model_module_version": "1.2.0",
       "_model_name": "LayoutModel",
       "_view_count": null,
       "_view_module": "@jupyter-widgets/base",
       "_view_module_version": "1.2.0",
       "_view_name": "LayoutView",
       "align_content": null,
       "align_items": null,
       "align_self": null,
       "border": null,
       "bottom": null,
       "display": null,
       "flex": null,
       "flex_flow": null,
       "grid_area": null,
       "grid_auto_columns": null,
       "grid_auto_flow": null,
       "grid_auto_rows": null,
       "grid_column": null,
       "grid_gap": null,
       "grid_row": null,
       "grid_template_areas": null,
       "grid_template_columns": null,
       "grid_template_rows": null,
       "height": null,
       "justify_content": null,
       "justify_items": null,
       "left": null,
       "margin": null,
       "max_height": null,
       "max_width": null,
       "min_height": null,
       "min_width": null,
       "object_fit": null,
       "object_position": null,
       "order": null,
       "overflow": null,
       "overflow_x": null,
       "overflow_y": null,
       "padding": null,
       "right": null,
       "top": null,
       "visibility": null,
       "width": null
      }
     },
     "64d66a3285ed43c7a1e5bc39ab5cebc8": {
      "model_module": "@jupyter-widgets/base",
      "model_module_version": "1.2.0",
      "model_name": "LayoutModel",
      "state": {
       "_model_module": "@jupyter-widgets/base",
       "_model_module_version": "1.2.0",
       "_model_name": "LayoutModel",
       "_view_count": null,
       "_view_module": "@jupyter-widgets/base",
       "_view_module_version": "1.2.0",
       "_view_name": "LayoutView",
       "align_content": null,
       "align_items": null,
       "align_self": null,
       "border": null,
       "bottom": null,
       "display": null,
       "flex": null,
       "flex_flow": null,
       "grid_area": null,
       "grid_auto_columns": null,
       "grid_auto_flow": null,
       "grid_auto_rows": null,
       "grid_column": null,
       "grid_gap": null,
       "grid_row": null,
       "grid_template_areas": null,
       "grid_template_columns": null,
       "grid_template_rows": null,
       "height": null,
       "justify_content": null,
       "justify_items": null,
       "left": null,
       "margin": null,
       "max_height": null,
       "max_width": null,
       "min_height": null,
       "min_width": null,
       "object_fit": null,
       "object_position": null,
       "order": null,
       "overflow": null,
       "overflow_x": null,
       "overflow_y": null,
       "padding": null,
       "right": null,
       "top": null,
       "visibility": null,
       "width": null
      }
     },
     "661deac4c2084347b9cd5e71dbddebff": {
      "model_module": "@jupyter-widgets/controls",
      "model_module_version": "1.5.0",
      "model_name": "ProgressStyleModel",
      "state": {
       "_model_module": "@jupyter-widgets/controls",
       "_model_module_version": "1.5.0",
       "_model_name": "ProgressStyleModel",
       "_view_count": null,
       "_view_module": "@jupyter-widgets/base",
       "_view_module_version": "1.2.0",
       "_view_name": "StyleView",
       "bar_color": null,
       "description_width": ""
      }
     },
     "663db90d627a4467a542c49f2175f514": {
      "model_module": "@jupyter-widgets/controls",
      "model_module_version": "1.5.0",
      "model_name": "FloatProgressModel",
      "state": {
       "_dom_classes": [],
       "_model_module": "@jupyter-widgets/controls",
       "_model_module_version": "1.5.0",
       "_model_name": "FloatProgressModel",
       "_view_count": null,
       "_view_module": "@jupyter-widgets/controls",
       "_view_module_version": "1.5.0",
       "_view_name": "ProgressView",
       "bar_style": "success",
       "description": "",
       "description_tooltip": null,
       "layout": "IPY_MODEL_64d66a3285ed43c7a1e5bc39ab5cebc8",
       "max": 112.0,
       "min": 0.0,
       "orientation": "horizontal",
       "style": "IPY_MODEL_34a47e4c4abc436aaa953f645663c2a8",
       "value": 112.0
      }
     },
     "6fbf2a7188634606b15e0f2d3c345998": {
      "model_module": "@jupyter-widgets/controls",
      "model_module_version": "1.5.0",
      "model_name": "DescriptionStyleModel",
      "state": {
       "_model_module": "@jupyter-widgets/controls",
       "_model_module_version": "1.5.0",
       "_model_name": "DescriptionStyleModel",
       "_view_count": null,
       "_view_module": "@jupyter-widgets/base",
       "_view_module_version": "1.2.0",
       "_view_name": "StyleView",
       "description_width": ""
      }
     },
     "706141b99b934c36a1684b34f3f2bdd9": {
      "model_module": "@jupyter-widgets/controls",
      "model_module_version": "1.5.0",
      "model_name": "FloatProgressModel",
      "state": {
       "_dom_classes": [],
       "_model_module": "@jupyter-widgets/controls",
       "_model_module_version": "1.5.0",
       "_model_name": "FloatProgressModel",
       "_view_count": null,
       "_view_module": "@jupyter-widgets/controls",
       "_view_module_version": "1.5.0",
       "_view_name": "ProgressView",
       "bar_style": "success",
       "description": "",
       "description_tooltip": null,
       "layout": "IPY_MODEL_f7941b8be28745e2924e44cfdaf2657b",
       "max": 614.0,
       "min": 0.0,
       "orientation": "horizontal",
       "style": "IPY_MODEL_2852aaff018e4e6a85a412c9f554696f",
       "value": 614.0
      }
     },
     "74f1bc26133642a2832b326ecba2c9ae": {
      "model_module": "@jupyter-widgets/base",
      "model_module_version": "1.2.0",
      "model_name": "LayoutModel",
      "state": {
       "_model_module": "@jupyter-widgets/base",
       "_model_module_version": "1.2.0",
       "_model_name": "LayoutModel",
       "_view_count": null,
       "_view_module": "@jupyter-widgets/base",
       "_view_module_version": "1.2.0",
       "_view_name": "LayoutView",
       "align_content": null,
       "align_items": null,
       "align_self": null,
       "border": null,
       "bottom": null,
       "display": null,
       "flex": null,
       "flex_flow": null,
       "grid_area": null,
       "grid_auto_columns": null,
       "grid_auto_flow": null,
       "grid_auto_rows": null,
       "grid_column": null,
       "grid_gap": null,
       "grid_row": null,
       "grid_template_areas": null,
       "grid_template_columns": null,
       "grid_template_rows": null,
       "height": null,
       "justify_content": null,
       "justify_items": null,
       "left": null,
       "margin": null,
       "max_height": null,
       "max_width": null,
       "min_height": null,
       "min_width": null,
       "object_fit": null,
       "object_position": null,
       "order": null,
       "overflow": null,
       "overflow_x": null,
       "overflow_y": null,
       "padding": null,
       "right": null,
       "top": null,
       "visibility": null,
       "width": null
      }
     },
     "760301979c8b4a2fb322599543018c67": {
      "model_module": "@jupyter-widgets/controls",
      "model_module_version": "1.5.0",
      "model_name": "DescriptionStyleModel",
      "state": {
       "_model_module": "@jupyter-widgets/controls",
       "_model_module_version": "1.5.0",
       "_model_name": "DescriptionStyleModel",
       "_view_count": null,
       "_view_module": "@jupyter-widgets/base",
       "_view_module_version": "1.2.0",
       "_view_name": "StyleView",
       "description_width": ""
      }
     },
     "79691797367548658287a2b3d4821453": {
      "model_module": "@jupyter-widgets/controls",
      "model_module_version": "1.5.0",
      "model_name": "HBoxModel",
      "state": {
       "_dom_classes": [],
       "_model_module": "@jupyter-widgets/controls",
       "_model_module_version": "1.5.0",
       "_model_name": "HBoxModel",
       "_view_count": null,
       "_view_module": "@jupyter-widgets/controls",
       "_view_module_version": "1.5.0",
       "_view_name": "HBoxView",
       "box_style": "",
       "children": [
        "IPY_MODEL_05f3edb3d458435092ea9e470cd191cd",
        "IPY_MODEL_91a587d48c7d49e1bdce00cfe2f20bd8",
        "IPY_MODEL_7d898c54d2b54f7e99cc94817264d29a"
       ],
       "layout": "IPY_MODEL_2649f289aa2a4cbd9f976f40c382be91"
      }
     },
     "7d898c54d2b54f7e99cc94817264d29a": {
      "model_module": "@jupyter-widgets/controls",
      "model_module_version": "1.5.0",
      "model_name": "HTMLModel",
      "state": {
       "_dom_classes": [],
       "_model_module": "@jupyter-widgets/controls",
       "_model_module_version": "1.5.0",
       "_model_name": "HTMLModel",
       "_view_count": null,
       "_view_module": "@jupyter-widgets/controls",
       "_view_module_version": "1.5.0",
       "_view_name": "HTMLView",
       "description": "",
       "description_tooltip": null,
       "layout": "IPY_MODEL_dc8ae1069dd743d2bed688a685b42e57",
       "placeholder": "​",
       "style": "IPY_MODEL_f1df4e0e8e944103a8f1d9cee61a605f",
       "value": " 341/341 [00:00&lt;00:00, 36.4kB/s]"
      }
     },
     "871c75f2c25c4f5992f28b60aaefdaa1": {
      "model_module": "@jupyter-widgets/base",
      "model_module_version": "1.2.0",
      "model_name": "LayoutModel",
      "state": {
       "_model_module": "@jupyter-widgets/base",
       "_model_module_version": "1.2.0",
       "_model_name": "LayoutModel",
       "_view_count": null,
       "_view_module": "@jupyter-widgets/base",
       "_view_module_version": "1.2.0",
       "_view_name": "LayoutView",
       "align_content": null,
       "align_items": null,
       "align_self": null,
       "border": null,
       "bottom": null,
       "display": null,
       "flex": null,
       "flex_flow": null,
       "grid_area": null,
       "grid_auto_columns": null,
       "grid_auto_flow": null,
       "grid_auto_rows": null,
       "grid_column": null,
       "grid_gap": null,
       "grid_row": null,
       "grid_template_areas": null,
       "grid_template_columns": null,
       "grid_template_rows": null,
       "height": null,
       "justify_content": null,
       "justify_items": null,
       "left": null,
       "margin": null,
       "max_height": null,
       "max_width": null,
       "min_height": null,
       "min_width": null,
       "object_fit": null,
       "object_position": null,
       "order": null,
       "overflow": null,
       "overflow_x": null,
       "overflow_y": null,
       "padding": null,
       "right": null,
       "top": null,
       "visibility": null,
       "width": "20px"
      }
     },
     "8caa73d21d824c199122f682827d038d": {
      "model_module": "@jupyter-widgets/controls",
      "model_module_version": "1.5.0",
      "model_name": "HBoxModel",
      "state": {
       "_dom_classes": [],
       "_model_module": "@jupyter-widgets/controls",
       "_model_module_version": "1.5.0",
       "_model_name": "HBoxModel",
       "_view_count": null,
       "_view_module": "@jupyter-widgets/controls",
       "_view_module_version": "1.5.0",
       "_view_name": "HBoxView",
       "box_style": "",
       "children": [
        "IPY_MODEL_f81d1a29c7c54a2f9359f921744e4730",
        "IPY_MODEL_663db90d627a4467a542c49f2175f514",
        "IPY_MODEL_4085b191d5ad48638daae8fc66fb2291"
       ],
       "layout": "IPY_MODEL_09a1f2c456e541e4b4e5dad2e5b4df1b"
      }
     },
     "91a587d48c7d49e1bdce00cfe2f20bd8": {
      "model_module": "@jupyter-widgets/controls",
      "model_module_version": "1.5.0",
      "model_name": "FloatProgressModel",
      "state": {
       "_dom_classes": [],
       "_model_module": "@jupyter-widgets/controls",
       "_model_module_version": "1.5.0",
       "_model_name": "FloatProgressModel",
       "_view_count": null,
       "_view_module": "@jupyter-widgets/controls",
       "_view_module_version": "1.5.0",
       "_view_name": "ProgressView",
       "bar_style": "success",
       "description": "",
       "description_tooltip": null,
       "layout": "IPY_MODEL_015e3e4e038b4a24b1269b2b1bc198d1",
       "max": 341.0,
       "min": 0.0,
       "orientation": "horizontal",
       "style": "IPY_MODEL_515d6c2d262e474f9d9e8f1ef082d41d",
       "value": 341.0
      }
     },
     "93e6527752c7497195aa9e940758780f": {
      "model_module": "@jupyter-widgets/base",
      "model_module_version": "1.2.0",
      "model_name": "LayoutModel",
      "state": {
       "_model_module": "@jupyter-widgets/base",
       "_model_module_version": "1.2.0",
       "_model_name": "LayoutModel",
       "_view_count": null,
       "_view_module": "@jupyter-widgets/base",
       "_view_module_version": "1.2.0",
       "_view_name": "LayoutView",
       "align_content": null,
       "align_items": null,
       "align_self": null,
       "border": null,
       "bottom": null,
       "display": null,
       "flex": null,
       "flex_flow": null,
       "grid_area": null,
       "grid_auto_columns": null,
       "grid_auto_flow": null,
       "grid_auto_rows": null,
       "grid_column": null,
       "grid_gap": null,
       "grid_row": null,
       "grid_template_areas": null,
       "grid_template_columns": null,
       "grid_template_rows": null,
       "height": null,
       "justify_content": null,
       "justify_items": null,
       "left": null,
       "margin": null,
       "max_height": null,
       "max_width": null,
       "min_height": null,
       "min_width": null,
       "object_fit": null,
       "object_position": null,
       "order": null,
       "overflow": null,
       "overflow_x": null,
       "overflow_y": null,
       "padding": null,
       "right": null,
       "top": null,
       "visibility": null,
       "width": null
      }
     },
     "9f9752048057483bb69e67ccf5690d9e": {
      "model_module": "@jupyter-widgets/controls",
      "model_module_version": "1.5.0",
      "model_name": "DescriptionStyleModel",
      "state": {
       "_model_module": "@jupyter-widgets/controls",
       "_model_module_version": "1.5.0",
       "_model_name": "DescriptionStyleModel",
       "_view_count": null,
       "_view_module": "@jupyter-widgets/base",
       "_view_module_version": "1.2.0",
       "_view_name": "StyleView",
       "description_width": ""
      }
     },
     "a2537cd584d54cdc891226a2e47c5387": {
      "model_module": "@jupyter-widgets/controls",
      "model_module_version": "1.5.0",
      "model_name": "FloatProgressModel",
      "state": {
       "_dom_classes": [],
       "_model_module": "@jupyter-widgets/controls",
       "_model_module_version": "1.5.0",
       "_model_name": "FloatProgressModel",
       "_view_count": null,
       "_view_module": "@jupyter-widgets/controls",
       "_view_module_version": "1.5.0",
       "_view_name": "ProgressView",
       "bar_style": "success",
       "description": "",
       "description_tooltip": null,
       "layout": "IPY_MODEL_871c75f2c25c4f5992f28b60aaefdaa1",
       "max": 1.0,
       "min": 0.0,
       "orientation": "horizontal",
       "style": "IPY_MODEL_661deac4c2084347b9cd5e71dbddebff",
       "value": 1.0
      }
     },
     "a58c17e3f92340dc8d2fa31e445def37": {
      "model_module": "@jupyter-widgets/controls",
      "model_module_version": "1.5.0",
      "model_name": "HTMLModel",
      "state": {
       "_dom_classes": [],
       "_model_module": "@jupyter-widgets/controls",
       "_model_module_version": "1.5.0",
       "_model_name": "HTMLModel",
       "_view_count": null,
       "_view_module": "@jupyter-widgets/controls",
       "_view_module_version": "1.5.0",
       "_view_name": "HTMLView",
       "description": "",
       "description_tooltip": null,
       "layout": "IPY_MODEL_74f1bc26133642a2832b326ecba2c9ae",
       "placeholder": "​",
       "style": "IPY_MODEL_760301979c8b4a2fb322599543018c67",
       "value": "config.json: 100%"
      }
     },
     "a768d2a59c734a22842a7c1b33f1827e": {
      "model_module": "@jupyter-widgets/controls",
      "model_module_version": "1.5.0",
      "model_name": "DescriptionStyleModel",
      "state": {
       "_model_module": "@jupyter-widgets/controls",
       "_model_module_version": "1.5.0",
       "_model_name": "DescriptionStyleModel",
       "_view_count": null,
       "_view_module": "@jupyter-widgets/base",
       "_view_module_version": "1.2.0",
       "_view_name": "StyleView",
       "description_width": ""
      }
     },
     "af6388b2c5734dfcb8de3440fe8b151d": {
      "model_module": "@jupyter-widgets/controls",
      "model_module_version": "1.5.0",
      "model_name": "DescriptionStyleModel",
      "state": {
       "_model_module": "@jupyter-widgets/controls",
       "_model_module_version": "1.5.0",
       "_model_name": "DescriptionStyleModel",
       "_view_count": null,
       "_view_module": "@jupyter-widgets/base",
       "_view_module_version": "1.2.0",
       "_view_name": "StyleView",
       "description_width": ""
      }
     },
     "b1db09d4f2634c099cbbc805a0488f99": {
      "model_module": "@jupyter-widgets/base",
      "model_module_version": "1.2.0",
      "model_name": "LayoutModel",
      "state": {
       "_model_module": "@jupyter-widgets/base",
       "_model_module_version": "1.2.0",
       "_model_name": "LayoutModel",
       "_view_count": null,
       "_view_module": "@jupyter-widgets/base",
       "_view_module_version": "1.2.0",
       "_view_name": "LayoutView",
       "align_content": null,
       "align_items": null,
       "align_self": null,
       "border": null,
       "bottom": null,
       "display": null,
       "flex": null,
       "flex_flow": null,
       "grid_area": null,
       "grid_auto_columns": null,
       "grid_auto_flow": null,
       "grid_auto_rows": null,
       "grid_column": null,
       "grid_gap": null,
       "grid_row": null,
       "grid_template_areas": null,
       "grid_template_columns": null,
       "grid_template_rows": null,
       "height": null,
       "justify_content": null,
       "justify_items": null,
       "left": null,
       "margin": null,
       "max_height": null,
       "max_width": null,
       "min_height": null,
       "min_width": null,
       "object_fit": null,
       "object_position": null,
       "order": null,
       "overflow": null,
       "overflow_x": null,
       "overflow_y": null,
       "padding": null,
       "right": null,
       "top": null,
       "visibility": null,
       "width": null
      }
     },
     "b8eee9aa6b1243f481ae56f240b48093": {
      "model_module": "@jupyter-widgets/controls",
      "model_module_version": "1.5.0",
      "model_name": "DescriptionStyleModel",
      "state": {
       "_model_module": "@jupyter-widgets/controls",
       "_model_module_version": "1.5.0",
       "_model_name": "DescriptionStyleModel",
       "_view_count": null,
       "_view_module": "@jupyter-widgets/base",
       "_view_module_version": "1.2.0",
       "_view_name": "StyleView",
       "description_width": ""
      }
     },
     "be0cf5be06344b62ac72fe4702a4f75b": {
      "model_module": "@jupyter-widgets/base",
      "model_module_version": "1.2.0",
      "model_name": "LayoutModel",
      "state": {
       "_model_module": "@jupyter-widgets/base",
       "_model_module_version": "1.2.0",
       "_model_name": "LayoutModel",
       "_view_count": null,
       "_view_module": "@jupyter-widgets/base",
       "_view_module_version": "1.2.0",
       "_view_name": "LayoutView",
       "align_content": null,
       "align_items": null,
       "align_self": null,
       "border": null,
       "bottom": null,
       "display": null,
       "flex": null,
       "flex_flow": null,
       "grid_area": null,
       "grid_auto_columns": null,
       "grid_auto_flow": null,
       "grid_auto_rows": null,
       "grid_column": null,
       "grid_gap": null,
       "grid_row": null,
       "grid_template_areas": null,
       "grid_template_columns": null,
       "grid_template_rows": null,
       "height": null,
       "justify_content": null,
       "justify_items": null,
       "left": null,
       "margin": null,
       "max_height": null,
       "max_width": null,
       "min_height": null,
       "min_width": null,
       "object_fit": null,
       "object_position": null,
       "order": null,
       "overflow": null,
       "overflow_x": null,
       "overflow_y": null,
       "padding": null,
       "right": null,
       "top": null,
       "visibility": null,
       "width": null
      }
     },
     "c0ee23dba353454dabcade0157d44665": {
      "model_module": "@jupyter-widgets/controls",
      "model_module_version": "1.5.0",
      "model_name": "FloatProgressModel",
      "state": {
       "_dom_classes": [],
       "_model_module": "@jupyter-widgets/controls",
       "_model_module_version": "1.5.0",
       "_model_name": "FloatProgressModel",
       "_view_count": null,
       "_view_module": "@jupyter-widgets/controls",
       "_view_module_version": "1.5.0",
       "_view_name": "ProgressView",
       "bar_style": "success",
       "description": "",
       "description_tooltip": null,
       "layout": "IPY_MODEL_4b8995a1731f4093a7b5d240fa103fc2",
       "max": 442945176.0,
       "min": 0.0,
       "orientation": "horizontal",
       "style": "IPY_MODEL_ed18a4fa1c5a474f870597284a0dafb8",
       "value": 442945176.0
      }
     },
     "c2be67e9e4c24ce78df201df8dd24da2": {
      "model_module": "@jupyter-widgets/controls",
      "model_module_version": "1.5.0",
      "model_name": "DescriptionStyleModel",
      "state": {
       "_model_module": "@jupyter-widgets/controls",
       "_model_module_version": "1.5.0",
       "_model_name": "DescriptionStyleModel",
       "_view_count": null,
       "_view_module": "@jupyter-widgets/base",
       "_view_module_version": "1.2.0",
       "_view_name": "StyleView",
       "description_width": ""
      }
     },
     "cec1bbbcbdab436daa02965beba3e2de": {
      "model_module": "@jupyter-widgets/base",
      "model_module_version": "1.2.0",
      "model_name": "LayoutModel",
      "state": {
       "_model_module": "@jupyter-widgets/base",
       "_model_module_version": "1.2.0",
       "_model_name": "LayoutModel",
       "_view_count": null,
       "_view_module": "@jupyter-widgets/base",
       "_view_module_version": "1.2.0",
       "_view_name": "LayoutView",
       "align_content": null,
       "align_items": null,
       "align_self": null,
       "border": null,
       "bottom": null,
       "display": null,
       "flex": null,
       "flex_flow": null,
       "grid_area": null,
       "grid_auto_columns": null,
       "grid_auto_flow": null,
       "grid_auto_rows": null,
       "grid_column": null,
       "grid_gap": null,
       "grid_row": null,
       "grid_template_areas": null,
       "grid_template_columns": null,
       "grid_template_rows": null,
       "height": null,
       "justify_content": null,
       "justify_items": null,
       "left": null,
       "margin": null,
       "max_height": null,
       "max_width": null,
       "min_height": null,
       "min_width": null,
       "object_fit": null,
       "object_position": null,
       "order": null,
       "overflow": null,
       "overflow_x": null,
       "overflow_y": null,
       "padding": null,
       "right": null,
       "top": null,
       "visibility": null,
       "width": null
      }
     },
     "cf087a2b6222435eaf5a30367d0e249a": {
      "model_module": "@jupyter-widgets/controls",
      "model_module_version": "1.5.0",
      "model_name": "HTMLModel",
      "state": {
       "_dom_classes": [],
       "_model_module": "@jupyter-widgets/controls",
       "_model_module_version": "1.5.0",
       "_model_name": "HTMLModel",
       "_view_count": null,
       "_view_module": "@jupyter-widgets/controls",
       "_view_module_version": "1.5.0",
       "_view_name": "HTMLView",
       "description": "",
       "description_tooltip": null,
       "layout": "IPY_MODEL_b1db09d4f2634c099cbbc805a0488f99",
       "placeholder": "​",
       "style": "IPY_MODEL_a768d2a59c734a22842a7c1b33f1827e",
       "value": " 474k/? [00:00&lt;00:00, 33.7MB/s]"
      }
     },
     "d532fc29ccea4a7b8dc1a5b9765051af": {
      "model_module": "@jupyter-widgets/controls",
      "model_module_version": "1.5.0",
      "model_name": "HTMLModel",
      "state": {
       "_dom_classes": [],
       "_model_module": "@jupyter-widgets/controls",
       "_model_module_version": "1.5.0",
       "_model_name": "HTMLModel",
       "_view_count": null,
       "_view_module": "@jupyter-widgets/controls",
       "_view_module_version": "1.5.0",
       "_view_name": "HTMLView",
       "description": "",
       "description_tooltip": null,
       "layout": "IPY_MODEL_93e6527752c7497195aa9e940758780f",
       "placeholder": "​",
       "style": "IPY_MODEL_fa6c638896294153887c5f573243b383",
       "value": "tokenizer.json: "
      }
     },
     "d594c4cd39394eac946883f890d047c2": {
      "model_module": "@jupyter-widgets/controls",
      "model_module_version": "1.5.0",
      "model_name": "HBoxModel",
      "state": {
       "_dom_classes": [],
       "_model_module": "@jupyter-widgets/controls",
       "_model_module_version": "1.5.0",
       "_model_name": "HBoxModel",
       "_view_count": null,
       "_view_module": "@jupyter-widgets/controls",
       "_view_module_version": "1.5.0",
       "_view_name": "HBoxView",
       "box_style": "",
       "children": [
        "IPY_MODEL_d532fc29ccea4a7b8dc1a5b9765051af",
        "IPY_MODEL_a2537cd584d54cdc891226a2e47c5387",
        "IPY_MODEL_cf087a2b6222435eaf5a30367d0e249a"
       ],
       "layout": "IPY_MODEL_59850b6f1f934fb39a7edbfe57b4356e"
      }
     },
     "dc8ae1069dd743d2bed688a685b42e57": {
      "model_module": "@jupyter-widgets/base",
      "model_module_version": "1.2.0",
      "model_name": "LayoutModel",
      "state": {
       "_model_module": "@jupyter-widgets/base",
       "_model_module_version": "1.2.0",
       "_model_name": "LayoutModel",
       "_view_count": null,
       "_view_module": "@jupyter-widgets/base",
       "_view_module_version": "1.2.0",
       "_view_name": "LayoutView",
       "align_content": null,
       "align_items": null,
       "align_self": null,
       "border": null,
       "bottom": null,
       "display": null,
       "flex": null,
       "flex_flow": null,
       "grid_area": null,
       "grid_auto_columns": null,
       "grid_auto_flow": null,
       "grid_auto_rows": null,
       "grid_column": null,
       "grid_gap": null,
       "grid_row": null,
       "grid_template_areas": null,
       "grid_template_columns": null,
       "grid_template_rows": null,
       "height": null,
       "justify_content": null,
       "justify_items": null,
       "left": null,
       "margin": null,
       "max_height": null,
       "max_width": null,
       "min_height": null,
       "min_width": null,
       "object_fit": null,
       "object_position": null,
       "order": null,
       "overflow": null,
       "overflow_x": null,
       "overflow_y": null,
       "padding": null,
       "right": null,
       "top": null,
       "visibility": null,
       "width": null
      }
     },
     "ea460a3fac8f4e0381e9643f3beb90cb": {
      "model_module": "@jupyter-widgets/controls",
      "model_module_version": "1.5.0",
      "model_name": "FloatProgressModel",
      "state": {
       "_dom_classes": [],
       "_model_module": "@jupyter-widgets/controls",
       "_model_module_version": "1.5.0",
       "_model_name": "FloatProgressModel",
       "_view_count": null,
       "_view_module": "@jupyter-widgets/controls",
       "_view_module_version": "1.5.0",
       "_view_name": "ProgressView",
       "bar_style": "success",
       "description": "",
       "description_tooltip": null,
       "layout": "IPY_MODEL_217ed4b899974e42b170d8bc10d04076",
       "max": 1.0,
       "min": 0.0,
       "orientation": "horizontal",
       "style": "IPY_MODEL_eb9e56fc16804ac891c1962616ce5810",
       "value": 1.0
      }
     },
     "eb9e56fc16804ac891c1962616ce5810": {
      "model_module": "@jupyter-widgets/controls",
      "model_module_version": "1.5.0",
      "model_name": "ProgressStyleModel",
      "state": {
       "_model_module": "@jupyter-widgets/controls",
       "_model_module_version": "1.5.0",
       "_model_name": "ProgressStyleModel",
       "_view_count": null,
       "_view_module": "@jupyter-widgets/base",
       "_view_module_version": "1.2.0",
       "_view_name": "StyleView",
       "bar_color": null,
       "description_width": ""
      }
     },
     "ed18a4fa1c5a474f870597284a0dafb8": {
      "model_module": "@jupyter-widgets/controls",
      "model_module_version": "1.5.0",
      "model_name": "ProgressStyleModel",
      "state": {
       "_model_module": "@jupyter-widgets/controls",
       "_model_module_version": "1.5.0",
       "_model_name": "ProgressStyleModel",
       "_view_count": null,
       "_view_module": "@jupyter-widgets/base",
       "_view_module_version": "1.2.0",
       "_view_name": "StyleView",
       "bar_color": null,
       "description_width": ""
      }
     },
     "f0ce01f602454f54aed8d7febdc70edb": {
      "model_module": "@jupyter-widgets/controls",
      "model_module_version": "1.5.0",
      "model_name": "HTMLModel",
      "state": {
       "_dom_classes": [],
       "_model_module": "@jupyter-widgets/controls",
       "_model_module_version": "1.5.0",
       "_model_name": "HTMLModel",
       "_view_count": null,
       "_view_module": "@jupyter-widgets/controls",
       "_view_module_version": "1.5.0",
       "_view_name": "HTMLView",
       "description": "",
       "description_tooltip": null,
       "layout": "IPY_MODEL_001b7224c39b4dba9d24c52accf8cf19",
       "placeholder": "​",
       "style": "IPY_MODEL_b8eee9aa6b1243f481ae56f240b48093",
       "value": " 443M/443M [00:05&lt;00:00, 83.3MB/s]"
      }
     },
     "f1df4e0e8e944103a8f1d9cee61a605f": {
      "model_module": "@jupyter-widgets/controls",
      "model_module_version": "1.5.0",
      "model_name": "DescriptionStyleModel",
      "state": {
       "_model_module": "@jupyter-widgets/controls",
       "_model_module_version": "1.5.0",
       "_model_name": "DescriptionStyleModel",
       "_view_count": null,
       "_view_module": "@jupyter-widgets/base",
       "_view_module_version": "1.2.0",
       "_view_name": "StyleView",
       "description_width": ""
      }
     },
     "f569db920cb14b81bb7c33ff7e73faa6": {
      "model_module": "@jupyter-widgets/base",
      "model_module_version": "1.2.0",
      "model_name": "LayoutModel",
      "state": {
       "_model_module": "@jupyter-widgets/base",
       "_model_module_version": "1.2.0",
       "_model_name": "LayoutModel",
       "_view_count": null,
       "_view_module": "@jupyter-widgets/base",
       "_view_module_version": "1.2.0",
       "_view_name": "LayoutView",
       "align_content": null,
       "align_items": null,
       "align_self": null,
       "border": null,
       "bottom": null,
       "display": null,
       "flex": null,
       "flex_flow": null,
       "grid_area": null,
       "grid_auto_columns": null,
       "grid_auto_flow": null,
       "grid_auto_rows": null,
       "grid_column": null,
       "grid_gap": null,
       "grid_row": null,
       "grid_template_areas": null,
       "grid_template_columns": null,
       "grid_template_rows": null,
       "height": null,
       "justify_content": null,
       "justify_items": null,
       "left": null,
       "margin": null,
       "max_height": null,
       "max_width": null,
       "min_height": null,
       "min_width": null,
       "object_fit": null,
       "object_position": null,
       "order": null,
       "overflow": null,
       "overflow_x": null,
       "overflow_y": null,
       "padding": null,
       "right": null,
       "top": null,
       "visibility": null,
       "width": null
      }
     },
     "f7941b8be28745e2924e44cfdaf2657b": {
      "model_module": "@jupyter-widgets/base",
      "model_module_version": "1.2.0",
      "model_name": "LayoutModel",
      "state": {
       "_model_module": "@jupyter-widgets/base",
       "_model_module_version": "1.2.0",
       "_model_name": "LayoutModel",
       "_view_count": null,
       "_view_module": "@jupyter-widgets/base",
       "_view_module_version": "1.2.0",
       "_view_name": "LayoutView",
       "align_content": null,
       "align_items": null,
       "align_self": null,
       "border": null,
       "bottom": null,
       "display": null,
       "flex": null,
       "flex_flow": null,
       "grid_area": null,
       "grid_auto_columns": null,
       "grid_auto_flow": null,
       "grid_auto_rows": null,
       "grid_column": null,
       "grid_gap": null,
       "grid_row": null,
       "grid_template_areas": null,
       "grid_template_columns": null,
       "grid_template_rows": null,
       "height": null,
       "justify_content": null,
       "justify_items": null,
       "left": null,
       "margin": null,
       "max_height": null,
       "max_width": null,
       "min_height": null,
       "min_width": null,
       "object_fit": null,
       "object_position": null,
       "order": null,
       "overflow": null,
       "overflow_x": null,
       "overflow_y": null,
       "padding": null,
       "right": null,
       "top": null,
       "visibility": null,
       "width": null
      }
     },
     "f81d1a29c7c54a2f9359f921744e4730": {
      "model_module": "@jupyter-widgets/controls",
      "model_module_version": "1.5.0",
      "model_name": "HTMLModel",
      "state": {
       "_dom_classes": [],
       "_model_module": "@jupyter-widgets/controls",
       "_model_module_version": "1.5.0",
       "_model_name": "HTMLModel",
       "_view_count": null,
       "_view_module": "@jupyter-widgets/controls",
       "_view_module_version": "1.5.0",
       "_view_name": "HTMLView",
       "description": "",
       "description_tooltip": null,
       "layout": "IPY_MODEL_be0cf5be06344b62ac72fe4702a4f75b",
       "placeholder": "​",
       "style": "IPY_MODEL_6fbf2a7188634606b15e0f2d3c345998",
       "value": "special_tokens_map.json: 100%"
      }
     },
     "fa6c638896294153887c5f573243b383": {
      "model_module": "@jupyter-widgets/controls",
      "model_module_version": "1.5.0",
      "model_name": "DescriptionStyleModel",
      "state": {
       "_model_module": "@jupyter-widgets/controls",
       "_model_module_version": "1.5.0",
       "_model_name": "DescriptionStyleModel",
       "_view_count": null,
       "_view_module": "@jupyter-widgets/base",
       "_view_module_version": "1.2.0",
       "_view_name": "StyleView",
       "description_width": ""
      }
     }
    },
    "version_major": 2,
    "version_minor": 0
   }
  }
 },
 "nbformat": 4,
 "nbformat_minor": 5
}
