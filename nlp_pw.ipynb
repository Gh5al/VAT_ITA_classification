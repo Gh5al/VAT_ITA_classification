{
  "metadata": {
    "kernelspec": {
      "display_name": "Python 3",
      "language": "python",
      "name": "python3"
    },
    "language_info": {
      "name": "python",
      "version": "3.10.14",
      "mimetype": "text/x-python",
      "codemirror_mode": {
        "name": "ipython",
        "version": 3
      },
      "pygments_lexer": "ipython3",
      "nbconvert_exporter": "python",
      "file_extension": ".py"
    },
    "accelerator": "GPU",
    "colab": {
      "gpuType": "T4",
      "provenance": [],
      "toc_visible": true,
      "name": "nlp_pw",
      "include_colab_link": true
    },
    "kaggle": {
      "accelerator": "nvidiaTeslaT4",
      "dataSources": [
        {
          "sourceId": 10179742,
          "sourceType": "datasetVersion",
          "datasetId": 6288021
        }
      ],
      "dockerImageVersionId": 30805,
      "isInternetEnabled": true,
      "language": "python",
      "sourceType": "notebook",
      "isGpuEnabled": true
    }
  },
  "nbformat_minor": 0,
  "nbformat": 4,
  "cells": [
    {
      "cell_type": "markdown",
      "metadata": {
        "id": "view-in-github",
        "colab_type": "text"
      },
      "source": [
        "<a href=\"https://colab.research.google.com/github/Gh5al/VAT_ITA_classification/blob/data_aug/nlp_pw.ipynb\" target=\"_parent\"><img src=\"https://colab.research.google.com/assets/colab-badge.svg\" alt=\"Open In Colab\"/></a>"
      ]
    },
    {
      "cell_type": "markdown",
      "source": [
        "<a href=\"https://colab.research.google.com/github/Gh5al/VAT_ITA_classification/blob/main/nlp_pw.ipynb\" target=\"_parent\"><img src=\"https://colab.research.google.com/assets/colab-badge.svg\" alt=\"Open In Colab\"/></a>"
      ],
      "metadata": {
        "id": "KyZr4FHfX5KH"
      }
    },
    {
      "cell_type": "code",
      "source": [
        "import json\n",
        "\n",
        "import os\n",
        "\n",
        "import numpy as np\n",
        "\n",
        "import pandas as pd\n",
        "\n",
        "from matplotlib import pyplot as plt\n",
        "\n",
        "import random\n",
        "\n",
        "import torch\n",
        "\n",
        "from sklearn.model_selection import train_test_split\n",
        "\n",
        "import random\n",
        "\n",
        "import gc\n",
        "\n",
        "import transformers\n",
        "\n",
        "from tqdm import tqdm, trange\n",
        "\n",
        "from typing import Callable, Dict, List, Tuple\n",
        "\n",
        "from timeit import default_timer as timer\n",
        "\n",
        "from transformers import EncoderDecoderModel, AutoTokenizer, PreTrainedTokenizer, BatchEncoding, AutoModel\n",
        "\n",
        "import torch.nn as nn\n",
        "\n",
        "from torch.utils.data import Dataset, DataLoader, SubsetRandomSampler, WeightedRandomSampler\n",
        "\n",
        "import os\n",
        "\n",
        "import json"
      ],
      "metadata": {
        "id": "KbWaRpfXk6GK",
        "execution": {
          "iopub.status.busy": "2024-12-20T11:14:43.485885Z",
          "iopub.execute_input": "2024-12-20T11:14:43.486197Z",
          "iopub.status.idle": "2024-12-20T11:15:08.919355Z",
          "shell.execute_reply.started": "2024-12-20T11:14:43.486166Z",
          "shell.execute_reply": "2024-12-20T11:15:08.918425Z"
        },
        "trusted": true
      },
      "outputs": [],
      "execution_count": null
    },
    {
      "cell_type": "code",
      "source": [
        "device = torch.device('cuda')"
      ],
      "metadata": {
        "trusted": true,
        "execution": {
          "iopub.status.busy": "2024-12-20T11:15:08.920659Z",
          "iopub.execute_input": "2024-12-20T11:15:08.921134Z",
          "iopub.status.idle": "2024-12-20T11:15:08.92503Z",
          "shell.execute_reply.started": "2024-12-20T11:15:08.921106Z",
          "shell.execute_reply": "2024-12-20T11:15:08.924242Z"
        },
        "id": "hBfaG1PL5GsJ"
      },
      "outputs": [],
      "execution_count": null
    },
    {
      "cell_type": "code",
      "source": [
        "!pip install nlpaug"
      ],
      "metadata": {
        "trusted": true,
        "execution": {
          "iopub.status.busy": "2024-12-20T11:15:08.925942Z",
          "iopub.execute_input": "2024-12-20T11:15:08.926234Z",
          "iopub.status.idle": "2024-12-20T11:15:20.413508Z",
          "shell.execute_reply.started": "2024-12-20T11:15:08.926196Z",
          "shell.execute_reply": "2024-12-20T11:15:20.41245Z"
        },
        "id": "k2xXUEI85GsJ",
        "outputId": "1fd29c18-3b78-4343-9cf0-7cc4e49df992"
      },
      "outputs": [
        {
          "name": "stderr",
          "text": "/opt/conda/lib/python3.10/pty.py:89: RuntimeWarning: os.fork() was called. os.fork() is incompatible with multithreaded code, and JAX is multithreaded, so this will likely lead to a deadlock.\n  pid, fd = os.forkpty()\n",
          "output_type": "stream"
        },
        {
          "name": "stdout",
          "text": "Collecting nlpaug\n  Downloading nlpaug-1.1.11-py3-none-any.whl.metadata (14 kB)\nRequirement already satisfied: numpy>=1.16.2 in /opt/conda/lib/python3.10/site-packages (from nlpaug) (1.26.4)\nRequirement already satisfied: pandas>=1.2.0 in /opt/conda/lib/python3.10/site-packages (from nlpaug) (2.2.3)\nRequirement already satisfied: requests>=2.22.0 in /opt/conda/lib/python3.10/site-packages (from nlpaug) (2.32.3)\nCollecting gdown>=4.0.0 (from nlpaug)\n  Downloading gdown-5.2.0-py3-none-any.whl.metadata (5.8 kB)\nRequirement already satisfied: beautifulsoup4 in /opt/conda/lib/python3.10/site-packages (from gdown>=4.0.0->nlpaug) (4.12.3)\nRequirement already satisfied: filelock in /opt/conda/lib/python3.10/site-packages (from gdown>=4.0.0->nlpaug) (3.15.1)\nRequirement already satisfied: tqdm in /opt/conda/lib/python3.10/site-packages (from gdown>=4.0.0->nlpaug) (4.66.4)\nRequirement already satisfied: python-dateutil>=2.8.2 in /opt/conda/lib/python3.10/site-packages (from pandas>=1.2.0->nlpaug) (2.9.0.post0)\nRequirement already satisfied: pytz>=2020.1 in /opt/conda/lib/python3.10/site-packages (from pandas>=1.2.0->nlpaug) (2024.1)\nRequirement already satisfied: tzdata>=2022.7 in /opt/conda/lib/python3.10/site-packages (from pandas>=1.2.0->nlpaug) (2024.1)\nRequirement already satisfied: charset-normalizer<4,>=2 in /opt/conda/lib/python3.10/site-packages (from requests>=2.22.0->nlpaug) (3.3.2)\nRequirement already satisfied: idna<4,>=2.5 in /opt/conda/lib/python3.10/site-packages (from requests>=2.22.0->nlpaug) (3.7)\nRequirement already satisfied: urllib3<3,>=1.21.1 in /opt/conda/lib/python3.10/site-packages (from requests>=2.22.0->nlpaug) (1.26.18)\nRequirement already satisfied: certifi>=2017.4.17 in /opt/conda/lib/python3.10/site-packages (from requests>=2.22.0->nlpaug) (2024.6.2)\nRequirement already satisfied: six>=1.5 in /opt/conda/lib/python3.10/site-packages (from python-dateutil>=2.8.2->pandas>=1.2.0->nlpaug) (1.16.0)\nRequirement already satisfied: soupsieve>1.2 in /opt/conda/lib/python3.10/site-packages (from beautifulsoup4->gdown>=4.0.0->nlpaug) (2.5)\nRequirement already satisfied: PySocks!=1.5.7,>=1.5.6 in /opt/conda/lib/python3.10/site-packages (from requests[socks]->gdown>=4.0.0->nlpaug) (1.7.1)\nDownloading nlpaug-1.1.11-py3-none-any.whl (410 kB)\n\u001b[2K   \u001b[90m━━━━━━━━━━━━━━━━━━━━━━━━━━━━━━━━━━━━━━━━\u001b[0m \u001b[32m410.5/410.5 kB\u001b[0m \u001b[31m6.9 MB/s\u001b[0m eta \u001b[36m0:00:00\u001b[0mta \u001b[36m0:00:01\u001b[0m\n\u001b[?25hDownloading gdown-5.2.0-py3-none-any.whl (18 kB)\nInstalling collected packages: gdown, nlpaug\nSuccessfully installed gdown-5.2.0 nlpaug-1.1.11\n",
          "output_type": "stream"
        }
      ],
      "execution_count": null
    },
    {
      "cell_type": "code",
      "source": [
        "pip install -U deep-translator"
      ],
      "metadata": {
        "trusted": true,
        "execution": {
          "iopub.status.busy": "2024-12-20T11:15:20.416017Z",
          "iopub.execute_input": "2024-12-20T11:15:20.416401Z",
          "iopub.status.idle": "2024-12-20T11:15:28.92109Z",
          "shell.execute_reply.started": "2024-12-20T11:15:20.41636Z",
          "shell.execute_reply": "2024-12-20T11:15:28.920053Z"
        },
        "id": "v5l2leCm5GsK",
        "outputId": "db4bf766-596c-4808-e30b-4987d61d4bf8"
      },
      "outputs": [
        {
          "name": "stdout",
          "text": "Collecting deep-translator\n  Downloading deep_translator-1.11.4-py3-none-any.whl.metadata (30 kB)\nRequirement already satisfied: beautifulsoup4<5.0.0,>=4.9.1 in /opt/conda/lib/python3.10/site-packages (from deep-translator) (4.12.3)\nRequirement already satisfied: requests<3.0.0,>=2.23.0 in /opt/conda/lib/python3.10/site-packages (from deep-translator) (2.32.3)\nRequirement already satisfied: soupsieve>1.2 in /opt/conda/lib/python3.10/site-packages (from beautifulsoup4<5.0.0,>=4.9.1->deep-translator) (2.5)\nRequirement already satisfied: charset-normalizer<4,>=2 in /opt/conda/lib/python3.10/site-packages (from requests<3.0.0,>=2.23.0->deep-translator) (3.3.2)\nRequirement already satisfied: idna<4,>=2.5 in /opt/conda/lib/python3.10/site-packages (from requests<3.0.0,>=2.23.0->deep-translator) (3.7)\nRequirement already satisfied: urllib3<3,>=1.21.1 in /opt/conda/lib/python3.10/site-packages (from requests<3.0.0,>=2.23.0->deep-translator) (1.26.18)\nRequirement already satisfied: certifi>=2017.4.17 in /opt/conda/lib/python3.10/site-packages (from requests<3.0.0,>=2.23.0->deep-translator) (2024.6.2)\nDownloading deep_translator-1.11.4-py3-none-any.whl (42 kB)\n\u001b[2K   \u001b[90m━━━━━━━━━━━━━━━━━━━━━━━━━━━━━━━━━━━━━━━━\u001b[0m \u001b[32m42.3/42.3 kB\u001b[0m \u001b[31m1.9 MB/s\u001b[0m eta \u001b[36m0:00:00\u001b[0m\n\u001b[?25hInstalling collected packages: deep-translator\nSuccessfully installed deep-translator-1.11.4\nNote: you may need to restart the kernel to use updated packages.\n",
          "output_type": "stream"
        }
      ],
      "execution_count": null
    },
    {
      "cell_type": "code",
      "source": [
        "import nltk\n",
        "nltk.download('wordnet',\"/kaggle/working/\")\n",
        "nltk.data.path.append(\"/kaggle/working/\");"
      ],
      "metadata": {
        "trusted": true,
        "execution": {
          "iopub.status.busy": "2024-12-15T11:18:03.491237Z",
          "iopub.execute_input": "2024-12-15T11:18:03.491899Z",
          "iopub.status.idle": "2024-12-15T11:18:04.225747Z",
          "shell.execute_reply.started": "2024-12-15T11:18:03.491837Z",
          "shell.execute_reply": "2024-12-15T11:18:04.224902Z"
        },
        "id": "A6NKCcv95GsL",
        "outputId": "df4a19cd-348f-4937-eaf7-b49d91e8e32d"
      },
      "outputs": [
        {
          "name": "stdout",
          "text": "[nltk_data] Downloading package wordnet to /kaggle/working/...\n[nltk_data]   Package wordnet is already up-to-date!\n",
          "output_type": "stream"
        }
      ],
      "execution_count": null
    },
    {
      "cell_type": "code",
      "source": [
        "import nlpaug.augmenter.word as naw\n",
        "aug = naw.ContextualWordEmbsAug(\n",
        "    model_path='bert-large-cased', action=\"insert\")\n",
        "#aug = naw.SynonymAug()\n",
        "text = 'This a project work'\n",
        "\n",
        "augmented_text = aug.augment(text)\n",
        "augmented_text"
      ],
      "metadata": {
        "trusted": true,
        "execution": {
          "iopub.status.busy": "2024-12-20T11:15:28.923032Z",
          "iopub.execute_input": "2024-12-20T11:15:28.923326Z",
          "iopub.status.idle": "2024-12-20T11:15:57.771288Z",
          "shell.execute_reply.started": "2024-12-20T11:15:28.923297Z",
          "shell.execute_reply": "2024-12-20T11:15:57.770214Z"
        },
        "id": "93koib1_5GsL",
        "outputId": "3da714fe-f8a7-405e-d8ef-6627236abc38",
        "colab": {
          "referenced_widgets": [
            "938c000149b34928ae3fb8a6d6342017",
            "713217b53c3143bb85c56886641b9659",
            "abac97e2ce394ec3b05a2d0a10905767",
            "2fa3932f483e488fbda911d41576a8b6",
            "d3547b9cd31149de96614b035587cd53"
          ]
        }
      },
      "outputs": [
        {
          "output_type": "display_data",
          "data": {
            "text/plain": "tokenizer_config.json:   0%|          | 0.00/49.0 [00:00<?, ?B/s]",
            "application/vnd.jupyter.widget-view+json": {
              "version_major": 2,
              "version_minor": 0,
              "model_id": "938c000149b34928ae3fb8a6d6342017"
            }
          },
          "metadata": {}
        },
        {
          "output_type": "display_data",
          "data": {
            "text/plain": "config.json:   0%|          | 0.00/762 [00:00<?, ?B/s]",
            "application/vnd.jupyter.widget-view+json": {
              "version_major": 2,
              "version_minor": 0,
              "model_id": "713217b53c3143bb85c56886641b9659"
            }
          },
          "metadata": {}
        },
        {
          "output_type": "display_data",
          "data": {
            "text/plain": "vocab.txt:   0%|          | 0.00/213k [00:00<?, ?B/s]",
            "application/vnd.jupyter.widget-view+json": {
              "version_major": 2,
              "version_minor": 0,
              "model_id": "abac97e2ce394ec3b05a2d0a10905767"
            }
          },
          "metadata": {}
        },
        {
          "output_type": "display_data",
          "data": {
            "text/plain": "tokenizer.json:   0%|          | 0.00/436k [00:00<?, ?B/s]",
            "application/vnd.jupyter.widget-view+json": {
              "version_major": 2,
              "version_minor": 0,
              "model_id": "2fa3932f483e488fbda911d41576a8b6"
            }
          },
          "metadata": {}
        },
        {
          "output_type": "display_data",
          "data": {
            "text/plain": "model.safetensors:   0%|          | 0.00/1.34G [00:00<?, ?B/s]",
            "application/vnd.jupyter.widget-view+json": {
              "version_major": 2,
              "version_minor": 0,
              "model_id": "d3547b9cd31149de96614b035587cd53"
            }
          },
          "metadata": {}
        },
        {
          "execution_count": 5,
          "output_type": "execute_result",
          "data": {
            "text/plain": "['... This a scientific project work']"
          },
          "metadata": {}
        }
      ],
      "execution_count": null
    },
    {
      "cell_type": "markdown",
      "source": [
        "# Loading data"
      ],
      "metadata": {
        "id": "n2Txe_oxF51O"
      }
    },
    {
      "cell_type": "code",
      "source": [
        "def uniform(el):\n",
        "\n",
        "    \"\"\"\n",
        "\n",
        "    Handles the values for multi-value attributes, splitting to list if necessary\n",
        "\n",
        "    If the input is a list or transformed to a list, values are sorted\n",
        "\n",
        "\n",
        "\n",
        "    Args:\n",
        "\n",
        "        el (str or list): The attribute value\n",
        "\n",
        "\n",
        "\n",
        "    Returns:\n",
        "\n",
        "        str or list: The attribute value sorted if it is a list, the attribute value otherwise\n",
        "\n",
        "    \"\"\"\n",
        "\n",
        "    if el == el:  # NaN is different from NaN, np.isnan and pd.isna don't work\n",
        "\n",
        "        if '|' in el:\n",
        "\n",
        "            el = sorted(el.split('|'))\n",
        "\n",
        "        elif isinstance(el, list):\n",
        "\n",
        "            el = sorted(el)\n",
        "\n",
        "    return el\n",
        "\n",
        "\n",
        "\n",
        "DATAFRAMES_PATH = '/kaggle/input/nlp-pw' if os.environ.get('KAGGLE_KERNEL_RUN_TYPE','') else './Dataframes'\n",
        "\n",
        "\n",
        "\n",
        "def create_df_annotations(path: str, language: str, dataset: str):\n",
        "\n",
        "    \"\"\"\n",
        "\n",
        "    Load the dataset + create and save to file a dataframe with the annotations of the arguments.\n",
        "\n",
        "\n",
        "\n",
        "    Args:\n",
        "\n",
        "        path (str): path of the folder containing the JSON files\n",
        "\n",
        "        dataset (str): One of [vat, tp, ecj]\n",
        "\n",
        "    \"\"\"\n",
        "\n",
        "\n",
        "\n",
        "    pkl_file_path = f\"{DATAFRAMES_PATH}/arg_annotations_{language}_{dataset}.pkl.xz\"\n",
        "\n",
        "    if os.path.isfile(pkl_file_path):\n",
        "\n",
        "        print(f\"Found pkl, loading it - {pkl_file_path}\")\n",
        "\n",
        "        return pd.read_pickle(pkl_file_path)\n",
        "\n",
        "\n",
        "\n",
        "    print(f\"Could not find pkl, reading dataset - {pkl_file_path}\")\n",
        "\n",
        "    temp = []\n",
        "\n",
        "    files = os.listdir(path)\n",
        "\n",
        "    files.sort()\n",
        "\n",
        "\n",
        "\n",
        "    for filename in files:\n",
        "\n",
        "        if not filename.endswith('.json'):\n",
        "\n",
        "            print(f\"Skipping '{filename}'\")\n",
        "\n",
        "        else:\n",
        "\n",
        "            print(f\"Loading '{filename}'\")\n",
        "\n",
        "            with open(os.path.join(path, filename), 'r', encoding='utf8') as f:\n",
        "\n",
        "                data = json.load(f)\n",
        "\n",
        "                annotations = data[\"annotations\"]\n",
        "\n",
        "                last_full_chain_id = None\n",
        "\n",
        "                last_text = None\n",
        "\n",
        "\n",
        "\n",
        "                for annotation in annotations:\n",
        "\n",
        "                    if annotation[\"name\"] != 'conc' and annotation[\"name\"] != 'prem':\n",
        "\n",
        "                        continue # Ignore intro, nreg, judoff, ...\n",
        "\n",
        "                    #document = annotation[\"document\"]\n",
        "\n",
        "                    document = data[\"document\"][\"name\"]\n",
        "\n",
        "                    name = annotation[\"name\"]\n",
        "\n",
        "                    _id = annotation[\"_id\"]\n",
        "\n",
        "                    argument_chain_id = _id[0]\n",
        "\n",
        "                    full_chain_id = f'{document}_{argument_chain_id}'\n",
        "\n",
        "                    last_full_chain_id = full_chain_id\n",
        "\n",
        "                    incremental_num = _id[1:]\n",
        "\n",
        "                    text = data[\"document\"][\"plainText\"][int(annotation[\"start\"]):int(annotation[\"end\"])]\n",
        "\n",
        "                    last_text = text\n",
        "\n",
        "                    # attribute extraction, NaN if that attribute is not present\n",
        "\n",
        "                    T = uniform(annotation[\"attributes\"].get(\"T\", np.nan))\n",
        "\n",
        "                    SUP = uniform(annotation[\"attributes\"].get(\"SUP\", np.nan))\n",
        "\n",
        "                    SFF = uniform(annotation[\"attributes\"].get(\"SFF\", np.nan))\n",
        "\n",
        "                    ATT = uniform(annotation[\"attributes\"].get(\"ATT\", np.nan))\n",
        "\n",
        "                    INH = uniform(annotation[\"attributes\"].get(\"INH\", np.nan))\n",
        "\n",
        "                    REPH = uniform(annotation[\"attributes\"].get(\"REPH\", np.nan))\n",
        "\n",
        "                    S = uniform(annotation[\"attributes\"].get(\"S\", np.nan))\n",
        "\n",
        "\n",
        "\n",
        "                    text = text.replace('\\n','').lstrip('‘’\\'\\n0123456789.-–…;;) ').rstrip('‘’\\'\\n.;; ')\n",
        "\n",
        "\n",
        "\n",
        "                    previous = last_text if last_full_chain_id == full_chain_id else None\n",
        "\n",
        "                    temp.append([\n",
        "\n",
        "                        document, name, _id, argument_chain_id, incremental_num, text, T, SUP, SFF, ATT, INH, REPH, S, full_chain_id, previous,\n",
        "\n",
        "                    ])\n",
        "\n",
        "    # df creation\n",
        "\n",
        "    df = pd.DataFrame(temp, columns=[\n",
        "\n",
        "            'Document', 'Name', 'Id', 'Chain', 'Num', 'Text', 'Type', 'SUP', 'SFF', 'ATT', 'INH', 'REPH', 'Scheme', 'FullChainID', 'Previous'\n",
        "\n",
        "        ])\n",
        "\n",
        "\n",
        "\n",
        "    print(f\"Saving {len(df)} annotations to {pkl_file_path}\")\n",
        "\n",
        "    df.to_pickle(pkl_file_path)\n",
        "\n",
        "    df.to_csv(pkl_file_path.replace('.pkl.xz', '.csv'))\n",
        "\n",
        "    return df\n",
        "\n",
        "\n",
        "\n",
        "\n",
        "\n",
        "df = create_df_annotations('Data/Dataset/VAT_ITA', 'italian', 'vat')\n"
      ],
      "metadata": {
        "colab": {
          "base_uri": "https://localhost:8080/"
        },
        "id": "Qv-JEb3-k6GN",
        "outputId": "417ca15c-5845-4faa-81a7-4b62505cb47a",
        "execution": {
          "iopub.status.busy": "2024-12-20T11:15:57.7734Z",
          "iopub.execute_input": "2024-12-20T11:15:57.774144Z",
          "iopub.status.idle": "2024-12-20T11:15:57.846412Z",
          "shell.execute_reply.started": "2024-12-20T11:15:57.774093Z",
          "shell.execute_reply": "2024-12-20T11:15:57.845488Z"
        },
        "trusted": true
      },
      "outputs": [
        {
          "name": "stdout",
          "text": "Found pkl, loading it - /kaggle/input/nlp-pw/arg_annotations_italian_vat.pkl.xz\n",
          "output_type": "stream"
        }
      ],
      "execution_count": null
    },
    {
      "cell_type": "code",
      "source": [
        "df.describe()"
      ],
      "metadata": {
        "colab": {
          "base_uri": "https://localhost:8080/",
          "height": 195
        },
        "id": "koaJKdEXk6GR",
        "outputId": "cfaec81b-a762-4d6f-dd3c-b902bc8f4c3c",
        "execution": {
          "iopub.status.busy": "2024-12-20T11:15:57.847557Z",
          "iopub.execute_input": "2024-12-20T11:15:57.847915Z",
          "iopub.status.idle": "2024-12-20T11:15:57.95648Z",
          "shell.execute_reply.started": "2024-12-20T11:15:57.847877Z",
          "shell.execute_reply": "2024-12-20T11:15:57.955742Z"
        },
        "trusted": true
      },
      "outputs": [
        {
          "execution_count": 7,
          "output_type": "execute_result",
          "data": {
            "text/plain": "                           Document  Name    Id Chain   Num  Text  Type   SUP  \\\ncount                          3311  3311  3311  3311  3311  3311  2910  1088   \nunique                          225     2   264    10    98  3163     3   428   \ntop     2016_202_VAT_OPAM_2_1_PS_AN  prem    A2     A     2           F    A2   \nfreq                             79  2910   221  2348   365    12  1572    54   \n\n       SFF ATT  INH REPH Scheme                    FullChainID Previous  \ncount   82  66   25   89   1314                           3311     3311  \nunique  48  32   19   31     63                            367     3186  \ntop     A7  A8  A10   A1   Rule  2016_202_VAT_OPAM_2_1_PS_AN_A           \nfreq     6   8    3   29    349                             79       12  ",
            "text/html": "<div>\n<style scoped>\n    .dataframe tbody tr th:only-of-type {\n        vertical-align: middle;\n    }\n\n    .dataframe tbody tr th {\n        vertical-align: top;\n    }\n\n    .dataframe thead th {\n        text-align: right;\n    }\n</style>\n<table border=\"1\" class=\"dataframe\">\n  <thead>\n    <tr style=\"text-align: right;\">\n      <th></th>\n      <th>Document</th>\n      <th>Name</th>\n      <th>Id</th>\n      <th>Chain</th>\n      <th>Num</th>\n      <th>Text</th>\n      <th>Type</th>\n      <th>SUP</th>\n      <th>SFF</th>\n      <th>ATT</th>\n      <th>INH</th>\n      <th>REPH</th>\n      <th>Scheme</th>\n      <th>FullChainID</th>\n      <th>Previous</th>\n    </tr>\n  </thead>\n  <tbody>\n    <tr>\n      <th>count</th>\n      <td>3311</td>\n      <td>3311</td>\n      <td>3311</td>\n      <td>3311</td>\n      <td>3311</td>\n      <td>3311</td>\n      <td>2910</td>\n      <td>1088</td>\n      <td>82</td>\n      <td>66</td>\n      <td>25</td>\n      <td>89</td>\n      <td>1314</td>\n      <td>3311</td>\n      <td>3311</td>\n    </tr>\n    <tr>\n      <th>unique</th>\n      <td>225</td>\n      <td>2</td>\n      <td>264</td>\n      <td>10</td>\n      <td>98</td>\n      <td>3163</td>\n      <td>3</td>\n      <td>428</td>\n      <td>48</td>\n      <td>32</td>\n      <td>19</td>\n      <td>31</td>\n      <td>63</td>\n      <td>367</td>\n      <td>3186</td>\n    </tr>\n    <tr>\n      <th>top</th>\n      <td>2016_202_VAT_OPAM_2_1_PS_AN</td>\n      <td>prem</td>\n      <td>A2</td>\n      <td>A</td>\n      <td>2</td>\n      <td></td>\n      <td>F</td>\n      <td>A2</td>\n      <td>A7</td>\n      <td>A8</td>\n      <td>A10</td>\n      <td>A1</td>\n      <td>Rule</td>\n      <td>2016_202_VAT_OPAM_2_1_PS_AN_A</td>\n      <td></td>\n    </tr>\n    <tr>\n      <th>freq</th>\n      <td>79</td>\n      <td>2910</td>\n      <td>221</td>\n      <td>2348</td>\n      <td>365</td>\n      <td>12</td>\n      <td>1572</td>\n      <td>54</td>\n      <td>6</td>\n      <td>8</td>\n      <td>3</td>\n      <td>29</td>\n      <td>349</td>\n      <td>79</td>\n      <td>12</td>\n    </tr>\n  </tbody>\n</table>\n</div>"
          },
          "metadata": {}
        }
      ],
      "execution_count": null
    },
    {
      "cell_type": "code",
      "source": [
        "df.head(10)"
      ],
      "metadata": {
        "colab": {
          "base_uri": "https://localhost:8080/",
          "height": 938
        },
        "id": "DKd2eUylk6GS",
        "outputId": "7593b109-4f2f-4ae0-f8c7-5796c7c2fb87",
        "execution": {
          "iopub.status.busy": "2024-12-20T11:15:57.958955Z",
          "iopub.execute_input": "2024-12-20T11:15:57.959559Z",
          "iopub.status.idle": "2024-12-20T11:15:57.983917Z",
          "shell.execute_reply.started": "2024-12-20T11:15:57.959514Z",
          "shell.execute_reply": "2024-12-20T11:15:57.982942Z"
        },
        "trusted": true
      },
      "outputs": [
        {
          "execution_count": 8,
          "output_type": "execute_result",
          "data": {
            "text/plain": "                          Document  Name  Id Chain Num  \\\n0  2013_40_VAT_OPAM_2_REM_MB_PS_AN  prem  A1     A   1   \n1  2013_40_VAT_OPAM_2_REM_MB_PS_AN  prem  A2     A   2   \n2  2013_40_VAT_OPAM_2_REM_MB_PS_AN  prem  A3     A   3   \n3  2013_40_VAT_OPAM_2_REM_MB_PS_AN  prem  A4     A   4   \n4  2013_40_VAT_OPAM_2_REM_MB_PS_AN  prem  A5     A   5   \n5  2013_40_VAT_OPAM_2_REM_MB_PS_AN  conc  A6     A   6   \n6    2018_847_VAT_OP_2_-1_MB_AF_AN  prem  A1     A   1   \n7    2018_847_VAT_OP_2_-1_MB_AF_AN  prem  A2     A   2   \n8    2018_847_VAT_OP_2_-1_MB_AF_AN  prem  A3     A   3   \n9    2018_847_VAT_OP_2_-1_MB_AF_AN  prem  A4     A   4   \n\n                                                Text Type           SUP  \\\n0  In via preliminare, il Collegio prende in cons...    F           NaN   \n1  Ai sensi dell'art. 14 del d.lgs.546/92, se l'o...    L           NaN   \n2  Se il ricorso non è stato    proposto da o nei...    L           NaN   \n3  Nel caso di specie solo la ILDS ha presentato ...    F           NaN   \n4  come    espressamente richiesto nel ricorso in...    F           NaN   \n5  Poiché ciò non è avvenuto, risulta applicabile...  NaN  [A1, A2, A3]   \n6  Secondo condivisa e costante giurisprudenza (C...    L           NaN   \n7  Tuttavia, nel caso qui in esame, la Comm/ne no...    L      [A3, A4]   \n8  A tal proposito si ricorda che la Corte cost. ...    L           NaN   \n9  Inoltre (Cass. 2.9.2013 n. 20064) “qualora la ...    L           NaN   \n\n        SFF  ATT  INH REPH Scheme                        FullChainID  \\\n0       NaN  NaN  NaN  NaN    NaN  2013_40_VAT_OPAM_2_REM_MB_PS_AN_A   \n1       NaN  NaN  NaN  NaN   Rule  2013_40_VAT_OPAM_2_REM_MB_PS_AN_A   \n2       NaN  NaN  NaN  NaN   Itpr  2013_40_VAT_OPAM_2_REM_MB_PS_AN_A   \n3       NaN  NaN  NaN  NaN    NaN  2013_40_VAT_OPAM_2_REM_MB_PS_AN_A   \n4       NaN  NaN  NaN  NaN    NaN  2013_40_VAT_OPAM_2_REM_MB_PS_AN_A   \n5  [A4, A5]  NaN  NaN  NaN    NaN  2013_40_VAT_OPAM_2_REM_MB_PS_AN_A   \n6       NaN  NaN  NaN  NaN   Rule    2018_847_VAT_OP_2_-1_MB_AF_AN_A   \n7       NaN  NaN  NaN  NaN   Itpr    2018_847_VAT_OP_2_-1_MB_AF_AN_A   \n8       NaN  NaN  NaN  NaN   Prec    2018_847_VAT_OP_2_-1_MB_AF_AN_A   \n9       NaN  NaN  NaN  NaN   Prec    2018_847_VAT_OP_2_-1_MB_AF_AN_A   \n\n                                            Previous  \n0   In via preliminare, il Collegio prende in con...  \n1   Ai sensi dell'art. 14 del d.lgs.546/92, se l'...  \n2   Se il ricorso non è stato\\n    proposto da o ...  \n3   Nel caso di specie solo la ILDS ha presentato...  \n4   come\\n    espressamente richiesto nel ricorso...  \n5  \\n     Poiché ciò non è avvenuto, risulta appl...  \n6  Secondo condivisa e costante giurisprudenza (C...  \n7  Tuttavia, nel caso qui in esame, la Comm/ne no...  \n8  A tal proposito si ricorda che la Corte cost. ...  \n9  Inoltre (Cass. 2.9.2013 n. 20064) “qualora la ...  ",
            "text/html": "<div>\n<style scoped>\n    .dataframe tbody tr th:only-of-type {\n        vertical-align: middle;\n    }\n\n    .dataframe tbody tr th {\n        vertical-align: top;\n    }\n\n    .dataframe thead th {\n        text-align: right;\n    }\n</style>\n<table border=\"1\" class=\"dataframe\">\n  <thead>\n    <tr style=\"text-align: right;\">\n      <th></th>\n      <th>Document</th>\n      <th>Name</th>\n      <th>Id</th>\n      <th>Chain</th>\n      <th>Num</th>\n      <th>Text</th>\n      <th>Type</th>\n      <th>SUP</th>\n      <th>SFF</th>\n      <th>ATT</th>\n      <th>INH</th>\n      <th>REPH</th>\n      <th>Scheme</th>\n      <th>FullChainID</th>\n      <th>Previous</th>\n    </tr>\n  </thead>\n  <tbody>\n    <tr>\n      <th>0</th>\n      <td>2013_40_VAT_OPAM_2_REM_MB_PS_AN</td>\n      <td>prem</td>\n      <td>A1</td>\n      <td>A</td>\n      <td>1</td>\n      <td>In via preliminare, il Collegio prende in cons...</td>\n      <td>F</td>\n      <td>NaN</td>\n      <td>NaN</td>\n      <td>NaN</td>\n      <td>NaN</td>\n      <td>NaN</td>\n      <td>NaN</td>\n      <td>2013_40_VAT_OPAM_2_REM_MB_PS_AN_A</td>\n      <td>In via preliminare, il Collegio prende in con...</td>\n    </tr>\n    <tr>\n      <th>1</th>\n      <td>2013_40_VAT_OPAM_2_REM_MB_PS_AN</td>\n      <td>prem</td>\n      <td>A2</td>\n      <td>A</td>\n      <td>2</td>\n      <td>Ai sensi dell'art. 14 del d.lgs.546/92, se l'o...</td>\n      <td>L</td>\n      <td>NaN</td>\n      <td>NaN</td>\n      <td>NaN</td>\n      <td>NaN</td>\n      <td>NaN</td>\n      <td>Rule</td>\n      <td>2013_40_VAT_OPAM_2_REM_MB_PS_AN_A</td>\n      <td>Ai sensi dell'art. 14 del d.lgs.546/92, se l'...</td>\n    </tr>\n    <tr>\n      <th>2</th>\n      <td>2013_40_VAT_OPAM_2_REM_MB_PS_AN</td>\n      <td>prem</td>\n      <td>A3</td>\n      <td>A</td>\n      <td>3</td>\n      <td>Se il ricorso non è stato    proposto da o nei...</td>\n      <td>L</td>\n      <td>NaN</td>\n      <td>NaN</td>\n      <td>NaN</td>\n      <td>NaN</td>\n      <td>NaN</td>\n      <td>Itpr</td>\n      <td>2013_40_VAT_OPAM_2_REM_MB_PS_AN_A</td>\n      <td>Se il ricorso non è stato\\n    proposto da o ...</td>\n    </tr>\n    <tr>\n      <th>3</th>\n      <td>2013_40_VAT_OPAM_2_REM_MB_PS_AN</td>\n      <td>prem</td>\n      <td>A4</td>\n      <td>A</td>\n      <td>4</td>\n      <td>Nel caso di specie solo la ILDS ha presentato ...</td>\n      <td>F</td>\n      <td>NaN</td>\n      <td>NaN</td>\n      <td>NaN</td>\n      <td>NaN</td>\n      <td>NaN</td>\n      <td>NaN</td>\n      <td>2013_40_VAT_OPAM_2_REM_MB_PS_AN_A</td>\n      <td>Nel caso di specie solo la ILDS ha presentato...</td>\n    </tr>\n    <tr>\n      <th>4</th>\n      <td>2013_40_VAT_OPAM_2_REM_MB_PS_AN</td>\n      <td>prem</td>\n      <td>A5</td>\n      <td>A</td>\n      <td>5</td>\n      <td>come    espressamente richiesto nel ricorso in...</td>\n      <td>F</td>\n      <td>NaN</td>\n      <td>NaN</td>\n      <td>NaN</td>\n      <td>NaN</td>\n      <td>NaN</td>\n      <td>NaN</td>\n      <td>2013_40_VAT_OPAM_2_REM_MB_PS_AN_A</td>\n      <td>come\\n    espressamente richiesto nel ricorso...</td>\n    </tr>\n    <tr>\n      <th>5</th>\n      <td>2013_40_VAT_OPAM_2_REM_MB_PS_AN</td>\n      <td>conc</td>\n      <td>A6</td>\n      <td>A</td>\n      <td>6</td>\n      <td>Poiché ciò non è avvenuto, risulta applicabile...</td>\n      <td>NaN</td>\n      <td>[A1, A2, A3]</td>\n      <td>[A4, A5]</td>\n      <td>NaN</td>\n      <td>NaN</td>\n      <td>NaN</td>\n      <td>NaN</td>\n      <td>2013_40_VAT_OPAM_2_REM_MB_PS_AN_A</td>\n      <td>\\n     Poiché ciò non è avvenuto, risulta appl...</td>\n    </tr>\n    <tr>\n      <th>6</th>\n      <td>2018_847_VAT_OP_2_-1_MB_AF_AN</td>\n      <td>prem</td>\n      <td>A1</td>\n      <td>A</td>\n      <td>1</td>\n      <td>Secondo condivisa e costante giurisprudenza (C...</td>\n      <td>L</td>\n      <td>NaN</td>\n      <td>NaN</td>\n      <td>NaN</td>\n      <td>NaN</td>\n      <td>NaN</td>\n      <td>Rule</td>\n      <td>2018_847_VAT_OP_2_-1_MB_AF_AN_A</td>\n      <td>Secondo condivisa e costante giurisprudenza (C...</td>\n    </tr>\n    <tr>\n      <th>7</th>\n      <td>2018_847_VAT_OP_2_-1_MB_AF_AN</td>\n      <td>prem</td>\n      <td>A2</td>\n      <td>A</td>\n      <td>2</td>\n      <td>Tuttavia, nel caso qui in esame, la Comm/ne no...</td>\n      <td>L</td>\n      <td>[A3, A4]</td>\n      <td>NaN</td>\n      <td>NaN</td>\n      <td>NaN</td>\n      <td>NaN</td>\n      <td>Itpr</td>\n      <td>2018_847_VAT_OP_2_-1_MB_AF_AN_A</td>\n      <td>Tuttavia, nel caso qui in esame, la Comm/ne no...</td>\n    </tr>\n    <tr>\n      <th>8</th>\n      <td>2018_847_VAT_OP_2_-1_MB_AF_AN</td>\n      <td>prem</td>\n      <td>A3</td>\n      <td>A</td>\n      <td>3</td>\n      <td>A tal proposito si ricorda che la Corte cost. ...</td>\n      <td>L</td>\n      <td>NaN</td>\n      <td>NaN</td>\n      <td>NaN</td>\n      <td>NaN</td>\n      <td>NaN</td>\n      <td>Prec</td>\n      <td>2018_847_VAT_OP_2_-1_MB_AF_AN_A</td>\n      <td>A tal proposito si ricorda che la Corte cost. ...</td>\n    </tr>\n    <tr>\n      <th>9</th>\n      <td>2018_847_VAT_OP_2_-1_MB_AF_AN</td>\n      <td>prem</td>\n      <td>A4</td>\n      <td>A</td>\n      <td>4</td>\n      <td>Inoltre (Cass. 2.9.2013 n. 20064) “qualora la ...</td>\n      <td>L</td>\n      <td>NaN</td>\n      <td>NaN</td>\n      <td>NaN</td>\n      <td>NaN</td>\n      <td>NaN</td>\n      <td>Prec</td>\n      <td>2018_847_VAT_OP_2_-1_MB_AF_AN_A</td>\n      <td>Inoltre (Cass. 2.9.2013 n. 20064) “qualora la ...</td>\n    </tr>\n  </tbody>\n</table>\n</div>"
          },
          "metadata": {}
        }
      ],
      "execution_count": null
    },
    {
      "cell_type": "markdown",
      "source": [
        "Example of row with multiple attribute values:"
      ],
      "metadata": {
        "id": "Az9loU0Jl9si"
      }
    },
    {
      "cell_type": "code",
      "source": [
        "df[df[\"FullChainID\"] == \"2021_2717_VAT_OPAM_2_1_FG_PS_AN_A\"]"
      ],
      "metadata": {
        "colab": {
          "base_uri": "https://localhost:8080/",
          "height": 1000
        },
        "id": "DGvelrCgl9sj",
        "outputId": "557a4755-ec84-41cb-f89b-48ed8e70c5d6",
        "execution": {
          "iopub.status.busy": "2024-12-20T11:15:57.985266Z",
          "iopub.execute_input": "2024-12-20T11:15:57.985653Z",
          "iopub.status.idle": "2024-12-20T11:15:58.010362Z",
          "shell.execute_reply.started": "2024-12-20T11:15:57.985607Z",
          "shell.execute_reply": "2024-12-20T11:15:58.009331Z"
        },
        "trusted": true
      },
      "outputs": [
        {
          "execution_count": 9,
          "output_type": "execute_result",
          "data": {
            "text/plain": "                             Document  Name   Id Chain Num  \\\n3213  2021_2717_VAT_OPAM_2_1_FG_PS_AN  conc   A1     A   1   \n3214  2021_2717_VAT_OPAM_2_1_FG_PS_AN  prem   A2     A   2   \n3215  2021_2717_VAT_OPAM_2_1_FG_PS_AN  prem   A3     A   3   \n3216  2021_2717_VAT_OPAM_2_1_FG_PS_AN  prem   A4     A   4   \n3217  2021_2717_VAT_OPAM_2_1_FG_PS_AN  prem   A5     A   5   \n3218  2021_2717_VAT_OPAM_2_1_FG_PS_AN  prem   A6     A   6   \n3219  2021_2717_VAT_OPAM_2_1_FG_PS_AN  prem   A7     A   7   \n3220  2021_2717_VAT_OPAM_2_1_FG_PS_AN  prem   A8     A   8   \n3221  2021_2717_VAT_OPAM_2_1_FG_PS_AN  prem   A9     A   9   \n3222  2021_2717_VAT_OPAM_2_1_FG_PS_AN  prem  A10     A  10   \n3223  2021_2717_VAT_OPAM_2_1_FG_PS_AN  prem  A11     A  11   \n3224  2021_2717_VAT_OPAM_2_1_FG_PS_AN  prem  A12     A  12   \n3225  2021_2717_VAT_OPAM_2_1_FG_PS_AN  prem  A13     A  13   \n\n                                                   Text    Type  \\\n3213  Passando all'esame del motivo di appello con c...     NaN   \n3214  Sul punto, come è noto, giova ricordare che la...       L   \n3215  Con riguardo al primo profilo, dall'esame degl...  [F, L]   \n3216  Per quanto riguarda il secondo profilo (come r...       F   \n3217  Infatti, secondo la corretta interpretazione d...       L   \n3218  Ed ancora, le suddette disposizioni vanno inte...       L   \n3219  Pertanto, tutti i motivi di appello dell'Uffic...       F   \n3220  Inoltre, nel caso specifico va sottolineato il...       F   \n3221  Per quanto riguarda gli ulteriori motivi con i...       F   \n3222  In proposito giova ricordare che l’inesistenza...  [F, L]   \n3223  Più chiaramente la detrazione dell'IVA è indeb...  [F, L]   \n3224  Sul punto è di conforto la pronuncia della Cor...       L   \n3225  In conclusione poichè sono risultati legittimi...       F   \n\n                                   SUP  SFF  ATT  INH REPH        Scheme  \\\n3213                               A13  NaN  NaN  NaN  NaN           NaN   \n3214                               NaN  NaN  NaN  NaN  NaN         Princ   \n3215                               NaN  NaN  NaN  NaN  NaN          Rule   \n3216                          [A5, A6]  NaN  NaN  NaN  NaN           NaN   \n3217                               NaN  NaN  NaN  NaN  NaN          Rule   \n3218                               NaN  NaN  NaN  NaN  NaN          Prec   \n3219                      [A2, A3, A4]  NaN  NaN  NaN  NaN           NaN   \n3220                               NaN  NaN  NaN  NaN  NaN           NaN   \n3221                               NaN  NaN  NaN  NaN  NaN           NaN   \n3222                               NaN  NaN  NaN  NaN  NaN  [Prec, Rule]   \n3223                               NaN  NaN  NaN  NaN  NaN          Rule   \n3224                               NaN  NaN  NaN  NaN  NaN          Prec   \n3225  [A10, A11, A12, A13, A7, A8, A9]  NaN  NaN  NaN  NaN           NaN   \n\n                            FullChainID  \\\n3213  2021_2717_VAT_OPAM_2_1_FG_PS_AN_A   \n3214  2021_2717_VAT_OPAM_2_1_FG_PS_AN_A   \n3215  2021_2717_VAT_OPAM_2_1_FG_PS_AN_A   \n3216  2021_2717_VAT_OPAM_2_1_FG_PS_AN_A   \n3217  2021_2717_VAT_OPAM_2_1_FG_PS_AN_A   \n3218  2021_2717_VAT_OPAM_2_1_FG_PS_AN_A   \n3219  2021_2717_VAT_OPAM_2_1_FG_PS_AN_A   \n3220  2021_2717_VAT_OPAM_2_1_FG_PS_AN_A   \n3221  2021_2717_VAT_OPAM_2_1_FG_PS_AN_A   \n3222  2021_2717_VAT_OPAM_2_1_FG_PS_AN_A   \n3223  2021_2717_VAT_OPAM_2_1_FG_PS_AN_A   \n3224  2021_2717_VAT_OPAM_2_1_FG_PS_AN_A   \n3225  2021_2717_VAT_OPAM_2_1_FG_PS_AN_A   \n\n                                               Previous  \n3213  Passando all'esame del motivo di appello con c...  \n3214  Sul punto, come è noto, giova ricordare che la...  \n3215  Con riguardo al primo profilo, dall'esame degl...  \n3216  Per quanto riguarda il secondo profilo (come r...  \n3217  Infatti, secondo la corretta interpretazione d...  \n3218  Ed ancora, le suddette disposizioni vanno inte...  \n3219  Pertanto, tutti i motivi di appello dell'Uffic...  \n3220  Inoltre, nel caso specifico va sottolineato il...  \n3221  Per quanto riguarda gli ulteriori motivi con i...  \n3222  In proposito giova ricordare che l’inesistenza...  \n3223  Più chiaramente la detrazione dell'IVA è indeb...  \n3224  Sul punto è di conforto la pronuncia della Cor...  \n3225  In conclusione poichè sono risultati legittimi...  ",
            "text/html": "<div>\n<style scoped>\n    .dataframe tbody tr th:only-of-type {\n        vertical-align: middle;\n    }\n\n    .dataframe tbody tr th {\n        vertical-align: top;\n    }\n\n    .dataframe thead th {\n        text-align: right;\n    }\n</style>\n<table border=\"1\" class=\"dataframe\">\n  <thead>\n    <tr style=\"text-align: right;\">\n      <th></th>\n      <th>Document</th>\n      <th>Name</th>\n      <th>Id</th>\n      <th>Chain</th>\n      <th>Num</th>\n      <th>Text</th>\n      <th>Type</th>\n      <th>SUP</th>\n      <th>SFF</th>\n      <th>ATT</th>\n      <th>INH</th>\n      <th>REPH</th>\n      <th>Scheme</th>\n      <th>FullChainID</th>\n      <th>Previous</th>\n    </tr>\n  </thead>\n  <tbody>\n    <tr>\n      <th>3213</th>\n      <td>2021_2717_VAT_OPAM_2_1_FG_PS_AN</td>\n      <td>conc</td>\n      <td>A1</td>\n      <td>A</td>\n      <td>1</td>\n      <td>Passando all'esame del motivo di appello con c...</td>\n      <td>NaN</td>\n      <td>A13</td>\n      <td>NaN</td>\n      <td>NaN</td>\n      <td>NaN</td>\n      <td>NaN</td>\n      <td>NaN</td>\n      <td>2021_2717_VAT_OPAM_2_1_FG_PS_AN_A</td>\n      <td>Passando all'esame del motivo di appello con c...</td>\n    </tr>\n    <tr>\n      <th>3214</th>\n      <td>2021_2717_VAT_OPAM_2_1_FG_PS_AN</td>\n      <td>prem</td>\n      <td>A2</td>\n      <td>A</td>\n      <td>2</td>\n      <td>Sul punto, come è noto, giova ricordare che la...</td>\n      <td>L</td>\n      <td>NaN</td>\n      <td>NaN</td>\n      <td>NaN</td>\n      <td>NaN</td>\n      <td>NaN</td>\n      <td>Princ</td>\n      <td>2021_2717_VAT_OPAM_2_1_FG_PS_AN_A</td>\n      <td>Sul punto, come è noto, giova ricordare che la...</td>\n    </tr>\n    <tr>\n      <th>3215</th>\n      <td>2021_2717_VAT_OPAM_2_1_FG_PS_AN</td>\n      <td>prem</td>\n      <td>A3</td>\n      <td>A</td>\n      <td>3</td>\n      <td>Con riguardo al primo profilo, dall'esame degl...</td>\n      <td>[F, L]</td>\n      <td>NaN</td>\n      <td>NaN</td>\n      <td>NaN</td>\n      <td>NaN</td>\n      <td>NaN</td>\n      <td>Rule</td>\n      <td>2021_2717_VAT_OPAM_2_1_FG_PS_AN_A</td>\n      <td>Con riguardo al primo profilo, dall'esame degl...</td>\n    </tr>\n    <tr>\n      <th>3216</th>\n      <td>2021_2717_VAT_OPAM_2_1_FG_PS_AN</td>\n      <td>prem</td>\n      <td>A4</td>\n      <td>A</td>\n      <td>4</td>\n      <td>Per quanto riguarda il secondo profilo (come r...</td>\n      <td>F</td>\n      <td>[A5, A6]</td>\n      <td>NaN</td>\n      <td>NaN</td>\n      <td>NaN</td>\n      <td>NaN</td>\n      <td>NaN</td>\n      <td>2021_2717_VAT_OPAM_2_1_FG_PS_AN_A</td>\n      <td>Per quanto riguarda il secondo profilo (come r...</td>\n    </tr>\n    <tr>\n      <th>3217</th>\n      <td>2021_2717_VAT_OPAM_2_1_FG_PS_AN</td>\n      <td>prem</td>\n      <td>A5</td>\n      <td>A</td>\n      <td>5</td>\n      <td>Infatti, secondo la corretta interpretazione d...</td>\n      <td>L</td>\n      <td>NaN</td>\n      <td>NaN</td>\n      <td>NaN</td>\n      <td>NaN</td>\n      <td>NaN</td>\n      <td>Rule</td>\n      <td>2021_2717_VAT_OPAM_2_1_FG_PS_AN_A</td>\n      <td>Infatti, secondo la corretta interpretazione d...</td>\n    </tr>\n    <tr>\n      <th>3218</th>\n      <td>2021_2717_VAT_OPAM_2_1_FG_PS_AN</td>\n      <td>prem</td>\n      <td>A6</td>\n      <td>A</td>\n      <td>6</td>\n      <td>Ed ancora, le suddette disposizioni vanno inte...</td>\n      <td>L</td>\n      <td>NaN</td>\n      <td>NaN</td>\n      <td>NaN</td>\n      <td>NaN</td>\n      <td>NaN</td>\n      <td>Prec</td>\n      <td>2021_2717_VAT_OPAM_2_1_FG_PS_AN_A</td>\n      <td>Ed ancora, le suddette disposizioni vanno inte...</td>\n    </tr>\n    <tr>\n      <th>3219</th>\n      <td>2021_2717_VAT_OPAM_2_1_FG_PS_AN</td>\n      <td>prem</td>\n      <td>A7</td>\n      <td>A</td>\n      <td>7</td>\n      <td>Pertanto, tutti i motivi di appello dell'Uffic...</td>\n      <td>F</td>\n      <td>[A2, A3, A4]</td>\n      <td>NaN</td>\n      <td>NaN</td>\n      <td>NaN</td>\n      <td>NaN</td>\n      <td>NaN</td>\n      <td>2021_2717_VAT_OPAM_2_1_FG_PS_AN_A</td>\n      <td>Pertanto, tutti i motivi di appello dell'Uffic...</td>\n    </tr>\n    <tr>\n      <th>3220</th>\n      <td>2021_2717_VAT_OPAM_2_1_FG_PS_AN</td>\n      <td>prem</td>\n      <td>A8</td>\n      <td>A</td>\n      <td>8</td>\n      <td>Inoltre, nel caso specifico va sottolineato il...</td>\n      <td>F</td>\n      <td>NaN</td>\n      <td>NaN</td>\n      <td>NaN</td>\n      <td>NaN</td>\n      <td>NaN</td>\n      <td>NaN</td>\n      <td>2021_2717_VAT_OPAM_2_1_FG_PS_AN_A</td>\n      <td>Inoltre, nel caso specifico va sottolineato il...</td>\n    </tr>\n    <tr>\n      <th>3221</th>\n      <td>2021_2717_VAT_OPAM_2_1_FG_PS_AN</td>\n      <td>prem</td>\n      <td>A9</td>\n      <td>A</td>\n      <td>9</td>\n      <td>Per quanto riguarda gli ulteriori motivi con i...</td>\n      <td>F</td>\n      <td>NaN</td>\n      <td>NaN</td>\n      <td>NaN</td>\n      <td>NaN</td>\n      <td>NaN</td>\n      <td>NaN</td>\n      <td>2021_2717_VAT_OPAM_2_1_FG_PS_AN_A</td>\n      <td>Per quanto riguarda gli ulteriori motivi con i...</td>\n    </tr>\n    <tr>\n      <th>3222</th>\n      <td>2021_2717_VAT_OPAM_2_1_FG_PS_AN</td>\n      <td>prem</td>\n      <td>A10</td>\n      <td>A</td>\n      <td>10</td>\n      <td>In proposito giova ricordare che l’inesistenza...</td>\n      <td>[F, L]</td>\n      <td>NaN</td>\n      <td>NaN</td>\n      <td>NaN</td>\n      <td>NaN</td>\n      <td>NaN</td>\n      <td>[Prec, Rule]</td>\n      <td>2021_2717_VAT_OPAM_2_1_FG_PS_AN_A</td>\n      <td>In proposito giova ricordare che l’inesistenza...</td>\n    </tr>\n    <tr>\n      <th>3223</th>\n      <td>2021_2717_VAT_OPAM_2_1_FG_PS_AN</td>\n      <td>prem</td>\n      <td>A11</td>\n      <td>A</td>\n      <td>11</td>\n      <td>Più chiaramente la detrazione dell'IVA è indeb...</td>\n      <td>[F, L]</td>\n      <td>NaN</td>\n      <td>NaN</td>\n      <td>NaN</td>\n      <td>NaN</td>\n      <td>NaN</td>\n      <td>Rule</td>\n      <td>2021_2717_VAT_OPAM_2_1_FG_PS_AN_A</td>\n      <td>Più chiaramente la detrazione dell'IVA è indeb...</td>\n    </tr>\n    <tr>\n      <th>3224</th>\n      <td>2021_2717_VAT_OPAM_2_1_FG_PS_AN</td>\n      <td>prem</td>\n      <td>A12</td>\n      <td>A</td>\n      <td>12</td>\n      <td>Sul punto è di conforto la pronuncia della Cor...</td>\n      <td>L</td>\n      <td>NaN</td>\n      <td>NaN</td>\n      <td>NaN</td>\n      <td>NaN</td>\n      <td>NaN</td>\n      <td>Prec</td>\n      <td>2021_2717_VAT_OPAM_2_1_FG_PS_AN_A</td>\n      <td>Sul punto è di conforto la pronuncia della Cor...</td>\n    </tr>\n    <tr>\n      <th>3225</th>\n      <td>2021_2717_VAT_OPAM_2_1_FG_PS_AN</td>\n      <td>prem</td>\n      <td>A13</td>\n      <td>A</td>\n      <td>13</td>\n      <td>In conclusione poichè sono risultati legittimi...</td>\n      <td>F</td>\n      <td>[A10, A11, A12, A13, A7, A8, A9]</td>\n      <td>NaN</td>\n      <td>NaN</td>\n      <td>NaN</td>\n      <td>NaN</td>\n      <td>NaN</td>\n      <td>2021_2717_VAT_OPAM_2_1_FG_PS_AN_A</td>\n      <td>In conclusione poichè sono risultati legittimi...</td>\n    </tr>\n  </tbody>\n</table>\n</div>"
          },
          "metadata": {}
        }
      ],
      "execution_count": null
    },
    {
      "cell_type": "markdown",
      "source": [
        "# Preproccesing"
      ],
      "metadata": {
        "id": "K78LAtcaGNEE"
      }
    },
    {
      "cell_type": "markdown",
      "source": [
        "## Removing NaN values"
      ],
      "metadata": {
        "id": "LnLoaCWQGz5W"
      }
    },
    {
      "cell_type": "markdown",
      "source": [
        "Check whether there are any null values for ARGUMENT CLASSIFICATION(AC) task (Name column), and if it's the case then drop them:"
      ],
      "metadata": {
        "id": "9B18ZNXLk6GU"
      }
    },
    {
      "cell_type": "code",
      "source": [
        "df_ac = df[~(df['Name'].isnull())].reset_index(drop=True)\n",
        "\n",
        "df_ac['Name'].unique()"
      ],
      "metadata": {
        "colab": {
          "base_uri": "https://localhost:8080/"
        },
        "id": "tlturRTRk6GV",
        "outputId": "302e0670-f4c5-4799-b1aa-1f6106a88945",
        "execution": {
          "iopub.status.busy": "2024-12-20T11:15:58.011547Z",
          "iopub.execute_input": "2024-12-20T11:15:58.011926Z",
          "iopub.status.idle": "2024-12-20T11:15:58.025153Z",
          "shell.execute_reply.started": "2024-12-20T11:15:58.011885Z",
          "shell.execute_reply": "2024-12-20T11:15:58.024238Z"
        },
        "trusted": true
      },
      "outputs": [
        {
          "execution_count": 10,
          "output_type": "execute_result",
          "data": {
            "text/plain": "array(['prem', 'conc'], dtype=object)"
          },
          "metadata": {}
        }
      ],
      "execution_count": null
    },
    {
      "cell_type": "markdown",
      "source": [
        "Check whether there are any null values for TYPE CLASSIFICATION(TC) task (Type column), and if it's the case then drop them"
      ],
      "metadata": {
        "id": "y7GvPEfNk6GW"
      }
    },
    {
      "cell_type": "code",
      "source": [
        "df_tc = df_ac[~(df_ac['Type'].isnull())].reset_index(drop=True)\n",
        "\n",
        "df_tc.describe()\n",
        "\n",
        "df_tc['Type'].drop_duplicates()\n"
      ],
      "metadata": {
        "colab": {
          "base_uri": "https://localhost:8080/"
        },
        "id": "4XQlgqOPk6GW",
        "outputId": "ca91e51f-23d5-459e-8a50-a8cf038d685c",
        "execution": {
          "iopub.status.busy": "2024-12-20T11:15:58.026321Z",
          "iopub.execute_input": "2024-12-20T11:15:58.026673Z",
          "iopub.status.idle": "2024-12-20T11:15:58.058804Z",
          "shell.execute_reply.started": "2024-12-20T11:15:58.026634Z",
          "shell.execute_reply": "2024-12-20T11:15:58.057813Z"
        },
        "trusted": true
      },
      "outputs": [
        {
          "execution_count": 11,
          "output_type": "execute_result",
          "data": {
            "text/plain": "0          F\n1          L\n13    [F, L]\nName: Type, dtype: object"
          },
          "metadata": {}
        }
      ],
      "execution_count": null
    },
    {
      "cell_type": "markdown",
      "source": [
        "Check whether there are any null values for SCHEME CLASSIFICATION(SC) task (Scheme column), and if it's the case then drop them"
      ],
      "metadata": {
        "id": "BR15CCTIk6GX"
      }
    },
    {
      "cell_type": "code",
      "source": [
        "df_sc = df_tc[~(df_tc['Scheme'].isnull())].reset_index(drop=True)\n",
        "\n",
        "#print(df_sc.describe())\n",
        "\n",
        "df_sc['Scheme'].drop_duplicates()"
      ],
      "metadata": {
        "colab": {
          "base_uri": "https://localhost:8080/"
        },
        "id": "iXGvfxi1k6GX",
        "outputId": "1b67bb58-a5b1-4b79-d4d8-a88813b1178c",
        "execution": {
          "iopub.status.busy": "2024-12-20T11:15:58.05984Z",
          "iopub.execute_input": "2024-12-20T11:15:58.06017Z",
          "iopub.status.idle": "2024-12-20T11:15:58.072172Z",
          "shell.execute_reply.started": "2024-12-20T11:15:58.060141Z",
          "shell.execute_reply": "2024-12-20T11:15:58.071075Z"
        },
        "trusted": true
      },
      "outputs": [
        {
          "execution_count": 12,
          "output_type": "execute_result",
          "data": {
            "text/plain": "0                      Rule\n1                      Itpr\n4                      Prec\n15             [Itpr, Prec]\n21                      Aut\n               ...         \n1223    [Class, Itpr, Rule]\n1240           [Acon, Itpr]\n1241          [Class, Tele]\n1276     [Prec, Rule, Syst]\n1282     [Aut, Itpr, Princ]\nName: Scheme, Length: 63, dtype: object"
          },
          "metadata": {}
        }
      ],
      "execution_count": null
    },
    {
      "cell_type": "code",
      "source": [
        "#remove excessive white spaces from text column\n",
        "import re\n",
        "def remove_whitespace(text):\n",
        "    t = re.sub(' +', ' ', text)\n",
        "    return t\n",
        "\n",
        "df_sc['Text'] =df_sc['Text'].map(remove_whitespace)\n",
        "df_sc['Text'][1]\n"
      ],
      "metadata": {
        "trusted": true,
        "execution": {
          "iopub.status.busy": "2024-12-20T11:15:58.073281Z",
          "iopub.execute_input": "2024-12-20T11:15:58.073627Z",
          "iopub.status.idle": "2024-12-20T11:15:58.136837Z",
          "shell.execute_reply.started": "2024-12-20T11:15:58.073565Z",
          "shell.execute_reply": "2024-12-20T11:15:58.135894Z"
        },
        "id": "QRv5P9Zv5GsP",
        "outputId": "94a3acf5-eb7e-4613-e4c5-6304aa50020a"
      },
      "outputs": [
        {
          "execution_count": 13,
          "output_type": "execute_result",
          "data": {
            "text/plain": "\"Se il ricorso non è stato proposto da o nei confronti di tutti i soggetti sopra indicati deve essere ordinata l'integrazione del contraddittorio mediante la loro chiamata in causa entro un termine stabilito a pena di decadenza\""
          },
          "metadata": {}
        }
      ],
      "execution_count": null
    },
    {
      "cell_type": "code",
      "source": [
        "df_ac.describe().drop('top',axis=0)"
      ],
      "metadata": {
        "colab": {
          "base_uri": "https://localhost:8080/",
          "height": 143
        },
        "id": "TzEB4o1zk6GY",
        "outputId": "a183f0ad-4b04-4634-f2bd-8eb175255a7d",
        "execution": {
          "iopub.status.busy": "2024-12-20T11:15:58.13886Z",
          "iopub.execute_input": "2024-12-20T11:15:58.139072Z",
          "iopub.status.idle": "2024-12-20T11:15:58.18289Z",
          "shell.execute_reply.started": "2024-12-20T11:15:58.139049Z",
          "shell.execute_reply": "2024-12-20T11:15:58.181943Z"
        },
        "trusted": true
      },
      "outputs": [
        {
          "execution_count": 14,
          "output_type": "execute_result",
          "data": {
            "text/plain": "       Document  Name    Id Chain   Num  Text  Type   SUP SFF ATT INH REPH  \\\ncount      3311  3311  3311  3311  3311  3311  2910  1088  82  66  25   89   \nunique      225     2   264    10    98  3163     3   428  48  32  19   31   \nfreq         79  2910   221  2348   365    12  1572    54   6   8   3   29   \n\n       Scheme FullChainID Previous  \ncount    1314        3311     3311  \nunique     63         367     3186  \nfreq      349          79       12  ",
            "text/html": "<div>\n<style scoped>\n    .dataframe tbody tr th:only-of-type {\n        vertical-align: middle;\n    }\n\n    .dataframe tbody tr th {\n        vertical-align: top;\n    }\n\n    .dataframe thead th {\n        text-align: right;\n    }\n</style>\n<table border=\"1\" class=\"dataframe\">\n  <thead>\n    <tr style=\"text-align: right;\">\n      <th></th>\n      <th>Document</th>\n      <th>Name</th>\n      <th>Id</th>\n      <th>Chain</th>\n      <th>Num</th>\n      <th>Text</th>\n      <th>Type</th>\n      <th>SUP</th>\n      <th>SFF</th>\n      <th>ATT</th>\n      <th>INH</th>\n      <th>REPH</th>\n      <th>Scheme</th>\n      <th>FullChainID</th>\n      <th>Previous</th>\n    </tr>\n  </thead>\n  <tbody>\n    <tr>\n      <th>count</th>\n      <td>3311</td>\n      <td>3311</td>\n      <td>3311</td>\n      <td>3311</td>\n      <td>3311</td>\n      <td>3311</td>\n      <td>2910</td>\n      <td>1088</td>\n      <td>82</td>\n      <td>66</td>\n      <td>25</td>\n      <td>89</td>\n      <td>1314</td>\n      <td>3311</td>\n      <td>3311</td>\n    </tr>\n    <tr>\n      <th>unique</th>\n      <td>225</td>\n      <td>2</td>\n      <td>264</td>\n      <td>10</td>\n      <td>98</td>\n      <td>3163</td>\n      <td>3</td>\n      <td>428</td>\n      <td>48</td>\n      <td>32</td>\n      <td>19</td>\n      <td>31</td>\n      <td>63</td>\n      <td>367</td>\n      <td>3186</td>\n    </tr>\n    <tr>\n      <th>freq</th>\n      <td>79</td>\n      <td>2910</td>\n      <td>221</td>\n      <td>2348</td>\n      <td>365</td>\n      <td>12</td>\n      <td>1572</td>\n      <td>54</td>\n      <td>6</td>\n      <td>8</td>\n      <td>3</td>\n      <td>29</td>\n      <td>349</td>\n      <td>79</td>\n      <td>12</td>\n    </tr>\n  </tbody>\n</table>\n</div>"
          },
          "metadata": {}
        }
      ],
      "execution_count": null
    },
    {
      "cell_type": "code",
      "source": [
        "df_tc.describe().drop('top',axis=0)"
      ],
      "metadata": {
        "colab": {
          "base_uri": "https://localhost:8080/",
          "height": 143
        },
        "id": "sfq9mwlDk6GZ",
        "outputId": "306befda-113e-48fb-c8b6-7ffac3c92bf2",
        "execution": {
          "iopub.status.busy": "2024-12-20T11:16:09.654044Z",
          "iopub.execute_input": "2024-12-20T11:16:09.654872Z",
          "iopub.status.idle": "2024-12-20T11:16:09.695698Z",
          "shell.execute_reply.started": "2024-12-20T11:16:09.654836Z",
          "shell.execute_reply": "2024-12-20T11:16:09.694859Z"
        },
        "trusted": true
      },
      "outputs": [
        {
          "execution_count": 15,
          "output_type": "execute_result",
          "data": {
            "text/plain": "       Document  Name    Id Chain   Num  Text  Type  SUP SFF ATT INH REPH  \\\ncount      2910  2910  2910  2910  2910  2910  2910  691  42  66  25   20   \nunique      225     1   255    10    95  2797     3  299  28  32  19   16   \nfreq         78  2910   214  2094   347    11  1572   30   4   8   3    2   \n\n       Scheme FullChainID Previous  \ncount    1314        2910     2910  \nunique     63         367     2812  \nfreq      349          78       11  ",
            "text/html": "<div>\n<style scoped>\n    .dataframe tbody tr th:only-of-type {\n        vertical-align: middle;\n    }\n\n    .dataframe tbody tr th {\n        vertical-align: top;\n    }\n\n    .dataframe thead th {\n        text-align: right;\n    }\n</style>\n<table border=\"1\" class=\"dataframe\">\n  <thead>\n    <tr style=\"text-align: right;\">\n      <th></th>\n      <th>Document</th>\n      <th>Name</th>\n      <th>Id</th>\n      <th>Chain</th>\n      <th>Num</th>\n      <th>Text</th>\n      <th>Type</th>\n      <th>SUP</th>\n      <th>SFF</th>\n      <th>ATT</th>\n      <th>INH</th>\n      <th>REPH</th>\n      <th>Scheme</th>\n      <th>FullChainID</th>\n      <th>Previous</th>\n    </tr>\n  </thead>\n  <tbody>\n    <tr>\n      <th>count</th>\n      <td>2910</td>\n      <td>2910</td>\n      <td>2910</td>\n      <td>2910</td>\n      <td>2910</td>\n      <td>2910</td>\n      <td>2910</td>\n      <td>691</td>\n      <td>42</td>\n      <td>66</td>\n      <td>25</td>\n      <td>20</td>\n      <td>1314</td>\n      <td>2910</td>\n      <td>2910</td>\n    </tr>\n    <tr>\n      <th>unique</th>\n      <td>225</td>\n      <td>1</td>\n      <td>255</td>\n      <td>10</td>\n      <td>95</td>\n      <td>2797</td>\n      <td>3</td>\n      <td>299</td>\n      <td>28</td>\n      <td>32</td>\n      <td>19</td>\n      <td>16</td>\n      <td>63</td>\n      <td>367</td>\n      <td>2812</td>\n    </tr>\n    <tr>\n      <th>freq</th>\n      <td>78</td>\n      <td>2910</td>\n      <td>214</td>\n      <td>2094</td>\n      <td>347</td>\n      <td>11</td>\n      <td>1572</td>\n      <td>30</td>\n      <td>4</td>\n      <td>8</td>\n      <td>3</td>\n      <td>2</td>\n      <td>349</td>\n      <td>78</td>\n      <td>11</td>\n    </tr>\n  </tbody>\n</table>\n</div>"
          },
          "metadata": {}
        }
      ],
      "execution_count": null
    },
    {
      "cell_type": "code",
      "source": [
        "df_sc.describe().drop('top', axis=0)"
      ],
      "metadata": {
        "colab": {
          "base_uri": "https://localhost:8080/",
          "height": 143
        },
        "id": "p_4kY233k6GZ",
        "outputId": "05832c24-d715-49b3-fdf2-6756cec67b89",
        "execution": {
          "iopub.status.busy": "2024-12-20T11:16:10.289725Z",
          "iopub.execute_input": "2024-12-20T11:16:10.29011Z",
          "iopub.status.idle": "2024-12-20T11:16:10.32602Z",
          "shell.execute_reply.started": "2024-12-20T11:16:10.290072Z",
          "shell.execute_reply": "2024-12-20T11:16:10.325183Z"
        },
        "trusted": true
      },
      "outputs": [
        {
          "execution_count": 16,
          "output_type": "execute_result",
          "data": {
            "text/plain": "       Document  Name    Id Chain   Num  Text  Type  SUP SFF ATT INH REPH  \\\ncount      1314  1314  1314  1314  1314  1314  1314  272  14   9  14    3   \nunique      203     1   164    10    62  1241     3  129  11   7  13    3   \nfreq         41  1314   103   944   174     3  1000   15   2   2   2    1   \n\n       Scheme FullChainID Previous  \ncount    1314        1314     1314  \nunique     63         309     1260  \nfreq      349          41        3  ",
            "text/html": "<div>\n<style scoped>\n    .dataframe tbody tr th:only-of-type {\n        vertical-align: middle;\n    }\n\n    .dataframe tbody tr th {\n        vertical-align: top;\n    }\n\n    .dataframe thead th {\n        text-align: right;\n    }\n</style>\n<table border=\"1\" class=\"dataframe\">\n  <thead>\n    <tr style=\"text-align: right;\">\n      <th></th>\n      <th>Document</th>\n      <th>Name</th>\n      <th>Id</th>\n      <th>Chain</th>\n      <th>Num</th>\n      <th>Text</th>\n      <th>Type</th>\n      <th>SUP</th>\n      <th>SFF</th>\n      <th>ATT</th>\n      <th>INH</th>\n      <th>REPH</th>\n      <th>Scheme</th>\n      <th>FullChainID</th>\n      <th>Previous</th>\n    </tr>\n  </thead>\n  <tbody>\n    <tr>\n      <th>count</th>\n      <td>1314</td>\n      <td>1314</td>\n      <td>1314</td>\n      <td>1314</td>\n      <td>1314</td>\n      <td>1314</td>\n      <td>1314</td>\n      <td>272</td>\n      <td>14</td>\n      <td>9</td>\n      <td>14</td>\n      <td>3</td>\n      <td>1314</td>\n      <td>1314</td>\n      <td>1314</td>\n    </tr>\n    <tr>\n      <th>unique</th>\n      <td>203</td>\n      <td>1</td>\n      <td>164</td>\n      <td>10</td>\n      <td>62</td>\n      <td>1241</td>\n      <td>3</td>\n      <td>129</td>\n      <td>11</td>\n      <td>7</td>\n      <td>13</td>\n      <td>3</td>\n      <td>63</td>\n      <td>309</td>\n      <td>1260</td>\n    </tr>\n    <tr>\n      <th>freq</th>\n      <td>41</td>\n      <td>1314</td>\n      <td>103</td>\n      <td>944</td>\n      <td>174</td>\n      <td>3</td>\n      <td>1000</td>\n      <td>15</td>\n      <td>2</td>\n      <td>2</td>\n      <td>2</td>\n      <td>1</td>\n      <td>349</td>\n      <td>41</td>\n      <td>3</td>\n    </tr>\n  </tbody>\n</table>\n</div>"
          },
          "metadata": {}
        }
      ],
      "execution_count": null
    },
    {
      "cell_type": "markdown",
      "source": [
        "## Argument classification Label Encoder"
      ],
      "metadata": {
        "id": "i2nAYnxhGUHO"
      }
    },
    {
      "cell_type": "code",
      "source": [
        "#df_ac['label'] = df_ac.Name.map({'prem': 0, 'conc': 1})"
      ],
      "metadata": {
        "id": "Jjbz1xKqk6Gh",
        "execution": {
          "iopub.status.busy": "2024-12-20T11:16:11.271549Z",
          "iopub.execute_input": "2024-12-20T11:16:11.271889Z",
          "iopub.status.idle": "2024-12-20T11:16:11.275622Z",
          "shell.execute_reply.started": "2024-12-20T11:16:11.271861Z",
          "shell.execute_reply": "2024-12-20T11:16:11.274752Z"
        },
        "trusted": true
      },
      "outputs": [],
      "execution_count": null
    },
    {
      "cell_type": "code",
      "source": [
        "from sklearn.preprocessing import LabelEncoder\n",
        "\n",
        "le = LabelEncoder()\n",
        "\n",
        "df_ac['label'] = le.fit_transform(df_ac['Name'])\n",
        "\n",
        "le.classes_\n",
        "\n",
        "le.inverse_transform([0,1])"
      ],
      "metadata": {
        "colab": {
          "base_uri": "https://localhost:8080/"
        },
        "id": "N7d9dVO5k6Gh",
        "outputId": "9aad1fe4-fbb9-462b-9c9e-5b481c500075",
        "execution": {
          "iopub.status.busy": "2024-12-20T11:16:11.810167Z",
          "iopub.execute_input": "2024-12-20T11:16:11.810773Z",
          "iopub.status.idle": "2024-12-20T11:16:11.81896Z",
          "shell.execute_reply.started": "2024-12-20T11:16:11.810742Z",
          "shell.execute_reply": "2024-12-20T11:16:11.817992Z"
        },
        "trusted": true
      },
      "outputs": [
        {
          "execution_count": 18,
          "output_type": "execute_result",
          "data": {
            "text/plain": "array(['conc', 'prem'], dtype=object)"
          },
          "metadata": {}
        }
      ],
      "execution_count": null
    },
    {
      "cell_type": "code",
      "source": [
        "df_ac['label'].unique()"
      ],
      "metadata": {
        "colab": {
          "base_uri": "https://localhost:8080/"
        },
        "id": "lQ197Nrlk6G2",
        "outputId": "3290e5f0-461c-4fda-8ff4-43ff3ebd1d8b",
        "execution": {
          "iopub.status.busy": "2024-12-20T11:16:12.518406Z",
          "iopub.execute_input": "2024-12-20T11:16:12.518737Z",
          "iopub.status.idle": "2024-12-20T11:16:12.527114Z",
          "shell.execute_reply.started": "2024-12-20T11:16:12.518708Z",
          "shell.execute_reply": "2024-12-20T11:16:12.526153Z"
        },
        "trusted": true
      },
      "outputs": [
        {
          "execution_count": 19,
          "output_type": "execute_result",
          "data": {
            "text/plain": "array([1, 0])"
          },
          "metadata": {}
        }
      ],
      "execution_count": null
    },
    {
      "cell_type": "code",
      "source": [
        "df_ac['Name'].unique()"
      ],
      "metadata": {
        "colab": {
          "base_uri": "https://localhost:8080/"
        },
        "id": "gIKGCk0fk6G3",
        "outputId": "5b98f4fa-5660-4381-a642-bfb2c88156fc",
        "execution": {
          "iopub.status.busy": "2024-12-20T11:16:14.945795Z",
          "iopub.execute_input": "2024-12-20T11:16:14.946126Z",
          "iopub.status.idle": "2024-12-20T11:16:14.951982Z",
          "shell.execute_reply.started": "2024-12-20T11:16:14.946097Z",
          "shell.execute_reply": "2024-12-20T11:16:14.951171Z"
        },
        "trusted": true
      },
      "outputs": [
        {
          "execution_count": 20,
          "output_type": "execute_result",
          "data": {
            "text/plain": "array(['prem', 'conc'], dtype=object)"
          },
          "metadata": {}
        }
      ],
      "execution_count": null
    },
    {
      "cell_type": "code",
      "source": [
        "df_ac['label'].hist()"
      ],
      "metadata": {
        "colab": {
          "base_uri": "https://localhost:8080/",
          "height": 448
        },
        "id": "_mFeTOnOk6G4",
        "outputId": "49b2e293-b7e8-410b-cb99-4a81122649e3",
        "execution": {
          "iopub.status.busy": "2024-12-20T11:16:15.252404Z",
          "iopub.execute_input": "2024-12-20T11:16:15.252727Z",
          "iopub.status.idle": "2024-12-20T11:16:15.573386Z",
          "shell.execute_reply.started": "2024-12-20T11:16:15.252699Z",
          "shell.execute_reply": "2024-12-20T11:16:15.572514Z"
        },
        "trusted": true
      },
      "outputs": [
        {
          "execution_count": 21,
          "output_type": "execute_result",
          "data": {
            "text/plain": "<Axes: >"
          },
          "metadata": {}
        },
        {
          "output_type": "display_data",
          "data": {
            "text/plain": "<Figure size 640x480 with 1 Axes>",
            "image/png": "[encoded data removed]"
          },
          "metadata": {}
        }
      ],
      "execution_count": null
    },
    {
      "cell_type": "markdown",
      "source": [
        "## Type classification multi-label-binarizer"
      ],
      "metadata": {
        "id": "9wLFyRHZk6Ga"
      }
    },
    {
      "cell_type": "code",
      "source": [
        "df_tc.loc[13,'Type']"
      ],
      "metadata": {
        "colab": {
          "base_uri": "https://localhost:8080/"
        },
        "id": "4nBwowhFk6Ga",
        "outputId": "60ebfad4-78e0-448b-c76e-588317542c5b",
        "execution": {
          "iopub.status.busy": "2024-12-20T11:16:15.984218Z",
          "iopub.execute_input": "2024-12-20T11:16:15.985132Z",
          "iopub.status.idle": "2024-12-20T11:16:15.9904Z",
          "shell.execute_reply.started": "2024-12-20T11:16:15.985097Z",
          "shell.execute_reply": "2024-12-20T11:16:15.989553Z"
        },
        "trusted": true
      },
      "outputs": [
        {
          "execution_count": 22,
          "output_type": "execute_result",
          "data": {
            "text/plain": "['F', 'L']"
          },
          "metadata": {}
        }
      ],
      "execution_count": null
    },
    {
      "cell_type": "code",
      "source": [
        "#need to extract the values from the list, in a way to pass it to the multilabelbinarizer\n",
        "\n",
        "for i in range(len(df_tc)):\n",
        "\n",
        "    x = df_tc.loc[i,'Type']\n",
        "\n",
        "    if type(x) == list:\n",
        "\n",
        "        df_tc.loc[i,'Type'] = \",\".join([x[0],x[1]])\n"
      ],
      "metadata": {
        "id": "52Xv9SwGk6Ga",
        "execution": {
          "iopub.status.busy": "2024-12-20T11:16:16.398561Z",
          "iopub.execute_input": "2024-12-20T11:16:16.398863Z",
          "iopub.status.idle": "2024-12-20T11:16:16.455203Z",
          "shell.execute_reply.started": "2024-12-20T11:16:16.398835Z",
          "shell.execute_reply": "2024-12-20T11:16:16.454635Z"
        },
        "trusted": true
      },
      "outputs": [],
      "execution_count": null
    },
    {
      "cell_type": "code",
      "source": [
        "df_tc.loc[13,'Type']"
      ],
      "metadata": {
        "colab": {
          "base_uri": "https://localhost:8080/",
          "height": 36
        },
        "id": "GUFaslypk6Ga",
        "outputId": "ed646f5c-1b9f-4156-ce95-390141113991",
        "execution": {
          "iopub.status.busy": "2024-12-20T11:16:16.829273Z",
          "iopub.execute_input": "2024-12-20T11:16:16.829552Z",
          "iopub.status.idle": "2024-12-20T11:16:16.834987Z",
          "shell.execute_reply.started": "2024-12-20T11:16:16.829524Z",
          "shell.execute_reply": "2024-12-20T11:16:16.834086Z"
        },
        "trusted": true
      },
      "outputs": [
        {
          "execution_count": 24,
          "output_type": "execute_result",
          "data": {
            "text/plain": "'F,L'"
          },
          "metadata": {}
        }
      ],
      "execution_count": null
    },
    {
      "cell_type": "code",
      "source": [
        "from sklearn.preprocessing import MultiLabelBinarizer\n",
        "\n",
        "mlb = MultiLabelBinarizer()\n",
        "\n",
        "mlb_result = mlb.fit_transform([str(df_tc.loc[i,'Type']).split(',') for i in range(len(df_tc))])\n",
        "\n",
        "df_tc_final = pd.concat([df_tc,pd.DataFrame(mlb_result,columns=list(mlb.classes_))],axis=1)\n",
        "\n",
        "df_tc_final"
      ],
      "metadata": {
        "colab": {
          "base_uri": "https://localhost:8080/",
          "height": 999
        },
        "id": "V-x7k3ook6Gb",
        "outputId": "1f1a5814-2475-4096-e65e-53259ec294e0",
        "execution": {
          "iopub.status.busy": "2024-12-20T11:16:17.60385Z",
          "iopub.execute_input": "2024-12-20T11:16:17.604179Z",
          "iopub.status.idle": "2024-12-20T11:16:17.653141Z",
          "shell.execute_reply.started": "2024-12-20T11:16:17.604149Z",
          "shell.execute_reply": "2024-12-20T11:16:17.652253Z"
        },
        "trusted": true
      },
      "outputs": [
        {
          "execution_count": 25,
          "output_type": "execute_result",
          "data": {
            "text/plain": "                             Document  Name   Id Chain Num  \\\n0     2013_40_VAT_OPAM_2_REM_MB_PS_AN  prem   A1     A   1   \n1     2013_40_VAT_OPAM_2_REM_MB_PS_AN  prem   A2     A   2   \n2     2013_40_VAT_OPAM_2_REM_MB_PS_AN  prem   A3     A   3   \n3     2013_40_VAT_OPAM_2_REM_MB_PS_AN  prem   A4     A   4   \n4     2013_40_VAT_OPAM_2_REM_MB_PS_AN  prem   A5     A   5   \n...                               ...   ...  ...   ...  ..   \n2905     2021_6075_VAT_OPAM_2_1_PS_AN  prem  C15     C  15   \n2906     2021_6075_VAT_OPAM_2_1_PS_AN  prem  C16     C  16   \n2907     2021_6075_VAT_OPAM_2_1_PS_AN  prem  C17     C  17   \n2908     2021_6075_VAT_OPAM_2_1_PS_AN  prem  C18     C  18   \n2909     2021_6075_VAT_OPAM_2_1_PS_AN  prem  C19     C  19   \n\n                                                   Text Type  SUP  SFF  ATT  \\\n0     In via preliminare, il Collegio prende in cons...    F  NaN  NaN  NaN   \n1     Ai sensi dell'art. 14 del d.lgs.546/92, se l'o...    L  NaN  NaN  NaN   \n2     Se il ricorso non è stato    proposto da o nei...    L  NaN  NaN  NaN   \n3     Nel caso di specie solo la ILDS ha presentato ...    F  NaN  NaN  NaN   \n4     come    espressamente richiesto nel ricorso in...    F  NaN  NaN  NaN   \n...                                                 ...  ...  ...  ...  ...   \n2905  Sotto questo profilo i Compro Oro sono sottopo...    L  NaN  NaN  NaN   \n2906  Tale comunicazione ha luogo quando i destinata...    L  NaN  NaN  NaN   \n2907  Il Ministro dell'interno, con decreto del 17 f...    L  NaN  NaN  NaN   \n2908  Tra i soggetti destinatari del decreto sono ri...    L  NaN  NaN  NaN   \n2909  In conclusione, per quanto fin qui esposto, i ...    L       NaN  NaN   \n\n      INH REPH         Scheme                        FullChainID  \\\n0     NaN  NaN            NaN  2013_40_VAT_OPAM_2_REM_MB_PS_AN_A   \n1     NaN  NaN           Rule  2013_40_VAT_OPAM_2_REM_MB_PS_AN_A   \n2     NaN  NaN           Itpr  2013_40_VAT_OPAM_2_REM_MB_PS_AN_A   \n3     NaN  NaN            NaN  2013_40_VAT_OPAM_2_REM_MB_PS_AN_A   \n4     NaN  NaN            NaN  2013_40_VAT_OPAM_2_REM_MB_PS_AN_A   \n...   ...  ...            ...                                ...   \n2905  NaN  NaN           Rule     2021_6075_VAT_OPAM_2_1_PS_AN_C   \n2906  NaN  NaN           Rule     2021_6075_VAT_OPAM_2_1_PS_AN_C   \n2907  NaN  NaN           Rule     2021_6075_VAT_OPAM_2_1_PS_AN_C   \n2908  NaN  NaN  [Class, Rule]     2021_6075_VAT_OPAM_2_1_PS_AN_C   \n2909  NaN  NaN          Class     2021_6075_VAT_OPAM_2_1_PS_AN_C   \n\n                                               Previous  F  L  \n0      In via preliminare, il Collegio prende in con...  1  0  \n1      Ai sensi dell'art. 14 del d.lgs.546/92, se l'...  0  1  \n2      Se il ricorso non è stato\\n    proposto da o ...  0  1  \n3      Nel caso di specie solo la ILDS ha presentato...  1  0  \n4      come\\n    espressamente richiesto nel ricorso...  1  0  \n...                                                 ... .. ..  \n2905  Sotto questo profilo i Compro Oro sono sottopo...  0  1  \n2906  Tale comunicazione ha luogo quando i destinata...  0  1  \n2907  Il Ministro dell'interno, con decreto del 17 f...  0  1  \n2908  Tra i soggetti destinatari del decreto sono ri...  0  1  \n2909  In conclusione, per quanto fin qui esposto, i ...  0  1  \n\n[2910 rows x 17 columns]",
            "text/html": "<div>\n<style scoped>\n    .dataframe tbody tr th:only-of-type {\n        vertical-align: middle;\n    }\n\n    .dataframe tbody tr th {\n        vertical-align: top;\n    }\n\n    .dataframe thead th {\n        text-align: right;\n    }\n</style>\n<table border=\"1\" class=\"dataframe\">\n  <thead>\n    <tr style=\"text-align: right;\">\n      <th></th>\n      <th>Document</th>\n      <th>Name</th>\n      <th>Id</th>\n      <th>Chain</th>\n      <th>Num</th>\n      <th>Text</th>\n      <th>Type</th>\n      <th>SUP</th>\n      <th>SFF</th>\n      <th>ATT</th>\n      <th>INH</th>\n      <th>REPH</th>\n      <th>Scheme</th>\n      <th>FullChainID</th>\n      <th>Previous</th>\n      <th>F</th>\n      <th>L</th>\n    </tr>\n  </thead>\n  <tbody>\n    <tr>\n      <th>0</th>\n      <td>2013_40_VAT_OPAM_2_REM_MB_PS_AN</td>\n      <td>prem</td>\n      <td>A1</td>\n      <td>A</td>\n      <td>1</td>\n      <td>In via preliminare, il Collegio prende in cons...</td>\n      <td>F</td>\n      <td>NaN</td>\n      <td>NaN</td>\n      <td>NaN</td>\n      <td>NaN</td>\n      <td>NaN</td>\n      <td>NaN</td>\n      <td>2013_40_VAT_OPAM_2_REM_MB_PS_AN_A</td>\n      <td>In via preliminare, il Collegio prende in con...</td>\n      <td>1</td>\n      <td>0</td>\n    </tr>\n    <tr>\n      <th>1</th>\n      <td>2013_40_VAT_OPAM_2_REM_MB_PS_AN</td>\n      <td>prem</td>\n      <td>A2</td>\n      <td>A</td>\n      <td>2</td>\n      <td>Ai sensi dell'art. 14 del d.lgs.546/92, se l'o...</td>\n      <td>L</td>\n      <td>NaN</td>\n      <td>NaN</td>\n      <td>NaN</td>\n      <td>NaN</td>\n      <td>NaN</td>\n      <td>Rule</td>\n      <td>2013_40_VAT_OPAM_2_REM_MB_PS_AN_A</td>\n      <td>Ai sensi dell'art. 14 del d.lgs.546/92, se l'...</td>\n      <td>0</td>\n      <td>1</td>\n    </tr>\n    <tr>\n      <th>2</th>\n      <td>2013_40_VAT_OPAM_2_REM_MB_PS_AN</td>\n      <td>prem</td>\n      <td>A3</td>\n      <td>A</td>\n      <td>3</td>\n      <td>Se il ricorso non è stato    proposto da o nei...</td>\n      <td>L</td>\n      <td>NaN</td>\n      <td>NaN</td>\n      <td>NaN</td>\n      <td>NaN</td>\n      <td>NaN</td>\n      <td>Itpr</td>\n      <td>2013_40_VAT_OPAM_2_REM_MB_PS_AN_A</td>\n      <td>Se il ricorso non è stato\\n    proposto da o ...</td>\n      <td>0</td>\n      <td>1</td>\n    </tr>\n    <tr>\n      <th>3</th>\n      <td>2013_40_VAT_OPAM_2_REM_MB_PS_AN</td>\n      <td>prem</td>\n      <td>A4</td>\n      <td>A</td>\n      <td>4</td>\n      <td>Nel caso di specie solo la ILDS ha presentato ...</td>\n      <td>F</td>\n      <td>NaN</td>\n      <td>NaN</td>\n      <td>NaN</td>\n      <td>NaN</td>\n      <td>NaN</td>\n      <td>NaN</td>\n      <td>2013_40_VAT_OPAM_2_REM_MB_PS_AN_A</td>\n      <td>Nel caso di specie solo la ILDS ha presentato...</td>\n      <td>1</td>\n      <td>0</td>\n    </tr>\n    <tr>\n      <th>4</th>\n      <td>2013_40_VAT_OPAM_2_REM_MB_PS_AN</td>\n      <td>prem</td>\n      <td>A5</td>\n      <td>A</td>\n      <td>5</td>\n      <td>come    espressamente richiesto nel ricorso in...</td>\n      <td>F</td>\n      <td>NaN</td>\n      <td>NaN</td>\n      <td>NaN</td>\n      <td>NaN</td>\n      <td>NaN</td>\n      <td>NaN</td>\n      <td>2013_40_VAT_OPAM_2_REM_MB_PS_AN_A</td>\n      <td>come\\n    espressamente richiesto nel ricorso...</td>\n      <td>1</td>\n      <td>0</td>\n    </tr>\n    <tr>\n      <th>...</th>\n      <td>...</td>\n      <td>...</td>\n      <td>...</td>\n      <td>...</td>\n      <td>...</td>\n      <td>...</td>\n      <td>...</td>\n      <td>...</td>\n      <td>...</td>\n      <td>...</td>\n      <td>...</td>\n      <td>...</td>\n      <td>...</td>\n      <td>...</td>\n      <td>...</td>\n      <td>...</td>\n      <td>...</td>\n    </tr>\n    <tr>\n      <th>2905</th>\n      <td>2021_6075_VAT_OPAM_2_1_PS_AN</td>\n      <td>prem</td>\n      <td>C15</td>\n      <td>C</td>\n      <td>15</td>\n      <td>Sotto questo profilo i Compro Oro sono sottopo...</td>\n      <td>L</td>\n      <td>NaN</td>\n      <td>NaN</td>\n      <td>NaN</td>\n      <td>NaN</td>\n      <td>NaN</td>\n      <td>Rule</td>\n      <td>2021_6075_VAT_OPAM_2_1_PS_AN_C</td>\n      <td>Sotto questo profilo i Compro Oro sono sottopo...</td>\n      <td>0</td>\n      <td>1</td>\n    </tr>\n    <tr>\n      <th>2906</th>\n      <td>2021_6075_VAT_OPAM_2_1_PS_AN</td>\n      <td>prem</td>\n      <td>C16</td>\n      <td>C</td>\n      <td>16</td>\n      <td>Tale comunicazione ha luogo quando i destinata...</td>\n      <td>L</td>\n      <td>NaN</td>\n      <td>NaN</td>\n      <td>NaN</td>\n      <td>NaN</td>\n      <td>NaN</td>\n      <td>Rule</td>\n      <td>2021_6075_VAT_OPAM_2_1_PS_AN_C</td>\n      <td>Tale comunicazione ha luogo quando i destinata...</td>\n      <td>0</td>\n      <td>1</td>\n    </tr>\n    <tr>\n      <th>2907</th>\n      <td>2021_6075_VAT_OPAM_2_1_PS_AN</td>\n      <td>prem</td>\n      <td>C17</td>\n      <td>C</td>\n      <td>17</td>\n      <td>Il Ministro dell'interno, con decreto del 17 f...</td>\n      <td>L</td>\n      <td>NaN</td>\n      <td>NaN</td>\n      <td>NaN</td>\n      <td>NaN</td>\n      <td>NaN</td>\n      <td>Rule</td>\n      <td>2021_6075_VAT_OPAM_2_1_PS_AN_C</td>\n      <td>Il Ministro dell'interno, con decreto del 17 f...</td>\n      <td>0</td>\n      <td>1</td>\n    </tr>\n    <tr>\n      <th>2908</th>\n      <td>2021_6075_VAT_OPAM_2_1_PS_AN</td>\n      <td>prem</td>\n      <td>C18</td>\n      <td>C</td>\n      <td>18</td>\n      <td>Tra i soggetti destinatari del decreto sono ri...</td>\n      <td>L</td>\n      <td>NaN</td>\n      <td>NaN</td>\n      <td>NaN</td>\n      <td>NaN</td>\n      <td>NaN</td>\n      <td>[Class, Rule]</td>\n      <td>2021_6075_VAT_OPAM_2_1_PS_AN_C</td>\n      <td>Tra i soggetti destinatari del decreto sono ri...</td>\n      <td>0</td>\n      <td>1</td>\n    </tr>\n    <tr>\n      <th>2909</th>\n      <td>2021_6075_VAT_OPAM_2_1_PS_AN</td>\n      <td>prem</td>\n      <td>C19</td>\n      <td>C</td>\n      <td>19</td>\n      <td>In conclusione, per quanto fin qui esposto, i ...</td>\n      <td>L</td>\n      <td></td>\n      <td>NaN</td>\n      <td>NaN</td>\n      <td>NaN</td>\n      <td>NaN</td>\n      <td>Class</td>\n      <td>2021_6075_VAT_OPAM_2_1_PS_AN_C</td>\n      <td>In conclusione, per quanto fin qui esposto, i ...</td>\n      <td>0</td>\n      <td>1</td>\n    </tr>\n  </tbody>\n</table>\n<p>2910 rows × 17 columns</p>\n</div>"
          },
          "metadata": {}
        }
      ],
      "execution_count": null
    },
    {
      "cell_type": "code",
      "source": [
        "df_tc_labels = df_tc_final[['F','L']]\n",
        "\n",
        "df_tc_labels"
      ],
      "metadata": {
        "colab": {
          "base_uri": "https://localhost:8080/",
          "height": 423
        },
        "id": "Tdr2EKPVk6Gb",
        "outputId": "cfed7ee6-e13e-4131-b096-3cbf43d8e819",
        "execution": {
          "iopub.status.busy": "2024-12-20T11:16:22.88507Z",
          "iopub.execute_input": "2024-12-20T11:16:22.885419Z",
          "iopub.status.idle": "2024-12-20T11:16:22.89654Z",
          "shell.execute_reply.started": "2024-12-20T11:16:22.885388Z",
          "shell.execute_reply": "2024-12-20T11:16:22.895664Z"
        },
        "trusted": true
      },
      "outputs": [
        {
          "execution_count": 26,
          "output_type": "execute_result",
          "data": {
            "text/plain": "      F  L\n0     1  0\n1     0  1\n2     0  1\n3     1  0\n4     1  0\n...  .. ..\n2905  0  1\n2906  0  1\n2907  0  1\n2908  0  1\n2909  0  1\n\n[2910 rows x 2 columns]",
            "text/html": "<div>\n<style scoped>\n    .dataframe tbody tr th:only-of-type {\n        vertical-align: middle;\n    }\n\n    .dataframe tbody tr th {\n        vertical-align: top;\n    }\n\n    .dataframe thead th {\n        text-align: right;\n    }\n</style>\n<table border=\"1\" class=\"dataframe\">\n  <thead>\n    <tr style=\"text-align: right;\">\n      <th></th>\n      <th>F</th>\n      <th>L</th>\n    </tr>\n  </thead>\n  <tbody>\n    <tr>\n      <th>0</th>\n      <td>1</td>\n      <td>0</td>\n    </tr>\n    <tr>\n      <th>1</th>\n      <td>0</td>\n      <td>1</td>\n    </tr>\n    <tr>\n      <th>2</th>\n      <td>0</td>\n      <td>1</td>\n    </tr>\n    <tr>\n      <th>3</th>\n      <td>1</td>\n      <td>0</td>\n    </tr>\n    <tr>\n      <th>4</th>\n      <td>1</td>\n      <td>0</td>\n    </tr>\n    <tr>\n      <th>...</th>\n      <td>...</td>\n      <td>...</td>\n    </tr>\n    <tr>\n      <th>2905</th>\n      <td>0</td>\n      <td>1</td>\n    </tr>\n    <tr>\n      <th>2906</th>\n      <td>0</td>\n      <td>1</td>\n    </tr>\n    <tr>\n      <th>2907</th>\n      <td>0</td>\n      <td>1</td>\n    </tr>\n    <tr>\n      <th>2908</th>\n      <td>0</td>\n      <td>1</td>\n    </tr>\n    <tr>\n      <th>2909</th>\n      <td>0</td>\n      <td>1</td>\n    </tr>\n  </tbody>\n</table>\n<p>2910 rows × 2 columns</p>\n</div>"
          },
          "metadata": {}
        }
      ],
      "execution_count": null
    },
    {
      "cell_type": "markdown",
      "source": [
        "## Scheme classification multi-label-binarizer"
      ],
      "metadata": {
        "id": "HTWItdZMk6Gb"
      }
    },
    {
      "cell_type": "code",
      "source": [
        "#need to extract the values from the list, so convert to string, in order to pass them to the multilabelbinarizer\n",
        "\n",
        "def clean_list(df_sc, column_name):\n",
        "    for i in range(len(df_sc)):\n",
        "\n",
        "        x = df_sc.loc[i,column_name]\n",
        "        if type(x) == list:\n",
        "            df_sc.loc[i,str(column_name) + \"2\"] = \",\".join(x)\n",
        "        else:\n",
        "            try:\n",
        "                df_sc.loc[i,str(column_name) + \"2\"] = x\n",
        "            except:\n",
        "                print(i,x)\n",
        "    return df_sc\n",
        "df_sc = clean_list(df_sc,'Scheme')\n",
        "df_sc"
      ],
      "metadata": {
        "id": "-0ruGf5xk6Gc",
        "execution": {
          "iopub.status.busy": "2024-12-20T11:16:23.539925Z",
          "iopub.execute_input": "2024-12-20T11:16:23.540223Z",
          "iopub.status.idle": "2024-12-20T11:16:23.79056Z",
          "shell.execute_reply.started": "2024-12-20T11:16:23.540195Z",
          "shell.execute_reply": "2024-12-20T11:16:23.789731Z"
        },
        "trusted": true,
        "outputId": "1042a3de-9c6d-40ae-8a0d-f1c993a9a721"
      },
      "outputs": [
        {
          "execution_count": 27,
          "output_type": "execute_result",
          "data": {
            "text/plain": "                             Document  Name   Id Chain Num  \\\n0     2013_40_VAT_OPAM_2_REM_MB_PS_AN  prem   A2     A   2   \n1     2013_40_VAT_OPAM_2_REM_MB_PS_AN  prem   A3     A   3   \n2       2018_847_VAT_OP_2_-1_MB_AF_AN  prem   A1     A   1   \n3       2018_847_VAT_OP_2_-1_MB_AF_AN  prem   A2     A   2   \n4       2018_847_VAT_OP_2_-1_MB_AF_AN  prem   A3     A   3   \n...                               ...   ...  ...   ...  ..   \n1309     2021_6075_VAT_OPAM_2_1_PS_AN  prem  C15     C  15   \n1310     2021_6075_VAT_OPAM_2_1_PS_AN  prem  C16     C  16   \n1311     2021_6075_VAT_OPAM_2_1_PS_AN  prem  C17     C  17   \n1312     2021_6075_VAT_OPAM_2_1_PS_AN  prem  C18     C  18   \n1313     2021_6075_VAT_OPAM_2_1_PS_AN  prem  C19     C  19   \n\n                                                   Text Type       SUP  SFF  \\\n0     Ai sensi dell'art. 14 del d.lgs.546/92, se l'o...    L       NaN  NaN   \n1     Se il ricorso non è stato proposto da o nei co...    L       NaN  NaN   \n2     Secondo condivisa e costante giurisprudenza (C...    L       NaN  NaN   \n3     Tuttavia, nel caso qui in esame, la Comm/ne no...    L  [A3, A4]  NaN   \n4     A tal proposito si ricorda che la Corte cost. ...    L       NaN  NaN   \n...                                                 ...  ...       ...  ...   \n1309  Sotto questo profilo i Compro Oro sono sottopo...    L       NaN  NaN   \n1310  Tale comunicazione ha luogo quando i destinata...    L       NaN  NaN   \n1311  Il Ministro dell'interno, con decreto del 17 f...    L       NaN  NaN   \n1312  Tra i soggetti destinatari del decreto sono ri...    L       NaN  NaN   \n1313  In conclusione, per quanto fin qui esposto, i ...    L            NaN   \n\n      ATT  INH REPH         Scheme                        FullChainID  \\\n0     NaN  NaN  NaN           Rule  2013_40_VAT_OPAM_2_REM_MB_PS_AN_A   \n1     NaN  NaN  NaN           Itpr  2013_40_VAT_OPAM_2_REM_MB_PS_AN_A   \n2     NaN  NaN  NaN           Rule    2018_847_VAT_OP_2_-1_MB_AF_AN_A   \n3     NaN  NaN  NaN           Itpr    2018_847_VAT_OP_2_-1_MB_AF_AN_A   \n4     NaN  NaN  NaN           Prec    2018_847_VAT_OP_2_-1_MB_AF_AN_A   \n...   ...  ...  ...            ...                                ...   \n1309  NaN  NaN  NaN           Rule     2021_6075_VAT_OPAM_2_1_PS_AN_C   \n1310  NaN  NaN  NaN           Rule     2021_6075_VAT_OPAM_2_1_PS_AN_C   \n1311  NaN  NaN  NaN           Rule     2021_6075_VAT_OPAM_2_1_PS_AN_C   \n1312  NaN  NaN  NaN  [Class, Rule]     2021_6075_VAT_OPAM_2_1_PS_AN_C   \n1313  NaN  NaN  NaN          Class     2021_6075_VAT_OPAM_2_1_PS_AN_C   \n\n                                               Previous     Scheme2  \n0      Ai sensi dell'art. 14 del d.lgs.546/92, se l'...        Rule  \n1      Se il ricorso non è stato\\n    proposto da o ...        Itpr  \n2     Secondo condivisa e costante giurisprudenza (C...        Rule  \n3     Tuttavia, nel caso qui in esame, la Comm/ne no...        Itpr  \n4     A tal proposito si ricorda che la Corte cost. ...        Prec  \n...                                                 ...         ...  \n1309  Sotto questo profilo i Compro Oro sono sottopo...        Rule  \n1310  Tale comunicazione ha luogo quando i destinata...        Rule  \n1311  Il Ministro dell'interno, con decreto del 17 f...        Rule  \n1312  Tra i soggetti destinatari del decreto sono ri...  Class,Rule  \n1313  In conclusione, per quanto fin qui esposto, i ...       Class  \n\n[1314 rows x 16 columns]",
            "text/html": "<div>\n<style scoped>\n    .dataframe tbody tr th:only-of-type {\n        vertical-align: middle;\n    }\n\n    .dataframe tbody tr th {\n        vertical-align: top;\n    }\n\n    .dataframe thead th {\n        text-align: right;\n    }\n</style>\n<table border=\"1\" class=\"dataframe\">\n  <thead>\n    <tr style=\"text-align: right;\">\n      <th></th>\n      <th>Document</th>\n      <th>Name</th>\n      <th>Id</th>\n      <th>Chain</th>\n      <th>Num</th>\n      <th>Text</th>\n      <th>Type</th>\n      <th>SUP</th>\n      <th>SFF</th>\n      <th>ATT</th>\n      <th>INH</th>\n      <th>REPH</th>\n      <th>Scheme</th>\n      <th>FullChainID</th>\n      <th>Previous</th>\n      <th>Scheme2</th>\n    </tr>\n  </thead>\n  <tbody>\n    <tr>\n      <th>0</th>\n      <td>2013_40_VAT_OPAM_2_REM_MB_PS_AN</td>\n      <td>prem</td>\n      <td>A2</td>\n      <td>A</td>\n      <td>2</td>\n      <td>Ai sensi dell'art. 14 del d.lgs.546/92, se l'o...</td>\n      <td>L</td>\n      <td>NaN</td>\n      <td>NaN</td>\n      <td>NaN</td>\n      <td>NaN</td>\n      <td>NaN</td>\n      <td>Rule</td>\n      <td>2013_40_VAT_OPAM_2_REM_MB_PS_AN_A</td>\n      <td>Ai sensi dell'art. 14 del d.lgs.546/92, se l'...</td>\n      <td>Rule</td>\n    </tr>\n    <tr>\n      <th>1</th>\n      <td>2013_40_VAT_OPAM_2_REM_MB_PS_AN</td>\n      <td>prem</td>\n      <td>A3</td>\n      <td>A</td>\n      <td>3</td>\n      <td>Se il ricorso non è stato proposto da o nei co...</td>\n      <td>L</td>\n      <td>NaN</td>\n      <td>NaN</td>\n      <td>NaN</td>\n      <td>NaN</td>\n      <td>NaN</td>\n      <td>Itpr</td>\n      <td>2013_40_VAT_OPAM_2_REM_MB_PS_AN_A</td>\n      <td>Se il ricorso non è stato\\n    proposto da o ...</td>\n      <td>Itpr</td>\n    </tr>\n    <tr>\n      <th>2</th>\n      <td>2018_847_VAT_OP_2_-1_MB_AF_AN</td>\n      <td>prem</td>\n      <td>A1</td>\n      <td>A</td>\n      <td>1</td>\n      <td>Secondo condivisa e costante giurisprudenza (C...</td>\n      <td>L</td>\n      <td>NaN</td>\n      <td>NaN</td>\n      <td>NaN</td>\n      <td>NaN</td>\n      <td>NaN</td>\n      <td>Rule</td>\n      <td>2018_847_VAT_OP_2_-1_MB_AF_AN_A</td>\n      <td>Secondo condivisa e costante giurisprudenza (C...</td>\n      <td>Rule</td>\n    </tr>\n    <tr>\n      <th>3</th>\n      <td>2018_847_VAT_OP_2_-1_MB_AF_AN</td>\n      <td>prem</td>\n      <td>A2</td>\n      <td>A</td>\n      <td>2</td>\n      <td>Tuttavia, nel caso qui in esame, la Comm/ne no...</td>\n      <td>L</td>\n      <td>[A3, A4]</td>\n      <td>NaN</td>\n      <td>NaN</td>\n      <td>NaN</td>\n      <td>NaN</td>\n      <td>Itpr</td>\n      <td>2018_847_VAT_OP_2_-1_MB_AF_AN_A</td>\n      <td>Tuttavia, nel caso qui in esame, la Comm/ne no...</td>\n      <td>Itpr</td>\n    </tr>\n    <tr>\n      <th>4</th>\n      <td>2018_847_VAT_OP_2_-1_MB_AF_AN</td>\n      <td>prem</td>\n      <td>A3</td>\n      <td>A</td>\n      <td>3</td>\n      <td>A tal proposito si ricorda che la Corte cost. ...</td>\n      <td>L</td>\n      <td>NaN</td>\n      <td>NaN</td>\n      <td>NaN</td>\n      <td>NaN</td>\n      <td>NaN</td>\n      <td>Prec</td>\n      <td>2018_847_VAT_OP_2_-1_MB_AF_AN_A</td>\n      <td>A tal proposito si ricorda che la Corte cost. ...</td>\n      <td>Prec</td>\n    </tr>\n    <tr>\n      <th>...</th>\n      <td>...</td>\n      <td>...</td>\n      <td>...</td>\n      <td>...</td>\n      <td>...</td>\n      <td>...</td>\n      <td>...</td>\n      <td>...</td>\n      <td>...</td>\n      <td>...</td>\n      <td>...</td>\n      <td>...</td>\n      <td>...</td>\n      <td>...</td>\n      <td>...</td>\n      <td>...</td>\n    </tr>\n    <tr>\n      <th>1309</th>\n      <td>2021_6075_VAT_OPAM_2_1_PS_AN</td>\n      <td>prem</td>\n      <td>C15</td>\n      <td>C</td>\n      <td>15</td>\n      <td>Sotto questo profilo i Compro Oro sono sottopo...</td>\n      <td>L</td>\n      <td>NaN</td>\n      <td>NaN</td>\n      <td>NaN</td>\n      <td>NaN</td>\n      <td>NaN</td>\n      <td>Rule</td>\n      <td>2021_6075_VAT_OPAM_2_1_PS_AN_C</td>\n      <td>Sotto questo profilo i Compro Oro sono sottopo...</td>\n      <td>Rule</td>\n    </tr>\n    <tr>\n      <th>1310</th>\n      <td>2021_6075_VAT_OPAM_2_1_PS_AN</td>\n      <td>prem</td>\n      <td>C16</td>\n      <td>C</td>\n      <td>16</td>\n      <td>Tale comunicazione ha luogo quando i destinata...</td>\n      <td>L</td>\n      <td>NaN</td>\n      <td>NaN</td>\n      <td>NaN</td>\n      <td>NaN</td>\n      <td>NaN</td>\n      <td>Rule</td>\n      <td>2021_6075_VAT_OPAM_2_1_PS_AN_C</td>\n      <td>Tale comunicazione ha luogo quando i destinata...</td>\n      <td>Rule</td>\n    </tr>\n    <tr>\n      <th>1311</th>\n      <td>2021_6075_VAT_OPAM_2_1_PS_AN</td>\n      <td>prem</td>\n      <td>C17</td>\n      <td>C</td>\n      <td>17</td>\n      <td>Il Ministro dell'interno, con decreto del 17 f...</td>\n      <td>L</td>\n      <td>NaN</td>\n      <td>NaN</td>\n      <td>NaN</td>\n      <td>NaN</td>\n      <td>NaN</td>\n      <td>Rule</td>\n      <td>2021_6075_VAT_OPAM_2_1_PS_AN_C</td>\n      <td>Il Ministro dell'interno, con decreto del 17 f...</td>\n      <td>Rule</td>\n    </tr>\n    <tr>\n      <th>1312</th>\n      <td>2021_6075_VAT_OPAM_2_1_PS_AN</td>\n      <td>prem</td>\n      <td>C18</td>\n      <td>C</td>\n      <td>18</td>\n      <td>Tra i soggetti destinatari del decreto sono ri...</td>\n      <td>L</td>\n      <td>NaN</td>\n      <td>NaN</td>\n      <td>NaN</td>\n      <td>NaN</td>\n      <td>NaN</td>\n      <td>[Class, Rule]</td>\n      <td>2021_6075_VAT_OPAM_2_1_PS_AN_C</td>\n      <td>Tra i soggetti destinatari del decreto sono ri...</td>\n      <td>Class,Rule</td>\n    </tr>\n    <tr>\n      <th>1313</th>\n      <td>2021_6075_VAT_OPAM_2_1_PS_AN</td>\n      <td>prem</td>\n      <td>C19</td>\n      <td>C</td>\n      <td>19</td>\n      <td>In conclusione, per quanto fin qui esposto, i ...</td>\n      <td>L</td>\n      <td></td>\n      <td>NaN</td>\n      <td>NaN</td>\n      <td>NaN</td>\n      <td>NaN</td>\n      <td>Class</td>\n      <td>2021_6075_VAT_OPAM_2_1_PS_AN_C</td>\n      <td>In conclusione, per quanto fin qui esposto, i ...</td>\n      <td>Class</td>\n    </tr>\n  </tbody>\n</table>\n<p>1314 rows × 16 columns</p>\n</div>"
          },
          "metadata": {}
        }
      ],
      "execution_count": null
    },
    {
      "cell_type": "code",
      "source": [
        "a = df_sc.explode(['Scheme'])\n",
        "sc_label_count = a['Scheme'].value_counts()\n",
        "remove_c = sc_label_count[sc_label_count < 15]\n",
        "list(remove_c.index)\n"
      ],
      "metadata": {
        "execution": {
          "iopub.status.busy": "2024-12-20T11:16:23.792225Z",
          "iopub.execute_input": "2024-12-20T11:16:23.793057Z",
          "iopub.status.idle": "2024-12-20T11:16:23.809696Z",
          "shell.execute_reply.started": "2024-12-20T11:16:23.793011Z",
          "shell.execute_reply": "2024-12-20T11:16:23.808666Z"
        },
        "trusted": true,
        "id": "DgwSjZhq5GsX",
        "outputId": "5297f053-d8fa-4299-da94-10784dcd7279"
      },
      "outputs": [
        {
          "execution_count": 28,
          "output_type": "execute_result",
          "data": {
            "text/plain": "['Lit', 'Abs', 'Psy', 'Acon']"
          },
          "metadata": {}
        }
      ],
      "execution_count": null
    },
    {
      "cell_type": "code",
      "source": [
        "from sklearn.preprocessing import MultiLabelBinarizer\n",
        "\n",
        "mlb = MultiLabelBinarizer()\n",
        "\n",
        "mlb_result = mlb.fit_transform([str(df_sc.loc[i,'Scheme2']).split(',') for i in range(len(df_sc))])\n",
        "\n",
        "df_sc_final1 = pd.concat([df_sc,pd.DataFrame(mlb_result,columns=list(mlb.classes_))],axis=1)\n",
        "\n",
        "df_sc_final1"
      ],
      "metadata": {
        "colab": {
          "base_uri": "https://localhost:8080/",
          "height": 999
        },
        "id": "Wj-tkw6Bk6Gc",
        "outputId": "e97aab24-813d-4510-a35a-b21620ddd198",
        "execution": {
          "iopub.status.busy": "2024-12-20T11:16:24.048448Z",
          "iopub.execute_input": "2024-12-20T11:16:24.048805Z",
          "iopub.status.idle": "2024-12-20T11:16:24.083078Z",
          "shell.execute_reply.started": "2024-12-20T11:16:24.048776Z",
          "shell.execute_reply": "2024-12-20T11:16:24.082289Z"
        },
        "trusted": true
      },
      "outputs": [
        {
          "execution_count": 29,
          "output_type": "execute_result",
          "data": {
            "text/plain": "                             Document  Name   Id Chain Num  \\\n0     2013_40_VAT_OPAM_2_REM_MB_PS_AN  prem   A2     A   2   \n1     2013_40_VAT_OPAM_2_REM_MB_PS_AN  prem   A3     A   3   \n2       2018_847_VAT_OP_2_-1_MB_AF_AN  prem   A1     A   1   \n3       2018_847_VAT_OP_2_-1_MB_AF_AN  prem   A2     A   2   \n4       2018_847_VAT_OP_2_-1_MB_AF_AN  prem   A3     A   3   \n...                               ...   ...  ...   ...  ..   \n1309     2021_6075_VAT_OPAM_2_1_PS_AN  prem  C15     C  15   \n1310     2021_6075_VAT_OPAM_2_1_PS_AN  prem  C16     C  16   \n1311     2021_6075_VAT_OPAM_2_1_PS_AN  prem  C17     C  17   \n1312     2021_6075_VAT_OPAM_2_1_PS_AN  prem  C18     C  18   \n1313     2021_6075_VAT_OPAM_2_1_PS_AN  prem  C19     C  19   \n\n                                                   Text Type       SUP  SFF  \\\n0     Ai sensi dell'art. 14 del d.lgs.546/92, se l'o...    L       NaN  NaN   \n1     Se il ricorso non è stato proposto da o nei co...    L       NaN  NaN   \n2     Secondo condivisa e costante giurisprudenza (C...    L       NaN  NaN   \n3     Tuttavia, nel caso qui in esame, la Comm/ne no...    L  [A3, A4]  NaN   \n4     A tal proposito si ricorda che la Corte cost. ...    L       NaN  NaN   \n...                                                 ...  ...       ...  ...   \n1309  Sotto questo profilo i Compro Oro sono sottopo...    L       NaN  NaN   \n1310  Tale comunicazione ha luogo quando i destinata...    L       NaN  NaN   \n1311  Il Ministro dell'interno, con decreto del 17 f...    L       NaN  NaN   \n1312  Tra i soggetti destinatari del decreto sono ri...    L       NaN  NaN   \n1313  In conclusione, per quanto fin qui esposto, i ...    L            NaN   \n\n      ATT  ... Aut Class Itpr Lit Prec Princ  Psy  Rule  Syst  Tele  \n0     NaN  ...   0     0    0   0    0     0    0     1     0     0  \n1     NaN  ...   0     0    1   0    0     0    0     0     0     0  \n2     NaN  ...   0     0    0   0    0     0    0     1     0     0  \n3     NaN  ...   0     0    1   0    0     0    0     0     0     0  \n4     NaN  ...   0     0    0   0    1     0    0     0     0     0  \n...   ...  ...  ..   ...  ...  ..  ...   ...  ...   ...   ...   ...  \n1309  NaN  ...   0     0    0   0    0     0    0     1     0     0  \n1310  NaN  ...   0     0    0   0    0     0    0     1     0     0  \n1311  NaN  ...   0     0    0   0    0     0    0     1     0     0  \n1312  NaN  ...   0     1    0   0    0     0    0     1     0     0  \n1313  NaN  ...   0     1    0   0    0     0    0     0     0     0  \n\n[1314 rows x 28 columns]",
            "text/html": "<div>\n<style scoped>\n    .dataframe tbody tr th:only-of-type {\n        vertical-align: middle;\n    }\n\n    .dataframe tbody tr th {\n        vertical-align: top;\n    }\n\n    .dataframe thead th {\n        text-align: right;\n    }\n</style>\n<table border=\"1\" class=\"dataframe\">\n  <thead>\n    <tr style=\"text-align: right;\">\n      <th></th>\n      <th>Document</th>\n      <th>Name</th>\n      <th>Id</th>\n      <th>Chain</th>\n      <th>Num</th>\n      <th>Text</th>\n      <th>Type</th>\n      <th>SUP</th>\n      <th>SFF</th>\n      <th>ATT</th>\n      <th>...</th>\n      <th>Aut</th>\n      <th>Class</th>\n      <th>Itpr</th>\n      <th>Lit</th>\n      <th>Prec</th>\n      <th>Princ</th>\n      <th>Psy</th>\n      <th>Rule</th>\n      <th>Syst</th>\n      <th>Tele</th>\n    </tr>\n  </thead>\n  <tbody>\n    <tr>\n      <th>0</th>\n      <td>2013_40_VAT_OPAM_2_REM_MB_PS_AN</td>\n      <td>prem</td>\n      <td>A2</td>\n      <td>A</td>\n      <td>2</td>\n      <td>Ai sensi dell'art. 14 del d.lgs.546/92, se l'o...</td>\n      <td>L</td>\n      <td>NaN</td>\n      <td>NaN</td>\n      <td>NaN</td>\n      <td>...</td>\n      <td>0</td>\n      <td>0</td>\n      <td>0</td>\n      <td>0</td>\n      <td>0</td>\n      <td>0</td>\n      <td>0</td>\n      <td>1</td>\n      <td>0</td>\n      <td>0</td>\n    </tr>\n    <tr>\n      <th>1</th>\n      <td>2013_40_VAT_OPAM_2_REM_MB_PS_AN</td>\n      <td>prem</td>\n      <td>A3</td>\n      <td>A</td>\n      <td>3</td>\n      <td>Se il ricorso non è stato proposto da o nei co...</td>\n      <td>L</td>\n      <td>NaN</td>\n      <td>NaN</td>\n      <td>NaN</td>\n      <td>...</td>\n      <td>0</td>\n      <td>0</td>\n      <td>1</td>\n      <td>0</td>\n      <td>0</td>\n      <td>0</td>\n      <td>0</td>\n      <td>0</td>\n      <td>0</td>\n      <td>0</td>\n    </tr>\n    <tr>\n      <th>2</th>\n      <td>2018_847_VAT_OP_2_-1_MB_AF_AN</td>\n      <td>prem</td>\n      <td>A1</td>\n      <td>A</td>\n      <td>1</td>\n      <td>Secondo condivisa e costante giurisprudenza (C...</td>\n      <td>L</td>\n      <td>NaN</td>\n      <td>NaN</td>\n      <td>NaN</td>\n      <td>...</td>\n      <td>0</td>\n      <td>0</td>\n      <td>0</td>\n      <td>0</td>\n      <td>0</td>\n      <td>0</td>\n      <td>0</td>\n      <td>1</td>\n      <td>0</td>\n      <td>0</td>\n    </tr>\n    <tr>\n      <th>3</th>\n      <td>2018_847_VAT_OP_2_-1_MB_AF_AN</td>\n      <td>prem</td>\n      <td>A2</td>\n      <td>A</td>\n      <td>2</td>\n      <td>Tuttavia, nel caso qui in esame, la Comm/ne no...</td>\n      <td>L</td>\n      <td>[A3, A4]</td>\n      <td>NaN</td>\n      <td>NaN</td>\n      <td>...</td>\n      <td>0</td>\n      <td>0</td>\n      <td>1</td>\n      <td>0</td>\n      <td>0</td>\n      <td>0</td>\n      <td>0</td>\n      <td>0</td>\n      <td>0</td>\n      <td>0</td>\n    </tr>\n    <tr>\n      <th>4</th>\n      <td>2018_847_VAT_OP_2_-1_MB_AF_AN</td>\n      <td>prem</td>\n      <td>A3</td>\n      <td>A</td>\n      <td>3</td>\n      <td>A tal proposito si ricorda che la Corte cost. ...</td>\n      <td>L</td>\n      <td>NaN</td>\n      <td>NaN</td>\n      <td>NaN</td>\n      <td>...</td>\n      <td>0</td>\n      <td>0</td>\n      <td>0</td>\n      <td>0</td>\n      <td>1</td>\n      <td>0</td>\n      <td>0</td>\n      <td>0</td>\n      <td>0</td>\n      <td>0</td>\n    </tr>\n    <tr>\n      <th>...</th>\n      <td>...</td>\n      <td>...</td>\n      <td>...</td>\n      <td>...</td>\n      <td>...</td>\n      <td>...</td>\n      <td>...</td>\n      <td>...</td>\n      <td>...</td>\n      <td>...</td>\n      <td>...</td>\n      <td>...</td>\n      <td>...</td>\n      <td>...</td>\n      <td>...</td>\n      <td>...</td>\n      <td>...</td>\n      <td>...</td>\n      <td>...</td>\n      <td>...</td>\n      <td>...</td>\n    </tr>\n    <tr>\n      <th>1309</th>\n      <td>2021_6075_VAT_OPAM_2_1_PS_AN</td>\n      <td>prem</td>\n      <td>C15</td>\n      <td>C</td>\n      <td>15</td>\n      <td>Sotto questo profilo i Compro Oro sono sottopo...</td>\n      <td>L</td>\n      <td>NaN</td>\n      <td>NaN</td>\n      <td>NaN</td>\n      <td>...</td>\n      <td>0</td>\n      <td>0</td>\n      <td>0</td>\n      <td>0</td>\n      <td>0</td>\n      <td>0</td>\n      <td>0</td>\n      <td>1</td>\n      <td>0</td>\n      <td>0</td>\n    </tr>\n    <tr>\n      <th>1310</th>\n      <td>2021_6075_VAT_OPAM_2_1_PS_AN</td>\n      <td>prem</td>\n      <td>C16</td>\n      <td>C</td>\n      <td>16</td>\n      <td>Tale comunicazione ha luogo quando i destinata...</td>\n      <td>L</td>\n      <td>NaN</td>\n      <td>NaN</td>\n      <td>NaN</td>\n      <td>...</td>\n      <td>0</td>\n      <td>0</td>\n      <td>0</td>\n      <td>0</td>\n      <td>0</td>\n      <td>0</td>\n      <td>0</td>\n      <td>1</td>\n      <td>0</td>\n      <td>0</td>\n    </tr>\n    <tr>\n      <th>1311</th>\n      <td>2021_6075_VAT_OPAM_2_1_PS_AN</td>\n      <td>prem</td>\n      <td>C17</td>\n      <td>C</td>\n      <td>17</td>\n      <td>Il Ministro dell'interno, con decreto del 17 f...</td>\n      <td>L</td>\n      <td>NaN</td>\n      <td>NaN</td>\n      <td>NaN</td>\n      <td>...</td>\n      <td>0</td>\n      <td>0</td>\n      <td>0</td>\n      <td>0</td>\n      <td>0</td>\n      <td>0</td>\n      <td>0</td>\n      <td>1</td>\n      <td>0</td>\n      <td>0</td>\n    </tr>\n    <tr>\n      <th>1312</th>\n      <td>2021_6075_VAT_OPAM_2_1_PS_AN</td>\n      <td>prem</td>\n      <td>C18</td>\n      <td>C</td>\n      <td>18</td>\n      <td>Tra i soggetti destinatari del decreto sono ri...</td>\n      <td>L</td>\n      <td>NaN</td>\n      <td>NaN</td>\n      <td>NaN</td>\n      <td>...</td>\n      <td>0</td>\n      <td>1</td>\n      <td>0</td>\n      <td>0</td>\n      <td>0</td>\n      <td>0</td>\n      <td>0</td>\n      <td>1</td>\n      <td>0</td>\n      <td>0</td>\n    </tr>\n    <tr>\n      <th>1313</th>\n      <td>2021_6075_VAT_OPAM_2_1_PS_AN</td>\n      <td>prem</td>\n      <td>C19</td>\n      <td>C</td>\n      <td>19</td>\n      <td>In conclusione, per quanto fin qui esposto, i ...</td>\n      <td>L</td>\n      <td></td>\n      <td>NaN</td>\n      <td>NaN</td>\n      <td>...</td>\n      <td>0</td>\n      <td>1</td>\n      <td>0</td>\n      <td>0</td>\n      <td>0</td>\n      <td>0</td>\n      <td>0</td>\n      <td>0</td>\n      <td>0</td>\n      <td>0</td>\n    </tr>\n  </tbody>\n</table>\n<p>1314 rows × 28 columns</p>\n</div>"
          },
          "metadata": {}
        }
      ],
      "execution_count": null
    },
    {
      "cell_type": "code",
      "source": [
        "sc_classes = mlb.classes_\n",
        "\n",
        "sc_classes"
      ],
      "metadata": {
        "colab": {
          "base_uri": "https://localhost:8080/"
        },
        "id": "BB7MJAesAyQf",
        "outputId": "38c94065-4df6-46f7-bc93-a97bb8149048",
        "execution": {
          "iopub.status.busy": "2024-12-20T11:16:24.512936Z",
          "iopub.execute_input": "2024-12-20T11:16:24.513741Z",
          "iopub.status.idle": "2024-12-20T11:16:24.519182Z",
          "shell.execute_reply.started": "2024-12-20T11:16:24.513709Z",
          "shell.execute_reply": "2024-12-20T11:16:24.518387Z"
        },
        "trusted": true
      },
      "outputs": [
        {
          "execution_count": 30,
          "output_type": "execute_result",
          "data": {
            "text/plain": "array(['Abs', 'Acon', 'Aut', 'Class', 'Itpr', 'Lit', 'Prec', 'Princ',\n       'Psy', 'Rule', 'Syst', 'Tele'], dtype=object)"
          },
          "metadata": {}
        }
      ],
      "execution_count": null
    },
    {
      "cell_type": "code",
      "source": [
        "df_sc_labels = df_sc_final1[mlb.classes_]\n",
        "\n",
        "df_sc_labels"
      ],
      "metadata": {
        "colab": {
          "base_uri": "https://localhost:8080/",
          "height": 423
        },
        "id": "9TonF3Yhk6Gc",
        "outputId": "d5aeddc8-05fb-4482-addb-f7251232b8b8",
        "execution": {
          "iopub.status.busy": "2024-12-20T11:16:24.854923Z",
          "iopub.execute_input": "2024-12-20T11:16:24.855199Z",
          "iopub.status.idle": "2024-12-20T11:16:24.867367Z",
          "shell.execute_reply.started": "2024-12-20T11:16:24.855172Z",
          "shell.execute_reply": "2024-12-20T11:16:24.866423Z"
        },
        "trusted": true
      },
      "outputs": [
        {
          "execution_count": 31,
          "output_type": "execute_result",
          "data": {
            "text/plain": "      Abs  Acon  Aut  Class  Itpr  Lit  Prec  Princ  Psy  Rule  Syst  Tele\n0       0     0    0      0     0    0     0      0    0     1     0     0\n1       0     0    0      0     1    0     0      0    0     0     0     0\n2       0     0    0      0     0    0     0      0    0     1     0     0\n3       0     0    0      0     1    0     0      0    0     0     0     0\n4       0     0    0      0     0    0     1      0    0     0     0     0\n...   ...   ...  ...    ...   ...  ...   ...    ...  ...   ...   ...   ...\n1309    0     0    0      0     0    0     0      0    0     1     0     0\n1310    0     0    0      0     0    0     0      0    0     1     0     0\n1311    0     0    0      0     0    0     0      0    0     1     0     0\n1312    0     0    0      1     0    0     0      0    0     1     0     0\n1313    0     0    0      1     0    0     0      0    0     0     0     0\n\n[1314 rows x 12 columns]",
            "text/html": "<div>\n<style scoped>\n    .dataframe tbody tr th:only-of-type {\n        vertical-align: middle;\n    }\n\n    .dataframe tbody tr th {\n        vertical-align: top;\n    }\n\n    .dataframe thead th {\n        text-align: right;\n    }\n</style>\n<table border=\"1\" class=\"dataframe\">\n  <thead>\n    <tr style=\"text-align: right;\">\n      <th></th>\n      <th>Abs</th>\n      <th>Acon</th>\n      <th>Aut</th>\n      <th>Class</th>\n      <th>Itpr</th>\n      <th>Lit</th>\n      <th>Prec</th>\n      <th>Princ</th>\n      <th>Psy</th>\n      <th>Rule</th>\n      <th>Syst</th>\n      <th>Tele</th>\n    </tr>\n  </thead>\n  <tbody>\n    <tr>\n      <th>0</th>\n      <td>0</td>\n      <td>0</td>\n      <td>0</td>\n      <td>0</td>\n      <td>0</td>\n      <td>0</td>\n      <td>0</td>\n      <td>0</td>\n      <td>0</td>\n      <td>1</td>\n      <td>0</td>\n      <td>0</td>\n    </tr>\n    <tr>\n      <th>1</th>\n      <td>0</td>\n      <td>0</td>\n      <td>0</td>\n      <td>0</td>\n      <td>1</td>\n      <td>0</td>\n      <td>0</td>\n      <td>0</td>\n      <td>0</td>\n      <td>0</td>\n      <td>0</td>\n      <td>0</td>\n    </tr>\n    <tr>\n      <th>2</th>\n      <td>0</td>\n      <td>0</td>\n      <td>0</td>\n      <td>0</td>\n      <td>0</td>\n      <td>0</td>\n      <td>0</td>\n      <td>0</td>\n      <td>0</td>\n      <td>1</td>\n      <td>0</td>\n      <td>0</td>\n    </tr>\n    <tr>\n      <th>3</th>\n      <td>0</td>\n      <td>0</td>\n      <td>0</td>\n      <td>0</td>\n      <td>1</td>\n      <td>0</td>\n      <td>0</td>\n      <td>0</td>\n      <td>0</td>\n      <td>0</td>\n      <td>0</td>\n      <td>0</td>\n    </tr>\n    <tr>\n      <th>4</th>\n      <td>0</td>\n      <td>0</td>\n      <td>0</td>\n      <td>0</td>\n      <td>0</td>\n      <td>0</td>\n      <td>1</td>\n      <td>0</td>\n      <td>0</td>\n      <td>0</td>\n      <td>0</td>\n      <td>0</td>\n    </tr>\n    <tr>\n      <th>...</th>\n      <td>...</td>\n      <td>...</td>\n      <td>...</td>\n      <td>...</td>\n      <td>...</td>\n      <td>...</td>\n      <td>...</td>\n      <td>...</td>\n      <td>...</td>\n      <td>...</td>\n      <td>...</td>\n      <td>...</td>\n    </tr>\n    <tr>\n      <th>1309</th>\n      <td>0</td>\n      <td>0</td>\n      <td>0</td>\n      <td>0</td>\n      <td>0</td>\n      <td>0</td>\n      <td>0</td>\n      <td>0</td>\n      <td>0</td>\n      <td>1</td>\n      <td>0</td>\n      <td>0</td>\n    </tr>\n    <tr>\n      <th>1310</th>\n      <td>0</td>\n      <td>0</td>\n      <td>0</td>\n      <td>0</td>\n      <td>0</td>\n      <td>0</td>\n      <td>0</td>\n      <td>0</td>\n      <td>0</td>\n      <td>1</td>\n      <td>0</td>\n      <td>0</td>\n    </tr>\n    <tr>\n      <th>1311</th>\n      <td>0</td>\n      <td>0</td>\n      <td>0</td>\n      <td>0</td>\n      <td>0</td>\n      <td>0</td>\n      <td>0</td>\n      <td>0</td>\n      <td>0</td>\n      <td>1</td>\n      <td>0</td>\n      <td>0</td>\n    </tr>\n    <tr>\n      <th>1312</th>\n      <td>0</td>\n      <td>0</td>\n      <td>0</td>\n      <td>1</td>\n      <td>0</td>\n      <td>0</td>\n      <td>0</td>\n      <td>0</td>\n      <td>0</td>\n      <td>1</td>\n      <td>0</td>\n      <td>0</td>\n    </tr>\n    <tr>\n      <th>1313</th>\n      <td>0</td>\n      <td>0</td>\n      <td>0</td>\n      <td>1</td>\n      <td>0</td>\n      <td>0</td>\n      <td>0</td>\n      <td>0</td>\n      <td>0</td>\n      <td>0</td>\n      <td>0</td>\n      <td>0</td>\n    </tr>\n  </tbody>\n</table>\n<p>1314 rows × 12 columns</p>\n</div>"
          },
          "metadata": {}
        }
      ],
      "execution_count": null
    },
    {
      "cell_type": "code",
      "source": [
        "#mlb.inverse_transform(np.array(df_sc_labels))"
      ],
      "metadata": {
        "execution": {
          "iopub.status.busy": "2024-12-20T11:16:25.148021Z",
          "iopub.execute_input": "2024-12-20T11:16:25.148329Z",
          "iopub.status.idle": "2024-12-20T11:16:25.152366Z",
          "shell.execute_reply.started": "2024-12-20T11:16:25.1483Z",
          "shell.execute_reply": "2024-12-20T11:16:25.151448Z"
        },
        "trusted": true,
        "id": "sZi1rHIa5GsZ"
      },
      "outputs": [],
      "execution_count": null
    },
    {
      "cell_type": "code",
      "source": [
        "sc_label_count = df_sc_labels.sum().sort_values(ascending=False)\n",
        "\n",
        "sc_label_count"
      ],
      "metadata": {
        "execution": {
          "iopub.status.busy": "2024-12-20T11:16:25.460753Z",
          "iopub.execute_input": "2024-12-20T11:16:25.461031Z",
          "iopub.status.idle": "2024-12-20T11:16:25.470492Z",
          "shell.execute_reply.started": "2024-12-20T11:16:25.461004Z",
          "shell.execute_reply": "2024-12-20T11:16:25.46938Z"
        },
        "trusted": true,
        "id": "I5IsJCGi5GsZ",
        "outputId": "39c2aee1-1939-458e-8b15-e8db7d2b1674"
      },
      "outputs": [
        {
          "execution_count": 33,
          "output_type": "execute_result",
          "data": {
            "text/plain": "Rule     575\nPrec     419\nItpr     314\nPrinc    144\nClass    100\nAut       72\nSyst      28\nTele      18\nLit       12\nAbs        8\nPsy        7\nAcon       1\ndtype: int64"
          },
          "metadata": {}
        }
      ],
      "execution_count": null
    },
    {
      "cell_type": "code",
      "source": [
        "y = np.array(sc_label_count)\n",
        "\n",
        "#x = np.array(sc_label_count.index)\n",
        "\n",
        "#added values on x only for convenience\n",
        "\n",
        "x = [sc_label_count.index[i] + ': ' + str(sc_label_count.iloc[i]) for i in range(len(sc_label_count))]\n",
        "\n",
        "plt.figure(figsize=(13,5))\n",
        "\n",
        "plt.bar(x, height=y)"
      ],
      "metadata": {
        "colab": {
          "base_uri": "https://localhost:8080/",
          "height": 464
        },
        "id": "6RKfMPitk6Gf",
        "outputId": "08dcacef-ec6c-4100-c89d-02409680e473",
        "execution": {
          "iopub.status.busy": "2024-12-20T11:16:30.099523Z",
          "iopub.execute_input": "2024-12-20T11:16:30.099915Z",
          "iopub.status.idle": "2024-12-20T11:16:30.291514Z",
          "shell.execute_reply.started": "2024-12-20T11:16:30.099884Z",
          "shell.execute_reply": "2024-12-20T11:16:30.290673Z"
        },
        "trusted": true
      },
      "outputs": [
        {
          "execution_count": 34,
          "output_type": "execute_result",
          "data": {
            "text/plain": "<BarContainer object of 12 artists>"
          },
          "metadata": {}
        },
        {
          "output_type": "display_data",
          "data": {
            "text/plain": "<Figure size 1300x500 with 1 Axes>",
            "image/png": "[encoded data removed]"
          },
          "metadata": {}
        }
      ],
      "execution_count": null
    },
    {
      "cell_type": "code",
      "source": [
        "bad_sc_classes = sc_label_count.index[sc_label_count < 15]\n",
        "\n",
        "sc_classes = sc_label_count.index[sc_label_count >= 15]\n",
        "\n",
        "print(\"Removing classes with low number of instances: \"+', '.join(bad_sc_classes))\n",
        "\n",
        "print(\"Keeping classes with good number of instances: \"+', '.join(sc_classes))\n",
        "\n",
        "good_sc_columns = np.setdiff1d(sc_classes, bad_sc_classes)\n",
        "\n",
        "print(\"Remaining columns: \"+', '.join(good_sc_columns))\n",
        "\n",
        "#df_sc_final = df_sc_final1[~df_sc_final1[\"Scheme2\"].isin(bad_sc_classes)].drop(bad_sc_classes,axis=1).reset_index(drop=True)\n",
        "df_sc_final1"
      ],
      "metadata": {
        "colab": {
          "base_uri": "https://localhost:8080/"
        },
        "id": "BGYBwbnrcncC",
        "outputId": "41ffbc2d-2067-44cf-ec2e-83ca09bc1ea3",
        "execution": {
          "iopub.status.busy": "2024-12-20T11:16:30.405255Z",
          "iopub.execute_input": "2024-12-20T11:16:30.405511Z",
          "iopub.status.idle": "2024-12-20T11:16:30.4273Z",
          "shell.execute_reply.started": "2024-12-20T11:16:30.405486Z",
          "shell.execute_reply": "2024-12-20T11:16:30.426339Z"
        },
        "trusted": true
      },
      "outputs": [
        {
          "name": "stdout",
          "text": "Removing classes with low number of instances: Lit, Abs, Psy, Acon\nKeeping classes with good number of instances: Rule, Prec, Itpr, Princ, Class, Aut, Syst, Tele\nRemaining columns: Aut, Class, Itpr, Prec, Princ, Rule, Syst, Tele\n",
          "output_type": "stream"
        },
        {
          "execution_count": 35,
          "output_type": "execute_result",
          "data": {
            "text/plain": "                             Document  Name   Id Chain Num  \\\n0     2013_40_VAT_OPAM_2_REM_MB_PS_AN  prem   A2     A   2   \n1     2013_40_VAT_OPAM_2_REM_MB_PS_AN  prem   A3     A   3   \n2       2018_847_VAT_OP_2_-1_MB_AF_AN  prem   A1     A   1   \n3       2018_847_VAT_OP_2_-1_MB_AF_AN  prem   A2     A   2   \n4       2018_847_VAT_OP_2_-1_MB_AF_AN  prem   A3     A   3   \n...                               ...   ...  ...   ...  ..   \n1309     2021_6075_VAT_OPAM_2_1_PS_AN  prem  C15     C  15   \n1310     2021_6075_VAT_OPAM_2_1_PS_AN  prem  C16     C  16   \n1311     2021_6075_VAT_OPAM_2_1_PS_AN  prem  C17     C  17   \n1312     2021_6075_VAT_OPAM_2_1_PS_AN  prem  C18     C  18   \n1313     2021_6075_VAT_OPAM_2_1_PS_AN  prem  C19     C  19   \n\n                                                   Text Type       SUP  SFF  \\\n0     Ai sensi dell'art. 14 del d.lgs.546/92, se l'o...    L       NaN  NaN   \n1     Se il ricorso non è stato proposto da o nei co...    L       NaN  NaN   \n2     Secondo condivisa e costante giurisprudenza (C...    L       NaN  NaN   \n3     Tuttavia, nel caso qui in esame, la Comm/ne no...    L  [A3, A4]  NaN   \n4     A tal proposito si ricorda che la Corte cost. ...    L       NaN  NaN   \n...                                                 ...  ...       ...  ...   \n1309  Sotto questo profilo i Compro Oro sono sottopo...    L       NaN  NaN   \n1310  Tale comunicazione ha luogo quando i destinata...    L       NaN  NaN   \n1311  Il Ministro dell'interno, con decreto del 17 f...    L       NaN  NaN   \n1312  Tra i soggetti destinatari del decreto sono ri...    L       NaN  NaN   \n1313  In conclusione, per quanto fin qui esposto, i ...    L            NaN   \n\n      ATT  ... Aut Class Itpr Lit Prec Princ  Psy  Rule  Syst  Tele  \n0     NaN  ...   0     0    0   0    0     0    0     1     0     0  \n1     NaN  ...   0     0    1   0    0     0    0     0     0     0  \n2     NaN  ...   0     0    0   0    0     0    0     1     0     0  \n3     NaN  ...   0     0    1   0    0     0    0     0     0     0  \n4     NaN  ...   0     0    0   0    1     0    0     0     0     0  \n...   ...  ...  ..   ...  ...  ..  ...   ...  ...   ...   ...   ...  \n1309  NaN  ...   0     0    0   0    0     0    0     1     0     0  \n1310  NaN  ...   0     0    0   0    0     0    0     1     0     0  \n1311  NaN  ...   0     0    0   0    0     0    0     1     0     0  \n1312  NaN  ...   0     1    0   0    0     0    0     1     0     0  \n1313  NaN  ...   0     1    0   0    0     0    0     0     0     0  \n\n[1314 rows x 28 columns]",
            "text/html": "<div>\n<style scoped>\n    .dataframe tbody tr th:only-of-type {\n        vertical-align: middle;\n    }\n\n    .dataframe tbody tr th {\n        vertical-align: top;\n    }\n\n    .dataframe thead th {\n        text-align: right;\n    }\n</style>\n<table border=\"1\" class=\"dataframe\">\n  <thead>\n    <tr style=\"text-align: right;\">\n      <th></th>\n      <th>Document</th>\n      <th>Name</th>\n      <th>Id</th>\n      <th>Chain</th>\n      <th>Num</th>\n      <th>Text</th>\n      <th>Type</th>\n      <th>SUP</th>\n      <th>SFF</th>\n      <th>ATT</th>\n      <th>...</th>\n      <th>Aut</th>\n      <th>Class</th>\n      <th>Itpr</th>\n      <th>Lit</th>\n      <th>Prec</th>\n      <th>Princ</th>\n      <th>Psy</th>\n      <th>Rule</th>\n      <th>Syst</th>\n      <th>Tele</th>\n    </tr>\n  </thead>\n  <tbody>\n    <tr>\n      <th>0</th>\n      <td>2013_40_VAT_OPAM_2_REM_MB_PS_AN</td>\n      <td>prem</td>\n      <td>A2</td>\n      <td>A</td>\n      <td>2</td>\n      <td>Ai sensi dell'art. 14 del d.lgs.546/92, se l'o...</td>\n      <td>L</td>\n      <td>NaN</td>\n      <td>NaN</td>\n      <td>NaN</td>\n      <td>...</td>\n      <td>0</td>\n      <td>0</td>\n      <td>0</td>\n      <td>0</td>\n      <td>0</td>\n      <td>0</td>\n      <td>0</td>\n      <td>1</td>\n      <td>0</td>\n      <td>0</td>\n    </tr>\n    <tr>\n      <th>1</th>\n      <td>2013_40_VAT_OPAM_2_REM_MB_PS_AN</td>\n      <td>prem</td>\n      <td>A3</td>\n      <td>A</td>\n      <td>3</td>\n      <td>Se il ricorso non è stato proposto da o nei co...</td>\n      <td>L</td>\n      <td>NaN</td>\n      <td>NaN</td>\n      <td>NaN</td>\n      <td>...</td>\n      <td>0</td>\n      <td>0</td>\n      <td>1</td>\n      <td>0</td>\n      <td>0</td>\n      <td>0</td>\n      <td>0</td>\n      <td>0</td>\n      <td>0</td>\n      <td>0</td>\n    </tr>\n    <tr>\n      <th>2</th>\n      <td>2018_847_VAT_OP_2_-1_MB_AF_AN</td>\n      <td>prem</td>\n      <td>A1</td>\n      <td>A</td>\n      <td>1</td>\n      <td>Secondo condivisa e costante giurisprudenza (C...</td>\n      <td>L</td>\n      <td>NaN</td>\n      <td>NaN</td>\n      <td>NaN</td>\n      <td>...</td>\n      <td>0</td>\n      <td>0</td>\n      <td>0</td>\n      <td>0</td>\n      <td>0</td>\n      <td>0</td>\n      <td>0</td>\n      <td>1</td>\n      <td>0</td>\n      <td>0</td>\n    </tr>\n    <tr>\n      <th>3</th>\n      <td>2018_847_VAT_OP_2_-1_MB_AF_AN</td>\n      <td>prem</td>\n      <td>A2</td>\n      <td>A</td>\n      <td>2</td>\n      <td>Tuttavia, nel caso qui in esame, la Comm/ne no...</td>\n      <td>L</td>\n      <td>[A3, A4]</td>\n      <td>NaN</td>\n      <td>NaN</td>\n      <td>...</td>\n      <td>0</td>\n      <td>0</td>\n      <td>1</td>\n      <td>0</td>\n      <td>0</td>\n      <td>0</td>\n      <td>0</td>\n      <td>0</td>\n      <td>0</td>\n      <td>0</td>\n    </tr>\n    <tr>\n      <th>4</th>\n      <td>2018_847_VAT_OP_2_-1_MB_AF_AN</td>\n      <td>prem</td>\n      <td>A3</td>\n      <td>A</td>\n      <td>3</td>\n      <td>A tal proposito si ricorda che la Corte cost. ...</td>\n      <td>L</td>\n      <td>NaN</td>\n      <td>NaN</td>\n      <td>NaN</td>\n      <td>...</td>\n      <td>0</td>\n      <td>0</td>\n      <td>0</td>\n      <td>0</td>\n      <td>1</td>\n      <td>0</td>\n      <td>0</td>\n      <td>0</td>\n      <td>0</td>\n      <td>0</td>\n    </tr>\n    <tr>\n      <th>...</th>\n      <td>...</td>\n      <td>...</td>\n      <td>...</td>\n      <td>...</td>\n      <td>...</td>\n      <td>...</td>\n      <td>...</td>\n      <td>...</td>\n      <td>...</td>\n      <td>...</td>\n      <td>...</td>\n      <td>...</td>\n      <td>...</td>\n      <td>...</td>\n      <td>...</td>\n      <td>...</td>\n      <td>...</td>\n      <td>...</td>\n      <td>...</td>\n      <td>...</td>\n      <td>...</td>\n    </tr>\n    <tr>\n      <th>1309</th>\n      <td>2021_6075_VAT_OPAM_2_1_PS_AN</td>\n      <td>prem</td>\n      <td>C15</td>\n      <td>C</td>\n      <td>15</td>\n      <td>Sotto questo profilo i Compro Oro sono sottopo...</td>\n      <td>L</td>\n      <td>NaN</td>\n      <td>NaN</td>\n      <td>NaN</td>\n      <td>...</td>\n      <td>0</td>\n      <td>0</td>\n      <td>0</td>\n      <td>0</td>\n      <td>0</td>\n      <td>0</td>\n      <td>0</td>\n      <td>1</td>\n      <td>0</td>\n      <td>0</td>\n    </tr>\n    <tr>\n      <th>1310</th>\n      <td>2021_6075_VAT_OPAM_2_1_PS_AN</td>\n      <td>prem</td>\n      <td>C16</td>\n      <td>C</td>\n      <td>16</td>\n      <td>Tale comunicazione ha luogo quando i destinata...</td>\n      <td>L</td>\n      <td>NaN</td>\n      <td>NaN</td>\n      <td>NaN</td>\n      <td>...</td>\n      <td>0</td>\n      <td>0</td>\n      <td>0</td>\n      <td>0</td>\n      <td>0</td>\n      <td>0</td>\n      <td>0</td>\n      <td>1</td>\n      <td>0</td>\n      <td>0</td>\n    </tr>\n    <tr>\n      <th>1311</th>\n      <td>2021_6075_VAT_OPAM_2_1_PS_AN</td>\n      <td>prem</td>\n      <td>C17</td>\n      <td>C</td>\n      <td>17</td>\n      <td>Il Ministro dell'interno, con decreto del 17 f...</td>\n      <td>L</td>\n      <td>NaN</td>\n      <td>NaN</td>\n      <td>NaN</td>\n      <td>...</td>\n      <td>0</td>\n      <td>0</td>\n      <td>0</td>\n      <td>0</td>\n      <td>0</td>\n      <td>0</td>\n      <td>0</td>\n      <td>1</td>\n      <td>0</td>\n      <td>0</td>\n    </tr>\n    <tr>\n      <th>1312</th>\n      <td>2021_6075_VAT_OPAM_2_1_PS_AN</td>\n      <td>prem</td>\n      <td>C18</td>\n      <td>C</td>\n      <td>18</td>\n      <td>Tra i soggetti destinatari del decreto sono ri...</td>\n      <td>L</td>\n      <td>NaN</td>\n      <td>NaN</td>\n      <td>NaN</td>\n      <td>...</td>\n      <td>0</td>\n      <td>1</td>\n      <td>0</td>\n      <td>0</td>\n      <td>0</td>\n      <td>0</td>\n      <td>0</td>\n      <td>1</td>\n      <td>0</td>\n      <td>0</td>\n    </tr>\n    <tr>\n      <th>1313</th>\n      <td>2021_6075_VAT_OPAM_2_1_PS_AN</td>\n      <td>prem</td>\n      <td>C19</td>\n      <td>C</td>\n      <td>19</td>\n      <td>In conclusione, per quanto fin qui esposto, i ...</td>\n      <td>L</td>\n      <td></td>\n      <td>NaN</td>\n      <td>NaN</td>\n      <td>...</td>\n      <td>0</td>\n      <td>1</td>\n      <td>0</td>\n      <td>0</td>\n      <td>0</td>\n      <td>0</td>\n      <td>0</td>\n      <td>0</td>\n      <td>0</td>\n      <td>0</td>\n    </tr>\n  </tbody>\n</table>\n<p>1314 rows × 28 columns</p>\n</div>"
          },
          "metadata": {}
        }
      ],
      "execution_count": null
    },
    {
      "cell_type": "code",
      "source": [
        "#df_sc_final['Scheme'].isin(['Acon'])\n",
        "#updated version, now we are also considering the list type elements\n",
        "def remove_bad_classes(df_sc,bad_sc_classes):\n",
        "    df = df_sc\n",
        "    for i in range(len(df_sc)):\n",
        "        x = df.loc[i,'Scheme']\n",
        "        if type(x) == list:\n",
        "            for q in x:\n",
        "                if q in bad_sc_classes:\n",
        "                    #print(x, q)\n",
        "                    df = df.drop([i])\n",
        "                    break\n",
        "        elif x in bad_sc_classes:\n",
        "            df = df.drop([i])\n",
        "    df = df.drop(bad_sc_classes,axis=1).reset_index(drop=True)\n",
        "    return df\n",
        "df_r = remove_bad_classes(df_sc_final1,bad_sc_classes)\n",
        "df_sc_final = df_r\n",
        "df_sc_final.columns"
      ],
      "metadata": {
        "execution": {
          "iopub.status.busy": "2024-12-20T11:16:30.621232Z",
          "iopub.execute_input": "2024-12-20T11:16:30.621492Z",
          "iopub.status.idle": "2024-12-20T11:16:30.664152Z",
          "shell.execute_reply.started": "2024-12-20T11:16:30.621466Z",
          "shell.execute_reply": "2024-12-20T11:16:30.663427Z"
        },
        "trusted": true,
        "id": "6UHPkQbW5Gsb",
        "outputId": "2ac03e90-73de-4a2a-887b-6e7e8c1817c1"
      },
      "outputs": [
        {
          "execution_count": 36,
          "output_type": "execute_result",
          "data": {
            "text/plain": "Index(['Document', 'Name', 'Id', 'Chain', 'Num', 'Text', 'Type', 'SUP', 'SFF',\n       'ATT', 'INH', 'REPH', 'Scheme', 'FullChainID', 'Previous', 'Scheme2',\n       'Aut', 'Class', 'Itpr', 'Prec', 'Princ', 'Rule', 'Syst', 'Tele'],\n      dtype='object')"
          },
          "metadata": {}
        }
      ],
      "execution_count": null
    },
    {
      "cell_type": "code",
      "source": [
        "df_sc_labels"
      ],
      "metadata": {
        "trusted": true,
        "execution": {
          "iopub.status.busy": "2024-12-20T11:16:30.840117Z",
          "iopub.execute_input": "2024-12-20T11:16:30.840376Z",
          "iopub.status.idle": "2024-12-20T11:16:30.851936Z",
          "shell.execute_reply.started": "2024-12-20T11:16:30.84035Z",
          "shell.execute_reply": "2024-12-20T11:16:30.851038Z"
        },
        "id": "LOH89wzZ5Gsb",
        "outputId": "0949f6e7-08e9-409d-8fc0-ac2386524d08"
      },
      "outputs": [
        {
          "execution_count": 37,
          "output_type": "execute_result",
          "data": {
            "text/plain": "      Abs  Acon  Aut  Class  Itpr  Lit  Prec  Princ  Psy  Rule  Syst  Tele\n0       0     0    0      0     0    0     0      0    0     1     0     0\n1       0     0    0      0     1    0     0      0    0     0     0     0\n2       0     0    0      0     0    0     0      0    0     1     0     0\n3       0     0    0      0     1    0     0      0    0     0     0     0\n4       0     0    0      0     0    0     1      0    0     0     0     0\n...   ...   ...  ...    ...   ...  ...   ...    ...  ...   ...   ...   ...\n1309    0     0    0      0     0    0     0      0    0     1     0     0\n1310    0     0    0      0     0    0     0      0    0     1     0     0\n1311    0     0    0      0     0    0     0      0    0     1     0     0\n1312    0     0    0      1     0    0     0      0    0     1     0     0\n1313    0     0    0      1     0    0     0      0    0     0     0     0\n\n[1314 rows x 12 columns]",
            "text/html": "<div>\n<style scoped>\n    .dataframe tbody tr th:only-of-type {\n        vertical-align: middle;\n    }\n\n    .dataframe tbody tr th {\n        vertical-align: top;\n    }\n\n    .dataframe thead th {\n        text-align: right;\n    }\n</style>\n<table border=\"1\" class=\"dataframe\">\n  <thead>\n    <tr style=\"text-align: right;\">\n      <th></th>\n      <th>Abs</th>\n      <th>Acon</th>\n      <th>Aut</th>\n      <th>Class</th>\n      <th>Itpr</th>\n      <th>Lit</th>\n      <th>Prec</th>\n      <th>Princ</th>\n      <th>Psy</th>\n      <th>Rule</th>\n      <th>Syst</th>\n      <th>Tele</th>\n    </tr>\n  </thead>\n  <tbody>\n    <tr>\n      <th>0</th>\n      <td>0</td>\n      <td>0</td>\n      <td>0</td>\n      <td>0</td>\n      <td>0</td>\n      <td>0</td>\n      <td>0</td>\n      <td>0</td>\n      <td>0</td>\n      <td>1</td>\n      <td>0</td>\n      <td>0</td>\n    </tr>\n    <tr>\n      <th>1</th>\n      <td>0</td>\n      <td>0</td>\n      <td>0</td>\n      <td>0</td>\n      <td>1</td>\n      <td>0</td>\n      <td>0</td>\n      <td>0</td>\n      <td>0</td>\n      <td>0</td>\n      <td>0</td>\n      <td>0</td>\n    </tr>\n    <tr>\n      <th>2</th>\n      <td>0</td>\n      <td>0</td>\n      <td>0</td>\n      <td>0</td>\n      <td>0</td>\n      <td>0</td>\n      <td>0</td>\n      <td>0</td>\n      <td>0</td>\n      <td>1</td>\n      <td>0</td>\n      <td>0</td>\n    </tr>\n    <tr>\n      <th>3</th>\n      <td>0</td>\n      <td>0</td>\n      <td>0</td>\n      <td>0</td>\n      <td>1</td>\n      <td>0</td>\n      <td>0</td>\n      <td>0</td>\n      <td>0</td>\n      <td>0</td>\n      <td>0</td>\n      <td>0</td>\n    </tr>\n    <tr>\n      <th>4</th>\n      <td>0</td>\n      <td>0</td>\n      <td>0</td>\n      <td>0</td>\n      <td>0</td>\n      <td>0</td>\n      <td>1</td>\n      <td>0</td>\n      <td>0</td>\n      <td>0</td>\n      <td>0</td>\n      <td>0</td>\n    </tr>\n    <tr>\n      <th>...</th>\n      <td>...</td>\n      <td>...</td>\n      <td>...</td>\n      <td>...</td>\n      <td>...</td>\n      <td>...</td>\n      <td>...</td>\n      <td>...</td>\n      <td>...</td>\n      <td>...</td>\n      <td>...</td>\n      <td>...</td>\n    </tr>\n    <tr>\n      <th>1309</th>\n      <td>0</td>\n      <td>0</td>\n      <td>0</td>\n      <td>0</td>\n      <td>0</td>\n      <td>0</td>\n      <td>0</td>\n      <td>0</td>\n      <td>0</td>\n      <td>1</td>\n      <td>0</td>\n      <td>0</td>\n    </tr>\n    <tr>\n      <th>1310</th>\n      <td>0</td>\n      <td>0</td>\n      <td>0</td>\n      <td>0</td>\n      <td>0</td>\n      <td>0</td>\n      <td>0</td>\n      <td>0</td>\n      <td>0</td>\n      <td>1</td>\n      <td>0</td>\n      <td>0</td>\n    </tr>\n    <tr>\n      <th>1311</th>\n      <td>0</td>\n      <td>0</td>\n      <td>0</td>\n      <td>0</td>\n      <td>0</td>\n      <td>0</td>\n      <td>0</td>\n      <td>0</td>\n      <td>0</td>\n      <td>1</td>\n      <td>0</td>\n      <td>0</td>\n    </tr>\n    <tr>\n      <th>1312</th>\n      <td>0</td>\n      <td>0</td>\n      <td>0</td>\n      <td>1</td>\n      <td>0</td>\n      <td>0</td>\n      <td>0</td>\n      <td>0</td>\n      <td>0</td>\n      <td>1</td>\n      <td>0</td>\n      <td>0</td>\n    </tr>\n    <tr>\n      <th>1313</th>\n      <td>0</td>\n      <td>0</td>\n      <td>0</td>\n      <td>1</td>\n      <td>0</td>\n      <td>0</td>\n      <td>0</td>\n      <td>0</td>\n      <td>0</td>\n      <td>0</td>\n      <td>0</td>\n      <td>0</td>\n    </tr>\n  </tbody>\n</table>\n<p>1314 rows × 12 columns</p>\n</div>"
          },
          "metadata": {}
        }
      ],
      "execution_count": null
    },
    {
      "cell_type": "code",
      "source": [
        "df_sc_final1.iloc[384]"
      ],
      "metadata": {
        "trusted": true,
        "execution": {
          "iopub.status.busy": "2024-12-20T11:16:35.963545Z",
          "iopub.execute_input": "2024-12-20T11:16:35.964227Z",
          "iopub.status.idle": "2024-12-20T11:16:35.971527Z",
          "shell.execute_reply.started": "2024-12-20T11:16:35.96419Z",
          "shell.execute_reply": "2024-12-20T11:16:35.970652Z"
        },
        "id": "UIJ2qG-S5Gsb",
        "outputId": "801dc76a-e849-484b-dace-26e46edd8140"
      },
      "outputs": [
        {
          "execution_count": 38,
          "output_type": "execute_result",
          "data": {
            "text/plain": "Document                            2018_288_VAT_OP_2_0_AP_MB_AN\nName                                                        prem\nId                                                            A6\nChain                                                          A\nNum                                                            6\nText           Il legislatore tributario, a fronte del princi...\nType                                                           L\nSUP                                                          NaN\nSFF                                                          NaN\nATT                                                          NaN\nINH                                                          NaN\nREPH                                                         NaN\nScheme                                                       Psy\nFullChainID                       2018_288_VAT_OP_2_0_AP_MB_AN_A\nPrevious       Il legislatore tributario, a fronte del\\n     ...\nScheme2                                                      Psy\nAbs                                                            0\nAcon                                                           0\nAut                                                            0\nClass                                                          0\nItpr                                                           0\nLit                                                            0\nPrec                                                           0\nPrinc                                                          0\nPsy                                                            1\nRule                                                           0\nSyst                                                           0\nTele                                                           0\nName: 384, dtype: object"
          },
          "metadata": {}
        }
      ],
      "execution_count": null
    },
    {
      "cell_type": "code",
      "source": [
        "tr = df_sc_final.explode('Scheme')\n",
        "#df_sc_final[df_sc_final['Scheme'].explode().isin(['Acon'])]\n",
        "tr.drop(good_sc_columns,axis=1)"
      ],
      "metadata": {
        "execution": {
          "iopub.status.busy": "2024-12-20T11:16:36.293832Z",
          "iopub.execute_input": "2024-12-20T11:16:36.294092Z",
          "iopub.status.idle": "2024-12-20T11:16:36.316224Z",
          "shell.execute_reply.started": "2024-12-20T11:16:36.294068Z",
          "shell.execute_reply": "2024-12-20T11:16:36.315407Z"
        },
        "trusted": true,
        "id": "a6c9FkBx5Gsb",
        "outputId": "f7da79ce-0510-450c-e94f-6f2829ae46f5"
      },
      "outputs": [
        {
          "execution_count": 39,
          "output_type": "execute_result",
          "data": {
            "text/plain": "                             Document  Name   Id Chain Num  \\\n0     2013_40_VAT_OPAM_2_REM_MB_PS_AN  prem   A2     A   2   \n1     2013_40_VAT_OPAM_2_REM_MB_PS_AN  prem   A3     A   3   \n2       2018_847_VAT_OP_2_-1_MB_AF_AN  prem   A1     A   1   \n3       2018_847_VAT_OP_2_-1_MB_AF_AN  prem   A2     A   2   \n4       2018_847_VAT_OP_2_-1_MB_AF_AN  prem   A3     A   3   \n...                               ...   ...  ...   ...  ..   \n1283     2021_6075_VAT_OPAM_2_1_PS_AN  prem  C16     C  16   \n1284     2021_6075_VAT_OPAM_2_1_PS_AN  prem  C17     C  17   \n1285     2021_6075_VAT_OPAM_2_1_PS_AN  prem  C18     C  18   \n1285     2021_6075_VAT_OPAM_2_1_PS_AN  prem  C18     C  18   \n1286     2021_6075_VAT_OPAM_2_1_PS_AN  prem  C19     C  19   \n\n                                                   Text Type       SUP  SFF  \\\n0     Ai sensi dell'art. 14 del d.lgs.546/92, se l'o...    L       NaN  NaN   \n1     Se il ricorso non è stato proposto da o nei co...    L       NaN  NaN   \n2     Secondo condivisa e costante giurisprudenza (C...    L       NaN  NaN   \n3     Tuttavia, nel caso qui in esame, la Comm/ne no...    L  [A3, A4]  NaN   \n4     A tal proposito si ricorda che la Corte cost. ...    L       NaN  NaN   \n...                                                 ...  ...       ...  ...   \n1283  Tale comunicazione ha luogo quando i destinata...    L       NaN  NaN   \n1284  Il Ministro dell'interno, con decreto del 17 f...    L       NaN  NaN   \n1285  Tra i soggetti destinatari del decreto sono ri...    L       NaN  NaN   \n1285  Tra i soggetti destinatari del decreto sono ri...    L       NaN  NaN   \n1286  In conclusione, per quanto fin qui esposto, i ...    L            NaN   \n\n      ATT  INH REPH Scheme                        FullChainID  \\\n0     NaN  NaN  NaN   Rule  2013_40_VAT_OPAM_2_REM_MB_PS_AN_A   \n1     NaN  NaN  NaN   Itpr  2013_40_VAT_OPAM_2_REM_MB_PS_AN_A   \n2     NaN  NaN  NaN   Rule    2018_847_VAT_OP_2_-1_MB_AF_AN_A   \n3     NaN  NaN  NaN   Itpr    2018_847_VAT_OP_2_-1_MB_AF_AN_A   \n4     NaN  NaN  NaN   Prec    2018_847_VAT_OP_2_-1_MB_AF_AN_A   \n...   ...  ...  ...    ...                                ...   \n1283  NaN  NaN  NaN   Rule     2021_6075_VAT_OPAM_2_1_PS_AN_C   \n1284  NaN  NaN  NaN   Rule     2021_6075_VAT_OPAM_2_1_PS_AN_C   \n1285  NaN  NaN  NaN  Class     2021_6075_VAT_OPAM_2_1_PS_AN_C   \n1285  NaN  NaN  NaN   Rule     2021_6075_VAT_OPAM_2_1_PS_AN_C   \n1286  NaN  NaN  NaN  Class     2021_6075_VAT_OPAM_2_1_PS_AN_C   \n\n                                               Previous     Scheme2  \n0      Ai sensi dell'art. 14 del d.lgs.546/92, se l'...        Rule  \n1      Se il ricorso non è stato\\n    proposto da o ...        Itpr  \n2     Secondo condivisa e costante giurisprudenza (C...        Rule  \n3     Tuttavia, nel caso qui in esame, la Comm/ne no...        Itpr  \n4     A tal proposito si ricorda che la Corte cost. ...        Prec  \n...                                                 ...         ...  \n1283  Tale comunicazione ha luogo quando i destinata...        Rule  \n1284  Il Ministro dell'interno, con decreto del 17 f...        Rule  \n1285  Tra i soggetti destinatari del decreto sono ri...  Class,Rule  \n1285  Tra i soggetti destinatari del decreto sono ri...  Class,Rule  \n1286  In conclusione, per quanto fin qui esposto, i ...       Class  \n\n[1654 rows x 16 columns]",
            "text/html": "<div>\n<style scoped>\n    .dataframe tbody tr th:only-of-type {\n        vertical-align: middle;\n    }\n\n    .dataframe tbody tr th {\n        vertical-align: top;\n    }\n\n    .dataframe thead th {\n        text-align: right;\n    }\n</style>\n<table border=\"1\" class=\"dataframe\">\n  <thead>\n    <tr style=\"text-align: right;\">\n      <th></th>\n      <th>Document</th>\n      <th>Name</th>\n      <th>Id</th>\n      <th>Chain</th>\n      <th>Num</th>\n      <th>Text</th>\n      <th>Type</th>\n      <th>SUP</th>\n      <th>SFF</th>\n      <th>ATT</th>\n      <th>INH</th>\n      <th>REPH</th>\n      <th>Scheme</th>\n      <th>FullChainID</th>\n      <th>Previous</th>\n      <th>Scheme2</th>\n    </tr>\n  </thead>\n  <tbody>\n    <tr>\n      <th>0</th>\n      <td>2013_40_VAT_OPAM_2_REM_MB_PS_AN</td>\n      <td>prem</td>\n      <td>A2</td>\n      <td>A</td>\n      <td>2</td>\n      <td>Ai sensi dell'art. 14 del d.lgs.546/92, se l'o...</td>\n      <td>L</td>\n      <td>NaN</td>\n      <td>NaN</td>\n      <td>NaN</td>\n      <td>NaN</td>\n      <td>NaN</td>\n      <td>Rule</td>\n      <td>2013_40_VAT_OPAM_2_REM_MB_PS_AN_A</td>\n      <td>Ai sensi dell'art. 14 del d.lgs.546/92, se l'...</td>\n      <td>Rule</td>\n    </tr>\n    <tr>\n      <th>1</th>\n      <td>2013_40_VAT_OPAM_2_REM_MB_PS_AN</td>\n      <td>prem</td>\n      <td>A3</td>\n      <td>A</td>\n      <td>3</td>\n      <td>Se il ricorso non è stato proposto da o nei co...</td>\n      <td>L</td>\n      <td>NaN</td>\n      <td>NaN</td>\n      <td>NaN</td>\n      <td>NaN</td>\n      <td>NaN</td>\n      <td>Itpr</td>\n      <td>2013_40_VAT_OPAM_2_REM_MB_PS_AN_A</td>\n      <td>Se il ricorso non è stato\\n    proposto da o ...</td>\n      <td>Itpr</td>\n    </tr>\n    <tr>\n      <th>2</th>\n      <td>2018_847_VAT_OP_2_-1_MB_AF_AN</td>\n      <td>prem</td>\n      <td>A1</td>\n      <td>A</td>\n      <td>1</td>\n      <td>Secondo condivisa e costante giurisprudenza (C...</td>\n      <td>L</td>\n      <td>NaN</td>\n      <td>NaN</td>\n      <td>NaN</td>\n      <td>NaN</td>\n      <td>NaN</td>\n      <td>Rule</td>\n      <td>2018_847_VAT_OP_2_-1_MB_AF_AN_A</td>\n      <td>Secondo condivisa e costante giurisprudenza (C...</td>\n      <td>Rule</td>\n    </tr>\n    <tr>\n      <th>3</th>\n      <td>2018_847_VAT_OP_2_-1_MB_AF_AN</td>\n      <td>prem</td>\n      <td>A2</td>\n      <td>A</td>\n      <td>2</td>\n      <td>Tuttavia, nel caso qui in esame, la Comm/ne no...</td>\n      <td>L</td>\n      <td>[A3, A4]</td>\n      <td>NaN</td>\n      <td>NaN</td>\n      <td>NaN</td>\n      <td>NaN</td>\n      <td>Itpr</td>\n      <td>2018_847_VAT_OP_2_-1_MB_AF_AN_A</td>\n      <td>Tuttavia, nel caso qui in esame, la Comm/ne no...</td>\n      <td>Itpr</td>\n    </tr>\n    <tr>\n      <th>4</th>\n      <td>2018_847_VAT_OP_2_-1_MB_AF_AN</td>\n      <td>prem</td>\n      <td>A3</td>\n      <td>A</td>\n      <td>3</td>\n      <td>A tal proposito si ricorda che la Corte cost. ...</td>\n      <td>L</td>\n      <td>NaN</td>\n      <td>NaN</td>\n      <td>NaN</td>\n      <td>NaN</td>\n      <td>NaN</td>\n      <td>Prec</td>\n      <td>2018_847_VAT_OP_2_-1_MB_AF_AN_A</td>\n      <td>A tal proposito si ricorda che la Corte cost. ...</td>\n      <td>Prec</td>\n    </tr>\n    <tr>\n      <th>...</th>\n      <td>...</td>\n      <td>...</td>\n      <td>...</td>\n      <td>...</td>\n      <td>...</td>\n      <td>...</td>\n      <td>...</td>\n      <td>...</td>\n      <td>...</td>\n      <td>...</td>\n      <td>...</td>\n      <td>...</td>\n      <td>...</td>\n      <td>...</td>\n      <td>...</td>\n      <td>...</td>\n    </tr>\n    <tr>\n      <th>1283</th>\n      <td>2021_6075_VAT_OPAM_2_1_PS_AN</td>\n      <td>prem</td>\n      <td>C16</td>\n      <td>C</td>\n      <td>16</td>\n      <td>Tale comunicazione ha luogo quando i destinata...</td>\n      <td>L</td>\n      <td>NaN</td>\n      <td>NaN</td>\n      <td>NaN</td>\n      <td>NaN</td>\n      <td>NaN</td>\n      <td>Rule</td>\n      <td>2021_6075_VAT_OPAM_2_1_PS_AN_C</td>\n      <td>Tale comunicazione ha luogo quando i destinata...</td>\n      <td>Rule</td>\n    </tr>\n    <tr>\n      <th>1284</th>\n      <td>2021_6075_VAT_OPAM_2_1_PS_AN</td>\n      <td>prem</td>\n      <td>C17</td>\n      <td>C</td>\n      <td>17</td>\n      <td>Il Ministro dell'interno, con decreto del 17 f...</td>\n      <td>L</td>\n      <td>NaN</td>\n      <td>NaN</td>\n      <td>NaN</td>\n      <td>NaN</td>\n      <td>NaN</td>\n      <td>Rule</td>\n      <td>2021_6075_VAT_OPAM_2_1_PS_AN_C</td>\n      <td>Il Ministro dell'interno, con decreto del 17 f...</td>\n      <td>Rule</td>\n    </tr>\n    <tr>\n      <th>1285</th>\n      <td>2021_6075_VAT_OPAM_2_1_PS_AN</td>\n      <td>prem</td>\n      <td>C18</td>\n      <td>C</td>\n      <td>18</td>\n      <td>Tra i soggetti destinatari del decreto sono ri...</td>\n      <td>L</td>\n      <td>NaN</td>\n      <td>NaN</td>\n      <td>NaN</td>\n      <td>NaN</td>\n      <td>NaN</td>\n      <td>Class</td>\n      <td>2021_6075_VAT_OPAM_2_1_PS_AN_C</td>\n      <td>Tra i soggetti destinatari del decreto sono ri...</td>\n      <td>Class,Rule</td>\n    </tr>\n    <tr>\n      <th>1285</th>\n      <td>2021_6075_VAT_OPAM_2_1_PS_AN</td>\n      <td>prem</td>\n      <td>C18</td>\n      <td>C</td>\n      <td>18</td>\n      <td>Tra i soggetti destinatari del decreto sono ri...</td>\n      <td>L</td>\n      <td>NaN</td>\n      <td>NaN</td>\n      <td>NaN</td>\n      <td>NaN</td>\n      <td>NaN</td>\n      <td>Rule</td>\n      <td>2021_6075_VAT_OPAM_2_1_PS_AN_C</td>\n      <td>Tra i soggetti destinatari del decreto sono ri...</td>\n      <td>Class,Rule</td>\n    </tr>\n    <tr>\n      <th>1286</th>\n      <td>2021_6075_VAT_OPAM_2_1_PS_AN</td>\n      <td>prem</td>\n      <td>C19</td>\n      <td>C</td>\n      <td>19</td>\n      <td>In conclusione, per quanto fin qui esposto, i ...</td>\n      <td>L</td>\n      <td></td>\n      <td>NaN</td>\n      <td>NaN</td>\n      <td>NaN</td>\n      <td>NaN</td>\n      <td>Class</td>\n      <td>2021_6075_VAT_OPAM_2_1_PS_AN_C</td>\n      <td>In conclusione, per quanto fin qui esposto, i ...</td>\n      <td>Class</td>\n    </tr>\n  </tbody>\n</table>\n<p>1654 rows × 16 columns</p>\n</div>"
          },
          "metadata": {}
        }
      ],
      "execution_count": null
    },
    {
      "cell_type": "code",
      "source": [
        "df_sc_labels = df_sc_final[good_sc_columns]\n",
        "df_sc_labels"
      ],
      "metadata": {
        "execution": {
          "iopub.status.busy": "2024-12-20T11:16:36.539223Z",
          "iopub.execute_input": "2024-12-20T11:16:36.539476Z",
          "iopub.status.idle": "2024-12-20T11:16:36.549514Z",
          "shell.execute_reply.started": "2024-12-20T11:16:36.539451Z",
          "shell.execute_reply": "2024-12-20T11:16:36.548776Z"
        },
        "trusted": true,
        "id": "46WC39oY5Gsb",
        "outputId": "6e8b4e15-9350-492d-ec67-6d856c84f972"
      },
      "outputs": [
        {
          "execution_count": 40,
          "output_type": "execute_result",
          "data": {
            "text/plain": "      Aut  Class  Itpr  Prec  Princ  Rule  Syst  Tele\n0       0      0     0     0      0     1     0     0\n1       0      0     1     0      0     0     0     0\n2       0      0     0     0      0     1     0     0\n3       0      0     1     0      0     0     0     0\n4       0      0     0     1      0     0     0     0\n...   ...    ...   ...   ...    ...   ...   ...   ...\n1282    0      0     0     0      0     1     0     0\n1283    0      0     0     0      0     1     0     0\n1284    0      0     0     0      0     1     0     0\n1285    0      1     0     0      0     1     0     0\n1286    0      1     0     0      0     0     0     0\n\n[1287 rows x 8 columns]",
            "text/html": "<div>\n<style scoped>\n    .dataframe tbody tr th:only-of-type {\n        vertical-align: middle;\n    }\n\n    .dataframe tbody tr th {\n        vertical-align: top;\n    }\n\n    .dataframe thead th {\n        text-align: right;\n    }\n</style>\n<table border=\"1\" class=\"dataframe\">\n  <thead>\n    <tr style=\"text-align: right;\">\n      <th></th>\n      <th>Aut</th>\n      <th>Class</th>\n      <th>Itpr</th>\n      <th>Prec</th>\n      <th>Princ</th>\n      <th>Rule</th>\n      <th>Syst</th>\n      <th>Tele</th>\n    </tr>\n  </thead>\n  <tbody>\n    <tr>\n      <th>0</th>\n      <td>0</td>\n      <td>0</td>\n      <td>0</td>\n      <td>0</td>\n      <td>0</td>\n      <td>1</td>\n      <td>0</td>\n      <td>0</td>\n    </tr>\n    <tr>\n      <th>1</th>\n      <td>0</td>\n      <td>0</td>\n      <td>1</td>\n      <td>0</td>\n      <td>0</td>\n      <td>0</td>\n      <td>0</td>\n      <td>0</td>\n    </tr>\n    <tr>\n      <th>2</th>\n      <td>0</td>\n      <td>0</td>\n      <td>0</td>\n      <td>0</td>\n      <td>0</td>\n      <td>1</td>\n      <td>0</td>\n      <td>0</td>\n    </tr>\n    <tr>\n      <th>3</th>\n      <td>0</td>\n      <td>0</td>\n      <td>1</td>\n      <td>0</td>\n      <td>0</td>\n      <td>0</td>\n      <td>0</td>\n      <td>0</td>\n    </tr>\n    <tr>\n      <th>4</th>\n      <td>0</td>\n      <td>0</td>\n      <td>0</td>\n      <td>1</td>\n      <td>0</td>\n      <td>0</td>\n      <td>0</td>\n      <td>0</td>\n    </tr>\n    <tr>\n      <th>...</th>\n      <td>...</td>\n      <td>...</td>\n      <td>...</td>\n      <td>...</td>\n      <td>...</td>\n      <td>...</td>\n      <td>...</td>\n      <td>...</td>\n    </tr>\n    <tr>\n      <th>1282</th>\n      <td>0</td>\n      <td>0</td>\n      <td>0</td>\n      <td>0</td>\n      <td>0</td>\n      <td>1</td>\n      <td>0</td>\n      <td>0</td>\n    </tr>\n    <tr>\n      <th>1283</th>\n      <td>0</td>\n      <td>0</td>\n      <td>0</td>\n      <td>0</td>\n      <td>0</td>\n      <td>1</td>\n      <td>0</td>\n      <td>0</td>\n    </tr>\n    <tr>\n      <th>1284</th>\n      <td>0</td>\n      <td>0</td>\n      <td>0</td>\n      <td>0</td>\n      <td>0</td>\n      <td>1</td>\n      <td>0</td>\n      <td>0</td>\n    </tr>\n    <tr>\n      <th>1285</th>\n      <td>0</td>\n      <td>1</td>\n      <td>0</td>\n      <td>0</td>\n      <td>0</td>\n      <td>1</td>\n      <td>0</td>\n      <td>0</td>\n    </tr>\n    <tr>\n      <th>1286</th>\n      <td>0</td>\n      <td>1</td>\n      <td>0</td>\n      <td>0</td>\n      <td>0</td>\n      <td>0</td>\n      <td>0</td>\n      <td>0</td>\n    </tr>\n  </tbody>\n</table>\n<p>1287 rows × 8 columns</p>\n</div>"
          },
          "metadata": {}
        }
      ],
      "execution_count": null
    },
    {
      "cell_type": "markdown",
      "source": [
        "# Data analysis"
      ],
      "metadata": {
        "id": "bb4aeLPck6Gd"
      }
    },
    {
      "cell_type": "code",
      "source": [
        "df_ac['Name'].hist()"
      ],
      "metadata": {
        "colab": {
          "base_uri": "https://localhost:8080/",
          "height": 448
        },
        "id": "WeyNdG29k6Gd",
        "outputId": "f9c3fee9-e6f6-4276-ac04-32500e672051",
        "execution": {
          "iopub.status.busy": "2024-12-20T11:16:37.343172Z",
          "iopub.execute_input": "2024-12-20T11:16:37.344012Z",
          "iopub.status.idle": "2024-12-20T11:16:37.544296Z",
          "shell.execute_reply.started": "2024-12-20T11:16:37.343978Z",
          "shell.execute_reply": "2024-12-20T11:16:37.543473Z"
        },
        "trusted": true
      },
      "outputs": [
        {
          "execution_count": 41,
          "output_type": "execute_result",
          "data": {
            "text/plain": "<Axes: >"
          },
          "metadata": {}
        },
        {
          "output_type": "display_data",
          "data": {
            "text/plain": "<Figure size 640x480 with 1 Axes>",
            "image/png": "[encoded data removed]"
          },
          "metadata": {}
        }
      ],
      "execution_count": null
    },
    {
      "cell_type": "code",
      "source": [
        "print(f\"There are {len(df_ac[df_ac['Name'] == 'prem'])} premises and {len(df_ac[df_ac['Name'] == 'conc'])} conclusions\")"
      ],
      "metadata": {
        "colab": {
          "base_uri": "https://localhost:8080/"
        },
        "id": "EIpO4dFlk6Ge",
        "outputId": "39e91e09-f8c5-4b6b-cb63-6b0edf6d0fa7",
        "execution": {
          "iopub.status.busy": "2024-12-20T11:16:37.560149Z",
          "iopub.execute_input": "2024-12-20T11:16:37.560382Z",
          "iopub.status.idle": "2024-12-20T11:16:37.568177Z",
          "shell.execute_reply.started": "2024-12-20T11:16:37.560359Z",
          "shell.execute_reply": "2024-12-20T11:16:37.567229Z"
        },
        "trusted": true
      },
      "outputs": [
        {
          "name": "stdout",
          "text": "There are 2910 premises and 401 conclusions\n",
          "output_type": "stream"
        }
      ],
      "execution_count": null
    },
    {
      "cell_type": "code",
      "source": [
        "values = df_tc_labels.sum().sort_values(ascending=False)\n",
        "\n",
        "y = np.array(values)\n",
        "\n",
        "x = np.array(values.index)\n",
        "\n",
        "\n",
        "\n",
        "plt.figure(figsize=(3,6))\n",
        "\n",
        "plt.bar(x, height=y)"
      ],
      "metadata": {
        "colab": {
          "base_uri": "https://localhost:8080/",
          "height": 540
        },
        "id": "sE6acTa6k6Ge",
        "outputId": "1bb09152-cdce-4f63-f267-096f2bd392e9",
        "execution": {
          "iopub.status.busy": "2024-12-20T11:16:37.77792Z",
          "iopub.execute_input": "2024-12-20T11:16:37.778734Z",
          "iopub.status.idle": "2024-12-20T11:16:37.964374Z",
          "shell.execute_reply.started": "2024-12-20T11:16:37.778701Z",
          "shell.execute_reply": "2024-12-20T11:16:37.963559Z"
        },
        "trusted": true
      },
      "outputs": [
        {
          "execution_count": 43,
          "output_type": "execute_result",
          "data": {
            "text/plain": "<BarContainer object of 2 artists>"
          },
          "metadata": {}
        },
        {
          "output_type": "display_data",
          "data": {
            "text/plain": "<Figure size 300x600 with 1 Axes>",
            "image/png": "[encoded data removed]"
          },
          "metadata": {}
        }
      ],
      "execution_count": null
    },
    {
      "cell_type": "markdown",
      "source": [
        "# Fixing seed"
      ],
      "metadata": {
        "id": "VTBtUbSGk6Gg"
      }
    },
    {
      "cell_type": "code",
      "source": [
        "# Fix the random state for reproducibility\n",
        "\n",
        "SEED = 27\n",
        "\n",
        "\n",
        "\n",
        "def fix_seed(seed: int) -> None:\n",
        "\n",
        "    \"\"\"Fix all the possible sources of randomness.\n",
        "\n",
        "\n",
        "\n",
        "    Args:\n",
        "\n",
        "        seed: the seed to use.\n",
        "\n",
        "    \"\"\"\n",
        "\n",
        "    np.random.seed(seed)\n",
        "\n",
        "    random.seed(seed)\n",
        "\n",
        "    torch.manual_seed(seed)\n",
        "\n",
        "    torch.cuda.manual_seed(seed)\n",
        "\n",
        "\n",
        "\n",
        "    torch.backends.cudnn.benchmark = False\n",
        "\n",
        "    torch.backends.cudnn.deterministic = True\n",
        "\n",
        "[ ]\n",
        "\n",
        "\n",
        "\n",
        "\n",
        "\n",
        "fix_seed(SEED)"
      ],
      "metadata": {
        "id": "_k1p8LBxk6Gg",
        "execution": {
          "iopub.status.busy": "2024-12-20T11:16:38.156344Z",
          "iopub.execute_input": "2024-12-20T11:16:38.156874Z",
          "iopub.status.idle": "2024-12-20T11:16:38.173837Z",
          "shell.execute_reply.started": "2024-12-20T11:16:38.156846Z",
          "shell.execute_reply": "2024-12-20T11:16:38.173163Z"
        },
        "trusted": true
      },
      "outputs": [],
      "execution_count": null
    },
    {
      "cell_type": "markdown",
      "source": [
        "# Utils"
      ],
      "metadata": {
        "id": "M__dt1kV-ay1"
      }
    },
    {
      "cell_type": "markdown",
      "source": [
        "## Train-Val-Test dataset splitting"
      ],
      "metadata": {
        "id": "A4Tl_BDPk6G4"
      }
    },
    {
      "cell_type": "code",
      "source": [
        "def split_dataset(df, test_size=0.2):\n",
        "\n",
        "    total_samples = df.shape[0]\n",
        "\n",
        "    idx_train, idx_test = train_test_split(df['Document'].unique(),\n",
        "\n",
        "                                      random_state=SEED,\n",
        "\n",
        "                                      test_size=test_size)\n",
        "\n",
        "    idx_train, idx_val = train_test_split(idx_train,\n",
        "\n",
        "                                      random_state=SEED,\n",
        "\n",
        "                                      test_size=idx_test.shape[0])\n",
        "\n",
        "    df_train = df[df['Document'].isin(idx_train)]\n",
        "\n",
        "    df_val = df[df['Document'].isin(idx_val)]\n",
        "\n",
        "    df_test = df[df['Document'].isin(idx_test)]\n",
        "\n",
        "    print('Number of training samples: {} ({}%)'.format(df_train.shape[0], 100*df_train.shape[0]/total_samples))\n",
        "\n",
        "    print('Number of validation examples: {} ({}%)'.format(df_val.shape[0], 100*df_val.shape[0]/total_samples))\n",
        "\n",
        "    print('Number of test samples: {} ({}%)'.format(df_test.shape[0], 100*df_test.shape[0]/total_samples))\n",
        "\n",
        "    return df_train, df_val, df_test"
      ],
      "metadata": {
        "id": "X6Q0zwjcl9sq",
        "trusted": true,
        "execution": {
          "iopub.status.busy": "2024-12-20T11:16:42.086262Z",
          "iopub.execute_input": "2024-12-20T11:16:42.087117Z",
          "iopub.status.idle": "2024-12-20T11:16:42.093162Z",
          "shell.execute_reply.started": "2024-12-20T11:16:42.08708Z",
          "shell.execute_reply": "2024-12-20T11:16:42.092218Z"
        }
      },
      "outputs": [],
      "execution_count": null
    },
    {
      "cell_type": "code",
      "source": [
        "from skmultilearn.model_selection import iterative_train_test_split\n",
        "def iterative_split(df_sc_final, df_sc_labels,test_size=0.15):\n",
        "    X = np.expand_dims(df_sc_final.index.values,1)\n",
        "    y = df_sc_labels.values\n",
        "    t_train, y_train, t_test, y_test = iterative_train_test_split(X,y, test_size = 0.2)\n",
        "    t_train, y_train, t_val, y_val = iterative_train_test_split(t_train, y_train, test_size = 0.15)\n",
        "    print(np.shape(t_train),np.shape(t_test),np.shape(t_val))\n",
        "    df_train = df_sc_final.iloc[np.squeeze(t_train)]\n",
        "    df_val = df_sc_final.iloc[np.squeeze(t_val)]\n",
        "    df_test = df_sc_final.iloc[np.squeeze(t_test)]\n",
        "    return df_train,df_val,df_test\n",
        ""
      ],
      "metadata": {
        "trusted": true,
        "execution": {
          "iopub.status.busy": "2024-12-20T11:16:42.776928Z",
          "iopub.execute_input": "2024-12-20T11:16:42.777204Z",
          "iopub.status.idle": "2024-12-20T11:16:42.794454Z",
          "shell.execute_reply.started": "2024-12-20T11:16:42.777178Z",
          "shell.execute_reply": "2024-12-20T11:16:42.793424Z"
        },
        "id": "CekuG83s5Gse"
      },
      "outputs": [],
      "execution_count": null
    },
    {
      "cell_type": "code",
      "source": [
        "df_train,df_val,df_test = iterative_split(df_sc_final,df_sc_labels)\n"
      ],
      "metadata": {
        "trusted": true,
        "execution": {
          "iopub.status.busy": "2024-12-20T11:16:46.44576Z",
          "iopub.execute_input": "2024-12-20T11:16:46.446104Z",
          "iopub.status.idle": "2024-12-20T11:16:46.496371Z",
          "shell.execute_reply.started": "2024-12-20T11:16:46.446074Z",
          "shell.execute_reply": "2024-12-20T11:16:46.495644Z"
        },
        "id": "gwW79EfN5Gsf",
        "outputId": "8ae4408d-14e0-48bf-efd2-a50fa3074e81"
      },
      "outputs": [
        {
          "name": "stdout",
          "text": "(878, 1) (256, 1) (153, 1)\n",
          "output_type": "stream"
        }
      ],
      "execution_count": null
    },
    {
      "cell_type": "code",
      "source": [
        "df_train['Scheme'].explode().value_counts()"
      ],
      "metadata": {
        "trusted": true,
        "execution": {
          "iopub.status.busy": "2024-12-20T11:16:52.876079Z",
          "iopub.execute_input": "2024-12-20T11:16:52.876941Z",
          "iopub.status.idle": "2024-12-20T11:16:52.885344Z",
          "shell.execute_reply.started": "2024-12-20T11:16:52.876902Z",
          "shell.execute_reply": "2024-12-20T11:16:52.884355Z"
        },
        "id": "_nDNgyDv5Gsf",
        "outputId": "ac466806-a245-42e5-a8ec-21bdb24d332f"
      },
      "outputs": [
        {
          "execution_count": 48,
          "output_type": "execute_result",
          "data": {
            "text/plain": "Scheme\nRule     388\nPrec     282\nItpr     211\nPrinc     97\nClass     68\nAut       49\nSyst      19\nTele      12\nName: count, dtype: int64"
          },
          "metadata": {}
        }
      ],
      "execution_count": null
    },
    {
      "cell_type": "code",
      "source": [
        "df_val['Scheme'].explode().value_counts()\n",
        "df_test['Scheme'].explode().value_counts()"
      ],
      "metadata": {
        "trusted": true,
        "execution": {
          "iopub.status.busy": "2024-12-20T11:16:54.990823Z",
          "iopub.execute_input": "2024-12-20T11:16:54.991162Z",
          "iopub.status.idle": "2024-12-20T11:16:54.999628Z",
          "shell.execute_reply.started": "2024-12-20T11:16:54.991132Z",
          "shell.execute_reply": "2024-12-20T11:16:54.998667Z"
        },
        "id": "XOElsvwz5Gsf",
        "outputId": "f329e3a4-1310-43b3-b18e-1aa7c4bbe0a6"
      },
      "outputs": [
        {
          "execution_count": 49,
          "output_type": "execute_result",
          "data": {
            "text/plain": "Scheme\nRule     114\nPrec      83\nItpr      62\nPrinc     29\nClass     20\nAut       14\nSyst       5\nTele       3\nName: count, dtype: int64"
          },
          "metadata": {}
        }
      ],
      "execution_count": null
    },
    {
      "cell_type": "code",
      "source": [
        "#df_train, df_val, df_test=split_dataset(df_sc_final)\n",
        "df_train1  = df_train.explode('Scheme')\n",
        "df_train1[df_train1['Scheme2']=='Tele']['Text']"
      ],
      "metadata": {
        "trusted": true,
        "execution": {
          "iopub.status.busy": "2024-12-20T11:17:05.041348Z",
          "iopub.execute_input": "2024-12-20T11:17:05.042253Z",
          "iopub.status.idle": "2024-12-20T11:17:05.055531Z",
          "shell.execute_reply.started": "2024-12-20T11:17:05.042215Z",
          "shell.execute_reply": "2024-12-20T11:17:05.054563Z"
        },
        "id": "TLL4F3z25Gsg",
        "outputId": "ef19b4d9-58f5-46a3-a4e9-9f710deb8daf"
      },
      "outputs": [
        {
          "execution_count": 50,
          "output_type": "execute_result",
          "data": {
            "text/plain": "816     I cosiddetti “premi di incentivazione' sono fi...\n1218    La ratio, è evidente, è quella di evitare che ...\nName: Text, dtype: object"
          },
          "metadata": {}
        }
      ],
      "execution_count": null
    },
    {
      "cell_type": "code",
      "source": [
        "df_train1['Scheme'].value_counts()"
      ],
      "metadata": {
        "trusted": true,
        "execution": {
          "iopub.status.busy": "2024-12-20T11:17:06.152369Z",
          "iopub.execute_input": "2024-12-20T11:17:06.152721Z",
          "iopub.status.idle": "2024-12-20T11:17:06.160892Z",
          "shell.execute_reply.started": "2024-12-20T11:17:06.152692Z",
          "shell.execute_reply": "2024-12-20T11:17:06.159921Z"
        },
        "id": "IXdzyqIY5Gsg",
        "outputId": "1fbf19cc-96a2-4d30-c802-a4e835b5f44a"
      },
      "outputs": [
        {
          "execution_count": 51,
          "output_type": "execute_result",
          "data": {
            "text/plain": "Scheme\nRule     388\nPrec     282\nItpr     211\nPrinc     97\nClass     68\nAut       49\nSyst      19\nTele      12\nName: count, dtype: int64"
          },
          "metadata": {}
        }
      ],
      "execution_count": null
    },
    {
      "cell_type": "code",
      "source": [
        "count = df_sc_labels.sum().sort_values(ascending=False)\n",
        "tot=np.array(count.reset_index(drop=True)).sum()\n",
        "inv_class_fq = count/tot\n",
        "1/inv_class_fq\n",
        "class_weights = tot / (count)\n",
        "class_weights"
      ],
      "metadata": {
        "trusted": true,
        "execution": {
          "iopub.status.busy": "2024-12-20T11:17:22.132484Z",
          "iopub.execute_input": "2024-12-20T11:17:22.132856Z",
          "iopub.status.idle": "2024-12-20T11:17:22.142867Z",
          "shell.execute_reply.started": "2024-12-20T11:17:22.132823Z",
          "shell.execute_reply": "2024-12-20T11:17:22.141962Z"
        },
        "id": "JOZAPIxm5Gsg",
        "outputId": "1d93edf2-5d19-4eb3-819d-9f6ad14d0b02"
      },
      "outputs": [
        {
          "execution_count": 52,
          "output_type": "execute_result",
          "data": {
            "text/plain": "Rule      2.901754\nPrec      3.985542\nItpr      5.335484\nPrinc    11.566434\nClass    16.540000\nAut      22.972222\nSyst     61.259259\nTele     97.294118\ndtype: float64"
          },
          "metadata": {}
        }
      ],
      "execution_count": null
    },
    {
      "cell_type": "markdown",
      "source": [
        "## Data Aug with traslation + NLPaug"
      ],
      "metadata": {
        "id": "_jqzHpLI5Gsh"
      }
    },
    {
      "cell_type": "code",
      "source": [
        "from deep_translator import GoogleTranslator\n",
        "\n",
        "#GoogleTranslator(source='auto', target='en').translate(\"guten Tag\")\n",
        "translator = GoogleTranslator(source = 'it',target = 'en')\n",
        "retranslator =  GoogleTranslator(source = 'en',target = 'it')"
      ],
      "metadata": {
        "trusted": true,
        "execution": {
          "iopub.status.busy": "2024-12-20T11:17:52.972921Z",
          "iopub.execute_input": "2024-12-20T11:17:52.973285Z",
          "iopub.status.idle": "2024-12-20T11:17:52.986083Z",
          "shell.execute_reply.started": "2024-12-20T11:17:52.973253Z",
          "shell.execute_reply": "2024-12-20T11:17:52.985221Z"
        },
        "id": "jnN-bP8j5Gsh"
      },
      "outputs": [],
      "execution_count": null
    },
    {
      "cell_type": "code",
      "source": [
        "def google_translate(text,translator):\n",
        "    output = []\n",
        "    #print(translate_text)\n",
        "    for t in text:\n",
        "        translate_text = translator.translate(t)\n",
        "        output.append(translate_text)\n",
        "    return output\n",
        "def google_retranslate(text,translator):\n",
        "    output = []\n",
        "    #print(translate_text)\n",
        "    for t in text:\n",
        "        translate_text = translator.translate(t)\n",
        "        output.append(translate_text)\n",
        "    return output\n",
        "\n",
        "def augment(aug,text,n=1):\n",
        "    aug_text = aug.augment(text,n=n)\n",
        "    #print(f\"aug: {aug_text}\")\n",
        "    return aug_text\n",
        "\n",
        "def translate(model,tokenizer,text):\n",
        "    model.eval()\n",
        "    translated = model.generate(**tokenizer(text, return_tensors=\"pt\", padding=True),max_length=256,)\n",
        "    trans_text = []\n",
        "\n",
        "    for t in translated:\n",
        "        z = tokenizer.decode(t, skip_special_tokens=True)\n",
        "        #print(z)\n",
        "        trans_text.append(z)\n",
        "    return trans_text\n",
        "\n",
        "def retranslate(model,tokenizer,text):\n",
        "    model.eval()\n",
        "    retranslated = model.generate(**tokenizer(text, return_tensors=\"pt\", padding=True),max_length=256)\n",
        "    retrans_text = []\n",
        "    for t in retranslated:\n",
        "        z = tokenizer.decode(t, skip_special_tokens=True)\n",
        "        #print(z)\n",
        "        retrans_text.append(z)\n",
        "    return retrans_text"
      ],
      "metadata": {
        "trusted": true,
        "execution": {
          "iopub.status.busy": "2024-12-20T11:17:57.131186Z",
          "iopub.execute_input": "2024-12-20T11:17:57.131539Z",
          "iopub.status.idle": "2024-12-20T11:17:57.139111Z",
          "shell.execute_reply.started": "2024-12-20T11:17:57.131506Z",
          "shell.execute_reply": "2024-12-20T11:17:57.138115Z"
        },
        "id": "roqDua0Q5Gsh"
      },
      "outputs": [],
      "execution_count": null
    },
    {
      "cell_type": "code",
      "source": [
        "AUGMENTATION = False\n",
        "if AUGMENTATION:\n",
        "    new_text = []\n",
        "    new_target = []\n",
        "    class_to_aug = ['Princ','Class','Aut','Syst','Tele']\n",
        "    n_samples = [1,2,3,5,6]\n",
        "    for ca,n in zip(class_to_aug,n_samples):\n",
        "\n",
        "        new_df = df_train1[df_train1['Scheme']== ca]['Text']\n",
        "\n",
        "        for e in new_df:\n",
        "            #print([e])\n",
        "            a = google_translate([e],translator)\n",
        "            #print(a)\n",
        "            b = augment(aug,a[0],n=n)\n",
        "            #print(b)\n",
        "            c = google_retranslate(b,retranslator)\n",
        "            #print(f'QUI: {c}')\n",
        "            new_text = new_text + c\n",
        "        new_target = new_target + [ca]*len(new_df)*n\n",
        "        print(len(new_text))\n",
        ""
      ],
      "metadata": {
        "trusted": true,
        "execution": {
          "iopub.status.busy": "2024-12-13T17:15:33.302563Z",
          "iopub.execute_input": "2024-12-13T17:15:33.303231Z",
          "iopub.status.idle": "2024-12-13T18:16:59.935627Z",
          "shell.execute_reply.started": "2024-12-13T17:15:33.303194Z",
          "shell.execute_reply": "2024-12-13T18:16:59.934751Z"
        },
        "id": "larPnFTo5Gsh",
        "outputId": "de103a5b-799e-4cfd-ba4c-4aa183dcdf52"
      },
      "outputs": [
        {
          "name": "stdout",
          "text": "96\n232\n379\n474\n546\n",
          "output_type": "stream"
        }
      ],
      "execution_count": null
    },
    {
      "cell_type": "code",
      "source": [
        "if AUGMENTATION:\n",
        "    print(pd.DataFrame(new_target).value_counts())"
      ],
      "metadata": {
        "trusted": true,
        "execution": {
          "iopub.status.busy": "2024-12-13T19:00:49.938958Z",
          "iopub.execute_input": "2024-12-13T19:00:49.939866Z",
          "iopub.status.idle": "2024-12-13T19:00:49.950175Z",
          "shell.execute_reply.started": "2024-12-13T19:00:49.939828Z",
          "shell.execute_reply": "2024-12-13T19:00:49.949207Z"
        },
        "id": "sV5yrWaA5Gsh",
        "outputId": "b5b373bd-e2ac-495e-b7b7-337300812142"
      },
      "outputs": [
        {
          "execution_count": 110,
          "output_type": "execute_result",
          "data": {
            "text/plain": "0    \nAut      147\nClass    136\nPrinc     96\nSyst      95\nTele      72\nName: count, dtype: int64"
          },
          "metadata": {}
        }
      ],
      "execution_count": null
    },
    {
      "cell_type": "code",
      "source": [
        "if AUGMENTATION:\n",
        "    new_dict ={'Text':new_text,'Scheme':new_target }\n",
        "    new_dataframe = pd.DataFrame(new_dict)\n",
        "    new_dataframe.to_csv('aug_data.csv')\n",
        "    new_dataframe\n"
      ],
      "metadata": {
        "trusted": true,
        "execution": {
          "iopub.status.busy": "2024-12-13T19:00:59.166343Z",
          "iopub.execute_input": "2024-12-13T19:00:59.167124Z",
          "iopub.status.idle": "2024-12-13T19:00:59.188706Z",
          "shell.execute_reply.started": "2024-12-13T19:00:59.167088Z",
          "shell.execute_reply": "2024-12-13T19:00:59.187949Z"
        },
        "id": "0U8-gZzw5Gsh",
        "outputId": "b3b7c002-0fde-411e-8f35-59b71e5fc34b"
      },
      "outputs": [
        {
          "execution_count": 111,
          "output_type": "execute_result",
          "data": {
            "text/plain": "                                                  Text Scheme\n0    Una volta che l'autorità esecutiva penale abbi...  Princ\n1    7 In realtà, l'intera questione si fonda essen...  Princ\n2    Come ha ribadito di recente la Corte Generale ...  Princ\n3    Sembrerebbe che la difesa del contribuente int...  Princ\n4    Affinché una spesa specifica nella sponsorizza...  Princ\n..                                                 ...    ...\n541  Occorre tuttavia anche rilevare che l'obbligo ...   Tele\n542  Occorre inoltre precisare che l'obbligo di mot...   Tele\n543  Occorre inoltre ulteriormente evidenziare che ...   Tele\n544  Va inoltre rilevato che l'obbligo di motivazio...   Tele\n545  Va inoltre ripetutamente rilevato che l'obblig...   Tele\n\n[546 rows x 2 columns]",
            "text/html": "<div>\n<style scoped>\n    .dataframe tbody tr th:only-of-type {\n        vertical-align: middle;\n    }\n\n    .dataframe tbody tr th {\n        vertical-align: top;\n    }\n\n    .dataframe thead th {\n        text-align: right;\n    }\n</style>\n<table border=\"1\" class=\"dataframe\">\n  <thead>\n    <tr style=\"text-align: right;\">\n      <th></th>\n      <th>Text</th>\n      <th>Scheme</th>\n    </tr>\n  </thead>\n  <tbody>\n    <tr>\n      <th>0</th>\n      <td>Una volta che l'autorità esecutiva penale abbi...</td>\n      <td>Princ</td>\n    </tr>\n    <tr>\n      <th>1</th>\n      <td>7 In realtà, l'intera questione si fonda essen...</td>\n      <td>Princ</td>\n    </tr>\n    <tr>\n      <th>2</th>\n      <td>Come ha ribadito di recente la Corte Generale ...</td>\n      <td>Princ</td>\n    </tr>\n    <tr>\n      <th>3</th>\n      <td>Sembrerebbe che la difesa del contribuente int...</td>\n      <td>Princ</td>\n    </tr>\n    <tr>\n      <th>4</th>\n      <td>Affinché una spesa specifica nella sponsorizza...</td>\n      <td>Princ</td>\n    </tr>\n    <tr>\n      <th>...</th>\n      <td>...</td>\n      <td>...</td>\n    </tr>\n    <tr>\n      <th>541</th>\n      <td>Occorre tuttavia anche rilevare che l'obbligo ...</td>\n      <td>Tele</td>\n    </tr>\n    <tr>\n      <th>542</th>\n      <td>Occorre inoltre precisare che l'obbligo di mot...</td>\n      <td>Tele</td>\n    </tr>\n    <tr>\n      <th>543</th>\n      <td>Occorre inoltre ulteriormente evidenziare che ...</td>\n      <td>Tele</td>\n    </tr>\n    <tr>\n      <th>544</th>\n      <td>Va inoltre rilevato che l'obbligo di motivazio...</td>\n      <td>Tele</td>\n    </tr>\n    <tr>\n      <th>545</th>\n      <td>Va inoltre ripetutamente rilevato che l'obblig...</td>\n      <td>Tele</td>\n    </tr>\n  </tbody>\n</table>\n<p>546 rows × 2 columns</p>\n</div>"
          },
          "metadata": {}
        }
      ],
      "execution_count": null
    },
    {
      "cell_type": "code",
      "source": [
        "#load aug data from csv\n",
        "new_dataframe = pd.read_csv('aug_data.csv')\n",
        "new_dataframe=new_dataframe.drop('Unnamed: 0',axis=1)\n",
        "new_dataframe\n",
        "l = []\n",
        "for t in new_dataframe['Text']:\n",
        "    max = 0\n",
        "    l.append(len(t))\n",
        "    if len(t)>max:\n",
        "        max=len(t)\n",
        "max\n",
        "pd.DataFrame(l).value_counts()\n",
        "np.mean(l)"
      ],
      "metadata": {
        "trusted": true,
        "execution": {
          "iopub.status.busy": "2024-12-15T10:03:56.759235Z",
          "iopub.execute_input": "2024-12-15T10:03:56.760028Z",
          "iopub.status.idle": "2024-12-15T10:03:56.777876Z",
          "shell.execute_reply.started": "2024-12-15T10:03:56.75999Z",
          "shell.execute_reply": "2024-12-15T10:03:56.777145Z"
        },
        "id": "F0Sfku-O5Gsi",
        "outputId": "2880a86c-a086-4ad7-ea22-e19b6b575c22"
      },
      "outputs": [
        {
          "execution_count": 60,
          "output_type": "execute_result",
          "data": {
            "text/plain": "563.5879120879121"
          },
          "metadata": {}
        }
      ],
      "execution_count": null
    },
    {
      "cell_type": "code",
      "source": [
        "df1 = df_train[['Text','Scheme']].reset_index(drop=True)\n",
        "df1['Text'][0]"
      ],
      "metadata": {
        "trusted": true,
        "execution": {
          "iopub.status.busy": "2024-12-15T10:03:57.39791Z",
          "iopub.execute_input": "2024-12-15T10:03:57.398225Z",
          "iopub.status.idle": "2024-12-15T10:03:57.405103Z",
          "shell.execute_reply.started": "2024-12-15T10:03:57.398196Z",
          "shell.execute_reply": "2024-12-15T10:03:57.404222Z"
        },
        "id": "vSl3ScoW5Gsi",
        "outputId": "f5293698-d02f-46e5-e179-ca551c3d4363"
      },
      "outputs": [
        {
          "execution_count": 61,
          "output_type": "execute_result",
          "data": {
            "text/plain": "\"Se il ricorso non è stato proposto da o nei confronti di tutti i soggetti sopra indicati deve essere ordinata l'integrazione del contraddittorio mediante la loro chiamata in causa entro un termine stabilito a pena di decadenza\""
          },
          "metadata": {}
        }
      ],
      "execution_count": null
    },
    {
      "cell_type": "code",
      "source": [
        "df_train"
      ],
      "metadata": {
        "trusted": true,
        "execution": {
          "iopub.status.busy": "2024-12-15T10:03:58.0028Z",
          "iopub.execute_input": "2024-12-15T10:03:58.003192Z",
          "iopub.status.idle": "2024-12-15T10:03:58.026008Z",
          "shell.execute_reply.started": "2024-12-15T10:03:58.003157Z",
          "shell.execute_reply": "2024-12-15T10:03:58.025105Z"
        },
        "id": "Ph-BJ_iy5Gsi",
        "outputId": "10e1208f-cad8-4f8d-cef7-359e4158a549"
      },
      "outputs": [
        {
          "execution_count": 62,
          "output_type": "execute_result",
          "data": {
            "text/plain": "                             Document  Name   Id Chain Num  \\\n1     2013_40_VAT_OPAM_2_REM_MB_PS_AN  prem   A3     A   3   \n2       2018_847_VAT_OP_2_-1_MB_AF_AN  prem   A1     A   1   \n8       2018_847_VAT_OP_2_-1_MB_AF_AN  prem   B7     B   7   \n9       2021_434_VAT_OP_2_-1_AF_AF_AN  prem   A2     A   2   \n14      2021_434_VAT_OP_2_-1_AF_AF_AN  prem   D3     D   3   \n...                               ...   ...  ...   ...  ..   \n1282     2021_6075_VAT_OPAM_2_1_PS_AN  prem  C15     C  15   \n1283     2021_6075_VAT_OPAM_2_1_PS_AN  prem  C16     C  16   \n1284     2021_6075_VAT_OPAM_2_1_PS_AN  prem  C17     C  17   \n1285     2021_6075_VAT_OPAM_2_1_PS_AN  prem  C18     C  18   \n1286     2021_6075_VAT_OPAM_2_1_PS_AN  prem  C19     C  19   \n\n                                                   Text    Type  SUP  SFF  \\\n1     Se il ricorso non è stato proposto da o nei co...       L  NaN  NaN   \n2     Secondo condivisa e costante giurisprudenza (C...       L  NaN  NaN   \n8     Deve pertanto confermarsi che il ricorso di pr...  [F, L]   B6  NaN   \n9     atteso che, siccome correttamente eccepito dal...       L  NaN  NaN   \n14    La detta norma recepisce nell' ordinamento ita...       L  NaN  NaN   \n...                                                 ...     ...  ...  ...   \n1282  Sotto questo profilo i Compro Oro sono sottopo...       L  NaN  NaN   \n1283  Tale comunicazione ha luogo quando i destinata...       L  NaN  NaN   \n1284  Il Ministro dell'interno, con decreto del 17 f...       L  NaN  NaN   \n1285  Tra i soggetti destinatari del decreto sono ri...       L  NaN  NaN   \n1286  In conclusione, per quanto fin qui esposto, i ...       L       NaN   \n\n      ATT  ...                                           Previous     Scheme2  \\\n1     NaN  ...   Se il ricorso non è stato\\n    proposto da o ...        Itpr   \n2     NaN  ...  Secondo condivisa e costante giurisprudenza (C...        Rule   \n8     NaN  ...  Deve pertanto confermarsi che il ricorso di pr...        Rule   \n9     NaN  ...  atteso che, siccome correttamente eccepito dal...        Prec   \n14    NaN  ...  La detta norma recepisce nell' ordinamento ita...        Rule   \n...   ...  ...                                                ...         ...   \n1282  NaN  ...  Sotto questo profilo i Compro Oro sono sottopo...        Rule   \n1283  NaN  ...  Tale comunicazione ha luogo quando i destinata...        Rule   \n1284  NaN  ...  Il Ministro dell'interno, con decreto del 17 f...        Rule   \n1285  NaN  ...  Tra i soggetti destinatari del decreto sono ri...  Class,Rule   \n1286  NaN  ...  In conclusione, per quanto fin qui esposto, i ...       Class   \n\n     Aut Class Itpr Prec  Princ  Rule  Syst  Tele  \n1      0     0    1    0      0     0     0     0  \n2      0     0    0    0      0     1     0     0  \n8      0     0    0    0      0     1     0     0  \n9      0     0    0    1      0     0     0     0  \n14     0     0    0    0      0     1     0     0  \n...   ..   ...  ...  ...    ...   ...   ...   ...  \n1282   0     0    0    0      0     1     0     0  \n1283   0     0    0    0      0     1     0     0  \n1284   0     0    0    0      0     1     0     0  \n1285   0     1    0    0      0     1     0     0  \n1286   0     1    0    0      0     0     0     0  \n\n[878 rows x 24 columns]",
            "text/html": "<div>\n<style scoped>\n    .dataframe tbody tr th:only-of-type {\n        vertical-align: middle;\n    }\n\n    .dataframe tbody tr th {\n        vertical-align: top;\n    }\n\n    .dataframe thead th {\n        text-align: right;\n    }\n</style>\n<table border=\"1\" class=\"dataframe\">\n  <thead>\n    <tr style=\"text-align: right;\">\n      <th></th>\n      <th>Document</th>\n      <th>Name</th>\n      <th>Id</th>\n      <th>Chain</th>\n      <th>Num</th>\n      <th>Text</th>\n      <th>Type</th>\n      <th>SUP</th>\n      <th>SFF</th>\n      <th>ATT</th>\n      <th>...</th>\n      <th>Previous</th>\n      <th>Scheme2</th>\n      <th>Aut</th>\n      <th>Class</th>\n      <th>Itpr</th>\n      <th>Prec</th>\n      <th>Princ</th>\n      <th>Rule</th>\n      <th>Syst</th>\n      <th>Tele</th>\n    </tr>\n  </thead>\n  <tbody>\n    <tr>\n      <th>1</th>\n      <td>2013_40_VAT_OPAM_2_REM_MB_PS_AN</td>\n      <td>prem</td>\n      <td>A3</td>\n      <td>A</td>\n      <td>3</td>\n      <td>Se il ricorso non è stato proposto da o nei co...</td>\n      <td>L</td>\n      <td>NaN</td>\n      <td>NaN</td>\n      <td>NaN</td>\n      <td>...</td>\n      <td>Se il ricorso non è stato\\n    proposto da o ...</td>\n      <td>Itpr</td>\n      <td>0</td>\n      <td>0</td>\n      <td>1</td>\n      <td>0</td>\n      <td>0</td>\n      <td>0</td>\n      <td>0</td>\n      <td>0</td>\n    </tr>\n    <tr>\n      <th>2</th>\n      <td>2018_847_VAT_OP_2_-1_MB_AF_AN</td>\n      <td>prem</td>\n      <td>A1</td>\n      <td>A</td>\n      <td>1</td>\n      <td>Secondo condivisa e costante giurisprudenza (C...</td>\n      <td>L</td>\n      <td>NaN</td>\n      <td>NaN</td>\n      <td>NaN</td>\n      <td>...</td>\n      <td>Secondo condivisa e costante giurisprudenza (C...</td>\n      <td>Rule</td>\n      <td>0</td>\n      <td>0</td>\n      <td>0</td>\n      <td>0</td>\n      <td>0</td>\n      <td>1</td>\n      <td>0</td>\n      <td>0</td>\n    </tr>\n    <tr>\n      <th>8</th>\n      <td>2018_847_VAT_OP_2_-1_MB_AF_AN</td>\n      <td>prem</td>\n      <td>B7</td>\n      <td>B</td>\n      <td>7</td>\n      <td>Deve pertanto confermarsi che il ricorso di pr...</td>\n      <td>[F, L]</td>\n      <td>B6</td>\n      <td>NaN</td>\n      <td>NaN</td>\n      <td>...</td>\n      <td>Deve pertanto confermarsi che il ricorso di pr...</td>\n      <td>Rule</td>\n      <td>0</td>\n      <td>0</td>\n      <td>0</td>\n      <td>0</td>\n      <td>0</td>\n      <td>1</td>\n      <td>0</td>\n      <td>0</td>\n    </tr>\n    <tr>\n      <th>9</th>\n      <td>2021_434_VAT_OP_2_-1_AF_AF_AN</td>\n      <td>prem</td>\n      <td>A2</td>\n      <td>A</td>\n      <td>2</td>\n      <td>atteso che, siccome correttamente eccepito dal...</td>\n      <td>L</td>\n      <td>NaN</td>\n      <td>NaN</td>\n      <td>NaN</td>\n      <td>...</td>\n      <td>atteso che, siccome correttamente eccepito dal...</td>\n      <td>Prec</td>\n      <td>0</td>\n      <td>0</td>\n      <td>0</td>\n      <td>1</td>\n      <td>0</td>\n      <td>0</td>\n      <td>0</td>\n      <td>0</td>\n    </tr>\n    <tr>\n      <th>14</th>\n      <td>2021_434_VAT_OP_2_-1_AF_AF_AN</td>\n      <td>prem</td>\n      <td>D3</td>\n      <td>D</td>\n      <td>3</td>\n      <td>La detta norma recepisce nell' ordinamento ita...</td>\n      <td>L</td>\n      <td>NaN</td>\n      <td>NaN</td>\n      <td>NaN</td>\n      <td>...</td>\n      <td>La detta norma recepisce nell' ordinamento ita...</td>\n      <td>Rule</td>\n      <td>0</td>\n      <td>0</td>\n      <td>0</td>\n      <td>0</td>\n      <td>0</td>\n      <td>1</td>\n      <td>0</td>\n      <td>0</td>\n    </tr>\n    <tr>\n      <th>...</th>\n      <td>...</td>\n      <td>...</td>\n      <td>...</td>\n      <td>...</td>\n      <td>...</td>\n      <td>...</td>\n      <td>...</td>\n      <td>...</td>\n      <td>...</td>\n      <td>...</td>\n      <td>...</td>\n      <td>...</td>\n      <td>...</td>\n      <td>...</td>\n      <td>...</td>\n      <td>...</td>\n      <td>...</td>\n      <td>...</td>\n      <td>...</td>\n      <td>...</td>\n      <td>...</td>\n    </tr>\n    <tr>\n      <th>1282</th>\n      <td>2021_6075_VAT_OPAM_2_1_PS_AN</td>\n      <td>prem</td>\n      <td>C15</td>\n      <td>C</td>\n      <td>15</td>\n      <td>Sotto questo profilo i Compro Oro sono sottopo...</td>\n      <td>L</td>\n      <td>NaN</td>\n      <td>NaN</td>\n      <td>NaN</td>\n      <td>...</td>\n      <td>Sotto questo profilo i Compro Oro sono sottopo...</td>\n      <td>Rule</td>\n      <td>0</td>\n      <td>0</td>\n      <td>0</td>\n      <td>0</td>\n      <td>0</td>\n      <td>1</td>\n      <td>0</td>\n      <td>0</td>\n    </tr>\n    <tr>\n      <th>1283</th>\n      <td>2021_6075_VAT_OPAM_2_1_PS_AN</td>\n      <td>prem</td>\n      <td>C16</td>\n      <td>C</td>\n      <td>16</td>\n      <td>Tale comunicazione ha luogo quando i destinata...</td>\n      <td>L</td>\n      <td>NaN</td>\n      <td>NaN</td>\n      <td>NaN</td>\n      <td>...</td>\n      <td>Tale comunicazione ha luogo quando i destinata...</td>\n      <td>Rule</td>\n      <td>0</td>\n      <td>0</td>\n      <td>0</td>\n      <td>0</td>\n      <td>0</td>\n      <td>1</td>\n      <td>0</td>\n      <td>0</td>\n    </tr>\n    <tr>\n      <th>1284</th>\n      <td>2021_6075_VAT_OPAM_2_1_PS_AN</td>\n      <td>prem</td>\n      <td>C17</td>\n      <td>C</td>\n      <td>17</td>\n      <td>Il Ministro dell'interno, con decreto del 17 f...</td>\n      <td>L</td>\n      <td>NaN</td>\n      <td>NaN</td>\n      <td>NaN</td>\n      <td>...</td>\n      <td>Il Ministro dell'interno, con decreto del 17 f...</td>\n      <td>Rule</td>\n      <td>0</td>\n      <td>0</td>\n      <td>0</td>\n      <td>0</td>\n      <td>0</td>\n      <td>1</td>\n      <td>0</td>\n      <td>0</td>\n    </tr>\n    <tr>\n      <th>1285</th>\n      <td>2021_6075_VAT_OPAM_2_1_PS_AN</td>\n      <td>prem</td>\n      <td>C18</td>\n      <td>C</td>\n      <td>18</td>\n      <td>Tra i soggetti destinatari del decreto sono ri...</td>\n      <td>L</td>\n      <td>NaN</td>\n      <td>NaN</td>\n      <td>NaN</td>\n      <td>...</td>\n      <td>Tra i soggetti destinatari del decreto sono ri...</td>\n      <td>Class,Rule</td>\n      <td>0</td>\n      <td>1</td>\n      <td>0</td>\n      <td>0</td>\n      <td>0</td>\n      <td>1</td>\n      <td>0</td>\n      <td>0</td>\n    </tr>\n    <tr>\n      <th>1286</th>\n      <td>2021_6075_VAT_OPAM_2_1_PS_AN</td>\n      <td>prem</td>\n      <td>C19</td>\n      <td>C</td>\n      <td>19</td>\n      <td>In conclusione, per quanto fin qui esposto, i ...</td>\n      <td>L</td>\n      <td></td>\n      <td>NaN</td>\n      <td>NaN</td>\n      <td>...</td>\n      <td>In conclusione, per quanto fin qui esposto, i ...</td>\n      <td>Class</td>\n      <td>0</td>\n      <td>1</td>\n      <td>0</td>\n      <td>0</td>\n      <td>0</td>\n      <td>0</td>\n      <td>0</td>\n      <td>0</td>\n    </tr>\n  </tbody>\n</table>\n<p>878 rows × 24 columns</p>\n</div>"
          },
          "metadata": {}
        }
      ],
      "execution_count": null
    },
    {
      "cell_type": "code",
      "source": [
        "#merge dataframes\n",
        "tot_df = pd.concat([df1,new_dataframe],ignore_index=True)\n",
        "tot_df\n"
      ],
      "metadata": {
        "trusted": true,
        "execution": {
          "iopub.status.busy": "2024-12-15T10:03:58.787589Z",
          "iopub.execute_input": "2024-12-15T10:03:58.788456Z",
          "iopub.status.idle": "2024-12-15T10:03:58.798433Z",
          "shell.execute_reply.started": "2024-12-15T10:03:58.788418Z",
          "shell.execute_reply": "2024-12-15T10:03:58.797644Z"
        },
        "id": "b1a8un545Gsi",
        "outputId": "5c72ee96-97c2-4165-d1b0-51629e1dbc5f"
      },
      "outputs": [
        {
          "execution_count": 63,
          "output_type": "execute_result",
          "data": {
            "text/plain": "                                                   Text Scheme\n0     Se il ricorso non è stato proposto da o nei co...   Itpr\n1     Secondo condivisa e costante giurisprudenza (C...   Rule\n2     Deve pertanto confermarsi che il ricorso di pr...   Rule\n3     atteso che, siccome correttamente eccepito dal...   Prec\n4     La detta norma recepisce nell' ordinamento ita...   Rule\n...                                                 ...    ...\n1419  Occorre tuttavia anche rilevare che l'obbligo ...   Tele\n1420  Occorre inoltre precisare che l'obbligo di mot...   Tele\n1421  Occorre inoltre ulteriormente evidenziare che ...   Tele\n1422  Va inoltre rilevato che l'obbligo di motivazio...   Tele\n1423  Va inoltre ripetutamente rilevato che l'obblig...   Tele\n\n[1424 rows x 2 columns]",
            "text/html": "<div>\n<style scoped>\n    .dataframe tbody tr th:only-of-type {\n        vertical-align: middle;\n    }\n\n    .dataframe tbody tr th {\n        vertical-align: top;\n    }\n\n    .dataframe thead th {\n        text-align: right;\n    }\n</style>\n<table border=\"1\" class=\"dataframe\">\n  <thead>\n    <tr style=\"text-align: right;\">\n      <th></th>\n      <th>Text</th>\n      <th>Scheme</th>\n    </tr>\n  </thead>\n  <tbody>\n    <tr>\n      <th>0</th>\n      <td>Se il ricorso non è stato proposto da o nei co...</td>\n      <td>Itpr</td>\n    </tr>\n    <tr>\n      <th>1</th>\n      <td>Secondo condivisa e costante giurisprudenza (C...</td>\n      <td>Rule</td>\n    </tr>\n    <tr>\n      <th>2</th>\n      <td>Deve pertanto confermarsi che il ricorso di pr...</td>\n      <td>Rule</td>\n    </tr>\n    <tr>\n      <th>3</th>\n      <td>atteso che, siccome correttamente eccepito dal...</td>\n      <td>Prec</td>\n    </tr>\n    <tr>\n      <th>4</th>\n      <td>La detta norma recepisce nell' ordinamento ita...</td>\n      <td>Rule</td>\n    </tr>\n    <tr>\n      <th>...</th>\n      <td>...</td>\n      <td>...</td>\n    </tr>\n    <tr>\n      <th>1419</th>\n      <td>Occorre tuttavia anche rilevare che l'obbligo ...</td>\n      <td>Tele</td>\n    </tr>\n    <tr>\n      <th>1420</th>\n      <td>Occorre inoltre precisare che l'obbligo di mot...</td>\n      <td>Tele</td>\n    </tr>\n    <tr>\n      <th>1421</th>\n      <td>Occorre inoltre ulteriormente evidenziare che ...</td>\n      <td>Tele</td>\n    </tr>\n    <tr>\n      <th>1422</th>\n      <td>Va inoltre rilevato che l'obbligo di motivazio...</td>\n      <td>Tele</td>\n    </tr>\n    <tr>\n      <th>1423</th>\n      <td>Va inoltre ripetutamente rilevato che l'obblig...</td>\n      <td>Tele</td>\n    </tr>\n  </tbody>\n</table>\n<p>1424 rows × 2 columns</p>\n</div>"
          },
          "metadata": {}
        }
      ],
      "execution_count": null
    },
    {
      "cell_type": "code",
      "source": [
        "tot_df = clean_list(tot_df,'Scheme')\n",
        "tot_df\n",
        "#apply multibinarizer\n",
        "mlb = MultiLabelBinarizer()\n",
        "mlb_result = mlb.fit_transform([str(tot_df.loc[i,'Scheme2']).split(',') for i in range(len(tot_df))])\n",
        "aug_train_df = pd.concat([tot_df,pd.DataFrame(mlb_result,columns=list(mlb.classes_))],axis=1)\n",
        "\n",
        "aug_train_df\n",
        "\n"
      ],
      "metadata": {
        "trusted": true,
        "execution": {
          "iopub.status.busy": "2024-12-15T10:04:00.391333Z",
          "iopub.execute_input": "2024-12-15T10:04:00.391671Z",
          "iopub.status.idle": "2024-12-15T10:04:00.648391Z",
          "shell.execute_reply.started": "2024-12-15T10:04:00.39164Z",
          "shell.execute_reply": "2024-12-15T10:04:00.647571Z"
        },
        "id": "63Bi3DiM5Gsi",
        "outputId": "ebb053af-3df6-4627-909f-bb86bc1412ce"
      },
      "outputs": [
        {
          "execution_count": 64,
          "output_type": "execute_result",
          "data": {
            "text/plain": "                                                   Text Scheme Scheme2  Aut  \\\n0     Se il ricorso non è stato proposto da o nei co...   Itpr    Itpr    0   \n1     Secondo condivisa e costante giurisprudenza (C...   Rule    Rule    0   \n2     Deve pertanto confermarsi che il ricorso di pr...   Rule    Rule    0   \n3     atteso che, siccome correttamente eccepito dal...   Prec    Prec    0   \n4     La detta norma recepisce nell' ordinamento ita...   Rule    Rule    0   \n...                                                 ...    ...     ...  ...   \n1419  Occorre tuttavia anche rilevare che l'obbligo ...   Tele    Tele    0   \n1420  Occorre inoltre precisare che l'obbligo di mot...   Tele    Tele    0   \n1421  Occorre inoltre ulteriormente evidenziare che ...   Tele    Tele    0   \n1422  Va inoltre rilevato che l'obbligo di motivazio...   Tele    Tele    0   \n1423  Va inoltre ripetutamente rilevato che l'obblig...   Tele    Tele    0   \n\n      Class  Itpr  Prec  Princ  Rule  Syst  Tele  \n0         0     1     0      0     0     0     0  \n1         0     0     0      0     1     0     0  \n2         0     0     0      0     1     0     0  \n3         0     0     1      0     0     0     0  \n4         0     0     0      0     1     0     0  \n...     ...   ...   ...    ...   ...   ...   ...  \n1419      0     0     0      0     0     0     1  \n1420      0     0     0      0     0     0     1  \n1421      0     0     0      0     0     0     1  \n1422      0     0     0      0     0     0     1  \n1423      0     0     0      0     0     0     1  \n\n[1424 rows x 11 columns]",
            "text/html": "<div>\n<style scoped>\n    .dataframe tbody tr th:only-of-type {\n        vertical-align: middle;\n    }\n\n    .dataframe tbody tr th {\n        vertical-align: top;\n    }\n\n    .dataframe thead th {\n        text-align: right;\n    }\n</style>\n<table border=\"1\" class=\"dataframe\">\n  <thead>\n    <tr style=\"text-align: right;\">\n      <th></th>\n      <th>Text</th>\n      <th>Scheme</th>\n      <th>Scheme2</th>\n      <th>Aut</th>\n      <th>Class</th>\n      <th>Itpr</th>\n      <th>Prec</th>\n      <th>Princ</th>\n      <th>Rule</th>\n      <th>Syst</th>\n      <th>Tele</th>\n    </tr>\n  </thead>\n  <tbody>\n    <tr>\n      <th>0</th>\n      <td>Se il ricorso non è stato proposto da o nei co...</td>\n      <td>Itpr</td>\n      <td>Itpr</td>\n      <td>0</td>\n      <td>0</td>\n      <td>1</td>\n      <td>0</td>\n      <td>0</td>\n      <td>0</td>\n      <td>0</td>\n      <td>0</td>\n    </tr>\n    <tr>\n      <th>1</th>\n      <td>Secondo condivisa e costante giurisprudenza (C...</td>\n      <td>Rule</td>\n      <td>Rule</td>\n      <td>0</td>\n      <td>0</td>\n      <td>0</td>\n      <td>0</td>\n      <td>0</td>\n      <td>1</td>\n      <td>0</td>\n      <td>0</td>\n    </tr>\n    <tr>\n      <th>2</th>\n      <td>Deve pertanto confermarsi che il ricorso di pr...</td>\n      <td>Rule</td>\n      <td>Rule</td>\n      <td>0</td>\n      <td>0</td>\n      <td>0</td>\n      <td>0</td>\n      <td>0</td>\n      <td>1</td>\n      <td>0</td>\n      <td>0</td>\n    </tr>\n    <tr>\n      <th>3</th>\n      <td>atteso che, siccome correttamente eccepito dal...</td>\n      <td>Prec</td>\n      <td>Prec</td>\n      <td>0</td>\n      <td>0</td>\n      <td>0</td>\n      <td>1</td>\n      <td>0</td>\n      <td>0</td>\n      <td>0</td>\n      <td>0</td>\n    </tr>\n    <tr>\n      <th>4</th>\n      <td>La detta norma recepisce nell' ordinamento ita...</td>\n      <td>Rule</td>\n      <td>Rule</td>\n      <td>0</td>\n      <td>0</td>\n      <td>0</td>\n      <td>0</td>\n      <td>0</td>\n      <td>1</td>\n      <td>0</td>\n      <td>0</td>\n    </tr>\n    <tr>\n      <th>...</th>\n      <td>...</td>\n      <td>...</td>\n      <td>...</td>\n      <td>...</td>\n      <td>...</td>\n      <td>...</td>\n      <td>...</td>\n      <td>...</td>\n      <td>...</td>\n      <td>...</td>\n      <td>...</td>\n    </tr>\n    <tr>\n      <th>1419</th>\n      <td>Occorre tuttavia anche rilevare che l'obbligo ...</td>\n      <td>Tele</td>\n      <td>Tele</td>\n      <td>0</td>\n      <td>0</td>\n      <td>0</td>\n      <td>0</td>\n      <td>0</td>\n      <td>0</td>\n      <td>0</td>\n      <td>1</td>\n    </tr>\n    <tr>\n      <th>1420</th>\n      <td>Occorre inoltre precisare che l'obbligo di mot...</td>\n      <td>Tele</td>\n      <td>Tele</td>\n      <td>0</td>\n      <td>0</td>\n      <td>0</td>\n      <td>0</td>\n      <td>0</td>\n      <td>0</td>\n      <td>0</td>\n      <td>1</td>\n    </tr>\n    <tr>\n      <th>1421</th>\n      <td>Occorre inoltre ulteriormente evidenziare che ...</td>\n      <td>Tele</td>\n      <td>Tele</td>\n      <td>0</td>\n      <td>0</td>\n      <td>0</td>\n      <td>0</td>\n      <td>0</td>\n      <td>0</td>\n      <td>0</td>\n      <td>1</td>\n    </tr>\n    <tr>\n      <th>1422</th>\n      <td>Va inoltre rilevato che l'obbligo di motivazio...</td>\n      <td>Tele</td>\n      <td>Tele</td>\n      <td>0</td>\n      <td>0</td>\n      <td>0</td>\n      <td>0</td>\n      <td>0</td>\n      <td>0</td>\n      <td>0</td>\n      <td>1</td>\n    </tr>\n    <tr>\n      <th>1423</th>\n      <td>Va inoltre ripetutamente rilevato che l'obblig...</td>\n      <td>Tele</td>\n      <td>Tele</td>\n      <td>0</td>\n      <td>0</td>\n      <td>0</td>\n      <td>0</td>\n      <td>0</td>\n      <td>0</td>\n      <td>0</td>\n      <td>1</td>\n    </tr>\n  </tbody>\n</table>\n<p>1424 rows × 11 columns</p>\n</div>"
          },
          "metadata": {}
        }
      ],
      "execution_count": null
    },
    {
      "cell_type": "code",
      "source": [
        "aug_train_df.explode('Scheme')['Scheme'].value_counts()"
      ],
      "metadata": {
        "trusted": true,
        "execution": {
          "iopub.status.busy": "2024-12-15T10:04:00.852313Z",
          "iopub.execute_input": "2024-12-15T10:04:00.852599Z",
          "iopub.status.idle": "2024-12-15T10:04:00.86363Z",
          "shell.execute_reply.started": "2024-12-15T10:04:00.852571Z",
          "shell.execute_reply": "2024-12-15T10:04:00.862902Z"
        },
        "id": "EoC_xYH95Gsj",
        "outputId": "d9a4a3fd-09c9-4adc-c526-e4850b77b235"
      },
      "outputs": [
        {
          "execution_count": 65,
          "output_type": "execute_result",
          "data": {
            "text/plain": "Scheme\nRule     388\nPrec     282\nItpr     211\nClass    204\nAut      196\nPrinc    193\nSyst     114\nTele      84\nName: count, dtype: int64"
          },
          "metadata": {}
        }
      ],
      "execution_count": null
    },
    {
      "cell_type": "code",
      "source": [
        "aug_lab = aug_train_df[sc_classes]\n",
        "aug_lab"
      ],
      "metadata": {
        "trusted": true,
        "execution": {
          "iopub.status.busy": "2024-12-15T10:04:01.274574Z",
          "iopub.execute_input": "2024-12-15T10:04:01.274885Z",
          "iopub.status.idle": "2024-12-15T10:04:01.285673Z",
          "shell.execute_reply.started": "2024-12-15T10:04:01.274855Z",
          "shell.execute_reply": "2024-12-15T10:04:01.284833Z"
        },
        "id": "L-OCI6n-5Gsj",
        "outputId": "7c419347-edb0-4781-c72e-411a53684ada"
      },
      "outputs": [
        {
          "execution_count": 66,
          "output_type": "execute_result",
          "data": {
            "text/plain": "      Rule  Prec  Itpr  Princ  Class  Aut  Syst  Tele\n0        0     0     1      0      0    0     0     0\n1        1     0     0      0      0    0     0     0\n2        1     0     0      0      0    0     0     0\n3        0     1     0      0      0    0     0     0\n4        1     0     0      0      0    0     0     0\n...    ...   ...   ...    ...    ...  ...   ...   ...\n1419     0     0     0      0      0    0     0     1\n1420     0     0     0      0      0    0     0     1\n1421     0     0     0      0      0    0     0     1\n1422     0     0     0      0      0    0     0     1\n1423     0     0     0      0      0    0     0     1\n\n[1424 rows x 8 columns]",
            "text/html": "<div>\n<style scoped>\n    .dataframe tbody tr th:only-of-type {\n        vertical-align: middle;\n    }\n\n    .dataframe tbody tr th {\n        vertical-align: top;\n    }\n\n    .dataframe thead th {\n        text-align: right;\n    }\n</style>\n<table border=\"1\" class=\"dataframe\">\n  <thead>\n    <tr style=\"text-align: right;\">\n      <th></th>\n      <th>Rule</th>\n      <th>Prec</th>\n      <th>Itpr</th>\n      <th>Princ</th>\n      <th>Class</th>\n      <th>Aut</th>\n      <th>Syst</th>\n      <th>Tele</th>\n    </tr>\n  </thead>\n  <tbody>\n    <tr>\n      <th>0</th>\n      <td>0</td>\n      <td>0</td>\n      <td>1</td>\n      <td>0</td>\n      <td>0</td>\n      <td>0</td>\n      <td>0</td>\n      <td>0</td>\n    </tr>\n    <tr>\n      <th>1</th>\n      <td>1</td>\n      <td>0</td>\n      <td>0</td>\n      <td>0</td>\n      <td>0</td>\n      <td>0</td>\n      <td>0</td>\n      <td>0</td>\n    </tr>\n    <tr>\n      <th>2</th>\n      <td>1</td>\n      <td>0</td>\n      <td>0</td>\n      <td>0</td>\n      <td>0</td>\n      <td>0</td>\n      <td>0</td>\n      <td>0</td>\n    </tr>\n    <tr>\n      <th>3</th>\n      <td>0</td>\n      <td>1</td>\n      <td>0</td>\n      <td>0</td>\n      <td>0</td>\n      <td>0</td>\n      <td>0</td>\n      <td>0</td>\n    </tr>\n    <tr>\n      <th>4</th>\n      <td>1</td>\n      <td>0</td>\n      <td>0</td>\n      <td>0</td>\n      <td>0</td>\n      <td>0</td>\n      <td>0</td>\n      <td>0</td>\n    </tr>\n    <tr>\n      <th>...</th>\n      <td>...</td>\n      <td>...</td>\n      <td>...</td>\n      <td>...</td>\n      <td>...</td>\n      <td>...</td>\n      <td>...</td>\n      <td>...</td>\n    </tr>\n    <tr>\n      <th>1419</th>\n      <td>0</td>\n      <td>0</td>\n      <td>0</td>\n      <td>0</td>\n      <td>0</td>\n      <td>0</td>\n      <td>0</td>\n      <td>1</td>\n    </tr>\n    <tr>\n      <th>1420</th>\n      <td>0</td>\n      <td>0</td>\n      <td>0</td>\n      <td>0</td>\n      <td>0</td>\n      <td>0</td>\n      <td>0</td>\n      <td>1</td>\n    </tr>\n    <tr>\n      <th>1421</th>\n      <td>0</td>\n      <td>0</td>\n      <td>0</td>\n      <td>0</td>\n      <td>0</td>\n      <td>0</td>\n      <td>0</td>\n      <td>1</td>\n    </tr>\n    <tr>\n      <th>1422</th>\n      <td>0</td>\n      <td>0</td>\n      <td>0</td>\n      <td>0</td>\n      <td>0</td>\n      <td>0</td>\n      <td>0</td>\n      <td>1</td>\n    </tr>\n    <tr>\n      <th>1423</th>\n      <td>0</td>\n      <td>0</td>\n      <td>0</td>\n      <td>0</td>\n      <td>0</td>\n      <td>0</td>\n      <td>0</td>\n      <td>1</td>\n    </tr>\n  </tbody>\n</table>\n<p>1424 rows × 8 columns</p>\n</div>"
          },
          "metadata": {}
        }
      ],
      "execution_count": null
    },
    {
      "cell_type": "markdown",
      "source": [
        "## Save and load results\n",
        "\n",
        "The results folder will contain the notebook, metrics and outputs for each seed."
      ],
      "metadata": {
        "id": "B2ISiv5sk6G5"
      }
    },
    {
      "cell_type": "code",
      "source": [
        "results_folder = \"results\"\n",
        "\n",
        "if not os.path.exists(results_folder):\n",
        "\n",
        "    os.makedirs(results_folder)\n",
        "\n",
        "\n",
        "\n",
        "def results_to_csv(df_results, seed):\n",
        "\n",
        "    '''\n",
        "\n",
        "    Args:\n",
        "\n",
        "        df_results: DataFrame with the all the scores\n",
        "\n",
        "        seed: the used seed\n",
        "\n",
        "    '''\n",
        "\n",
        "    csv_path = f\"{results_folder}/{seed}.csv\"\n",
        "\n",
        "    df_results.to_csv(path_or_buf=csv_path)"
      ],
      "metadata": {
        "id": "3Uu8Et2qk6G5",
        "execution": {
          "iopub.status.busy": "2024-12-20T11:25:06.034889Z",
          "iopub.execute_input": "2024-12-20T11:25:06.035638Z",
          "iopub.status.idle": "2024-12-20T11:25:06.040447Z",
          "shell.execute_reply.started": "2024-12-20T11:25:06.035604Z",
          "shell.execute_reply": "2024-12-20T11:25:06.03953Z"
        },
        "trusted": true
      },
      "outputs": [],
      "execution_count": null
    },
    {
      "cell_type": "code",
      "source": [
        "def results_from_csv(seed):\n",
        "\n",
        "    '''\n",
        "\n",
        "    Args:\n",
        "\n",
        "        seed: the wanted seed\n",
        "\n",
        "    '''\n",
        "\n",
        "    file_path = f\"results/{seed}.csv\"\n",
        "\n",
        "    df_results = pd.read_csv(file_path)\n",
        "\n",
        "\n",
        "\n",
        "    return df_results"
      ],
      "metadata": {
        "id": "eH9_Qyzrk6G6",
        "execution": {
          "iopub.status.busy": "2024-12-20T11:25:06.357265Z",
          "iopub.execute_input": "2024-12-20T11:25:06.357539Z",
          "iopub.status.idle": "2024-12-20T11:25:06.361867Z",
          "shell.execute_reply.started": "2024-12-20T11:25:06.357511Z",
          "shell.execute_reply": "2024-12-20T11:25:06.360986Z"
        },
        "trusted": true
      },
      "outputs": [],
      "execution_count": null
    },
    {
      "cell_type": "markdown",
      "source": [
        "## PyTorch dataset"
      ],
      "metadata": {
        "id": "a_7qTdbjk6G6"
      }
    },
    {
      "cell_type": "code",
      "source": [
        "class CustomTorchDataset(Dataset):\n",
        "\n",
        "    def __init__(self, encodings):\n",
        "\n",
        "        self.encodings = encodings\n",
        "\n",
        "\n",
        "\n",
        "    def __getitem__(self, idx):\n",
        "\n",
        "        return {key: torch.tensor(val[idx]) for key, val in self.encodings.items()}\n",
        "\n",
        "\n",
        "\n",
        "    def __len__(self):\n",
        "\n",
        "        return len(self.encodings.input_ids)"
      ],
      "metadata": {
        "id": "30T-t-KIk6G7",
        "execution": {
          "iopub.status.busy": "2024-12-20T11:25:09.281659Z",
          "iopub.execute_input": "2024-12-20T11:25:09.282473Z",
          "iopub.status.idle": "2024-12-20T11:25:09.287104Z",
          "shell.execute_reply.started": "2024-12-20T11:25:09.282438Z",
          "shell.execute_reply": "2024-12-20T11:25:09.286174Z"
        },
        "trusted": true
      },
      "outputs": [],
      "execution_count": null
    },
    {
      "cell_type": "markdown",
      "source": [
        "## Focal Loss"
      ],
      "metadata": {
        "id": "jmCHPOBbbH80"
      }
    },
    {
      "cell_type": "code",
      "source": [
        "num_label=len(good_sc_columns)\n",
        "\n",
        "class FocalLoss(nn.Module):\n",
        "\n",
        "    def __init__(self, alpha=None, gamma=2, logit=False, reduce=False):\n",
        "\n",
        "        super(FocalLoss, self).__init__()\n",
        "\n",
        "        self.alpha = alpha\n",
        "\n",
        "        self.gamma = gamma\n",
        "\n",
        "        self.logit = logit\n",
        "\n",
        "        self.reduce = reduce\n",
        "\n",
        "\n",
        "\n",
        "    def forward(self, inputs, targets):\n",
        "\n",
        "        \"\"\"\n",
        "\n",
        "        BCE = nn.BCELoss()\n",
        "\n",
        "        BCE_loss = BCE(inputs, targets)\n",
        "\n",
        "        pt = torch.exp(-BCE_loss)\n",
        "\n",
        "        F_loss = self.alpha * (1-pt)**self.gamma * BCE_loss\n",
        "\n",
        "\n",
        "\n",
        "        if self.reduce:\n",
        "\n",
        "            return torch.mean(F_loss)\n",
        "\n",
        "        else:\n",
        "\n",
        "            return F_loss\n",
        "\n",
        "        \"\"\"\n",
        "\n",
        "        #p = torch.where(targets >= 0.5, inputs, 1-inputs)\n",
        "\n",
        "        p = inputs * targets + (1 - inputs) * (1 - targets)\n",
        "        if self.alpha != None:\n",
        "            weight_mask = torch.where(targets >= 0.5, self.alpha, 1)\n",
        "        logp = - torch.log(torch.clamp(p, 1e-4, 1-1e-4))\n",
        "        #loss = logp*((1-p)**self.gamma)\n",
        "        #print(f\"wo_weight:{loss}\")\n",
        "        if self.alpha != None:\n",
        "            loss = self.alpha*logp*((1-p)**self.gamma)\n",
        "        else:\n",
        "            loss = logp*((1-p)**self.gamma)\n",
        "\n",
        "        #print(f\"w_weight:{loss}\")\n",
        "\n",
        "\n",
        "\n",
        "        loss = loss.mean()\n",
        "\n",
        "        return loss\n",
        "\n",
        "\n"
      ],
      "metadata": {
        "id": "7NymLkC0whtl",
        "execution": {
          "iopub.status.busy": "2024-12-20T11:25:11.054315Z",
          "iopub.execute_input": "2024-12-20T11:25:11.055241Z",
          "iopub.status.idle": "2024-12-20T11:25:11.062942Z",
          "shell.execute_reply.started": "2024-12-20T11:25:11.055201Z",
          "shell.execute_reply": "2024-12-20T11:25:11.061878Z"
        },
        "trusted": true
      },
      "outputs": [],
      "execution_count": null
    },
    {
      "cell_type": "code",
      "source": [
        "num_label=len(good_sc_columns)\n",
        "\n",
        "class DiceLoss(nn.Module):\n",
        "\n",
        "    def __init__(self, alpha=1, gamma=1, logit=False, reduce=False):\n",
        "\n",
        "        super(DiceLoss, self).__init__()\n",
        "\n",
        "        self.alpha = alpha\n",
        "\n",
        "        self.gamma = gamma\n",
        "\n",
        "        self.logit = logit\n",
        "\n",
        "        self.reduce = reduce\n",
        "\n",
        "\n",
        "\n",
        "    def forward(self, predictions, targets):\n",
        "\n",
        "        \"\"\"\n",
        "\n",
        "        BCE = nn.BCELoss()\n",
        "\n",
        "        BCE_loss = BCE(inputs, targets)\n",
        "\n",
        "        pt = torch.exp(-BCE_loss)\n",
        "\n",
        "        F_loss = self.alpha * (1-pt)**self.gamma * BCE_loss\n",
        "\n",
        "\n",
        "\n",
        "        if self.reduce:\n",
        "\n",
        "            return torch.mean(F_loss)\n",
        "\n",
        "        else:\n",
        "\n",
        "            return F_loss\n",
        "\n",
        "        \"\"\"\n",
        "\n",
        "        #p = torch.where(targets >= 0.5, inputs, 1-inputs)\n",
        "                # Flatten tensors\n",
        "        predictions = predictions.view(-1)\n",
        "        targets = targets.view(-1)\n",
        "\n",
        "        # Compute intersection\n",
        "        intersection = (predictions * targets).sum()\n",
        "\n",
        "        # Compute Dice Loss\n",
        "        loss = 1 - (2 * intersection + self.gamma) / (\n",
        "            predictions.sum().pow(2) + targets.sum().pow(2) + self.gamma\n",
        "        )\n",
        "        '''\n",
        "        num  =2*(1-logits)*logits*targets + self.gamma\n",
        "        den = (1-logits)*logits+targets+self.gamma\n",
        "        loss = 1 - num/den\n",
        "        loss = loss.mean()\n",
        "        '''\n",
        "        return loss\n",
        "\n",
        "\n"
      ],
      "metadata": {
        "execution": {
          "iopub.status.busy": "2024-12-20T11:25:11.500065Z",
          "iopub.execute_input": "2024-12-20T11:25:11.500751Z",
          "iopub.status.idle": "2024-12-20T11:25:11.506883Z",
          "shell.execute_reply.started": "2024-12-20T11:25:11.500717Z",
          "shell.execute_reply": "2024-12-20T11:25:11.505962Z"
        },
        "trusted": true,
        "id": "ffl4zNb75Gsk"
      },
      "outputs": [],
      "execution_count": null
    },
    {
      "cell_type": "code",
      "source": [
        "num_label=len(good_sc_columns)\n",
        "\n",
        "class DiceLoss(nn.Module):\n",
        "\n",
        "    def __init__(self, alpha=1, gamma=1, logit=False, reduce=False):\n",
        "\n",
        "        super(DiceLoss, self).__init__()\n",
        "\n",
        "        self.alpha = alpha\n",
        "\n",
        "        self.gamma = gamma\n",
        "\n",
        "        self.logit = logit\n",
        "\n",
        "        self.reduce = reduce\n",
        "\n",
        "\n",
        "\n",
        "    def forward(self, logits, targets):\n",
        "\n",
        "        \"\"\"\n",
        "\n",
        "        BCE = nn.BCELoss()\n",
        "\n",
        "        BCE_loss = BCE(inputs, targets)\n",
        "\n",
        "        pt = torch.exp(-BCE_loss)\n",
        "\n",
        "        F_loss = self.alpha * (1-pt)**self.gamma * BCE_loss\n",
        "\n",
        "\n",
        "\n",
        "        if self.reduce:\n",
        "\n",
        "            return torch.mean(F_loss)\n",
        "\n",
        "        else:\n",
        "\n",
        "            return F_loss\n",
        "\n",
        "        \"\"\"\n",
        "\n",
        "        #p = torch.where(targets >= 0.5, inputs, 1-inputs)\n",
        "\n",
        "\n",
        "        num  =2*((1-logits)*logits*targets).sum() + self.gamma\n",
        "        den = ((1-logits)*logits).sum()+targets.sum()+self.gamma\n",
        "        loss = 1 - num/den\n",
        "        #loss = loss.mean()\n",
        "        return loss\n",
        "\n",
        "\n"
      ],
      "metadata": {
        "execution": {
          "iopub.status.busy": "2024-12-20T11:25:12.98215Z",
          "iopub.execute_input": "2024-12-20T11:25:12.982487Z",
          "iopub.status.idle": "2024-12-20T11:25:12.988821Z",
          "shell.execute_reply.started": "2024-12-20T11:25:12.982455Z",
          "shell.execute_reply": "2024-12-20T11:25:12.987759Z"
        },
        "trusted": true,
        "id": "si8veM5j5Gsk"
      },
      "outputs": [],
      "execution_count": null
    },
    {
      "cell_type": "code",
      "source": [
        "num_label=len(good_sc_columns)\n",
        "\n",
        "def focal_loss(logits, targets, gamma=2):\n",
        "\n",
        "    #l = logits.reshape(-1)\n",
        "\n",
        "    #t = targets.reshape(-1)\n",
        "\n",
        "    #p = torch.sigmoid(l)\n",
        "\n",
        "    p = torch.where(targets >= 0.5, logits, 1-logits)\n",
        "\n",
        "    logp = - torch.log(torch.clamp(p, 1e-4, 1-1e-4))\n",
        "\n",
        "    loss = logp*((1-p)**gamma)\n",
        "\n",
        "    loss = loss.mean()\n",
        "\n",
        "\n",
        "    return loss"
      ],
      "metadata": {
        "id": "8bgN1OD8bMN3",
        "execution": {
          "iopub.status.busy": "2024-12-20T11:25:14.423308Z",
          "iopub.execute_input": "2024-12-20T11:25:14.424035Z",
          "iopub.status.idle": "2024-12-20T11:25:14.428875Z",
          "shell.execute_reply.started": "2024-12-20T11:25:14.423999Z",
          "shell.execute_reply": "2024-12-20T11:25:14.427967Z"
        },
        "trusted": true
      },
      "outputs": [],
      "execution_count": null
    },
    {
      "cell_type": "markdown",
      "source": [
        "# Processing"
      ],
      "metadata": {
        "id": "My9p3Otpk6G7"
      }
    },
    {
      "cell_type": "markdown",
      "source": [
        "## Encoding"
      ],
      "metadata": {
        "id": "lYljLio2HkFc"
      }
    },
    {
      "cell_type": "code",
      "source": [
        "from sklearn.feature_extraction.text import TfidfVectorizer\n",
        "\n",
        "import re\n",
        "\n",
        "from nltk.corpus import stopwords\n",
        "\n",
        "\n",
        "\n",
        "class BaselineVectorizer():\n",
        "\n",
        "    def __init__(self, include_previous=False, max_features=None):\n",
        "\n",
        "        self.tfidf = TfidfVectorizer(stop_words=stopwords.words('italian'),max_features=max_features)\n",
        "\n",
        "        self.include_previous = include_previous\n",
        "\n",
        "        self.fitted = False\n",
        "\n",
        "\n",
        "\n",
        "    def _clean_texts(self,df):\n",
        "\n",
        "        texts = df[\"Previous\"]+\". \"+df[\"Text\"] if INCLUDE_PREVIOUS else df[\"Text\"]\n",
        "\n",
        "        cleaned = []\n",
        "\n",
        "        for text in texts:\n",
        "\n",
        "            text = re.sub(\"[^a-zA-Z0-9]\",\" \",text).lower().strip()\n",
        "\n",
        "            cleaned.append(text)\n",
        "\n",
        "\n",
        "\n",
        "        return cleaned\n",
        "\n",
        "\n",
        "\n",
        "    def fit(self,df):\n",
        "\n",
        "        cleaned_texts = self._clean_texts(df)\n",
        "\n",
        "        self.tfidf.fit(cleaned_texts)\n",
        "\n",
        "        self.fitted = True\n",
        "\n",
        "\n",
        "\n",
        "    def transform(self,df):\n",
        "\n",
        "        if not self.fitted:\n",
        "\n",
        "            raise Exception(\"Vectorizer is not fitted.\")\n",
        "\n",
        "        cleaned_texts = self._clean_texts(df)\n",
        "\n",
        "        return self.tfidf.transform(cleaned_texts)"
      ],
      "metadata": {
        "id": "I7cIOYFBZRHg",
        "execution": {
          "iopub.status.busy": "2024-12-20T11:25:22.197089Z",
          "iopub.execute_input": "2024-12-20T11:25:22.197795Z",
          "iopub.status.idle": "2024-12-20T11:25:22.204449Z",
          "shell.execute_reply.started": "2024-12-20T11:25:22.197759Z",
          "shell.execute_reply": "2024-12-20T11:25:22.203631Z"
        },
        "trusted": true
      },
      "outputs": [],
      "execution_count": null
    },
    {
      "cell_type": "code",
      "source": [
        "def encode(tokenizer:PreTrainedTokenizer,\n",
        "           df:pd.DataFrame,\n",
        "           labels,\n",
        "           scheme=False,\n",
        "           include_previous=True):\n",
        "\n",
        "    '''\n",
        "\n",
        "    Encodes the dataset according to the BERT specifications.\n",
        "\n",
        "    The method encodes the data in the following way:\n",
        "\n",
        "        [CLS] previous [SEP] current [SEP]\n",
        "\n",
        "        where -previous- is the previous (if any) sentence in the same argumentation chain\n",
        "\n",
        "        and -current- is the current sentence\n",
        "\n",
        "    '''\n",
        "\n",
        "    print(\"Encoding...\")\n",
        "\n",
        "    encodings = tokenizer(\n",
        "\n",
        "          list(df['Previous']), list(df['Text']), padding=True, truncation=True, max_length = 512\n",
        "\n",
        "        ) if include_previous else tokenizer(\n",
        "\n",
        "          list(df['Text']), padding=True, truncation=True, max_length = 512\n",
        "\n",
        "        )\n",
        "\n",
        "\n",
        "\n",
        "    input_ids, input_attention_mask = encodings['input_ids'], encodings['attention_mask']\n",
        "\n",
        "    print(f\"input shape: {np.shape(input_ids)}\")\n",
        "\n",
        "    if not scheme:\n",
        "\n",
        "        encodings.update({'labels' : torch.LongTensor(labels.values)})\n",
        "\n",
        "    else:\n",
        "\n",
        "        encodings.update({'labels': torch.FloatTensor(labels.values)})\n",
        "\n",
        "    encodings.pop('token_type_ids')\n",
        "\n",
        "\n",
        "\n",
        "    print(\"Encoding complete\")\n",
        "\n",
        "    return encodings"
      ],
      "metadata": {
        "id": "xyR1vmlDl9sr",
        "execution": {
          "iopub.status.busy": "2024-12-20T11:25:34.84585Z",
          "iopub.execute_input": "2024-12-20T11:25:34.846193Z",
          "iopub.status.idle": "2024-12-20T11:25:34.852705Z",
          "shell.execute_reply.started": "2024-12-20T11:25:34.846162Z",
          "shell.execute_reply": "2024-12-20T11:25:34.851798Z"
        },
        "trusted": true
      },
      "outputs": [],
      "execution_count": null
    },
    {
      "cell_type": "markdown",
      "source": [
        "## Model"
      ],
      "metadata": {
        "id": "Y1NNzCJhIig9"
      }
    },
    {
      "cell_type": "code",
      "source": [
        "class ACModel(nn.Module):\n",
        "\n",
        "    def __init__(self,checkpoint, output_size):\n",
        "\n",
        "        super(ACModel, self).__init__()\n",
        "\n",
        "        self.model = AutoModel.from_pretrained(checkpoint)\n",
        "\n",
        "        self.output_size = output_size\n",
        "\n",
        "        self.cl1 = nn.Linear(self.model.config.hidden_size, self.model.config.hidden_size)\n",
        "\n",
        "        self.relu = nn.ReLU()\n",
        "        self.dropout = nn.Dropout(0.2)\n",
        "\n",
        "        self.output = nn.Linear(self.model.config.hidden_size, self.output_size)\n",
        "\n",
        "\n",
        "\n",
        "    def forward(self, input_ids, attention_mask,only_embeddings=False):\n",
        "\n",
        "        output  = self.model(input_ids, attention_mask=attention_mask, output_hidden_states=True)\n",
        "\n",
        "        pooler_output = output.pooler_output\n",
        "\n",
        "        x = self.cl1(pooler_output)\n",
        "\n",
        "        x = self.relu(x)\n",
        "\n",
        "        x = self.output(x)\n",
        "        if only_embeddings:\n",
        "            return pooler_output\n",
        "        else:\n",
        "            return x\n",
        "\n",
        "\n",
        "\n",
        "class SCModel(nn.Module):\n",
        "\n",
        "\n",
        "\n",
        "    def __init__(self,checkpoint, output_size):\n",
        "\n",
        "        super(SCModel, self).__init__()\n",
        "\n",
        "        self.model = AutoModel.from_pretrained(checkpoint)\n",
        "\n",
        "        self.output_size = output_size\n",
        "        self.cl1 = nn.Linear(self.model.config.hidden_size, self.model.config.hidden_size)\n",
        "        self.dropout = nn.Dropout(0.2)\n",
        "        self.relu = nn.ReLU()\n",
        "        #self.tanh = nn.Tanh()\n",
        "        self.classifier = nn.Linear(self.model.config.hidden_size, self.output_size)\n",
        "\n",
        "\n",
        "\n",
        "\n",
        "\n",
        "    def forward(self, input_ids, attention_mask,only_embeddings=False, freeze=None, x_aug=None):\n",
        "\n",
        "        output  = self.model(input_ids, attention_mask=attention_mask, output_hidden_states=True)\n",
        "\n",
        "        pooler_output = output.pooler_output\n",
        "        x = self.dropout(pooler_output)\n",
        "        x = self.cl1(x)\n",
        "        x = self.relu(x)\n",
        "        #x = self.tanh(x)\n",
        "        #x = self.cl2(x)\n",
        "        #x = self.relu(x)\n",
        "        #x  = self.cl3(x)\n",
        "        x = self.classifier(x)\n",
        "        x = torch.sigmoid(x)\n",
        "\n",
        "        if only_embeddings:\n",
        "            return pooler_output\n",
        "        else:\n",
        "            return x\n",
        "\n"
      ],
      "metadata": {
        "id": "4ijqDwq5k6G8",
        "execution": {
          "iopub.status.busy": "2024-12-20T11:25:37.455908Z",
          "iopub.execute_input": "2024-12-20T11:25:37.456775Z",
          "iopub.status.idle": "2024-12-20T11:25:37.46631Z",
          "shell.execute_reply.started": "2024-12-20T11:25:37.45674Z",
          "shell.execute_reply": "2024-12-20T11:25:37.465635Z"
        },
        "trusted": true
      },
      "outputs": [],
      "execution_count": null
    },
    {
      "cell_type": "code",
      "source": [
        "\n",
        "\n",
        "def getModel(model_checkpoint, num_labels, scheme=False,only_embeddings = False):\n",
        "\n",
        "    '''\n",
        "\n",
        "    Creates and return an instance of the desired model with the correct tokenizer.\n",
        "\n",
        "    '''\n",
        "\n",
        "    tokenizer = AutoTokenizer.from_pretrained(model_checkpoint)\n",
        "\n",
        "    if scheme:\n",
        "\n",
        "        model = SCModel(model_checkpoint, num_labels)\n",
        "\n",
        "    else:\n",
        "\n",
        "        model = ACModel(model_checkpoint, num_labels)\n",
        "\n",
        "\n",
        "\n",
        "    return model, tokenizer"
      ],
      "metadata": {
        "id": "xA9h-2p4k6G9",
        "execution": {
          "iopub.status.busy": "2024-12-20T11:25:38.734815Z",
          "iopub.execute_input": "2024-12-20T11:25:38.735123Z",
          "iopub.status.idle": "2024-12-20T11:25:38.739894Z",
          "shell.execute_reply.started": "2024-12-20T11:25:38.735097Z",
          "shell.execute_reply": "2024-12-20T11:25:38.739007Z"
        },
        "trusted": true
      },
      "outputs": [],
      "execution_count": null
    },
    {
      "cell_type": "markdown",
      "source": [
        "## Train"
      ],
      "metadata": {
        "id": "E4NSs0Ack6G-"
      }
    },
    {
      "cell_type": "code",
      "source": [
        "# Train one epoch\n",
        "\n",
        "def train_epoch(model: torch.nn.Module,\n",
        "\n",
        "          train_loader:torch.utils.data.DataLoader,\n",
        "\n",
        "          device: torch.device,\n",
        "\n",
        "          optimizer: torch.optim,\n",
        "\n",
        "          criterion: torch.nn.Module,\n",
        "\n",
        "          epoch: int) -> float:\n",
        "\n",
        "    \"\"\"Trains a neural network for one epoch.\n",
        "\n",
        "\n",
        "\n",
        "    Args:\n",
        "\n",
        "        model: the model to train.\n",
        "\n",
        "        train_loader: the data loader containing the training data.\n",
        "\n",
        "        device: the device to use to train the model.\n",
        "\n",
        "        optimizer: the optimizer to use to train the model.\n",
        "\n",
        "        epoch: the number of the current epoch.\n",
        "\n",
        "\n",
        "\n",
        "    Returns:\n",
        "\n",
        "        the cross entropy Loss value on the training data.\n",
        "\n",
        "    \"\"\"\n",
        "\n",
        "    size_ds_train = len(train_loader.dataset)\n",
        "\n",
        "    num_batches = len(train_loader)\n",
        "\n",
        "    loss_score = []\n",
        "\n",
        "    loop = tqdm(train_loader)\n",
        "\n",
        "    #set training mode\n",
        "\n",
        "    model.train()\n",
        "    #cr2 = DiceLoss()\n",
        "\n",
        "\n",
        "    for idx_batch, batch in enumerate(loop):\n",
        "\n",
        "        optimizer.zero_grad()\n",
        "\n",
        "        input_ids = batch['input_ids'].to(device)\n",
        "\n",
        "        attention_mask = batch['attention_mask'].to(device)\n",
        "\n",
        "        labels = batch['labels'].to(device)\n",
        "\n",
        "        logits = model(input_ids,\n",
        "\n",
        "                     attention_mask=attention_mask,\n",
        "\n",
        "                        )\n",
        "\n",
        "        loss = criterion(logits, labels)\n",
        "\n",
        "        #loss = focal_loss(logits,labels)\n",
        "\n",
        "        loss_score.append(loss.item())\n",
        "\n",
        "        loss.backward()\n",
        "\n",
        "        optimizer.step()\n",
        "\n",
        "        loop.set_description(f'Epoch {epoch}')\n",
        "\n",
        "        loop.set_postfix(loss=loss.item())\n",
        "\n",
        "\n",
        "\n",
        "    loss_train = np.mean(loss_score)\n",
        "\n",
        "    return loss_train\n",
        "\n",
        "\n",
        "\n",
        "# Validate one epoch\n",
        "\n",
        "def validate(model: torch.nn.Module,\n",
        "\n",
        "             criterion: torch.nn.Module,\n",
        "\n",
        "             data_loader: torch.utils.data.DataLoader,\n",
        "\n",
        "             device: torch.device) -> float:\n",
        "\n",
        "    \"\"\"Evaluates the model.\n",
        "\n",
        "\n",
        "\n",
        "    Args:\n",
        "\n",
        "        model: the model to evalaute.\n",
        "\n",
        "        data_loader: the data loader containing the validation data.\n",
        "\n",
        "        device: the device to use to evaluate the model.\n",
        "\n",
        "\n",
        "\n",
        "    Returns:\n",
        "\n",
        "        the loss value on the validation data.\n",
        "\n",
        "    \"\"\"\n",
        "\n",
        "    loss_score = []\n",
        "\n",
        "    #set evaluation mode\n",
        "\n",
        "    model = model.eval()\n",
        "\n",
        "    with torch.no_grad():\n",
        "\n",
        "        for idx_batch, batch in enumerate(data_loader):\n",
        "\n",
        "            input_ids = batch['input_ids'].to(device)\n",
        "\n",
        "            attention_mask = batch['attention_mask'].to(device)\n",
        "\n",
        "            labels = batch['labels'].to(device)\n",
        "\n",
        "            logits = model(input_ids, attention_mask=attention_mask)\n",
        "\n",
        "            #f_loss = FocalLoss(gamma=0)\n",
        "\n",
        "            #loss = f_loss(logits,labels)\n",
        "\n",
        "            loss = criterion(logits, labels)\n",
        "\n",
        "            #loss = focal_loss(logits,labels)\n",
        "\n",
        "            loss_score.append(loss.item())\n",
        "\n",
        "    loss_val = np.mean(loss_score)\n",
        "\n",
        "    return loss_val"
      ],
      "metadata": {
        "id": "zKDxYccjk6G_",
        "execution": {
          "iopub.status.busy": "2024-12-20T11:25:47.325243Z",
          "iopub.execute_input": "2024-12-20T11:25:47.325604Z",
          "iopub.status.idle": "2024-12-20T11:25:47.335Z",
          "shell.execute_reply.started": "2024-12-20T11:25:47.325559Z",
          "shell.execute_reply": "2024-12-20T11:25:47.334163Z"
        },
        "trusted": true
      },
      "outputs": [],
      "execution_count": null
    },
    {
      "cell_type": "code",
      "source": [
        "def training_loop(num_epochs: int,\n",
        "\n",
        "                  optimizer: torch.optim,\n",
        "\n",
        "                  criterion: torch.nn.Module,\n",
        "\n",
        "                  model: torch.nn.Module,\n",
        "\n",
        "                  lr: float,\n",
        "\n",
        "                  loader_train: torch.utils.data.DataLoader,\n",
        "\n",
        "                  loader_val : torch.utils.data.DataLoader = None,\n",
        "                  val_labels=None,\n",
        "                  model_dir = \"models\",\n",
        "\n",
        "                  verbose: bool=True,\n",
        "\n",
        "                  use_cuda = False) -> Dict:\n",
        "\n",
        "    \"\"\"Executes the training loop.\n",
        "\n",
        "\n",
        "\n",
        "        Args:\n",
        "\n",
        "            num_epochs: the number of epochs.\n",
        "\n",
        "            optimizer: the optimizer to use.\n",
        "\n",
        "            criterion: criterions used to calculate loss.\n",
        "\n",
        "            model: the model to train.\n",
        "\n",
        "            loader_train: the data loader containing the training data.\n",
        "\n",
        "            loader_val: the data loader containing the validation data.\n",
        "\n",
        "            model_dir: checkpoints folder.\n",
        "\n",
        "            verbose: if true print the value of loss.\n",
        "\n",
        "\n",
        "\n",
        "        Returns:\n",
        "\n",
        "            A dictionary with the statistics computed during the train:\n",
        "\n",
        "            the values for the train loss for each epoch.\n",
        "\n",
        "            the values for the validation loss for each epoch.\n",
        "\n",
        "            the time of execution in seconds for the entire loop.\n",
        "\n",
        "    \"\"\"\n",
        "\n",
        "    device = torch.device('cuda') if use_cuda and torch.cuda.is_available() else torch.device('cpu')\n",
        "\n",
        "    model.to(device)\n",
        "\n",
        "    loop_start = timer()\n",
        "\n",
        "    train_losses_values = []\n",
        "\n",
        "    val_losses_values = []\n",
        "\n",
        "\n",
        "\n",
        "    #best_epoch = 1\n",
        "\n",
        "    val_cri = nn.BCELoss(reduction = 'mean')\n",
        "    #cri = DiceLoss()\n",
        "\n",
        "    for epoch in range(1, num_epochs + 1):\n",
        "\n",
        "        time_start = timer()\n",
        "        #if epoch > 3:\n",
        "            #criterion = cri\n",
        "\n",
        "        loss_train = train_epoch(model, loader_train, device,\n",
        "\n",
        "                                           optimizer, criterion, epoch)\n",
        "\n",
        "        if(loader_val != None):\n",
        "\n",
        "            loss_val = validate(model, val_cri, loader_val, device)\n",
        "            val_predictions = evaluate(model, loader_val)\n",
        "            print(np.array(val_predictions).shape)\n",
        "            y_pred = np.where(val_predictions<0.5, 0., 1.)\n",
        "            y_true = np.array(val_labels)\n",
        "            print(y_true.shape, y_pred.shape)\n",
        "            print(\"\\n\"+classification_report(y_true, y_pred,target_names = sc_classes))\n",
        "        else:\n",
        "\n",
        "            loss_val = 0\n",
        "\n",
        "        time_end = timer()\n",
        "\n",
        "        train_losses_values.append(loss_train)\n",
        "\n",
        "        val_losses_values.append(loss_val)\n",
        "\n",
        "\n",
        "\n",
        "       # torch.save(model.state_dict(), os.path.join(model_dir, 'epoch-{}.pt'.format(epoch)))\n",
        "\n",
        "       # best_epoch = np.argmin(val_losses_values)+1\n",
        "\n",
        "\n",
        "\n",
        "        if verbose:\n",
        "\n",
        "            print(f'Epoch: {epoch} '\n",
        "\n",
        "                  f' Lr: {lr:.8f} '\n",
        "\n",
        "                  f' Loss: Train = [{loss_train:.4f}] - Val = [{loss_val:.4f}] '\n",
        "\n",
        "                  f' Time one epoch (s): {(time_end - time_start):.4f} ')\n",
        "\n",
        "        \"\"\"\n",
        "\n",
        "        if epoch >= 5:\n",
        "\n",
        "            if loss_val > val_losses_values[-2] and loss_val> val_losses_values[-1]  :\n",
        "\n",
        "                if verbose:\n",
        "\n",
        "                    print(\"Early Stopping. Best epoch: {}\".format(best_epoch))\n",
        "\n",
        "                break\n",
        "\n",
        "        \"\"\"\n",
        "\n",
        "    loop_end = timer()\n",
        "\n",
        "    time_loop = loop_end - loop_start\n",
        "\n",
        "    if verbose:\n",
        "\n",
        "        print(f'Time for {num_epochs} epochs (s): {(time_loop):.3f}')\n",
        "\n",
        "\n",
        "\n",
        "    #model.load_state_dict(torch.load(os.path.join(model_dir, 'epoch-{}.pt'.format(best_epoch))))\n",
        "\n",
        "\n",
        "\n",
        "    return {'train_loss_values': train_losses_values,\n",
        "\n",
        "            'val_loss_values' : val_losses_values,\n",
        "\n",
        "            'time': time_loop}"
      ],
      "metadata": {
        "id": "BF6jUjsMk6G_",
        "execution": {
          "iopub.status.busy": "2024-12-20T11:25:47.665275Z",
          "iopub.execute_input": "2024-12-20T11:25:47.66552Z",
          "iopub.status.idle": "2024-12-20T11:25:47.674745Z",
          "shell.execute_reply.started": "2024-12-20T11:25:47.665495Z",
          "shell.execute_reply": "2024-12-20T11:25:47.673865Z"
        },
        "trusted": true
      },
      "outputs": [],
      "execution_count": null
    },
    {
      "cell_type": "code",
      "source": [
        "def execute(lr: float,\n",
        "\n",
        "            num_epochs: int,\n",
        "\n",
        "            batch_size: int,\n",
        "\n",
        "            num_labels: int,\n",
        "\n",
        "            train_df: pd.DataFrame,\n",
        "\n",
        "            train_labels: pd.DataFrame,\n",
        "\n",
        "            val_df: pd.DataFrame,\n",
        "\n",
        "            val_labels: pd.DataFrame,\n",
        "\n",
        "            scheme = True,\n",
        "\n",
        "            model_name=\"\",\n",
        "\n",
        "            model=None,\n",
        "\n",
        "            tokenizer=None,\n",
        "\n",
        "            use_cuda=True,\n",
        "\n",
        "            include_previous=True,\n",
        "\n",
        "            sampler: torch.utils.data.Sampler = None,\n",
        "            cwt = None\n",
        "\n",
        "            ) ->Tuple[torch.nn.Module, any]:\n",
        "\n",
        "    \"\"\"Gets the model, does the encodings of the training and validation data using the\n",
        "\n",
        "        tokenizer, and then executes the training loop.\n",
        "\n",
        "\n",
        "\n",
        "    Args:\n",
        "\n",
        "        lr: the learning rate.\n",
        "\n",
        "        num_epochs: the number of epochs.\n",
        "\n",
        "        batch_size: the batch size.\n",
        "\n",
        "        data: training-val dataframe.\n",
        "\n",
        "        data_labels: training-val labels dataframe.\n",
        "\n",
        "        val_df: validation dataframe.\n",
        "\n",
        "        model: the network to train.\n",
        "\n",
        "        history: questions-answers history flag.\n",
        "\n",
        "    \"\"\"\n",
        "\n",
        "    #train on full data\n",
        "\n",
        "    #get the model and the tokenizer\n",
        "\n",
        "    if not model_name == \"\":\n",
        "\n",
        "        model, tokenizer = getModel(model_name, num_labels, scheme)\n",
        "\n",
        "    if scheme:\n",
        "\n",
        "        #criterion = DiceLoss()\n",
        "        criterion = FocalLoss(alpha=cwt)\n",
        "\n",
        "        #criterion = torch.nn.BCELoss()\n",
        "\n",
        "    else:\n",
        "\n",
        "        criterion = torch.nn.CrossEntropyLoss()\n",
        "\n",
        "    #Start encodings\n",
        "\n",
        "    #print(f'Train set:')\n",
        "\n",
        "    train_encodings = encode(tokenizer, train_df, train_labels, scheme, include_previous=include_previous)\n",
        "\n",
        "    val_encodings = encode(tokenizer, val_df, val_labels, scheme, include_previous=include_previous)\n",
        "\n",
        "    print(f'ENCODING COMPLETE.')\n",
        "\n",
        "\n",
        "\n",
        "    #create training dataset\n",
        "\n",
        "    train_dataset = CustomTorchDataset(train_encodings)\n",
        "\n",
        "    #create training dataloader\n",
        "\n",
        "    data_loader_train = torch.utils.data.DataLoader(train_dataset,\n",
        "\n",
        "                                        batch_size=batch_size,\n",
        "\n",
        "                                        shuffle = sampler is None,\n",
        "\n",
        "                                        sampler = sampler )\n",
        "\n",
        "    #create validation dataset\n",
        "\n",
        "    val_dataset = CustomTorchDataset(val_encodings)\n",
        "\n",
        "    #create validation dataloader\n",
        "\n",
        "    data_loader_val = torch.utils.data.DataLoader(val_dataset,\n",
        "\n",
        "                                          batch_size=batch_size,\n",
        "\n",
        "                                          shuffle = False) # No custom sampling in validation\n",
        "\n",
        "    #Optimizer\n",
        "\n",
        "    optimizer = torch.optim.AdamW(model.parameters(), lr=lr, weight_decay=1.5e-2)\n",
        "    #optimizer = Adafactor(model.parameters(), lr = 5e-5)\n",
        "\n",
        "    print(f'STARTING TRAINING with complete data:')\n",
        "\n",
        "    model_dir = 'model_data'\n",
        "\n",
        "    if not os.path.exists(model_dir):\n",
        "\n",
        "        os.makedirs(model_dir)\n",
        "\n",
        "    statistics = training_loop(num_epochs, optimizer, criterion, model,lr,\n",
        "\n",
        "                              data_loader_train, data_loader_val,val_labels, model_dir=model_dir, use_cuda=use_cuda)\n",
        "\n",
        "    print(f'TRAINING COMPLETE.')\n",
        "\n",
        "\n",
        "\n",
        "    return model, tokenizer, statistics"
      ],
      "metadata": {
        "id": "W0yra_hCk6HB",
        "execution": {
          "iopub.status.busy": "2024-12-20T11:25:52.693994Z",
          "iopub.execute_input": "2024-12-20T11:25:52.694747Z",
          "iopub.status.idle": "2024-12-20T11:25:52.703662Z",
          "shell.execute_reply.started": "2024-12-20T11:25:52.694711Z",
          "shell.execute_reply": "2024-12-20T11:25:52.702748Z"
        },
        "trusted": true
      },
      "outputs": [],
      "execution_count": null
    },
    {
      "cell_type": "code",
      "source": [
        "from sklearn.svm import SVC, LinearSVC\n",
        "\n",
        "\n",
        "\n",
        "def executeTfIdfSvm(train_df: pd.DataFrame,\n",
        "\n",
        "            test_df: pd.DataFrame,\n",
        "\n",
        "            kernel = \"rbf\",\n",
        "\n",
        "            scheme = False,\n",
        "\n",
        "            include_previous = True,\n",
        "\n",
        "            weighted_sampling = False):\n",
        "\n",
        "    # Build tokenizer\n",
        "\n",
        "    tokenizer = BaselineVectorizer(include_previous=include_previous)\n",
        "\n",
        "    tokenizer.fit(df_train)\n",
        "\n",
        "\n",
        "\n",
        "    # Build model\n",
        "\n",
        "    if scheme:\n",
        "\n",
        "        # https://scikit-learn.org/stable/modules/svm.html#multi-class-classification\n",
        "\n",
        "        # https://scikit-learn.org/stable/modules/multiclass.html\n",
        "\n",
        "        model = LinearSVC(random_state=SEED, multi_class=\"crammer_singer\") if kernel==\"linear\" else SVC(kernel=kernel, random_state=SEED, decision_function_shape='ovo')\n",
        "\n",
        "    else:\n",
        "\n",
        "        # https://scikit-learn.org/stable/modules/svm.html#classification\n",
        "\n",
        "        model = LinearSVC(random_state=SEED) if kernel==\"linear\" else SVC(kernel=kernel, random_state=SEED)\n",
        "\n",
        "\n",
        "\n",
        "    class_column = 'Scheme' if scheme else 'Name' # TODO is Name correct for AC?\n",
        "\n",
        "    df_train_sample_weights = [class_weights[i] for i in df_train[class_column]] if weighted_sampling else None\n",
        "\n",
        "\n",
        "\n",
        "    # Train model\n",
        "\n",
        "    train_encodings = tokenizer.transform(df_train)\n",
        "\n",
        "    labels = train_df['Scheme'] if scheme else train_df['label']\n",
        "\n",
        "    model.fit(train_encodings, labels, sample_weight=df_train_sample_weights)\n",
        "\n",
        "\n",
        "\n",
        "    # Test model\n",
        "\n",
        "    test_encodings = tokenizer.transform(test_df)\n",
        "\n",
        "    test_labels = test_df['Scheme'] if scheme else test_df['label']\n",
        "\n",
        "    y_pred = model.predict(test_encodings)\n",
        "\n",
        "    print(\"\\n Baseline kernel: \"+kernel+\"\\n\"+classification_report(test_labels, y_pred))\n",
        "\n",
        "\n",
        "\n",
        "    return model, tokenizer"
      ],
      "metadata": {
        "id": "A1-EhMGTZRHl",
        "execution": {
          "iopub.status.busy": "2024-12-20T11:26:01.549314Z",
          "iopub.execute_input": "2024-12-20T11:26:01.550025Z",
          "iopub.status.idle": "2024-12-20T11:26:01.557279Z",
          "shell.execute_reply.started": "2024-12-20T11:26:01.549988Z",
          "shell.execute_reply": "2024-12-20T11:26:01.556372Z"
        },
        "trusted": true
      },
      "outputs": [],
      "execution_count": null
    },
    {
      "cell_type": "markdown",
      "source": [
        "# Execution configuration"
      ],
      "metadata": {
        "id": "ul4I7Vc0-sEv"
      }
    },
    {
      "cell_type": "code",
      "source": [
        "#model_checkpoint = 'bert-base-uncased'\n",
        "\n",
        "#model_checkpoint = 'dbmdz/bert-base-italian-xxl-cased' # https://huggingface.co/dbmdz/bert-base-italian-xxl-cased\n",
        "\n",
        "model_checkpoint = \"dhfbk/gulbert-ft-ita\"\n",
        "model_checkpoint = \"dbmdz/bert-base-italian-xxl-uncased\"\n",
        "model_checkpoint = \"dlicari/Italian-Legal-BERT\" # https://huggingface.co/dlicari/Italian-Legal-BERT\n",
        "False\n",
        "#parameters\n",
        "\n",
        "lr = 5e-5\n",
        "\n",
        "batch_size = 32\n",
        "\n",
        "scheme = True # boolean used to distinguish between the AC and SC tasks\n",
        "\n",
        "epochs = 6\n",
        "\n",
        "USE_CUDA = True\n",
        "\n",
        "INCLUDE_PREVIOUS=True\n",
        "\n",
        "ABBREVIATION_AUGMENTATION = False # whether to do data augmentation expanding abbreviations\n",
        "\n",
        "WEIGHTED_SAMPLING=False"
      ],
      "metadata": {
        "id": "5bpoH-s8k6HD",
        "execution": {
          "iopub.status.busy": "2024-12-20T11:27:54.848069Z",
          "iopub.execute_input": "2024-12-20T11:27:54.849001Z",
          "iopub.status.idle": "2024-12-20T11:27:54.853692Z",
          "shell.execute_reply.started": "2024-12-20T11:27:54.848965Z",
          "shell.execute_reply": "2024-12-20T11:27:54.852831Z"
        },
        "trusted": true
      },
      "outputs": [],
      "execution_count": null
    },
    {
      "cell_type": "code",
      "source": [
        "df_sc_final"
      ],
      "metadata": {
        "execution": {
          "iopub.status.busy": "2024-12-20T11:27:57.507257Z",
          "iopub.execute_input": "2024-12-20T11:27:57.507617Z",
          "iopub.status.idle": "2024-12-20T11:27:57.528112Z",
          "shell.execute_reply.started": "2024-12-20T11:27:57.507563Z",
          "shell.execute_reply": "2024-12-20T11:27:57.527365Z"
        },
        "trusted": true,
        "id": "XkhT4GJN5Gso",
        "outputId": "16400f46-331d-4fdb-81b7-7dacca24ae7b"
      },
      "outputs": [
        {
          "execution_count": 74,
          "output_type": "execute_result",
          "data": {
            "text/plain": "                             Document  Name   Id Chain Num  \\\n0     2013_40_VAT_OPAM_2_REM_MB_PS_AN  prem   A2     A   2   \n1     2013_40_VAT_OPAM_2_REM_MB_PS_AN  prem   A3     A   3   \n2       2018_847_VAT_OP_2_-1_MB_AF_AN  prem   A1     A   1   \n3       2018_847_VAT_OP_2_-1_MB_AF_AN  prem   A2     A   2   \n4       2018_847_VAT_OP_2_-1_MB_AF_AN  prem   A3     A   3   \n...                               ...   ...  ...   ...  ..   \n1282     2021_6075_VAT_OPAM_2_1_PS_AN  prem  C15     C  15   \n1283     2021_6075_VAT_OPAM_2_1_PS_AN  prem  C16     C  16   \n1284     2021_6075_VAT_OPAM_2_1_PS_AN  prem  C17     C  17   \n1285     2021_6075_VAT_OPAM_2_1_PS_AN  prem  C18     C  18   \n1286     2021_6075_VAT_OPAM_2_1_PS_AN  prem  C19     C  19   \n\n                                                   Text Type       SUP  SFF  \\\n0     Ai sensi dell'art. 14 del d.lgs.546/92, se l'o...    L       NaN  NaN   \n1     Se il ricorso non è stato proposto da o nei co...    L       NaN  NaN   \n2     Secondo condivisa e costante giurisprudenza (C...    L       NaN  NaN   \n3     Tuttavia, nel caso qui in esame, la Comm/ne no...    L  [A3, A4]  NaN   \n4     A tal proposito si ricorda che la Corte cost. ...    L       NaN  NaN   \n...                                                 ...  ...       ...  ...   \n1282  Sotto questo profilo i Compro Oro sono sottopo...    L       NaN  NaN   \n1283  Tale comunicazione ha luogo quando i destinata...    L       NaN  NaN   \n1284  Il Ministro dell'interno, con decreto del 17 f...    L       NaN  NaN   \n1285  Tra i soggetti destinatari del decreto sono ri...    L       NaN  NaN   \n1286  In conclusione, per quanto fin qui esposto, i ...    L            NaN   \n\n      ATT  ...                                           Previous     Scheme2  \\\n0     NaN  ...   Ai sensi dell'art. 14 del d.lgs.546/92, se l'...        Rule   \n1     NaN  ...   Se il ricorso non è stato\\n    proposto da o ...        Itpr   \n2     NaN  ...  Secondo condivisa e costante giurisprudenza (C...        Rule   \n3     NaN  ...  Tuttavia, nel caso qui in esame, la Comm/ne no...        Itpr   \n4     NaN  ...  A tal proposito si ricorda che la Corte cost. ...        Prec   \n...   ...  ...                                                ...         ...   \n1282  NaN  ...  Sotto questo profilo i Compro Oro sono sottopo...        Rule   \n1283  NaN  ...  Tale comunicazione ha luogo quando i destinata...        Rule   \n1284  NaN  ...  Il Ministro dell'interno, con decreto del 17 f...        Rule   \n1285  NaN  ...  Tra i soggetti destinatari del decreto sono ri...  Class,Rule   \n1286  NaN  ...  In conclusione, per quanto fin qui esposto, i ...       Class   \n\n     Aut Class Itpr Prec  Princ  Rule  Syst  Tele  \n0      0     0    0    0      0     1     0     0  \n1      0     0    1    0      0     0     0     0  \n2      0     0    0    0      0     1     0     0  \n3      0     0    1    0      0     0     0     0  \n4      0     0    0    1      0     0     0     0  \n...   ..   ...  ...  ...    ...   ...   ...   ...  \n1282   0     0    0    0      0     1     0     0  \n1283   0     0    0    0      0     1     0     0  \n1284   0     0    0    0      0     1     0     0  \n1285   0     1    0    0      0     1     0     0  \n1286   0     1    0    0      0     0     0     0  \n\n[1287 rows x 24 columns]",
            "text/html": "<div>\n<style scoped>\n    .dataframe tbody tr th:only-of-type {\n        vertical-align: middle;\n    }\n\n    .dataframe tbody tr th {\n        vertical-align: top;\n    }\n\n    .dataframe thead th {\n        text-align: right;\n    }\n</style>\n<table border=\"1\" class=\"dataframe\">\n  <thead>\n    <tr style=\"text-align: right;\">\n      <th></th>\n      <th>Document</th>\n      <th>Name</th>\n      <th>Id</th>\n      <th>Chain</th>\n      <th>Num</th>\n      <th>Text</th>\n      <th>Type</th>\n      <th>SUP</th>\n      <th>SFF</th>\n      <th>ATT</th>\n      <th>...</th>\n      <th>Previous</th>\n      <th>Scheme2</th>\n      <th>Aut</th>\n      <th>Class</th>\n      <th>Itpr</th>\n      <th>Prec</th>\n      <th>Princ</th>\n      <th>Rule</th>\n      <th>Syst</th>\n      <th>Tele</th>\n    </tr>\n  </thead>\n  <tbody>\n    <tr>\n      <th>0</th>\n      <td>2013_40_VAT_OPAM_2_REM_MB_PS_AN</td>\n      <td>prem</td>\n      <td>A2</td>\n      <td>A</td>\n      <td>2</td>\n      <td>Ai sensi dell'art. 14 del d.lgs.546/92, se l'o...</td>\n      <td>L</td>\n      <td>NaN</td>\n      <td>NaN</td>\n      <td>NaN</td>\n      <td>...</td>\n      <td>Ai sensi dell'art. 14 del d.lgs.546/92, se l'...</td>\n      <td>Rule</td>\n      <td>0</td>\n      <td>0</td>\n      <td>0</td>\n      <td>0</td>\n      <td>0</td>\n      <td>1</td>\n      <td>0</td>\n      <td>0</td>\n    </tr>\n    <tr>\n      <th>1</th>\n      <td>2013_40_VAT_OPAM_2_REM_MB_PS_AN</td>\n      <td>prem</td>\n      <td>A3</td>\n      <td>A</td>\n      <td>3</td>\n      <td>Se il ricorso non è stato proposto da o nei co...</td>\n      <td>L</td>\n      <td>NaN</td>\n      <td>NaN</td>\n      <td>NaN</td>\n      <td>...</td>\n      <td>Se il ricorso non è stato\\n    proposto da o ...</td>\n      <td>Itpr</td>\n      <td>0</td>\n      <td>0</td>\n      <td>1</td>\n      <td>0</td>\n      <td>0</td>\n      <td>0</td>\n      <td>0</td>\n      <td>0</td>\n    </tr>\n    <tr>\n      <th>2</th>\n      <td>2018_847_VAT_OP_2_-1_MB_AF_AN</td>\n      <td>prem</td>\n      <td>A1</td>\n      <td>A</td>\n      <td>1</td>\n      <td>Secondo condivisa e costante giurisprudenza (C...</td>\n      <td>L</td>\n      <td>NaN</td>\n      <td>NaN</td>\n      <td>NaN</td>\n      <td>...</td>\n      <td>Secondo condivisa e costante giurisprudenza (C...</td>\n      <td>Rule</td>\n      <td>0</td>\n      <td>0</td>\n      <td>0</td>\n      <td>0</td>\n      <td>0</td>\n      <td>1</td>\n      <td>0</td>\n      <td>0</td>\n    </tr>\n    <tr>\n      <th>3</th>\n      <td>2018_847_VAT_OP_2_-1_MB_AF_AN</td>\n      <td>prem</td>\n      <td>A2</td>\n      <td>A</td>\n      <td>2</td>\n      <td>Tuttavia, nel caso qui in esame, la Comm/ne no...</td>\n      <td>L</td>\n      <td>[A3, A4]</td>\n      <td>NaN</td>\n      <td>NaN</td>\n      <td>...</td>\n      <td>Tuttavia, nel caso qui in esame, la Comm/ne no...</td>\n      <td>Itpr</td>\n      <td>0</td>\n      <td>0</td>\n      <td>1</td>\n      <td>0</td>\n      <td>0</td>\n      <td>0</td>\n      <td>0</td>\n      <td>0</td>\n    </tr>\n    <tr>\n      <th>4</th>\n      <td>2018_847_VAT_OP_2_-1_MB_AF_AN</td>\n      <td>prem</td>\n      <td>A3</td>\n      <td>A</td>\n      <td>3</td>\n      <td>A tal proposito si ricorda che la Corte cost. ...</td>\n      <td>L</td>\n      <td>NaN</td>\n      <td>NaN</td>\n      <td>NaN</td>\n      <td>...</td>\n      <td>A tal proposito si ricorda che la Corte cost. ...</td>\n      <td>Prec</td>\n      <td>0</td>\n      <td>0</td>\n      <td>0</td>\n      <td>1</td>\n      <td>0</td>\n      <td>0</td>\n      <td>0</td>\n      <td>0</td>\n    </tr>\n    <tr>\n      <th>...</th>\n      <td>...</td>\n      <td>...</td>\n      <td>...</td>\n      <td>...</td>\n      <td>...</td>\n      <td>...</td>\n      <td>...</td>\n      <td>...</td>\n      <td>...</td>\n      <td>...</td>\n      <td>...</td>\n      <td>...</td>\n      <td>...</td>\n      <td>...</td>\n      <td>...</td>\n      <td>...</td>\n      <td>...</td>\n      <td>...</td>\n      <td>...</td>\n      <td>...</td>\n      <td>...</td>\n    </tr>\n    <tr>\n      <th>1282</th>\n      <td>2021_6075_VAT_OPAM_2_1_PS_AN</td>\n      <td>prem</td>\n      <td>C15</td>\n      <td>C</td>\n      <td>15</td>\n      <td>Sotto questo profilo i Compro Oro sono sottopo...</td>\n      <td>L</td>\n      <td>NaN</td>\n      <td>NaN</td>\n      <td>NaN</td>\n      <td>...</td>\n      <td>Sotto questo profilo i Compro Oro sono sottopo...</td>\n      <td>Rule</td>\n      <td>0</td>\n      <td>0</td>\n      <td>0</td>\n      <td>0</td>\n      <td>0</td>\n      <td>1</td>\n      <td>0</td>\n      <td>0</td>\n    </tr>\n    <tr>\n      <th>1283</th>\n      <td>2021_6075_VAT_OPAM_2_1_PS_AN</td>\n      <td>prem</td>\n      <td>C16</td>\n      <td>C</td>\n      <td>16</td>\n      <td>Tale comunicazione ha luogo quando i destinata...</td>\n      <td>L</td>\n      <td>NaN</td>\n      <td>NaN</td>\n      <td>NaN</td>\n      <td>...</td>\n      <td>Tale comunicazione ha luogo quando i destinata...</td>\n      <td>Rule</td>\n      <td>0</td>\n      <td>0</td>\n      <td>0</td>\n      <td>0</td>\n      <td>0</td>\n      <td>1</td>\n      <td>0</td>\n      <td>0</td>\n    </tr>\n    <tr>\n      <th>1284</th>\n      <td>2021_6075_VAT_OPAM_2_1_PS_AN</td>\n      <td>prem</td>\n      <td>C17</td>\n      <td>C</td>\n      <td>17</td>\n      <td>Il Ministro dell'interno, con decreto del 17 f...</td>\n      <td>L</td>\n      <td>NaN</td>\n      <td>NaN</td>\n      <td>NaN</td>\n      <td>...</td>\n      <td>Il Ministro dell'interno, con decreto del 17 f...</td>\n      <td>Rule</td>\n      <td>0</td>\n      <td>0</td>\n      <td>0</td>\n      <td>0</td>\n      <td>0</td>\n      <td>1</td>\n      <td>0</td>\n      <td>0</td>\n    </tr>\n    <tr>\n      <th>1285</th>\n      <td>2021_6075_VAT_OPAM_2_1_PS_AN</td>\n      <td>prem</td>\n      <td>C18</td>\n      <td>C</td>\n      <td>18</td>\n      <td>Tra i soggetti destinatari del decreto sono ri...</td>\n      <td>L</td>\n      <td>NaN</td>\n      <td>NaN</td>\n      <td>NaN</td>\n      <td>...</td>\n      <td>Tra i soggetti destinatari del decreto sono ri...</td>\n      <td>Class,Rule</td>\n      <td>0</td>\n      <td>1</td>\n      <td>0</td>\n      <td>0</td>\n      <td>0</td>\n      <td>1</td>\n      <td>0</td>\n      <td>0</td>\n    </tr>\n    <tr>\n      <th>1286</th>\n      <td>2021_6075_VAT_OPAM_2_1_PS_AN</td>\n      <td>prem</td>\n      <td>C19</td>\n      <td>C</td>\n      <td>19</td>\n      <td>In conclusione, per quanto fin qui esposto, i ...</td>\n      <td>L</td>\n      <td></td>\n      <td>NaN</td>\n      <td>NaN</td>\n      <td>...</td>\n      <td>In conclusione, per quanto fin qui esposto, i ...</td>\n      <td>Class</td>\n      <td>0</td>\n      <td>1</td>\n      <td>0</td>\n      <td>0</td>\n      <td>0</td>\n      <td>0</td>\n      <td>0</td>\n      <td>0</td>\n    </tr>\n  </tbody>\n</table>\n<p>1287 rows × 24 columns</p>\n</div>"
          },
          "metadata": {}
        }
      ],
      "execution_count": null
    },
    {
      "cell_type": "code",
      "source": [
        "#split dataset into training, validation and test sets\n",
        "\n",
        "df = df_sc_final if scheme else df_ac\n",
        "\n",
        "if scheme:\n",
        "    df_train, df_val, df_test = iterative_split(df_sc_final,df_sc_labels)\n",
        "else:\n",
        "    df_train, df_val, df_test = split_dataset(df)\n",
        "df_train"
      ],
      "metadata": {
        "colab": {
          "base_uri": "https://localhost:8080/"
        },
        "id": "hwYgr0Ddk6HF",
        "outputId": "bc950068-2b00-400c-991a-216b78072d04",
        "execution": {
          "iopub.status.busy": "2024-12-20T11:27:58.056853Z",
          "iopub.execute_input": "2024-12-20T11:27:58.057113Z",
          "iopub.status.idle": "2024-12-20T11:27:58.112519Z",
          "shell.execute_reply.started": "2024-12-20T11:27:58.057087Z",
          "shell.execute_reply": "2024-12-20T11:27:58.111712Z"
        },
        "trusted": true
      },
      "outputs": [
        {
          "name": "stdout",
          "text": "(878, 1) (253, 1) (156, 1)\n",
          "output_type": "stream"
        },
        {
          "execution_count": 75,
          "output_type": "execute_result",
          "data": {
            "text/plain": "                             Document  Name   Id Chain Num  \\\n0     2013_40_VAT_OPAM_2_REM_MB_PS_AN  prem   A2     A   2   \n3       2018_847_VAT_OP_2_-1_MB_AF_AN  prem   A2     A   2   \n10      2021_434_VAT_OP_2_-1_AF_AF_AN  prem   B3     B   3   \n14      2021_434_VAT_OP_2_-1_AF_AF_AN  prem   D3     D   3   \n15      2021_434_VAT_OP_2_-1_AF_AF_AN  prem   D4     D   4   \n...                               ...   ...  ...   ...  ..   \n1282     2021_6075_VAT_OPAM_2_1_PS_AN  prem  C15     C  15   \n1283     2021_6075_VAT_OPAM_2_1_PS_AN  prem  C16     C  16   \n1284     2021_6075_VAT_OPAM_2_1_PS_AN  prem  C17     C  17   \n1285     2021_6075_VAT_OPAM_2_1_PS_AN  prem  C18     C  18   \n1286     2021_6075_VAT_OPAM_2_1_PS_AN  prem  C19     C  19   \n\n                                                   Text    Type       SUP  \\\n0     Ai sensi dell'art. 14 del d.lgs.546/92, se l'o...       L       NaN   \n3     Tuttavia, nel caso qui in esame, la Comm/ne no...       L  [A3, A4]   \n10    Secondo l'Amministrazione Finanziaria il C. O....  [F, L]       NaN   \n14    La detta norma recepisce nell' ordinamento ita...       L       NaN   \n15    Nella interpretazione della detta normativa qu...       L       D10   \n...                                                 ...     ...       ...   \n1282  Sotto questo profilo i Compro Oro sono sottopo...       L       NaN   \n1283  Tale comunicazione ha luogo quando i destinata...       L       NaN   \n1284  Il Ministro dell'interno, con decreto del 17 f...       L       NaN   \n1285  Tra i soggetti destinatari del decreto sono ri...       L       NaN   \n1286  In conclusione, per quanto fin qui esposto, i ...       L             \n\n      SFF  ATT  ...                                           Previous  \\\n0     NaN  NaN  ...   Ai sensi dell'art. 14 del d.lgs.546/92, se l'...   \n3     NaN  NaN  ...  Tuttavia, nel caso qui in esame, la Comm/ne no...   \n10    NaN  NaN  ...  Secondo l'Amministrazione Finanziaria il C. O....   \n14    NaN  NaN  ...  La detta norma recepisce nell' ordinamento ita...   \n15    NaN  NaN  ...  Nella interpretazione della detta normativa qu...   \n...   ...  ...  ...                                                ...   \n1282  NaN  NaN  ...  Sotto questo profilo i Compro Oro sono sottopo...   \n1283  NaN  NaN  ...  Tale comunicazione ha luogo quando i destinata...   \n1284  NaN  NaN  ...  Il Ministro dell'interno, con decreto del 17 f...   \n1285  NaN  NaN  ...  Tra i soggetti destinatari del decreto sono ri...   \n1286  NaN  NaN  ...  In conclusione, per quanto fin qui esposto, i ...   \n\n         Scheme2 Aut Class Itpr Prec  Princ  Rule  Syst  Tele  \n0           Rule   0     0    0    0      0     1     0     0  \n3           Itpr   0     0    1    0      0     0     0     0  \n10          Rule   0     0    0    0      0     1     0     0  \n14          Rule   0     0    0    0      0     1     0     0  \n15     Itpr,Prec   0     0    1    1      0     0     0     0  \n...          ...  ..   ...  ...  ...    ...   ...   ...   ...  \n1282        Rule   0     0    0    0      0     1     0     0  \n1283        Rule   0     0    0    0      0     1     0     0  \n1284        Rule   0     0    0    0      0     1     0     0  \n1285  Class,Rule   0     1    0    0      0     1     0     0  \n1286       Class   0     1    0    0      0     0     0     0  \n\n[878 rows x 24 columns]",
            "text/html": "<div>\n<style scoped>\n    .dataframe tbody tr th:only-of-type {\n        vertical-align: middle;\n    }\n\n    .dataframe tbody tr th {\n        vertical-align: top;\n    }\n\n    .dataframe thead th {\n        text-align: right;\n    }\n</style>\n<table border=\"1\" class=\"dataframe\">\n  <thead>\n    <tr style=\"text-align: right;\">\n      <th></th>\n      <th>Document</th>\n      <th>Name</th>\n      <th>Id</th>\n      <th>Chain</th>\n      <th>Num</th>\n      <th>Text</th>\n      <th>Type</th>\n      <th>SUP</th>\n      <th>SFF</th>\n      <th>ATT</th>\n      <th>...</th>\n      <th>Previous</th>\n      <th>Scheme2</th>\n      <th>Aut</th>\n      <th>Class</th>\n      <th>Itpr</th>\n      <th>Prec</th>\n      <th>Princ</th>\n      <th>Rule</th>\n      <th>Syst</th>\n      <th>Tele</th>\n    </tr>\n  </thead>\n  <tbody>\n    <tr>\n      <th>0</th>\n      <td>2013_40_VAT_OPAM_2_REM_MB_PS_AN</td>\n      <td>prem</td>\n      <td>A2</td>\n      <td>A</td>\n      <td>2</td>\n      <td>Ai sensi dell'art. 14 del d.lgs.546/92, se l'o...</td>\n      <td>L</td>\n      <td>NaN</td>\n      <td>NaN</td>\n      <td>NaN</td>\n      <td>...</td>\n      <td>Ai sensi dell'art. 14 del d.lgs.546/92, se l'...</td>\n      <td>Rule</td>\n      <td>0</td>\n      <td>0</td>\n      <td>0</td>\n      <td>0</td>\n      <td>0</td>\n      <td>1</td>\n      <td>0</td>\n      <td>0</td>\n    </tr>\n    <tr>\n      <th>3</th>\n      <td>2018_847_VAT_OP_2_-1_MB_AF_AN</td>\n      <td>prem</td>\n      <td>A2</td>\n      <td>A</td>\n      <td>2</td>\n      <td>Tuttavia, nel caso qui in esame, la Comm/ne no...</td>\n      <td>L</td>\n      <td>[A3, A4]</td>\n      <td>NaN</td>\n      <td>NaN</td>\n      <td>...</td>\n      <td>Tuttavia, nel caso qui in esame, la Comm/ne no...</td>\n      <td>Itpr</td>\n      <td>0</td>\n      <td>0</td>\n      <td>1</td>\n      <td>0</td>\n      <td>0</td>\n      <td>0</td>\n      <td>0</td>\n      <td>0</td>\n    </tr>\n    <tr>\n      <th>10</th>\n      <td>2021_434_VAT_OP_2_-1_AF_AF_AN</td>\n      <td>prem</td>\n      <td>B3</td>\n      <td>B</td>\n      <td>3</td>\n      <td>Secondo l'Amministrazione Finanziaria il C. O....</td>\n      <td>[F, L]</td>\n      <td>NaN</td>\n      <td>NaN</td>\n      <td>NaN</td>\n      <td>...</td>\n      <td>Secondo l'Amministrazione Finanziaria il C. O....</td>\n      <td>Rule</td>\n      <td>0</td>\n      <td>0</td>\n      <td>0</td>\n      <td>0</td>\n      <td>0</td>\n      <td>1</td>\n      <td>0</td>\n      <td>0</td>\n    </tr>\n    <tr>\n      <th>14</th>\n      <td>2021_434_VAT_OP_2_-1_AF_AF_AN</td>\n      <td>prem</td>\n      <td>D3</td>\n      <td>D</td>\n      <td>3</td>\n      <td>La detta norma recepisce nell' ordinamento ita...</td>\n      <td>L</td>\n      <td>NaN</td>\n      <td>NaN</td>\n      <td>NaN</td>\n      <td>...</td>\n      <td>La detta norma recepisce nell' ordinamento ita...</td>\n      <td>Rule</td>\n      <td>0</td>\n      <td>0</td>\n      <td>0</td>\n      <td>0</td>\n      <td>0</td>\n      <td>1</td>\n      <td>0</td>\n      <td>0</td>\n    </tr>\n    <tr>\n      <th>15</th>\n      <td>2021_434_VAT_OP_2_-1_AF_AF_AN</td>\n      <td>prem</td>\n      <td>D4</td>\n      <td>D</td>\n      <td>4</td>\n      <td>Nella interpretazione della detta normativa qu...</td>\n      <td>L</td>\n      <td>D10</td>\n      <td>NaN</td>\n      <td>NaN</td>\n      <td>...</td>\n      <td>Nella interpretazione della detta normativa qu...</td>\n      <td>Itpr,Prec</td>\n      <td>0</td>\n      <td>0</td>\n      <td>1</td>\n      <td>1</td>\n      <td>0</td>\n      <td>0</td>\n      <td>0</td>\n      <td>0</td>\n    </tr>\n    <tr>\n      <th>...</th>\n      <td>...</td>\n      <td>...</td>\n      <td>...</td>\n      <td>...</td>\n      <td>...</td>\n      <td>...</td>\n      <td>...</td>\n      <td>...</td>\n      <td>...</td>\n      <td>...</td>\n      <td>...</td>\n      <td>...</td>\n      <td>...</td>\n      <td>...</td>\n      <td>...</td>\n      <td>...</td>\n      <td>...</td>\n      <td>...</td>\n      <td>...</td>\n      <td>...</td>\n      <td>...</td>\n    </tr>\n    <tr>\n      <th>1282</th>\n      <td>2021_6075_VAT_OPAM_2_1_PS_AN</td>\n      <td>prem</td>\n      <td>C15</td>\n      <td>C</td>\n      <td>15</td>\n      <td>Sotto questo profilo i Compro Oro sono sottopo...</td>\n      <td>L</td>\n      <td>NaN</td>\n      <td>NaN</td>\n      <td>NaN</td>\n      <td>...</td>\n      <td>Sotto questo profilo i Compro Oro sono sottopo...</td>\n      <td>Rule</td>\n      <td>0</td>\n      <td>0</td>\n      <td>0</td>\n      <td>0</td>\n      <td>0</td>\n      <td>1</td>\n      <td>0</td>\n      <td>0</td>\n    </tr>\n    <tr>\n      <th>1283</th>\n      <td>2021_6075_VAT_OPAM_2_1_PS_AN</td>\n      <td>prem</td>\n      <td>C16</td>\n      <td>C</td>\n      <td>16</td>\n      <td>Tale comunicazione ha luogo quando i destinata...</td>\n      <td>L</td>\n      <td>NaN</td>\n      <td>NaN</td>\n      <td>NaN</td>\n      <td>...</td>\n      <td>Tale comunicazione ha luogo quando i destinata...</td>\n      <td>Rule</td>\n      <td>0</td>\n      <td>0</td>\n      <td>0</td>\n      <td>0</td>\n      <td>0</td>\n      <td>1</td>\n      <td>0</td>\n      <td>0</td>\n    </tr>\n    <tr>\n      <th>1284</th>\n      <td>2021_6075_VAT_OPAM_2_1_PS_AN</td>\n      <td>prem</td>\n      <td>C17</td>\n      <td>C</td>\n      <td>17</td>\n      <td>Il Ministro dell'interno, con decreto del 17 f...</td>\n      <td>L</td>\n      <td>NaN</td>\n      <td>NaN</td>\n      <td>NaN</td>\n      <td>...</td>\n      <td>Il Ministro dell'interno, con decreto del 17 f...</td>\n      <td>Rule</td>\n      <td>0</td>\n      <td>0</td>\n      <td>0</td>\n      <td>0</td>\n      <td>0</td>\n      <td>1</td>\n      <td>0</td>\n      <td>0</td>\n    </tr>\n    <tr>\n      <th>1285</th>\n      <td>2021_6075_VAT_OPAM_2_1_PS_AN</td>\n      <td>prem</td>\n      <td>C18</td>\n      <td>C</td>\n      <td>18</td>\n      <td>Tra i soggetti destinatari del decreto sono ri...</td>\n      <td>L</td>\n      <td>NaN</td>\n      <td>NaN</td>\n      <td>NaN</td>\n      <td>...</td>\n      <td>Tra i soggetti destinatari del decreto sono ri...</td>\n      <td>Class,Rule</td>\n      <td>0</td>\n      <td>1</td>\n      <td>0</td>\n      <td>0</td>\n      <td>0</td>\n      <td>1</td>\n      <td>0</td>\n      <td>0</td>\n    </tr>\n    <tr>\n      <th>1286</th>\n      <td>2021_6075_VAT_OPAM_2_1_PS_AN</td>\n      <td>prem</td>\n      <td>C19</td>\n      <td>C</td>\n      <td>19</td>\n      <td>In conclusione, per quanto fin qui esposto, i ...</td>\n      <td>L</td>\n      <td></td>\n      <td>NaN</td>\n      <td>NaN</td>\n      <td>...</td>\n      <td>In conclusione, per quanto fin qui esposto, i ...</td>\n      <td>Class</td>\n      <td>0</td>\n      <td>1</td>\n      <td>0</td>\n      <td>0</td>\n      <td>0</td>\n      <td>0</td>\n      <td>0</td>\n      <td>0</td>\n    </tr>\n  </tbody>\n</table>\n<p>878 rows × 24 columns</p>\n</div>"
          },
          "metadata": {}
        }
      ],
      "execution_count": null
    },
    {
      "cell_type": "code",
      "source": [
        "for x in df_train['Scheme']:\n",
        "    print()\n",
        "    break"
      ],
      "metadata": {
        "execution": {
          "iopub.status.busy": "2024-12-20T11:27:58.651914Z",
          "iopub.execute_input": "2024-12-20T11:27:58.652219Z",
          "iopub.status.idle": "2024-12-20T11:27:58.657034Z",
          "shell.execute_reply.started": "2024-12-20T11:27:58.65219Z",
          "shell.execute_reply": "2024-12-20T11:27:58.656049Z"
        },
        "trusted": true,
        "id": "d96ZMZyC5Gso",
        "outputId": "ba09b88d-c36a-4340-aa4b-2042fabcbccb"
      },
      "outputs": [
        {
          "name": "stdout",
          "text": "\n",
          "output_type": "stream"
        }
      ],
      "execution_count": null
    },
    {
      "cell_type": "code",
      "source": [
        "abbr_file_path = ('/kaggle/input' if os.environ.get('KAGGLE_KERNEL_RUN_TYPE','') else '.')+\"/abbreviazioni.tsv\"\n",
        "\n",
        "if ABBREVIATION_AUGMENTATION and os.path.isfile(abbr_file_path):\n",
        "\n",
        "    print(f\"Augmenting {len(df_train)} training annotations with abbreviations\")\n",
        "\n",
        "    abbreviations_df = pd.read_csv(abbr_file_path, sep='\\t', header=None, names=['Meaning','Abbreviation'])\n",
        "\n",
        "    print(f\"Loaded {len(abbreviations_df)} abbreviations\")\n",
        "\n",
        "    long_df = df_train.copy()\n",
        "\n",
        "    for i, abbr_row in abbreviations_df.iterrows():\n",
        "\n",
        "        abbr_regex = \"(?i)\\\\b\"+(abbr_row['Abbreviation'].replace('.','\\.')) # https://stackoverflow.com/a/54464222/2347196\n",
        "\n",
        "        long_df[\"Text\"] = long_df[\"Text\"].str.replace(abbr_regex, abbr_row['Meaning'], regex=True)\n",
        "\n",
        "        long_df[\"Previous\"] = long_df[\"Previous\"].str.replace(abbr_regex, abbr_row['Meaning'], regex=True)\n",
        "\n",
        "\n",
        "\n",
        "    df_train = pd.concat([df_train, long_df], ignore_index=True)\n",
        "\n",
        "    print(f\"{len(df_train)} annotations are now available\")\n",
        "\n",
        "else:\n",
        "\n",
        "    print(\"Skipping abbreviation data augmentation\")"
      ],
      "metadata": {
        "colab": {
          "base_uri": "https://localhost:8080/"
        },
        "id": "96ByuJIBZRHn",
        "outputId": "1a189414-ffb3-4d5a-a1b2-fd552f855b86",
        "execution": {
          "iopub.status.busy": "2024-12-20T11:27:59.252909Z",
          "iopub.execute_input": "2024-12-20T11:27:59.253537Z",
          "iopub.status.idle": "2024-12-20T11:27:59.25997Z",
          "shell.execute_reply.started": "2024-12-20T11:27:59.253506Z",
          "shell.execute_reply": "2024-12-20T11:27:59.259064Z"
        },
        "trusted": true
      },
      "outputs": [
        {
          "name": "stdout",
          "text": "Skipping abbreviation data augmentation\n",
          "output_type": "stream"
        }
      ],
      "execution_count": null
    },
    {
      "cell_type": "code",
      "source": [
        "if not scheme:\n",
        "\n",
        "    num_labels = len(df_train['label'].unique())\n",
        "\n",
        "    train_labels = df_train['label']\n",
        "\n",
        "    val_labels = df_val['label']\n",
        "\n",
        "    test_labels = df_test['label']\n",
        "\n",
        "else:\n",
        "\n",
        "    print(\"Scheme task\")\n",
        "\n",
        "    train_labels = df_train[sc_classes]\n",
        "\n",
        "    val_labels = df_val[sc_classes]\n",
        "\n",
        "    test_labels = df_test[sc_classes]\n",
        "\n",
        "    num_labels = train_labels.shape[1]\n"
      ],
      "metadata": {
        "colab": {
          "base_uri": "https://localhost:8080/"
        },
        "id": "fuNqlGtSZRHo",
        "outputId": "3da53343-fda9-4546-b678-1da09c804418",
        "execution": {
          "iopub.status.busy": "2024-12-20T11:27:59.80728Z",
          "iopub.execute_input": "2024-12-20T11:27:59.808063Z",
          "iopub.status.idle": "2024-12-20T11:27:59.814234Z",
          "shell.execute_reply.started": "2024-12-20T11:27:59.808032Z",
          "shell.execute_reply": "2024-12-20T11:27:59.813387Z"
        },
        "trusted": true
      },
      "outputs": [
        {
          "name": "stdout",
          "text": "Scheme task\n",
          "output_type": "stream"
        }
      ],
      "execution_count": null
    },
    {
      "cell_type": "code",
      "source": [
        "train_labels\n"
      ],
      "metadata": {
        "trusted": true,
        "execution": {
          "iopub.status.busy": "2024-12-20T11:28:02.06157Z",
          "iopub.execute_input": "2024-12-20T11:28:02.061905Z",
          "iopub.status.idle": "2024-12-20T11:28:02.072257Z",
          "shell.execute_reply.started": "2024-12-20T11:28:02.061877Z",
          "shell.execute_reply": "2024-12-20T11:28:02.071402Z"
        },
        "id": "NOoBRkAX5Gsp",
        "outputId": "3e7d8174-313a-4880-994e-3ea7dd271dd5"
      },
      "outputs": [
        {
          "execution_count": 79,
          "output_type": "execute_result",
          "data": {
            "text/plain": "      Rule  Prec  Itpr  Princ  Class  Aut  Syst  Tele\n0        1     0     0      0      0    0     0     0\n3        0     0     1      0      0    0     0     0\n10       1     0     0      0      0    0     0     0\n14       1     0     0      0      0    0     0     0\n15       0     1     1      0      0    0     0     0\n...    ...   ...   ...    ...    ...  ...   ...   ...\n1282     1     0     0      0      0    0     0     0\n1283     1     0     0      0      0    0     0     0\n1284     1     0     0      0      0    0     0     0\n1285     1     0     0      0      1    0     0     0\n1286     0     0     0      0      1    0     0     0\n\n[878 rows x 8 columns]",
            "text/html": "<div>\n<style scoped>\n    .dataframe tbody tr th:only-of-type {\n        vertical-align: middle;\n    }\n\n    .dataframe tbody tr th {\n        vertical-align: top;\n    }\n\n    .dataframe thead th {\n        text-align: right;\n    }\n</style>\n<table border=\"1\" class=\"dataframe\">\n  <thead>\n    <tr style=\"text-align: right;\">\n      <th></th>\n      <th>Rule</th>\n      <th>Prec</th>\n      <th>Itpr</th>\n      <th>Princ</th>\n      <th>Class</th>\n      <th>Aut</th>\n      <th>Syst</th>\n      <th>Tele</th>\n    </tr>\n  </thead>\n  <tbody>\n    <tr>\n      <th>0</th>\n      <td>1</td>\n      <td>0</td>\n      <td>0</td>\n      <td>0</td>\n      <td>0</td>\n      <td>0</td>\n      <td>0</td>\n      <td>0</td>\n    </tr>\n    <tr>\n      <th>3</th>\n      <td>0</td>\n      <td>0</td>\n      <td>1</td>\n      <td>0</td>\n      <td>0</td>\n      <td>0</td>\n      <td>0</td>\n      <td>0</td>\n    </tr>\n    <tr>\n      <th>10</th>\n      <td>1</td>\n      <td>0</td>\n      <td>0</td>\n      <td>0</td>\n      <td>0</td>\n      <td>0</td>\n      <td>0</td>\n      <td>0</td>\n    </tr>\n    <tr>\n      <th>14</th>\n      <td>1</td>\n      <td>0</td>\n      <td>0</td>\n      <td>0</td>\n      <td>0</td>\n      <td>0</td>\n      <td>0</td>\n      <td>0</td>\n    </tr>\n    <tr>\n      <th>15</th>\n      <td>0</td>\n      <td>1</td>\n      <td>1</td>\n      <td>0</td>\n      <td>0</td>\n      <td>0</td>\n      <td>0</td>\n      <td>0</td>\n    </tr>\n    <tr>\n      <th>...</th>\n      <td>...</td>\n      <td>...</td>\n      <td>...</td>\n      <td>...</td>\n      <td>...</td>\n      <td>...</td>\n      <td>...</td>\n      <td>...</td>\n    </tr>\n    <tr>\n      <th>1282</th>\n      <td>1</td>\n      <td>0</td>\n      <td>0</td>\n      <td>0</td>\n      <td>0</td>\n      <td>0</td>\n      <td>0</td>\n      <td>0</td>\n    </tr>\n    <tr>\n      <th>1283</th>\n      <td>1</td>\n      <td>0</td>\n      <td>0</td>\n      <td>0</td>\n      <td>0</td>\n      <td>0</td>\n      <td>0</td>\n      <td>0</td>\n    </tr>\n    <tr>\n      <th>1284</th>\n      <td>1</td>\n      <td>0</td>\n      <td>0</td>\n      <td>0</td>\n      <td>0</td>\n      <td>0</td>\n      <td>0</td>\n      <td>0</td>\n    </tr>\n    <tr>\n      <th>1285</th>\n      <td>1</td>\n      <td>0</td>\n      <td>0</td>\n      <td>0</td>\n      <td>1</td>\n      <td>0</td>\n      <td>0</td>\n      <td>0</td>\n    </tr>\n    <tr>\n      <th>1286</th>\n      <td>0</td>\n      <td>0</td>\n      <td>0</td>\n      <td>0</td>\n      <td>1</td>\n      <td>0</td>\n      <td>0</td>\n      <td>0</td>\n    </tr>\n  </tbody>\n</table>\n<p>878 rows × 8 columns</p>\n</div>"
          },
          "metadata": {}
        }
      ],
      "execution_count": null
    },
    {
      "cell_type": "markdown",
      "source": [
        "## Baseline: TF-IDF + SVM"
      ],
      "metadata": {
        "id": "FB0tSB6FZRHp"
      }
    },
    {
      "cell_type": "code",
      "source": [
        "import nltk\n",
        "\n",
        "nltk.download('stopwords')"
      ],
      "metadata": {
        "colab": {
          "base_uri": "https://localhost:8080/"
        },
        "id": "mQSheKKEFFbw",
        "outputId": "8d2e9051-2234-438e-e4be-c299f6386f65",
        "execution": {
          "iopub.status.busy": "2024-12-15T10:04:14.258973Z",
          "iopub.execute_input": "2024-12-15T10:04:14.259795Z",
          "iopub.status.idle": "2024-12-15T10:04:14.269991Z",
          "shell.execute_reply.started": "2024-12-15T10:04:14.259757Z",
          "shell.execute_reply": "2024-12-15T10:04:14.26906Z"
        },
        "trusted": true
      },
      "outputs": [
        {
          "name": "stdout",
          "text": "[nltk_data] Downloading package stopwords to /usr/share/nltk_data...\n[nltk_data]   Package stopwords is already up-to-date!\n",
          "output_type": "stream"
        },
        {
          "execution_count": 89,
          "output_type": "execute_result",
          "data": {
            "text/plain": "True"
          },
          "metadata": {}
        }
      ],
      "execution_count": null
    },
    {
      "cell_type": "code",
      "source": [
        "from sklearn.metrics import classification_report,f1_score\n",
        "\n",
        "\n",
        "\n",
        "#base_model, base_tokenizer = executeTfIdfSvm(\n",
        "\n",
        "for kernel in ['linear', 'poly', 'rbf', 'sigmoid']:\n",
        "\n",
        "    executeTfIdfSvm(\n",
        "\n",
        "        df_train,\n",
        "\n",
        "        df_test,\n",
        "\n",
        "        kernel = kernel,\n",
        "\n",
        "        scheme = scheme,\n",
        "\n",
        "        include_previous=INCLUDE_PREVIOUS,\n",
        "\n",
        "        weighted_sampling = WEIGHTED_SAMPLING\n",
        "\n",
        "    )"
      ],
      "metadata": {
        "colab": {
          "base_uri": "https://localhost:8080/"
        },
        "id": "NoSnj5bzZRHp",
        "outputId": "79707463-7c52-424e-e378-82464708f05c",
        "execution": {
          "iopub.status.busy": "2024-12-08T13:52:24.622143Z",
          "iopub.execute_input": "2024-12-08T13:52:24.622521Z",
          "iopub.status.idle": "2024-12-08T13:52:24.973615Z",
          "shell.execute_reply.started": "2024-12-08T13:52:24.62248Z",
          "shell.execute_reply": "2024-12-08T13:52:24.972396Z"
        },
        "trusted": true
      },
      "outputs": [
        {
          "traceback": [
            "\u001b[0;31m---------------------------------------------------------------------------\u001b[0m",
            "\u001b[0;31mTypeError\u001b[0m                                 Traceback (most recent call last)",
            "Cell \u001b[0;32mIn[82], line 9\u001b[0m\n\u001b[1;32m      5\u001b[0m \u001b[38;5;66;03m#base_model, base_tokenizer = executeTfIdfSvm(\u001b[39;00m\n\u001b[1;32m      7\u001b[0m \u001b[38;5;28;01mfor\u001b[39;00m kernel \u001b[38;5;129;01min\u001b[39;00m [\u001b[38;5;124m'\u001b[39m\u001b[38;5;124mlinear\u001b[39m\u001b[38;5;124m'\u001b[39m, \u001b[38;5;124m'\u001b[39m\u001b[38;5;124mpoly\u001b[39m\u001b[38;5;124m'\u001b[39m, \u001b[38;5;124m'\u001b[39m\u001b[38;5;124mrbf\u001b[39m\u001b[38;5;124m'\u001b[39m, \u001b[38;5;124m'\u001b[39m\u001b[38;5;124msigmoid\u001b[39m\u001b[38;5;124m'\u001b[39m]:\n\u001b[0;32m----> 9\u001b[0m     \u001b[43mexecuteTfIdfSvm\u001b[49m\u001b[43m(\u001b[49m\n\u001b[1;32m     10\u001b[0m \n\u001b[1;32m     11\u001b[0m \u001b[43m        \u001b[49m\u001b[43mdf_train\u001b[49m\u001b[43m,\u001b[49m\n\u001b[1;32m     12\u001b[0m \n\u001b[1;32m     13\u001b[0m \u001b[43m        \u001b[49m\u001b[43mdf_test\u001b[49m\u001b[43m,\u001b[49m\n\u001b[1;32m     14\u001b[0m \n\u001b[1;32m     15\u001b[0m \u001b[43m        \u001b[49m\u001b[43mkernel\u001b[49m\u001b[43m \u001b[49m\u001b[38;5;241;43m=\u001b[39;49m\u001b[43m \u001b[49m\u001b[43mkernel\u001b[49m\u001b[43m,\u001b[49m\n\u001b[1;32m     16\u001b[0m \n\u001b[1;32m     17\u001b[0m \u001b[43m        \u001b[49m\u001b[43mscheme\u001b[49m\u001b[43m \u001b[49m\u001b[38;5;241;43m=\u001b[39;49m\u001b[43m \u001b[49m\u001b[43mscheme\u001b[49m\u001b[43m,\u001b[49m\n\u001b[1;32m     18\u001b[0m \n\u001b[1;32m     19\u001b[0m \u001b[43m        \u001b[49m\u001b[43minclude_previous\u001b[49m\u001b[38;5;241;43m=\u001b[39;49m\u001b[43mINCLUDE_PREVIOUS\u001b[49m\u001b[43m,\u001b[49m\n\u001b[1;32m     20\u001b[0m \n\u001b[1;32m     21\u001b[0m \u001b[43m        \u001b[49m\u001b[43mweighted_sampling\u001b[49m\u001b[43m \u001b[49m\u001b[38;5;241;43m=\u001b[39;49m\u001b[43m \u001b[49m\u001b[43mWEIGHTED_SAMPLING\u001b[49m\n\u001b[1;32m     22\u001b[0m \n\u001b[1;32m     23\u001b[0m \u001b[43m    \u001b[49m\u001b[43m)\u001b[49m\n",
            "Cell \u001b[0;32mIn[73], line 55\u001b[0m, in \u001b[0;36mexecuteTfIdfSvm\u001b[0;34m(train_df, test_df, kernel, scheme, include_previous, weighted_sampling)\u001b[0m\n\u001b[1;32m     51\u001b[0m train_encodings \u001b[38;5;241m=\u001b[39m tokenizer\u001b[38;5;241m.\u001b[39mtransform(df_train)\n\u001b[1;32m     53\u001b[0m labels \u001b[38;5;241m=\u001b[39m train_df[\u001b[38;5;124m'\u001b[39m\u001b[38;5;124mScheme\u001b[39m\u001b[38;5;124m'\u001b[39m] \u001b[38;5;28;01mif\u001b[39;00m scheme \u001b[38;5;28;01melse\u001b[39;00m train_df[\u001b[38;5;124m'\u001b[39m\u001b[38;5;124mlabel\u001b[39m\u001b[38;5;124m'\u001b[39m]\n\u001b[0;32m---> 55\u001b[0m \u001b[43mmodel\u001b[49m\u001b[38;5;241;43m.\u001b[39;49m\u001b[43mfit\u001b[49m\u001b[43m(\u001b[49m\u001b[43mtrain_encodings\u001b[49m\u001b[43m,\u001b[49m\u001b[43m \u001b[49m\u001b[43mlabels\u001b[49m\u001b[43m,\u001b[49m\u001b[43m \u001b[49m\u001b[43msample_weight\u001b[49m\u001b[38;5;241;43m=\u001b[39;49m\u001b[43mdf_train_sample_weights\u001b[49m\u001b[43m)\u001b[49m\n\u001b[1;32m     59\u001b[0m \u001b[38;5;66;03m# Test model\u001b[39;00m\n\u001b[1;32m     61\u001b[0m test_encodings \u001b[38;5;241m=\u001b[39m tokenizer\u001b[38;5;241m.\u001b[39mtransform(test_df)\n",
            "File \u001b[0;32m/opt/conda/lib/python3.10/site-packages/sklearn/svm/_classes.py:271\u001b[0m, in \u001b[0;36mLinearSVC.fit\u001b[0;34m(self, X, y, sample_weight)\u001b[0m\n\u001b[1;32m    261\u001b[0m \u001b[38;5;28mself\u001b[39m\u001b[38;5;241m.\u001b[39m_validate_params()\n\u001b[1;32m    263\u001b[0m X, y \u001b[38;5;241m=\u001b[39m \u001b[38;5;28mself\u001b[39m\u001b[38;5;241m.\u001b[39m_validate_data(\n\u001b[1;32m    264\u001b[0m     X,\n\u001b[1;32m    265\u001b[0m     y,\n\u001b[0;32m   (...)\u001b[0m\n\u001b[1;32m    269\u001b[0m     accept_large_sparse\u001b[38;5;241m=\u001b[39m\u001b[38;5;28;01mFalse\u001b[39;00m,\n\u001b[1;32m    270\u001b[0m )\n\u001b[0;32m--> 271\u001b[0m \u001b[43mcheck_classification_targets\u001b[49m\u001b[43m(\u001b[49m\u001b[43my\u001b[49m\u001b[43m)\u001b[49m\n\u001b[1;32m    272\u001b[0m \u001b[38;5;28mself\u001b[39m\u001b[38;5;241m.\u001b[39mclasses_ \u001b[38;5;241m=\u001b[39m np\u001b[38;5;241m.\u001b[39munique(y)\n\u001b[1;32m    274\u001b[0m \u001b[38;5;28mself\u001b[39m\u001b[38;5;241m.\u001b[39mcoef_, \u001b[38;5;28mself\u001b[39m\u001b[38;5;241m.\u001b[39mintercept_, n_iter_ \u001b[38;5;241m=\u001b[39m _fit_liblinear(\n\u001b[1;32m    275\u001b[0m     X,\n\u001b[1;32m    276\u001b[0m     y,\n\u001b[0;32m   (...)\u001b[0m\n\u001b[1;32m    289\u001b[0m     sample_weight\u001b[38;5;241m=\u001b[39msample_weight,\n\u001b[1;32m    290\u001b[0m )\n",
            "File \u001b[0;32m/opt/conda/lib/python3.10/site-packages/sklearn/utils/multiclass.py:210\u001b[0m, in \u001b[0;36mcheck_classification_targets\u001b[0;34m(y)\u001b[0m\n\u001b[1;32m    198\u001b[0m \u001b[38;5;28;01mdef\u001b[39;00m \u001b[38;5;21mcheck_classification_targets\u001b[39m(y):\n\u001b[1;32m    199\u001b[0m \u001b[38;5;250m    \u001b[39m\u001b[38;5;124;03m\"\"\"Ensure that target y is of a non-regression type.\u001b[39;00m\n\u001b[1;32m    200\u001b[0m \n\u001b[1;32m    201\u001b[0m \u001b[38;5;124;03m    Only the following target types (as defined in type_of_target) are allowed:\u001b[39;00m\n\u001b[0;32m   (...)\u001b[0m\n\u001b[1;32m    208\u001b[0m \u001b[38;5;124;03m        Target values.\u001b[39;00m\n\u001b[1;32m    209\u001b[0m \u001b[38;5;124;03m    \"\"\"\u001b[39;00m\n\u001b[0;32m--> 210\u001b[0m     y_type \u001b[38;5;241m=\u001b[39m \u001b[43mtype_of_target\u001b[49m\u001b[43m(\u001b[49m\u001b[43my\u001b[49m\u001b[43m,\u001b[49m\u001b[43m \u001b[49m\u001b[43minput_name\u001b[49m\u001b[38;5;241;43m=\u001b[39;49m\u001b[38;5;124;43m\"\u001b[39;49m\u001b[38;5;124;43my\u001b[39;49m\u001b[38;5;124;43m\"\u001b[39;49m\u001b[43m)\u001b[49m\n\u001b[1;32m    211\u001b[0m     \u001b[38;5;28;01mif\u001b[39;00m y_type \u001b[38;5;129;01mnot\u001b[39;00m \u001b[38;5;129;01min\u001b[39;00m [\n\u001b[1;32m    212\u001b[0m         \u001b[38;5;124m\"\u001b[39m\u001b[38;5;124mbinary\u001b[39m\u001b[38;5;124m\"\u001b[39m,\n\u001b[1;32m    213\u001b[0m         \u001b[38;5;124m\"\u001b[39m\u001b[38;5;124mmulticlass\u001b[39m\u001b[38;5;124m\"\u001b[39m,\n\u001b[0;32m   (...)\u001b[0m\n\u001b[1;32m    216\u001b[0m         \u001b[38;5;124m\"\u001b[39m\u001b[38;5;124mmultilabel-sequences\u001b[39m\u001b[38;5;124m\"\u001b[39m,\n\u001b[1;32m    217\u001b[0m     ]:\n\u001b[1;32m    218\u001b[0m         \u001b[38;5;28;01mraise\u001b[39;00m \u001b[38;5;167;01mValueError\u001b[39;00m(\u001b[38;5;124m\"\u001b[39m\u001b[38;5;124mUnknown label type: \u001b[39m\u001b[38;5;132;01m%r\u001b[39;00m\u001b[38;5;124m\"\u001b[39m \u001b[38;5;241m%\u001b[39m y_type)\n",
            "File \u001b[0;32m/opt/conda/lib/python3.10/site-packages/sklearn/utils/multiclass.py:386\u001b[0m, in \u001b[0;36mtype_of_target\u001b[0;34m(y, input_name)\u001b[0m\n\u001b[1;32m    384\u001b[0m \u001b[38;5;66;03m# Check multiclass\u001b[39;00m\n\u001b[1;32m    385\u001b[0m first_row \u001b[38;5;241m=\u001b[39m y[\u001b[38;5;241m0\u001b[39m] \u001b[38;5;28;01mif\u001b[39;00m \u001b[38;5;129;01mnot\u001b[39;00m issparse(y) \u001b[38;5;28;01melse\u001b[39;00m y\u001b[38;5;241m.\u001b[39mgetrow(\u001b[38;5;241m0\u001b[39m)\u001b[38;5;241m.\u001b[39mdata\n\u001b[0;32m--> 386\u001b[0m \u001b[38;5;28;01mif\u001b[39;00m \u001b[43mxp\u001b[49m\u001b[38;5;241;43m.\u001b[39;49m\u001b[43munique_values\u001b[49m\u001b[43m(\u001b[49m\u001b[43my\u001b[49m\u001b[43m)\u001b[49m\u001b[38;5;241m.\u001b[39mshape[\u001b[38;5;241m0\u001b[39m] \u001b[38;5;241m>\u001b[39m \u001b[38;5;241m2\u001b[39m \u001b[38;5;129;01mor\u001b[39;00m (y\u001b[38;5;241m.\u001b[39mndim \u001b[38;5;241m==\u001b[39m \u001b[38;5;241m2\u001b[39m \u001b[38;5;129;01mand\u001b[39;00m \u001b[38;5;28mlen\u001b[39m(first_row) \u001b[38;5;241m>\u001b[39m \u001b[38;5;241m1\u001b[39m):\n\u001b[1;32m    387\u001b[0m     \u001b[38;5;66;03m# [1, 2, 3] or [[1., 2., 3]] or [[1, 2]]\u001b[39;00m\n\u001b[1;32m    388\u001b[0m     \u001b[38;5;28;01mreturn\u001b[39;00m \u001b[38;5;124m\"\u001b[39m\u001b[38;5;124mmulticlass\u001b[39m\u001b[38;5;124m\"\u001b[39m \u001b[38;5;241m+\u001b[39m suffix\n\u001b[1;32m    389\u001b[0m \u001b[38;5;28;01melse\u001b[39;00m:\n",
            "File \u001b[0;32m/opt/conda/lib/python3.10/site-packages/sklearn/utils/_array_api.py:84\u001b[0m, in \u001b[0;36m_NumPyApiWrapper.unique_values\u001b[0;34m(self, x)\u001b[0m\n\u001b[1;32m     83\u001b[0m \u001b[38;5;28;01mdef\u001b[39;00m \u001b[38;5;21munique_values\u001b[39m(\u001b[38;5;28mself\u001b[39m, x):\n\u001b[0;32m---> 84\u001b[0m     \u001b[38;5;28;01mreturn\u001b[39;00m \u001b[43mnumpy\u001b[49m\u001b[38;5;241;43m.\u001b[39;49m\u001b[43munique\u001b[49m\u001b[43m(\u001b[49m\u001b[43mx\u001b[49m\u001b[43m)\u001b[49m\n",
            "File \u001b[0;32m/opt/conda/lib/python3.10/site-packages/numpy/lib/arraysetops.py:274\u001b[0m, in \u001b[0;36munique\u001b[0;34m(ar, return_index, return_inverse, return_counts, axis, equal_nan)\u001b[0m\n\u001b[1;32m    272\u001b[0m ar \u001b[38;5;241m=\u001b[39m np\u001b[38;5;241m.\u001b[39masanyarray(ar)\n\u001b[1;32m    273\u001b[0m \u001b[38;5;28;01mif\u001b[39;00m axis \u001b[38;5;129;01mis\u001b[39;00m \u001b[38;5;28;01mNone\u001b[39;00m:\n\u001b[0;32m--> 274\u001b[0m     ret \u001b[38;5;241m=\u001b[39m \u001b[43m_unique1d\u001b[49m\u001b[43m(\u001b[49m\u001b[43mar\u001b[49m\u001b[43m,\u001b[49m\u001b[43m \u001b[49m\u001b[43mreturn_index\u001b[49m\u001b[43m,\u001b[49m\u001b[43m \u001b[49m\u001b[43mreturn_inverse\u001b[49m\u001b[43m,\u001b[49m\u001b[43m \u001b[49m\u001b[43mreturn_counts\u001b[49m\u001b[43m,\u001b[49m\u001b[43m \u001b[49m\n\u001b[1;32m    275\u001b[0m \u001b[43m                    \u001b[49m\u001b[43mequal_nan\u001b[49m\u001b[38;5;241;43m=\u001b[39;49m\u001b[43mequal_nan\u001b[49m\u001b[43m)\u001b[49m\n\u001b[1;32m    276\u001b[0m     \u001b[38;5;28;01mreturn\u001b[39;00m _unpack_tuple(ret)\n\u001b[1;32m    278\u001b[0m \u001b[38;5;66;03m# axis was specified and not None\u001b[39;00m\n",
            "File \u001b[0;32m/opt/conda/lib/python3.10/site-packages/numpy/lib/arraysetops.py:336\u001b[0m, in \u001b[0;36m_unique1d\u001b[0;34m(ar, return_index, return_inverse, return_counts, equal_nan)\u001b[0m\n\u001b[1;32m    334\u001b[0m     aux \u001b[38;5;241m=\u001b[39m ar[perm]\n\u001b[1;32m    335\u001b[0m \u001b[38;5;28;01melse\u001b[39;00m:\n\u001b[0;32m--> 336\u001b[0m     \u001b[43mar\u001b[49m\u001b[38;5;241;43m.\u001b[39;49m\u001b[43msort\u001b[49m\u001b[43m(\u001b[49m\u001b[43m)\u001b[49m\n\u001b[1;32m    337\u001b[0m     aux \u001b[38;5;241m=\u001b[39m ar\n\u001b[1;32m    338\u001b[0m mask \u001b[38;5;241m=\u001b[39m np\u001b[38;5;241m.\u001b[39mempty(aux\u001b[38;5;241m.\u001b[39mshape, dtype\u001b[38;5;241m=\u001b[39mnp\u001b[38;5;241m.\u001b[39mbool_)\n",
            "\u001b[0;31mTypeError\u001b[0m: '<' not supported between instances of 'str' and 'list'"
          ],
          "ename": "TypeError",
          "evalue": "'<' not supported between instances of 'str' and 'list'",
          "output_type": "error"
        }
      ],
      "execution_count": null
    },
    {
      "cell_type": "markdown",
      "source": [
        "## Actual model execution"
      ],
      "metadata": {
        "id": "KBHWHdTsZRHp"
      }
    },
    {
      "cell_type": "code",
      "source": [
        "# https://towardsdatascience.com/demystifying-pytorchs-weightedrandomsampler-by-example-a68aceccb452\n",
        "\n",
        "# https://gist.github.com/Chris-hughes10/260c70650c5a6f322d273a8a8728b91a\n",
        "\n",
        "if WEIGHTED_SAMPLING:\n",
        "\n",
        "    class_weights_arr = [class_weights[i] for i in sc_label_count.index]\n",
        "\n",
        "    custom_sampler = WeightedRandomSampler(weights=class_weights_arr, num_samples=len(df_sc_final))\n",
        "\n",
        "    #dl = DataLoader(df_sc_final, sampler=sampler, batch_size=10)\n",
        "\n",
        "else:\n",
        "\n",
        "    custom_sampler = None"
      ],
      "metadata": {
        "execution": {
          "iopub.status.busy": "2024-12-20T11:28:57.525028Z",
          "iopub.execute_input": "2024-12-20T11:28:57.525363Z",
          "iopub.status.idle": "2024-12-20T11:28:57.530413Z",
          "shell.execute_reply.started": "2024-12-20T11:28:57.525336Z",
          "shell.execute_reply": "2024-12-20T11:28:57.529486Z"
        },
        "trusted": true,
        "id": "oH9CdxTz5Gsq"
      },
      "outputs": [],
      "execution_count": null
    },
    {
      "cell_type": "code",
      "source": [
        "AUG = False\n",
        "if AUG:\n",
        "    df_train = aug_train_df\n",
        "    train_labels = aug_lab"
      ],
      "metadata": {
        "trusted": true,
        "execution": {
          "iopub.status.busy": "2024-12-20T11:28:19.708006Z",
          "iopub.execute_input": "2024-12-20T11:28:19.708734Z",
          "iopub.status.idle": "2024-12-20T11:28:19.712542Z",
          "shell.execute_reply.started": "2024-12-20T11:28:19.708699Z",
          "shell.execute_reply": "2024-12-20T11:28:19.711637Z"
        },
        "id": "2ihycKLV5Gsq"
      },
      "outputs": [],
      "execution_count": null
    },
    {
      "cell_type": "code",
      "source": [
        "count = df_train['Scheme'].explode().value_counts()\n",
        "count"
      ],
      "metadata": {
        "trusted": true,
        "execution": {
          "iopub.status.busy": "2024-12-20T11:28:20.191817Z",
          "iopub.execute_input": "2024-12-20T11:28:20.192115Z",
          "iopub.status.idle": "2024-12-20T11:28:20.200121Z",
          "shell.execute_reply.started": "2024-12-20T11:28:20.192089Z",
          "shell.execute_reply": "2024-12-20T11:28:20.199067Z"
        },
        "id": "o3o82gbv5Gsq",
        "outputId": "ced207d7-a967-4f8c-e177-8a8b9d4f5bed"
      },
      "outputs": [
        {
          "execution_count": 81,
          "output_type": "execute_result",
          "data": {
            "text/plain": "Scheme\nRule     388\nPrec     282\nItpr     211\nPrinc     97\nClass     68\nAut       49\nSyst      19\nTele      12\nName: count, dtype: int64"
          },
          "metadata": {}
        }
      ],
      "execution_count": null
    },
    {
      "cell_type": "code",
      "source": [
        "count = df_train['Scheme'].explode().value_counts()\n",
        "tot = df_train['Scheme'].explode().value_counts().sum()\n",
        "cwt = class_weights = tot/count\n",
        "class_weights = np.log(class_weights)\n",
        "class_weights"
      ],
      "metadata": {
        "trusted": true,
        "execution": {
          "iopub.status.busy": "2024-12-20T11:28:20.633947Z",
          "iopub.execute_input": "2024-12-20T11:28:20.634584Z",
          "iopub.status.idle": "2024-12-20T11:28:20.643491Z",
          "shell.execute_reply.started": "2024-12-20T11:28:20.634554Z",
          "shell.execute_reply": "2024-12-20T11:28:20.642653Z"
        },
        "id": "jOTI17C35Gsq",
        "outputId": "0ad510bd-518a-4a46-efa2-5f88d9cf4a6a"
      },
      "outputs": [
        {
          "execution_count": 82,
          "output_type": "execute_result",
          "data": {
            "text/plain": "Scheme\nRule     1.065421\nPrec     1.384520\nItpr     1.674569\nPrinc    2.451716\nClass    2.806919\nAut      3.134607\nSyst     4.081988\nTele     4.541520\nName: count, dtype: float64"
          },
          "metadata": {}
        }
      ],
      "execution_count": null
    },
    {
      "cell_type": "code",
      "source": [
        "cw = class_weights.reset_index(drop=True).to_frame()\n",
        "cwt = torch.stack(list(map(lambda x : torch.tensor(x,device=device,dtype = torch.float32),np.array(cw).squeeze())))\n",
        "cwt"
      ],
      "metadata": {
        "trusted": true,
        "execution": {
          "iopub.status.busy": "2024-12-20T11:28:21.023958Z",
          "iopub.execute_input": "2024-12-20T11:28:21.024237Z",
          "iopub.status.idle": "2024-12-20T11:28:21.942754Z",
          "shell.execute_reply.started": "2024-12-20T11:28:21.024209Z",
          "shell.execute_reply": "2024-12-20T11:28:21.941824Z"
        },
        "id": "rEjpyKeq5Gsq",
        "outputId": "a667a3b4-0282-4686-d235-3dd95e20b197"
      },
      "outputs": [
        {
          "execution_count": 83,
          "output_type": "execute_result",
          "data": {
            "text/plain": "tensor([1.0654, 1.3845, 1.6746, 2.4517, 2.8069, 3.1346, 4.0820, 4.5415],\n       device='cuda:0')"
          },
          "metadata": {}
        }
      ],
      "execution_count": null
    },
    {
      "cell_type": "code",
      "source": [
        "def evaluate(model, data_loader, use_cuda=True):\n",
        "\n",
        "    predictions = []\n",
        "\n",
        "    device = torch.device('cuda') if use_cuda and torch.cuda.is_available() else torch.device('cpu')\n",
        "\n",
        "    model.eval()\n",
        "\n",
        "    model.to(device)\n",
        "\n",
        "    loop = tqdm(data_loader)\n",
        "\n",
        "    with torch.no_grad():\n",
        "\n",
        "        for batch in loop:\n",
        "\n",
        "            pred = model(batch['input_ids'].to(device), attention_mask = batch[\"attention_mask\"].to(device))\n",
        "\n",
        "            pred = pred.cpu().detach().numpy()\n",
        "\n",
        "            predictions.append(pred)\n",
        "\n",
        "    predictions = np.concatenate(predictions)\n",
        "\n",
        "    return predictions"
      ],
      "metadata": {
        "trusted": true,
        "execution": {
          "iopub.status.busy": "2024-12-20T11:28:26.137724Z",
          "iopub.execute_input": "2024-12-20T11:28:26.138069Z",
          "iopub.status.idle": "2024-12-20T11:28:26.144234Z",
          "shell.execute_reply.started": "2024-12-20T11:28:26.13804Z",
          "shell.execute_reply": "2024-12-20T11:28:26.143348Z"
        },
        "id": "VV2OSWqg5Gsr"
      },
      "outputs": [],
      "execution_count": null
    },
    {
      "cell_type": "code",
      "source": [
        "#epoch 9 cwt log\n",
        "#epoch 9 test 0.48 cwt with prev\n",
        "#epoch 11 test 0.53 cwt no prev\n",
        "#epoch 12 test 0.57 cwt no prev\n",
        "from sklearn.metrics import classification_report,f1_score\n",
        "epochs = 12\n",
        "model, tokenizer, statistics = execute(\n",
        "\n",
        "    lr,\n",
        "\n",
        "    epochs,\n",
        "\n",
        "    batch_size,\n",
        "\n",
        "    num_labels,\n",
        "\n",
        "    df_train,\n",
        "\n",
        "    train_labels,\n",
        "\n",
        "    df_val,\n",
        "\n",
        "    val_labels,\n",
        "\n",
        "    scheme,\n",
        "\n",
        "    model_name=model_checkpoint,\n",
        "\n",
        "    use_cuda=USE_CUDA,\n",
        "\n",
        "    include_previous=False,\n",
        "\n",
        "    sampler = custom_sampler,\n",
        "    cwt=cwt\n",
        ")"
      ],
      "metadata": {
        "colab": {
          "base_uri": "https://localhost:8080/",
          "referenced_widgets": [
            "e26415e915a246288a663a4322e66666",
            "2fd6b82ab174491aba12692704613704",
            "650097603def41ea8fc2286a80c88716",
            "46ca1017fcd04c5697183c9994aeab95",
            "bb77b2937d3441d986f6046773bda9de",
            "414d4cf08b72416fa5a8bb37b09554ea"
          ]
        },
        "id": "9dN-8E__zJry",
        "outputId": "8766679f-c499-47ea-ec5b-b90f0101ef50",
        "execution": {
          "iopub.status.busy": "2024-12-20T11:29:00.28621Z",
          "iopub.execute_input": "2024-12-20T11:29:00.286938Z",
          "iopub.status.idle": "2024-12-20T11:43:50.964903Z",
          "shell.execute_reply.started": "2024-12-20T11:29:00.286901Z",
          "shell.execute_reply": "2024-12-20T11:43:50.96391Z"
        },
        "trusted": true
      },
      "outputs": [
        {
          "output_type": "display_data",
          "data": {
            "text/plain": "tokenizer_config.json:   0%|          | 0.00/341 [00:00<?, ?B/s]",
            "application/vnd.jupyter.widget-view+json": {
              "version_major": 2,
              "version_minor": 0,
              "model_id": "e26415e915a246288a663a4322e66666"
            }
          },
          "metadata": {}
        },
        {
          "output_type": "display_data",
          "data": {
            "text/plain": "config.json:   0%|          | 0.00/614 [00:00<?, ?B/s]",
            "application/vnd.jupyter.widget-view+json": {
              "version_major": 2,
              "version_minor": 0,
              "model_id": "2fd6b82ab174491aba12692704613704"
            }
          },
          "metadata": {}
        },
        {
          "output_type": "display_data",
          "data": {
            "text/plain": "vocab.txt:   0%|          | 0.00/235k [00:00<?, ?B/s]",
            "application/vnd.jupyter.widget-view+json": {
              "version_major": 2,
              "version_minor": 0,
              "model_id": "650097603def41ea8fc2286a80c88716"
            }
          },
          "metadata": {}
        },
        {
          "output_type": "display_data",
          "data": {
            "text/plain": "tokenizer.json:   0%|          | 0.00/474k [00:00<?, ?B/s]",
            "application/vnd.jupyter.widget-view+json": {
              "version_major": 2,
              "version_minor": 0,
              "model_id": "46ca1017fcd04c5697183c9994aeab95"
            }
          },
          "metadata": {}
        },
        {
          "output_type": "display_data",
          "data": {
            "text/plain": "special_tokens_map.json:   0%|          | 0.00/112 [00:00<?, ?B/s]",
            "application/vnd.jupyter.widget-view+json": {
              "version_major": 2,
              "version_minor": 0,
              "model_id": "bb77b2937d3441d986f6046773bda9de"
            }
          },
          "metadata": {}
        },
        {
          "output_type": "display_data",
          "data": {
            "text/plain": "model.safetensors:   0%|          | 0.00/443M [00:00<?, ?B/s]",
            "application/vnd.jupyter.widget-view+json": {
              "version_major": 2,
              "version_minor": 0,
              "model_id": "414d4cf08b72416fa5a8bb37b09554ea"
            }
          },
          "metadata": {}
        },
        {
          "name": "stderr",
          "text": "Some weights of BertModel were not initialized from the model checkpoint at dlicari/Italian-Legal-BERT and are newly initialized: ['bert.pooler.dense.bias', 'bert.pooler.dense.weight']\nYou should probably TRAIN this model on a down-stream task to be able to use it for predictions and inference.\n",
          "output_type": "stream"
        },
        {
          "name": "stdout",
          "text": "Encoding...\ninput shape: (878, 410)\nEncoding complete\nEncoding...\ninput shape: (156, 351)\nEncoding complete\nENCODING COMPLETE.\nSTARTING TRAINING with complete data:\n",
          "output_type": "stream"
        },
        {
          "name": "stderr",
          "text": "  0%|          | 0/28 [00:00<?, ?it/s]/tmp/ipykernel_23/136612130.py:11: UserWarning: To copy construct from a tensor, it is recommended to use sourceTensor.clone().detach() or sourceTensor.clone().detach().requires_grad_(True), rather than torch.tensor(sourceTensor).\n  return {key: torch.tensor(val[idx]) for key, val in self.encodings.items()}\nEpoch 1: 100%|██████████| 28/28 [00:59<00:00,  2.13s/it, loss=0.201]\n100%|██████████| 5/5 [00:03<00:00,  1.56it/s]\n/opt/conda/lib/python3.10/site-packages/sklearn/metrics/_classification.py:1344: UndefinedMetricWarning: Precision and F-score are ill-defined and being set to 0.0 in labels with no predicted samples. Use `zero_division` parameter to control this behavior.\n  _warn_prf(average, modifier, msg_start, len(result))\n/opt/conda/lib/python3.10/site-packages/sklearn/metrics/_classification.py:1344: UndefinedMetricWarning: Precision and F-score are ill-defined and being set to 0.0 due to no predicted samples. Use `zero_division` parameter to control this behavior.\n  _warn_prf(average, modifier, msg_start, len(result))\n/opt/conda/lib/python3.10/site-packages/sklearn/metrics/_classification.py:1344: UndefinedMetricWarning: Precision and F-score are ill-defined and being set to 0.0 in samples with no predicted labels. Use `zero_division` parameter to control this behavior.\n  _warn_prf(average, modifier, msg_start, len(result))\n",
          "output_type": "stream"
        },
        {
          "name": "stdout",
          "text": "(156, 8)\n(156, 8) (156, 8)\n\n              precision    recall  f1-score   support\n\n        Rule       0.00      0.00      0.00        68\n        Prec       0.00      0.00      0.00        50\n        Itpr       0.00      0.00      0.00        37\n       Princ       0.00      0.00      0.00        17\n       Class       0.00      0.00      0.00        12\n         Aut       0.00      0.00      0.00         9\n        Syst       0.00      0.00      0.00         3\n        Tele       0.00      0.00      0.00         2\n\n   micro avg       0.00      0.00      0.00       198\n   macro avg       0.00      0.00      0.00       198\nweighted avg       0.00      0.00      0.00       198\n samples avg       0.00      0.00      0.00       198\n\nEpoch: 1  Lr: 0.00005000  Loss: Train = [0.2329] - Val = [0.4271]  Time one epoch (s): 66.0762 \n",
          "output_type": "stream"
        },
        {
          "name": "stderr",
          "text": "  0%|          | 0/28 [00:00<?, ?it/s]/tmp/ipykernel_23/136612130.py:11: UserWarning: To copy construct from a tensor, it is recommended to use sourceTensor.clone().detach() or sourceTensor.clone().detach().requires_grad_(True), rather than torch.tensor(sourceTensor).\n  return {key: torch.tensor(val[idx]) for key, val in self.encodings.items()}\nEpoch 2: 100%|██████████| 28/28 [01:07<00:00,  2.40s/it, loss=0.21] \n100%|██████████| 5/5 [00:03<00:00,  1.46it/s]\n/opt/conda/lib/python3.10/site-packages/sklearn/metrics/_classification.py:1344: UndefinedMetricWarning: Precision and F-score are ill-defined and being set to 0.0 in labels with no predicted samples. Use `zero_division` parameter to control this behavior.\n  _warn_prf(average, modifier, msg_start, len(result))\n/opt/conda/lib/python3.10/site-packages/sklearn/metrics/_classification.py:1344: UndefinedMetricWarning: Precision and F-score are ill-defined and being set to 0.0 in samples with no predicted labels. Use `zero_division` parameter to control this behavior.\n  _warn_prf(average, modifier, msg_start, len(result))\n",
          "output_type": "stream"
        },
        {
          "name": "stdout",
          "text": "(156, 8)\n(156, 8) (156, 8)\n\n              precision    recall  f1-score   support\n\n        Rule       0.92      0.18      0.30        68\n        Prec       0.00      0.00      0.00        50\n        Itpr       0.00      0.00      0.00        37\n       Princ       0.00      0.00      0.00        17\n       Class       0.00      0.00      0.00        12\n         Aut       0.00      0.00      0.00         9\n        Syst       0.00      0.00      0.00         3\n        Tele       0.00      0.00      0.00         2\n\n   micro avg       0.86      0.06      0.11       198\n   macro avg       0.12      0.02      0.04       198\nweighted avg       0.32      0.06      0.10       198\n samples avg       0.07      0.04      0.05       198\n\nEpoch: 2  Lr: 0.00005000  Loss: Train = [0.1822] - Val = [0.4376]  Time one epoch (s): 74.1311 \n",
          "output_type": "stream"
        },
        {
          "name": "stderr",
          "text": "  0%|          | 0/28 [00:00<?, ?it/s]/tmp/ipykernel_23/136612130.py:11: UserWarning: To copy construct from a tensor, it is recommended to use sourceTensor.clone().detach() or sourceTensor.clone().detach().requires_grad_(True), rather than torch.tensor(sourceTensor).\n  return {key: torch.tensor(val[idx]) for key, val in self.encodings.items()}\nEpoch 3: 100%|██████████| 28/28 [01:06<00:00,  2.39s/it, loss=0.17] \n100%|██████████| 5/5 [00:03<00:00,  1.43it/s]\n/opt/conda/lib/python3.10/site-packages/sklearn/metrics/_classification.py:1344: UndefinedMetricWarning: Precision and F-score are ill-defined and being set to 0.0 in labels with no predicted samples. Use `zero_division` parameter to control this behavior.\n  _warn_prf(average, modifier, msg_start, len(result))\n/opt/conda/lib/python3.10/site-packages/sklearn/metrics/_classification.py:1344: UndefinedMetricWarning: Precision and F-score are ill-defined and being set to 0.0 in samples with no predicted labels. Use `zero_division` parameter to control this behavior.\n  _warn_prf(average, modifier, msg_start, len(result))\n",
          "output_type": "stream"
        },
        {
          "name": "stdout",
          "text": "(156, 8)\n(156, 8) (156, 8)\n\n              precision    recall  f1-score   support\n\n        Rule       0.69      0.87      0.77        68\n        Prec       0.88      0.60      0.71        50\n        Itpr       0.00      0.00      0.00        37\n       Princ       0.00      0.00      0.00        17\n       Class       0.00      0.00      0.00        12\n         Aut       0.00      0.00      0.00         9\n        Syst       0.00      0.00      0.00         3\n        Tele       0.00      0.00      0.00         2\n\n   micro avg       0.74      0.45      0.56       198\n   macro avg       0.20      0.18      0.19       198\nweighted avg       0.46      0.45      0.44       198\n samples avg       0.46      0.45      0.44       198\n\nEpoch: 3  Lr: 0.00005000  Loss: Train = [0.1698] - Val = [0.4091]  Time one epoch (s): 73.8663 \n",
          "output_type": "stream"
        },
        {
          "name": "stderr",
          "text": "  0%|          | 0/28 [00:00<?, ?it/s]/tmp/ipykernel_23/136612130.py:11: UserWarning: To copy construct from a tensor, it is recommended to use sourceTensor.clone().detach() or sourceTensor.clone().detach().requires_grad_(True), rather than torch.tensor(sourceTensor).\n  return {key: torch.tensor(val[idx]) for key, val in self.encodings.items()}\nEpoch 4: 100%|██████████| 28/28 [01:06<00:00,  2.39s/it, loss=0.106]\n100%|██████████| 5/5 [00:03<00:00,  1.42it/s]\n/opt/conda/lib/python3.10/site-packages/sklearn/metrics/_classification.py:1344: UndefinedMetricWarning: Precision and F-score are ill-defined and being set to 0.0 in labels with no predicted samples. Use `zero_division` parameter to control this behavior.\n  _warn_prf(average, modifier, msg_start, len(result))\n/opt/conda/lib/python3.10/site-packages/sklearn/metrics/_classification.py:1344: UndefinedMetricWarning: Precision and F-score are ill-defined and being set to 0.0 in samples with no predicted labels. Use `zero_division` parameter to control this behavior.\n  _warn_prf(average, modifier, msg_start, len(result))\n",
          "output_type": "stream"
        },
        {
          "name": "stdout",
          "text": "(156, 8)\n(156, 8) (156, 8)\n\n              precision    recall  f1-score   support\n\n        Rule       0.85      0.78      0.82        68\n        Prec       0.79      0.90      0.84        50\n        Itpr       0.25      0.08      0.12        37\n       Princ       1.00      0.12      0.21        17\n       Class       0.00      0.00      0.00        12\n         Aut       0.00      0.00      0.00         9\n        Syst       1.00      0.33      0.50         3\n        Tele       0.00      0.00      0.00         2\n\n   micro avg       0.78      0.53      0.63       198\n   macro avg       0.49      0.28      0.31       198\nweighted avg       0.64      0.53      0.54       198\n samples avg       0.62      0.55      0.57       198\n\nEpoch: 4  Lr: 0.00005000  Loss: Train = [0.1421] - Val = [0.3682]  Time one epoch (s): 73.9175 \n",
          "output_type": "stream"
        },
        {
          "name": "stderr",
          "text": "  0%|          | 0/28 [00:00<?, ?it/s]/tmp/ipykernel_23/136612130.py:11: UserWarning: To copy construct from a tensor, it is recommended to use sourceTensor.clone().detach() or sourceTensor.clone().detach().requires_grad_(True), rather than torch.tensor(sourceTensor).\n  return {key: torch.tensor(val[idx]) for key, val in self.encodings.items()}\nEpoch 5: 100%|██████████| 28/28 [01:06<00:00,  2.39s/it, loss=0.0745]\n100%|██████████| 5/5 [00:03<00:00,  1.42it/s]\n/opt/conda/lib/python3.10/site-packages/sklearn/metrics/_classification.py:1344: UndefinedMetricWarning: Precision and F-score are ill-defined and being set to 0.0 in labels with no predicted samples. Use `zero_division` parameter to control this behavior.\n  _warn_prf(average, modifier, msg_start, len(result))\n/opt/conda/lib/python3.10/site-packages/sklearn/metrics/_classification.py:1344: UndefinedMetricWarning: Precision and F-score are ill-defined and being set to 0.0 in samples with no predicted labels. Use `zero_division` parameter to control this behavior.\n  _warn_prf(average, modifier, msg_start, len(result))\n",
          "output_type": "stream"
        },
        {
          "name": "stdout",
          "text": "(156, 8)\n(156, 8) (156, 8)\n\n              precision    recall  f1-score   support\n\n        Rule       0.93      0.79      0.86        68\n        Prec       0.91      0.84      0.87        50\n        Itpr       0.40      0.46      0.43        37\n       Princ       0.67      0.47      0.55        17\n       Class       0.00      0.00      0.00        12\n         Aut       1.00      0.22      0.36         9\n        Syst       1.00      0.33      0.50         3\n        Tele       1.00      0.50      0.67         2\n\n   micro avg       0.77      0.63      0.69       198\n   macro avg       0.74      0.45      0.53       198\nweighted avg       0.75      0.63      0.67       198\n samples avg       0.73      0.69      0.69       198\n\nEpoch: 5  Lr: 0.00005000  Loss: Train = [0.1113] - Val = [0.3299]  Time one epoch (s): 73.9739 \n",
          "output_type": "stream"
        },
        {
          "name": "stderr",
          "text": "  0%|          | 0/28 [00:00<?, ?it/s]/tmp/ipykernel_23/136612130.py:11: UserWarning: To copy construct from a tensor, it is recommended to use sourceTensor.clone().detach() or sourceTensor.clone().detach().requires_grad_(True), rather than torch.tensor(sourceTensor).\n  return {key: torch.tensor(val[idx]) for key, val in self.encodings.items()}\nEpoch 6: 100%|██████████| 28/28 [01:06<00:00,  2.39s/it, loss=0.0538]\n100%|██████████| 5/5 [00:03<00:00,  1.41it/s]\n/opt/conda/lib/python3.10/site-packages/sklearn/metrics/_classification.py:1344: UndefinedMetricWarning: Precision and F-score are ill-defined and being set to 0.0 in labels with no predicted samples. Use `zero_division` parameter to control this behavior.\n  _warn_prf(average, modifier, msg_start, len(result))\n/opt/conda/lib/python3.10/site-packages/sklearn/metrics/_classification.py:1344: UndefinedMetricWarning: Precision and F-score are ill-defined and being set to 0.0 in samples with no predicted labels. Use `zero_division` parameter to control this behavior.\n  _warn_prf(average, modifier, msg_start, len(result))\n",
          "output_type": "stream"
        },
        {
          "name": "stdout",
          "text": "(156, 8)\n(156, 8) (156, 8)\n\n              precision    recall  f1-score   support\n\n        Rule       0.84      0.94      0.89        68\n        Prec       0.84      0.94      0.89        50\n        Itpr       0.54      0.35      0.43        37\n       Princ       0.69      0.53      0.60        17\n       Class       1.00      0.08      0.15        12\n         Aut       0.00      0.00      0.00         9\n        Syst       1.00      0.33      0.50         3\n        Tele       1.00      0.50      0.67         2\n\n   micro avg       0.79      0.69      0.74       198\n   macro avg       0.74      0.46      0.52       198\nweighted avg       0.75      0.69      0.68       198\n samples avg       0.76      0.73      0.73       198\n\nEpoch: 6  Lr: 0.00005000  Loss: Train = [0.0846] - Val = [0.2984]  Time one epoch (s): 73.9920 \n",
          "output_type": "stream"
        },
        {
          "name": "stderr",
          "text": "  0%|          | 0/28 [00:00<?, ?it/s]/tmp/ipykernel_23/136612130.py:11: UserWarning: To copy construct from a tensor, it is recommended to use sourceTensor.clone().detach() or sourceTensor.clone().detach().requires_grad_(True), rather than torch.tensor(sourceTensor).\n  return {key: torch.tensor(val[idx]) for key, val in self.encodings.items()}\nEpoch 7: 100%|██████████| 28/28 [01:06<00:00,  2.39s/it, loss=0.0715]\n100%|██████████| 5/5 [00:03<00:00,  1.42it/s]\n/opt/conda/lib/python3.10/site-packages/sklearn/metrics/_classification.py:1344: UndefinedMetricWarning: Precision and F-score are ill-defined and being set to 0.0 in samples with no predicted labels. Use `zero_division` parameter to control this behavior.\n  _warn_prf(average, modifier, msg_start, len(result))\n",
          "output_type": "stream"
        },
        {
          "name": "stdout",
          "text": "(156, 8)\n(156, 8) (156, 8)\n\n              precision    recall  f1-score   support\n\n        Rule       0.87      0.87      0.87        68\n        Prec       0.82      0.92      0.87        50\n        Itpr       0.71      0.41      0.52        37\n       Princ       0.69      0.53      0.60        17\n       Class       0.00      0.00      0.00        12\n         Aut       0.67      0.44      0.53         9\n        Syst       1.00      0.33      0.50         3\n        Tele       1.00      0.50      0.67         2\n\n   micro avg       0.80      0.68      0.74       198\n   macro avg       0.72      0.50      0.57       198\nweighted avg       0.75      0.68      0.70       198\n samples avg       0.79      0.73      0.74       198\n\nEpoch: 7  Lr: 0.00005000  Loss: Train = [0.0639] - Val = [0.2700]  Time one epoch (s): 74.0548 \n",
          "output_type": "stream"
        },
        {
          "name": "stderr",
          "text": "  0%|          | 0/28 [00:00<?, ?it/s]/tmp/ipykernel_23/136612130.py:11: UserWarning: To copy construct from a tensor, it is recommended to use sourceTensor.clone().detach() or sourceTensor.clone().detach().requires_grad_(True), rather than torch.tensor(sourceTensor).\n  return {key: torch.tensor(val[idx]) for key, val in self.encodings.items()}\nEpoch 8: 100%|██████████| 28/28 [01:06<00:00,  2.39s/it, loss=0.0541]\n100%|██████████| 5/5 [00:03<00:00,  1.44it/s]\n/opt/conda/lib/python3.10/site-packages/sklearn/metrics/_classification.py:1344: UndefinedMetricWarning: Precision and F-score are ill-defined and being set to 0.0 in samples with no predicted labels. Use `zero_division` parameter to control this behavior.\n  _warn_prf(average, modifier, msg_start, len(result))\n",
          "output_type": "stream"
        },
        {
          "name": "stdout",
          "text": "(156, 8)\n(156, 8) (156, 8)\n\n              precision    recall  f1-score   support\n\n        Rule       0.92      0.82      0.87        68\n        Prec       0.87      0.92      0.89        50\n        Itpr       0.69      0.49      0.57        37\n       Princ       0.69      0.65      0.67        17\n       Class       0.25      0.08      0.12        12\n         Aut       0.86      0.67      0.75         9\n        Syst       1.00      0.33      0.50         3\n        Tele       1.00      0.50      0.67         2\n\n   micro avg       0.83      0.71      0.76       198\n   macro avg       0.78      0.56      0.63       198\nweighted avg       0.80      0.71      0.74       198\n samples avg       0.81      0.75      0.77       198\n\nEpoch: 8  Lr: 0.00005000  Loss: Train = [0.0453] - Val = [0.2457]  Time one epoch (s): 73.9291 \n",
          "output_type": "stream"
        },
        {
          "name": "stderr",
          "text": "  0%|          | 0/28 [00:00<?, ?it/s]/tmp/ipykernel_23/136612130.py:11: UserWarning: To copy construct from a tensor, it is recommended to use sourceTensor.clone().detach() or sourceTensor.clone().detach().requires_grad_(True), rather than torch.tensor(sourceTensor).\n  return {key: torch.tensor(val[idx]) for key, val in self.encodings.items()}\nEpoch 9: 100%|██████████| 28/28 [01:06<00:00,  2.39s/it, loss=0.0182]\n100%|██████████| 5/5 [00:03<00:00,  1.43it/s]\n/opt/conda/lib/python3.10/site-packages/sklearn/metrics/_classification.py:1344: UndefinedMetricWarning: Precision and F-score are ill-defined and being set to 0.0 in samples with no predicted labels. Use `zero_division` parameter to control this behavior.\n  _warn_prf(average, modifier, msg_start, len(result))\n",
          "output_type": "stream"
        },
        {
          "name": "stdout",
          "text": "(156, 8)\n(156, 8) (156, 8)\n\n              precision    recall  f1-score   support\n\n        Rule       0.84      0.90      0.87        68\n        Prec       0.85      0.90      0.87        50\n        Itpr       0.65      0.54      0.59        37\n       Princ       0.67      0.59      0.62        17\n       Class       0.40      0.17      0.24        12\n         Aut       0.62      0.56      0.59         9\n        Syst       1.00      0.33      0.50         3\n        Tele       1.00      0.50      0.67         2\n\n   micro avg       0.78      0.73      0.75       198\n   macro avg       0.75      0.56      0.62       198\nweighted avg       0.76      0.73      0.74       198\n samples avg       0.80      0.78      0.77       198\n\nEpoch: 9  Lr: 0.00005000  Loss: Train = [0.0321] - Val = [0.2364]  Time one epoch (s): 73.9132 \n",
          "output_type": "stream"
        },
        {
          "name": "stderr",
          "text": "  0%|          | 0/28 [00:00<?, ?it/s]/tmp/ipykernel_23/136612130.py:11: UserWarning: To copy construct from a tensor, it is recommended to use sourceTensor.clone().detach() or sourceTensor.clone().detach().requires_grad_(True), rather than torch.tensor(sourceTensor).\n  return {key: torch.tensor(val[idx]) for key, val in self.encodings.items()}\nEpoch 10: 100%|██████████| 28/28 [01:06<00:00,  2.39s/it, loss=0.00942]\n100%|██████████| 5/5 [00:03<00:00,  1.42it/s]\n/opt/conda/lib/python3.10/site-packages/sklearn/metrics/_classification.py:1344: UndefinedMetricWarning: Precision and F-score are ill-defined and being set to 0.0 in samples with no predicted labels. Use `zero_division` parameter to control this behavior.\n  _warn_prf(average, modifier, msg_start, len(result))\n",
          "output_type": "stream"
        },
        {
          "name": "stdout",
          "text": "(156, 8)\n(156, 8) (156, 8)\n\n              precision    recall  f1-score   support\n\n        Rule       0.84      0.94      0.89        68\n        Prec       0.85      0.92      0.88        50\n        Itpr       0.61      0.46      0.52        37\n       Princ       0.69      0.65      0.67        17\n       Class       0.25      0.08      0.12        12\n         Aut       0.71      0.56      0.63         9\n        Syst       1.00      0.33      0.50         3\n        Tele       1.00      0.50      0.67         2\n\n   micro avg       0.78      0.74      0.76       198\n   macro avg       0.74      0.55      0.61       198\nweighted avg       0.75      0.74      0.73       198\n samples avg       0.79      0.77      0.76       198\n\nEpoch: 10  Lr: 0.00005000  Loss: Train = [0.0262] - Val = [0.2292]  Time one epoch (s): 73.9807 \n",
          "output_type": "stream"
        },
        {
          "name": "stderr",
          "text": "  0%|          | 0/28 [00:00<?, ?it/s]/tmp/ipykernel_23/136612130.py:11: UserWarning: To copy construct from a tensor, it is recommended to use sourceTensor.clone().detach() or sourceTensor.clone().detach().requires_grad_(True), rather than torch.tensor(sourceTensor).\n  return {key: torch.tensor(val[idx]) for key, val in self.encodings.items()}\nEpoch 11: 100%|██████████| 28/28 [01:06<00:00,  2.39s/it, loss=0.0213]\n100%|██████████| 5/5 [00:03<00:00,  1.43it/s]\n/opt/conda/lib/python3.10/site-packages/sklearn/metrics/_classification.py:1344: UndefinedMetricWarning: Precision and F-score are ill-defined and being set to 0.0 in samples with no predicted labels. Use `zero_division` parameter to control this behavior.\n  _warn_prf(average, modifier, msg_start, len(result))\n",
          "output_type": "stream"
        },
        {
          "name": "stdout",
          "text": "(156, 8)\n(156, 8) (156, 8)\n\n              precision    recall  f1-score   support\n\n        Rule       0.87      0.87      0.87        68\n        Prec       0.81      0.94      0.87        50\n        Itpr       0.69      0.54      0.61        37\n       Princ       0.65      0.65      0.65        17\n       Class       0.00      0.00      0.00        12\n         Aut       0.67      0.67      0.67         9\n        Syst       1.00      0.33      0.50         3\n        Tele       1.00      0.50      0.67         2\n\n   micro avg       0.78      0.73      0.76       198\n   macro avg       0.71      0.56      0.60       198\nweighted avg       0.74      0.73      0.73       198\n samples avg       0.80      0.77      0.77       198\n\nEpoch: 11  Lr: 0.00005000  Loss: Train = [0.0237] - Val = [0.2373]  Time one epoch (s): 73.9902 \n",
          "output_type": "stream"
        },
        {
          "name": "stderr",
          "text": "  0%|          | 0/28 [00:00<?, ?it/s]/tmp/ipykernel_23/136612130.py:11: UserWarning: To copy construct from a tensor, it is recommended to use sourceTensor.clone().detach() or sourceTensor.clone().detach().requires_grad_(True), rather than torch.tensor(sourceTensor).\n  return {key: torch.tensor(val[idx]) for key, val in self.encodings.items()}\nEpoch 12: 100%|██████████| 28/28 [01:06<00:00,  2.38s/it, loss=0.00641]\n100%|██████████| 5/5 [00:03<00:00,  1.43it/s]",
          "output_type": "stream"
        },
        {
          "name": "stdout",
          "text": "(156, 8)\n(156, 8) (156, 8)\n\n              precision    recall  f1-score   support\n\n        Rule       0.88      0.84      0.86        68\n        Prec       0.82      0.92      0.87        50\n        Itpr       0.62      0.57      0.59        37\n       Princ       0.61      0.65      0.63        17\n       Class       0.00      0.00      0.00        12\n         Aut       0.62      0.56      0.59         9\n        Syst       1.00      0.33      0.50         3\n        Tele       1.00      0.50      0.67         2\n\n   micro avg       0.76      0.72      0.74       198\n   macro avg       0.69      0.55      0.59       198\nweighted avg       0.73      0.72      0.72       198\n samples avg       0.78      0.76      0.75       198\n\nEpoch: 12  Lr: 0.00005000  Loss: Train = [0.0172] - Val = [0.2216]  Time one epoch (s): 73.7359 \nTime for 12 epochs (s): 879.561\nTRAINING COMPLETE.\n",
          "output_type": "stream"
        },
        {
          "name": "stderr",
          "text": "\n/opt/conda/lib/python3.10/site-packages/sklearn/metrics/_classification.py:1344: UndefinedMetricWarning: Precision and F-score are ill-defined and being set to 0.0 in samples with no predicted labels. Use `zero_division` parameter to control this behavior.\n  _warn_prf(average, modifier, msg_start, len(result))\n",
          "output_type": "stream"
        }
      ],
      "execution_count": null
    },
    {
      "cell_type": "code",
      "source": [
        "plt.figure(figsize=(10,5))\n",
        "\n",
        "plt.title(\"SC loss\" if scheme else \"AC loss\")\n",
        "\n",
        "plt.plot(statistics['train_loss_values'],label=\"train loss\")\n",
        "\n",
        "plt.plot(statistics['val_loss_values'],label=\"validation loss\")\n",
        "\n",
        "plt.xlabel(\"Epochs\")\n",
        "\n",
        "plt.xticks(np.arange(epochs), np.arange(1, epochs+1, 1))\n",
        "\n",
        "plt.ylabel(\"Loss\")\n",
        "\n",
        "\n",
        "\n",
        "plt.legend()\n",
        "\n",
        "plt.show()"
      ],
      "metadata": {
        "colab": {
          "base_uri": "https://localhost:8080/",
          "height": 487
        },
        "id": "wukQyjNxELuc",
        "outputId": "a167abed-b0d2-4f80-dfa2-e13874683a09",
        "execution": {
          "iopub.status.busy": "2024-12-20T11:43:50.966805Z",
          "iopub.execute_input": "2024-12-20T11:43:50.967061Z",
          "iopub.status.idle": "2024-12-20T11:43:51.240257Z",
          "shell.execute_reply.started": "2024-12-20T11:43:50.967035Z",
          "shell.execute_reply": "2024-12-20T11:43:51.239492Z"
        },
        "trusted": true
      },
      "outputs": [
        {
          "output_type": "display_data",
          "data": {
            "text/plain": "<Figure size 1000x500 with 1 Axes>",
            "image/png": "[encoded data removed]"
          },
          "metadata": {}
        }
      ],
      "execution_count": null
    },
    {
      "cell_type": "markdown",
      "source": [
        "# Evaluation"
      ],
      "metadata": {
        "id": "UmcR3Xs4Ipff"
      }
    },
    {
      "cell_type": "markdown",
      "source": [
        "## AC Evaluation"
      ],
      "metadata": {
        "id": "G44CJgw5k6HH"
      }
    },
    {
      "cell_type": "code",
      "source": [
        "def predict(model, data_loader, use_cuda=True):\n",
        "\n",
        "    '''\n",
        "\n",
        "    Args:\n",
        "\n",
        "      model: trained model.\n",
        "\n",
        "      data_loader: source of evaluation data.\n",
        "\n",
        "\n",
        "\n",
        "    Returns:\n",
        "\n",
        "      pred_emo: predicted emotions.\n",
        "\n",
        "      pred_tri: predicted thresholded triggers.\n",
        "\n",
        "      pred_tri_orig: raw model's trigger predictions.\n",
        "\n",
        "    '''\n",
        "\n",
        "    device = torch.device('cuda') if use_cuda and torch.cuda.is_available() else torch.device('cpu')\n",
        "\n",
        "    model.eval()\n",
        "\n",
        "    model.to(device)\n",
        "\n",
        "    predictions = []\n",
        "\n",
        "    with torch.no_grad():\n",
        "\n",
        "        for step_num, batch in tqdm(enumerate(data_loader)):\n",
        "\n",
        "            input_ids = batch['input_ids'].to(device)\n",
        "\n",
        "            attention_mask = batch['attention_mask'].to(device)\n",
        "\n",
        "            #labels_emo = batch['labels'].to(device)\n",
        "\n",
        "            output = model(input_ids, attention_mask=attention_mask)\n",
        "\n",
        "            pred= output\n",
        "\n",
        "            pred = pred.cpu().detach().numpy()\n",
        "\n",
        "            predictions.append(np.argmax(pred,axis=-1))\n",
        "\n",
        "    predictions = np.concatenate(predictions)\n",
        "\n",
        "\n",
        "\n",
        "    return predictions"
      ],
      "metadata": {
        "id": "YXVlJ2Ask6HI",
        "execution": {
          "iopub.status.busy": "2024-12-20T11:43:51.241565Z",
          "iopub.execute_input": "2024-12-20T11:43:51.241934Z",
          "iopub.status.idle": "2024-12-20T11:43:51.248135Z",
          "shell.execute_reply.started": "2024-12-20T11:43:51.241894Z",
          "shell.execute_reply": "2024-12-20T11:43:51.247338Z"
        },
        "trusted": true
      },
      "outputs": [],
      "execution_count": null
    },
    {
      "cell_type": "code",
      "source": [
        "#base_test_encodings = base_tokenizer.transform(df_test)\n",
        "\n",
        "train_encodings = encode(tokenizer, df_train, train_labels, include_previous=INCLUDE_PREVIOUS)\n",
        "\n",
        "val_encodings = encode(tokenizer, df_val, val_labels, include_previous=INCLUDE_PREVIOUS)\n",
        "\n",
        "test_encodings = encode(tokenizer,df_test,test_labels, include_previous=INCLUDE_PREVIOUS)\n",
        "\n",
        "print(f'ENCODING COMPLETE.')\n",
        "\n",
        "\n"
      ],
      "metadata": {
        "colab": {
          "base_uri": "https://localhost:8080/"
        },
        "id": "PCgQatSWHpjs",
        "outputId": "977aa9a7-4b19-4c78-f5af-4721490f04d2",
        "execution": {
          "iopub.status.busy": "2024-12-20T11:43:51.250529Z",
          "iopub.execute_input": "2024-12-20T11:43:51.251034Z",
          "iopub.status.idle": "2024-12-20T11:43:51.615356Z",
          "shell.execute_reply.started": "2024-12-20T11:43:51.251006Z",
          "shell.execute_reply": "2024-12-20T11:43:51.614467Z"
        },
        "trusted": true
      },
      "outputs": [
        {
          "name": "stdout",
          "text": "Encoding...\ninput shape: (878, 512)\nEncoding complete\nEncoding...\ninput shape: (156, 512)\nEncoding complete\nEncoding...\ninput shape: (253, 512)\nEncoding complete\nENCODING COMPLETE.\n",
          "output_type": "stream"
        }
      ],
      "execution_count": null
    },
    {
      "cell_type": "code",
      "source": [
        "if not scheme:\n",
        "\n",
        "    #create val dataset\n",
        "\n",
        "    val_dataset = CustomTorchDataset(val_encodings)\n",
        "\n",
        "    #create val dataloader\n",
        "\n",
        "    data_loader_val = torch.utils.data.DataLoader(val_dataset,\n",
        "\n",
        "                                      batch_size=batch_size,\n",
        "\n",
        "                                      shuffle = False)\n",
        "\n",
        "    y_true = val_labels\n",
        "\n",
        "    y_pred = predict(model,data_loader_val)\n",
        "\n",
        "    print('/n'+\"\"+classification_report(y_true, y_pred))"
      ],
      "metadata": {
        "id": "evF5Sv-FI4gM",
        "execution": {
          "iopub.status.busy": "2024-12-20T11:43:51.616298Z",
          "iopub.execute_input": "2024-12-20T11:43:51.616565Z",
          "iopub.status.idle": "2024-12-20T11:43:51.621038Z",
          "shell.execute_reply.started": "2024-12-20T11:43:51.616537Z",
          "shell.execute_reply": "2024-12-20T11:43:51.620159Z"
        },
        "trusted": true
      },
      "outputs": [],
      "execution_count": null
    },
    {
      "cell_type": "code",
      "source": [
        "if not scheme:\n",
        "\n",
        "    y_true = test_labels\n",
        "\n",
        "\n",
        "\n",
        "    #y_pred = base_model.predict(base_test_encodings)\n",
        "\n",
        "    #print(\"\\n Baseline: \\n\"+classification_report(y_true, y_pred))\n",
        "\n",
        "\n",
        "\n",
        "    #create test dataset\n",
        "\n",
        "    test_dataset = CustomTorchDataset(test_encodings)\n",
        "\n",
        "    #create test dataloader\n",
        "\n",
        "    data_loader_test = torch.utils.data.DataLoader(test_dataset,\n",
        "\n",
        "                                      batch_size=batch_size,\n",
        "\n",
        "                                      shuffle = False)\n",
        "\n",
        "    y_pred = predict(model,data_loader_test)\n",
        "\n",
        "    print(\"\\n Actual model: \\n\"+classification_report(y_true, y_pred))"
      ],
      "metadata": {
        "id": "Ush1RZsJInKS",
        "execution": {
          "iopub.status.busy": "2024-12-20T11:43:51.622185Z",
          "iopub.execute_input": "2024-12-20T11:43:51.622558Z",
          "iopub.status.idle": "2024-12-20T11:43:51.632641Z",
          "shell.execute_reply.started": "2024-12-20T11:43:51.622516Z",
          "shell.execute_reply": "2024-12-20T11:43:51.632087Z"
        },
        "trusted": true
      },
      "outputs": [],
      "execution_count": null
    },
    {
      "cell_type": "code",
      "source": [
        "#score = f1_score(y_true, y_pred, labels=df_test['label'].unique(), average='macro')"
      ],
      "metadata": {
        "id": "dkfPd-JCDh4b",
        "execution": {
          "iopub.status.busy": "2024-12-20T11:43:51.633493Z",
          "iopub.execute_input": "2024-12-20T11:43:51.63374Z",
          "iopub.status.idle": "2024-12-20T11:43:51.649418Z",
          "shell.execute_reply.started": "2024-12-20T11:43:51.633715Z",
          "shell.execute_reply": "2024-12-20T11:43:51.648843Z"
        },
        "trusted": true
      },
      "outputs": [],
      "execution_count": null
    },
    {
      "cell_type": "markdown",
      "source": [
        "## SC Evaluation"
      ],
      "metadata": {
        "id": "X-Ss9wCcD8FZ"
      }
    },
    {
      "cell_type": "code",
      "source": [
        "def evaluate(model, data_loader, use_cuda=True):\n",
        "\n",
        "    predictions = []\n",
        "\n",
        "    device = torch.device('cuda') if use_cuda and torch.cuda.is_available() else torch.device('cpu')\n",
        "\n",
        "    model.eval()\n",
        "\n",
        "    model.to(device)\n",
        "\n",
        "    loop = tqdm(data_loader)\n",
        "\n",
        "    with torch.no_grad():\n",
        "\n",
        "        for batch in loop:\n",
        "\n",
        "            pred = model(batch['input_ids'].to(device), attention_mask = batch[\"attention_mask\"].to(device))\n",
        "\n",
        "            pred = pred.cpu().detach().numpy()\n",
        "\n",
        "            predictions.append(pred)\n",
        "\n",
        "    predictions = np.concatenate(predictions)\n",
        "\n",
        "    return predictions"
      ],
      "metadata": {
        "id": "27pqaaD6D_36",
        "trusted": true,
        "execution": {
          "iopub.status.busy": "2024-12-20T11:43:51.650329Z",
          "iopub.execute_input": "2024-12-20T11:43:51.650672Z",
          "iopub.status.idle": "2024-12-20T11:43:51.66223Z",
          "shell.execute_reply.started": "2024-12-20T11:43:51.650631Z",
          "shell.execute_reply": "2024-12-20T11:43:51.661619Z"
        }
      },
      "outputs": [],
      "execution_count": null
    },
    {
      "cell_type": "code",
      "source": [
        "from sklearn.metrics import classification_report,f1_score\n",
        "\n",
        "\n",
        "TRAIN = False\n",
        "if scheme:\n",
        "\n",
        "    #y_pred = base_model.predict(base_test_encodings)\n",
        "\n",
        "    #print(\"\\n Baseline: \\n\"+classification_report(df_test['Scheme'], y_pred))\n",
        "\n",
        "\n",
        "\n",
        "    test_encodings = encode(tokenizer,df_test,test_labels,scheme,include_previous=INCLUDE_PREVIOUS)\n",
        "    train_encodings = encode(tokenizer,df_train,train_labels,scheme,include_previous=INCLUDE_PREVIOUS)\n",
        "    #create test dataset\n",
        "\n",
        "    test_dataset = CustomTorchDataset(test_encodings)\n",
        "    train_dataset = CustomTorchDataset(train_encodings)\n",
        "\n",
        "    #create test dataloader\n",
        "\n",
        "    data_loader_test = torch.utils.data.DataLoader(test_dataset,\n",
        "\n",
        "                                        batch_size=batch_size,\n",
        "\n",
        "                                        shuffle = False)\n",
        "    data_loader_train = torch.utils.data.DataLoader(train_dataset,\n",
        "\n",
        "                                        batch_size=batch_size,\n",
        "\n",
        "                                        shuffle = False)\n",
        "\n",
        "\n",
        "    train_predictions = evaluate(model, data_loader_train)\n",
        "    test_predictions = evaluate(model, data_loader_test)\n",
        "    if TRAIN:\n",
        "        y_pred = np.where(train_predictions<0.5, 0., 1.)\n",
        "        y_true = np.array(train_labels)\n",
        "    else:\n",
        "        y_pred = np.where(test_predictions<0.5, 0., 1.)\n",
        "        y_true = np.array(test_labels)\n",
        "\n",
        "\n",
        "    #print(y_pred)\n",
        "\n",
        "\n",
        "    print(y_true.shape,y_pred.shape)\n",
        "    print(\"\\n\"+classification_report(y_true, y_pred,target_names = sc_classes))"
      ],
      "metadata": {
        "colab": {
          "base_uri": "https://localhost:8080/"
        },
        "id": "rP5_dPbJFHnt",
        "outputId": "96bee6bb-1ddb-414e-8dcb-853dea181c5e",
        "trusted": true,
        "execution": {
          "iopub.status.busy": "2024-12-20T11:43:51.663313Z",
          "iopub.execute_input": "2024-12-20T11:43:51.664056Z",
          "iopub.status.idle": "2024-12-20T11:44:30.271254Z",
          "shell.execute_reply.started": "2024-12-20T11:43:51.664027Z",
          "shell.execute_reply": "2024-12-20T11:44:30.270357Z"
        }
      },
      "outputs": [
        {
          "name": "stdout",
          "text": "Encoding...\ninput shape: (253, 512)\nEncoding complete\nEncoding...\ninput shape: (878, 512)\nEncoding complete\n",
          "output_type": "stream"
        },
        {
          "name": "stderr",
          "text": "  0%|          | 0/28 [00:00<?, ?it/s]/tmp/ipykernel_23/136612130.py:11: UserWarning: To copy construct from a tensor, it is recommended to use sourceTensor.clone().detach() or sourceTensor.clone().detach().requires_grad_(True), rather than torch.tensor(sourceTensor).\n  return {key: torch.tensor(val[idx]) for key, val in self.encodings.items()}\n100%|██████████| 28/28 [00:29<00:00,  1.06s/it]\n100%|██████████| 8/8 [00:08<00:00,  1.08s/it]",
          "output_type": "stream"
        },
        {
          "name": "stdout",
          "text": "(253, 8) (253, 8)\n\n              precision    recall  f1-score   support\n\n        Rule       0.89      0.82      0.85       114\n        Prec       0.77      0.95      0.85        83\n        Itpr       0.57      0.48      0.52        62\n       Princ       0.62      0.45      0.52        29\n       Class       0.20      0.50      0.29        20\n         Aut       0.41      0.64      0.50        14\n        Syst       1.00      0.20      0.33         5\n        Tele       0.40      0.67      0.50         3\n\n   micro avg       0.66      0.72      0.69       330\n   macro avg       0.61      0.59      0.55       330\nweighted avg       0.71      0.72      0.70       330\n samples avg       0.70      0.75      0.70       330\n\n",
          "output_type": "stream"
        },
        {
          "name": "stderr",
          "text": "\n/opt/conda/lib/python3.10/site-packages/sklearn/metrics/_classification.py:1344: UndefinedMetricWarning: Precision and F-score are ill-defined and being set to 0.0 in samples with no predicted labels. Use `zero_division` parameter to control this behavior.\n  _warn_prf(average, modifier, msg_start, len(result))\n",
          "output_type": "stream"
        }
      ],
      "execution_count": null
    },
    {
      "cell_type": "markdown",
      "source": [
        "             precision    recall  f1-score   support\n",
        "\n",
        "        Rule       0.90      0.88      0.89        86\n",
        "        Prec       0.92      0.92      0.92        62\n",
        "        Itpr       0.53      0.35      0.42        46\n",
        "       Princ       0.38      0.48      0.43        21\n",
        "       Class       0.83      0.33      0.48        15\n",
        "         Aut       0.67      0.55      0.60        11\n",
        "        Syst       0.75      0.75      0.75         4\n",
        "        Tele       1.00      0.33      0.50         3\n",
        "\n",
        "   micro avg       0.78      0.70      0.74       248\n",
        "   macro avg       0.75      0.57      0.62       248\n",
        "weighted avg       0.78      0.70      0.73       248\n",
        " samples avg       0.76      0.73      0.73       248"
      ],
      "metadata": {
        "id": "4fPEc-3w5Gst"
      }
    },
    {
      "cell_type": "code",
      "source": [
        "\n",
        "torch.cuda.empty_cache()\n",
        "gc.collect()\n",
        "model.cpu()\n",
        "del model"
      ],
      "metadata": {
        "trusted": true,
        "execution": {
          "iopub.status.busy": "2024-12-13T10:19:20.273512Z",
          "iopub.execute_input": "2024-12-13T10:19:20.274359Z",
          "iopub.status.idle": "2024-12-13T10:19:21.683971Z",
          "shell.execute_reply.started": "2024-12-13T10:19:20.274322Z",
          "shell.execute_reply": "2024-12-13T10:19:21.68331Z"
        },
        "id": "KZTGkiZO5Gst"
      },
      "outputs": [],
      "execution_count": null
    },
    {
      "cell_type": "markdown",
      "source": [
        "## GE3(embedding augmentation)"
      ],
      "metadata": {
        "id": "VsUvs19z5Gsu"
      }
    },
    {
      "cell_type": "code",
      "source": [
        "class Classifier(nn.Module):\n",
        "\n",
        "    def __init__(self, output_size):\n",
        "        super(Classifier, self).__init__()\n",
        "        self.output_size = output_size\n",
        "        self.cl1 = nn.Linear(768, 768)\n",
        "        self.relu = nn.ReLU()\n",
        "        self.classifier = nn.Linear(768, self.output_size)\n",
        "\n",
        "    def forward(self, input):\n",
        "\n",
        "        x = self.cl1(input)\n",
        "        x = self.relu(x)\n",
        "        x = self.classifier(x)\n",
        "        x = torch.sigmoid(x)\n",
        "        return x"
      ],
      "metadata": {
        "trusted": true,
        "execution": {
          "iopub.status.busy": "2024-12-15T11:40:10.062007Z",
          "iopub.execute_input": "2024-12-15T11:40:10.062302Z",
          "iopub.status.idle": "2024-12-15T11:40:10.067933Z",
          "shell.execute_reply.started": "2024-12-15T11:40:10.062267Z",
          "shell.execute_reply": "2024-12-15T11:40:10.066953Z"
        },
        "id": "ggfTEHUG5Gsu"
      },
      "outputs": [],
      "execution_count": null
    },
    {
      "cell_type": "code",
      "source": [
        "cls = Classifier(num_labels)\n",
        "cls"
      ],
      "metadata": {
        "trusted": true,
        "execution": {
          "iopub.status.busy": "2024-12-15T11:40:10.069228Z",
          "iopub.execute_input": "2024-12-15T11:40:10.070088Z",
          "iopub.status.idle": "2024-12-15T11:40:10.087891Z",
          "shell.execute_reply.started": "2024-12-15T11:40:10.070041Z",
          "shell.execute_reply": "2024-12-15T11:40:10.087208Z"
        },
        "id": "nwW799aA5Gsu",
        "outputId": "791d390b-c89d-4e65-997f-822fcaf346b7"
      },
      "outputs": [
        {
          "execution_count": 94,
          "output_type": "execute_result",
          "data": {
            "text/plain": "Classifier(\n  (cl1): Linear(in_features=768, out_features=768, bias=True)\n  (relu): ReLU()\n  (classifier): Linear(in_features=768, out_features=8, bias=True)\n)"
          },
          "metadata": {}
        }
      ],
      "execution_count": null
    },
    {
      "cell_type": "code",
      "source": [
        "for name, layer in model.named_modules():\n",
        "    break\n",
        "    print(name)"
      ],
      "metadata": {
        "trusted": true,
        "execution": {
          "iopub.status.busy": "2024-12-15T11:40:10.0889Z",
          "iopub.execute_input": "2024-12-15T11:40:10.089172Z",
          "iopub.status.idle": "2024-12-15T11:40:10.093771Z",
          "shell.execute_reply.started": "2024-12-15T11:40:10.089146Z",
          "shell.execute_reply": "2024-12-15T11:40:10.09291Z"
        },
        "id": "mZbbQKu-5Gsu"
      },
      "outputs": [],
      "execution_count": null
    },
    {
      "cell_type": "code",
      "source": [
        "import time\n",
        "start = time.time()\n",
        "l = ['cl1','classifier']\n",
        "\n",
        "sub_dict = {k:v for k,v in model.state_dict().items() if k in l}\n",
        "end = time.time()\n",
        "\n",
        "print(start-end)\n",
        "\n",
        "\n",
        "sub_dict"
      ],
      "metadata": {
        "trusted": true,
        "execution": {
          "iopub.status.busy": "2024-12-15T11:40:10.094709Z",
          "iopub.execute_input": "2024-12-15T11:40:10.094987Z",
          "iopub.status.idle": "2024-12-15T11:40:10.109815Z",
          "shell.execute_reply.started": "2024-12-15T11:40:10.094961Z",
          "shell.execute_reply": "2024-12-15T11:40:10.109049Z"
        },
        "id": "RJofdg945Gsv",
        "outputId": "fcf30d86-4550-4154-969c-8824dc55c422"
      },
      "outputs": [
        {
          "name": "stdout",
          "text": "-0.0028679370880126953\n",
          "output_type": "stream"
        },
        {
          "execution_count": 96,
          "output_type": "execute_result",
          "data": {
            "text/plain": "{}"
          },
          "metadata": {}
        }
      ],
      "execution_count": null
    },
    {
      "cell_type": "code",
      "source": [
        "sub = dict(list(model.state_dict().items())[-4:])\n",
        "sub.keys()"
      ],
      "metadata": {
        "trusted": true,
        "execution": {
          "iopub.status.busy": "2024-12-15T11:40:10.110654Z",
          "iopub.execute_input": "2024-12-15T11:40:10.110975Z",
          "iopub.status.idle": "2024-12-15T11:40:10.119491Z",
          "shell.execute_reply.started": "2024-12-15T11:40:10.110934Z",
          "shell.execute_reply": "2024-12-15T11:40:10.118785Z"
        },
        "id": "UXzRXeho5Gsv",
        "outputId": "98cd6e74-11f0-48ac-c720-fc039d3be057"
      },
      "outputs": [
        {
          "execution_count": 97,
          "output_type": "execute_result",
          "data": {
            "text/plain": "dict_keys(['cl1.weight', 'cl1.bias', 'classifier.weight', 'classifier.bias'])"
          },
          "metadata": {}
        }
      ],
      "execution_count": null
    },
    {
      "cell_type": "code",
      "source": [
        "cls.load_state_dict(sub)"
      ],
      "metadata": {
        "trusted": true,
        "execution": {
          "iopub.status.busy": "2024-12-15T11:40:10.12055Z",
          "iopub.execute_input": "2024-12-15T11:40:10.121155Z",
          "iopub.status.idle": "2024-12-15T11:40:10.13038Z",
          "shell.execute_reply.started": "2024-12-15T11:40:10.121117Z",
          "shell.execute_reply": "2024-12-15T11:40:10.129595Z"
        },
        "id": "VtLqf0bw5Gsv",
        "outputId": "5b41e6fc-e71c-4243-a347-be88d728740d"
      },
      "outputs": [
        {
          "execution_count": 98,
          "output_type": "execute_result",
          "data": {
            "text/plain": "<All keys matched successfully>"
          },
          "metadata": {}
        }
      ],
      "execution_count": null
    },
    {
      "cell_type": "code",
      "source": [
        "cls(torch.zeros((5,768))).size()"
      ],
      "metadata": {
        "trusted": true,
        "execution": {
          "iopub.status.busy": "2024-12-15T11:40:10.131444Z",
          "iopub.execute_input": "2024-12-15T11:40:10.131682Z",
          "iopub.status.idle": "2024-12-15T11:40:10.147042Z",
          "shell.execute_reply.started": "2024-12-15T11:40:10.131657Z",
          "shell.execute_reply": "2024-12-15T11:40:10.146133Z"
        },
        "id": "ZfdTqmvV5Gsv",
        "outputId": "a3883b8c-2c98-41fa-94dc-42e2e717fc20"
      },
      "outputs": [
        {
          "execution_count": 99,
          "output_type": "execute_result",
          "data": {
            "text/plain": "torch.Size([5, 8])"
          },
          "metadata": {}
        }
      ],
      "execution_count": null
    },
    {
      "cell_type": "code",
      "source": [
        "#m,t= getModel(\"dlicari/Italian-Legal-BERT\",num_labels,scheme = True)\n",
        "m,t = model,tokenizer\n",
        "train_encodings = encode(t, df_train, train_labels, scheme, include_previous=False)\n",
        "tot =  len(train_encodings['input_ids'])\n",
        "device = torch.device('cuda')\n",
        "m.to(device)\n",
        "print(tot)\n",
        "b_size = 32\n",
        "n_minibatch = tot //b_size\n",
        "print(f\"n_minibatches: {n_minibatch}\")\n",
        "embeddings= []\n",
        "for i in range(n_minibatch):\n",
        "    start = i*b_size\n",
        "    end = (i+1)*b_size\n",
        "    with torch.no_grad():\n",
        "        input = torch.stack([torch.tensor(t,device=device) for t in train_encodings['input_ids'][start:end]])\n",
        "        mask = torch.stack([torch.tensor(t,device=device) for t in train_encodings['attention_mask'][start:end]])\n",
        "        #out = m(torch.tensor(train_encodings['input_ids'][start:end],device=device),torch.tensor(train_encodings['attention_mask'][start:end],device=device))\n",
        "        #print(input.size())\n",
        "        out = m(input,mask,only_embeddings=True)\n",
        "\n",
        "    embeddings = embeddings + list(out)\n",
        "tot = len(embeddings)\n",
        "print(tot)"
      ],
      "metadata": {
        "execution": {
          "iopub.status.busy": "2024-12-15T11:40:10.148042Z",
          "iopub.execute_input": "2024-12-15T11:40:10.148291Z",
          "iopub.status.idle": "2024-12-15T11:40:33.480083Z",
          "shell.execute_reply.started": "2024-12-15T11:40:10.148265Z",
          "shell.execute_reply": "2024-12-15T11:40:33.479181Z"
        },
        "trusted": true,
        "id": "MZTW2lRk5Gsv",
        "outputId": "b06cd7c6-8bce-4d63-b801-870bcc12c8c9"
      },
      "outputs": [
        {
          "name": "stdout",
          "text": "Encoding...\ninput shape: (878, 410)\nEncoding complete\n878\nn_minibatches: 27\n864\n",
          "output_type": "stream"
        }
      ],
      "execution_count": null
    },
    {
      "cell_type": "code",
      "source": [
        "train_labels\n",
        "for x in np.array(train_labels):\n",
        "    if list(x).count(1) > 1:\n",
        "        break\n",
        "        #print(x)\n",
        "lab = df_train['Scheme'][:tot].reset_index(drop=True)\n",
        "lab"
      ],
      "metadata": {
        "execution": {
          "iopub.status.busy": "2024-12-15T11:40:33.481251Z",
          "iopub.execute_input": "2024-12-15T11:40:33.481573Z",
          "iopub.status.idle": "2024-12-15T11:40:33.490244Z",
          "shell.execute_reply.started": "2024-12-15T11:40:33.481544Z",
          "shell.execute_reply": "2024-12-15T11:40:33.489299Z"
        },
        "trusted": true,
        "id": "HcEjmgzW5Gsw",
        "outputId": "a0bd658a-87a2-498b-b30d-51ca67544d32"
      },
      "outputs": [
        {
          "execution_count": 101,
          "output_type": "execute_result",
          "data": {
            "text/plain": "0               Rule\n1               Itpr\n2               Rule\n3               Rule\n4       [Itpr, Prec]\n           ...      \n859     [Prec, Rule]\n860     [Prec, Rule]\n861             Rule\n862    [Class, Rule]\n863            Princ\nName: Scheme, Length: 864, dtype: object"
          },
          "metadata": {}
        }
      ],
      "execution_count": null
    },
    {
      "cell_type": "code",
      "source": [
        "print(torch.stack(embeddings).unsqueeze(1).size())\n",
        "e = torch.stack(embeddings).detach().cpu().numpy()\n",
        "def compress(x):\n",
        "    return list(x)\n",
        "\n",
        "e1 = list(map(compress, e))\n",
        "np.array(e1).shape\n",
        "enc_lab = np.array(train_labels[:tot])\n",
        "len(enc_lab.tolist())"
      ],
      "metadata": {
        "trusted": true,
        "execution": {
          "iopub.status.busy": "2024-12-15T11:40:33.491189Z",
          "iopub.execute_input": "2024-12-15T11:40:33.491434Z",
          "iopub.status.idle": "2024-12-15T11:40:34.429598Z",
          "shell.execute_reply.started": "2024-12-15T11:40:33.491409Z",
          "shell.execute_reply": "2024-12-15T11:40:34.428748Z"
        },
        "id": "sveg88sN5Gsw",
        "outputId": "0b8f8bee-d9eb-4e02-9d3b-02265545b561"
      },
      "outputs": [
        {
          "name": "stdout",
          "text": "torch.Size([864, 1, 768])\n",
          "output_type": "stream"
        },
        {
          "execution_count": 102,
          "output_type": "execute_result",
          "data": {
            "text/plain": "864"
          },
          "metadata": {}
        }
      ],
      "execution_count": null
    },
    {
      "cell_type": "code",
      "source": [
        "e = torch.stack(embeddings).detach().cpu().numpy()\n",
        "df = pd.DataFrame()\n",
        "#df.head(10)\n",
        "df['embeddings'] = e.tolist()\n",
        "#df.assign(embeddings=list(e))\n",
        "#df.assign(labels=lab.tolist())\n",
        "df['labels'] = lab\n",
        "#df['enc_labels'] = enc_lab.tolist()\n",
        "#df.head(10)\n",
        "df"
      ],
      "metadata": {
        "execution": {
          "iopub.status.busy": "2024-12-15T11:40:34.430602Z",
          "iopub.execute_input": "2024-12-15T11:40:34.430899Z",
          "iopub.status.idle": "2024-12-15T11:40:34.477897Z",
          "shell.execute_reply.started": "2024-12-15T11:40:34.430848Z",
          "shell.execute_reply": "2024-12-15T11:40:34.477069Z"
        },
        "trusted": true,
        "id": "anouYQPH5Gsw",
        "outputId": "fa90cd38-10a1-416c-8eca-e5333aa53ba8"
      },
      "outputs": [
        {
          "execution_count": 103,
          "output_type": "execute_result",
          "data": {
            "text/plain": "                                            embeddings         labels\n0    [-0.6425947546958923, 0.49876999855041504, -0....           Rule\n1    [0.7353600263595581, 0.2940705120563507, 0.370...           Itpr\n2    [-0.4840069115161896, 0.3996689021587372, -0.7...           Rule\n3    [-0.606418251991272, 0.5708830952644348, -0.81...           Rule\n4    [0.6229081153869629, 0.3674868047237396, 0.496...   [Itpr, Prec]\n..                                                 ...            ...\n859  [-0.33637452125549316, 0.28232645988464355, -0...   [Prec, Rule]\n860  [-0.3831097483634949, 0.10311482101678848, -0....   [Prec, Rule]\n861  [-0.7380532026290894, 0.3156740963459015, -0.8...           Rule\n862  [0.15592938661575317, -0.08031386137008667, -0...  [Class, Rule]\n863  [0.07925524562597275, -0.3112379014492035, -0....          Princ\n\n[864 rows x 2 columns]",
            "text/html": "<div>\n<style scoped>\n    .dataframe tbody tr th:only-of-type {\n        vertical-align: middle;\n    }\n\n    .dataframe tbody tr th {\n        vertical-align: top;\n    }\n\n    .dataframe thead th {\n        text-align: right;\n    }\n</style>\n<table border=\"1\" class=\"dataframe\">\n  <thead>\n    <tr style=\"text-align: right;\">\n      <th></th>\n      <th>embeddings</th>\n      <th>labels</th>\n    </tr>\n  </thead>\n  <tbody>\n    <tr>\n      <th>0</th>\n      <td>[-0.6425947546958923, 0.49876999855041504, -0....</td>\n      <td>Rule</td>\n    </tr>\n    <tr>\n      <th>1</th>\n      <td>[0.7353600263595581, 0.2940705120563507, 0.370...</td>\n      <td>Itpr</td>\n    </tr>\n    <tr>\n      <th>2</th>\n      <td>[-0.4840069115161896, 0.3996689021587372, -0.7...</td>\n      <td>Rule</td>\n    </tr>\n    <tr>\n      <th>3</th>\n      <td>[-0.606418251991272, 0.5708830952644348, -0.81...</td>\n      <td>Rule</td>\n    </tr>\n    <tr>\n      <th>4</th>\n      <td>[0.6229081153869629, 0.3674868047237396, 0.496...</td>\n      <td>[Itpr, Prec]</td>\n    </tr>\n    <tr>\n      <th>...</th>\n      <td>...</td>\n      <td>...</td>\n    </tr>\n    <tr>\n      <th>859</th>\n      <td>[-0.33637452125549316, 0.28232645988464355, -0...</td>\n      <td>[Prec, Rule]</td>\n    </tr>\n    <tr>\n      <th>860</th>\n      <td>[-0.3831097483634949, 0.10311482101678848, -0....</td>\n      <td>[Prec, Rule]</td>\n    </tr>\n    <tr>\n      <th>861</th>\n      <td>[-0.7380532026290894, 0.3156740963459015, -0.8...</td>\n      <td>Rule</td>\n    </tr>\n    <tr>\n      <th>862</th>\n      <td>[0.15592938661575317, -0.08031386137008667, -0...</td>\n      <td>[Class, Rule]</td>\n    </tr>\n    <tr>\n      <th>863</th>\n      <td>[0.07925524562597275, -0.3112379014492035, -0....</td>\n      <td>Princ</td>\n    </tr>\n  </tbody>\n</table>\n<p>864 rows × 2 columns</p>\n</div>"
          },
          "metadata": {}
        }
      ],
      "execution_count": null
    },
    {
      "cell_type": "code",
      "source": [
        "df = clean_list(df,'labels')\n",
        "df"
      ],
      "metadata": {
        "execution": {
          "iopub.status.busy": "2024-12-15T11:40:34.478773Z",
          "iopub.execute_input": "2024-12-15T11:40:34.479037Z",
          "iopub.status.idle": "2024-12-15T11:40:34.633213Z",
          "shell.execute_reply.started": "2024-12-15T11:40:34.479011Z",
          "shell.execute_reply": "2024-12-15T11:40:34.632323Z"
        },
        "trusted": true,
        "id": "Q6jzpREw5Gsz",
        "outputId": "6ca15861-5775-45a4-bc85-6c2be3ff1391"
      },
      "outputs": [
        {
          "execution_count": 104,
          "output_type": "execute_result",
          "data": {
            "text/plain": "                                            embeddings         labels  \\\n0    [-0.6425947546958923, 0.49876999855041504, -0....           Rule   \n1    [0.7353600263595581, 0.2940705120563507, 0.370...           Itpr   \n2    [-0.4840069115161896, 0.3996689021587372, -0.7...           Rule   \n3    [-0.606418251991272, 0.5708830952644348, -0.81...           Rule   \n4    [0.6229081153869629, 0.3674868047237396, 0.496...   [Itpr, Prec]   \n..                                                 ...            ...   \n859  [-0.33637452125549316, 0.28232645988464355, -0...   [Prec, Rule]   \n860  [-0.3831097483634949, 0.10311482101678848, -0....   [Prec, Rule]   \n861  [-0.7380532026290894, 0.3156740963459015, -0.8...           Rule   \n862  [0.15592938661575317, -0.08031386137008667, -0...  [Class, Rule]   \n863  [0.07925524562597275, -0.3112379014492035, -0....          Princ   \n\n        labels2  \n0          Rule  \n1          Itpr  \n2          Rule  \n3          Rule  \n4     Itpr,Prec  \n..          ...  \n859   Prec,Rule  \n860   Prec,Rule  \n861        Rule  \n862  Class,Rule  \n863       Princ  \n\n[864 rows x 3 columns]",
            "text/html": "<div>\n<style scoped>\n    .dataframe tbody tr th:only-of-type {\n        vertical-align: middle;\n    }\n\n    .dataframe tbody tr th {\n        vertical-align: top;\n    }\n\n    .dataframe thead th {\n        text-align: right;\n    }\n</style>\n<table border=\"1\" class=\"dataframe\">\n  <thead>\n    <tr style=\"text-align: right;\">\n      <th></th>\n      <th>embeddings</th>\n      <th>labels</th>\n      <th>labels2</th>\n    </tr>\n  </thead>\n  <tbody>\n    <tr>\n      <th>0</th>\n      <td>[-0.6425947546958923, 0.49876999855041504, -0....</td>\n      <td>Rule</td>\n      <td>Rule</td>\n    </tr>\n    <tr>\n      <th>1</th>\n      <td>[0.7353600263595581, 0.2940705120563507, 0.370...</td>\n      <td>Itpr</td>\n      <td>Itpr</td>\n    </tr>\n    <tr>\n      <th>2</th>\n      <td>[-0.4840069115161896, 0.3996689021587372, -0.7...</td>\n      <td>Rule</td>\n      <td>Rule</td>\n    </tr>\n    <tr>\n      <th>3</th>\n      <td>[-0.606418251991272, 0.5708830952644348, -0.81...</td>\n      <td>Rule</td>\n      <td>Rule</td>\n    </tr>\n    <tr>\n      <th>4</th>\n      <td>[0.6229081153869629, 0.3674868047237396, 0.496...</td>\n      <td>[Itpr, Prec]</td>\n      <td>Itpr,Prec</td>\n    </tr>\n    <tr>\n      <th>...</th>\n      <td>...</td>\n      <td>...</td>\n      <td>...</td>\n    </tr>\n    <tr>\n      <th>859</th>\n      <td>[-0.33637452125549316, 0.28232645988464355, -0...</td>\n      <td>[Prec, Rule]</td>\n      <td>Prec,Rule</td>\n    </tr>\n    <tr>\n      <th>860</th>\n      <td>[-0.3831097483634949, 0.10311482101678848, -0....</td>\n      <td>[Prec, Rule]</td>\n      <td>Prec,Rule</td>\n    </tr>\n    <tr>\n      <th>861</th>\n      <td>[-0.7380532026290894, 0.3156740963459015, -0.8...</td>\n      <td>Rule</td>\n      <td>Rule</td>\n    </tr>\n    <tr>\n      <th>862</th>\n      <td>[0.15592938661575317, -0.08031386137008667, -0...</td>\n      <td>[Class, Rule]</td>\n      <td>Class,Rule</td>\n    </tr>\n    <tr>\n      <th>863</th>\n      <td>[0.07925524562597275, -0.3112379014492035, -0....</td>\n      <td>Princ</td>\n      <td>Princ</td>\n    </tr>\n  </tbody>\n</table>\n<p>864 rows × 3 columns</p>\n</div>"
          },
          "metadata": {}
        }
      ],
      "execution_count": null
    },
    {
      "cell_type": "code",
      "source": [
        "#consider each combination of labels as a different label\n",
        "names = df['labels'].explode().unique()\n",
        "len(names)\n",
        "names"
      ],
      "metadata": {
        "execution": {
          "iopub.status.busy": "2024-12-15T11:40:34.634249Z",
          "iopub.execute_input": "2024-12-15T11:40:34.634513Z",
          "iopub.status.idle": "2024-12-15T11:40:34.641339Z",
          "shell.execute_reply.started": "2024-12-15T11:40:34.634487Z",
          "shell.execute_reply": "2024-12-15T11:40:34.640615Z"
        },
        "trusted": true,
        "id": "vq7tS4vV5Gsz",
        "outputId": "bd09d7dc-0833-4b99-a06f-106a6b52383c"
      },
      "outputs": [
        {
          "execution_count": 105,
          "output_type": "execute_result",
          "data": {
            "text/plain": "array(['Rule', 'Itpr', 'Prec', 'Aut', 'Class', 'Syst', 'Princ', 'Tele'],\n      dtype=object)"
          },
          "metadata": {}
        }
      ],
      "execution_count": null
    },
    {
      "cell_type": "code",
      "source": [
        "#mean_embeddings = np.empty((len(names),768))\n",
        "df = df.explode('labels')\n",
        "mean_embeddings = dict()\n",
        "for name in names:\n",
        "    a = df[df['labels']==name]\n",
        "    #print(a['embeddings'].apply(lambda x: np.array(x)))\n",
        "    q = np.array(a['embeddings'])\n",
        "\n",
        "    #print(type(a['embeddings'].iloc[0]))\n",
        "    #a.head(10)\n",
        "    q =np.array(list(map(lambda x: np.array(x),q)))\n",
        "    #np.array(q1).shape\n",
        "    if len(q)==0:\n",
        "        print(name)\n",
        "    mean_embeddings[name] = q.mean(0)\n",
        "    #print(np.array(a['embeddings']).shape)\n",
        "len(mean_embeddings)"
      ],
      "metadata": {
        "execution": {
          "iopub.status.busy": "2024-12-15T11:40:34.642211Z",
          "iopub.execute_input": "2024-12-15T11:40:34.642524Z",
          "iopub.status.idle": "2024-12-15T11:40:34.704164Z",
          "shell.execute_reply.started": "2024-12-15T11:40:34.642495Z",
          "shell.execute_reply": "2024-12-15T11:40:34.703427Z"
        },
        "trusted": true,
        "id": "dGxoilUP5Gsz",
        "outputId": "136a5497-e3a8-4ba3-cd27-dcc57239aa40"
      },
      "outputs": [
        {
          "execution_count": 106,
          "output_type": "execute_result",
          "data": {
            "text/plain": "8"
          },
          "metadata": {}
        }
      ],
      "execution_count": null
    },
    {
      "cell_type": "code",
      "source": [
        "#create new embeddings: target_emb = source_emb - mean_source + mean_target\n",
        "new_embeddings = []\n",
        "new_labels = []\n",
        "for source in names:\n",
        "    a = df[df['labels']==source]\n",
        "    print(f'source: {source}, length:{len(a)}')\n",
        "    for target in names:\n",
        "        l=0\n",
        "        if target == source:\n",
        "            continue\n",
        "        for e in a['embeddings']:\n",
        "            l = l + 1\n",
        "            new = np.array(e) - mean_embeddings[source] + mean_embeddings[target]\n",
        "            new_embeddings.append(new)\n",
        "            new_labels.append(target)\n",
        "        print(source,target,l)\n",
        "len(new_embeddings)"
      ],
      "metadata": {
        "execution": {
          "iopub.status.busy": "2024-12-15T11:40:34.705052Z",
          "iopub.execute_input": "2024-12-15T11:40:34.705313Z",
          "iopub.status.idle": "2024-12-15T11:40:35.032603Z",
          "shell.execute_reply.started": "2024-12-15T11:40:34.705287Z",
          "shell.execute_reply": "2024-12-15T11:40:35.031734Z"
        },
        "trusted": true,
        "id": "fezgAxEt5Gsz",
        "outputId": "2554f9a0-26df-415d-fffc-6ddf401b1608"
      },
      "outputs": [
        {
          "name": "stdout",
          "text": "source: Rule, length:377\nRule Itpr 377\nRule Prec 377\nRule Aut 377\nRule Class 377\nRule Syst 377\nRule Princ 377\nRule Tele 377\nsource: Itpr, length:210\nItpr Rule 210\nItpr Prec 210\nItpr Aut 210\nItpr Class 210\nItpr Syst 210\nItpr Princ 210\nItpr Tele 210\nsource: Prec, length:282\nPrec Rule 282\nPrec Itpr 282\nPrec Aut 282\nPrec Class 282\nPrec Syst 282\nPrec Princ 282\nPrec Tele 282\nsource: Aut, length:49\nAut Rule 49\nAut Itpr 49\nAut Prec 49\nAut Class 49\nAut Syst 49\nAut Princ 49\nAut Tele 49\nsource: Class, length:66\nClass Rule 66\nClass Itpr 66\nClass Prec 66\nClass Aut 66\nClass Syst 66\nClass Princ 66\nClass Tele 66\nsource: Syst, length:19\nSyst Rule 19\nSyst Itpr 19\nSyst Prec 19\nSyst Aut 19\nSyst Class 19\nSyst Princ 19\nSyst Tele 19\nsource: Princ, length:95\nPrinc Rule 95\nPrinc Itpr 95\nPrinc Prec 95\nPrinc Aut 95\nPrinc Class 95\nPrinc Syst 95\nPrinc Tele 95\nsource: Tele, length:12\nTele Rule 12\nTele Itpr 12\nTele Prec 12\nTele Aut 12\nTele Class 12\nTele Syst 12\nTele Princ 12\n",
          "output_type": "stream"
        },
        {
          "execution_count": 107,
          "output_type": "execute_result",
          "data": {
            "text/plain": "7770"
          },
          "metadata": {}
        }
      ],
      "execution_count": null
    },
    {
      "cell_type": "code",
      "source": [
        "#reverse exploding\n",
        "df =df.rename_axis(index='ind')\n",
        "df1 = df.explode('labels').groupby(by='ind').agg({'embeddings':list,'labels':list})\n",
        "df1"
      ],
      "metadata": {
        "execution": {
          "iopub.status.busy": "2024-12-15T11:40:35.03385Z",
          "iopub.execute_input": "2024-12-15T11:40:35.034236Z",
          "iopub.status.idle": "2024-12-15T11:40:35.10361Z",
          "shell.execute_reply.started": "2024-12-15T11:40:35.034196Z",
          "shell.execute_reply": "2024-12-15T11:40:35.102847Z"
        },
        "trusted": true,
        "id": "ZlewsL8W5Gs0",
        "outputId": "2944eb03-e510-4904-aae3-c39f4950a613"
      },
      "outputs": [
        {
          "execution_count": 108,
          "output_type": "execute_result",
          "data": {
            "text/plain": "                                            embeddings         labels\nind                                                                  \n0    [[-0.6425947546958923, 0.49876999855041504, -0...         [Rule]\n1    [[0.7353600263595581, 0.2940705120563507, 0.37...         [Itpr]\n2    [[-0.4840069115161896, 0.3996689021587372, -0....         [Rule]\n3    [[-0.606418251991272, 0.5708830952644348, -0.8...         [Rule]\n4    [[0.6229081153869629, 0.3674868047237396, 0.49...   [Itpr, Prec]\n..                                                 ...            ...\n859  [[-0.33637452125549316, 0.28232645988464355, -...   [Prec, Rule]\n860  [[-0.3831097483634949, 0.10311482101678848, -0...   [Prec, Rule]\n861  [[-0.7380532026290894, 0.3156740963459015, -0....         [Rule]\n862  [[0.15592938661575317, -0.08031386137008667, -...  [Class, Rule]\n863  [[0.07925524562597275, -0.3112379014492035, -0...        [Princ]\n\n[864 rows x 2 columns]",
            "text/html": "<div>\n<style scoped>\n    .dataframe tbody tr th:only-of-type {\n        vertical-align: middle;\n    }\n\n    .dataframe tbody tr th {\n        vertical-align: top;\n    }\n\n    .dataframe thead th {\n        text-align: right;\n    }\n</style>\n<table border=\"1\" class=\"dataframe\">\n  <thead>\n    <tr style=\"text-align: right;\">\n      <th></th>\n      <th>embeddings</th>\n      <th>labels</th>\n    </tr>\n    <tr>\n      <th>ind</th>\n      <th></th>\n      <th></th>\n    </tr>\n  </thead>\n  <tbody>\n    <tr>\n      <th>0</th>\n      <td>[[-0.6425947546958923, 0.49876999855041504, -0...</td>\n      <td>[Rule]</td>\n    </tr>\n    <tr>\n      <th>1</th>\n      <td>[[0.7353600263595581, 0.2940705120563507, 0.37...</td>\n      <td>[Itpr]</td>\n    </tr>\n    <tr>\n      <th>2</th>\n      <td>[[-0.4840069115161896, 0.3996689021587372, -0....</td>\n      <td>[Rule]</td>\n    </tr>\n    <tr>\n      <th>3</th>\n      <td>[[-0.606418251991272, 0.5708830952644348, -0.8...</td>\n      <td>[Rule]</td>\n    </tr>\n    <tr>\n      <th>4</th>\n      <td>[[0.6229081153869629, 0.3674868047237396, 0.49...</td>\n      <td>[Itpr, Prec]</td>\n    </tr>\n    <tr>\n      <th>...</th>\n      <td>...</td>\n      <td>...</td>\n    </tr>\n    <tr>\n      <th>859</th>\n      <td>[[-0.33637452125549316, 0.28232645988464355, -...</td>\n      <td>[Prec, Rule]</td>\n    </tr>\n    <tr>\n      <th>860</th>\n      <td>[[-0.3831097483634949, 0.10311482101678848, -0...</td>\n      <td>[Prec, Rule]</td>\n    </tr>\n    <tr>\n      <th>861</th>\n      <td>[[-0.7380532026290894, 0.3156740963459015, -0....</td>\n      <td>[Rule]</td>\n    </tr>\n    <tr>\n      <th>862</th>\n      <td>[[0.15592938661575317, -0.08031386137008667, -...</td>\n      <td>[Class, Rule]</td>\n    </tr>\n    <tr>\n      <th>863</th>\n      <td>[[0.07925524562597275, -0.3112379014492035, -0...</td>\n      <td>[Princ]</td>\n    </tr>\n  </tbody>\n</table>\n<p>864 rows × 2 columns</p>\n</div>"
          },
          "metadata": {}
        }
      ],
      "execution_count": null
    },
    {
      "cell_type": "code",
      "source": [
        "#remove list of list in embedding column\n",
        "def f(x):\n",
        "    return x[0]\n",
        "\n",
        "df1['embeddings'] = df1['embeddings'].apply(f)\n",
        "df1['embeddings']"
      ],
      "metadata": {
        "execution": {
          "iopub.status.busy": "2024-12-15T11:40:35.104729Z",
          "iopub.execute_input": "2024-12-15T11:40:35.105381Z",
          "iopub.status.idle": "2024-12-15T11:40:35.116124Z",
          "shell.execute_reply.started": "2024-12-15T11:40:35.105338Z",
          "shell.execute_reply": "2024-12-15T11:40:35.115214Z"
        },
        "trusted": true,
        "id": "LiO6hnyF5Gs0",
        "outputId": "22fe18fd-6432-43b9-f6f2-024dd4f4a5bc"
      },
      "outputs": [
        {
          "execution_count": 109,
          "output_type": "execute_result",
          "data": {
            "text/plain": "ind\n0      [-0.6425947546958923, 0.49876999855041504, -0....\n1      [0.7353600263595581, 0.2940705120563507, 0.370...\n2      [-0.4840069115161896, 0.3996689021587372, -0.7...\n3      [-0.606418251991272, 0.5708830952644348, -0.81...\n4      [0.6229081153869629, 0.3674868047237396, 0.496...\n                             ...                        \n859    [-0.33637452125549316, 0.28232645988464355, -0...\n860    [-0.3831097483634949, 0.10311482101678848, -0....\n861    [-0.7380532026290894, 0.3156740963459015, -0.8...\n862    [0.15592938661575317, -0.08031386137008667, -0...\n863    [0.07925524562597275, -0.3112379014492035, -0....\nName: embeddings, Length: 864, dtype: object"
          },
          "metadata": {}
        }
      ],
      "execution_count": null
    },
    {
      "cell_type": "code",
      "source": [
        "df1"
      ],
      "metadata": {
        "execution": {
          "iopub.status.busy": "2024-12-15T11:40:35.117196Z",
          "iopub.execute_input": "2024-12-15T11:40:35.117458Z",
          "iopub.status.idle": "2024-12-15T11:40:35.139959Z",
          "shell.execute_reply.started": "2024-12-15T11:40:35.117431Z",
          "shell.execute_reply": "2024-12-15T11:40:35.139174Z"
        },
        "trusted": true,
        "id": "Qg2K8KXH5Gs0",
        "outputId": "aea636ed-c6bf-4377-ac5c-7c1ff14747d3"
      },
      "outputs": [
        {
          "execution_count": 110,
          "output_type": "execute_result",
          "data": {
            "text/plain": "                                            embeddings         labels\nind                                                                  \n0    [-0.6425947546958923, 0.49876999855041504, -0....         [Rule]\n1    [0.7353600263595581, 0.2940705120563507, 0.370...         [Itpr]\n2    [-0.4840069115161896, 0.3996689021587372, -0.7...         [Rule]\n3    [-0.606418251991272, 0.5708830952644348, -0.81...         [Rule]\n4    [0.6229081153869629, 0.3674868047237396, 0.496...   [Itpr, Prec]\n..                                                 ...            ...\n859  [-0.33637452125549316, 0.28232645988464355, -0...   [Prec, Rule]\n860  [-0.3831097483634949, 0.10311482101678848, -0....   [Prec, Rule]\n861  [-0.7380532026290894, 0.3156740963459015, -0.8...         [Rule]\n862  [0.15592938661575317, -0.08031386137008667, -0...  [Class, Rule]\n863  [0.07925524562597275, -0.3112379014492035, -0....        [Princ]\n\n[864 rows x 2 columns]",
            "text/html": "<div>\n<style scoped>\n    .dataframe tbody tr th:only-of-type {\n        vertical-align: middle;\n    }\n\n    .dataframe tbody tr th {\n        vertical-align: top;\n    }\n\n    .dataframe thead th {\n        text-align: right;\n    }\n</style>\n<table border=\"1\" class=\"dataframe\">\n  <thead>\n    <tr style=\"text-align: right;\">\n      <th></th>\n      <th>embeddings</th>\n      <th>labels</th>\n    </tr>\n    <tr>\n      <th>ind</th>\n      <th></th>\n      <th></th>\n    </tr>\n  </thead>\n  <tbody>\n    <tr>\n      <th>0</th>\n      <td>[-0.6425947546958923, 0.49876999855041504, -0....</td>\n      <td>[Rule]</td>\n    </tr>\n    <tr>\n      <th>1</th>\n      <td>[0.7353600263595581, 0.2940705120563507, 0.370...</td>\n      <td>[Itpr]</td>\n    </tr>\n    <tr>\n      <th>2</th>\n      <td>[-0.4840069115161896, 0.3996689021587372, -0.7...</td>\n      <td>[Rule]</td>\n    </tr>\n    <tr>\n      <th>3</th>\n      <td>[-0.606418251991272, 0.5708830952644348, -0.81...</td>\n      <td>[Rule]</td>\n    </tr>\n    <tr>\n      <th>4</th>\n      <td>[0.6229081153869629, 0.3674868047237396, 0.496...</td>\n      <td>[Itpr, Prec]</td>\n    </tr>\n    <tr>\n      <th>...</th>\n      <td>...</td>\n      <td>...</td>\n    </tr>\n    <tr>\n      <th>859</th>\n      <td>[-0.33637452125549316, 0.28232645988464355, -0...</td>\n      <td>[Prec, Rule]</td>\n    </tr>\n    <tr>\n      <th>860</th>\n      <td>[-0.3831097483634949, 0.10311482101678848, -0....</td>\n      <td>[Prec, Rule]</td>\n    </tr>\n    <tr>\n      <th>861</th>\n      <td>[-0.7380532026290894, 0.3156740963459015, -0.8...</td>\n      <td>[Rule]</td>\n    </tr>\n    <tr>\n      <th>862</th>\n      <td>[0.15592938661575317, -0.08031386137008667, -0...</td>\n      <td>[Class, Rule]</td>\n    </tr>\n    <tr>\n      <th>863</th>\n      <td>[0.07925524562597275, -0.3112379014492035, -0....</td>\n      <td>[Princ]</td>\n    </tr>\n  </tbody>\n</table>\n<p>864 rows × 2 columns</p>\n</div>"
          },
          "metadata": {}
        }
      ],
      "execution_count": null
    },
    {
      "cell_type": "code",
      "source": [
        "new_df = pd.DataFrame()\n",
        "new_df['embeddings'] = new_embeddings\n",
        "new_df['labels'] = new_labels\n",
        "#new_df.describe()\n",
        "#q = (new_df['embeddings'][:2])\n",
        "#q = np.array(list(map(lambda x: np.array(x),q)))\n",
        "#torch.stack(list(map(lambda x: torch.tensor(x),q))).\n",
        "new_df['labels'].value_counts()"
      ],
      "metadata": {
        "execution": {
          "iopub.status.busy": "2024-12-15T11:40:35.143634Z",
          "iopub.execute_input": "2024-12-15T11:40:35.143888Z",
          "iopub.status.idle": "2024-12-15T11:40:35.157825Z",
          "shell.execute_reply.started": "2024-12-15T11:40:35.143847Z",
          "shell.execute_reply": "2024-12-15T11:40:35.157006Z"
        },
        "trusted": true,
        "id": "KJLHahMf5Gs0",
        "outputId": "3e32bffc-99d6-4119-e763-25325c071f56"
      },
      "outputs": [
        {
          "execution_count": 111,
          "output_type": "execute_result",
          "data": {
            "text/plain": "labels\nTele     1098\nSyst     1091\nAut      1061\nClass    1044\nPrinc    1015\nItpr      900\nPrec      828\nRule      733\nName: count, dtype: int64"
          },
          "metadata": {}
        }
      ],
      "execution_count": null
    },
    {
      "cell_type": "code",
      "source": [
        "#merge dataframes\n",
        "tot_df = pd.concat([df1,new_df],ignore_index=True)\n",
        "#final_df = pd.get_dummies(tot_df,columns = ['labels'],dtype=float)\n",
        "\n",
        "z = tot_df.explode('labels')\n",
        "z['labels'].value_counts()\n",
        "#convert list labels to string\n",
        "tot_df=clean_list(tot_df,'labels')\n",
        "tot_df"
      ],
      "metadata": {
        "execution": {
          "iopub.status.busy": "2024-12-15T11:40:35.158752Z",
          "iopub.execute_input": "2024-12-15T11:40:35.159212Z",
          "iopub.status.idle": "2024-12-15T11:40:36.655543Z",
          "shell.execute_reply.started": "2024-12-15T11:40:35.159171Z",
          "shell.execute_reply": "2024-12-15T11:40:36.65463Z"
        },
        "trusted": true,
        "id": "gY50rHNq5Gs0",
        "outputId": "3879aaaf-120a-4333-b28a-e1c744735e5f"
      },
      "outputs": [
        {
          "execution_count": 112,
          "output_type": "execute_result",
          "data": {
            "text/plain": "                                             embeddings        labels  \\\n0     [-0.6425947546958923, 0.49876999855041504, -0....        [Rule]   \n1     [0.7353600263595581, 0.2940705120563507, 0.370...        [Itpr]   \n2     [-0.4840069115161896, 0.3996689021587372, -0.7...        [Rule]   \n3     [-0.606418251991272, 0.5708830952644348, -0.81...        [Rule]   \n4     [0.6229081153869629, 0.3674868047237396, 0.496...  [Itpr, Prec]   \n...                                                 ...           ...   \n8629  [-0.5122079027195772, 0.18639138029038646, -0....         Princ   \n8630  [-0.5288697255154451, -0.0801727355915334, -0....         Princ   \n8631  [-0.22952695911129312, -0.1597647847133901, 0....         Princ   \n8632  [-0.36191212361057595, -0.03471595360815785, 0...         Princ   \n8633  [-0.6587173116703828, 0.24840315864503124, -0....         Princ   \n\n        labels2  \n0          Rule  \n1          Itpr  \n2          Rule  \n3          Rule  \n4     Itpr,Prec  \n...         ...  \n8629      Princ  \n8630      Princ  \n8631      Princ  \n8632      Princ  \n8633      Princ  \n\n[8634 rows x 3 columns]",
            "text/html": "<div>\n<style scoped>\n    .dataframe tbody tr th:only-of-type {\n        vertical-align: middle;\n    }\n\n    .dataframe tbody tr th {\n        vertical-align: top;\n    }\n\n    .dataframe thead th {\n        text-align: right;\n    }\n</style>\n<table border=\"1\" class=\"dataframe\">\n  <thead>\n    <tr style=\"text-align: right;\">\n      <th></th>\n      <th>embeddings</th>\n      <th>labels</th>\n      <th>labels2</th>\n    </tr>\n  </thead>\n  <tbody>\n    <tr>\n      <th>0</th>\n      <td>[-0.6425947546958923, 0.49876999855041504, -0....</td>\n      <td>[Rule]</td>\n      <td>Rule</td>\n    </tr>\n    <tr>\n      <th>1</th>\n      <td>[0.7353600263595581, 0.2940705120563507, 0.370...</td>\n      <td>[Itpr]</td>\n      <td>Itpr</td>\n    </tr>\n    <tr>\n      <th>2</th>\n      <td>[-0.4840069115161896, 0.3996689021587372, -0.7...</td>\n      <td>[Rule]</td>\n      <td>Rule</td>\n    </tr>\n    <tr>\n      <th>3</th>\n      <td>[-0.606418251991272, 0.5708830952644348, -0.81...</td>\n      <td>[Rule]</td>\n      <td>Rule</td>\n    </tr>\n    <tr>\n      <th>4</th>\n      <td>[0.6229081153869629, 0.3674868047237396, 0.496...</td>\n      <td>[Itpr, Prec]</td>\n      <td>Itpr,Prec</td>\n    </tr>\n    <tr>\n      <th>...</th>\n      <td>...</td>\n      <td>...</td>\n      <td>...</td>\n    </tr>\n    <tr>\n      <th>8629</th>\n      <td>[-0.5122079027195772, 0.18639138029038646, -0....</td>\n      <td>Princ</td>\n      <td>Princ</td>\n    </tr>\n    <tr>\n      <th>8630</th>\n      <td>[-0.5288697255154451, -0.0801727355915334, -0....</td>\n      <td>Princ</td>\n      <td>Princ</td>\n    </tr>\n    <tr>\n      <th>8631</th>\n      <td>[-0.22952695911129312, -0.1597647847133901, 0....</td>\n      <td>Princ</td>\n      <td>Princ</td>\n    </tr>\n    <tr>\n      <th>8632</th>\n      <td>[-0.36191212361057595, -0.03471595360815785, 0...</td>\n      <td>Princ</td>\n      <td>Princ</td>\n    </tr>\n    <tr>\n      <th>8633</th>\n      <td>[-0.6587173116703828, 0.24840315864503124, -0....</td>\n      <td>Princ</td>\n      <td>Princ</td>\n    </tr>\n  </tbody>\n</table>\n<p>8634 rows × 3 columns</p>\n</div>"
          },
          "metadata": {}
        }
      ],
      "execution_count": null
    },
    {
      "cell_type": "code",
      "source": [
        "#apply again the multibinarizer on Scheme, before transform the list classes into str,\n",
        "#and get a one hot encoding of the labels\n",
        "mlb1 = MultiLabelBinarizer()\n",
        "\n",
        "mlb_result = mlb.fit_transform([str(tot_df.loc[i,'labels2']).split(',') for i in range(len(tot_df))])\n",
        "\n",
        "df_aug = pd.concat([tot_df,pd.DataFrame(mlb_result,columns=list(mlb.classes_))],axis=1)\n",
        "df_aug_labels = df_aug[sc_classes]\n",
        "df_aug_train = df_aug['embeddings']"
      ],
      "metadata": {
        "execution": {
          "iopub.status.busy": "2024-12-15T11:40:36.656667Z",
          "iopub.execute_input": "2024-12-15T11:40:36.656984Z",
          "iopub.status.idle": "2024-12-15T11:40:36.745637Z",
          "shell.execute_reply.started": "2024-12-15T11:40:36.656955Z",
          "shell.execute_reply": "2024-12-15T11:40:36.744979Z"
        },
        "trusted": true,
        "id": "lH6y6Hto5Gs0"
      },
      "outputs": [],
      "execution_count": null
    },
    {
      "cell_type": "code",
      "source": [
        "las = torch.stack(list(map(lambda l: torch.tensor(l,device=device,dtype=torch.float32),np.array(train_labels))))\n",
        "las.size()"
      ],
      "metadata": {
        "execution": {
          "iopub.status.busy": "2024-12-15T11:40:36.746496Z",
          "iopub.execute_input": "2024-12-15T11:40:36.746728Z",
          "iopub.status.idle": "2024-12-15T11:40:36.7778Z",
          "shell.execute_reply.started": "2024-12-15T11:40:36.746705Z",
          "shell.execute_reply": "2024-12-15T11:40:36.776994Z"
        },
        "trusted": true,
        "id": "9FRbm55U5Gs1",
        "outputId": "cf8f1f4b-814c-49d9-acb9-084a6808a5e4"
      },
      "outputs": [
        {
          "execution_count": 114,
          "output_type": "execute_result",
          "data": {
            "text/plain": "torch.Size([878, 8])"
          },
          "metadata": {}
        }
      ],
      "execution_count": null
    },
    {
      "cell_type": "code",
      "source": [
        "#preprocessing\n",
        "#q = (new_df['embeddings'][:2])\n",
        "#q = np.array(list(map(lambda x: np.array(x),q)))\n",
        "#torch.stack(list(map(lambda x: torch.tensor(x),q)))\n",
        "\n",
        "train_data = torch.stack(list(map(lambda e: torch.tensor(e,device=device,dtype=torch.float32),df_aug_train)))\n",
        "train_labs = torch.stack(list(map(lambda l: torch.tensor(l,device=device,dtype=torch.float32),np.array(df_aug_labels))))\n",
        "print(train_data.size(),train_labs.size())\n"
      ],
      "metadata": {
        "execution": {
          "iopub.status.busy": "2024-12-15T11:40:36.778751Z",
          "iopub.execute_input": "2024-12-15T11:40:36.779008Z",
          "iopub.status.idle": "2024-12-15T11:40:37.285365Z",
          "shell.execute_reply.started": "2024-12-15T11:40:36.778983Z",
          "shell.execute_reply": "2024-12-15T11:40:37.284554Z"
        },
        "trusted": true,
        "id": "DY_IwTqK5Gs1",
        "outputId": "0f3f7a08-ebee-47a2-e963-68fa7f72ef60"
      },
      "outputs": [
        {
          "name": "stdout",
          "text": "torch.Size([8634, 768]) torch.Size([8634, 8])\n",
          "output_type": "stream"
        }
      ],
      "execution_count": null
    },
    {
      "cell_type": "code",
      "source": [
        "#clsf = classifier(11)\n",
        "cls.to(device).train()"
      ],
      "metadata": {
        "execution": {
          "iopub.status.busy": "2024-12-15T11:40:37.286231Z",
          "iopub.execute_input": "2024-12-15T11:40:37.28648Z",
          "iopub.status.idle": "2024-12-15T11:40:37.29275Z",
          "shell.execute_reply.started": "2024-12-15T11:40:37.286456Z",
          "shell.execute_reply": "2024-12-15T11:40:37.291838Z"
        },
        "trusted": true,
        "id": "eQ1HFjzg5Gs1",
        "outputId": "ef66ca75-84f7-430d-f6b3-b2d1daa63e37"
      },
      "outputs": [
        {
          "execution_count": 116,
          "output_type": "execute_result",
          "data": {
            "text/plain": "Classifier(\n  (cl1): Linear(in_features=768, out_features=768, bias=True)\n  (relu): ReLU()\n  (classifier): Linear(in_features=768, out_features=8, bias=True)\n)"
          },
          "metadata": {}
        }
      ],
      "execution_count": null
    },
    {
      "cell_type": "code",
      "source": [
        "#define loss and optimizer\n",
        "criterion = nn.BCELoss()\n",
        "optimizer = torch.optim.AdamW(cls.parameters(), lr=5e-5, weight_decay=1.5e-2)"
      ],
      "metadata": {
        "execution": {
          "iopub.status.busy": "2024-12-15T11:40:37.293751Z",
          "iopub.execute_input": "2024-12-15T11:40:37.294093Z",
          "iopub.status.idle": "2024-12-15T11:40:37.300405Z",
          "shell.execute_reply.started": "2024-12-15T11:40:37.294067Z",
          "shell.execute_reply": "2024-12-15T11:40:37.29954Z"
        },
        "trusted": true,
        "id": "4EI2mqfz5Gs1"
      },
      "outputs": [],
      "execution_count": null
    },
    {
      "cell_type": "code",
      "source": [
        "b_size = 32\n",
        "n_minibatch = len(train_data) //b_size\n",
        "print(f\"n_minibatches: {n_minibatch}\")\n",
        "for e in tqdm(range(1000)):\n",
        "    losses= []\n",
        "    for i in range(n_minibatch):\n",
        "        start = i*b_size\n",
        "        end = (i+1)*b_size\n",
        "        optimizer.zero_grad()\n",
        "\n",
        "        preds = cls(train_data[start:end])\n",
        "        ground = train_labs[start:end]\n",
        "        loss = criterion(preds,ground)\n",
        "        loss.backward()\n",
        "        optimizer.step()\n",
        "        losses.append(loss.item())\n",
        "\n",
        "    tot_loss = np.mean(losses)\n",
        "    print(f'epoch: {e}, loss:{tot_loss}')\n",
        "\n",
        ""
      ],
      "metadata": {
        "trusted": true,
        "execution": {
          "iopub.status.busy": "2024-12-15T11:40:37.301442Z",
          "iopub.execute_input": "2024-12-15T11:40:37.301723Z",
          "iopub.status.idle": "2024-12-15T11:46:06.714798Z",
          "shell.execute_reply.started": "2024-12-15T11:40:37.301697Z",
          "shell.execute_reply": "2024-12-15T11:46:06.713848Z"
        },
        "id": "-B-Rd0XE5Gs1",
        "outputId": "059c0d9c-c922-4118-8b38-2553f1f743b4"
      },
      "outputs": [
        {
          "name": "stdout",
          "text": "n_minibatches: 269\n",
          "output_type": "stream"
        },
        {
          "name": "stderr",
          "text": "  0%|          | 1/1000 [00:00<05:43,  2.90it/s]",
          "output_type": "stream"
        },
        {
          "name": "stdout",
          "text": "epoch: 0, loss:0.1220913901717357\n",
          "output_type": "stream"
        },
        {
          "name": "stderr",
          "text": "  0%|          | 2/1000 [00:00<05:37,  2.95it/s]",
          "output_type": "stream"
        },
        {
          "name": "stdout",
          "text": "epoch: 1, loss:0.07198479710333741\n",
          "output_type": "stream"
        },
        {
          "name": "stderr",
          "text": "  0%|          | 3/1000 [00:01<05:35,  2.97it/s]",
          "output_type": "stream"
        },
        {
          "name": "stdout",
          "text": "epoch: 2, loss:0.06019036113163352\n",
          "output_type": "stream"
        },
        {
          "name": "stderr",
          "text": "  0%|          | 4/1000 [00:01<05:32,  3.00it/s]",
          "output_type": "stream"
        },
        {
          "name": "stdout",
          "text": "epoch: 3, loss:0.054767971700853686\n",
          "output_type": "stream"
        },
        {
          "name": "stderr",
          "text": "  0%|          | 5/1000 [00:01<05:34,  2.98it/s]",
          "output_type": "stream"
        },
        {
          "name": "stdout",
          "text": "epoch: 4, loss:0.05147110367173045\n",
          "output_type": "stream"
        },
        {
          "name": "stderr",
          "text": "  1%|          | 6/1000 [00:02<05:38,  2.94it/s]",
          "output_type": "stream"
        },
        {
          "name": "stdout",
          "text": "epoch: 5, loss:0.04913107447021513\n",
          "output_type": "stream"
        },
        {
          "name": "stderr",
          "text": "  1%|          | 7/1000 [00:02<05:36,  2.95it/s]",
          "output_type": "stream"
        },
        {
          "name": "stdout",
          "text": "epoch: 6, loss:0.04722075455659329\n",
          "output_type": "stream"
        },
        {
          "name": "stderr",
          "text": "  1%|          | 8/1000 [00:02<05:33,  2.97it/s]",
          "output_type": "stream"
        },
        {
          "name": "stdout",
          "text": "epoch: 7, loss:0.04558204027277082\n",
          "output_type": "stream"
        },
        {
          "name": "stderr",
          "text": "  1%|          | 9/1000 [00:03<05:29,  3.01it/s]",
          "output_type": "stream"
        },
        {
          "name": "stdout",
          "text": "epoch: 8, loss:0.044127905591595296\n",
          "output_type": "stream"
        },
        {
          "name": "stderr",
          "text": "  1%|          | 10/1000 [00:03<05:26,  3.04it/s]",
          "output_type": "stream"
        },
        {
          "name": "stdout",
          "text": "epoch: 9, loss:0.042797428081469906\n",
          "output_type": "stream"
        },
        {
          "name": "stderr",
          "text": "  1%|          | 11/1000 [00:03<05:22,  3.07it/s]",
          "output_type": "stream"
        },
        {
          "name": "stdout",
          "text": "epoch: 10, loss:0.04154449472200389\n",
          "output_type": "stream"
        },
        {
          "name": "stderr",
          "text": "  1%|          | 12/1000 [00:03<05:20,  3.08it/s]",
          "output_type": "stream"
        },
        {
          "name": "stdout",
          "text": "epoch: 11, loss:0.040349670001184466\n",
          "output_type": "stream"
        },
        {
          "name": "stderr",
          "text": "  1%|▏         | 13/1000 [00:04<05:19,  3.09it/s]",
          "output_type": "stream"
        },
        {
          "name": "stdout",
          "text": "epoch: 12, loss:0.03921808619190658\n",
          "output_type": "stream"
        },
        {
          "name": "stderr",
          "text": "  1%|▏         | 14/1000 [00:04<05:17,  3.10it/s]",
          "output_type": "stream"
        },
        {
          "name": "stdout",
          "text": "epoch: 13, loss:0.03814055723463597\n",
          "output_type": "stream"
        },
        {
          "name": "stderr",
          "text": "  2%|▏         | 15/1000 [00:04<05:18,  3.09it/s]",
          "output_type": "stream"
        },
        {
          "name": "stdout",
          "text": "epoch: 14, loss:0.03711109766286545\n",
          "output_type": "stream"
        },
        {
          "name": "stderr",
          "text": "  2%|▏         | 16/1000 [00:05<05:16,  3.11it/s]",
          "output_type": "stream"
        },
        {
          "name": "stdout",
          "text": "epoch: 15, loss:0.03608157474038686\n",
          "output_type": "stream"
        },
        {
          "name": "stderr",
          "text": "  2%|▏         | 17/1000 [00:05<05:14,  3.12it/s]",
          "output_type": "stream"
        },
        {
          "name": "stdout",
          "text": "epoch: 16, loss:0.035102166219867184\n",
          "output_type": "stream"
        },
        {
          "name": "stderr",
          "text": "  2%|▏         | 18/1000 [00:05<05:12,  3.14it/s]",
          "output_type": "stream"
        },
        {
          "name": "stdout",
          "text": "epoch: 17, loss:0.0341479592986031\n",
          "output_type": "stream"
        },
        {
          "name": "stderr",
          "text": "  2%|▏         | 19/1000 [00:06<05:12,  3.14it/s]",
          "output_type": "stream"
        },
        {
          "name": "stdout",
          "text": "epoch: 18, loss:0.03322967797341206\n",
          "output_type": "stream"
        },
        {
          "name": "stderr",
          "text": "  2%|▏         | 20/1000 [00:06<05:13,  3.12it/s]",
          "output_type": "stream"
        },
        {
          "name": "stdout",
          "text": "epoch: 19, loss:0.032344978434279505\n",
          "output_type": "stream"
        },
        {
          "name": "stderr",
          "text": "  2%|▏         | 21/1000 [00:06<05:13,  3.12it/s]",
          "output_type": "stream"
        },
        {
          "name": "stdout",
          "text": "epoch: 20, loss:0.03149714672307875\n",
          "output_type": "stream"
        },
        {
          "name": "stderr",
          "text": "  2%|▏         | 22/1000 [00:07<05:12,  3.13it/s]",
          "output_type": "stream"
        },
        {
          "name": "stdout",
          "text": "epoch: 21, loss:0.030680189657000805\n",
          "output_type": "stream"
        },
        {
          "name": "stderr",
          "text": "  2%|▏         | 23/1000 [00:07<05:12,  3.12it/s]",
          "output_type": "stream"
        },
        {
          "name": "stdout",
          "text": "epoch: 22, loss:0.029886989530563686\n",
          "output_type": "stream"
        },
        {
          "name": "stderr",
          "text": "  2%|▏         | 24/1000 [00:07<05:20,  3.04it/s]",
          "output_type": "stream"
        },
        {
          "name": "stdout",
          "text": "epoch: 23, loss:0.02911735093610562\n",
          "output_type": "stream"
        },
        {
          "name": "stderr",
          "text": "  2%|▎         | 25/1000 [00:08<05:29,  2.96it/s]",
          "output_type": "stream"
        },
        {
          "name": "stdout",
          "text": "epoch: 24, loss:0.028379958474811263\n",
          "output_type": "stream"
        },
        {
          "name": "stderr",
          "text": "  3%|▎         | 26/1000 [00:08<05:26,  2.98it/s]",
          "output_type": "stream"
        },
        {
          "name": "stdout",
          "text": "epoch: 25, loss:0.02766153438200267\n",
          "output_type": "stream"
        },
        {
          "name": "stderr",
          "text": "  3%|▎         | 27/1000 [00:08<05:21,  3.02it/s]",
          "output_type": "stream"
        },
        {
          "name": "stdout",
          "text": "epoch: 26, loss:0.026967820368679483\n",
          "output_type": "stream"
        },
        {
          "name": "stderr",
          "text": "  3%|▎         | 28/1000 [00:09<05:19,  3.04it/s]",
          "output_type": "stream"
        },
        {
          "name": "stdout",
          "text": "epoch: 27, loss:0.02629059993057792\n",
          "output_type": "stream"
        },
        {
          "name": "stderr",
          "text": "  3%|▎         | 29/1000 [00:09<05:17,  3.06it/s]",
          "output_type": "stream"
        },
        {
          "name": "stdout",
          "text": "epoch: 28, loss:0.025630748059105504\n",
          "output_type": "stream"
        },
        {
          "name": "stderr",
          "text": "  3%|▎         | 30/1000 [00:09<05:14,  3.08it/s]",
          "output_type": "stream"
        },
        {
          "name": "stdout",
          "text": "epoch: 29, loss:0.024983470249820682\n",
          "output_type": "stream"
        },
        {
          "name": "stderr",
          "text": "  3%|▎         | 31/1000 [00:10<05:15,  3.08it/s]",
          "output_type": "stream"
        },
        {
          "name": "stdout",
          "text": "epoch: 30, loss:0.024356259324338606\n",
          "output_type": "stream"
        },
        {
          "name": "stderr",
          "text": "  3%|▎         | 32/1000 [00:10<05:13,  3.09it/s]",
          "output_type": "stream"
        },
        {
          "name": "stdout",
          "text": "epoch: 31, loss:0.02374802824701823\n",
          "output_type": "stream"
        },
        {
          "name": "stderr",
          "text": "  3%|▎         | 33/1000 [00:10<05:11,  3.10it/s]",
          "output_type": "stream"
        },
        {
          "name": "stdout",
          "text": "epoch: 32, loss:0.02315517152974652\n",
          "output_type": "stream"
        },
        {
          "name": "stderr",
          "text": "  3%|▎         | 34/1000 [00:11<05:11,  3.10it/s]",
          "output_type": "stream"
        },
        {
          "name": "stdout",
          "text": "epoch: 33, loss:0.02257896653596367\n",
          "output_type": "stream"
        },
        {
          "name": "stderr",
          "text": "  4%|▎         | 35/1000 [00:11<05:09,  3.12it/s]",
          "output_type": "stream"
        },
        {
          "name": "stdout",
          "text": "epoch: 34, loss:0.022010360601216167\n",
          "output_type": "stream"
        },
        {
          "name": "stderr",
          "text": "  4%|▎         | 36/1000 [00:11<05:11,  3.10it/s]",
          "output_type": "stream"
        },
        {
          "name": "stdout",
          "text": "epoch: 35, loss:0.021456369399231578\n",
          "output_type": "stream"
        },
        {
          "name": "stderr",
          "text": "  4%|▎         | 37/1000 [00:12<05:10,  3.10it/s]",
          "output_type": "stream"
        },
        {
          "name": "stdout",
          "text": "epoch: 36, loss:0.020907858261565045\n",
          "output_type": "stream"
        },
        {
          "name": "stderr",
          "text": "  4%|▍         | 38/1000 [00:12<05:12,  3.08it/s]",
          "output_type": "stream"
        },
        {
          "name": "stdout",
          "text": "epoch: 37, loss:0.02037815121478543\n",
          "output_type": "stream"
        },
        {
          "name": "stderr",
          "text": "  4%|▍         | 39/1000 [00:12<05:13,  3.07it/s]",
          "output_type": "stream"
        },
        {
          "name": "stdout",
          "text": "epoch: 38, loss:0.01985489500368007\n",
          "output_type": "stream"
        },
        {
          "name": "stderr",
          "text": "  4%|▍         | 40/1000 [00:13<05:11,  3.08it/s]",
          "output_type": "stream"
        },
        {
          "name": "stdout",
          "text": "epoch: 39, loss:0.019353219577575236\n",
          "output_type": "stream"
        },
        {
          "name": "stderr",
          "text": "  4%|▍         | 41/1000 [00:13<05:10,  3.09it/s]",
          "output_type": "stream"
        },
        {
          "name": "stdout",
          "text": "epoch: 40, loss:0.018849482568981453\n",
          "output_type": "stream"
        },
        {
          "name": "stderr",
          "text": "  4%|▍         | 42/1000 [00:13<05:11,  3.08it/s]",
          "output_type": "stream"
        },
        {
          "name": "stdout",
          "text": "epoch: 41, loss:0.018371472979954628\n",
          "output_type": "stream"
        },
        {
          "name": "stderr",
          "text": "  4%|▍         | 43/1000 [00:14<05:14,  3.05it/s]",
          "output_type": "stream"
        },
        {
          "name": "stdout",
          "text": "epoch: 42, loss:0.017896461477987884\n",
          "output_type": "stream"
        },
        {
          "name": "stderr",
          "text": "  4%|▍         | 44/1000 [00:14<05:16,  3.02it/s]",
          "output_type": "stream"
        },
        {
          "name": "stdout",
          "text": "epoch: 43, loss:0.01743483126464691\n",
          "output_type": "stream"
        },
        {
          "name": "stderr",
          "text": "  4%|▍         | 45/1000 [00:14<05:18,  3.00it/s]",
          "output_type": "stream"
        },
        {
          "name": "stdout",
          "text": "epoch: 44, loss:0.01698352205636305\n",
          "output_type": "stream"
        },
        {
          "name": "stderr",
          "text": "  5%|▍         | 46/1000 [00:15<05:16,  3.01it/s]",
          "output_type": "stream"
        },
        {
          "name": "stdout",
          "text": "epoch: 45, loss:0.01654124780442067\n",
          "output_type": "stream"
        },
        {
          "name": "stderr",
          "text": "  5%|▍         | 47/1000 [00:15<05:13,  3.04it/s]",
          "output_type": "stream"
        },
        {
          "name": "stdout",
          "text": "epoch: 46, loss:0.016113215457166798\n",
          "output_type": "stream"
        },
        {
          "name": "stderr",
          "text": "  5%|▍         | 48/1000 [00:15<05:09,  3.07it/s]",
          "output_type": "stream"
        },
        {
          "name": "stdout",
          "text": "epoch: 47, loss:0.015689615312129344\n",
          "output_type": "stream"
        },
        {
          "name": "stderr",
          "text": "  5%|▍         | 49/1000 [00:16<05:07,  3.09it/s]",
          "output_type": "stream"
        },
        {
          "name": "stdout",
          "text": "epoch: 48, loss:0.015277982162758292\n",
          "output_type": "stream"
        },
        {
          "name": "stderr",
          "text": "  5%|▌         | 50/1000 [00:16<05:11,  3.05it/s]",
          "output_type": "stream"
        },
        {
          "name": "stdout",
          "text": "epoch: 49, loss:0.014878308318718076\n",
          "output_type": "stream"
        },
        {
          "name": "stderr",
          "text": "  5%|▌         | 51/1000 [00:16<05:09,  3.07it/s]",
          "output_type": "stream"
        },
        {
          "name": "stdout",
          "text": "epoch: 50, loss:0.014480190721840761\n",
          "output_type": "stream"
        },
        {
          "name": "stderr",
          "text": "  5%|▌         | 52/1000 [00:16<05:07,  3.08it/s]",
          "output_type": "stream"
        },
        {
          "name": "stdout",
          "text": "epoch: 51, loss:0.014100435641931792\n",
          "output_type": "stream"
        },
        {
          "name": "stderr",
          "text": "  5%|▌         | 53/1000 [00:17<05:06,  3.09it/s]",
          "output_type": "stream"
        },
        {
          "name": "stdout",
          "text": "epoch: 52, loss:0.01372023011046223\n",
          "output_type": "stream"
        },
        {
          "name": "stderr",
          "text": "  5%|▌         | 54/1000 [00:17<05:05,  3.10it/s]",
          "output_type": "stream"
        },
        {
          "name": "stdout",
          "text": "epoch: 53, loss:0.013362393510219776\n",
          "output_type": "stream"
        },
        {
          "name": "stderr",
          "text": "  6%|▌         | 55/1000 [00:17<05:06,  3.08it/s]",
          "output_type": "stream"
        },
        {
          "name": "stdout",
          "text": "epoch: 54, loss:0.012999885790197173\n",
          "output_type": "stream"
        },
        {
          "name": "stderr",
          "text": "  6%|▌         | 56/1000 [00:18<05:14,  3.00it/s]",
          "output_type": "stream"
        },
        {
          "name": "stdout",
          "text": "epoch: 55, loss:0.012657315654638587\n",
          "output_type": "stream"
        },
        {
          "name": "stderr",
          "text": "  6%|▌         | 57/1000 [00:18<05:12,  3.02it/s]",
          "output_type": "stream"
        },
        {
          "name": "stdout",
          "text": "epoch: 56, loss:0.012315017851736037\n",
          "output_type": "stream"
        },
        {
          "name": "stderr",
          "text": "  6%|▌         | 58/1000 [00:18<05:09,  3.04it/s]",
          "output_type": "stream"
        },
        {
          "name": "stdout",
          "text": "epoch: 57, loss:0.011984221985845802\n",
          "output_type": "stream"
        },
        {
          "name": "stderr",
          "text": "  6%|▌         | 59/1000 [00:19<05:08,  3.05it/s]",
          "output_type": "stream"
        },
        {
          "name": "stdout",
          "text": "epoch: 58, loss:0.01165669726953949\n",
          "output_type": "stream"
        },
        {
          "name": "stderr",
          "text": "  6%|▌         | 60/1000 [00:19<05:06,  3.07it/s]",
          "output_type": "stream"
        },
        {
          "name": "stdout",
          "text": "epoch: 59, loss:0.01134306811541492\n",
          "output_type": "stream"
        },
        {
          "name": "stderr",
          "text": "  6%|▌         | 61/1000 [00:19<05:08,  3.05it/s]",
          "output_type": "stream"
        },
        {
          "name": "stdout",
          "text": "epoch: 60, loss:0.011035442703055585\n",
          "output_type": "stream"
        },
        {
          "name": "stderr",
          "text": "  6%|▌         | 62/1000 [00:20<05:07,  3.05it/s]",
          "output_type": "stream"
        },
        {
          "name": "stdout",
          "text": "epoch: 61, loss:0.010737312234700987\n",
          "output_type": "stream"
        },
        {
          "name": "stderr",
          "text": "  6%|▋         | 63/1000 [00:20<05:04,  3.08it/s]",
          "output_type": "stream"
        },
        {
          "name": "stdout",
          "text": "epoch: 62, loss:0.010439930970349513\n",
          "output_type": "stream"
        },
        {
          "name": "stderr",
          "text": "  6%|▋         | 64/1000 [00:20<05:01,  3.10it/s]",
          "output_type": "stream"
        },
        {
          "name": "stdout",
          "text": "epoch: 63, loss:0.010161021076269157\n",
          "output_type": "stream"
        },
        {
          "name": "stderr",
          "text": "  6%|▋         | 65/1000 [00:21<05:03,  3.09it/s]",
          "output_type": "stream"
        },
        {
          "name": "stdout",
          "text": "epoch: 64, loss:0.009876976506767247\n",
          "output_type": "stream"
        },
        {
          "name": "stderr",
          "text": "  7%|▋         | 66/1000 [00:21<05:02,  3.09it/s]",
          "output_type": "stream"
        },
        {
          "name": "stdout",
          "text": "epoch: 65, loss:0.009605882306138338\n",
          "output_type": "stream"
        },
        {
          "name": "stderr",
          "text": "  7%|▋         | 67/1000 [00:21<05:01,  3.09it/s]",
          "output_type": "stream"
        },
        {
          "name": "stdout",
          "text": "epoch: 66, loss:0.009341132011113959\n",
          "output_type": "stream"
        },
        {
          "name": "stderr",
          "text": "  7%|▋         | 68/1000 [00:22<05:01,  3.09it/s]",
          "output_type": "stream"
        },
        {
          "name": "stdout",
          "text": "epoch: 67, loss:0.009081433549675689\n",
          "output_type": "stream"
        },
        {
          "name": "stderr",
          "text": "  7%|▋         | 69/1000 [00:22<05:01,  3.09it/s]",
          "output_type": "stream"
        },
        {
          "name": "stdout",
          "text": "epoch: 68, loss:0.008826770274648893\n",
          "output_type": "stream"
        },
        {
          "name": "stderr",
          "text": "  7%|▋         | 70/1000 [00:22<05:01,  3.09it/s]",
          "output_type": "stream"
        },
        {
          "name": "stdout",
          "text": "epoch: 69, loss:0.00858025883474183\n",
          "output_type": "stream"
        },
        {
          "name": "stderr",
          "text": "  7%|▋         | 71/1000 [00:23<05:05,  3.04it/s]",
          "output_type": "stream"
        },
        {
          "name": "stdout",
          "text": "epoch: 70, loss:0.008333727956613609\n",
          "output_type": "stream"
        },
        {
          "name": "stderr",
          "text": "  7%|▋         | 72/1000 [00:23<05:06,  3.03it/s]",
          "output_type": "stream"
        },
        {
          "name": "stdout",
          "text": "epoch: 71, loss:0.008104707203873825\n",
          "output_type": "stream"
        },
        {
          "name": "stderr",
          "text": "  7%|▋         | 73/1000 [00:23<05:02,  3.06it/s]",
          "output_type": "stream"
        },
        {
          "name": "stdout",
          "text": "epoch: 72, loss:0.007868824767720882\n",
          "output_type": "stream"
        },
        {
          "name": "stderr",
          "text": "  7%|▋         | 74/1000 [00:24<05:04,  3.05it/s]",
          "output_type": "stream"
        },
        {
          "name": "stdout",
          "text": "epoch: 73, loss:0.007642225078679275\n",
          "output_type": "stream"
        },
        {
          "name": "stderr",
          "text": "  8%|▊         | 75/1000 [00:24<05:01,  3.07it/s]",
          "output_type": "stream"
        },
        {
          "name": "stdout",
          "text": "epoch: 74, loss:0.007420571866275597\n",
          "output_type": "stream"
        },
        {
          "name": "stderr",
          "text": "  8%|▊         | 76/1000 [00:24<04:58,  3.09it/s]",
          "output_type": "stream"
        },
        {
          "name": "stdout",
          "text": "epoch: 75, loss:0.007210139751254294\n",
          "output_type": "stream"
        },
        {
          "name": "stderr",
          "text": "  8%|▊         | 77/1000 [00:25<04:57,  3.10it/s]",
          "output_type": "stream"
        },
        {
          "name": "stdout",
          "text": "epoch: 76, loss:0.006997758708504759\n",
          "output_type": "stream"
        },
        {
          "name": "stderr",
          "text": "  8%|▊         | 78/1000 [00:25<04:54,  3.13it/s]",
          "output_type": "stream"
        },
        {
          "name": "stdout",
          "text": "epoch: 77, loss:0.006795088793012594\n",
          "output_type": "stream"
        },
        {
          "name": "stderr",
          "text": "  8%|▊         | 79/1000 [00:25<04:53,  3.14it/s]",
          "output_type": "stream"
        },
        {
          "name": "stdout",
          "text": "epoch: 78, loss:0.006596838088284617\n",
          "output_type": "stream"
        },
        {
          "name": "stderr",
          "text": "  8%|▊         | 80/1000 [00:26<04:57,  3.09it/s]",
          "output_type": "stream"
        },
        {
          "name": "stdout",
          "text": "epoch: 79, loss:0.006400655673667061\n",
          "output_type": "stream"
        },
        {
          "name": "stderr",
          "text": "  8%|▊         | 81/1000 [00:26<04:56,  3.10it/s]",
          "output_type": "stream"
        },
        {
          "name": "stdout",
          "text": "epoch: 80, loss:0.006218241787717685\n",
          "output_type": "stream"
        },
        {
          "name": "stderr",
          "text": "  8%|▊         | 82/1000 [00:26<04:59,  3.06it/s]",
          "output_type": "stream"
        },
        {
          "name": "stdout",
          "text": "epoch: 81, loss:0.0060275801214355745\n",
          "output_type": "stream"
        },
        {
          "name": "stderr",
          "text": "  8%|▊         | 83/1000 [00:27<05:02,  3.03it/s]",
          "output_type": "stream"
        },
        {
          "name": "stdout",
          "text": "epoch: 82, loss:0.005849463556703616\n",
          "output_type": "stream"
        },
        {
          "name": "stderr",
          "text": "  8%|▊         | 84/1000 [00:27<05:04,  3.01it/s]",
          "output_type": "stream"
        },
        {
          "name": "stdout",
          "text": "epoch: 83, loss:0.005671943000389685\n",
          "output_type": "stream"
        },
        {
          "name": "stderr",
          "text": "  8%|▊         | 85/1000 [00:27<05:03,  3.01it/s]",
          "output_type": "stream"
        },
        {
          "name": "stdout",
          "text": "epoch: 84, loss:0.005506657912948976\n",
          "output_type": "stream"
        },
        {
          "name": "stderr",
          "text": "  9%|▊         | 86/1000 [00:28<05:06,  2.98it/s]",
          "output_type": "stream"
        },
        {
          "name": "stdout",
          "text": "epoch: 85, loss:0.005336769833954373\n",
          "output_type": "stream"
        },
        {
          "name": "stderr",
          "text": "  9%|▊         | 87/1000 [00:28<05:09,  2.95it/s]",
          "output_type": "stream"
        },
        {
          "name": "stdout",
          "text": "epoch: 86, loss:0.005180272973834132\n",
          "output_type": "stream"
        },
        {
          "name": "stderr",
          "text": "  9%|▉         | 88/1000 [00:28<05:05,  2.99it/s]",
          "output_type": "stream"
        },
        {
          "name": "stdout",
          "text": "epoch: 87, loss:0.005019325311823668\n",
          "output_type": "stream"
        },
        {
          "name": "stderr",
          "text": "  9%|▉         | 89/1000 [00:29<05:01,  3.02it/s]",
          "output_type": "stream"
        },
        {
          "name": "stdout",
          "text": "epoch: 88, loss:0.004864159323726036\n",
          "output_type": "stream"
        },
        {
          "name": "stderr",
          "text": "  9%|▉         | 90/1000 [00:29<04:58,  3.04it/s]",
          "output_type": "stream"
        },
        {
          "name": "stdout",
          "text": "epoch: 89, loss:0.004710004673829323\n",
          "output_type": "stream"
        },
        {
          "name": "stderr",
          "text": "  9%|▉         | 91/1000 [00:29<04:59,  3.04it/s]",
          "output_type": "stream"
        },
        {
          "name": "stdout",
          "text": "epoch: 90, loss:0.004575182393917703\n",
          "output_type": "stream"
        },
        {
          "name": "stderr",
          "text": "  9%|▉         | 92/1000 [00:30<05:07,  2.95it/s]",
          "output_type": "stream"
        },
        {
          "name": "stdout",
          "text": "epoch: 91, loss:0.004422025578801925\n",
          "output_type": "stream"
        },
        {
          "name": "stderr",
          "text": "  9%|▉         | 93/1000 [00:30<05:18,  2.85it/s]",
          "output_type": "stream"
        },
        {
          "name": "stdout",
          "text": "epoch: 92, loss:0.004293264024657263\n",
          "output_type": "stream"
        },
        {
          "name": "stderr",
          "text": "  9%|▉         | 94/1000 [00:30<05:17,  2.85it/s]",
          "output_type": "stream"
        },
        {
          "name": "stdout",
          "text": "epoch: 93, loss:0.004155761107283499\n",
          "output_type": "stream"
        },
        {
          "name": "stderr",
          "text": " 10%|▉         | 95/1000 [00:31<05:16,  2.86it/s]",
          "output_type": "stream"
        },
        {
          "name": "stdout",
          "text": "epoch: 94, loss:0.004023485856559595\n",
          "output_type": "stream"
        },
        {
          "name": "stderr",
          "text": " 10%|▉         | 96/1000 [00:31<05:15,  2.87it/s]",
          "output_type": "stream"
        },
        {
          "name": "stdout",
          "text": "epoch: 95, loss:0.0038946538273542408\n",
          "output_type": "stream"
        },
        {
          "name": "stderr",
          "text": " 10%|▉         | 97/1000 [00:31<05:07,  2.93it/s]",
          "output_type": "stream"
        },
        {
          "name": "stdout",
          "text": "epoch: 96, loss:0.003777479294864513\n",
          "output_type": "stream"
        },
        {
          "name": "stderr",
          "text": " 10%|▉         | 98/1000 [00:32<05:02,  2.98it/s]",
          "output_type": "stream"
        },
        {
          "name": "stdout",
          "text": "epoch: 97, loss:0.003652498648492412\n",
          "output_type": "stream"
        },
        {
          "name": "stderr",
          "text": " 10%|▉         | 99/1000 [00:32<04:57,  3.03it/s]",
          "output_type": "stream"
        },
        {
          "name": "stdout",
          "text": "epoch: 98, loss:0.0035388543121547\n",
          "output_type": "stream"
        },
        {
          "name": "stderr",
          "text": " 10%|█         | 100/1000 [00:32<04:59,  3.00it/s]",
          "output_type": "stream"
        },
        {
          "name": "stdout",
          "text": "epoch: 99, loss:0.003423660931554597\n",
          "output_type": "stream"
        },
        {
          "name": "stderr",
          "text": " 10%|█         | 101/1000 [00:33<04:56,  3.03it/s]",
          "output_type": "stream"
        },
        {
          "name": "stdout",
          "text": "epoch: 100, loss:0.0033095469045908046\n",
          "output_type": "stream"
        },
        {
          "name": "stderr",
          "text": " 10%|█         | 102/1000 [00:33<04:52,  3.07it/s]",
          "output_type": "stream"
        },
        {
          "name": "stdout",
          "text": "epoch: 101, loss:0.003212040122591918\n",
          "output_type": "stream"
        },
        {
          "name": "stderr",
          "text": " 10%|█         | 103/1000 [00:33<04:49,  3.10it/s]",
          "output_type": "stream"
        },
        {
          "name": "stdout",
          "text": "epoch: 102, loss:0.003104591696149\n",
          "output_type": "stream"
        },
        {
          "name": "stderr",
          "text": " 10%|█         | 104/1000 [00:34<04:47,  3.12it/s]",
          "output_type": "stream"
        },
        {
          "name": "stdout",
          "text": "epoch: 103, loss:0.0030084293464750058\n",
          "output_type": "stream"
        },
        {
          "name": "stderr",
          "text": " 10%|█         | 105/1000 [00:34<04:46,  3.13it/s]",
          "output_type": "stream"
        },
        {
          "name": "stdout",
          "text": "epoch: 104, loss:0.002905694758095415\n",
          "output_type": "stream"
        },
        {
          "name": "stderr",
          "text": " 11%|█         | 106/1000 [00:34<04:45,  3.13it/s]",
          "output_type": "stream"
        },
        {
          "name": "stdout",
          "text": "epoch: 105, loss:0.0028153079655800417\n",
          "output_type": "stream"
        },
        {
          "name": "stderr",
          "text": " 11%|█         | 107/1000 [00:35<04:50,  3.07it/s]",
          "output_type": "stream"
        },
        {
          "name": "stdout",
          "text": "epoch: 106, loss:0.0027243409992672146\n",
          "output_type": "stream"
        },
        {
          "name": "stderr",
          "text": " 11%|█         | 108/1000 [00:35<04:52,  3.05it/s]",
          "output_type": "stream"
        },
        {
          "name": "stdout",
          "text": "epoch: 107, loss:0.002630823519313275\n",
          "output_type": "stream"
        },
        {
          "name": "stderr",
          "text": " 11%|█         | 109/1000 [00:35<04:53,  3.03it/s]",
          "output_type": "stream"
        },
        {
          "name": "stdout",
          "text": "epoch: 108, loss:0.0025501271700495197\n",
          "output_type": "stream"
        },
        {
          "name": "stderr",
          "text": " 11%|█         | 110/1000 [00:36<04:59,  2.97it/s]",
          "output_type": "stream"
        },
        {
          "name": "stdout",
          "text": "epoch: 109, loss:0.0024674332022545107\n",
          "output_type": "stream"
        },
        {
          "name": "stderr",
          "text": " 11%|█         | 111/1000 [00:36<05:02,  2.94it/s]",
          "output_type": "stream"
        },
        {
          "name": "stdout",
          "text": "epoch: 110, loss:0.0023853558651052613\n",
          "output_type": "stream"
        },
        {
          "name": "stderr",
          "text": " 11%|█         | 112/1000 [00:36<04:58,  2.98it/s]",
          "output_type": "stream"
        },
        {
          "name": "stdout",
          "text": "epoch: 111, loss:0.0023086964711893114\n",
          "output_type": "stream"
        },
        {
          "name": "stderr",
          "text": " 11%|█▏        | 113/1000 [00:37<04:55,  3.00it/s]",
          "output_type": "stream"
        },
        {
          "name": "stdout",
          "text": "epoch: 112, loss:0.0022324851134594625\n",
          "output_type": "stream"
        },
        {
          "name": "stderr",
          "text": " 11%|█▏        | 114/1000 [00:37<04:51,  3.04it/s]",
          "output_type": "stream"
        },
        {
          "name": "stdout",
          "text": "epoch: 113, loss:0.0021583235783641597\n",
          "output_type": "stream"
        },
        {
          "name": "stderr",
          "text": " 12%|█▏        | 115/1000 [00:37<04:49,  3.05it/s]",
          "output_type": "stream"
        },
        {
          "name": "stdout",
          "text": "epoch: 114, loss:0.0020883332587519773\n",
          "output_type": "stream"
        },
        {
          "name": "stderr",
          "text": " 12%|█▏        | 116/1000 [00:38<04:49,  3.05it/s]",
          "output_type": "stream"
        },
        {
          "name": "stdout",
          "text": "epoch: 115, loss:0.002018262399590447\n",
          "output_type": "stream"
        },
        {
          "name": "stderr",
          "text": " 12%|█▏        | 117/1000 [00:38<04:53,  3.01it/s]",
          "output_type": "stream"
        },
        {
          "name": "stdout",
          "text": "epoch: 116, loss:0.001954179731903937\n",
          "output_type": "stream"
        },
        {
          "name": "stderr",
          "text": " 12%|█▏        | 118/1000 [00:38<04:49,  3.05it/s]",
          "output_type": "stream"
        },
        {
          "name": "stdout",
          "text": "epoch: 117, loss:0.0018893760450696747\n",
          "output_type": "stream"
        },
        {
          "name": "stderr",
          "text": " 12%|█▏        | 119/1000 [00:39<04:46,  3.08it/s]",
          "output_type": "stream"
        },
        {
          "name": "stdout",
          "text": "epoch: 118, loss:0.0018282855281544215\n",
          "output_type": "stream"
        },
        {
          "name": "stderr",
          "text": " 12%|█▏        | 120/1000 [00:39<04:50,  3.03it/s]",
          "output_type": "stream"
        },
        {
          "name": "stdout",
          "text": "epoch: 119, loss:0.001770448503142364\n",
          "output_type": "stream"
        },
        {
          "name": "stderr",
          "text": " 12%|█▏        | 121/1000 [00:39<04:52,  3.01it/s]",
          "output_type": "stream"
        },
        {
          "name": "stdout",
          "text": "epoch: 120, loss:0.0017088834683683036\n",
          "output_type": "stream"
        },
        {
          "name": "stderr",
          "text": " 12%|█▏        | 122/1000 [00:40<04:51,  3.01it/s]",
          "output_type": "stream"
        },
        {
          "name": "stdout",
          "text": "epoch: 121, loss:0.001655349489021224\n",
          "output_type": "stream"
        },
        {
          "name": "stderr",
          "text": " 12%|█▏        | 123/1000 [00:40<04:50,  3.02it/s]",
          "output_type": "stream"
        },
        {
          "name": "stdout",
          "text": "epoch: 122, loss:0.001603893849802451\n",
          "output_type": "stream"
        },
        {
          "name": "stderr",
          "text": " 12%|█▏        | 124/1000 [00:40<04:51,  3.00it/s]",
          "output_type": "stream"
        },
        {
          "name": "stdout",
          "text": "epoch: 123, loss:0.0015519201610626637\n",
          "output_type": "stream"
        },
        {
          "name": "stderr",
          "text": " 12%|█▎        | 125/1000 [00:41<04:54,  2.97it/s]",
          "output_type": "stream"
        },
        {
          "name": "stdout",
          "text": "epoch: 124, loss:0.0015012186294772964\n",
          "output_type": "stream"
        },
        {
          "name": "stderr",
          "text": " 13%|█▎        | 126/1000 [00:41<04:49,  3.01it/s]",
          "output_type": "stream"
        },
        {
          "name": "stdout",
          "text": "epoch: 125, loss:0.001454932164849491\n",
          "output_type": "stream"
        },
        {
          "name": "stderr",
          "text": " 13%|█▎        | 127/1000 [00:41<04:50,  3.01it/s]",
          "output_type": "stream"
        },
        {
          "name": "stdout",
          "text": "epoch: 126, loss:0.0014077919390103732\n",
          "output_type": "stream"
        },
        {
          "name": "stderr",
          "text": " 13%|█▎        | 128/1000 [00:42<04:53,  2.97it/s]",
          "output_type": "stream"
        },
        {
          "name": "stdout",
          "text": "epoch: 127, loss:0.0013652227069231224\n",
          "output_type": "stream"
        },
        {
          "name": "stderr",
          "text": " 13%|█▎        | 129/1000 [00:42<04:53,  2.97it/s]",
          "output_type": "stream"
        },
        {
          "name": "stdout",
          "text": "epoch: 128, loss:0.0013223892344106365\n",
          "output_type": "stream"
        },
        {
          "name": "stderr",
          "text": " 13%|█▎        | 130/1000 [00:42<04:54,  2.96it/s]",
          "output_type": "stream"
        },
        {
          "name": "stdout",
          "text": "epoch: 129, loss:0.001278532030171839\n",
          "output_type": "stream"
        },
        {
          "name": "stderr",
          "text": " 13%|█▎        | 131/1000 [00:43<04:55,  2.94it/s]",
          "output_type": "stream"
        },
        {
          "name": "stdout",
          "text": "epoch: 130, loss:0.0012411369851611958\n",
          "output_type": "stream"
        },
        {
          "name": "stderr",
          "text": " 13%|█▎        | 132/1000 [00:43<04:49,  2.99it/s]",
          "output_type": "stream"
        },
        {
          "name": "stdout",
          "text": "epoch: 131, loss:0.0012027279822194566\n",
          "output_type": "stream"
        },
        {
          "name": "stderr",
          "text": " 13%|█▎        | 133/1000 [00:43<04:46,  3.03it/s]",
          "output_type": "stream"
        },
        {
          "name": "stdout",
          "text": "epoch: 132, loss:0.0011652052675831615\n",
          "output_type": "stream"
        },
        {
          "name": "stderr",
          "text": " 13%|█▎        | 134/1000 [00:44<04:43,  3.05it/s]",
          "output_type": "stream"
        },
        {
          "name": "stdout",
          "text": "epoch: 133, loss:0.0011318523713785048\n",
          "output_type": "stream"
        },
        {
          "name": "stderr",
          "text": " 14%|█▎        | 135/1000 [00:44<04:41,  3.07it/s]",
          "output_type": "stream"
        },
        {
          "name": "stdout",
          "text": "epoch: 134, loss:0.0010970453838082606\n",
          "output_type": "stream"
        },
        {
          "name": "stderr",
          "text": " 14%|█▎        | 136/1000 [00:44<04:42,  3.06it/s]",
          "output_type": "stream"
        },
        {
          "name": "stdout",
          "text": "epoch: 135, loss:0.001065601188813946\n",
          "output_type": "stream"
        },
        {
          "name": "stderr",
          "text": " 14%|█▎        | 137/1000 [00:45<04:41,  3.07it/s]",
          "output_type": "stream"
        },
        {
          "name": "stdout",
          "text": "epoch: 136, loss:0.00103264086808572\n",
          "output_type": "stream"
        },
        {
          "name": "stderr",
          "text": " 14%|█▍        | 138/1000 [00:45<04:39,  3.08it/s]",
          "output_type": "stream"
        },
        {
          "name": "stdout",
          "text": "epoch: 137, loss:0.0010014866437370994\n",
          "output_type": "stream"
        },
        {
          "name": "stderr",
          "text": " 14%|█▍        | 139/1000 [00:45<04:42,  3.05it/s]",
          "output_type": "stream"
        },
        {
          "name": "stdout",
          "text": "epoch: 138, loss:0.0009720821052551773\n",
          "output_type": "stream"
        },
        {
          "name": "stderr",
          "text": " 14%|█▍        | 140/1000 [00:46<04:40,  3.06it/s]",
          "output_type": "stream"
        },
        {
          "name": "stdout",
          "text": "epoch: 139, loss:0.000945909879824437\n",
          "output_type": "stream"
        },
        {
          "name": "stderr",
          "text": " 14%|█▍        | 141/1000 [00:46<04:42,  3.04it/s]",
          "output_type": "stream"
        },
        {
          "name": "stdout",
          "text": "epoch: 140, loss:0.0009222210355125304\n",
          "output_type": "stream"
        },
        {
          "name": "stderr",
          "text": " 14%|█▍        | 142/1000 [00:46<04:44,  3.02it/s]",
          "output_type": "stream"
        },
        {
          "name": "stdout",
          "text": "epoch: 141, loss:0.000893288784081487\n",
          "output_type": "stream"
        },
        {
          "name": "stderr",
          "text": " 14%|█▍        | 143/1000 [00:47<04:42,  3.04it/s]",
          "output_type": "stream"
        },
        {
          "name": "stdout",
          "text": "epoch: 142, loss:0.0008717080293951994\n",
          "output_type": "stream"
        },
        {
          "name": "stderr",
          "text": " 14%|█▍        | 144/1000 [00:47<04:38,  3.07it/s]",
          "output_type": "stream"
        },
        {
          "name": "stdout",
          "text": "epoch: 143, loss:0.000842802727979299\n",
          "output_type": "stream"
        },
        {
          "name": "stderr",
          "text": " 14%|█▍        | 145/1000 [00:47<04:39,  3.06it/s]",
          "output_type": "stream"
        },
        {
          "name": "stdout",
          "text": "epoch: 144, loss:0.0008218365842891406\n",
          "output_type": "stream"
        },
        {
          "name": "stderr",
          "text": " 15%|█▍        | 146/1000 [00:48<04:44,  3.01it/s]",
          "output_type": "stream"
        },
        {
          "name": "stdout",
          "text": "epoch: 145, loss:0.0007987167281191169\n",
          "output_type": "stream"
        },
        {
          "name": "stderr",
          "text": " 15%|█▍        | 147/1000 [00:48<04:47,  2.97it/s]",
          "output_type": "stream"
        },
        {
          "name": "stdout",
          "text": "epoch: 146, loss:0.0007767436134863568\n",
          "output_type": "stream"
        },
        {
          "name": "stderr",
          "text": " 15%|█▍        | 148/1000 [00:48<04:47,  2.96it/s]",
          "output_type": "stream"
        },
        {
          "name": "stdout",
          "text": "epoch: 147, loss:0.0007610355670298047\n",
          "output_type": "stream"
        },
        {
          "name": "stderr",
          "text": " 15%|█▍        | 149/1000 [00:49<04:43,  3.00it/s]",
          "output_type": "stream"
        },
        {
          "name": "stdout",
          "text": "epoch: 148, loss:0.000742265072900835\n",
          "output_type": "stream"
        },
        {
          "name": "stderr",
          "text": " 15%|█▌        | 150/1000 [00:49<04:39,  3.04it/s]",
          "output_type": "stream"
        },
        {
          "name": "stdout",
          "text": "epoch: 149, loss:0.0007205126287714668\n",
          "output_type": "stream"
        },
        {
          "name": "stderr",
          "text": " 15%|█▌        | 151/1000 [00:49<04:38,  3.05it/s]",
          "output_type": "stream"
        },
        {
          "name": "stdout",
          "text": "epoch: 150, loss:0.0007055581174636685\n",
          "output_type": "stream"
        },
        {
          "name": "stderr",
          "text": " 15%|█▌        | 152/1000 [00:50<04:41,  3.01it/s]",
          "output_type": "stream"
        },
        {
          "name": "stdout",
          "text": "epoch: 151, loss:0.0006858258736418836\n",
          "output_type": "stream"
        },
        {
          "name": "stderr",
          "text": " 15%|█▌        | 153/1000 [00:50<04:40,  3.02it/s]",
          "output_type": "stream"
        },
        {
          "name": "stdout",
          "text": "epoch: 152, loss:0.0006712465700658807\n",
          "output_type": "stream"
        },
        {
          "name": "stderr",
          "text": " 15%|█▌        | 154/1000 [00:50<04:39,  3.03it/s]",
          "output_type": "stream"
        },
        {
          "name": "stdout",
          "text": "epoch: 153, loss:0.0006565699812953423\n",
          "output_type": "stream"
        },
        {
          "name": "stderr",
          "text": " 16%|█▌        | 155/1000 [00:50<04:36,  3.06it/s]",
          "output_type": "stream"
        },
        {
          "name": "stdout",
          "text": "epoch: 154, loss:0.0006405790576871395\n",
          "output_type": "stream"
        },
        {
          "name": "stderr",
          "text": " 16%|█▌        | 156/1000 [00:51<04:33,  3.09it/s]",
          "output_type": "stream"
        },
        {
          "name": "stdout",
          "text": "epoch: 155, loss:0.0006278682635672498\n",
          "output_type": "stream"
        },
        {
          "name": "stderr",
          "text": " 16%|█▌        | 157/1000 [00:51<04:31,  3.10it/s]",
          "output_type": "stream"
        },
        {
          "name": "stdout",
          "text": "epoch: 156, loss:0.0006071483175503333\n",
          "output_type": "stream"
        },
        {
          "name": "stderr",
          "text": " 16%|█▌        | 158/1000 [00:51<04:32,  3.09it/s]",
          "output_type": "stream"
        },
        {
          "name": "stdout",
          "text": "epoch: 157, loss:0.0005940684583109093\n",
          "output_type": "stream"
        },
        {
          "name": "stderr",
          "text": " 16%|█▌        | 159/1000 [00:52<04:36,  3.04it/s]",
          "output_type": "stream"
        },
        {
          "name": "stdout",
          "text": "epoch: 158, loss:0.0005841993390909162\n",
          "output_type": "stream"
        },
        {
          "name": "stderr",
          "text": " 16%|█▌        | 160/1000 [00:52<04:38,  3.02it/s]",
          "output_type": "stream"
        },
        {
          "name": "stdout",
          "text": "epoch: 159, loss:0.0005743815920164727\n",
          "output_type": "stream"
        },
        {
          "name": "stderr",
          "text": " 16%|█▌        | 161/1000 [00:52<04:34,  3.06it/s]",
          "output_type": "stream"
        },
        {
          "name": "stdout",
          "text": "epoch: 160, loss:0.0005614813070489455\n",
          "output_type": "stream"
        },
        {
          "name": "stderr",
          "text": " 16%|█▌        | 162/1000 [00:53<04:33,  3.07it/s]",
          "output_type": "stream"
        },
        {
          "name": "stdout",
          "text": "epoch: 161, loss:0.000546799292036917\n",
          "output_type": "stream"
        },
        {
          "name": "stderr",
          "text": " 16%|█▋        | 163/1000 [00:53<04:32,  3.07it/s]",
          "output_type": "stream"
        },
        {
          "name": "stdout",
          "text": "epoch: 162, loss:0.0005357464470005003\n",
          "output_type": "stream"
        },
        {
          "name": "stderr",
          "text": " 16%|█▋        | 164/1000 [00:53<04:32,  3.07it/s]",
          "output_type": "stream"
        },
        {
          "name": "stdout",
          "text": "epoch: 163, loss:0.0005222589758251266\n",
          "output_type": "stream"
        },
        {
          "name": "stderr",
          "text": " 16%|█▋        | 165/1000 [00:54<04:31,  3.07it/s]",
          "output_type": "stream"
        },
        {
          "name": "stdout",
          "text": "epoch: 164, loss:0.0005164163677012205\n",
          "output_type": "stream"
        },
        {
          "name": "stderr",
          "text": " 17%|█▋        | 166/1000 [00:54<04:31,  3.07it/s]",
          "output_type": "stream"
        },
        {
          "name": "stdout",
          "text": "epoch: 165, loss:0.0005071371520386313\n",
          "output_type": "stream"
        },
        {
          "name": "stderr",
          "text": " 17%|█▋        | 167/1000 [00:54<04:30,  3.07it/s]",
          "output_type": "stream"
        },
        {
          "name": "stdout",
          "text": "epoch: 166, loss:0.0004940183456318458\n",
          "output_type": "stream"
        },
        {
          "name": "stderr",
          "text": " 17%|█▋        | 168/1000 [00:55<04:31,  3.06it/s]",
          "output_type": "stream"
        },
        {
          "name": "stdout",
          "text": "epoch: 167, loss:0.0004905554720425477\n",
          "output_type": "stream"
        },
        {
          "name": "stderr",
          "text": " 17%|█▋        | 169/1000 [00:55<04:30,  3.07it/s]",
          "output_type": "stream"
        },
        {
          "name": "stdout",
          "text": "epoch: 168, loss:0.00048190943956218974\n",
          "output_type": "stream"
        },
        {
          "name": "stderr",
          "text": " 17%|█▋        | 170/1000 [00:55<04:33,  3.03it/s]",
          "output_type": "stream"
        },
        {
          "name": "stdout",
          "text": "epoch: 169, loss:0.0004736016720229782\n",
          "output_type": "stream"
        },
        {
          "name": "stderr",
          "text": " 17%|█▋        | 171/1000 [00:56<04:32,  3.04it/s]",
          "output_type": "stream"
        },
        {
          "name": "stdout",
          "text": "epoch: 170, loss:0.0004642171251967218\n",
          "output_type": "stream"
        },
        {
          "name": "stderr",
          "text": " 17%|█▋        | 172/1000 [00:56<04:31,  3.05it/s]",
          "output_type": "stream"
        },
        {
          "name": "stdout",
          "text": "epoch: 171, loss:0.00046007076438143004\n",
          "output_type": "stream"
        },
        {
          "name": "stderr",
          "text": " 17%|█▋        | 173/1000 [00:56<04:30,  3.05it/s]",
          "output_type": "stream"
        },
        {
          "name": "stdout",
          "text": "epoch: 172, loss:0.0004503202756463619\n",
          "output_type": "stream"
        },
        {
          "name": "stderr",
          "text": " 17%|█▋        | 174/1000 [00:57<04:29,  3.06it/s]",
          "output_type": "stream"
        },
        {
          "name": "stdout",
          "text": "epoch: 173, loss:0.0004478843967756576\n",
          "output_type": "stream"
        },
        {
          "name": "stderr",
          "text": " 18%|█▊        | 175/1000 [00:57<04:27,  3.09it/s]",
          "output_type": "stream"
        },
        {
          "name": "stdout",
          "text": "epoch: 174, loss:0.00043955686443991555\n",
          "output_type": "stream"
        },
        {
          "name": "stderr",
          "text": " 18%|█▊        | 176/1000 [00:57<04:26,  3.09it/s]",
          "output_type": "stream"
        },
        {
          "name": "stdout",
          "text": "epoch: 175, loss:0.0004337224234491073\n",
          "output_type": "stream"
        },
        {
          "name": "stderr",
          "text": " 18%|█▊        | 177/1000 [00:58<04:33,  3.01it/s]",
          "output_type": "stream"
        },
        {
          "name": "stdout",
          "text": "epoch: 176, loss:0.000426353959441677\n",
          "output_type": "stream"
        },
        {
          "name": "stderr",
          "text": " 18%|█▊        | 178/1000 [00:58<04:35,  2.98it/s]",
          "output_type": "stream"
        },
        {
          "name": "stdout",
          "text": "epoch: 177, loss:0.0004273615706381195\n",
          "output_type": "stream"
        },
        {
          "name": "stderr",
          "text": " 18%|█▊        | 179/1000 [00:58<04:36,  2.97it/s]",
          "output_type": "stream"
        },
        {
          "name": "stdout",
          "text": "epoch: 178, loss:0.0004165501537190586\n",
          "output_type": "stream"
        },
        {
          "name": "stderr",
          "text": " 18%|█▊        | 180/1000 [00:59<04:32,  3.01it/s]",
          "output_type": "stream"
        },
        {
          "name": "stdout",
          "text": "epoch: 179, loss:0.0004159959149562981\n",
          "output_type": "stream"
        },
        {
          "name": "stderr",
          "text": " 18%|█▊        | 181/1000 [00:59<04:32,  3.01it/s]",
          "output_type": "stream"
        },
        {
          "name": "stdout",
          "text": "epoch: 180, loss:0.00040276379385656777\n",
          "output_type": "stream"
        },
        {
          "name": "stderr",
          "text": " 18%|█▊        | 182/1000 [00:59<04:33,  2.99it/s]",
          "output_type": "stream"
        },
        {
          "name": "stdout",
          "text": "epoch: 181, loss:0.00040250470513601477\n",
          "output_type": "stream"
        },
        {
          "name": "stderr",
          "text": " 18%|█▊        | 183/1000 [01:00<04:34,  2.97it/s]",
          "output_type": "stream"
        },
        {
          "name": "stdout",
          "text": "epoch: 182, loss:0.00040037639129013937\n",
          "output_type": "stream"
        },
        {
          "name": "stderr",
          "text": " 18%|█▊        | 184/1000 [01:00<04:34,  2.98it/s]",
          "output_type": "stream"
        },
        {
          "name": "stdout",
          "text": "epoch: 183, loss:0.00039618858908123806\n",
          "output_type": "stream"
        },
        {
          "name": "stderr",
          "text": " 18%|█▊        | 185/1000 [01:00<04:29,  3.02it/s]",
          "output_type": "stream"
        },
        {
          "name": "stdout",
          "text": "epoch: 184, loss:0.0003913629772600313\n",
          "output_type": "stream"
        },
        {
          "name": "stderr",
          "text": " 19%|█▊        | 186/1000 [01:01<04:27,  3.04it/s]",
          "output_type": "stream"
        },
        {
          "name": "stdout",
          "text": "epoch: 185, loss:0.0003866147236944638\n",
          "output_type": "stream"
        },
        {
          "name": "stderr",
          "text": " 19%|█▊        | 187/1000 [01:01<04:24,  3.07it/s]",
          "output_type": "stream"
        },
        {
          "name": "stdout",
          "text": "epoch: 186, loss:0.0003798131678730674\n",
          "output_type": "stream"
        },
        {
          "name": "stderr",
          "text": " 19%|█▉        | 188/1000 [01:01<04:32,  2.98it/s]",
          "output_type": "stream"
        },
        {
          "name": "stdout",
          "text": "epoch: 187, loss:0.000380274132701322\n",
          "output_type": "stream"
        },
        {
          "name": "stderr",
          "text": " 19%|█▉        | 189/1000 [01:02<04:35,  2.94it/s]",
          "output_type": "stream"
        },
        {
          "name": "stdout",
          "text": "epoch: 188, loss:0.00037422514736839033\n",
          "output_type": "stream"
        },
        {
          "name": "stderr",
          "text": " 19%|█▉        | 190/1000 [01:02<04:36,  2.93it/s]",
          "output_type": "stream"
        },
        {
          "name": "stdout",
          "text": "epoch: 189, loss:0.0003686881837512242\n",
          "output_type": "stream"
        },
        {
          "name": "stderr",
          "text": " 19%|█▉        | 191/1000 [01:02<04:39,  2.90it/s]",
          "output_type": "stream"
        },
        {
          "name": "stdout",
          "text": "epoch: 190, loss:0.0003711029570269237\n",
          "output_type": "stream"
        },
        {
          "name": "stderr",
          "text": " 19%|█▉        | 192/1000 [01:03<04:35,  2.93it/s]",
          "output_type": "stream"
        },
        {
          "name": "stdout",
          "text": "epoch: 191, loss:0.0003643829772189676\n",
          "output_type": "stream"
        },
        {
          "name": "stderr",
          "text": " 19%|█▉        | 193/1000 [01:03<04:29,  2.99it/s]",
          "output_type": "stream"
        },
        {
          "name": "stdout",
          "text": "epoch: 192, loss:0.00036000251874832034\n",
          "output_type": "stream"
        },
        {
          "name": "stderr",
          "text": " 19%|█▉        | 194/1000 [01:03<04:26,  3.03it/s]",
          "output_type": "stream"
        },
        {
          "name": "stdout",
          "text": "epoch: 193, loss:0.00035897356900430126\n",
          "output_type": "stream"
        },
        {
          "name": "stderr",
          "text": " 20%|█▉        | 195/1000 [01:04<04:23,  3.06it/s]",
          "output_type": "stream"
        },
        {
          "name": "stdout",
          "text": "epoch: 194, loss:0.0003494126235945459\n",
          "output_type": "stream"
        },
        {
          "name": "stderr",
          "text": " 20%|█▉        | 196/1000 [01:04<04:20,  3.09it/s]",
          "output_type": "stream"
        },
        {
          "name": "stdout",
          "text": "epoch: 195, loss:0.0003536396438818941\n",
          "output_type": "stream"
        },
        {
          "name": "stderr",
          "text": " 20%|█▉        | 197/1000 [01:04<04:18,  3.10it/s]",
          "output_type": "stream"
        },
        {
          "name": "stdout",
          "text": "epoch: 196, loss:0.0003438684243815513\n",
          "output_type": "stream"
        },
        {
          "name": "stderr",
          "text": " 20%|█▉        | 198/1000 [01:05<04:18,  3.11it/s]",
          "output_type": "stream"
        },
        {
          "name": "stdout",
          "text": "epoch: 197, loss:0.0003450189538268939\n",
          "output_type": "stream"
        },
        {
          "name": "stderr",
          "text": " 20%|█▉        | 199/1000 [01:05<04:16,  3.12it/s]",
          "output_type": "stream"
        },
        {
          "name": "stdout",
          "text": "epoch: 198, loss:0.00034766535996982975\n",
          "output_type": "stream"
        },
        {
          "name": "stderr",
          "text": " 20%|██        | 200/1000 [01:05<04:15,  3.13it/s]",
          "output_type": "stream"
        },
        {
          "name": "stdout",
          "text": "epoch: 199, loss:0.00034233872890702423\n",
          "output_type": "stream"
        },
        {
          "name": "stderr",
          "text": " 20%|██        | 201/1000 [01:06<04:21,  3.05it/s]",
          "output_type": "stream"
        },
        {
          "name": "stdout",
          "text": "epoch: 200, loss:0.0003389234675823832\n",
          "output_type": "stream"
        },
        {
          "name": "stderr",
          "text": " 20%|██        | 202/1000 [01:06<04:24,  3.02it/s]",
          "output_type": "stream"
        },
        {
          "name": "stdout",
          "text": "epoch: 201, loss:0.0003392921946080392\n",
          "output_type": "stream"
        },
        {
          "name": "stderr",
          "text": " 20%|██        | 203/1000 [01:06<04:22,  3.04it/s]",
          "output_type": "stream"
        },
        {
          "name": "stdout",
          "text": "epoch: 202, loss:0.0003309594881936018\n",
          "output_type": "stream"
        },
        {
          "name": "stderr",
          "text": " 20%|██        | 204/1000 [01:07<04:20,  3.06it/s]",
          "output_type": "stream"
        },
        {
          "name": "stdout",
          "text": "epoch: 203, loss:0.0003339407286085161\n",
          "output_type": "stream"
        },
        {
          "name": "stderr",
          "text": " 20%|██        | 205/1000 [01:07<04:19,  3.06it/s]",
          "output_type": "stream"
        },
        {
          "name": "stdout",
          "text": "epoch: 204, loss:0.00033708511973942583\n",
          "output_type": "stream"
        },
        {
          "name": "stderr",
          "text": " 21%|██        | 206/1000 [01:07<04:18,  3.07it/s]",
          "output_type": "stream"
        },
        {
          "name": "stdout",
          "text": "epoch: 205, loss:0.00032683734247367964\n",
          "output_type": "stream"
        },
        {
          "name": "stderr",
          "text": " 21%|██        | 207/1000 [01:08<04:25,  2.99it/s]",
          "output_type": "stream"
        },
        {
          "name": "stdout",
          "text": "epoch: 206, loss:0.00033081103216057534\n",
          "output_type": "stream"
        },
        {
          "name": "stderr",
          "text": " 21%|██        | 208/1000 [01:08<04:26,  2.97it/s]",
          "output_type": "stream"
        },
        {
          "name": "stdout",
          "text": "epoch: 207, loss:0.000327559369023323\n",
          "output_type": "stream"
        },
        {
          "name": "stderr",
          "text": " 21%|██        | 209/1000 [01:08<04:26,  2.97it/s]",
          "output_type": "stream"
        },
        {
          "name": "stdout",
          "text": "epoch: 208, loss:0.0003230452618080576\n",
          "output_type": "stream"
        },
        {
          "name": "stderr",
          "text": " 21%|██        | 210/1000 [01:09<04:27,  2.95it/s]",
          "output_type": "stream"
        },
        {
          "name": "stdout",
          "text": "epoch: 209, loss:0.0003253195464783174\n",
          "output_type": "stream"
        },
        {
          "name": "stderr",
          "text": " 21%|██        | 211/1000 [01:09<04:23,  2.99it/s]",
          "output_type": "stream"
        },
        {
          "name": "stdout",
          "text": "epoch: 210, loss:0.00031882973045726246\n",
          "output_type": "stream"
        },
        {
          "name": "stderr",
          "text": " 21%|██        | 212/1000 [01:09<04:20,  3.02it/s]",
          "output_type": "stream"
        },
        {
          "name": "stdout",
          "text": "epoch: 211, loss:0.00031607540069940603\n",
          "output_type": "stream"
        },
        {
          "name": "stderr",
          "text": " 21%|██▏       | 213/1000 [01:10<04:22,  3.00it/s]",
          "output_type": "stream"
        },
        {
          "name": "stdout",
          "text": "epoch: 212, loss:0.0003137568402518778\n",
          "output_type": "stream"
        },
        {
          "name": "stderr",
          "text": " 21%|██▏       | 214/1000 [01:10<04:19,  3.03it/s]",
          "output_type": "stream"
        },
        {
          "name": "stdout",
          "text": "epoch: 213, loss:0.00031430453658188163\n",
          "output_type": "stream"
        },
        {
          "name": "stderr",
          "text": " 22%|██▏       | 215/1000 [01:10<04:16,  3.06it/s]",
          "output_type": "stream"
        },
        {
          "name": "stdout",
          "text": "epoch: 214, loss:0.00031201343670488133\n",
          "output_type": "stream"
        },
        {
          "name": "stderr",
          "text": " 22%|██▏       | 216/1000 [01:11<04:15,  3.07it/s]",
          "output_type": "stream"
        },
        {
          "name": "stdout",
          "text": "epoch: 215, loss:0.00031329037224905616\n",
          "output_type": "stream"
        },
        {
          "name": "stderr",
          "text": " 22%|██▏       | 217/1000 [01:11<04:13,  3.09it/s]",
          "output_type": "stream"
        },
        {
          "name": "stdout",
          "text": "epoch: 216, loss:0.0003082401591079029\n",
          "output_type": "stream"
        },
        {
          "name": "stderr",
          "text": " 22%|██▏       | 218/1000 [01:11<04:12,  3.09it/s]",
          "output_type": "stream"
        },
        {
          "name": "stdout",
          "text": "epoch: 217, loss:0.00030732103866419494\n",
          "output_type": "stream"
        },
        {
          "name": "stderr",
          "text": " 22%|██▏       | 219/1000 [01:12<04:11,  3.10it/s]",
          "output_type": "stream"
        },
        {
          "name": "stdout",
          "text": "epoch: 218, loss:0.00030788875934116084\n",
          "output_type": "stream"
        },
        {
          "name": "stderr",
          "text": " 22%|██▏       | 220/1000 [01:12<04:11,  3.10it/s]",
          "output_type": "stream"
        },
        {
          "name": "stdout",
          "text": "epoch: 219, loss:0.0003073448547515178\n",
          "output_type": "stream"
        },
        {
          "name": "stderr",
          "text": " 22%|██▏       | 221/1000 [01:12<04:12,  3.09it/s]",
          "output_type": "stream"
        },
        {
          "name": "stdout",
          "text": "epoch: 220, loss:0.0003037970931842015\n",
          "output_type": "stream"
        },
        {
          "name": "stderr",
          "text": " 22%|██▏       | 222/1000 [01:13<04:11,  3.09it/s]",
          "output_type": "stream"
        },
        {
          "name": "stdout",
          "text": "epoch: 221, loss:0.0003041627098165333\n",
          "output_type": "stream"
        },
        {
          "name": "stderr",
          "text": " 22%|██▏       | 223/1000 [01:13<04:09,  3.12it/s]",
          "output_type": "stream"
        },
        {
          "name": "stdout",
          "text": "epoch: 222, loss:0.00030415179676483023\n",
          "output_type": "stream"
        },
        {
          "name": "stderr",
          "text": " 22%|██▏       | 224/1000 [01:13<04:08,  3.13it/s]",
          "output_type": "stream"
        },
        {
          "name": "stdout",
          "text": "epoch: 223, loss:0.00029858117475470075\n",
          "output_type": "stream"
        },
        {
          "name": "stderr",
          "text": " 22%|██▎       | 225/1000 [01:13<04:07,  3.14it/s]",
          "output_type": "stream"
        },
        {
          "name": "stdout",
          "text": "epoch: 224, loss:0.0002999234626724998\n",
          "output_type": "stream"
        },
        {
          "name": "stderr",
          "text": " 23%|██▎       | 226/1000 [01:14<04:07,  3.13it/s]",
          "output_type": "stream"
        },
        {
          "name": "stdout",
          "text": "epoch: 225, loss:0.00029435287239077133\n",
          "output_type": "stream"
        },
        {
          "name": "stderr",
          "text": " 23%|██▎       | 227/1000 [01:14<04:08,  3.11it/s]",
          "output_type": "stream"
        },
        {
          "name": "stdout",
          "text": "epoch: 226, loss:0.00029465149517671045\n",
          "output_type": "stream"
        },
        {
          "name": "stderr",
          "text": " 23%|██▎       | 228/1000 [01:14<04:07,  3.12it/s]",
          "output_type": "stream"
        },
        {
          "name": "stdout",
          "text": "epoch: 227, loss:0.00029462184644907057\n",
          "output_type": "stream"
        },
        {
          "name": "stderr",
          "text": " 23%|██▎       | 229/1000 [01:15<04:06,  3.13it/s]",
          "output_type": "stream"
        },
        {
          "name": "stdout",
          "text": "epoch: 228, loss:0.0002970013031460429\n",
          "output_type": "stream"
        },
        {
          "name": "stderr",
          "text": " 23%|██▎       | 230/1000 [01:15<04:06,  3.12it/s]",
          "output_type": "stream"
        },
        {
          "name": "stdout",
          "text": "epoch: 229, loss:0.00029289378596120624\n",
          "output_type": "stream"
        },
        {
          "name": "stderr",
          "text": " 23%|██▎       | 231/1000 [01:15<04:06,  3.12it/s]",
          "output_type": "stream"
        },
        {
          "name": "stdout",
          "text": "epoch: 230, loss:0.0002968112867108947\n",
          "output_type": "stream"
        },
        {
          "name": "stderr",
          "text": " 23%|██▎       | 232/1000 [01:16<04:06,  3.12it/s]",
          "output_type": "stream"
        },
        {
          "name": "stdout",
          "text": "epoch: 231, loss:0.0002862520833733562\n",
          "output_type": "stream"
        },
        {
          "name": "stderr",
          "text": " 23%|██▎       | 233/1000 [01:16<04:06,  3.11it/s]",
          "output_type": "stream"
        },
        {
          "name": "stdout",
          "text": "epoch: 232, loss:0.0002876894811384493\n",
          "output_type": "stream"
        },
        {
          "name": "stderr",
          "text": " 23%|██▎       | 234/1000 [01:16<04:07,  3.09it/s]",
          "output_type": "stream"
        },
        {
          "name": "stdout",
          "text": "epoch: 233, loss:0.00028475164867745195\n",
          "output_type": "stream"
        },
        {
          "name": "stderr",
          "text": " 24%|██▎       | 235/1000 [01:17<04:06,  3.10it/s]",
          "output_type": "stream"
        },
        {
          "name": "stdout",
          "text": "epoch: 234, loss:0.000290630545661909\n",
          "output_type": "stream"
        },
        {
          "name": "stderr",
          "text": " 24%|██▎       | 236/1000 [01:17<04:04,  3.12it/s]",
          "output_type": "stream"
        },
        {
          "name": "stdout",
          "text": "epoch: 235, loss:0.0002840886494080882\n",
          "output_type": "stream"
        },
        {
          "name": "stderr",
          "text": " 24%|██▎       | 237/1000 [01:17<04:07,  3.09it/s]",
          "output_type": "stream"
        },
        {
          "name": "stdout",
          "text": "epoch: 236, loss:0.0002847321164239934\n",
          "output_type": "stream"
        },
        {
          "name": "stderr",
          "text": " 24%|██▍       | 238/1000 [01:18<04:16,  2.97it/s]",
          "output_type": "stream"
        },
        {
          "name": "stdout",
          "text": "epoch: 237, loss:0.00028421196228493135\n",
          "output_type": "stream"
        },
        {
          "name": "stderr",
          "text": " 24%|██▍       | 239/1000 [01:18<04:19,  2.94it/s]",
          "output_type": "stream"
        },
        {
          "name": "stdout",
          "text": "epoch: 238, loss:0.00028480579733762974\n",
          "output_type": "stream"
        },
        {
          "name": "stderr",
          "text": " 24%|██▍       | 240/1000 [01:18<04:15,  2.97it/s]",
          "output_type": "stream"
        },
        {
          "name": "stdout",
          "text": "epoch: 239, loss:0.00028149719512307635\n",
          "output_type": "stream"
        },
        {
          "name": "stderr",
          "text": " 24%|██▍       | 241/1000 [01:19<04:12,  3.01it/s]",
          "output_type": "stream"
        },
        {
          "name": "stdout",
          "text": "epoch: 240, loss:0.00028707587013121645\n",
          "output_type": "stream"
        },
        {
          "name": "stderr",
          "text": " 24%|██▍       | 242/1000 [01:19<04:09,  3.03it/s]",
          "output_type": "stream"
        },
        {
          "name": "stdout",
          "text": "epoch: 241, loss:0.00027772933726960856\n",
          "output_type": "stream"
        },
        {
          "name": "stderr",
          "text": " 24%|██▍       | 243/1000 [01:19<04:09,  3.03it/s]",
          "output_type": "stream"
        },
        {
          "name": "stdout",
          "text": "epoch: 242, loss:0.00027967008761320785\n",
          "output_type": "stream"
        },
        {
          "name": "stderr",
          "text": " 24%|██▍       | 244/1000 [01:20<04:08,  3.04it/s]",
          "output_type": "stream"
        },
        {
          "name": "stdout",
          "text": "epoch: 243, loss:0.0002819968663427282\n",
          "output_type": "stream"
        },
        {
          "name": "stderr",
          "text": " 24%|██▍       | 245/1000 [01:20<04:06,  3.06it/s]",
          "output_type": "stream"
        },
        {
          "name": "stdout",
          "text": "epoch: 244, loss:0.00028336970692922464\n",
          "output_type": "stream"
        },
        {
          "name": "stderr",
          "text": " 25%|██▍       | 246/1000 [01:20<04:08,  3.04it/s]",
          "output_type": "stream"
        },
        {
          "name": "stdout",
          "text": "epoch: 245, loss:0.00027744295808871874\n",
          "output_type": "stream"
        },
        {
          "name": "stderr",
          "text": " 25%|██▍       | 247/1000 [01:21<04:12,  2.98it/s]",
          "output_type": "stream"
        },
        {
          "name": "stdout",
          "text": "epoch: 246, loss:0.0002789576506251652\n",
          "output_type": "stream"
        },
        {
          "name": "stderr",
          "text": " 25%|██▍       | 248/1000 [01:21<04:12,  2.98it/s]",
          "output_type": "stream"
        },
        {
          "name": "stdout",
          "text": "epoch: 247, loss:0.0002754731070789816\n",
          "output_type": "stream"
        },
        {
          "name": "stderr",
          "text": " 25%|██▍       | 249/1000 [01:21<04:13,  2.96it/s]",
          "output_type": "stream"
        },
        {
          "name": "stdout",
          "text": "epoch: 248, loss:0.00027830083925384344\n",
          "output_type": "stream"
        },
        {
          "name": "stderr",
          "text": " 25%|██▌       | 250/1000 [01:22<04:13,  2.95it/s]",
          "output_type": "stream"
        },
        {
          "name": "stdout",
          "text": "epoch: 249, loss:0.0002693206352997331\n",
          "output_type": "stream"
        },
        {
          "name": "stderr",
          "text": " 25%|██▌       | 251/1000 [01:22<04:15,  2.94it/s]",
          "output_type": "stream"
        },
        {
          "name": "stdout",
          "text": "epoch: 250, loss:0.00027170111990721063\n",
          "output_type": "stream"
        },
        {
          "name": "stderr",
          "text": " 25%|██▌       | 252/1000 [01:22<04:11,  2.97it/s]",
          "output_type": "stream"
        },
        {
          "name": "stdout",
          "text": "epoch: 251, loss:0.00027418864749200204\n",
          "output_type": "stream"
        },
        {
          "name": "stderr",
          "text": " 25%|██▌       | 253/1000 [01:23<04:09,  2.99it/s]",
          "output_type": "stream"
        },
        {
          "name": "stdout",
          "text": "epoch: 252, loss:0.000269131469054273\n",
          "output_type": "stream"
        },
        {
          "name": "stderr",
          "text": " 25%|██▌       | 254/1000 [01:23<04:05,  3.03it/s]",
          "output_type": "stream"
        },
        {
          "name": "stdout",
          "text": "epoch: 253, loss:0.0002698088655122016\n",
          "output_type": "stream"
        },
        {
          "name": "stderr",
          "text": " 26%|██▌       | 255/1000 [01:23<04:05,  3.04it/s]",
          "output_type": "stream"
        },
        {
          "name": "stdout",
          "text": "epoch: 254, loss:0.00026954295630767097\n",
          "output_type": "stream"
        },
        {
          "name": "stderr",
          "text": " 26%|██▌       | 256/1000 [01:24<04:05,  3.04it/s]",
          "output_type": "stream"
        },
        {
          "name": "stdout",
          "text": "epoch: 255, loss:0.000266559522326407\n",
          "output_type": "stream"
        },
        {
          "name": "stderr",
          "text": " 26%|██▌       | 257/1000 [01:24<04:03,  3.06it/s]",
          "output_type": "stream"
        },
        {
          "name": "stdout",
          "text": "epoch: 256, loss:0.00026975843940496303\n",
          "output_type": "stream"
        },
        {
          "name": "stderr",
          "text": " 26%|██▌       | 258/1000 [01:24<04:02,  3.06it/s]",
          "output_type": "stream"
        },
        {
          "name": "stdout",
          "text": "epoch: 257, loss:0.00026671730751439207\n",
          "output_type": "stream"
        },
        {
          "name": "stderr",
          "text": " 26%|██▌       | 259/1000 [01:25<04:02,  3.05it/s]",
          "output_type": "stream"
        },
        {
          "name": "stdout",
          "text": "epoch: 258, loss:0.0002674753084270333\n",
          "output_type": "stream"
        },
        {
          "name": "stderr",
          "text": " 26%|██▌       | 260/1000 [01:25<04:00,  3.07it/s]",
          "output_type": "stream"
        },
        {
          "name": "stdout",
          "text": "epoch: 259, loss:0.00026376363592794033\n",
          "output_type": "stream"
        },
        {
          "name": "stderr",
          "text": " 26%|██▌       | 261/1000 [01:25<04:04,  3.02it/s]",
          "output_type": "stream"
        },
        {
          "name": "stdout",
          "text": "epoch: 260, loss:0.0002649045486718617\n",
          "output_type": "stream"
        },
        {
          "name": "stderr",
          "text": " 26%|██▌       | 262/1000 [01:26<04:07,  2.99it/s]",
          "output_type": "stream"
        },
        {
          "name": "stdout",
          "text": "epoch: 261, loss:0.0002622266703009728\n",
          "output_type": "stream"
        },
        {
          "name": "stderr",
          "text": " 26%|██▋       | 263/1000 [01:26<04:09,  2.96it/s]",
          "output_type": "stream"
        },
        {
          "name": "stdout",
          "text": "epoch: 262, loss:0.0002661334579812573\n",
          "output_type": "stream"
        },
        {
          "name": "stderr",
          "text": " 26%|██▋       | 264/1000 [01:26<04:12,  2.92it/s]",
          "output_type": "stream"
        },
        {
          "name": "stdout",
          "text": "epoch: 263, loss:0.0002622105775435182\n",
          "output_type": "stream"
        },
        {
          "name": "stderr",
          "text": " 26%|██▋       | 265/1000 [01:27<04:12,  2.91it/s]",
          "output_type": "stream"
        },
        {
          "name": "stdout",
          "text": "epoch: 264, loss:0.00026261824193537787\n",
          "output_type": "stream"
        },
        {
          "name": "stderr",
          "text": " 27%|██▋       | 266/1000 [01:27<04:11,  2.92it/s]",
          "output_type": "stream"
        },
        {
          "name": "stdout",
          "text": "epoch: 265, loss:0.0002584692939989203\n",
          "output_type": "stream"
        },
        {
          "name": "stderr",
          "text": " 27%|██▋       | 267/1000 [01:27<04:10,  2.93it/s]",
          "output_type": "stream"
        },
        {
          "name": "stdout",
          "text": "epoch: 266, loss:0.0002684165384939326\n",
          "output_type": "stream"
        },
        {
          "name": "stderr",
          "text": " 27%|██▋       | 268/1000 [01:28<04:11,  2.91it/s]",
          "output_type": "stream"
        },
        {
          "name": "stdout",
          "text": "epoch: 267, loss:0.0002603069481435811\n",
          "output_type": "stream"
        },
        {
          "name": "stderr",
          "text": " 27%|██▋       | 269/1000 [01:28<04:11,  2.91it/s]",
          "output_type": "stream"
        },
        {
          "name": "stdout",
          "text": "epoch: 268, loss:0.00025918161147177955\n",
          "output_type": "stream"
        },
        {
          "name": "stderr",
          "text": " 27%|██▋       | 270/1000 [01:28<04:06,  2.96it/s]",
          "output_type": "stream"
        },
        {
          "name": "stdout",
          "text": "epoch: 269, loss:0.0002591802081749501\n",
          "output_type": "stream"
        },
        {
          "name": "stderr",
          "text": " 27%|██▋       | 271/1000 [01:29<04:04,  2.98it/s]",
          "output_type": "stream"
        },
        {
          "name": "stdout",
          "text": "epoch: 270, loss:0.0002614286478105342\n",
          "output_type": "stream"
        },
        {
          "name": "stderr",
          "text": " 27%|██▋       | 272/1000 [01:29<04:02,  3.01it/s]",
          "output_type": "stream"
        },
        {
          "name": "stdout",
          "text": "epoch: 271, loss:0.0002589756794329628\n",
          "output_type": "stream"
        },
        {
          "name": "stderr",
          "text": " 27%|██▋       | 273/1000 [01:29<03:59,  3.04it/s]",
          "output_type": "stream"
        },
        {
          "name": "stdout",
          "text": "epoch: 272, loss:0.00026013937715881183\n",
          "output_type": "stream"
        },
        {
          "name": "stderr",
          "text": " 27%|██▋       | 274/1000 [01:30<03:56,  3.07it/s]",
          "output_type": "stream"
        },
        {
          "name": "stdout",
          "text": "epoch: 273, loss:0.0002589988649354621\n",
          "output_type": "stream"
        },
        {
          "name": "stderr",
          "text": " 28%|██▊       | 275/1000 [01:30<03:53,  3.10it/s]",
          "output_type": "stream"
        },
        {
          "name": "stdout",
          "text": "epoch: 274, loss:0.0002593398776989665\n",
          "output_type": "stream"
        },
        {
          "name": "stderr",
          "text": " 28%|██▊       | 276/1000 [01:30<03:55,  3.07it/s]",
          "output_type": "stream"
        },
        {
          "name": "stdout",
          "text": "epoch: 275, loss:0.0002566295756197431\n",
          "output_type": "stream"
        },
        {
          "name": "stderr",
          "text": " 28%|██▊       | 277/1000 [01:31<03:57,  3.05it/s]",
          "output_type": "stream"
        },
        {
          "name": "stdout",
          "text": "epoch: 276, loss:0.00026154527850980356\n",
          "output_type": "stream"
        },
        {
          "name": "stderr",
          "text": " 28%|██▊       | 278/1000 [01:31<03:58,  3.02it/s]",
          "output_type": "stream"
        },
        {
          "name": "stdout",
          "text": "epoch: 277, loss:0.0002606454079025598\n",
          "output_type": "stream"
        },
        {
          "name": "stderr",
          "text": " 28%|██▊       | 279/1000 [01:31<03:57,  3.04it/s]",
          "output_type": "stream"
        },
        {
          "name": "stdout",
          "text": "epoch: 278, loss:0.0002579752618741431\n",
          "output_type": "stream"
        },
        {
          "name": "stderr",
          "text": " 28%|██▊       | 280/1000 [01:32<03:54,  3.06it/s]",
          "output_type": "stream"
        },
        {
          "name": "stdout",
          "text": "epoch: 279, loss:0.00025535996345587436\n",
          "output_type": "stream"
        },
        {
          "name": "stderr",
          "text": " 28%|██▊       | 281/1000 [01:32<03:52,  3.09it/s]",
          "output_type": "stream"
        },
        {
          "name": "stdout",
          "text": "epoch: 280, loss:0.0002553335746579188\n",
          "output_type": "stream"
        },
        {
          "name": "stderr",
          "text": " 28%|██▊       | 282/1000 [01:32<03:51,  3.10it/s]",
          "output_type": "stream"
        },
        {
          "name": "stdout",
          "text": "epoch: 281, loss:0.000251376897305104\n",
          "output_type": "stream"
        },
        {
          "name": "stderr",
          "text": " 28%|██▊       | 283/1000 [01:33<03:50,  3.11it/s]",
          "output_type": "stream"
        },
        {
          "name": "stdout",
          "text": "epoch: 282, loss:0.0002531326058025304\n",
          "output_type": "stream"
        },
        {
          "name": "stderr",
          "text": " 28%|██▊       | 284/1000 [01:33<03:49,  3.11it/s]",
          "output_type": "stream"
        },
        {
          "name": "stdout",
          "text": "epoch: 283, loss:0.0002522678594936627\n",
          "output_type": "stream"
        },
        {
          "name": "stderr",
          "text": " 28%|██▊       | 285/1000 [01:33<03:57,  3.01it/s]",
          "output_type": "stream"
        },
        {
          "name": "stdout",
          "text": "epoch: 284, loss:0.000253410053599497\n",
          "output_type": "stream"
        },
        {
          "name": "stderr",
          "text": " 29%|██▊       | 286/1000 [01:34<04:03,  2.93it/s]",
          "output_type": "stream"
        },
        {
          "name": "stdout",
          "text": "epoch: 285, loss:0.00024902780908736235\n",
          "output_type": "stream"
        },
        {
          "name": "stderr",
          "text": " 29%|██▊       | 287/1000 [01:34<04:04,  2.92it/s]",
          "output_type": "stream"
        },
        {
          "name": "stdout",
          "text": "epoch: 286, loss:0.00025250444064879167\n",
          "output_type": "stream"
        },
        {
          "name": "stderr",
          "text": " 29%|██▉       | 288/1000 [01:34<04:05,  2.90it/s]",
          "output_type": "stream"
        },
        {
          "name": "stdout",
          "text": "epoch: 287, loss:0.0002475697442357521\n",
          "output_type": "stream"
        },
        {
          "name": "stderr",
          "text": " 29%|██▉       | 289/1000 [01:35<04:04,  2.91it/s]",
          "output_type": "stream"
        },
        {
          "name": "stdout",
          "text": "epoch: 288, loss:0.00024702103984502533\n",
          "output_type": "stream"
        },
        {
          "name": "stderr",
          "text": " 29%|██▉       | 290/1000 [01:35<04:03,  2.92it/s]",
          "output_type": "stream"
        },
        {
          "name": "stdout",
          "text": "epoch: 289, loss:0.00024797137631151444\n",
          "output_type": "stream"
        },
        {
          "name": "stderr",
          "text": " 29%|██▉       | 291/1000 [01:35<04:02,  2.92it/s]",
          "output_type": "stream"
        },
        {
          "name": "stdout",
          "text": "epoch: 290, loss:0.0002490309839634171\n",
          "output_type": "stream"
        },
        {
          "name": "stderr",
          "text": " 29%|██▉       | 292/1000 [01:36<04:01,  2.93it/s]",
          "output_type": "stream"
        },
        {
          "name": "stdout",
          "text": "epoch: 291, loss:0.0002495632027294346\n",
          "output_type": "stream"
        },
        {
          "name": "stderr",
          "text": " 29%|██▉       | 293/1000 [01:36<03:57,  2.97it/s]",
          "output_type": "stream"
        },
        {
          "name": "stdout",
          "text": "epoch: 292, loss:0.0002502064728107505\n",
          "output_type": "stream"
        },
        {
          "name": "stderr",
          "text": " 29%|██▉       | 294/1000 [01:36<03:55,  2.99it/s]",
          "output_type": "stream"
        },
        {
          "name": "stdout",
          "text": "epoch: 293, loss:0.0002516683613821163\n",
          "output_type": "stream"
        },
        {
          "name": "stderr",
          "text": " 30%|██▉       | 295/1000 [01:37<03:53,  3.01it/s]",
          "output_type": "stream"
        },
        {
          "name": "stdout",
          "text": "epoch: 294, loss:0.00024535863662862215\n",
          "output_type": "stream"
        },
        {
          "name": "stderr",
          "text": " 30%|██▉       | 296/1000 [01:37<03:52,  3.03it/s]",
          "output_type": "stream"
        },
        {
          "name": "stdout",
          "text": "epoch: 295, loss:0.000245450343900487\n",
          "output_type": "stream"
        },
        {
          "name": "stderr",
          "text": " 30%|██▉       | 297/1000 [01:37<03:51,  3.04it/s]",
          "output_type": "stream"
        },
        {
          "name": "stdout",
          "text": "epoch: 296, loss:0.0002468551650989595\n",
          "output_type": "stream"
        },
        {
          "name": "stderr",
          "text": " 30%|██▉       | 298/1000 [01:38<03:56,  2.97it/s]",
          "output_type": "stream"
        },
        {
          "name": "stdout",
          "text": "epoch: 297, loss:0.0002492815842539426\n",
          "output_type": "stream"
        },
        {
          "name": "stderr",
          "text": " 30%|██▉       | 299/1000 [01:38<03:53,  3.00it/s]",
          "output_type": "stream"
        },
        {
          "name": "stdout",
          "text": "epoch: 298, loss:0.0002453634167158082\n",
          "output_type": "stream"
        },
        {
          "name": "stderr",
          "text": " 30%|███       | 300/1000 [01:38<03:54,  2.99it/s]",
          "output_type": "stream"
        },
        {
          "name": "stdout",
          "text": "epoch: 299, loss:0.0002481512835850813\n",
          "output_type": "stream"
        },
        {
          "name": "stderr",
          "text": " 30%|███       | 301/1000 [01:39<03:51,  3.02it/s]",
          "output_type": "stream"
        },
        {
          "name": "stdout",
          "text": "epoch: 300, loss:0.0002460661111103695\n",
          "output_type": "stream"
        },
        {
          "name": "stderr",
          "text": " 30%|███       | 302/1000 [01:39<03:49,  3.04it/s]",
          "output_type": "stream"
        },
        {
          "name": "stdout",
          "text": "epoch: 301, loss:0.0002476700514944858\n",
          "output_type": "stream"
        },
        {
          "name": "stderr",
          "text": " 30%|███       | 303/1000 [01:39<03:49,  3.04it/s]",
          "output_type": "stream"
        },
        {
          "name": "stdout",
          "text": "epoch: 302, loss:0.000244959906037122\n",
          "output_type": "stream"
        },
        {
          "name": "stderr",
          "text": " 30%|███       | 304/1000 [01:40<03:52,  2.99it/s]",
          "output_type": "stream"
        },
        {
          "name": "stdout",
          "text": "epoch: 303, loss:0.00024591497479272106\n",
          "output_type": "stream"
        },
        {
          "name": "stderr",
          "text": " 30%|███       | 305/1000 [01:40<03:54,  2.97it/s]",
          "output_type": "stream"
        },
        {
          "name": "stdout",
          "text": "epoch: 304, loss:0.00024722174417484777\n",
          "output_type": "stream"
        },
        {
          "name": "stderr",
          "text": " 31%|███       | 306/1000 [01:40<03:51,  2.99it/s]",
          "output_type": "stream"
        },
        {
          "name": "stdout",
          "text": "epoch: 305, loss:0.0002456928729601715\n",
          "output_type": "stream"
        },
        {
          "name": "stderr",
          "text": " 31%|███       | 307/1000 [01:41<03:49,  3.02it/s]",
          "output_type": "stream"
        },
        {
          "name": "stdout",
          "text": "epoch: 306, loss:0.00024750002763920467\n",
          "output_type": "stream"
        },
        {
          "name": "stderr",
          "text": " 31%|███       | 308/1000 [01:41<03:51,  2.99it/s]",
          "output_type": "stream"
        },
        {
          "name": "stdout",
          "text": "epoch: 307, loss:0.0002471702295593236\n",
          "output_type": "stream"
        },
        {
          "name": "stderr",
          "text": " 31%|███       | 309/1000 [01:41<03:49,  3.00it/s]",
          "output_type": "stream"
        },
        {
          "name": "stdout",
          "text": "epoch: 308, loss:0.00025350825092737285\n",
          "output_type": "stream"
        },
        {
          "name": "stderr",
          "text": " 31%|███       | 310/1000 [01:42<03:50,  2.99it/s]",
          "output_type": "stream"
        },
        {
          "name": "stdout",
          "text": "epoch: 309, loss:0.0002464348227553515\n",
          "output_type": "stream"
        },
        {
          "name": "stderr",
          "text": " 31%|███       | 311/1000 [01:42<03:53,  2.95it/s]",
          "output_type": "stream"
        },
        {
          "name": "stdout",
          "text": "epoch: 310, loss:0.00024322865373469247\n",
          "output_type": "stream"
        },
        {
          "name": "stderr",
          "text": " 31%|███       | 312/1000 [01:42<03:49,  2.99it/s]",
          "output_type": "stream"
        },
        {
          "name": "stdout",
          "text": "epoch: 311, loss:0.0002440886825693996\n",
          "output_type": "stream"
        },
        {
          "name": "stderr",
          "text": " 31%|███▏      | 313/1000 [01:43<03:45,  3.04it/s]",
          "output_type": "stream"
        },
        {
          "name": "stdout",
          "text": "epoch: 312, loss:0.00024467348836194186\n",
          "output_type": "stream"
        },
        {
          "name": "stderr",
          "text": " 31%|███▏      | 314/1000 [01:43<03:43,  3.07it/s]",
          "output_type": "stream"
        },
        {
          "name": "stdout",
          "text": "epoch: 313, loss:0.0002414868904318158\n",
          "output_type": "stream"
        },
        {
          "name": "stderr",
          "text": " 32%|███▏      | 315/1000 [01:43<03:40,  3.10it/s]",
          "output_type": "stream"
        },
        {
          "name": "stdout",
          "text": "epoch: 314, loss:0.00024086729431705857\n",
          "output_type": "stream"
        },
        {
          "name": "stderr",
          "text": " 32%|███▏      | 316/1000 [01:44<03:39,  3.12it/s]",
          "output_type": "stream"
        },
        {
          "name": "stdout",
          "text": "epoch: 315, loss:0.000239222831516217\n",
          "output_type": "stream"
        },
        {
          "name": "stderr",
          "text": " 32%|███▏      | 317/1000 [01:44<03:38,  3.12it/s]",
          "output_type": "stream"
        },
        {
          "name": "stdout",
          "text": "epoch: 316, loss:0.00023923846020303919\n",
          "output_type": "stream"
        },
        {
          "name": "stderr",
          "text": " 32%|███▏      | 318/1000 [01:44<03:40,  3.09it/s]",
          "output_type": "stream"
        },
        {
          "name": "stdout",
          "text": "epoch: 317, loss:0.0002387166500028075\n",
          "output_type": "stream"
        },
        {
          "name": "stderr",
          "text": " 32%|███▏      | 319/1000 [01:45<03:43,  3.05it/s]",
          "output_type": "stream"
        },
        {
          "name": "stdout",
          "text": "epoch: 318, loss:0.0002417114555016136\n",
          "output_type": "stream"
        },
        {
          "name": "stderr",
          "text": " 32%|███▏      | 320/1000 [01:45<03:43,  3.04it/s]",
          "output_type": "stream"
        },
        {
          "name": "stdout",
          "text": "epoch: 319, loss:0.0002394438211978702\n",
          "output_type": "stream"
        },
        {
          "name": "stderr",
          "text": " 32%|███▏      | 321/1000 [01:45<03:43,  3.04it/s]",
          "output_type": "stream"
        },
        {
          "name": "stdout",
          "text": "epoch: 320, loss:0.00023981813454305377\n",
          "output_type": "stream"
        },
        {
          "name": "stderr",
          "text": " 32%|███▏      | 322/1000 [01:46<03:43,  3.04it/s]",
          "output_type": "stream"
        },
        {
          "name": "stdout",
          "text": "epoch: 321, loss:0.0002386438154337203\n",
          "output_type": "stream"
        },
        {
          "name": "stderr",
          "text": " 32%|███▏      | 323/1000 [01:46<03:45,  3.00it/s]",
          "output_type": "stream"
        },
        {
          "name": "stdout",
          "text": "epoch: 322, loss:0.00023998042243879276\n",
          "output_type": "stream"
        },
        {
          "name": "stderr",
          "text": " 32%|███▏      | 324/1000 [01:46<03:44,  3.01it/s]",
          "output_type": "stream"
        },
        {
          "name": "stdout",
          "text": "epoch: 323, loss:0.00023726471429853145\n",
          "output_type": "stream"
        },
        {
          "name": "stderr",
          "text": " 32%|███▎      | 325/1000 [01:47<03:45,  3.00it/s]",
          "output_type": "stream"
        },
        {
          "name": "stdout",
          "text": "epoch: 324, loss:0.00023704126974661538\n",
          "output_type": "stream"
        },
        {
          "name": "stderr",
          "text": " 33%|███▎      | 326/1000 [01:47<03:41,  3.04it/s]",
          "output_type": "stream"
        },
        {
          "name": "stdout",
          "text": "epoch: 325, loss:0.00023514617503602554\n",
          "output_type": "stream"
        },
        {
          "name": "stderr",
          "text": " 33%|███▎      | 327/1000 [01:47<03:39,  3.07it/s]",
          "output_type": "stream"
        },
        {
          "name": "stdout",
          "text": "epoch: 326, loss:0.00023685957118693856\n",
          "output_type": "stream"
        },
        {
          "name": "stderr",
          "text": " 33%|███▎      | 328/1000 [01:48<03:43,  3.01it/s]",
          "output_type": "stream"
        },
        {
          "name": "stdout",
          "text": "epoch: 327, loss:0.0002382795587006298\n",
          "output_type": "stream"
        },
        {
          "name": "stderr",
          "text": " 33%|███▎      | 329/1000 [01:48<03:44,  2.99it/s]",
          "output_type": "stream"
        },
        {
          "name": "stdout",
          "text": "epoch: 328, loss:0.00023992282108196143\n",
          "output_type": "stream"
        },
        {
          "name": "stderr",
          "text": " 33%|███▎      | 330/1000 [01:48<03:40,  3.04it/s]",
          "output_type": "stream"
        },
        {
          "name": "stdout",
          "text": "epoch: 329, loss:0.00023997874069152427\n",
          "output_type": "stream"
        },
        {
          "name": "stderr",
          "text": " 33%|███▎      | 331/1000 [01:49<03:38,  3.06it/s]",
          "output_type": "stream"
        },
        {
          "name": "stdout",
          "text": "epoch: 330, loss:0.0002381353891399419\n",
          "output_type": "stream"
        },
        {
          "name": "stderr",
          "text": " 33%|███▎      | 332/1000 [01:49<03:41,  3.01it/s]",
          "output_type": "stream"
        },
        {
          "name": "stdout",
          "text": "epoch: 331, loss:0.00023686054106555928\n",
          "output_type": "stream"
        },
        {
          "name": "stderr",
          "text": " 33%|███▎      | 333/1000 [01:49<03:40,  3.03it/s]",
          "output_type": "stream"
        },
        {
          "name": "stdout",
          "text": "epoch: 332, loss:0.00023496916802927687\n",
          "output_type": "stream"
        },
        {
          "name": "stderr",
          "text": " 33%|███▎      | 334/1000 [01:50<03:39,  3.03it/s]",
          "output_type": "stream"
        },
        {
          "name": "stdout",
          "text": "epoch: 333, loss:0.00023421207889919477\n",
          "output_type": "stream"
        },
        {
          "name": "stderr",
          "text": " 34%|███▎      | 335/1000 [01:50<03:37,  3.05it/s]",
          "output_type": "stream"
        },
        {
          "name": "stdout",
          "text": "epoch: 334, loss:0.00023692501311489968\n",
          "output_type": "stream"
        },
        {
          "name": "stderr",
          "text": " 34%|███▎      | 336/1000 [01:50<03:36,  3.06it/s]",
          "output_type": "stream"
        },
        {
          "name": "stdout",
          "text": "epoch: 335, loss:0.00023415793582135536\n",
          "output_type": "stream"
        },
        {
          "name": "stderr",
          "text": " 34%|███▎      | 337/1000 [01:51<03:35,  3.07it/s]",
          "output_type": "stream"
        },
        {
          "name": "stdout",
          "text": "epoch: 336, loss:0.0002333276214646557\n",
          "output_type": "stream"
        },
        {
          "name": "stderr",
          "text": " 34%|███▍      | 338/1000 [01:51<03:34,  3.09it/s]",
          "output_type": "stream"
        },
        {
          "name": "stdout",
          "text": "epoch: 337, loss:0.00023032984281338536\n",
          "output_type": "stream"
        },
        {
          "name": "stderr",
          "text": " 34%|███▍      | 339/1000 [01:51<03:34,  3.09it/s]",
          "output_type": "stream"
        },
        {
          "name": "stdout",
          "text": "epoch: 338, loss:0.00023214351940353673\n",
          "output_type": "stream"
        },
        {
          "name": "stderr",
          "text": " 34%|███▍      | 340/1000 [01:52<03:32,  3.11it/s]",
          "output_type": "stream"
        },
        {
          "name": "stdout",
          "text": "epoch: 339, loss:0.00023481749407497604\n",
          "output_type": "stream"
        },
        {
          "name": "stderr",
          "text": " 34%|███▍      | 341/1000 [01:52<03:32,  3.11it/s]",
          "output_type": "stream"
        },
        {
          "name": "stdout",
          "text": "epoch: 340, loss:0.0002311657155957414\n",
          "output_type": "stream"
        },
        {
          "name": "stderr",
          "text": " 34%|███▍      | 342/1000 [01:52<03:34,  3.06it/s]",
          "output_type": "stream"
        },
        {
          "name": "stdout",
          "text": "epoch: 341, loss:0.0002338293584420322\n",
          "output_type": "stream"
        },
        {
          "name": "stderr",
          "text": " 34%|███▍      | 343/1000 [01:53<03:38,  3.01it/s]",
          "output_type": "stream"
        },
        {
          "name": "stdout",
          "text": "epoch: 342, loss:0.0002304874629997355\n",
          "output_type": "stream"
        },
        {
          "name": "stderr",
          "text": " 34%|███▍      | 344/1000 [01:53<03:35,  3.04it/s]",
          "output_type": "stream"
        },
        {
          "name": "stdout",
          "text": "epoch: 343, loss:0.00023226001001427568\n",
          "output_type": "stream"
        },
        {
          "name": "stderr",
          "text": " 34%|███▍      | 345/1000 [01:53<03:33,  3.06it/s]",
          "output_type": "stream"
        },
        {
          "name": "stdout",
          "text": "epoch: 344, loss:0.00023484043328154478\n",
          "output_type": "stream"
        },
        {
          "name": "stderr",
          "text": " 35%|███▍      | 346/1000 [01:53<03:33,  3.06it/s]",
          "output_type": "stream"
        },
        {
          "name": "stdout",
          "text": "epoch: 345, loss:0.00023500133174671046\n",
          "output_type": "stream"
        },
        {
          "name": "stderr",
          "text": " 35%|███▍      | 347/1000 [01:54<03:32,  3.08it/s]",
          "output_type": "stream"
        },
        {
          "name": "stdout",
          "text": "epoch: 346, loss:0.00023203117815211817\n",
          "output_type": "stream"
        },
        {
          "name": "stderr",
          "text": " 35%|███▍      | 348/1000 [01:54<03:30,  3.09it/s]",
          "output_type": "stream"
        },
        {
          "name": "stdout",
          "text": "epoch: 347, loss:0.00023350764632838248\n",
          "output_type": "stream"
        },
        {
          "name": "stderr",
          "text": " 35%|███▍      | 349/1000 [01:54<03:30,  3.10it/s]",
          "output_type": "stream"
        },
        {
          "name": "stdout",
          "text": "epoch: 348, loss:0.00022994819834163294\n",
          "output_type": "stream"
        },
        {
          "name": "stderr",
          "text": " 35%|███▌      | 350/1000 [01:55<03:31,  3.07it/s]",
          "output_type": "stream"
        },
        {
          "name": "stdout",
          "text": "epoch: 349, loss:0.00023000370216056317\n",
          "output_type": "stream"
        },
        {
          "name": "stderr",
          "text": " 35%|███▌      | 351/1000 [01:55<03:31,  3.07it/s]",
          "output_type": "stream"
        },
        {
          "name": "stdout",
          "text": "epoch: 350, loss:0.00023153773615683403\n",
          "output_type": "stream"
        },
        {
          "name": "stderr",
          "text": " 35%|███▌      | 352/1000 [01:55<03:33,  3.03it/s]",
          "output_type": "stream"
        },
        {
          "name": "stdout",
          "text": "epoch: 351, loss:0.00023150889194934731\n",
          "output_type": "stream"
        },
        {
          "name": "stderr",
          "text": " 35%|███▌      | 353/1000 [01:56<03:33,  3.04it/s]",
          "output_type": "stream"
        },
        {
          "name": "stdout",
          "text": "epoch: 352, loss:0.000228865592883274\n",
          "output_type": "stream"
        },
        {
          "name": "stderr",
          "text": " 35%|███▌      | 354/1000 [01:56<03:32,  3.04it/s]",
          "output_type": "stream"
        },
        {
          "name": "stdout",
          "text": "epoch: 353, loss:0.0002288779501772112\n",
          "output_type": "stream"
        },
        {
          "name": "stderr",
          "text": " 36%|███▌      | 355/1000 [01:56<03:32,  3.04it/s]",
          "output_type": "stream"
        },
        {
          "name": "stdout",
          "text": "epoch: 354, loss:0.00023088963369539647\n",
          "output_type": "stream"
        },
        {
          "name": "stderr",
          "text": " 36%|███▌      | 356/1000 [01:57<03:32,  3.03it/s]",
          "output_type": "stream"
        },
        {
          "name": "stdout",
          "text": "epoch: 355, loss:0.00023101785989647109\n",
          "output_type": "stream"
        },
        {
          "name": "stderr",
          "text": " 36%|███▌      | 357/1000 [01:57<03:31,  3.04it/s]",
          "output_type": "stream"
        },
        {
          "name": "stdout",
          "text": "epoch: 356, loss:0.0002313830309039044\n",
          "output_type": "stream"
        },
        {
          "name": "stderr",
          "text": " 36%|███▌      | 358/1000 [01:57<03:29,  3.06it/s]",
          "output_type": "stream"
        },
        {
          "name": "stdout",
          "text": "epoch: 357, loss:0.00023014301281066134\n",
          "output_type": "stream"
        },
        {
          "name": "stderr",
          "text": " 36%|███▌      | 359/1000 [01:58<03:34,  3.00it/s]",
          "output_type": "stream"
        },
        {
          "name": "stdout",
          "text": "epoch: 358, loss:0.00023505320297412434\n",
          "output_type": "stream"
        },
        {
          "name": "stderr",
          "text": " 36%|███▌      | 360/1000 [01:58<03:35,  2.97it/s]",
          "output_type": "stream"
        },
        {
          "name": "stdout",
          "text": "epoch: 359, loss:0.00023284600643178128\n",
          "output_type": "stream"
        },
        {
          "name": "stderr",
          "text": " 36%|███▌      | 361/1000 [01:58<03:32,  3.00it/s]",
          "output_type": "stream"
        },
        {
          "name": "stdout",
          "text": "epoch: 360, loss:0.0002354333029945333\n",
          "output_type": "stream"
        },
        {
          "name": "stderr",
          "text": " 36%|███▌      | 362/1000 [01:59<03:32,  3.00it/s]",
          "output_type": "stream"
        },
        {
          "name": "stdout",
          "text": "epoch: 361, loss:0.0002302365326443669\n",
          "output_type": "stream"
        },
        {
          "name": "stderr",
          "text": " 36%|███▋      | 363/1000 [01:59<03:32,  3.00it/s]",
          "output_type": "stream"
        },
        {
          "name": "stdout",
          "text": "epoch: 362, loss:0.00022684521275341722\n",
          "output_type": "stream"
        },
        {
          "name": "stderr",
          "text": " 36%|███▋      | 364/1000 [01:59<03:33,  2.98it/s]",
          "output_type": "stream"
        },
        {
          "name": "stdout",
          "text": "epoch: 363, loss:0.00022739239048739462\n",
          "output_type": "stream"
        },
        {
          "name": "stderr",
          "text": " 36%|███▋      | 365/1000 [02:00<03:31,  3.00it/s]",
          "output_type": "stream"
        },
        {
          "name": "stdout",
          "text": "epoch: 364, loss:0.000231203797662522\n",
          "output_type": "stream"
        },
        {
          "name": "stderr",
          "text": " 37%|███▋      | 366/1000 [02:00<03:30,  3.01it/s]",
          "output_type": "stream"
        },
        {
          "name": "stdout",
          "text": "epoch: 365, loss:0.00023030050076012335\n",
          "output_type": "stream"
        },
        {
          "name": "stderr",
          "text": " 37%|███▋      | 367/1000 [02:00<03:29,  3.02it/s]",
          "output_type": "stream"
        },
        {
          "name": "stdout",
          "text": "epoch: 366, loss:0.00022886175198002614\n",
          "output_type": "stream"
        },
        {
          "name": "stderr",
          "text": " 37%|███▋      | 368/1000 [02:01<03:26,  3.06it/s]",
          "output_type": "stream"
        },
        {
          "name": "stdout",
          "text": "epoch: 367, loss:0.00022796530651879188\n",
          "output_type": "stream"
        },
        {
          "name": "stderr",
          "text": " 37%|███▋      | 369/1000 [02:01<03:24,  3.08it/s]",
          "output_type": "stream"
        },
        {
          "name": "stdout",
          "text": "epoch: 368, loss:0.00022774632885287825\n",
          "output_type": "stream"
        },
        {
          "name": "stderr",
          "text": " 37%|███▋      | 370/1000 [02:01<03:25,  3.07it/s]",
          "output_type": "stream"
        },
        {
          "name": "stdout",
          "text": "epoch: 369, loss:0.00023370472826101605\n",
          "output_type": "stream"
        },
        {
          "name": "stderr",
          "text": " 37%|███▋      | 371/1000 [02:02<03:24,  3.08it/s]",
          "output_type": "stream"
        },
        {
          "name": "stdout",
          "text": "epoch: 370, loss:0.00022937696372824173\n",
          "output_type": "stream"
        },
        {
          "name": "stderr",
          "text": " 37%|███▋      | 372/1000 [02:02<03:22,  3.11it/s]",
          "output_type": "stream"
        },
        {
          "name": "stdout",
          "text": "epoch: 371, loss:0.00022665603669779763\n",
          "output_type": "stream"
        },
        {
          "name": "stderr",
          "text": " 37%|███▋      | 373/1000 [02:02<03:21,  3.12it/s]",
          "output_type": "stream"
        },
        {
          "name": "stdout",
          "text": "epoch: 372, loss:0.00022720979908154274\n",
          "output_type": "stream"
        },
        {
          "name": "stderr",
          "text": " 37%|███▋      | 374/1000 [02:03<03:20,  3.13it/s]",
          "output_type": "stream"
        },
        {
          "name": "stdout",
          "text": "epoch: 373, loss:0.00022508706269101813\n",
          "output_type": "stream"
        },
        {
          "name": "stderr",
          "text": " 38%|███▊      | 375/1000 [02:03<03:19,  3.14it/s]",
          "output_type": "stream"
        },
        {
          "name": "stdout",
          "text": "epoch: 374, loss:0.00022604877985895063\n",
          "output_type": "stream"
        },
        {
          "name": "stderr",
          "text": " 38%|███▊      | 376/1000 [02:03<03:19,  3.13it/s]",
          "output_type": "stream"
        },
        {
          "name": "stdout",
          "text": "epoch: 375, loss:0.0002281203300931576\n",
          "output_type": "stream"
        },
        {
          "name": "stderr",
          "text": " 38%|███▊      | 377/1000 [02:04<03:18,  3.14it/s]",
          "output_type": "stream"
        },
        {
          "name": "stdout",
          "text": "epoch: 376, loss:0.00022637975159682332\n",
          "output_type": "stream"
        },
        {
          "name": "stderr",
          "text": " 38%|███▊      | 378/1000 [02:04<03:17,  3.15it/s]",
          "output_type": "stream"
        },
        {
          "name": "stdout",
          "text": "epoch: 377, loss:0.00022606989067411857\n",
          "output_type": "stream"
        },
        {
          "name": "stderr",
          "text": " 38%|███▊      | 379/1000 [02:04<03:19,  3.12it/s]",
          "output_type": "stream"
        },
        {
          "name": "stdout",
          "text": "epoch: 378, loss:0.0002243669543904893\n",
          "output_type": "stream"
        },
        {
          "name": "stderr",
          "text": " 38%|███▊      | 380/1000 [02:05<03:20,  3.10it/s]",
          "output_type": "stream"
        },
        {
          "name": "stdout",
          "text": "epoch: 379, loss:0.0002273090139330233\n",
          "output_type": "stream"
        },
        {
          "name": "stderr",
          "text": " 38%|███▊      | 381/1000 [02:05<03:22,  3.05it/s]",
          "output_type": "stream"
        },
        {
          "name": "stdout",
          "text": "epoch: 380, loss:0.00022875623581962754\n",
          "output_type": "stream"
        },
        {
          "name": "stderr",
          "text": " 38%|███▊      | 382/1000 [02:05<03:30,  2.94it/s]",
          "output_type": "stream"
        },
        {
          "name": "stdout",
          "text": "epoch: 381, loss:0.00022764042395718564\n",
          "output_type": "stream"
        },
        {
          "name": "stderr",
          "text": " 38%|███▊      | 383/1000 [02:06<03:33,  2.89it/s]",
          "output_type": "stream"
        },
        {
          "name": "stdout",
          "text": "epoch: 382, loss:0.00022591468369938245\n",
          "output_type": "stream"
        },
        {
          "name": "stderr",
          "text": " 38%|███▊      | 384/1000 [02:06<03:34,  2.87it/s]",
          "output_type": "stream"
        },
        {
          "name": "stdout",
          "text": "epoch: 383, loss:0.00022589150382875103\n",
          "output_type": "stream"
        },
        {
          "name": "stderr",
          "text": " 38%|███▊      | 385/1000 [02:06<03:33,  2.88it/s]",
          "output_type": "stream"
        },
        {
          "name": "stdout",
          "text": "epoch: 384, loss:0.00022830521912037735\n",
          "output_type": "stream"
        },
        {
          "name": "stderr",
          "text": " 39%|███▊      | 386/1000 [02:07<03:33,  2.88it/s]",
          "output_type": "stream"
        },
        {
          "name": "stdout",
          "text": "epoch: 385, loss:0.00022390891494898069\n",
          "output_type": "stream"
        },
        {
          "name": "stderr",
          "text": " 39%|███▊      | 387/1000 [02:07<03:32,  2.89it/s]",
          "output_type": "stream"
        },
        {
          "name": "stdout",
          "text": "epoch: 386, loss:0.00022585832241525712\n",
          "output_type": "stream"
        },
        {
          "name": "stderr",
          "text": " 39%|███▉      | 388/1000 [02:07<03:29,  2.92it/s]",
          "output_type": "stream"
        },
        {
          "name": "stdout",
          "text": "epoch: 387, loss:0.00022509579897730413\n",
          "output_type": "stream"
        },
        {
          "name": "stderr",
          "text": " 39%|███▉      | 389/1000 [02:08<03:32,  2.88it/s]",
          "output_type": "stream"
        },
        {
          "name": "stdout",
          "text": "epoch: 388, loss:0.0002267823039489565\n",
          "output_type": "stream"
        },
        {
          "name": "stderr",
          "text": " 39%|███▉      | 390/1000 [02:08<03:26,  2.96it/s]",
          "output_type": "stream"
        },
        {
          "name": "stdout",
          "text": "epoch: 389, loss:0.0002246913386411867\n",
          "output_type": "stream"
        },
        {
          "name": "stderr",
          "text": " 39%|███▉      | 391/1000 [02:08<03:23,  3.00it/s]",
          "output_type": "stream"
        },
        {
          "name": "stdout",
          "text": "epoch: 390, loss:0.00022882262989898578\n",
          "output_type": "stream"
        },
        {
          "name": "stderr",
          "text": " 39%|███▉      | 392/1000 [02:09<03:20,  3.04it/s]",
          "output_type": "stream"
        },
        {
          "name": "stdout",
          "text": "epoch: 391, loss:0.0002306156339807184\n",
          "output_type": "stream"
        },
        {
          "name": "stderr",
          "text": " 39%|███▉      | 393/1000 [02:09<03:17,  3.07it/s]",
          "output_type": "stream"
        },
        {
          "name": "stdout",
          "text": "epoch: 392, loss:0.0002284912835366727\n",
          "output_type": "stream"
        },
        {
          "name": "stderr",
          "text": " 39%|███▉      | 394/1000 [02:09<03:16,  3.09it/s]",
          "output_type": "stream"
        },
        {
          "name": "stdout",
          "text": "epoch: 393, loss:0.0002268711802898266\n",
          "output_type": "stream"
        },
        {
          "name": "stderr",
          "text": " 40%|███▉      | 395/1000 [02:10<03:18,  3.04it/s]",
          "output_type": "stream"
        },
        {
          "name": "stdout",
          "text": "epoch: 394, loss:0.00022597663177463884\n",
          "output_type": "stream"
        },
        {
          "name": "stderr",
          "text": " 40%|███▉      | 396/1000 [02:10<03:22,  2.98it/s]",
          "output_type": "stream"
        },
        {
          "name": "stdout",
          "text": "epoch: 395, loss:0.00022693148765039607\n",
          "output_type": "stream"
        },
        {
          "name": "stderr",
          "text": " 40%|███▉      | 397/1000 [02:10<03:22,  2.98it/s]",
          "output_type": "stream"
        },
        {
          "name": "stdout",
          "text": "epoch: 396, loss:0.00022699084221977346\n",
          "output_type": "stream"
        },
        {
          "name": "stderr",
          "text": " 40%|███▉      | 398/1000 [02:11<03:18,  3.03it/s]",
          "output_type": "stream"
        },
        {
          "name": "stdout",
          "text": "epoch: 397, loss:0.00022613151231583016\n",
          "output_type": "stream"
        },
        {
          "name": "stderr",
          "text": " 40%|███▉      | 399/1000 [02:11<03:18,  3.03it/s]",
          "output_type": "stream"
        },
        {
          "name": "stdout",
          "text": "epoch: 398, loss:0.00022552803425826792\n",
          "output_type": "stream"
        },
        {
          "name": "stderr",
          "text": " 40%|████      | 400/1000 [02:11<03:19,  3.01it/s]",
          "output_type": "stream"
        },
        {
          "name": "stdout",
          "text": "epoch: 399, loss:0.00022442752226650456\n",
          "output_type": "stream"
        },
        {
          "name": "stderr",
          "text": " 40%|████      | 401/1000 [02:12<03:21,  2.97it/s]",
          "output_type": "stream"
        },
        {
          "name": "stdout",
          "text": "epoch: 400, loss:0.00022407140088531833\n",
          "output_type": "stream"
        },
        {
          "name": "stderr",
          "text": " 40%|████      | 402/1000 [02:12<03:20,  2.98it/s]",
          "output_type": "stream"
        },
        {
          "name": "stdout",
          "text": "epoch: 401, loss:0.0002244836617997013\n",
          "output_type": "stream"
        },
        {
          "name": "stderr",
          "text": " 40%|████      | 403/1000 [02:12<03:18,  3.02it/s]",
          "output_type": "stream"
        },
        {
          "name": "stdout",
          "text": "epoch: 402, loss:0.00022353708679840928\n",
          "output_type": "stream"
        },
        {
          "name": "stderr",
          "text": " 40%|████      | 404/1000 [02:13<03:15,  3.05it/s]",
          "output_type": "stream"
        },
        {
          "name": "stdout",
          "text": "epoch: 403, loss:0.00022533135317799087\n",
          "output_type": "stream"
        },
        {
          "name": "stderr",
          "text": " 40%|████      | 405/1000 [02:13<03:13,  3.07it/s]",
          "output_type": "stream"
        },
        {
          "name": "stdout",
          "text": "epoch: 404, loss:0.000223206743894364\n",
          "output_type": "stream"
        },
        {
          "name": "stderr",
          "text": " 41%|████      | 406/1000 [02:13<03:15,  3.03it/s]",
          "output_type": "stream"
        },
        {
          "name": "stdout",
          "text": "epoch: 405, loss:0.00022307833214585434\n",
          "output_type": "stream"
        },
        {
          "name": "stderr",
          "text": " 41%|████      | 407/1000 [02:14<03:16,  3.02it/s]",
          "output_type": "stream"
        },
        {
          "name": "stdout",
          "text": "epoch: 406, loss:0.00022772730751007125\n",
          "output_type": "stream"
        },
        {
          "name": "stderr",
          "text": " 41%|████      | 408/1000 [02:14<03:14,  3.05it/s]",
          "output_type": "stream"
        },
        {
          "name": "stdout",
          "text": "epoch: 407, loss:0.00022639266227952835\n",
          "output_type": "stream"
        },
        {
          "name": "stderr",
          "text": " 41%|████      | 409/1000 [02:14<03:12,  3.07it/s]",
          "output_type": "stream"
        },
        {
          "name": "stdout",
          "text": "epoch: 408, loss:0.0002251368975872495\n",
          "output_type": "stream"
        },
        {
          "name": "stderr",
          "text": " 41%|████      | 410/1000 [02:15<03:12,  3.07it/s]",
          "output_type": "stream"
        },
        {
          "name": "stdout",
          "text": "epoch: 409, loss:0.00022360640117917116\n",
          "output_type": "stream"
        },
        {
          "name": "stderr",
          "text": " 41%|████      | 411/1000 [02:15<03:13,  3.04it/s]",
          "output_type": "stream"
        },
        {
          "name": "stdout",
          "text": "epoch: 410, loss:0.00022512586898122482\n",
          "output_type": "stream"
        },
        {
          "name": "stderr",
          "text": " 41%|████      | 412/1000 [02:15<03:13,  3.03it/s]",
          "output_type": "stream"
        },
        {
          "name": "stdout",
          "text": "epoch: 411, loss:0.00022412873711111927\n",
          "output_type": "stream"
        },
        {
          "name": "stderr",
          "text": " 41%|████▏     | 413/1000 [02:16<03:16,  2.99it/s]",
          "output_type": "stream"
        },
        {
          "name": "stdout",
          "text": "epoch: 412, loss:0.0002241983496834111\n",
          "output_type": "stream"
        },
        {
          "name": "stderr",
          "text": " 41%|████▏     | 414/1000 [02:16<03:16,  2.99it/s]",
          "output_type": "stream"
        },
        {
          "name": "stdout",
          "text": "epoch: 413, loss:0.00022298623913253698\n",
          "output_type": "stream"
        },
        {
          "name": "stderr",
          "text": " 42%|████▏     | 415/1000 [02:16<03:14,  3.01it/s]",
          "output_type": "stream"
        },
        {
          "name": "stdout",
          "text": "epoch: 414, loss:0.00022275494037032024\n",
          "output_type": "stream"
        },
        {
          "name": "stderr",
          "text": " 42%|████▏     | 416/1000 [02:17<03:12,  3.04it/s]",
          "output_type": "stream"
        },
        {
          "name": "stdout",
          "text": "epoch: 415, loss:0.00022170711740306697\n",
          "output_type": "stream"
        },
        {
          "name": "stderr",
          "text": " 42%|████▏     | 417/1000 [02:17<03:10,  3.07it/s]",
          "output_type": "stream"
        },
        {
          "name": "stdout",
          "text": "epoch: 416, loss:0.00022395156857182342\n",
          "output_type": "stream"
        },
        {
          "name": "stderr",
          "text": " 42%|████▏     | 418/1000 [02:17<03:09,  3.07it/s]",
          "output_type": "stream"
        },
        {
          "name": "stdout",
          "text": "epoch: 417, loss:0.00022239989698002378\n",
          "output_type": "stream"
        },
        {
          "name": "stderr",
          "text": " 42%|████▏     | 419/1000 [02:18<03:13,  3.01it/s]",
          "output_type": "stream"
        },
        {
          "name": "stdout",
          "text": "epoch: 418, loss:0.00022196382621821048\n",
          "output_type": "stream"
        },
        {
          "name": "stderr",
          "text": " 42%|████▏     | 420/1000 [02:18<03:12,  3.01it/s]",
          "output_type": "stream"
        },
        {
          "name": "stdout",
          "text": "epoch: 419, loss:0.00022463635738763236\n",
          "output_type": "stream"
        },
        {
          "name": "stderr",
          "text": " 42%|████▏     | 421/1000 [02:18<03:11,  3.03it/s]",
          "output_type": "stream"
        },
        {
          "name": "stdout",
          "text": "epoch: 420, loss:0.00022295692042956193\n",
          "output_type": "stream"
        },
        {
          "name": "stderr",
          "text": " 42%|████▏     | 422/1000 [02:19<03:13,  2.99it/s]",
          "output_type": "stream"
        },
        {
          "name": "stdout",
          "text": "epoch: 421, loss:0.00022528372774025437\n",
          "output_type": "stream"
        },
        {
          "name": "stderr",
          "text": " 42%|████▏     | 423/1000 [02:19<03:10,  3.02it/s]",
          "output_type": "stream"
        },
        {
          "name": "stdout",
          "text": "epoch: 422, loss:0.0002236635656110073\n",
          "output_type": "stream"
        },
        {
          "name": "stderr",
          "text": " 42%|████▏     | 424/1000 [02:19<03:09,  3.04it/s]",
          "output_type": "stream"
        },
        {
          "name": "stdout",
          "text": "epoch: 423, loss:0.00022237003638059903\n",
          "output_type": "stream"
        },
        {
          "name": "stderr",
          "text": " 42%|████▎     | 425/1000 [02:20<03:09,  3.04it/s]",
          "output_type": "stream"
        },
        {
          "name": "stdout",
          "text": "epoch: 424, loss:0.00022513898834827898\n",
          "output_type": "stream"
        },
        {
          "name": "stderr",
          "text": " 43%|████▎     | 426/1000 [02:20<03:11,  3.00it/s]",
          "output_type": "stream"
        },
        {
          "name": "stdout",
          "text": "epoch: 425, loss:0.00022258413686521603\n",
          "output_type": "stream"
        },
        {
          "name": "stderr",
          "text": " 43%|████▎     | 427/1000 [02:20<03:11,  3.00it/s]",
          "output_type": "stream"
        },
        {
          "name": "stdout",
          "text": "epoch: 426, loss:0.0002218131593237597\n",
          "output_type": "stream"
        },
        {
          "name": "stderr",
          "text": " 43%|████▎     | 428/1000 [02:21<03:12,  2.96it/s]",
          "output_type": "stream"
        },
        {
          "name": "stdout",
          "text": "epoch: 427, loss:0.00021889114096366465\n",
          "output_type": "stream"
        },
        {
          "name": "stderr",
          "text": " 43%|████▎     | 429/1000 [02:21<03:13,  2.95it/s]",
          "output_type": "stream"
        },
        {
          "name": "stdout",
          "text": "epoch: 428, loss:0.00022133229377107108\n",
          "output_type": "stream"
        },
        {
          "name": "stderr",
          "text": " 43%|████▎     | 430/1000 [02:21<03:15,  2.91it/s]",
          "output_type": "stream"
        },
        {
          "name": "stdout",
          "text": "epoch: 429, loss:0.00022238596724588193\n",
          "output_type": "stream"
        },
        {
          "name": "stderr",
          "text": " 43%|████▎     | 431/1000 [02:22<03:13,  2.94it/s]",
          "output_type": "stream"
        },
        {
          "name": "stdout",
          "text": "epoch: 430, loss:0.00022211615838460717\n",
          "output_type": "stream"
        },
        {
          "name": "stderr",
          "text": " 43%|████▎     | 432/1000 [02:22<03:11,  2.97it/s]",
          "output_type": "stream"
        },
        {
          "name": "stdout",
          "text": "epoch: 431, loss:0.000220815674266887\n",
          "output_type": "stream"
        },
        {
          "name": "stderr",
          "text": " 43%|████▎     | 433/1000 [02:22<03:14,  2.91it/s]",
          "output_type": "stream"
        },
        {
          "name": "stdout",
          "text": "epoch: 432, loss:0.00021881491171551036\n",
          "output_type": "stream"
        },
        {
          "name": "stderr",
          "text": " 43%|████▎     | 434/1000 [02:23<03:12,  2.94it/s]",
          "output_type": "stream"
        },
        {
          "name": "stdout",
          "text": "epoch: 433, loss:0.00021975963086226134\n",
          "output_type": "stream"
        },
        {
          "name": "stderr",
          "text": " 44%|████▎     | 435/1000 [02:23<03:09,  2.99it/s]",
          "output_type": "stream"
        },
        {
          "name": "stdout",
          "text": "epoch: 434, loss:0.00022509298524099012\n",
          "output_type": "stream"
        },
        {
          "name": "stderr",
          "text": " 44%|████▎     | 436/1000 [02:23<03:08,  3.00it/s]",
          "output_type": "stream"
        },
        {
          "name": "stdout",
          "text": "epoch: 435, loss:0.00022425244413978523\n",
          "output_type": "stream"
        },
        {
          "name": "stderr",
          "text": " 44%|████▎     | 437/1000 [02:24<03:07,  3.00it/s]",
          "output_type": "stream"
        },
        {
          "name": "stdout",
          "text": "epoch: 436, loss:0.00021893328180149315\n",
          "output_type": "stream"
        },
        {
          "name": "stderr",
          "text": " 44%|████▍     | 438/1000 [02:24<03:05,  3.03it/s]",
          "output_type": "stream"
        },
        {
          "name": "stdout",
          "text": "epoch: 437, loss:0.00022201503203524473\n",
          "output_type": "stream"
        },
        {
          "name": "stderr",
          "text": " 44%|████▍     | 439/1000 [02:24<03:05,  3.03it/s]",
          "output_type": "stream"
        },
        {
          "name": "stdout",
          "text": "epoch: 438, loss:0.00022043375973806182\n",
          "output_type": "stream"
        },
        {
          "name": "stderr",
          "text": " 44%|████▍     | 440/1000 [02:25<03:05,  3.03it/s]",
          "output_type": "stream"
        },
        {
          "name": "stdout",
          "text": "epoch: 439, loss:0.00021980134599620444\n",
          "output_type": "stream"
        },
        {
          "name": "stderr",
          "text": " 44%|████▍     | 441/1000 [02:25<03:06,  2.99it/s]",
          "output_type": "stream"
        },
        {
          "name": "stdout",
          "text": "epoch: 440, loss:0.0002187120030944736\n",
          "output_type": "stream"
        },
        {
          "name": "stderr",
          "text": " 44%|████▍     | 442/1000 [02:25<03:08,  2.96it/s]",
          "output_type": "stream"
        },
        {
          "name": "stdout",
          "text": "epoch: 441, loss:0.00021838362185309785\n",
          "output_type": "stream"
        },
        {
          "name": "stderr",
          "text": " 44%|████▍     | 443/1000 [02:26<03:09,  2.94it/s]",
          "output_type": "stream"
        },
        {
          "name": "stdout",
          "text": "epoch: 442, loss:0.00021821699883556455\n",
          "output_type": "stream"
        },
        {
          "name": "stderr",
          "text": " 44%|████▍     | 444/1000 [02:26<03:10,  2.92it/s]",
          "output_type": "stream"
        },
        {
          "name": "stdout",
          "text": "epoch: 443, loss:0.0002168507146554628\n",
          "output_type": "stream"
        },
        {
          "name": "stderr",
          "text": " 44%|████▍     | 445/1000 [02:26<03:09,  2.93it/s]",
          "output_type": "stream"
        },
        {
          "name": "stdout",
          "text": "epoch: 444, loss:0.0002165470886439007\n",
          "output_type": "stream"
        },
        {
          "name": "stderr",
          "text": " 45%|████▍     | 446/1000 [02:27<03:06,  2.96it/s]",
          "output_type": "stream"
        },
        {
          "name": "stdout",
          "text": "epoch: 445, loss:0.0002170037985018316\n",
          "output_type": "stream"
        },
        {
          "name": "stderr",
          "text": " 45%|████▍     | 447/1000 [02:27<03:07,  2.94it/s]",
          "output_type": "stream"
        },
        {
          "name": "stdout",
          "text": "epoch: 446, loss:0.00021942624478755768\n",
          "output_type": "stream"
        },
        {
          "name": "stderr",
          "text": " 45%|████▍     | 448/1000 [02:27<03:08,  2.93it/s]",
          "output_type": "stream"
        },
        {
          "name": "stdout",
          "text": "epoch: 447, loss:0.00021705978448175012\n",
          "output_type": "stream"
        },
        {
          "name": "stderr",
          "text": " 45%|████▍     | 449/1000 [02:28<03:10,  2.89it/s]",
          "output_type": "stream"
        },
        {
          "name": "stdout",
          "text": "epoch: 448, loss:0.00021639012125405322\n",
          "output_type": "stream"
        },
        {
          "name": "stderr",
          "text": " 45%|████▌     | 450/1000 [02:28<03:07,  2.93it/s]",
          "output_type": "stream"
        },
        {
          "name": "stdout",
          "text": "epoch: 449, loss:0.00021506905165302568\n",
          "output_type": "stream"
        },
        {
          "name": "stderr",
          "text": " 45%|████▌     | 451/1000 [02:28<03:07,  2.93it/s]",
          "output_type": "stream"
        },
        {
          "name": "stdout",
          "text": "epoch: 450, loss:0.0002151334647617597\n",
          "output_type": "stream"
        },
        {
          "name": "stderr",
          "text": " 45%|████▌     | 452/1000 [02:29<03:07,  2.92it/s]",
          "output_type": "stream"
        },
        {
          "name": "stdout",
          "text": "epoch: 451, loss:0.00021492561968154453\n",
          "output_type": "stream"
        },
        {
          "name": "stderr",
          "text": " 45%|████▌     | 453/1000 [02:29<03:07,  2.91it/s]",
          "output_type": "stream"
        },
        {
          "name": "stdout",
          "text": "epoch: 452, loss:0.00021652374033574083\n",
          "output_type": "stream"
        },
        {
          "name": "stderr",
          "text": " 45%|████▌     | 454/1000 [02:29<03:06,  2.92it/s]",
          "output_type": "stream"
        },
        {
          "name": "stdout",
          "text": "epoch: 453, loss:0.00022021774291372182\n",
          "output_type": "stream"
        },
        {
          "name": "stderr",
          "text": " 46%|████▌     | 455/1000 [02:30<03:06,  2.92it/s]",
          "output_type": "stream"
        },
        {
          "name": "stdout",
          "text": "epoch: 454, loss:0.00022093390393604365\n",
          "output_type": "stream"
        },
        {
          "name": "stderr",
          "text": " 46%|████▌     | 456/1000 [02:30<03:04,  2.95it/s]",
          "output_type": "stream"
        },
        {
          "name": "stdout",
          "text": "epoch: 455, loss:0.00022240119605876344\n",
          "output_type": "stream"
        },
        {
          "name": "stderr",
          "text": " 46%|████▌     | 457/1000 [02:30<03:01,  2.99it/s]",
          "output_type": "stream"
        },
        {
          "name": "stdout",
          "text": "epoch: 456, loss:0.00021865039748588712\n",
          "output_type": "stream"
        },
        {
          "name": "stderr",
          "text": " 46%|████▌     | 458/1000 [02:31<02:59,  3.02it/s]",
          "output_type": "stream"
        },
        {
          "name": "stdout",
          "text": "epoch: 457, loss:0.00021725969338574268\n",
          "output_type": "stream"
        },
        {
          "name": "stderr",
          "text": " 46%|████▌     | 459/1000 [02:31<02:59,  3.01it/s]",
          "output_type": "stream"
        },
        {
          "name": "stdout",
          "text": "epoch: 458, loss:0.0002212943293100991\n",
          "output_type": "stream"
        },
        {
          "name": "stderr",
          "text": " 46%|████▌     | 460/1000 [02:31<02:58,  3.02it/s]",
          "output_type": "stream"
        },
        {
          "name": "stdout",
          "text": "epoch: 459, loss:0.00022149276900049027\n",
          "output_type": "stream"
        },
        {
          "name": "stderr",
          "text": " 46%|████▌     | 461/1000 [02:32<02:57,  3.04it/s]",
          "output_type": "stream"
        },
        {
          "name": "stdout",
          "text": "epoch: 460, loss:0.00022089240558189938\n",
          "output_type": "stream"
        },
        {
          "name": "stderr",
          "text": " 46%|████▌     | 462/1000 [02:32<02:56,  3.06it/s]",
          "output_type": "stream"
        },
        {
          "name": "stdout",
          "text": "epoch: 461, loss:0.0002181132647776616\n",
          "output_type": "stream"
        },
        {
          "name": "stderr",
          "text": " 46%|████▋     | 463/1000 [02:32<02:58,  3.02it/s]",
          "output_type": "stream"
        },
        {
          "name": "stdout",
          "text": "epoch: 462, loss:0.00021832368487363063\n",
          "output_type": "stream"
        },
        {
          "name": "stderr",
          "text": " 46%|████▋     | 464/1000 [02:33<02:59,  2.98it/s]",
          "output_type": "stream"
        },
        {
          "name": "stdout",
          "text": "epoch: 463, loss:0.00021885622062050908\n",
          "output_type": "stream"
        },
        {
          "name": "stderr",
          "text": " 46%|████▋     | 465/1000 [02:33<02:59,  2.99it/s]",
          "output_type": "stream"
        },
        {
          "name": "stdout",
          "text": "epoch: 464, loss:0.00021775477989833492\n",
          "output_type": "stream"
        },
        {
          "name": "stderr",
          "text": " 47%|████▋     | 466/1000 [02:33<02:57,  3.00it/s]",
          "output_type": "stream"
        },
        {
          "name": "stdout",
          "text": "epoch: 465, loss:0.0002174635163539789\n",
          "output_type": "stream"
        },
        {
          "name": "stderr",
          "text": " 47%|████▋     | 467/1000 [02:34<02:56,  3.03it/s]",
          "output_type": "stream"
        },
        {
          "name": "stdout",
          "text": "epoch: 466, loss:0.0002217855267019105\n",
          "output_type": "stream"
        },
        {
          "name": "stderr",
          "text": " 47%|████▋     | 468/1000 [02:34<02:56,  3.01it/s]",
          "output_type": "stream"
        },
        {
          "name": "stdout",
          "text": "epoch: 467, loss:0.00021780214914089398\n",
          "output_type": "stream"
        },
        {
          "name": "stderr",
          "text": " 47%|████▋     | 469/1000 [02:34<02:59,  2.96it/s]",
          "output_type": "stream"
        },
        {
          "name": "stdout",
          "text": "epoch: 468, loss:0.0002153582059074373\n",
          "output_type": "stream"
        },
        {
          "name": "stderr",
          "text": " 47%|████▋     | 470/1000 [02:35<02:56,  3.00it/s]",
          "output_type": "stream"
        },
        {
          "name": "stdout",
          "text": "epoch: 469, loss:0.00021566229749618406\n",
          "output_type": "stream"
        },
        {
          "name": "stderr",
          "text": " 47%|████▋     | 471/1000 [02:35<02:54,  3.03it/s]",
          "output_type": "stream"
        },
        {
          "name": "stdout",
          "text": "epoch: 470, loss:0.00021617198144947294\n",
          "output_type": "stream"
        },
        {
          "name": "stderr",
          "text": " 47%|████▋     | 472/1000 [02:35<02:53,  3.05it/s]",
          "output_type": "stream"
        },
        {
          "name": "stdout",
          "text": "epoch: 471, loss:0.00021887996316623546\n",
          "output_type": "stream"
        },
        {
          "name": "stderr",
          "text": " 47%|████▋     | 473/1000 [02:36<02:51,  3.07it/s]",
          "output_type": "stream"
        },
        {
          "name": "stdout",
          "text": "epoch: 472, loss:0.00022677643314047624\n",
          "output_type": "stream"
        },
        {
          "name": "stderr",
          "text": " 47%|████▋     | 474/1000 [02:36<02:50,  3.09it/s]",
          "output_type": "stream"
        },
        {
          "name": "stdout",
          "text": "epoch: 473, loss:0.0002217464525636984\n",
          "output_type": "stream"
        },
        {
          "name": "stderr",
          "text": " 48%|████▊     | 475/1000 [02:36<02:51,  3.06it/s]",
          "output_type": "stream"
        },
        {
          "name": "stdout",
          "text": "epoch: 474, loss:0.00021852359522418202\n",
          "output_type": "stream"
        },
        {
          "name": "stderr",
          "text": " 48%|████▊     | 476/1000 [02:37<02:50,  3.08it/s]",
          "output_type": "stream"
        },
        {
          "name": "stdout",
          "text": "epoch: 475, loss:0.00021928109230963386\n",
          "output_type": "stream"
        },
        {
          "name": "stderr",
          "text": " 48%|████▊     | 477/1000 [02:37<02:56,  2.96it/s]",
          "output_type": "stream"
        },
        {
          "name": "stdout",
          "text": "epoch: 476, loss:0.00021811733791427112\n",
          "output_type": "stream"
        },
        {
          "name": "stderr",
          "text": " 48%|████▊     | 478/1000 [02:37<03:00,  2.89it/s]",
          "output_type": "stream"
        },
        {
          "name": "stdout",
          "text": "epoch: 477, loss:0.00021638146712307324\n",
          "output_type": "stream"
        },
        {
          "name": "stderr",
          "text": " 48%|████▊     | 479/1000 [02:38<03:03,  2.84it/s]",
          "output_type": "stream"
        },
        {
          "name": "stdout",
          "text": "epoch: 478, loss:0.00021790051182509892\n",
          "output_type": "stream"
        },
        {
          "name": "stderr",
          "text": " 48%|████▊     | 480/1000 [02:38<03:02,  2.85it/s]",
          "output_type": "stream"
        },
        {
          "name": "stdout",
          "text": "epoch: 479, loss:0.00021583473649486779\n",
          "output_type": "stream"
        },
        {
          "name": "stderr",
          "text": " 48%|████▊     | 481/1000 [02:38<02:59,  2.89it/s]",
          "output_type": "stream"
        },
        {
          "name": "stdout",
          "text": "epoch: 480, loss:0.00021642415499322233\n",
          "output_type": "stream"
        },
        {
          "name": "stderr",
          "text": " 48%|████▊     | 482/1000 [02:39<02:56,  2.93it/s]",
          "output_type": "stream"
        },
        {
          "name": "stdout",
          "text": "epoch: 481, loss:0.0002152692189217339\n",
          "output_type": "stream"
        },
        {
          "name": "stderr",
          "text": " 48%|████▊     | 483/1000 [02:39<02:54,  2.96it/s]",
          "output_type": "stream"
        },
        {
          "name": "stdout",
          "text": "epoch: 482, loss:0.0002156638287662033\n",
          "output_type": "stream"
        },
        {
          "name": "stderr",
          "text": " 48%|████▊     | 484/1000 [02:39<02:53,  2.97it/s]",
          "output_type": "stream"
        },
        {
          "name": "stdout",
          "text": "epoch: 483, loss:0.00021489350257692888\n",
          "output_type": "stream"
        },
        {
          "name": "stderr",
          "text": " 48%|████▊     | 485/1000 [02:40<02:52,  2.99it/s]",
          "output_type": "stream"
        },
        {
          "name": "stdout",
          "text": "epoch: 484, loss:0.0002142146544677848\n",
          "output_type": "stream"
        },
        {
          "name": "stderr",
          "text": " 49%|████▊     | 486/1000 [02:40<02:50,  3.02it/s]",
          "output_type": "stream"
        },
        {
          "name": "stdout",
          "text": "epoch: 485, loss:0.00021486731259050715\n",
          "output_type": "stream"
        },
        {
          "name": "stderr",
          "text": " 49%|████▊     | 487/1000 [02:40<02:50,  3.00it/s]",
          "output_type": "stream"
        },
        {
          "name": "stdout",
          "text": "epoch: 486, loss:0.00021348062326621535\n",
          "output_type": "stream"
        },
        {
          "name": "stderr",
          "text": " 49%|████▉     | 488/1000 [02:41<02:51,  2.98it/s]",
          "output_type": "stream"
        },
        {
          "name": "stdout",
          "text": "epoch: 487, loss:0.00021396036348618754\n",
          "output_type": "stream"
        },
        {
          "name": "stderr",
          "text": " 49%|████▉     | 489/1000 [02:41<02:50,  3.00it/s]",
          "output_type": "stream"
        },
        {
          "name": "stdout",
          "text": "epoch: 488, loss:0.00021177638797462945\n",
          "output_type": "stream"
        },
        {
          "name": "stderr",
          "text": " 49%|████▉     | 490/1000 [02:41<02:48,  3.03it/s]",
          "output_type": "stream"
        },
        {
          "name": "stdout",
          "text": "epoch: 489, loss:0.00021082543011393426\n",
          "output_type": "stream"
        },
        {
          "name": "stderr",
          "text": " 49%|████▉     | 491/1000 [02:42<02:45,  3.08it/s]",
          "output_type": "stream"
        },
        {
          "name": "stdout",
          "text": "epoch: 490, loss:0.0002122589097708019\n",
          "output_type": "stream"
        },
        {
          "name": "stderr",
          "text": " 49%|████▉     | 492/1000 [02:42<02:44,  3.10it/s]",
          "output_type": "stream"
        },
        {
          "name": "stdout",
          "text": "epoch: 491, loss:0.00021206445325475841\n",
          "output_type": "stream"
        },
        {
          "name": "stderr",
          "text": " 49%|████▉     | 493/1000 [02:42<02:42,  3.11it/s]",
          "output_type": "stream"
        },
        {
          "name": "stdout",
          "text": "epoch: 492, loss:0.00021245495333201134\n",
          "output_type": "stream"
        },
        {
          "name": "stderr",
          "text": " 49%|████▉     | 494/1000 [02:43<02:43,  3.09it/s]",
          "output_type": "stream"
        },
        {
          "name": "stdout",
          "text": "epoch: 493, loss:0.000211306719086307\n",
          "output_type": "stream"
        },
        {
          "name": "stderr",
          "text": " 50%|████▉     | 495/1000 [02:43<02:42,  3.11it/s]",
          "output_type": "stream"
        },
        {
          "name": "stdout",
          "text": "epoch: 494, loss:0.0002106733878009325\n",
          "output_type": "stream"
        },
        {
          "name": "stderr",
          "text": " 50%|████▉     | 496/1000 [02:43<02:43,  3.08it/s]",
          "output_type": "stream"
        },
        {
          "name": "stdout",
          "text": "epoch: 495, loss:0.00021142743202619624\n",
          "output_type": "stream"
        },
        {
          "name": "stderr",
          "text": " 50%|████▉     | 497/1000 [02:44<02:42,  3.10it/s]",
          "output_type": "stream"
        },
        {
          "name": "stdout",
          "text": "epoch: 496, loss:0.0002131403600667048\n",
          "output_type": "stream"
        },
        {
          "name": "stderr",
          "text": " 50%|████▉     | 498/1000 [02:44<02:42,  3.08it/s]",
          "output_type": "stream"
        },
        {
          "name": "stdout",
          "text": "epoch: 497, loss:0.00021162752967457442\n",
          "output_type": "stream"
        },
        {
          "name": "stderr",
          "text": " 50%|████▉     | 499/1000 [02:44<02:45,  3.03it/s]",
          "output_type": "stream"
        },
        {
          "name": "stdout",
          "text": "epoch: 498, loss:0.00021243622045006864\n",
          "output_type": "stream"
        },
        {
          "name": "stderr",
          "text": " 50%|█████     | 500/1000 [02:45<02:47,  2.99it/s]",
          "output_type": "stream"
        },
        {
          "name": "stdout",
          "text": "epoch: 499, loss:0.0002146594965524062\n",
          "output_type": "stream"
        },
        {
          "name": "stderr",
          "text": " 50%|█████     | 501/1000 [02:45<02:48,  2.97it/s]",
          "output_type": "stream"
        },
        {
          "name": "stdout",
          "text": "epoch: 500, loss:0.0002121376904349642\n",
          "output_type": "stream"
        },
        {
          "name": "stderr",
          "text": " 50%|█████     | 502/1000 [02:45<02:49,  2.95it/s]",
          "output_type": "stream"
        },
        {
          "name": "stdout",
          "text": "epoch: 501, loss:0.00021086740608959188\n",
          "output_type": "stream"
        },
        {
          "name": "stderr",
          "text": " 50%|█████     | 503/1000 [02:46<02:46,  2.99it/s]",
          "output_type": "stream"
        },
        {
          "name": "stdout",
          "text": "epoch: 502, loss:0.00021091873236244466\n",
          "output_type": "stream"
        },
        {
          "name": "stderr",
          "text": " 50%|█████     | 504/1000 [02:46<02:43,  3.03it/s]",
          "output_type": "stream"
        },
        {
          "name": "stdout",
          "text": "epoch: 503, loss:0.00020966408515297197\n",
          "output_type": "stream"
        },
        {
          "name": "stderr",
          "text": " 50%|█████     | 505/1000 [02:46<02:41,  3.06it/s]",
          "output_type": "stream"
        },
        {
          "name": "stdout",
          "text": "epoch: 504, loss:0.00021206439517045613\n",
          "output_type": "stream"
        },
        {
          "name": "stderr",
          "text": " 51%|█████     | 506/1000 [02:47<02:41,  3.06it/s]",
          "output_type": "stream"
        },
        {
          "name": "stdout",
          "text": "epoch: 505, loss:0.00021977622761053405\n",
          "output_type": "stream"
        },
        {
          "name": "stderr",
          "text": " 51%|█████     | 507/1000 [02:47<02:40,  3.08it/s]",
          "output_type": "stream"
        },
        {
          "name": "stdout",
          "text": "epoch: 506, loss:0.00021493207005606052\n",
          "output_type": "stream"
        },
        {
          "name": "stderr",
          "text": " 51%|█████     | 508/1000 [02:47<02:40,  3.07it/s]",
          "output_type": "stream"
        },
        {
          "name": "stdout",
          "text": "epoch: 507, loss:0.00021412296342884803\n",
          "output_type": "stream"
        },
        {
          "name": "stderr",
          "text": " 51%|█████     | 509/1000 [02:48<02:43,  3.00it/s]",
          "output_type": "stream"
        },
        {
          "name": "stdout",
          "text": "epoch: 508, loss:0.00021390969405604967\n",
          "output_type": "stream"
        },
        {
          "name": "stderr",
          "text": " 51%|█████     | 510/1000 [02:48<02:43,  2.99it/s]",
          "output_type": "stream"
        },
        {
          "name": "stdout",
          "text": "epoch: 509, loss:0.0002105032266687942\n",
          "output_type": "stream"
        },
        {
          "name": "stderr",
          "text": " 51%|█████     | 511/1000 [02:48<02:41,  3.02it/s]",
          "output_type": "stream"
        },
        {
          "name": "stdout",
          "text": "epoch: 510, loss:0.00021062633454722697\n",
          "output_type": "stream"
        },
        {
          "name": "stderr",
          "text": " 51%|█████     | 512/1000 [02:49<02:40,  3.04it/s]",
          "output_type": "stream"
        },
        {
          "name": "stdout",
          "text": "epoch: 511, loss:0.00021373741825281528\n",
          "output_type": "stream"
        },
        {
          "name": "stderr",
          "text": " 51%|█████▏    | 513/1000 [02:49<02:45,  2.95it/s]",
          "output_type": "stream"
        },
        {
          "name": "stdout",
          "text": "epoch: 512, loss:0.00021483547712043748\n",
          "output_type": "stream"
        },
        {
          "name": "stderr",
          "text": " 51%|█████▏    | 514/1000 [02:49<02:45,  2.94it/s]",
          "output_type": "stream"
        },
        {
          "name": "stdout",
          "text": "epoch: 513, loss:0.0002113762566478287\n",
          "output_type": "stream"
        },
        {
          "name": "stderr",
          "text": " 52%|█████▏    | 515/1000 [02:50<02:45,  2.93it/s]",
          "output_type": "stream"
        },
        {
          "name": "stdout",
          "text": "epoch: 514, loss:0.00021121316036019263\n",
          "output_type": "stream"
        },
        {
          "name": "stderr",
          "text": " 52%|█████▏    | 516/1000 [02:50<02:44,  2.95it/s]",
          "output_type": "stream"
        },
        {
          "name": "stdout",
          "text": "epoch: 515, loss:0.0002106528531774335\n",
          "output_type": "stream"
        },
        {
          "name": "stderr",
          "text": " 52%|█████▏    | 517/1000 [02:50<02:41,  2.99it/s]",
          "output_type": "stream"
        },
        {
          "name": "stdout",
          "text": "epoch: 516, loss:0.00021121164236284656\n",
          "output_type": "stream"
        },
        {
          "name": "stderr",
          "text": " 52%|█████▏    | 518/1000 [02:51<02:42,  2.97it/s]",
          "output_type": "stream"
        },
        {
          "name": "stdout",
          "text": "epoch: 517, loss:0.00021181185020404745\n",
          "output_type": "stream"
        },
        {
          "name": "stderr",
          "text": " 52%|█████▏    | 519/1000 [02:51<02:40,  2.99it/s]",
          "output_type": "stream"
        },
        {
          "name": "stdout",
          "text": "epoch: 518, loss:0.00021059601501096376\n",
          "output_type": "stream"
        },
        {
          "name": "stderr",
          "text": " 52%|█████▏    | 520/1000 [02:51<02:38,  3.02it/s]",
          "output_type": "stream"
        },
        {
          "name": "stdout",
          "text": "epoch: 519, loss:0.0002090304463804666\n",
          "output_type": "stream"
        },
        {
          "name": "stderr",
          "text": " 52%|█████▏    | 521/1000 [02:52<02:37,  3.05it/s]",
          "output_type": "stream"
        },
        {
          "name": "stdout",
          "text": "epoch: 520, loss:0.00020955296726617146\n",
          "output_type": "stream"
        },
        {
          "name": "stderr",
          "text": " 52%|█████▏    | 522/1000 [02:52<02:35,  3.07it/s]",
          "output_type": "stream"
        },
        {
          "name": "stdout",
          "text": "epoch: 521, loss:0.00020798935339649607\n",
          "output_type": "stream"
        },
        {
          "name": "stderr",
          "text": " 52%|█████▏    | 523/1000 [02:52<02:37,  3.03it/s]",
          "output_type": "stream"
        },
        {
          "name": "stdout",
          "text": "epoch: 522, loss:0.00020715552311561535\n",
          "output_type": "stream"
        },
        {
          "name": "stderr",
          "text": " 52%|█████▏    | 524/1000 [02:53<02:35,  3.06it/s]",
          "output_type": "stream"
        },
        {
          "name": "stdout",
          "text": "epoch: 523, loss:0.0002069804610710149\n",
          "output_type": "stream"
        },
        {
          "name": "stderr",
          "text": " 52%|█████▎    | 525/1000 [02:53<02:33,  3.09it/s]",
          "output_type": "stream"
        },
        {
          "name": "stdout",
          "text": "epoch: 524, loss:0.00020699191963401085\n",
          "output_type": "stream"
        },
        {
          "name": "stderr",
          "text": " 53%|█████▎    | 526/1000 [02:53<02:34,  3.06it/s]",
          "output_type": "stream"
        },
        {
          "name": "stdout",
          "text": "epoch: 525, loss:0.00020839929534966406\n",
          "output_type": "stream"
        },
        {
          "name": "stderr",
          "text": " 53%|█████▎    | 527/1000 [02:54<02:34,  3.07it/s]",
          "output_type": "stream"
        },
        {
          "name": "stdout",
          "text": "epoch: 526, loss:0.00021013374788929494\n",
          "output_type": "stream"
        },
        {
          "name": "stderr",
          "text": " 53%|█████▎    | 528/1000 [02:54<02:34,  3.06it/s]",
          "output_type": "stream"
        },
        {
          "name": "stdout",
          "text": "epoch: 527, loss:0.00021222559982883213\n",
          "output_type": "stream"
        },
        {
          "name": "stderr",
          "text": " 53%|█████▎    | 529/1000 [02:54<02:35,  3.03it/s]",
          "output_type": "stream"
        },
        {
          "name": "stdout",
          "text": "epoch: 528, loss:0.00020955831926519768\n",
          "output_type": "stream"
        },
        {
          "name": "stderr",
          "text": " 53%|█████▎    | 530/1000 [02:55<02:34,  3.05it/s]",
          "output_type": "stream"
        },
        {
          "name": "stdout",
          "text": "epoch: 529, loss:0.00021015693983853225\n",
          "output_type": "stream"
        },
        {
          "name": "stderr",
          "text": " 53%|█████▎    | 531/1000 [02:55<02:32,  3.09it/s]",
          "output_type": "stream"
        },
        {
          "name": "stdout",
          "text": "epoch: 530, loss:0.00020877165307118452\n",
          "output_type": "stream"
        },
        {
          "name": "stderr",
          "text": " 53%|█████▎    | 532/1000 [02:55<02:31,  3.10it/s]",
          "output_type": "stream"
        },
        {
          "name": "stdout",
          "text": "epoch: 531, loss:0.0002140258555741477\n",
          "output_type": "stream"
        },
        {
          "name": "stderr",
          "text": " 53%|█████▎    | 533/1000 [02:56<02:32,  3.07it/s]",
          "output_type": "stream"
        },
        {
          "name": "stdout",
          "text": "epoch: 532, loss:0.00021774196381244105\n",
          "output_type": "stream"
        },
        {
          "name": "stderr",
          "text": " 53%|█████▎    | 534/1000 [02:56<02:31,  3.08it/s]",
          "output_type": "stream"
        },
        {
          "name": "stdout",
          "text": "epoch: 533, loss:0.00021292660600750107\n",
          "output_type": "stream"
        },
        {
          "name": "stderr",
          "text": " 54%|█████▎    | 535/1000 [02:56<02:29,  3.10it/s]",
          "output_type": "stream"
        },
        {
          "name": "stdout",
          "text": "epoch: 534, loss:0.00021134518964030334\n",
          "output_type": "stream"
        },
        {
          "name": "stderr",
          "text": " 54%|█████▎    | 536/1000 [02:57<02:31,  3.05it/s]",
          "output_type": "stream"
        },
        {
          "name": "stdout",
          "text": "epoch: 535, loss:0.0002095937358181664\n",
          "output_type": "stream"
        },
        {
          "name": "stderr",
          "text": " 54%|█████▎    | 537/1000 [02:57<02:32,  3.03it/s]",
          "output_type": "stream"
        },
        {
          "name": "stdout",
          "text": "epoch: 536, loss:0.00020888082890830554\n",
          "output_type": "stream"
        },
        {
          "name": "stderr",
          "text": " 54%|█████▍    | 538/1000 [02:57<02:33,  3.00it/s]",
          "output_type": "stream"
        },
        {
          "name": "stdout",
          "text": "epoch: 537, loss:0.00020833898707479486\n",
          "output_type": "stream"
        },
        {
          "name": "stderr",
          "text": " 54%|█████▍    | 539/1000 [02:58<02:32,  3.02it/s]",
          "output_type": "stream"
        },
        {
          "name": "stdout",
          "text": "epoch: 538, loss:0.0002113535075222352\n",
          "output_type": "stream"
        },
        {
          "name": "stderr",
          "text": " 54%|█████▍    | 540/1000 [02:58<02:35,  2.96it/s]",
          "output_type": "stream"
        },
        {
          "name": "stdout",
          "text": "epoch: 539, loss:0.00020880828719697724\n",
          "output_type": "stream"
        },
        {
          "name": "stderr",
          "text": " 54%|█████▍    | 541/1000 [02:58<02:35,  2.96it/s]",
          "output_type": "stream"
        },
        {
          "name": "stdout",
          "text": "epoch: 540, loss:0.00020837733343546225\n",
          "output_type": "stream"
        },
        {
          "name": "stderr",
          "text": " 54%|█████▍    | 542/1000 [02:59<02:36,  2.93it/s]",
          "output_type": "stream"
        },
        {
          "name": "stdout",
          "text": "epoch: 541, loss:0.0002173904257827949\n",
          "output_type": "stream"
        },
        {
          "name": "stderr",
          "text": " 54%|█████▍    | 543/1000 [02:59<02:36,  2.92it/s]",
          "output_type": "stream"
        },
        {
          "name": "stdout",
          "text": "epoch: 542, loss:0.0002133173996700495\n",
          "output_type": "stream"
        },
        {
          "name": "stderr",
          "text": " 54%|█████▍    | 544/1000 [02:59<02:33,  2.97it/s]",
          "output_type": "stream"
        },
        {
          "name": "stdout",
          "text": "epoch: 543, loss:0.00021261332433088683\n",
          "output_type": "stream"
        },
        {
          "name": "stderr",
          "text": " 55%|█████▍    | 545/1000 [03:00<02:31,  3.01it/s]",
          "output_type": "stream"
        },
        {
          "name": "stdout",
          "text": "epoch: 544, loss:0.00021192538750586126\n",
          "output_type": "stream"
        },
        {
          "name": "stderr",
          "text": " 55%|█████▍    | 546/1000 [03:00<02:29,  3.03it/s]",
          "output_type": "stream"
        },
        {
          "name": "stdout",
          "text": "epoch: 545, loss:0.00021160407450435367\n",
          "output_type": "stream"
        },
        {
          "name": "stderr",
          "text": " 55%|█████▍    | 547/1000 [03:00<02:28,  3.06it/s]",
          "output_type": "stream"
        },
        {
          "name": "stdout",
          "text": "epoch: 546, loss:0.00021843164861147496\n",
          "output_type": "stream"
        },
        {
          "name": "stderr",
          "text": " 55%|█████▍    | 548/1000 [03:01<02:27,  3.06it/s]",
          "output_type": "stream"
        },
        {
          "name": "stdout",
          "text": "epoch: 547, loss:0.00021417185009344844\n",
          "output_type": "stream"
        },
        {
          "name": "stderr",
          "text": " 55%|█████▍    | 549/1000 [03:01<02:25,  3.09it/s]",
          "output_type": "stream"
        },
        {
          "name": "stdout",
          "text": "epoch: 548, loss:0.00021272354847489918\n",
          "output_type": "stream"
        },
        {
          "name": "stderr",
          "text": " 55%|█████▌    | 550/1000 [03:01<02:24,  3.11it/s]",
          "output_type": "stream"
        },
        {
          "name": "stdout",
          "text": "epoch: 549, loss:0.00021342867218383582\n",
          "output_type": "stream"
        },
        {
          "name": "stderr",
          "text": " 55%|█████▌    | 551/1000 [03:02<02:25,  3.09it/s]",
          "output_type": "stream"
        },
        {
          "name": "stdout",
          "text": "epoch: 550, loss:0.00021394152096463272\n",
          "output_type": "stream"
        },
        {
          "name": "stderr",
          "text": " 55%|█████▌    | 552/1000 [03:02<02:24,  3.09it/s]",
          "output_type": "stream"
        },
        {
          "name": "stdout",
          "text": "epoch: 551, loss:0.00021141781863141245\n",
          "output_type": "stream"
        },
        {
          "name": "stderr",
          "text": " 55%|█████▌    | 553/1000 [03:02<02:24,  3.10it/s]",
          "output_type": "stream"
        },
        {
          "name": "stdout",
          "text": "epoch: 552, loss:0.00021537810092379171\n",
          "output_type": "stream"
        },
        {
          "name": "stderr",
          "text": " 55%|█████▌    | 554/1000 [03:03<02:24,  3.09it/s]",
          "output_type": "stream"
        },
        {
          "name": "stdout",
          "text": "epoch: 553, loss:0.00021565951732317845\n",
          "output_type": "stream"
        },
        {
          "name": "stderr",
          "text": " 56%|█████▌    | 555/1000 [03:03<02:24,  3.08it/s]",
          "output_type": "stream"
        },
        {
          "name": "stdout",
          "text": "epoch: 554, loss:0.0002141529382767531\n",
          "output_type": "stream"
        },
        {
          "name": "stderr",
          "text": " 56%|█████▌    | 556/1000 [03:03<02:23,  3.09it/s]",
          "output_type": "stream"
        },
        {
          "name": "stdout",
          "text": "epoch: 555, loss:0.0002129460907103011\n",
          "output_type": "stream"
        },
        {
          "name": "stderr",
          "text": " 56%|█████▌    | 557/1000 [03:03<02:23,  3.09it/s]",
          "output_type": "stream"
        },
        {
          "name": "stdout",
          "text": "epoch: 556, loss:0.00021694461526008542\n",
          "output_type": "stream"
        },
        {
          "name": "stderr",
          "text": " 56%|█████▌    | 558/1000 [03:04<02:23,  3.08it/s]",
          "output_type": "stream"
        },
        {
          "name": "stdout",
          "text": "epoch: 557, loss:0.00021266531571795618\n",
          "output_type": "stream"
        },
        {
          "name": "stderr",
          "text": " 56%|█████▌    | 559/1000 [03:04<02:21,  3.11it/s]",
          "output_type": "stream"
        },
        {
          "name": "stdout",
          "text": "epoch: 558, loss:0.00021381876440640813\n",
          "output_type": "stream"
        },
        {
          "name": "stderr",
          "text": " 56%|█████▌    | 560/1000 [03:04<02:20,  3.13it/s]",
          "output_type": "stream"
        },
        {
          "name": "stdout",
          "text": "epoch: 559, loss:0.00021412186196102315\n",
          "output_type": "stream"
        },
        {
          "name": "stderr",
          "text": " 56%|█████▌    | 561/1000 [03:05<02:20,  3.12it/s]",
          "output_type": "stream"
        },
        {
          "name": "stdout",
          "text": "epoch: 560, loss:0.0002116580111552746\n",
          "output_type": "stream"
        },
        {
          "name": "stderr",
          "text": " 56%|█████▌    | 562/1000 [03:05<02:20,  3.13it/s]",
          "output_type": "stream"
        },
        {
          "name": "stdout",
          "text": "epoch: 561, loss:0.00021146940265281947\n",
          "output_type": "stream"
        },
        {
          "name": "stderr",
          "text": " 56%|█████▋    | 563/1000 [03:05<02:20,  3.11it/s]",
          "output_type": "stream"
        },
        {
          "name": "stdout",
          "text": "epoch: 562, loss:0.0002112347970408806\n",
          "output_type": "stream"
        },
        {
          "name": "stderr",
          "text": " 56%|█████▋    | 564/1000 [03:06<02:19,  3.13it/s]",
          "output_type": "stream"
        },
        {
          "name": "stdout",
          "text": "epoch: 563, loss:0.00021200615048411341\n",
          "output_type": "stream"
        },
        {
          "name": "stderr",
          "text": " 56%|█████▋    | 565/1000 [03:06<02:18,  3.15it/s]",
          "output_type": "stream"
        },
        {
          "name": "stdout",
          "text": "epoch: 564, loss:0.00021101817101869315\n",
          "output_type": "stream"
        },
        {
          "name": "stderr",
          "text": " 57%|█████▋    | 566/1000 [03:06<02:17,  3.16it/s]",
          "output_type": "stream"
        },
        {
          "name": "stdout",
          "text": "epoch: 565, loss:0.00021198126696446502\n",
          "output_type": "stream"
        },
        {
          "name": "stderr",
          "text": " 57%|█████▋    | 567/1000 [03:07<02:18,  3.12it/s]",
          "output_type": "stream"
        },
        {
          "name": "stdout",
          "text": "epoch: 566, loss:0.0002152857860272872\n",
          "output_type": "stream"
        },
        {
          "name": "stderr",
          "text": " 57%|█████▋    | 568/1000 [03:07<02:17,  3.14it/s]",
          "output_type": "stream"
        },
        {
          "name": "stdout",
          "text": "epoch: 567, loss:0.00021437568800254685\n",
          "output_type": "stream"
        },
        {
          "name": "stderr",
          "text": " 57%|█████▋    | 569/1000 [03:07<02:17,  3.12it/s]",
          "output_type": "stream"
        },
        {
          "name": "stdout",
          "text": "epoch: 568, loss:0.0002128527518670708\n",
          "output_type": "stream"
        },
        {
          "name": "stderr",
          "text": " 57%|█████▋    | 570/1000 [03:08<02:21,  3.05it/s]",
          "output_type": "stream"
        },
        {
          "name": "stdout",
          "text": "epoch: 569, loss:0.00021420790809908755\n",
          "output_type": "stream"
        },
        {
          "name": "stderr",
          "text": " 57%|█████▋    | 571/1000 [03:08<02:20,  3.05it/s]",
          "output_type": "stream"
        },
        {
          "name": "stdout",
          "text": "epoch: 570, loss:0.00021408001735565132\n",
          "output_type": "stream"
        },
        {
          "name": "stderr",
          "text": " 57%|█████▋    | 572/1000 [03:08<02:19,  3.07it/s]",
          "output_type": "stream"
        },
        {
          "name": "stdout",
          "text": "epoch: 571, loss:0.00021468760978067864\n",
          "output_type": "stream"
        },
        {
          "name": "stderr",
          "text": " 57%|█████▋    | 573/1000 [03:09<02:23,  2.97it/s]",
          "output_type": "stream"
        },
        {
          "name": "stdout",
          "text": "epoch: 572, loss:0.00021379681369208153\n",
          "output_type": "stream"
        },
        {
          "name": "stderr",
          "text": " 57%|█████▋    | 574/1000 [03:09<02:27,  2.89it/s]",
          "output_type": "stream"
        },
        {
          "name": "stdout",
          "text": "epoch: 573, loss:0.0002133118374179321\n",
          "output_type": "stream"
        },
        {
          "name": "stderr",
          "text": " 57%|█████▊    | 575/1000 [03:09<02:28,  2.87it/s]",
          "output_type": "stream"
        },
        {
          "name": "stdout",
          "text": "epoch: 574, loss:0.00021514208220920755\n",
          "output_type": "stream"
        },
        {
          "name": "stderr",
          "text": " 58%|█████▊    | 576/1000 [03:10<02:29,  2.83it/s]",
          "output_type": "stream"
        },
        {
          "name": "stdout",
          "text": "epoch: 575, loss:0.00022132004627043578\n",
          "output_type": "stream"
        },
        {
          "name": "stderr",
          "text": " 58%|█████▊    | 577/1000 [03:10<02:30,  2.81it/s]",
          "output_type": "stream"
        },
        {
          "name": "stdout",
          "text": "epoch: 576, loss:0.00021618227909398627\n",
          "output_type": "stream"
        },
        {
          "name": "stderr",
          "text": " 58%|█████▊    | 578/1000 [03:10<02:28,  2.84it/s]",
          "output_type": "stream"
        },
        {
          "name": "stdout",
          "text": "epoch: 577, loss:0.00021332807467446072\n",
          "output_type": "stream"
        },
        {
          "name": "stderr",
          "text": " 58%|█████▊    | 579/1000 [03:11<02:26,  2.88it/s]",
          "output_type": "stream"
        },
        {
          "name": "stdout",
          "text": "epoch: 578, loss:0.00021390906457367407\n",
          "output_type": "stream"
        },
        {
          "name": "stderr",
          "text": " 58%|█████▊    | 580/1000 [03:11<02:24,  2.91it/s]",
          "output_type": "stream"
        },
        {
          "name": "stdout",
          "text": "epoch: 579, loss:0.00021308993368350488\n",
          "output_type": "stream"
        },
        {
          "name": "stderr",
          "text": " 58%|█████▊    | 581/1000 [03:11<02:23,  2.93it/s]",
          "output_type": "stream"
        },
        {
          "name": "stdout",
          "text": "epoch: 580, loss:0.00021850042930846305\n",
          "output_type": "stream"
        },
        {
          "name": "stderr",
          "text": " 58%|█████▊    | 582/1000 [03:12<02:20,  2.97it/s]",
          "output_type": "stream"
        },
        {
          "name": "stdout",
          "text": "epoch: 581, loss:0.00021076581716587633\n",
          "output_type": "stream"
        },
        {
          "name": "stderr",
          "text": " 58%|█████▊    | 583/1000 [03:12<02:18,  3.02it/s]",
          "output_type": "stream"
        },
        {
          "name": "stdout",
          "text": "epoch: 582, loss:0.00020974395778597737\n",
          "output_type": "stream"
        },
        {
          "name": "stderr",
          "text": " 58%|█████▊    | 584/1000 [03:12<02:16,  3.05it/s]",
          "output_type": "stream"
        },
        {
          "name": "stdout",
          "text": "epoch: 583, loss:0.00020923361442730195\n",
          "output_type": "stream"
        },
        {
          "name": "stderr",
          "text": " 58%|█████▊    | 585/1000 [03:13<02:15,  3.07it/s]",
          "output_type": "stream"
        },
        {
          "name": "stdout",
          "text": "epoch: 584, loss:0.0002124557473693331\n",
          "output_type": "stream"
        },
        {
          "name": "stderr",
          "text": " 59%|█████▊    | 586/1000 [03:13<02:16,  3.03it/s]",
          "output_type": "stream"
        },
        {
          "name": "stdout",
          "text": "epoch: 585, loss:0.00021286175769398937\n",
          "output_type": "stream"
        },
        {
          "name": "stderr",
          "text": " 59%|█████▊    | 587/1000 [03:13<02:18,  2.99it/s]",
          "output_type": "stream"
        },
        {
          "name": "stdout",
          "text": "epoch: 586, loss:0.00021091558299172716\n",
          "output_type": "stream"
        },
        {
          "name": "stderr",
          "text": " 59%|█████▉    | 588/1000 [03:14<02:18,  2.97it/s]",
          "output_type": "stream"
        },
        {
          "name": "stdout",
          "text": "epoch: 587, loss:0.0002078345036723754\n",
          "output_type": "stream"
        },
        {
          "name": "stderr",
          "text": " 59%|█████▉    | 589/1000 [03:14<02:17,  2.98it/s]",
          "output_type": "stream"
        },
        {
          "name": "stdout",
          "text": "epoch: 588, loss:0.0002094066698471978\n",
          "output_type": "stream"
        },
        {
          "name": "stderr",
          "text": " 59%|█████▉    | 590/1000 [03:14<02:18,  2.96it/s]",
          "output_type": "stream"
        },
        {
          "name": "stdout",
          "text": "epoch: 589, loss:0.00020783771651303095\n",
          "output_type": "stream"
        },
        {
          "name": "stderr",
          "text": " 59%|█████▉    | 591/1000 [03:15<02:16,  2.99it/s]",
          "output_type": "stream"
        },
        {
          "name": "stdout",
          "text": "epoch: 590, loss:0.00020631397833651465\n",
          "output_type": "stream"
        },
        {
          "name": "stderr",
          "text": " 59%|█████▉    | 592/1000 [03:15<02:14,  3.04it/s]",
          "output_type": "stream"
        },
        {
          "name": "stdout",
          "text": "epoch: 591, loss:0.00021125293337532746\n",
          "output_type": "stream"
        },
        {
          "name": "stderr",
          "text": " 59%|█████▉    | 593/1000 [03:15<02:12,  3.07it/s]",
          "output_type": "stream"
        },
        {
          "name": "stdout",
          "text": "epoch: 592, loss:0.0002108480032522017\n",
          "output_type": "stream"
        },
        {
          "name": "stderr",
          "text": " 59%|█████▉    | 594/1000 [03:16<02:13,  3.05it/s]",
          "output_type": "stream"
        },
        {
          "name": "stdout",
          "text": "epoch: 593, loss:0.0002100101232756204\n",
          "output_type": "stream"
        },
        {
          "name": "stderr",
          "text": " 60%|█████▉    | 595/1000 [03:16<02:14,  3.02it/s]",
          "output_type": "stream"
        },
        {
          "name": "stdout",
          "text": "epoch: 594, loss:0.0002076245486152845\n",
          "output_type": "stream"
        },
        {
          "name": "stderr",
          "text": " 60%|█████▉    | 596/1000 [03:16<02:14,  2.99it/s]",
          "output_type": "stream"
        },
        {
          "name": "stdout",
          "text": "epoch: 595, loss:0.00020786475420913152\n",
          "output_type": "stream"
        },
        {
          "name": "stderr",
          "text": " 60%|█████▉    | 597/1000 [03:17<02:13,  3.01it/s]",
          "output_type": "stream"
        },
        {
          "name": "stdout",
          "text": "epoch: 596, loss:0.00020886026754710998\n",
          "output_type": "stream"
        },
        {
          "name": "stderr",
          "text": " 60%|█████▉    | 598/1000 [03:17<02:12,  3.04it/s]",
          "output_type": "stream"
        },
        {
          "name": "stdout",
          "text": "epoch: 597, loss:0.00020778760346404408\n",
          "output_type": "stream"
        },
        {
          "name": "stderr",
          "text": " 60%|█████▉    | 599/1000 [03:17<02:10,  3.07it/s]",
          "output_type": "stream"
        },
        {
          "name": "stdout",
          "text": "epoch: 598, loss:0.00020897295804986766\n",
          "output_type": "stream"
        },
        {
          "name": "stderr",
          "text": " 60%|██████    | 600/1000 [03:18<02:13,  3.00it/s]",
          "output_type": "stream"
        },
        {
          "name": "stdout",
          "text": "epoch: 599, loss:0.0002070406920364804\n",
          "output_type": "stream"
        },
        {
          "name": "stderr",
          "text": " 60%|██████    | 601/1000 [03:18<02:12,  3.01it/s]",
          "output_type": "stream"
        },
        {
          "name": "stdout",
          "text": "epoch: 600, loss:0.0002127974538926994\n",
          "output_type": "stream"
        },
        {
          "name": "stderr",
          "text": " 60%|██████    | 602/1000 [03:18<02:10,  3.05it/s]",
          "output_type": "stream"
        },
        {
          "name": "stdout",
          "text": "epoch: 601, loss:0.00022055409219257113\n",
          "output_type": "stream"
        },
        {
          "name": "stderr",
          "text": " 60%|██████    | 603/1000 [03:19<02:09,  3.07it/s]",
          "output_type": "stream"
        },
        {
          "name": "stdout",
          "text": "epoch: 602, loss:0.00022327815593501163\n",
          "output_type": "stream"
        },
        {
          "name": "stderr",
          "text": " 60%|██████    | 604/1000 [03:19<02:08,  3.09it/s]",
          "output_type": "stream"
        },
        {
          "name": "stdout",
          "text": "epoch: 603, loss:0.0002178801523560339\n",
          "output_type": "stream"
        },
        {
          "name": "stderr",
          "text": " 60%|██████    | 605/1000 [03:19<02:06,  3.11it/s]",
          "output_type": "stream"
        },
        {
          "name": "stdout",
          "text": "epoch: 604, loss:0.00021590025457545516\n",
          "output_type": "stream"
        },
        {
          "name": "stderr",
          "text": " 61%|██████    | 606/1000 [03:20<02:06,  3.11it/s]",
          "output_type": "stream"
        },
        {
          "name": "stdout",
          "text": "epoch: 605, loss:0.0002186647491133266\n",
          "output_type": "stream"
        },
        {
          "name": "stderr",
          "text": " 61%|██████    | 607/1000 [03:20<02:05,  3.12it/s]",
          "output_type": "stream"
        },
        {
          "name": "stdout",
          "text": "epoch: 606, loss:0.00021645904326352556\n",
          "output_type": "stream"
        },
        {
          "name": "stderr",
          "text": " 61%|██████    | 608/1000 [03:20<02:05,  3.12it/s]",
          "output_type": "stream"
        },
        {
          "name": "stdout",
          "text": "epoch: 607, loss:0.0002145617162985454\n",
          "output_type": "stream"
        },
        {
          "name": "stderr",
          "text": " 61%|██████    | 609/1000 [03:21<02:06,  3.08it/s]",
          "output_type": "stream"
        },
        {
          "name": "stdout",
          "text": "epoch: 608, loss:0.00021275002107388544\n",
          "output_type": "stream"
        },
        {
          "name": "stderr",
          "text": " 61%|██████    | 610/1000 [03:21<02:06,  3.09it/s]",
          "output_type": "stream"
        },
        {
          "name": "stdout",
          "text": "epoch: 609, loss:0.00021233691538018976\n",
          "output_type": "stream"
        },
        {
          "name": "stderr",
          "text": " 61%|██████    | 611/1000 [03:21<02:05,  3.11it/s]",
          "output_type": "stream"
        },
        {
          "name": "stdout",
          "text": "epoch: 610, loss:0.0002119090024184499\n",
          "output_type": "stream"
        },
        {
          "name": "stderr",
          "text": " 61%|██████    | 612/1000 [03:22<02:05,  3.09it/s]",
          "output_type": "stream"
        },
        {
          "name": "stdout",
          "text": "epoch: 611, loss:0.0002129006037249195\n",
          "output_type": "stream"
        },
        {
          "name": "stderr",
          "text": " 61%|██████▏   | 613/1000 [03:22<02:04,  3.10it/s]",
          "output_type": "stream"
        },
        {
          "name": "stdout",
          "text": "epoch: 612, loss:0.00021268215205354324\n",
          "output_type": "stream"
        },
        {
          "name": "stderr",
          "text": " 61%|██████▏   | 614/1000 [03:22<02:05,  3.08it/s]",
          "output_type": "stream"
        },
        {
          "name": "stdout",
          "text": "epoch: 613, loss:0.00021050989680516846\n",
          "output_type": "stream"
        },
        {
          "name": "stderr",
          "text": " 62%|██████▏   | 615/1000 [03:23<02:04,  3.09it/s]",
          "output_type": "stream"
        },
        {
          "name": "stdout",
          "text": "epoch: 614, loss:0.00021110225002357496\n",
          "output_type": "stream"
        },
        {
          "name": "stderr",
          "text": " 62%|██████▏   | 616/1000 [03:23<02:04,  3.10it/s]",
          "output_type": "stream"
        },
        {
          "name": "stdout",
          "text": "epoch: 615, loss:0.0002118242003503102\n",
          "output_type": "stream"
        },
        {
          "name": "stderr",
          "text": " 62%|██████▏   | 617/1000 [03:23<02:03,  3.11it/s]",
          "output_type": "stream"
        },
        {
          "name": "stdout",
          "text": "epoch: 616, loss:0.00020903036370223312\n",
          "output_type": "stream"
        },
        {
          "name": "stderr",
          "text": " 62%|██████▏   | 618/1000 [03:24<02:03,  3.09it/s]",
          "output_type": "stream"
        },
        {
          "name": "stdout",
          "text": "epoch: 617, loss:0.00021979199636515824\n",
          "output_type": "stream"
        },
        {
          "name": "stderr",
          "text": " 62%|██████▏   | 619/1000 [03:24<02:03,  3.09it/s]",
          "output_type": "stream"
        },
        {
          "name": "stdout",
          "text": "epoch: 618, loss:0.0002147232014359387\n",
          "output_type": "stream"
        },
        {
          "name": "stderr",
          "text": " 62%|██████▏   | 620/1000 [03:24<02:03,  3.08it/s]",
          "output_type": "stream"
        },
        {
          "name": "stdout",
          "text": "epoch: 619, loss:0.00021530102028739578\n",
          "output_type": "stream"
        },
        {
          "name": "stderr",
          "text": " 62%|██████▏   | 621/1000 [03:25<02:04,  3.05it/s]",
          "output_type": "stream"
        },
        {
          "name": "stdout",
          "text": "epoch: 620, loss:0.00021292224178461394\n",
          "output_type": "stream"
        },
        {
          "name": "stderr",
          "text": " 62%|██████▏   | 622/1000 [03:25<02:04,  3.03it/s]",
          "output_type": "stream"
        },
        {
          "name": "stdout",
          "text": "epoch: 621, loss:0.0002184168369299782\n",
          "output_type": "stream"
        },
        {
          "name": "stderr",
          "text": " 62%|██████▏   | 623/1000 [03:25<02:03,  3.05it/s]",
          "output_type": "stream"
        },
        {
          "name": "stdout",
          "text": "epoch: 622, loss:0.00021167660074806249\n",
          "output_type": "stream"
        },
        {
          "name": "stderr",
          "text": " 62%|██████▏   | 624/1000 [03:26<02:04,  3.02it/s]",
          "output_type": "stream"
        },
        {
          "name": "stdout",
          "text": "epoch: 623, loss:0.00021140281655967225\n",
          "output_type": "stream"
        },
        {
          "name": "stderr",
          "text": " 62%|██████▎   | 625/1000 [03:26<02:04,  3.02it/s]",
          "output_type": "stream"
        },
        {
          "name": "stdout",
          "text": "epoch: 624, loss:0.00021261328954417526\n",
          "output_type": "stream"
        },
        {
          "name": "stderr",
          "text": " 63%|██████▎   | 626/1000 [03:26<02:02,  3.05it/s]",
          "output_type": "stream"
        },
        {
          "name": "stdout",
          "text": "epoch: 625, loss:0.00021186262319488556\n",
          "output_type": "stream"
        },
        {
          "name": "stderr",
          "text": " 63%|██████▎   | 627/1000 [03:27<02:03,  3.03it/s]",
          "output_type": "stream"
        },
        {
          "name": "stdout",
          "text": "epoch: 626, loss:0.00021506232797311586\n",
          "output_type": "stream"
        },
        {
          "name": "stderr",
          "text": " 63%|██████▎   | 628/1000 [03:27<02:03,  3.01it/s]",
          "output_type": "stream"
        },
        {
          "name": "stdout",
          "text": "epoch: 627, loss:0.0002115647057913735\n",
          "output_type": "stream"
        },
        {
          "name": "stderr",
          "text": " 63%|██████▎   | 629/1000 [03:27<02:03,  2.99it/s]",
          "output_type": "stream"
        },
        {
          "name": "stdout",
          "text": "epoch: 628, loss:0.00021033926849251352\n",
          "output_type": "stream"
        },
        {
          "name": "stderr",
          "text": " 63%|██████▎   | 630/1000 [03:28<02:05,  2.94it/s]",
          "output_type": "stream"
        },
        {
          "name": "stdout",
          "text": "epoch: 629, loss:0.0002108336159041023\n",
          "output_type": "stream"
        },
        {
          "name": "stderr",
          "text": " 63%|██████▎   | 631/1000 [03:28<02:06,  2.92it/s]",
          "output_type": "stream"
        },
        {
          "name": "stdout",
          "text": "epoch: 630, loss:0.0002130862860565056\n",
          "output_type": "stream"
        },
        {
          "name": "stderr",
          "text": " 63%|██████▎   | 632/1000 [03:28<02:04,  2.97it/s]",
          "output_type": "stream"
        },
        {
          "name": "stdout",
          "text": "epoch: 631, loss:0.00021263454942419596\n",
          "output_type": "stream"
        },
        {
          "name": "stderr",
          "text": " 63%|██████▎   | 633/1000 [03:29<02:03,  2.97it/s]",
          "output_type": "stream"
        },
        {
          "name": "stdout",
          "text": "epoch: 632, loss:0.00021065069743646527\n",
          "output_type": "stream"
        },
        {
          "name": "stderr",
          "text": " 63%|██████▎   | 634/1000 [03:29<02:01,  3.02it/s]",
          "output_type": "stream"
        },
        {
          "name": "stdout",
          "text": "epoch: 633, loss:0.00021065148488841876\n",
          "output_type": "stream"
        },
        {
          "name": "stderr",
          "text": " 64%|██████▎   | 635/1000 [03:29<01:59,  3.06it/s]",
          "output_type": "stream"
        },
        {
          "name": "stdout",
          "text": "epoch: 634, loss:0.00021583134041144243\n",
          "output_type": "stream"
        },
        {
          "name": "stderr",
          "text": " 64%|██████▎   | 636/1000 [03:30<01:59,  3.05it/s]",
          "output_type": "stream"
        },
        {
          "name": "stdout",
          "text": "epoch: 635, loss:0.00021274859145200683\n",
          "output_type": "stream"
        },
        {
          "name": "stderr",
          "text": " 64%|██████▎   | 637/1000 [03:30<02:01,  2.98it/s]",
          "output_type": "stream"
        },
        {
          "name": "stdout",
          "text": "epoch: 636, loss:0.0002115256841566262\n",
          "output_type": "stream"
        },
        {
          "name": "stderr",
          "text": " 64%|██████▍   | 638/1000 [03:30<02:02,  2.97it/s]",
          "output_type": "stream"
        },
        {
          "name": "stdout",
          "text": "epoch: 637, loss:0.00021043272080382717\n",
          "output_type": "stream"
        },
        {
          "name": "stderr",
          "text": " 64%|██████▍   | 639/1000 [03:31<02:03,  2.92it/s]",
          "output_type": "stream"
        },
        {
          "name": "stdout",
          "text": "epoch: 638, loss:0.00021468594297243925\n",
          "output_type": "stream"
        },
        {
          "name": "stderr",
          "text": " 64%|██████▍   | 640/1000 [03:31<02:02,  2.95it/s]",
          "output_type": "stream"
        },
        {
          "name": "stdout",
          "text": "epoch: 639, loss:0.00021335015385156217\n",
          "output_type": "stream"
        },
        {
          "name": "stderr",
          "text": " 64%|██████▍   | 641/1000 [03:31<02:02,  2.94it/s]",
          "output_type": "stream"
        },
        {
          "name": "stdout",
          "text": "epoch: 640, loss:0.0002139812299324311\n",
          "output_type": "stream"
        },
        {
          "name": "stderr",
          "text": " 64%|██████▍   | 642/1000 [03:32<01:59,  2.98it/s]",
          "output_type": "stream"
        },
        {
          "name": "stdout",
          "text": "epoch: 641, loss:0.0002110191679370266\n",
          "output_type": "stream"
        },
        {
          "name": "stderr",
          "text": " 64%|██████▍   | 643/1000 [03:32<01:58,  3.02it/s]",
          "output_type": "stream"
        },
        {
          "name": "stdout",
          "text": "epoch: 642, loss:0.00021041356823124494\n",
          "output_type": "stream"
        },
        {
          "name": "stderr",
          "text": " 64%|██████▍   | 644/1000 [03:32<01:56,  3.05it/s]",
          "output_type": "stream"
        },
        {
          "name": "stdout",
          "text": "epoch: 643, loss:0.00021074975159646574\n",
          "output_type": "stream"
        },
        {
          "name": "stderr",
          "text": " 64%|██████▍   | 645/1000 [03:33<01:56,  3.05it/s]",
          "output_type": "stream"
        },
        {
          "name": "stdout",
          "text": "epoch: 644, loss:0.00021006650876780202\n",
          "output_type": "stream"
        },
        {
          "name": "stderr",
          "text": " 65%|██████▍   | 646/1000 [03:33<01:55,  3.07it/s]",
          "output_type": "stream"
        },
        {
          "name": "stdout",
          "text": "epoch: 645, loss:0.0002087822681504556\n",
          "output_type": "stream"
        },
        {
          "name": "stderr",
          "text": " 65%|██████▍   | 647/1000 [03:33<01:54,  3.10it/s]",
          "output_type": "stream"
        },
        {
          "name": "stdout",
          "text": "epoch: 646, loss:0.00020916193839742864\n",
          "output_type": "stream"
        },
        {
          "name": "stderr",
          "text": " 65%|██████▍   | 648/1000 [03:34<01:54,  3.08it/s]",
          "output_type": "stream"
        },
        {
          "name": "stdout",
          "text": "epoch: 647, loss:0.00020877275356155354\n",
          "output_type": "stream"
        },
        {
          "name": "stderr",
          "text": " 65%|██████▍   | 649/1000 [03:34<01:53,  3.08it/s]",
          "output_type": "stream"
        },
        {
          "name": "stdout",
          "text": "epoch: 648, loss:0.00020919209076838955\n",
          "output_type": "stream"
        },
        {
          "name": "stderr",
          "text": " 65%|██████▌   | 650/1000 [03:34<01:53,  3.10it/s]",
          "output_type": "stream"
        },
        {
          "name": "stdout",
          "text": "epoch: 649, loss:0.00020911309068937168\n",
          "output_type": "stream"
        },
        {
          "name": "stderr",
          "text": " 65%|██████▌   | 651/1000 [03:34<01:53,  3.08it/s]",
          "output_type": "stream"
        },
        {
          "name": "stdout",
          "text": "epoch: 650, loss:0.00021099085591054536\n",
          "output_type": "stream"
        },
        {
          "name": "stderr",
          "text": " 65%|██████▌   | 652/1000 [03:35<01:52,  3.10it/s]",
          "output_type": "stream"
        },
        {
          "name": "stdout",
          "text": "epoch: 651, loss:0.00021093556471355656\n",
          "output_type": "stream"
        },
        {
          "name": "stderr",
          "text": " 65%|██████▌   | 653/1000 [03:35<01:50,  3.13it/s]",
          "output_type": "stream"
        },
        {
          "name": "stdout",
          "text": "epoch: 652, loss:0.00020887111480487393\n",
          "output_type": "stream"
        },
        {
          "name": "stderr",
          "text": " 65%|██████▌   | 654/1000 [03:35<01:50,  3.14it/s]",
          "output_type": "stream"
        },
        {
          "name": "stdout",
          "text": "epoch: 653, loss:0.00020619919672763097\n",
          "output_type": "stream"
        },
        {
          "name": "stderr",
          "text": " 66%|██████▌   | 655/1000 [03:36<01:50,  3.12it/s]",
          "output_type": "stream"
        },
        {
          "name": "stdout",
          "text": "epoch: 654, loss:0.00020555560655909265\n",
          "output_type": "stream"
        },
        {
          "name": "stderr",
          "text": " 66%|██████▌   | 656/1000 [03:36<01:49,  3.13it/s]",
          "output_type": "stream"
        },
        {
          "name": "stdout",
          "text": "epoch: 655, loss:0.00021386378546065147\n",
          "output_type": "stream"
        },
        {
          "name": "stderr",
          "text": " 66%|██████▌   | 657/1000 [03:36<01:49,  3.12it/s]",
          "output_type": "stream"
        },
        {
          "name": "stdout",
          "text": "epoch: 656, loss:0.00021586818929886036\n",
          "output_type": "stream"
        },
        {
          "name": "stderr",
          "text": " 66%|██████▌   | 658/1000 [03:37<01:50,  3.10it/s]",
          "output_type": "stream"
        },
        {
          "name": "stdout",
          "text": "epoch: 657, loss:0.00021228961470986553\n",
          "output_type": "stream"
        },
        {
          "name": "stderr",
          "text": " 66%|██████▌   | 659/1000 [03:37<01:49,  3.11it/s]",
          "output_type": "stream"
        },
        {
          "name": "stdout",
          "text": "epoch: 658, loss:0.0002118305247808802\n",
          "output_type": "stream"
        },
        {
          "name": "stderr",
          "text": " 66%|██████▌   | 660/1000 [03:37<01:49,  3.11it/s]",
          "output_type": "stream"
        },
        {
          "name": "stdout",
          "text": "epoch: 659, loss:0.00021596620900614523\n",
          "output_type": "stream"
        },
        {
          "name": "stderr",
          "text": " 66%|██████▌   | 661/1000 [03:38<01:51,  3.04it/s]",
          "output_type": "stream"
        },
        {
          "name": "stdout",
          "text": "epoch: 660, loss:0.00021550632360847397\n",
          "output_type": "stream"
        },
        {
          "name": "stderr",
          "text": " 66%|██████▌   | 662/1000 [03:38<01:50,  3.07it/s]",
          "output_type": "stream"
        },
        {
          "name": "stdout",
          "text": "epoch: 661, loss:0.00021681450645107638\n",
          "output_type": "stream"
        },
        {
          "name": "stderr",
          "text": " 66%|██████▋   | 663/1000 [03:38<01:49,  3.08it/s]",
          "output_type": "stream"
        },
        {
          "name": "stdout",
          "text": "epoch: 662, loss:0.00021399746973543214\n",
          "output_type": "stream"
        },
        {
          "name": "stderr",
          "text": " 66%|██████▋   | 664/1000 [03:39<01:48,  3.09it/s]",
          "output_type": "stream"
        },
        {
          "name": "stdout",
          "text": "epoch: 663, loss:0.0002143568244818735\n",
          "output_type": "stream"
        },
        {
          "name": "stderr",
          "text": " 66%|██████▋   | 665/1000 [03:39<01:47,  3.11it/s]",
          "output_type": "stream"
        },
        {
          "name": "stdout",
          "text": "epoch: 664, loss:0.0002101930622027919\n",
          "output_type": "stream"
        },
        {
          "name": "stderr",
          "text": " 67%|██████▋   | 666/1000 [03:39<01:47,  3.12it/s]",
          "output_type": "stream"
        },
        {
          "name": "stdout",
          "text": "epoch: 665, loss:0.00021325642992730645\n",
          "output_type": "stream"
        },
        {
          "name": "stderr",
          "text": " 67%|██████▋   | 667/1000 [03:40<01:47,  3.08it/s]",
          "output_type": "stream"
        },
        {
          "name": "stdout",
          "text": "epoch: 666, loss:0.00021271630777481792\n",
          "output_type": "stream"
        },
        {
          "name": "stderr",
          "text": " 67%|██████▋   | 668/1000 [03:40<01:47,  3.09it/s]",
          "output_type": "stream"
        },
        {
          "name": "stdout",
          "text": "epoch: 667, loss:0.00021351993535618857\n",
          "output_type": "stream"
        },
        {
          "name": "stderr",
          "text": " 67%|██████▋   | 669/1000 [03:40<01:46,  3.12it/s]",
          "output_type": "stream"
        },
        {
          "name": "stdout",
          "text": "epoch: 668, loss:0.00021051519848417112\n",
          "output_type": "stream"
        },
        {
          "name": "stderr",
          "text": " 67%|██████▋   | 670/1000 [03:41<01:49,  3.02it/s]",
          "output_type": "stream"
        },
        {
          "name": "stdout",
          "text": "epoch: 669, loss:0.0002093614295328263\n",
          "output_type": "stream"
        },
        {
          "name": "stderr",
          "text": " 67%|██████▋   | 671/1000 [03:41<01:51,  2.94it/s]",
          "output_type": "stream"
        },
        {
          "name": "stdout",
          "text": "epoch: 670, loss:0.00021112188003297316\n",
          "output_type": "stream"
        },
        {
          "name": "stderr",
          "text": " 67%|██████▋   | 672/1000 [03:41<01:51,  2.94it/s]",
          "output_type": "stream"
        },
        {
          "name": "stdout",
          "text": "epoch: 671, loss:0.00020873632769051668\n",
          "output_type": "stream"
        },
        {
          "name": "stderr",
          "text": " 67%|██████▋   | 673/1000 [03:42<01:52,  2.90it/s]",
          "output_type": "stream"
        },
        {
          "name": "stdout",
          "text": "epoch: 672, loss:0.0002088589203033718\n",
          "output_type": "stream"
        },
        {
          "name": "stderr",
          "text": " 67%|██████▋   | 674/1000 [03:42<01:50,  2.95it/s]",
          "output_type": "stream"
        },
        {
          "name": "stdout",
          "text": "epoch: 673, loss:0.0002085046375034923\n",
          "output_type": "stream"
        },
        {
          "name": "stderr",
          "text": " 68%|██████▊   | 675/1000 [03:42<01:48,  3.01it/s]",
          "output_type": "stream"
        },
        {
          "name": "stdout",
          "text": "epoch: 674, loss:0.00020574479126992396\n",
          "output_type": "stream"
        },
        {
          "name": "stderr",
          "text": " 68%|██████▊   | 676/1000 [03:43<01:46,  3.05it/s]",
          "output_type": "stream"
        },
        {
          "name": "stdout",
          "text": "epoch: 675, loss:0.00020748625953206167\n",
          "output_type": "stream"
        },
        {
          "name": "stderr",
          "text": " 68%|██████▊   | 677/1000 [03:43<01:44,  3.08it/s]",
          "output_type": "stream"
        },
        {
          "name": "stdout",
          "text": "epoch: 676, loss:0.00020610798571554648\n",
          "output_type": "stream"
        },
        {
          "name": "stderr",
          "text": " 68%|██████▊   | 678/1000 [03:43<01:44,  3.09it/s]",
          "output_type": "stream"
        },
        {
          "name": "stdout",
          "text": "epoch: 677, loss:0.00020736734087247204\n",
          "output_type": "stream"
        },
        {
          "name": "stderr",
          "text": " 68%|██████▊   | 679/1000 [03:44<01:43,  3.11it/s]",
          "output_type": "stream"
        },
        {
          "name": "stdout",
          "text": "epoch: 678, loss:0.00020780947315964955\n",
          "output_type": "stream"
        },
        {
          "name": "stderr",
          "text": " 68%|██████▊   | 680/1000 [03:44<01:42,  3.12it/s]",
          "output_type": "stream"
        },
        {
          "name": "stdout",
          "text": "epoch: 679, loss:0.00020926604442945737\n",
          "output_type": "stream"
        },
        {
          "name": "stderr",
          "text": " 68%|██████▊   | 681/1000 [03:44<01:42,  3.13it/s]",
          "output_type": "stream"
        },
        {
          "name": "stdout",
          "text": "epoch: 680, loss:0.00020751370780813975\n",
          "output_type": "stream"
        },
        {
          "name": "stderr",
          "text": " 68%|██████▊   | 682/1000 [03:45<01:42,  3.12it/s]",
          "output_type": "stream"
        },
        {
          "name": "stdout",
          "text": "epoch: 681, loss:0.0002090734057418853\n",
          "output_type": "stream"
        },
        {
          "name": "stderr",
          "text": " 68%|██████▊   | 683/1000 [03:45<01:41,  3.13it/s]",
          "output_type": "stream"
        },
        {
          "name": "stdout",
          "text": "epoch: 682, loss:0.00020646841422929346\n",
          "output_type": "stream"
        },
        {
          "name": "stderr",
          "text": " 68%|██████▊   | 684/1000 [03:45<01:40,  3.15it/s]",
          "output_type": "stream"
        },
        {
          "name": "stdout",
          "text": "epoch: 683, loss:0.0002075719244313937\n",
          "output_type": "stream"
        },
        {
          "name": "stderr",
          "text": " 68%|██████▊   | 685/1000 [03:46<01:39,  3.16it/s]",
          "output_type": "stream"
        },
        {
          "name": "stdout",
          "text": "epoch: 684, loss:0.00020550024110940442\n",
          "output_type": "stream"
        },
        {
          "name": "stderr",
          "text": " 69%|██████▊   | 686/1000 [03:46<01:41,  3.09it/s]",
          "output_type": "stream"
        },
        {
          "name": "stdout",
          "text": "epoch: 685, loss:0.00020287054014072223\n",
          "output_type": "stream"
        },
        {
          "name": "stderr",
          "text": " 69%|██████▊   | 687/1000 [03:46<01:41,  3.07it/s]",
          "output_type": "stream"
        },
        {
          "name": "stdout",
          "text": "epoch: 686, loss:0.0002071367659367225\n",
          "output_type": "stream"
        },
        {
          "name": "stderr",
          "text": " 69%|██████▉   | 688/1000 [03:47<01:42,  3.03it/s]",
          "output_type": "stream"
        },
        {
          "name": "stdout",
          "text": "epoch: 687, loss:0.00020429306099531872\n",
          "output_type": "stream"
        },
        {
          "name": "stderr",
          "text": " 69%|██████▉   | 689/1000 [03:47<01:43,  3.01it/s]",
          "output_type": "stream"
        },
        {
          "name": "stdout",
          "text": "epoch: 688, loss:0.00020243571468372477\n",
          "output_type": "stream"
        },
        {
          "name": "stderr",
          "text": " 69%|██████▉   | 690/1000 [03:47<01:42,  3.01it/s]",
          "output_type": "stream"
        },
        {
          "name": "stdout",
          "text": "epoch: 689, loss:0.0002025173907129018\n",
          "output_type": "stream"
        },
        {
          "name": "stderr",
          "text": " 69%|██████▉   | 691/1000 [03:48<01:43,  2.98it/s]",
          "output_type": "stream"
        },
        {
          "name": "stdout",
          "text": "epoch: 690, loss:0.00020339978450459293\n",
          "output_type": "stream"
        },
        {
          "name": "stderr",
          "text": " 69%|██████▉   | 692/1000 [03:48<01:45,  2.93it/s]",
          "output_type": "stream"
        },
        {
          "name": "stdout",
          "text": "epoch: 691, loss:0.0002018038226379068\n",
          "output_type": "stream"
        },
        {
          "name": "stderr",
          "text": " 69%|██████▉   | 693/1000 [03:48<01:43,  2.97it/s]",
          "output_type": "stream"
        },
        {
          "name": "stdout",
          "text": "epoch: 692, loss:0.00020094973153815274\n",
          "output_type": "stream"
        },
        {
          "name": "stderr",
          "text": " 69%|██████▉   | 694/1000 [03:49<01:41,  3.01it/s]",
          "output_type": "stream"
        },
        {
          "name": "stdout",
          "text": "epoch: 693, loss:0.00020164480994061518\n",
          "output_type": "stream"
        },
        {
          "name": "stderr",
          "text": " 70%|██████▉   | 695/1000 [03:49<01:40,  3.03it/s]",
          "output_type": "stream"
        },
        {
          "name": "stdout",
          "text": "epoch: 694, loss:0.00020092196145829678\n",
          "output_type": "stream"
        },
        {
          "name": "stderr",
          "text": " 70%|██████▉   | 696/1000 [03:49<01:39,  3.06it/s]",
          "output_type": "stream"
        },
        {
          "name": "stdout",
          "text": "epoch: 695, loss:0.00020080735415817596\n",
          "output_type": "stream"
        },
        {
          "name": "stderr",
          "text": " 70%|██████▉   | 697/1000 [03:50<01:38,  3.07it/s]",
          "output_type": "stream"
        },
        {
          "name": "stdout",
          "text": "epoch: 696, loss:0.0002137449071417778\n",
          "output_type": "stream"
        },
        {
          "name": "stderr",
          "text": " 70%|██████▉   | 698/1000 [03:50<01:37,  3.08it/s]",
          "output_type": "stream"
        },
        {
          "name": "stdout",
          "text": "epoch: 697, loss:0.00020639165906462007\n",
          "output_type": "stream"
        },
        {
          "name": "stderr",
          "text": " 70%|██████▉   | 699/1000 [03:50<01:37,  3.10it/s]",
          "output_type": "stream"
        },
        {
          "name": "stdout",
          "text": "epoch: 698, loss:0.00020472256674598067\n",
          "output_type": "stream"
        },
        {
          "name": "stderr",
          "text": " 70%|███████   | 700/1000 [03:50<01:36,  3.11it/s]",
          "output_type": "stream"
        },
        {
          "name": "stdout",
          "text": "epoch: 699, loss:0.00020322129929048504\n",
          "output_type": "stream"
        },
        {
          "name": "stderr",
          "text": " 70%|███████   | 701/1000 [03:51<01:36,  3.11it/s]",
          "output_type": "stream"
        },
        {
          "name": "stdout",
          "text": "epoch: 700, loss:0.0002023172843675969\n",
          "output_type": "stream"
        },
        {
          "name": "stderr",
          "text": " 70%|███████   | 702/1000 [03:51<01:35,  3.11it/s]",
          "output_type": "stream"
        },
        {
          "name": "stdout",
          "text": "epoch: 701, loss:0.00020269207481548882\n",
          "output_type": "stream"
        },
        {
          "name": "stderr",
          "text": " 70%|███████   | 703/1000 [03:51<01:36,  3.07it/s]",
          "output_type": "stream"
        },
        {
          "name": "stdout",
          "text": "epoch: 702, loss:0.00020186275219061624\n",
          "output_type": "stream"
        },
        {
          "name": "stderr",
          "text": " 70%|███████   | 704/1000 [03:52<01:37,  3.05it/s]",
          "output_type": "stream"
        },
        {
          "name": "stdout",
          "text": "epoch: 703, loss:0.000200985091142505\n",
          "output_type": "stream"
        },
        {
          "name": "stderr",
          "text": " 70%|███████   | 705/1000 [03:52<01:36,  3.07it/s]",
          "output_type": "stream"
        },
        {
          "name": "stdout",
          "text": "epoch: 704, loss:0.00020086535876707225\n",
          "output_type": "stream"
        },
        {
          "name": "stderr",
          "text": " 71%|███████   | 706/1000 [03:52<01:35,  3.06it/s]",
          "output_type": "stream"
        },
        {
          "name": "stdout",
          "text": "epoch: 705, loss:0.0002025152108193595\n",
          "output_type": "stream"
        },
        {
          "name": "stderr",
          "text": " 71%|███████   | 707/1000 [03:53<01:35,  3.08it/s]",
          "output_type": "stream"
        },
        {
          "name": "stdout",
          "text": "epoch: 706, loss:0.00020675900607506728\n",
          "output_type": "stream"
        },
        {
          "name": "stderr",
          "text": " 71%|███████   | 708/1000 [03:53<01:34,  3.11it/s]",
          "output_type": "stream"
        },
        {
          "name": "stdout",
          "text": "epoch: 707, loss:0.00020342109287086892\n",
          "output_type": "stream"
        },
        {
          "name": "stderr",
          "text": " 71%|███████   | 709/1000 [03:53<01:33,  3.12it/s]",
          "output_type": "stream"
        },
        {
          "name": "stdout",
          "text": "epoch: 708, loss:0.00020217322628257782\n",
          "output_type": "stream"
        },
        {
          "name": "stderr",
          "text": " 71%|███████   | 710/1000 [03:54<01:33,  3.09it/s]",
          "output_type": "stream"
        },
        {
          "name": "stdout",
          "text": "epoch: 709, loss:0.00020732286834325555\n",
          "output_type": "stream"
        },
        {
          "name": "stderr",
          "text": " 71%|███████   | 711/1000 [03:54<01:34,  3.07it/s]",
          "output_type": "stream"
        },
        {
          "name": "stdout",
          "text": "epoch: 710, loss:0.00020141304928968472\n",
          "output_type": "stream"
        },
        {
          "name": "stderr",
          "text": " 71%|███████   | 712/1000 [03:54<01:33,  3.07it/s]",
          "output_type": "stream"
        },
        {
          "name": "stdout",
          "text": "epoch: 711, loss:0.0001999175345803033\n",
          "output_type": "stream"
        },
        {
          "name": "stderr",
          "text": " 71%|███████▏  | 713/1000 [03:55<01:35,  3.00it/s]",
          "output_type": "stream"
        },
        {
          "name": "stdout",
          "text": "epoch: 712, loss:0.00019850948223274926\n",
          "output_type": "stream"
        },
        {
          "name": "stderr",
          "text": " 71%|███████▏  | 714/1000 [03:55<01:34,  3.03it/s]",
          "output_type": "stream"
        },
        {
          "name": "stdout",
          "text": "epoch: 713, loss:0.00019828373311645743\n",
          "output_type": "stream"
        },
        {
          "name": "stderr",
          "text": " 72%|███████▏  | 715/1000 [03:55<01:33,  3.04it/s]",
          "output_type": "stream"
        },
        {
          "name": "stdout",
          "text": "epoch: 714, loss:0.0001979511506405211\n",
          "output_type": "stream"
        },
        {
          "name": "stderr",
          "text": " 72%|███████▏  | 716/1000 [03:56<01:33,  3.05it/s]",
          "output_type": "stream"
        },
        {
          "name": "stdout",
          "text": "epoch: 715, loss:0.0001966265115103365\n",
          "output_type": "stream"
        },
        {
          "name": "stderr",
          "text": " 72%|███████▏  | 717/1000 [03:56<01:32,  3.06it/s]",
          "output_type": "stream"
        },
        {
          "name": "stdout",
          "text": "epoch: 716, loss:0.00019672211892071098\n",
          "output_type": "stream"
        },
        {
          "name": "stderr",
          "text": " 72%|███████▏  | 718/1000 [03:56<01:31,  3.09it/s]",
          "output_type": "stream"
        },
        {
          "name": "stdout",
          "text": "epoch: 717, loss:0.00019716708751970258\n",
          "output_type": "stream"
        },
        {
          "name": "stderr",
          "text": " 72%|███████▏  | 719/1000 [03:57<01:31,  3.07it/s]",
          "output_type": "stream"
        },
        {
          "name": "stdout",
          "text": "epoch: 718, loss:0.00020028682010004626\n",
          "output_type": "stream"
        },
        {
          "name": "stderr",
          "text": " 72%|███████▏  | 720/1000 [03:57<01:31,  3.08it/s]",
          "output_type": "stream"
        },
        {
          "name": "stdout",
          "text": "epoch: 719, loss:0.00019380679779421015\n",
          "output_type": "stream"
        },
        {
          "name": "stderr",
          "text": " 72%|███████▏  | 721/1000 [03:57<01:31,  3.05it/s]",
          "output_type": "stream"
        },
        {
          "name": "stdout",
          "text": "epoch: 720, loss:0.00019627880256681613\n",
          "output_type": "stream"
        },
        {
          "name": "stderr",
          "text": " 72%|███████▏  | 722/1000 [03:58<01:33,  2.99it/s]",
          "output_type": "stream"
        },
        {
          "name": "stdout",
          "text": "epoch: 721, loss:0.00019419818048682804\n",
          "output_type": "stream"
        },
        {
          "name": "stderr",
          "text": " 72%|███████▏  | 723/1000 [03:58<01:31,  3.02it/s]",
          "output_type": "stream"
        },
        {
          "name": "stdout",
          "text": "epoch: 722, loss:0.00019292108035428681\n",
          "output_type": "stream"
        },
        {
          "name": "stderr",
          "text": " 72%|███████▏  | 724/1000 [03:58<01:30,  3.05it/s]",
          "output_type": "stream"
        },
        {
          "name": "stdout",
          "text": "epoch: 723, loss:0.00019365090787617318\n",
          "output_type": "stream"
        },
        {
          "name": "stderr",
          "text": " 72%|███████▎  | 725/1000 [03:59<01:29,  3.07it/s]",
          "output_type": "stream"
        },
        {
          "name": "stdout",
          "text": "epoch: 724, loss:0.00019902871854126823\n",
          "output_type": "stream"
        },
        {
          "name": "stderr",
          "text": " 73%|███████▎  | 726/1000 [03:59<01:28,  3.09it/s]",
          "output_type": "stream"
        },
        {
          "name": "stdout",
          "text": "epoch: 725, loss:0.0001989600036757398\n",
          "output_type": "stream"
        },
        {
          "name": "stderr",
          "text": " 73%|███████▎  | 727/1000 [03:59<01:28,  3.08it/s]",
          "output_type": "stream"
        },
        {
          "name": "stdout",
          "text": "epoch: 726, loss:0.0001975355817376329\n",
          "output_type": "stream"
        },
        {
          "name": "stderr",
          "text": " 73%|███████▎  | 728/1000 [04:00<01:29,  3.05it/s]",
          "output_type": "stream"
        },
        {
          "name": "stdout",
          "text": "epoch: 727, loss:0.00019604722610724277\n",
          "output_type": "stream"
        },
        {
          "name": "stderr",
          "text": " 73%|███████▎  | 729/1000 [04:00<01:28,  3.05it/s]",
          "output_type": "stream"
        },
        {
          "name": "stdout",
          "text": "epoch: 728, loss:0.0002103155545006704\n",
          "output_type": "stream"
        },
        {
          "name": "stderr",
          "text": " 73%|███████▎  | 730/1000 [04:00<01:29,  3.01it/s]",
          "output_type": "stream"
        },
        {
          "name": "stdout",
          "text": "epoch: 729, loss:0.00020833706994473816\n",
          "output_type": "stream"
        },
        {
          "name": "stderr",
          "text": " 73%|███████▎  | 731/1000 [04:01<01:30,  2.99it/s]",
          "output_type": "stream"
        },
        {
          "name": "stdout",
          "text": "epoch: 730, loss:0.00020886240983449672\n",
          "output_type": "stream"
        },
        {
          "name": "stderr",
          "text": " 73%|███████▎  | 732/1000 [04:01<01:28,  3.02it/s]",
          "output_type": "stream"
        },
        {
          "name": "stdout",
          "text": "epoch: 731, loss:0.0002051682488232119\n",
          "output_type": "stream"
        },
        {
          "name": "stderr",
          "text": " 73%|███████▎  | 733/1000 [04:01<01:27,  3.06it/s]",
          "output_type": "stream"
        },
        {
          "name": "stdout",
          "text": "epoch: 732, loss:0.000204517535029612\n",
          "output_type": "stream"
        },
        {
          "name": "stderr",
          "text": " 73%|███████▎  | 734/1000 [04:02<01:26,  3.08it/s]",
          "output_type": "stream"
        },
        {
          "name": "stdout",
          "text": "epoch: 733, loss:0.00020275823034290657\n",
          "output_type": "stream"
        },
        {
          "name": "stderr",
          "text": " 74%|███████▎  | 735/1000 [04:02<01:26,  3.07it/s]",
          "output_type": "stream"
        },
        {
          "name": "stdout",
          "text": "epoch: 734, loss:0.0002025885545892101\n",
          "output_type": "stream"
        },
        {
          "name": "stderr",
          "text": " 74%|███████▎  | 736/1000 [04:02<01:25,  3.10it/s]",
          "output_type": "stream"
        },
        {
          "name": "stdout",
          "text": "epoch: 735, loss:0.00020520531088703833\n",
          "output_type": "stream"
        },
        {
          "name": "stderr",
          "text": " 74%|███████▎  | 737/1000 [04:03<01:25,  3.08it/s]",
          "output_type": "stream"
        },
        {
          "name": "stdout",
          "text": "epoch: 736, loss:0.00020139952231895713\n",
          "output_type": "stream"
        },
        {
          "name": "stderr",
          "text": " 74%|███████▍  | 738/1000 [04:03<01:26,  3.03it/s]",
          "output_type": "stream"
        },
        {
          "name": "stdout",
          "text": "epoch: 737, loss:0.00020225405039644444\n",
          "output_type": "stream"
        },
        {
          "name": "stderr",
          "text": " 74%|███████▍  | 739/1000 [04:03<01:26,  3.01it/s]",
          "output_type": "stream"
        },
        {
          "name": "stdout",
          "text": "epoch: 738, loss:0.0002035490575760461\n",
          "output_type": "stream"
        },
        {
          "name": "stderr",
          "text": " 74%|███████▍  | 740/1000 [04:04<01:25,  3.03it/s]",
          "output_type": "stream"
        },
        {
          "name": "stdout",
          "text": "epoch: 739, loss:0.00019932867066063597\n",
          "output_type": "stream"
        },
        {
          "name": "stderr",
          "text": " 74%|███████▍  | 741/1000 [04:04<01:26,  3.01it/s]",
          "output_type": "stream"
        },
        {
          "name": "stdout",
          "text": "epoch: 740, loss:0.0001989363332519086\n",
          "output_type": "stream"
        },
        {
          "name": "stderr",
          "text": " 74%|███████▍  | 742/1000 [04:04<01:26,  3.00it/s]",
          "output_type": "stream"
        },
        {
          "name": "stdout",
          "text": "epoch: 741, loss:0.00019932282536369868\n",
          "output_type": "stream"
        },
        {
          "name": "stderr",
          "text": " 74%|███████▍  | 743/1000 [04:05<01:26,  2.98it/s]",
          "output_type": "stream"
        },
        {
          "name": "stdout",
          "text": "epoch: 742, loss:0.0001967492975480696\n",
          "output_type": "stream"
        },
        {
          "name": "stderr",
          "text": " 74%|███████▍  | 744/1000 [04:05<01:26,  2.97it/s]",
          "output_type": "stream"
        },
        {
          "name": "stdout",
          "text": "epoch: 743, loss:0.00019651842073924153\n",
          "output_type": "stream"
        },
        {
          "name": "stderr",
          "text": " 74%|███████▍  | 745/1000 [04:05<01:25,  2.97it/s]",
          "output_type": "stream"
        },
        {
          "name": "stdout",
          "text": "epoch: 744, loss:0.00019623189683417786\n",
          "output_type": "stream"
        },
        {
          "name": "stderr",
          "text": " 75%|███████▍  | 746/1000 [04:06<01:24,  3.00it/s]",
          "output_type": "stream"
        },
        {
          "name": "stdout",
          "text": "epoch: 745, loss:0.00019898039327496437\n",
          "output_type": "stream"
        },
        {
          "name": "stderr",
          "text": " 75%|███████▍  | 747/1000 [04:06<01:23,  3.01it/s]",
          "output_type": "stream"
        },
        {
          "name": "stdout",
          "text": "epoch: 746, loss:0.00020039880827623974\n",
          "output_type": "stream"
        },
        {
          "name": "stderr",
          "text": " 75%|███████▍  | 748/1000 [04:06<01:22,  3.06it/s]",
          "output_type": "stream"
        },
        {
          "name": "stdout",
          "text": "epoch: 747, loss:0.00019858045897514577\n",
          "output_type": "stream"
        },
        {
          "name": "stderr",
          "text": " 75%|███████▍  | 749/1000 [04:07<01:21,  3.08it/s]",
          "output_type": "stream"
        },
        {
          "name": "stdout",
          "text": "epoch: 748, loss:0.0001987511955888541\n",
          "output_type": "stream"
        },
        {
          "name": "stderr",
          "text": " 75%|███████▌  | 750/1000 [04:07<01:21,  3.08it/s]",
          "output_type": "stream"
        },
        {
          "name": "stdout",
          "text": "epoch: 749, loss:0.00019656707288400927\n",
          "output_type": "stream"
        },
        {
          "name": "stderr",
          "text": " 75%|███████▌  | 751/1000 [04:07<01:20,  3.08it/s]",
          "output_type": "stream"
        },
        {
          "name": "stdout",
          "text": "epoch: 750, loss:0.0001982373523605071\n",
          "output_type": "stream"
        },
        {
          "name": "stderr",
          "text": " 75%|███████▌  | 752/1000 [04:08<01:21,  3.05it/s]",
          "output_type": "stream"
        },
        {
          "name": "stdout",
          "text": "epoch: 751, loss:0.00019719843091248407\n",
          "output_type": "stream"
        },
        {
          "name": "stderr",
          "text": " 75%|███████▌  | 753/1000 [04:08<01:23,  2.97it/s]",
          "output_type": "stream"
        },
        {
          "name": "stdout",
          "text": "epoch: 752, loss:0.0002040369049957519\n",
          "output_type": "stream"
        },
        {
          "name": "stderr",
          "text": " 75%|███████▌  | 754/1000 [04:08<01:22,  2.98it/s]",
          "output_type": "stream"
        },
        {
          "name": "stdout",
          "text": "epoch: 753, loss:0.00020084930907642416\n",
          "output_type": "stream"
        },
        {
          "name": "stderr",
          "text": " 76%|███████▌  | 755/1000 [04:09<01:21,  2.99it/s]",
          "output_type": "stream"
        },
        {
          "name": "stdout",
          "text": "epoch: 754, loss:0.00020437911970400458\n",
          "output_type": "stream"
        },
        {
          "name": "stderr",
          "text": " 76%|███████▌  | 756/1000 [04:09<01:20,  3.02it/s]",
          "output_type": "stream"
        },
        {
          "name": "stdout",
          "text": "epoch: 755, loss:0.00020210947839171753\n",
          "output_type": "stream"
        },
        {
          "name": "stderr",
          "text": " 76%|███████▌  | 757/1000 [04:09<01:19,  3.06it/s]",
          "output_type": "stream"
        },
        {
          "name": "stdout",
          "text": "epoch: 756, loss:0.00019900109596824502\n",
          "output_type": "stream"
        },
        {
          "name": "stderr",
          "text": " 76%|███████▌  | 758/1000 [04:10<01:18,  3.08it/s]",
          "output_type": "stream"
        },
        {
          "name": "stdout",
          "text": "epoch: 757, loss:0.00019948481873196148\n",
          "output_type": "stream"
        },
        {
          "name": "stderr",
          "text": " 76%|███████▌  | 759/1000 [04:10<01:19,  3.03it/s]",
          "output_type": "stream"
        },
        {
          "name": "stdout",
          "text": "epoch: 758, loss:0.0001989359346547235\n",
          "output_type": "stream"
        },
        {
          "name": "stderr",
          "text": " 76%|███████▌  | 760/1000 [04:10<01:18,  3.07it/s]",
          "output_type": "stream"
        },
        {
          "name": "stdout",
          "text": "epoch: 759, loss:0.00019916506512153233\n",
          "output_type": "stream"
        },
        {
          "name": "stderr",
          "text": " 76%|███████▌  | 761/1000 [04:10<01:17,  3.08it/s]",
          "output_type": "stream"
        },
        {
          "name": "stdout",
          "text": "epoch: 760, loss:0.00019647849020159222\n",
          "output_type": "stream"
        },
        {
          "name": "stderr",
          "text": " 76%|███████▌  | 762/1000 [04:11<01:16,  3.10it/s]",
          "output_type": "stream"
        },
        {
          "name": "stdout",
          "text": "epoch: 761, loss:0.00020250712759189703\n",
          "output_type": "stream"
        },
        {
          "name": "stderr",
          "text": " 76%|███████▋  | 763/1000 [04:11<01:15,  3.13it/s]",
          "output_type": "stream"
        },
        {
          "name": "stdout",
          "text": "epoch: 762, loss:0.00020039814083410408\n",
          "output_type": "stream"
        },
        {
          "name": "stderr",
          "text": " 76%|███████▋  | 764/1000 [04:11<01:15,  3.11it/s]",
          "output_type": "stream"
        },
        {
          "name": "stdout",
          "text": "epoch: 763, loss:0.00019973636765998045\n",
          "output_type": "stream"
        },
        {
          "name": "stderr",
          "text": " 76%|███████▋  | 765/1000 [04:12<01:16,  3.08it/s]",
          "output_type": "stream"
        },
        {
          "name": "stdout",
          "text": "epoch: 764, loss:0.00020043823266716371\n",
          "output_type": "stream"
        },
        {
          "name": "stderr",
          "text": " 77%|███████▋  | 766/1000 [04:12<01:15,  3.11it/s]",
          "output_type": "stream"
        },
        {
          "name": "stdout",
          "text": "epoch: 765, loss:0.0001977097609940795\n",
          "output_type": "stream"
        },
        {
          "name": "stderr",
          "text": " 77%|███████▋  | 767/1000 [04:12<01:17,  3.02it/s]",
          "output_type": "stream"
        },
        {
          "name": "stdout",
          "text": "epoch: 766, loss:0.0001987949347775257\n",
          "output_type": "stream"
        },
        {
          "name": "stderr",
          "text": " 77%|███████▋  | 768/1000 [04:13<01:19,  2.93it/s]",
          "output_type": "stream"
        },
        {
          "name": "stdout",
          "text": "epoch: 767, loss:0.0001974661971271677\n",
          "output_type": "stream"
        },
        {
          "name": "stderr",
          "text": " 77%|███████▋  | 769/1000 [04:13<01:18,  2.93it/s]",
          "output_type": "stream"
        },
        {
          "name": "stdout",
          "text": "epoch: 768, loss:0.00019696441077142585\n",
          "output_type": "stream"
        },
        {
          "name": "stderr",
          "text": " 77%|███████▋  | 770/1000 [04:14<01:19,  2.90it/s]",
          "output_type": "stream"
        },
        {
          "name": "stdout",
          "text": "epoch: 769, loss:0.00019727616742611312\n",
          "output_type": "stream"
        },
        {
          "name": "stderr",
          "text": " 77%|███████▋  | 771/1000 [04:14<01:18,  2.92it/s]",
          "output_type": "stream"
        },
        {
          "name": "stdout",
          "text": "epoch: 770, loss:0.00019620159289501096\n",
          "output_type": "stream"
        },
        {
          "name": "stderr",
          "text": " 77%|███████▋  | 772/1000 [04:14<01:16,  2.97it/s]",
          "output_type": "stream"
        },
        {
          "name": "stdout",
          "text": "epoch: 771, loss:0.000196160280304714\n",
          "output_type": "stream"
        },
        {
          "name": "stderr",
          "text": " 77%|███████▋  | 773/1000 [04:14<01:15,  3.01it/s]",
          "output_type": "stream"
        },
        {
          "name": "stdout",
          "text": "epoch: 772, loss:0.00019659925708261585\n",
          "output_type": "stream"
        },
        {
          "name": "stderr",
          "text": " 77%|███████▋  | 774/1000 [04:15<01:14,  3.03it/s]",
          "output_type": "stream"
        },
        {
          "name": "stdout",
          "text": "epoch: 773, loss:0.00019539798591653498\n",
          "output_type": "stream"
        },
        {
          "name": "stderr",
          "text": " 78%|███████▊  | 775/1000 [04:15<01:13,  3.05it/s]",
          "output_type": "stream"
        },
        {
          "name": "stdout",
          "text": "epoch: 774, loss:0.00019542465072806302\n",
          "output_type": "stream"
        },
        {
          "name": "stderr",
          "text": " 78%|███████▊  | 776/1000 [04:15<01:12,  3.08it/s]",
          "output_type": "stream"
        },
        {
          "name": "stdout",
          "text": "epoch: 775, loss:0.00019405819407448981\n",
          "output_type": "stream"
        },
        {
          "name": "stderr",
          "text": " 78%|███████▊  | 777/1000 [04:16<01:12,  3.07it/s]",
          "output_type": "stream"
        },
        {
          "name": "stdout",
          "text": "epoch: 776, loss:0.00019321854150871845\n",
          "output_type": "stream"
        },
        {
          "name": "stderr",
          "text": " 78%|███████▊  | 778/1000 [04:16<01:12,  3.08it/s]",
          "output_type": "stream"
        },
        {
          "name": "stdout",
          "text": "epoch: 777, loss:0.00019628274274081\n",
          "output_type": "stream"
        },
        {
          "name": "stderr",
          "text": " 78%|███████▊  | 779/1000 [04:16<01:12,  3.04it/s]",
          "output_type": "stream"
        },
        {
          "name": "stdout",
          "text": "epoch: 778, loss:0.00019831692412057358\n",
          "output_type": "stream"
        },
        {
          "name": "stderr",
          "text": " 78%|███████▊  | 780/1000 [04:17<01:12,  3.03it/s]",
          "output_type": "stream"
        },
        {
          "name": "stdout",
          "text": "epoch: 779, loss:0.00019401324192173198\n",
          "output_type": "stream"
        },
        {
          "name": "stderr",
          "text": " 78%|███████▊  | 781/1000 [04:17<01:11,  3.06it/s]",
          "output_type": "stream"
        },
        {
          "name": "stdout",
          "text": "epoch: 780, loss:0.00019547048466874738\n",
          "output_type": "stream"
        },
        {
          "name": "stderr",
          "text": " 78%|███████▊  | 782/1000 [04:17<01:11,  3.04it/s]",
          "output_type": "stream"
        },
        {
          "name": "stdout",
          "text": "epoch: 781, loss:0.00019516940073039486\n",
          "output_type": "stream"
        },
        {
          "name": "stderr",
          "text": " 78%|███████▊  | 783/1000 [04:18<01:12,  2.99it/s]",
          "output_type": "stream"
        },
        {
          "name": "stdout",
          "text": "epoch: 782, loss:0.00019370378915030525\n",
          "output_type": "stream"
        },
        {
          "name": "stderr",
          "text": " 78%|███████▊  | 784/1000 [04:18<01:12,  2.99it/s]",
          "output_type": "stream"
        },
        {
          "name": "stdout",
          "text": "epoch: 783, loss:0.00020084394442803795\n",
          "output_type": "stream"
        },
        {
          "name": "stderr",
          "text": " 78%|███████▊  | 785/1000 [04:18<01:11,  2.99it/s]",
          "output_type": "stream"
        },
        {
          "name": "stdout",
          "text": "epoch: 784, loss:0.0001963126781885634\n",
          "output_type": "stream"
        },
        {
          "name": "stderr",
          "text": " 79%|███████▊  | 786/1000 [04:19<01:11,  3.01it/s]",
          "output_type": "stream"
        },
        {
          "name": "stdout",
          "text": "epoch: 785, loss:0.00019677990849742384\n",
          "output_type": "stream"
        },
        {
          "name": "stderr",
          "text": " 79%|███████▊  | 787/1000 [04:19<01:10,  3.02it/s]",
          "output_type": "stream"
        },
        {
          "name": "stdout",
          "text": "epoch: 786, loss:0.00019501922205359721\n",
          "output_type": "stream"
        },
        {
          "name": "stderr",
          "text": " 79%|███████▉  | 788/1000 [04:19<01:10,  2.99it/s]",
          "output_type": "stream"
        },
        {
          "name": "stdout",
          "text": "epoch: 787, loss:0.00019672574824827969\n",
          "output_type": "stream"
        },
        {
          "name": "stderr",
          "text": " 79%|███████▉  | 789/1000 [04:20<01:10,  2.98it/s]",
          "output_type": "stream"
        },
        {
          "name": "stdout",
          "text": "epoch: 788, loss:0.0001957325437686028\n",
          "output_type": "stream"
        },
        {
          "name": "stderr",
          "text": " 79%|███████▉  | 790/1000 [04:20<01:10,  2.98it/s]",
          "output_type": "stream"
        },
        {
          "name": "stdout",
          "text": "epoch: 789, loss:0.0001958655629012773\n",
          "output_type": "stream"
        },
        {
          "name": "stderr",
          "text": " 79%|███████▉  | 791/1000 [04:20<01:09,  3.02it/s]",
          "output_type": "stream"
        },
        {
          "name": "stdout",
          "text": "epoch: 790, loss:0.00019806376666863\n",
          "output_type": "stream"
        },
        {
          "name": "stderr",
          "text": " 79%|███████▉  | 792/1000 [04:21<01:08,  3.02it/s]",
          "output_type": "stream"
        },
        {
          "name": "stdout",
          "text": "epoch: 791, loss:0.00019668654040824689\n",
          "output_type": "stream"
        },
        {
          "name": "stderr",
          "text": " 79%|███████▉  | 793/1000 [04:21<01:09,  3.00it/s]",
          "output_type": "stream"
        },
        {
          "name": "stdout",
          "text": "epoch: 792, loss:0.00019255990494775177\n",
          "output_type": "stream"
        },
        {
          "name": "stderr",
          "text": " 79%|███████▉  | 794/1000 [04:21<01:08,  2.99it/s]",
          "output_type": "stream"
        },
        {
          "name": "stdout",
          "text": "epoch: 793, loss:0.00019308675216889192\n",
          "output_type": "stream"
        },
        {
          "name": "stderr",
          "text": " 80%|███████▉  | 795/1000 [04:22<01:08,  3.01it/s]",
          "output_type": "stream"
        },
        {
          "name": "stdout",
          "text": "epoch: 794, loss:0.00019283238234180328\n",
          "output_type": "stream"
        },
        {
          "name": "stderr",
          "text": " 80%|███████▉  | 796/1000 [04:22<01:07,  3.03it/s]",
          "output_type": "stream"
        },
        {
          "name": "stdout",
          "text": "epoch: 795, loss:0.00019255157060539625\n",
          "output_type": "stream"
        },
        {
          "name": "stderr",
          "text": " 80%|███████▉  | 797/1000 [04:22<01:06,  3.04it/s]",
          "output_type": "stream"
        },
        {
          "name": "stdout",
          "text": "epoch: 796, loss:0.00019228731874966834\n",
          "output_type": "stream"
        },
        {
          "name": "stderr",
          "text": " 80%|███████▉  | 798/1000 [04:23<01:06,  3.04it/s]",
          "output_type": "stream"
        },
        {
          "name": "stdout",
          "text": "epoch: 797, loss:0.00019262445150340646\n",
          "output_type": "stream"
        },
        {
          "name": "stderr",
          "text": " 80%|███████▉  | 799/1000 [04:23<01:05,  3.08it/s]",
          "output_type": "stream"
        },
        {
          "name": "stdout",
          "text": "epoch: 798, loss:0.00019283537456583316\n",
          "output_type": "stream"
        },
        {
          "name": "stderr",
          "text": " 80%|████████  | 800/1000 [04:23<01:04,  3.09it/s]",
          "output_type": "stream"
        },
        {
          "name": "stdout",
          "text": "epoch: 799, loss:0.0001927900810217769\n",
          "output_type": "stream"
        },
        {
          "name": "stderr",
          "text": " 80%|████████  | 801/1000 [04:24<01:03,  3.11it/s]",
          "output_type": "stream"
        },
        {
          "name": "stdout",
          "text": "epoch: 800, loss:0.0001958186969328922\n",
          "output_type": "stream"
        },
        {
          "name": "stderr",
          "text": " 80%|████████  | 802/1000 [04:24<01:03,  3.13it/s]",
          "output_type": "stream"
        },
        {
          "name": "stdout",
          "text": "epoch: 801, loss:0.00019409096753190792\n",
          "output_type": "stream"
        },
        {
          "name": "stderr",
          "text": " 80%|████████  | 803/1000 [04:24<01:03,  3.08it/s]",
          "output_type": "stream"
        },
        {
          "name": "stdout",
          "text": "epoch: 802, loss:0.00019268307248856018\n",
          "output_type": "stream"
        },
        {
          "name": "stderr",
          "text": " 80%|████████  | 804/1000 [04:25<01:04,  3.04it/s]",
          "output_type": "stream"
        },
        {
          "name": "stdout",
          "text": "epoch: 803, loss:0.00019477364783229218\n",
          "output_type": "stream"
        },
        {
          "name": "stderr",
          "text": " 80%|████████  | 805/1000 [04:25<01:03,  3.08it/s]",
          "output_type": "stream"
        },
        {
          "name": "stdout",
          "text": "epoch: 804, loss:0.0001928613906232599\n",
          "output_type": "stream"
        },
        {
          "name": "stderr",
          "text": " 81%|████████  | 806/1000 [04:25<01:03,  3.05it/s]",
          "output_type": "stream"
        },
        {
          "name": "stdout",
          "text": "epoch: 805, loss:0.00019308434865242133\n",
          "output_type": "stream"
        },
        {
          "name": "stderr",
          "text": " 81%|████████  | 807/1000 [04:26<01:02,  3.07it/s]",
          "output_type": "stream"
        },
        {
          "name": "stdout",
          "text": "epoch: 806, loss:0.00019050357446060914\n",
          "output_type": "stream"
        },
        {
          "name": "stderr",
          "text": " 81%|████████  | 808/1000 [04:26<01:02,  3.09it/s]",
          "output_type": "stream"
        },
        {
          "name": "stdout",
          "text": "epoch: 807, loss:0.00019713060274821265\n",
          "output_type": "stream"
        },
        {
          "name": "stderr",
          "text": " 81%|████████  | 809/1000 [04:26<01:01,  3.10it/s]",
          "output_type": "stream"
        },
        {
          "name": "stdout",
          "text": "epoch: 808, loss:0.00019173153079402784\n",
          "output_type": "stream"
        },
        {
          "name": "stderr",
          "text": " 81%|████████  | 810/1000 [04:27<01:01,  3.11it/s]",
          "output_type": "stream"
        },
        {
          "name": "stdout",
          "text": "epoch: 809, loss:0.00019041323600906283\n",
          "output_type": "stream"
        },
        {
          "name": "stderr",
          "text": " 81%|████████  | 811/1000 [04:27<01:01,  3.10it/s]",
          "output_type": "stream"
        },
        {
          "name": "stdout",
          "text": "epoch: 810, loss:0.00019050000258229847\n",
          "output_type": "stream"
        },
        {
          "name": "stderr",
          "text": " 81%|████████  | 812/1000 [04:27<01:00,  3.12it/s]",
          "output_type": "stream"
        },
        {
          "name": "stdout",
          "text": "epoch: 811, loss:0.00018861377647449095\n",
          "output_type": "stream"
        },
        {
          "name": "stderr",
          "text": " 81%|████████▏ | 813/1000 [04:28<01:00,  3.08it/s]",
          "output_type": "stream"
        },
        {
          "name": "stdout",
          "text": "epoch: 812, loss:0.00019380287570933396\n",
          "output_type": "stream"
        },
        {
          "name": "stderr",
          "text": " 81%|████████▏ | 814/1000 [04:28<01:00,  3.06it/s]",
          "output_type": "stream"
        },
        {
          "name": "stdout",
          "text": "epoch: 813, loss:0.0001923943095255784\n",
          "output_type": "stream"
        },
        {
          "name": "stderr",
          "text": " 82%|████████▏ | 815/1000 [04:28<00:59,  3.09it/s]",
          "output_type": "stream"
        },
        {
          "name": "stdout",
          "text": "epoch: 814, loss:0.00019140972994301136\n",
          "output_type": "stream"
        },
        {
          "name": "stderr",
          "text": " 82%|████████▏ | 816/1000 [04:29<00:59,  3.10it/s]",
          "output_type": "stream"
        },
        {
          "name": "stdout",
          "text": "epoch: 815, loss:0.0001899634574020638\n",
          "output_type": "stream"
        },
        {
          "name": "stderr",
          "text": " 82%|████████▏ | 817/1000 [04:29<00:59,  3.10it/s]",
          "output_type": "stream"
        },
        {
          "name": "stdout",
          "text": "epoch: 816, loss:0.00018979459389256413\n",
          "output_type": "stream"
        },
        {
          "name": "stderr",
          "text": " 82%|████████▏ | 818/1000 [04:29<00:58,  3.11it/s]",
          "output_type": "stream"
        },
        {
          "name": "stdout",
          "text": "epoch: 817, loss:0.00018853289806114402\n",
          "output_type": "stream"
        },
        {
          "name": "stderr",
          "text": " 82%|████████▏ | 819/1000 [04:30<00:58,  3.10it/s]",
          "output_type": "stream"
        },
        {
          "name": "stdout",
          "text": "epoch: 818, loss:0.00018759351009728752\n",
          "output_type": "stream"
        },
        {
          "name": "stderr",
          "text": " 82%|████████▏ | 820/1000 [04:30<00:57,  3.12it/s]",
          "output_type": "stream"
        },
        {
          "name": "stdout",
          "text": "epoch: 819, loss:0.00018729556311224008\n",
          "output_type": "stream"
        },
        {
          "name": "stderr",
          "text": " 82%|████████▏ | 821/1000 [04:30<00:56,  3.14it/s]",
          "output_type": "stream"
        },
        {
          "name": "stdout",
          "text": "epoch: 820, loss:0.00018770286203349627\n",
          "output_type": "stream"
        },
        {
          "name": "stderr",
          "text": " 82%|████████▏ | 822/1000 [04:30<00:56,  3.14it/s]",
          "output_type": "stream"
        },
        {
          "name": "stdout",
          "text": "epoch: 821, loss:0.0001865825558861059\n",
          "output_type": "stream"
        },
        {
          "name": "stderr",
          "text": " 82%|████████▏ | 823/1000 [04:31<00:56,  3.15it/s]",
          "output_type": "stream"
        },
        {
          "name": "stdout",
          "text": "epoch: 822, loss:0.00018741606278900578\n",
          "output_type": "stream"
        },
        {
          "name": "stderr",
          "text": " 82%|████████▏ | 824/1000 [04:31<00:55,  3.17it/s]",
          "output_type": "stream"
        },
        {
          "name": "stdout",
          "text": "epoch: 823, loss:0.0001855946010061432\n",
          "output_type": "stream"
        },
        {
          "name": "stderr",
          "text": " 82%|████████▎ | 825/1000 [04:31<00:56,  3.12it/s]",
          "output_type": "stream"
        },
        {
          "name": "stdout",
          "text": "epoch: 824, loss:0.00018651222088731203\n",
          "output_type": "stream"
        },
        {
          "name": "stderr",
          "text": " 83%|████████▎ | 826/1000 [04:32<00:55,  3.12it/s]",
          "output_type": "stream"
        },
        {
          "name": "stdout",
          "text": "epoch: 825, loss:0.00018573389623146097\n",
          "output_type": "stream"
        },
        {
          "name": "stderr",
          "text": " 83%|████████▎ | 827/1000 [04:32<00:55,  3.13it/s]",
          "output_type": "stream"
        },
        {
          "name": "stdout",
          "text": "epoch: 826, loss:0.00018675682617214805\n",
          "output_type": "stream"
        },
        {
          "name": "stderr",
          "text": " 83%|████████▎ | 828/1000 [04:32<00:55,  3.12it/s]",
          "output_type": "stream"
        },
        {
          "name": "stdout",
          "text": "epoch: 827, loss:0.00018652350123460717\n",
          "output_type": "stream"
        },
        {
          "name": "stderr",
          "text": " 83%|████████▎ | 829/1000 [04:33<00:55,  3.06it/s]",
          "output_type": "stream"
        },
        {
          "name": "stdout",
          "text": "epoch: 828, loss:0.00018605772237179655\n",
          "output_type": "stream"
        },
        {
          "name": "stderr",
          "text": " 83%|████████▎ | 830/1000 [04:33<00:55,  3.08it/s]",
          "output_type": "stream"
        },
        {
          "name": "stdout",
          "text": "epoch: 829, loss:0.00018537515913795712\n",
          "output_type": "stream"
        },
        {
          "name": "stderr",
          "text": " 83%|████████▎ | 831/1000 [04:33<00:55,  3.04it/s]",
          "output_type": "stream"
        },
        {
          "name": "stdout",
          "text": "epoch: 830, loss:0.00019096023817428547\n",
          "output_type": "stream"
        },
        {
          "name": "stderr",
          "text": " 83%|████████▎ | 832/1000 [04:34<00:55,  3.03it/s]",
          "output_type": "stream"
        },
        {
          "name": "stdout",
          "text": "epoch: 831, loss:0.0001914638269568754\n",
          "output_type": "stream"
        },
        {
          "name": "stderr",
          "text": " 83%|████████▎ | 833/1000 [04:34<00:55,  3.02it/s]",
          "output_type": "stream"
        },
        {
          "name": "stdout",
          "text": "epoch: 832, loss:0.00018566337081343294\n",
          "output_type": "stream"
        },
        {
          "name": "stderr",
          "text": " 83%|████████▎ | 834/1000 [04:34<00:54,  3.03it/s]",
          "output_type": "stream"
        },
        {
          "name": "stdout",
          "text": "epoch: 833, loss:0.00018412516412886554\n",
          "output_type": "stream"
        },
        {
          "name": "stderr",
          "text": " 84%|████████▎ | 835/1000 [04:35<00:54,  3.05it/s]",
          "output_type": "stream"
        },
        {
          "name": "stdout",
          "text": "epoch: 834, loss:0.00020142183962546336\n",
          "output_type": "stream"
        },
        {
          "name": "stderr",
          "text": " 84%|████████▎ | 836/1000 [04:35<00:53,  3.09it/s]",
          "output_type": "stream"
        },
        {
          "name": "stdout",
          "text": "epoch: 835, loss:0.00019214454292337495\n",
          "output_type": "stream"
        },
        {
          "name": "stderr",
          "text": " 84%|████████▎ | 837/1000 [04:35<00:52,  3.11it/s]",
          "output_type": "stream"
        },
        {
          "name": "stdout",
          "text": "epoch: 836, loss:0.00019422356345458056\n",
          "output_type": "stream"
        },
        {
          "name": "stderr",
          "text": " 84%|████████▍ | 838/1000 [04:36<00:52,  3.08it/s]",
          "output_type": "stream"
        },
        {
          "name": "stdout",
          "text": "epoch: 837, loss:0.00019042539770699977\n",
          "output_type": "stream"
        },
        {
          "name": "stderr",
          "text": " 84%|████████▍ | 839/1000 [04:36<00:51,  3.10it/s]",
          "output_type": "stream"
        },
        {
          "name": "stdout",
          "text": "epoch: 838, loss:0.00019045610886743003\n",
          "output_type": "stream"
        },
        {
          "name": "stderr",
          "text": " 84%|████████▍ | 840/1000 [04:36<00:51,  3.13it/s]",
          "output_type": "stream"
        },
        {
          "name": "stdout",
          "text": "epoch: 839, loss:0.00019573521296521227\n",
          "output_type": "stream"
        },
        {
          "name": "stderr",
          "text": " 84%|████████▍ | 841/1000 [04:37<00:51,  3.11it/s]",
          "output_type": "stream"
        },
        {
          "name": "stdout",
          "text": "epoch: 840, loss:0.00018792694893189892\n",
          "output_type": "stream"
        },
        {
          "name": "stderr",
          "text": " 84%|████████▍ | 842/1000 [04:37<00:50,  3.14it/s]",
          "output_type": "stream"
        },
        {
          "name": "stdout",
          "text": "epoch: 841, loss:0.0001871611655570224\n",
          "output_type": "stream"
        },
        {
          "name": "stderr",
          "text": " 84%|████████▍ | 843/1000 [04:37<00:49,  3.16it/s]",
          "output_type": "stream"
        },
        {
          "name": "stdout",
          "text": "epoch: 842, loss:0.00018889051443200442\n",
          "output_type": "stream"
        },
        {
          "name": "stderr",
          "text": " 84%|████████▍ | 844/1000 [04:38<00:49,  3.13it/s]",
          "output_type": "stream"
        },
        {
          "name": "stdout",
          "text": "epoch: 843, loss:0.00018802968024846746\n",
          "output_type": "stream"
        },
        {
          "name": "stderr",
          "text": " 84%|████████▍ | 845/1000 [04:38<00:50,  3.05it/s]",
          "output_type": "stream"
        },
        {
          "name": "stdout",
          "text": "epoch: 844, loss:0.0001885619254691878\n",
          "output_type": "stream"
        },
        {
          "name": "stderr",
          "text": " 85%|████████▍ | 846/1000 [04:38<00:51,  3.02it/s]",
          "output_type": "stream"
        },
        {
          "name": "stdout",
          "text": "epoch: 845, loss:0.00018743310862401186\n",
          "output_type": "stream"
        },
        {
          "name": "stderr",
          "text": " 85%|████████▍ | 847/1000 [04:39<00:50,  3.04it/s]",
          "output_type": "stream"
        },
        {
          "name": "stdout",
          "text": "epoch: 846, loss:0.00018726099033596197\n",
          "output_type": "stream"
        },
        {
          "name": "stderr",
          "text": " 85%|████████▍ | 848/1000 [04:39<00:49,  3.06it/s]",
          "output_type": "stream"
        },
        {
          "name": "stdout",
          "text": "epoch: 847, loss:0.00018720898293017973\n",
          "output_type": "stream"
        },
        {
          "name": "stderr",
          "text": " 85%|████████▍ | 849/1000 [04:39<00:48,  3.09it/s]",
          "output_type": "stream"
        },
        {
          "name": "stdout",
          "text": "epoch: 848, loss:0.00018798129674084383\n",
          "output_type": "stream"
        },
        {
          "name": "stderr",
          "text": " 85%|████████▌ | 850/1000 [04:40<00:48,  3.09it/s]",
          "output_type": "stream"
        },
        {
          "name": "stdout",
          "text": "epoch: 849, loss:0.00018671329031347584\n",
          "output_type": "stream"
        },
        {
          "name": "stderr",
          "text": " 85%|████████▌ | 851/1000 [04:40<00:48,  3.10it/s]",
          "output_type": "stream"
        },
        {
          "name": "stdout",
          "text": "epoch: 850, loss:0.00018933902031683397\n",
          "output_type": "stream"
        },
        {
          "name": "stderr",
          "text": " 85%|████████▌ | 852/1000 [04:40<00:47,  3.13it/s]",
          "output_type": "stream"
        },
        {
          "name": "stdout",
          "text": "epoch: 851, loss:0.00018784835607496013\n",
          "output_type": "stream"
        },
        {
          "name": "stderr",
          "text": " 85%|████████▌ | 853/1000 [04:41<00:47,  3.11it/s]",
          "output_type": "stream"
        },
        {
          "name": "stdout",
          "text": "epoch: 852, loss:0.00018820541634855363\n",
          "output_type": "stream"
        },
        {
          "name": "stderr",
          "text": " 85%|████████▌ | 854/1000 [04:41<00:47,  3.10it/s]",
          "output_type": "stream"
        },
        {
          "name": "stdout",
          "text": "epoch: 853, loss:0.00018736290139191751\n",
          "output_type": "stream"
        },
        {
          "name": "stderr",
          "text": " 86%|████████▌ | 855/1000 [04:41<00:47,  3.06it/s]",
          "output_type": "stream"
        },
        {
          "name": "stdout",
          "text": "epoch: 854, loss:0.0001866180416237235\n",
          "output_type": "stream"
        },
        {
          "name": "stderr",
          "text": " 86%|████████▌ | 856/1000 [04:42<00:47,  3.05it/s]",
          "output_type": "stream"
        },
        {
          "name": "stdout",
          "text": "epoch: 855, loss:0.00018630432541054062\n",
          "output_type": "stream"
        },
        {
          "name": "stderr",
          "text": " 86%|████████▌ | 857/1000 [04:42<00:46,  3.07it/s]",
          "output_type": "stream"
        },
        {
          "name": "stdout",
          "text": "epoch: 856, loss:0.00018524406870359277\n",
          "output_type": "stream"
        },
        {
          "name": "stderr",
          "text": " 86%|████████▌ | 858/1000 [04:42<00:45,  3.11it/s]",
          "output_type": "stream"
        },
        {
          "name": "stdout",
          "text": "epoch: 857, loss:0.00018700081095087987\n",
          "output_type": "stream"
        },
        {
          "name": "stderr",
          "text": " 86%|████████▌ | 859/1000 [04:42<00:45,  3.13it/s]",
          "output_type": "stream"
        },
        {
          "name": "stdout",
          "text": "epoch: 858, loss:0.00018596626666612264\n",
          "output_type": "stream"
        },
        {
          "name": "stderr",
          "text": " 86%|████████▌ | 860/1000 [04:43<00:44,  3.14it/s]",
          "output_type": "stream"
        },
        {
          "name": "stdout",
          "text": "epoch: 859, loss:0.00018606329814600242\n",
          "output_type": "stream"
        },
        {
          "name": "stderr",
          "text": " 86%|████████▌ | 861/1000 [04:43<00:44,  3.15it/s]",
          "output_type": "stream"
        },
        {
          "name": "stdout",
          "text": "epoch: 860, loss:0.00018577057621464653\n",
          "output_type": "stream"
        },
        {
          "name": "stderr",
          "text": " 86%|████████▌ | 862/1000 [04:43<00:43,  3.15it/s]",
          "output_type": "stream"
        },
        {
          "name": "stdout",
          "text": "epoch: 861, loss:0.0001870494625363931\n",
          "output_type": "stream"
        },
        {
          "name": "stderr",
          "text": " 86%|████████▋ | 863/1000 [04:44<00:43,  3.15it/s]",
          "output_type": "stream"
        },
        {
          "name": "stdout",
          "text": "epoch: 862, loss:0.00018544203233045693\n",
          "output_type": "stream"
        },
        {
          "name": "stderr",
          "text": " 86%|████████▋ | 864/1000 [04:44<00:43,  3.13it/s]",
          "output_type": "stream"
        },
        {
          "name": "stdout",
          "text": "epoch: 863, loss:0.00018893309100474678\n",
          "output_type": "stream"
        },
        {
          "name": "stderr",
          "text": " 86%|████████▋ | 865/1000 [04:44<00:44,  3.01it/s]",
          "output_type": "stream"
        },
        {
          "name": "stdout",
          "text": "epoch: 864, loss:0.00019116325592085978\n",
          "output_type": "stream"
        },
        {
          "name": "stderr",
          "text": " 87%|████████▋ | 866/1000 [04:45<00:45,  2.97it/s]",
          "output_type": "stream"
        },
        {
          "name": "stdout",
          "text": "epoch: 865, loss:0.0001877359060326132\n",
          "output_type": "stream"
        },
        {
          "name": "stderr",
          "text": " 87%|████████▋ | 867/1000 [04:45<00:45,  2.93it/s]",
          "output_type": "stream"
        },
        {
          "name": "stdout",
          "text": "epoch: 866, loss:0.00018722779012389967\n",
          "output_type": "stream"
        },
        {
          "name": "stderr",
          "text": " 87%|████████▋ | 868/1000 [04:45<00:45,  2.90it/s]",
          "output_type": "stream"
        },
        {
          "name": "stdout",
          "text": "epoch: 867, loss:0.0001858686624549864\n",
          "output_type": "stream"
        },
        {
          "name": "stderr",
          "text": " 87%|████████▋ | 869/1000 [04:46<00:44,  2.94it/s]",
          "output_type": "stream"
        },
        {
          "name": "stdout",
          "text": "epoch: 868, loss:0.00018501491009400867\n",
          "output_type": "stream"
        },
        {
          "name": "stderr",
          "text": " 87%|████████▋ | 870/1000 [04:46<00:43,  2.98it/s]",
          "output_type": "stream"
        },
        {
          "name": "stdout",
          "text": "epoch: 869, loss:0.00020043080517384137\n",
          "output_type": "stream"
        },
        {
          "name": "stderr",
          "text": " 87%|████████▋ | 871/1000 [04:46<00:42,  3.01it/s]",
          "output_type": "stream"
        },
        {
          "name": "stdout",
          "text": "epoch: 870, loss:0.0001979384757344947\n",
          "output_type": "stream"
        },
        {
          "name": "stderr",
          "text": " 87%|████████▋ | 872/1000 [04:47<00:42,  2.99it/s]",
          "output_type": "stream"
        },
        {
          "name": "stdout",
          "text": "epoch: 871, loss:0.00018933907840803325\n",
          "output_type": "stream"
        },
        {
          "name": "stderr",
          "text": " 87%|████████▋ | 873/1000 [04:47<00:41,  3.03it/s]",
          "output_type": "stream"
        },
        {
          "name": "stdout",
          "text": "epoch: 872, loss:0.0001872045886317911\n",
          "output_type": "stream"
        },
        {
          "name": "stderr",
          "text": " 87%|████████▋ | 874/1000 [04:47<00:41,  3.05it/s]",
          "output_type": "stream"
        },
        {
          "name": "stdout",
          "text": "epoch: 873, loss:0.00018548717284337071\n",
          "output_type": "stream"
        },
        {
          "name": "stderr",
          "text": " 88%|████████▊ | 875/1000 [04:48<00:42,  2.96it/s]",
          "output_type": "stream"
        },
        {
          "name": "stdout",
          "text": "epoch: 874, loss:0.00018582650403670858\n",
          "output_type": "stream"
        },
        {
          "name": "stderr",
          "text": " 88%|████████▊ | 876/1000 [04:48<00:41,  3.01it/s]",
          "output_type": "stream"
        },
        {
          "name": "stdout",
          "text": "epoch: 875, loss:0.00018721643348681267\n",
          "output_type": "stream"
        },
        {
          "name": "stderr",
          "text": " 88%|████████▊ | 877/1000 [04:48<00:40,  3.03it/s]",
          "output_type": "stream"
        },
        {
          "name": "stdout",
          "text": "epoch: 876, loss:0.00018550239503873064\n",
          "output_type": "stream"
        },
        {
          "name": "stderr",
          "text": " 88%|████████▊ | 878/1000 [04:49<00:39,  3.05it/s]",
          "output_type": "stream"
        },
        {
          "name": "stdout",
          "text": "epoch: 877, loss:0.00018572358614929292\n",
          "output_type": "stream"
        },
        {
          "name": "stderr",
          "text": " 88%|████████▊ | 879/1000 [04:49<00:39,  3.07it/s]",
          "output_type": "stream"
        },
        {
          "name": "stdout",
          "text": "epoch: 878, loss:0.0001861640140256497\n",
          "output_type": "stream"
        },
        {
          "name": "stderr",
          "text": " 88%|████████▊ | 880/1000 [04:49<00:38,  3.09it/s]",
          "output_type": "stream"
        },
        {
          "name": "stdout",
          "text": "epoch: 879, loss:0.0001856945872031229\n",
          "output_type": "stream"
        },
        {
          "name": "stderr",
          "text": " 88%|████████▊ | 881/1000 [04:50<00:39,  3.05it/s]",
          "output_type": "stream"
        },
        {
          "name": "stdout",
          "text": "epoch: 880, loss:0.00018469734993470553\n",
          "output_type": "stream"
        },
        {
          "name": "stderr",
          "text": " 88%|████████▊ | 882/1000 [04:50<00:39,  2.99it/s]",
          "output_type": "stream"
        },
        {
          "name": "stdout",
          "text": "epoch: 881, loss:0.00019074443243769813\n",
          "output_type": "stream"
        },
        {
          "name": "stderr",
          "text": " 88%|████████▊ | 883/1000 [04:50<00:39,  2.97it/s]",
          "output_type": "stream"
        },
        {
          "name": "stdout",
          "text": "epoch: 882, loss:0.00018682881787205398\n",
          "output_type": "stream"
        },
        {
          "name": "stderr",
          "text": " 88%|████████▊ | 884/1000 [04:51<00:38,  3.00it/s]",
          "output_type": "stream"
        },
        {
          "name": "stdout",
          "text": "epoch: 883, loss:0.0001861930342595064\n",
          "output_type": "stream"
        },
        {
          "name": "stderr",
          "text": " 88%|████████▊ | 885/1000 [04:51<00:38,  3.02it/s]",
          "output_type": "stream"
        },
        {
          "name": "stdout",
          "text": "epoch: 884, loss:0.00018571631121225897\n",
          "output_type": "stream"
        },
        {
          "name": "stderr",
          "text": " 89%|████████▊ | 886/1000 [04:51<00:37,  3.03it/s]",
          "output_type": "stream"
        },
        {
          "name": "stdout",
          "text": "epoch: 885, loss:0.00018483735973466857\n",
          "output_type": "stream"
        },
        {
          "name": "stderr",
          "text": " 89%|████████▊ | 887/1000 [04:52<00:37,  3.05it/s]",
          "output_type": "stream"
        },
        {
          "name": "stdout",
          "text": "epoch: 886, loss:0.00018425758802321699\n",
          "output_type": "stream"
        },
        {
          "name": "stderr",
          "text": " 89%|████████▉ | 888/1000 [04:52<00:36,  3.07it/s]",
          "output_type": "stream"
        },
        {
          "name": "stdout",
          "text": "epoch: 887, loss:0.00018671152131325653\n",
          "output_type": "stream"
        },
        {
          "name": "stderr",
          "text": " 89%|████████▉ | 889/1000 [04:52<00:36,  3.08it/s]",
          "output_type": "stream"
        },
        {
          "name": "stdout",
          "text": "epoch: 888, loss:0.0001874309268320229\n",
          "output_type": "stream"
        },
        {
          "name": "stderr",
          "text": " 89%|████████▉ | 890/1000 [04:53<00:35,  3.07it/s]",
          "output_type": "stream"
        },
        {
          "name": "stdout",
          "text": "epoch: 889, loss:0.00018718497866737686\n",
          "output_type": "stream"
        },
        {
          "name": "stderr",
          "text": " 89%|████████▉ | 891/1000 [04:53<00:35,  3.04it/s]",
          "output_type": "stream"
        },
        {
          "name": "stdout",
          "text": "epoch: 890, loss:0.00018534852607022734\n",
          "output_type": "stream"
        },
        {
          "name": "stderr",
          "text": " 89%|████████▉ | 892/1000 [04:53<00:35,  3.01it/s]",
          "output_type": "stream"
        },
        {
          "name": "stdout",
          "text": "epoch: 891, loss:0.00018797828888816122\n",
          "output_type": "stream"
        },
        {
          "name": "stderr",
          "text": " 89%|████████▉ | 893/1000 [04:54<00:35,  3.02it/s]",
          "output_type": "stream"
        },
        {
          "name": "stdout",
          "text": "epoch: 892, loss:0.0001841211071512654\n",
          "output_type": "stream"
        },
        {
          "name": "stderr",
          "text": " 89%|████████▉ | 894/1000 [04:54<00:34,  3.05it/s]",
          "output_type": "stream"
        },
        {
          "name": "stdout",
          "text": "epoch: 893, loss:0.00018423039793530105\n",
          "output_type": "stream"
        },
        {
          "name": "stderr",
          "text": " 90%|████████▉ | 895/1000 [04:54<00:34,  3.08it/s]",
          "output_type": "stream"
        },
        {
          "name": "stdout",
          "text": "epoch: 894, loss:0.00018751783823515563\n",
          "output_type": "stream"
        },
        {
          "name": "stderr",
          "text": " 90%|████████▉ | 896/1000 [04:55<00:34,  3.05it/s]",
          "output_type": "stream"
        },
        {
          "name": "stdout",
          "text": "epoch: 895, loss:0.0001848084028527601\n",
          "output_type": "stream"
        },
        {
          "name": "stderr",
          "text": " 90%|████████▉ | 897/1000 [04:55<00:33,  3.03it/s]",
          "output_type": "stream"
        },
        {
          "name": "stdout",
          "text": "epoch: 896, loss:0.0001867364098498373\n",
          "output_type": "stream"
        },
        {
          "name": "stderr",
          "text": " 90%|████████▉ | 898/1000 [04:55<00:33,  3.04it/s]",
          "output_type": "stream"
        },
        {
          "name": "stdout",
          "text": "epoch: 897, loss:0.00018530305782752217\n",
          "output_type": "stream"
        },
        {
          "name": "stderr",
          "text": " 90%|████████▉ | 899/1000 [04:56<00:33,  3.03it/s]",
          "output_type": "stream"
        },
        {
          "name": "stdout",
          "text": "epoch: 898, loss:0.00018426740487591052\n",
          "output_type": "stream"
        },
        {
          "name": "stderr",
          "text": " 90%|█████████ | 900/1000 [04:56<00:33,  3.01it/s]",
          "output_type": "stream"
        },
        {
          "name": "stdout",
          "text": "epoch: 899, loss:0.0001838717095040298\n",
          "output_type": "stream"
        },
        {
          "name": "stderr",
          "text": " 90%|█████████ | 901/1000 [04:56<00:32,  3.02it/s]",
          "output_type": "stream"
        },
        {
          "name": "stdout",
          "text": "epoch: 900, loss:0.00018282551963929745\n",
          "output_type": "stream"
        },
        {
          "name": "stderr",
          "text": " 90%|█████████ | 902/1000 [04:57<00:32,  3.05it/s]",
          "output_type": "stream"
        },
        {
          "name": "stdout",
          "text": "epoch: 901, loss:0.00018382544987395773\n",
          "output_type": "stream"
        },
        {
          "name": "stderr",
          "text": " 90%|█████████ | 903/1000 [04:57<00:31,  3.03it/s]",
          "output_type": "stream"
        },
        {
          "name": "stdout",
          "text": "epoch: 902, loss:0.00018579535670201286\n",
          "output_type": "stream"
        },
        {
          "name": "stderr",
          "text": " 90%|█████████ | 904/1000 [04:57<00:31,  3.05it/s]",
          "output_type": "stream"
        },
        {
          "name": "stdout",
          "text": "epoch: 903, loss:0.00018551946665563065\n",
          "output_type": "stream"
        },
        {
          "name": "stderr",
          "text": " 90%|█████████ | 905/1000 [04:58<00:31,  3.01it/s]",
          "output_type": "stream"
        },
        {
          "name": "stdout",
          "text": "epoch: 904, loss:0.00018341884149249518\n",
          "output_type": "stream"
        },
        {
          "name": "stderr",
          "text": " 91%|█████████ | 906/1000 [04:58<00:31,  3.03it/s]",
          "output_type": "stream"
        },
        {
          "name": "stdout",
          "text": "epoch: 905, loss:0.00018275949325691\n",
          "output_type": "stream"
        },
        {
          "name": "stderr",
          "text": " 91%|█████████ | 907/1000 [04:58<00:30,  3.06it/s]",
          "output_type": "stream"
        },
        {
          "name": "stdout",
          "text": "epoch: 906, loss:0.00018239954204283566\n",
          "output_type": "stream"
        },
        {
          "name": "stderr",
          "text": " 91%|█████████ | 908/1000 [04:59<00:30,  3.03it/s]",
          "output_type": "stream"
        },
        {
          "name": "stdout",
          "text": "epoch: 907, loss:0.0001818800506851243\n",
          "output_type": "stream"
        },
        {
          "name": "stderr",
          "text": " 91%|█████████ | 909/1000 [04:59<00:30,  3.02it/s]",
          "output_type": "stream"
        },
        {
          "name": "stdout",
          "text": "epoch: 908, loss:0.00018314355335216395\n",
          "output_type": "stream"
        },
        {
          "name": "stderr",
          "text": " 91%|█████████ | 910/1000 [04:59<00:29,  3.05it/s]",
          "output_type": "stream"
        },
        {
          "name": "stdout",
          "text": "epoch: 909, loss:0.00018239915999177138\n",
          "output_type": "stream"
        },
        {
          "name": "stderr",
          "text": " 91%|█████████ | 911/1000 [05:00<00:28,  3.08it/s]",
          "output_type": "stream"
        },
        {
          "name": "stdout",
          "text": "epoch: 910, loss:0.00018466253774608232\n",
          "output_type": "stream"
        },
        {
          "name": "stderr",
          "text": " 91%|█████████ | 912/1000 [05:00<00:28,  3.09it/s]",
          "output_type": "stream"
        },
        {
          "name": "stdout",
          "text": "epoch: 911, loss:0.00018306608915396534\n",
          "output_type": "stream"
        },
        {
          "name": "stderr",
          "text": " 91%|█████████▏| 913/1000 [05:00<00:27,  3.11it/s]",
          "output_type": "stream"
        },
        {
          "name": "stdout",
          "text": "epoch: 912, loss:0.00018213775641873716\n",
          "output_type": "stream"
        },
        {
          "name": "stderr",
          "text": " 91%|█████████▏| 914/1000 [05:01<00:27,  3.11it/s]",
          "output_type": "stream"
        },
        {
          "name": "stdout",
          "text": "epoch: 913, loss:0.0001826452135752068\n",
          "output_type": "stream"
        },
        {
          "name": "stderr",
          "text": " 92%|█████████▏| 915/1000 [05:01<00:27,  3.12it/s]",
          "output_type": "stream"
        },
        {
          "name": "stdout",
          "text": "epoch: 914, loss:0.00018575623739842855\n",
          "output_type": "stream"
        },
        {
          "name": "stderr",
          "text": " 92%|█████████▏| 916/1000 [05:01<00:26,  3.12it/s]",
          "output_type": "stream"
        },
        {
          "name": "stdout",
          "text": "epoch: 915, loss:0.0001837507052018427\n",
          "output_type": "stream"
        },
        {
          "name": "stderr",
          "text": " 92%|█████████▏| 917/1000 [05:02<00:26,  3.11it/s]",
          "output_type": "stream"
        },
        {
          "name": "stdout",
          "text": "epoch: 916, loss:0.00020190142537044573\n",
          "output_type": "stream"
        },
        {
          "name": "stderr",
          "text": " 92%|█████████▏| 918/1000 [05:02<00:26,  3.12it/s]",
          "output_type": "stream"
        },
        {
          "name": "stdout",
          "text": "epoch: 917, loss:0.0001902724643573097\n",
          "output_type": "stream"
        },
        {
          "name": "stderr",
          "text": " 92%|█████████▏| 919/1000 [05:02<00:25,  3.13it/s]",
          "output_type": "stream"
        },
        {
          "name": "stdout",
          "text": "epoch: 918, loss:0.0001866227854981598\n",
          "output_type": "stream"
        },
        {
          "name": "stderr",
          "text": " 92%|█████████▏| 920/1000 [05:02<00:25,  3.12it/s]",
          "output_type": "stream"
        },
        {
          "name": "stdout",
          "text": "epoch: 919, loss:0.00018662099944555805\n",
          "output_type": "stream"
        },
        {
          "name": "stderr",
          "text": " 92%|█████████▏| 921/1000 [05:03<00:25,  3.11it/s]",
          "output_type": "stream"
        },
        {
          "name": "stdout",
          "text": "epoch: 920, loss:0.00018503565116654064\n",
          "output_type": "stream"
        },
        {
          "name": "stderr",
          "text": " 92%|█████████▏| 922/1000 [05:03<00:25,  3.11it/s]",
          "output_type": "stream"
        },
        {
          "name": "stdout",
          "text": "epoch: 921, loss:0.00018417741170813142\n",
          "output_type": "stream"
        },
        {
          "name": "stderr",
          "text": " 92%|█████████▏| 923/1000 [05:03<00:24,  3.12it/s]",
          "output_type": "stream"
        },
        {
          "name": "stdout",
          "text": "epoch: 922, loss:0.00018647830440458773\n",
          "output_type": "stream"
        },
        {
          "name": "stderr",
          "text": " 92%|█████████▏| 924/1000 [05:04<00:24,  3.09it/s]",
          "output_type": "stream"
        },
        {
          "name": "stdout",
          "text": "epoch: 923, loss:0.0001865313470300404\n",
          "output_type": "stream"
        },
        {
          "name": "stderr",
          "text": " 92%|█████████▎| 925/1000 [05:04<00:24,  3.11it/s]",
          "output_type": "stream"
        },
        {
          "name": "stdout",
          "text": "epoch: 924, loss:0.0001850857175273267\n",
          "output_type": "stream"
        },
        {
          "name": "stderr",
          "text": " 93%|█████████▎| 926/1000 [05:04<00:23,  3.12it/s]",
          "output_type": "stream"
        },
        {
          "name": "stdout",
          "text": "epoch: 925, loss:0.00018793284711531017\n",
          "output_type": "stream"
        },
        {
          "name": "stderr",
          "text": " 93%|█████████▎| 927/1000 [05:05<00:23,  3.10it/s]",
          "output_type": "stream"
        },
        {
          "name": "stdout",
          "text": "epoch: 926, loss:0.00018672611025866688\n",
          "output_type": "stream"
        },
        {
          "name": "stderr",
          "text": " 93%|█████████▎| 928/1000 [05:05<00:23,  3.11it/s]",
          "output_type": "stream"
        },
        {
          "name": "stdout",
          "text": "epoch: 927, loss:0.0001845906777921789\n",
          "output_type": "stream"
        },
        {
          "name": "stderr",
          "text": " 93%|█████████▎| 929/1000 [05:05<00:22,  3.12it/s]",
          "output_type": "stream"
        },
        {
          "name": "stdout",
          "text": "epoch: 928, loss:0.00018349403764405213\n",
          "output_type": "stream"
        },
        {
          "name": "stderr",
          "text": " 93%|█████████▎| 930/1000 [05:06<00:22,  3.12it/s]",
          "output_type": "stream"
        },
        {
          "name": "stdout",
          "text": "epoch: 929, loss:0.0001843518127186049\n",
          "output_type": "stream"
        },
        {
          "name": "stderr",
          "text": " 93%|█████████▎| 931/1000 [05:06<00:22,  3.10it/s]",
          "output_type": "stream"
        },
        {
          "name": "stdout",
          "text": "epoch: 930, loss:0.00018288718690260633\n",
          "output_type": "stream"
        },
        {
          "name": "stderr",
          "text": " 93%|█████████▎| 932/1000 [05:06<00:21,  3.09it/s]",
          "output_type": "stream"
        },
        {
          "name": "stdout",
          "text": "epoch: 931, loss:0.00018318479281010262\n",
          "output_type": "stream"
        },
        {
          "name": "stderr",
          "text": " 93%|█████████▎| 933/1000 [05:07<00:21,  3.10it/s]",
          "output_type": "stream"
        },
        {
          "name": "stdout",
          "text": "epoch: 932, loss:0.00018545268580733053\n",
          "output_type": "stream"
        },
        {
          "name": "stderr",
          "text": " 93%|█████████▎| 934/1000 [05:07<00:21,  3.11it/s]",
          "output_type": "stream"
        },
        {
          "name": "stdout",
          "text": "epoch: 933, loss:0.00018826975653744166\n",
          "output_type": "stream"
        },
        {
          "name": "stderr",
          "text": " 94%|█████████▎| 935/1000 [05:07<00:20,  3.11it/s]",
          "output_type": "stream"
        },
        {
          "name": "stdout",
          "text": "epoch: 934, loss:0.0001885224371289018\n",
          "output_type": "stream"
        },
        {
          "name": "stderr",
          "text": " 94%|█████████▎| 936/1000 [05:08<00:20,  3.07it/s]",
          "output_type": "stream"
        },
        {
          "name": "stdout",
          "text": "epoch: 935, loss:0.0001866533942749426\n",
          "output_type": "stream"
        },
        {
          "name": "stderr",
          "text": " 94%|█████████▎| 937/1000 [05:08<00:20,  3.01it/s]",
          "output_type": "stream"
        },
        {
          "name": "stdout",
          "text": "epoch: 936, loss:0.00018558578547331938\n",
          "output_type": "stream"
        },
        {
          "name": "stderr",
          "text": " 94%|█████████▍| 938/1000 [05:08<00:20,  3.00it/s]",
          "output_type": "stream"
        },
        {
          "name": "stdout",
          "text": "epoch: 937, loss:0.0001848499673923158\n",
          "output_type": "stream"
        },
        {
          "name": "stderr",
          "text": " 94%|█████████▍| 939/1000 [05:09<00:20,  2.99it/s]",
          "output_type": "stream"
        },
        {
          "name": "stdout",
          "text": "epoch: 938, loss:0.00018536109577952476\n",
          "output_type": "stream"
        },
        {
          "name": "stderr",
          "text": " 94%|█████████▍| 940/1000 [05:09<00:19,  3.02it/s]",
          "output_type": "stream"
        },
        {
          "name": "stdout",
          "text": "epoch: 939, loss:0.00019213800662403193\n",
          "output_type": "stream"
        },
        {
          "name": "stderr",
          "text": " 94%|█████████▍| 941/1000 [05:09<00:19,  3.05it/s]",
          "output_type": "stream"
        },
        {
          "name": "stdout",
          "text": "epoch: 940, loss:0.00018739977832525972\n",
          "output_type": "stream"
        },
        {
          "name": "stderr",
          "text": " 94%|█████████▍| 942/1000 [05:10<00:19,  3.02it/s]",
          "output_type": "stream"
        },
        {
          "name": "stdout",
          "text": "epoch: 941, loss:0.00018686263376219316\n",
          "output_type": "stream"
        },
        {
          "name": "stderr",
          "text": " 94%|█████████▍| 943/1000 [05:10<00:18,  3.04it/s]",
          "output_type": "stream"
        },
        {
          "name": "stdout",
          "text": "epoch: 942, loss:0.0001858318367857935\n",
          "output_type": "stream"
        },
        {
          "name": "stderr",
          "text": " 94%|█████████▍| 944/1000 [05:10<00:18,  3.07it/s]",
          "output_type": "stream"
        },
        {
          "name": "stdout",
          "text": "epoch: 943, loss:0.0001847970743329689\n",
          "output_type": "stream"
        },
        {
          "name": "stderr",
          "text": " 94%|█████████▍| 945/1000 [05:11<00:17,  3.06it/s]",
          "output_type": "stream"
        },
        {
          "name": "stdout",
          "text": "epoch: 944, loss:0.0001841008482308732\n",
          "output_type": "stream"
        },
        {
          "name": "stderr",
          "text": " 95%|█████████▍| 946/1000 [05:11<00:17,  3.08it/s]",
          "output_type": "stream"
        },
        {
          "name": "stdout",
          "text": "epoch: 945, loss:0.0001835553925199265\n",
          "output_type": "stream"
        },
        {
          "name": "stderr",
          "text": " 95%|█████████▍| 947/1000 [05:11<00:17,  3.11it/s]",
          "output_type": "stream"
        },
        {
          "name": "stdout",
          "text": "epoch: 946, loss:0.0001859636423615936\n",
          "output_type": "stream"
        },
        {
          "name": "stderr",
          "text": " 95%|█████████▍| 948/1000 [05:12<00:16,  3.07it/s]",
          "output_type": "stream"
        },
        {
          "name": "stdout",
          "text": "epoch: 947, loss:0.00018562563975067957\n",
          "output_type": "stream"
        },
        {
          "name": "stderr",
          "text": " 95%|█████████▍| 949/1000 [05:12<00:16,  3.09it/s]",
          "output_type": "stream"
        },
        {
          "name": "stdout",
          "text": "epoch: 948, loss:0.00018450448037699493\n",
          "output_type": "stream"
        },
        {
          "name": "stderr",
          "text": " 95%|█████████▌| 950/1000 [05:12<00:16,  3.11it/s]",
          "output_type": "stream"
        },
        {
          "name": "stdout",
          "text": "epoch: 949, loss:0.00018294102270130174\n",
          "output_type": "stream"
        },
        {
          "name": "stderr",
          "text": " 95%|█████████▌| 951/1000 [05:13<00:15,  3.10it/s]",
          "output_type": "stream"
        },
        {
          "name": "stdout",
          "text": "epoch: 950, loss:0.00018226439944307442\n",
          "output_type": "stream"
        },
        {
          "name": "stderr",
          "text": " 95%|█████████▌| 952/1000 [05:13<00:15,  3.11it/s]",
          "output_type": "stream"
        },
        {
          "name": "stdout",
          "text": "epoch: 951, loss:0.00018397893187468067\n",
          "output_type": "stream"
        },
        {
          "name": "stderr",
          "text": " 95%|█████████▌| 953/1000 [05:13<00:15,  3.12it/s]",
          "output_type": "stream"
        },
        {
          "name": "stdout",
          "text": "epoch: 952, loss:0.00018336342511620862\n",
          "output_type": "stream"
        },
        {
          "name": "stderr",
          "text": " 95%|█████████▌| 954/1000 [05:13<00:14,  3.13it/s]",
          "output_type": "stream"
        },
        {
          "name": "stdout",
          "text": "epoch: 953, loss:0.00018621026693630335\n",
          "output_type": "stream"
        },
        {
          "name": "stderr",
          "text": " 96%|█████████▌| 955/1000 [05:14<00:14,  3.11it/s]",
          "output_type": "stream"
        },
        {
          "name": "stdout",
          "text": "epoch: 954, loss:0.00018393795964788013\n",
          "output_type": "stream"
        },
        {
          "name": "stderr",
          "text": " 96%|█████████▌| 956/1000 [05:14<00:14,  3.08it/s]",
          "output_type": "stream"
        },
        {
          "name": "stdout",
          "text": "epoch: 955, loss:0.0001832672470741375\n",
          "output_type": "stream"
        },
        {
          "name": "stderr",
          "text": " 96%|█████████▌| 957/1000 [05:14<00:14,  3.05it/s]",
          "output_type": "stream"
        },
        {
          "name": "stdout",
          "text": "epoch: 956, loss:0.00018281530808569922\n",
          "output_type": "stream"
        },
        {
          "name": "stderr",
          "text": " 96%|█████████▌| 958/1000 [05:15<00:13,  3.04it/s]",
          "output_type": "stream"
        },
        {
          "name": "stdout",
          "text": "epoch: 957, loss:0.0001826132226327291\n",
          "output_type": "stream"
        },
        {
          "name": "stderr",
          "text": " 96%|█████████▌| 959/1000 [05:15<00:13,  3.01it/s]",
          "output_type": "stream"
        },
        {
          "name": "stdout",
          "text": "epoch: 958, loss:0.0001805036068045126\n",
          "output_type": "stream"
        },
        {
          "name": "stderr",
          "text": " 96%|█████████▌| 960/1000 [05:15<00:13,  3.00it/s]",
          "output_type": "stream"
        },
        {
          "name": "stdout",
          "text": "epoch: 959, loss:0.00018027231681708186\n",
          "output_type": "stream"
        },
        {
          "name": "stderr",
          "text": " 96%|█████████▌| 961/1000 [05:16<00:12,  3.03it/s]",
          "output_type": "stream"
        },
        {
          "name": "stdout",
          "text": "epoch: 960, loss:0.00018211912472626757\n",
          "output_type": "stream"
        },
        {
          "name": "stderr",
          "text": " 96%|█████████▌| 962/1000 [05:16<00:12,  2.95it/s]",
          "output_type": "stream"
        },
        {
          "name": "stdout",
          "text": "epoch: 961, loss:0.00017984572164853204\n",
          "output_type": "stream"
        },
        {
          "name": "stderr",
          "text": " 96%|█████████▋| 963/1000 [05:17<00:12,  2.86it/s]",
          "output_type": "stream"
        },
        {
          "name": "stdout",
          "text": "epoch: 962, loss:0.0001789489122290864\n",
          "output_type": "stream"
        },
        {
          "name": "stderr",
          "text": " 96%|█████████▋| 964/1000 [05:17<00:12,  2.86it/s]",
          "output_type": "stream"
        },
        {
          "name": "stdout",
          "text": "epoch: 963, loss:0.00018948762594371817\n",
          "output_type": "stream"
        },
        {
          "name": "stderr",
          "text": " 96%|█████████▋| 965/1000 [05:17<00:12,  2.88it/s]",
          "output_type": "stream"
        },
        {
          "name": "stdout",
          "text": "epoch: 964, loss:0.00018259872472461397\n",
          "output_type": "stream"
        },
        {
          "name": "stderr",
          "text": " 97%|█████████▋| 966/1000 [05:18<00:11,  2.93it/s]",
          "output_type": "stream"
        },
        {
          "name": "stdout",
          "text": "epoch: 965, loss:0.00019219083111257128\n",
          "output_type": "stream"
        },
        {
          "name": "stderr",
          "text": " 97%|█████████▋| 967/1000 [05:18<00:11,  2.91it/s]",
          "output_type": "stream"
        },
        {
          "name": "stdout",
          "text": "epoch: 966, loss:0.00018519699845539081\n",
          "output_type": "stream"
        },
        {
          "name": "stderr",
          "text": " 97%|█████████▋| 968/1000 [05:18<00:10,  2.97it/s]",
          "output_type": "stream"
        },
        {
          "name": "stdout",
          "text": "epoch: 967, loss:0.0001841462329690266\n",
          "output_type": "stream"
        },
        {
          "name": "stderr",
          "text": " 97%|█████████▋| 969/1000 [05:19<00:10,  2.98it/s]",
          "output_type": "stream"
        },
        {
          "name": "stdout",
          "text": "epoch: 968, loss:0.0001849123165826777\n",
          "output_type": "stream"
        },
        {
          "name": "stderr",
          "text": " 97%|█████████▋| 970/1000 [05:19<00:09,  3.02it/s]",
          "output_type": "stream"
        },
        {
          "name": "stdout",
          "text": "epoch: 969, loss:0.00018266896588310064\n",
          "output_type": "stream"
        },
        {
          "name": "stderr",
          "text": " 97%|█████████▋| 971/1000 [05:19<00:09,  3.04it/s]",
          "output_type": "stream"
        },
        {
          "name": "stdout",
          "text": "epoch: 970, loss:0.0001799074088848871\n",
          "output_type": "stream"
        },
        {
          "name": "stderr",
          "text": " 97%|█████████▋| 972/1000 [05:20<00:09,  3.05it/s]",
          "output_type": "stream"
        },
        {
          "name": "stdout",
          "text": "epoch: 971, loss:0.00018051443796809018\n",
          "output_type": "stream"
        },
        {
          "name": "stderr",
          "text": " 97%|█████████▋| 973/1000 [05:20<00:08,  3.06it/s]",
          "output_type": "stream"
        },
        {
          "name": "stdout",
          "text": "epoch: 972, loss:0.00017914612512501843\n",
          "output_type": "stream"
        },
        {
          "name": "stderr",
          "text": " 97%|█████████▋| 974/1000 [05:20<00:08,  3.05it/s]",
          "output_type": "stream"
        },
        {
          "name": "stdout",
          "text": "epoch: 973, loss:0.0001789580144008577\n",
          "output_type": "stream"
        },
        {
          "name": "stderr",
          "text": " 98%|█████████▊| 975/1000 [05:21<00:08,  3.05it/s]",
          "output_type": "stream"
        },
        {
          "name": "stdout",
          "text": "epoch: 974, loss:0.0001785128951211242\n",
          "output_type": "stream"
        },
        {
          "name": "stderr",
          "text": " 98%|█████████▊| 976/1000 [05:21<00:07,  3.01it/s]",
          "output_type": "stream"
        },
        {
          "name": "stdout",
          "text": "epoch: 975, loss:0.00017860557662944718\n",
          "output_type": "stream"
        },
        {
          "name": "stderr",
          "text": " 98%|█████████▊| 977/1000 [05:21<00:07,  3.01it/s]",
          "output_type": "stream"
        },
        {
          "name": "stdout",
          "text": "epoch: 976, loss:0.00017922277278930622\n",
          "output_type": "stream"
        },
        {
          "name": "stderr",
          "text": " 98%|█████████▊| 978/1000 [05:22<00:07,  2.99it/s]",
          "output_type": "stream"
        },
        {
          "name": "stdout",
          "text": "epoch: 977, loss:0.00017944720694419705\n",
          "output_type": "stream"
        },
        {
          "name": "stderr",
          "text": " 98%|█████████▊| 979/1000 [05:22<00:07,  3.00it/s]",
          "output_type": "stream"
        },
        {
          "name": "stdout",
          "text": "epoch: 978, loss:0.00018284024704685815\n",
          "output_type": "stream"
        },
        {
          "name": "stderr",
          "text": " 98%|█████████▊| 980/1000 [05:22<00:06,  2.99it/s]",
          "output_type": "stream"
        },
        {
          "name": "stdout",
          "text": "epoch: 979, loss:0.00018001330645247806\n",
          "output_type": "stream"
        },
        {
          "name": "stderr",
          "text": " 98%|█████████▊| 981/1000 [05:23<00:06,  3.01it/s]",
          "output_type": "stream"
        },
        {
          "name": "stdout",
          "text": "epoch: 980, loss:0.0001786842673611307\n",
          "output_type": "stream"
        },
        {
          "name": "stderr",
          "text": " 98%|█████████▊| 982/1000 [05:23<00:05,  3.05it/s]",
          "output_type": "stream"
        },
        {
          "name": "stdout",
          "text": "epoch: 981, loss:0.00017887277097486325\n",
          "output_type": "stream"
        },
        {
          "name": "stderr",
          "text": " 98%|█████████▊| 983/1000 [05:23<00:05,  3.01it/s]",
          "output_type": "stream"
        },
        {
          "name": "stdout",
          "text": "epoch: 982, loss:0.00017851265755796956\n",
          "output_type": "stream"
        },
        {
          "name": "stderr",
          "text": " 98%|█████████▊| 984/1000 [05:24<00:05,  3.00it/s]",
          "output_type": "stream"
        },
        {
          "name": "stdout",
          "text": "epoch: 983, loss:0.00017792353216601237\n",
          "output_type": "stream"
        },
        {
          "name": "stderr",
          "text": " 98%|█████████▊| 985/1000 [05:24<00:04,  3.01it/s]",
          "output_type": "stream"
        },
        {
          "name": "stdout",
          "text": "epoch: 984, loss:0.00017846516433765906\n",
          "output_type": "stream"
        },
        {
          "name": "stderr",
          "text": " 99%|█████████▊| 986/1000 [05:24<00:04,  2.98it/s]",
          "output_type": "stream"
        },
        {
          "name": "stdout",
          "text": "epoch: 985, loss:0.00017849696176836872\n",
          "output_type": "stream"
        },
        {
          "name": "stderr",
          "text": " 99%|█████████▊| 987/1000 [05:25<00:04,  2.94it/s]",
          "output_type": "stream"
        },
        {
          "name": "stdout",
          "text": "epoch: 986, loss:0.00017841799751756483\n",
          "output_type": "stream"
        },
        {
          "name": "stderr",
          "text": " 99%|█████████▉| 988/1000 [05:25<00:04,  2.97it/s]",
          "output_type": "stream"
        },
        {
          "name": "stdout",
          "text": "epoch: 987, loss:0.0001766785155100658\n",
          "output_type": "stream"
        },
        {
          "name": "stderr",
          "text": " 99%|█████████▉| 989/1000 [05:25<00:03,  3.02it/s]",
          "output_type": "stream"
        },
        {
          "name": "stdout",
          "text": "epoch: 988, loss:0.00017632960581742102\n",
          "output_type": "stream"
        },
        {
          "name": "stderr",
          "text": " 99%|█████████▉| 990/1000 [05:26<00:03,  3.03it/s]",
          "output_type": "stream"
        },
        {
          "name": "stdout",
          "text": "epoch: 989, loss:0.00017615593709547893\n",
          "output_type": "stream"
        },
        {
          "name": "stderr",
          "text": " 99%|█████████▉| 991/1000 [05:26<00:02,  3.01it/s]",
          "output_type": "stream"
        },
        {
          "name": "stdout",
          "text": "epoch: 990, loss:0.0001771001156753907\n",
          "output_type": "stream"
        },
        {
          "name": "stderr",
          "text": " 99%|█████████▉| 992/1000 [05:26<00:02,  2.99it/s]",
          "output_type": "stream"
        },
        {
          "name": "stdout",
          "text": "epoch: 991, loss:0.00017697184930475348\n",
          "output_type": "stream"
        },
        {
          "name": "stderr",
          "text": " 99%|█████████▉| 993/1000 [05:27<00:02,  2.98it/s]",
          "output_type": "stream"
        },
        {
          "name": "stdout",
          "text": "epoch: 992, loss:0.00017622042078805898\n",
          "output_type": "stream"
        },
        {
          "name": "stderr",
          "text": " 99%|█████████▉| 994/1000 [05:27<00:02,  2.97it/s]",
          "output_type": "stream"
        },
        {
          "name": "stdout",
          "text": "epoch: 993, loss:0.00017508112637672882\n",
          "output_type": "stream"
        },
        {
          "name": "stderr",
          "text": "100%|█████████▉| 995/1000 [05:27<00:01,  2.97it/s]",
          "output_type": "stream"
        },
        {
          "name": "stdout",
          "text": "epoch: 994, loss:0.00017428789325564439\n",
          "output_type": "stream"
        },
        {
          "name": "stderr",
          "text": "100%|█████████▉| 996/1000 [05:28<00:01,  2.97it/s]",
          "output_type": "stream"
        },
        {
          "name": "stdout",
          "text": "epoch: 995, loss:0.00017454379988266264\n",
          "output_type": "stream"
        },
        {
          "name": "stderr",
          "text": "100%|█████████▉| 997/1000 [05:28<00:01,  2.94it/s]",
          "output_type": "stream"
        },
        {
          "name": "stdout",
          "text": "epoch: 996, loss:0.0001740679416364068\n",
          "output_type": "stream"
        },
        {
          "name": "stderr",
          "text": "100%|█████████▉| 998/1000 [05:28<00:00,  2.94it/s]",
          "output_type": "stream"
        },
        {
          "name": "stdout",
          "text": "epoch: 997, loss:0.00017323327305625752\n",
          "output_type": "stream"
        },
        {
          "name": "stderr",
          "text": "100%|█████████▉| 999/1000 [05:29<00:00,  2.97it/s]",
          "output_type": "stream"
        },
        {
          "name": "stdout",
          "text": "epoch: 998, loss:0.0001768910681287845\n",
          "output_type": "stream"
        },
        {
          "name": "stderr",
          "text": "100%|██████████| 1000/1000 [05:29<00:00,  3.04it/s]",
          "output_type": "stream"
        },
        {
          "name": "stdout",
          "text": "epoch: 999, loss:0.0001729895041663341\n",
          "output_type": "stream"
        },
        {
          "name": "stderr",
          "text": "\n",
          "output_type": "stream"
        }
      ],
      "execution_count": null
    },
    {
      "cell_type": "code",
      "source": [
        "new_dict = model.state_dict()\n",
        "for k,v in cls.state_dict().items():\n",
        "    new_dict[k] = v\n",
        "model.load_state_dict(new_dict)"
      ],
      "metadata": {
        "trusted": true,
        "execution": {
          "iopub.status.busy": "2024-12-15T11:46:06.716152Z",
          "iopub.execute_input": "2024-12-15T11:46:06.716811Z",
          "iopub.status.idle": "2024-12-15T11:46:06.730994Z",
          "shell.execute_reply.started": "2024-12-15T11:46:06.716767Z",
          "shell.execute_reply": "2024-12-15T11:46:06.730264Z"
        },
        "id": "0goh5xAb5Gs2",
        "outputId": "abf95cd8-f1f6-4960-da7a-72725205e823"
      },
      "outputs": [
        {
          "execution_count": 119,
          "output_type": "execute_result",
          "data": {
            "text/plain": "<All keys matched successfully>"
          },
          "metadata": {}
        }
      ],
      "execution_count": null
    },
    {
      "cell_type": "code",
      "source": [
        "cls.cl1.weight"
      ],
      "metadata": {
        "trusted": true,
        "execution": {
          "iopub.status.busy": "2024-12-15T11:46:06.731802Z",
          "iopub.execute_input": "2024-12-15T11:46:06.732123Z",
          "iopub.status.idle": "2024-12-15T11:46:06.740925Z",
          "shell.execute_reply.started": "2024-12-15T11:46:06.732076Z",
          "shell.execute_reply": "2024-12-15T11:46:06.740146Z"
        },
        "id": "qpAU4gEg5Gs2",
        "outputId": "5864e88c-9942-495a-ced2-75465e8fcc11"
      },
      "outputs": [
        {
          "execution_count": 120,
          "output_type": "execute_result",
          "data": {
            "text/plain": "Parameter containing:\ntensor([[ 5.9580e-03, -8.3838e-02,  5.7990e-04,  ...,  1.3000e-03,\n         -1.1501e-02,  3.9308e-03],\n        [-8.5559e-03,  7.8949e-04,  2.8906e-02,  ..., -3.5355e-05,\n         -4.0159e-04, -4.9327e-02],\n        [-8.0888e-03,  3.9180e-02,  3.0129e-02,  ...,  1.4838e-02,\n          4.8374e-02, -1.1556e-01],\n        ...,\n        [-3.5430e-02,  8.9792e-02, -6.2593e-02,  ...,  1.7308e-02,\n          8.1289e-03,  5.2328e-02],\n        [-3.7167e-02,  3.5701e-03,  3.0407e-02,  ..., -3.7504e-03,\n         -3.5906e-02, -8.1280e-03],\n        [ 2.1428e-02, -2.2029e-01,  1.3506e-02,  ..., -7.3193e-03,\n         -2.9435e-02,  1.7763e-02]], device='cuda:0', requires_grad=True)"
          },
          "metadata": {}
        }
      ],
      "execution_count": null
    },
    {
      "cell_type": "code",
      "source": [
        "model.cl1.weight"
      ],
      "metadata": {
        "trusted": true,
        "execution": {
          "iopub.status.busy": "2024-12-15T11:46:06.741907Z",
          "iopub.execute_input": "2024-12-15T11:46:06.742165Z",
          "iopub.status.idle": "2024-12-15T11:46:06.751797Z",
          "shell.execute_reply.started": "2024-12-15T11:46:06.74214Z",
          "shell.execute_reply": "2024-12-15T11:46:06.751085Z"
        },
        "id": "came7Mz15Gs2",
        "outputId": "c17bcdff-ae78-4f82-e291-207a67933657"
      },
      "outputs": [
        {
          "execution_count": 121,
          "output_type": "execute_result",
          "data": {
            "text/plain": "Parameter containing:\ntensor([[ 5.9580e-03, -8.3838e-02,  5.7990e-04,  ...,  1.3000e-03,\n         -1.1501e-02,  3.9308e-03],\n        [-8.5559e-03,  7.8949e-04,  2.8906e-02,  ..., -3.5355e-05,\n         -4.0159e-04, -4.9327e-02],\n        [-8.0888e-03,  3.9180e-02,  3.0129e-02,  ...,  1.4838e-02,\n          4.8374e-02, -1.1556e-01],\n        ...,\n        [-3.5430e-02,  8.9792e-02, -6.2593e-02,  ...,  1.7308e-02,\n          8.1289e-03,  5.2328e-02],\n        [-3.7167e-02,  3.5701e-03,  3.0407e-02,  ..., -3.7504e-03,\n         -3.5906e-02, -8.1280e-03],\n        [ 2.1428e-02, -2.2029e-01,  1.3506e-02,  ..., -7.3193e-03,\n         -2.9435e-02,  1.7763e-02]], device='cuda:0', requires_grad=True)"
          },
          "metadata": {}
        }
      ],
      "execution_count": null
    },
    {
      "cell_type": "code",
      "source": [
        "from sklearn.metrics import classification_report,f1_score\n",
        "\n",
        "\n",
        "TRAIN = False\n",
        "if scheme:\n",
        "\n",
        "    #y_pred = base_model.predict(base_test_encodings)\n",
        "\n",
        "    #print(\"\\n Baseline: \\n\"+classification_report(df_test['Scheme'], y_pred))\n",
        "\n",
        "    if TRAIN:\n",
        "        train_encodings = encode(tokenizer,df_train,train_labels,scheme,include_previous=INCLUDE_PREVIOUS)\n",
        "        train_dataset = CustomTorchDataset(train_encodings)\n",
        "    else:\n",
        "        test_encodings = encode(tokenizer,df_test,test_labels,scheme,include_previous=INCLUDE_PREVIOUS)\n",
        "        test_dataset = CustomTorchDataset(test_encodings)\n",
        "\n",
        "\n",
        "    #create test dataloader\n",
        "\n",
        "    data_loader_test = torch.utils.data.DataLoader(test_dataset,\n",
        "\n",
        "                                        batch_size=batch_size,\n",
        "\n",
        "                                        shuffle = False)\n",
        "    data_loader_train = torch.utils.data.DataLoader(train_dataset,\n",
        "\n",
        "                                        batch_size=batch_size,\n",
        "\n",
        "                                        shuffle = False)\n",
        "\n",
        "\n",
        "    train_predictions = evaluate(model, data_loader_train)\n",
        "    test_predictions = evaluate(model, data_loader_test)\n",
        "    if TRAIN:\n",
        "        y_pred = np.where(train_predictions<0.5, 0., 1.)\n",
        "        y_true = np.array(train_labels)\n",
        "    else:\n",
        "        y_pred = np.where(test_predictions<0.5, 0., 1.)\n",
        "        y_true = np.array(test_labels)\n",
        "\n",
        "\n",
        "    #print(y_pred)\n",
        "\n",
        "\n",
        "    print(y_true.shape,y_pred.shape)\n",
        "    print(\"\\n\"+classification_report(y_true, y_pred,target_names = sc_classes))"
      ],
      "metadata": {
        "colab": {
          "base_uri": "https://localhost:8080/"
        },
        "outputId": "96bee6bb-1ddb-414e-8dcb-853dea181c5e",
        "trusted": true,
        "execution": {
          "iopub.status.busy": "2024-12-15T11:46:06.752696Z",
          "iopub.execute_input": "2024-12-15T11:46:06.752939Z",
          "iopub.status.idle": "2024-12-15T11:46:46.354237Z",
          "shell.execute_reply.started": "2024-12-15T11:46:06.752908Z",
          "shell.execute_reply": "2024-12-15T11:46:46.353359Z"
        },
        "id": "UmMZ0Djx5Gs2"
      },
      "outputs": [
        {
          "name": "stdout",
          "text": "Encoding...\ninput shape: (253, 512)\nEncoding complete\n",
          "output_type": "stream"
        },
        {
          "name": "stderr",
          "text": "  0%|          | 0/28 [00:00<?, ?it/s]/tmp/ipykernel_23/136612130.py:11: UserWarning: To copy construct from a tensor, it is recommended to use sourceTensor.clone().detach() or sourceTensor.clone().detach().requires_grad_(True), rather than torch.tensor(sourceTensor).\n  return {key: torch.tensor(val[idx]) for key, val in self.encodings.items()}\n100%|██████████| 28/28 [00:30<00:00,  1.08s/it]\n100%|██████████| 8/8 [00:09<00:00,  1.15s/it]",
          "output_type": "stream"
        },
        {
          "name": "stdout",
          "text": "(253, 8) (253, 8)\n\n              precision    recall  f1-score   support\n\n        Rule       0.91      0.60      0.72       114\n        Prec       0.87      0.89      0.88        83\n        Itpr       0.57      0.42      0.48        62\n       Princ       0.46      0.41      0.44        29\n       Class       0.31      0.40      0.35        20\n         Aut       0.60      0.64      0.62        14\n        Syst       1.00      0.20      0.33         5\n        Tele       0.33      0.67      0.44         3\n\n   micro avg       0.71      0.61      0.66       330\n   macro avg       0.63      0.53      0.53       330\nweighted avg       0.74      0.61      0.66       330\n samples avg       0.69      0.64      0.64       330\n\n",
          "output_type": "stream"
        },
        {
          "name": "stderr",
          "text": "\n/opt/conda/lib/python3.10/site-packages/sklearn/metrics/_classification.py:1344: UndefinedMetricWarning: Precision and F-score are ill-defined and being set to 0.0 in samples with no predicted labels. Use `zero_division` parameter to control this behavior.\n  _warn_prf(average, modifier, msg_start, len(result))\n",
          "output_type": "stream"
        }
      ],
      "execution_count": null
    },
    {
      "cell_type": "code",
      "source": [],
      "metadata": {
        "trusted": true,
        "id": "1DXb963M5Gs3"
      },
      "outputs": [],
      "execution_count": null
    }
  ]
}