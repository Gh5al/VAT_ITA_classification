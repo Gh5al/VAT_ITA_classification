{
  "metadata": {
    "accelerator": "GPU",
    "colab": {
      "gpuType": "T4",
      "provenance": [],
      "toc_visible": true,
      "name": "notebook0b5de05eef",
      "include_colab_link": true
    },
    "kaggle": {
      "accelerator": "nvidiaTeslaT4",
      "dataSources": [
        {
          "sourceId": 8567063,
          "sourceType": "datasetVersion",
          "datasetId": 5090522
        }
      ],
      "dockerImageVersionId": 30716,
      "isInternetEnabled": true,
      "language": "python",
      "sourceType": "notebook",
      "isGpuEnabled": true
    },
    "kernelspec": {
      "display_name": "Python 3",
      "language": "python",
      "name": "python3"
    },
    "language_info": {
      "name": "python",
      "version": "3.10.13",
      "mimetype": "text/x-python",
      "codemirror_mode": {
        "name": "ipython",
        "version": 3
      },
      "pygments_lexer": "ipython3",
      "nbconvert_exporter": "python",
      "file_extension": ".py"
    }
  },
  "nbformat_minor": 0,
  "nbformat": 4,
  "cells": [
    {
      "cell_type": "markdown",
      "metadata": {
        "id": "view-in-github",
        "colab_type": "text"
      },
      "source": [
        "<a href=\"https://colab.research.google.com/github/Gh5al/VAT_ITA_classification/blob/main/npl_pw.ipynb\" target=\"_parent\"><img src=\"https://colab.research.google.com/assets/colab-badge.svg\" alt=\"Open In Colab\"/></a>"
      ]
    },
    {
      "cell_type": "markdown",
      "source": [
        "<a href=\"https://colab.research.google.com/github/Gh5al/VAT_ITA_classification/blob/main/nlp_pw.ipynb\" target=\"_parent\"><img src=\"https://colab.research.google.com/assets/colab-badge.svg\" alt=\"Open In Colab\"/></a>"
      ],
      "metadata": {
        "id": "KyZr4FHfX5KH"
      }
    },
    {
      "cell_type": "code",
      "source": [
        "import json\n",
        "import os\n",
        "import numpy as np\n",
        "import pandas as pd\n",
        "from matplotlib import pyplot as plt\n",
        "\n",
        "import random\n",
        "import torch\n",
        "from sklearn.model_selection import train_test_split\n",
        "import random\n",
        "import gc\n",
        "import transformers\n",
        "from tqdm import tqdm, trange\n",
        "from typing import Callable, Dict, List, Tuple\n",
        "from timeit import default_timer as timer\n",
        "from transformers import EncoderDecoderModel, AutoTokenizer, PreTrainedTokenizer, BatchEncoding, AutoModel\n",
        "import torch.nn as nn\n",
        "from torch.utils.data import Dataset, DataLoader, SubsetRandomSampler\n",
        "import os\n",
        "import json"
      ],
      "metadata": {
        "id": "KbWaRpfXk6GK",
        "execution": {
          "iopub.status.busy": "2024-06-01T11:11:49.693351Z",
          "iopub.execute_input": "2024-06-01T11:11:49.694126Z",
          "iopub.status.idle": "2024-06-01T11:11:49.701388Z",
          "shell.execute_reply.started": "2024-06-01T11:11:49.694095Z",
          "shell.execute_reply": "2024-06-01T11:11:49.700267Z"
        },
        "trusted": true
      },
      "execution_count": null,
      "outputs": []
    },
    {
      "cell_type": "markdown",
      "source": [
        "# Loading data"
      ],
      "metadata": {
        "id": "n2Txe_oxF51O"
      }
    },
    {
      "cell_type": "code",
      "source": [
        "def uniform(el):\n",
        "    \"\"\"\n",
        "    Handles the values for multi-value attributes, splitting to list if necessary\n",
        "    If the input is a list or transformed to a list, values are sorted\n",
        "\n",
        "    Args:\n",
        "        el (str or list): The attribute value\n",
        "\n",
        "    Returns:\n",
        "        str or list: The attribute value sorted if it is a list, the attribute value otherwise\n",
        "    \"\"\"\n",
        "    if el == el:  # NaN is different from NaN, np.isnan and pd.isna don't work\n",
        "        if '|' in el:\n",
        "            el = sorted(el.split('|'))\n",
        "        elif isinstance(el, list):\n",
        "            el = sorted(el)\n",
        "    return el\n",
        "\n",
        "DATAFRAMES_PATH = '/kaggle/input' if os.environ.get('KAGGLE_KERNEL_RUN_TYPE','') else './Dataframes'\n",
        "\n",
        "def create_df_annotations(path: str, language: str, dataset: str):\n",
        "    \"\"\"\n",
        "    Load the dataset + create and save to file a dataframe with the annotations of the arguments.\n",
        "\n",
        "    Args:\n",
        "        path (str): path of the folder containing the JSON files\n",
        "        dataset (str): One of [vat, tp, ecj]\n",
        "    \"\"\"\n",
        "\n",
        "    pkl_file_path = f\"{DATAFRAMES_PATH}/arg_annotations_{language}_{dataset}.pkl.xz\"\n",
        "    if os.path.isfile(pkl_file_path):\n",
        "        print(f\"Found pkl, loading it - {pkl_file_path}\")\n",
        "        return pd.read_pickle(pkl_file_path)\n",
        "\n",
        "    print(f\"Could not find pkl, reading dataset - {pkl_file_path}\")\n",
        "    temp = []\n",
        "    files = os.listdir(path)\n",
        "    files.sort()\n",
        "\n",
        "    for filename in files:\n",
        "        if not filename.endswith('.json'):\n",
        "            print(f\"Skipping '{filename}'\")\n",
        "        else:\n",
        "            print(f\"Loading '{filename}'\")\n",
        "            with open(os.path.join(path, filename), 'r', encoding='utf8') as f:\n",
        "                data = json.load(f)\n",
        "                annotations = data[\"annotations\"]\n",
        "                last_full_chain_id = None\n",
        "                last_text = None\n",
        "\n",
        "                for annotation in annotations:\n",
        "                    if annotation[\"name\"] != 'conc' and annotation[\"name\"] != 'prem':\n",
        "                        continue # Ignore intro, nreg, judoff, ...\n",
        "                    #document = annotation[\"document\"]\n",
        "                    document = data[\"document\"][\"name\"]\n",
        "                    name = annotation[\"name\"]\n",
        "                    _id = annotation[\"_id\"]\n",
        "                    argument_chain_id = _id[0]\n",
        "                    full_chain_id = f'{document}_{argument_chain_id}'\n",
        "                    last_full_chain_id = full_chain_id\n",
        "                    incremental_num = _id[1:]\n",
        "                    text = data[\"document\"][\"plainText\"][int(annotation[\"start\"]):int(annotation[\"end\"])]\n",
        "                    last_text = text\n",
        "                    # attribute extraction, NaN if that attribute is not present\n",
        "                    T = uniform(annotation[\"attributes\"].get(\"T\", np.nan))\n",
        "                    SUP = uniform(annotation[\"attributes\"].get(\"SUP\", np.nan))\n",
        "                    SFF = uniform(annotation[\"attributes\"].get(\"SFF\", np.nan))\n",
        "                    ATT = uniform(annotation[\"attributes\"].get(\"ATT\", np.nan))\n",
        "                    INH = uniform(annotation[\"attributes\"].get(\"INH\", np.nan))\n",
        "                    REPH = uniform(annotation[\"attributes\"].get(\"REPH\", np.nan))\n",
        "                    S = uniform(annotation[\"attributes\"].get(\"S\", np.nan))\n",
        "\n",
        "                    text = text.replace('\\n','').lstrip('‘’\\'\\n0123456789.-–…;;) ').rstrip('‘’\\'\\n.;; ')\n",
        "\n",
        "                    previous = last_text if last_full_chain_id == full_chain_id else None\n",
        "                    temp.append([\n",
        "                        document, name, _id, argument_chain_id, incremental_num, text, T, SUP, SFF, ATT, INH, REPH, S, full_chain_id, previous,\n",
        "                    ])\n",
        "    # df creation\n",
        "    df = pd.DataFrame(temp, columns=[\n",
        "            'Document', 'Name', 'Id', 'Chain', 'Num', 'Text', 'Type', 'SUP', 'SFF', 'ATT', 'INH', 'REPH', 'Scheme', 'FullChainID', 'Previous'\n",
        "        ])\n",
        "\n",
        "    print(f\"Saving {len(df)} annotations to {pkl_file_path}\")\n",
        "    df.to_pickle(pkl_file_path)\n",
        "    df.to_csv(pkl_file_path.replace('.pkl.xz', '.csv'))\n",
        "    return df\n",
        "\n",
        "\n",
        "df = create_df_annotations('Data/Dataset/VAT_ITA', 'italian', 'vat')\n"
      ],
      "metadata": {
        "id": "Qv-JEb3-k6GN",
        "outputId": "417ca15c-5845-4faa-81a7-4b62505cb47a",
        "colab": {
          "base_uri": "https://localhost:8080/"
        },
        "execution": {
          "iopub.status.busy": "2024-06-01T11:11:49.703732Z",
          "iopub.execute_input": "2024-06-01T11:11:49.704069Z",
          "iopub.status.idle": "2024-06-01T11:11:49.770451Z",
          "shell.execute_reply.started": "2024-06-01T11:11:49.704043Z",
          "shell.execute_reply": "2024-06-01T11:11:49.76945Z"
        },
        "trusted": true
      },
      "execution_count": null,
      "outputs": [
        {
          "name": "stdout",
          "text": "Found pkl, loading it - /kaggle/input/arg_annotations_italian_vat.pkl.xz\n",
          "output_type": "stream"
        }
      ]
    },
    {
      "cell_type": "code",
      "source": [
        "\n",
        "df.describe()"
      ],
      "metadata": {
        "colab": {
          "base_uri": "https://localhost:8080/",
          "height": 195
        },
        "id": "koaJKdEXk6GR",
        "outputId": "cfaec81b-a762-4d6f-dd3c-b902bc8f4c3c",
        "execution": {
          "iopub.status.busy": "2024-06-01T11:11:49.77205Z",
          "iopub.execute_input": "2024-06-01T11:11:49.772369Z",
          "iopub.status.idle": "2024-06-01T11:11:49.836926Z",
          "shell.execute_reply.started": "2024-06-01T11:11:49.772342Z",
          "shell.execute_reply": "2024-06-01T11:11:49.835858Z"
        },
        "trusted": true
      },
      "execution_count": null,
      "outputs": [
        {
          "execution_count": 57,
          "output_type": "execute_result",
          "data": {
            "text/plain": "                           Document  Name    Id Chain   Num  Text  Type   SUP  \\\ncount                          3311  3311  3311  3311  3311  3311  2910  1088   \nunique                          225     2   264    10    98  3163     3   428   \ntop     2016_202_VAT_OPAM_2_1_PS_AN  prem    A2     A     2           F    A2   \nfreq                             79  2910   221  2348   365    12  1572    54   \n\n       SFF ATT  INH REPH Scheme                    FullChainID Previous  \ncount   82  66   25   89   1314                           3311     3311  \nunique  48  32   19   31     63                            367     3186  \ntop     A7  A8  A10   A1   Rule  2016_202_VAT_OPAM_2_1_PS_AN_A           \nfreq     6   8    3   29    349                             79       12  ",
            "text/html": "<div>\n<style scoped>\n    .dataframe tbody tr th:only-of-type {\n        vertical-align: middle;\n    }\n\n    .dataframe tbody tr th {\n        vertical-align: top;\n    }\n\n    .dataframe thead th {\n        text-align: right;\n    }\n</style>\n<table border=\"1\" class=\"dataframe\">\n  <thead>\n    <tr style=\"text-align: right;\">\n      <th></th>\n      <th>Document</th>\n      <th>Name</th>\n      <th>Id</th>\n      <th>Chain</th>\n      <th>Num</th>\n      <th>Text</th>\n      <th>Type</th>\n      <th>SUP</th>\n      <th>SFF</th>\n      <th>ATT</th>\n      <th>INH</th>\n      <th>REPH</th>\n      <th>Scheme</th>\n      <th>FullChainID</th>\n      <th>Previous</th>\n    </tr>\n  </thead>\n  <tbody>\n    <tr>\n      <th>count</th>\n      <td>3311</td>\n      <td>3311</td>\n      <td>3311</td>\n      <td>3311</td>\n      <td>3311</td>\n      <td>3311</td>\n      <td>2910</td>\n      <td>1088</td>\n      <td>82</td>\n      <td>66</td>\n      <td>25</td>\n      <td>89</td>\n      <td>1314</td>\n      <td>3311</td>\n      <td>3311</td>\n    </tr>\n    <tr>\n      <th>unique</th>\n      <td>225</td>\n      <td>2</td>\n      <td>264</td>\n      <td>10</td>\n      <td>98</td>\n      <td>3163</td>\n      <td>3</td>\n      <td>428</td>\n      <td>48</td>\n      <td>32</td>\n      <td>19</td>\n      <td>31</td>\n      <td>63</td>\n      <td>367</td>\n      <td>3186</td>\n    </tr>\n    <tr>\n      <th>top</th>\n      <td>2016_202_VAT_OPAM_2_1_PS_AN</td>\n      <td>prem</td>\n      <td>A2</td>\n      <td>A</td>\n      <td>2</td>\n      <td></td>\n      <td>F</td>\n      <td>A2</td>\n      <td>A7</td>\n      <td>A8</td>\n      <td>A10</td>\n      <td>A1</td>\n      <td>Rule</td>\n      <td>2016_202_VAT_OPAM_2_1_PS_AN_A</td>\n      <td></td>\n    </tr>\n    <tr>\n      <th>freq</th>\n      <td>79</td>\n      <td>2910</td>\n      <td>221</td>\n      <td>2348</td>\n      <td>365</td>\n      <td>12</td>\n      <td>1572</td>\n      <td>54</td>\n      <td>6</td>\n      <td>8</td>\n      <td>3</td>\n      <td>29</td>\n      <td>349</td>\n      <td>79</td>\n      <td>12</td>\n    </tr>\n  </tbody>\n</table>\n</div>"
          },
          "metadata": {}
        }
      ]
    },
    {
      "cell_type": "code",
      "source": [
        "df.head(10)"
      ],
      "metadata": {
        "colab": {
          "base_uri": "https://localhost:8080/",
          "height": 938
        },
        "id": "DKd2eUylk6GS",
        "outputId": "7593b109-4f2f-4ae0-f8c7-5796c7c2fb87",
        "execution": {
          "iopub.status.busy": "2024-06-01T11:11:49.838335Z",
          "iopub.execute_input": "2024-06-01T11:11:49.838662Z",
          "iopub.status.idle": "2024-06-01T11:11:49.860425Z",
          "shell.execute_reply.started": "2024-06-01T11:11:49.838633Z",
          "shell.execute_reply": "2024-06-01T11:11:49.859493Z"
        },
        "trusted": true
      },
      "execution_count": null,
      "outputs": [
        {
          "execution_count": 58,
          "output_type": "execute_result",
          "data": {
            "text/plain": "                          Document  Name  Id Chain Num  \\\n0  2013_40_VAT_OPAM_2_REM_MB_PS_AN  prem  A1     A   1   \n1  2013_40_VAT_OPAM_2_REM_MB_PS_AN  prem  A2     A   2   \n2  2013_40_VAT_OPAM_2_REM_MB_PS_AN  prem  A3     A   3   \n3  2013_40_VAT_OPAM_2_REM_MB_PS_AN  prem  A4     A   4   \n4  2013_40_VAT_OPAM_2_REM_MB_PS_AN  prem  A5     A   5   \n5  2013_40_VAT_OPAM_2_REM_MB_PS_AN  conc  A6     A   6   \n6    2018_847_VAT_OP_2_-1_MB_AF_AN  prem  A1     A   1   \n7    2018_847_VAT_OP_2_-1_MB_AF_AN  prem  A2     A   2   \n8    2018_847_VAT_OP_2_-1_MB_AF_AN  prem  A3     A   3   \n9    2018_847_VAT_OP_2_-1_MB_AF_AN  prem  A4     A   4   \n\n                                                Text Type           SUP  \\\n0  In via preliminare, il Collegio prende in cons...    F           NaN   \n1  Ai sensi dell'art. 14 del d.lgs.546/92, se l'o...    L           NaN   \n2  Se il ricorso non è stato    proposto da o nei...    L           NaN   \n3  Nel caso di specie solo la ILDS ha presentato ...    F           NaN   \n4  come    espressamente richiesto nel ricorso in...    F           NaN   \n5  Poiché ciò non è avvenuto, risulta applicabile...  NaN  [A1, A2, A3]   \n6  Secondo condivisa e costante giurisprudenza (C...    L           NaN   \n7  Tuttavia, nel caso qui in esame, la Comm/ne no...    L      [A3, A4]   \n8  A tal proposito si ricorda che la Corte cost. ...    L           NaN   \n9  Inoltre (Cass. 2.9.2013 n. 20064) “qualora la ...    L           NaN   \n\n        SFF  ATT  INH REPH Scheme                        FullChainID  \\\n0       NaN  NaN  NaN  NaN    NaN  2013_40_VAT_OPAM_2_REM_MB_PS_AN_A   \n1       NaN  NaN  NaN  NaN   Rule  2013_40_VAT_OPAM_2_REM_MB_PS_AN_A   \n2       NaN  NaN  NaN  NaN   Itpr  2013_40_VAT_OPAM_2_REM_MB_PS_AN_A   \n3       NaN  NaN  NaN  NaN    NaN  2013_40_VAT_OPAM_2_REM_MB_PS_AN_A   \n4       NaN  NaN  NaN  NaN    NaN  2013_40_VAT_OPAM_2_REM_MB_PS_AN_A   \n5  [A4, A5]  NaN  NaN  NaN    NaN  2013_40_VAT_OPAM_2_REM_MB_PS_AN_A   \n6       NaN  NaN  NaN  NaN   Rule    2018_847_VAT_OP_2_-1_MB_AF_AN_A   \n7       NaN  NaN  NaN  NaN   Itpr    2018_847_VAT_OP_2_-1_MB_AF_AN_A   \n8       NaN  NaN  NaN  NaN   Prec    2018_847_VAT_OP_2_-1_MB_AF_AN_A   \n9       NaN  NaN  NaN  NaN   Prec    2018_847_VAT_OP_2_-1_MB_AF_AN_A   \n\n                                            Previous  \n0   In via preliminare, il Collegio prende in con...  \n1   Ai sensi dell'art. 14 del d.lgs.546/92, se l'...  \n2   Se il ricorso non è stato\\n    proposto da o ...  \n3   Nel caso di specie solo la ILDS ha presentato...  \n4   come\\n    espressamente richiesto nel ricorso...  \n5  \\n     Poiché ciò non è avvenuto, risulta appl...  \n6  Secondo condivisa e costante giurisprudenza (C...  \n7  Tuttavia, nel caso qui in esame, la Comm/ne no...  \n8  A tal proposito si ricorda che la Corte cost. ...  \n9  Inoltre (Cass. 2.9.2013 n. 20064) “qualora la ...  ",
            "text/html": "<div>\n<style scoped>\n    .dataframe tbody tr th:only-of-type {\n        vertical-align: middle;\n    }\n\n    .dataframe tbody tr th {\n        vertical-align: top;\n    }\n\n    .dataframe thead th {\n        text-align: right;\n    }\n</style>\n<table border=\"1\" class=\"dataframe\">\n  <thead>\n    <tr style=\"text-align: right;\">\n      <th></th>\n      <th>Document</th>\n      <th>Name</th>\n      <th>Id</th>\n      <th>Chain</th>\n      <th>Num</th>\n      <th>Text</th>\n      <th>Type</th>\n      <th>SUP</th>\n      <th>SFF</th>\n      <th>ATT</th>\n      <th>INH</th>\n      <th>REPH</th>\n      <th>Scheme</th>\n      <th>FullChainID</th>\n      <th>Previous</th>\n    </tr>\n  </thead>\n  <tbody>\n    <tr>\n      <th>0</th>\n      <td>2013_40_VAT_OPAM_2_REM_MB_PS_AN</td>\n      <td>prem</td>\n      <td>A1</td>\n      <td>A</td>\n      <td>1</td>\n      <td>In via preliminare, il Collegio prende in cons...</td>\n      <td>F</td>\n      <td>NaN</td>\n      <td>NaN</td>\n      <td>NaN</td>\n      <td>NaN</td>\n      <td>NaN</td>\n      <td>NaN</td>\n      <td>2013_40_VAT_OPAM_2_REM_MB_PS_AN_A</td>\n      <td>In via preliminare, il Collegio prende in con...</td>\n    </tr>\n    <tr>\n      <th>1</th>\n      <td>2013_40_VAT_OPAM_2_REM_MB_PS_AN</td>\n      <td>prem</td>\n      <td>A2</td>\n      <td>A</td>\n      <td>2</td>\n      <td>Ai sensi dell'art. 14 del d.lgs.546/92, se l'o...</td>\n      <td>L</td>\n      <td>NaN</td>\n      <td>NaN</td>\n      <td>NaN</td>\n      <td>NaN</td>\n      <td>NaN</td>\n      <td>Rule</td>\n      <td>2013_40_VAT_OPAM_2_REM_MB_PS_AN_A</td>\n      <td>Ai sensi dell'art. 14 del d.lgs.546/92, se l'...</td>\n    </tr>\n    <tr>\n      <th>2</th>\n      <td>2013_40_VAT_OPAM_2_REM_MB_PS_AN</td>\n      <td>prem</td>\n      <td>A3</td>\n      <td>A</td>\n      <td>3</td>\n      <td>Se il ricorso non è stato    proposto da o nei...</td>\n      <td>L</td>\n      <td>NaN</td>\n      <td>NaN</td>\n      <td>NaN</td>\n      <td>NaN</td>\n      <td>NaN</td>\n      <td>Itpr</td>\n      <td>2013_40_VAT_OPAM_2_REM_MB_PS_AN_A</td>\n      <td>Se il ricorso non è stato\\n    proposto da o ...</td>\n    </tr>\n    <tr>\n      <th>3</th>\n      <td>2013_40_VAT_OPAM_2_REM_MB_PS_AN</td>\n      <td>prem</td>\n      <td>A4</td>\n      <td>A</td>\n      <td>4</td>\n      <td>Nel caso di specie solo la ILDS ha presentato ...</td>\n      <td>F</td>\n      <td>NaN</td>\n      <td>NaN</td>\n      <td>NaN</td>\n      <td>NaN</td>\n      <td>NaN</td>\n      <td>NaN</td>\n      <td>2013_40_VAT_OPAM_2_REM_MB_PS_AN_A</td>\n      <td>Nel caso di specie solo la ILDS ha presentato...</td>\n    </tr>\n    <tr>\n      <th>4</th>\n      <td>2013_40_VAT_OPAM_2_REM_MB_PS_AN</td>\n      <td>prem</td>\n      <td>A5</td>\n      <td>A</td>\n      <td>5</td>\n      <td>come    espressamente richiesto nel ricorso in...</td>\n      <td>F</td>\n      <td>NaN</td>\n      <td>NaN</td>\n      <td>NaN</td>\n      <td>NaN</td>\n      <td>NaN</td>\n      <td>NaN</td>\n      <td>2013_40_VAT_OPAM_2_REM_MB_PS_AN_A</td>\n      <td>come\\n    espressamente richiesto nel ricorso...</td>\n    </tr>\n    <tr>\n      <th>5</th>\n      <td>2013_40_VAT_OPAM_2_REM_MB_PS_AN</td>\n      <td>conc</td>\n      <td>A6</td>\n      <td>A</td>\n      <td>6</td>\n      <td>Poiché ciò non è avvenuto, risulta applicabile...</td>\n      <td>NaN</td>\n      <td>[A1, A2, A3]</td>\n      <td>[A4, A5]</td>\n      <td>NaN</td>\n      <td>NaN</td>\n      <td>NaN</td>\n      <td>NaN</td>\n      <td>2013_40_VAT_OPAM_2_REM_MB_PS_AN_A</td>\n      <td>\\n     Poiché ciò non è avvenuto, risulta appl...</td>\n    </tr>\n    <tr>\n      <th>6</th>\n      <td>2018_847_VAT_OP_2_-1_MB_AF_AN</td>\n      <td>prem</td>\n      <td>A1</td>\n      <td>A</td>\n      <td>1</td>\n      <td>Secondo condivisa e costante giurisprudenza (C...</td>\n      <td>L</td>\n      <td>NaN</td>\n      <td>NaN</td>\n      <td>NaN</td>\n      <td>NaN</td>\n      <td>NaN</td>\n      <td>Rule</td>\n      <td>2018_847_VAT_OP_2_-1_MB_AF_AN_A</td>\n      <td>Secondo condivisa e costante giurisprudenza (C...</td>\n    </tr>\n    <tr>\n      <th>7</th>\n      <td>2018_847_VAT_OP_2_-1_MB_AF_AN</td>\n      <td>prem</td>\n      <td>A2</td>\n      <td>A</td>\n      <td>2</td>\n      <td>Tuttavia, nel caso qui in esame, la Comm/ne no...</td>\n      <td>L</td>\n      <td>[A3, A4]</td>\n      <td>NaN</td>\n      <td>NaN</td>\n      <td>NaN</td>\n      <td>NaN</td>\n      <td>Itpr</td>\n      <td>2018_847_VAT_OP_2_-1_MB_AF_AN_A</td>\n      <td>Tuttavia, nel caso qui in esame, la Comm/ne no...</td>\n    </tr>\n    <tr>\n      <th>8</th>\n      <td>2018_847_VAT_OP_2_-1_MB_AF_AN</td>\n      <td>prem</td>\n      <td>A3</td>\n      <td>A</td>\n      <td>3</td>\n      <td>A tal proposito si ricorda che la Corte cost. ...</td>\n      <td>L</td>\n      <td>NaN</td>\n      <td>NaN</td>\n      <td>NaN</td>\n      <td>NaN</td>\n      <td>NaN</td>\n      <td>Prec</td>\n      <td>2018_847_VAT_OP_2_-1_MB_AF_AN_A</td>\n      <td>A tal proposito si ricorda che la Corte cost. ...</td>\n    </tr>\n    <tr>\n      <th>9</th>\n      <td>2018_847_VAT_OP_2_-1_MB_AF_AN</td>\n      <td>prem</td>\n      <td>A4</td>\n      <td>A</td>\n      <td>4</td>\n      <td>Inoltre (Cass. 2.9.2013 n. 20064) “qualora la ...</td>\n      <td>L</td>\n      <td>NaN</td>\n      <td>NaN</td>\n      <td>NaN</td>\n      <td>NaN</td>\n      <td>NaN</td>\n      <td>Prec</td>\n      <td>2018_847_VAT_OP_2_-1_MB_AF_AN_A</td>\n      <td>Inoltre (Cass. 2.9.2013 n. 20064) “qualora la ...</td>\n    </tr>\n  </tbody>\n</table>\n</div>"
          },
          "metadata": {}
        }
      ]
    },
    {
      "cell_type": "markdown",
      "source": [
        "Example of row with multiple attribute values:"
      ],
      "metadata": {
        "id": "Az9loU0Jl9si"
      }
    },
    {
      "cell_type": "code",
      "source": [
        "df[df[\"FullChainID\"] == \"2021_2717_VAT_OPAM_2_1_FG_PS_AN_A\"]"
      ],
      "metadata": {
        "colab": {
          "base_uri": "https://localhost:8080/",
          "height": 1000
        },
        "id": "DGvelrCgl9sj",
        "outputId": "557a4755-ec84-41cb-f89b-48ed8e70c5d6",
        "execution": {
          "iopub.status.busy": "2024-06-01T11:11:49.862712Z",
          "iopub.execute_input": "2024-06-01T11:11:49.863008Z",
          "iopub.status.idle": "2024-06-01T11:11:49.894094Z",
          "shell.execute_reply.started": "2024-06-01T11:11:49.862983Z",
          "shell.execute_reply": "2024-06-01T11:11:49.893009Z"
        },
        "trusted": true
      },
      "execution_count": null,
      "outputs": [
        {
          "execution_count": 59,
          "output_type": "execute_result",
          "data": {
            "text/plain": "                             Document  Name   Id Chain Num  \\\n3213  2021_2717_VAT_OPAM_2_1_FG_PS_AN  conc   A1     A   1   \n3214  2021_2717_VAT_OPAM_2_1_FG_PS_AN  prem   A2     A   2   \n3215  2021_2717_VAT_OPAM_2_1_FG_PS_AN  prem   A3     A   3   \n3216  2021_2717_VAT_OPAM_2_1_FG_PS_AN  prem   A4     A   4   \n3217  2021_2717_VAT_OPAM_2_1_FG_PS_AN  prem   A5     A   5   \n3218  2021_2717_VAT_OPAM_2_1_FG_PS_AN  prem   A6     A   6   \n3219  2021_2717_VAT_OPAM_2_1_FG_PS_AN  prem   A7     A   7   \n3220  2021_2717_VAT_OPAM_2_1_FG_PS_AN  prem   A8     A   8   \n3221  2021_2717_VAT_OPAM_2_1_FG_PS_AN  prem   A9     A   9   \n3222  2021_2717_VAT_OPAM_2_1_FG_PS_AN  prem  A10     A  10   \n3223  2021_2717_VAT_OPAM_2_1_FG_PS_AN  prem  A11     A  11   \n3224  2021_2717_VAT_OPAM_2_1_FG_PS_AN  prem  A12     A  12   \n3225  2021_2717_VAT_OPAM_2_1_FG_PS_AN  prem  A13     A  13   \n\n                                                   Text    Type  \\\n3213  Passando all'esame del motivo di appello con c...     NaN   \n3214  Sul punto, come è noto, giova ricordare che la...       L   \n3215  Con riguardo al primo profilo, dall'esame degl...  [F, L]   \n3216  Per quanto riguarda il secondo profilo (come r...       F   \n3217  Infatti, secondo la corretta interpretazione d...       L   \n3218  Ed ancora, le suddette disposizioni vanno inte...       L   \n3219  Pertanto, tutti i motivi di appello dell'Uffic...       F   \n3220  Inoltre, nel caso specifico va sottolineato il...       F   \n3221  Per quanto riguarda gli ulteriori motivi con i...       F   \n3222  In proposito giova ricordare che l’inesistenza...  [F, L]   \n3223  Più chiaramente la detrazione dell'IVA è indeb...  [F, L]   \n3224  Sul punto è di conforto la pronuncia della Cor...       L   \n3225  In conclusione poichè sono risultati legittimi...       F   \n\n                                   SUP  SFF  ATT  INH REPH        Scheme  \\\n3213                               A13  NaN  NaN  NaN  NaN           NaN   \n3214                               NaN  NaN  NaN  NaN  NaN         Princ   \n3215                               NaN  NaN  NaN  NaN  NaN          Rule   \n3216                          [A5, A6]  NaN  NaN  NaN  NaN           NaN   \n3217                               NaN  NaN  NaN  NaN  NaN          Rule   \n3218                               NaN  NaN  NaN  NaN  NaN          Prec   \n3219                      [A2, A3, A4]  NaN  NaN  NaN  NaN           NaN   \n3220                               NaN  NaN  NaN  NaN  NaN           NaN   \n3221                               NaN  NaN  NaN  NaN  NaN           NaN   \n3222                               NaN  NaN  NaN  NaN  NaN  [Prec, Rule]   \n3223                               NaN  NaN  NaN  NaN  NaN          Rule   \n3224                               NaN  NaN  NaN  NaN  NaN          Prec   \n3225  [A10, A11, A12, A13, A7, A8, A9]  NaN  NaN  NaN  NaN           NaN   \n\n                            FullChainID  \\\n3213  2021_2717_VAT_OPAM_2_1_FG_PS_AN_A   \n3214  2021_2717_VAT_OPAM_2_1_FG_PS_AN_A   \n3215  2021_2717_VAT_OPAM_2_1_FG_PS_AN_A   \n3216  2021_2717_VAT_OPAM_2_1_FG_PS_AN_A   \n3217  2021_2717_VAT_OPAM_2_1_FG_PS_AN_A   \n3218  2021_2717_VAT_OPAM_2_1_FG_PS_AN_A   \n3219  2021_2717_VAT_OPAM_2_1_FG_PS_AN_A   \n3220  2021_2717_VAT_OPAM_2_1_FG_PS_AN_A   \n3221  2021_2717_VAT_OPAM_2_1_FG_PS_AN_A   \n3222  2021_2717_VAT_OPAM_2_1_FG_PS_AN_A   \n3223  2021_2717_VAT_OPAM_2_1_FG_PS_AN_A   \n3224  2021_2717_VAT_OPAM_2_1_FG_PS_AN_A   \n3225  2021_2717_VAT_OPAM_2_1_FG_PS_AN_A   \n\n                                               Previous  \n3213  Passando all'esame del motivo di appello con c...  \n3214  Sul punto, come è noto, giova ricordare che la...  \n3215  Con riguardo al primo profilo, dall'esame degl...  \n3216  Per quanto riguarda il secondo profilo (come r...  \n3217  Infatti, secondo la corretta interpretazione d...  \n3218  Ed ancora, le suddette disposizioni vanno inte...  \n3219  Pertanto, tutti i motivi di appello dell'Uffic...  \n3220  Inoltre, nel caso specifico va sottolineato il...  \n3221  Per quanto riguarda gli ulteriori motivi con i...  \n3222  In proposito giova ricordare che l’inesistenza...  \n3223  Più chiaramente la detrazione dell'IVA è indeb...  \n3224  Sul punto è di conforto la pronuncia della Cor...  \n3225  In conclusione poichè sono risultati legittimi...  ",
            "text/html": "<div>\n<style scoped>\n    .dataframe tbody tr th:only-of-type {\n        vertical-align: middle;\n    }\n\n    .dataframe tbody tr th {\n        vertical-align: top;\n    }\n\n    .dataframe thead th {\n        text-align: right;\n    }\n</style>\n<table border=\"1\" class=\"dataframe\">\n  <thead>\n    <tr style=\"text-align: right;\">\n      <th></th>\n      <th>Document</th>\n      <th>Name</th>\n      <th>Id</th>\n      <th>Chain</th>\n      <th>Num</th>\n      <th>Text</th>\n      <th>Type</th>\n      <th>SUP</th>\n      <th>SFF</th>\n      <th>ATT</th>\n      <th>INH</th>\n      <th>REPH</th>\n      <th>Scheme</th>\n      <th>FullChainID</th>\n      <th>Previous</th>\n    </tr>\n  </thead>\n  <tbody>\n    <tr>\n      <th>3213</th>\n      <td>2021_2717_VAT_OPAM_2_1_FG_PS_AN</td>\n      <td>conc</td>\n      <td>A1</td>\n      <td>A</td>\n      <td>1</td>\n      <td>Passando all'esame del motivo di appello con c...</td>\n      <td>NaN</td>\n      <td>A13</td>\n      <td>NaN</td>\n      <td>NaN</td>\n      <td>NaN</td>\n      <td>NaN</td>\n      <td>NaN</td>\n      <td>2021_2717_VAT_OPAM_2_1_FG_PS_AN_A</td>\n      <td>Passando all'esame del motivo di appello con c...</td>\n    </tr>\n    <tr>\n      <th>3214</th>\n      <td>2021_2717_VAT_OPAM_2_1_FG_PS_AN</td>\n      <td>prem</td>\n      <td>A2</td>\n      <td>A</td>\n      <td>2</td>\n      <td>Sul punto, come è noto, giova ricordare che la...</td>\n      <td>L</td>\n      <td>NaN</td>\n      <td>NaN</td>\n      <td>NaN</td>\n      <td>NaN</td>\n      <td>NaN</td>\n      <td>Princ</td>\n      <td>2021_2717_VAT_OPAM_2_1_FG_PS_AN_A</td>\n      <td>Sul punto, come è noto, giova ricordare che la...</td>\n    </tr>\n    <tr>\n      <th>3215</th>\n      <td>2021_2717_VAT_OPAM_2_1_FG_PS_AN</td>\n      <td>prem</td>\n      <td>A3</td>\n      <td>A</td>\n      <td>3</td>\n      <td>Con riguardo al primo profilo, dall'esame degl...</td>\n      <td>[F, L]</td>\n      <td>NaN</td>\n      <td>NaN</td>\n      <td>NaN</td>\n      <td>NaN</td>\n      <td>NaN</td>\n      <td>Rule</td>\n      <td>2021_2717_VAT_OPAM_2_1_FG_PS_AN_A</td>\n      <td>Con riguardo al primo profilo, dall'esame degl...</td>\n    </tr>\n    <tr>\n      <th>3216</th>\n      <td>2021_2717_VAT_OPAM_2_1_FG_PS_AN</td>\n      <td>prem</td>\n      <td>A4</td>\n      <td>A</td>\n      <td>4</td>\n      <td>Per quanto riguarda il secondo profilo (come r...</td>\n      <td>F</td>\n      <td>[A5, A6]</td>\n      <td>NaN</td>\n      <td>NaN</td>\n      <td>NaN</td>\n      <td>NaN</td>\n      <td>NaN</td>\n      <td>2021_2717_VAT_OPAM_2_1_FG_PS_AN_A</td>\n      <td>Per quanto riguarda il secondo profilo (come r...</td>\n    </tr>\n    <tr>\n      <th>3217</th>\n      <td>2021_2717_VAT_OPAM_2_1_FG_PS_AN</td>\n      <td>prem</td>\n      <td>A5</td>\n      <td>A</td>\n      <td>5</td>\n      <td>Infatti, secondo la corretta interpretazione d...</td>\n      <td>L</td>\n      <td>NaN</td>\n      <td>NaN</td>\n      <td>NaN</td>\n      <td>NaN</td>\n      <td>NaN</td>\n      <td>Rule</td>\n      <td>2021_2717_VAT_OPAM_2_1_FG_PS_AN_A</td>\n      <td>Infatti, secondo la corretta interpretazione d...</td>\n    </tr>\n    <tr>\n      <th>3218</th>\n      <td>2021_2717_VAT_OPAM_2_1_FG_PS_AN</td>\n      <td>prem</td>\n      <td>A6</td>\n      <td>A</td>\n      <td>6</td>\n      <td>Ed ancora, le suddette disposizioni vanno inte...</td>\n      <td>L</td>\n      <td>NaN</td>\n      <td>NaN</td>\n      <td>NaN</td>\n      <td>NaN</td>\n      <td>NaN</td>\n      <td>Prec</td>\n      <td>2021_2717_VAT_OPAM_2_1_FG_PS_AN_A</td>\n      <td>Ed ancora, le suddette disposizioni vanno inte...</td>\n    </tr>\n    <tr>\n      <th>3219</th>\n      <td>2021_2717_VAT_OPAM_2_1_FG_PS_AN</td>\n      <td>prem</td>\n      <td>A7</td>\n      <td>A</td>\n      <td>7</td>\n      <td>Pertanto, tutti i motivi di appello dell'Uffic...</td>\n      <td>F</td>\n      <td>[A2, A3, A4]</td>\n      <td>NaN</td>\n      <td>NaN</td>\n      <td>NaN</td>\n      <td>NaN</td>\n      <td>NaN</td>\n      <td>2021_2717_VAT_OPAM_2_1_FG_PS_AN_A</td>\n      <td>Pertanto, tutti i motivi di appello dell'Uffic...</td>\n    </tr>\n    <tr>\n      <th>3220</th>\n      <td>2021_2717_VAT_OPAM_2_1_FG_PS_AN</td>\n      <td>prem</td>\n      <td>A8</td>\n      <td>A</td>\n      <td>8</td>\n      <td>Inoltre, nel caso specifico va sottolineato il...</td>\n      <td>F</td>\n      <td>NaN</td>\n      <td>NaN</td>\n      <td>NaN</td>\n      <td>NaN</td>\n      <td>NaN</td>\n      <td>NaN</td>\n      <td>2021_2717_VAT_OPAM_2_1_FG_PS_AN_A</td>\n      <td>Inoltre, nel caso specifico va sottolineato il...</td>\n    </tr>\n    <tr>\n      <th>3221</th>\n      <td>2021_2717_VAT_OPAM_2_1_FG_PS_AN</td>\n      <td>prem</td>\n      <td>A9</td>\n      <td>A</td>\n      <td>9</td>\n      <td>Per quanto riguarda gli ulteriori motivi con i...</td>\n      <td>F</td>\n      <td>NaN</td>\n      <td>NaN</td>\n      <td>NaN</td>\n      <td>NaN</td>\n      <td>NaN</td>\n      <td>NaN</td>\n      <td>2021_2717_VAT_OPAM_2_1_FG_PS_AN_A</td>\n      <td>Per quanto riguarda gli ulteriori motivi con i...</td>\n    </tr>\n    <tr>\n      <th>3222</th>\n      <td>2021_2717_VAT_OPAM_2_1_FG_PS_AN</td>\n      <td>prem</td>\n      <td>A10</td>\n      <td>A</td>\n      <td>10</td>\n      <td>In proposito giova ricordare che l’inesistenza...</td>\n      <td>[F, L]</td>\n      <td>NaN</td>\n      <td>NaN</td>\n      <td>NaN</td>\n      <td>NaN</td>\n      <td>NaN</td>\n      <td>[Prec, Rule]</td>\n      <td>2021_2717_VAT_OPAM_2_1_FG_PS_AN_A</td>\n      <td>In proposito giova ricordare che l’inesistenza...</td>\n    </tr>\n    <tr>\n      <th>3223</th>\n      <td>2021_2717_VAT_OPAM_2_1_FG_PS_AN</td>\n      <td>prem</td>\n      <td>A11</td>\n      <td>A</td>\n      <td>11</td>\n      <td>Più chiaramente la detrazione dell'IVA è indeb...</td>\n      <td>[F, L]</td>\n      <td>NaN</td>\n      <td>NaN</td>\n      <td>NaN</td>\n      <td>NaN</td>\n      <td>NaN</td>\n      <td>Rule</td>\n      <td>2021_2717_VAT_OPAM_2_1_FG_PS_AN_A</td>\n      <td>Più chiaramente la detrazione dell'IVA è indeb...</td>\n    </tr>\n    <tr>\n      <th>3224</th>\n      <td>2021_2717_VAT_OPAM_2_1_FG_PS_AN</td>\n      <td>prem</td>\n      <td>A12</td>\n      <td>A</td>\n      <td>12</td>\n      <td>Sul punto è di conforto la pronuncia della Cor...</td>\n      <td>L</td>\n      <td>NaN</td>\n      <td>NaN</td>\n      <td>NaN</td>\n      <td>NaN</td>\n      <td>NaN</td>\n      <td>Prec</td>\n      <td>2021_2717_VAT_OPAM_2_1_FG_PS_AN_A</td>\n      <td>Sul punto è di conforto la pronuncia della Cor...</td>\n    </tr>\n    <tr>\n      <th>3225</th>\n      <td>2021_2717_VAT_OPAM_2_1_FG_PS_AN</td>\n      <td>prem</td>\n      <td>A13</td>\n      <td>A</td>\n      <td>13</td>\n      <td>In conclusione poichè sono risultati legittimi...</td>\n      <td>F</td>\n      <td>[A10, A11, A12, A13, A7, A8, A9]</td>\n      <td>NaN</td>\n      <td>NaN</td>\n      <td>NaN</td>\n      <td>NaN</td>\n      <td>NaN</td>\n      <td>2021_2717_VAT_OPAM_2_1_FG_PS_AN_A</td>\n      <td>In conclusione poichè sono risultati legittimi...</td>\n    </tr>\n  </tbody>\n</table>\n</div>"
          },
          "metadata": {}
        }
      ]
    },
    {
      "cell_type": "markdown",
      "source": [
        "# Preproccesing"
      ],
      "metadata": {
        "id": "K78LAtcaGNEE"
      }
    },
    {
      "cell_type": "markdown",
      "source": [
        "## Removing NaN values"
      ],
      "metadata": {
        "id": "LnLoaCWQGz5W"
      }
    },
    {
      "cell_type": "markdown",
      "source": [
        "Check whether there are any null values for ARGUMENT CLASSIFICATION(AC) task (Name column), and if it's the case then drop them:"
      ],
      "metadata": {
        "id": "9B18ZNXLk6GU"
      }
    },
    {
      "cell_type": "code",
      "source": [
        "df_ac = df[~(df['Name'].isnull())].reset_index(drop=True)\n",
        "df_ac['Name'].unique()"
      ],
      "metadata": {
        "colab": {
          "base_uri": "https://localhost:8080/"
        },
        "id": "tlturRTRk6GV",
        "outputId": "302e0670-f4c5-4799-b1aa-1f6106a88945",
        "execution": {
          "iopub.status.busy": "2024-06-01T11:11:49.895312Z",
          "iopub.execute_input": "2024-06-01T11:11:49.895685Z",
          "iopub.status.idle": "2024-06-01T11:11:49.908Z",
          "shell.execute_reply.started": "2024-06-01T11:11:49.895659Z",
          "shell.execute_reply": "2024-06-01T11:11:49.907035Z"
        },
        "trusted": true
      },
      "execution_count": null,
      "outputs": [
        {
          "execution_count": 60,
          "output_type": "execute_result",
          "data": {
            "text/plain": "array(['prem', 'conc'], dtype=object)"
          },
          "metadata": {}
        }
      ]
    },
    {
      "cell_type": "markdown",
      "source": [
        "Check whether there are any null values for TYPE CLASSIFICATION(TC) task (Type column), and if it's the case then drop them"
      ],
      "metadata": {
        "id": "y7GvPEfNk6GW"
      }
    },
    {
      "cell_type": "code",
      "source": [
        "df_tc = df_ac[~(df_ac['Type'].isnull())].reset_index(drop=True)\n",
        "df_tc.describe()\n",
        "df_tc['Type'].drop_duplicates()\n"
      ],
      "metadata": {
        "colab": {
          "base_uri": "https://localhost:8080/"
        },
        "id": "4XQlgqOPk6GW",
        "outputId": "ca91e51f-23d5-459e-8a50-a8cf038d685c",
        "execution": {
          "iopub.status.busy": "2024-06-01T11:11:49.909445Z",
          "iopub.execute_input": "2024-06-01T11:11:49.91035Z",
          "iopub.status.idle": "2024-06-01T11:11:49.955079Z",
          "shell.execute_reply.started": "2024-06-01T11:11:49.910313Z",
          "shell.execute_reply": "2024-06-01T11:11:49.95409Z"
        },
        "trusted": true
      },
      "execution_count": null,
      "outputs": [
        {
          "execution_count": 61,
          "output_type": "execute_result",
          "data": {
            "text/plain": "0          F\n1          L\n13    [F, L]\nName: Type, dtype: object"
          },
          "metadata": {}
        }
      ]
    },
    {
      "cell_type": "markdown",
      "source": [
        "Check whether there are any null values for SCHEME CLASSIFICATION(SC) task (Scheme column), and if it's the case then drop them"
      ],
      "metadata": {
        "id": "BR15CCTIk6GX"
      }
    },
    {
      "cell_type": "code",
      "source": [
        "df_sc = df_tc[~(df_tc['Scheme'].isnull())].reset_index(drop=True)\n",
        "#print(df_sc.describe())\n",
        "df_sc['Scheme'].drop_duplicates()"
      ],
      "metadata": {
        "colab": {
          "base_uri": "https://localhost:8080/"
        },
        "id": "iXGvfxi1k6GX",
        "outputId": "1b67bb58-a5b1-4b79-d4d8-a88813b1178c",
        "execution": {
          "iopub.status.busy": "2024-06-01T11:11:49.956573Z",
          "iopub.execute_input": "2024-06-01T11:11:49.957014Z",
          "iopub.status.idle": "2024-06-01T11:11:49.969464Z",
          "shell.execute_reply.started": "2024-06-01T11:11:49.956975Z",
          "shell.execute_reply": "2024-06-01T11:11:49.968536Z"
        },
        "trusted": true
      },
      "execution_count": null,
      "outputs": [
        {
          "execution_count": 62,
          "output_type": "execute_result",
          "data": {
            "text/plain": "0                      Rule\n1                      Itpr\n4                      Prec\n15             [Itpr, Prec]\n21                      Aut\n               ...         \n1223    [Class, Itpr, Rule]\n1240           [Acon, Itpr]\n1241          [Class, Tele]\n1276     [Prec, Rule, Syst]\n1282     [Aut, Itpr, Princ]\nName: Scheme, Length: 63, dtype: object"
          },
          "metadata": {}
        }
      ]
    },
    {
      "cell_type": "code",
      "source": [
        "df_ac.describe().drop('top',axis=0)"
      ],
      "metadata": {
        "colab": {
          "base_uri": "https://localhost:8080/",
          "height": 143
        },
        "id": "TzEB4o1zk6GY",
        "outputId": "a183f0ad-4b04-4634-f2bd-8eb175255a7d",
        "execution": {
          "iopub.status.busy": "2024-06-01T11:11:49.970852Z",
          "iopub.execute_input": "2024-06-01T11:11:49.971243Z",
          "iopub.status.idle": "2024-06-01T11:11:50.031968Z",
          "shell.execute_reply.started": "2024-06-01T11:11:49.971206Z",
          "shell.execute_reply": "2024-06-01T11:11:50.03105Z"
        },
        "trusted": true
      },
      "execution_count": null,
      "outputs": [
        {
          "execution_count": 63,
          "output_type": "execute_result",
          "data": {
            "text/plain": "       Document  Name    Id Chain   Num  Text  Type   SUP SFF ATT INH REPH  \\\ncount      3311  3311  3311  3311  3311  3311  2910  1088  82  66  25   89   \nunique      225     2   264    10    98  3163     3   428  48  32  19   31   \nfreq         79  2910   221  2348   365    12  1572    54   6   8   3   29   \n\n       Scheme FullChainID Previous  \ncount    1314        3311     3311  \nunique     63         367     3186  \nfreq      349          79       12  ",
            "text/html": "<div>\n<style scoped>\n    .dataframe tbody tr th:only-of-type {\n        vertical-align: middle;\n    }\n\n    .dataframe tbody tr th {\n        vertical-align: top;\n    }\n\n    .dataframe thead th {\n        text-align: right;\n    }\n</style>\n<table border=\"1\" class=\"dataframe\">\n  <thead>\n    <tr style=\"text-align: right;\">\n      <th></th>\n      <th>Document</th>\n      <th>Name</th>\n      <th>Id</th>\n      <th>Chain</th>\n      <th>Num</th>\n      <th>Text</th>\n      <th>Type</th>\n      <th>SUP</th>\n      <th>SFF</th>\n      <th>ATT</th>\n      <th>INH</th>\n      <th>REPH</th>\n      <th>Scheme</th>\n      <th>FullChainID</th>\n      <th>Previous</th>\n    </tr>\n  </thead>\n  <tbody>\n    <tr>\n      <th>count</th>\n      <td>3311</td>\n      <td>3311</td>\n      <td>3311</td>\n      <td>3311</td>\n      <td>3311</td>\n      <td>3311</td>\n      <td>2910</td>\n      <td>1088</td>\n      <td>82</td>\n      <td>66</td>\n      <td>25</td>\n      <td>89</td>\n      <td>1314</td>\n      <td>3311</td>\n      <td>3311</td>\n    </tr>\n    <tr>\n      <th>unique</th>\n      <td>225</td>\n      <td>2</td>\n      <td>264</td>\n      <td>10</td>\n      <td>98</td>\n      <td>3163</td>\n      <td>3</td>\n      <td>428</td>\n      <td>48</td>\n      <td>32</td>\n      <td>19</td>\n      <td>31</td>\n      <td>63</td>\n      <td>367</td>\n      <td>3186</td>\n    </tr>\n    <tr>\n      <th>freq</th>\n      <td>79</td>\n      <td>2910</td>\n      <td>221</td>\n      <td>2348</td>\n      <td>365</td>\n      <td>12</td>\n      <td>1572</td>\n      <td>54</td>\n      <td>6</td>\n      <td>8</td>\n      <td>3</td>\n      <td>29</td>\n      <td>349</td>\n      <td>79</td>\n      <td>12</td>\n    </tr>\n  </tbody>\n</table>\n</div>"
          },
          "metadata": {}
        }
      ]
    },
    {
      "cell_type": "code",
      "source": [
        "df_tc.describe().drop('top',axis=0)"
      ],
      "metadata": {
        "colab": {
          "base_uri": "https://localhost:8080/",
          "height": 143
        },
        "id": "sfq9mwlDk6GZ",
        "outputId": "306befda-113e-48fb-c8b6-7ffac3c92bf2",
        "execution": {
          "iopub.status.busy": "2024-06-01T11:11:50.033473Z",
          "iopub.execute_input": "2024-06-01T11:11:50.034149Z",
          "iopub.status.idle": "2024-06-01T11:11:50.085343Z",
          "shell.execute_reply.started": "2024-06-01T11:11:50.034112Z",
          "shell.execute_reply": "2024-06-01T11:11:50.084369Z"
        },
        "trusted": true
      },
      "execution_count": null,
      "outputs": [
        {
          "execution_count": 64,
          "output_type": "execute_result",
          "data": {
            "text/plain": "       Document  Name    Id Chain   Num  Text  Type  SUP SFF ATT INH REPH  \\\ncount      2910  2910  2910  2910  2910  2910  2910  691  42  66  25   20   \nunique      225     1   255    10    95  2797     3  299  28  32  19   16   \nfreq         78  2910   214  2094   347    11  1572   30   4   8   3    2   \n\n       Scheme FullChainID Previous  \ncount    1314        2910     2910  \nunique     63         367     2812  \nfreq      349          78       11  ",
            "text/html": "<div>\n<style scoped>\n    .dataframe tbody tr th:only-of-type {\n        vertical-align: middle;\n    }\n\n    .dataframe tbody tr th {\n        vertical-align: top;\n    }\n\n    .dataframe thead th {\n        text-align: right;\n    }\n</style>\n<table border=\"1\" class=\"dataframe\">\n  <thead>\n    <tr style=\"text-align: right;\">\n      <th></th>\n      <th>Document</th>\n      <th>Name</th>\n      <th>Id</th>\n      <th>Chain</th>\n      <th>Num</th>\n      <th>Text</th>\n      <th>Type</th>\n      <th>SUP</th>\n      <th>SFF</th>\n      <th>ATT</th>\n      <th>INH</th>\n      <th>REPH</th>\n      <th>Scheme</th>\n      <th>FullChainID</th>\n      <th>Previous</th>\n    </tr>\n  </thead>\n  <tbody>\n    <tr>\n      <th>count</th>\n      <td>2910</td>\n      <td>2910</td>\n      <td>2910</td>\n      <td>2910</td>\n      <td>2910</td>\n      <td>2910</td>\n      <td>2910</td>\n      <td>691</td>\n      <td>42</td>\n      <td>66</td>\n      <td>25</td>\n      <td>20</td>\n      <td>1314</td>\n      <td>2910</td>\n      <td>2910</td>\n    </tr>\n    <tr>\n      <th>unique</th>\n      <td>225</td>\n      <td>1</td>\n      <td>255</td>\n      <td>10</td>\n      <td>95</td>\n      <td>2797</td>\n      <td>3</td>\n      <td>299</td>\n      <td>28</td>\n      <td>32</td>\n      <td>19</td>\n      <td>16</td>\n      <td>63</td>\n      <td>367</td>\n      <td>2812</td>\n    </tr>\n    <tr>\n      <th>freq</th>\n      <td>78</td>\n      <td>2910</td>\n      <td>214</td>\n      <td>2094</td>\n      <td>347</td>\n      <td>11</td>\n      <td>1572</td>\n      <td>30</td>\n      <td>4</td>\n      <td>8</td>\n      <td>3</td>\n      <td>2</td>\n      <td>349</td>\n      <td>78</td>\n      <td>11</td>\n    </tr>\n  </tbody>\n</table>\n</div>"
          },
          "metadata": {}
        }
      ]
    },
    {
      "cell_type": "code",
      "source": [
        "df_sc.describe().drop('top', axis=0)"
      ],
      "metadata": {
        "colab": {
          "base_uri": "https://localhost:8080/",
          "height": 143
        },
        "id": "p_4kY233k6GZ",
        "outputId": "05832c24-d715-49b3-fdf2-6756cec67b89",
        "execution": {
          "iopub.status.busy": "2024-06-01T11:11:50.088909Z",
          "iopub.execute_input": "2024-06-01T11:11:50.089184Z",
          "iopub.status.idle": "2024-06-01T11:11:50.130842Z",
          "shell.execute_reply.started": "2024-06-01T11:11:50.08916Z",
          "shell.execute_reply": "2024-06-01T11:11:50.129902Z"
        },
        "trusted": true
      },
      "execution_count": null,
      "outputs": [
        {
          "execution_count": 65,
          "output_type": "execute_result",
          "data": {
            "text/plain": "       Document  Name    Id Chain   Num  Text  Type  SUP SFF ATT INH REPH  \\\ncount      1314  1314  1314  1314  1314  1314  1314  272  14   9  14    3   \nunique      203     1   164    10    62  1256     3  129  11   7  13    3   \nfreq         41  1314   103   944   174     3  1000   15   2   2   2    1   \n\n       Scheme FullChainID Previous  \ncount    1314        1314     1314  \nunique     63         309     1260  \nfreq      349          41        3  ",
            "text/html": "<div>\n<style scoped>\n    .dataframe tbody tr th:only-of-type {\n        vertical-align: middle;\n    }\n\n    .dataframe tbody tr th {\n        vertical-align: top;\n    }\n\n    .dataframe thead th {\n        text-align: right;\n    }\n</style>\n<table border=\"1\" class=\"dataframe\">\n  <thead>\n    <tr style=\"text-align: right;\">\n      <th></th>\n      <th>Document</th>\n      <th>Name</th>\n      <th>Id</th>\n      <th>Chain</th>\n      <th>Num</th>\n      <th>Text</th>\n      <th>Type</th>\n      <th>SUP</th>\n      <th>SFF</th>\n      <th>ATT</th>\n      <th>INH</th>\n      <th>REPH</th>\n      <th>Scheme</th>\n      <th>FullChainID</th>\n      <th>Previous</th>\n    </tr>\n  </thead>\n  <tbody>\n    <tr>\n      <th>count</th>\n      <td>1314</td>\n      <td>1314</td>\n      <td>1314</td>\n      <td>1314</td>\n      <td>1314</td>\n      <td>1314</td>\n      <td>1314</td>\n      <td>272</td>\n      <td>14</td>\n      <td>9</td>\n      <td>14</td>\n      <td>3</td>\n      <td>1314</td>\n      <td>1314</td>\n      <td>1314</td>\n    </tr>\n    <tr>\n      <th>unique</th>\n      <td>203</td>\n      <td>1</td>\n      <td>164</td>\n      <td>10</td>\n      <td>62</td>\n      <td>1256</td>\n      <td>3</td>\n      <td>129</td>\n      <td>11</td>\n      <td>7</td>\n      <td>13</td>\n      <td>3</td>\n      <td>63</td>\n      <td>309</td>\n      <td>1260</td>\n    </tr>\n    <tr>\n      <th>freq</th>\n      <td>41</td>\n      <td>1314</td>\n      <td>103</td>\n      <td>944</td>\n      <td>174</td>\n      <td>3</td>\n      <td>1000</td>\n      <td>15</td>\n      <td>2</td>\n      <td>2</td>\n      <td>2</td>\n      <td>1</td>\n      <td>349</td>\n      <td>41</td>\n      <td>3</td>\n    </tr>\n  </tbody>\n</table>\n</div>"
          },
          "metadata": {}
        }
      ]
    },
    {
      "cell_type": "markdown",
      "source": [
        "## Argument classification Label Encoder"
      ],
      "metadata": {
        "id": "i2nAYnxhGUHO"
      }
    },
    {
      "cell_type": "code",
      "source": [
        "#df_ac['label'] = df_ac.Name.map({'prem': 0, 'conc': 1})"
      ],
      "metadata": {
        "id": "Jjbz1xKqk6Gh",
        "execution": {
          "iopub.status.busy": "2024-06-01T11:11:50.132316Z",
          "iopub.execute_input": "2024-06-01T11:11:50.132989Z",
          "iopub.status.idle": "2024-06-01T11:11:50.137432Z",
          "shell.execute_reply.started": "2024-06-01T11:11:50.132944Z",
          "shell.execute_reply": "2024-06-01T11:11:50.136384Z"
        },
        "trusted": true
      },
      "execution_count": null,
      "outputs": []
    },
    {
      "cell_type": "code",
      "source": [
        "from sklearn.preprocessing import LabelEncoder\n",
        "le = LabelEncoder()\n",
        "df_ac['label'] = le.fit_transform(df_ac['Name'])\n",
        "le.classes_\n",
        "le.inverse_transform([0,1])"
      ],
      "metadata": {
        "colab": {
          "base_uri": "https://localhost:8080/"
        },
        "id": "N7d9dVO5k6Gh",
        "outputId": "9aad1fe4-fbb9-462b-9c9e-5b481c500075",
        "execution": {
          "iopub.status.busy": "2024-06-01T11:11:50.138573Z",
          "iopub.execute_input": "2024-06-01T11:11:50.138863Z",
          "iopub.status.idle": "2024-06-01T11:11:50.154387Z",
          "shell.execute_reply.started": "2024-06-01T11:11:50.13881Z",
          "shell.execute_reply": "2024-06-01T11:11:50.153423Z"
        },
        "trusted": true
      },
      "execution_count": null,
      "outputs": [
        {
          "execution_count": 67,
          "output_type": "execute_result",
          "data": {
            "text/plain": "array(['conc', 'prem'], dtype=object)"
          },
          "metadata": {}
        }
      ]
    },
    {
      "cell_type": "code",
      "source": [
        "df_ac['label'].unique()"
      ],
      "metadata": {
        "colab": {
          "base_uri": "https://localhost:8080/"
        },
        "id": "lQ197Nrlk6G2",
        "outputId": "3290e5f0-461c-4fda-8ff4-43ff3ebd1d8b",
        "execution": {
          "iopub.status.busy": "2024-06-01T11:11:50.155537Z",
          "iopub.execute_input": "2024-06-01T11:11:50.155804Z",
          "iopub.status.idle": "2024-06-01T11:11:50.16734Z",
          "shell.execute_reply.started": "2024-06-01T11:11:50.155773Z",
          "shell.execute_reply": "2024-06-01T11:11:50.166442Z"
        },
        "trusted": true
      },
      "execution_count": null,
      "outputs": [
        {
          "execution_count": 68,
          "output_type": "execute_result",
          "data": {
            "text/plain": "array([1, 0])"
          },
          "metadata": {}
        }
      ]
    },
    {
      "cell_type": "code",
      "source": [
        "df_ac['Name'].unique()"
      ],
      "metadata": {
        "colab": {
          "base_uri": "https://localhost:8080/"
        },
        "id": "gIKGCk0fk6G3",
        "outputId": "5b98f4fa-5660-4381-a642-bfb2c88156fc",
        "execution": {
          "iopub.status.busy": "2024-06-01T11:11:50.16867Z",
          "iopub.execute_input": "2024-06-01T11:11:50.168968Z",
          "iopub.status.idle": "2024-06-01T11:11:50.179636Z",
          "shell.execute_reply.started": "2024-06-01T11:11:50.168943Z",
          "shell.execute_reply": "2024-06-01T11:11:50.178648Z"
        },
        "trusted": true
      },
      "execution_count": null,
      "outputs": [
        {
          "execution_count": 69,
          "output_type": "execute_result",
          "data": {
            "text/plain": "array(['prem', 'conc'], dtype=object)"
          },
          "metadata": {}
        }
      ]
    },
    {
      "cell_type": "code",
      "source": [
        "df_ac['label'].hist()"
      ],
      "metadata": {
        "colab": {
          "base_uri": "https://localhost:8080/",
          "height": 448
        },
        "id": "_mFeTOnOk6G4",
        "outputId": "49b2e293-b7e8-410b-cb99-4a81122649e3",
        "execution": {
          "iopub.status.busy": "2024-06-01T11:11:50.180989Z",
          "iopub.execute_input": "2024-06-01T11:11:50.181335Z",
          "iopub.status.idle": "2024-06-01T11:11:50.438727Z",
          "shell.execute_reply.started": "2024-06-01T11:11:50.181307Z",
          "shell.execute_reply": "2024-06-01T11:11:50.437873Z"
        },
        "trusted": true
      },
      "execution_count": null,
      "outputs": [
        {
          "execution_count": 70,
          "output_type": "execute_result",
          "data": {
            "text/plain": "<Axes: >"
          },
          "metadata": {}
        },
        {
          "output_type": "display_data",
          "data": {
            "text/plain": "<Figure size 640x480 with 1 Axes>",
            "image/png": "[encoded data removed]"
          },
          "metadata": {}
        }
      ]
    },
    {
      "cell_type": "markdown",
      "source": [
        "## Type classification multi-label-binarizer"
      ],
      "metadata": {
        "id": "9wLFyRHZk6Ga"
      }
    },
    {
      "cell_type": "code",
      "source": [
        "df_tc.loc[13,'Type']"
      ],
      "metadata": {
        "colab": {
          "base_uri": "https://localhost:8080/"
        },
        "id": "4nBwowhFk6Ga",
        "outputId": "60ebfad4-78e0-448b-c76e-588317542c5b",
        "execution": {
          "iopub.status.busy": "2024-06-01T11:11:50.44011Z",
          "iopub.execute_input": "2024-06-01T11:11:50.440465Z",
          "iopub.status.idle": "2024-06-01T11:11:50.447644Z",
          "shell.execute_reply.started": "2024-06-01T11:11:50.440429Z",
          "shell.execute_reply": "2024-06-01T11:11:50.446764Z"
        },
        "trusted": true
      },
      "execution_count": null,
      "outputs": [
        {
          "execution_count": 71,
          "output_type": "execute_result",
          "data": {
            "text/plain": "['F', 'L']"
          },
          "metadata": {}
        }
      ]
    },
    {
      "cell_type": "code",
      "source": [
        "#need to extract the values from the list, in a way to pass it to the multilabelbinarizer\n",
        "for i in range(len(df_tc)):\n",
        "    x = df_tc.loc[i,'Type']\n",
        "    if type(x) == list:\n",
        "        df_tc.loc[i,'Type'] = \",\".join([x[0],x[1]])\n"
      ],
      "metadata": {
        "id": "52Xv9SwGk6Ga",
        "execution": {
          "iopub.status.busy": "2024-06-01T11:11:50.449075Z",
          "iopub.execute_input": "2024-06-01T11:11:50.449437Z",
          "iopub.status.idle": "2024-06-01T11:11:50.540999Z",
          "shell.execute_reply.started": "2024-06-01T11:11:50.449406Z",
          "shell.execute_reply": "2024-06-01T11:11:50.54015Z"
        },
        "trusted": true
      },
      "execution_count": null,
      "outputs": []
    },
    {
      "cell_type": "code",
      "source": [
        "df_tc.loc[13,'Type']"
      ],
      "metadata": {
        "colab": {
          "base_uri": "https://localhost:8080/",
          "height": 36
        },
        "id": "GUFaslypk6Ga",
        "outputId": "ed646f5c-1b9f-4156-ce95-390141113991",
        "execution": {
          "iopub.status.busy": "2024-06-01T11:11:50.542059Z",
          "iopub.execute_input": "2024-06-01T11:11:50.542322Z",
          "iopub.status.idle": "2024-06-01T11:11:50.54804Z",
          "shell.execute_reply.started": "2024-06-01T11:11:50.542299Z",
          "shell.execute_reply": "2024-06-01T11:11:50.54718Z"
        },
        "trusted": true
      },
      "execution_count": null,
      "outputs": [
        {
          "execution_count": 73,
          "output_type": "execute_result",
          "data": {
            "text/plain": "'F,L'"
          },
          "metadata": {}
        }
      ]
    },
    {
      "cell_type": "code",
      "source": [
        "from sklearn.preprocessing import MultiLabelBinarizer\n",
        "mlb = MultiLabelBinarizer()\n",
        "mlb_result = mlb.fit_transform([str(df_tc.loc[i,'Type']).split(',') for i in range(len(df_tc))])\n",
        "df_tc_final = pd.concat([df_tc,pd.DataFrame(mlb_result,columns=list(mlb.classes_))],axis=1)\n",
        "df_tc_final"
      ],
      "metadata": {
        "colab": {
          "base_uri": "https://localhost:8080/",
          "height": 999
        },
        "id": "V-x7k3ook6Gb",
        "outputId": "1f1a5814-2475-4096-e65e-53259ec294e0",
        "execution": {
          "iopub.status.busy": "2024-06-01T11:11:50.549329Z",
          "iopub.execute_input": "2024-06-01T11:11:50.549647Z",
          "iopub.status.idle": "2024-06-01T11:11:50.62953Z",
          "shell.execute_reply.started": "2024-06-01T11:11:50.549617Z",
          "shell.execute_reply": "2024-06-01T11:11:50.628582Z"
        },
        "trusted": true
      },
      "execution_count": null,
      "outputs": [
        {
          "execution_count": 74,
          "output_type": "execute_result",
          "data": {
            "text/plain": "                             Document  Name   Id Chain Num  \\\n0     2013_40_VAT_OPAM_2_REM_MB_PS_AN  prem   A1     A   1   \n1     2013_40_VAT_OPAM_2_REM_MB_PS_AN  prem   A2     A   2   \n2     2013_40_VAT_OPAM_2_REM_MB_PS_AN  prem   A3     A   3   \n3     2013_40_VAT_OPAM_2_REM_MB_PS_AN  prem   A4     A   4   \n4     2013_40_VAT_OPAM_2_REM_MB_PS_AN  prem   A5     A   5   \n...                               ...   ...  ...   ...  ..   \n2905     2021_6075_VAT_OPAM_2_1_PS_AN  prem  C15     C  15   \n2906     2021_6075_VAT_OPAM_2_1_PS_AN  prem  C16     C  16   \n2907     2021_6075_VAT_OPAM_2_1_PS_AN  prem  C17     C  17   \n2908     2021_6075_VAT_OPAM_2_1_PS_AN  prem  C18     C  18   \n2909     2021_6075_VAT_OPAM_2_1_PS_AN  prem  C19     C  19   \n\n                                                   Text Type  SUP  SFF  ATT  \\\n0     In via preliminare, il Collegio prende in cons...    F  NaN  NaN  NaN   \n1     Ai sensi dell'art. 14 del d.lgs.546/92, se l'o...    L  NaN  NaN  NaN   \n2     Se il ricorso non è stato    proposto da o nei...    L  NaN  NaN  NaN   \n3     Nel caso di specie solo la ILDS ha presentato ...    F  NaN  NaN  NaN   \n4     come    espressamente richiesto nel ricorso in...    F  NaN  NaN  NaN   \n...                                                 ...  ...  ...  ...  ...   \n2905  Sotto questo profilo i Compro Oro sono sottopo...    L  NaN  NaN  NaN   \n2906  Tale comunicazione ha luogo quando i destinata...    L  NaN  NaN  NaN   \n2907  Il Ministro dell'interno, con decreto del 17 f...    L  NaN  NaN  NaN   \n2908  Tra i soggetti destinatari del decreto sono ri...    L  NaN  NaN  NaN   \n2909  In conclusione, per quanto fin qui esposto, i ...    L       NaN  NaN   \n\n      INH REPH         Scheme                        FullChainID  \\\n0     NaN  NaN            NaN  2013_40_VAT_OPAM_2_REM_MB_PS_AN_A   \n1     NaN  NaN           Rule  2013_40_VAT_OPAM_2_REM_MB_PS_AN_A   \n2     NaN  NaN           Itpr  2013_40_VAT_OPAM_2_REM_MB_PS_AN_A   \n3     NaN  NaN            NaN  2013_40_VAT_OPAM_2_REM_MB_PS_AN_A   \n4     NaN  NaN            NaN  2013_40_VAT_OPAM_2_REM_MB_PS_AN_A   \n...   ...  ...            ...                                ...   \n2905  NaN  NaN           Rule     2021_6075_VAT_OPAM_2_1_PS_AN_C   \n2906  NaN  NaN           Rule     2021_6075_VAT_OPAM_2_1_PS_AN_C   \n2907  NaN  NaN           Rule     2021_6075_VAT_OPAM_2_1_PS_AN_C   \n2908  NaN  NaN  [Class, Rule]     2021_6075_VAT_OPAM_2_1_PS_AN_C   \n2909  NaN  NaN          Class     2021_6075_VAT_OPAM_2_1_PS_AN_C   \n\n                                               Previous  F  L  \n0      In via preliminare, il Collegio prende in con...  1  0  \n1      Ai sensi dell'art. 14 del d.lgs.546/92, se l'...  0  1  \n2      Se il ricorso non è stato\\n    proposto da o ...  0  1  \n3      Nel caso di specie solo la ILDS ha presentato...  1  0  \n4      come\\n    espressamente richiesto nel ricorso...  1  0  \n...                                                 ... .. ..  \n2905  Sotto questo profilo i Compro Oro sono sottopo...  0  1  \n2906  Tale comunicazione ha luogo quando i destinata...  0  1  \n2907  Il Ministro dell'interno, con decreto del 17 f...  0  1  \n2908  Tra i soggetti destinatari del decreto sono ri...  0  1  \n2909  In conclusione, per quanto fin qui esposto, i ...  0  1  \n\n[2910 rows x 17 columns]",
            "text/html": "<div>\n<style scoped>\n    .dataframe tbody tr th:only-of-type {\n        vertical-align: middle;\n    }\n\n    .dataframe tbody tr th {\n        vertical-align: top;\n    }\n\n    .dataframe thead th {\n        text-align: right;\n    }\n</style>\n<table border=\"1\" class=\"dataframe\">\n  <thead>\n    <tr style=\"text-align: right;\">\n      <th></th>\n      <th>Document</th>\n      <th>Name</th>\n      <th>Id</th>\n      <th>Chain</th>\n      <th>Num</th>\n      <th>Text</th>\n      <th>Type</th>\n      <th>SUP</th>\n      <th>SFF</th>\n      <th>ATT</th>\n      <th>INH</th>\n      <th>REPH</th>\n      <th>Scheme</th>\n      <th>FullChainID</th>\n      <th>Previous</th>\n      <th>F</th>\n      <th>L</th>\n    </tr>\n  </thead>\n  <tbody>\n    <tr>\n      <th>0</th>\n      <td>2013_40_VAT_OPAM_2_REM_MB_PS_AN</td>\n      <td>prem</td>\n      <td>A1</td>\n      <td>A</td>\n      <td>1</td>\n      <td>In via preliminare, il Collegio prende in cons...</td>\n      <td>F</td>\n      <td>NaN</td>\n      <td>NaN</td>\n      <td>NaN</td>\n      <td>NaN</td>\n      <td>NaN</td>\n      <td>NaN</td>\n      <td>2013_40_VAT_OPAM_2_REM_MB_PS_AN_A</td>\n      <td>In via preliminare, il Collegio prende in con...</td>\n      <td>1</td>\n      <td>0</td>\n    </tr>\n    <tr>\n      <th>1</th>\n      <td>2013_40_VAT_OPAM_2_REM_MB_PS_AN</td>\n      <td>prem</td>\n      <td>A2</td>\n      <td>A</td>\n      <td>2</td>\n      <td>Ai sensi dell'art. 14 del d.lgs.546/92, se l'o...</td>\n      <td>L</td>\n      <td>NaN</td>\n      <td>NaN</td>\n      <td>NaN</td>\n      <td>NaN</td>\n      <td>NaN</td>\n      <td>Rule</td>\n      <td>2013_40_VAT_OPAM_2_REM_MB_PS_AN_A</td>\n      <td>Ai sensi dell'art. 14 del d.lgs.546/92, se l'...</td>\n      <td>0</td>\n      <td>1</td>\n    </tr>\n    <tr>\n      <th>2</th>\n      <td>2013_40_VAT_OPAM_2_REM_MB_PS_AN</td>\n      <td>prem</td>\n      <td>A3</td>\n      <td>A</td>\n      <td>3</td>\n      <td>Se il ricorso non è stato    proposto da o nei...</td>\n      <td>L</td>\n      <td>NaN</td>\n      <td>NaN</td>\n      <td>NaN</td>\n      <td>NaN</td>\n      <td>NaN</td>\n      <td>Itpr</td>\n      <td>2013_40_VAT_OPAM_2_REM_MB_PS_AN_A</td>\n      <td>Se il ricorso non è stato\\n    proposto da o ...</td>\n      <td>0</td>\n      <td>1</td>\n    </tr>\n    <tr>\n      <th>3</th>\n      <td>2013_40_VAT_OPAM_2_REM_MB_PS_AN</td>\n      <td>prem</td>\n      <td>A4</td>\n      <td>A</td>\n      <td>4</td>\n      <td>Nel caso di specie solo la ILDS ha presentato ...</td>\n      <td>F</td>\n      <td>NaN</td>\n      <td>NaN</td>\n      <td>NaN</td>\n      <td>NaN</td>\n      <td>NaN</td>\n      <td>NaN</td>\n      <td>2013_40_VAT_OPAM_2_REM_MB_PS_AN_A</td>\n      <td>Nel caso di specie solo la ILDS ha presentato...</td>\n      <td>1</td>\n      <td>0</td>\n    </tr>\n    <tr>\n      <th>4</th>\n      <td>2013_40_VAT_OPAM_2_REM_MB_PS_AN</td>\n      <td>prem</td>\n      <td>A5</td>\n      <td>A</td>\n      <td>5</td>\n      <td>come    espressamente richiesto nel ricorso in...</td>\n      <td>F</td>\n      <td>NaN</td>\n      <td>NaN</td>\n      <td>NaN</td>\n      <td>NaN</td>\n      <td>NaN</td>\n      <td>NaN</td>\n      <td>2013_40_VAT_OPAM_2_REM_MB_PS_AN_A</td>\n      <td>come\\n    espressamente richiesto nel ricorso...</td>\n      <td>1</td>\n      <td>0</td>\n    </tr>\n    <tr>\n      <th>...</th>\n      <td>...</td>\n      <td>...</td>\n      <td>...</td>\n      <td>...</td>\n      <td>...</td>\n      <td>...</td>\n      <td>...</td>\n      <td>...</td>\n      <td>...</td>\n      <td>...</td>\n      <td>...</td>\n      <td>...</td>\n      <td>...</td>\n      <td>...</td>\n      <td>...</td>\n      <td>...</td>\n      <td>...</td>\n    </tr>\n    <tr>\n      <th>2905</th>\n      <td>2021_6075_VAT_OPAM_2_1_PS_AN</td>\n      <td>prem</td>\n      <td>C15</td>\n      <td>C</td>\n      <td>15</td>\n      <td>Sotto questo profilo i Compro Oro sono sottopo...</td>\n      <td>L</td>\n      <td>NaN</td>\n      <td>NaN</td>\n      <td>NaN</td>\n      <td>NaN</td>\n      <td>NaN</td>\n      <td>Rule</td>\n      <td>2021_6075_VAT_OPAM_2_1_PS_AN_C</td>\n      <td>Sotto questo profilo i Compro Oro sono sottopo...</td>\n      <td>0</td>\n      <td>1</td>\n    </tr>\n    <tr>\n      <th>2906</th>\n      <td>2021_6075_VAT_OPAM_2_1_PS_AN</td>\n      <td>prem</td>\n      <td>C16</td>\n      <td>C</td>\n      <td>16</td>\n      <td>Tale comunicazione ha luogo quando i destinata...</td>\n      <td>L</td>\n      <td>NaN</td>\n      <td>NaN</td>\n      <td>NaN</td>\n      <td>NaN</td>\n      <td>NaN</td>\n      <td>Rule</td>\n      <td>2021_6075_VAT_OPAM_2_1_PS_AN_C</td>\n      <td>Tale comunicazione ha luogo quando i destinata...</td>\n      <td>0</td>\n      <td>1</td>\n    </tr>\n    <tr>\n      <th>2907</th>\n      <td>2021_6075_VAT_OPAM_2_1_PS_AN</td>\n      <td>prem</td>\n      <td>C17</td>\n      <td>C</td>\n      <td>17</td>\n      <td>Il Ministro dell'interno, con decreto del 17 f...</td>\n      <td>L</td>\n      <td>NaN</td>\n      <td>NaN</td>\n      <td>NaN</td>\n      <td>NaN</td>\n      <td>NaN</td>\n      <td>Rule</td>\n      <td>2021_6075_VAT_OPAM_2_1_PS_AN_C</td>\n      <td>Il Ministro dell'interno, con decreto del 17 f...</td>\n      <td>0</td>\n      <td>1</td>\n    </tr>\n    <tr>\n      <th>2908</th>\n      <td>2021_6075_VAT_OPAM_2_1_PS_AN</td>\n      <td>prem</td>\n      <td>C18</td>\n      <td>C</td>\n      <td>18</td>\n      <td>Tra i soggetti destinatari del decreto sono ri...</td>\n      <td>L</td>\n      <td>NaN</td>\n      <td>NaN</td>\n      <td>NaN</td>\n      <td>NaN</td>\n      <td>NaN</td>\n      <td>[Class, Rule]</td>\n      <td>2021_6075_VAT_OPAM_2_1_PS_AN_C</td>\n      <td>Tra i soggetti destinatari del decreto sono ri...</td>\n      <td>0</td>\n      <td>1</td>\n    </tr>\n    <tr>\n      <th>2909</th>\n      <td>2021_6075_VAT_OPAM_2_1_PS_AN</td>\n      <td>prem</td>\n      <td>C19</td>\n      <td>C</td>\n      <td>19</td>\n      <td>In conclusione, per quanto fin qui esposto, i ...</td>\n      <td>L</td>\n      <td></td>\n      <td>NaN</td>\n      <td>NaN</td>\n      <td>NaN</td>\n      <td>NaN</td>\n      <td>Class</td>\n      <td>2021_6075_VAT_OPAM_2_1_PS_AN_C</td>\n      <td>In conclusione, per quanto fin qui esposto, i ...</td>\n      <td>0</td>\n      <td>1</td>\n    </tr>\n  </tbody>\n</table>\n<p>2910 rows × 17 columns</p>\n</div>"
          },
          "metadata": {}
        }
      ]
    },
    {
      "cell_type": "code",
      "source": [
        "df_tc_labels = df_tc_final[['F','L']]\n",
        "df_tc_labels"
      ],
      "metadata": {
        "colab": {
          "base_uri": "https://localhost:8080/",
          "height": 423
        },
        "id": "Tdr2EKPVk6Gb",
        "outputId": "cfed7ee6-e13e-4131-b096-3cbf43d8e819",
        "execution": {
          "iopub.status.busy": "2024-06-01T11:11:50.630813Z",
          "iopub.execute_input": "2024-06-01T11:11:50.631119Z",
          "iopub.status.idle": "2024-06-01T11:11:50.641697Z",
          "shell.execute_reply.started": "2024-06-01T11:11:50.631093Z",
          "shell.execute_reply": "2024-06-01T11:11:50.640613Z"
        },
        "trusted": true
      },
      "execution_count": null,
      "outputs": [
        {
          "execution_count": 75,
          "output_type": "execute_result",
          "data": {
            "text/plain": "      F  L\n0     1  0\n1     0  1\n2     0  1\n3     1  0\n4     1  0\n...  .. ..\n2905  0  1\n2906  0  1\n2907  0  1\n2908  0  1\n2909  0  1\n\n[2910 rows x 2 columns]",
            "text/html": "<div>\n<style scoped>\n    .dataframe tbody tr th:only-of-type {\n        vertical-align: middle;\n    }\n\n    .dataframe tbody tr th {\n        vertical-align: top;\n    }\n\n    .dataframe thead th {\n        text-align: right;\n    }\n</style>\n<table border=\"1\" class=\"dataframe\">\n  <thead>\n    <tr style=\"text-align: right;\">\n      <th></th>\n      <th>F</th>\n      <th>L</th>\n    </tr>\n  </thead>\n  <tbody>\n    <tr>\n      <th>0</th>\n      <td>1</td>\n      <td>0</td>\n    </tr>\n    <tr>\n      <th>1</th>\n      <td>0</td>\n      <td>1</td>\n    </tr>\n    <tr>\n      <th>2</th>\n      <td>0</td>\n      <td>1</td>\n    </tr>\n    <tr>\n      <th>3</th>\n      <td>1</td>\n      <td>0</td>\n    </tr>\n    <tr>\n      <th>4</th>\n      <td>1</td>\n      <td>0</td>\n    </tr>\n    <tr>\n      <th>...</th>\n      <td>...</td>\n      <td>...</td>\n    </tr>\n    <tr>\n      <th>2905</th>\n      <td>0</td>\n      <td>1</td>\n    </tr>\n    <tr>\n      <th>2906</th>\n      <td>0</td>\n      <td>1</td>\n    </tr>\n    <tr>\n      <th>2907</th>\n      <td>0</td>\n      <td>1</td>\n    </tr>\n    <tr>\n      <th>2908</th>\n      <td>0</td>\n      <td>1</td>\n    </tr>\n    <tr>\n      <th>2909</th>\n      <td>0</td>\n      <td>1</td>\n    </tr>\n  </tbody>\n</table>\n<p>2910 rows × 2 columns</p>\n</div>"
          },
          "metadata": {}
        }
      ]
    },
    {
      "cell_type": "markdown",
      "source": [
        "## Scheme classification multi-label-binarizer"
      ],
      "metadata": {
        "id": "HTWItdZMk6Gb"
      }
    },
    {
      "cell_type": "code",
      "source": [
        "#need to extract the values from the list, so convert to string, in a way to pass them to the multilabelbinarizer\n",
        "for i in range(len(df_sc)):\n",
        "    x = df_sc.loc[i,'Scheme']\n",
        "    if type(x) == list:\n",
        "        df_sc.loc[i,'Scheme'] = \",\".join(x)\n"
      ],
      "metadata": {
        "id": "-0ruGf5xk6Gc",
        "execution": {
          "iopub.status.busy": "2024-06-01T11:11:50.642942Z",
          "iopub.execute_input": "2024-06-01T11:11:50.643283Z",
          "iopub.status.idle": "2024-06-01T11:11:50.711324Z",
          "shell.execute_reply.started": "2024-06-01T11:11:50.643243Z",
          "shell.execute_reply": "2024-06-01T11:11:50.710369Z"
        },
        "trusted": true
      },
      "execution_count": null,
      "outputs": []
    },
    {
      "cell_type": "code",
      "source": [
        "from sklearn.preprocessing import MultiLabelBinarizer\n",
        "mlb = MultiLabelBinarizer()\n",
        "mlb_result = mlb.fit_transform([str(df_sc.loc[i,'Scheme']).split(',') for i in range(len(df_sc))])\n",
        "df_sc_final = pd.concat([df_sc,pd.DataFrame(mlb_result,columns=list(mlb.classes_))],axis=1)\n",
        "df_sc_final"
      ],
      "metadata": {
        "colab": {
          "base_uri": "https://localhost:8080/",
          "height": 999
        },
        "id": "Wj-tkw6Bk6Gc",
        "outputId": "e97aab24-813d-4510-a35a-b21620ddd198",
        "execution": {
          "iopub.status.busy": "2024-06-01T11:11:50.712631Z",
          "iopub.execute_input": "2024-06-01T11:11:50.712938Z",
          "iopub.status.idle": "2024-06-01T11:11:50.76508Z",
          "shell.execute_reply.started": "2024-06-01T11:11:50.712912Z",
          "shell.execute_reply": "2024-06-01T11:11:50.764177Z"
        },
        "trusted": true
      },
      "execution_count": null,
      "outputs": [
        {
          "execution_count": 77,
          "output_type": "execute_result",
          "data": {
            "text/plain": "                             Document  Name   Id Chain Num  \\\n0     2013_40_VAT_OPAM_2_REM_MB_PS_AN  prem   A2     A   2   \n1     2013_40_VAT_OPAM_2_REM_MB_PS_AN  prem   A3     A   3   \n2       2018_847_VAT_OP_2_-1_MB_AF_AN  prem   A1     A   1   \n3       2018_847_VAT_OP_2_-1_MB_AF_AN  prem   A2     A   2   \n4       2018_847_VAT_OP_2_-1_MB_AF_AN  prem   A3     A   3   \n...                               ...   ...  ...   ...  ..   \n1309     2021_6075_VAT_OPAM_2_1_PS_AN  prem  C15     C  15   \n1310     2021_6075_VAT_OPAM_2_1_PS_AN  prem  C16     C  16   \n1311     2021_6075_VAT_OPAM_2_1_PS_AN  prem  C17     C  17   \n1312     2021_6075_VAT_OPAM_2_1_PS_AN  prem  C18     C  18   \n1313     2021_6075_VAT_OPAM_2_1_PS_AN  prem  C19     C  19   \n\n                                                   Text Type       SUP  SFF  \\\n0     Ai sensi dell'art. 14 del d.lgs.546/92, se l'o...    L       NaN  NaN   \n1     Se il ricorso non è stato    proposto da o nei...    L       NaN  NaN   \n2     Secondo condivisa e costante giurisprudenza (C...    L       NaN  NaN   \n3     Tuttavia, nel caso qui in esame, la Comm/ne no...    L  [A3, A4]  NaN   \n4     A tal proposito si ricorda che la Corte cost. ...    L       NaN  NaN   \n...                                                 ...  ...       ...  ...   \n1309  Sotto questo profilo i Compro Oro sono sottopo...    L       NaN  NaN   \n1310  Tale comunicazione ha luogo quando i destinata...    L       NaN  NaN   \n1311  Il Ministro dell'interno, con decreto del 17 f...    L       NaN  NaN   \n1312  Tra i soggetti destinatari del decreto sono ri...    L       NaN  NaN   \n1313  In conclusione, per quanto fin qui esposto, i ...    L            NaN   \n\n      ATT  ... Aut Class Itpr Lit Prec  Princ  Psy  Rule  Syst  Tele  \n0     NaN  ...   0     0    0   0    0      0    0     1     0     0  \n1     NaN  ...   0     0    1   0    0      0    0     0     0     0  \n2     NaN  ...   0     0    0   0    0      0    0     1     0     0  \n3     NaN  ...   0     0    1   0    0      0    0     0     0     0  \n4     NaN  ...   0     0    0   0    1      0    0     0     0     0  \n...   ...  ...  ..   ...  ...  ..  ...    ...  ...   ...   ...   ...  \n1309  NaN  ...   0     0    0   0    0      0    0     1     0     0  \n1310  NaN  ...   0     0    0   0    0      0    0     1     0     0  \n1311  NaN  ...   0     0    0   0    0      0    0     1     0     0  \n1312  NaN  ...   0     1    0   0    0      0    0     1     0     0  \n1313  NaN  ...   0     1    0   0    0      0    0     0     0     0  \n\n[1314 rows x 27 columns]",
            "text/html": "<div>\n<style scoped>\n    .dataframe tbody tr th:only-of-type {\n        vertical-align: middle;\n    }\n\n    .dataframe tbody tr th {\n        vertical-align: top;\n    }\n\n    .dataframe thead th {\n        text-align: right;\n    }\n</style>\n<table border=\"1\" class=\"dataframe\">\n  <thead>\n    <tr style=\"text-align: right;\">\n      <th></th>\n      <th>Document</th>\n      <th>Name</th>\n      <th>Id</th>\n      <th>Chain</th>\n      <th>Num</th>\n      <th>Text</th>\n      <th>Type</th>\n      <th>SUP</th>\n      <th>SFF</th>\n      <th>ATT</th>\n      <th>...</th>\n      <th>Aut</th>\n      <th>Class</th>\n      <th>Itpr</th>\n      <th>Lit</th>\n      <th>Prec</th>\n      <th>Princ</th>\n      <th>Psy</th>\n      <th>Rule</th>\n      <th>Syst</th>\n      <th>Tele</th>\n    </tr>\n  </thead>\n  <tbody>\n    <tr>\n      <th>0</th>\n      <td>2013_40_VAT_OPAM_2_REM_MB_PS_AN</td>\n      <td>prem</td>\n      <td>A2</td>\n      <td>A</td>\n      <td>2</td>\n      <td>Ai sensi dell'art. 14 del d.lgs.546/92, se l'o...</td>\n      <td>L</td>\n      <td>NaN</td>\n      <td>NaN</td>\n      <td>NaN</td>\n      <td>...</td>\n      <td>0</td>\n      <td>0</td>\n      <td>0</td>\n      <td>0</td>\n      <td>0</td>\n      <td>0</td>\n      <td>0</td>\n      <td>1</td>\n      <td>0</td>\n      <td>0</td>\n    </tr>\n    <tr>\n      <th>1</th>\n      <td>2013_40_VAT_OPAM_2_REM_MB_PS_AN</td>\n      <td>prem</td>\n      <td>A3</td>\n      <td>A</td>\n      <td>3</td>\n      <td>Se il ricorso non è stato    proposto da o nei...</td>\n      <td>L</td>\n      <td>NaN</td>\n      <td>NaN</td>\n      <td>NaN</td>\n      <td>...</td>\n      <td>0</td>\n      <td>0</td>\n      <td>1</td>\n      <td>0</td>\n      <td>0</td>\n      <td>0</td>\n      <td>0</td>\n      <td>0</td>\n      <td>0</td>\n      <td>0</td>\n    </tr>\n    <tr>\n      <th>2</th>\n      <td>2018_847_VAT_OP_2_-1_MB_AF_AN</td>\n      <td>prem</td>\n      <td>A1</td>\n      <td>A</td>\n      <td>1</td>\n      <td>Secondo condivisa e costante giurisprudenza (C...</td>\n      <td>L</td>\n      <td>NaN</td>\n      <td>NaN</td>\n      <td>NaN</td>\n      <td>...</td>\n      <td>0</td>\n      <td>0</td>\n      <td>0</td>\n      <td>0</td>\n      <td>0</td>\n      <td>0</td>\n      <td>0</td>\n      <td>1</td>\n      <td>0</td>\n      <td>0</td>\n    </tr>\n    <tr>\n      <th>3</th>\n      <td>2018_847_VAT_OP_2_-1_MB_AF_AN</td>\n      <td>prem</td>\n      <td>A2</td>\n      <td>A</td>\n      <td>2</td>\n      <td>Tuttavia, nel caso qui in esame, la Comm/ne no...</td>\n      <td>L</td>\n      <td>[A3, A4]</td>\n      <td>NaN</td>\n      <td>NaN</td>\n      <td>...</td>\n      <td>0</td>\n      <td>0</td>\n      <td>1</td>\n      <td>0</td>\n      <td>0</td>\n      <td>0</td>\n      <td>0</td>\n      <td>0</td>\n      <td>0</td>\n      <td>0</td>\n    </tr>\n    <tr>\n      <th>4</th>\n      <td>2018_847_VAT_OP_2_-1_MB_AF_AN</td>\n      <td>prem</td>\n      <td>A3</td>\n      <td>A</td>\n      <td>3</td>\n      <td>A tal proposito si ricorda che la Corte cost. ...</td>\n      <td>L</td>\n      <td>NaN</td>\n      <td>NaN</td>\n      <td>NaN</td>\n      <td>...</td>\n      <td>0</td>\n      <td>0</td>\n      <td>0</td>\n      <td>0</td>\n      <td>1</td>\n      <td>0</td>\n      <td>0</td>\n      <td>0</td>\n      <td>0</td>\n      <td>0</td>\n    </tr>\n    <tr>\n      <th>...</th>\n      <td>...</td>\n      <td>...</td>\n      <td>...</td>\n      <td>...</td>\n      <td>...</td>\n      <td>...</td>\n      <td>...</td>\n      <td>...</td>\n      <td>...</td>\n      <td>...</td>\n      <td>...</td>\n      <td>...</td>\n      <td>...</td>\n      <td>...</td>\n      <td>...</td>\n      <td>...</td>\n      <td>...</td>\n      <td>...</td>\n      <td>...</td>\n      <td>...</td>\n      <td>...</td>\n    </tr>\n    <tr>\n      <th>1309</th>\n      <td>2021_6075_VAT_OPAM_2_1_PS_AN</td>\n      <td>prem</td>\n      <td>C15</td>\n      <td>C</td>\n      <td>15</td>\n      <td>Sotto questo profilo i Compro Oro sono sottopo...</td>\n      <td>L</td>\n      <td>NaN</td>\n      <td>NaN</td>\n      <td>NaN</td>\n      <td>...</td>\n      <td>0</td>\n      <td>0</td>\n      <td>0</td>\n      <td>0</td>\n      <td>0</td>\n      <td>0</td>\n      <td>0</td>\n      <td>1</td>\n      <td>0</td>\n      <td>0</td>\n    </tr>\n    <tr>\n      <th>1310</th>\n      <td>2021_6075_VAT_OPAM_2_1_PS_AN</td>\n      <td>prem</td>\n      <td>C16</td>\n      <td>C</td>\n      <td>16</td>\n      <td>Tale comunicazione ha luogo quando i destinata...</td>\n      <td>L</td>\n      <td>NaN</td>\n      <td>NaN</td>\n      <td>NaN</td>\n      <td>...</td>\n      <td>0</td>\n      <td>0</td>\n      <td>0</td>\n      <td>0</td>\n      <td>0</td>\n      <td>0</td>\n      <td>0</td>\n      <td>1</td>\n      <td>0</td>\n      <td>0</td>\n    </tr>\n    <tr>\n      <th>1311</th>\n      <td>2021_6075_VAT_OPAM_2_1_PS_AN</td>\n      <td>prem</td>\n      <td>C17</td>\n      <td>C</td>\n      <td>17</td>\n      <td>Il Ministro dell'interno, con decreto del 17 f...</td>\n      <td>L</td>\n      <td>NaN</td>\n      <td>NaN</td>\n      <td>NaN</td>\n      <td>...</td>\n      <td>0</td>\n      <td>0</td>\n      <td>0</td>\n      <td>0</td>\n      <td>0</td>\n      <td>0</td>\n      <td>0</td>\n      <td>1</td>\n      <td>0</td>\n      <td>0</td>\n    </tr>\n    <tr>\n      <th>1312</th>\n      <td>2021_6075_VAT_OPAM_2_1_PS_AN</td>\n      <td>prem</td>\n      <td>C18</td>\n      <td>C</td>\n      <td>18</td>\n      <td>Tra i soggetti destinatari del decreto sono ri...</td>\n      <td>L</td>\n      <td>NaN</td>\n      <td>NaN</td>\n      <td>NaN</td>\n      <td>...</td>\n      <td>0</td>\n      <td>1</td>\n      <td>0</td>\n      <td>0</td>\n      <td>0</td>\n      <td>0</td>\n      <td>0</td>\n      <td>1</td>\n      <td>0</td>\n      <td>0</td>\n    </tr>\n    <tr>\n      <th>1313</th>\n      <td>2021_6075_VAT_OPAM_2_1_PS_AN</td>\n      <td>prem</td>\n      <td>C19</td>\n      <td>C</td>\n      <td>19</td>\n      <td>In conclusione, per quanto fin qui esposto, i ...</td>\n      <td>L</td>\n      <td></td>\n      <td>NaN</td>\n      <td>NaN</td>\n      <td>...</td>\n      <td>0</td>\n      <td>1</td>\n      <td>0</td>\n      <td>0</td>\n      <td>0</td>\n      <td>0</td>\n      <td>0</td>\n      <td>0</td>\n      <td>0</td>\n      <td>0</td>\n    </tr>\n  </tbody>\n</table>\n<p>1314 rows × 27 columns</p>\n</div>"
          },
          "metadata": {}
        }
      ]
    },
    {
      "cell_type": "code",
      "source": [
        "sc_classes = mlb.classes_\n",
        "sc_classes"
      ],
      "metadata": {
        "colab": {
          "base_uri": "https://localhost:8080/"
        },
        "id": "BB7MJAesAyQf",
        "outputId": "38c94065-4df6-46f7-bc93-a97bb8149048",
        "execution": {
          "iopub.status.busy": "2024-06-01T11:11:50.766213Z",
          "iopub.execute_input": "2024-06-01T11:11:50.766465Z",
          "iopub.status.idle": "2024-06-01T11:11:50.772645Z",
          "shell.execute_reply.started": "2024-06-01T11:11:50.766443Z",
          "shell.execute_reply": "2024-06-01T11:11:50.771735Z"
        },
        "trusted": true
      },
      "execution_count": null,
      "outputs": [
        {
          "execution_count": 78,
          "output_type": "execute_result",
          "data": {
            "text/plain": "array(['Abs', 'Acon', 'Aut', 'Class', 'Itpr', 'Lit', 'Prec', 'Princ',\n       'Psy', 'Rule', 'Syst', 'Tele'], dtype=object)"
          },
          "metadata": {}
        }
      ]
    },
    {
      "cell_type": "code",
      "source": [
        "df_sc_labels = df_sc_final[mlb.classes_]\n",
        "df_sc_labels"
      ],
      "metadata": {
        "colab": {
          "base_uri": "https://localhost:8080/",
          "height": 423
        },
        "id": "9TonF3Yhk6Gc",
        "outputId": "d5aeddc8-05fb-4482-addb-f7251232b8b8",
        "execution": {
          "iopub.status.busy": "2024-06-01T11:11:50.773989Z",
          "iopub.execute_input": "2024-06-01T11:11:50.77432Z",
          "iopub.status.idle": "2024-06-01T11:11:50.793364Z",
          "shell.execute_reply.started": "2024-06-01T11:11:50.774289Z",
          "shell.execute_reply": "2024-06-01T11:11:50.792571Z"
        },
        "trusted": true
      },
      "execution_count": null,
      "outputs": [
        {
          "execution_count": 79,
          "output_type": "execute_result",
          "data": {
            "text/plain": "      Abs  Acon  Aut  Class  Itpr  Lit  Prec  Princ  Psy  Rule  Syst  Tele\n0       0     0    0      0     0    0     0      0    0     1     0     0\n1       0     0    0      0     1    0     0      0    0     0     0     0\n2       0     0    0      0     0    0     0      0    0     1     0     0\n3       0     0    0      0     1    0     0      0    0     0     0     0\n4       0     0    0      0     0    0     1      0    0     0     0     0\n...   ...   ...  ...    ...   ...  ...   ...    ...  ...   ...   ...   ...\n1309    0     0    0      0     0    0     0      0    0     1     0     0\n1310    0     0    0      0     0    0     0      0    0     1     0     0\n1311    0     0    0      0     0    0     0      0    0     1     0     0\n1312    0     0    0      1     0    0     0      0    0     1     0     0\n1313    0     0    0      1     0    0     0      0    0     0     0     0\n\n[1314 rows x 12 columns]",
            "text/html": "<div>\n<style scoped>\n    .dataframe tbody tr th:only-of-type {\n        vertical-align: middle;\n    }\n\n    .dataframe tbody tr th {\n        vertical-align: top;\n    }\n\n    .dataframe thead th {\n        text-align: right;\n    }\n</style>\n<table border=\"1\" class=\"dataframe\">\n  <thead>\n    <tr style=\"text-align: right;\">\n      <th></th>\n      <th>Abs</th>\n      <th>Acon</th>\n      <th>Aut</th>\n      <th>Class</th>\n      <th>Itpr</th>\n      <th>Lit</th>\n      <th>Prec</th>\n      <th>Princ</th>\n      <th>Psy</th>\n      <th>Rule</th>\n      <th>Syst</th>\n      <th>Tele</th>\n    </tr>\n  </thead>\n  <tbody>\n    <tr>\n      <th>0</th>\n      <td>0</td>\n      <td>0</td>\n      <td>0</td>\n      <td>0</td>\n      <td>0</td>\n      <td>0</td>\n      <td>0</td>\n      <td>0</td>\n      <td>0</td>\n      <td>1</td>\n      <td>0</td>\n      <td>0</td>\n    </tr>\n    <tr>\n      <th>1</th>\n      <td>0</td>\n      <td>0</td>\n      <td>0</td>\n      <td>0</td>\n      <td>1</td>\n      <td>0</td>\n      <td>0</td>\n      <td>0</td>\n      <td>0</td>\n      <td>0</td>\n      <td>0</td>\n      <td>0</td>\n    </tr>\n    <tr>\n      <th>2</th>\n      <td>0</td>\n      <td>0</td>\n      <td>0</td>\n      <td>0</td>\n      <td>0</td>\n      <td>0</td>\n      <td>0</td>\n      <td>0</td>\n      <td>0</td>\n      <td>1</td>\n      <td>0</td>\n      <td>0</td>\n    </tr>\n    <tr>\n      <th>3</th>\n      <td>0</td>\n      <td>0</td>\n      <td>0</td>\n      <td>0</td>\n      <td>1</td>\n      <td>0</td>\n      <td>0</td>\n      <td>0</td>\n      <td>0</td>\n      <td>0</td>\n      <td>0</td>\n      <td>0</td>\n    </tr>\n    <tr>\n      <th>4</th>\n      <td>0</td>\n      <td>0</td>\n      <td>0</td>\n      <td>0</td>\n      <td>0</td>\n      <td>0</td>\n      <td>1</td>\n      <td>0</td>\n      <td>0</td>\n      <td>0</td>\n      <td>0</td>\n      <td>0</td>\n    </tr>\n    <tr>\n      <th>...</th>\n      <td>...</td>\n      <td>...</td>\n      <td>...</td>\n      <td>...</td>\n      <td>...</td>\n      <td>...</td>\n      <td>...</td>\n      <td>...</td>\n      <td>...</td>\n      <td>...</td>\n      <td>...</td>\n      <td>...</td>\n    </tr>\n    <tr>\n      <th>1309</th>\n      <td>0</td>\n      <td>0</td>\n      <td>0</td>\n      <td>0</td>\n      <td>0</td>\n      <td>0</td>\n      <td>0</td>\n      <td>0</td>\n      <td>0</td>\n      <td>1</td>\n      <td>0</td>\n      <td>0</td>\n    </tr>\n    <tr>\n      <th>1310</th>\n      <td>0</td>\n      <td>0</td>\n      <td>0</td>\n      <td>0</td>\n      <td>0</td>\n      <td>0</td>\n      <td>0</td>\n      <td>0</td>\n      <td>0</td>\n      <td>1</td>\n      <td>0</td>\n      <td>0</td>\n    </tr>\n    <tr>\n      <th>1311</th>\n      <td>0</td>\n      <td>0</td>\n      <td>0</td>\n      <td>0</td>\n      <td>0</td>\n      <td>0</td>\n      <td>0</td>\n      <td>0</td>\n      <td>0</td>\n      <td>1</td>\n      <td>0</td>\n      <td>0</td>\n    </tr>\n    <tr>\n      <th>1312</th>\n      <td>0</td>\n      <td>0</td>\n      <td>0</td>\n      <td>1</td>\n      <td>0</td>\n      <td>0</td>\n      <td>0</td>\n      <td>0</td>\n      <td>0</td>\n      <td>1</td>\n      <td>0</td>\n      <td>0</td>\n    </tr>\n    <tr>\n      <th>1313</th>\n      <td>0</td>\n      <td>0</td>\n      <td>0</td>\n      <td>1</td>\n      <td>0</td>\n      <td>0</td>\n      <td>0</td>\n      <td>0</td>\n      <td>0</td>\n      <td>0</td>\n      <td>0</td>\n      <td>0</td>\n    </tr>\n  </tbody>\n</table>\n<p>1314 rows × 12 columns</p>\n</div>"
          },
          "metadata": {}
        }
      ]
    },
    {
      "cell_type": "code",
      "source": [
        "sc_label_count = df_sc_labels.sum().sort_values(ascending=False)\n",
        "y = np.array(sc_label_count)\n",
        "#x = np.array(sc_label_count.index)\n",
        "#added values on x only for convenience\n",
        "x = [sc_label_count.index[i] + ': ' + str(sc_label_count.iloc[i]) for i in range(len(sc_label_count))]\n",
        "plt.figure(figsize=(13,5))\n",
        "plt.bar(x, height=y)"
      ],
      "metadata": {
        "colab": {
          "base_uri": "https://localhost:8080/",
          "height": 464
        },
        "id": "6RKfMPitk6Gf",
        "outputId": "08dcacef-ec6c-4100-c89d-02409680e473",
        "execution": {
          "iopub.status.busy": "2024-06-01T11:11:50.794497Z",
          "iopub.execute_input": "2024-06-01T11:11:50.794751Z",
          "iopub.status.idle": "2024-06-01T11:11:51.055165Z",
          "shell.execute_reply.started": "2024-06-01T11:11:50.794728Z",
          "shell.execute_reply": "2024-06-01T11:11:51.053999Z"
        },
        "trusted": true
      },
      "execution_count": null,
      "outputs": [
        {
          "execution_count": 80,
          "output_type": "execute_result",
          "data": {
            "text/plain": "<BarContainer object of 12 artists>"
          },
          "metadata": {}
        },
        {
          "output_type": "display_data",
          "data": {
            "text/plain": "<Figure size 1300x500 with 1 Axes>",
            "image/png": "[encoded data removed]"
          },
          "metadata": {}
        }
      ]
    },
    {
      "cell_type": "code",
      "source": [
        "bad_sc_classes = sc_label_count.index[sc_label_count < 15]\n",
        "sc_classes = sc_label_count.index[sc_label_count >= 15]\n",
        "print(\"Removing classes with low number of instances: \"+', '.join(bad_sc_classes))\n",
        "print(\"Keeping classes with good number of instances: \"+', '.join(sc_classes))\n",
        "good_sc_columns = np.setdiff1d(df_sc_final.columns, bad_sc_classes)\n",
        "print(\"Remaining columns: \"+', '.join(good_sc_columns))\n",
        "df_sc_final = df_sc_final[df_sc_final[\"Scheme\"].isin(sc_classes)][good_sc_columns]"
      ],
      "metadata": {
        "colab": {
          "base_uri": "https://localhost:8080/"
        },
        "id": "BGYBwbnrcncC",
        "outputId": "41ffbc2d-2067-44cf-ec2e-83ca09bc1ea3",
        "execution": {
          "iopub.status.busy": "2024-06-01T11:11:51.056604Z",
          "iopub.execute_input": "2024-06-01T11:11:51.056952Z",
          "iopub.status.idle": "2024-06-01T11:11:51.067264Z",
          "shell.execute_reply.started": "2024-06-01T11:11:51.056923Z",
          "shell.execute_reply": "2024-06-01T11:11:51.066233Z"
        },
        "trusted": true
      },
      "execution_count": null,
      "outputs": [
        {
          "name": "stdout",
          "text": "Removing classes with low number of instances: Lit, Abs, Psy, Acon\nKeeping classes with good number of instances: Rule, Prec, Itpr, Princ, Class, Aut, Syst, Tele\nRemaining columns: ATT, Aut, Chain, Class, Document, FullChainID, INH, Id, Itpr, Name, Num, Prec, Previous, Princ, REPH, Rule, SFF, SUP, Scheme, Syst, Tele, Text, Type\n",
          "output_type": "stream"
        }
      ]
    },
    {
      "cell_type": "markdown",
      "source": [
        "# Data analysis"
      ],
      "metadata": {
        "id": "bb4aeLPck6Gd"
      }
    },
    {
      "cell_type": "code",
      "source": [
        "df_ac['Name'].hist()"
      ],
      "metadata": {
        "colab": {
          "base_uri": "https://localhost:8080/",
          "height": 448
        },
        "id": "WeyNdG29k6Gd",
        "outputId": "f9c3fee9-e6f6-4276-ac04-32500e672051",
        "execution": {
          "iopub.status.busy": "2024-06-01T11:11:51.068646Z",
          "iopub.execute_input": "2024-06-01T11:11:51.06897Z",
          "iopub.status.idle": "2024-06-01T11:11:51.307927Z",
          "shell.execute_reply.started": "2024-06-01T11:11:51.068937Z",
          "shell.execute_reply": "2024-06-01T11:11:51.307069Z"
        },
        "trusted": true
      },
      "execution_count": null,
      "outputs": [
        {
          "execution_count": 82,
          "output_type": "execute_result",
          "data": {
            "text/plain": "<Axes: >"
          },
          "metadata": {}
        },
        {
          "output_type": "display_data",
          "data": {
            "text/plain": "<Figure size 640x480 with 1 Axes>",
            "image/png": "[encoded data removed]"
          },
          "metadata": {}
        }
      ]
    },
    {
      "cell_type": "code",
      "source": [
        "print(f\"There are {len(df_ac[df_ac['Name'] == 'prem'])} premises and {len(df_ac[df_ac['Name'] == 'conc'])} conclusions\")"
      ],
      "metadata": {
        "colab": {
          "base_uri": "https://localhost:8080/"
        },
        "id": "EIpO4dFlk6Ge",
        "outputId": "39e91e09-f8c5-4b6b-cb63-6b0edf6d0fa7",
        "execution": {
          "iopub.status.busy": "2024-06-01T11:11:51.314781Z",
          "iopub.execute_input": "2024-06-01T11:11:51.315053Z",
          "iopub.status.idle": "2024-06-01T11:11:51.324659Z",
          "shell.execute_reply.started": "2024-06-01T11:11:51.315029Z",
          "shell.execute_reply": "2024-06-01T11:11:51.32372Z"
        },
        "trusted": true
      },
      "execution_count": null,
      "outputs": [
        {
          "name": "stdout",
          "text": "There are 2910 premises and 401 conclusions\n",
          "output_type": "stream"
        }
      ]
    },
    {
      "cell_type": "code",
      "source": [
        "values = df_tc_labels.sum().sort_values(ascending=False)\n",
        "y = np.array(values)\n",
        "x = np.array(values.index)\n",
        "\n",
        "plt.figure(figsize=(3,6))\n",
        "plt.bar(x, height=y)"
      ],
      "metadata": {
        "colab": {
          "base_uri": "https://localhost:8080/",
          "height": 540
        },
        "id": "sE6acTa6k6Ge",
        "outputId": "1bb09152-cdce-4f63-f267-096f2bd392e9",
        "execution": {
          "iopub.status.busy": "2024-06-01T11:11:51.325906Z",
          "iopub.execute_input": "2024-06-01T11:11:51.326284Z",
          "iopub.status.idle": "2024-06-01T11:11:51.540218Z",
          "shell.execute_reply.started": "2024-06-01T11:11:51.326249Z",
          "shell.execute_reply": "2024-06-01T11:11:51.539291Z"
        },
        "trusted": true
      },
      "execution_count": null,
      "outputs": [
        {
          "execution_count": 84,
          "output_type": "execute_result",
          "data": {
            "text/plain": "<BarContainer object of 2 artists>"
          },
          "metadata": {}
        },
        {
          "output_type": "display_data",
          "data": {
            "text/plain": "<Figure size 300x600 with 1 Axes>",
            "image/png": "[encoded data removed]"
          },
          "metadata": {}
        }
      ]
    },
    {
      "cell_type": "markdown",
      "source": [
        "# Fixing seed"
      ],
      "metadata": {
        "id": "VTBtUbSGk6Gg"
      }
    },
    {
      "cell_type": "code",
      "source": [
        "# Fix the random state for reproducibility\n",
        "SEED = 27\n",
        "\n",
        "def fix_seed(seed: int) -> None:\n",
        "    \"\"\"Fix all the possible sources of randomness.\n",
        "\n",
        "    Args:\n",
        "        seed: the seed to use.\n",
        "    \"\"\"\n",
        "    np.random.seed(seed)\n",
        "    random.seed(seed)\n",
        "    torch.manual_seed(seed)\n",
        "    torch.cuda.manual_seed(seed)\n",
        "\n",
        "    torch.backends.cudnn.benchmark = False\n",
        "    torch.backends.cudnn.deterministic = True\n",
        "[ ]\n",
        "\n",
        "\n",
        "fix_seed(SEED)"
      ],
      "metadata": {
        "id": "_k1p8LBxk6Gg",
        "execution": {
          "iopub.status.busy": "2024-06-01T11:11:51.541404Z",
          "iopub.execute_input": "2024-06-01T11:11:51.541703Z",
          "iopub.status.idle": "2024-06-01T11:11:51.548862Z",
          "shell.execute_reply.started": "2024-06-01T11:11:51.541676Z",
          "shell.execute_reply": "2024-06-01T11:11:51.547792Z"
        },
        "trusted": true
      },
      "execution_count": null,
      "outputs": []
    },
    {
      "cell_type": "markdown",
      "source": [
        "# Utils"
      ],
      "metadata": {
        "id": "M__dt1kV-ay1"
      }
    },
    {
      "cell_type": "markdown",
      "source": [
        "## Train-Val-Test dataset splitting"
      ],
      "metadata": {
        "id": "A4Tl_BDPk6G4"
      }
    },
    {
      "cell_type": "code",
      "source": [
        "def split_dataset(df, test_size=0.2):\n",
        "    total_samples = df.shape[0]\n",
        "    idx_train, idx_test = train_test_split(df['Document'].unique(),\n",
        "                                      random_state=SEED,\n",
        "                                      test_size=test_size)\n",
        "    idx_train, idx_val = train_test_split(idx_train,\n",
        "                                      random_state=SEED,\n",
        "                                      test_size=idx_test.shape[0])\n",
        "    df_train = df[df['Document'].isin(idx_train)]\n",
        "    df_val = df[df['Document'].isin(idx_val)]\n",
        "    df_test = df[df['Document'].isin(idx_test)]\n",
        "    print('Number of training samples: {} ({}%)'.format(df_train.shape[0], 100*df_train.shape[0]/total_samples))\n",
        "    print('Number of validation examples: {} ({}%)'.format(df_val.shape[0], 100*df_val.shape[0]/total_samples))\n",
        "    print('Number of test samples: {} ({}%)'.format(df_test.shape[0], 100*df_test.shape[0]/total_samples))\n",
        "    return df_train, df_val, df_test"
      ],
      "metadata": {
        "id": "X6Q0zwjcl9sq",
        "execution": {
          "iopub.status.busy": "2024-06-01T11:11:51.550115Z",
          "iopub.execute_input": "2024-06-01T11:11:51.550664Z",
          "iopub.status.idle": "2024-06-01T11:11:51.561287Z",
          "shell.execute_reply.started": "2024-06-01T11:11:51.550629Z",
          "shell.execute_reply": "2024-06-01T11:11:51.560489Z"
        },
        "trusted": true
      },
      "execution_count": null,
      "outputs": []
    },
    {
      "cell_type": "markdown",
      "source": [
        "## Save and load results\n",
        "The results folder will contain the notebook, metrics and outputs for each seed."
      ],
      "metadata": {
        "id": "B2ISiv5sk6G5"
      }
    },
    {
      "cell_type": "code",
      "source": [
        "results_folder = \"results\"\n",
        "if not os.path.exists(results_folder):\n",
        "    os.makedirs(results_folder)\n",
        "\n",
        "def results_to_csv(df_results, seed):\n",
        "    '''\n",
        "    Args:\n",
        "        df_results: DataFrame with the all the scores\n",
        "        seed: the used seed\n",
        "    '''\n",
        "    csv_path = f\"{results_folder}/{seed}.csv\"\n",
        "    df_results.to_csv(path_or_buf=csv_path)"
      ],
      "metadata": {
        "id": "3Uu8Et2qk6G5",
        "execution": {
          "iopub.status.busy": "2024-06-01T11:11:51.5625Z",
          "iopub.execute_input": "2024-06-01T11:11:51.562749Z",
          "iopub.status.idle": "2024-06-01T11:11:51.583323Z",
          "shell.execute_reply.started": "2024-06-01T11:11:51.562728Z",
          "shell.execute_reply": "2024-06-01T11:11:51.582537Z"
        },
        "trusted": true
      },
      "execution_count": null,
      "outputs": []
    },
    {
      "cell_type": "code",
      "source": [
        "def results_from_csv(seed):\n",
        "    '''\n",
        "    Args:\n",
        "        seed: the wanted seed\n",
        "    '''\n",
        "    file_path = f\"results/{seed}.csv\"\n",
        "    df_results = pd.read_csv(file_path)\n",
        "\n",
        "    return df_results"
      ],
      "metadata": {
        "id": "eH9_Qyzrk6G6",
        "execution": {
          "iopub.status.busy": "2024-06-01T11:11:51.584526Z",
          "iopub.execute_input": "2024-06-01T11:11:51.585317Z",
          "iopub.status.idle": "2024-06-01T11:11:51.594553Z",
          "shell.execute_reply.started": "2024-06-01T11:11:51.58528Z",
          "shell.execute_reply": "2024-06-01T11:11:51.593711Z"
        },
        "trusted": true
      },
      "execution_count": null,
      "outputs": []
    },
    {
      "cell_type": "markdown",
      "source": [
        "## PyTorch dataset"
      ],
      "metadata": {
        "id": "a_7qTdbjk6G6"
      }
    },
    {
      "cell_type": "code",
      "source": [
        "class CustomTorchDataset(Dataset):\n",
        "    def __init__(self, encodings):\n",
        "        self.encodings = encodings\n",
        "\n",
        "    def __getitem__(self, idx):\n",
        "        return {key: torch.tensor(val[idx]) for key, val in self.encodings.items()}\n",
        "\n",
        "    def __len__(self):\n",
        "        return len(self.encodings.input_ids)"
      ],
      "metadata": {
        "id": "30T-t-KIk6G7",
        "execution": {
          "iopub.status.busy": "2024-06-01T11:11:51.595978Z",
          "iopub.execute_input": "2024-06-01T11:11:51.59626Z",
          "iopub.status.idle": "2024-06-01T11:11:51.604753Z",
          "shell.execute_reply.started": "2024-06-01T11:11:51.596236Z",
          "shell.execute_reply": "2024-06-01T11:11:51.60404Z"
        },
        "trusted": true
      },
      "execution_count": null,
      "outputs": []
    },
    {
      "cell_type": "markdown",
      "source": [
        "## Focal Loss"
      ],
      "metadata": {
        "id": "jmCHPOBbbH80"
      }
    },
    {
      "cell_type": "code",
      "source": [
        "num_label=len(good_sc_columns)\n",
        "class FocalLoss(nn.Module):\n",
        "    def __init__(self, alpha=1, gamma=2, logit=False, reduce=False):\n",
        "        super(FocalLoss, self).__init__()\n",
        "        self.alpha = alpha\n",
        "        self.gamma = gamma\n",
        "        self.logit = logit\n",
        "        self.reduce = reduce\n",
        "\n",
        "    def forward(self, inputs, targets):\n",
        "        \"\"\"\n",
        "        BCE = nn.BCELoss()\n",
        "        BCE_loss = BCE(inputs, targets)\n",
        "        pt = torch.exp(-BCE_loss)\n",
        "        F_loss = self.alpha * (1-pt)**self.gamma * BCE_loss\n",
        "\n",
        "        if self.reduce:\n",
        "            return torch.mean(F_loss)\n",
        "        else:\n",
        "            return F_loss\n",
        "        \"\"\"\n",
        "        #p = torch.where(targets >= 0.5, inputs, 1-inputs)\n",
        "        p = inputs * targets + (1 - inputs) * (1 - targets)\n",
        "        logp = - torch.log(torch.clamp(p, 1e-4, 1-1e-4))\n",
        "        loss = logp*((1-p)**self.gamma)\n",
        "        loss = loss.sum()\n",
        "        return loss\n",
        "\n"
      ],
      "metadata": {
        "id": "7NymLkC0whtl",
        "execution": {
          "iopub.status.busy": "2024-06-01T11:43:18.348694Z",
          "iopub.execute_input": "2024-06-01T11:43:18.34957Z",
          "iopub.status.idle": "2024-06-01T11:43:18.357069Z",
          "shell.execute_reply.started": "2024-06-01T11:43:18.349535Z",
          "shell.execute_reply": "2024-06-01T11:43:18.356174Z"
        },
        "trusted": true
      },
      "execution_count": null,
      "outputs": []
    },
    {
      "cell_type": "code",
      "source": [
        "num_label=len(good_sc_columns)\n",
        "def focal_loss(logits, targets, gamma=2):\n",
        "    #l = logits.reshape(-1)\n",
        "    #t = targets.reshape(-1)\n",
        "    #p = torch.sigmoid(l)\n",
        "    p = torch.where(targets >= 0.5, logits, 1-logits)\n",
        "    logp = - torch.log(torch.clamp(p, 1e-4, 1-1e-4))\n",
        "    loss = logp*((1-p)**gamma)\n",
        "    loss = loss.mean()\n",
        "    return loss"
      ],
      "metadata": {
        "id": "8bgN1OD8bMN3",
        "execution": {
          "iopub.status.busy": "2024-06-01T11:11:51.620076Z",
          "iopub.execute_input": "2024-06-01T11:11:51.620329Z",
          "iopub.status.idle": "2024-06-01T11:11:51.634234Z",
          "shell.execute_reply.started": "2024-06-01T11:11:51.620307Z",
          "shell.execute_reply": "2024-06-01T11:11:51.633354Z"
        },
        "trusted": true
      },
      "execution_count": null,
      "outputs": []
    },
    {
      "cell_type": "markdown",
      "source": [
        "# Processing"
      ],
      "metadata": {
        "id": "My9p3Otpk6G7"
      }
    },
    {
      "cell_type": "markdown",
      "source": [
        "## Encoding"
      ],
      "metadata": {
        "id": "lYljLio2HkFc"
      }
    },
    {
      "cell_type": "code",
      "source": [
        "from sklearn.feature_extraction.text import TfidfVectorizer\n",
        "import re\n",
        "from nltk.corpus import stopwords\n",
        "\n",
        "class BaselineVectorizer():\n",
        "    def __init__(self, include_previous=False, max_features=None):\n",
        "        self.tfidf = TfidfVectorizer(stop_words=stopwords.words('italian'),max_features=max_features)\n",
        "        self.include_previous = include_previous\n",
        "        self.fitted = False\n",
        "\n",
        "    def _clean_texts(self,df):\n",
        "        texts = df[\"Previous\"]+\". \"+df[\"Text\"] if INCLUDE_PREVIOUS else df[\"Text\"]\n",
        "        cleaned = []\n",
        "        for text in texts:\n",
        "            text = re.sub(\"[^a-zA-Z0-9]\",\" \",text).lower().strip()\n",
        "            cleaned.append(text)\n",
        "\n",
        "        return cleaned\n",
        "\n",
        "    def fit(self,df):\n",
        "        cleaned_texts = self._clean_texts(df)\n",
        "        self.tfidf.fit(cleaned_texts)\n",
        "        self.fitted = True\n",
        "\n",
        "    def transform(self,df):\n",
        "        if not self.fitted:\n",
        "            raise Exception(\"Vectorizer is not fitted.\")\n",
        "        cleaned_texts = self._clean_texts(df)\n",
        "        return self.tfidf.transform(cleaned_texts)"
      ],
      "metadata": {
        "id": "I7cIOYFBZRHg",
        "execution": {
          "iopub.status.busy": "2024-06-01T11:11:51.635323Z",
          "iopub.execute_input": "2024-06-01T11:11:51.635666Z",
          "iopub.status.idle": "2024-06-01T11:11:51.647321Z",
          "shell.execute_reply.started": "2024-06-01T11:11:51.635641Z",
          "shell.execute_reply": "2024-06-01T11:11:51.646499Z"
        },
        "trusted": true
      },
      "execution_count": null,
      "outputs": []
    },
    {
      "cell_type": "code",
      "source": [
        "def encode(tokenizer:PreTrainedTokenizer, df:pd.DataFrame, labels, scheme=False, include_previous=True):\n",
        "    '''\n",
        "    Encodes the dataset according to the BERT specifications.\n",
        "    The method encodes the data in the following way:\n",
        "        [CLS] previous [SEP] current [SEP]\n",
        "        where -previous- is the previous (if any) sentence in the same argumentation chain\n",
        "        and -current- is the current sentence\n",
        "    '''\n",
        "    print(\"Encoding...\")\n",
        "    encodings = tokenizer(\n",
        "          list(df['Previous']), list(df['Text']), padding=True, truncation=True, max_length = 256\n",
        "        ) if include_previous else tokenizer(\n",
        "          list(df['Text']), padding=True, truncation=True, max_length = 256\n",
        "        )\n",
        "\n",
        "    input_ids, input_attention_mask = encodings['input_ids'], encodings['attention_mask']\n",
        "    print(f\"input shape: {np.shape(input_ids)}\")\n",
        "    if not scheme:\n",
        "        encodings.update({'labels' : torch.LongTensor(labels.values)})\n",
        "    else:\n",
        "        encodings.update({'labels': torch.FloatTensor(labels.values)})\n",
        "    encodings.pop('token_type_ids')\n",
        "\n",
        "    print(\"Encoding complete\")\n",
        "    return encodings"
      ],
      "metadata": {
        "id": "xyR1vmlDl9sr",
        "execution": {
          "iopub.status.busy": "2024-06-01T11:11:51.648545Z",
          "iopub.execute_input": "2024-06-01T11:11:51.648893Z",
          "iopub.status.idle": "2024-06-01T11:11:51.665067Z",
          "shell.execute_reply.started": "2024-06-01T11:11:51.648866Z",
          "shell.execute_reply": "2024-06-01T11:11:51.664314Z"
        },
        "trusted": true
      },
      "execution_count": null,
      "outputs": []
    },
    {
      "cell_type": "markdown",
      "source": [
        "## Model"
      ],
      "metadata": {
        "id": "Y1NNzCJhIig9"
      }
    },
    {
      "cell_type": "code",
      "source": [
        "class ACModel(nn.Module):\n",
        "    def __init__(self,checkpoint, output_size):\n",
        "        super(ACModel, self).__init__()\n",
        "        self.model = AutoModel.from_pretrained(checkpoint)\n",
        "        self.output_size = output_size\n",
        "        self.cl1 = nn.Linear(self.model.config.hidden_size, self.model.config.hidden_size)\n",
        "        self.relu = nn.ReLU()\n",
        "        self.output = nn.Linear(self.model.config.hidden_size, self.output_size)\n",
        "\n",
        "    def forward(self, input_ids, attention_mask):\n",
        "        output  = self.model(input_ids, attention_mask=attention_mask, output_hidden_states=True)\n",
        "        pooler_output = output.pooler_output\n",
        "        x = self.cl1(pooler_output)\n",
        "        x = self.relu(x)\n",
        "        x = self.output(x)\n",
        "        return x\n",
        "\n",
        "class SCModel(nn.Module):\n",
        "\n",
        "    def __init__(self,checkpoint, output_size):\n",
        "        super(SCModel, self).__init__()\n",
        "        self.model = AutoModel.from_pretrained(checkpoint)\n",
        "        self.output_size = output_size\n",
        "        self.cl1 = nn.Linear(self.model.config.hidden_size, self.model.config.hidden_size)\n",
        "        self.relu = nn.ReLU()\n",
        "        self.classifier = nn.Linear(self.model.config.hidden_size, self.output_size)\n",
        "\n",
        "\n",
        "    def forward(self, input_ids, attention_mask):\n",
        "        output  = self.model(input_ids, attention_mask=attention_mask, output_hidden_states=True)\n",
        "        pooler_output = output.pooler_output\n",
        "        x = self.cl1(pooler_output)\n",
        "        x = self.relu(x)\n",
        "        x = self.classifier(x)\n",
        "        x = torch.sigmoid(x)\n",
        "        return x\n"
      ],
      "metadata": {
        "id": "4ijqDwq5k6G8",
        "execution": {
          "iopub.status.busy": "2024-06-01T11:23:59.386381Z",
          "iopub.execute_input": "2024-06-01T11:23:59.387016Z",
          "iopub.status.idle": "2024-06-01T11:23:59.397712Z",
          "shell.execute_reply.started": "2024-06-01T11:23:59.386981Z",
          "shell.execute_reply": "2024-06-01T11:23:59.396769Z"
        },
        "trusted": true
      },
      "execution_count": null,
      "outputs": []
    },
    {
      "cell_type": "code",
      "source": [
        "\n",
        "def getModel(model_checkpoint, num_labels, scheme=False):\n",
        "    '''\n",
        "    Creates and return an instance of the desired model with the correct tokenizer.\n",
        "    '''\n",
        "    tokenizer = AutoTokenizer.from_pretrained(model_checkpoint)\n",
        "    if scheme:\n",
        "        model = SCModel(model_checkpoint, num_labels)\n",
        "    else:\n",
        "        model = ACModel(model_checkpoint, num_labels)\n",
        "\n",
        "    return model, tokenizer"
      ],
      "metadata": {
        "id": "xA9h-2p4k6G9",
        "execution": {
          "iopub.status.busy": "2024-06-01T11:23:59.798887Z",
          "iopub.execute_input": "2024-06-01T11:23:59.799503Z",
          "iopub.status.idle": "2024-06-01T11:23:59.804794Z",
          "shell.execute_reply.started": "2024-06-01T11:23:59.799471Z",
          "shell.execute_reply": "2024-06-01T11:23:59.803776Z"
        },
        "trusted": true
      },
      "execution_count": null,
      "outputs": []
    },
    {
      "cell_type": "markdown",
      "source": [
        "## Train"
      ],
      "metadata": {
        "id": "E4NSs0Ack6G-"
      }
    },
    {
      "cell_type": "code",
      "source": [
        "# Train one epoch\n",
        "def train_epoch(model: torch.nn.Module,\n",
        "          train_loader:torch.utils.data.DataLoader,\n",
        "          device: torch.device,\n",
        "          optimizer: torch.optim,\n",
        "          criterion: torch.nn.Module,\n",
        "          epoch: int) -> float:\n",
        "    \"\"\"Trains a neural network for one epoch.\n",
        "\n",
        "    Args:\n",
        "        model: the model to train.\n",
        "        train_loader: the data loader containing the training data.\n",
        "        device: the device to use to train the model.\n",
        "        optimizer: the optimizer to use to train the model.\n",
        "        epoch: the number of the current epoch.\n",
        "\n",
        "    Returns:\n",
        "        the cross entropy Loss value on the training data.\n",
        "    \"\"\"\n",
        "    size_ds_train = len(train_loader.dataset)\n",
        "    num_batches = len(train_loader)\n",
        "    loss_score = []\n",
        "    loop = tqdm(train_loader)\n",
        "    #set training mode\n",
        "    model.train()\n",
        "    for idx_batch, batch in enumerate(loop):\n",
        "        optimizer.zero_grad()\n",
        "        input_ids = batch['input_ids'].to(device)\n",
        "        attention_mask = batch['attention_mask'].to(device)\n",
        "        labels = batch['labels'].to(device)\n",
        "        logits = model(input_ids,\n",
        "                              attention_mask=attention_mask,\n",
        "                        )\n",
        "        loss = criterion(logits, labels)\n",
        "        #loss = focal_loss(logits,labels)\n",
        "        loss_score.append(loss.item())\n",
        "        loss.backward()\n",
        "        optimizer.step()\n",
        "        loop.set_description(f'Epoch {epoch}')\n",
        "        loop.set_postfix(loss=loss.item())\n",
        "\n",
        "    loss_train = np.mean(loss_score)\n",
        "    return loss_train\n",
        "\n",
        "# Validate one epoch\n",
        "def validate(model: torch.nn.Module,\n",
        "             criterion: torch.nn.Module,\n",
        "             data_loader: torch.utils.data.DataLoader,\n",
        "             device: torch.device) -> float:\n",
        "    \"\"\"Evaluates the model.\n",
        "\n",
        "    Args:\n",
        "        model: the model to evalaute.\n",
        "        data_loader: the data loader containing the validation data.\n",
        "        device: the device to use to evaluate the model.\n",
        "\n",
        "    Returns:\n",
        "        the loss value on the validation data.\n",
        "    \"\"\"\n",
        "    loss_score = []\n",
        "    #set evaluation mode\n",
        "    model = model.eval()\n",
        "    with torch.no_grad():\n",
        "        for idx_batch, batch in enumerate(data_loader):\n",
        "            input_ids = batch['input_ids'].to(device)\n",
        "            attention_mask = batch['attention_mask'].to(device)\n",
        "            labels = batch['labels'].to(device)\n",
        "            logits = model(input_ids, attention_mask=attention_mask)\n",
        "            #f_loss = FocalLoss(gamma=0)\n",
        "            #loss = f_loss(logits,labels)\n",
        "            loss = criterion(logits, labels)\n",
        "            #loss = focal_loss(logits,labels)\n",
        "            loss_score.append(loss.item())\n",
        "    loss_val = np.mean(loss_score)\n",
        "    return loss_val"
      ],
      "metadata": {
        "id": "zKDxYccjk6G_",
        "execution": {
          "iopub.status.busy": "2024-06-01T11:24:34.245188Z",
          "iopub.execute_input": "2024-06-01T11:24:34.245934Z",
          "iopub.status.idle": "2024-06-01T11:24:34.258797Z",
          "shell.execute_reply.started": "2024-06-01T11:24:34.245895Z",
          "shell.execute_reply": "2024-06-01T11:24:34.257795Z"
        },
        "trusted": true
      },
      "execution_count": null,
      "outputs": []
    },
    {
      "cell_type": "code",
      "source": [
        "def training_loop(num_epochs: int,\n",
        "                  optimizer: torch.optim,\n",
        "                  criterion: torch.nn.Module,\n",
        "                  model: torch.nn.Module,\n",
        "                  lr: float,\n",
        "                  loader_train: torch.utils.data.DataLoader,\n",
        "                  loader_val : torch.utils.data.DataLoader = None,\n",
        "                  model_dir = \"models\",\n",
        "                  verbose: bool=True,\n",
        "                  use_cuda = False) -> Dict:\n",
        "    \"\"\"Executes the training loop.\n",
        "\n",
        "        Args:\n",
        "            num_epochs: the number of epochs.\n",
        "            optimizer: the optimizer to use.\n",
        "            criterion: criterions used to calculate loss.\n",
        "            model: the model to train.\n",
        "            loader_train: the data loader containing the training data.\n",
        "            loader_val: the data loader containing the validation data.\n",
        "            model_dir: checkpoints folder.\n",
        "            verbose: if true print the value of loss.\n",
        "\n",
        "        Returns:\n",
        "            A dictionary with the statistics computed during the train:\n",
        "            the values for the train loss for each epoch.\n",
        "            the values for the validation loss for each epoch.\n",
        "            the time of execution in seconds for the entire loop.\n",
        "    \"\"\"\n",
        "    device = torch.device('cuda') if use_cuda and torch.cuda.is_available() else torch.device('cpu')\n",
        "    model.to(device)\n",
        "    loop_start = timer()\n",
        "    train_losses_values = []\n",
        "    val_losses_values = []\n",
        "\n",
        "    #best_epoch = 1\n",
        "    val_cri = nn.BCELoss(reduction = 'mean')\n",
        "    for epoch in range(1, num_epochs + 1):\n",
        "        time_start = timer()\n",
        "        loss_train = train_epoch(model, loader_train, device,\n",
        "                                           optimizer, criterion, epoch)\n",
        "        if(loader_val != None):\n",
        "            loss_val = validate(model, criterion, loader_val, device)\n",
        "        else:\n",
        "            loss_val = 0\n",
        "        time_end = timer()\n",
        "        train_losses_values.append(loss_train)\n",
        "        val_losses_values.append(loss_val)\n",
        "\n",
        "       # torch.save(model.state_dict(), os.path.join(model_dir, 'epoch-{}.pt'.format(epoch)))\n",
        "       # best_epoch = np.argmin(val_losses_values)+1\n",
        "\n",
        "        if verbose:\n",
        "            print(f'Epoch: {epoch} '\n",
        "                  f' Lr: {lr:.8f} '\n",
        "                  f' Loss: Train = [{loss_train:.4f}] - Val = [{loss_val:.4f}] '\n",
        "                  f' Time one epoch (s): {(time_end - time_start):.4f} ')\n",
        "        \"\"\"\n",
        "        if epoch >= 5:\n",
        "            if loss_val > val_losses_values[-2] and loss_val> val_losses_values[-1]  :\n",
        "                if verbose:\n",
        "                    print(\"Early Stopping. Best epoch: {}\".format(best_epoch))\n",
        "                break\n",
        "        \"\"\"\n",
        "    loop_end = timer()\n",
        "    time_loop = loop_end - loop_start\n",
        "    if verbose:\n",
        "        print(f'Time for {num_epochs} epochs (s): {(time_loop):.3f}')\n",
        "\n",
        "    #model.load_state_dict(torch.load(os.path.join(model_dir, 'epoch-{}.pt'.format(best_epoch))))\n",
        "\n",
        "    return {'train_loss_values': train_losses_values,\n",
        "            'val_loss_values' : val_losses_values,\n",
        "            'time': time_loop}"
      ],
      "metadata": {
        "id": "BF6jUjsMk6G_",
        "execution": {
          "iopub.status.busy": "2024-06-01T11:42:52.160059Z",
          "iopub.execute_input": "2024-06-01T11:42:52.160847Z",
          "iopub.status.idle": "2024-06-01T11:42:52.172882Z",
          "shell.execute_reply.started": "2024-06-01T11:42:52.1608Z",
          "shell.execute_reply": "2024-06-01T11:42:52.171902Z"
        },
        "trusted": true
      },
      "execution_count": null,
      "outputs": []
    },
    {
      "cell_type": "code",
      "source": [
        "def execute(lr: float,\n",
        "            num_epochs: int,\n",
        "            batch_size: int,\n",
        "            num_labels: int,\n",
        "            train_df: pd.DataFrame,\n",
        "            train_labels: pd.DataFrame,\n",
        "            val_df: pd.DataFrame,\n",
        "            val_labels: pd.DataFrame,\n",
        "            scheme = True,\n",
        "            model_name=\"\",\n",
        "            model=None,\n",
        "            tokenizer=None,\n",
        "            use_cuda=True,\n",
        "            include_previous=True\n",
        "            ) ->Tuple[torch.nn.Module, any]:\n",
        "    \"\"\"Gets the model, does the encodings of the training and validation data using the\n",
        "        tokenizer, and then executes the training loop.\n",
        "\n",
        "    Args:\n",
        "        lr: the learning rate.\n",
        "        num_epochs: the number of epochs.\n",
        "        batch_size: the batch size.\n",
        "        data: training-val dataframe.\n",
        "        data_labels: training-val labels dataframe.\n",
        "        val_df: validation dataframe.\n",
        "        model: the network to train.\n",
        "        history: questions-answers history flag.\n",
        "    \"\"\"\n",
        "    #train on full data\n",
        "    #get the model and the tokenizer\n",
        "    if not model_name == \"\":\n",
        "        model, tokenizer = getModel(model_name, num_labels, scheme)\n",
        "    if scheme:\n",
        "        criterion = FocalLoss()\n",
        "        #criterion = torch.nn.BCELoss()\n",
        "    else:\n",
        "        criterion = torch.nn.CrossEntropyLoss()\n",
        "    #Start encodings\n",
        "    #print(f'Train set:')\n",
        "    train_encodings = encode(tokenizer, train_df, train_labels, scheme, include_previous=include_previous)\n",
        "    val_encodings = encode(tokenizer, val_df, val_labels, scheme, include_previous=include_previous)\n",
        "    print(f'ENCODING COMPLETE.')\n",
        "\n",
        "    #create training dataset\n",
        "    train_dataset = CustomTorchDataset(train_encodings)\n",
        "    #create training dataloader\n",
        "    data_loader_train = torch.utils.data.DataLoader(train_dataset,\n",
        "                                        batch_size=batch_size,\n",
        "                                        shuffle = True\n",
        "                                        )\n",
        "    #create validation dataset\n",
        "    val_dataset = CustomTorchDataset(val_encodings)\n",
        "    #create validation dataloader\n",
        "    data_loader_val = torch.utils.data.DataLoader(val_dataset,\n",
        "                                          batch_size=batch_size,\n",
        "                                          shuffle = False\n",
        "                                          )\n",
        "    #Optimizer\n",
        "    optimizer = torch.optim.AdamW(model.parameters(), lr=lr, weight_decay=1.5e-2)\n",
        "    print(f'STARTING TRAINING with complete data:')\n",
        "    model_dir = 'model_data'\n",
        "    if not os.path.exists(model_dir):\n",
        "        os.makedirs(model_dir)\n",
        "    statistics = training_loop(num_epochs, optimizer, criterion, model,lr,\n",
        "                              data_loader_train, data_loader_val, model_dir=model_dir, use_cuda=use_cuda)\n",
        "    print(f'TRAINING COMPLETE.')\n",
        "\n",
        "    return model, tokenizer, statistics"
      ],
      "metadata": {
        "id": "W0yra_hCk6HB",
        "execution": {
          "iopub.status.busy": "2024-06-01T11:25:28.697876Z",
          "iopub.execute_input": "2024-06-01T11:25:28.698594Z",
          "iopub.status.idle": "2024-06-01T11:25:28.710976Z",
          "shell.execute_reply.started": "2024-06-01T11:25:28.698557Z",
          "shell.execute_reply": "2024-06-01T11:25:28.709926Z"
        },
        "trusted": true
      },
      "execution_count": null,
      "outputs": []
    },
    {
      "cell_type": "code",
      "source": [
        "from sklearn.svm import SVC, LinearSVC\n",
        "\n",
        "def executeTfIdfSvm(train_df: pd.DataFrame,\n",
        "            test_df: pd.DataFrame,\n",
        "            kernel = \"rbf\",\n",
        "            scheme = False,\n",
        "            tokenizer=None,\n",
        "            include_previous=True):\n",
        "    # Build tokenizer\n",
        "    tokenizer = BaselineVectorizer(include_previous=include_previous)\n",
        "    tokenizer.fit(df_train)\n",
        "\n",
        "    # Build model\n",
        "    if scheme:\n",
        "        # https://scikit-learn.org/stable/modules/svm.html#multi-class-classification\n",
        "        # https://scikit-learn.org/stable/modules/multiclass.html\n",
        "        model = LinearSVC(random_state=SEED, multi_class=\"crammer_singer\") if kernel==\"linear\" else SVC(kernel=kernel, random_state=SEED, decision_function_shape='ovo')\n",
        "    else:\n",
        "        # https://scikit-learn.org/stable/modules/svm.html#classification\n",
        "        model = LinearSVC(random_state=SEED) if kernel==\"linear\" else SVC(kernel=kernel, random_state=SEED)\n",
        "\n",
        "    # Train model\n",
        "    train_encodings = tokenizer.transform(df_train)\n",
        "    labels = train_df['Scheme'] if scheme else train_df['label']\n",
        "    model.fit(train_encodings, labels)\n",
        "\n",
        "    # Test model\n",
        "    test_encodings = tokenizer.transform(test_df)\n",
        "    test_labels = test_df['Scheme'] if scheme else test_df['label']\n",
        "    y_pred = model.predict(test_encodings)\n",
        "    print(\"\\n Baseline kernel: \"+kernel+\"\\n\"+classification_report(test_labels, y_pred))\n",
        "\n",
        "    return model, tokenizer"
      ],
      "metadata": {
        "id": "A1-EhMGTZRHl",
        "execution": {
          "iopub.status.busy": "2024-06-01T11:11:51.753032Z",
          "iopub.execute_input": "2024-06-01T11:11:51.753323Z",
          "iopub.status.idle": "2024-06-01T11:11:51.768385Z",
          "shell.execute_reply.started": "2024-06-01T11:11:51.753298Z",
          "shell.execute_reply": "2024-06-01T11:11:51.767674Z"
        },
        "trusted": true
      },
      "execution_count": null,
      "outputs": []
    },
    {
      "cell_type": "markdown",
      "source": [
        "# Execution configuration"
      ],
      "metadata": {
        "id": "ul4I7Vc0-sEv"
      }
    },
    {
      "cell_type": "code",
      "source": [
        "#model_checkpoint = 'bert-base-uncased'\n",
        "#model_checkpoint = 'dbmdz/bert-base-italian-xxl-cased' # https://huggingface.co/dbmdz/bert-base-italian-xxl-cased\n",
        "model_checkpoint = \"dlicari/Italian-Legal-BERT\" # https://huggingface.co/dlicari/Italian-Legal-BERT\n",
        "\n",
        "#parameters\n",
        "lr = 5e-5\n",
        "batch_size = 32\n",
        "scheme = True # boolean used to distinguish between the AC and SC tasks\n",
        "epochs = 10 if scheme else 3\n",
        "USE_CUDA = True\n",
        "INCLUDE_PREVIOUS=True\n",
        "ABBREVIATION_AUGMENTATION = True # whether to do data augmentation expanding abbreviations"
      ],
      "metadata": {
        "id": "5bpoH-s8k6HD",
        "execution": {
          "iopub.status.busy": "2024-06-01T11:25:42.718336Z",
          "iopub.execute_input": "2024-06-01T11:25:42.718684Z",
          "iopub.status.idle": "2024-06-01T11:25:42.724147Z",
          "shell.execute_reply.started": "2024-06-01T11:25:42.718656Z",
          "shell.execute_reply": "2024-06-01T11:25:42.723145Z"
        },
        "trusted": true
      },
      "execution_count": null,
      "outputs": []
    },
    {
      "cell_type": "code",
      "source": [
        "#split dataset into training, validation and test sets\n",
        "if scheme:\n",
        "    df = df_sc_final\n",
        "else:\n",
        "    df = df_ac\n",
        "df_train, df_val, df_test = split_dataset(df)"
      ],
      "metadata": {
        "colab": {
          "base_uri": "https://localhost:8080/"
        },
        "id": "hwYgr0Ddk6HF",
        "outputId": "bc950068-2b00-400c-991a-216b78072d04",
        "execution": {
          "iopub.status.busy": "2024-06-01T11:25:44.259296Z",
          "iopub.execute_input": "2024-06-01T11:25:44.259676Z",
          "iopub.status.idle": "2024-06-01T11:25:44.27141Z",
          "shell.execute_reply.started": "2024-06-01T11:25:44.259643Z",
          "shell.execute_reply": "2024-06-01T11:25:44.27021Z"
        },
        "trusted": true
      },
      "execution_count": null,
      "outputs": [
        {
          "name": "stdout",
          "text": "Number of training samples: 543 (56.32780082987552%)\nNumber of validation examples: 177 (18.360995850622405%)\nNumber of test samples: 244 (25.311203319502074%)\n",
          "output_type": "stream"
        }
      ]
    },
    {
      "cell_type": "code",
      "source": [
        "abbr_file_path = ('/kaggle/input' if os.environ.get('KAGGLE_KERNEL_RUN_TYPE','') else '.')+\"/abbreviazioni.tsv\"\n",
        "if ABBREVIATION_AUGMENTATION and os.path.isfile(abbr_file_path):\n",
        "    print(f\"Augmenting {len(df_train)} training annotations with abbreviations\")\n",
        "    abbreviations_df = pd.read_csv(abbr_file_path, sep='\\t', header=None, names=['Meaning','Abbreviation'])\n",
        "    print(f\"Loaded {len(abbreviations_df)} abbreviations\")\n",
        "    long_df = df_train.copy()\n",
        "    for i, abbr_row in abbreviations_df.iterrows():\n",
        "        abbr_regex = \"(?i)\\\\b\"+(abbr_row['Abbreviation'].replace('.','\\.')) # https://stackoverflow.com/a/54464222/2347196\n",
        "        long_df[\"Text\"] = long_df[\"Text\"].str.replace(abbr_regex, abbr_row['Meaning'], regex=True)\n",
        "        long_df[\"Previous\"] = long_df[\"Previous\"].str.replace(abbr_regex, abbr_row['Meaning'], regex=True)\n",
        "\n",
        "    df_train = pd.concat([df_train, long_df], ignore_index=True)\n",
        "    print(f\"{len(df_train)} annotations are now available\")\n",
        "else:\n",
        "    print(\"Skipping abbreviation data augmentation\")"
      ],
      "metadata": {
        "id": "96ByuJIBZRHn",
        "outputId": "1a189414-ffb3-4d5a-a1b2-fd552f855b86",
        "colab": {
          "base_uri": "https://localhost:8080/"
        },
        "execution": {
          "iopub.status.busy": "2024-06-01T11:25:47.776543Z",
          "iopub.execute_input": "2024-06-01T11:25:47.776972Z",
          "iopub.status.idle": "2024-06-01T11:25:51.962129Z",
          "shell.execute_reply.started": "2024-06-01T11:25:47.776941Z",
          "shell.execute_reply": "2024-06-01T11:25:51.961077Z"
        },
        "trusted": true
      },
      "execution_count": null,
      "outputs": [
        {
          "name": "stdout",
          "text": "Augmenting 543 training annotations with abbreviations\nLoaded 217 abbreviations\n1086 annotations are now available\n",
          "output_type": "stream"
        }
      ]
    },
    {
      "cell_type": "code",
      "source": [
        "if not scheme:\n",
        "    num_labels = len(df_train['label'].unique())\n",
        "    train_labels = df_train['label']\n",
        "    val_labels = df_val['label']\n",
        "    test_labels = df_test['label']\n",
        "else:\n",
        "    print(\"Scheme task\")\n",
        "    train_labels = df_train[sc_classes]\n",
        "    val_labels = df_val[sc_classes]\n",
        "    test_labels = df_test[sc_classes]\n",
        "    num_labels = train_labels.shape[1]"
      ],
      "metadata": {
        "id": "fuNqlGtSZRHo",
        "colab": {
          "base_uri": "https://localhost:8080/"
        },
        "outputId": "3da53343-fda9-4546-b678-1da09c804418",
        "execution": {
          "iopub.status.busy": "2024-06-01T11:25:54.291325Z",
          "iopub.execute_input": "2024-06-01T11:25:54.291694Z",
          "iopub.status.idle": "2024-06-01T11:25:54.300264Z",
          "shell.execute_reply.started": "2024-06-01T11:25:54.291665Z",
          "shell.execute_reply": "2024-06-01T11:25:54.299225Z"
        },
        "trusted": true
      },
      "execution_count": null,
      "outputs": [
        {
          "name": "stdout",
          "text": "Scheme task\n",
          "output_type": "stream"
        }
      ]
    },
    {
      "cell_type": "markdown",
      "source": [
        "## Baseline: TF-IDF + SVM"
      ],
      "metadata": {
        "id": "FB0tSB6FZRHp"
      }
    },
    {
      "cell_type": "code",
      "source": [
        "import nltk\n",
        "nltk.download('stopwords')"
      ],
      "metadata": {
        "colab": {
          "base_uri": "https://localhost:8080/"
        },
        "id": "mQSheKKEFFbw",
        "outputId": "8d2e9051-2234-438e-e4be-c299f6386f65"
      },
      "execution_count": null,
      "outputs": [
        {
          "output_type": "stream",
          "name": "stderr",
          "text": "[nltk_data] Downloading package stopwords to /root/nltk_data...\n\n[nltk_data]   Package stopwords is already up-to-date!\n"
        },
        {
          "output_type": "execute_result",
          "execution_count": 67,
          "data": {
            "text/plain": [
              "True"
            ]
          },
          "metadata": {}
        }
      ]
    },
    {
      "cell_type": "code",
      "source": [
        "from sklearn.metrics import classification_report,f1_score\n",
        "\n",
        "#base_model, base_tokenizer = executeTfIdfSvm(\n",
        "for kernel in ['linear', 'poly', 'rbf', 'sigmoid']:\n",
        "    executeTfIdfSvm(\n",
        "        df_train,\n",
        "        df_test,\n",
        "        kernel = kernel,\n",
        "        scheme = scheme,\n",
        "        include_previous=INCLUDE_PREVIOUS\n",
        "    )"
      ],
      "metadata": {
        "execution": {
          "iopub.status.busy": "2024-05-31T06:06:51.423505Z",
          "iopub.execute_input": "2024-05-31T06:06:51.423805Z",
          "iopub.status.idle": "2024-05-31T06:06:59.147348Z",
          "shell.execute_reply.started": "2024-05-31T06:06:51.423782Z",
          "shell.execute_reply": "2024-05-31T06:06:59.146422Z"
        },
        "id": "NoSnj5bzZRHp",
        "outputId": "79707463-7c52-424e-e378-82464708f05c",
        "colab": {
          "base_uri": "https://localhost:8080/"
        },
        "trusted": true
      },
      "execution_count": null,
      "outputs": [
        {
          "output_type": "stream",
          "name": "stderr",
          "text": "/usr/local/lib/python3.10/dist-packages/sklearn/svm/_base.py:1244: ConvergenceWarning: Liblinear failed to converge, increase the number of iterations.\n\n  warnings.warn(\n\n/usr/local/lib/python3.10/dist-packages/sklearn/metrics/_classification.py:1344: UndefinedMetricWarning: Precision and F-score are ill-defined and being set to 0.0 in labels with no predicted samples. Use `zero_division` parameter to control this behavior.\n\n  _warn_prf(average, modifier, msg_start, len(result))\n\n/usr/local/lib/python3.10/dist-packages/sklearn/metrics/_classification.py:1344: UndefinedMetricWarning: Precision and F-score are ill-defined and being set to 0.0 in labels with no predicted samples. Use `zero_division` parameter to control this behavior.\n\n  _warn_prf(average, modifier, msg_start, len(result))\n\n/usr/local/lib/python3.10/dist-packages/sklearn/metrics/_classification.py:1344: UndefinedMetricWarning: Precision and F-score are ill-defined and being set to 0.0 in labels with no predicted samples. Use `zero_division` parameter to control this behavior.\n\n  _warn_prf(average, modifier, msg_start, len(result))\n"
        },
        {
          "output_type": "stream",
          "name": "stdout",
          "text": "\n\n Baseline kernel: linear\n\n              precision    recall  f1-score   support\n\n\n\n         Aut       0.50      0.11      0.18         9\n\n       Class       0.33      0.09      0.14        11\n\n        Itpr       0.52      0.46      0.49        50\n\n        Prec       0.78      0.85      0.81        53\n\n       Princ       0.12      0.11      0.12        18\n\n        Rule       0.72      0.89      0.80        98\n\n        Syst       1.00      0.33      0.50         3\n\n        Tele       0.00      0.00      0.00         2\n\n\n\n    accuracy                           0.66       244\n\n   macro avg       0.50      0.36      0.38       244\n\nweighted avg       0.62      0.66      0.62       244\n\n\n"
        },
        {
          "output_type": "stream",
          "name": "stderr",
          "text": "/usr/local/lib/python3.10/dist-packages/sklearn/metrics/_classification.py:1344: UndefinedMetricWarning: Precision and F-score are ill-defined and being set to 0.0 in labels with no predicted samples. Use `zero_division` parameter to control this behavior.\n\n  _warn_prf(average, modifier, msg_start, len(result))\n\n/usr/local/lib/python3.10/dist-packages/sklearn/metrics/_classification.py:1344: UndefinedMetricWarning: Precision and F-score are ill-defined and being set to 0.0 in labels with no predicted samples. Use `zero_division` parameter to control this behavior.\n\n  _warn_prf(average, modifier, msg_start, len(result))\n\n/usr/local/lib/python3.10/dist-packages/sklearn/metrics/_classification.py:1344: UndefinedMetricWarning: Precision and F-score are ill-defined and being set to 0.0 in labels with no predicted samples. Use `zero_division` parameter to control this behavior.\n\n  _warn_prf(average, modifier, msg_start, len(result))\n"
        },
        {
          "output_type": "stream",
          "name": "stdout",
          "text": "\n\n Baseline kernel: poly\n\n              precision    recall  f1-score   support\n\n\n\n         Aut       0.00      0.00      0.00         9\n\n       Class       1.00      0.09      0.17        11\n\n        Itpr       0.00      0.00      0.00        50\n\n        Prec       1.00      0.04      0.07        53\n\n       Princ       0.33      0.06      0.10        18\n\n        Rule       0.41      1.00      0.59        98\n\n        Syst       1.00      0.33      0.50         3\n\n        Tele       0.00      0.00      0.00         2\n\n\n\n    accuracy                           0.42       244\n\n   macro avg       0.47      0.19      0.18       244\n\nweighted avg       0.47      0.42      0.27       244\n\n\n"
        },
        {
          "output_type": "stream",
          "name": "stderr",
          "text": "/usr/local/lib/python3.10/dist-packages/sklearn/metrics/_classification.py:1344: UndefinedMetricWarning: Precision and F-score are ill-defined and being set to 0.0 in labels with no predicted samples. Use `zero_division` parameter to control this behavior.\n\n  _warn_prf(average, modifier, msg_start, len(result))\n\n/usr/local/lib/python3.10/dist-packages/sklearn/metrics/_classification.py:1344: UndefinedMetricWarning: Precision and F-score are ill-defined and being set to 0.0 in labels with no predicted samples. Use `zero_division` parameter to control this behavior.\n\n  _warn_prf(average, modifier, msg_start, len(result))\n\n/usr/local/lib/python3.10/dist-packages/sklearn/metrics/_classification.py:1344: UndefinedMetricWarning: Precision and F-score are ill-defined and being set to 0.0 in labels with no predicted samples. Use `zero_division` parameter to control this behavior.\n\n  _warn_prf(average, modifier, msg_start, len(result))\n"
        },
        {
          "output_type": "stream",
          "name": "stdout",
          "text": "\n\n Baseline kernel: rbf\n\n              precision    recall  f1-score   support\n\n\n\n         Aut       0.00      0.00      0.00         9\n\n       Class       0.00      0.00      0.00        11\n\n        Itpr       1.00      0.02      0.04        50\n\n        Prec       0.78      0.74      0.76        53\n\n       Princ       0.33      0.06      0.10        18\n\n        Rule       0.51      0.99      0.67        98\n\n        Syst       0.00      0.00      0.00         3\n\n        Tele       0.00      0.00      0.00         2\n\n\n\n    accuracy                           0.57       244\n\n   macro avg       0.33      0.23      0.20       244\n\nweighted avg       0.60      0.57      0.45       244\n\n\n\n\n\n Baseline kernel: sigmoid\n\n              precision    recall  f1-score   support\n\n\n\n         Aut       0.00      0.00      0.00         9\n\n       Class       0.00      0.00      0.00        11\n\n        Itpr       0.51      0.48      0.49        50\n\n        Prec       0.82      0.85      0.83        53\n\n       Princ       0.25      0.06      0.09        18\n\n        Rule       0.65      0.92      0.76        98\n\n        Syst       0.00      0.00      0.00         3\n\n        Tele       0.00      0.00      0.00         2\n\n\n\n    accuracy                           0.66       244\n\n   macro avg       0.28      0.29      0.27       244\n\nweighted avg       0.56      0.66      0.60       244\n\n\n"
        },
        {
          "output_type": "stream",
          "name": "stderr",
          "text": "/usr/local/lib/python3.10/dist-packages/sklearn/metrics/_classification.py:1344: UndefinedMetricWarning: Precision and F-score are ill-defined and being set to 0.0 in labels with no predicted samples. Use `zero_division` parameter to control this behavior.\n\n  _warn_prf(average, modifier, msg_start, len(result))\n\n/usr/local/lib/python3.10/dist-packages/sklearn/metrics/_classification.py:1344: UndefinedMetricWarning: Precision and F-score are ill-defined and being set to 0.0 in labels with no predicted samples. Use `zero_division` parameter to control this behavior.\n\n  _warn_prf(average, modifier, msg_start, len(result))\n\n/usr/local/lib/python3.10/dist-packages/sklearn/metrics/_classification.py:1344: UndefinedMetricWarning: Precision and F-score are ill-defined and being set to 0.0 in labels with no predicted samples. Use `zero_division` parameter to control this behavior.\n\n  _warn_prf(average, modifier, msg_start, len(result))\n"
        }
      ]
    },
    {
      "cell_type": "markdown",
      "source": [
        "## Actual model execution"
      ],
      "metadata": {
        "id": "KBHWHdTsZRHp"
      }
    },
    {
      "cell_type": "code",
      "source": [
        "model, tokenizer, statistics = execute(\n",
        "    lr,\n",
        "    epochs,\n",
        "    batch_size,\n",
        "    num_labels,\n",
        "    df_train,\n",
        "    train_labels,\n",
        "    df_val,\n",
        "    val_labels,\n",
        "    scheme,\n",
        "    model_name=model_checkpoint,\n",
        "    use_cuda=USE_CUDA,\n",
        "    include_previous=INCLUDE_PREVIOUS\n",
        ")"
      ],
      "metadata": {
        "colab": {
          "base_uri": "https://localhost:8080/"
        },
        "id": "9dN-8E__zJry",
        "outputId": "8766679f-c499-47ea-ec5b-b90f0101ef50",
        "execution": {
          "iopub.status.busy": "2024-06-01T11:43:36.885244Z",
          "iopub.execute_input": "2024-06-01T11:43:36.885618Z",
          "iopub.status.idle": "2024-06-01T11:51:21.483419Z",
          "shell.execute_reply.started": "2024-06-01T11:43:36.885587Z",
          "shell.execute_reply": "2024-06-01T11:51:21.482307Z"
        },
        "trusted": true
      },
      "execution_count": null,
      "outputs": [
        {
          "name": "stderr",
          "text": "Some weights of BertModel were not initialized from the model checkpoint at dlicari/Italian-Legal-BERT and are newly initialized: ['bert.pooler.dense.bias', 'bert.pooler.dense.weight']\nYou should probably TRAIN this model on a down-stream task to be able to use it for predictions and inference.\n",
          "output_type": "stream"
        },
        {
          "name": "stdout",
          "text": "Encoding...\ninput shape: (1086, 256)\nEncoding complete\nEncoding...\ninput shape: (177, 256)\nEncoding complete\nENCODING COMPLETE.\nSTARTING TRAINING with complete data:\n",
          "output_type": "stream"
        },
        {
          "name": "stderr",
          "text": "  0%|          | 0/34 [00:00<?, ?it/s]/tmp/ipykernel_34/2237618980.py:6: UserWarning: To copy construct from a tensor, it is recommended to use sourceTensor.clone().detach() or sourceTensor.clone().detach().requires_grad_(True), rather than torch.tensor(sourceTensor).\n  return {key: torch.tensor(val[idx]) for key, val in self.encodings.items()}\nEpoch 1: 100%|██████████| 34/34 [00:44<00:00,  1.31s/it, loss=16.6]\n",
          "output_type": "stream"
        },
        {
          "name": "stdout",
          "text": "Epoch: 1  Lr: 0.00005000  Loss: Train = [23.8934] - Val = [16.7521]  Time one epoch (s): 47.0703 \n",
          "output_type": "stream"
        },
        {
          "name": "stderr",
          "text": "Epoch 2: 100%|██████████| 34/34 [00:43<00:00,  1.28s/it, loss=16]  \n",
          "output_type": "stream"
        },
        {
          "name": "stdout",
          "text": "Epoch: 2  Lr: 0.00005000  Loss: Train = [15.5642] - Val = [11.2600]  Time one epoch (s): 45.9231 \n",
          "output_type": "stream"
        },
        {
          "name": "stderr",
          "text": "Epoch 3: 100%|██████████| 34/34 [00:44<00:00,  1.30s/it, loss=6.91]\n",
          "output_type": "stream"
        },
        {
          "name": "stdout",
          "text": "Epoch: 3  Lr: 0.00005000  Loss: Train = [9.7511] - Val = [10.8173]  Time one epoch (s): 46.4976 \n",
          "output_type": "stream"
        },
        {
          "name": "stderr",
          "text": "Epoch 4: 100%|██████████| 34/34 [00:43<00:00,  1.29s/it, loss=2.94]\n",
          "output_type": "stream"
        },
        {
          "name": "stdout",
          "text": "Epoch: 4  Lr: 0.00005000  Loss: Train = [5.7369] - Val = [11.3203]  Time one epoch (s): 46.2304 \n",
          "output_type": "stream"
        },
        {
          "name": "stderr",
          "text": "Epoch 5: 100%|██████████| 34/34 [00:43<00:00,  1.29s/it, loss=2.7] \n",
          "output_type": "stream"
        },
        {
          "name": "stdout",
          "text": "Epoch: 5  Lr: 0.00005000  Loss: Train = [2.5084] - Val = [15.1347]  Time one epoch (s): 46.4146 \n",
          "output_type": "stream"
        },
        {
          "name": "stderr",
          "text": "Epoch 6: 100%|██████████| 34/34 [00:43<00:00,  1.29s/it, loss=1.35] \n",
          "output_type": "stream"
        },
        {
          "name": "stdout",
          "text": "Epoch: 6  Lr: 0.00005000  Loss: Train = [1.2700] - Val = [14.7633]  Time one epoch (s): 46.2500 \n",
          "output_type": "stream"
        },
        {
          "name": "stderr",
          "text": "Epoch 7: 100%|██████████| 34/34 [00:43<00:00,  1.29s/it, loss=0.351]\n",
          "output_type": "stream"
        },
        {
          "name": "stdout",
          "text": "Epoch: 7  Lr: 0.00005000  Loss: Train = [0.5621] - Val = [16.7562]  Time one epoch (s): 46.3259 \n",
          "output_type": "stream"
        },
        {
          "name": "stderr",
          "text": "Epoch 8: 100%|██████████| 34/34 [00:43<00:00,  1.29s/it, loss=0.224] \n",
          "output_type": "stream"
        },
        {
          "name": "stdout",
          "text": "Epoch: 8  Lr: 0.00005000  Loss: Train = [0.2964] - Val = [18.0048]  Time one epoch (s): 46.3841 \n",
          "output_type": "stream"
        },
        {
          "name": "stderr",
          "text": "Epoch 9: 100%|██████████| 34/34 [00:43<00:00,  1.29s/it, loss=0.63]  \n",
          "output_type": "stream"
        },
        {
          "name": "stdout",
          "text": "Epoch: 9  Lr: 0.00005000  Loss: Train = [0.2056] - Val = [18.5730]  Time one epoch (s): 46.2759 \n",
          "output_type": "stream"
        },
        {
          "name": "stderr",
          "text": "Epoch 10: 100%|██████████| 34/34 [00:43<00:00,  1.29s/it, loss=0.0669]\n",
          "output_type": "stream"
        },
        {
          "name": "stdout",
          "text": "Epoch: 10  Lr: 0.00005000  Loss: Train = [0.1514] - Val = [19.7453]  Time one epoch (s): 46.2711 \nTime for 10 epochs (s): 463.644\nTRAINING COMPLETE.\n",
          "output_type": "stream"
        }
      ]
    },
    {
      "cell_type": "code",
      "source": [
        "plt.figure(figsize=(10,5))\n",
        "plt.title(\"SC loss\" if scheme else \"AC loss\")\n",
        "plt.plot(statistics['train_loss_values'],label=\"train loss\")\n",
        "plt.plot(statistics['val_loss_values'],label=\"validation loss\")\n",
        "plt.xlabel(\"Epochs\")\n",
        "plt.xticks(np.arange(epochs), np.arange(1, epochs+1, 1))\n",
        "plt.ylabel(\"Loss\")\n",
        "plt.legend()\n",
        "plt.show()"
      ],
      "metadata": {
        "colab": {
          "base_uri": "https://localhost:8080/",
          "height": 487
        },
        "id": "wukQyjNxELuc",
        "outputId": "a167abed-b0d2-4f80-dfa2-e13874683a09",
        "execution": {
          "iopub.status.busy": "2024-06-01T11:51:21.485864Z",
          "iopub.execute_input": "2024-06-01T11:51:21.486212Z",
          "iopub.status.idle": "2024-06-01T11:51:21.747678Z",
          "shell.execute_reply.started": "2024-06-01T11:51:21.486183Z",
          "shell.execute_reply": "2024-06-01T11:51:21.746526Z"
        },
        "trusted": true
      },
      "execution_count": null,
      "outputs": [
        {
          "output_type": "display_data",
          "data": {
            "text/plain": "<Figure size 1000x500 with 1 Axes>",
            "image/png": "[encoded data removed]"
          },
          "metadata": {}
        }
      ]
    },
    {
      "cell_type": "markdown",
      "source": [
        "## Evaluation"
      ],
      "metadata": {
        "id": "UmcR3Xs4Ipff"
      }
    },
    {
      "cell_type": "markdown",
      "source": [
        "### AC Evaluation"
      ],
      "metadata": {
        "id": "G44CJgw5k6HH"
      }
    },
    {
      "cell_type": "code",
      "source": [
        "def predict(model, data_loader, use_cuda=True):\n",
        "    '''\n",
        "    Args:\n",
        "      model: trained model.\n",
        "      data_loader: source of evaluation data.\n",
        "\n",
        "    Returns:\n",
        "      pred_emo: predicted emotions.\n",
        "      pred_tri: predicted thresholded triggers.\n",
        "      pred_tri_orig: raw model's trigger predictions.\n",
        "    '''\n",
        "    device = torch.device('cuda') if use_cuda and torch.cuda.is_available() else torch.device('cpu')\n",
        "    model.eval()\n",
        "    model.to(device)\n",
        "    predictions = []\n",
        "    with torch.no_grad():\n",
        "        for step_num, batch in tqdm(enumerate(data_loader)):\n",
        "            input_ids = batch['input_ids'].to(device)\n",
        "            attention_mask = batch['attention_mask'].to(device)\n",
        "            #labels_emo = batch['labels'].to(device)\n",
        "            output = model(input_ids, attention_mask=attention_mask)\n",
        "            pred= output\n",
        "            pred = pred.cpu().detach().numpy()\n",
        "            predictions.append(np.argmax(pred,axis=-1))\n",
        "    predictions = np.concatenate(predictions)\n",
        "\n",
        "    return predictions"
      ],
      "metadata": {
        "id": "YXVlJ2Ask6HI",
        "execution": {
          "iopub.status.busy": "2024-05-31T06:12:06.108068Z",
          "iopub.execute_input": "2024-05-31T06:12:06.108328Z",
          "iopub.status.idle": "2024-05-31T06:12:06.116523Z",
          "shell.execute_reply.started": "2024-05-31T06:12:06.108305Z",
          "shell.execute_reply": "2024-05-31T06:12:06.115591Z"
        },
        "trusted": true
      },
      "execution_count": null,
      "outputs": []
    },
    {
      "cell_type": "code",
      "source": [
        "#base_test_encodings = base_tokenizer.transform(df_test)\n",
        "train_encodings = encode(tokenizer, df_train, train_labels, include_previous=INCLUDE_PREVIOUS)\n",
        "val_encodings = encode(tokenizer, df_val, val_labels, include_previous=INCLUDE_PREVIOUS)\n",
        "test_encodings = encode(tokenizer,df_test,test_labels, include_previous=INCLUDE_PREVIOUS)\n",
        "print(f'ENCODING COMPLETE.')\n",
        "\n"
      ],
      "metadata": {
        "colab": {
          "base_uri": "https://localhost:8080/"
        },
        "id": "PCgQatSWHpjs",
        "outputId": "977aa9a7-4b19-4c78-f5af-4721490f04d2",
        "execution": {
          "iopub.status.busy": "2024-05-31T06:12:06.117743Z",
          "iopub.execute_input": "2024-05-31T06:12:06.118069Z",
          "iopub.status.idle": "2024-05-31T06:12:06.714265Z",
          "shell.execute_reply.started": "2024-05-31T06:12:06.118038Z",
          "shell.execute_reply": "2024-05-31T06:12:06.713442Z"
        },
        "trusted": true
      },
      "execution_count": null,
      "outputs": [
        {
          "name": "stdout",
          "text": "Encoding...\ninput shape: (1086, 256)\nEncoding complete\nEncoding...\ninput shape: (177, 256)\nEncoding complete\nEncoding...\ninput shape: (244, 256)\nEncoding complete\nENCODING COMPLETE.\n",
          "output_type": "stream"
        }
      ]
    },
    {
      "cell_type": "code",
      "source": [
        "if not scheme:\n",
        "    #create val dataset\n",
        "    val_dataset = CustomTorchDataset(val_encodings)\n",
        "    #create val dataloader\n",
        "    data_loader_val = torch.utils.data.DataLoader(val_dataset,\n",
        "                                      batch_size=batch_size,\n",
        "                                      shuffle = False)\n",
        "    y_true = val_labels\n",
        "    y_pred = predict(model,data_loader_val)\n",
        "    print('/n'+\"\"+classification_report(y_true, y_pred))"
      ],
      "metadata": {
        "id": "evF5Sv-FI4gM",
        "execution": {
          "iopub.status.busy": "2024-05-31T06:12:06.715627Z",
          "iopub.execute_input": "2024-05-31T06:12:06.716004Z",
          "iopub.status.idle": "2024-05-31T06:12:06.721998Z",
          "shell.execute_reply.started": "2024-05-31T06:12:06.715971Z",
          "shell.execute_reply": "2024-05-31T06:12:06.721127Z"
        },
        "trusted": true
      },
      "execution_count": null,
      "outputs": []
    },
    {
      "cell_type": "code",
      "source": [
        "if not scheme:\n",
        "    y_true = test_labels\n",
        "\n",
        "    #y_pred = base_model.predict(base_test_encodings)\n",
        "    #print(\"\\n Baseline: \\n\"+classification_report(y_true, y_pred))\n",
        "\n",
        "    #create test dataset\n",
        "    test_dataset = CustomTorchDataset(test_encodings)\n",
        "    #create test dataloader\n",
        "    data_loader_test = torch.utils.data.DataLoader(test_dataset,\n",
        "                                      batch_size=batch_size,\n",
        "                                      shuffle = False)\n",
        "    y_pred = predict(model,data_loader_test)\n",
        "    print(\"\\n Actual model: \\n\"+classification_report(y_true, y_pred))"
      ],
      "metadata": {
        "id": "Ush1RZsJInKS",
        "execution": {
          "iopub.status.busy": "2024-05-31T06:12:06.723034Z",
          "iopub.execute_input": "2024-05-31T06:12:06.723314Z",
          "iopub.status.idle": "2024-05-31T06:12:06.734048Z",
          "shell.execute_reply.started": "2024-05-31T06:12:06.723292Z",
          "shell.execute_reply": "2024-05-31T06:12:06.733187Z"
        },
        "trusted": true
      },
      "execution_count": null,
      "outputs": []
    },
    {
      "cell_type": "code",
      "source": [
        "#score = f1_score(y_true, y_pred, labels=df_test['label'].unique(), average='macro')"
      ],
      "metadata": {
        "id": "dkfPd-JCDh4b",
        "execution": {
          "iopub.status.busy": "2024-05-31T06:12:06.734946Z",
          "iopub.execute_input": "2024-05-31T06:12:06.735186Z",
          "iopub.status.idle": "2024-05-31T06:12:06.742116Z",
          "shell.execute_reply.started": "2024-05-31T06:12:06.735164Z",
          "shell.execute_reply": "2024-05-31T06:12:06.741265Z"
        },
        "trusted": true
      },
      "execution_count": null,
      "outputs": []
    },
    {
      "cell_type": "markdown",
      "source": [
        "### SC Evaluation"
      ],
      "metadata": {
        "id": "X-Ss9wCcD8FZ"
      }
    },
    {
      "cell_type": "code",
      "source": [
        "def evaluate(model, data_loader, use_cuda=True):\n",
        "    predictions = []\n",
        "    device = torch.device('cuda') if use_cuda and torch.cuda.is_available() else torch.device('cpu')\n",
        "    model.eval()\n",
        "    model.to(device)\n",
        "    loop = tqdm(data_loader)\n",
        "    with torch.no_grad():\n",
        "        for batch in loop:\n",
        "            pred = model(batch['input_ids'].to(device), attention_mask = batch[\"attention_mask\"].to(device))\n",
        "            pred = pred.cpu().detach().numpy()\n",
        "            predictions.append(pred)\n",
        "    predictions = np.concatenate(predictions)\n",
        "    return predictions"
      ],
      "metadata": {
        "id": "27pqaaD6D_36",
        "execution": {
          "iopub.status.busy": "2024-06-01T11:51:45.858993Z",
          "iopub.execute_input": "2024-06-01T11:51:45.859625Z",
          "iopub.status.idle": "2024-06-01T11:51:45.866482Z",
          "shell.execute_reply.started": "2024-06-01T11:51:45.859589Z",
          "shell.execute_reply": "2024-06-01T11:51:45.86552Z"
        },
        "trusted": true
      },
      "execution_count": null,
      "outputs": []
    },
    {
      "cell_type": "code",
      "source": [
        "from sklearn.metrics import classification_report,f1_score\n",
        "\n",
        "if scheme:\n",
        "    #y_pred = base_model.predict(base_test_encodings)\n",
        "    #print(\"\\n Baseline: \\n\"+classification_report(df_test['Scheme'], y_pred))\n",
        "\n",
        "    test_encodings = encode(tokenizer,df_test,test_labels,scheme,include_previous=INCLUDE_PREVIOUS)\n",
        "    #create test dataset\n",
        "    test_dataset = CustomTorchDataset(test_encodings)\n",
        "    #create test dataloader\n",
        "    data_loader_test = torch.utils.data.DataLoader(test_dataset,\n",
        "                                        batch_size=batch_size,\n",
        "                                        shuffle = False)\n",
        "\n",
        "    predictions = evaluate(model, data_loader_test)\n",
        "    y_pred = np.where(predictions<0.5, 0., 1.)\n",
        "    y_true = np.array(test_labels)\n",
        "    print(\"\\n\"+classification_report(y_true, y_pred,target_names = sc_classes))"
      ],
      "metadata": {
        "colab": {
          "base_uri": "https://localhost:8080/"
        },
        "id": "rP5_dPbJFHnt",
        "outputId": "96bee6bb-1ddb-414e-8dcb-853dea181c5e",
        "execution": {
          "iopub.status.busy": "2024-06-01T11:51:46.268094Z",
          "iopub.execute_input": "2024-06-01T11:51:46.268456Z",
          "iopub.status.idle": "2024-06-01T11:51:49.666717Z",
          "shell.execute_reply.started": "2024-06-01T11:51:46.268425Z",
          "shell.execute_reply": "2024-06-01T11:51:49.665814Z"
        },
        "trusted": true
      },
      "execution_count": null,
      "outputs": [
        {
          "name": "stdout",
          "text": "Encoding...\ninput shape: (244, 256)\nEncoding complete\n",
          "output_type": "stream"
        },
        {
          "name": "stderr",
          "text": "  0%|          | 0/8 [00:00<?, ?it/s]/tmp/ipykernel_34/2237618980.py:6: UserWarning: To copy construct from a tensor, it is recommended to use sourceTensor.clone().detach() or sourceTensor.clone().detach().requires_grad_(True), rather than torch.tensor(sourceTensor).\n  return {key: torch.tensor(val[idx]) for key, val in self.encodings.items()}\n100%|██████████| 8/8 [00:03<00:00,  2.42it/s]",
          "output_type": "stream"
        },
        {
          "name": "stdout",
          "text": "\n              precision    recall  f1-score   support\n\n        Rule       0.89      0.93      0.91        98\n        Prec       0.90      0.89      0.90        53\n        Itpr       0.60      0.58      0.59        50\n       Princ       0.31      0.22      0.26        18\n       Class       0.14      0.09      0.11        11\n         Aut       1.00      0.44      0.62         9\n        Syst       1.00      0.33      0.50         3\n        Tele       0.00      0.00      0.00         2\n\n   micro avg       0.78      0.73      0.75       244\n   macro avg       0.61      0.44      0.49       244\nweighted avg       0.76      0.73      0.73       244\n samples avg       0.72      0.73      0.72       244\n\n",
          "output_type": "stream"
        },
        {
          "name": "stderr",
          "text": "\n/opt/conda/lib/python3.10/site-packages/sklearn/metrics/_classification.py:1344: UndefinedMetricWarning: Precision and F-score are ill-defined and being set to 0.0 in labels with no predicted samples. Use `zero_division` parameter to control this behavior.\n  _warn_prf(average, modifier, msg_start, len(result))\n/opt/conda/lib/python3.10/site-packages/sklearn/metrics/_classification.py:1344: UndefinedMetricWarning: Precision and F-score are ill-defined and being set to 0.0 in samples with no predicted labels. Use `zero_division` parameter to control this behavior.\n  _warn_prf(average, modifier, msg_start, len(result))\n",
          "output_type": "stream"
        }
      ]
    },
    {
      "cell_type": "code",
      "source": [],
      "metadata": {
        "id": "YNvlCIZCkNJa"
      },
      "execution_count": null,
      "outputs": []
    }
  ]
}